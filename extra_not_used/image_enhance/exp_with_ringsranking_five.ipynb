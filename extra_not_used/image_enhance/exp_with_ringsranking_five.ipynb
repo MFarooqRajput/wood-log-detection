{
 "cells": [
  {
   "cell_type": "code",
   "execution_count": 1,
   "id": "f2bc938e",
   "metadata": {},
   "outputs": [
    {
     "name": "stdout",
     "output_type": "stream",
     "text": [
      "/Users/muhammadfarooq/Codebase/thesis-experiment/Pith2Bark\n"
     ]
    }
   ],
   "source": [
    "cd .."
   ]
  },
  {
   "cell_type": "code",
   "execution_count": 2,
   "id": "24b79f2e",
   "metadata": {},
   "outputs": [
    {
     "name": "stderr",
     "output_type": "stream",
     "text": [
      "2023-04-01 17:48:52.663384: I tensorflow/core/platform/cpu_feature_guard.cc:193] This TensorFlow binary is optimized with oneAPI Deep Neural Network Library (oneDNN) to use the following CPU instructions in performance-critical operations:  AVX2 AVX512F AVX512_VNNI FMA\n",
      "To enable them in other operations, rebuild TensorFlow with the appropriate compiler flags.\n"
     ]
    }
   ],
   "source": [
    "from src.experiment import with_model\n",
    "from src.model import Model\n",
    "from src.multi_mse import multi_mse"
   ]
  },
  {
   "cell_type": "markdown",
   "id": "a382f8b5",
   "metadata": {},
   "source": [
    "# Configurations"
   ]
  },
  {
   "cell_type": "code",
   "execution_count": 3,
   "id": "1aef55ef",
   "metadata": {},
   "outputs": [],
   "source": [
    "#data directory here!\n",
    "data_dir = \"dataset/ringsranking\"\n",
    "\n",
    "#ranking file\n",
    "ranking_url = \"dataset/ringsranking.xlsx\"\n",
    "\n",
    "#pickle file\n",
    "pith_url = \"pith/ringsranking.pickle\""
   ]
  },
  {
   "cell_type": "markdown",
   "id": "2738afaf",
   "metadata": {},
   "source": [
    "## Phase 1 Model"
   ]
  },
  {
   "cell_type": "code",
   "execution_count": 4,
   "id": "f404c659",
   "metadata": {},
   "outputs": [],
   "source": [
    "#MSE file\n",
    "mse_url = \"output/temp_ringsranking_mse.csv\"\n",
    "\n",
    "#rings info file\n",
    "rings_url = \"output/temp_ringsranking_rings.csv\"\n",
    "\n",
    "#no of lines and points\n",
    "lines = 16\n",
    "points = 150"
   ]
  },
  {
   "cell_type": "code",
   "execution_count": 5,
   "id": "0fc5323d",
   "metadata": {},
   "outputs": [
    {
     "name": "stdout",
     "output_type": "stream",
     "text": [
      "0 2-34e23370868237a073d086fb64851017e9b2c8c9_85903b8cb210e9ad54581e7a37999bcd5fb18443_instant.jpg 87.0\n",
      "1 1-5d205d5ea6bafd3c2e038cf1139cdd5a9825388f_275cb29ffc473512447ce75ff34baa4ecea7276d_instant_210319.jpg 59.666666666666664\n",
      "2 1-11c00bf7cc3e03dc86bde8a20c8ab390b0b2f2a4_d5d5dbc0f05ff34587375f4a567740b61c4731a6_instant_210319.jpg 18.0\n",
      "3 2-8c5de8aa63e57b1e5d3a11ce4c4e2ded042b2ef3_0693ab68bf2278539a3733129d6964ba7719f7b2.jpg 22.0\n",
      "4 1-3d78e56849a16c0b17831129f6059e367574a138_8560eccb0f16269a00f2d6c6a5fab7419529c803_instant.jpg 15.0\n",
      "5 1-947a57fc1b94be1fb8a5cce439cd8112016648b1_b151d6624e13c4d31f300f909ebb63577e42a730_instant.jpg 19.0\n",
      "6 1-1f43f59e9f5ead12a13b1cd892a8757242367189_9cd89303dd466e6b178399f8d02b12aae69ec707_instant.jpg 14.0\n",
      "7 1-85fde97a518625ed46589a6be46300e36c3ad0d9_6626ee8bedc11ff89bd5a6205d10710e72ed9801_instant_210319.jpg 16.0\n",
      "8 1-e50b5a99fd9bab50130099c750df6d80f50a9b4e_fdafeaf4b1ec0417f969870e07a0d6401488df85_instant.jpg 17.0\n",
      "9 1-0d8eabdfed2cb1f0d455e5a2050d78ba39ae6cff_0665c9464c856662322717999ae3d8301ff48907_instant.jpg 11.0\n",
      "10 2-746ba8ac1301085b9f8d8d96beb3bf7f9e7a4605_ecc100d2cbc4a9fc70c2fde3eafaadb6ceb588ca_instant.jpg 29.0\n"
     ]
    },
    {
     "data": {
      "text/html": [
       "<div>\n",
       "<style scoped>\n",
       "    .dataframe tbody tr th:only-of-type {\n",
       "        vertical-align: middle;\n",
       "    }\n",
       "\n",
       "    .dataframe tbody tr th {\n",
       "        vertical-align: top;\n",
       "    }\n",
       "\n",
       "    .dataframe thead th {\n",
       "        text-align: right;\n",
       "    }\n",
       "</style>\n",
       "<table border=\"1\" class=\"dataframe\">\n",
       "  <thead>\n",
       "    <tr style=\"text-align: right;\">\n",
       "      <th></th>\n",
       "      <th>model</th>\n",
       "      <th>subseq</th>\n",
       "      <th>peaks</th>\n",
       "      <th>binary</th>\n",
       "      <th>mwa</th>\n",
       "    </tr>\n",
       "  </thead>\n",
       "  <tbody>\n",
       "    <tr>\n",
       "      <th>0</th>\n",
       "      <td>Grayscale</td>\n",
       "      <td>128.293063</td>\n",
       "      <td>27.028314</td>\n",
       "      <td>157.178207</td>\n",
       "      <td>19.40417</td>\n",
       "    </tr>\n",
       "  </tbody>\n",
       "</table>\n",
       "</div>"
      ],
      "text/plain": [
       "       model      subseq      peaks      binary       mwa\n",
       "0  Grayscale  128.293063  27.028314  157.178207  19.40417"
      ]
     },
     "metadata": {},
     "output_type": "display_data"
    }
   ],
   "source": [
    "with_model(Model.GRAYSCALE, lines, points, data_dir, ranking_url, pith_url, rings_url, mse_url)"
   ]
  },
  {
   "cell_type": "code",
   "execution_count": 6,
   "id": "5c5e0158",
   "metadata": {},
   "outputs": [
    {
     "name": "stdout",
     "output_type": "stream",
     "text": [
      "0 2-34e23370868237a073d086fb64851017e9b2c8c9_85903b8cb210e9ad54581e7a37999bcd5fb18443_instant.jpg 87.0\n",
      "1 1-5d205d5ea6bafd3c2e038cf1139cdd5a9825388f_275cb29ffc473512447ce75ff34baa4ecea7276d_instant_210319.jpg 59.666666666666664\n",
      "2 1-11c00bf7cc3e03dc86bde8a20c8ab390b0b2f2a4_d5d5dbc0f05ff34587375f4a567740b61c4731a6_instant_210319.jpg 18.0\n",
      "3 2-8c5de8aa63e57b1e5d3a11ce4c4e2ded042b2ef3_0693ab68bf2278539a3733129d6964ba7719f7b2.jpg 22.0\n",
      "4 1-3d78e56849a16c0b17831129f6059e367574a138_8560eccb0f16269a00f2d6c6a5fab7419529c803_instant.jpg 15.0\n",
      "5 1-947a57fc1b94be1fb8a5cce439cd8112016648b1_b151d6624e13c4d31f300f909ebb63577e42a730_instant.jpg 19.0\n",
      "6 1-1f43f59e9f5ead12a13b1cd892a8757242367189_9cd89303dd466e6b178399f8d02b12aae69ec707_instant.jpg 14.0\n",
      "7 1-85fde97a518625ed46589a6be46300e36c3ad0d9_6626ee8bedc11ff89bd5a6205d10710e72ed9801_instant_210319.jpg 16.0\n",
      "8 1-e50b5a99fd9bab50130099c750df6d80f50a9b4e_fdafeaf4b1ec0417f969870e07a0d6401488df85_instant.jpg 17.0\n",
      "9 1-0d8eabdfed2cb1f0d455e5a2050d78ba39ae6cff_0665c9464c856662322717999ae3d8301ff48907_instant.jpg 11.0\n",
      "10 2-746ba8ac1301085b9f8d8d96beb3bf7f9e7a4605_ecc100d2cbc4a9fc70c2fde3eafaadb6ceb588ca_instant.jpg 29.0\n"
     ]
    },
    {
     "data": {
      "text/html": [
       "<div>\n",
       "<style scoped>\n",
       "    .dataframe tbody tr th:only-of-type {\n",
       "        vertical-align: middle;\n",
       "    }\n",
       "\n",
       "    .dataframe tbody tr th {\n",
       "        vertical-align: top;\n",
       "    }\n",
       "\n",
       "    .dataframe thead th {\n",
       "        text-align: right;\n",
       "    }\n",
       "</style>\n",
       "<table border=\"1\" class=\"dataframe\">\n",
       "  <thead>\n",
       "    <tr style=\"text-align: right;\">\n",
       "      <th></th>\n",
       "      <th>model</th>\n",
       "      <th>subseq</th>\n",
       "      <th>peaks</th>\n",
       "      <th>binary</th>\n",
       "      <th>mwa</th>\n",
       "    </tr>\n",
       "  </thead>\n",
       "  <tbody>\n",
       "    <tr>\n",
       "      <th>0</th>\n",
       "      <td>Polar</td>\n",
       "      <td>104.134504</td>\n",
       "      <td>29.437052</td>\n",
       "      <td>249.886101</td>\n",
       "      <td>18.391662</td>\n",
       "    </tr>\n",
       "  </tbody>\n",
       "</table>\n",
       "</div>"
      ],
      "text/plain": [
       "   model      subseq      peaks      binary        mwa\n",
       "0  Polar  104.134504  29.437052  249.886101  18.391662"
      ]
     },
     "metadata": {},
     "output_type": "display_data"
    }
   ],
   "source": [
    "with_model(Model.POLAR, lines, points, data_dir, ranking_url, pith_url, rings_url, mse_url)"
   ]
  },
  {
   "cell_type": "code",
   "execution_count": 7,
   "id": "d9e30891",
   "metadata": {},
   "outputs": [
    {
     "name": "stdout",
     "output_type": "stream",
     "text": [
      "0 2-34e23370868237a073d086fb64851017e9b2c8c9_85903b8cb210e9ad54581e7a37999bcd5fb18443_instant.jpg 87.0\n",
      "1 1-5d205d5ea6bafd3c2e038cf1139cdd5a9825388f_275cb29ffc473512447ce75ff34baa4ecea7276d_instant_210319.jpg 59.666666666666664\n",
      "2 1-11c00bf7cc3e03dc86bde8a20c8ab390b0b2f2a4_d5d5dbc0f05ff34587375f4a567740b61c4731a6_instant_210319.jpg 18.0\n",
      "3 2-8c5de8aa63e57b1e5d3a11ce4c4e2ded042b2ef3_0693ab68bf2278539a3733129d6964ba7719f7b2.jpg 22.0\n",
      "4 1-3d78e56849a16c0b17831129f6059e367574a138_8560eccb0f16269a00f2d6c6a5fab7419529c803_instant.jpg 15.0\n",
      "5 1-947a57fc1b94be1fb8a5cce439cd8112016648b1_b151d6624e13c4d31f300f909ebb63577e42a730_instant.jpg 19.0\n",
      "6 1-1f43f59e9f5ead12a13b1cd892a8757242367189_9cd89303dd466e6b178399f8d02b12aae69ec707_instant.jpg 14.0\n",
      "7 1-85fde97a518625ed46589a6be46300e36c3ad0d9_6626ee8bedc11ff89bd5a6205d10710e72ed9801_instant_210319.jpg 16.0\n",
      "8 1-e50b5a99fd9bab50130099c750df6d80f50a9b4e_fdafeaf4b1ec0417f969870e07a0d6401488df85_instant.jpg 17.0\n",
      "9 1-0d8eabdfed2cb1f0d455e5a2050d78ba39ae6cff_0665c9464c856662322717999ae3d8301ff48907_instant.jpg 11.0\n",
      "10 2-746ba8ac1301085b9f8d8d96beb3bf7f9e7a4605_ecc100d2cbc4a9fc70c2fde3eafaadb6ceb588ca_instant.jpg 29.0\n"
     ]
    },
    {
     "data": {
      "text/html": [
       "<div>\n",
       "<style scoped>\n",
       "    .dataframe tbody tr th:only-of-type {\n",
       "        vertical-align: middle;\n",
       "    }\n",
       "\n",
       "    .dataframe tbody tr th {\n",
       "        vertical-align: top;\n",
       "    }\n",
       "\n",
       "    .dataframe thead th {\n",
       "        text-align: right;\n",
       "    }\n",
       "</style>\n",
       "<table border=\"1\" class=\"dataframe\">\n",
       "  <thead>\n",
       "    <tr style=\"text-align: right;\">\n",
       "      <th></th>\n",
       "      <th>model</th>\n",
       "      <th>subseq</th>\n",
       "      <th>peaks</th>\n",
       "      <th>binary</th>\n",
       "      <th>mwa</th>\n",
       "    </tr>\n",
       "  </thead>\n",
       "  <tbody>\n",
       "    <tr>\n",
       "      <th>0</th>\n",
       "      <td>Polar Pith</td>\n",
       "      <td>104.27163</td>\n",
       "      <td>29.357452</td>\n",
       "      <td>250.407879</td>\n",
       "      <td>19.529129</td>\n",
       "    </tr>\n",
       "  </tbody>\n",
       "</table>\n",
       "</div>"
      ],
      "text/plain": [
       "        model     subseq      peaks      binary        mwa\n",
       "0  Polar Pith  104.27163  29.357452  250.407879  19.529129"
      ]
     },
     "metadata": {},
     "output_type": "display_data"
    }
   ],
   "source": [
    "with_model(Model.POLAR_PITH, lines, points, data_dir, ranking_url, pith_url, rings_url, mse_url)"
   ]
  },
  {
   "cell_type": "code",
   "execution_count": 8,
   "id": "33125fc3",
   "metadata": {},
   "outputs": [
    {
     "name": "stdout",
     "output_type": "stream",
     "text": [
      "0 2-34e23370868237a073d086fb64851017e9b2c8c9_85903b8cb210e9ad54581e7a37999bcd5fb18443_instant.jpg 87.0\n",
      "1 1-5d205d5ea6bafd3c2e038cf1139cdd5a9825388f_275cb29ffc473512447ce75ff34baa4ecea7276d_instant_210319.jpg 59.666666666666664\n",
      "2 1-11c00bf7cc3e03dc86bde8a20c8ab390b0b2f2a4_d5d5dbc0f05ff34587375f4a567740b61c4731a6_instant_210319.jpg 18.0\n",
      "3 2-8c5de8aa63e57b1e5d3a11ce4c4e2ded042b2ef3_0693ab68bf2278539a3733129d6964ba7719f7b2.jpg 22.0\n",
      "4 1-3d78e56849a16c0b17831129f6059e367574a138_8560eccb0f16269a00f2d6c6a5fab7419529c803_instant.jpg 15.0\n",
      "5 1-947a57fc1b94be1fb8a5cce439cd8112016648b1_b151d6624e13c4d31f300f909ebb63577e42a730_instant.jpg 19.0\n",
      "6 1-1f43f59e9f5ead12a13b1cd892a8757242367189_9cd89303dd466e6b178399f8d02b12aae69ec707_instant.jpg 14.0\n",
      "7 1-85fde97a518625ed46589a6be46300e36c3ad0d9_6626ee8bedc11ff89bd5a6205d10710e72ed9801_instant_210319.jpg 16.0\n",
      "8 1-e50b5a99fd9bab50130099c750df6d80f50a9b4e_fdafeaf4b1ec0417f969870e07a0d6401488df85_instant.jpg 17.0\n",
      "9 1-0d8eabdfed2cb1f0d455e5a2050d78ba39ae6cff_0665c9464c856662322717999ae3d8301ff48907_instant.jpg 11.0\n",
      "10 2-746ba8ac1301085b9f8d8d96beb3bf7f9e7a4605_ecc100d2cbc4a9fc70c2fde3eafaadb6ceb588ca_instant.jpg 29.0\n"
     ]
    },
    {
     "data": {
      "text/html": [
       "<div>\n",
       "<style scoped>\n",
       "    .dataframe tbody tr th:only-of-type {\n",
       "        vertical-align: middle;\n",
       "    }\n",
       "\n",
       "    .dataframe tbody tr th {\n",
       "        vertical-align: top;\n",
       "    }\n",
       "\n",
       "    .dataframe thead th {\n",
       "        text-align: right;\n",
       "    }\n",
       "</style>\n",
       "<table border=\"1\" class=\"dataframe\">\n",
       "  <thead>\n",
       "    <tr style=\"text-align: right;\">\n",
       "      <th></th>\n",
       "      <th>model</th>\n",
       "      <th>subseq</th>\n",
       "      <th>peaks</th>\n",
       "      <th>binary</th>\n",
       "      <th>mwa</th>\n",
       "    </tr>\n",
       "  </thead>\n",
       "  <tbody>\n",
       "    <tr>\n",
       "      <th>0</th>\n",
       "      <td>Sobel</td>\n",
       "      <td>218.23632</td>\n",
       "      <td>35.453455</td>\n",
       "      <td>222.660581</td>\n",
       "      <td>62.321926</td>\n",
       "    </tr>\n",
       "  </tbody>\n",
       "</table>\n",
       "</div>"
      ],
      "text/plain": [
       "   model     subseq      peaks      binary        mwa\n",
       "0  Sobel  218.23632  35.453455  222.660581  62.321926"
      ]
     },
     "metadata": {},
     "output_type": "display_data"
    }
   ],
   "source": [
    "with_model(Model.SOBEL_EDGE, lines, points, data_dir, ranking_url, pith_url, rings_url, mse_url)"
   ]
  },
  {
   "cell_type": "code",
   "execution_count": 9,
   "id": "9dd0bf5b",
   "metadata": {},
   "outputs": [
    {
     "name": "stdout",
     "output_type": "stream",
     "text": [
      "0 2-34e23370868237a073d086fb64851017e9b2c8c9_85903b8cb210e9ad54581e7a37999bcd5fb18443_instant.jpg 87.0\n",
      "1 1-5d205d5ea6bafd3c2e038cf1139cdd5a9825388f_275cb29ffc473512447ce75ff34baa4ecea7276d_instant_210319.jpg 59.666666666666664\n",
      "2 1-11c00bf7cc3e03dc86bde8a20c8ab390b0b2f2a4_d5d5dbc0f05ff34587375f4a567740b61c4731a6_instant_210319.jpg 18.0\n",
      "3 2-8c5de8aa63e57b1e5d3a11ce4c4e2ded042b2ef3_0693ab68bf2278539a3733129d6964ba7719f7b2.jpg 22.0\n",
      "4 1-3d78e56849a16c0b17831129f6059e367574a138_8560eccb0f16269a00f2d6c6a5fab7419529c803_instant.jpg 15.0\n",
      "5 1-947a57fc1b94be1fb8a5cce439cd8112016648b1_b151d6624e13c4d31f300f909ebb63577e42a730_instant.jpg 19.0\n",
      "6 1-1f43f59e9f5ead12a13b1cd892a8757242367189_9cd89303dd466e6b178399f8d02b12aae69ec707_instant.jpg 14.0\n",
      "7 1-85fde97a518625ed46589a6be46300e36c3ad0d9_6626ee8bedc11ff89bd5a6205d10710e72ed9801_instant_210319.jpg 16.0\n",
      "8 1-e50b5a99fd9bab50130099c750df6d80f50a9b4e_fdafeaf4b1ec0417f969870e07a0d6401488df85_instant.jpg 17.0\n",
      "9 1-0d8eabdfed2cb1f0d455e5a2050d78ba39ae6cff_0665c9464c856662322717999ae3d8301ff48907_instant.jpg 11.0\n",
      "10 2-746ba8ac1301085b9f8d8d96beb3bf7f9e7a4605_ecc100d2cbc4a9fc70c2fde3eafaadb6ceb588ca_instant.jpg 29.0\n"
     ]
    },
    {
     "data": {
      "text/html": [
       "<div>\n",
       "<style scoped>\n",
       "    .dataframe tbody tr th:only-of-type {\n",
       "        vertical-align: middle;\n",
       "    }\n",
       "\n",
       "    .dataframe tbody tr th {\n",
       "        vertical-align: top;\n",
       "    }\n",
       "\n",
       "    .dataframe thead th {\n",
       "        text-align: right;\n",
       "    }\n",
       "</style>\n",
       "<table border=\"1\" class=\"dataframe\">\n",
       "  <thead>\n",
       "    <tr style=\"text-align: right;\">\n",
       "      <th></th>\n",
       "      <th>model</th>\n",
       "      <th>subseq</th>\n",
       "      <th>peaks</th>\n",
       "      <th>binary</th>\n",
       "      <th>mwa</th>\n",
       "    </tr>\n",
       "  </thead>\n",
       "  <tbody>\n",
       "    <tr>\n",
       "      <th>0</th>\n",
       "      <td>Canny</td>\n",
       "      <td>36.108918</td>\n",
       "      <td>22.545365</td>\n",
       "      <td>146.569386</td>\n",
       "      <td>101.711697</td>\n",
       "    </tr>\n",
       "  </tbody>\n",
       "</table>\n",
       "</div>"
      ],
      "text/plain": [
       "   model     subseq      peaks      binary         mwa\n",
       "0  Canny  36.108918  22.545365  146.569386  101.711697"
      ]
     },
     "metadata": {},
     "output_type": "display_data"
    }
   ],
   "source": [
    "with_model(Model.CANNY_EDGE, lines, points, data_dir, ranking_url, pith_url, rings_url, mse_url)"
   ]
  },
  {
   "cell_type": "code",
   "execution_count": 10,
   "id": "c3043ef5",
   "metadata": {},
   "outputs": [
    {
     "name": "stdout",
     "output_type": "stream",
     "text": [
      "Polar 18.39166211846548 (mwa) \n",
      "\n"
     ]
    },
    {
     "data": {
      "text/html": [
       "<div>\n",
       "<style scoped>\n",
       "    .dataframe tbody tr th:only-of-type {\n",
       "        vertical-align: middle;\n",
       "    }\n",
       "\n",
       "    .dataframe tbody tr th {\n",
       "        vertical-align: top;\n",
       "    }\n",
       "\n",
       "    .dataframe thead th {\n",
       "        text-align: right;\n",
       "    }\n",
       "</style>\n",
       "<table border=\"1\" class=\"dataframe\">\n",
       "  <thead>\n",
       "    <tr style=\"text-align: right;\">\n",
       "      <th></th>\n",
       "      <th>subseq</th>\n",
       "      <th>peaks</th>\n",
       "      <th>binary</th>\n",
       "      <th>mwa</th>\n",
       "    </tr>\n",
       "    <tr>\n",
       "      <th>model</th>\n",
       "      <th></th>\n",
       "      <th></th>\n",
       "      <th></th>\n",
       "      <th></th>\n",
       "    </tr>\n",
       "  </thead>\n",
       "  <tbody>\n",
       "    <tr>\n",
       "      <th>Grayscale</th>\n",
       "      <td>128.293063</td>\n",
       "      <td>27.028314</td>\n",
       "      <td>157.178207</td>\n",
       "      <td>19.404170</td>\n",
       "    </tr>\n",
       "    <tr>\n",
       "      <th>Polar</th>\n",
       "      <td>104.134504</td>\n",
       "      <td>29.437052</td>\n",
       "      <td>249.886101</td>\n",
       "      <td>18.391662</td>\n",
       "    </tr>\n",
       "    <tr>\n",
       "      <th>Polar Pith</th>\n",
       "      <td>104.271630</td>\n",
       "      <td>29.357452</td>\n",
       "      <td>250.407879</td>\n",
       "      <td>19.529129</td>\n",
       "    </tr>\n",
       "    <tr>\n",
       "      <th>Sobel</th>\n",
       "      <td>218.236320</td>\n",
       "      <td>35.453455</td>\n",
       "      <td>222.660581</td>\n",
       "      <td>62.321926</td>\n",
       "    </tr>\n",
       "    <tr>\n",
       "      <th>Canny</th>\n",
       "      <td>36.108918</td>\n",
       "      <td>22.545365</td>\n",
       "      <td>146.569386</td>\n",
       "      <td>101.711697</td>\n",
       "    </tr>\n",
       "  </tbody>\n",
       "</table>\n",
       "</div>"
      ],
      "text/plain": [
       "                subseq      peaks      binary         mwa\n",
       "model                                                    \n",
       "Grayscale   128.293063  27.028314  157.178207   19.404170\n",
       "Polar       104.134504  29.437052  249.886101   18.391662\n",
       "Polar Pith  104.271630  29.357452  250.407879   19.529129\n",
       "Sobel       218.236320  35.453455  222.660581   62.321926\n",
       "Canny        36.108918  22.545365  146.569386  101.711697"
      ]
     },
     "metadata": {},
     "output_type": "display_data"
    },
    {
     "name": "stdout",
     "output_type": "stream",
     "text": [
      "Min: 18.39166211846548, Max: 250.40787923244733\n"
     ]
    },
    {
     "data": {
      "image/png": "[encoded data removed]",
      "text/plain": [
       "<Figure size 640x480 with 1 Axes>"
      ]
     },
     "metadata": {},
     "output_type": "display_data"
    }
   ],
   "source": [
    "multi_mse(mse_url, False)"
   ]
  },
  {
   "cell_type": "code",
   "execution_count": 11,
   "id": "ddb0de4d",
   "metadata": {},
   "outputs": [],
   "source": [
    "#STOP"
   ]
  },
  {
   "cell_type": "markdown",
   "id": "dcfff2f6",
   "metadata": {},
   "source": [
    "## Phase 2 Model"
   ]
  },
  {
   "cell_type": "markdown",
   "id": "600e29d4",
   "metadata": {},
   "source": [
    "### Model with 16 lines"
   ]
  },
  {
   "cell_type": "code",
   "execution_count": 12,
   "id": "ddd064fc",
   "metadata": {},
   "outputs": [],
   "source": [
    "#MSE file\n",
    "mse_url = \"output/temp_ringsranking_mse_sixteen.csv\"\n",
    "\n",
    "#rings info file\n",
    "rings_url = \"output/temp_ringsranking_rings_sixteen.csv\"\n",
    "\n",
    "#no of lines and points\n",
    "no_of_lines = 16\n",
    "no_of_points = 150"
   ]
  },
  {
   "cell_type": "code",
   "execution_count": 13,
   "id": "51fb0795",
   "metadata": {},
   "outputs": [
    {
     "name": "stdout",
     "output_type": "stream",
     "text": [
      "0 2-34e23370868237a073d086fb64851017e9b2c8c9_85903b8cb210e9ad54581e7a37999bcd5fb18443_instant.jpg 87.0\n",
      "1 1-5d205d5ea6bafd3c2e038cf1139cdd5a9825388f_275cb29ffc473512447ce75ff34baa4ecea7276d_instant_210319.jpg 59.666666666666664\n",
      "2 1-11c00bf7cc3e03dc86bde8a20c8ab390b0b2f2a4_d5d5dbc0f05ff34587375f4a567740b61c4731a6_instant_210319.jpg 18.0\n",
      "3 2-8c5de8aa63e57b1e5d3a11ce4c4e2ded042b2ef3_0693ab68bf2278539a3733129d6964ba7719f7b2.jpg 22.0\n",
      "4 1-3d78e56849a16c0b17831129f6059e367574a138_8560eccb0f16269a00f2d6c6a5fab7419529c803_instant.jpg 15.0\n",
      "5 1-947a57fc1b94be1fb8a5cce439cd8112016648b1_b151d6624e13c4d31f300f909ebb63577e42a730_instant.jpg 19.0\n",
      "6 1-1f43f59e9f5ead12a13b1cd892a8757242367189_9cd89303dd466e6b178399f8d02b12aae69ec707_instant.jpg 14.0\n",
      "7 1-85fde97a518625ed46589a6be46300e36c3ad0d9_6626ee8bedc11ff89bd5a6205d10710e72ed9801_instant_210319.jpg 16.0\n",
      "8 1-e50b5a99fd9bab50130099c750df6d80f50a9b4e_fdafeaf4b1ec0417f969870e07a0d6401488df85_instant.jpg 17.0\n",
      "9 1-0d8eabdfed2cb1f0d455e5a2050d78ba39ae6cff_0665c9464c856662322717999ae3d8301ff48907_instant.jpg 11.0\n",
      "10 2-746ba8ac1301085b9f8d8d96beb3bf7f9e7a4605_ecc100d2cbc4a9fc70c2fde3eafaadb6ceb588ca_instant.jpg 29.0\n"
     ]
    },
    {
     "data": {
      "text/html": [
       "<div>\n",
       "<style scoped>\n",
       "    .dataframe tbody tr th:only-of-type {\n",
       "        vertical-align: middle;\n",
       "    }\n",
       "\n",
       "    .dataframe tbody tr th {\n",
       "        vertical-align: top;\n",
       "    }\n",
       "\n",
       "    .dataframe thead th {\n",
       "        text-align: right;\n",
       "    }\n",
       "</style>\n",
       "<table border=\"1\" class=\"dataframe\">\n",
       "  <thead>\n",
       "    <tr style=\"text-align: right;\">\n",
       "      <th></th>\n",
       "      <th>model</th>\n",
       "      <th>subseq</th>\n",
       "      <th>peaks</th>\n",
       "      <th>binary</th>\n",
       "      <th>mwa</th>\n",
       "    </tr>\n",
       "  </thead>\n",
       "  <tbody>\n",
       "    <tr>\n",
       "      <th>0</th>\n",
       "      <td>Grayscale</td>\n",
       "      <td>128.293063</td>\n",
       "      <td>27.028314</td>\n",
       "      <td>157.178207</td>\n",
       "      <td>19.40417</td>\n",
       "    </tr>\n",
       "  </tbody>\n",
       "</table>\n",
       "</div>"
      ],
      "text/plain": [
       "       model      subseq      peaks      binary       mwa\n",
       "0  Grayscale  128.293063  27.028314  157.178207  19.40417"
      ]
     },
     "metadata": {},
     "output_type": "display_data"
    }
   ],
   "source": [
    "with_model(Model.GRAYSCALE, lines, points, data_dir, ranking_url, pith_url, rings_url, mse_url)"
   ]
  },
  {
   "cell_type": "code",
   "execution_count": 14,
   "id": "e9558f17",
   "metadata": {},
   "outputs": [
    {
     "name": "stdout",
     "output_type": "stream",
     "text": [
      "0 2-34e23370868237a073d086fb64851017e9b2c8c9_85903b8cb210e9ad54581e7a37999bcd5fb18443_instant.jpg 87.0\n",
      "1 1-5d205d5ea6bafd3c2e038cf1139cdd5a9825388f_275cb29ffc473512447ce75ff34baa4ecea7276d_instant_210319.jpg 59.666666666666664\n",
      "2 1-11c00bf7cc3e03dc86bde8a20c8ab390b0b2f2a4_d5d5dbc0f05ff34587375f4a567740b61c4731a6_instant_210319.jpg 18.0\n",
      "3 2-8c5de8aa63e57b1e5d3a11ce4c4e2ded042b2ef3_0693ab68bf2278539a3733129d6964ba7719f7b2.jpg 22.0\n",
      "4 1-3d78e56849a16c0b17831129f6059e367574a138_8560eccb0f16269a00f2d6c6a5fab7419529c803_instant.jpg 15.0\n",
      "5 1-947a57fc1b94be1fb8a5cce439cd8112016648b1_b151d6624e13c4d31f300f909ebb63577e42a730_instant.jpg 19.0\n",
      "6 1-1f43f59e9f5ead12a13b1cd892a8757242367189_9cd89303dd466e6b178399f8d02b12aae69ec707_instant.jpg 14.0\n",
      "7 1-85fde97a518625ed46589a6be46300e36c3ad0d9_6626ee8bedc11ff89bd5a6205d10710e72ed9801_instant_210319.jpg 16.0\n",
      "8 1-e50b5a99fd9bab50130099c750df6d80f50a9b4e_fdafeaf4b1ec0417f969870e07a0d6401488df85_instant.jpg 17.0\n",
      "9 1-0d8eabdfed2cb1f0d455e5a2050d78ba39ae6cff_0665c9464c856662322717999ae3d8301ff48907_instant.jpg 11.0\n",
      "10 2-746ba8ac1301085b9f8d8d96beb3bf7f9e7a4605_ecc100d2cbc4a9fc70c2fde3eafaadb6ceb588ca_instant.jpg 29.0\n"
     ]
    },
    {
     "data": {
      "text/html": [
       "<div>\n",
       "<style scoped>\n",
       "    .dataframe tbody tr th:only-of-type {\n",
       "        vertical-align: middle;\n",
       "    }\n",
       "\n",
       "    .dataframe tbody tr th {\n",
       "        vertical-align: top;\n",
       "    }\n",
       "\n",
       "    .dataframe thead th {\n",
       "        text-align: right;\n",
       "    }\n",
       "</style>\n",
       "<table border=\"1\" class=\"dataframe\">\n",
       "  <thead>\n",
       "    <tr style=\"text-align: right;\">\n",
       "      <th></th>\n",
       "      <th>model</th>\n",
       "      <th>subseq</th>\n",
       "      <th>peaks</th>\n",
       "      <th>binary</th>\n",
       "      <th>mwa</th>\n",
       "    </tr>\n",
       "  </thead>\n",
       "  <tbody>\n",
       "    <tr>\n",
       "      <th>0</th>\n",
       "      <td>Polar</td>\n",
       "      <td>104.134504</td>\n",
       "      <td>29.437052</td>\n",
       "      <td>249.886101</td>\n",
       "      <td>18.391662</td>\n",
       "    </tr>\n",
       "  </tbody>\n",
       "</table>\n",
       "</div>"
      ],
      "text/plain": [
       "   model      subseq      peaks      binary        mwa\n",
       "0  Polar  104.134504  29.437052  249.886101  18.391662"
      ]
     },
     "metadata": {},
     "output_type": "display_data"
    }
   ],
   "source": [
    "with_model(Model.POLAR, lines, points, data_dir, ranking_url, pith_url, rings_url, mse_url)"
   ]
  },
  {
   "cell_type": "code",
   "execution_count": 15,
   "id": "1b0ac3f1",
   "metadata": {},
   "outputs": [
    {
     "name": "stdout",
     "output_type": "stream",
     "text": [
      "0 2-34e23370868237a073d086fb64851017e9b2c8c9_85903b8cb210e9ad54581e7a37999bcd5fb18443_instant.jpg 87.0\n",
      "1 1-5d205d5ea6bafd3c2e038cf1139cdd5a9825388f_275cb29ffc473512447ce75ff34baa4ecea7276d_instant_210319.jpg 59.666666666666664\n",
      "2 1-11c00bf7cc3e03dc86bde8a20c8ab390b0b2f2a4_d5d5dbc0f05ff34587375f4a567740b61c4731a6_instant_210319.jpg 18.0\n",
      "3 2-8c5de8aa63e57b1e5d3a11ce4c4e2ded042b2ef3_0693ab68bf2278539a3733129d6964ba7719f7b2.jpg 22.0\n",
      "4 1-3d78e56849a16c0b17831129f6059e367574a138_8560eccb0f16269a00f2d6c6a5fab7419529c803_instant.jpg 15.0\n",
      "5 1-947a57fc1b94be1fb8a5cce439cd8112016648b1_b151d6624e13c4d31f300f909ebb63577e42a730_instant.jpg 19.0\n",
      "6 1-1f43f59e9f5ead12a13b1cd892a8757242367189_9cd89303dd466e6b178399f8d02b12aae69ec707_instant.jpg 14.0\n",
      "7 1-85fde97a518625ed46589a6be46300e36c3ad0d9_6626ee8bedc11ff89bd5a6205d10710e72ed9801_instant_210319.jpg 16.0\n",
      "8 1-e50b5a99fd9bab50130099c750df6d80f50a9b4e_fdafeaf4b1ec0417f969870e07a0d6401488df85_instant.jpg 17.0\n",
      "9 1-0d8eabdfed2cb1f0d455e5a2050d78ba39ae6cff_0665c9464c856662322717999ae3d8301ff48907_instant.jpg 11.0\n",
      "10 2-746ba8ac1301085b9f8d8d96beb3bf7f9e7a4605_ecc100d2cbc4a9fc70c2fde3eafaadb6ceb588ca_instant.jpg 29.0\n"
     ]
    },
    {
     "data": {
      "text/html": [
       "<div>\n",
       "<style scoped>\n",
       "    .dataframe tbody tr th:only-of-type {\n",
       "        vertical-align: middle;\n",
       "    }\n",
       "\n",
       "    .dataframe tbody tr th {\n",
       "        vertical-align: top;\n",
       "    }\n",
       "\n",
       "    .dataframe thead th {\n",
       "        text-align: right;\n",
       "    }\n",
       "</style>\n",
       "<table border=\"1\" class=\"dataframe\">\n",
       "  <thead>\n",
       "    <tr style=\"text-align: right;\">\n",
       "      <th></th>\n",
       "      <th>model</th>\n",
       "      <th>subseq</th>\n",
       "      <th>peaks</th>\n",
       "      <th>binary</th>\n",
       "      <th>mwa</th>\n",
       "    </tr>\n",
       "  </thead>\n",
       "  <tbody>\n",
       "    <tr>\n",
       "      <th>0</th>\n",
       "      <td>Polar Pith</td>\n",
       "      <td>104.27163</td>\n",
       "      <td>29.357452</td>\n",
       "      <td>250.407879</td>\n",
       "      <td>19.529129</td>\n",
       "    </tr>\n",
       "  </tbody>\n",
       "</table>\n",
       "</div>"
      ],
      "text/plain": [
       "        model     subseq      peaks      binary        mwa\n",
       "0  Polar Pith  104.27163  29.357452  250.407879  19.529129"
      ]
     },
     "metadata": {},
     "output_type": "display_data"
    }
   ],
   "source": [
    "with_model(Model.POLAR_PITH, lines, points, data_dir, ranking_url, pith_url, rings_url, mse_url)"
   ]
  },
  {
   "cell_type": "code",
   "execution_count": null,
   "id": "35b80fb0",
   "metadata": {},
   "outputs": [],
   "source": []
  },
  {
   "cell_type": "code",
   "execution_count": 16,
   "id": "58f9f265",
   "metadata": {},
   "outputs": [
    {
     "name": "stdout",
     "output_type": "stream",
     "text": [
      "0 2-34e23370868237a073d086fb64851017e9b2c8c9_85903b8cb210e9ad54581e7a37999bcd5fb18443_instant.jpg 87.0\n",
      "1 1-5d205d5ea6bafd3c2e038cf1139cdd5a9825388f_275cb29ffc473512447ce75ff34baa4ecea7276d_instant_210319.jpg 59.666666666666664\n",
      "2 1-11c00bf7cc3e03dc86bde8a20c8ab390b0b2f2a4_d5d5dbc0f05ff34587375f4a567740b61c4731a6_instant_210319.jpg 18.0\n",
      "3 2-8c5de8aa63e57b1e5d3a11ce4c4e2ded042b2ef3_0693ab68bf2278539a3733129d6964ba7719f7b2.jpg 22.0\n",
      "4 1-3d78e56849a16c0b17831129f6059e367574a138_8560eccb0f16269a00f2d6c6a5fab7419529c803_instant.jpg 15.0\n",
      "5 1-947a57fc1b94be1fb8a5cce439cd8112016648b1_b151d6624e13c4d31f300f909ebb63577e42a730_instant.jpg 19.0\n",
      "6 1-1f43f59e9f5ead12a13b1cd892a8757242367189_9cd89303dd466e6b178399f8d02b12aae69ec707_instant.jpg 14.0\n",
      "7 1-85fde97a518625ed46589a6be46300e36c3ad0d9_6626ee8bedc11ff89bd5a6205d10710e72ed9801_instant_210319.jpg 16.0\n",
      "8 1-e50b5a99fd9bab50130099c750df6d80f50a9b4e_fdafeaf4b1ec0417f969870e07a0d6401488df85_instant.jpg 17.0\n",
      "9 1-0d8eabdfed2cb1f0d455e5a2050d78ba39ae6cff_0665c9464c856662322717999ae3d8301ff48907_instant.jpg 11.0\n",
      "10 2-746ba8ac1301085b9f8d8d96beb3bf7f9e7a4605_ecc100d2cbc4a9fc70c2fde3eafaadb6ceb588ca_instant.jpg 29.0\n"
     ]
    },
    {
     "data": {
      "text/html": [
       "<div>\n",
       "<style scoped>\n",
       "    .dataframe tbody tr th:only-of-type {\n",
       "        vertical-align: middle;\n",
       "    }\n",
       "\n",
       "    .dataframe tbody tr th {\n",
       "        vertical-align: top;\n",
       "    }\n",
       "\n",
       "    .dataframe thead th {\n",
       "        text-align: right;\n",
       "    }\n",
       "</style>\n",
       "<table border=\"1\" class=\"dataframe\">\n",
       "  <thead>\n",
       "    <tr style=\"text-align: right;\">\n",
       "      <th></th>\n",
       "      <th>model</th>\n",
       "      <th>subseq</th>\n",
       "      <th>peaks</th>\n",
       "      <th>binary</th>\n",
       "      <th>mwa</th>\n",
       "    </tr>\n",
       "  </thead>\n",
       "  <tbody>\n",
       "    <tr>\n",
       "      <th>0</th>\n",
       "      <td>Sobel</td>\n",
       "      <td>218.23632</td>\n",
       "      <td>35.453455</td>\n",
       "      <td>222.660581</td>\n",
       "      <td>62.321926</td>\n",
       "    </tr>\n",
       "  </tbody>\n",
       "</table>\n",
       "</div>"
      ],
      "text/plain": [
       "   model     subseq      peaks      binary        mwa\n",
       "0  Sobel  218.23632  35.453455  222.660581  62.321926"
      ]
     },
     "metadata": {},
     "output_type": "display_data"
    }
   ],
   "source": [
    "with_model(Model.SOBEL_EDGE, lines, points, data_dir, ranking_url, pith_url, rings_url, mse_url)"
   ]
  },
  {
   "cell_type": "code",
   "execution_count": 17,
   "id": "48d1849e",
   "metadata": {},
   "outputs": [
    {
     "name": "stdout",
     "output_type": "stream",
     "text": [
      "0 2-34e23370868237a073d086fb64851017e9b2c8c9_85903b8cb210e9ad54581e7a37999bcd5fb18443_instant.jpg 87.0\n",
      "1 1-5d205d5ea6bafd3c2e038cf1139cdd5a9825388f_275cb29ffc473512447ce75ff34baa4ecea7276d_instant_210319.jpg 59.666666666666664\n",
      "2 1-11c00bf7cc3e03dc86bde8a20c8ab390b0b2f2a4_d5d5dbc0f05ff34587375f4a567740b61c4731a6_instant_210319.jpg 18.0\n",
      "3 2-8c5de8aa63e57b1e5d3a11ce4c4e2ded042b2ef3_0693ab68bf2278539a3733129d6964ba7719f7b2.jpg 22.0\n",
      "4 1-3d78e56849a16c0b17831129f6059e367574a138_8560eccb0f16269a00f2d6c6a5fab7419529c803_instant.jpg 15.0\n",
      "5 1-947a57fc1b94be1fb8a5cce439cd8112016648b1_b151d6624e13c4d31f300f909ebb63577e42a730_instant.jpg 19.0\n",
      "6 1-1f43f59e9f5ead12a13b1cd892a8757242367189_9cd89303dd466e6b178399f8d02b12aae69ec707_instant.jpg 14.0\n",
      "7 1-85fde97a518625ed46589a6be46300e36c3ad0d9_6626ee8bedc11ff89bd5a6205d10710e72ed9801_instant_210319.jpg 16.0\n",
      "8 1-e50b5a99fd9bab50130099c750df6d80f50a9b4e_fdafeaf4b1ec0417f969870e07a0d6401488df85_instant.jpg 17.0\n",
      "9 1-0d8eabdfed2cb1f0d455e5a2050d78ba39ae6cff_0665c9464c856662322717999ae3d8301ff48907_instant.jpg 11.0\n",
      "10 2-746ba8ac1301085b9f8d8d96beb3bf7f9e7a4605_ecc100d2cbc4a9fc70c2fde3eafaadb6ceb588ca_instant.jpg 29.0\n"
     ]
    },
    {
     "data": {
      "text/html": [
       "<div>\n",
       "<style scoped>\n",
       "    .dataframe tbody tr th:only-of-type {\n",
       "        vertical-align: middle;\n",
       "    }\n",
       "\n",
       "    .dataframe tbody tr th {\n",
       "        vertical-align: top;\n",
       "    }\n",
       "\n",
       "    .dataframe thead th {\n",
       "        text-align: right;\n",
       "    }\n",
       "</style>\n",
       "<table border=\"1\" class=\"dataframe\">\n",
       "  <thead>\n",
       "    <tr style=\"text-align: right;\">\n",
       "      <th></th>\n",
       "      <th>model</th>\n",
       "      <th>subseq</th>\n",
       "      <th>peaks</th>\n",
       "      <th>binary</th>\n",
       "      <th>mwa</th>\n",
       "    </tr>\n",
       "  </thead>\n",
       "  <tbody>\n",
       "    <tr>\n",
       "      <th>0</th>\n",
       "      <td>Sobel(blur)</td>\n",
       "      <td>197.06242</td>\n",
       "      <td>19.464059</td>\n",
       "      <td>205.321436</td>\n",
       "      <td>39.274765</td>\n",
       "    </tr>\n",
       "  </tbody>\n",
       "</table>\n",
       "</div>"
      ],
      "text/plain": [
       "         model     subseq      peaks      binary        mwa\n",
       "0  Sobel(blur)  197.06242  19.464059  205.321436  39.274765"
      ]
     },
     "metadata": {},
     "output_type": "display_data"
    }
   ],
   "source": [
    "with_model(Model.SOBEL_EDGE_BLUR, lines, points, data_dir, ranking_url, pith_url, rings_url, mse_url)"
   ]
  },
  {
   "cell_type": "code",
   "execution_count": 18,
   "id": "bfdb6e13",
   "metadata": {},
   "outputs": [
    {
     "name": "stdout",
     "output_type": "stream",
     "text": [
      "0 2-34e23370868237a073d086fb64851017e9b2c8c9_85903b8cb210e9ad54581e7a37999bcd5fb18443_instant.jpg 87.0\n",
      "1 1-5d205d5ea6bafd3c2e038cf1139cdd5a9825388f_275cb29ffc473512447ce75ff34baa4ecea7276d_instant_210319.jpg 59.666666666666664\n",
      "2 1-11c00bf7cc3e03dc86bde8a20c8ab390b0b2f2a4_d5d5dbc0f05ff34587375f4a567740b61c4731a6_instant_210319.jpg 18.0\n",
      "3 2-8c5de8aa63e57b1e5d3a11ce4c4e2ded042b2ef3_0693ab68bf2278539a3733129d6964ba7719f7b2.jpg 22.0\n",
      "4 1-3d78e56849a16c0b17831129f6059e367574a138_8560eccb0f16269a00f2d6c6a5fab7419529c803_instant.jpg 15.0\n",
      "5 1-947a57fc1b94be1fb8a5cce439cd8112016648b1_b151d6624e13c4d31f300f909ebb63577e42a730_instant.jpg 19.0\n",
      "6 1-1f43f59e9f5ead12a13b1cd892a8757242367189_9cd89303dd466e6b178399f8d02b12aae69ec707_instant.jpg 14.0\n",
      "7 1-85fde97a518625ed46589a6be46300e36c3ad0d9_6626ee8bedc11ff89bd5a6205d10710e72ed9801_instant_210319.jpg 16.0\n",
      "8 1-e50b5a99fd9bab50130099c750df6d80f50a9b4e_fdafeaf4b1ec0417f969870e07a0d6401488df85_instant.jpg 17.0\n",
      "9 1-0d8eabdfed2cb1f0d455e5a2050d78ba39ae6cff_0665c9464c856662322717999ae3d8301ff48907_instant.jpg 11.0\n",
      "10 2-746ba8ac1301085b9f8d8d96beb3bf7f9e7a4605_ecc100d2cbc4a9fc70c2fde3eafaadb6ceb588ca_instant.jpg 29.0\n"
     ]
    },
    {
     "data": {
      "text/html": [
       "<div>\n",
       "<style scoped>\n",
       "    .dataframe tbody tr th:only-of-type {\n",
       "        vertical-align: middle;\n",
       "    }\n",
       "\n",
       "    .dataframe tbody tr th {\n",
       "        vertical-align: top;\n",
       "    }\n",
       "\n",
       "    .dataframe thead th {\n",
       "        text-align: right;\n",
       "    }\n",
       "</style>\n",
       "<table border=\"1\" class=\"dataframe\">\n",
       "  <thead>\n",
       "    <tr style=\"text-align: right;\">\n",
       "      <th></th>\n",
       "      <th>model</th>\n",
       "      <th>subseq</th>\n",
       "      <th>peaks</th>\n",
       "      <th>binary</th>\n",
       "      <th>mwa</th>\n",
       "    </tr>\n",
       "  </thead>\n",
       "  <tbody>\n",
       "    <tr>\n",
       "      <th>0</th>\n",
       "      <td>Canny</td>\n",
       "      <td>36.108918</td>\n",
       "      <td>22.545365</td>\n",
       "      <td>146.569386</td>\n",
       "      <td>101.711697</td>\n",
       "    </tr>\n",
       "  </tbody>\n",
       "</table>\n",
       "</div>"
      ],
      "text/plain": [
       "   model     subseq      peaks      binary         mwa\n",
       "0  Canny  36.108918  22.545365  146.569386  101.711697"
      ]
     },
     "metadata": {},
     "output_type": "display_data"
    }
   ],
   "source": [
    "with_model(Model.CANNY_EDGE, lines, points, data_dir, ranking_url, pith_url, rings_url, mse_url)"
   ]
  },
  {
   "cell_type": "code",
   "execution_count": 19,
   "id": "af83b217",
   "metadata": {},
   "outputs": [
    {
     "name": "stdout",
     "output_type": "stream",
     "text": [
      "0 2-34e23370868237a073d086fb64851017e9b2c8c9_85903b8cb210e9ad54581e7a37999bcd5fb18443_instant.jpg 87.0\n",
      "1 1-5d205d5ea6bafd3c2e038cf1139cdd5a9825388f_275cb29ffc473512447ce75ff34baa4ecea7276d_instant_210319.jpg 59.666666666666664\n",
      "2 1-11c00bf7cc3e03dc86bde8a20c8ab390b0b2f2a4_d5d5dbc0f05ff34587375f4a567740b61c4731a6_instant_210319.jpg 18.0\n",
      "3 2-8c5de8aa63e57b1e5d3a11ce4c4e2ded042b2ef3_0693ab68bf2278539a3733129d6964ba7719f7b2.jpg 22.0\n",
      "4 1-3d78e56849a16c0b17831129f6059e367574a138_8560eccb0f16269a00f2d6c6a5fab7419529c803_instant.jpg 15.0\n",
      "5 1-947a57fc1b94be1fb8a5cce439cd8112016648b1_b151d6624e13c4d31f300f909ebb63577e42a730_instant.jpg 19.0\n",
      "6 1-1f43f59e9f5ead12a13b1cd892a8757242367189_9cd89303dd466e6b178399f8d02b12aae69ec707_instant.jpg 14.0\n",
      "7 1-85fde97a518625ed46589a6be46300e36c3ad0d9_6626ee8bedc11ff89bd5a6205d10710e72ed9801_instant_210319.jpg 16.0\n",
      "8 1-e50b5a99fd9bab50130099c750df6d80f50a9b4e_fdafeaf4b1ec0417f969870e07a0d6401488df85_instant.jpg 17.0\n",
      "9 1-0d8eabdfed2cb1f0d455e5a2050d78ba39ae6cff_0665c9464c856662322717999ae3d8301ff48907_instant.jpg 11.0\n",
      "10 2-746ba8ac1301085b9f8d8d96beb3bf7f9e7a4605_ecc100d2cbc4a9fc70c2fde3eafaadb6ceb588ca_instant.jpg 29.0\n"
     ]
    },
    {
     "data": {
      "text/html": [
       "<div>\n",
       "<style scoped>\n",
       "    .dataframe tbody tr th:only-of-type {\n",
       "        vertical-align: middle;\n",
       "    }\n",
       "\n",
       "    .dataframe tbody tr th {\n",
       "        vertical-align: top;\n",
       "    }\n",
       "\n",
       "    .dataframe thead th {\n",
       "        text-align: right;\n",
       "    }\n",
       "</style>\n",
       "<table border=\"1\" class=\"dataframe\">\n",
       "  <thead>\n",
       "    <tr style=\"text-align: right;\">\n",
       "      <th></th>\n",
       "      <th>model</th>\n",
       "      <th>subseq</th>\n",
       "      <th>peaks</th>\n",
       "      <th>binary</th>\n",
       "      <th>mwa</th>\n",
       "    </tr>\n",
       "  </thead>\n",
       "  <tbody>\n",
       "    <tr>\n",
       "      <th>0</th>\n",
       "      <td>Canny(otsu)</td>\n",
       "      <td>35.706173</td>\n",
       "      <td>22.506234</td>\n",
       "      <td>147.291994</td>\n",
       "      <td>102.253405</td>\n",
       "    </tr>\n",
       "  </tbody>\n",
       "</table>\n",
       "</div>"
      ],
      "text/plain": [
       "         model     subseq      peaks      binary         mwa\n",
       "0  Canny(otsu)  35.706173  22.506234  147.291994  102.253405"
      ]
     },
     "metadata": {},
     "output_type": "display_data"
    }
   ],
   "source": [
    "with_model(Model.CANNY_EDGE_OTSU, lines, points, data_dir, ranking_url, pith_url, rings_url, mse_url)"
   ]
  },
  {
   "cell_type": "code",
   "execution_count": 20,
   "id": "aaf7c5d5",
   "metadata": {},
   "outputs": [
    {
     "name": "stdout",
     "output_type": "stream",
     "text": [
      "0 2-34e23370868237a073d086fb64851017e9b2c8c9_85903b8cb210e9ad54581e7a37999bcd5fb18443_instant.jpg 87.0\n",
      "1 1-5d205d5ea6bafd3c2e038cf1139cdd5a9825388f_275cb29ffc473512447ce75ff34baa4ecea7276d_instant_210319.jpg 59.666666666666664\n",
      "2 1-11c00bf7cc3e03dc86bde8a20c8ab390b0b2f2a4_d5d5dbc0f05ff34587375f4a567740b61c4731a6_instant_210319.jpg 18.0\n",
      "3 2-8c5de8aa63e57b1e5d3a11ce4c4e2ded042b2ef3_0693ab68bf2278539a3733129d6964ba7719f7b2.jpg 22.0\n",
      "4 1-3d78e56849a16c0b17831129f6059e367574a138_8560eccb0f16269a00f2d6c6a5fab7419529c803_instant.jpg 15.0\n",
      "5 1-947a57fc1b94be1fb8a5cce439cd8112016648b1_b151d6624e13c4d31f300f909ebb63577e42a730_instant.jpg 19.0\n",
      "6 1-1f43f59e9f5ead12a13b1cd892a8757242367189_9cd89303dd466e6b178399f8d02b12aae69ec707_instant.jpg 14.0\n",
      "7 1-85fde97a518625ed46589a6be46300e36c3ad0d9_6626ee8bedc11ff89bd5a6205d10710e72ed9801_instant_210319.jpg 16.0\n",
      "8 1-e50b5a99fd9bab50130099c750df6d80f50a9b4e_fdafeaf4b1ec0417f969870e07a0d6401488df85_instant.jpg 17.0\n",
      "9 1-0d8eabdfed2cb1f0d455e5a2050d78ba39ae6cff_0665c9464c856662322717999ae3d8301ff48907_instant.jpg 11.0\n",
      "10 2-746ba8ac1301085b9f8d8d96beb3bf7f9e7a4605_ecc100d2cbc4a9fc70c2fde3eafaadb6ceb588ca_instant.jpg 29.0\n"
     ]
    },
    {
     "data": {
      "text/html": [
       "<div>\n",
       "<style scoped>\n",
       "    .dataframe tbody tr th:only-of-type {\n",
       "        vertical-align: middle;\n",
       "    }\n",
       "\n",
       "    .dataframe tbody tr th {\n",
       "        vertical-align: top;\n",
       "    }\n",
       "\n",
       "    .dataframe thead th {\n",
       "        text-align: right;\n",
       "    }\n",
       "</style>\n",
       "<table border=\"1\" class=\"dataframe\">\n",
       "  <thead>\n",
       "    <tr style=\"text-align: right;\">\n",
       "      <th></th>\n",
       "      <th>model</th>\n",
       "      <th>subseq</th>\n",
       "      <th>peaks</th>\n",
       "      <th>binary</th>\n",
       "      <th>mwa</th>\n",
       "    </tr>\n",
       "  </thead>\n",
       "  <tbody>\n",
       "    <tr>\n",
       "      <th>0</th>\n",
       "      <td>Canny(triangle)</td>\n",
       "      <td>70.101154</td>\n",
       "      <td>44.649351</td>\n",
       "      <td>206.734079</td>\n",
       "      <td>153.316888</td>\n",
       "    </tr>\n",
       "  </tbody>\n",
       "</table>\n",
       "</div>"
      ],
      "text/plain": [
       "             model     subseq      peaks      binary         mwa\n",
       "0  Canny(triangle)  70.101154  44.649351  206.734079  153.316888"
      ]
     },
     "metadata": {},
     "output_type": "display_data"
    }
   ],
   "source": [
    "with_model(Model.CANNY_EDGE_TRIANGLE, lines, points, data_dir, ranking_url, pith_url, rings_url, mse_url)"
   ]
  },
  {
   "cell_type": "code",
   "execution_count": 21,
   "id": "37b04875",
   "metadata": {},
   "outputs": [
    {
     "name": "stdout",
     "output_type": "stream",
     "text": [
      "0 2-34e23370868237a073d086fb64851017e9b2c8c9_85903b8cb210e9ad54581e7a37999bcd5fb18443_instant.jpg 87.0\n",
      "1 1-5d205d5ea6bafd3c2e038cf1139cdd5a9825388f_275cb29ffc473512447ce75ff34baa4ecea7276d_instant_210319.jpg 59.666666666666664\n",
      "2 1-11c00bf7cc3e03dc86bde8a20c8ab390b0b2f2a4_d5d5dbc0f05ff34587375f4a567740b61c4731a6_instant_210319.jpg 18.0\n",
      "3 2-8c5de8aa63e57b1e5d3a11ce4c4e2ded042b2ef3_0693ab68bf2278539a3733129d6964ba7719f7b2.jpg 22.0\n",
      "4 1-3d78e56849a16c0b17831129f6059e367574a138_8560eccb0f16269a00f2d6c6a5fab7419529c803_instant.jpg 15.0\n",
      "5 1-947a57fc1b94be1fb8a5cce439cd8112016648b1_b151d6624e13c4d31f300f909ebb63577e42a730_instant.jpg 19.0\n",
      "6 1-1f43f59e9f5ead12a13b1cd892a8757242367189_9cd89303dd466e6b178399f8d02b12aae69ec707_instant.jpg 14.0\n",
      "7 1-85fde97a518625ed46589a6be46300e36c3ad0d9_6626ee8bedc11ff89bd5a6205d10710e72ed9801_instant_210319.jpg 16.0\n",
      "8 1-e50b5a99fd9bab50130099c750df6d80f50a9b4e_fdafeaf4b1ec0417f969870e07a0d6401488df85_instant.jpg 17.0\n",
      "9 1-0d8eabdfed2cb1f0d455e5a2050d78ba39ae6cff_0665c9464c856662322717999ae3d8301ff48907_instant.jpg 11.0\n",
      "10 2-746ba8ac1301085b9f8d8d96beb3bf7f9e7a4605_ecc100d2cbc4a9fc70c2fde3eafaadb6ceb588ca_instant.jpg 29.0\n"
     ]
    },
    {
     "data": {
      "text/html": [
       "<div>\n",
       "<style scoped>\n",
       "    .dataframe tbody tr th:only-of-type {\n",
       "        vertical-align: middle;\n",
       "    }\n",
       "\n",
       "    .dataframe tbody tr th {\n",
       "        vertical-align: top;\n",
       "    }\n",
       "\n",
       "    .dataframe thead th {\n",
       "        text-align: right;\n",
       "    }\n",
       "</style>\n",
       "<table border=\"1\" class=\"dataframe\">\n",
       "  <thead>\n",
       "    <tr style=\"text-align: right;\">\n",
       "      <th></th>\n",
       "      <th>model</th>\n",
       "      <th>subseq</th>\n",
       "      <th>peaks</th>\n",
       "      <th>binary</th>\n",
       "      <th>mwa</th>\n",
       "    </tr>\n",
       "  </thead>\n",
       "  <tbody>\n",
       "    <tr>\n",
       "      <th>0</th>\n",
       "      <td>Canny(manual)</td>\n",
       "      <td>16.198883</td>\n",
       "      <td>15.523627</td>\n",
       "      <td>84.837674</td>\n",
       "      <td>53.25812</td>\n",
       "    </tr>\n",
       "  </tbody>\n",
       "</table>\n",
       "</div>"
      ],
      "text/plain": [
       "           model     subseq      peaks     binary       mwa\n",
       "0  Canny(manual)  16.198883  15.523627  84.837674  53.25812"
      ]
     },
     "metadata": {},
     "output_type": "display_data"
    }
   ],
   "source": [
    "with_model(Model.CANNY_EDGE_MANUAL, lines, points, data_dir, ranking_url, pith_url, rings_url, mse_url)"
   ]
  },
  {
   "cell_type": "code",
   "execution_count": 22,
   "id": "dadfd80a",
   "metadata": {},
   "outputs": [
    {
     "name": "stdout",
     "output_type": "stream",
     "text": [
      "0 2-34e23370868237a073d086fb64851017e9b2c8c9_85903b8cb210e9ad54581e7a37999bcd5fb18443_instant.jpg 87.0\n",
      "1 1-5d205d5ea6bafd3c2e038cf1139cdd5a9825388f_275cb29ffc473512447ce75ff34baa4ecea7276d_instant_210319.jpg 59.666666666666664\n",
      "2 1-11c00bf7cc3e03dc86bde8a20c8ab390b0b2f2a4_d5d5dbc0f05ff34587375f4a567740b61c4731a6_instant_210319.jpg 18.0\n",
      "3 2-8c5de8aa63e57b1e5d3a11ce4c4e2ded042b2ef3_0693ab68bf2278539a3733129d6964ba7719f7b2.jpg 22.0\n",
      "4 1-3d78e56849a16c0b17831129f6059e367574a138_8560eccb0f16269a00f2d6c6a5fab7419529c803_instant.jpg 15.0\n",
      "5 1-947a57fc1b94be1fb8a5cce439cd8112016648b1_b151d6624e13c4d31f300f909ebb63577e42a730_instant.jpg 19.0\n",
      "6 1-1f43f59e9f5ead12a13b1cd892a8757242367189_9cd89303dd466e6b178399f8d02b12aae69ec707_instant.jpg 14.0\n",
      "7 1-85fde97a518625ed46589a6be46300e36c3ad0d9_6626ee8bedc11ff89bd5a6205d10710e72ed9801_instant_210319.jpg 16.0\n",
      "8 1-e50b5a99fd9bab50130099c750df6d80f50a9b4e_fdafeaf4b1ec0417f969870e07a0d6401488df85_instant.jpg 17.0\n",
      "9 1-0d8eabdfed2cb1f0d455e5a2050d78ba39ae6cff_0665c9464c856662322717999ae3d8301ff48907_instant.jpg 11.0\n",
      "10 2-746ba8ac1301085b9f8d8d96beb3bf7f9e7a4605_ecc100d2cbc4a9fc70c2fde3eafaadb6ceb588ca_instant.jpg 29.0\n"
     ]
    },
    {
     "data": {
      "text/html": [
       "<div>\n",
       "<style scoped>\n",
       "    .dataframe tbody tr th:only-of-type {\n",
       "        vertical-align: middle;\n",
       "    }\n",
       "\n",
       "    .dataframe tbody tr th {\n",
       "        vertical-align: top;\n",
       "    }\n",
       "\n",
       "    .dataframe thead th {\n",
       "        text-align: right;\n",
       "    }\n",
       "</style>\n",
       "<table border=\"1\" class=\"dataframe\">\n",
       "  <thead>\n",
       "    <tr style=\"text-align: right;\">\n",
       "      <th></th>\n",
       "      <th>model</th>\n",
       "      <th>subseq</th>\n",
       "      <th>peaks</th>\n",
       "      <th>binary</th>\n",
       "      <th>mwa</th>\n",
       "    </tr>\n",
       "  </thead>\n",
       "  <tbody>\n",
       "    <tr>\n",
       "      <th>0</th>\n",
       "      <td>Canny(blur)</td>\n",
       "      <td>20.147868</td>\n",
       "      <td>15.782315</td>\n",
       "      <td>111.897289</td>\n",
       "      <td>73.68331</td>\n",
       "    </tr>\n",
       "  </tbody>\n",
       "</table>\n",
       "</div>"
      ],
      "text/plain": [
       "         model     subseq      peaks      binary       mwa\n",
       "0  Canny(blur)  20.147868  15.782315  111.897289  73.68331"
      ]
     },
     "metadata": {},
     "output_type": "display_data"
    }
   ],
   "source": [
    "with_model(Model.CANNY_EDGE_BLUR, lines, points, data_dir, ranking_url, pith_url, rings_url, mse_url)"
   ]
  },
  {
   "cell_type": "code",
   "execution_count": 23,
   "id": "e8ab48ad",
   "metadata": {},
   "outputs": [
    {
     "name": "stdout",
     "output_type": "stream",
     "text": [
      "0 2-34e23370868237a073d086fb64851017e9b2c8c9_85903b8cb210e9ad54581e7a37999bcd5fb18443_instant.jpg 87.0\n",
      "1 1-5d205d5ea6bafd3c2e038cf1139cdd5a9825388f_275cb29ffc473512447ce75ff34baa4ecea7276d_instant_210319.jpg 59.666666666666664\n",
      "2 1-11c00bf7cc3e03dc86bde8a20c8ab390b0b2f2a4_d5d5dbc0f05ff34587375f4a567740b61c4731a6_instant_210319.jpg 18.0\n",
      "3 2-8c5de8aa63e57b1e5d3a11ce4c4e2ded042b2ef3_0693ab68bf2278539a3733129d6964ba7719f7b2.jpg 22.0\n",
      "4 1-3d78e56849a16c0b17831129f6059e367574a138_8560eccb0f16269a00f2d6c6a5fab7419529c803_instant.jpg 15.0\n",
      "5 1-947a57fc1b94be1fb8a5cce439cd8112016648b1_b151d6624e13c4d31f300f909ebb63577e42a730_instant.jpg 19.0\n",
      "6 1-1f43f59e9f5ead12a13b1cd892a8757242367189_9cd89303dd466e6b178399f8d02b12aae69ec707_instant.jpg 14.0\n",
      "7 1-85fde97a518625ed46589a6be46300e36c3ad0d9_6626ee8bedc11ff89bd5a6205d10710e72ed9801_instant_210319.jpg 16.0\n",
      "8 1-e50b5a99fd9bab50130099c750df6d80f50a9b4e_fdafeaf4b1ec0417f969870e07a0d6401488df85_instant.jpg 17.0\n",
      "9 1-0d8eabdfed2cb1f0d455e5a2050d78ba39ae6cff_0665c9464c856662322717999ae3d8301ff48907_instant.jpg 11.0\n",
      "10 2-746ba8ac1301085b9f8d8d96beb3bf7f9e7a4605_ecc100d2cbc4a9fc70c2fde3eafaadb6ceb588ca_instant.jpg 29.0\n"
     ]
    },
    {
     "data": {
      "text/html": [
       "<div>\n",
       "<style scoped>\n",
       "    .dataframe tbody tr th:only-of-type {\n",
       "        vertical-align: middle;\n",
       "    }\n",
       "\n",
       "    .dataframe tbody tr th {\n",
       "        vertical-align: top;\n",
       "    }\n",
       "\n",
       "    .dataframe thead th {\n",
       "        text-align: right;\n",
       "    }\n",
       "</style>\n",
       "<table border=\"1\" class=\"dataframe\">\n",
       "  <thead>\n",
       "    <tr style=\"text-align: right;\">\n",
       "      <th></th>\n",
       "      <th>model</th>\n",
       "      <th>subseq</th>\n",
       "      <th>peaks</th>\n",
       "      <th>binary</th>\n",
       "      <th>mwa</th>\n",
       "    </tr>\n",
       "  </thead>\n",
       "  <tbody>\n",
       "    <tr>\n",
       "      <th>0</th>\n",
       "      <td>Canny(blur otsu)</td>\n",
       "      <td>20.52239</td>\n",
       "      <td>16.034204</td>\n",
       "      <td>115.743215</td>\n",
       "      <td>76.169361</td>\n",
       "    </tr>\n",
       "  </tbody>\n",
       "</table>\n",
       "</div>"
      ],
      "text/plain": [
       "              model    subseq      peaks      binary        mwa\n",
       "0  Canny(blur otsu)  20.52239  16.034204  115.743215  76.169361"
      ]
     },
     "metadata": {},
     "output_type": "display_data"
    }
   ],
   "source": [
    "with_model(Model.CANNY_EDGE_BLUR_OTSU, lines, points, data_dir, ranking_url, pith_url, rings_url, mse_url)"
   ]
  },
  {
   "cell_type": "code",
   "execution_count": 24,
   "id": "23d1a996",
   "metadata": {},
   "outputs": [
    {
     "name": "stdout",
     "output_type": "stream",
     "text": [
      "0 2-34e23370868237a073d086fb64851017e9b2c8c9_85903b8cb210e9ad54581e7a37999bcd5fb18443_instant.jpg 87.0\n",
      "1 1-5d205d5ea6bafd3c2e038cf1139cdd5a9825388f_275cb29ffc473512447ce75ff34baa4ecea7276d_instant_210319.jpg 59.666666666666664\n",
      "2 1-11c00bf7cc3e03dc86bde8a20c8ab390b0b2f2a4_d5d5dbc0f05ff34587375f4a567740b61c4731a6_instant_210319.jpg 18.0\n",
      "3 2-8c5de8aa63e57b1e5d3a11ce4c4e2ded042b2ef3_0693ab68bf2278539a3733129d6964ba7719f7b2.jpg 22.0\n",
      "4 1-3d78e56849a16c0b17831129f6059e367574a138_8560eccb0f16269a00f2d6c6a5fab7419529c803_instant.jpg 15.0\n",
      "5 1-947a57fc1b94be1fb8a5cce439cd8112016648b1_b151d6624e13c4d31f300f909ebb63577e42a730_instant.jpg 19.0\n",
      "6 1-1f43f59e9f5ead12a13b1cd892a8757242367189_9cd89303dd466e6b178399f8d02b12aae69ec707_instant.jpg 14.0\n",
      "7 1-85fde97a518625ed46589a6be46300e36c3ad0d9_6626ee8bedc11ff89bd5a6205d10710e72ed9801_instant_210319.jpg 16.0\n",
      "8 1-e50b5a99fd9bab50130099c750df6d80f50a9b4e_fdafeaf4b1ec0417f969870e07a0d6401488df85_instant.jpg 17.0\n",
      "9 1-0d8eabdfed2cb1f0d455e5a2050d78ba39ae6cff_0665c9464c856662322717999ae3d8301ff48907_instant.jpg 11.0\n",
      "10 2-746ba8ac1301085b9f8d8d96beb3bf7f9e7a4605_ecc100d2cbc4a9fc70c2fde3eafaadb6ceb588ca_instant.jpg 29.0\n"
     ]
    },
    {
     "data": {
      "text/html": [
       "<div>\n",
       "<style scoped>\n",
       "    .dataframe tbody tr th:only-of-type {\n",
       "        vertical-align: middle;\n",
       "    }\n",
       "\n",
       "    .dataframe tbody tr th {\n",
       "        vertical-align: top;\n",
       "    }\n",
       "\n",
       "    .dataframe thead th {\n",
       "        text-align: right;\n",
       "    }\n",
       "</style>\n",
       "<table border=\"1\" class=\"dataframe\">\n",
       "  <thead>\n",
       "    <tr style=\"text-align: right;\">\n",
       "      <th></th>\n",
       "      <th>model</th>\n",
       "      <th>subseq</th>\n",
       "      <th>peaks</th>\n",
       "      <th>binary</th>\n",
       "      <th>mwa</th>\n",
       "    </tr>\n",
       "  </thead>\n",
       "  <tbody>\n",
       "    <tr>\n",
       "      <th>0</th>\n",
       "      <td>Canny(blur triangle)</td>\n",
       "      <td>53.111876</td>\n",
       "      <td>37.130114</td>\n",
       "      <td>185.454152</td>\n",
       "      <td>137.56076</td>\n",
       "    </tr>\n",
       "  </tbody>\n",
       "</table>\n",
       "</div>"
      ],
      "text/plain": [
       "                  model     subseq      peaks      binary        mwa\n",
       "0  Canny(blur triangle)  53.111876  37.130114  185.454152  137.56076"
      ]
     },
     "metadata": {},
     "output_type": "display_data"
    }
   ],
   "source": [
    "with_model(Model.CANNY_EDGE_BLUR_TRIANGLE, lines, points, data_dir, ranking_url, pith_url, rings_url, mse_url)"
   ]
  },
  {
   "cell_type": "code",
   "execution_count": 25,
   "id": "21804530",
   "metadata": {},
   "outputs": [
    {
     "name": "stdout",
     "output_type": "stream",
     "text": [
      "0 2-34e23370868237a073d086fb64851017e9b2c8c9_85903b8cb210e9ad54581e7a37999bcd5fb18443_instant.jpg 87.0\n",
      "1 1-5d205d5ea6bafd3c2e038cf1139cdd5a9825388f_275cb29ffc473512447ce75ff34baa4ecea7276d_instant_210319.jpg 59.666666666666664\n",
      "2 1-11c00bf7cc3e03dc86bde8a20c8ab390b0b2f2a4_d5d5dbc0f05ff34587375f4a567740b61c4731a6_instant_210319.jpg 18.0\n",
      "3 2-8c5de8aa63e57b1e5d3a11ce4c4e2ded042b2ef3_0693ab68bf2278539a3733129d6964ba7719f7b2.jpg 22.0\n",
      "4 1-3d78e56849a16c0b17831129f6059e367574a138_8560eccb0f16269a00f2d6c6a5fab7419529c803_instant.jpg 15.0\n",
      "5 1-947a57fc1b94be1fb8a5cce439cd8112016648b1_b151d6624e13c4d31f300f909ebb63577e42a730_instant.jpg 19.0\n",
      "6 1-1f43f59e9f5ead12a13b1cd892a8757242367189_9cd89303dd466e6b178399f8d02b12aae69ec707_instant.jpg 14.0\n",
      "7 1-85fde97a518625ed46589a6be46300e36c3ad0d9_6626ee8bedc11ff89bd5a6205d10710e72ed9801_instant_210319.jpg 16.0\n",
      "8 1-e50b5a99fd9bab50130099c750df6d80f50a9b4e_fdafeaf4b1ec0417f969870e07a0d6401488df85_instant.jpg 17.0\n",
      "9 1-0d8eabdfed2cb1f0d455e5a2050d78ba39ae6cff_0665c9464c856662322717999ae3d8301ff48907_instant.jpg 11.0\n",
      "10 2-746ba8ac1301085b9f8d8d96beb3bf7f9e7a4605_ecc100d2cbc4a9fc70c2fde3eafaadb6ceb588ca_instant.jpg 29.0\n"
     ]
    },
    {
     "data": {
      "text/html": [
       "<div>\n",
       "<style scoped>\n",
       "    .dataframe tbody tr th:only-of-type {\n",
       "        vertical-align: middle;\n",
       "    }\n",
       "\n",
       "    .dataframe tbody tr th {\n",
       "        vertical-align: top;\n",
       "    }\n",
       "\n",
       "    .dataframe thead th {\n",
       "        text-align: right;\n",
       "    }\n",
       "</style>\n",
       "<table border=\"1\" class=\"dataframe\">\n",
       "  <thead>\n",
       "    <tr style=\"text-align: right;\">\n",
       "      <th></th>\n",
       "      <th>model</th>\n",
       "      <th>subseq</th>\n",
       "      <th>peaks</th>\n",
       "      <th>binary</th>\n",
       "      <th>mwa</th>\n",
       "    </tr>\n",
       "  </thead>\n",
       "  <tbody>\n",
       "    <tr>\n",
       "      <th>0</th>\n",
       "      <td>Canny(blur manual)</td>\n",
       "      <td>20.013041</td>\n",
       "      <td>22.349974</td>\n",
       "      <td>48.395406</td>\n",
       "      <td>27.605862</td>\n",
       "    </tr>\n",
       "  </tbody>\n",
       "</table>\n",
       "</div>"
      ],
      "text/plain": [
       "                model     subseq      peaks     binary        mwa\n",
       "0  Canny(blur manual)  20.013041  22.349974  48.395406  27.605862"
      ]
     },
     "metadata": {},
     "output_type": "display_data"
    }
   ],
   "source": [
    "with_model(Model.CANNY_EDGE_BLUR_MANUAL, lines, points, data_dir, ranking_url, pith_url, rings_url, mse_url)"
   ]
  },
  {
   "cell_type": "code",
   "execution_count": 26,
   "id": "30d22fe1",
   "metadata": {},
   "outputs": [
    {
     "name": "stdout",
     "output_type": "stream",
     "text": [
      "0 2-34e23370868237a073d086fb64851017e9b2c8c9_85903b8cb210e9ad54581e7a37999bcd5fb18443_instant.jpg 87.0\n",
      "1 1-5d205d5ea6bafd3c2e038cf1139cdd5a9825388f_275cb29ffc473512447ce75ff34baa4ecea7276d_instant_210319.jpg 59.666666666666664\n",
      "2 1-11c00bf7cc3e03dc86bde8a20c8ab390b0b2f2a4_d5d5dbc0f05ff34587375f4a567740b61c4731a6_instant_210319.jpg 18.0\n",
      "3 2-8c5de8aa63e57b1e5d3a11ce4c4e2ded042b2ef3_0693ab68bf2278539a3733129d6964ba7719f7b2.jpg 22.0\n",
      "4 1-3d78e56849a16c0b17831129f6059e367574a138_8560eccb0f16269a00f2d6c6a5fab7419529c803_instant.jpg 15.0\n",
      "5 1-947a57fc1b94be1fb8a5cce439cd8112016648b1_b151d6624e13c4d31f300f909ebb63577e42a730_instant.jpg 19.0\n",
      "6 1-1f43f59e9f5ead12a13b1cd892a8757242367189_9cd89303dd466e6b178399f8d02b12aae69ec707_instant.jpg 14.0\n",
      "7 1-85fde97a518625ed46589a6be46300e36c3ad0d9_6626ee8bedc11ff89bd5a6205d10710e72ed9801_instant_210319.jpg 16.0\n",
      "8 1-e50b5a99fd9bab50130099c750df6d80f50a9b4e_fdafeaf4b1ec0417f969870e07a0d6401488df85_instant.jpg 17.0\n",
      "9 1-0d8eabdfed2cb1f0d455e5a2050d78ba39ae6cff_0665c9464c856662322717999ae3d8301ff48907_instant.jpg 11.0\n",
      "10 2-746ba8ac1301085b9f8d8d96beb3bf7f9e7a4605_ecc100d2cbc4a9fc70c2fde3eafaadb6ceb588ca_instant.jpg 29.0\n"
     ]
    },
    {
     "data": {
      "text/html": [
       "<div>\n",
       "<style scoped>\n",
       "    .dataframe tbody tr th:only-of-type {\n",
       "        vertical-align: middle;\n",
       "    }\n",
       "\n",
       "    .dataframe tbody tr th {\n",
       "        vertical-align: top;\n",
       "    }\n",
       "\n",
       "    .dataframe thead th {\n",
       "        text-align: right;\n",
       "    }\n",
       "</style>\n",
       "<table border=\"1\" class=\"dataframe\">\n",
       "  <thead>\n",
       "    <tr style=\"text-align: right;\">\n",
       "      <th></th>\n",
       "      <th>model</th>\n",
       "      <th>subseq</th>\n",
       "      <th>peaks</th>\n",
       "      <th>binary</th>\n",
       "      <th>mwa</th>\n",
       "    </tr>\n",
       "  </thead>\n",
       "  <tbody>\n",
       "    <tr>\n",
       "      <th>0</th>\n",
       "      <td>Laplacian</td>\n",
       "      <td>265.879425</td>\n",
       "      <td>74.064205</td>\n",
       "      <td>273.846677</td>\n",
       "      <td>96.516795</td>\n",
       "    </tr>\n",
       "  </tbody>\n",
       "</table>\n",
       "</div>"
      ],
      "text/plain": [
       "       model      subseq      peaks      binary        mwa\n",
       "0  Laplacian  265.879425  74.064205  273.846677  96.516795"
      ]
     },
     "metadata": {},
     "output_type": "display_data"
    }
   ],
   "source": [
    "with_model(Model.LAPLACIAN_EDGE, lines, points, data_dir, ranking_url, pith_url, rings_url, mse_url)"
   ]
  },
  {
   "cell_type": "code",
   "execution_count": 27,
   "id": "3a400e30",
   "metadata": {},
   "outputs": [
    {
     "name": "stdout",
     "output_type": "stream",
     "text": [
      "0 2-34e23370868237a073d086fb64851017e9b2c8c9_85903b8cb210e9ad54581e7a37999bcd5fb18443_instant.jpg 87.0\n",
      "1 1-5d205d5ea6bafd3c2e038cf1139cdd5a9825388f_275cb29ffc473512447ce75ff34baa4ecea7276d_instant_210319.jpg 59.666666666666664\n",
      "2 1-11c00bf7cc3e03dc86bde8a20c8ab390b0b2f2a4_d5d5dbc0f05ff34587375f4a567740b61c4731a6_instant_210319.jpg 18.0\n",
      "3 2-8c5de8aa63e57b1e5d3a11ce4c4e2ded042b2ef3_0693ab68bf2278539a3733129d6964ba7719f7b2.jpg 22.0\n",
      "4 1-3d78e56849a16c0b17831129f6059e367574a138_8560eccb0f16269a00f2d6c6a5fab7419529c803_instant.jpg 15.0\n",
      "5 1-947a57fc1b94be1fb8a5cce439cd8112016648b1_b151d6624e13c4d31f300f909ebb63577e42a730_instant.jpg 19.0\n",
      "6 1-1f43f59e9f5ead12a13b1cd892a8757242367189_9cd89303dd466e6b178399f8d02b12aae69ec707_instant.jpg 14.0\n",
      "7 1-85fde97a518625ed46589a6be46300e36c3ad0d9_6626ee8bedc11ff89bd5a6205d10710e72ed9801_instant_210319.jpg 16.0\n",
      "8 1-e50b5a99fd9bab50130099c750df6d80f50a9b4e_fdafeaf4b1ec0417f969870e07a0d6401488df85_instant.jpg 17.0\n",
      "9 1-0d8eabdfed2cb1f0d455e5a2050d78ba39ae6cff_0665c9464c856662322717999ae3d8301ff48907_instant.jpg 11.0\n",
      "10 2-746ba8ac1301085b9f8d8d96beb3bf7f9e7a4605_ecc100d2cbc4a9fc70c2fde3eafaadb6ceb588ca_instant.jpg 29.0\n"
     ]
    },
    {
     "data": {
      "text/html": [
       "<div>\n",
       "<style scoped>\n",
       "    .dataframe tbody tr th:only-of-type {\n",
       "        vertical-align: middle;\n",
       "    }\n",
       "\n",
       "    .dataframe tbody tr th {\n",
       "        vertical-align: top;\n",
       "    }\n",
       "\n",
       "    .dataframe thead th {\n",
       "        text-align: right;\n",
       "    }\n",
       "</style>\n",
       "<table border=\"1\" class=\"dataframe\">\n",
       "  <thead>\n",
       "    <tr style=\"text-align: right;\">\n",
       "      <th></th>\n",
       "      <th>model</th>\n",
       "      <th>subseq</th>\n",
       "      <th>peaks</th>\n",
       "      <th>binary</th>\n",
       "      <th>mwa</th>\n",
       "    </tr>\n",
       "  </thead>\n",
       "  <tbody>\n",
       "    <tr>\n",
       "      <th>0</th>\n",
       "      <td>Laplacian(blur)</td>\n",
       "      <td>246.206297</td>\n",
       "      <td>36.354348</td>\n",
       "      <td>263.704341</td>\n",
       "      <td>33.296261</td>\n",
       "    </tr>\n",
       "  </tbody>\n",
       "</table>\n",
       "</div>"
      ],
      "text/plain": [
       "             model      subseq      peaks      binary        mwa\n",
       "0  Laplacian(blur)  246.206297  36.354348  263.704341  33.296261"
      ]
     },
     "metadata": {},
     "output_type": "display_data"
    }
   ],
   "source": [
    "with_model(Model.LAPLACIAN_EDGE_BLUR, lines, points, data_dir, ranking_url, pith_url, rings_url, mse_url)"
   ]
  },
  {
   "cell_type": "code",
   "execution_count": null,
   "id": "bf6dec47",
   "metadata": {},
   "outputs": [],
   "source": []
  },
  {
   "cell_type": "code",
   "execution_count": 28,
   "id": "67430856",
   "metadata": {},
   "outputs": [
    {
     "name": "stdout",
     "output_type": "stream",
     "text": [
      "0 2-34e23370868237a073d086fb64851017e9b2c8c9_85903b8cb210e9ad54581e7a37999bcd5fb18443_instant.jpg 87.0\n",
      "1 1-5d205d5ea6bafd3c2e038cf1139cdd5a9825388f_275cb29ffc473512447ce75ff34baa4ecea7276d_instant_210319.jpg 59.666666666666664\n",
      "2 1-11c00bf7cc3e03dc86bde8a20c8ab390b0b2f2a4_d5d5dbc0f05ff34587375f4a567740b61c4731a6_instant_210319.jpg 18.0\n",
      "3 2-8c5de8aa63e57b1e5d3a11ce4c4e2ded042b2ef3_0693ab68bf2278539a3733129d6964ba7719f7b2.jpg 22.0\n",
      "4 1-3d78e56849a16c0b17831129f6059e367574a138_8560eccb0f16269a00f2d6c6a5fab7419529c803_instant.jpg 15.0\n",
      "5 1-947a57fc1b94be1fb8a5cce439cd8112016648b1_b151d6624e13c4d31f300f909ebb63577e42a730_instant.jpg 19.0\n",
      "6 1-1f43f59e9f5ead12a13b1cd892a8757242367189_9cd89303dd466e6b178399f8d02b12aae69ec707_instant.jpg 14.0\n",
      "7 1-85fde97a518625ed46589a6be46300e36c3ad0d9_6626ee8bedc11ff89bd5a6205d10710e72ed9801_instant_210319.jpg 16.0\n",
      "8 1-e50b5a99fd9bab50130099c750df6d80f50a9b4e_fdafeaf4b1ec0417f969870e07a0d6401488df85_instant.jpg 17.0\n",
      "9 1-0d8eabdfed2cb1f0d455e5a2050d78ba39ae6cff_0665c9464c856662322717999ae3d8301ff48907_instant.jpg 11.0\n",
      "10 2-746ba8ac1301085b9f8d8d96beb3bf7f9e7a4605_ecc100d2cbc4a9fc70c2fde3eafaadb6ceb588ca_instant.jpg 29.0\n"
     ]
    },
    {
     "data": {
      "text/html": [
       "<div>\n",
       "<style scoped>\n",
       "    .dataframe tbody tr th:only-of-type {\n",
       "        vertical-align: middle;\n",
       "    }\n",
       "\n",
       "    .dataframe tbody tr th {\n",
       "        vertical-align: top;\n",
       "    }\n",
       "\n",
       "    .dataframe thead th {\n",
       "        text-align: right;\n",
       "    }\n",
       "</style>\n",
       "<table border=\"1\" class=\"dataframe\">\n",
       "  <thead>\n",
       "    <tr style=\"text-align: right;\">\n",
       "      <th></th>\n",
       "      <th>model</th>\n",
       "      <th>subseq</th>\n",
       "      <th>peaks</th>\n",
       "      <th>binary</th>\n",
       "      <th>mwa</th>\n",
       "    </tr>\n",
       "  </thead>\n",
       "  <tbody>\n",
       "    <tr>\n",
       "      <th>0</th>\n",
       "      <td>Polar Sobel</td>\n",
       "      <td>286.938114</td>\n",
       "      <td>32.12386</td>\n",
       "      <td>287.31372</td>\n",
       "      <td>64.704987</td>\n",
       "    </tr>\n",
       "  </tbody>\n",
       "</table>\n",
       "</div>"
      ],
      "text/plain": [
       "         model      subseq     peaks     binary        mwa\n",
       "0  Polar Sobel  286.938114  32.12386  287.31372  64.704987"
      ]
     },
     "metadata": {},
     "output_type": "display_data"
    }
   ],
   "source": [
    "with_model(Model.POLAR_SOBEL_EDGE, lines, points, data_dir, ranking_url, pith_url, rings_url, mse_url)"
   ]
  },
  {
   "cell_type": "code",
   "execution_count": 29,
   "id": "3b6f3da2",
   "metadata": {},
   "outputs": [
    {
     "name": "stdout",
     "output_type": "stream",
     "text": [
      "0 2-34e23370868237a073d086fb64851017e9b2c8c9_85903b8cb210e9ad54581e7a37999bcd5fb18443_instant.jpg 87.0\n",
      "1 1-5d205d5ea6bafd3c2e038cf1139cdd5a9825388f_275cb29ffc473512447ce75ff34baa4ecea7276d_instant_210319.jpg 59.666666666666664\n",
      "2 1-11c00bf7cc3e03dc86bde8a20c8ab390b0b2f2a4_d5d5dbc0f05ff34587375f4a567740b61c4731a6_instant_210319.jpg 18.0\n",
      "3 2-8c5de8aa63e57b1e5d3a11ce4c4e2ded042b2ef3_0693ab68bf2278539a3733129d6964ba7719f7b2.jpg 22.0\n",
      "4 1-3d78e56849a16c0b17831129f6059e367574a138_8560eccb0f16269a00f2d6c6a5fab7419529c803_instant.jpg 15.0\n",
      "5 1-947a57fc1b94be1fb8a5cce439cd8112016648b1_b151d6624e13c4d31f300f909ebb63577e42a730_instant.jpg 19.0\n",
      "6 1-1f43f59e9f5ead12a13b1cd892a8757242367189_9cd89303dd466e6b178399f8d02b12aae69ec707_instant.jpg 14.0\n",
      "7 1-85fde97a518625ed46589a6be46300e36c3ad0d9_6626ee8bedc11ff89bd5a6205d10710e72ed9801_instant_210319.jpg 16.0\n",
      "8 1-e50b5a99fd9bab50130099c750df6d80f50a9b4e_fdafeaf4b1ec0417f969870e07a0d6401488df85_instant.jpg 17.0\n",
      "9 1-0d8eabdfed2cb1f0d455e5a2050d78ba39ae6cff_0665c9464c856662322717999ae3d8301ff48907_instant.jpg 11.0\n",
      "10 2-746ba8ac1301085b9f8d8d96beb3bf7f9e7a4605_ecc100d2cbc4a9fc70c2fde3eafaadb6ceb588ca_instant.jpg 29.0\n"
     ]
    },
    {
     "data": {
      "text/html": [
       "<div>\n",
       "<style scoped>\n",
       "    .dataframe tbody tr th:only-of-type {\n",
       "        vertical-align: middle;\n",
       "    }\n",
       "\n",
       "    .dataframe tbody tr th {\n",
       "        vertical-align: top;\n",
       "    }\n",
       "\n",
       "    .dataframe thead th {\n",
       "        text-align: right;\n",
       "    }\n",
       "</style>\n",
       "<table border=\"1\" class=\"dataframe\">\n",
       "  <thead>\n",
       "    <tr style=\"text-align: right;\">\n",
       "      <th></th>\n",
       "      <th>model</th>\n",
       "      <th>subseq</th>\n",
       "      <th>peaks</th>\n",
       "      <th>binary</th>\n",
       "      <th>mwa</th>\n",
       "    </tr>\n",
       "  </thead>\n",
       "  <tbody>\n",
       "    <tr>\n",
       "      <th>0</th>\n",
       "      <td>Polar Sobel(blur)</td>\n",
       "      <td>220.740128</td>\n",
       "      <td>16.284231</td>\n",
       "      <td>241.105501</td>\n",
       "      <td>33.535744</td>\n",
       "    </tr>\n",
       "  </tbody>\n",
       "</table>\n",
       "</div>"
      ],
      "text/plain": [
       "               model      subseq      peaks      binary        mwa\n",
       "0  Polar Sobel(blur)  220.740128  16.284231  241.105501  33.535744"
      ]
     },
     "metadata": {},
     "output_type": "display_data"
    }
   ],
   "source": [
    "with_model(Model.POLAR_SOBEL_EDGE_BLUR, lines, points, data_dir, ranking_url, pith_url, rings_url, mse_url)"
   ]
  },
  {
   "cell_type": "code",
   "execution_count": 30,
   "id": "ee75dd80",
   "metadata": {},
   "outputs": [
    {
     "name": "stdout",
     "output_type": "stream",
     "text": [
      "0 2-34e23370868237a073d086fb64851017e9b2c8c9_85903b8cb210e9ad54581e7a37999bcd5fb18443_instant.jpg 87.0\n",
      "1 1-5d205d5ea6bafd3c2e038cf1139cdd5a9825388f_275cb29ffc473512447ce75ff34baa4ecea7276d_instant_210319.jpg 59.666666666666664\n",
      "2 1-11c00bf7cc3e03dc86bde8a20c8ab390b0b2f2a4_d5d5dbc0f05ff34587375f4a567740b61c4731a6_instant_210319.jpg 18.0\n",
      "3 2-8c5de8aa63e57b1e5d3a11ce4c4e2ded042b2ef3_0693ab68bf2278539a3733129d6964ba7719f7b2.jpg 22.0\n",
      "4 1-3d78e56849a16c0b17831129f6059e367574a138_8560eccb0f16269a00f2d6c6a5fab7419529c803_instant.jpg 15.0\n",
      "5 1-947a57fc1b94be1fb8a5cce439cd8112016648b1_b151d6624e13c4d31f300f909ebb63577e42a730_instant.jpg 19.0\n",
      "6 1-1f43f59e9f5ead12a13b1cd892a8757242367189_9cd89303dd466e6b178399f8d02b12aae69ec707_instant.jpg 14.0\n",
      "7 1-85fde97a518625ed46589a6be46300e36c3ad0d9_6626ee8bedc11ff89bd5a6205d10710e72ed9801_instant_210319.jpg 16.0\n",
      "8 1-e50b5a99fd9bab50130099c750df6d80f50a9b4e_fdafeaf4b1ec0417f969870e07a0d6401488df85_instant.jpg 17.0\n",
      "9 1-0d8eabdfed2cb1f0d455e5a2050d78ba39ae6cff_0665c9464c856662322717999ae3d8301ff48907_instant.jpg 11.0\n",
      "10 2-746ba8ac1301085b9f8d8d96beb3bf7f9e7a4605_ecc100d2cbc4a9fc70c2fde3eafaadb6ceb588ca_instant.jpg 29.0\n"
     ]
    },
    {
     "data": {
      "text/html": [
       "<div>\n",
       "<style scoped>\n",
       "    .dataframe tbody tr th:only-of-type {\n",
       "        vertical-align: middle;\n",
       "    }\n",
       "\n",
       "    .dataframe tbody tr th {\n",
       "        vertical-align: top;\n",
       "    }\n",
       "\n",
       "    .dataframe thead th {\n",
       "        text-align: right;\n",
       "    }\n",
       "</style>\n",
       "<table border=\"1\" class=\"dataframe\">\n",
       "  <thead>\n",
       "    <tr style=\"text-align: right;\">\n",
       "      <th></th>\n",
       "      <th>model</th>\n",
       "      <th>subseq</th>\n",
       "      <th>peaks</th>\n",
       "      <th>binary</th>\n",
       "      <th>mwa</th>\n",
       "    </tr>\n",
       "  </thead>\n",
       "  <tbody>\n",
       "    <tr>\n",
       "      <th>0</th>\n",
       "      <td>Polar Canny</td>\n",
       "      <td>21.58478</td>\n",
       "      <td>16.037846</td>\n",
       "      <td>151.471836</td>\n",
       "      <td>99.954627</td>\n",
       "    </tr>\n",
       "  </tbody>\n",
       "</table>\n",
       "</div>"
      ],
      "text/plain": [
       "         model    subseq      peaks      binary        mwa\n",
       "0  Polar Canny  21.58478  16.037846  151.471836  99.954627"
      ]
     },
     "metadata": {},
     "output_type": "display_data"
    }
   ],
   "source": [
    "with_model(Model.POLAR_CANNY_EDGE, lines, points, data_dir, ranking_url, pith_url, rings_url, mse_url)"
   ]
  },
  {
   "cell_type": "code",
   "execution_count": 31,
   "id": "95860264",
   "metadata": {},
   "outputs": [
    {
     "name": "stdout",
     "output_type": "stream",
     "text": [
      "0 2-34e23370868237a073d086fb64851017e9b2c8c9_85903b8cb210e9ad54581e7a37999bcd5fb18443_instant.jpg 87.0\n",
      "1 1-5d205d5ea6bafd3c2e038cf1139cdd5a9825388f_275cb29ffc473512447ce75ff34baa4ecea7276d_instant_210319.jpg 59.666666666666664\n",
      "2 1-11c00bf7cc3e03dc86bde8a20c8ab390b0b2f2a4_d5d5dbc0f05ff34587375f4a567740b61c4731a6_instant_210319.jpg 18.0\n",
      "3 2-8c5de8aa63e57b1e5d3a11ce4c4e2ded042b2ef3_0693ab68bf2278539a3733129d6964ba7719f7b2.jpg 22.0\n",
      "4 1-3d78e56849a16c0b17831129f6059e367574a138_8560eccb0f16269a00f2d6c6a5fab7419529c803_instant.jpg 15.0\n",
      "5 1-947a57fc1b94be1fb8a5cce439cd8112016648b1_b151d6624e13c4d31f300f909ebb63577e42a730_instant.jpg 19.0\n",
      "6 1-1f43f59e9f5ead12a13b1cd892a8757242367189_9cd89303dd466e6b178399f8d02b12aae69ec707_instant.jpg 14.0\n",
      "7 1-85fde97a518625ed46589a6be46300e36c3ad0d9_6626ee8bedc11ff89bd5a6205d10710e72ed9801_instant_210319.jpg 16.0\n",
      "8 1-e50b5a99fd9bab50130099c750df6d80f50a9b4e_fdafeaf4b1ec0417f969870e07a0d6401488df85_instant.jpg 17.0\n",
      "9 1-0d8eabdfed2cb1f0d455e5a2050d78ba39ae6cff_0665c9464c856662322717999ae3d8301ff48907_instant.jpg 11.0\n",
      "10 2-746ba8ac1301085b9f8d8d96beb3bf7f9e7a4605_ecc100d2cbc4a9fc70c2fde3eafaadb6ceb588ca_instant.jpg 29.0\n"
     ]
    },
    {
     "data": {
      "text/html": [
       "<div>\n",
       "<style scoped>\n",
       "    .dataframe tbody tr th:only-of-type {\n",
       "        vertical-align: middle;\n",
       "    }\n",
       "\n",
       "    .dataframe tbody tr th {\n",
       "        vertical-align: top;\n",
       "    }\n",
       "\n",
       "    .dataframe thead th {\n",
       "        text-align: right;\n",
       "    }\n",
       "</style>\n",
       "<table border=\"1\" class=\"dataframe\">\n",
       "  <thead>\n",
       "    <tr style=\"text-align: right;\">\n",
       "      <th></th>\n",
       "      <th>model</th>\n",
       "      <th>subseq</th>\n",
       "      <th>peaks</th>\n",
       "      <th>binary</th>\n",
       "      <th>mwa</th>\n",
       "    </tr>\n",
       "  </thead>\n",
       "  <tbody>\n",
       "    <tr>\n",
       "      <th>0</th>\n",
       "      <td>Polar Canny(otsu)</td>\n",
       "      <td>22.22413</td>\n",
       "      <td>16.447432</td>\n",
       "      <td>155.16961</td>\n",
       "      <td>102.314092</td>\n",
       "    </tr>\n",
       "  </tbody>\n",
       "</table>\n",
       "</div>"
      ],
      "text/plain": [
       "               model    subseq      peaks     binary         mwa\n",
       "0  Polar Canny(otsu)  22.22413  16.447432  155.16961  102.314092"
      ]
     },
     "metadata": {},
     "output_type": "display_data"
    }
   ],
   "source": [
    "with_model(Model.POLAR_CANNY_EDGE_OTSU, lines, points, data_dir, ranking_url, pith_url, rings_url, mse_url)"
   ]
  },
  {
   "cell_type": "code",
   "execution_count": 32,
   "id": "cb91f2b9",
   "metadata": {},
   "outputs": [
    {
     "name": "stdout",
     "output_type": "stream",
     "text": [
      "0 2-34e23370868237a073d086fb64851017e9b2c8c9_85903b8cb210e9ad54581e7a37999bcd5fb18443_instant.jpg 87.0\n",
      "1 1-5d205d5ea6bafd3c2e038cf1139cdd5a9825388f_275cb29ffc473512447ce75ff34baa4ecea7276d_instant_210319.jpg 59.666666666666664\n",
      "2 1-11c00bf7cc3e03dc86bde8a20c8ab390b0b2f2a4_d5d5dbc0f05ff34587375f4a567740b61c4731a6_instant_210319.jpg 18.0\n",
      "3 2-8c5de8aa63e57b1e5d3a11ce4c4e2ded042b2ef3_0693ab68bf2278539a3733129d6964ba7719f7b2.jpg 22.0\n",
      "4 1-3d78e56849a16c0b17831129f6059e367574a138_8560eccb0f16269a00f2d6c6a5fab7419529c803_instant.jpg 15.0\n",
      "5 1-947a57fc1b94be1fb8a5cce439cd8112016648b1_b151d6624e13c4d31f300f909ebb63577e42a730_instant.jpg 19.0\n",
      "6 1-1f43f59e9f5ead12a13b1cd892a8757242367189_9cd89303dd466e6b178399f8d02b12aae69ec707_instant.jpg 14.0\n",
      "7 1-85fde97a518625ed46589a6be46300e36c3ad0d9_6626ee8bedc11ff89bd5a6205d10710e72ed9801_instant_210319.jpg 16.0\n",
      "8 1-e50b5a99fd9bab50130099c750df6d80f50a9b4e_fdafeaf4b1ec0417f969870e07a0d6401488df85_instant.jpg 17.0\n",
      "9 1-0d8eabdfed2cb1f0d455e5a2050d78ba39ae6cff_0665c9464c856662322717999ae3d8301ff48907_instant.jpg 11.0\n",
      "10 2-746ba8ac1301085b9f8d8d96beb3bf7f9e7a4605_ecc100d2cbc4a9fc70c2fde3eafaadb6ceb588ca_instant.jpg 29.0\n"
     ]
    },
    {
     "data": {
      "text/html": [
       "<div>\n",
       "<style scoped>\n",
       "    .dataframe tbody tr th:only-of-type {\n",
       "        vertical-align: middle;\n",
       "    }\n",
       "\n",
       "    .dataframe tbody tr th {\n",
       "        vertical-align: top;\n",
       "    }\n",
       "\n",
       "    .dataframe thead th {\n",
       "        text-align: right;\n",
       "    }\n",
       "</style>\n",
       "<table border=\"1\" class=\"dataframe\">\n",
       "  <thead>\n",
       "    <tr style=\"text-align: right;\">\n",
       "      <th></th>\n",
       "      <th>model</th>\n",
       "      <th>subseq</th>\n",
       "      <th>peaks</th>\n",
       "      <th>binary</th>\n",
       "      <th>mwa</th>\n",
       "    </tr>\n",
       "  </thead>\n",
       "  <tbody>\n",
       "    <tr>\n",
       "      <th>0</th>\n",
       "      <td>Polar Canny(triangle)</td>\n",
       "      <td>66.733777</td>\n",
       "      <td>45.91332</td>\n",
       "      <td>242.436604</td>\n",
       "      <td>176.146025</td>\n",
       "    </tr>\n",
       "  </tbody>\n",
       "</table>\n",
       "</div>"
      ],
      "text/plain": [
       "                   model     subseq     peaks      binary         mwa\n",
       "0  Polar Canny(triangle)  66.733777  45.91332  242.436604  176.146025"
      ]
     },
     "metadata": {},
     "output_type": "display_data"
    }
   ],
   "source": [
    "with_model(Model.POLAR_CANNY_EDGE_TRIANGLE, lines, points, data_dir, ranking_url, pith_url, rings_url, mse_url)"
   ]
  },
  {
   "cell_type": "code",
   "execution_count": 33,
   "id": "b9b3b7fa",
   "metadata": {},
   "outputs": [
    {
     "name": "stdout",
     "output_type": "stream",
     "text": [
      "0 2-34e23370868237a073d086fb64851017e9b2c8c9_85903b8cb210e9ad54581e7a37999bcd5fb18443_instant.jpg 87.0\n",
      "1 1-5d205d5ea6bafd3c2e038cf1139cdd5a9825388f_275cb29ffc473512447ce75ff34baa4ecea7276d_instant_210319.jpg 59.666666666666664\n",
      "2 1-11c00bf7cc3e03dc86bde8a20c8ab390b0b2f2a4_d5d5dbc0f05ff34587375f4a567740b61c4731a6_instant_210319.jpg 18.0\n",
      "3 2-8c5de8aa63e57b1e5d3a11ce4c4e2ded042b2ef3_0693ab68bf2278539a3733129d6964ba7719f7b2.jpg 22.0\n",
      "4 1-3d78e56849a16c0b17831129f6059e367574a138_8560eccb0f16269a00f2d6c6a5fab7419529c803_instant.jpg 15.0\n",
      "5 1-947a57fc1b94be1fb8a5cce439cd8112016648b1_b151d6624e13c4d31f300f909ebb63577e42a730_instant.jpg 19.0\n",
      "6 1-1f43f59e9f5ead12a13b1cd892a8757242367189_9cd89303dd466e6b178399f8d02b12aae69ec707_instant.jpg 14.0\n",
      "7 1-85fde97a518625ed46589a6be46300e36c3ad0d9_6626ee8bedc11ff89bd5a6205d10710e72ed9801_instant_210319.jpg 16.0\n",
      "8 1-e50b5a99fd9bab50130099c750df6d80f50a9b4e_fdafeaf4b1ec0417f969870e07a0d6401488df85_instant.jpg 17.0\n",
      "9 1-0d8eabdfed2cb1f0d455e5a2050d78ba39ae6cff_0665c9464c856662322717999ae3d8301ff48907_instant.jpg 11.0\n",
      "10 2-746ba8ac1301085b9f8d8d96beb3bf7f9e7a4605_ecc100d2cbc4a9fc70c2fde3eafaadb6ceb588ca_instant.jpg 29.0\n"
     ]
    },
    {
     "data": {
      "text/html": [
       "<div>\n",
       "<style scoped>\n",
       "    .dataframe tbody tr th:only-of-type {\n",
       "        vertical-align: middle;\n",
       "    }\n",
       "\n",
       "    .dataframe tbody tr th {\n",
       "        vertical-align: top;\n",
       "    }\n",
       "\n",
       "    .dataframe thead th {\n",
       "        text-align: right;\n",
       "    }\n",
       "</style>\n",
       "<table border=\"1\" class=\"dataframe\">\n",
       "  <thead>\n",
       "    <tr style=\"text-align: right;\">\n",
       "      <th></th>\n",
       "      <th>model</th>\n",
       "      <th>subseq</th>\n",
       "      <th>peaks</th>\n",
       "      <th>binary</th>\n",
       "      <th>mwa</th>\n",
       "    </tr>\n",
       "  </thead>\n",
       "  <tbody>\n",
       "    <tr>\n",
       "      <th>0</th>\n",
       "      <td>Polar Canny(manual)</td>\n",
       "      <td>18.324449</td>\n",
       "      <td>20.664773</td>\n",
       "      <td>82.15513</td>\n",
       "      <td>47.202826</td>\n",
       "    </tr>\n",
       "  </tbody>\n",
       "</table>\n",
       "</div>"
      ],
      "text/plain": [
       "                 model     subseq      peaks    binary        mwa\n",
       "0  Polar Canny(manual)  18.324449  20.664773  82.15513  47.202826"
      ]
     },
     "metadata": {},
     "output_type": "display_data"
    }
   ],
   "source": [
    "with_model(Model.POLAR_CANNY_EDGE_MANUAL, lines, points, data_dir, ranking_url, pith_url, rings_url, mse_url)"
   ]
  },
  {
   "cell_type": "code",
   "execution_count": 34,
   "id": "f3b7e6da",
   "metadata": {},
   "outputs": [
    {
     "name": "stdout",
     "output_type": "stream",
     "text": [
      "0 2-34e23370868237a073d086fb64851017e9b2c8c9_85903b8cb210e9ad54581e7a37999bcd5fb18443_instant.jpg 87.0\n",
      "1 1-5d205d5ea6bafd3c2e038cf1139cdd5a9825388f_275cb29ffc473512447ce75ff34baa4ecea7276d_instant_210319.jpg 59.666666666666664\n",
      "2 1-11c00bf7cc3e03dc86bde8a20c8ab390b0b2f2a4_d5d5dbc0f05ff34587375f4a567740b61c4731a6_instant_210319.jpg 18.0\n",
      "3 2-8c5de8aa63e57b1e5d3a11ce4c4e2ded042b2ef3_0693ab68bf2278539a3733129d6964ba7719f7b2.jpg 22.0\n",
      "4 1-3d78e56849a16c0b17831129f6059e367574a138_8560eccb0f16269a00f2d6c6a5fab7419529c803_instant.jpg 15.0\n",
      "5 1-947a57fc1b94be1fb8a5cce439cd8112016648b1_b151d6624e13c4d31f300f909ebb63577e42a730_instant.jpg 19.0\n",
      "6 1-1f43f59e9f5ead12a13b1cd892a8757242367189_9cd89303dd466e6b178399f8d02b12aae69ec707_instant.jpg 14.0\n",
      "7 1-85fde97a518625ed46589a6be46300e36c3ad0d9_6626ee8bedc11ff89bd5a6205d10710e72ed9801_instant_210319.jpg 16.0\n",
      "8 1-e50b5a99fd9bab50130099c750df6d80f50a9b4e_fdafeaf4b1ec0417f969870e07a0d6401488df85_instant.jpg 17.0\n",
      "9 1-0d8eabdfed2cb1f0d455e5a2050d78ba39ae6cff_0665c9464c856662322717999ae3d8301ff48907_instant.jpg 11.0\n",
      "10 2-746ba8ac1301085b9f8d8d96beb3bf7f9e7a4605_ecc100d2cbc4a9fc70c2fde3eafaadb6ceb588ca_instant.jpg 29.0\n"
     ]
    },
    {
     "data": {
      "text/html": [
       "<div>\n",
       "<style scoped>\n",
       "    .dataframe tbody tr th:only-of-type {\n",
       "        vertical-align: middle;\n",
       "    }\n",
       "\n",
       "    .dataframe tbody tr th {\n",
       "        vertical-align: top;\n",
       "    }\n",
       "\n",
       "    .dataframe thead th {\n",
       "        text-align: right;\n",
       "    }\n",
       "</style>\n",
       "<table border=\"1\" class=\"dataframe\">\n",
       "  <thead>\n",
       "    <tr style=\"text-align: right;\">\n",
       "      <th></th>\n",
       "      <th>model</th>\n",
       "      <th>subseq</th>\n",
       "      <th>peaks</th>\n",
       "      <th>binary</th>\n",
       "      <th>mwa</th>\n",
       "    </tr>\n",
       "  </thead>\n",
       "  <tbody>\n",
       "    <tr>\n",
       "      <th>0</th>\n",
       "      <td>Polar Canny(blur)</td>\n",
       "      <td>14.497258</td>\n",
       "      <td>16.269817</td>\n",
       "      <td>104.008417</td>\n",
       "      <td>61.592121</td>\n",
       "    </tr>\n",
       "  </tbody>\n",
       "</table>\n",
       "</div>"
      ],
      "text/plain": [
       "               model     subseq      peaks      binary        mwa\n",
       "0  Polar Canny(blur)  14.497258  16.269817  104.008417  61.592121"
      ]
     },
     "metadata": {},
     "output_type": "display_data"
    }
   ],
   "source": [
    "with_model(Model.POLAR_CANNY_EDGE_BLUR, lines, points, data_dir, ranking_url, pith_url, rings_url, mse_url)"
   ]
  },
  {
   "cell_type": "code",
   "execution_count": 35,
   "id": "d30f5bab",
   "metadata": {},
   "outputs": [
    {
     "name": "stdout",
     "output_type": "stream",
     "text": [
      "0 2-34e23370868237a073d086fb64851017e9b2c8c9_85903b8cb210e9ad54581e7a37999bcd5fb18443_instant.jpg 87.0\n",
      "1 1-5d205d5ea6bafd3c2e038cf1139cdd5a9825388f_275cb29ffc473512447ce75ff34baa4ecea7276d_instant_210319.jpg 59.666666666666664\n",
      "2 1-11c00bf7cc3e03dc86bde8a20c8ab390b0b2f2a4_d5d5dbc0f05ff34587375f4a567740b61c4731a6_instant_210319.jpg 18.0\n",
      "3 2-8c5de8aa63e57b1e5d3a11ce4c4e2ded042b2ef3_0693ab68bf2278539a3733129d6964ba7719f7b2.jpg 22.0\n",
      "4 1-3d78e56849a16c0b17831129f6059e367574a138_8560eccb0f16269a00f2d6c6a5fab7419529c803_instant.jpg 15.0\n",
      "5 1-947a57fc1b94be1fb8a5cce439cd8112016648b1_b151d6624e13c4d31f300f909ebb63577e42a730_instant.jpg 19.0\n",
      "6 1-1f43f59e9f5ead12a13b1cd892a8757242367189_9cd89303dd466e6b178399f8d02b12aae69ec707_instant.jpg 14.0\n",
      "7 1-85fde97a518625ed46589a6be46300e36c3ad0d9_6626ee8bedc11ff89bd5a6205d10710e72ed9801_instant_210319.jpg 16.0\n",
      "8 1-e50b5a99fd9bab50130099c750df6d80f50a9b4e_fdafeaf4b1ec0417f969870e07a0d6401488df85_instant.jpg 17.0\n",
      "9 1-0d8eabdfed2cb1f0d455e5a2050d78ba39ae6cff_0665c9464c856662322717999ae3d8301ff48907_instant.jpg 11.0\n",
      "10 2-746ba8ac1301085b9f8d8d96beb3bf7f9e7a4605_ecc100d2cbc4a9fc70c2fde3eafaadb6ceb588ca_instant.jpg 29.0\n"
     ]
    },
    {
     "data": {
      "text/html": [
       "<div>\n",
       "<style scoped>\n",
       "    .dataframe tbody tr th:only-of-type {\n",
       "        vertical-align: middle;\n",
       "    }\n",
       "\n",
       "    .dataframe tbody tr th {\n",
       "        vertical-align: top;\n",
       "    }\n",
       "\n",
       "    .dataframe thead th {\n",
       "        text-align: right;\n",
       "    }\n",
       "</style>\n",
       "<table border=\"1\" class=\"dataframe\">\n",
       "  <thead>\n",
       "    <tr style=\"text-align: right;\">\n",
       "      <th></th>\n",
       "      <th>model</th>\n",
       "      <th>subseq</th>\n",
       "      <th>peaks</th>\n",
       "      <th>binary</th>\n",
       "      <th>mwa</th>\n",
       "    </tr>\n",
       "  </thead>\n",
       "  <tbody>\n",
       "    <tr>\n",
       "      <th>0</th>\n",
       "      <td>Polar Canny(blur otsu)</td>\n",
       "      <td>13.919944</td>\n",
       "      <td>15.391834</td>\n",
       "      <td>112.019315</td>\n",
       "      <td>66.941872</td>\n",
       "    </tr>\n",
       "  </tbody>\n",
       "</table>\n",
       "</div>"
      ],
      "text/plain": [
       "                    model     subseq      peaks      binary        mwa\n",
       "0  Polar Canny(blur otsu)  13.919944  15.391834  112.019315  66.941872"
      ]
     },
     "metadata": {},
     "output_type": "display_data"
    }
   ],
   "source": [
    "with_model(Model.POLAR_CANNY_EDGE_BLUR_OTSU, lines, points, data_dir, ranking_url, pith_url, rings_url, mse_url)"
   ]
  },
  {
   "cell_type": "code",
   "execution_count": 36,
   "id": "4a5752ee",
   "metadata": {},
   "outputs": [
    {
     "name": "stdout",
     "output_type": "stream",
     "text": [
      "0 2-34e23370868237a073d086fb64851017e9b2c8c9_85903b8cb210e9ad54581e7a37999bcd5fb18443_instant.jpg 87.0\n",
      "1 1-5d205d5ea6bafd3c2e038cf1139cdd5a9825388f_275cb29ffc473512447ce75ff34baa4ecea7276d_instant_210319.jpg 59.666666666666664\n",
      "2 1-11c00bf7cc3e03dc86bde8a20c8ab390b0b2f2a4_d5d5dbc0f05ff34587375f4a567740b61c4731a6_instant_210319.jpg 18.0\n",
      "3 2-8c5de8aa63e57b1e5d3a11ce4c4e2ded042b2ef3_0693ab68bf2278539a3733129d6964ba7719f7b2.jpg 22.0\n",
      "4 1-3d78e56849a16c0b17831129f6059e367574a138_8560eccb0f16269a00f2d6c6a5fab7419529c803_instant.jpg 15.0\n",
      "5 1-947a57fc1b94be1fb8a5cce439cd8112016648b1_b151d6624e13c4d31f300f909ebb63577e42a730_instant.jpg 19.0\n",
      "6 1-1f43f59e9f5ead12a13b1cd892a8757242367189_9cd89303dd466e6b178399f8d02b12aae69ec707_instant.jpg 14.0\n",
      "7 1-85fde97a518625ed46589a6be46300e36c3ad0d9_6626ee8bedc11ff89bd5a6205d10710e72ed9801_instant_210319.jpg 16.0\n",
      "8 1-e50b5a99fd9bab50130099c750df6d80f50a9b4e_fdafeaf4b1ec0417f969870e07a0d6401488df85_instant.jpg 17.0\n",
      "9 1-0d8eabdfed2cb1f0d455e5a2050d78ba39ae6cff_0665c9464c856662322717999ae3d8301ff48907_instant.jpg 11.0\n",
      "10 2-746ba8ac1301085b9f8d8d96beb3bf7f9e7a4605_ecc100d2cbc4a9fc70c2fde3eafaadb6ceb588ca_instant.jpg 29.0\n"
     ]
    },
    {
     "data": {
      "text/html": [
       "<div>\n",
       "<style scoped>\n",
       "    .dataframe tbody tr th:only-of-type {\n",
       "        vertical-align: middle;\n",
       "    }\n",
       "\n",
       "    .dataframe tbody tr th {\n",
       "        vertical-align: top;\n",
       "    }\n",
       "\n",
       "    .dataframe thead th {\n",
       "        text-align: right;\n",
       "    }\n",
       "</style>\n",
       "<table border=\"1\" class=\"dataframe\">\n",
       "  <thead>\n",
       "    <tr style=\"text-align: right;\">\n",
       "      <th></th>\n",
       "      <th>model</th>\n",
       "      <th>subseq</th>\n",
       "      <th>peaks</th>\n",
       "      <th>binary</th>\n",
       "      <th>mwa</th>\n",
       "    </tr>\n",
       "  </thead>\n",
       "  <tbody>\n",
       "    <tr>\n",
       "      <th>0</th>\n",
       "      <td>Polar Canny(blur triangle)</td>\n",
       "      <td>43.036805</td>\n",
       "      <td>33.493111</td>\n",
       "      <td>211.645589</td>\n",
       "      <td>152.808067</td>\n",
       "    </tr>\n",
       "  </tbody>\n",
       "</table>\n",
       "</div>"
      ],
      "text/plain": [
       "                        model     subseq      peaks      binary         mwa\n",
       "0  Polar Canny(blur triangle)  43.036805  33.493111  211.645589  152.808067"
      ]
     },
     "metadata": {},
     "output_type": "display_data"
    }
   ],
   "source": [
    "with_model(Model.POLAR_CANNY_EDGE_BLUR_TRIANGLE, lines, points, data_dir, ranking_url, pith_url, rings_url, mse_url)"
   ]
  },
  {
   "cell_type": "code",
   "execution_count": 37,
   "id": "d1eef189",
   "metadata": {},
   "outputs": [
    {
     "name": "stdout",
     "output_type": "stream",
     "text": [
      "0 2-34e23370868237a073d086fb64851017e9b2c8c9_85903b8cb210e9ad54581e7a37999bcd5fb18443_instant.jpg 87.0\n",
      "1 1-5d205d5ea6bafd3c2e038cf1139cdd5a9825388f_275cb29ffc473512447ce75ff34baa4ecea7276d_instant_210319.jpg 59.666666666666664\n",
      "2 1-11c00bf7cc3e03dc86bde8a20c8ab390b0b2f2a4_d5d5dbc0f05ff34587375f4a567740b61c4731a6_instant_210319.jpg 18.0\n",
      "3 2-8c5de8aa63e57b1e5d3a11ce4c4e2ded042b2ef3_0693ab68bf2278539a3733129d6964ba7719f7b2.jpg 22.0\n",
      "4 1-3d78e56849a16c0b17831129f6059e367574a138_8560eccb0f16269a00f2d6c6a5fab7419529c803_instant.jpg 15.0\n",
      "5 1-947a57fc1b94be1fb8a5cce439cd8112016648b1_b151d6624e13c4d31f300f909ebb63577e42a730_instant.jpg 19.0\n",
      "6 1-1f43f59e9f5ead12a13b1cd892a8757242367189_9cd89303dd466e6b178399f8d02b12aae69ec707_instant.jpg 14.0\n",
      "7 1-85fde97a518625ed46589a6be46300e36c3ad0d9_6626ee8bedc11ff89bd5a6205d10710e72ed9801_instant_210319.jpg 16.0\n",
      "8 1-e50b5a99fd9bab50130099c750df6d80f50a9b4e_fdafeaf4b1ec0417f969870e07a0d6401488df85_instant.jpg 17.0\n",
      "9 1-0d8eabdfed2cb1f0d455e5a2050d78ba39ae6cff_0665c9464c856662322717999ae3d8301ff48907_instant.jpg 11.0\n",
      "10 2-746ba8ac1301085b9f8d8d96beb3bf7f9e7a4605_ecc100d2cbc4a9fc70c2fde3eafaadb6ceb588ca_instant.jpg 29.0\n"
     ]
    },
    {
     "data": {
      "text/html": [
       "<div>\n",
       "<style scoped>\n",
       "    .dataframe tbody tr th:only-of-type {\n",
       "        vertical-align: middle;\n",
       "    }\n",
       "\n",
       "    .dataframe tbody tr th {\n",
       "        vertical-align: top;\n",
       "    }\n",
       "\n",
       "    .dataframe thead th {\n",
       "        text-align: right;\n",
       "    }\n",
       "</style>\n",
       "<table border=\"1\" class=\"dataframe\">\n",
       "  <thead>\n",
       "    <tr style=\"text-align: right;\">\n",
       "      <th></th>\n",
       "      <th>model</th>\n",
       "      <th>subseq</th>\n",
       "      <th>peaks</th>\n",
       "      <th>binary</th>\n",
       "      <th>mwa</th>\n",
       "    </tr>\n",
       "  </thead>\n",
       "  <tbody>\n",
       "    <tr>\n",
       "      <th>0</th>\n",
       "      <td>Polar Canny(blur manual)</td>\n",
       "      <td>27.310113</td>\n",
       "      <td>28.353097</td>\n",
       "      <td>40.198004</td>\n",
       "      <td>22.803647</td>\n",
       "    </tr>\n",
       "  </tbody>\n",
       "</table>\n",
       "</div>"
      ],
      "text/plain": [
       "                      model     subseq      peaks     binary        mwa\n",
       "0  Polar Canny(blur manual)  27.310113  28.353097  40.198004  22.803647"
      ]
     },
     "metadata": {},
     "output_type": "display_data"
    }
   ],
   "source": [
    "with_model(Model.POLAR_CANNY_EDGE_BLUR_MANUAL, lines, points, data_dir, ranking_url, pith_url, rings_url, mse_url)"
   ]
  },
  {
   "cell_type": "code",
   "execution_count": 38,
   "id": "a2c63b76",
   "metadata": {},
   "outputs": [
    {
     "name": "stdout",
     "output_type": "stream",
     "text": [
      "0 2-34e23370868237a073d086fb64851017e9b2c8c9_85903b8cb210e9ad54581e7a37999bcd5fb18443_instant.jpg 87.0\n",
      "1 1-5d205d5ea6bafd3c2e038cf1139cdd5a9825388f_275cb29ffc473512447ce75ff34baa4ecea7276d_instant_210319.jpg 59.666666666666664\n",
      "2 1-11c00bf7cc3e03dc86bde8a20c8ab390b0b2f2a4_d5d5dbc0f05ff34587375f4a567740b61c4731a6_instant_210319.jpg 18.0\n",
      "3 2-8c5de8aa63e57b1e5d3a11ce4c4e2ded042b2ef3_0693ab68bf2278539a3733129d6964ba7719f7b2.jpg 22.0\n",
      "4 1-3d78e56849a16c0b17831129f6059e367574a138_8560eccb0f16269a00f2d6c6a5fab7419529c803_instant.jpg 15.0\n",
      "5 1-947a57fc1b94be1fb8a5cce439cd8112016648b1_b151d6624e13c4d31f300f909ebb63577e42a730_instant.jpg 19.0\n",
      "6 1-1f43f59e9f5ead12a13b1cd892a8757242367189_9cd89303dd466e6b178399f8d02b12aae69ec707_instant.jpg 14.0\n",
      "7 1-85fde97a518625ed46589a6be46300e36c3ad0d9_6626ee8bedc11ff89bd5a6205d10710e72ed9801_instant_210319.jpg 16.0\n",
      "8 1-e50b5a99fd9bab50130099c750df6d80f50a9b4e_fdafeaf4b1ec0417f969870e07a0d6401488df85_instant.jpg 17.0\n",
      "9 1-0d8eabdfed2cb1f0d455e5a2050d78ba39ae6cff_0665c9464c856662322717999ae3d8301ff48907_instant.jpg 11.0\n",
      "10 2-746ba8ac1301085b9f8d8d96beb3bf7f9e7a4605_ecc100d2cbc4a9fc70c2fde3eafaadb6ceb588ca_instant.jpg 29.0\n"
     ]
    },
    {
     "data": {
      "text/html": [
       "<div>\n",
       "<style scoped>\n",
       "    .dataframe tbody tr th:only-of-type {\n",
       "        vertical-align: middle;\n",
       "    }\n",
       "\n",
       "    .dataframe tbody tr th {\n",
       "        vertical-align: top;\n",
       "    }\n",
       "\n",
       "    .dataframe thead th {\n",
       "        text-align: right;\n",
       "    }\n",
       "</style>\n",
       "<table border=\"1\" class=\"dataframe\">\n",
       "  <thead>\n",
       "    <tr style=\"text-align: right;\">\n",
       "      <th></th>\n",
       "      <th>model</th>\n",
       "      <th>subseq</th>\n",
       "      <th>peaks</th>\n",
       "      <th>binary</th>\n",
       "      <th>mwa</th>\n",
       "    </tr>\n",
       "  </thead>\n",
       "  <tbody>\n",
       "    <tr>\n",
       "      <th>0</th>\n",
       "      <td>Polar Laplacian</td>\n",
       "      <td>417.527133</td>\n",
       "      <td>122.881059</td>\n",
       "      <td>397.145559</td>\n",
       "      <td>151.297317</td>\n",
       "    </tr>\n",
       "  </tbody>\n",
       "</table>\n",
       "</div>"
      ],
      "text/plain": [
       "             model      subseq       peaks      binary         mwa\n",
       "0  Polar Laplacian  417.527133  122.881059  397.145559  151.297317"
      ]
     },
     "metadata": {},
     "output_type": "display_data"
    }
   ],
   "source": [
    "with_model(Model.POLAR_LAPLACIAN_EDGE, lines, points, data_dir, ranking_url, pith_url, rings_url, mse_url)"
   ]
  },
  {
   "cell_type": "code",
   "execution_count": 39,
   "id": "055f80d8",
   "metadata": {},
   "outputs": [
    {
     "name": "stdout",
     "output_type": "stream",
     "text": [
      "0 2-34e23370868237a073d086fb64851017e9b2c8c9_85903b8cb210e9ad54581e7a37999bcd5fb18443_instant.jpg 87.0\n",
      "1 1-5d205d5ea6bafd3c2e038cf1139cdd5a9825388f_275cb29ffc473512447ce75ff34baa4ecea7276d_instant_210319.jpg 59.666666666666664\n",
      "2 1-11c00bf7cc3e03dc86bde8a20c8ab390b0b2f2a4_d5d5dbc0f05ff34587375f4a567740b61c4731a6_instant_210319.jpg 18.0\n",
      "3 2-8c5de8aa63e57b1e5d3a11ce4c4e2ded042b2ef3_0693ab68bf2278539a3733129d6964ba7719f7b2.jpg 22.0\n",
      "4 1-3d78e56849a16c0b17831129f6059e367574a138_8560eccb0f16269a00f2d6c6a5fab7419529c803_instant.jpg 15.0\n",
      "5 1-947a57fc1b94be1fb8a5cce439cd8112016648b1_b151d6624e13c4d31f300f909ebb63577e42a730_instant.jpg 19.0\n",
      "6 1-1f43f59e9f5ead12a13b1cd892a8757242367189_9cd89303dd466e6b178399f8d02b12aae69ec707_instant.jpg 14.0\n",
      "7 1-85fde97a518625ed46589a6be46300e36c3ad0d9_6626ee8bedc11ff89bd5a6205d10710e72ed9801_instant_210319.jpg 16.0\n",
      "8 1-e50b5a99fd9bab50130099c750df6d80f50a9b4e_fdafeaf4b1ec0417f969870e07a0d6401488df85_instant.jpg 17.0\n",
      "9 1-0d8eabdfed2cb1f0d455e5a2050d78ba39ae6cff_0665c9464c856662322717999ae3d8301ff48907_instant.jpg 11.0\n",
      "10 2-746ba8ac1301085b9f8d8d96beb3bf7f9e7a4605_ecc100d2cbc4a9fc70c2fde3eafaadb6ceb588ca_instant.jpg 29.0\n"
     ]
    },
    {
     "data": {
      "text/html": [
       "<div>\n",
       "<style scoped>\n",
       "    .dataframe tbody tr th:only-of-type {\n",
       "        vertical-align: middle;\n",
       "    }\n",
       "\n",
       "    .dataframe tbody tr th {\n",
       "        vertical-align: top;\n",
       "    }\n",
       "\n",
       "    .dataframe thead th {\n",
       "        text-align: right;\n",
       "    }\n",
       "</style>\n",
       "<table border=\"1\" class=\"dataframe\">\n",
       "  <thead>\n",
       "    <tr style=\"text-align: right;\">\n",
       "      <th></th>\n",
       "      <th>model</th>\n",
       "      <th>subseq</th>\n",
       "      <th>peaks</th>\n",
       "      <th>binary</th>\n",
       "      <th>mwa</th>\n",
       "    </tr>\n",
       "  </thead>\n",
       "  <tbody>\n",
       "    <tr>\n",
       "      <th>0</th>\n",
       "      <td>Polar Laplacian(blur)</td>\n",
       "      <td>320.385318</td>\n",
       "      <td>28.414121</td>\n",
       "      <td>333.388729</td>\n",
       "      <td>33.63399</td>\n",
       "    </tr>\n",
       "  </tbody>\n",
       "</table>\n",
       "</div>"
      ],
      "text/plain": [
       "                   model      subseq      peaks      binary       mwa\n",
       "0  Polar Laplacian(blur)  320.385318  28.414121  333.388729  33.63399"
      ]
     },
     "metadata": {},
     "output_type": "display_data"
    }
   ],
   "source": [
    "with_model(Model.POLAR_LAPLACIAN_EDGE_BLUR, lines, points, data_dir, ranking_url, pith_url, rings_url, mse_url)"
   ]
  },
  {
   "cell_type": "code",
   "execution_count": null,
   "id": "717b358e",
   "metadata": {},
   "outputs": [],
   "source": []
  },
  {
   "cell_type": "code",
   "execution_count": 40,
   "id": "4000d64b",
   "metadata": {},
   "outputs": [
    {
     "name": "stdout",
     "output_type": "stream",
     "text": [
      "0 2-34e23370868237a073d086fb64851017e9b2c8c9_85903b8cb210e9ad54581e7a37999bcd5fb18443_instant.jpg 87.0\n",
      "1 1-5d205d5ea6bafd3c2e038cf1139cdd5a9825388f_275cb29ffc473512447ce75ff34baa4ecea7276d_instant_210319.jpg 59.666666666666664\n",
      "2 1-11c00bf7cc3e03dc86bde8a20c8ab390b0b2f2a4_d5d5dbc0f05ff34587375f4a567740b61c4731a6_instant_210319.jpg 18.0\n",
      "3 2-8c5de8aa63e57b1e5d3a11ce4c4e2ded042b2ef3_0693ab68bf2278539a3733129d6964ba7719f7b2.jpg 22.0\n",
      "4 1-3d78e56849a16c0b17831129f6059e367574a138_8560eccb0f16269a00f2d6c6a5fab7419529c803_instant.jpg 15.0\n",
      "5 1-947a57fc1b94be1fb8a5cce439cd8112016648b1_b151d6624e13c4d31f300f909ebb63577e42a730_instant.jpg 19.0\n",
      "6 1-1f43f59e9f5ead12a13b1cd892a8757242367189_9cd89303dd466e6b178399f8d02b12aae69ec707_instant.jpg 14.0\n",
      "7 1-85fde97a518625ed46589a6be46300e36c3ad0d9_6626ee8bedc11ff89bd5a6205d10710e72ed9801_instant_210319.jpg 16.0\n",
      "8 1-e50b5a99fd9bab50130099c750df6d80f50a9b4e_fdafeaf4b1ec0417f969870e07a0d6401488df85_instant.jpg 17.0\n",
      "9 1-0d8eabdfed2cb1f0d455e5a2050d78ba39ae6cff_0665c9464c856662322717999ae3d8301ff48907_instant.jpg 11.0\n",
      "10 2-746ba8ac1301085b9f8d8d96beb3bf7f9e7a4605_ecc100d2cbc4a9fc70c2fde3eafaadb6ceb588ca_instant.jpg 29.0\n"
     ]
    },
    {
     "data": {
      "text/html": [
       "<div>\n",
       "<style scoped>\n",
       "    .dataframe tbody tr th:only-of-type {\n",
       "        vertical-align: middle;\n",
       "    }\n",
       "\n",
       "    .dataframe tbody tr th {\n",
       "        vertical-align: top;\n",
       "    }\n",
       "\n",
       "    .dataframe thead th {\n",
       "        text-align: right;\n",
       "    }\n",
       "</style>\n",
       "<table border=\"1\" class=\"dataframe\">\n",
       "  <thead>\n",
       "    <tr style=\"text-align: right;\">\n",
       "      <th></th>\n",
       "      <th>model</th>\n",
       "      <th>subseq</th>\n",
       "      <th>peaks</th>\n",
       "      <th>binary</th>\n",
       "      <th>mwa</th>\n",
       "    </tr>\n",
       "  </thead>\n",
       "  <tbody>\n",
       "    <tr>\n",
       "      <th>0</th>\n",
       "      <td>Polar Pith Sobel</td>\n",
       "      <td>286.104781</td>\n",
       "      <td>32.389474</td>\n",
       "      <td>286.983364</td>\n",
       "      <td>64.812126</td>\n",
       "    </tr>\n",
       "  </tbody>\n",
       "</table>\n",
       "</div>"
      ],
      "text/plain": [
       "              model      subseq      peaks      binary        mwa\n",
       "0  Polar Pith Sobel  286.104781  32.389474  286.983364  64.812126"
      ]
     },
     "metadata": {},
     "output_type": "display_data"
    }
   ],
   "source": [
    "with_model(Model.POLAR_PITH_SOBEL_EDGE, lines, points, data_dir, ranking_url, pith_url, rings_url, mse_url)"
   ]
  },
  {
   "cell_type": "code",
   "execution_count": 41,
   "id": "eec08ac6",
   "metadata": {},
   "outputs": [
    {
     "name": "stdout",
     "output_type": "stream",
     "text": [
      "0 2-34e23370868237a073d086fb64851017e9b2c8c9_85903b8cb210e9ad54581e7a37999bcd5fb18443_instant.jpg 87.0\n",
      "1 1-5d205d5ea6bafd3c2e038cf1139cdd5a9825388f_275cb29ffc473512447ce75ff34baa4ecea7276d_instant_210319.jpg 59.666666666666664\n",
      "2 1-11c00bf7cc3e03dc86bde8a20c8ab390b0b2f2a4_d5d5dbc0f05ff34587375f4a567740b61c4731a6_instant_210319.jpg 18.0\n",
      "3 2-8c5de8aa63e57b1e5d3a11ce4c4e2ded042b2ef3_0693ab68bf2278539a3733129d6964ba7719f7b2.jpg 22.0\n",
      "4 1-3d78e56849a16c0b17831129f6059e367574a138_8560eccb0f16269a00f2d6c6a5fab7419529c803_instant.jpg 15.0\n",
      "5 1-947a57fc1b94be1fb8a5cce439cd8112016648b1_b151d6624e13c4d31f300f909ebb63577e42a730_instant.jpg 19.0\n",
      "6 1-1f43f59e9f5ead12a13b1cd892a8757242367189_9cd89303dd466e6b178399f8d02b12aae69ec707_instant.jpg 14.0\n",
      "7 1-85fde97a518625ed46589a6be46300e36c3ad0d9_6626ee8bedc11ff89bd5a6205d10710e72ed9801_instant_210319.jpg 16.0\n",
      "8 1-e50b5a99fd9bab50130099c750df6d80f50a9b4e_fdafeaf4b1ec0417f969870e07a0d6401488df85_instant.jpg 17.0\n",
      "9 1-0d8eabdfed2cb1f0d455e5a2050d78ba39ae6cff_0665c9464c856662322717999ae3d8301ff48907_instant.jpg 11.0\n",
      "10 2-746ba8ac1301085b9f8d8d96beb3bf7f9e7a4605_ecc100d2cbc4a9fc70c2fde3eafaadb6ceb588ca_instant.jpg 29.0\n"
     ]
    },
    {
     "data": {
      "text/html": [
       "<div>\n",
       "<style scoped>\n",
       "    .dataframe tbody tr th:only-of-type {\n",
       "        vertical-align: middle;\n",
       "    }\n",
       "\n",
       "    .dataframe tbody tr th {\n",
       "        vertical-align: top;\n",
       "    }\n",
       "\n",
       "    .dataframe thead th {\n",
       "        text-align: right;\n",
       "    }\n",
       "</style>\n",
       "<table border=\"1\" class=\"dataframe\">\n",
       "  <thead>\n",
       "    <tr style=\"text-align: right;\">\n",
       "      <th></th>\n",
       "      <th>model</th>\n",
       "      <th>subseq</th>\n",
       "      <th>peaks</th>\n",
       "      <th>binary</th>\n",
       "      <th>mwa</th>\n",
       "    </tr>\n",
       "  </thead>\n",
       "  <tbody>\n",
       "    <tr>\n",
       "      <th>0</th>\n",
       "      <td>Polar Pith Sobel(blur)</td>\n",
       "      <td>220.348598</td>\n",
       "      <td>15.468701</td>\n",
       "      <td>241.251049</td>\n",
       "      <td>34.261376</td>\n",
       "    </tr>\n",
       "  </tbody>\n",
       "</table>\n",
       "</div>"
      ],
      "text/plain": [
       "                    model      subseq      peaks      binary        mwa\n",
       "0  Polar Pith Sobel(blur)  220.348598  15.468701  241.251049  34.261376"
      ]
     },
     "metadata": {},
     "output_type": "display_data"
    }
   ],
   "source": [
    "with_model(Model.POLAR_PITH_SOBEL_EDGE_BLUR, lines, points, data_dir, ranking_url, pith_url, rings_url, mse_url)"
   ]
  },
  {
   "cell_type": "code",
   "execution_count": 42,
   "id": "97fb7a77",
   "metadata": {},
   "outputs": [
    {
     "name": "stdout",
     "output_type": "stream",
     "text": [
      "0 2-34e23370868237a073d086fb64851017e9b2c8c9_85903b8cb210e9ad54581e7a37999bcd5fb18443_instant.jpg 87.0\n",
      "1 1-5d205d5ea6bafd3c2e038cf1139cdd5a9825388f_275cb29ffc473512447ce75ff34baa4ecea7276d_instant_210319.jpg 59.666666666666664\n",
      "2 1-11c00bf7cc3e03dc86bde8a20c8ab390b0b2f2a4_d5d5dbc0f05ff34587375f4a567740b61c4731a6_instant_210319.jpg 18.0\n",
      "3 2-8c5de8aa63e57b1e5d3a11ce4c4e2ded042b2ef3_0693ab68bf2278539a3733129d6964ba7719f7b2.jpg 22.0\n",
      "4 1-3d78e56849a16c0b17831129f6059e367574a138_8560eccb0f16269a00f2d6c6a5fab7419529c803_instant.jpg 15.0\n",
      "5 1-947a57fc1b94be1fb8a5cce439cd8112016648b1_b151d6624e13c4d31f300f909ebb63577e42a730_instant.jpg 19.0\n",
      "6 1-1f43f59e9f5ead12a13b1cd892a8757242367189_9cd89303dd466e6b178399f8d02b12aae69ec707_instant.jpg 14.0\n",
      "7 1-85fde97a518625ed46589a6be46300e36c3ad0d9_6626ee8bedc11ff89bd5a6205d10710e72ed9801_instant_210319.jpg 16.0\n",
      "8 1-e50b5a99fd9bab50130099c750df6d80f50a9b4e_fdafeaf4b1ec0417f969870e07a0d6401488df85_instant.jpg 17.0\n",
      "9 1-0d8eabdfed2cb1f0d455e5a2050d78ba39ae6cff_0665c9464c856662322717999ae3d8301ff48907_instant.jpg 11.0\n",
      "10 2-746ba8ac1301085b9f8d8d96beb3bf7f9e7a4605_ecc100d2cbc4a9fc70c2fde3eafaadb6ceb588ca_instant.jpg 29.0\n"
     ]
    },
    {
     "data": {
      "text/html": [
       "<div>\n",
       "<style scoped>\n",
       "    .dataframe tbody tr th:only-of-type {\n",
       "        vertical-align: middle;\n",
       "    }\n",
       "\n",
       "    .dataframe tbody tr th {\n",
       "        vertical-align: top;\n",
       "    }\n",
       "\n",
       "    .dataframe thead th {\n",
       "        text-align: right;\n",
       "    }\n",
       "</style>\n",
       "<table border=\"1\" class=\"dataframe\">\n",
       "  <thead>\n",
       "    <tr style=\"text-align: right;\">\n",
       "      <th></th>\n",
       "      <th>model</th>\n",
       "      <th>subseq</th>\n",
       "      <th>peaks</th>\n",
       "      <th>binary</th>\n",
       "      <th>mwa</th>\n",
       "    </tr>\n",
       "  </thead>\n",
       "  <tbody>\n",
       "    <tr>\n",
       "      <th>0</th>\n",
       "      <td>Polar Pith Canny</td>\n",
       "      <td>21.421159</td>\n",
       "      <td>15.838079</td>\n",
       "      <td>150.077712</td>\n",
       "      <td>99.904861</td>\n",
       "    </tr>\n",
       "  </tbody>\n",
       "</table>\n",
       "</div>"
      ],
      "text/plain": [
       "              model     subseq      peaks      binary        mwa\n",
       "0  Polar Pith Canny  21.421159  15.838079  150.077712  99.904861"
      ]
     },
     "metadata": {},
     "output_type": "display_data"
    }
   ],
   "source": [
    "with_model(Model.POLAR_PITH_CANNY_EDGE, lines, points, data_dir, ranking_url, pith_url, rings_url, mse_url)"
   ]
  },
  {
   "cell_type": "code",
   "execution_count": 43,
   "id": "016625dd",
   "metadata": {},
   "outputs": [
    {
     "name": "stdout",
     "output_type": "stream",
     "text": [
      "0 2-34e23370868237a073d086fb64851017e9b2c8c9_85903b8cb210e9ad54581e7a37999bcd5fb18443_instant.jpg 87.0\n",
      "1 1-5d205d5ea6bafd3c2e038cf1139cdd5a9825388f_275cb29ffc473512447ce75ff34baa4ecea7276d_instant_210319.jpg 59.666666666666664\n",
      "2 1-11c00bf7cc3e03dc86bde8a20c8ab390b0b2f2a4_d5d5dbc0f05ff34587375f4a567740b61c4731a6_instant_210319.jpg 18.0\n",
      "3 2-8c5de8aa63e57b1e5d3a11ce4c4e2ded042b2ef3_0693ab68bf2278539a3733129d6964ba7719f7b2.jpg 22.0\n",
      "4 1-3d78e56849a16c0b17831129f6059e367574a138_8560eccb0f16269a00f2d6c6a5fab7419529c803_instant.jpg 15.0\n",
      "5 1-947a57fc1b94be1fb8a5cce439cd8112016648b1_b151d6624e13c4d31f300f909ebb63577e42a730_instant.jpg 19.0\n",
      "6 1-1f43f59e9f5ead12a13b1cd892a8757242367189_9cd89303dd466e6b178399f8d02b12aae69ec707_instant.jpg 14.0\n",
      "7 1-85fde97a518625ed46589a6be46300e36c3ad0d9_6626ee8bedc11ff89bd5a6205d10710e72ed9801_instant_210319.jpg 16.0\n",
      "8 1-e50b5a99fd9bab50130099c750df6d80f50a9b4e_fdafeaf4b1ec0417f969870e07a0d6401488df85_instant.jpg 17.0\n",
      "9 1-0d8eabdfed2cb1f0d455e5a2050d78ba39ae6cff_0665c9464c856662322717999ae3d8301ff48907_instant.jpg 11.0\n",
      "10 2-746ba8ac1301085b9f8d8d96beb3bf7f9e7a4605_ecc100d2cbc4a9fc70c2fde3eafaadb6ceb588ca_instant.jpg 29.0\n"
     ]
    },
    {
     "data": {
      "text/html": [
       "<div>\n",
       "<style scoped>\n",
       "    .dataframe tbody tr th:only-of-type {\n",
       "        vertical-align: middle;\n",
       "    }\n",
       "\n",
       "    .dataframe tbody tr th {\n",
       "        vertical-align: top;\n",
       "    }\n",
       "\n",
       "    .dataframe thead th {\n",
       "        text-align: right;\n",
       "    }\n",
       "</style>\n",
       "<table border=\"1\" class=\"dataframe\">\n",
       "  <thead>\n",
       "    <tr style=\"text-align: right;\">\n",
       "      <th></th>\n",
       "      <th>model</th>\n",
       "      <th>subseq</th>\n",
       "      <th>peaks</th>\n",
       "      <th>binary</th>\n",
       "      <th>mwa</th>\n",
       "    </tr>\n",
       "  </thead>\n",
       "  <tbody>\n",
       "    <tr>\n",
       "      <th>0</th>\n",
       "      <td>Polar Pith Canny(otsu)</td>\n",
       "      <td>21.980593</td>\n",
       "      <td>15.943679</td>\n",
       "      <td>154.121711</td>\n",
       "      <td>102.704536</td>\n",
       "    </tr>\n",
       "  </tbody>\n",
       "</table>\n",
       "</div>"
      ],
      "text/plain": [
       "                    model     subseq      peaks      binary         mwa\n",
       "0  Polar Pith Canny(otsu)  21.980593  15.943679  154.121711  102.704536"
      ]
     },
     "metadata": {},
     "output_type": "display_data"
    }
   ],
   "source": [
    "with_model(Model.POLAR_PITH_CANNY_EDGE_OTSU, lines, points, data_dir, ranking_url, pith_url, rings_url, mse_url)"
   ]
  },
  {
   "cell_type": "code",
   "execution_count": 44,
   "id": "300f771c",
   "metadata": {},
   "outputs": [
    {
     "name": "stdout",
     "output_type": "stream",
     "text": [
      "0 2-34e23370868237a073d086fb64851017e9b2c8c9_85903b8cb210e9ad54581e7a37999bcd5fb18443_instant.jpg 87.0\n",
      "1 1-5d205d5ea6bafd3c2e038cf1139cdd5a9825388f_275cb29ffc473512447ce75ff34baa4ecea7276d_instant_210319.jpg 59.666666666666664\n",
      "2 1-11c00bf7cc3e03dc86bde8a20c8ab390b0b2f2a4_d5d5dbc0f05ff34587375f4a567740b61c4731a6_instant_210319.jpg 18.0\n",
      "3 2-8c5de8aa63e57b1e5d3a11ce4c4e2ded042b2ef3_0693ab68bf2278539a3733129d6964ba7719f7b2.jpg 22.0\n",
      "4 1-3d78e56849a16c0b17831129f6059e367574a138_8560eccb0f16269a00f2d6c6a5fab7419529c803_instant.jpg 15.0\n",
      "5 1-947a57fc1b94be1fb8a5cce439cd8112016648b1_b151d6624e13c4d31f300f909ebb63577e42a730_instant.jpg 19.0\n",
      "6 1-1f43f59e9f5ead12a13b1cd892a8757242367189_9cd89303dd466e6b178399f8d02b12aae69ec707_instant.jpg 14.0\n",
      "7 1-85fde97a518625ed46589a6be46300e36c3ad0d9_6626ee8bedc11ff89bd5a6205d10710e72ed9801_instant_210319.jpg 16.0\n",
      "8 1-e50b5a99fd9bab50130099c750df6d80f50a9b4e_fdafeaf4b1ec0417f969870e07a0d6401488df85_instant.jpg 17.0\n",
      "9 1-0d8eabdfed2cb1f0d455e5a2050d78ba39ae6cff_0665c9464c856662322717999ae3d8301ff48907_instant.jpg 11.0\n",
      "10 2-746ba8ac1301085b9f8d8d96beb3bf7f9e7a4605_ecc100d2cbc4a9fc70c2fde3eafaadb6ceb588ca_instant.jpg 29.0\n"
     ]
    },
    {
     "data": {
      "text/html": [
       "<div>\n",
       "<style scoped>\n",
       "    .dataframe tbody tr th:only-of-type {\n",
       "        vertical-align: middle;\n",
       "    }\n",
       "\n",
       "    .dataframe tbody tr th {\n",
       "        vertical-align: top;\n",
       "    }\n",
       "\n",
       "    .dataframe thead th {\n",
       "        text-align: right;\n",
       "    }\n",
       "</style>\n",
       "<table border=\"1\" class=\"dataframe\">\n",
       "  <thead>\n",
       "    <tr style=\"text-align: right;\">\n",
       "      <th></th>\n",
       "      <th>model</th>\n",
       "      <th>subseq</th>\n",
       "      <th>peaks</th>\n",
       "      <th>binary</th>\n",
       "      <th>mwa</th>\n",
       "    </tr>\n",
       "  </thead>\n",
       "  <tbody>\n",
       "    <tr>\n",
       "      <th>0</th>\n",
       "      <td>Polar Pith Canny(triangle)</td>\n",
       "      <td>66.562081</td>\n",
       "      <td>45.61379</td>\n",
       "      <td>242.699634</td>\n",
       "      <td>175.464708</td>\n",
       "    </tr>\n",
       "  </tbody>\n",
       "</table>\n",
       "</div>"
      ],
      "text/plain": [
       "                        model     subseq     peaks      binary         mwa\n",
       "0  Polar Pith Canny(triangle)  66.562081  45.61379  242.699634  175.464708"
      ]
     },
     "metadata": {},
     "output_type": "display_data"
    }
   ],
   "source": [
    "with_model(Model.POLAR_PITH_CANNY_EDGE_TRIANGLE, lines, points, data_dir, ranking_url, pith_url, rings_url, mse_url)"
   ]
  },
  {
   "cell_type": "code",
   "execution_count": 45,
   "id": "b1a23908",
   "metadata": {},
   "outputs": [
    {
     "name": "stdout",
     "output_type": "stream",
     "text": [
      "0 2-34e23370868237a073d086fb64851017e9b2c8c9_85903b8cb210e9ad54581e7a37999bcd5fb18443_instant.jpg 87.0\n",
      "1 1-5d205d5ea6bafd3c2e038cf1139cdd5a9825388f_275cb29ffc473512447ce75ff34baa4ecea7276d_instant_210319.jpg 59.666666666666664\n",
      "2 1-11c00bf7cc3e03dc86bde8a20c8ab390b0b2f2a4_d5d5dbc0f05ff34587375f4a567740b61c4731a6_instant_210319.jpg 18.0\n",
      "3 2-8c5de8aa63e57b1e5d3a11ce4c4e2ded042b2ef3_0693ab68bf2278539a3733129d6964ba7719f7b2.jpg 22.0\n",
      "4 1-3d78e56849a16c0b17831129f6059e367574a138_8560eccb0f16269a00f2d6c6a5fab7419529c803_instant.jpg 15.0\n",
      "5 1-947a57fc1b94be1fb8a5cce439cd8112016648b1_b151d6624e13c4d31f300f909ebb63577e42a730_instant.jpg 19.0\n",
      "6 1-1f43f59e9f5ead12a13b1cd892a8757242367189_9cd89303dd466e6b178399f8d02b12aae69ec707_instant.jpg 14.0\n",
      "7 1-85fde97a518625ed46589a6be46300e36c3ad0d9_6626ee8bedc11ff89bd5a6205d10710e72ed9801_instant_210319.jpg 16.0\n",
      "8 1-e50b5a99fd9bab50130099c750df6d80f50a9b4e_fdafeaf4b1ec0417f969870e07a0d6401488df85_instant.jpg 17.0\n",
      "9 1-0d8eabdfed2cb1f0d455e5a2050d78ba39ae6cff_0665c9464c856662322717999ae3d8301ff48907_instant.jpg 11.0\n",
      "10 2-746ba8ac1301085b9f8d8d96beb3bf7f9e7a4605_ecc100d2cbc4a9fc70c2fde3eafaadb6ceb588ca_instant.jpg 29.0\n"
     ]
    },
    {
     "data": {
      "text/html": [
       "<div>\n",
       "<style scoped>\n",
       "    .dataframe tbody tr th:only-of-type {\n",
       "        vertical-align: middle;\n",
       "    }\n",
       "\n",
       "    .dataframe tbody tr th {\n",
       "        vertical-align: top;\n",
       "    }\n",
       "\n",
       "    .dataframe thead th {\n",
       "        text-align: right;\n",
       "    }\n",
       "</style>\n",
       "<table border=\"1\" class=\"dataframe\">\n",
       "  <thead>\n",
       "    <tr style=\"text-align: right;\">\n",
       "      <th></th>\n",
       "      <th>model</th>\n",
       "      <th>subseq</th>\n",
       "      <th>peaks</th>\n",
       "      <th>binary</th>\n",
       "      <th>mwa</th>\n",
       "    </tr>\n",
       "  </thead>\n",
       "  <tbody>\n",
       "    <tr>\n",
       "      <th>0</th>\n",
       "      <td>Polar Pith Canny(manual)</td>\n",
       "      <td>17.725119</td>\n",
       "      <td>19.93102</td>\n",
       "      <td>85.822225</td>\n",
       "      <td>50.889495</td>\n",
       "    </tr>\n",
       "  </tbody>\n",
       "</table>\n",
       "</div>"
      ],
      "text/plain": [
       "                      model     subseq     peaks     binary        mwa\n",
       "0  Polar Pith Canny(manual)  17.725119  19.93102  85.822225  50.889495"
      ]
     },
     "metadata": {},
     "output_type": "display_data"
    }
   ],
   "source": [
    "with_model(Model.POLAR_PITH_CANNY_EDGE_MANUAL, lines, points, data_dir, ranking_url, pith_url, rings_url, mse_url)"
   ]
  },
  {
   "cell_type": "code",
   "execution_count": 46,
   "id": "44bf39bb",
   "metadata": {},
   "outputs": [
    {
     "name": "stdout",
     "output_type": "stream",
     "text": [
      "0 2-34e23370868237a073d086fb64851017e9b2c8c9_85903b8cb210e9ad54581e7a37999bcd5fb18443_instant.jpg 87.0\n",
      "1 1-5d205d5ea6bafd3c2e038cf1139cdd5a9825388f_275cb29ffc473512447ce75ff34baa4ecea7276d_instant_210319.jpg 59.666666666666664\n",
      "2 1-11c00bf7cc3e03dc86bde8a20c8ab390b0b2f2a4_d5d5dbc0f05ff34587375f4a567740b61c4731a6_instant_210319.jpg 18.0\n",
      "3 2-8c5de8aa63e57b1e5d3a11ce4c4e2ded042b2ef3_0693ab68bf2278539a3733129d6964ba7719f7b2.jpg 22.0\n",
      "4 1-3d78e56849a16c0b17831129f6059e367574a138_8560eccb0f16269a00f2d6c6a5fab7419529c803_instant.jpg 15.0\n",
      "5 1-947a57fc1b94be1fb8a5cce439cd8112016648b1_b151d6624e13c4d31f300f909ebb63577e42a730_instant.jpg 19.0\n",
      "6 1-1f43f59e9f5ead12a13b1cd892a8757242367189_9cd89303dd466e6b178399f8d02b12aae69ec707_instant.jpg 14.0\n",
      "7 1-85fde97a518625ed46589a6be46300e36c3ad0d9_6626ee8bedc11ff89bd5a6205d10710e72ed9801_instant_210319.jpg 16.0\n",
      "8 1-e50b5a99fd9bab50130099c750df6d80f50a9b4e_fdafeaf4b1ec0417f969870e07a0d6401488df85_instant.jpg 17.0\n",
      "9 1-0d8eabdfed2cb1f0d455e5a2050d78ba39ae6cff_0665c9464c856662322717999ae3d8301ff48907_instant.jpg 11.0\n",
      "10 2-746ba8ac1301085b9f8d8d96beb3bf7f9e7a4605_ecc100d2cbc4a9fc70c2fde3eafaadb6ceb588ca_instant.jpg 29.0\n"
     ]
    },
    {
     "data": {
      "text/html": [
       "<div>\n",
       "<style scoped>\n",
       "    .dataframe tbody tr th:only-of-type {\n",
       "        vertical-align: middle;\n",
       "    }\n",
       "\n",
       "    .dataframe tbody tr th {\n",
       "        vertical-align: top;\n",
       "    }\n",
       "\n",
       "    .dataframe thead th {\n",
       "        text-align: right;\n",
       "    }\n",
       "</style>\n",
       "<table border=\"1\" class=\"dataframe\">\n",
       "  <thead>\n",
       "    <tr style=\"text-align: right;\">\n",
       "      <th></th>\n",
       "      <th>model</th>\n",
       "      <th>subseq</th>\n",
       "      <th>peaks</th>\n",
       "      <th>binary</th>\n",
       "      <th>mwa</th>\n",
       "    </tr>\n",
       "  </thead>\n",
       "  <tbody>\n",
       "    <tr>\n",
       "      <th>0</th>\n",
       "      <td>Polar Pith Canny(blur)</td>\n",
       "      <td>13.745696</td>\n",
       "      <td>15.416197</td>\n",
       "      <td>105.167589</td>\n",
       "      <td>63.814566</td>\n",
       "    </tr>\n",
       "  </tbody>\n",
       "</table>\n",
       "</div>"
      ],
      "text/plain": [
       "                    model     subseq      peaks      binary        mwa\n",
       "0  Polar Pith Canny(blur)  13.745696  15.416197  105.167589  63.814566"
      ]
     },
     "metadata": {},
     "output_type": "display_data"
    }
   ],
   "source": [
    "with_model(Model.POLAR_PITH_CANNY_EDGE_BLUR, lines, points, data_dir, ranking_url, pith_url, rings_url, mse_url)"
   ]
  },
  {
   "cell_type": "code",
   "execution_count": 47,
   "id": "483e93b8",
   "metadata": {},
   "outputs": [
    {
     "name": "stdout",
     "output_type": "stream",
     "text": [
      "0 2-34e23370868237a073d086fb64851017e9b2c8c9_85903b8cb210e9ad54581e7a37999bcd5fb18443_instant.jpg 87.0\n",
      "1 1-5d205d5ea6bafd3c2e038cf1139cdd5a9825388f_275cb29ffc473512447ce75ff34baa4ecea7276d_instant_210319.jpg 59.666666666666664\n",
      "2 1-11c00bf7cc3e03dc86bde8a20c8ab390b0b2f2a4_d5d5dbc0f05ff34587375f4a567740b61c4731a6_instant_210319.jpg 18.0\n",
      "3 2-8c5de8aa63e57b1e5d3a11ce4c4e2ded042b2ef3_0693ab68bf2278539a3733129d6964ba7719f7b2.jpg 22.0\n",
      "4 1-3d78e56849a16c0b17831129f6059e367574a138_8560eccb0f16269a00f2d6c6a5fab7419529c803_instant.jpg 15.0\n",
      "5 1-947a57fc1b94be1fb8a5cce439cd8112016648b1_b151d6624e13c4d31f300f909ebb63577e42a730_instant.jpg 19.0\n",
      "6 1-1f43f59e9f5ead12a13b1cd892a8757242367189_9cd89303dd466e6b178399f8d02b12aae69ec707_instant.jpg 14.0\n",
      "7 1-85fde97a518625ed46589a6be46300e36c3ad0d9_6626ee8bedc11ff89bd5a6205d10710e72ed9801_instant_210319.jpg 16.0\n",
      "8 1-e50b5a99fd9bab50130099c750df6d80f50a9b4e_fdafeaf4b1ec0417f969870e07a0d6401488df85_instant.jpg 17.0\n",
      "9 1-0d8eabdfed2cb1f0d455e5a2050d78ba39ae6cff_0665c9464c856662322717999ae3d8301ff48907_instant.jpg 11.0\n",
      "10 2-746ba8ac1301085b9f8d8d96beb3bf7f9e7a4605_ecc100d2cbc4a9fc70c2fde3eafaadb6ceb588ca_instant.jpg 29.0\n"
     ]
    },
    {
     "data": {
      "text/html": [
       "<div>\n",
       "<style scoped>\n",
       "    .dataframe tbody tr th:only-of-type {\n",
       "        vertical-align: middle;\n",
       "    }\n",
       "\n",
       "    .dataframe tbody tr th {\n",
       "        vertical-align: top;\n",
       "    }\n",
       "\n",
       "    .dataframe thead th {\n",
       "        text-align: right;\n",
       "    }\n",
       "</style>\n",
       "<table border=\"1\" class=\"dataframe\">\n",
       "  <thead>\n",
       "    <tr style=\"text-align: right;\">\n",
       "      <th></th>\n",
       "      <th>model</th>\n",
       "      <th>subseq</th>\n",
       "      <th>peaks</th>\n",
       "      <th>binary</th>\n",
       "      <th>mwa</th>\n",
       "    </tr>\n",
       "  </thead>\n",
       "  <tbody>\n",
       "    <tr>\n",
       "      <th>0</th>\n",
       "      <td>Polar Pith Canny(blur otsu)</td>\n",
       "      <td>13.319511</td>\n",
       "      <td>14.573231</td>\n",
       "      <td>112.880813</td>\n",
       "      <td>68.287744</td>\n",
       "    </tr>\n",
       "  </tbody>\n",
       "</table>\n",
       "</div>"
      ],
      "text/plain": [
       "                         model     subseq      peaks      binary        mwa\n",
       "0  Polar Pith Canny(blur otsu)  13.319511  14.573231  112.880813  68.287744"
      ]
     },
     "metadata": {},
     "output_type": "display_data"
    }
   ],
   "source": [
    "with_model(Model.POLAR_PITH_CANNY_EDGE_BLUR_OTSU, lines, points, data_dir, ranking_url, pith_url, rings_url, mse_url)"
   ]
  },
  {
   "cell_type": "code",
   "execution_count": 48,
   "id": "081babe2",
   "metadata": {},
   "outputs": [
    {
     "name": "stdout",
     "output_type": "stream",
     "text": [
      "0 2-34e23370868237a073d086fb64851017e9b2c8c9_85903b8cb210e9ad54581e7a37999bcd5fb18443_instant.jpg 87.0\n",
      "1 1-5d205d5ea6bafd3c2e038cf1139cdd5a9825388f_275cb29ffc473512447ce75ff34baa4ecea7276d_instant_210319.jpg 59.666666666666664\n",
      "2 1-11c00bf7cc3e03dc86bde8a20c8ab390b0b2f2a4_d5d5dbc0f05ff34587375f4a567740b61c4731a6_instant_210319.jpg 18.0\n",
      "3 2-8c5de8aa63e57b1e5d3a11ce4c4e2ded042b2ef3_0693ab68bf2278539a3733129d6964ba7719f7b2.jpg 22.0\n",
      "4 1-3d78e56849a16c0b17831129f6059e367574a138_8560eccb0f16269a00f2d6c6a5fab7419529c803_instant.jpg 15.0\n",
      "5 1-947a57fc1b94be1fb8a5cce439cd8112016648b1_b151d6624e13c4d31f300f909ebb63577e42a730_instant.jpg 19.0\n",
      "6 1-1f43f59e9f5ead12a13b1cd892a8757242367189_9cd89303dd466e6b178399f8d02b12aae69ec707_instant.jpg 14.0\n",
      "7 1-85fde97a518625ed46589a6be46300e36c3ad0d9_6626ee8bedc11ff89bd5a6205d10710e72ed9801_instant_210319.jpg 16.0\n",
      "8 1-e50b5a99fd9bab50130099c750df6d80f50a9b4e_fdafeaf4b1ec0417f969870e07a0d6401488df85_instant.jpg 17.0\n",
      "9 1-0d8eabdfed2cb1f0d455e5a2050d78ba39ae6cff_0665c9464c856662322717999ae3d8301ff48907_instant.jpg 11.0\n",
      "10 2-746ba8ac1301085b9f8d8d96beb3bf7f9e7a4605_ecc100d2cbc4a9fc70c2fde3eafaadb6ceb588ca_instant.jpg 29.0\n"
     ]
    },
    {
     "data": {
      "text/html": [
       "<div>\n",
       "<style scoped>\n",
       "    .dataframe tbody tr th:only-of-type {\n",
       "        vertical-align: middle;\n",
       "    }\n",
       "\n",
       "    .dataframe tbody tr th {\n",
       "        vertical-align: top;\n",
       "    }\n",
       "\n",
       "    .dataframe thead th {\n",
       "        text-align: right;\n",
       "    }\n",
       "</style>\n",
       "<table border=\"1\" class=\"dataframe\">\n",
       "  <thead>\n",
       "    <tr style=\"text-align: right;\">\n",
       "      <th></th>\n",
       "      <th>model</th>\n",
       "      <th>subseq</th>\n",
       "      <th>peaks</th>\n",
       "      <th>binary</th>\n",
       "      <th>mwa</th>\n",
       "    </tr>\n",
       "  </thead>\n",
       "  <tbody>\n",
       "    <tr>\n",
       "      <th>0</th>\n",
       "      <td>Polar Pith Canny(blur triangle)</td>\n",
       "      <td>43.348447</td>\n",
       "      <td>33.098877</td>\n",
       "      <td>212.65423</td>\n",
       "      <td>152.080594</td>\n",
       "    </tr>\n",
       "  </tbody>\n",
       "</table>\n",
       "</div>"
      ],
      "text/plain": [
       "                             model     subseq      peaks     binary  \\\n",
       "0  Polar Pith Canny(blur triangle)  43.348447  33.098877  212.65423   \n",
       "\n",
       "          mwa  \n",
       "0  152.080594  "
      ]
     },
     "metadata": {},
     "output_type": "display_data"
    }
   ],
   "source": [
    "with_model(Model.POLAR_PITH_CANNY_EDGE_BLUR_TRIANGLE, lines, points, data_dir, ranking_url, pith_url, rings_url, mse_url)"
   ]
  },
  {
   "cell_type": "code",
   "execution_count": 49,
   "id": "261c103a",
   "metadata": {},
   "outputs": [
    {
     "name": "stdout",
     "output_type": "stream",
     "text": [
      "0 2-34e23370868237a073d086fb64851017e9b2c8c9_85903b8cb210e9ad54581e7a37999bcd5fb18443_instant.jpg 87.0\n",
      "1 1-5d205d5ea6bafd3c2e038cf1139cdd5a9825388f_275cb29ffc473512447ce75ff34baa4ecea7276d_instant_210319.jpg 59.666666666666664\n",
      "2 1-11c00bf7cc3e03dc86bde8a20c8ab390b0b2f2a4_d5d5dbc0f05ff34587375f4a567740b61c4731a6_instant_210319.jpg 18.0\n",
      "3 2-8c5de8aa63e57b1e5d3a11ce4c4e2ded042b2ef3_0693ab68bf2278539a3733129d6964ba7719f7b2.jpg 22.0\n",
      "4 1-3d78e56849a16c0b17831129f6059e367574a138_8560eccb0f16269a00f2d6c6a5fab7419529c803_instant.jpg 15.0\n",
      "5 1-947a57fc1b94be1fb8a5cce439cd8112016648b1_b151d6624e13c4d31f300f909ebb63577e42a730_instant.jpg 19.0\n",
      "6 1-1f43f59e9f5ead12a13b1cd892a8757242367189_9cd89303dd466e6b178399f8d02b12aae69ec707_instant.jpg 14.0\n",
      "7 1-85fde97a518625ed46589a6be46300e36c3ad0d9_6626ee8bedc11ff89bd5a6205d10710e72ed9801_instant_210319.jpg 16.0\n",
      "8 1-e50b5a99fd9bab50130099c750df6d80f50a9b4e_fdafeaf4b1ec0417f969870e07a0d6401488df85_instant.jpg 17.0\n",
      "9 1-0d8eabdfed2cb1f0d455e5a2050d78ba39ae6cff_0665c9464c856662322717999ae3d8301ff48907_instant.jpg 11.0\n",
      "10 2-746ba8ac1301085b9f8d8d96beb3bf7f9e7a4605_ecc100d2cbc4a9fc70c2fde3eafaadb6ceb588ca_instant.jpg 29.0\n"
     ]
    },
    {
     "data": {
      "text/html": [
       "<div>\n",
       "<style scoped>\n",
       "    .dataframe tbody tr th:only-of-type {\n",
       "        vertical-align: middle;\n",
       "    }\n",
       "\n",
       "    .dataframe tbody tr th {\n",
       "        vertical-align: top;\n",
       "    }\n",
       "\n",
       "    .dataframe thead th {\n",
       "        text-align: right;\n",
       "    }\n",
       "</style>\n",
       "<table border=\"1\" class=\"dataframe\">\n",
       "  <thead>\n",
       "    <tr style=\"text-align: right;\">\n",
       "      <th></th>\n",
       "      <th>model</th>\n",
       "      <th>subseq</th>\n",
       "      <th>peaks</th>\n",
       "      <th>binary</th>\n",
       "      <th>mwa</th>\n",
       "    </tr>\n",
       "  </thead>\n",
       "  <tbody>\n",
       "    <tr>\n",
       "      <th>0</th>\n",
       "      <td>Polar Pith Canny(blur manual)</td>\n",
       "      <td>26.567752</td>\n",
       "      <td>27.823466</td>\n",
       "      <td>43.852078</td>\n",
       "      <td>25.06503</td>\n",
       "    </tr>\n",
       "  </tbody>\n",
       "</table>\n",
       "</div>"
      ],
      "text/plain": [
       "                           model     subseq      peaks     binary       mwa\n",
       "0  Polar Pith Canny(blur manual)  26.567752  27.823466  43.852078  25.06503"
      ]
     },
     "metadata": {},
     "output_type": "display_data"
    }
   ],
   "source": [
    "with_model(Model.POLAR_PITH_CANNY_EDGE_BLUR_MANUAL, lines, points, data_dir, ranking_url, pith_url, rings_url, mse_url)"
   ]
  },
  {
   "cell_type": "code",
   "execution_count": 50,
   "id": "d4c9ff68",
   "metadata": {},
   "outputs": [
    {
     "name": "stdout",
     "output_type": "stream",
     "text": [
      "0 2-34e23370868237a073d086fb64851017e9b2c8c9_85903b8cb210e9ad54581e7a37999bcd5fb18443_instant.jpg 87.0\n",
      "1 1-5d205d5ea6bafd3c2e038cf1139cdd5a9825388f_275cb29ffc473512447ce75ff34baa4ecea7276d_instant_210319.jpg 59.666666666666664\n",
      "2 1-11c00bf7cc3e03dc86bde8a20c8ab390b0b2f2a4_d5d5dbc0f05ff34587375f4a567740b61c4731a6_instant_210319.jpg 18.0\n",
      "3 2-8c5de8aa63e57b1e5d3a11ce4c4e2ded042b2ef3_0693ab68bf2278539a3733129d6964ba7719f7b2.jpg 22.0\n",
      "4 1-3d78e56849a16c0b17831129f6059e367574a138_8560eccb0f16269a00f2d6c6a5fab7419529c803_instant.jpg 15.0\n",
      "5 1-947a57fc1b94be1fb8a5cce439cd8112016648b1_b151d6624e13c4d31f300f909ebb63577e42a730_instant.jpg 19.0\n",
      "6 1-1f43f59e9f5ead12a13b1cd892a8757242367189_9cd89303dd466e6b178399f8d02b12aae69ec707_instant.jpg 14.0\n",
      "7 1-85fde97a518625ed46589a6be46300e36c3ad0d9_6626ee8bedc11ff89bd5a6205d10710e72ed9801_instant_210319.jpg 16.0\n",
      "8 1-e50b5a99fd9bab50130099c750df6d80f50a9b4e_fdafeaf4b1ec0417f969870e07a0d6401488df85_instant.jpg 17.0\n",
      "9 1-0d8eabdfed2cb1f0d455e5a2050d78ba39ae6cff_0665c9464c856662322717999ae3d8301ff48907_instant.jpg 11.0\n",
      "10 2-746ba8ac1301085b9f8d8d96beb3bf7f9e7a4605_ecc100d2cbc4a9fc70c2fde3eafaadb6ceb588ca_instant.jpg 29.0\n"
     ]
    },
    {
     "data": {
      "text/html": [
       "<div>\n",
       "<style scoped>\n",
       "    .dataframe tbody tr th:only-of-type {\n",
       "        vertical-align: middle;\n",
       "    }\n",
       "\n",
       "    .dataframe tbody tr th {\n",
       "        vertical-align: top;\n",
       "    }\n",
       "\n",
       "    .dataframe thead th {\n",
       "        text-align: right;\n",
       "    }\n",
       "</style>\n",
       "<table border=\"1\" class=\"dataframe\">\n",
       "  <thead>\n",
       "    <tr style=\"text-align: right;\">\n",
       "      <th></th>\n",
       "      <th>model</th>\n",
       "      <th>subseq</th>\n",
       "      <th>peaks</th>\n",
       "      <th>binary</th>\n",
       "      <th>mwa</th>\n",
       "    </tr>\n",
       "  </thead>\n",
       "  <tbody>\n",
       "    <tr>\n",
       "      <th>0</th>\n",
       "      <td>Polar Pith Laplacian</td>\n",
       "      <td>414.678599</td>\n",
       "      <td>121.70355</td>\n",
       "      <td>395.637145</td>\n",
       "      <td>151.018795</td>\n",
       "    </tr>\n",
       "  </tbody>\n",
       "</table>\n",
       "</div>"
      ],
      "text/plain": [
       "                  model      subseq      peaks      binary         mwa\n",
       "0  Polar Pith Laplacian  414.678599  121.70355  395.637145  151.018795"
      ]
     },
     "metadata": {},
     "output_type": "display_data"
    }
   ],
   "source": [
    "with_model(Model.POLAR_PITH_LAPLACIAN_EDGE, lines, points, data_dir, ranking_url, pith_url, rings_url, mse_url)"
   ]
  },
  {
   "cell_type": "code",
   "execution_count": 51,
   "id": "385ccfcc",
   "metadata": {},
   "outputs": [
    {
     "name": "stdout",
     "output_type": "stream",
     "text": [
      "0 2-34e23370868237a073d086fb64851017e9b2c8c9_85903b8cb210e9ad54581e7a37999bcd5fb18443_instant.jpg 87.0\n",
      "1 1-5d205d5ea6bafd3c2e038cf1139cdd5a9825388f_275cb29ffc473512447ce75ff34baa4ecea7276d_instant_210319.jpg 59.666666666666664\n",
      "2 1-11c00bf7cc3e03dc86bde8a20c8ab390b0b2f2a4_d5d5dbc0f05ff34587375f4a567740b61c4731a6_instant_210319.jpg 18.0\n",
      "3 2-8c5de8aa63e57b1e5d3a11ce4c4e2ded042b2ef3_0693ab68bf2278539a3733129d6964ba7719f7b2.jpg 22.0\n",
      "4 1-3d78e56849a16c0b17831129f6059e367574a138_8560eccb0f16269a00f2d6c6a5fab7419529c803_instant.jpg 15.0\n",
      "5 1-947a57fc1b94be1fb8a5cce439cd8112016648b1_b151d6624e13c4d31f300f909ebb63577e42a730_instant.jpg 19.0\n",
      "6 1-1f43f59e9f5ead12a13b1cd892a8757242367189_9cd89303dd466e6b178399f8d02b12aae69ec707_instant.jpg 14.0\n",
      "7 1-85fde97a518625ed46589a6be46300e36c3ad0d9_6626ee8bedc11ff89bd5a6205d10710e72ed9801_instant_210319.jpg 16.0\n",
      "8 1-e50b5a99fd9bab50130099c750df6d80f50a9b4e_fdafeaf4b1ec0417f969870e07a0d6401488df85_instant.jpg 17.0\n",
      "9 1-0d8eabdfed2cb1f0d455e5a2050d78ba39ae6cff_0665c9464c856662322717999ae3d8301ff48907_instant.jpg 11.0\n",
      "10 2-746ba8ac1301085b9f8d8d96beb3bf7f9e7a4605_ecc100d2cbc4a9fc70c2fde3eafaadb6ceb588ca_instant.jpg 29.0\n"
     ]
    },
    {
     "data": {
      "text/html": [
       "<div>\n",
       "<style scoped>\n",
       "    .dataframe tbody tr th:only-of-type {\n",
       "        vertical-align: middle;\n",
       "    }\n",
       "\n",
       "    .dataframe tbody tr th {\n",
       "        vertical-align: top;\n",
       "    }\n",
       "\n",
       "    .dataframe thead th {\n",
       "        text-align: right;\n",
       "    }\n",
       "</style>\n",
       "<table border=\"1\" class=\"dataframe\">\n",
       "  <thead>\n",
       "    <tr style=\"text-align: right;\">\n",
       "      <th></th>\n",
       "      <th>model</th>\n",
       "      <th>subseq</th>\n",
       "      <th>peaks</th>\n",
       "      <th>binary</th>\n",
       "      <th>mwa</th>\n",
       "    </tr>\n",
       "  </thead>\n",
       "  <tbody>\n",
       "    <tr>\n",
       "      <th>0</th>\n",
       "      <td>Polar Pith Laplacian(blur)</td>\n",
       "      <td>318.380361</td>\n",
       "      <td>29.579995</td>\n",
       "      <td>331.365453</td>\n",
       "      <td>35.183304</td>\n",
       "    </tr>\n",
       "  </tbody>\n",
       "</table>\n",
       "</div>"
      ],
      "text/plain": [
       "                        model      subseq      peaks      binary        mwa\n",
       "0  Polar Pith Laplacian(blur)  318.380361  29.579995  331.365453  35.183304"
      ]
     },
     "metadata": {},
     "output_type": "display_data"
    }
   ],
   "source": [
    "with_model(Model.POLAR_PITH_LAPLACIAN_EDGE_BLUR, lines, points, data_dir, ranking_url, pith_url, rings_url, mse_url)"
   ]
  },
  {
   "cell_type": "code",
   "execution_count": 52,
   "id": "34ab8968",
   "metadata": {},
   "outputs": [
    {
     "name": "stdout",
     "output_type": "stream",
     "text": [
      "Polar Pith Canny(blur otsu) 13.3195107683648 (subseq) \n",
      "\n"
     ]
    },
    {
     "data": {
      "text/html": [
       "<div>\n",
       "<style scoped>\n",
       "    .dataframe tbody tr th:only-of-type {\n",
       "        vertical-align: middle;\n",
       "    }\n",
       "\n",
       "    .dataframe tbody tr th {\n",
       "        vertical-align: top;\n",
       "    }\n",
       "\n",
       "    .dataframe thead th {\n",
       "        text-align: right;\n",
       "    }\n",
       "</style>\n",
       "<table border=\"1\" class=\"dataframe\">\n",
       "  <thead>\n",
       "    <tr style=\"text-align: right;\">\n",
       "      <th></th>\n",
       "      <th>subseq</th>\n",
       "      <th>peaks</th>\n",
       "      <th>binary</th>\n",
       "      <th>mwa</th>\n",
       "    </tr>\n",
       "    <tr>\n",
       "      <th>model</th>\n",
       "      <th></th>\n",
       "      <th></th>\n",
       "      <th></th>\n",
       "      <th></th>\n",
       "    </tr>\n",
       "  </thead>\n",
       "  <tbody>\n",
       "    <tr>\n",
       "      <th>Grayscale</th>\n",
       "      <td>128.293063</td>\n",
       "      <td>27.028314</td>\n",
       "      <td>157.178207</td>\n",
       "      <td>19.404170</td>\n",
       "    </tr>\n",
       "    <tr>\n",
       "      <th>Polar</th>\n",
       "      <td>104.134504</td>\n",
       "      <td>29.437052</td>\n",
       "      <td>249.886101</td>\n",
       "      <td>18.391662</td>\n",
       "    </tr>\n",
       "    <tr>\n",
       "      <th>Polar Pith</th>\n",
       "      <td>104.271630</td>\n",
       "      <td>29.357452</td>\n",
       "      <td>250.407879</td>\n",
       "      <td>19.529129</td>\n",
       "    </tr>\n",
       "    <tr>\n",
       "      <th>Sobel</th>\n",
       "      <td>218.236320</td>\n",
       "      <td>35.453455</td>\n",
       "      <td>222.660581</td>\n",
       "      <td>62.321926</td>\n",
       "    </tr>\n",
       "    <tr>\n",
       "      <th>Sobel(blur)</th>\n",
       "      <td>197.062420</td>\n",
       "      <td>19.464059</td>\n",
       "      <td>205.321436</td>\n",
       "      <td>39.274765</td>\n",
       "    </tr>\n",
       "    <tr>\n",
       "      <th>Canny</th>\n",
       "      <td>36.108918</td>\n",
       "      <td>22.545365</td>\n",
       "      <td>146.569386</td>\n",
       "      <td>101.711697</td>\n",
       "    </tr>\n",
       "    <tr>\n",
       "      <th>Canny(otsu)</th>\n",
       "      <td>35.706173</td>\n",
       "      <td>22.506234</td>\n",
       "      <td>147.291994</td>\n",
       "      <td>102.253405</td>\n",
       "    </tr>\n",
       "    <tr>\n",
       "      <th>Canny(triangle)</th>\n",
       "      <td>70.101154</td>\n",
       "      <td>44.649351</td>\n",
       "      <td>206.734079</td>\n",
       "      <td>153.316888</td>\n",
       "    </tr>\n",
       "    <tr>\n",
       "      <th>Canny(manual)</th>\n",
       "      <td>16.198883</td>\n",
       "      <td>15.523627</td>\n",
       "      <td>84.837674</td>\n",
       "      <td>53.258120</td>\n",
       "    </tr>\n",
       "    <tr>\n",
       "      <th>Canny(blur)</th>\n",
       "      <td>20.147868</td>\n",
       "      <td>15.782315</td>\n",
       "      <td>111.897289</td>\n",
       "      <td>73.683310</td>\n",
       "    </tr>\n",
       "    <tr>\n",
       "      <th>Canny(blur otsu)</th>\n",
       "      <td>20.522390</td>\n",
       "      <td>16.034204</td>\n",
       "      <td>115.743215</td>\n",
       "      <td>76.169361</td>\n",
       "    </tr>\n",
       "    <tr>\n",
       "      <th>Canny(blur triangle)</th>\n",
       "      <td>53.111876</td>\n",
       "      <td>37.130114</td>\n",
       "      <td>185.454152</td>\n",
       "      <td>137.560760</td>\n",
       "    </tr>\n",
       "    <tr>\n",
       "      <th>Canny(blur manual)</th>\n",
       "      <td>20.013041</td>\n",
       "      <td>22.349974</td>\n",
       "      <td>48.395406</td>\n",
       "      <td>27.605862</td>\n",
       "    </tr>\n",
       "    <tr>\n",
       "      <th>Laplacian</th>\n",
       "      <td>265.879425</td>\n",
       "      <td>74.064205</td>\n",
       "      <td>273.846677</td>\n",
       "      <td>96.516795</td>\n",
       "    </tr>\n",
       "    <tr>\n",
       "      <th>Laplacian(blur)</th>\n",
       "      <td>246.206297</td>\n",
       "      <td>36.354348</td>\n",
       "      <td>263.704341</td>\n",
       "      <td>33.296261</td>\n",
       "    </tr>\n",
       "    <tr>\n",
       "      <th>Polar Sobel</th>\n",
       "      <td>286.938114</td>\n",
       "      <td>32.123860</td>\n",
       "      <td>287.313720</td>\n",
       "      <td>64.704987</td>\n",
       "    </tr>\n",
       "    <tr>\n",
       "      <th>Polar Sobel(blur)</th>\n",
       "      <td>220.740128</td>\n",
       "      <td>16.284231</td>\n",
       "      <td>241.105501</td>\n",
       "      <td>33.535744</td>\n",
       "    </tr>\n",
       "    <tr>\n",
       "      <th>Polar Canny</th>\n",
       "      <td>21.584780</td>\n",
       "      <td>16.037846</td>\n",
       "      <td>151.471836</td>\n",
       "      <td>99.954627</td>\n",
       "    </tr>\n",
       "    <tr>\n",
       "      <th>Polar Canny(otsu)</th>\n",
       "      <td>22.224130</td>\n",
       "      <td>16.447432</td>\n",
       "      <td>155.169610</td>\n",
       "      <td>102.314092</td>\n",
       "    </tr>\n",
       "    <tr>\n",
       "      <th>Polar Canny(triangle)</th>\n",
       "      <td>66.733777</td>\n",
       "      <td>45.913320</td>\n",
       "      <td>242.436604</td>\n",
       "      <td>176.146025</td>\n",
       "    </tr>\n",
       "    <tr>\n",
       "      <th>Polar Canny(manual)</th>\n",
       "      <td>18.324449</td>\n",
       "      <td>20.664773</td>\n",
       "      <td>82.155130</td>\n",
       "      <td>47.202826</td>\n",
       "    </tr>\n",
       "    <tr>\n",
       "      <th>Polar Canny(blur)</th>\n",
       "      <td>14.497258</td>\n",
       "      <td>16.269817</td>\n",
       "      <td>104.008417</td>\n",
       "      <td>61.592121</td>\n",
       "    </tr>\n",
       "    <tr>\n",
       "      <th>Polar Canny(blur otsu)</th>\n",
       "      <td>13.919944</td>\n",
       "      <td>15.391834</td>\n",
       "      <td>112.019315</td>\n",
       "      <td>66.941872</td>\n",
       "    </tr>\n",
       "    <tr>\n",
       "      <th>Polar Canny(blur triangle)</th>\n",
       "      <td>43.036805</td>\n",
       "      <td>33.493111</td>\n",
       "      <td>211.645589</td>\n",
       "      <td>152.808067</td>\n",
       "    </tr>\n",
       "    <tr>\n",
       "      <th>Polar Canny(blur manual)</th>\n",
       "      <td>27.310113</td>\n",
       "      <td>28.353097</td>\n",
       "      <td>40.198004</td>\n",
       "      <td>22.803647</td>\n",
       "    </tr>\n",
       "    <tr>\n",
       "      <th>Polar Laplacian</th>\n",
       "      <td>417.527133</td>\n",
       "      <td>122.881059</td>\n",
       "      <td>397.145559</td>\n",
       "      <td>151.297317</td>\n",
       "    </tr>\n",
       "    <tr>\n",
       "      <th>Polar Laplacian(blur)</th>\n",
       "      <td>320.385318</td>\n",
       "      <td>28.414121</td>\n",
       "      <td>333.388729</td>\n",
       "      <td>33.633990</td>\n",
       "    </tr>\n",
       "    <tr>\n",
       "      <th>Polar Pith Sobel</th>\n",
       "      <td>286.104781</td>\n",
       "      <td>32.389474</td>\n",
       "      <td>286.983364</td>\n",
       "      <td>64.812126</td>\n",
       "    </tr>\n",
       "    <tr>\n",
       "      <th>Polar Pith Sobel(blur)</th>\n",
       "      <td>220.348598</td>\n",
       "      <td>15.468701</td>\n",
       "      <td>241.251049</td>\n",
       "      <td>34.261376</td>\n",
       "    </tr>\n",
       "    <tr>\n",
       "      <th>Polar Pith Canny</th>\n",
       "      <td>21.421159</td>\n",
       "      <td>15.838079</td>\n",
       "      <td>150.077712</td>\n",
       "      <td>99.904861</td>\n",
       "    </tr>\n",
       "    <tr>\n",
       "      <th>Polar Pith Canny(otsu)</th>\n",
       "      <td>21.980593</td>\n",
       "      <td>15.943679</td>\n",
       "      <td>154.121711</td>\n",
       "      <td>102.704536</td>\n",
       "    </tr>\n",
       "    <tr>\n",
       "      <th>Polar Pith Canny(triangle)</th>\n",
       "      <td>66.562081</td>\n",
       "      <td>45.613790</td>\n",
       "      <td>242.699634</td>\n",
       "      <td>175.464708</td>\n",
       "    </tr>\n",
       "    <tr>\n",
       "      <th>Polar Pith Canny(manual)</th>\n",
       "      <td>17.725119</td>\n",
       "      <td>19.931020</td>\n",
       "      <td>85.822225</td>\n",
       "      <td>50.889495</td>\n",
       "    </tr>\n",
       "    <tr>\n",
       "      <th>Polar Pith Canny(blur)</th>\n",
       "      <td>13.745696</td>\n",
       "      <td>15.416197</td>\n",
       "      <td>105.167589</td>\n",
       "      <td>63.814566</td>\n",
       "    </tr>\n",
       "    <tr>\n",
       "      <th>Polar Pith Canny(blur otsu)</th>\n",
       "      <td>13.319511</td>\n",
       "      <td>14.573231</td>\n",
       "      <td>112.880813</td>\n",
       "      <td>68.287744</td>\n",
       "    </tr>\n",
       "    <tr>\n",
       "      <th>Polar Pith Canny(blur triangle)</th>\n",
       "      <td>43.348447</td>\n",
       "      <td>33.098877</td>\n",
       "      <td>212.654230</td>\n",
       "      <td>152.080594</td>\n",
       "    </tr>\n",
       "    <tr>\n",
       "      <th>Polar Pith Canny(blur manual)</th>\n",
       "      <td>26.567752</td>\n",
       "      <td>27.823466</td>\n",
       "      <td>43.852078</td>\n",
       "      <td>25.065030</td>\n",
       "    </tr>\n",
       "    <tr>\n",
       "      <th>Polar Pith Laplacian</th>\n",
       "      <td>414.678599</td>\n",
       "      <td>121.703550</td>\n",
       "      <td>395.637145</td>\n",
       "      <td>151.018795</td>\n",
       "    </tr>\n",
       "    <tr>\n",
       "      <th>Polar Pith Laplacian(blur)</th>\n",
       "      <td>318.380361</td>\n",
       "      <td>29.579995</td>\n",
       "      <td>331.365453</td>\n",
       "      <td>35.183304</td>\n",
       "    </tr>\n",
       "  </tbody>\n",
       "</table>\n",
       "</div>"
      ],
      "text/plain": [
       "                                     subseq       peaks      binary  \\\n",
       "model                                                                 \n",
       "Grayscale                        128.293063   27.028314  157.178207   \n",
       "Polar                            104.134504   29.437052  249.886101   \n",
       "Polar Pith                       104.271630   29.357452  250.407879   \n",
       "Sobel                            218.236320   35.453455  222.660581   \n",
       "Sobel(blur)                      197.062420   19.464059  205.321436   \n",
       "Canny                             36.108918   22.545365  146.569386   \n",
       "Canny(otsu)                       35.706173   22.506234  147.291994   \n",
       "Canny(triangle)                   70.101154   44.649351  206.734079   \n",
       "Canny(manual)                     16.198883   15.523627   84.837674   \n",
       "Canny(blur)                       20.147868   15.782315  111.897289   \n",
       "Canny(blur otsu)                  20.522390   16.034204  115.743215   \n",
       "Canny(blur triangle)              53.111876   37.130114  185.454152   \n",
       "Canny(blur manual)                20.013041   22.349974   48.395406   \n",
       "Laplacian                        265.879425   74.064205  273.846677   \n",
       "Laplacian(blur)                  246.206297   36.354348  263.704341   \n",
       "Polar Sobel                      286.938114   32.123860  287.313720   \n",
       "Polar Sobel(blur)                220.740128   16.284231  241.105501   \n",
       "Polar Canny                       21.584780   16.037846  151.471836   \n",
       "Polar Canny(otsu)                 22.224130   16.447432  155.169610   \n",
       "Polar Canny(triangle)             66.733777   45.913320  242.436604   \n",
       "Polar Canny(manual)               18.324449   20.664773   82.155130   \n",
       "Polar Canny(blur)                 14.497258   16.269817  104.008417   \n",
       "Polar Canny(blur otsu)            13.919944   15.391834  112.019315   \n",
       "Polar Canny(blur triangle)        43.036805   33.493111  211.645589   \n",
       "Polar Canny(blur manual)          27.310113   28.353097   40.198004   \n",
       "Polar Laplacian                  417.527133  122.881059  397.145559   \n",
       "Polar Laplacian(blur)            320.385318   28.414121  333.388729   \n",
       "Polar Pith Sobel                 286.104781   32.389474  286.983364   \n",
       "Polar Pith Sobel(blur)           220.348598   15.468701  241.251049   \n",
       "Polar Pith Canny                  21.421159   15.838079  150.077712   \n",
       "Polar Pith Canny(otsu)            21.980593   15.943679  154.121711   \n",
       "Polar Pith Canny(triangle)        66.562081   45.613790  242.699634   \n",
       "Polar Pith Canny(manual)          17.725119   19.931020   85.822225   \n",
       "Polar Pith Canny(blur)            13.745696   15.416197  105.167589   \n",
       "Polar Pith Canny(blur otsu)       13.319511   14.573231  112.880813   \n",
       "Polar Pith Canny(blur triangle)   43.348447   33.098877  212.654230   \n",
       "Polar Pith Canny(blur manual)     26.567752   27.823466   43.852078   \n",
       "Polar Pith Laplacian             414.678599  121.703550  395.637145   \n",
       "Polar Pith Laplacian(blur)       318.380361   29.579995  331.365453   \n",
       "\n",
       "                                        mwa  \n",
       "model                                        \n",
       "Grayscale                         19.404170  \n",
       "Polar                             18.391662  \n",
       "Polar Pith                        19.529129  \n",
       "Sobel                             62.321926  \n",
       "Sobel(blur)                       39.274765  \n",
       "Canny                            101.711697  \n",
       "Canny(otsu)                      102.253405  \n",
       "Canny(triangle)                  153.316888  \n",
       "Canny(manual)                     53.258120  \n",
       "Canny(blur)                       73.683310  \n",
       "Canny(blur otsu)                  76.169361  \n",
       "Canny(blur triangle)             137.560760  \n",
       "Canny(blur manual)                27.605862  \n",
       "Laplacian                         96.516795  \n",
       "Laplacian(blur)                   33.296261  \n",
       "Polar Sobel                       64.704987  \n",
       "Polar Sobel(blur)                 33.535744  \n",
       "Polar Canny                       99.954627  \n",
       "Polar Canny(otsu)                102.314092  \n",
       "Polar Canny(triangle)            176.146025  \n",
       "Polar Canny(manual)               47.202826  \n",
       "Polar Canny(blur)                 61.592121  \n",
       "Polar Canny(blur otsu)            66.941872  \n",
       "Polar Canny(blur triangle)       152.808067  \n",
       "Polar Canny(blur manual)          22.803647  \n",
       "Polar Laplacian                  151.297317  \n",
       "Polar Laplacian(blur)             33.633990  \n",
       "Polar Pith Sobel                  64.812126  \n",
       "Polar Pith Sobel(blur)            34.261376  \n",
       "Polar Pith Canny                  99.904861  \n",
       "Polar Pith Canny(otsu)           102.704536  \n",
       "Polar Pith Canny(triangle)       175.464708  \n",
       "Polar Pith Canny(manual)          50.889495  \n",
       "Polar Pith Canny(blur)            63.814566  \n",
       "Polar Pith Canny(blur otsu)       68.287744  \n",
       "Polar Pith Canny(blur triangle)  152.080594  \n",
       "Polar Pith Canny(blur manual)     25.065030  \n",
       "Polar Pith Laplacian             151.018795  \n",
       "Polar Pith Laplacian(blur)        35.183304  "
      ]
     },
     "metadata": {},
     "output_type": "display_data"
    },
    {
     "name": "stdout",
     "output_type": "stream",
     "text": [
      "Min: 13.3195107683648, Max: 417.5271331079133\n"
     ]
    },
    {
     "data": {
      "image/png": "[encoded data removed]",
      "text/plain": [
       "<Figure size 640x480 with 1 Axes>"
      ]
     },
     "metadata": {},
     "output_type": "display_data"
    },
    {
     "data": {
      "text/html": [
       "<div>\n",
       "<style scoped>\n",
       "    .dataframe tbody tr th:only-of-type {\n",
       "        vertical-align: middle;\n",
       "    }\n",
       "\n",
       "    .dataframe tbody tr th {\n",
       "        vertical-align: top;\n",
       "    }\n",
       "\n",
       "    .dataframe thead th {\n",
       "        text-align: right;\n",
       "    }\n",
       "</style>\n",
       "<table border=\"1\" class=\"dataframe\">\n",
       "  <thead>\n",
       "    <tr style=\"text-align: right;\">\n",
       "      <th></th>\n",
       "      <th>subseq</th>\n",
       "      <th>peaks</th>\n",
       "      <th>binary</th>\n",
       "      <th>mwa</th>\n",
       "    </tr>\n",
       "    <tr>\n",
       "      <th>model</th>\n",
       "      <th></th>\n",
       "      <th></th>\n",
       "      <th></th>\n",
       "      <th></th>\n",
       "    </tr>\n",
       "  </thead>\n",
       "  <tbody>\n",
       "    <tr>\n",
       "      <th>Grayscale</th>\n",
       "      <td>128.293063</td>\n",
       "      <td>27.028314</td>\n",
       "      <td>157.178207</td>\n",
       "      <td>19.404170</td>\n",
       "    </tr>\n",
       "    <tr>\n",
       "      <th>Polar</th>\n",
       "      <td>104.134504</td>\n",
       "      <td>29.437052</td>\n",
       "      <td>249.886101</td>\n",
       "      <td>18.391662</td>\n",
       "    </tr>\n",
       "    <tr>\n",
       "      <th>Polar Pith</th>\n",
       "      <td>104.271630</td>\n",
       "      <td>29.357452</td>\n",
       "      <td>250.407879</td>\n",
       "      <td>19.529129</td>\n",
       "    </tr>\n",
       "    <tr>\n",
       "      <th>Sobel</th>\n",
       "      <td>218.236320</td>\n",
       "      <td>35.453455</td>\n",
       "      <td>222.660581</td>\n",
       "      <td>62.321926</td>\n",
       "    </tr>\n",
       "    <tr>\n",
       "      <th>Sobel(blur)</th>\n",
       "      <td>197.062420</td>\n",
       "      <td>19.464059</td>\n",
       "      <td>205.321436</td>\n",
       "      <td>39.274765</td>\n",
       "    </tr>\n",
       "    <tr>\n",
       "      <th>Canny</th>\n",
       "      <td>36.108918</td>\n",
       "      <td>22.545365</td>\n",
       "      <td>146.569386</td>\n",
       "      <td>101.711697</td>\n",
       "    </tr>\n",
       "    <tr>\n",
       "      <th>Canny(otsu)</th>\n",
       "      <td>35.706173</td>\n",
       "      <td>22.506234</td>\n",
       "      <td>147.291994</td>\n",
       "      <td>102.253405</td>\n",
       "    </tr>\n",
       "    <tr>\n",
       "      <th>Canny(triangle)</th>\n",
       "      <td>70.101154</td>\n",
       "      <td>44.649351</td>\n",
       "      <td>206.734079</td>\n",
       "      <td>153.316888</td>\n",
       "    </tr>\n",
       "    <tr>\n",
       "      <th>Canny(manual)</th>\n",
       "      <td>16.198883</td>\n",
       "      <td>15.523627</td>\n",
       "      <td>84.837674</td>\n",
       "      <td>53.258120</td>\n",
       "    </tr>\n",
       "    <tr>\n",
       "      <th>Canny(blur)</th>\n",
       "      <td>20.147868</td>\n",
       "      <td>15.782315</td>\n",
       "      <td>111.897289</td>\n",
       "      <td>73.683310</td>\n",
       "    </tr>\n",
       "    <tr>\n",
       "      <th>Canny(blur otsu)</th>\n",
       "      <td>20.522390</td>\n",
       "      <td>16.034204</td>\n",
       "      <td>115.743215</td>\n",
       "      <td>76.169361</td>\n",
       "    </tr>\n",
       "    <tr>\n",
       "      <th>Canny(blur triangle)</th>\n",
       "      <td>53.111876</td>\n",
       "      <td>37.130114</td>\n",
       "      <td>185.454152</td>\n",
       "      <td>137.560760</td>\n",
       "    </tr>\n",
       "    <tr>\n",
       "      <th>Canny(blur manual)</th>\n",
       "      <td>20.013041</td>\n",
       "      <td>22.349974</td>\n",
       "      <td>48.395406</td>\n",
       "      <td>27.605862</td>\n",
       "    </tr>\n",
       "    <tr>\n",
       "      <th>Laplacian</th>\n",
       "      <td>265.879425</td>\n",
       "      <td>74.064205</td>\n",
       "      <td>273.846677</td>\n",
       "      <td>96.516795</td>\n",
       "    </tr>\n",
       "    <tr>\n",
       "      <th>Laplacian(blur)</th>\n",
       "      <td>246.206297</td>\n",
       "      <td>36.354348</td>\n",
       "      <td>263.704341</td>\n",
       "      <td>33.296261</td>\n",
       "    </tr>\n",
       "  </tbody>\n",
       "</table>\n",
       "</div>"
      ],
      "text/plain": [
       "                          subseq      peaks      binary         mwa\n",
       "model                                                              \n",
       "Grayscale             128.293063  27.028314  157.178207   19.404170\n",
       "Polar                 104.134504  29.437052  249.886101   18.391662\n",
       "Polar Pith            104.271630  29.357452  250.407879   19.529129\n",
       "Sobel                 218.236320  35.453455  222.660581   62.321926\n",
       "Sobel(blur)           197.062420  19.464059  205.321436   39.274765\n",
       "Canny                  36.108918  22.545365  146.569386  101.711697\n",
       "Canny(otsu)            35.706173  22.506234  147.291994  102.253405\n",
       "Canny(triangle)        70.101154  44.649351  206.734079  153.316888\n",
       "Canny(manual)          16.198883  15.523627   84.837674   53.258120\n",
       "Canny(blur)            20.147868  15.782315  111.897289   73.683310\n",
       "Canny(blur otsu)       20.522390  16.034204  115.743215   76.169361\n",
       "Canny(blur triangle)   53.111876  37.130114  185.454152  137.560760\n",
       "Canny(blur manual)     20.013041  22.349974   48.395406   27.605862\n",
       "Laplacian             265.879425  74.064205  273.846677   96.516795\n",
       "Laplacian(blur)       246.206297  36.354348  263.704341   33.296261"
      ]
     },
     "metadata": {},
     "output_type": "display_data"
    },
    {
     "name": "stdout",
     "output_type": "stream",
     "text": [
      "Min: 15.523626960299106, Max: 273.846677038909\n"
     ]
    },
    {
     "data": {
      "image/png": "[encoded data removed]",
      "text/plain": [
       "<Figure size 640x480 with 1 Axes>"
      ]
     },
     "metadata": {},
     "output_type": "display_data"
    },
    {
     "data": {
      "text/html": [
       "<div>\n",
       "<style scoped>\n",
       "    .dataframe tbody tr th:only-of-type {\n",
       "        vertical-align: middle;\n",
       "    }\n",
       "\n",
       "    .dataframe tbody tr th {\n",
       "        vertical-align: top;\n",
       "    }\n",
       "\n",
       "    .dataframe thead th {\n",
       "        text-align: right;\n",
       "    }\n",
       "</style>\n",
       "<table border=\"1\" class=\"dataframe\">\n",
       "  <thead>\n",
       "    <tr style=\"text-align: right;\">\n",
       "      <th></th>\n",
       "      <th>subseq</th>\n",
       "      <th>peaks</th>\n",
       "      <th>binary</th>\n",
       "      <th>mwa</th>\n",
       "    </tr>\n",
       "    <tr>\n",
       "      <th>model</th>\n",
       "      <th></th>\n",
       "      <th></th>\n",
       "      <th></th>\n",
       "      <th></th>\n",
       "    </tr>\n",
       "  </thead>\n",
       "  <tbody>\n",
       "    <tr>\n",
       "      <th>Polar Sobel</th>\n",
       "      <td>286.938114</td>\n",
       "      <td>32.123860</td>\n",
       "      <td>287.313720</td>\n",
       "      <td>64.704987</td>\n",
       "    </tr>\n",
       "    <tr>\n",
       "      <th>Polar Sobel(blur)</th>\n",
       "      <td>220.740128</td>\n",
       "      <td>16.284231</td>\n",
       "      <td>241.105501</td>\n",
       "      <td>33.535744</td>\n",
       "    </tr>\n",
       "    <tr>\n",
       "      <th>Polar Canny</th>\n",
       "      <td>21.584780</td>\n",
       "      <td>16.037846</td>\n",
       "      <td>151.471836</td>\n",
       "      <td>99.954627</td>\n",
       "    </tr>\n",
       "    <tr>\n",
       "      <th>Polar Canny(otsu)</th>\n",
       "      <td>22.224130</td>\n",
       "      <td>16.447432</td>\n",
       "      <td>155.169610</td>\n",
       "      <td>102.314092</td>\n",
       "    </tr>\n",
       "    <tr>\n",
       "      <th>Polar Canny(triangle)</th>\n",
       "      <td>66.733777</td>\n",
       "      <td>45.913320</td>\n",
       "      <td>242.436604</td>\n",
       "      <td>176.146025</td>\n",
       "    </tr>\n",
       "    <tr>\n",
       "      <th>Polar Canny(manual)</th>\n",
       "      <td>18.324449</td>\n",
       "      <td>20.664773</td>\n",
       "      <td>82.155130</td>\n",
       "      <td>47.202826</td>\n",
       "    </tr>\n",
       "    <tr>\n",
       "      <th>Polar Canny(blur)</th>\n",
       "      <td>14.497258</td>\n",
       "      <td>16.269817</td>\n",
       "      <td>104.008417</td>\n",
       "      <td>61.592121</td>\n",
       "    </tr>\n",
       "    <tr>\n",
       "      <th>Polar Canny(blur otsu)</th>\n",
       "      <td>13.919944</td>\n",
       "      <td>15.391834</td>\n",
       "      <td>112.019315</td>\n",
       "      <td>66.941872</td>\n",
       "    </tr>\n",
       "    <tr>\n",
       "      <th>Polar Canny(blur triangle)</th>\n",
       "      <td>43.036805</td>\n",
       "      <td>33.493111</td>\n",
       "      <td>211.645589</td>\n",
       "      <td>152.808067</td>\n",
       "    </tr>\n",
       "    <tr>\n",
       "      <th>Polar Canny(blur manual)</th>\n",
       "      <td>27.310113</td>\n",
       "      <td>28.353097</td>\n",
       "      <td>40.198004</td>\n",
       "      <td>22.803647</td>\n",
       "    </tr>\n",
       "    <tr>\n",
       "      <th>Polar Laplacian</th>\n",
       "      <td>417.527133</td>\n",
       "      <td>122.881059</td>\n",
       "      <td>397.145559</td>\n",
       "      <td>151.297317</td>\n",
       "    </tr>\n",
       "    <tr>\n",
       "      <th>Polar Laplacian(blur)</th>\n",
       "      <td>320.385318</td>\n",
       "      <td>28.414121</td>\n",
       "      <td>333.388729</td>\n",
       "      <td>33.633990</td>\n",
       "    </tr>\n",
       "  </tbody>\n",
       "</table>\n",
       "</div>"
      ],
      "text/plain": [
       "                                subseq       peaks      binary         mwa\n",
       "model                                                                     \n",
       "Polar Sobel                 286.938114   32.123860  287.313720   64.704987\n",
       "Polar Sobel(blur)           220.740128   16.284231  241.105501   33.535744\n",
       "Polar Canny                  21.584780   16.037846  151.471836   99.954627\n",
       "Polar Canny(otsu)            22.224130   16.447432  155.169610  102.314092\n",
       "Polar Canny(triangle)        66.733777   45.913320  242.436604  176.146025\n",
       "Polar Canny(manual)          18.324449   20.664773   82.155130   47.202826\n",
       "Polar Canny(blur)            14.497258   16.269817  104.008417   61.592121\n",
       "Polar Canny(blur otsu)       13.919944   15.391834  112.019315   66.941872\n",
       "Polar Canny(blur triangle)   43.036805   33.493111  211.645589  152.808067\n",
       "Polar Canny(blur manual)     27.310113   28.353097   40.198004   22.803647\n",
       "Polar Laplacian             417.527133  122.881059  397.145559  151.297317\n",
       "Polar Laplacian(blur)       320.385318   28.414121  333.388729   33.633990"
      ]
     },
     "metadata": {},
     "output_type": "display_data"
    },
    {
     "name": "stdout",
     "output_type": "stream",
     "text": [
      "Min: 13.919943816646168, Max: 417.5271331079133\n"
     ]
    },
    {
     "data": {
      "image/png": "[encoded data removed]",
      "text/plain": [
       "<Figure size 640x480 with 1 Axes>"
      ]
     },
     "metadata": {},
     "output_type": "display_data"
    },
    {
     "data": {
      "text/html": [
       "<div>\n",
       "<style scoped>\n",
       "    .dataframe tbody tr th:only-of-type {\n",
       "        vertical-align: middle;\n",
       "    }\n",
       "\n",
       "    .dataframe tbody tr th {\n",
       "        vertical-align: top;\n",
       "    }\n",
       "\n",
       "    .dataframe thead th {\n",
       "        text-align: right;\n",
       "    }\n",
       "</style>\n",
       "<table border=\"1\" class=\"dataframe\">\n",
       "  <thead>\n",
       "    <tr style=\"text-align: right;\">\n",
       "      <th></th>\n",
       "      <th>subseq</th>\n",
       "      <th>peaks</th>\n",
       "      <th>binary</th>\n",
       "      <th>mwa</th>\n",
       "    </tr>\n",
       "    <tr>\n",
       "      <th>model</th>\n",
       "      <th></th>\n",
       "      <th></th>\n",
       "      <th></th>\n",
       "      <th></th>\n",
       "    </tr>\n",
       "  </thead>\n",
       "  <tbody>\n",
       "    <tr>\n",
       "      <th>Polar Pith Sobel</th>\n",
       "      <td>286.104781</td>\n",
       "      <td>32.389474</td>\n",
       "      <td>286.983364</td>\n",
       "      <td>64.812126</td>\n",
       "    </tr>\n",
       "    <tr>\n",
       "      <th>Polar Pith Sobel(blur)</th>\n",
       "      <td>220.348598</td>\n",
       "      <td>15.468701</td>\n",
       "      <td>241.251049</td>\n",
       "      <td>34.261376</td>\n",
       "    </tr>\n",
       "    <tr>\n",
       "      <th>Polar Pith Canny</th>\n",
       "      <td>21.421159</td>\n",
       "      <td>15.838079</td>\n",
       "      <td>150.077712</td>\n",
       "      <td>99.904861</td>\n",
       "    </tr>\n",
       "    <tr>\n",
       "      <th>Polar Pith Canny(otsu)</th>\n",
       "      <td>21.980593</td>\n",
       "      <td>15.943679</td>\n",
       "      <td>154.121711</td>\n",
       "      <td>102.704536</td>\n",
       "    </tr>\n",
       "    <tr>\n",
       "      <th>Polar Pith Canny(triangle)</th>\n",
       "      <td>66.562081</td>\n",
       "      <td>45.613790</td>\n",
       "      <td>242.699634</td>\n",
       "      <td>175.464708</td>\n",
       "    </tr>\n",
       "    <tr>\n",
       "      <th>Polar Pith Canny(manual)</th>\n",
       "      <td>17.725119</td>\n",
       "      <td>19.931020</td>\n",
       "      <td>85.822225</td>\n",
       "      <td>50.889495</td>\n",
       "    </tr>\n",
       "    <tr>\n",
       "      <th>Polar Pith Canny(blur)</th>\n",
       "      <td>13.745696</td>\n",
       "      <td>15.416197</td>\n",
       "      <td>105.167589</td>\n",
       "      <td>63.814566</td>\n",
       "    </tr>\n",
       "    <tr>\n",
       "      <th>Polar Pith Canny(blur otsu)</th>\n",
       "      <td>13.319511</td>\n",
       "      <td>14.573231</td>\n",
       "      <td>112.880813</td>\n",
       "      <td>68.287744</td>\n",
       "    </tr>\n",
       "    <tr>\n",
       "      <th>Polar Pith Canny(blur triangle)</th>\n",
       "      <td>43.348447</td>\n",
       "      <td>33.098877</td>\n",
       "      <td>212.654230</td>\n",
       "      <td>152.080594</td>\n",
       "    </tr>\n",
       "    <tr>\n",
       "      <th>Polar Pith Canny(blur manual)</th>\n",
       "      <td>26.567752</td>\n",
       "      <td>27.823466</td>\n",
       "      <td>43.852078</td>\n",
       "      <td>25.065030</td>\n",
       "    </tr>\n",
       "    <tr>\n",
       "      <th>Polar Pith Laplacian</th>\n",
       "      <td>414.678599</td>\n",
       "      <td>121.703550</td>\n",
       "      <td>395.637145</td>\n",
       "      <td>151.018795</td>\n",
       "    </tr>\n",
       "    <tr>\n",
       "      <th>Polar Pith Laplacian(blur)</th>\n",
       "      <td>318.380361</td>\n",
       "      <td>29.579995</td>\n",
       "      <td>331.365453</td>\n",
       "      <td>35.183304</td>\n",
       "    </tr>\n",
       "  </tbody>\n",
       "</table>\n",
       "</div>"
      ],
      "text/plain": [
       "                                     subseq       peaks      binary  \\\n",
       "model                                                                 \n",
       "Polar Pith Sobel                 286.104781   32.389474  286.983364   \n",
       "Polar Pith Sobel(blur)           220.348598   15.468701  241.251049   \n",
       "Polar Pith Canny                  21.421159   15.838079  150.077712   \n",
       "Polar Pith Canny(otsu)            21.980593   15.943679  154.121711   \n",
       "Polar Pith Canny(triangle)        66.562081   45.613790  242.699634   \n",
       "Polar Pith Canny(manual)          17.725119   19.931020   85.822225   \n",
       "Polar Pith Canny(blur)            13.745696   15.416197  105.167589   \n",
       "Polar Pith Canny(blur otsu)       13.319511   14.573231  112.880813   \n",
       "Polar Pith Canny(blur triangle)   43.348447   33.098877  212.654230   \n",
       "Polar Pith Canny(blur manual)     26.567752   27.823466   43.852078   \n",
       "Polar Pith Laplacian             414.678599  121.703550  395.637145   \n",
       "Polar Pith Laplacian(blur)       318.380361   29.579995  331.365453   \n",
       "\n",
       "                                        mwa  \n",
       "model                                        \n",
       "Polar Pith Sobel                  64.812126  \n",
       "Polar Pith Sobel(blur)            34.261376  \n",
       "Polar Pith Canny                  99.904861  \n",
       "Polar Pith Canny(otsu)           102.704536  \n",
       "Polar Pith Canny(triangle)       175.464708  \n",
       "Polar Pith Canny(manual)          50.889495  \n",
       "Polar Pith Canny(blur)            63.814566  \n",
       "Polar Pith Canny(blur otsu)       68.287744  \n",
       "Polar Pith Canny(blur triangle)  152.080594  \n",
       "Polar Pith Canny(blur manual)     25.065030  \n",
       "Polar Pith Laplacian             151.018795  \n",
       "Polar Pith Laplacian(blur)        35.183304  "
      ]
     },
     "metadata": {},
     "output_type": "display_data"
    },
    {
     "name": "stdout",
     "output_type": "stream",
     "text": [
      "Min: 13.3195107683648, Max: 414.6785994359689\n"
     ]
    },
    {
     "data": {
      "image/png": "[encoded data removed]",
      "text/plain": [
       "<Figure size 640x480 with 1 Axes>"
      ]
     },
     "metadata": {},
     "output_type": "display_data"
    }
   ],
   "source": [
    "multi_mse(mse_url)"
   ]
  },
  {
   "cell_type": "code",
   "execution_count": 53,
   "id": "17bf2401",
   "metadata": {},
   "outputs": [
    {
     "ename": "NameError",
     "evalue": "name 'STOP' is not defined",
     "output_type": "error",
     "traceback": [
      "\u001b[0;31m---------------------------------------------------------------------------\u001b[0m",
      "\u001b[0;31mNameError\u001b[0m                                 Traceback (most recent call last)",
      "Cell \u001b[0;32mIn[53], line 1\u001b[0m\n\u001b[0;32m----> 1\u001b[0m \u001b[43mSTOP\u001b[49m\n",
      "\u001b[0;31mNameError\u001b[0m: name 'STOP' is not defined"
     ]
    }
   ],
   "source": [
    "STOP"
   ]
  },
  {
   "cell_type": "markdown",
   "id": "39e8e020",
   "metadata": {},
   "source": [
    "### Model with 32 lines"
   ]
  },
  {
   "cell_type": "code",
   "execution_count": null,
   "id": "c233746c",
   "metadata": {},
   "outputs": [],
   "source": [
    "#MSE file\n",
    "mse_url = \"output/ringsranking_mse_thirtytwo.csv\"\n",
    "\n",
    "#rings info file\n",
    "rings_url = \"output/ringsranking_rings_thirtytwo.csv\"\n",
    "\n",
    "#no of lines and points\n",
    "lines = 32\n",
    "points = 150"
   ]
  },
  {
   "cell_type": "code",
   "execution_count": null,
   "id": "50f82559",
   "metadata": {},
   "outputs": [],
   "source": [
    "with_model(Model.GRAYSCALE, lines, points, data_dir, ranking_url, pith_url, rings_url, mse_url)"
   ]
  },
  {
   "cell_type": "code",
   "execution_count": null,
   "id": "8797c4d3",
   "metadata": {},
   "outputs": [],
   "source": [
    "with_model(Model.POLAR, lines, points, data_dir, ranking_url, pith_url, rings_url, mse_url)"
   ]
  },
  {
   "cell_type": "code",
   "execution_count": null,
   "id": "c5d94494",
   "metadata": {},
   "outputs": [],
   "source": [
    "with_model(Model.POLAR_PITH, lines, points, data_dir, ranking_url, pith_url, rings_url, mse_url)"
   ]
  },
  {
   "cell_type": "code",
   "execution_count": null,
   "id": "d2cd02d0",
   "metadata": {},
   "outputs": [],
   "source": []
  },
  {
   "cell_type": "code",
   "execution_count": null,
   "id": "c0dffadb",
   "metadata": {},
   "outputs": [],
   "source": [
    "with_model(Model.SOBEL_EDGE, lines, points, data_dir, ranking_url, pith_url, rings_url, mse_url)"
   ]
  },
  {
   "cell_type": "code",
   "execution_count": null,
   "id": "04e63e04",
   "metadata": {},
   "outputs": [],
   "source": [
    "with_model(Model.SOBEL_EDGE_BLUR, lines, points, data_dir, ranking_url, pith_url, rings_url, mse_url)"
   ]
  },
  {
   "cell_type": "code",
   "execution_count": null,
   "id": "5994d9e7",
   "metadata": {},
   "outputs": [],
   "source": [
    "with_model(Model.CANNY_EDGE, lines, points, data_dir, ranking_url, pith_url, rings_url, mse_url)"
   ]
  },
  {
   "cell_type": "code",
   "execution_count": null,
   "id": "9fc72582",
   "metadata": {},
   "outputs": [],
   "source": [
    "with_model(Model.CANNY_EDGE_OTSU, lines, points, data_dir, ranking_url, pith_url, rings_url, mse_url)"
   ]
  },
  {
   "cell_type": "code",
   "execution_count": null,
   "id": "e6da9545",
   "metadata": {},
   "outputs": [],
   "source": [
    "with_model(Model.CANNY_EDGE_TRIANGLE, lines, points, data_dir, ranking_url, pith_url, rings_url, mse_url)"
   ]
  },
  {
   "cell_type": "code",
   "execution_count": null,
   "id": "989633ad",
   "metadata": {},
   "outputs": [],
   "source": [
    "with_model(Model.CANNY_EDGE_MANUAL, lines, points, data_dir, ranking_url, pith_url, rings_url, mse_url)"
   ]
  },
  {
   "cell_type": "code",
   "execution_count": null,
   "id": "21fc6843",
   "metadata": {},
   "outputs": [],
   "source": [
    "with_model(Model.CANNY_EDGE_BLUR, lines, points, data_dir, ranking_url, pith_url, rings_url, mse_url)"
   ]
  },
  {
   "cell_type": "code",
   "execution_count": null,
   "id": "e57eb8d2",
   "metadata": {},
   "outputs": [],
   "source": [
    "with_model(Model.CANNY_EDGE_BLUR_OTSU, lines, points, data_dir, ranking_url, pith_url, rings_url, mse_url)"
   ]
  },
  {
   "cell_type": "code",
   "execution_count": null,
   "id": "d8f43e57",
   "metadata": {},
   "outputs": [],
   "source": [
    "with_model(Model.CANNY_EDGE_BLUR_TRIANGLE, lines, points, data_dir, ranking_url, pith_url, rings_url, mse_url)"
   ]
  },
  {
   "cell_type": "code",
   "execution_count": null,
   "id": "f86cfcf6",
   "metadata": {},
   "outputs": [],
   "source": [
    "with_model(Model.CANNY_EDGE_BLUR_MANUAL, lines, points, data_dir, ranking_url, pith_url, rings_url, mse_url)"
   ]
  },
  {
   "cell_type": "code",
   "execution_count": null,
   "id": "043784b6",
   "metadata": {},
   "outputs": [],
   "source": [
    "with_model(Model.LAPLACIAN_EDGE, lines, points, data_dir, ranking_url, pith_url, rings_url, mse_url)"
   ]
  },
  {
   "cell_type": "code",
   "execution_count": null,
   "id": "355f21f9",
   "metadata": {},
   "outputs": [],
   "source": [
    "with_model(Model.LAPLACIAN_EDGE_BLUR, lines, points, data_dir, ranking_url, pith_url, rings_url, mse_url)"
   ]
  },
  {
   "cell_type": "code",
   "execution_count": null,
   "id": "6ec8f7be",
   "metadata": {},
   "outputs": [],
   "source": []
  },
  {
   "cell_type": "code",
   "execution_count": null,
   "id": "e4b1c1ec",
   "metadata": {},
   "outputs": [],
   "source": [
    "with_model(Model.POLAR_SOBEL_EDGE, lines, points, data_dir, ranking_url, pith_url, rings_url, mse_url)"
   ]
  },
  {
   "cell_type": "code",
   "execution_count": null,
   "id": "0dc55132",
   "metadata": {},
   "outputs": [],
   "source": [
    "with_model(Model.POLAR_SOBEL_EDGE_BLUR, lines, points, data_dir, ranking_url, pith_url, rings_url, mse_url)"
   ]
  },
  {
   "cell_type": "code",
   "execution_count": null,
   "id": "bb0743d4",
   "metadata": {},
   "outputs": [],
   "source": [
    "with_model(Model.POLAR_CANNY_EDGE, lines, points, data_dir, ranking_url, pith_url, rings_url, mse_url)"
   ]
  },
  {
   "cell_type": "code",
   "execution_count": null,
   "id": "19a552eb",
   "metadata": {},
   "outputs": [],
   "source": [
    "with_model(Model.POLAR_CANNY_EDGE_OTSU, lines, points, data_dir, ranking_url, pith_url, rings_url, mse_url)"
   ]
  },
  {
   "cell_type": "code",
   "execution_count": null,
   "id": "ca08dfb3",
   "metadata": {},
   "outputs": [],
   "source": [
    "with_model(Model.POLAR_CANNY_EDGE_TRIANGLE, lines, points, data_dir, ranking_url, pith_url, rings_url, mse_url)"
   ]
  },
  {
   "cell_type": "code",
   "execution_count": null,
   "id": "7eaf0ebf",
   "metadata": {},
   "outputs": [],
   "source": [
    "with_model(Model.POLAR_CANNY_EDGE_MANUAL, lines, points, data_dir, ranking_url, pith_url, rings_url, mse_url)"
   ]
  },
  {
   "cell_type": "code",
   "execution_count": null,
   "id": "5590f2cb",
   "metadata": {},
   "outputs": [],
   "source": [
    "with_model(Model.POLAR_CANNY_EDGE_BLUR, lines, points, data_dir, ranking_url, pith_url, rings_url, mse_url)"
   ]
  },
  {
   "cell_type": "code",
   "execution_count": null,
   "id": "59c0ac66",
   "metadata": {},
   "outputs": [],
   "source": [
    "with_model(Model.POLAR_CANNY_EDGE_BLUR_OTSU, lines, points, data_dir, ranking_url, pith_url, rings_url, mse_url)"
   ]
  },
  {
   "cell_type": "code",
   "execution_count": null,
   "id": "0a337941",
   "metadata": {},
   "outputs": [],
   "source": [
    "with_model(Model.POLAR_CANNY_EDGE_BLUR_TRIANGLE, lines, points, data_dir, ranking_url, pith_url, rings_url, mse_url)"
   ]
  },
  {
   "cell_type": "code",
   "execution_count": null,
   "id": "17f7164a",
   "metadata": {},
   "outputs": [],
   "source": [
    "with_model(Model.POLAR_CANNY_EDGE_BLUR_MANUAL, lines, points, data_dir, ranking_url, pith_url, rings_url, mse_url)"
   ]
  },
  {
   "cell_type": "code",
   "execution_count": null,
   "id": "9d7b0f8d",
   "metadata": {},
   "outputs": [],
   "source": [
    "with_model(Model.POLAR_LAPLACIAN_EDGE, lines, points, data_dir, ranking_url, pith_url, rings_url, mse_url)"
   ]
  },
  {
   "cell_type": "code",
   "execution_count": null,
   "id": "33559112",
   "metadata": {},
   "outputs": [],
   "source": [
    "with_model(Model.POLAR_LAPLACIAN_EDGE_BLUR, lines, points, data_dir, ranking_url, pith_url, rings_url, mse_url)"
   ]
  },
  {
   "cell_type": "code",
   "execution_count": null,
   "id": "76c7c094",
   "metadata": {},
   "outputs": [],
   "source": []
  },
  {
   "cell_type": "code",
   "execution_count": null,
   "id": "e36334e0",
   "metadata": {},
   "outputs": [],
   "source": [
    "with_model(Model.POLAR_PITH_SOBEL_EDGE, lines, points, data_dir, ranking_url, pith_url, rings_url, mse_url)"
   ]
  },
  {
   "cell_type": "code",
   "execution_count": null,
   "id": "fba84e51",
   "metadata": {},
   "outputs": [],
   "source": [
    "with_model(Model.POLAR_PITH_SOBEL_EDGE_BLUR, lines, points, data_dir, ranking_url, pith_url, rings_url, mse_url)"
   ]
  },
  {
   "cell_type": "code",
   "execution_count": null,
   "id": "881f5d46",
   "metadata": {},
   "outputs": [],
   "source": [
    "with_model(Model.POLAR_PITH_CANNY_EDGE, lines, points, data_dir, ranking_url, pith_url, rings_url, mse_url)"
   ]
  },
  {
   "cell_type": "code",
   "execution_count": null,
   "id": "30c51875",
   "metadata": {},
   "outputs": [],
   "source": [
    "with_model(Model.POLAR_PITH_CANNY_EDGE_OTSU, lines, points, data_dir, ranking_url, pith_url, rings_url, mse_url)"
   ]
  },
  {
   "cell_type": "code",
   "execution_count": null,
   "id": "d6e05ca3",
   "metadata": {},
   "outputs": [],
   "source": [
    "with_model(Model.POLAR_PITH_CANNY_EDGE_TRIANGLE, lines, points, data_dir, ranking_url, pith_url, rings_url, mse_url)"
   ]
  },
  {
   "cell_type": "code",
   "execution_count": null,
   "id": "406a0c9a",
   "metadata": {},
   "outputs": [],
   "source": [
    "with_model(Model.POLAR_PITH_CANNY_EDGE_MANUAL, lines, points, data_dir, ranking_url, pith_url, rings_url, mse_url)"
   ]
  },
  {
   "cell_type": "code",
   "execution_count": null,
   "id": "1ffb7487",
   "metadata": {},
   "outputs": [],
   "source": [
    "with_model(Model.POLAR_PITH_CANNY_EDGE_BLUR, lines, points, data_dir, ranking_url, pith_url, rings_url, mse_url)"
   ]
  },
  {
   "cell_type": "code",
   "execution_count": null,
   "id": "6e528227",
   "metadata": {},
   "outputs": [],
   "source": [
    "with_model(Model.POLAR_PITH_CANNY_EDGE_BLUR_OTSU, lines, points, data_dir, ranking_url, pith_url, rings_url, mse_url)"
   ]
  },
  {
   "cell_type": "code",
   "execution_count": null,
   "id": "a98298b9",
   "metadata": {},
   "outputs": [],
   "source": [
    "with_model(Model.POLAR_PITH_CANNY_EDGE_BLUR_TRIANGLE, lines, points, data_dir, ranking_url, pith_url, rings_url, mse_url)"
   ]
  },
  {
   "cell_type": "code",
   "execution_count": null,
   "id": "9e287b52",
   "metadata": {},
   "outputs": [],
   "source": [
    "with_model(Model.POLAR_PITH_CANNY_EDGE_BLUR_MANUAL, lines, points, data_dir, ranking_url, pith_url, rings_url, mse_url)"
   ]
  },
  {
   "cell_type": "code",
   "execution_count": null,
   "id": "bd2e973d",
   "metadata": {},
   "outputs": [],
   "source": [
    "with_model(Model.POLAR_PITH_LAPLACIAN_EDGE, lines, points, data_dir, ranking_url, pith_url, rings_url, mse_url)"
   ]
  },
  {
   "cell_type": "code",
   "execution_count": null,
   "id": "78e64035",
   "metadata": {},
   "outputs": [],
   "source": [
    "with_model(Model.POLAR_PITH_LAPLACIAN_EDGE_BLUR, lines, points, data_dir, ranking_url, pith_url, rings_url, mse_url)"
   ]
  },
  {
   "cell_type": "code",
   "execution_count": null,
   "id": "f5a2e335",
   "metadata": {},
   "outputs": [],
   "source": [
    "multi_mse(mse_url)"
   ]
  },
  {
   "cell_type": "code",
   "execution_count": null,
   "id": "2f852faa",
   "metadata": {},
   "outputs": [],
   "source": [
    "#STOP"
   ]
  }
 ],
 "metadata": {
  "kernelspec": {
   "display_name": "Python 3 (ipykernel)",
   "language": "python",
   "name": "python3"
  },
  "language_info": {
   "codemirror_mode": {
    "name": "ipython",
    "version": 3
   },
   "file_extension": ".py",
   "mimetype": "text/x-python",
   "name": "python",
   "nbconvert_exporter": "python",
   "pygments_lexer": "ipython3",
   "version": "3.9.6"
  }
 },
 "nbformat": 4,
 "nbformat_minor": 5
}
