{
 "cells": [
  {
   "cell_type": "code",
   "execution_count": null,
   "id": "f2bc938e",
   "metadata": {},
   "outputs": [],
   "source": [
    "from experiment import with_model\n",
    "from pkg.model import Model\n",
    "from pkg.visualize import plot_multi_mse"
   ]
  },
  {
   "cell_type": "markdown",
   "id": "a382f8b5",
   "metadata": {},
   "source": [
    "# Configurations"
   ]
  },
  {
   "cell_type": "code",
   "execution_count": null,
   "id": "1aef55ef",
   "metadata": {},
   "outputs": [],
   "source": [
    "#data directory here!\n",
    "data_dir = \"dataset/pine\"\n",
    "\n",
    "#ranking file\n",
    "ranking_url = \"dataset/pine.xlsx\"\n",
    "\n",
    "#pickle file\n",
    "pickle_url = \"output/pine.pickle\""
   ]
  },
  {
   "cell_type": "markdown",
   "id": "2738afaf",
   "metadata": {},
   "source": [
    "## Phase 1 Model"
   ]
  },
  {
   "cell_type": "code",
   "execution_count": null,
   "id": "f404c659",
   "metadata": {},
   "outputs": [],
   "source": [
    "#MSE file\n",
    "mse_url = \"output/pine_mse.csv\"\n",
    "\n",
    "#rings info file\n",
    "rings_url = \"output/pine_rings.csv\"\n",
    "\n",
    "no_of_lines = 16\n",
    "no_of_points = 150"
   ]
  },
  {
   "cell_type": "code",
   "execution_count": null,
   "id": "0fc5323d",
   "metadata": {},
   "outputs": [],
   "source": [
    "with_model(Model.GRAYSCALE, no_of_lines, no_of_points, data_dir, ranking_url, pickle_url, rings_url, mse_url)"
   ]
  },
  {
   "cell_type": "code",
   "execution_count": null,
   "id": "5c5e0158",
   "metadata": {},
   "outputs": [],
   "source": [
    "with_model(Model.POLAR, no_of_lines, no_of_points, data_dir, ranking_url, pickle_url, rings_url, mse_url)"
   ]
  },
  {
   "cell_type": "code",
   "execution_count": null,
   "id": "d9e30891",
   "metadata": {},
   "outputs": [],
   "source": [
    "with_model(Model.POLAR_PITH, no_of_lines, no_of_points, data_dir, ranking_url, pickle_url, rings_url, mse_url)"
   ]
  },
  {
   "cell_type": "code",
   "execution_count": null,
   "id": "33125fc3",
   "metadata": {},
   "outputs": [],
   "source": [
    "with_model(Model.SOBEL_EDGE, no_of_lines, no_of_points, data_dir, ranking_url, pickle_url, rings_url, mse_url)"
   ]
  },
  {
   "cell_type": "code",
   "execution_count": null,
   "id": "9dd0bf5b",
   "metadata": {},
   "outputs": [],
   "source": [
    "with_model(Model.CANNY_EDGE, no_of_lines, no_of_points, data_dir, ranking_url, pickle_url, rings_url, mse_url)"
   ]
  },
  {
   "cell_type": "code",
   "execution_count": null,
   "id": "c3043ef5",
   "metadata": {},
   "outputs": [],
   "source": [
    "plot_multi_mse(mse_url, False)"
   ]
  },
  {
   "cell_type": "code",
   "execution_count": null,
   "id": "ddb0de4d",
   "metadata": {},
   "outputs": [],
   "source": [
    "#STOP"
   ]
  },
  {
   "cell_type": "markdown",
   "id": "dcfff2f6",
   "metadata": {},
   "source": [
    "## Phase 2 Model"
   ]
  },
  {
   "cell_type": "markdown",
   "id": "600e29d4",
   "metadata": {},
   "source": [
    "### Model with 16 lines"
   ]
  },
  {
   "cell_type": "code",
   "execution_count": null,
   "id": "ddd064fc",
   "metadata": {},
   "outputs": [],
   "source": [
    "#MSE file\n",
    "mse_url = \"output/pine_mse_sixteen.csv\"\n",
    "\n",
    "#rings info file\n",
    "rings_url = \"output/pine_rings_sixteen.csv\"\n",
    "\n",
    "no_of_lines = 16\n",
    "no_of_points = 150"
   ]
  },
  {
   "cell_type": "code",
   "execution_count": null,
   "id": "51fb0795",
   "metadata": {},
   "outputs": [],
   "source": [
    "with_model(Model.GRAYSCALE, no_of_lines, no_of_points, data_dir, ranking_url, pickle_url, rings_url, mse_url)"
   ]
  },
  {
   "cell_type": "code",
   "execution_count": null,
   "id": "e9558f17",
   "metadata": {},
   "outputs": [],
   "source": [
    "with_model(Model.POLAR, no_of_lines, no_of_points, data_dir, ranking_url, pickle_url, rings_url, mse_url)"
   ]
  },
  {
   "cell_type": "code",
   "execution_count": null,
   "id": "1b0ac3f1",
   "metadata": {},
   "outputs": [],
   "source": [
    "with_model(Model.POLAR_PITH, no_of_lines, no_of_points, data_dir, ranking_url, pickle_url, rings_url, mse_url)"
   ]
  },
  {
   "cell_type": "code",
   "execution_count": null,
   "id": "35b80fb0",
   "metadata": {},
   "outputs": [],
   "source": []
  },
  {
   "cell_type": "code",
   "execution_count": null,
   "id": "58f9f265",
   "metadata": {},
   "outputs": [],
   "source": [
    "with_model(Model.SOBEL_EDGE, no_of_lines, no_of_points, data_dir, ranking_url, pickle_url, rings_url, mse_url)"
   ]
  },
  {
   "cell_type": "code",
   "execution_count": null,
   "id": "48d1849e",
   "metadata": {},
   "outputs": [],
   "source": [
    "with_model(Model.SOBEL_EDGE_BLUR, no_of_lines, no_of_points, data_dir, ranking_url, pickle_url, rings_url, mse_url)"
   ]
  },
  {
   "cell_type": "code",
   "execution_count": null,
   "id": "bfdb6e13",
   "metadata": {},
   "outputs": [],
   "source": [
    "with_model(Model.CANNY_EDGE, no_of_lines, no_of_points, data_dir, ranking_url, pickle_url, rings_url, mse_url)"
   ]
  },
  {
   "cell_type": "code",
   "execution_count": null,
   "id": "af83b217",
   "metadata": {},
   "outputs": [],
   "source": [
    "with_model(Model.CANNY_EDGE_OTSU, no_of_lines, no_of_points, data_dir, ranking_url, pickle_url, rings_url, mse_url)"
   ]
  },
  {
   "cell_type": "code",
   "execution_count": null,
   "id": "aaf7c5d5",
   "metadata": {},
   "outputs": [],
   "source": [
    "with_model(Model.CANNY_EDGE_TRIANGLE, no_of_lines, no_of_points, data_dir, ranking_url, pickle_url, rings_url, mse_url)"
   ]
  },
  {
   "cell_type": "code",
   "execution_count": null,
   "id": "37b04875",
   "metadata": {},
   "outputs": [],
   "source": [
    "with_model(Model.CANNY_EDGE_MANUAL, no_of_lines, no_of_points, data_dir, ranking_url, pickle_url, rings_url, mse_url)"
   ]
  },
  {
   "cell_type": "code",
   "execution_count": null,
   "id": "dadfd80a",
   "metadata": {},
   "outputs": [],
   "source": [
    "with_model(Model.CANNY_EDGE_BLUR, no_of_lines, no_of_points, data_dir, ranking_url, pickle_url, rings_url, mse_url)"
   ]
  },
  {
   "cell_type": "code",
   "execution_count": null,
   "id": "e8ab48ad",
   "metadata": {},
   "outputs": [],
   "source": [
    "with_model(Model.CANNY_EDGE_BLUR_OTSU, no_of_lines, no_of_points, data_dir, ranking_url, pickle_url, rings_url, mse_url)"
   ]
  },
  {
   "cell_type": "code",
   "execution_count": null,
   "id": "23d1a996",
   "metadata": {},
   "outputs": [],
   "source": [
    "with_model(Model.CANNY_EDGE_BLUR_TRIANGLE, no_of_lines, no_of_points, data_dir, ranking_url, pickle_url, rings_url, mse_url)"
   ]
  },
  {
   "cell_type": "code",
   "execution_count": null,
   "id": "21804530",
   "metadata": {},
   "outputs": [],
   "source": [
    "with_model(Model.CANNY_EDGE_BLUR_MANUAL, no_of_lines, no_of_points, data_dir, ranking_url, pickle_url, rings_url, mse_url)"
   ]
  },
  {
   "cell_type": "code",
   "execution_count": null,
   "id": "30d22fe1",
   "metadata": {},
   "outputs": [],
   "source": [
    "with_model(Model.LAPLACIAN_EDGE, no_of_lines, no_of_points, data_dir, ranking_url, pickle_url, rings_url, mse_url)"
   ]
  },
  {
   "cell_type": "code",
   "execution_count": null,
   "id": "3a400e30",
   "metadata": {},
   "outputs": [],
   "source": [
    "with_model(Model.LAPLACIAN_EDGE_BLUR, no_of_lines, no_of_points, data_dir, ranking_url, pickle_url, rings_url, mse_url)"
   ]
  },
  {
   "cell_type": "code",
   "execution_count": null,
   "id": "bf6dec47",
   "metadata": {},
   "outputs": [],
   "source": []
  },
  {
   "cell_type": "code",
   "execution_count": null,
   "id": "67430856",
   "metadata": {},
   "outputs": [],
   "source": [
    "with_model(Model.POLAR_SOBEL_EDGE, no_of_lines, no_of_points, data_dir, ranking_url, pickle_url, rings_url, mse_url)"
   ]
  },
  {
   "cell_type": "code",
   "execution_count": null,
   "id": "3b6f3da2",
   "metadata": {},
   "outputs": [],
   "source": [
    "with_model(Model.POLAR_SOBEL_EDGE_BLUR, no_of_lines, no_of_points, data_dir, ranking_url, pickle_url, rings_url, mse_url)"
   ]
  },
  {
   "cell_type": "code",
   "execution_count": null,
   "id": "ee75dd80",
   "metadata": {},
   "outputs": [],
   "source": [
    "with_model(Model.POLAR_CANNY_EDGE, no_of_lines, no_of_points, data_dir, ranking_url, pickle_url, rings_url, mse_url)"
   ]
  },
  {
   "cell_type": "code",
   "execution_count": null,
   "id": "95860264",
   "metadata": {},
   "outputs": [],
   "source": [
    "with_model(Model.POLAR_CANNY_EDGE_OTSU, no_of_lines, no_of_points, data_dir, ranking_url, pickle_url, rings_url, mse_url)"
   ]
  },
  {
   "cell_type": "code",
   "execution_count": null,
   "id": "cb91f2b9",
   "metadata": {},
   "outputs": [],
   "source": [
    "with_model(Model.POLAR_CANNY_EDGE_TRIANGLE, no_of_lines, no_of_points, data_dir, ranking_url, pickle_url, rings_url, mse_url)"
   ]
  },
  {
   "cell_type": "code",
   "execution_count": null,
   "id": "b9b3b7fa",
   "metadata": {},
   "outputs": [],
   "source": [
    "with_model(Model.POLAR_CANNY_EDGE_MANUAL, no_of_lines, no_of_points, data_dir, ranking_url, pickle_url, rings_url, mse_url)"
   ]
  },
  {
   "cell_type": "code",
   "execution_count": null,
   "id": "f3b7e6da",
   "metadata": {},
   "outputs": [],
   "source": [
    "with_model(Model.POLAR_CANNY_EDGE_BLUR, no_of_lines, no_of_points, data_dir, ranking_url, pickle_url, rings_url, mse_url)"
   ]
  },
  {
   "cell_type": "code",
   "execution_count": null,
   "id": "d30f5bab",
   "metadata": {},
   "outputs": [],
   "source": [
    "with_model(Model.POLAR_CANNY_EDGE_BLUR_OTSU, no_of_lines, no_of_points, data_dir, ranking_url, pickle_url, rings_url, mse_url)"
   ]
  },
  {
   "cell_type": "code",
   "execution_count": null,
   "id": "4a5752ee",
   "metadata": {},
   "outputs": [],
   "source": [
    "with_model(Model.POLAR_CANNY_EDGE_BLUR_TRIANGLE, no_of_lines, no_of_points, data_dir, ranking_url, pickle_url, rings_url, mse_url)"
   ]
  },
  {
   "cell_type": "code",
   "execution_count": null,
   "id": "d1eef189",
   "metadata": {},
   "outputs": [],
   "source": [
    "with_model(Model.POLAR_CANNY_EDGE_BLUR_MANUAL, no_of_lines, no_of_points, data_dir, ranking_url, pickle_url, rings_url, mse_url)"
   ]
  },
  {
   "cell_type": "code",
   "execution_count": null,
   "id": "a2c63b76",
   "metadata": {},
   "outputs": [],
   "source": [
    "with_model(Model.POLAR_LAPLACIAN_EDGE, no_of_lines, no_of_points, data_dir, ranking_url, pickle_url, rings_url, mse_url)"
   ]
  },
  {
   "cell_type": "code",
   "execution_count": null,
   "id": "055f80d8",
   "metadata": {},
   "outputs": [],
   "source": [
    "with_model(Model.POLAR_LAPLACIAN_EDGE_BLUR, no_of_lines, no_of_points, data_dir, ranking_url, pickle_url, rings_url, mse_url)"
   ]
  },
  {
   "cell_type": "code",
   "execution_count": null,
   "id": "717b358e",
   "metadata": {},
   "outputs": [],
   "source": []
  },
  {
   "cell_type": "code",
   "execution_count": null,
   "id": "4000d64b",
   "metadata": {},
   "outputs": [],
   "source": [
    "with_model(Model.POLAR_PITH_SOBEL_EDGE, no_of_lines, no_of_points, data_dir, ranking_url, pickle_url, rings_url, mse_url)"
   ]
  },
  {
   "cell_type": "code",
   "execution_count": null,
   "id": "eec08ac6",
   "metadata": {},
   "outputs": [],
   "source": [
    "with_model(Model.POLAR_PITH_SOBEL_EDGE_BLUR, no_of_lines, no_of_points, data_dir, ranking_url, pickle_url, rings_url, mse_url)"
   ]
  },
  {
   "cell_type": "code",
   "execution_count": null,
   "id": "97fb7a77",
   "metadata": {},
   "outputs": [],
   "source": [
    "with_model(Model.POLAR_PITH_CANNY_EDGE, no_of_lines, no_of_points, data_dir, ranking_url, pickle_url, rings_url, mse_url)"
   ]
  },
  {
   "cell_type": "code",
   "execution_count": null,
   "id": "016625dd",
   "metadata": {},
   "outputs": [],
   "source": [
    "with_model(Model.POLAR_PITH_CANNY_EDGE_OTSU, no_of_lines, no_of_points, data_dir, ranking_url, pickle_url, rings_url, mse_url)"
   ]
  },
  {
   "cell_type": "code",
   "execution_count": null,
   "id": "300f771c",
   "metadata": {},
   "outputs": [],
   "source": [
    "with_model(Model.POLAR_PITH_CANNY_EDGE_TRIANGLE, no_of_lines, no_of_points, data_dir, ranking_url, pickle_url, rings_url, mse_url)"
   ]
  },
  {
   "cell_type": "code",
   "execution_count": null,
   "id": "b1a23908",
   "metadata": {},
   "outputs": [],
   "source": [
    "with_model(Model.POLAR_PITH_CANNY_EDGE_MANUAL, no_of_lines, no_of_points, data_dir, ranking_url, pickle_url, rings_url, mse_url)"
   ]
  },
  {
   "cell_type": "code",
   "execution_count": null,
   "id": "44bf39bb",
   "metadata": {},
   "outputs": [],
   "source": [
    "with_model(Model.POLAR_PITH_CANNY_EDGE_BLUR, no_of_lines, no_of_points, data_dir, ranking_url, pickle_url, rings_url, mse_url)"
   ]
  },
  {
   "cell_type": "code",
   "execution_count": null,
   "id": "483e93b8",
   "metadata": {},
   "outputs": [],
   "source": [
    "with_model(Model.POLAR_PITH_CANNY_EDGE_BLUR_OTSU, no_of_lines, no_of_points, data_dir, ranking_url, pickle_url, rings_url, mse_url)"
   ]
  },
  {
   "cell_type": "code",
   "execution_count": null,
   "id": "081babe2",
   "metadata": {},
   "outputs": [],
   "source": [
    "with_model(Model.POLAR_PITH_CANNY_EDGE_BLUR_TRIANGLE, no_of_lines, no_of_points, data_dir, ranking_url, pickle_url, rings_url, mse_url)"
   ]
  },
  {
   "cell_type": "code",
   "execution_count": null,
   "id": "261c103a",
   "metadata": {},
   "outputs": [],
   "source": [
    "with_model(Model.POLAR_PITH_CANNY_EDGE_BLUR_MANUAL, no_of_lines, no_of_points, data_dir, ranking_url, pickle_url, rings_url, mse_url)"
   ]
  },
  {
   "cell_type": "code",
   "execution_count": null,
   "id": "d4c9ff68",
   "metadata": {},
   "outputs": [],
   "source": [
    "with_model(Model.POLAR_PITH_LAPLACIAN_EDGE, no_of_lines, no_of_points, data_dir, ranking_url, pickle_url, rings_url, mse_url)"
   ]
  },
  {
   "cell_type": "code",
   "execution_count": null,
   "id": "385ccfcc",
   "metadata": {},
   "outputs": [],
   "source": [
    "with_model(Model.POLAR_PITH_LAPLACIAN_EDGE_BLUR, no_of_lines, no_of_points, data_dir, ranking_url, pickle_url, rings_url, mse_url)"
   ]
  },
  {
   "cell_type": "code",
   "execution_count": null,
   "id": "34ab8968",
   "metadata": {},
   "outputs": [],
   "source": [
    "plot_multi_mse(mse_url)"
   ]
  },
  {
   "cell_type": "code",
   "execution_count": null,
   "id": "17bf2401",
   "metadata": {},
   "outputs": [],
   "source": [
    "#STOP"
   ]
  },
  {
   "cell_type": "markdown",
   "id": "39e8e020",
   "metadata": {},
   "source": [
    "### Model with 32 lines"
   ]
  },
  {
   "cell_type": "code",
   "execution_count": null,
   "id": "c233746c",
   "metadata": {},
   "outputs": [],
   "source": [
    "#MSE file\n",
    "mse_url = \"output/pine_mse_thirtytwo.csv\"\n",
    "\n",
    "#rings info file\n",
    "rings_url = \"output/pine_rings_thirtytwo.csv\"\n",
    "\n",
    "no_of_lines = 32\n",
    "no_of_points = 150"
   ]
  },
  {
   "cell_type": "code",
   "execution_count": null,
   "id": "50f82559",
   "metadata": {},
   "outputs": [],
   "source": [
    "with_model(Model.GRAYSCALE, no_of_lines, no_of_points, data_dir, ranking_url, pickle_url, rings_url, mse_url)"
   ]
  },
  {
   "cell_type": "code",
   "execution_count": null,
   "id": "8797c4d3",
   "metadata": {},
   "outputs": [],
   "source": [
    "with_model(Model.POLAR, no_of_lines, no_of_points, data_dir, ranking_url, pickle_url, rings_url, mse_url)"
   ]
  },
  {
   "cell_type": "code",
   "execution_count": null,
   "id": "c5d94494",
   "metadata": {},
   "outputs": [],
   "source": [
    "with_model(Model.POLAR_PITH, no_of_lines, no_of_points, data_dir, ranking_url, pickle_url, rings_url, mse_url)"
   ]
  },
  {
   "cell_type": "code",
   "execution_count": null,
   "id": "d2cd02d0",
   "metadata": {},
   "outputs": [],
   "source": []
  },
  {
   "cell_type": "code",
   "execution_count": null,
   "id": "c0dffadb",
   "metadata": {},
   "outputs": [],
   "source": [
    "with_model(Model.SOBEL_EDGE, no_of_lines, no_of_points, data_dir, ranking_url, pickle_url, rings_url, mse_url)"
   ]
  },
  {
   "cell_type": "code",
   "execution_count": null,
   "id": "04e63e04",
   "metadata": {},
   "outputs": [],
   "source": [
    "with_model(Model.SOBEL_EDGE_BLUR, no_of_lines, no_of_points, data_dir, ranking_url, pickle_url, rings_url, mse_url)"
   ]
  },
  {
   "cell_type": "code",
   "execution_count": null,
   "id": "5994d9e7",
   "metadata": {},
   "outputs": [],
   "source": [
    "with_model(Model.CANNY_EDGE, no_of_lines, no_of_points, data_dir, ranking_url, pickle_url, rings_url, mse_url)"
   ]
  },
  {
   "cell_type": "code",
   "execution_count": null,
   "id": "9fc72582",
   "metadata": {},
   "outputs": [],
   "source": [
    "with_model(Model.CANNY_EDGE_OTSU, no_of_lines, no_of_points, data_dir, ranking_url, pickle_url, rings_url, mse_url)"
   ]
  },
  {
   "cell_type": "code",
   "execution_count": null,
   "id": "e6da9545",
   "metadata": {},
   "outputs": [],
   "source": [
    "with_model(Model.CANNY_EDGE_TRIANGLE, no_of_lines, no_of_points, data_dir, ranking_url, pickle_url, rings_url, mse_url)"
   ]
  },
  {
   "cell_type": "code",
   "execution_count": null,
   "id": "989633ad",
   "metadata": {},
   "outputs": [],
   "source": [
    "with_model(Model.CANNY_EDGE_MANUAL, no_of_lines, no_of_points, data_dir, ranking_url, pickle_url, rings_url, mse_url)"
   ]
  },
  {
   "cell_type": "code",
   "execution_count": null,
   "id": "21fc6843",
   "metadata": {},
   "outputs": [],
   "source": [
    "with_model(Model.CANNY_EDGE_BLUR, no_of_lines, no_of_points, data_dir, ranking_url, pickle_url, rings_url, mse_url)"
   ]
  },
  {
   "cell_type": "code",
   "execution_count": null,
   "id": "e57eb8d2",
   "metadata": {},
   "outputs": [],
   "source": [
    "with_model(Model.CANNY_EDGE_BLUR_OTSU, no_of_lines, no_of_points, data_dir, ranking_url, pickle_url, rings_url, mse_url)"
   ]
  },
  {
   "cell_type": "code",
   "execution_count": null,
   "id": "d8f43e57",
   "metadata": {},
   "outputs": [],
   "source": [
    "with_model(Model.CANNY_EDGE_BLUR_TRIANGLE, no_of_lines, no_of_points, data_dir, ranking_url, pickle_url, rings_url, mse_url)"
   ]
  },
  {
   "cell_type": "code",
   "execution_count": null,
   "id": "f86cfcf6",
   "metadata": {},
   "outputs": [],
   "source": [
    "with_model(Model.CANNY_EDGE_BLUR_MANUAL, no_of_lines, no_of_points, data_dir, ranking_url, pickle_url, rings_url, mse_url)"
   ]
  },
  {
   "cell_type": "code",
   "execution_count": null,
   "id": "043784b6",
   "metadata": {},
   "outputs": [],
   "source": [
    "with_model(Model.LAPLACIAN_EDGE, no_of_lines, no_of_points, data_dir, ranking_url, pickle_url, rings_url, mse_url)"
   ]
  },
  {
   "cell_type": "code",
   "execution_count": null,
   "id": "355f21f9",
   "metadata": {},
   "outputs": [],
   "source": [
    "with_model(Model.LAPLACIAN_EDGE_BLUR, no_of_lines, no_of_points, data_dir, ranking_url, pickle_url, rings_url, mse_url)"
   ]
  },
  {
   "cell_type": "code",
   "execution_count": null,
   "id": "6ec8f7be",
   "metadata": {},
   "outputs": [],
   "source": []
  },
  {
   "cell_type": "code",
   "execution_count": null,
   "id": "e4b1c1ec",
   "metadata": {},
   "outputs": [],
   "source": [
    "with_model(Model.POLAR_SOBEL_EDGE, no_of_lines, no_of_points, data_dir, ranking_url, pickle_url, rings_url, mse_url)"
   ]
  },
  {
   "cell_type": "code",
   "execution_count": null,
   "id": "0dc55132",
   "metadata": {},
   "outputs": [],
   "source": [
    "with_model(Model.POLAR_SOBEL_EDGE_BLUR, no_of_lines, no_of_points, data_dir, ranking_url, pickle_url, rings_url, mse_url)"
   ]
  },
  {
   "cell_type": "code",
   "execution_count": null,
   "id": "bb0743d4",
   "metadata": {},
   "outputs": [],
   "source": [
    "with_model(Model.POLAR_CANNY_EDGE, no_of_lines, no_of_points, data_dir, ranking_url, pickle_url, rings_url, mse_url)"
   ]
  },
  {
   "cell_type": "code",
   "execution_count": null,
   "id": "19a552eb",
   "metadata": {},
   "outputs": [],
   "source": [
    "with_model(Model.POLAR_CANNY_EDGE_OTSU, no_of_lines, no_of_points, data_dir, ranking_url, pickle_url, rings_url, mse_url)"
   ]
  },
  {
   "cell_type": "code",
   "execution_count": null,
   "id": "ca08dfb3",
   "metadata": {},
   "outputs": [],
   "source": [
    "with_model(Model.POLAR_CANNY_EDGE_TRIANGLE, no_of_lines, no_of_points, data_dir, ranking_url, pickle_url, rings_url, mse_url)"
   ]
  },
  {
   "cell_type": "code",
   "execution_count": null,
   "id": "7eaf0ebf",
   "metadata": {},
   "outputs": [],
   "source": [
    "with_model(Model.POLAR_CANNY_EDGE_MANUAL, no_of_lines, no_of_points, data_dir, ranking_url, pickle_url, rings_url, mse_url)"
   ]
  },
  {
   "cell_type": "code",
   "execution_count": null,
   "id": "5590f2cb",
   "metadata": {},
   "outputs": [],
   "source": [
    "with_model(Model.POLAR_CANNY_EDGE_BLUR, no_of_lines, no_of_points, data_dir, ranking_url, pickle_url, rings_url, mse_url)"
   ]
  },
  {
   "cell_type": "code",
   "execution_count": null,
   "id": "59c0ac66",
   "metadata": {},
   "outputs": [],
   "source": [
    "with_model(Model.POLAR_CANNY_EDGE_BLUR_OTSU, no_of_lines, no_of_points, data_dir, ranking_url, pickle_url, rings_url, mse_url)"
   ]
  },
  {
   "cell_type": "code",
   "execution_count": null,
   "id": "0a337941",
   "metadata": {},
   "outputs": [],
   "source": [
    "with_model(Model.POLAR_CANNY_EDGE_BLUR_TRIANGLE, no_of_lines, no_of_points, data_dir, ranking_url, pickle_url, rings_url, mse_url)"
   ]
  },
  {
   "cell_type": "code",
   "execution_count": null,
   "id": "17f7164a",
   "metadata": {},
   "outputs": [],
   "source": [
    "with_model(Model.POLAR_CANNY_EDGE_BLUR_MANUAL, no_of_lines, no_of_points, data_dir, ranking_url, pickle_url, rings_url, mse_url)"
   ]
  },
  {
   "cell_type": "code",
   "execution_count": null,
   "id": "9d7b0f8d",
   "metadata": {},
   "outputs": [],
   "source": [
    "with_model(Model.POLAR_LAPLACIAN_EDGE, no_of_lines, no_of_points, data_dir, ranking_url, pickle_url, rings_url, mse_url)"
   ]
  },
  {
   "cell_type": "code",
   "execution_count": null,
   "id": "33559112",
   "metadata": {},
   "outputs": [],
   "source": [
    "with_model(Model.POLAR_LAPLACIAN_EDGE_BLUR, no_of_lines, no_of_points, data_dir, ranking_url, pickle_url, rings_url, mse_url)"
   ]
  },
  {
   "cell_type": "code",
   "execution_count": null,
   "id": "76c7c094",
   "metadata": {},
   "outputs": [],
   "source": []
  },
  {
   "cell_type": "code",
   "execution_count": null,
   "id": "e36334e0",
   "metadata": {},
   "outputs": [],
   "source": [
    "with_model(Model.POLAR_PITH_SOBEL_EDGE, no_of_lines, no_of_points, data_dir, ranking_url, pickle_url, rings_url, mse_url)"
   ]
  },
  {
   "cell_type": "code",
   "execution_count": null,
   "id": "fba84e51",
   "metadata": {},
   "outputs": [],
   "source": [
    "with_model(Model.POLAR_PITH_SOBEL_EDGE_BLUR, no_of_lines, no_of_points, data_dir, ranking_url, pickle_url, rings_url, mse_url)"
   ]
  },
  {
   "cell_type": "code",
   "execution_count": null,
   "id": "881f5d46",
   "metadata": {},
   "outputs": [],
   "source": [
    "with_model(Model.POLAR_PITH_CANNY_EDGE, no_of_lines, no_of_points, data_dir, ranking_url, pickle_url, rings_url, mse_url)"
   ]
  },
  {
   "cell_type": "code",
   "execution_count": null,
   "id": "30c51875",
   "metadata": {},
   "outputs": [],
   "source": [
    "with_model(Model.POLAR_PITH_CANNY_EDGE_OTSU, no_of_lines, no_of_points, data_dir, ranking_url, pickle_url, rings_url, mse_url)"
   ]
  },
  {
   "cell_type": "code",
   "execution_count": null,
   "id": "d6e05ca3",
   "metadata": {},
   "outputs": [],
   "source": [
    "with_model(Model.POLAR_PITH_CANNY_EDGE_TRIANGLE, no_of_lines, no_of_points, data_dir, ranking_url, pickle_url, rings_url, mse_url)"
   ]
  },
  {
   "cell_type": "code",
   "execution_count": null,
   "id": "406a0c9a",
   "metadata": {},
   "outputs": [],
   "source": [
    "with_model(Model.POLAR_PITH_CANNY_EDGE_MANUAL, no_of_lines, no_of_points, data_dir, ranking_url, pickle_url, rings_url, mse_url)"
   ]
  },
  {
   "cell_type": "code",
   "execution_count": null,
   "id": "1ffb7487",
   "metadata": {},
   "outputs": [],
   "source": [
    "with_model(Model.POLAR_PITH_CANNY_EDGE_BLUR, no_of_lines, no_of_points, data_dir, ranking_url, pickle_url, rings_url, mse_url)"
   ]
  },
  {
   "cell_type": "code",
   "execution_count": null,
   "id": "6e528227",
   "metadata": {},
   "outputs": [],
   "source": [
    "with_model(Model.POLAR_PITH_CANNY_EDGE_BLUR_OTSU, no_of_lines, no_of_points, data_dir, ranking_url, pickle_url, rings_url, mse_url)"
   ]
  },
  {
   "cell_type": "code",
   "execution_count": null,
   "id": "a98298b9",
   "metadata": {},
   "outputs": [],
   "source": [
    "with_model(Model.POLAR_PITH_CANNY_EDGE_BLUR_TRIANGLE, no_of_lines, no_of_points, data_dir, ranking_url, pickle_url, rings_url, mse_url)"
   ]
  },
  {
   "cell_type": "code",
   "execution_count": null,
   "id": "9e287b52",
   "metadata": {},
   "outputs": [],
   "source": [
    "with_model(Model.POLAR_PITH_CANNY_EDGE_BLUR_MANUAL, no_of_lines, no_of_points, data_dir, ranking_url, pickle_url, rings_url, mse_url)"
   ]
  },
  {
   "cell_type": "code",
   "execution_count": null,
   "id": "bd2e973d",
   "metadata": {},
   "outputs": [],
   "source": [
    "with_model(Model.POLAR_PITH_LAPLACIAN_EDGE, no_of_lines, no_of_points, data_dir, ranking_url, pickle_url, rings_url, mse_url)"
   ]
  },
  {
   "cell_type": "code",
   "execution_count": null,
   "id": "78e64035",
   "metadata": {},
   "outputs": [],
   "source": [
    "with_model(Model.POLAR_PITH_LAPLACIAN_EDGE_BLUR, no_of_lines, no_of_points, data_dir, ranking_url, pickle_url, rings_url, mse_url)"
   ]
  },
  {
   "cell_type": "code",
   "execution_count": null,
   "id": "f5a2e335",
   "metadata": {},
   "outputs": [],
   "source": [
    "plot_multi_mse(mse_url)"
   ]
  },
  {
   "cell_type": "code",
   "execution_count": null,
   "id": "2f852faa",
   "metadata": {},
   "outputs": [],
   "source": [
    "#STOP"
   ]
  }
 ],
 "metadata": {
  "kernelspec": {
   "display_name": "Python 3 (ipykernel)",
   "language": "python",
   "name": "python3"
  },
  "language_info": {
   "codemirror_mode": {
    "name": "ipython",
    "version": 3
   },
   "file_extension": ".py",
   "mimetype": "text/x-python",
   "name": "python",
   "nbconvert_exporter": "python",
   "pygments_lexer": "ipython3",
   "version": "3.9.6"
  }
 },
 "nbformat": 4,
 "nbformat_minor": 5
}
