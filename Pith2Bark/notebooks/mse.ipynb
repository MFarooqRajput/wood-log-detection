{
 "cells": [
  {
   "cell_type": "code",
   "execution_count": null,
   "id": "0dc9ddcb",
   "metadata": {},
   "outputs": [],
   "source": [
    "cd .."
   ]
  },
  {
   "cell_type": "code",
   "execution_count": null,
   "id": "e59a407b",
   "metadata": {},
   "outputs": [],
   "source": [
    "from src.multi_mse import multi_mse"
   ]
  },
  {
   "cell_type": "code",
   "execution_count": null,
   "id": "8b4fe0d4",
   "metadata": {},
   "outputs": [],
   "source": [
    "mse_url = \"output/ringsranking_mse.csv\"\n",
    "multi_mse(mse_url, False)"
   ]
  },
  {
   "cell_type": "code",
   "execution_count": null,
   "id": "0d7c49c2",
   "metadata": {},
   "outputs": [],
   "source": [
    "mse_url = \"output/ringsranking_mse_sixteen.csv\"\n",
    "multi_mse(mse_url)"
   ]
  },
  {
   "cell_type": "code",
   "execution_count": null,
   "id": "446eb700",
   "metadata": {},
   "outputs": [],
   "source": [
    "mse_url = \"output/ringsranking_mse_thirtytwo.csv\"\n",
    "multi_mse(mse_url)"
   ]
  },
  {
   "cell_type": "code",
   "execution_count": null,
   "id": "26e0044d",
   "metadata": {},
   "outputs": [],
   "source": [
    "#STOP"
   ]
  },
  {
   "cell_type": "code",
   "execution_count": null,
   "id": "ff6db3ad",
   "metadata": {},
   "outputs": [],
   "source": [
    "mse_url = \"output/pine_mse.csv\"\n",
    "multi_mse(mse_url, False)"
   ]
  },
  {
   "cell_type": "code",
   "execution_count": null,
   "id": "b78ff5b5",
   "metadata": {},
   "outputs": [],
   "source": [
    "mse_url = \"output/pine_mse_sixteen.csv\"\n",
    "multi_mse(mse_url)"
   ]
  },
  {
   "cell_type": "code",
   "execution_count": null,
   "id": "84dc689d",
   "metadata": {},
   "outputs": [],
   "source": [
    "mse_url = \"output/pine_mse_thirtytwo.csv\"\n",
    "multi_mse(mse_url)"
   ]
  },
  {
   "cell_type": "code",
   "execution_count": null,
   "id": "2af3ab70",
   "metadata": {},
   "outputs": [],
   "source": [
    "#STOP"
   ]
  },
  {
   "cell_type": "code",
   "execution_count": null,
   "id": "2223753b",
   "metadata": {},
   "outputs": [],
   "source": [
    "mse_url = \"output/fur_mse.csv\"\n",
    "multi_mse(mse_url, False)"
   ]
  },
  {
   "cell_type": "code",
   "execution_count": null,
   "id": "bded17a8",
   "metadata": {},
   "outputs": [],
   "source": [
    "mse_url = \"output/fur_mse_sixteen.csv\"\n",
    "multi_mse(mse_url)"
   ]
  },
  {
   "cell_type": "code",
   "execution_count": null,
   "id": "bcb9048f",
   "metadata": {},
   "outputs": [],
   "source": [
    "mse_url = \"output/fur_mse_thirtytwo.csv\"\n",
    "multi_mse(mse_url)"
   ]
  },
  {
   "cell_type": "code",
   "execution_count": null,
   "id": "4c62598a",
   "metadata": {},
   "outputs": [],
   "source": [
    "#STOP"
   ]
  },
  {
   "cell_type": "code",
   "execution_count": null,
   "id": "dde590ee",
   "metadata": {},
   "outputs": [],
   "source": [
    "mse_url = \"output/tracy_mse.csv\"\n",
    "multi_mse(mse_url, False)"
   ]
  },
  {
   "cell_type": "code",
   "execution_count": null,
   "id": "5b1e70ae",
   "metadata": {},
   "outputs": [],
   "source": [
    "mse_url = \"output/tracy_mse_sixteen.csv\"\n",
    "multi_mse(mse_url)"
   ]
  },
  {
   "cell_type": "code",
   "execution_count": null,
   "id": "db2a9747",
   "metadata": {},
   "outputs": [],
   "source": [
    "mse_url = \"output/tracy_mse_thirtytwo.csv\"\n",
    "multi_mse(mse_url)"
   ]
  },
  {
   "cell_type": "code",
   "execution_count": null,
   "id": "2cc4d746",
   "metadata": {},
   "outputs": [],
   "source": [
    "#STOP"
   ]
  },
  {
   "cell_type": "code",
   "execution_count": null,
   "id": "0255c473",
   "metadata": {},
   "outputs": [],
   "source": [
    "mse_url = \"output/data_mse.csv\"\n",
    "multi_mse(mse_url, False)"
   ]
  },
  {
   "cell_type": "code",
   "execution_count": null,
   "id": "1cb3d02c",
   "metadata": {},
   "outputs": [],
   "source": [
    "mse_url = \"output/data_mse_sixteen.csv\"\n",
    "multi_mse(mse_url)"
   ]
  },
  {
   "cell_type": "code",
   "execution_count": null,
   "id": "408ea7e6",
   "metadata": {},
   "outputs": [],
   "source": [
    "mse_url = \"output/data_mse_thirtytwo.csv\"\n",
    "multi_mse(mse_url)"
   ]
  },
  {
   "cell_type": "code",
   "execution_count": null,
   "id": "37e39c59",
   "metadata": {},
   "outputs": [],
   "source": [
    "#STOP"
   ]
  }
 ],
 "metadata": {
  "kernelspec": {
   "display_name": "Python 3 (ipykernel)",
   "language": "python",
   "name": "python3"
  },
  "language_info": {
   "codemirror_mode": {
    "name": "ipython",
    "version": 3
   },
   "file_extension": ".py",
   "mimetype": "text/x-python",
   "name": "python",
   "nbconvert_exporter": "python",
   "pygments_lexer": "ipython3",
   "version": "3.9.6"
  }
 },
 "nbformat": 4,
 "nbformat_minor": 5
}
