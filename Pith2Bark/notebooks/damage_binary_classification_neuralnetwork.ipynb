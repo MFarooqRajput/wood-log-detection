{
 "cells": [
  {
   "cell_type": "code",
   "execution_count": null,
   "id": "adf08eb4",
   "metadata": {},
   "outputs": [],
   "source": [
    "cd .."
   ]
  },
  {
   "cell_type": "code",
   "execution_count": null,
   "id": "7218123d",
   "metadata": {},
   "outputs": [],
   "source": [
    "from pkg.util import winner_rings\n",
    "from pkg.util import damage"
   ]
  },
  {
   "cell_type": "code",
   "execution_count": null,
   "id": "8bceaa0b",
   "metadata": {},
   "outputs": [],
   "source": [
    "\n",
    "import numpy as np\n",
    "import matplotlib as mpl\n",
    "import matplotlib.pyplot as plt\n",
    "import seaborn as sns\n",
    "\n",
    "\n",
    "from tensorflow.keras.layers import Conv1D, Dense, MaxPooling1D, Dropout, Flatten\n",
    "import tensorflow as tf\n",
    "from tensorflow import keras\n",
    "from tensorflow.keras.models import Sequential\n",
    "from tensorflow.keras.layers import InputLayer\n",
    "\n",
    "from sklearn.model_selection import train_test_split\n",
    "from sklearn.preprocessing import StandardScaler\n",
    "\n",
    "\n",
    "from keras.callbacks import EarlyStopping\n",
    "from sklearn.metrics import confusion_matrix, roc_curve, precision_recall_curve"
   ]
  },
  {
   "cell_type": "code",
   "execution_count": null,
   "id": "85fa81c5",
   "metadata": {},
   "outputs": [],
   "source": [
    "import warnings\n",
    "warnings.simplefilter('ignore')\n",
    "\n",
    "mpl.rcParams['figure.figsize'] = (12, 10)\n",
    "colors = plt.rcParams['axes.prop_cycle'].by_key()['color']\n",
    "\n",
    "random_state = 47\n",
    "np.random.seed(random_state)"
   ]
  },
  {
   "cell_type": "code",
   "execution_count": null,
   "id": "12157af1",
   "metadata": {},
   "outputs": [],
   "source": [
    "# mode = max for monitro val_accuracy and val_prc\n",
    "\n",
    "early_stopping = EarlyStopping(\n",
    "        monitor='val_loss', \n",
    "        verbose=1,\n",
    "        patience=10,\n",
    "        mode='min',\n",
    "        restore_best_weights=True)"
   ]
  },
  {
   "cell_type": "code",
   "execution_count": null,
   "id": "b442d12e",
   "metadata": {},
   "outputs": [],
   "source": [
    "METRICS = [\n",
    "      keras.metrics.TruePositives(name='tp'),\n",
    "      keras.metrics.FalsePositives(name='fp'),\n",
    "      keras.metrics.TrueNegatives(name='tn'),\n",
    "      keras.metrics.FalseNegatives(name='fn'), \n",
    "      keras.metrics.BinaryAccuracy(name='accuracy'),\n",
    "      keras.metrics.Precision(name='precision'),\n",
    "      keras.metrics.Recall(name='recall'),\n",
    "      keras.metrics.AUC(name='auc'),\n",
    "      keras.metrics.AUC(name='prc', curve='PR'), # precision-recall curve\n",
    "]"
   ]
  },
  {
   "cell_type": "code",
   "execution_count": null,
   "id": "91418e0b",
   "metadata": {},
   "outputs": [],
   "source": [
    "dense_16 = 0\n",
    "dense_32 = 0\n",
    "cnn_16 = 0\n",
    "cnn_32 = 0"
   ]
  },
  {
   "cell_type": "code",
   "execution_count": null,
   "id": "162fcedc",
   "metadata": {},
   "outputs": [],
   "source": [
    "def plot_loss(history, label, n):\n",
    "    plt.semilogy(history.epoch, history.history['loss'],\n",
    "                 color=colors[n], label='Train ' + label)\n",
    "    plt.semilogy(history.epoch, history.history['val_loss'],\n",
    "                 color=colors[n], label='Val ' + label,\n",
    "                 linestyle=\"--\")\n",
    "    plt.xlabel('Epoch')\n",
    "    plt.ylabel('Loss')\n",
    "    \n",
    "def plot_metrics(history):\n",
    "    metrics = ['loss', 'prc', 'precision', 'recall']\n",
    "    for n, metric in enumerate(metrics):\n",
    "        name = metric.replace(\"_\",\" \").capitalize()\n",
    "        plt.subplot(2,2,n+1)\n",
    "        plt.plot(history.epoch, history.history[metric], color=colors[0], label='Train')\n",
    "        plt.plot(history.epoch, history.history['val_'+metric],\n",
    "                 color=colors[0], linestyle=\"--\", label='Val')\n",
    "        plt.xlabel('Epoch')\n",
    "        plt.ylabel(name)\n",
    "        if metric == 'loss':\n",
    "            plt.ylim([0, plt.ylim()[1]])\n",
    "        elif metric == 'auc':\n",
    "            plt.ylim([0.8,1])\n",
    "        else:\n",
    "            plt.ylim([0,1])\n",
    "        plt.legend()\n",
    "\n",
    "def plot_cm(labels, predictions, p=0.5):\n",
    "    cm = confusion_matrix(labels, predictions > p)\n",
    "    plt.figure(figsize=(5,5))\n",
    "    sns.heatmap(cm, annot=True, fmt=\"d\")\n",
    "    plt.title('Confusion matrix @{:.2f}'.format(p))\n",
    "    plt.ylabel('Actual label')\n",
    "    plt.xlabel('Predicted label')\n",
    "\n",
    "    print('True Negatives: ', cm[0][0])\n",
    "    print('False Positives: ', cm[0][1])\n",
    "    print('False Negatives: ', cm[1][0])\n",
    "    print('True Positives: ', cm[1][1])\n",
    "    print('Total: ', np.sum(cm[1]))\n",
    "\n",
    "def plot_roc(name, labels, predictions, **kwargs):\n",
    "    fp, tp, _ = roc_curve(labels, predictions)\n",
    "\n",
    "    plt.plot(100*fp, 100*tp, label=name, linewidth=2, **kwargs)\n",
    "    plt.xlabel('False positives [%]')\n",
    "    plt.ylabel('True positives [%]')\n",
    "    plt.grid(True)\n",
    "    ax = plt.gca()\n",
    "    ax.set_aspect('equal')\n",
    "\n",
    "def plot_prc(name, labels, predictions, **kwargs):\n",
    "    precision, recall, _ = precision_recall_curve(labels, predictions)\n",
    "\n",
    "    plt.plot(precision, recall, label=name, linewidth=2, **kwargs)\n",
    "    plt.xlabel('Recall')\n",
    "    plt.ylabel('Precision')\n",
    "    plt.grid(True)\n",
    "    ax = plt.gca()\n",
    "    ax.set_aspect('equal')"
   ]
  },
  {
   "cell_type": "markdown",
   "id": "f997a936",
   "metadata": {},
   "source": [
    "# Prepare Dataset"
   ]
  },
  {
   "cell_type": "code",
   "execution_count": null,
   "id": "fe5a18bd",
   "metadata": {},
   "outputs": [],
   "source": [
    "mse_url = \"output/ringsranking_mse_sixteen.csv\"\n",
    "rings_url = \"output/ringsranking_rings_sixteen.csv\"\n",
    "df_ringsranking_sixteen = winner_rings(mse_url, rings_url)\n",
    "\n",
    "mse_url = \"output/ringsranking_mse_thirtytwo.csv\"\n",
    "rings_url = \"output/ringsranking_rings_thirtytwo.csv\"\n",
    "df_ringsranking_thirtytwo = winner_rings(mse_url, rings_url)"
   ]
  },
  {
   "cell_type": "code",
   "execution_count": null,
   "id": "4cc20eef",
   "metadata": {},
   "outputs": [],
   "source": [
    "mse_url = \"output/pine_mse_sixteen.csv\"\n",
    "rings_url = \"output/pine_rings_sixteen.csv\"\n",
    "df_pine_sixteen = winner_rings(mse_url, rings_url)\n",
    "\n",
    "mse_url = \"output/pine_mse_thirtytwo.csv\"\n",
    "rings_url = \"output/pine_rings_thirtytwo.csv\"\n",
    "df_pine_thirtytwo = winner_rings(mse_url, rings_url)"
   ]
  },
  {
   "cell_type": "code",
   "execution_count": null,
   "id": "a43a2fd5",
   "metadata": {},
   "outputs": [],
   "source": [
    "mse_url = \"output/fur_mse_sixteen.csv\"\n",
    "rings_url = \"output/fur_rings_sixteen.csv\"\n",
    "df_fur_sixteen = winner_rings(mse_url, rings_url)\n",
    "\n",
    "mse_url = \"output/fur_mse_thirtytwo.csv\"\n",
    "rings_url = \"output/fur_rings_thirtytwo.csv\"\n",
    "df_fur_thirtytwo = winner_rings(mse_url, rings_url)"
   ]
  },
  {
   "cell_type": "code",
   "execution_count": null,
   "id": "952163f8",
   "metadata": {},
   "outputs": [],
   "source": [
    "mse_url = \"output/tracy_mse_sixteen.csv\"\n",
    "rings_url = \"output/tracy_rings_sixteen.csv\"\n",
    "df_tracy_sixteen = winner_rings(mse_url, rings_url)\n",
    "\n",
    "mse_url = \"output/tracy_mse_thirtytwo.csv\"\n",
    "rings_url = \"output/tracy_rings_thirtytwo.csv\"\n",
    "df_tracy_thirtytwo = winner_rings(mse_url, rings_url)"
   ]
  },
  {
   "cell_type": "code",
   "execution_count": null,
   "id": "338ac94d",
   "metadata": {},
   "outputs": [],
   "source": [
    "#damage\n",
    "damage_url = \"dataset/damage.xlsx\"\n",
    "df_damage_sixteen = damage(damage_url, df_ringsranking_sixteen, df_pine_sixteen, df_fur_sixteen, df_tracy_sixteen)\n",
    "df_damage_thirtytwo = damage(damage_url, df_ringsranking_thirtytwo, df_pine_thirtytwo, df_fur_thirtytwo, df_tracy_thirtytwo)"
   ]
  },
  {
   "cell_type": "markdown",
   "id": "e16663a1",
   "metadata": {},
   "source": [
    "# 1 Dense Model"
   ]
  },
  {
   "cell_type": "code",
   "execution_count": null,
   "id": "d4a8cf0e",
   "metadata": {},
   "outputs": [],
   "source": [
    "def layerFactory(type, nodes, activation):\n",
    "    if type == 'Dense':\n",
    "        if not activation:\n",
    "            return Dense(units=nodes)\n",
    "        else:\n",
    "            return Dense(units=nodes, activation=activation)\n",
    "    if type == 'Conv1D':\n",
    "        if not activation:\n",
    "            return Conv1D(units=nodes)\n",
    "        else:\n",
    "            return Conv1D(units=nodes, activation=activation)\n",
    "    if type == 'MaxPooling1D':\n",
    "        if not activation:\n",
    "            return MaxPooling1D(units=nodes)\n",
    "        else:\n",
    "            return MaxPooling1D(units=nodes, activation=activation)\n",
    "    if type == 'Dropout':\n",
    "        return Dropout(rate=nodes)\n",
    "    if type == 'Flatten':\n",
    "        if not activation:\n",
    "            return Flatten(units=nodes)\n",
    "        else:\n",
    "            return Flatten(units=nodes, activation=activation)\n",
    "    \n",
    "    return Dense(units=nodes, activation=activation)"
   ]
  },
  {
   "cell_type": "code",
   "execution_count": null,
   "id": "2ac0f7e5",
   "metadata": {},
   "outputs": [],
   "source": [
    "def make_dense_model(layers, input_dim, loss, optimizer, learning_rate=0.001, metrics=METRICS, output_bias=None):\n",
    "\n",
    "    if output_bias is not None:\n",
    "        output_bias = tf.keras.initializers.Constant(output_bias)\n",
    "\n",
    "    model = Sequential([\n",
    "        InputLayer(input_shape=(input_dim))\n",
    "    ])\n",
    "\n",
    "    for layer in layers:\n",
    "        model.add(layerFactory(layer['type'], layer['nodes'], layer['activation']))\n",
    "\n",
    "    optimizer = tf.keras.optimizers.get(optimizer)\n",
    "    optimizer.learning_rate.assign(learning_rate)\n",
    "\n",
    "    model.compile(\n",
    "      optimizer=optimizer,\n",
    "      loss=loss,\n",
    "      metrics=metrics)\n",
    "\n",
    "    print(model.summary())\n",
    "\n",
    "    return model"
   ]
  },
  {
   "cell_type": "markdown",
   "id": "68d831a3",
   "metadata": {},
   "source": [
    "## 1.1 Dense Model with 16 Lines"
   ]
  },
  {
   "cell_type": "markdown",
   "id": "7a5d3420",
   "metadata": {},
   "source": [
    "### 1.1.1 Load Prepared Dataset"
   ]
  },
  {
   "cell_type": "code",
   "execution_count": null,
   "id": "a342afde",
   "metadata": {},
   "outputs": [],
   "source": [
    "#columns to drop\n",
    "#columns = ['min', 'max', 'mean', 'orig', 'image', 'algo', 'Image', 'Group']\n",
    "columns = ['image', 'algo', 'Image', 'Group']\n",
    "\n",
    "df = df_damage_sixteen.drop(columns=columns)"
   ]
  },
  {
   "cell_type": "markdown",
   "id": "b477d844",
   "metadata": {},
   "source": [
    "### 1.1.2 Split into sets for training, validation, and testing + use and save scaler"
   ]
  },
  {
   "cell_type": "code",
   "execution_count": null,
   "id": "6e225eb6",
   "metadata": {},
   "outputs": [],
   "source": [
    "X = df.drop(columns=['Damage'])\n",
    "y = df['Damage']\n",
    "\n",
    "X_train, X_test, y_train, y_test = train_test_split(X, y, test_size=0.1, random_state=random_state)\n",
    "X_train, X_val, y_train, y_val = train_test_split(X_train, y_train, test_size=0.2, random_state=random_state)\n",
    "\n",
    "scaler_sixteen = StandardScaler()\n",
    "X_train = scaler_sixteen.fit_transform(X_train)\n",
    "\n",
    "X_val = scaler_sixteen.transform(X_val)\n",
    "X_test = scaler_sixteen.transform(X_test)\n",
    "\n",
    "print('Training features shape:', X_train.shape)\n",
    "print('Training labels shape:', y_train.shape, '\\n')\n",
    "\n",
    "print('Validation features shape:', X_val.shape)\n",
    "print('Validation labels shape:', y_val.shape, '\\n')\n",
    "\n",
    "print('Test features shape:', X_test.shape)\n",
    "print('Test labels shape:', y_test.shape, '\\n')"
   ]
  },
  {
   "cell_type": "markdown",
   "id": "4216422f",
   "metadata": {},
   "source": [
    "### 1.1.3 Experimentation"
   ]
  },
  {
   "cell_type": "markdown",
   "id": "c3bdf9c3",
   "metadata": {},
   "source": [
    "#### 1.1.3.1 Configurations"
   ]
  },
  {
   "cell_type": "code",
   "execution_count": null,
   "id": "84838301",
   "metadata": {},
   "outputs": [],
   "source": [
    "EPOCHS = 500\n",
    "BATCH_SIZE = 50\n",
    "\n",
    "input_dim = X_train.shape[1]\n",
    "output_size = 1\n",
    "\n",
    "units = 16\n",
    "activation = 'relu'\n",
    "#activation = 'tanh'\n",
    "kernel_initializer = 'he_uniform'\n",
    "output_activation = 'sigmoid'\n",
    "optimizer = 'Adam'\n",
    "learning_rate = 1e-3\n",
    "\n",
    "LAYERS = [ \n",
    "    { 'type': 'Dense', 'nodes':units, 'activation': activation },\n",
    "    { 'type': 'Dense', 'nodes':units, 'activation': activation },\n",
    "    { 'type': 'Dense', 'nodes':output_size, 'activation': output_activation }\n",
    "]"
   ]
  },
  {
   "cell_type": "markdown",
   "id": "b744fbe0",
   "metadata": {},
   "source": [
    "#### 1.1.3.2 Model"
   ]
  },
  {
   "cell_type": "code",
   "execution_count": null,
   "id": "dae64bdd",
   "metadata": {},
   "outputs": [],
   "source": [
    "model = make_dense_model(metrics=METRICS,\n",
    "                         layers=LAYERS, \n",
    "                         loss='binary_crossentropy',\n",
    "                         optimizer=optimizer,\n",
    "                         learning_rate=learning_rate, \n",
    "                         input_dim=input_dim)"
   ]
  },
  {
   "cell_type": "code",
   "execution_count": null,
   "id": "1b53d832",
   "metadata": {},
   "outputs": [],
   "source": [
    "history = model.fit(x=X_train,\n",
    "                    y=y_train, \n",
    "                    validation_data=(X_val, y_val), \n",
    "                    shuffle=True, \n",
    "                    epochs=EPOCHS, \n",
    "                    verbose=1,\n",
    "                    batch_size=BATCH_SIZE, \n",
    "                    callbacks=[early_stopping])"
   ]
  },
  {
   "cell_type": "code",
   "execution_count": null,
   "id": "451d96d2",
   "metadata": {},
   "outputs": [],
   "source": [
    "early_stopping.stopped_epoch"
   ]
  },
  {
   "cell_type": "code",
   "execution_count": null,
   "id": "6faebf40",
   "metadata": {},
   "outputs": [],
   "source": [
    "#plot_loss(history, \"Bias\", 0)\n",
    "#plt.show()"
   ]
  },
  {
   "cell_type": "code",
   "execution_count": null,
   "id": "1330d5d1",
   "metadata": {},
   "outputs": [],
   "source": [
    "plot_metrics(history)\n",
    "#plt.show()"
   ]
  },
  {
   "cell_type": "code",
   "execution_count": null,
   "id": "c84d3c7b",
   "metadata": {},
   "outputs": [],
   "source": [
    "predictions_train = model.predict(X_train)\n",
    "predictions_test = model.predict(X_test)\n",
    "\n",
    "# Confusion matrix\n",
    "results = model.evaluate(X_test, y_test, batch_size=BATCH_SIZE, verbose=0)\n",
    "for name, value in zip(model.metrics_names, results):\n",
    "    print(name, ': ', value)\n",
    "    if name == 'accuracy':\n",
    "        dense_16 = value"
   ]
  },
  {
   "cell_type": "code",
   "execution_count": null,
   "id": "70e48ec9",
   "metadata": {},
   "outputs": [],
   "source": [
    "plot_cm(y_test, predictions_test)\n",
    "#plt.show()"
   ]
  },
  {
   "cell_type": "code",
   "execution_count": null,
   "id": "523da34e",
   "metadata": {},
   "outputs": [],
   "source": [
    "plot_roc(\"Test Predictions\", y_test, predictions_test, color=colors[0], linestyle='--')\n",
    "plt.legend(loc='lower right')\n",
    "plt.show()"
   ]
  },
  {
   "cell_type": "code",
   "execution_count": null,
   "id": "0475f12d",
   "metadata": {},
   "outputs": [],
   "source": [
    "# Precision-Recall Curve (PRC)\n",
    "#plot_prc(\"Train Predictions\", y_train, predictions_train, color=colors[0])\n",
    "#plot_prc(\"Test Predictions\", y_test, predictions_test, color=colors[0], linestyle='--')\n",
    "#plt.legend(loc='lower right')\n",
    "#plt.show()"
   ]
  },
  {
   "cell_type": "markdown",
   "id": "6efd3ae9",
   "metadata": {},
   "source": [
    "## 1.2 Dense Model with 32 Lines"
   ]
  },
  {
   "cell_type": "markdown",
   "id": "343aa26a",
   "metadata": {},
   "source": [
    "### 1.2.1 Load Prepared Dataset"
   ]
  },
  {
   "cell_type": "code",
   "execution_count": null,
   "id": "a951c679",
   "metadata": {},
   "outputs": [],
   "source": [
    "#columns to drop\n",
    "#columns = ['min', 'max', 'mean', 'orig', 'image', 'algo', 'Image', 'Group']\n",
    "columns = ['image', 'algo', 'Image', 'Group']\n",
    "\n",
    "df = df_damage_thirtytwo.drop(columns=columns)"
   ]
  },
  {
   "cell_type": "markdown",
   "id": "5359e151",
   "metadata": {},
   "source": [
    "### 1.2.2 Split into sets for training, validation, and testing + use and save scaler"
   ]
  },
  {
   "cell_type": "code",
   "execution_count": null,
   "id": "7a9daaa4",
   "metadata": {},
   "outputs": [],
   "source": [
    "X = df.drop(columns=['Damage'])\n",
    "y = df['Damage']\n",
    "\n",
    "X_train, X_test, y_train, y_test = train_test_split(X, y, test_size=0.1, random_state=random_state)\n",
    "X_train, X_val, y_train, y_val = train_test_split(X_train, y_train, test_size=0.2, random_state=random_state)\n",
    "\n",
    "scaler_sixteen = StandardScaler()\n",
    "X_train = scaler_sixteen.fit_transform(X_train)\n",
    "\n",
    "X_val = scaler_sixteen.transform(X_val)\n",
    "X_test = scaler_sixteen.transform(X_test)\n",
    "\n",
    "print('Training features shape:', X_train.shape)\n",
    "print('Training labels shape:', y_train.shape, '\\n')\n",
    "\n",
    "print('Validation features shape:', X_val.shape)\n",
    "print('Validation labels shape:', y_val.shape, '\\n')\n",
    "\n",
    "print('Test features shape:', X_test.shape)\n",
    "print('Test labels shape:', y_test.shape, '\\n')"
   ]
  },
  {
   "cell_type": "markdown",
   "id": "4bda44d1",
   "metadata": {},
   "source": [
    "### 1.2.3 Experimentation"
   ]
  },
  {
   "cell_type": "markdown",
   "id": "0920ae92",
   "metadata": {},
   "source": [
    "#### 1.2.3.1 Configurations"
   ]
  },
  {
   "cell_type": "code",
   "execution_count": null,
   "id": "1dcf0f95",
   "metadata": {},
   "outputs": [],
   "source": [
    "EPOCHS = 500\n",
    "BATCH_SIZE = 50\n",
    "\n",
    "input_dim = X_train.shape[1]\n",
    "output_size = 1\n",
    "\n",
    "units = 16\n",
    "activation = 'relu'\n",
    "#activation = 'tanh'\n",
    "kernel_initializer = 'he_uniform'\n",
    "output_activation = 'sigmoid'\n",
    "optimizer = 'Adam'\n",
    "learning_rate = 1e-3\n",
    "\n",
    "LAYERS = [ \n",
    "    { 'type': 'Dense', 'nodes':units, 'activation': activation },\n",
    "    { 'type': 'Dense', 'nodes':units, 'activation': activation },\n",
    "    { 'type': 'Dense', 'nodes':output_size, 'activation': output_activation }\n",
    "]"
   ]
  },
  {
   "cell_type": "markdown",
   "id": "83b3ba73",
   "metadata": {},
   "source": [
    "#### 1.2.3.2 Model"
   ]
  },
  {
   "cell_type": "code",
   "execution_count": null,
   "id": "59a19184",
   "metadata": {},
   "outputs": [],
   "source": [
    "model = make_dense_model(metrics=METRICS,\n",
    "                         layers=LAYERS, \n",
    "                         loss='binary_crossentropy',\n",
    "                         optimizer=optimizer,\n",
    "                         learning_rate=learning_rate, \n",
    "                         input_dim=input_dim)"
   ]
  },
  {
   "cell_type": "code",
   "execution_count": null,
   "id": "71e400e3",
   "metadata": {},
   "outputs": [],
   "source": [
    "history = model.fit(x=X_train,\n",
    "                    y=y_train, \n",
    "                    validation_data=(X_val, y_val), \n",
    "                    shuffle=True, \n",
    "                    epochs=EPOCHS, \n",
    "                    verbose=1,\n",
    "                    batch_size=BATCH_SIZE, \n",
    "                    callbacks=[early_stopping])"
   ]
  },
  {
   "cell_type": "code",
   "execution_count": null,
   "id": "e47cecaa",
   "metadata": {},
   "outputs": [],
   "source": [
    "early_stopping.stopped_epoch"
   ]
  },
  {
   "cell_type": "code",
   "execution_count": null,
   "id": "d6bb55d3",
   "metadata": {},
   "outputs": [],
   "source": [
    "#plot_loss(history, \"Bias\", 0)\n",
    "#plt.show()"
   ]
  },
  {
   "cell_type": "code",
   "execution_count": null,
   "id": "b8e630a3",
   "metadata": {},
   "outputs": [],
   "source": [
    "plot_metrics(history)\n",
    "#plt.show()"
   ]
  },
  {
   "cell_type": "code",
   "execution_count": null,
   "id": "0d3db82e",
   "metadata": {},
   "outputs": [],
   "source": [
    "predictions_train = model.predict(X_train)\n",
    "predictions_test = model.predict(X_test)\n",
    "\n",
    "# Confusion matrix\n",
    "results = model.evaluate(X_test, y_test, batch_size=BATCH_SIZE, verbose=0)\n",
    "for name, value in zip(model.metrics_names, results):\n",
    "    print(name, ': ', value)\n",
    "    if name == 'accuracy':\n",
    "        dense_32 = value"
   ]
  },
  {
   "cell_type": "code",
   "execution_count": null,
   "id": "e63becbd",
   "metadata": {},
   "outputs": [],
   "source": [
    "plot_cm(y_test, predictions_test)\n",
    "#plt.show()"
   ]
  },
  {
   "cell_type": "code",
   "execution_count": null,
   "id": "1b089713",
   "metadata": {},
   "outputs": [],
   "source": [
    "plot_roc(\"Test Predictions\", y_test, predictions_test, color=colors[0], linestyle='--')\n",
    "plt.legend(loc='lower right')\n",
    "plt.show()"
   ]
  },
  {
   "cell_type": "code",
   "execution_count": null,
   "id": "5771bdf0",
   "metadata": {},
   "outputs": [],
   "source": [
    "# Precision-Recall Curve (PRC)\n",
    "#plot_prc(\"Train Predictions\", y_train, predictions_train, color=colors[0])\n",
    "#plot_prc(\"Test Predictions\", y_test, predictions_test, color=colors[0], linestyle='--')\n",
    "#plt.legend(loc='lower right')\n",
    "#plt.show()"
   ]
  },
  {
   "cell_type": "markdown",
   "id": "02b16763",
   "metadata": {},
   "source": [
    "# 2 CNN Model"
   ]
  },
  {
   "cell_type": "code",
   "execution_count": null,
   "id": "59d29db8",
   "metadata": {},
   "outputs": [],
   "source": [
    "from tensorflow.keras.models import Sequential\n",
    "from tensorflow.keras.layers import InputLayer\n",
    "\n",
    "from tensorflow.keras.layers import Conv1D, Dense, MaxPool1D, MaxPooling1D, Dropout, Flatten\n",
    "from keras.layers import BatchNormalization\n",
    "\n",
    "METRICS = [\n",
    "      keras.metrics.TruePositives(name='tp'),\n",
    "      keras.metrics.FalsePositives(name='fp'),\n",
    "      keras.metrics.TrueNegatives(name='tn'),\n",
    "      keras.metrics.FalseNegatives(name='fn'), \n",
    "      keras.metrics.BinaryAccuracy(name='accuracy'),\n",
    "      keras.metrics.Precision(name='precision'),\n",
    "      keras.metrics.Recall(name='recall'),\n",
    "      keras.metrics.AUC(name='auc'),\n",
    "      keras.metrics.AUC(name='prc', curve='PR'), # precision-recall curve\n",
    "]\n",
    "\n",
    "def make_cnn_model(loss, optimizer, learning_rate, metrics, in_shape, kernel_size, kernel_initializer, pool_size, filters_1, filters_2, filters_3, filters_4):\n",
    "    \n",
    "    model = Sequential()\n",
    "    model.add(Conv1D(filters= filters_1, kernel_size = kernel_size, activation=activation, kernel_initializer=kernel_initializer, input_shape=in_shape))\n",
    "    \n",
    "    model.add(Conv1D(filters= filters_2, kernel_size = kernel_size, activation=activation, kernel_initializer=kernel_initializer))\n",
    "    model.add(MaxPool1D(pool_size=pool_size))\n",
    "    model.add(Dropout(0.5))\n",
    "    \n",
    "    #model.add(Conv1D(filters= filters_3, kernel_size = kernel_size, activation=activation, kernel_initializer=kernel_initializer))\n",
    "    #model.add(MaxPool1D(pool_size=pool_size))\n",
    "    #model.add(Dropout(0.5))\n",
    "    \n",
    "    model.add(Flatten())\n",
    "    #model.add(Dense(32, activation='relu', kernel_initializer='he_uniform'))\n",
    "    #model.add(Dense(16, activation='relu', kernel_initializer='he_uniform'))\n",
    "    model.add(Dense(8, activation='relu', kernel_initializer='he_uniform'))\n",
    "    #model.add(Dropout(0.5))\n",
    "    #model.add(BatchNormalization())\n",
    "    model.add(Dense(n_classes, activation=output_activation))\n",
    "    \n",
    "    \n",
    "    optimizer = tf.keras.optimizers.get(optimizer)\n",
    "    optimizer.learning_rate.assign(learning_rate)\n",
    "\n",
    "    model.compile(\n",
    "      optimizer=optimizer,\n",
    "      loss=loss,\n",
    "      metrics=metrics)\n",
    "\n",
    "    print(model.summary())\n",
    "\n",
    "    return model"
   ]
  },
  {
   "cell_type": "markdown",
   "id": "1df8cd83",
   "metadata": {},
   "source": [
    "## 2.1 CNN Model with 16 Lines"
   ]
  },
  {
   "cell_type": "markdown",
   "id": "b9720978",
   "metadata": {},
   "source": [
    "### 2.1.1 Load Prepared Dataset"
   ]
  },
  {
   "cell_type": "code",
   "execution_count": null,
   "id": "1906e669",
   "metadata": {},
   "outputs": [],
   "source": [
    "#columns to drop\n",
    "columns = ['image', 'algo', 'Image', 'Group']\n",
    "\n",
    "df = df_damage_sixteen.drop(columns=columns)"
   ]
  },
  {
   "cell_type": "markdown",
   "id": "07a8185d",
   "metadata": {},
   "source": [
    "### 2.1.2 Split into sets for training, validation, and testing + use and save scaler"
   ]
  },
  {
   "cell_type": "code",
   "execution_count": null,
   "id": "de5bace7",
   "metadata": {},
   "outputs": [],
   "source": [
    "X = df.drop(columns=['Damage'])\n",
    "y = df['Damage']\n",
    "\n",
    "X_train, X_test, y_train, y_test = train_test_split(X, y, test_size=0.1, random_state=random_state)\n",
    "X_train, X_val, y_train, y_val = train_test_split(X_train, y_train, test_size=0.2, random_state=random_state)\n",
    "\n",
    "scaler_sixteen = StandardScaler()\n",
    "X_train = scaler_sixteen.fit_transform(X_train)\n",
    "\n",
    "X_val = scaler_sixteen.transform(X_val)\n",
    "X_test = scaler_sixteen.transform(X_test)\n",
    "\n",
    "print('Training features shape:', X_train.shape)\n",
    "print('Training labels shape:', y_train.shape, '\\n')\n",
    "\n",
    "print('Validation features shape:', X_val.shape)\n",
    "print('Validation labels shape:', y_val.shape, '\\n')\n",
    "\n",
    "print('Test features shape:', X_test.shape)\n",
    "print('Test labels shape:', y_test.shape, '\\n')"
   ]
  },
  {
   "cell_type": "markdown",
   "id": "4a152a51",
   "metadata": {},
   "source": [
    "### 2.1.3 Experimentation"
   ]
  },
  {
   "cell_type": "markdown",
   "id": "e2ed164a",
   "metadata": {},
   "source": [
    "#### 2.1.3.1 Configurations"
   ]
  },
  {
   "cell_type": "code",
   "execution_count": null,
   "id": "d1636654",
   "metadata": {},
   "outputs": [],
   "source": [
    "from numpy import unique\n",
    "orig_shape = X_train.shape[1:]\n",
    "X_train = X_train.reshape((X_train.shape[0], X_train.shape[1], 1))\n",
    "X_test = X_test.reshape((X_test.shape[0], X_test.shape[1], 1))\n",
    "\n",
    "X_val = X_val.reshape((X_val.shape[0], X_val.shape[1], 1))\n",
    "\n",
    "in_shape = X_train.shape[1:]\n",
    "print(\"Before: {0}\".format(orig_shape))\n",
    "print(\"After: {0}\".format(in_shape))\n",
    "\n",
    "\n",
    "\n",
    "EPOCHS = 500\n",
    "BATCH_SIZE = 2050\n",
    "\n",
    "n_classes = len(unique(y_train))\n",
    "n_classes = 1\n",
    "print(\"Classes: {0}\".format(n_classes))\n",
    "\n",
    "units = 64\n",
    "activation = 'relu'\n",
    "kernel_initializer = 'he_uniform'\n",
    "output_activation = 'sigmoid'\n",
    "#output_activation = 'softmax'\n",
    "optimizer = 'Adam'\n",
    "learning_rate = 1e-3\n",
    "filters_1 = 8\n",
    "filters_2 = 16\n",
    "filters_3 = 32\n",
    "filters_4 = 12\n",
    "kernel_size = 3\n",
    "pool_size = 2\n",
    "strides = 1"
   ]
  },
  {
   "cell_type": "markdown",
   "id": "8547c43c",
   "metadata": {},
   "source": [
    "#### 2.1.3.2 Model"
   ]
  },
  {
   "cell_type": "code",
   "execution_count": null,
   "id": "cb969481",
   "metadata": {},
   "outputs": [],
   "source": [
    "model = make_cnn_model(metrics=METRICS, \n",
    "                       loss='binary_crossentropy', \n",
    "                       optimizer=optimizer, \n",
    "                       learning_rate=learning_rate,\n",
    "                       in_shape= in_shape,\n",
    "                       kernel_size=kernel_size,\n",
    "                       kernel_initializer=kernel_initializer,\n",
    "                       pool_size=pool_size,\n",
    "                       filters_1=filters_1,\n",
    "                       filters_2=filters_2,\n",
    "                       filters_3=filters_3,\n",
    "                       filters_4=filters_4)"
   ]
  },
  {
   "cell_type": "code",
   "execution_count": null,
   "id": "356cd8bc",
   "metadata": {},
   "outputs": [],
   "source": [
    "history = model.fit(x=X_train,\n",
    "                    y=y_train, \n",
    "                    validation_data=(X_val, y_val), \n",
    "                    shuffle=True, \n",
    "                    epochs=EPOCHS, \n",
    "                    verbose=1,\n",
    "                    batch_size=BATCH_SIZE, \n",
    "                    callbacks=[early_stopping])"
   ]
  },
  {
   "cell_type": "code",
   "execution_count": null,
   "id": "bf0175c0",
   "metadata": {},
   "outputs": [],
   "source": [
    "early_stopping.stopped_epoch"
   ]
  },
  {
   "cell_type": "code",
   "execution_count": null,
   "id": "02020c9c",
   "metadata": {},
   "outputs": [],
   "source": [
    "#plot_loss(history, \"Bias\", 0)\n",
    "#plt.show()"
   ]
  },
  {
   "cell_type": "code",
   "execution_count": null,
   "id": "ae2dbda8",
   "metadata": {},
   "outputs": [],
   "source": [
    "plot_metrics(history)\n",
    "#plt.show()"
   ]
  },
  {
   "cell_type": "code",
   "execution_count": null,
   "id": "e7b3b22b",
   "metadata": {},
   "outputs": [],
   "source": [
    "predictions_train = model.predict(X_train)\n",
    "predictions_test = model.predict(X_test)\n",
    "\n",
    "# Confusion matrix\n",
    "results = model.evaluate(X_test, y_test, batch_size=BATCH_SIZE, verbose=0)\n",
    "for name, value in zip(model.metrics_names, results):\n",
    "    print(name, ': ', value)\n",
    "    if name == 'accuracy':\n",
    "        cnn_16 = value"
   ]
  },
  {
   "cell_type": "code",
   "execution_count": null,
   "id": "bbcb2dc5",
   "metadata": {},
   "outputs": [],
   "source": [
    "plot_cm(y_test, predictions_test)\n",
    "#plt.show()"
   ]
  },
  {
   "cell_type": "code",
   "execution_count": null,
   "id": "6398fbd5",
   "metadata": {},
   "outputs": [],
   "source": [
    "plot_roc(\"Test Predictions\", y_test, predictions_test, color=colors[0], linestyle='--')\n",
    "plt.legend(loc='lower right')\n",
    "plt.show()"
   ]
  },
  {
   "cell_type": "code",
   "execution_count": null,
   "id": "0b35a4f2",
   "metadata": {},
   "outputs": [],
   "source": [
    "# Precision-Recall Curve (PRC)\n",
    "#plot_prc(\"Train Predictions\", y_train, predictions_train, color=colors[0])\n",
    "#plot_prc(\"Test Predictions\", y_test, predictions_test, color=colors[0], linestyle='--')\n",
    "#plt.legend(loc='lower right')\n",
    "#plt.show()"
   ]
  },
  {
   "cell_type": "markdown",
   "id": "f056064d",
   "metadata": {},
   "source": [
    "## 2.2 CNN Model with 32 Lines"
   ]
  },
  {
   "cell_type": "markdown",
   "id": "e35a1c6b",
   "metadata": {},
   "source": [
    "### 2.2.1 Load Prepared Dataset"
   ]
  },
  {
   "cell_type": "code",
   "execution_count": null,
   "id": "543f5f81",
   "metadata": {},
   "outputs": [],
   "source": [
    "#columns to drop\n",
    "columns = ['image', 'algo', 'Image', 'Group']\n",
    "\n",
    "df = df_damage_thirtytwo.drop(columns=columns)"
   ]
  },
  {
   "cell_type": "markdown",
   "id": "709d3398",
   "metadata": {},
   "source": [
    "### 2.2.2 Split into sets for training, validation, and testing + use and save scaler"
   ]
  },
  {
   "cell_type": "code",
   "execution_count": null,
   "id": "21ddab05",
   "metadata": {},
   "outputs": [],
   "source": [
    "X = df.drop(columns=['Damage'])\n",
    "y = df['Damage']\n",
    "\n",
    "X_train, X_test, y_train, y_test = train_test_split(X, y, test_size=0.1, random_state=random_state)\n",
    "X_train, X_val, y_train, y_val = train_test_split(X_train, y_train, test_size=0.2, random_state=random_state)\n",
    "\n",
    "scaler_sixteen = StandardScaler()\n",
    "X_train = scaler_sixteen.fit_transform(X_train)\n",
    "\n",
    "X_val = scaler_sixteen.transform(X_val)\n",
    "X_test = scaler_sixteen.transform(X_test)\n",
    "\n",
    "print('Training features shape:', X_train.shape)\n",
    "print('Training labels shape:', y_train.shape, '\\n')\n",
    "\n",
    "print('Validation features shape:', X_val.shape)\n",
    "print('Validation labels shape:', y_val.shape, '\\n')\n",
    "\n",
    "print('Test features shape:', X_test.shape)\n",
    "print('Test labels shape:', y_test.shape, '\\n')"
   ]
  },
  {
   "cell_type": "markdown",
   "id": "58df8ed7",
   "metadata": {},
   "source": [
    "### 2.2.3 Experimentation"
   ]
  },
  {
   "cell_type": "markdown",
   "id": "d1e8c739",
   "metadata": {},
   "source": [
    "#### 2.2.3.1 Configurations"
   ]
  },
  {
   "cell_type": "code",
   "execution_count": null,
   "id": "a335cdbe",
   "metadata": {},
   "outputs": [],
   "source": [
    "from numpy import unique\n",
    "orig_shape = X_train.shape[1:]\n",
    "X_train = X_train.reshape((X_train.shape[0], X_train.shape[1], 1))\n",
    "X_test = X_test.reshape((X_test.shape[0], X_test.shape[1], 1))\n",
    "\n",
    "X_val = X_val.reshape((X_val.shape[0], X_val.shape[1], 1))\n",
    "\n",
    "in_shape = X_train.shape[1:]\n",
    "print(\"Before: {0}\".format(orig_shape))\n",
    "print(\"After: {0}\".format(in_shape))\n",
    "\n",
    "\n",
    "\n",
    "EPOCHS = 500\n",
    "BATCH_SIZE = 2050\n",
    "\n",
    "n_classes = len(unique(y_train))\n",
    "n_classes = 1\n",
    "print(\"Classes: {0}\".format(n_classes))\n",
    "\n",
    "units = 64\n",
    "activation = 'relu'\n",
    "kernel_initializer = 'he_uniform'\n",
    "output_activation = 'sigmoid'\n",
    "#output_activation = 'softmax'\n",
    "optimizer = 'Adam'\n",
    "learning_rate = 1e-3\n",
    "filters_1 = 8\n",
    "filters_2 = 16\n",
    "filters_3 = 32\n",
    "filters_4 = 12\n",
    "kernel_size = 3\n",
    "pool_size = 2\n",
    "strides = 1"
   ]
  },
  {
   "cell_type": "markdown",
   "id": "cff29ac7",
   "metadata": {},
   "source": [
    "#### 2.2.3.2 Model"
   ]
  },
  {
   "cell_type": "code",
   "execution_count": null,
   "id": "a7096bdd",
   "metadata": {},
   "outputs": [],
   "source": [
    "model = make_cnn_model(metrics=METRICS, \n",
    "                       loss='binary_crossentropy', \n",
    "                       optimizer=optimizer, \n",
    "                       learning_rate=learning_rate,\n",
    "                       in_shape= in_shape,\n",
    "                       kernel_size=kernel_size,\n",
    "                       kernel_initializer=kernel_initializer,\n",
    "                       pool_size=pool_size,\n",
    "                       filters_1=filters_1,\n",
    "                       filters_2=filters_2,\n",
    "                       filters_3=filters_3,\n",
    "                       filters_4=filters_4)"
   ]
  },
  {
   "cell_type": "code",
   "execution_count": null,
   "id": "4db92b89",
   "metadata": {},
   "outputs": [],
   "source": [
    "history = model.fit(x=X_train,\n",
    "                    y=y_train, \n",
    "                    validation_data=(X_val, y_val), \n",
    "                    shuffle=True, \n",
    "                    epochs=EPOCHS, \n",
    "                    verbose=1,\n",
    "                    batch_size=BATCH_SIZE, \n",
    "                    callbacks=[early_stopping])"
   ]
  },
  {
   "cell_type": "code",
   "execution_count": null,
   "id": "6282fa73",
   "metadata": {},
   "outputs": [],
   "source": [
    "early_stopping.stopped_epoch"
   ]
  },
  {
   "cell_type": "code",
   "execution_count": null,
   "id": "1d3c3996",
   "metadata": {},
   "outputs": [],
   "source": [
    "#plot_loss(history, \"Bias\", 0)\n",
    "#plt.show()"
   ]
  },
  {
   "cell_type": "code",
   "execution_count": null,
   "id": "70e18b0a",
   "metadata": {},
   "outputs": [],
   "source": [
    "plot_metrics(history)\n",
    "#plt.show()"
   ]
  },
  {
   "cell_type": "code",
   "execution_count": null,
   "id": "e6d84817",
   "metadata": {},
   "outputs": [],
   "source": [
    "predictions_train = model.predict(X_train)\n",
    "predictions_test = model.predict(X_test)\n",
    "\n",
    "# Confusion matrix\n",
    "results = model.evaluate(X_test, y_test, batch_size=BATCH_SIZE, verbose=0)\n",
    "for name, value in zip(model.metrics_names, results):\n",
    "    print(name, ': ', value)\n",
    "    if name == 'accuracy':\n",
    "        cnn_32 = value"
   ]
  },
  {
   "cell_type": "code",
   "execution_count": null,
   "id": "fec3f186",
   "metadata": {},
   "outputs": [],
   "source": [
    "plot_cm(y_test, predictions_test)\n",
    "#plt.show()"
   ]
  },
  {
   "cell_type": "code",
   "execution_count": null,
   "id": "e0684186",
   "metadata": {},
   "outputs": [],
   "source": [
    "plot_roc(\"Test Predictions\", y_test, predictions_test, color=colors[0], linestyle='--')\n",
    "plt.legend(loc='lower right')\n",
    "plt.show()"
   ]
  },
  {
   "cell_type": "code",
   "execution_count": null,
   "id": "a454ae60",
   "metadata": {},
   "outputs": [],
   "source": [
    "# Precision-Recall Curve (PRC)\n",
    "#plot_prc(\"Train Predictions\", y_train, predictions_train, color=colors[0])\n",
    "#plot_prc(\"Test Predictions\", y_test, predictions_test, color=colors[0], linestyle='--')\n",
    "#plt.legend(loc='lower right')\n",
    "#plt.show()"
   ]
  },
  {
   "cell_type": "markdown",
   "id": "ec3bc74a",
   "metadata": {},
   "source": [
    "# Summarry"
   ]
  },
  {
   "cell_type": "code",
   "execution_count": null,
   "id": "360d60af",
   "metadata": {},
   "outputs": [],
   "source": [
    "col = [1, 2, 3, 4]\n",
    "accuracy = [dense_16, dense_32, cnn_16, cnn_32]\n",
    "\n",
    "tick_label = ['Dense', 'Dense', 'CNN', 'CNN']\n",
    "plt.bar(col, accuracy, tick_label = tick_label, width = 0.8)\n",
    "    \n",
    "plt.xticks(rotation=45, horizontalalignment=\"right\")\n",
    "plt.xlabel('Model')\n",
    "plt.ylabel('Accuracy')\n",
    "plt.title('Model vs Accuracy')\n",
    "\n",
    "plt.show()   "
   ]
  }
 ],
 "metadata": {
  "kernelspec": {
   "display_name": "Python 3 (ipykernel)",
   "language": "python",
   "name": "python3"
  },
  "language_info": {
   "codemirror_mode": {
    "name": "ipython",
    "version": 3
   },
   "file_extension": ".py",
   "mimetype": "text/x-python",
   "name": "python",
   "nbconvert_exporter": "python",
   "pygments_lexer": "ipython3",
   "version": "3.9.6"
  }
 },
 "nbformat": 4,
 "nbformat_minor": 5
}
