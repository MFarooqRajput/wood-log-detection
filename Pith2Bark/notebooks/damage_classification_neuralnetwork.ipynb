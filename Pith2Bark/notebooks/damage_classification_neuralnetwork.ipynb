{
 "cells": [
  {
   "cell_type": "code",
   "execution_count": 1,
   "id": "adf08eb4",
   "metadata": {},
   "outputs": [
    {
     "name": "stdout",
     "output_type": "stream",
     "text": [
      "/Users/muhammadfarooq/Codebase/thesis-experiment/Pith2Bark\n"
     ]
    }
   ],
   "source": [
    "cd .."
   ]
  },
  {
   "cell_type": "code",
   "execution_count": 2,
   "id": "7218123d",
   "metadata": {},
   "outputs": [],
   "source": [
    "from src.winner import winner_model_rings\n",
    "from src.damage import merge_df\n",
    "from src.damage import read_damage_min_max\n",
    "from src.damage import read_damage_mean"
   ]
  },
  {
   "cell_type": "code",
   "execution_count": 3,
   "id": "a3067876",
   "metadata": {},
   "outputs": [
    {
     "name": "stderr",
     "output_type": "stream",
     "text": [
      "2023-04-05 14:02:54.911898: I tensorflow/core/platform/cpu_feature_guard.cc:193] This TensorFlow binary is optimized with oneAPI Deep Neural Network Library (oneDNN) to use the following CPU instructions in performance-critical operations:  AVX2 AVX512F AVX512_VNNI FMA\n",
      "To enable them in other operations, rebuild TensorFlow with the appropriate compiler flags.\n"
     ]
    }
   ],
   "source": [
    "import numpy as np\n",
    "import matplotlib as mpl\n",
    "import matplotlib.pyplot as plt\n",
    "import seaborn as sns\n",
    "from numpy import unique\n",
    "\n",
    "from tensorflow.keras.layers import Conv1D, Dense, MaxPool1D, MaxPooling1D, Dropout, Flatten\n",
    "import tensorflow as tf\n",
    "from tensorflow import keras\n",
    "from tensorflow.keras.models import Sequential\n",
    "from tensorflow.keras.layers import InputLayer\n",
    "\n",
    "from sklearn.model_selection import train_test_split\n",
    "from sklearn.preprocessing import StandardScaler\n",
    "from sklearn.model_selection import KFold\n",
    "\n",
    "from keras.callbacks import EarlyStopping\n",
    "from sklearn.metrics import confusion_matrix, roc_curve, precision_recall_curve\n",
    "\n",
    "from keras.layers import BatchNormalization"
   ]
  },
  {
   "cell_type": "code",
   "execution_count": 4,
   "id": "3daa7336",
   "metadata": {},
   "outputs": [],
   "source": [
    "import warnings\n",
    "warnings.simplefilter('ignore')\n",
    "\n",
    "mpl.rcParams['figure.figsize'] = (12, 10)\n",
    "colors = plt.rcParams['axes.prop_cycle'].by_key()['color']\n",
    "\n",
    "random_state = 47\n",
    "np.random.seed(random_state)"
   ]
  },
  {
   "cell_type": "markdown",
   "id": "80c37980",
   "metadata": {},
   "source": [
    "# Visual"
   ]
  },
  {
   "cell_type": "code",
   "execution_count": 5,
   "id": "b394214c",
   "metadata": {},
   "outputs": [],
   "source": [
    "def plot_loss(history, label, n):\n",
    "    plt.semilogy(history.epoch, history.history['loss'],\n",
    "                 color=colors[n], label='Train ' + label)\n",
    "    plt.semilogy(history.epoch, history.history['val_loss'],\n",
    "                 color=colors[n], label='Val ' + label,\n",
    "                 linestyle=\"--\")\n",
    "    plt.xlabel('Epoch')\n",
    "    plt.ylabel('Loss')\n",
    "    \n",
    "def plot_metrics(history):\n",
    "    metrics = ['loss', 'prc', 'precision', 'recall']\n",
    "    for n, metric in enumerate(metrics):\n",
    "        name = metric.replace(\"_\",\" \").capitalize()\n",
    "        plt.subplot(2,2,n+1)\n",
    "        plt.plot(history.epoch, history.history[metric], color=colors[0], label='Train')\n",
    "        plt.plot(history.epoch, history.history['val_'+metric],\n",
    "                 color=colors[0], linestyle=\"--\", label='Val')\n",
    "        plt.xlabel('Epoch')\n",
    "        plt.ylabel(name)\n",
    "        if metric == 'loss':\n",
    "            plt.ylim([0, plt.ylim()[1]])\n",
    "        elif metric == 'auc':\n",
    "            plt.ylim([0.8,1])\n",
    "        else:\n",
    "            plt.ylim([0,1])\n",
    "        plt.legend()\n",
    "\n",
    "def plot_cm(labels, predictions, p=0.5):\n",
    "    cm = confusion_matrix(labels, predictions > p)\n",
    "    plt.figure(figsize=(5,5))\n",
    "    sns.heatmap(cm, annot=True, fmt=\"d\")\n",
    "    plt.title('Confusion matrix @{:.2f}'.format(p))\n",
    "    plt.ylabel('Actual label')\n",
    "    plt.xlabel('Predicted label')\n",
    "\n",
    "    print('True Negatives: ', cm[0][0])\n",
    "    print('False Positives: ', cm[0][1])\n",
    "    print('False Negatives: ', cm[1][0])\n",
    "    print('True Positives: ', cm[1][1])\n",
    "    print('Total: ', np.sum(cm[1]))\n",
    "\n",
    "def plot_roc(name, labels, predictions, **kwargs):\n",
    "    fp, tp, _ = roc_curve(labels, predictions)\n",
    "\n",
    "    plt.plot(100*fp, 100*tp, label=name, linewidth=2, **kwargs)\n",
    "    plt.xlabel('False positives [%]')\n",
    "    plt.ylabel('True positives [%]')\n",
    "    plt.grid(True)\n",
    "    ax = plt.gca()\n",
    "    ax.set_aspect('equal')\n",
    "\n",
    "def plot_prc(name, labels, predictions, **kwargs):\n",
    "    precision, recall, _ = precision_recall_curve(labels, predictions)\n",
    "\n",
    "    plt.plot(precision, recall, label=name, linewidth=2, **kwargs)\n",
    "    plt.xlabel('Recall')\n",
    "    plt.ylabel('Precision')\n",
    "    plt.grid(True)\n",
    "    ax = plt.gca()\n",
    "    ax.set_aspect('equal')"
   ]
  },
  {
   "cell_type": "markdown",
   "id": "8c6ccf3c",
   "metadata": {},
   "source": [
    "# Configuration"
   ]
  },
  {
   "cell_type": "code",
   "execution_count": 6,
   "id": "426bceec",
   "metadata": {},
   "outputs": [
    {
     "name": "stderr",
     "output_type": "stream",
     "text": [
      "2023-04-05 14:02:59.752660: I tensorflow/core/platform/cpu_feature_guard.cc:193] This TensorFlow binary is optimized with oneAPI Deep Neural Network Library (oneDNN) to use the following CPU instructions in performance-critical operations:  AVX2 AVX512F AVX512_VNNI FMA\n",
      "To enable them in other operations, rebuild TensorFlow with the appropriate compiler flags.\n"
     ]
    }
   ],
   "source": [
    "epochs, batch_size = 50, 32\n",
    "# 50, 32\n",
    "# 500, 50\n",
    "kf = KFold(n_splits=3, shuffle=True, random_state=42)\n",
    "\n",
    "accuracy_sixteen_min_max = []\n",
    "accuracy_thirtytwo_min_max = []\n",
    "accuracy_sixteen_mean = []\n",
    "accuracy_thirtytwo_mean = []\n",
    "\n",
    "# mode = max for monitro val_accuracy and val_prc\n",
    "\n",
    "early_stopping = EarlyStopping(\n",
    "    monitor='val_loss', \n",
    "    verbose=1,\n",
    "    patience=10,\n",
    "    mode='min',\n",
    "    restore_best_weights=True)\n",
    "\n",
    "METRICS = [\n",
    "    keras.metrics.TruePositives(name='tp'),\n",
    "    keras.metrics.FalsePositives(name='fp'),\n",
    "    keras.metrics.TrueNegatives(name='tn'),\n",
    "    keras.metrics.FalseNegatives(name='fn'), \n",
    "    keras.metrics.BinaryAccuracy(name='accuracy'),\n",
    "    keras.metrics.Precision(name='precision'),\n",
    "    keras.metrics.Recall(name='recall'),\n",
    "    keras.metrics.AUC(name='auc'),\n",
    "    keras.metrics.AUC(name='prc', curve='PR'), # precision-recall curve\n",
    "]\n",
    "\n",
    "#columns to drop\n",
    "columns = ['image', 'algo']"
   ]
  },
  {
   "cell_type": "markdown",
   "id": "f997a936",
   "metadata": {},
   "source": [
    "# Prepare Dataset"
   ]
  },
  {
   "cell_type": "code",
   "execution_count": 7,
   "id": "fe5a18bd",
   "metadata": {},
   "outputs": [
    {
     "name": "stdout",
     "output_type": "stream",
     "text": [
      "Polar Pith Canny(blur otsu) 12.829318845239923 (subseq)\n",
      "Polar Pith Canny(blur otsu) 12.88055458721076 (subseq)\n"
     ]
    }
   ],
   "source": [
    "mse_url = \"output/ringsranking_mse_sixteen.csv\"\n",
    "rings_url = \"output/ringsranking_rings_sixteen.csv\"\n",
    "df_ringsranking_sixteen = winner_model_rings(mse_url, rings_url)\n",
    "\n",
    "mse_url = \"output/ringsranking_mse_thirtytwo.csv\"\n",
    "rings_url = \"output/ringsranking_rings_thirtytwo.csv\"\n",
    "df_ringsranking_thirtytwo = winner_model_rings(mse_url, rings_url)"
   ]
  },
  {
   "cell_type": "code",
   "execution_count": 8,
   "id": "4cc20eef",
   "metadata": {},
   "outputs": [
    {
     "name": "stdout",
     "output_type": "stream",
     "text": [
      "Polar Pith Canny(blur triangle) 19.888455438324574 (peaks)\n",
      "Polar Pith Canny(blur triangle) 19.591747084408897 (peaks)\n"
     ]
    }
   ],
   "source": [
    "mse_url = \"output/pine_mse_sixteen.csv\"\n",
    "rings_url = \"output/pine_rings_sixteen.csv\"\n",
    "df_pine_sixteen = winner_model_rings(mse_url, rings_url)\n",
    "\n",
    "mse_url = \"output/pine_mse_thirtytwo.csv\"\n",
    "rings_url = \"output/pine_rings_thirtytwo.csv\"\n",
    "df_pine_thirtytwo = winner_model_rings(mse_url, rings_url)"
   ]
  },
  {
   "cell_type": "code",
   "execution_count": 9,
   "id": "a43a2fd5",
   "metadata": {},
   "outputs": [
    {
     "name": "stdout",
     "output_type": "stream",
     "text": [
      "Polar Pith Canny(blur triangle) 13.428984012468806 (peaks)\n",
      "Polar Pith Canny(blur triangle) 13.688767879960144 (peaks)\n"
     ]
    }
   ],
   "source": [
    "mse_url = \"output/fur_mse_sixteen.csv\"\n",
    "rings_url = \"output/fur_rings_sixteen.csv\"\n",
    "df_fur_sixteen = winner_model_rings(mse_url, rings_url)\n",
    "\n",
    "mse_url = \"output/fur_mse_thirtytwo.csv\"\n",
    "rings_url = \"output/fur_rings_thirtytwo.csv\"\n",
    "df_fur_thirtytwo = winner_model_rings(mse_url, rings_url)"
   ]
  },
  {
   "cell_type": "code",
   "execution_count": 10,
   "id": "952163f8",
   "metadata": {},
   "outputs": [
    {
     "name": "stdout",
     "output_type": "stream",
     "text": [
      "Polar Canny(triangle) 39.683736416974455 (peaks)\n",
      "Polar Pith Canny(triangle) 39.48914666858598 (peaks)\n"
     ]
    }
   ],
   "source": [
    "mse_url = \"output/tracy_mse_sixteen.csv\"\n",
    "rings_url = \"output/tracy_rings_sixteen.csv\"\n",
    "df_tracy_sixteen = winner_model_rings(mse_url, rings_url)\n",
    "\n",
    "mse_url = \"output/tracy_mse_thirtytwo.csv\"\n",
    "rings_url = \"output/tracy_rings_thirtytwo.csv\"\n",
    "df_tracy_thirtytwo = winner_model_rings(mse_url, rings_url)"
   ]
  },
  {
   "cell_type": "code",
   "execution_count": 11,
   "id": "dc59f33c",
   "metadata": {},
   "outputs": [
    {
     "name": "stdout",
     "output_type": "stream",
     "text": [
      "Canny(triangle) 18.789996216404624 (subseq)\n",
      "Canny(triangle) 18.871624925897343 (subseq)\n"
     ]
    }
   ],
   "source": [
    "mse_url = \"output/data_mse_sixteen.csv\"\n",
    "rings_url = \"output/data_rings_sixteen.csv\"\n",
    "df_data_sixteen = winner_model_rings(mse_url, rings_url)\n",
    "\n",
    "mse_url = \"output/data_mse_thirtytwo.csv\"\n",
    "rings_url = \"output/data_rings_thirtytwo.csv\"\n",
    "df_data_thirtytwo = winner_model_rings(mse_url, rings_url)"
   ]
  },
  {
   "cell_type": "code",
   "execution_count": 12,
   "id": "7f0fa2ef",
   "metadata": {},
   "outputs": [],
   "source": [
    "#damage\n",
    "damage_sixteen_url = \"damage/damage_sixteen.csv\"\n",
    "damage_thirtytwo_url = \"damage/damage_thirtytwo.csv\"\n",
    "\n",
    "#merge\n",
    "df_merge_sixteen = merge_df(df_ringsranking_sixteen, df_pine_sixteen, df_fur_sixteen, df_tracy_sixteen, df_data_sixteen)\n",
    "df_merge_thirtytwo = merge_df(df_ringsranking_thirtytwo, df_pine_thirtytwo, df_fur_thirtytwo, df_tracy_thirtytwo, df_data_thirtytwo)\n",
    "\n",
    "df_damage_sixteen_min_max = read_damage_min_max(damage_sixteen_url, df_merge_sixteen)\n",
    "df_damage_thirtytwo_min_max = read_damage_min_max(damage_thirtytwo_url, df_merge_thirtytwo)\n",
    "\n",
    "df_damage_sixteen_mean = read_damage_mean(damage_sixteen_url, df_merge_sixteen)\n",
    "df_damage_thirtytwo_mean = read_damage_mean(damage_thirtytwo_url, df_merge_thirtytwo)"
   ]
  },
  {
   "cell_type": "code",
   "execution_count": 13,
   "id": "c3450480",
   "metadata": {},
   "outputs": [],
   "source": [
    "#df_damage_sixteen_min_max"
   ]
  },
  {
   "cell_type": "code",
   "execution_count": 14,
   "id": "8d2f32fc",
   "metadata": {},
   "outputs": [],
   "source": [
    "#df_damage_thirtytwo_min_max"
   ]
  },
  {
   "cell_type": "code",
   "execution_count": 15,
   "id": "f17fcb9b",
   "metadata": {},
   "outputs": [],
   "source": [
    "#df_damage_sixteen_mean"
   ]
  },
  {
   "cell_type": "code",
   "execution_count": 16,
   "id": "e3d93efc",
   "metadata": {},
   "outputs": [],
   "source": [
    "#df_damage_thirtytwo_mean"
   ]
  },
  {
   "cell_type": "code",
   "execution_count": 17,
   "id": "4a89d4fb",
   "metadata": {},
   "outputs": [],
   "source": [
    "#STOP"
   ]
  },
  {
   "cell_type": "markdown",
   "id": "e16663a1",
   "metadata": {},
   "source": [
    "# Dense Model"
   ]
  },
  {
   "cell_type": "code",
   "execution_count": 18,
   "id": "52f3c176",
   "metadata": {},
   "outputs": [],
   "source": [
    "def layerFactory(type, nodes, activation):\n",
    "        if type == 'Dense':\n",
    "            if not activation:\n",
    "                return Dense(units=nodes)\n",
    "            else:\n",
    "                return Dense(units=nodes, activation=activation)\n",
    "        if type == 'Conv1D':\n",
    "            if not activation:\n",
    "                return Conv1D(units=nodes)\n",
    "            else:\n",
    "                return Conv1D(units=nodes, activation=activation)\n",
    "        if type == 'MaxPooling1D':\n",
    "            if not activation:\n",
    "                return MaxPooling1D(units=nodes)\n",
    "            else:\n",
    "                return MaxPooling1D(units=nodes, activation=activation)\n",
    "        if type == 'Dropout':\n",
    "            return Dropout(rate=nodes)\n",
    "        if type == 'Flatten':\n",
    "            if not activation:\n",
    "                return Flatten(units=nodes)\n",
    "            else:\n",
    "                return Flatten(units=nodes, activation=activation)\n",
    "\n",
    "        return Dense(units=nodes, activation=activation)"
   ]
  },
  {
   "cell_type": "code",
   "execution_count": 19,
   "id": "e7a10910",
   "metadata": {},
   "outputs": [],
   "source": [
    "class DenseModel():\n",
    "    def __init__(self, layers, input_dim, metrics=METRICS, output_bias=None):\n",
    "        if output_bias is not None:\n",
    "            output_bias = tf.keras.initializers.Constant(output_bias)\n",
    "\n",
    "        model = Sequential([\n",
    "            InputLayer(input_shape=(input_dim))\n",
    "        ])\n",
    "\n",
    "        for layer in layers:\n",
    "            model.add(layerFactory(layer['type'], layer['nodes'], layer['activation']))\n",
    "\n",
    "        model.compile(\n",
    "            optimizer=tf.keras.optimizers.Adam(learning_rate=0.0001),\n",
    "            loss='binary_crossentropy',\n",
    "            metrics=metrics)\n",
    "        \n",
    "        self.model = model\n",
    "    \n",
    "    def train(self, X_train, y_train, X_val, y_val, epochs, batch_size, callback):\n",
    "        history = self.model.fit(X_train, y_train, validation_data=(X_val, y_val), epochs=epochs, batch_size=batch_size, verbose=1, shuffle=True, callbacks=[callback])\n",
    "        return history\n",
    "\n",
    "    def evaluate(self, X_test, y_test):\n",
    "        results = self.model.evaluate(X_test, y_test, verbose=0)\n",
    "        return results\n",
    "\n",
    "    def predict(self, X): #X_train X_test\n",
    "        predictions = self.model.predict(X)\n",
    "        return predictions\n",
    "    \n",
    "    def summary(self):\n",
    "        self.model.summary()\n",
    "        \n",
    "    def metrics_names(self):\n",
    "        return self.model.metrics_names"
   ]
  },
  {
   "cell_type": "markdown",
   "id": "68d831a3",
   "metadata": {},
   "source": [
    "## 1 Dense Model with 16 Lines"
   ]
  },
  {
   "cell_type": "markdown",
   "id": "7a5d3420",
   "metadata": {},
   "source": [
    "### Dataset"
   ]
  },
  {
   "cell_type": "code",
   "execution_count": 20,
   "id": "5608f968",
   "metadata": {},
   "outputs": [],
   "source": [
    "# prepare dataset\n",
    "df = df_damage_sixteen_min_max.drop(columns=columns)"
   ]
  },
  {
   "cell_type": "code",
   "execution_count": 21,
   "id": "6e225eb6",
   "metadata": {},
   "outputs": [
    {
     "name": "stdout",
     "output_type": "stream",
     "text": [
      "Training features shape: (106, 20)\n",
      "Training labels shape: (106,) \n",
      "\n",
      "Validation features shape: (27, 20)\n",
      "Validation labels shape: (27,) \n",
      "\n",
      "Test features shape: (15, 20)\n",
      "Test labels shape: (15,) \n",
      "\n"
     ]
    }
   ],
   "source": [
    "# Split into sets for training, validation, and testing + use and save scaler\n",
    "\n",
    "X = df.drop(columns=['Damage'])\n",
    "y = df['Damage']\n",
    "\n",
    "X_train, X_test, y_train, y_test = train_test_split(X, y, test_size=0.1, random_state=random_state)\n",
    "X_train, X_val, y_train, y_val = train_test_split(X_train, y_train, test_size=0.2, random_state=random_state)\n",
    "\n",
    "scaler_sixteen = StandardScaler()\n",
    "X_train = scaler_sixteen.fit_transform(X_train)\n",
    "\n",
    "X_val = scaler_sixteen.transform(X_val)\n",
    "X_test = scaler_sixteen.transform(X_test)\n",
    "\n",
    "print('Training features shape:', X_train.shape)\n",
    "print('Training labels shape:', y_train.shape, '\\n')\n",
    "\n",
    "print('Validation features shape:', X_val.shape)\n",
    "print('Validation labels shape:', y_val.shape, '\\n')\n",
    "\n",
    "print('Test features shape:', X_test.shape)\n",
    "print('Test labels shape:', y_test.shape, '\\n')"
   ]
  },
  {
   "cell_type": "markdown",
   "id": "ab1c3e45",
   "metadata": {},
   "source": [
    "### Model"
   ]
  },
  {
   "cell_type": "code",
   "execution_count": 22,
   "id": "0a6dd8d6",
   "metadata": {},
   "outputs": [
    {
     "name": "stdout",
     "output_type": "stream",
     "text": [
      "Model: \"sequential\"\n",
      "_________________________________________________________________\n",
      " Layer (type)                Output Shape              Param #   \n",
      "=================================================================\n",
      " dense (Dense)               (None, 16)                336       \n",
      "                                                                 \n",
      " dense_1 (Dense)             (None, 16)                272       \n",
      "                                                                 \n",
      " dense_2 (Dense)             (None, 1)                 17        \n",
      "                                                                 \n",
      "=================================================================\n",
      "Total params: 625\n",
      "Trainable params: 625\n",
      "Non-trainable params: 0\n",
      "_________________________________________________________________\n"
     ]
    }
   ],
   "source": [
    "input_dim = X_train.shape[1]\n",
    "units = 16\n",
    "activation = 'relu'\n",
    "output_size = 1\n",
    "output_activation = 'sigmoid'\n",
    "kernel_initializer = 'he_uniform'\n",
    "\n",
    "LAYERS = [ \n",
    "    { 'type': 'Dense', 'nodes':units, 'activation': activation },\n",
    "    { 'type': 'Dense', 'nodes':units, 'activation': activation },\n",
    "    { 'type': 'Dense', 'nodes':output_size, 'activation': output_activation }\n",
    "]\n",
    "\n",
    "model = DenseModel(LAYERS, input_dim)\n",
    "model.summary()"
   ]
  },
  {
   "cell_type": "code",
   "execution_count": 23,
   "id": "84838301",
   "metadata": {},
   "outputs": [
    {
     "name": "stdout",
     "output_type": "stream",
     "text": [
      "Epoch 1/50\n",
      "4/4 [==============================] - 2s 185ms/step - loss: 0.5203 - tp: 36.0000 - fp: 11.0000 - tn: 57.0000 - fn: 2.0000 - accuracy: 0.8774 - precision: 0.7660 - recall: 0.9474 - auc: 0.9783 - prc: 0.9655 - val_loss: 0.5518 - val_tp: 9.0000 - val_fp: 5.0000 - val_tn: 12.0000 - val_fn: 1.0000 - val_accuracy: 0.7778 - val_precision: 0.6429 - val_recall: 0.9000 - val_auc: 0.9000 - val_prc: 0.9358\n",
      "Epoch 2/50\n",
      "4/4 [==============================] - 0s 17ms/step - loss: 0.5143 - tp: 36.0000 - fp: 10.0000 - tn: 58.0000 - fn: 2.0000 - accuracy: 0.8868 - precision: 0.7826 - recall: 0.9474 - auc: 0.9783 - prc: 0.9650 - val_loss: 0.5435 - val_tp: 9.0000 - val_fp: 5.0000 - val_tn: 12.0000 - val_fn: 1.0000 - val_accuracy: 0.7778 - val_precision: 0.6429 - val_recall: 0.9000 - val_auc: 0.9000 - val_prc: 0.9358\n",
      "Epoch 3/50\n",
      "4/4 [==============================] - 0s 17ms/step - loss: 0.5084 - tp: 36.0000 - fp: 9.0000 - tn: 59.0000 - fn: 2.0000 - accuracy: 0.8962 - precision: 0.8000 - recall: 0.9474 - auc: 0.9791 - prc: 0.9648 - val_loss: 0.5355 - val_tp: 9.0000 - val_fp: 2.0000 - val_tn: 15.0000 - val_fn: 1.0000 - val_accuracy: 0.8889 - val_precision: 0.8182 - val_recall: 0.9000 - val_auc: 0.9000 - val_prc: 0.9358\n",
      "Epoch 4/50\n",
      "4/4 [==============================] - 0s 17ms/step - loss: 0.5026 - tp: 36.0000 - fp: 8.0000 - tn: 60.0000 - fn: 2.0000 - accuracy: 0.9057 - precision: 0.8182 - recall: 0.9474 - auc: 0.9808 - prc: 0.9669 - val_loss: 0.5277 - val_tp: 9.0000 - val_fp: 2.0000 - val_tn: 15.0000 - val_fn: 1.0000 - val_accuracy: 0.8889 - val_precision: 0.8182 - val_recall: 0.9000 - val_auc: 0.9000 - val_prc: 0.9358\n",
      "Epoch 5/50\n",
      "4/4 [==============================] - 0s 17ms/step - loss: 0.4966 - tp: 36.0000 - fp: 7.0000 - tn: 61.0000 - fn: 2.0000 - accuracy: 0.9151 - precision: 0.8372 - recall: 0.9474 - auc: 0.9816 - prc: 0.9675 - val_loss: 0.5201 - val_tp: 9.0000 - val_fp: 2.0000 - val_tn: 15.0000 - val_fn: 1.0000 - val_accuracy: 0.8889 - val_precision: 0.8182 - val_recall: 0.9000 - val_auc: 0.9000 - val_prc: 0.9358\n",
      "Epoch 6/50\n",
      "4/4 [==============================] - 0s 17ms/step - loss: 0.4916 - tp: 36.0000 - fp: 7.0000 - tn: 61.0000 - fn: 2.0000 - accuracy: 0.9151 - precision: 0.8372 - recall: 0.9474 - auc: 0.9820 - prc: 0.9678 - val_loss: 0.5121 - val_tp: 9.0000 - val_fp: 2.0000 - val_tn: 15.0000 - val_fn: 1.0000 - val_accuracy: 0.8889 - val_precision: 0.8182 - val_recall: 0.9000 - val_auc: 0.9000 - val_prc: 0.9358\n",
      "Epoch 7/50\n",
      "4/4 [==============================] - 0s 21ms/step - loss: 0.4856 - tp: 36.0000 - fp: 6.0000 - tn: 62.0000 - fn: 2.0000 - accuracy: 0.9245 - precision: 0.8571 - recall: 0.9474 - auc: 0.9828 - prc: 0.9691 - val_loss: 0.5046 - val_tp: 9.0000 - val_fp: 2.0000 - val_tn: 15.0000 - val_fn: 1.0000 - val_accuracy: 0.8889 - val_precision: 0.8182 - val_recall: 0.9000 - val_auc: 0.9000 - val_prc: 0.9358\n",
      "Epoch 8/50\n",
      "4/4 [==============================] - 0s 17ms/step - loss: 0.4806 - tp: 36.0000 - fp: 6.0000 - tn: 62.0000 - fn: 2.0000 - accuracy: 0.9245 - precision: 0.8571 - recall: 0.9474 - auc: 0.9822 - prc: 0.9681 - val_loss: 0.4971 - val_tp: 9.0000 - val_fp: 2.0000 - val_tn: 15.0000 - val_fn: 1.0000 - val_accuracy: 0.8889 - val_precision: 0.8182 - val_recall: 0.9000 - val_auc: 0.9000 - val_prc: 0.9358\n",
      "Epoch 9/50\n",
      "4/4 [==============================] - 0s 17ms/step - loss: 0.4751 - tp: 36.0000 - fp: 6.0000 - tn: 62.0000 - fn: 2.0000 - accuracy: 0.9245 - precision: 0.8571 - recall: 0.9474 - auc: 0.9830 - prc: 0.9692 - val_loss: 0.4902 - val_tp: 9.0000 - val_fp: 2.0000 - val_tn: 15.0000 - val_fn: 1.0000 - val_accuracy: 0.8889 - val_precision: 0.8182 - val_recall: 0.9000 - val_auc: 0.9000 - val_prc: 0.9358\n",
      "Epoch 10/50\n",
      "4/4 [==============================] - 0s 17ms/step - loss: 0.4699 - tp: 36.0000 - fp: 6.0000 - tn: 62.0000 - fn: 2.0000 - accuracy: 0.9245 - precision: 0.8571 - recall: 0.9474 - auc: 0.9826 - prc: 0.9684 - val_loss: 0.4833 - val_tp: 9.0000 - val_fp: 2.0000 - val_tn: 15.0000 - val_fn: 1.0000 - val_accuracy: 0.8889 - val_precision: 0.8182 - val_recall: 0.9000 - val_auc: 0.9000 - val_prc: 0.9358\n",
      "Epoch 11/50\n",
      "4/4 [==============================] - 0s 17ms/step - loss: 0.4649 - tp: 36.0000 - fp: 6.0000 - tn: 62.0000 - fn: 2.0000 - accuracy: 0.9245 - precision: 0.8571 - recall: 0.9474 - auc: 0.9834 - prc: 0.9695 - val_loss: 0.4765 - val_tp: 9.0000 - val_fp: 2.0000 - val_tn: 15.0000 - val_fn: 1.0000 - val_accuracy: 0.8889 - val_precision: 0.8182 - val_recall: 0.9000 - val_auc: 0.9000 - val_prc: 0.9358\n",
      "Epoch 12/50\n",
      "4/4 [==============================] - 0s 17ms/step - loss: 0.4599 - tp: 36.0000 - fp: 6.0000 - tn: 62.0000 - fn: 2.0000 - accuracy: 0.9245 - precision: 0.8571 - recall: 0.9474 - auc: 0.9834 - prc: 0.9695 - val_loss: 0.4698 - val_tp: 9.0000 - val_fp: 2.0000 - val_tn: 15.0000 - val_fn: 1.0000 - val_accuracy: 0.8889 - val_precision: 0.8182 - val_recall: 0.9000 - val_auc: 0.9000 - val_prc: 0.9358\n",
      "Epoch 13/50\n",
      "4/4 [==============================] - 0s 17ms/step - loss: 0.4549 - tp: 36.0000 - fp: 6.0000 - tn: 62.0000 - fn: 2.0000 - accuracy: 0.9245 - precision: 0.8571 - recall: 0.9474 - auc: 0.9836 - prc: 0.9697 - val_loss: 0.4634 - val_tp: 9.0000 - val_fp: 2.0000 - val_tn: 15.0000 - val_fn: 1.0000 - val_accuracy: 0.8889 - val_precision: 0.8182 - val_recall: 0.9000 - val_auc: 0.9000 - val_prc: 0.9358\n",
      "Epoch 14/50\n",
      "4/4 [==============================] - 0s 16ms/step - loss: 0.4501 - tp: 35.0000 - fp: 6.0000 - tn: 62.0000 - fn: 3.0000 - accuracy: 0.9151 - precision: 0.8537 - recall: 0.9211 - auc: 0.9830 - prc: 0.9689 - val_loss: 0.4572 - val_tp: 9.0000 - val_fp: 2.0000 - val_tn: 15.0000 - val_fn: 1.0000 - val_accuracy: 0.8889 - val_precision: 0.8182 - val_recall: 0.9000 - val_auc: 0.9000 - val_prc: 0.9358\n",
      "Epoch 15/50\n",
      "4/4 [==============================] - 0s 17ms/step - loss: 0.4454 - tp: 35.0000 - fp: 6.0000 - tn: 62.0000 - fn: 3.0000 - accuracy: 0.9151 - precision: 0.8537 - recall: 0.9211 - auc: 0.9832 - prc: 0.9691 - val_loss: 0.4512 - val_tp: 9.0000 - val_fp: 2.0000 - val_tn: 15.0000 - val_fn: 1.0000 - val_accuracy: 0.8889 - val_precision: 0.8182 - val_recall: 0.9000 - val_auc: 0.9000 - val_prc: 0.9358\n",
      "Epoch 16/50\n",
      "4/4 [==============================] - 0s 16ms/step - loss: 0.4409 - tp: 35.0000 - fp: 6.0000 - tn: 62.0000 - fn: 3.0000 - accuracy: 0.9151 - precision: 0.8537 - recall: 0.9211 - auc: 0.9832 - prc: 0.9692 - val_loss: 0.4454 - val_tp: 9.0000 - val_fp: 2.0000 - val_tn: 15.0000 - val_fn: 1.0000 - val_accuracy: 0.8889 - val_precision: 0.8182 - val_recall: 0.9000 - val_auc: 0.9000 - val_prc: 0.9358\n",
      "Epoch 17/50\n",
      "4/4 [==============================] - 0s 17ms/step - loss: 0.4367 - tp: 35.0000 - fp: 6.0000 - tn: 62.0000 - fn: 3.0000 - accuracy: 0.9151 - precision: 0.8537 - recall: 0.9211 - auc: 0.9832 - prc: 0.9693 - val_loss: 0.4398 - val_tp: 9.0000 - val_fp: 2.0000 - val_tn: 15.0000 - val_fn: 1.0000 - val_accuracy: 0.8889 - val_precision: 0.8182 - val_recall: 0.9000 - val_auc: 0.9000 - val_prc: 0.9358\n",
      "Epoch 18/50\n",
      "4/4 [==============================] - 0s 16ms/step - loss: 0.4322 - tp: 35.0000 - fp: 5.0000 - tn: 63.0000 - fn: 3.0000 - accuracy: 0.9245 - precision: 0.8750 - recall: 0.9211 - auc: 0.9830 - prc: 0.9690 - val_loss: 0.4347 - val_tp: 9.0000 - val_fp: 2.0000 - val_tn: 15.0000 - val_fn: 1.0000 - val_accuracy: 0.8889 - val_precision: 0.8182 - val_recall: 0.9000 - val_auc: 0.9000 - val_prc: 0.9358\n",
      "Epoch 19/50\n",
      "4/4 [==============================] - 0s 17ms/step - loss: 0.4282 - tp: 35.0000 - fp: 5.0000 - tn: 63.0000 - fn: 3.0000 - accuracy: 0.9245 - precision: 0.8750 - recall: 0.9211 - auc: 0.9828 - prc: 0.9685 - val_loss: 0.4298 - val_tp: 9.0000 - val_fp: 2.0000 - val_tn: 15.0000 - val_fn: 1.0000 - val_accuracy: 0.8889 - val_precision: 0.8182 - val_recall: 0.9000 - val_auc: 0.9029 - val_prc: 0.9365\n",
      "Epoch 20/50\n",
      "4/4 [==============================] - 0s 17ms/step - loss: 0.4243 - tp: 35.0000 - fp: 5.0000 - tn: 63.0000 - fn: 3.0000 - accuracy: 0.9245 - precision: 0.8750 - recall: 0.9211 - auc: 0.9826 - prc: 0.9685 - val_loss: 0.4249 - val_tp: 9.0000 - val_fp: 2.0000 - val_tn: 15.0000 - val_fn: 1.0000 - val_accuracy: 0.8889 - val_precision: 0.8182 - val_recall: 0.9000 - val_auc: 0.9029 - val_prc: 0.9365\n",
      "Epoch 21/50\n"
     ]
    },
    {
     "name": "stdout",
     "output_type": "stream",
     "text": [
      "4/4 [==============================] - 0s 16ms/step - loss: 0.4205 - tp: 35.0000 - fp: 5.0000 - tn: 63.0000 - fn: 3.0000 - accuracy: 0.9245 - precision: 0.8750 - recall: 0.9211 - auc: 0.9820 - prc: 0.9674 - val_loss: 0.4202 - val_tp: 9.0000 - val_fp: 2.0000 - val_tn: 15.0000 - val_fn: 1.0000 - val_accuracy: 0.8889 - val_precision: 0.8182 - val_recall: 0.9000 - val_auc: 0.9059 - val_prc: 0.9372\n",
      "Epoch 22/50\n",
      "4/4 [==============================] - 0s 17ms/step - loss: 0.4168 - tp: 35.0000 - fp: 5.0000 - tn: 63.0000 - fn: 3.0000 - accuracy: 0.9245 - precision: 0.8750 - recall: 0.9211 - auc: 0.9814 - prc: 0.9667 - val_loss: 0.4156 - val_tp: 9.0000 - val_fp: 2.0000 - val_tn: 15.0000 - val_fn: 1.0000 - val_accuracy: 0.8889 - val_precision: 0.8182 - val_recall: 0.9000 - val_auc: 0.9059 - val_prc: 0.9372\n",
      "Epoch 23/50\n",
      "4/4 [==============================] - 0s 17ms/step - loss: 0.4131 - tp: 35.0000 - fp: 5.0000 - tn: 63.0000 - fn: 3.0000 - accuracy: 0.9245 - precision: 0.8750 - recall: 0.9211 - auc: 0.9810 - prc: 0.9666 - val_loss: 0.4112 - val_tp: 9.0000 - val_fp: 2.0000 - val_tn: 15.0000 - val_fn: 1.0000 - val_accuracy: 0.8889 - val_precision: 0.8182 - val_recall: 0.9000 - val_auc: 0.9059 - val_prc: 0.9372\n",
      "Epoch 24/50\n",
      "4/4 [==============================] - 0s 16ms/step - loss: 0.4095 - tp: 35.0000 - fp: 5.0000 - tn: 63.0000 - fn: 3.0000 - accuracy: 0.9245 - precision: 0.8750 - recall: 0.9211 - auc: 0.9810 - prc: 0.9668 - val_loss: 0.4070 - val_tp: 9.0000 - val_fp: 2.0000 - val_tn: 15.0000 - val_fn: 1.0000 - val_accuracy: 0.8889 - val_precision: 0.8182 - val_recall: 0.9000 - val_auc: 0.9059 - val_prc: 0.9372\n",
      "Epoch 25/50\n",
      "4/4 [==============================] - 0s 16ms/step - loss: 0.4060 - tp: 35.0000 - fp: 5.0000 - tn: 63.0000 - fn: 3.0000 - accuracy: 0.9245 - precision: 0.8750 - recall: 0.9211 - auc: 0.9799 - prc: 0.9657 - val_loss: 0.4031 - val_tp: 9.0000 - val_fp: 2.0000 - val_tn: 15.0000 - val_fn: 1.0000 - val_accuracy: 0.8889 - val_precision: 0.8182 - val_recall: 0.9000 - val_auc: 0.9118 - val_prc: 0.9388\n",
      "Epoch 26/50\n",
      "4/4 [==============================] - 0s 16ms/step - loss: 0.4027 - tp: 35.0000 - fp: 5.0000 - tn: 63.0000 - fn: 3.0000 - accuracy: 0.9245 - precision: 0.8750 - recall: 0.9211 - auc: 0.9795 - prc: 0.9652 - val_loss: 0.3992 - val_tp: 9.0000 - val_fp: 2.0000 - val_tn: 15.0000 - val_fn: 1.0000 - val_accuracy: 0.8889 - val_precision: 0.8182 - val_recall: 0.9000 - val_auc: 0.9176 - val_prc: 0.9404\n",
      "Epoch 27/50\n",
      "4/4 [==============================] - 0s 16ms/step - loss: 0.3996 - tp: 35.0000 - fp: 5.0000 - tn: 63.0000 - fn: 3.0000 - accuracy: 0.9245 - precision: 0.8750 - recall: 0.9211 - auc: 0.9787 - prc: 0.9639 - val_loss: 0.3953 - val_tp: 9.0000 - val_fp: 2.0000 - val_tn: 15.0000 - val_fn: 1.0000 - val_accuracy: 0.8889 - val_precision: 0.8182 - val_recall: 0.9000 - val_auc: 0.9176 - val_prc: 0.9404\n",
      "Epoch 28/50\n",
      "4/4 [==============================] - 0s 16ms/step - loss: 0.3961 - tp: 35.0000 - fp: 5.0000 - tn: 63.0000 - fn: 3.0000 - accuracy: 0.9245 - precision: 0.8750 - recall: 0.9211 - auc: 0.9787 - prc: 0.9639 - val_loss: 0.3916 - val_tp: 9.0000 - val_fp: 2.0000 - val_tn: 15.0000 - val_fn: 1.0000 - val_accuracy: 0.8889 - val_precision: 0.8182 - val_recall: 0.9000 - val_auc: 0.9176 - val_prc: 0.9404\n",
      "Epoch 29/50\n",
      "4/4 [==============================] - 0s 16ms/step - loss: 0.3930 - tp: 35.0000 - fp: 5.0000 - tn: 63.0000 - fn: 3.0000 - accuracy: 0.9245 - precision: 0.8750 - recall: 0.9211 - auc: 0.9783 - prc: 0.9632 - val_loss: 0.3878 - val_tp: 9.0000 - val_fp: 2.0000 - val_tn: 15.0000 - val_fn: 1.0000 - val_accuracy: 0.8889 - val_precision: 0.8182 - val_recall: 0.9000 - val_auc: 0.9176 - val_prc: 0.9404\n",
      "Epoch 30/50\n",
      "4/4 [==============================] - 0s 17ms/step - loss: 0.3900 - tp: 35.0000 - fp: 5.0000 - tn: 63.0000 - fn: 3.0000 - accuracy: 0.9245 - precision: 0.8750 - recall: 0.9211 - auc: 0.9785 - prc: 0.9639 - val_loss: 0.3842 - val_tp: 9.0000 - val_fp: 2.0000 - val_tn: 15.0000 - val_fn: 1.0000 - val_accuracy: 0.8889 - val_precision: 0.8182 - val_recall: 0.9000 - val_auc: 0.9176 - val_prc: 0.9404\n",
      "Epoch 31/50\n",
      "4/4 [==============================] - 0s 16ms/step - loss: 0.3869 - tp: 35.0000 - fp: 5.0000 - tn: 63.0000 - fn: 3.0000 - accuracy: 0.9245 - precision: 0.8750 - recall: 0.9211 - auc: 0.9783 - prc: 0.9640 - val_loss: 0.3808 - val_tp: 9.0000 - val_fp: 2.0000 - val_tn: 15.0000 - val_fn: 1.0000 - val_accuracy: 0.8889 - val_precision: 0.8182 - val_recall: 0.9000 - val_auc: 0.9176 - val_prc: 0.9404\n",
      "Epoch 32/50\n",
      "4/4 [==============================] - 0s 16ms/step - loss: 0.3841 - tp: 35.0000 - fp: 5.0000 - tn: 63.0000 - fn: 3.0000 - accuracy: 0.9245 - precision: 0.8750 - recall: 0.9211 - auc: 0.9776 - prc: 0.9629 - val_loss: 0.3775 - val_tp: 9.0000 - val_fp: 2.0000 - val_tn: 15.0000 - val_fn: 1.0000 - val_accuracy: 0.8889 - val_precision: 0.8182 - val_recall: 0.9000 - val_auc: 0.9176 - val_prc: 0.9404\n",
      "Epoch 33/50\n",
      "4/4 [==============================] - 0s 16ms/step - loss: 0.3813 - tp: 34.0000 - fp: 5.0000 - tn: 63.0000 - fn: 4.0000 - accuracy: 0.9151 - precision: 0.8718 - recall: 0.8947 - auc: 0.9774 - prc: 0.9630 - val_loss: 0.3743 - val_tp: 9.0000 - val_fp: 2.0000 - val_tn: 15.0000 - val_fn: 1.0000 - val_accuracy: 0.8889 - val_precision: 0.8182 - val_recall: 0.9000 - val_auc: 0.9176 - val_prc: 0.9404\n",
      "Epoch 34/50\n",
      "4/4 [==============================] - 0s 17ms/step - loss: 0.3785 - tp: 34.0000 - fp: 5.0000 - tn: 63.0000 - fn: 4.0000 - accuracy: 0.9151 - precision: 0.8718 - recall: 0.8947 - auc: 0.9772 - prc: 0.9626 - val_loss: 0.3711 - val_tp: 9.0000 - val_fp: 2.0000 - val_tn: 15.0000 - val_fn: 1.0000 - val_accuracy: 0.8889 - val_precision: 0.8182 - val_recall: 0.9000 - val_auc: 0.9176 - val_prc: 0.9404\n",
      "Epoch 35/50\n",
      "4/4 [==============================] - 0s 18ms/step - loss: 0.3757 - tp: 34.0000 - fp: 5.0000 - tn: 63.0000 - fn: 4.0000 - accuracy: 0.9151 - precision: 0.8718 - recall: 0.8947 - auc: 0.9768 - prc: 0.9618 - val_loss: 0.3680 - val_tp: 9.0000 - val_fp: 2.0000 - val_tn: 15.0000 - val_fn: 1.0000 - val_accuracy: 0.8889 - val_precision: 0.8182 - val_recall: 0.9000 - val_auc: 0.9176 - val_prc: 0.9404\n",
      "Epoch 36/50\n",
      "4/4 [==============================] - 0s 19ms/step - loss: 0.3730 - tp: 34.0000 - fp: 5.0000 - tn: 63.0000 - fn: 4.0000 - accuracy: 0.9151 - precision: 0.8718 - recall: 0.8947 - auc: 0.9768 - prc: 0.9622 - val_loss: 0.3649 - val_tp: 9.0000 - val_fp: 2.0000 - val_tn: 15.0000 - val_fn: 1.0000 - val_accuracy: 0.8889 - val_precision: 0.8182 - val_recall: 0.9000 - val_auc: 0.9206 - val_prc: 0.9413\n",
      "Epoch 37/50\n",
      "4/4 [==============================] - 0s 19ms/step - loss: 0.3701 - tp: 34.0000 - fp: 5.0000 - tn: 63.0000 - fn: 4.0000 - accuracy: 0.9151 - precision: 0.8718 - recall: 0.8947 - auc: 0.9768 - prc: 0.9621 - val_loss: 0.3620 - val_tp: 9.0000 - val_fp: 2.0000 - val_tn: 15.0000 - val_fn: 1.0000 - val_accuracy: 0.8889 - val_precision: 0.8182 - val_recall: 0.9000 - val_auc: 0.9206 - val_prc: 0.9413\n",
      "Epoch 38/50\n",
      "4/4 [==============================] - 0s 17ms/step - loss: 0.3675 - tp: 33.0000 - fp: 5.0000 - tn: 63.0000 - fn: 5.0000 - accuracy: 0.9057 - precision: 0.8684 - recall: 0.8684 - auc: 0.9764 - prc: 0.9616 - val_loss: 0.3593 - val_tp: 9.0000 - val_fp: 2.0000 - val_tn: 15.0000 - val_fn: 1.0000 - val_accuracy: 0.8889 - val_precision: 0.8182 - val_recall: 0.9000 - val_auc: 0.9235 - val_prc: 0.9422\n",
      "Epoch 39/50\n",
      "4/4 [==============================] - 0s 16ms/step - loss: 0.3650 - tp: 33.0000 - fp: 5.0000 - tn: 63.0000 - fn: 5.0000 - accuracy: 0.9057 - precision: 0.8684 - recall: 0.8684 - auc: 0.9766 - prc: 0.9620 - val_loss: 0.3567 - val_tp: 9.0000 - val_fp: 2.0000 - val_tn: 15.0000 - val_fn: 1.0000 - val_accuracy: 0.8889 - val_precision: 0.8182 - val_recall: 0.9000 - val_auc: 0.9235 - val_prc: 0.9422\n",
      "Epoch 40/50\n",
      "4/4 [==============================] - 0s 16ms/step - loss: 0.3626 - tp: 33.0000 - fp: 5.0000 - tn: 63.0000 - fn: 5.0000 - accuracy: 0.9057 - precision: 0.8684 - recall: 0.8684 - auc: 0.9762 - prc: 0.9616 - val_loss: 0.3540 - val_tp: 9.0000 - val_fp: 2.0000 - val_tn: 15.0000 - val_fn: 1.0000 - val_accuracy: 0.8889 - val_precision: 0.8182 - val_recall: 0.9000 - val_auc: 0.9235 - val_prc: 0.9422\n",
      "Epoch 41/50\n"
     ]
    },
    {
     "name": "stdout",
     "output_type": "stream",
     "text": [
      "4/4 [==============================] - 0s 17ms/step - loss: 0.3601 - tp: 33.0000 - fp: 5.0000 - tn: 63.0000 - fn: 5.0000 - accuracy: 0.9057 - precision: 0.8684 - recall: 0.8684 - auc: 0.9760 - prc: 0.9613 - val_loss: 0.3516 - val_tp: 9.0000 - val_fp: 2.0000 - val_tn: 15.0000 - val_fn: 1.0000 - val_accuracy: 0.8889 - val_precision: 0.8182 - val_recall: 0.9000 - val_auc: 0.9235 - val_prc: 0.9422\n",
      "Epoch 42/50\n",
      "4/4 [==============================] - 0s 18ms/step - loss: 0.3578 - tp: 33.0000 - fp: 5.0000 - tn: 63.0000 - fn: 5.0000 - accuracy: 0.9057 - precision: 0.8684 - recall: 0.8684 - auc: 0.9758 - prc: 0.9610 - val_loss: 0.3492 - val_tp: 9.0000 - val_fp: 2.0000 - val_tn: 15.0000 - val_fn: 1.0000 - val_accuracy: 0.8889 - val_precision: 0.8182 - val_recall: 0.9000 - val_auc: 0.9235 - val_prc: 0.9422\n",
      "Epoch 43/50\n",
      "4/4 [==============================] - 0s 19ms/step - loss: 0.3555 - tp: 33.0000 - fp: 5.0000 - tn: 63.0000 - fn: 5.0000 - accuracy: 0.9057 - precision: 0.8684 - recall: 0.8684 - auc: 0.9760 - prc: 0.9615 - val_loss: 0.3469 - val_tp: 9.0000 - val_fp: 2.0000 - val_tn: 15.0000 - val_fn: 1.0000 - val_accuracy: 0.8889 - val_precision: 0.8182 - val_recall: 0.9000 - val_auc: 0.9235 - val_prc: 0.9422\n",
      "Epoch 44/50\n",
      "4/4 [==============================] - 0s 22ms/step - loss: 0.3534 - tp: 34.0000 - fp: 5.0000 - tn: 63.0000 - fn: 4.0000 - accuracy: 0.9151 - precision: 0.8718 - recall: 0.8947 - auc: 0.9756 - prc: 0.9610 - val_loss: 0.3447 - val_tp: 9.0000 - val_fp: 2.0000 - val_tn: 15.0000 - val_fn: 1.0000 - val_accuracy: 0.8889 - val_precision: 0.8182 - val_recall: 0.9000 - val_auc: 0.9235 - val_prc: 0.9422\n",
      "Epoch 45/50\n",
      "4/4 [==============================] - 0s 21ms/step - loss: 0.3512 - tp: 34.0000 - fp: 5.0000 - tn: 63.0000 - fn: 4.0000 - accuracy: 0.9151 - precision: 0.8718 - recall: 0.8947 - auc: 0.9756 - prc: 0.9610 - val_loss: 0.3426 - val_tp: 9.0000 - val_fp: 2.0000 - val_tn: 15.0000 - val_fn: 1.0000 - val_accuracy: 0.8889 - val_precision: 0.8182 - val_recall: 0.9000 - val_auc: 0.9235 - val_prc: 0.9422\n",
      "Epoch 46/50\n",
      "4/4 [==============================] - 0s 20ms/step - loss: 0.3492 - tp: 34.0000 - fp: 5.0000 - tn: 63.0000 - fn: 4.0000 - accuracy: 0.9151 - precision: 0.8718 - recall: 0.8947 - auc: 0.9750 - prc: 0.9601 - val_loss: 0.3404 - val_tp: 9.0000 - val_fp: 2.0000 - val_tn: 15.0000 - val_fn: 1.0000 - val_accuracy: 0.8889 - val_precision: 0.8182 - val_recall: 0.9000 - val_auc: 0.9235 - val_prc: 0.9422\n",
      "Epoch 47/50\n",
      "4/4 [==============================] - 0s 20ms/step - loss: 0.3470 - tp: 34.0000 - fp: 5.0000 - tn: 63.0000 - fn: 4.0000 - accuracy: 0.9151 - precision: 0.8718 - recall: 0.8947 - auc: 0.9754 - prc: 0.9608 - val_loss: 0.3385 - val_tp: 9.0000 - val_fp: 2.0000 - val_tn: 15.0000 - val_fn: 1.0000 - val_accuracy: 0.8889 - val_precision: 0.8182 - val_recall: 0.9000 - val_auc: 0.9235 - val_prc: 0.9422\n",
      "Epoch 48/50\n",
      "4/4 [==============================] - 0s 19ms/step - loss: 0.3452 - tp: 34.0000 - fp: 5.0000 - tn: 63.0000 - fn: 4.0000 - accuracy: 0.9151 - precision: 0.8718 - recall: 0.8947 - auc: 0.9750 - prc: 0.9598 - val_loss: 0.3365 - val_tp: 9.0000 - val_fp: 2.0000 - val_tn: 15.0000 - val_fn: 1.0000 - val_accuracy: 0.8889 - val_precision: 0.8182 - val_recall: 0.9000 - val_auc: 0.9235 - val_prc: 0.9422\n",
      "Epoch 49/50\n",
      "4/4 [==============================] - 0s 19ms/step - loss: 0.3432 - tp: 34.0000 - fp: 5.0000 - tn: 63.0000 - fn: 4.0000 - accuracy: 0.9151 - precision: 0.8718 - recall: 0.8947 - auc: 0.9752 - prc: 0.9603 - val_loss: 0.3348 - val_tp: 9.0000 - val_fp: 2.0000 - val_tn: 15.0000 - val_fn: 1.0000 - val_accuracy: 0.8889 - val_precision: 0.8182 - val_recall: 0.9000 - val_auc: 0.9235 - val_prc: 0.9422\n",
      "Epoch 50/50\n",
      "4/4 [==============================] - 0s 19ms/step - loss: 0.3414 - tp: 34.0000 - fp: 5.0000 - tn: 63.0000 - fn: 4.0000 - accuracy: 0.9151 - precision: 0.8718 - recall: 0.8947 - auc: 0.9750 - prc: 0.9602 - val_loss: 0.3330 - val_tp: 9.0000 - val_fp: 2.0000 - val_tn: 15.0000 - val_fn: 1.0000 - val_accuracy: 0.8889 - val_precision: 0.8182 - val_recall: 0.9000 - val_auc: 0.9235 - val_prc: 0.9422\n"
     ]
    }
   ],
   "source": [
    "history = model.train(X_train, y_train, X_val, y_val, epochs, batch_size, early_stopping)\n",
    "#plt.plot(history.history['loss'])\n",
    "#plt.show()"
   ]
  },
  {
   "cell_type": "code",
   "execution_count": 24,
   "id": "1b53d832",
   "metadata": {},
   "outputs": [
    {
     "data": {
      "text/plain": [
       "0"
      ]
     },
     "execution_count": 24,
     "metadata": {},
     "output_type": "execute_result"
    }
   ],
   "source": [
    "early_stopping.stopped_epoch"
   ]
  },
  {
   "cell_type": "code",
   "execution_count": 25,
   "id": "9a95df98",
   "metadata": {},
   "outputs": [],
   "source": [
    "#plot_loss(history, \"Bias\", 0)\n",
    "#plt.show()"
   ]
  },
  {
   "cell_type": "code",
   "execution_count": 26,
   "id": "c53fee07",
   "metadata": {},
   "outputs": [],
   "source": [
    "#plot_metrics(history)\n",
    "#plt.show()"
   ]
  },
  {
   "cell_type": "code",
   "execution_count": 27,
   "id": "764665b7",
   "metadata": {},
   "outputs": [
    {
     "name": "stdout",
     "output_type": "stream",
     "text": [
      "4/4 [==============================] - 0s 2ms/step\n",
      "1/1 [==============================] - 0s 20ms/step\n",
      "loss :  0.26257196068763733\n",
      "tp :  5.0\n",
      "fp :  0.0\n",
      "tn :  9.0\n",
      "fn :  1.0\n",
      "accuracy :  0.9333333373069763\n",
      "precision :  1.0\n",
      "recall :  0.8333333134651184\n",
      "auc :  0.9814814329147339\n",
      "prc :  0.9743082523345947\n"
     ]
    }
   ],
   "source": [
    "predictions_train = model.predict(X_train)\n",
    "predictions_test = model.predict(X_test)\n",
    "\n",
    "# Confusion matrix\n",
    "results = model.evaluate(X_test, y_test)\n",
    "for name, value in zip(model.metrics_names(), results):\n",
    "    print(name, ': ', value)\n",
    "    if name == 'accuracy':\n",
    "        accuracy_sixteen_min_max.append(value)"
   ]
  },
  {
   "cell_type": "code",
   "execution_count": 28,
   "id": "e2f9c161",
   "metadata": {},
   "outputs": [
    {
     "name": "stdout",
     "output_type": "stream",
     "text": [
      "True Negatives:  9\n",
      "False Positives:  0\n",
      "False Negatives:  1\n",
      "True Positives:  5\n",
      "Total:  6\n"
     ]
    },
    {
     "data": {
      "image/png": "[encoded data removed]",
      "text/plain": [
       "<Figure size 500x500 with 2 Axes>"
      ]
     },
     "metadata": {},
     "output_type": "display_data"
    }
   ],
   "source": [
    "plot_cm(y_test, predictions_test)\n",
    "plt.show()"
   ]
  },
  {
   "cell_type": "code",
   "execution_count": 29,
   "id": "3c4b7e7b",
   "metadata": {},
   "outputs": [],
   "source": [
    "#plot_roc(\"Test Predictions\", y_test, predictions_test, color=colors[0], linestyle='--')\n",
    "#plt.legend(loc='lower right')\n",
    "#plt.show()"
   ]
  },
  {
   "cell_type": "code",
   "execution_count": 30,
   "id": "33e822fb",
   "metadata": {},
   "outputs": [],
   "source": [
    "# Precision-Recall Curve (PRC)\n",
    "#plot_prc(\"Train Predictions\", y_train, predictions_train, color=colors[0])\n",
    "#plot_prc(\"Test Predictions\", y_test, predictions_test, color=colors[0], linestyle='--')\n",
    "#plt.legend(loc='lower right')\n",
    "#plt.show()"
   ]
  },
  {
   "cell_type": "code",
   "execution_count": 31,
   "id": "5d37780a",
   "metadata": {},
   "outputs": [],
   "source": [
    "#STOP"
   ]
  },
  {
   "cell_type": "markdown",
   "id": "6efd3ae9",
   "metadata": {},
   "source": [
    "## 2 Dense Model with 32 Lines"
   ]
  },
  {
   "cell_type": "markdown",
   "id": "343aa26a",
   "metadata": {},
   "source": [
    "### Dataset"
   ]
  },
  {
   "cell_type": "code",
   "execution_count": 32,
   "id": "a951c679",
   "metadata": {},
   "outputs": [],
   "source": [
    "df = df_damage_thirtytwo_min_max.drop(columns=columns)"
   ]
  },
  {
   "cell_type": "code",
   "execution_count": 33,
   "id": "7a9daaa4",
   "metadata": {},
   "outputs": [
    {
     "name": "stdout",
     "output_type": "stream",
     "text": [
      "Training features shape: (106, 36)\n",
      "Training labels shape: (106,) \n",
      "\n",
      "Validation features shape: (27, 36)\n",
      "Validation labels shape: (27,) \n",
      "\n",
      "Test features shape: (15, 36)\n",
      "Test labels shape: (15,) \n",
      "\n"
     ]
    }
   ],
   "source": [
    "# Split into sets for training, validation, and testing + use and save scaler\n",
    "\n",
    "X = df.drop(columns=['Damage'])\n",
    "y = df['Damage']\n",
    "\n",
    "X_train, X_test, y_train, y_test = train_test_split(X, y, test_size=0.1, random_state=random_state)\n",
    "X_train, X_val, y_train, y_val = train_test_split(X_train, y_train, test_size=0.2, random_state=random_state)\n",
    "\n",
    "scaler_sixteen = StandardScaler()\n",
    "X_train = scaler_sixteen.fit_transform(X_train)\n",
    "\n",
    "X_val = scaler_sixteen.transform(X_val)\n",
    "X_test = scaler_sixteen.transform(X_test)\n",
    "\n",
    "print('Training features shape:', X_train.shape)\n",
    "print('Training labels shape:', y_train.shape, '\\n')\n",
    "\n",
    "print('Validation features shape:', X_val.shape)\n",
    "print('Validation labels shape:', y_val.shape, '\\n')\n",
    "\n",
    "print('Test features shape:', X_test.shape)\n",
    "print('Test labels shape:', y_test.shape, '\\n')"
   ]
  },
  {
   "cell_type": "markdown",
   "id": "e83255d2",
   "metadata": {},
   "source": [
    "### Model"
   ]
  },
  {
   "cell_type": "code",
   "execution_count": 34,
   "id": "833dc13b",
   "metadata": {},
   "outputs": [
    {
     "name": "stdout",
     "output_type": "stream",
     "text": [
      "Model: \"sequential_1\"\n",
      "_________________________________________________________________\n",
      " Layer (type)                Output Shape              Param #   \n",
      "=================================================================\n",
      " dense_3 (Dense)             (None, 16)                592       \n",
      "                                                                 \n",
      " dense_4 (Dense)             (None, 16)                272       \n",
      "                                                                 \n",
      " dense_5 (Dense)             (None, 1)                 17        \n",
      "                                                                 \n",
      "=================================================================\n",
      "Total params: 881\n",
      "Trainable params: 881\n",
      "Non-trainable params: 0\n",
      "_________________________________________________________________\n"
     ]
    }
   ],
   "source": [
    "input_dim = X_train.shape[1]\n",
    "units = 16\n",
    "activation = 'relu'\n",
    "output_size = 1\n",
    "output_activation = 'sigmoid'\n",
    "kernel_initializer = 'he_uniform'\n",
    "\n",
    "LAYERS = [ \n",
    "    { 'type': 'Dense', 'nodes':units, 'activation': activation },\n",
    "    { 'type': 'Dense', 'nodes':units, 'activation': activation },\n",
    "    { 'type': 'Dense', 'nodes':output_size, 'activation': output_activation }\n",
    "]\n",
    "\n",
    "model = DenseModel(LAYERS, input_dim)\n",
    "model.summary()"
   ]
  },
  {
   "cell_type": "code",
   "execution_count": 35,
   "id": "57dd6825",
   "metadata": {},
   "outputs": [
    {
     "name": "stdout",
     "output_type": "stream",
     "text": [
      "Epoch 1/50\n",
      "4/4 [==============================] - 2s 157ms/step - loss: 0.8012 - tp: 39.0000 - fp: 59.0000 - tn: 11.0000 - fn: 12.0000 - accuracy: 0.4132 - precision: 0.3980 - recall: 0.7647 - auc: 0.4338 - prc: 0.4439 - val_loss: 0.8086 - val_tp: 9.0000 - val_fp: 14.0000 - val_tn: 0.0000e+00 - val_fn: 4.0000 - val_accuracy: 0.3333 - val_precision: 0.3913 - val_recall: 0.6923 - val_auc: 0.2665 - val_prc: 0.3521\n",
      "Epoch 2/50\n",
      "4/4 [==============================] - 0s 16ms/step - loss: 0.7918 - tp: 34.0000 - fp: 59.0000 - tn: 2.0000 - fn: 11.0000 - accuracy: 0.3396 - precision: 0.3656 - recall: 0.7556 - auc: 0.3164 - prc: 0.3233 - val_loss: 0.7972 - val_tp: 9.0000 - val_fp: 14.0000 - val_tn: 0.0000e+00 - val_fn: 4.0000 - val_accuracy: 0.3333 - val_precision: 0.3913 - val_recall: 0.6923 - val_auc: 0.2885 - val_prc: 0.3636\n",
      "Epoch 3/50\n",
      "4/4 [==============================] - 0s 16ms/step - loss: 0.7823 - tp: 35.0000 - fp: 59.0000 - tn: 2.0000 - fn: 10.0000 - accuracy: 0.3491 - precision: 0.3723 - recall: 0.7778 - auc: 0.3475 - prc: 0.3408 - val_loss: 0.7864 - val_tp: 10.0000 - val_fp: 14.0000 - val_tn: 0.0000e+00 - val_fn: 3.0000 - val_accuracy: 0.3704 - val_precision: 0.4167 - val_recall: 0.7692 - val_auc: 0.3022 - val_prc: 0.3728\n",
      "Epoch 4/50\n",
      "4/4 [==============================] - 0s 16ms/step - loss: 0.7742 - tp: 36.0000 - fp: 59.0000 - tn: 2.0000 - fn: 9.0000 - accuracy: 0.3585 - precision: 0.3789 - recall: 0.8000 - auc: 0.3756 - prc: 0.3603 - val_loss: 0.7757 - val_tp: 10.0000 - val_fp: 14.0000 - val_tn: 0.0000e+00 - val_fn: 3.0000 - val_accuracy: 0.3704 - val_precision: 0.4167 - val_recall: 0.7692 - val_auc: 0.3132 - val_prc: 0.3852\n",
      "Epoch 5/50\n",
      "4/4 [==============================] - 0s 17ms/step - loss: 0.7654 - tp: 36.0000 - fp: 58.0000 - tn: 3.0000 - fn: 9.0000 - accuracy: 0.3679 - precision: 0.3830 - recall: 0.8000 - auc: 0.4040 - prc: 0.3825 - val_loss: 0.7656 - val_tp: 12.0000 - val_fp: 14.0000 - val_tn: 0.0000e+00 - val_fn: 1.0000 - val_accuracy: 0.4444 - val_precision: 0.4615 - val_recall: 0.9231 - val_auc: 0.3297 - val_prc: 0.4148\n",
      "Epoch 6/50\n",
      "4/4 [==============================] - 0s 16ms/step - loss: 0.7568 - tp: 36.0000 - fp: 58.0000 - tn: 3.0000 - fn: 9.0000 - accuracy: 0.3679 - precision: 0.3830 - recall: 0.8000 - auc: 0.4346 - prc: 0.4146 - val_loss: 0.7561 - val_tp: 12.0000 - val_fp: 14.0000 - val_tn: 0.0000e+00 - val_fn: 1.0000 - val_accuracy: 0.4444 - val_precision: 0.4615 - val_recall: 0.9231 - val_auc: 0.3544 - val_prc: 0.4826\n",
      "Epoch 7/50\n",
      "4/4 [==============================] - 0s 16ms/step - loss: 0.7488 - tp: 36.0000 - fp: 58.0000 - tn: 3.0000 - fn: 9.0000 - accuracy: 0.3679 - precision: 0.3830 - recall: 0.8000 - auc: 0.4639 - prc: 0.4602 - val_loss: 0.7468 - val_tp: 12.0000 - val_fp: 14.0000 - val_tn: 0.0000e+00 - val_fn: 1.0000 - val_accuracy: 0.4444 - val_precision: 0.4615 - val_recall: 0.9231 - val_auc: 0.3984 - val_prc: 0.5212\n",
      "Epoch 8/50\n",
      "4/4 [==============================] - 0s 16ms/step - loss: 0.7411 - tp: 36.0000 - fp: 58.0000 - tn: 3.0000 - fn: 9.0000 - accuracy: 0.3679 - precision: 0.3830 - recall: 0.8000 - auc: 0.4927 - prc: 0.5059 - val_loss: 0.7376 - val_tp: 12.0000 - val_fp: 14.0000 - val_tn: 0.0000e+00 - val_fn: 1.0000 - val_accuracy: 0.4444 - val_precision: 0.4615 - val_recall: 0.9231 - val_auc: 0.4313 - val_prc: 0.5602\n",
      "Epoch 9/50\n",
      "4/4 [==============================] - 0s 16ms/step - loss: 0.7331 - tp: 37.0000 - fp: 58.0000 - tn: 3.0000 - fn: 8.0000 - accuracy: 0.3774 - precision: 0.3895 - recall: 0.8222 - auc: 0.5188 - prc: 0.5419 - val_loss: 0.7285 - val_tp: 12.0000 - val_fp: 14.0000 - val_tn: 0.0000e+00 - val_fn: 1.0000 - val_accuracy: 0.4444 - val_precision: 0.4615 - val_recall: 0.9231 - val_auc: 0.4451 - val_prc: 0.5683\n",
      "Epoch 10/50\n",
      "4/4 [==============================] - 0s 16ms/step - loss: 0.7253 - tp: 39.0000 - fp: 58.0000 - tn: 3.0000 - fn: 6.0000 - accuracy: 0.3962 - precision: 0.4021 - recall: 0.8667 - auc: 0.5454 - prc: 0.5775 - val_loss: 0.7196 - val_tp: 12.0000 - val_fp: 14.0000 - val_tn: 0.0000e+00 - val_fn: 1.0000 - val_accuracy: 0.4444 - val_precision: 0.4615 - val_recall: 0.9231 - val_auc: 0.4588 - val_prc: 0.5733\n",
      "Epoch 11/50\n",
      "4/4 [==============================] - 0s 16ms/step - loss: 0.7178 - tp: 39.0000 - fp: 58.0000 - tn: 3.0000 - fn: 6.0000 - accuracy: 0.3962 - precision: 0.4021 - recall: 0.8667 - auc: 0.5698 - prc: 0.6129 - val_loss: 0.7112 - val_tp: 12.0000 - val_fp: 14.0000 - val_tn: 0.0000e+00 - val_fn: 1.0000 - val_accuracy: 0.4444 - val_precision: 0.4615 - val_recall: 0.9231 - val_auc: 0.5000 - val_prc: 0.5996\n",
      "Epoch 12/50\n",
      "4/4 [==============================] - 0s 16ms/step - loss: 0.7103 - tp: 39.0000 - fp: 58.0000 - tn: 3.0000 - fn: 6.0000 - accuracy: 0.3962 - precision: 0.4021 - recall: 0.8667 - auc: 0.5933 - prc: 0.6398 - val_loss: 0.7030 - val_tp: 13.0000 - val_fp: 14.0000 - val_tn: 0.0000e+00 - val_fn: 0.0000e+00 - val_accuracy: 0.4815 - val_precision: 0.4815 - val_recall: 1.0000 - val_auc: 0.5027 - val_prc: 0.6015\n",
      "Epoch 13/50\n",
      "4/4 [==============================] - 0s 16ms/step - loss: 0.7032 - tp: 39.0000 - fp: 58.0000 - tn: 3.0000 - fn: 6.0000 - accuracy: 0.3962 - precision: 0.4021 - recall: 0.8667 - auc: 0.6131 - prc: 0.6593 - val_loss: 0.6952 - val_tp: 13.0000 - val_fp: 14.0000 - val_tn: 0.0000e+00 - val_fn: 0.0000e+00 - val_accuracy: 0.4815 - val_precision: 0.4815 - val_recall: 1.0000 - val_auc: 0.5385 - val_prc: 0.6270\n",
      "Epoch 14/50\n",
      "4/4 [==============================] - 0s 16ms/step - loss: 0.6961 - tp: 40.0000 - fp: 58.0000 - tn: 3.0000 - fn: 5.0000 - accuracy: 0.4057 - precision: 0.4082 - recall: 0.8889 - auc: 0.6324 - prc: 0.6870 - val_loss: 0.6877 - val_tp: 12.0000 - val_fp: 14.0000 - val_tn: 0.0000e+00 - val_fn: 1.0000 - val_accuracy: 0.4444 - val_precision: 0.4615 - val_recall: 0.9231 - val_auc: 0.5632 - val_prc: 0.6419\n",
      "Epoch 15/50\n",
      "4/4 [==============================] - 0s 16ms/step - loss: 0.6895 - tp: 40.0000 - fp: 58.0000 - tn: 3.0000 - fn: 5.0000 - accuracy: 0.4057 - precision: 0.4082 - recall: 0.8889 - auc: 0.6552 - prc: 0.7107 - val_loss: 0.6802 - val_tp: 12.0000 - val_fp: 14.0000 - val_tn: 0.0000e+00 - val_fn: 1.0000 - val_accuracy: 0.4444 - val_precision: 0.4615 - val_recall: 0.9231 - val_auc: 0.5934 - val_prc: 0.6955\n",
      "Epoch 16/50\n",
      "4/4 [==============================] - 0s 16ms/step - loss: 0.6826 - tp: 41.0000 - fp: 55.0000 - tn: 6.0000 - fn: 4.0000 - accuracy: 0.4434 - precision: 0.4271 - recall: 0.9111 - auc: 0.6780 - prc: 0.7284 - val_loss: 0.6730 - val_tp: 12.0000 - val_fp: 14.0000 - val_tn: 0.0000e+00 - val_fn: 1.0000 - val_accuracy: 0.4444 - val_precision: 0.4615 - val_recall: 0.9231 - val_auc: 0.6071 - val_prc: 0.7062\n",
      "Epoch 17/50\n",
      "4/4 [==============================] - 0s 16ms/step - loss: 0.6760 - tp: 41.0000 - fp: 54.0000 - tn: 7.0000 - fn: 4.0000 - accuracy: 0.4528 - precision: 0.4316 - recall: 0.9111 - auc: 0.7033 - prc: 0.7483 - val_loss: 0.6660 - val_tp: 11.0000 - val_fp: 14.0000 - val_tn: 0.0000e+00 - val_fn: 2.0000 - val_accuracy: 0.4074 - val_precision: 0.4400 - val_recall: 0.8462 - val_auc: 0.6264 - val_prc: 0.7200\n",
      "Epoch 18/50\n",
      "4/4 [==============================] - 0s 16ms/step - loss: 0.6695 - tp: 41.0000 - fp: 54.0000 - tn: 7.0000 - fn: 4.0000 - accuracy: 0.4528 - precision: 0.4316 - recall: 0.9111 - auc: 0.7211 - prc: 0.7602 - val_loss: 0.6591 - val_tp: 11.0000 - val_fp: 14.0000 - val_tn: 0.0000e+00 - val_fn: 2.0000 - val_accuracy: 0.4074 - val_precision: 0.4400 - val_recall: 0.8462 - val_auc: 0.6484 - val_prc: 0.7310\n",
      "Epoch 19/50\n",
      "4/4 [==============================] - 0s 16ms/step - loss: 0.6632 - tp: 41.0000 - fp: 54.0000 - tn: 7.0000 - fn: 4.0000 - accuracy: 0.4528 - precision: 0.4316 - recall: 0.9111 - auc: 0.7406 - prc: 0.7745 - val_loss: 0.6523 - val_tp: 11.0000 - val_fp: 14.0000 - val_tn: 0.0000e+00 - val_fn: 2.0000 - val_accuracy: 0.4074 - val_precision: 0.4400 - val_recall: 0.8462 - val_auc: 0.6676 - val_prc: 0.7587\n",
      "Epoch 20/50\n",
      "4/4 [==============================] - 0s 16ms/step - loss: 0.6569 - tp: 42.0000 - fp: 54.0000 - tn: 7.0000 - fn: 3.0000 - accuracy: 0.4623 - precision: 0.4375 - recall: 0.9333 - auc: 0.7552 - prc: 0.7874 - val_loss: 0.6459 - val_tp: 11.0000 - val_fp: 14.0000 - val_tn: 0.0000e+00 - val_fn: 2.0000 - val_accuracy: 0.4074 - val_precision: 0.4400 - val_recall: 0.8462 - val_auc: 0.6896 - val_prc: 0.7730\n"
     ]
    },
    {
     "name": "stdout",
     "output_type": "stream",
     "text": [
      "Epoch 21/50\n",
      "4/4 [==============================] - 0s 16ms/step - loss: 0.6507 - tp: 41.0000 - fp: 54.0000 - tn: 7.0000 - fn: 4.0000 - accuracy: 0.4528 - precision: 0.4316 - recall: 0.9111 - auc: 0.7760 - prc: 0.8031 - val_loss: 0.6396 - val_tp: 11.0000 - val_fp: 13.0000 - val_tn: 1.0000 - val_fn: 2.0000 - val_accuracy: 0.4444 - val_precision: 0.4583 - val_recall: 0.8462 - val_auc: 0.7005 - val_prc: 0.7818\n",
      "Epoch 22/50\n",
      "4/4 [==============================] - 0s 16ms/step - loss: 0.6448 - tp: 41.0000 - fp: 52.0000 - tn: 9.0000 - fn: 4.0000 - accuracy: 0.4717 - precision: 0.4409 - recall: 0.9111 - auc: 0.7913 - prc: 0.8151 - val_loss: 0.6335 - val_tp: 11.0000 - val_fp: 12.0000 - val_tn: 2.0000 - val_fn: 2.0000 - val_accuracy: 0.4815 - val_precision: 0.4783 - val_recall: 0.8462 - val_auc: 0.7280 - val_prc: 0.8077\n",
      "Epoch 23/50\n",
      "4/4 [==============================] - 0s 16ms/step - loss: 0.6387 - tp: 41.0000 - fp: 51.0000 - tn: 10.0000 - fn: 4.0000 - accuracy: 0.4811 - precision: 0.4457 - recall: 0.9111 - auc: 0.8069 - prc: 0.8281 - val_loss: 0.6274 - val_tp: 11.0000 - val_fp: 12.0000 - val_tn: 2.0000 - val_fn: 2.0000 - val_accuracy: 0.4815 - val_precision: 0.4783 - val_recall: 0.8462 - val_auc: 0.7363 - val_prc: 0.8172\n",
      "Epoch 24/50\n",
      "4/4 [==============================] - 0s 16ms/step - loss: 0.6327 - tp: 41.0000 - fp: 50.0000 - tn: 11.0000 - fn: 4.0000 - accuracy: 0.4906 - precision: 0.4505 - recall: 0.9111 - auc: 0.8213 - prc: 0.8416 - val_loss: 0.6212 - val_tp: 11.0000 - val_fp: 12.0000 - val_tn: 2.0000 - val_fn: 2.0000 - val_accuracy: 0.4815 - val_precision: 0.4783 - val_recall: 0.8462 - val_auc: 0.7445 - val_prc: 0.8265\n",
      "Epoch 25/50\n",
      "4/4 [==============================] - 0s 16ms/step - loss: 0.6270 - tp: 41.0000 - fp: 50.0000 - tn: 11.0000 - fn: 4.0000 - accuracy: 0.4906 - precision: 0.4505 - recall: 0.9111 - auc: 0.8333 - prc: 0.8524 - val_loss: 0.6152 - val_tp: 11.0000 - val_fp: 12.0000 - val_tn: 2.0000 - val_fn: 2.0000 - val_accuracy: 0.4815 - val_precision: 0.4783 - val_recall: 0.8462 - val_auc: 0.7637 - val_prc: 0.8507\n",
      "Epoch 26/50\n",
      "4/4 [==============================] - 0s 15ms/step - loss: 0.6210 - tp: 41.0000 - fp: 49.0000 - tn: 12.0000 - fn: 4.0000 - accuracy: 0.5000 - precision: 0.4556 - recall: 0.9111 - auc: 0.8417 - prc: 0.8595 - val_loss: 0.6093 - val_tp: 11.0000 - val_fp: 11.0000 - val_tn: 3.0000 - val_fn: 2.0000 - val_accuracy: 0.5185 - val_precision: 0.5000 - val_recall: 0.8462 - val_auc: 0.7692 - val_prc: 0.8580\n",
      "Epoch 27/50\n",
      "4/4 [==============================] - 0s 16ms/step - loss: 0.6151 - tp: 41.0000 - fp: 45.0000 - tn: 16.0000 - fn: 4.0000 - accuracy: 0.5377 - precision: 0.4767 - recall: 0.9111 - auc: 0.8506 - prc: 0.8674 - val_loss: 0.6034 - val_tp: 10.0000 - val_fp: 10.0000 - val_tn: 4.0000 - val_fn: 3.0000 - val_accuracy: 0.5185 - val_precision: 0.5000 - val_recall: 0.7692 - val_auc: 0.7665 - val_prc: 0.8571\n",
      "Epoch 28/50\n",
      "4/4 [==============================] - 0s 16ms/step - loss: 0.6093 - tp: 41.0000 - fp: 36.0000 - tn: 25.0000 - fn: 4.0000 - accuracy: 0.6226 - precision: 0.5325 - recall: 0.9111 - auc: 0.8563 - prc: 0.8719 - val_loss: 0.5974 - val_tp: 10.0000 - val_fp: 9.0000 - val_tn: 5.0000 - val_fn: 3.0000 - val_accuracy: 0.5556 - val_precision: 0.5263 - val_recall: 0.7692 - val_auc: 0.7720 - val_prc: 0.8618\n",
      "Epoch 29/50\n",
      "4/4 [==============================] - 0s 16ms/step - loss: 0.6035 - tp: 41.0000 - fp: 35.0000 - tn: 26.0000 - fn: 4.0000 - accuracy: 0.6321 - precision: 0.5395 - recall: 0.9111 - auc: 0.8650 - prc: 0.8795 - val_loss: 0.5915 - val_tp: 10.0000 - val_fp: 9.0000 - val_tn: 5.0000 - val_fn: 3.0000 - val_accuracy: 0.5556 - val_precision: 0.5263 - val_recall: 0.7692 - val_auc: 0.7775 - val_prc: 0.8655\n",
      "Epoch 30/50\n",
      "4/4 [==============================] - 0s 16ms/step - loss: 0.5975 - tp: 41.0000 - fp: 34.0000 - tn: 27.0000 - fn: 4.0000 - accuracy: 0.6415 - precision: 0.5467 - recall: 0.9111 - auc: 0.8752 - prc: 0.8884 - val_loss: 0.5855 - val_tp: 10.0000 - val_fp: 8.0000 - val_tn: 6.0000 - val_fn: 3.0000 - val_accuracy: 0.5926 - val_precision: 0.5556 - val_recall: 0.7692 - val_auc: 0.7747 - val_prc: 0.8613\n",
      "Epoch 31/50\n",
      "4/4 [==============================] - 0s 15ms/step - loss: 0.5916 - tp: 41.0000 - fp: 30.0000 - tn: 31.0000 - fn: 4.0000 - accuracy: 0.6792 - precision: 0.5775 - recall: 0.9111 - auc: 0.8814 - prc: 0.8939 - val_loss: 0.5796 - val_tp: 10.0000 - val_fp: 7.0000 - val_tn: 7.0000 - val_fn: 3.0000 - val_accuracy: 0.6296 - val_precision: 0.5882 - val_recall: 0.7692 - val_auc: 0.7775 - val_prc: 0.8636\n",
      "Epoch 32/50\n",
      "4/4 [==============================] - 0s 16ms/step - loss: 0.5861 - tp: 41.0000 - fp: 29.0000 - tn: 32.0000 - fn: 4.0000 - accuracy: 0.6887 - precision: 0.5857 - recall: 0.9111 - auc: 0.8880 - prc: 0.8982 - val_loss: 0.5739 - val_tp: 10.0000 - val_fp: 7.0000 - val_tn: 7.0000 - val_fn: 3.0000 - val_accuracy: 0.6296 - val_precision: 0.5882 - val_recall: 0.7692 - val_auc: 0.7775 - val_prc: 0.8636\n",
      "Epoch 33/50\n",
      "4/4 [==============================] - 0s 16ms/step - loss: 0.5797 - tp: 41.0000 - fp: 28.0000 - tn: 33.0000 - fn: 4.0000 - accuracy: 0.6981 - precision: 0.5942 - recall: 0.9111 - auc: 0.8934 - prc: 0.9025 - val_loss: 0.5682 - val_tp: 10.0000 - val_fp: 6.0000 - val_tn: 8.0000 - val_fn: 3.0000 - val_accuracy: 0.6667 - val_precision: 0.6250 - val_recall: 0.7692 - val_auc: 0.7802 - val_prc: 0.8664\n",
      "Epoch 34/50\n",
      "4/4 [==============================] - 0s 16ms/step - loss: 0.5741 - tp: 41.0000 - fp: 26.0000 - tn: 35.0000 - fn: 4.0000 - accuracy: 0.7170 - precision: 0.6119 - recall: 0.9111 - auc: 0.9004 - prc: 0.9077 - val_loss: 0.5616 - val_tp: 10.0000 - val_fp: 5.0000 - val_tn: 9.0000 - val_fn: 3.0000 - val_accuracy: 0.7037 - val_precision: 0.6667 - val_recall: 0.7692 - val_auc: 0.7802 - val_prc: 0.8643\n",
      "Epoch 35/50\n",
      "4/4 [==============================] - 0s 18ms/step - loss: 0.5678 - tp: 41.0000 - fp: 23.0000 - tn: 38.0000 - fn: 4.0000 - accuracy: 0.7453 - precision: 0.6406 - recall: 0.9111 - auc: 0.9042 - prc: 0.9110 - val_loss: 0.5552 - val_tp: 10.0000 - val_fp: 4.0000 - val_tn: 10.0000 - val_fn: 3.0000 - val_accuracy: 0.7407 - val_precision: 0.7143 - val_recall: 0.7692 - val_auc: 0.7885 - val_prc: 0.8706\n",
      "Epoch 36/50\n",
      "4/4 [==============================] - 0s 16ms/step - loss: 0.5615 - tp: 41.0000 - fp: 21.0000 - tn: 40.0000 - fn: 4.0000 - accuracy: 0.7642 - precision: 0.6613 - recall: 0.9111 - auc: 0.9064 - prc: 0.9119 - val_loss: 0.5490 - val_tp: 10.0000 - val_fp: 4.0000 - val_tn: 10.0000 - val_fn: 3.0000 - val_accuracy: 0.7407 - val_precision: 0.7143 - val_recall: 0.7692 - val_auc: 0.7967 - val_prc: 0.8730\n",
      "Epoch 37/50\n",
      "4/4 [==============================] - 0s 16ms/step - loss: 0.5555 - tp: 41.0000 - fp: 20.0000 - tn: 41.0000 - fn: 4.0000 - accuracy: 0.7736 - precision: 0.6721 - recall: 0.9111 - auc: 0.9087 - prc: 0.9134 - val_loss: 0.5433 - val_tp: 10.0000 - val_fp: 4.0000 - val_tn: 10.0000 - val_fn: 3.0000 - val_accuracy: 0.7407 - val_precision: 0.7143 - val_recall: 0.7692 - val_auc: 0.7995 - val_prc: 0.8740\n",
      "Epoch 38/50\n",
      "4/4 [==============================] - 0s 16ms/step - loss: 0.5498 - tp: 41.0000 - fp: 16.0000 - tn: 45.0000 - fn: 4.0000 - accuracy: 0.8113 - precision: 0.7193 - recall: 0.9111 - auc: 0.9109 - prc: 0.9159 - val_loss: 0.5378 - val_tp: 10.0000 - val_fp: 4.0000 - val_tn: 10.0000 - val_fn: 3.0000 - val_accuracy: 0.7407 - val_precision: 0.7143 - val_recall: 0.7692 - val_auc: 0.7995 - val_prc: 0.8740\n",
      "Epoch 39/50\n",
      "4/4 [==============================] - 0s 15ms/step - loss: 0.5441 - tp: 41.0000 - fp: 16.0000 - tn: 45.0000 - fn: 4.0000 - accuracy: 0.8113 - precision: 0.7193 - recall: 0.9111 - auc: 0.9158 - prc: 0.9199 - val_loss: 0.5325 - val_tp: 10.0000 - val_fp: 4.0000 - val_tn: 10.0000 - val_fn: 3.0000 - val_accuracy: 0.7407 - val_precision: 0.7143 - val_recall: 0.7692 - val_auc: 0.8022 - val_prc: 0.8733\n",
      "Epoch 40/50\n",
      "4/4 [==============================] - 0s 15ms/step - loss: 0.5385 - tp: 41.0000 - fp: 16.0000 - tn: 45.0000 - fn: 4.0000 - accuracy: 0.8113 - precision: 0.7193 - recall: 0.9111 - auc: 0.9191 - prc: 0.9226 - val_loss: 0.5274 - val_tp: 10.0000 - val_fp: 4.0000 - val_tn: 10.0000 - val_fn: 3.0000 - val_accuracy: 0.7407 - val_precision: 0.7143 - val_recall: 0.7692 - val_auc: 0.8022 - val_prc: 0.8733\n"
     ]
    },
    {
     "name": "stdout",
     "output_type": "stream",
     "text": [
      "Epoch 41/50\n",
      "4/4 [==============================] - 0s 16ms/step - loss: 0.5326 - tp: 41.0000 - fp: 16.0000 - tn: 45.0000 - fn: 4.0000 - accuracy: 0.8113 - precision: 0.7193 - recall: 0.9111 - auc: 0.9224 - prc: 0.9254 - val_loss: 0.5221 - val_tp: 10.0000 - val_fp: 2.0000 - val_tn: 12.0000 - val_fn: 3.0000 - val_accuracy: 0.8148 - val_precision: 0.8333 - val_recall: 0.7692 - val_auc: 0.8022 - val_prc: 0.8733\n",
      "Epoch 42/50\n",
      "4/4 [==============================] - 0s 15ms/step - loss: 0.5270 - tp: 41.0000 - fp: 13.0000 - tn: 48.0000 - fn: 4.0000 - accuracy: 0.8396 - precision: 0.7593 - recall: 0.9111 - auc: 0.9231 - prc: 0.9252 - val_loss: 0.5168 - val_tp: 10.0000 - val_fp: 2.0000 - val_tn: 12.0000 - val_fn: 3.0000 - val_accuracy: 0.8148 - val_precision: 0.8333 - val_recall: 0.7692 - val_auc: 0.8049 - val_prc: 0.8741\n",
      "Epoch 43/50\n",
      "4/4 [==============================] - 0s 16ms/step - loss: 0.5212 - tp: 41.0000 - fp: 12.0000 - tn: 49.0000 - fn: 4.0000 - accuracy: 0.8491 - precision: 0.7736 - recall: 0.9111 - auc: 0.9260 - prc: 0.9273 - val_loss: 0.5118 - val_tp: 10.0000 - val_fp: 2.0000 - val_tn: 12.0000 - val_fn: 3.0000 - val_accuracy: 0.8148 - val_precision: 0.8333 - val_recall: 0.7692 - val_auc: 0.8132 - val_prc: 0.8765\n",
      "Epoch 44/50\n",
      "4/4 [==============================] - 0s 16ms/step - loss: 0.5157 - tp: 41.0000 - fp: 12.0000 - tn: 49.0000 - fn: 4.0000 - accuracy: 0.8491 - precision: 0.7736 - recall: 0.9111 - auc: 0.9281 - prc: 0.9292 - val_loss: 0.5068 - val_tp: 10.0000 - val_fp: 2.0000 - val_tn: 12.0000 - val_fn: 3.0000 - val_accuracy: 0.8148 - val_precision: 0.8333 - val_recall: 0.7692 - val_auc: 0.8242 - val_prc: 0.8808\n",
      "Epoch 45/50\n",
      "4/4 [==============================] - 0s 16ms/step - loss: 0.5100 - tp: 41.0000 - fp: 11.0000 - tn: 50.0000 - fn: 4.0000 - accuracy: 0.8585 - precision: 0.7885 - recall: 0.9111 - auc: 0.9295 - prc: 0.9296 - val_loss: 0.5020 - val_tp: 10.0000 - val_fp: 2.0000 - val_tn: 12.0000 - val_fn: 3.0000 - val_accuracy: 0.8148 - val_precision: 0.8333 - val_recall: 0.7692 - val_auc: 0.8297 - val_prc: 0.8826\n",
      "Epoch 46/50\n",
      "4/4 [==============================] - 0s 17ms/step - loss: 0.5042 - tp: 41.0000 - fp: 10.0000 - tn: 51.0000 - fn: 4.0000 - accuracy: 0.8679 - precision: 0.8039 - recall: 0.9111 - auc: 0.9315 - prc: 0.9306 - val_loss: 0.4974 - val_tp: 10.0000 - val_fp: 2.0000 - val_tn: 12.0000 - val_fn: 3.0000 - val_accuracy: 0.8148 - val_precision: 0.8333 - val_recall: 0.7692 - val_auc: 0.8379 - val_prc: 0.8855\n",
      "Epoch 47/50\n",
      "4/4 [==============================] - 0s 17ms/step - loss: 0.4988 - tp: 41.0000 - fp: 10.0000 - tn: 51.0000 - fn: 4.0000 - accuracy: 0.8679 - precision: 0.8039 - recall: 0.9111 - auc: 0.9326 - prc: 0.9312 - val_loss: 0.4930 - val_tp: 10.0000 - val_fp: 2.0000 - val_tn: 12.0000 - val_fn: 3.0000 - val_accuracy: 0.8148 - val_precision: 0.8333 - val_recall: 0.7692 - val_auc: 0.8434 - val_prc: 0.8878\n",
      "Epoch 48/50\n",
      "4/4 [==============================] - 0s 17ms/step - loss: 0.4935 - tp: 41.0000 - fp: 10.0000 - tn: 51.0000 - fn: 4.0000 - accuracy: 0.8679 - precision: 0.8039 - recall: 0.9111 - auc: 0.9330 - prc: 0.9320 - val_loss: 0.4887 - val_tp: 10.0000 - val_fp: 2.0000 - val_tn: 12.0000 - val_fn: 3.0000 - val_accuracy: 0.8148 - val_precision: 0.8333 - val_recall: 0.7692 - val_auc: 0.8434 - val_prc: 0.8878\n",
      "Epoch 49/50\n",
      "4/4 [==============================] - 0s 19ms/step - loss: 0.4880 - tp: 39.0000 - fp: 9.0000 - tn: 52.0000 - fn: 6.0000 - accuracy: 0.8585 - precision: 0.8125 - recall: 0.8667 - auc: 0.9348 - prc: 0.9332 - val_loss: 0.4846 - val_tp: 10.0000 - val_fp: 2.0000 - val_tn: 12.0000 - val_fn: 3.0000 - val_accuracy: 0.8148 - val_precision: 0.8333 - val_recall: 0.7692 - val_auc: 0.8462 - val_prc: 0.8890\n",
      "Epoch 50/50\n",
      "4/4 [==============================] - 0s 19ms/step - loss: 0.4829 - tp: 39.0000 - fp: 9.0000 - tn: 52.0000 - fn: 6.0000 - accuracy: 0.8585 - precision: 0.8125 - recall: 0.8667 - auc: 0.9355 - prc: 0.9338 - val_loss: 0.4807 - val_tp: 10.0000 - val_fp: 2.0000 - val_tn: 12.0000 - val_fn: 3.0000 - val_accuracy: 0.8148 - val_precision: 0.8333 - val_recall: 0.7692 - val_auc: 0.8489 - val_prc: 0.8899\n"
     ]
    }
   ],
   "source": [
    "history = model.train(X_train, y_train, X_val, y_val, epochs, batch_size, early_stopping)\n",
    "#plt.plot(history.history['loss'])\n",
    "#plt.show()"
   ]
  },
  {
   "cell_type": "code",
   "execution_count": 36,
   "id": "7c3cae84",
   "metadata": {},
   "outputs": [
    {
     "data": {
      "text/plain": [
       "0"
      ]
     },
     "execution_count": 36,
     "metadata": {},
     "output_type": "execute_result"
    }
   ],
   "source": [
    "early_stopping.stopped_epoch"
   ]
  },
  {
   "cell_type": "code",
   "execution_count": 37,
   "id": "8945e94e",
   "metadata": {},
   "outputs": [],
   "source": [
    "#plot_loss(history, \"Bias\", 0)\n",
    "#plt.show()"
   ]
  },
  {
   "cell_type": "code",
   "execution_count": 38,
   "id": "0ddb8cc5",
   "metadata": {},
   "outputs": [],
   "source": [
    "#plot_metrics(history)\n",
    "#plt.show()"
   ]
  },
  {
   "cell_type": "code",
   "execution_count": 39,
   "id": "4d6933ea",
   "metadata": {},
   "outputs": [
    {
     "name": "stdout",
     "output_type": "stream",
     "text": [
      "4/4 [==============================] - 0s 2ms/step\n",
      "1/1 [==============================] - 0s 22ms/step\n",
      "loss :  0.4108259379863739\n",
      "tp :  5.0\n",
      "fp :  1.0\n",
      "tn :  8.0\n",
      "fn :  1.0\n",
      "accuracy :  0.8666666746139526\n",
      "precision :  0.8333333134651184\n",
      "recall :  0.8333333134651184\n",
      "auc :  0.9814814925193787\n",
      "prc :  0.9743082523345947\n"
     ]
    }
   ],
   "source": [
    "predictions_train = model.predict(X_train)\n",
    "predictions_test = model.predict(X_test)\n",
    "\n",
    "# Confusion matrix\n",
    "results = model.evaluate(X_test, y_test)\n",
    "for name, value in zip(model.metrics_names(), results):\n",
    "    print(name, ': ', value)\n",
    "    if name == 'accuracy':\n",
    "        accuracy_thirtytwo_min_max.append(value)"
   ]
  },
  {
   "cell_type": "code",
   "execution_count": 40,
   "id": "ad6204cc",
   "metadata": {},
   "outputs": [
    {
     "name": "stdout",
     "output_type": "stream",
     "text": [
      "True Negatives:  8\n",
      "False Positives:  1\n",
      "False Negatives:  1\n",
      "True Positives:  5\n",
      "Total:  6\n"
     ]
    },
    {
     "data": {
      "image/png": "[encoded data removed]",
      "text/plain": [
       "<Figure size 500x500 with 2 Axes>"
      ]
     },
     "metadata": {},
     "output_type": "display_data"
    }
   ],
   "source": [
    "plot_cm(y_test, predictions_test)\n",
    "plt.show()"
   ]
  },
  {
   "cell_type": "code",
   "execution_count": 41,
   "id": "9b7c4626",
   "metadata": {},
   "outputs": [],
   "source": [
    "#plot_roc(\"Test Predictions\", y_test, predictions_test, color=colors[0], linestyle='--')\n",
    "#plt.legend(loc='lower right')\n",
    "#plt.show()"
   ]
  },
  {
   "cell_type": "code",
   "execution_count": 42,
   "id": "6d99b692",
   "metadata": {},
   "outputs": [],
   "source": [
    "# Precision-Recall Curve (PRC)\n",
    "#plot_prc(\"Train Predictions\", y_train, predictions_train, color=colors[0])\n",
    "#plot_prc(\"Test Predictions\", y_test, predictions_test, color=colors[0], linestyle='--')\n",
    "#plt.legend(loc='lower right')\n",
    "#plt.show()"
   ]
  },
  {
   "cell_type": "code",
   "execution_count": 43,
   "id": "b2da11cc",
   "metadata": {},
   "outputs": [],
   "source": [
    "#STOP"
   ]
  },
  {
   "cell_type": "markdown",
   "id": "58bd1abc",
   "metadata": {},
   "source": [
    "## 3 Dense Model with 16 Lines"
   ]
  },
  {
   "cell_type": "markdown",
   "id": "505ba2cd",
   "metadata": {},
   "source": [
    "### Dataset"
   ]
  },
  {
   "cell_type": "code",
   "execution_count": 44,
   "id": "c456f224",
   "metadata": {},
   "outputs": [],
   "source": [
    "# prepare dataset\n",
    "\n",
    "df = df_damage_sixteen_mean.drop(columns=columns)"
   ]
  },
  {
   "cell_type": "code",
   "execution_count": 45,
   "id": "0203afba",
   "metadata": {},
   "outputs": [
    {
     "name": "stdout",
     "output_type": "stream",
     "text": [
      "Training features shape: (106, 20)\n",
      "Training labels shape: (106,) \n",
      "\n",
      "Validation features shape: (27, 20)\n",
      "Validation labels shape: (27,) \n",
      "\n",
      "Test features shape: (15, 20)\n",
      "Test labels shape: (15,) \n",
      "\n"
     ]
    }
   ],
   "source": [
    "# Split into sets for training, validation, and testing + use and save scaler\n",
    "\n",
    "X = df.drop(columns=['Damage'])\n",
    "y = df['Damage']\n",
    "\n",
    "X_train, X_test, y_train, y_test = train_test_split(X, y, test_size=0.1, random_state=random_state)\n",
    "X_train, X_val, y_train, y_val = train_test_split(X_train, y_train, test_size=0.2, random_state=random_state)\n",
    "\n",
    "scaler_sixteen = StandardScaler()\n",
    "X_train = scaler_sixteen.fit_transform(X_train)\n",
    "\n",
    "X_val = scaler_sixteen.transform(X_val)\n",
    "X_test = scaler_sixteen.transform(X_test)\n",
    "\n",
    "print('Training features shape:', X_train.shape)\n",
    "print('Training labels shape:', y_train.shape, '\\n')\n",
    "\n",
    "print('Validation features shape:', X_val.shape)\n",
    "print('Validation labels shape:', y_val.shape, '\\n')\n",
    "\n",
    "print('Test features shape:', X_test.shape)\n",
    "print('Test labels shape:', y_test.shape, '\\n')"
   ]
  },
  {
   "cell_type": "markdown",
   "id": "e7013a4d",
   "metadata": {},
   "source": [
    "### Model"
   ]
  },
  {
   "cell_type": "code",
   "execution_count": 46,
   "id": "d73ee253",
   "metadata": {},
   "outputs": [
    {
     "name": "stdout",
     "output_type": "stream",
     "text": [
      "Model: \"sequential_2\"\n",
      "_________________________________________________________________\n",
      " Layer (type)                Output Shape              Param #   \n",
      "=================================================================\n",
      " dense_6 (Dense)             (None, 16)                336       \n",
      "                                                                 \n",
      " dense_7 (Dense)             (None, 16)                272       \n",
      "                                                                 \n",
      " dense_8 (Dense)             (None, 1)                 17        \n",
      "                                                                 \n",
      "=================================================================\n",
      "Total params: 625\n",
      "Trainable params: 625\n",
      "Non-trainable params: 0\n",
      "_________________________________________________________________\n"
     ]
    }
   ],
   "source": [
    "input_dim = X_train.shape[1]\n",
    "units = 16\n",
    "activation = 'relu'\n",
    "output_size = 1\n",
    "output_activation = 'sigmoid'\n",
    "kernel_initializer = 'he_uniform'\n",
    "\n",
    "LAYERS = [ \n",
    "    { 'type': 'Dense', 'nodes':units, 'activation': activation },\n",
    "    { 'type': 'Dense', 'nodes':units, 'activation': activation },\n",
    "    { 'type': 'Dense', 'nodes':output_size, 'activation': output_activation }\n",
    "]\n",
    "\n",
    "model = DenseModel(LAYERS, input_dim)\n",
    "model.summary()"
   ]
  },
  {
   "cell_type": "code",
   "execution_count": 47,
   "id": "95bed05f",
   "metadata": {},
   "outputs": [
    {
     "name": "stdout",
     "output_type": "stream",
     "text": [
      "Epoch 1/50\n",
      "4/4 [==============================] - 2s 219ms/step - loss: 0.7271 - tp: 9.0000 - fp: 8.0000 - tn: 59.0000 - fn: 45.0000 - accuracy: 0.5620 - precision: 0.5294 - recall: 0.1667 - auc: 0.5312 - prc: 0.5465 - val_loss: 0.6738 - val_tp: 1.0000 - val_fp: 2.0000 - val_tn: 15.0000 - val_fn: 9.0000 - val_accuracy: 0.5926 - val_precision: 0.3333 - val_recall: 0.1000 - val_auc: 0.5529 - val_prc: 0.3912\n",
      "Epoch 2/50\n",
      "4/4 [==============================] - 0s 24ms/step - loss: 0.7253 - tp: 4.0000 - fp: 7.0000 - tn: 51.0000 - fn: 44.0000 - accuracy: 0.5189 - precision: 0.3636 - recall: 0.0833 - auc: 0.4657 - prc: 0.4553 - val_loss: 0.6718 - val_tp: 1.0000 - val_fp: 2.0000 - val_tn: 15.0000 - val_fn: 9.0000 - val_accuracy: 0.5926 - val_precision: 0.3333 - val_recall: 0.1000 - val_auc: 0.5647 - val_prc: 0.3966\n",
      "Epoch 3/50\n",
      "4/4 [==============================] - 0s 25ms/step - loss: 0.7238 - tp: 3.0000 - fp: 7.0000 - tn: 51.0000 - fn: 45.0000 - accuracy: 0.5094 - precision: 0.3000 - recall: 0.0625 - auc: 0.4702 - prc: 0.4566 - val_loss: 0.6698 - val_tp: 1.0000 - val_fp: 2.0000 - val_tn: 15.0000 - val_fn: 9.0000 - val_accuracy: 0.5926 - val_precision: 0.3333 - val_recall: 0.1000 - val_auc: 0.5676 - val_prc: 0.3973\n",
      "Epoch 4/50\n",
      "4/4 [==============================] - 0s 20ms/step - loss: 0.7222 - tp: 3.0000 - fp: 7.0000 - tn: 51.0000 - fn: 45.0000 - accuracy: 0.5094 - precision: 0.3000 - recall: 0.0625 - auc: 0.4727 - prc: 0.4620 - val_loss: 0.6681 - val_tp: 1.0000 - val_fp: 2.0000 - val_tn: 15.0000 - val_fn: 9.0000 - val_accuracy: 0.5926 - val_precision: 0.3333 - val_recall: 0.1000 - val_auc: 0.5588 - val_prc: 0.3925\n",
      "Epoch 5/50\n",
      "4/4 [==============================] - 0s 21ms/step - loss: 0.7207 - tp: 3.0000 - fp: 7.0000 - tn: 51.0000 - fn: 45.0000 - accuracy: 0.5094 - precision: 0.3000 - recall: 0.0625 - auc: 0.4793 - prc: 0.4701 - val_loss: 0.6663 - val_tp: 1.0000 - val_fp: 2.0000 - val_tn: 15.0000 - val_fn: 9.0000 - val_accuracy: 0.5926 - val_precision: 0.3333 - val_recall: 0.1000 - val_auc: 0.5735 - val_prc: 0.4003\n",
      "Epoch 6/50\n",
      "4/4 [==============================] - 0s 24ms/step - loss: 0.7192 - tp: 3.0000 - fp: 7.0000 - tn: 51.0000 - fn: 45.0000 - accuracy: 0.5094 - precision: 0.3000 - recall: 0.0625 - auc: 0.4831 - prc: 0.4721 - val_loss: 0.6648 - val_tp: 1.0000 - val_fp: 2.0000 - val_tn: 15.0000 - val_fn: 9.0000 - val_accuracy: 0.5926 - val_precision: 0.3333 - val_recall: 0.1000 - val_auc: 0.5882 - val_prc: 0.4103\n",
      "Epoch 7/50\n",
      "4/4 [==============================] - 0s 20ms/step - loss: 0.7177 - tp: 3.0000 - fp: 7.0000 - tn: 51.0000 - fn: 45.0000 - accuracy: 0.5094 - precision: 0.3000 - recall: 0.0625 - auc: 0.4858 - prc: 0.4732 - val_loss: 0.6635 - val_tp: 1.0000 - val_fp: 2.0000 - val_tn: 15.0000 - val_fn: 9.0000 - val_accuracy: 0.5926 - val_precision: 0.3333 - val_recall: 0.1000 - val_auc: 0.5941 - val_prc: 0.4126\n",
      "Epoch 8/50\n",
      "4/4 [==============================] - 0s 17ms/step - loss: 0.7164 - tp: 3.0000 - fp: 7.0000 - tn: 51.0000 - fn: 45.0000 - accuracy: 0.5094 - precision: 0.3000 - recall: 0.0625 - auc: 0.4887 - prc: 0.4755 - val_loss: 0.6621 - val_tp: 1.0000 - val_fp: 2.0000 - val_tn: 15.0000 - val_fn: 9.0000 - val_accuracy: 0.5926 - val_precision: 0.3333 - val_recall: 0.1000 - val_auc: 0.5971 - val_prc: 0.4141\n",
      "Epoch 9/50\n",
      "4/4 [==============================] - 0s 19ms/step - loss: 0.7151 - tp: 4.0000 - fp: 7.0000 - tn: 51.0000 - fn: 44.0000 - accuracy: 0.5189 - precision: 0.3636 - recall: 0.0833 - auc: 0.4944 - prc: 0.4779 - val_loss: 0.6607 - val_tp: 1.0000 - val_fp: 2.0000 - val_tn: 15.0000 - val_fn: 9.0000 - val_accuracy: 0.5926 - val_precision: 0.3333 - val_recall: 0.1000 - val_auc: 0.5971 - val_prc: 0.4144\n",
      "Epoch 10/50\n",
      "4/4 [==============================] - 0s 19ms/step - loss: 0.7138 - tp: 4.0000 - fp: 7.0000 - tn: 51.0000 - fn: 44.0000 - accuracy: 0.5189 - precision: 0.3636 - recall: 0.0833 - auc: 0.5018 - prc: 0.4846 - val_loss: 0.6593 - val_tp: 1.0000 - val_fp: 2.0000 - val_tn: 15.0000 - val_fn: 9.0000 - val_accuracy: 0.5926 - val_precision: 0.3333 - val_recall: 0.1000 - val_auc: 0.6029 - val_prc: 0.4187\n",
      "Epoch 11/50\n",
      "4/4 [==============================] - 0s 20ms/step - loss: 0.7124 - tp: 4.0000 - fp: 7.0000 - tn: 51.0000 - fn: 44.0000 - accuracy: 0.5189 - precision: 0.3636 - recall: 0.0833 - auc: 0.5052 - prc: 0.4867 - val_loss: 0.6579 - val_tp: 1.0000 - val_fp: 2.0000 - val_tn: 15.0000 - val_fn: 9.0000 - val_accuracy: 0.5926 - val_precision: 0.3333 - val_recall: 0.1000 - val_auc: 0.6029 - val_prc: 0.4179\n",
      "Epoch 12/50\n",
      "4/4 [==============================] - 0s 22ms/step - loss: 0.7111 - tp: 4.0000 - fp: 7.0000 - tn: 51.0000 - fn: 44.0000 - accuracy: 0.5189 - precision: 0.3636 - recall: 0.0833 - auc: 0.5068 - prc: 0.4875 - val_loss: 0.6565 - val_tp: 1.0000 - val_fp: 2.0000 - val_tn: 15.0000 - val_fn: 9.0000 - val_accuracy: 0.5926 - val_precision: 0.3333 - val_recall: 0.1000 - val_auc: 0.5971 - val_prc: 0.4103\n",
      "Epoch 13/50\n",
      "4/4 [==============================] - 0s 22ms/step - loss: 0.7098 - tp: 4.0000 - fp: 7.0000 - tn: 51.0000 - fn: 44.0000 - accuracy: 0.5189 - precision: 0.3636 - recall: 0.0833 - auc: 0.5124 - prc: 0.4910 - val_loss: 0.6551 - val_tp: 1.0000 - val_fp: 2.0000 - val_tn: 15.0000 - val_fn: 9.0000 - val_accuracy: 0.5926 - val_precision: 0.3333 - val_recall: 0.1000 - val_auc: 0.5971 - val_prc: 0.4103\n",
      "Epoch 14/50\n",
      "4/4 [==============================] - 0s 18ms/step - loss: 0.7085 - tp: 4.0000 - fp: 7.0000 - tn: 51.0000 - fn: 44.0000 - accuracy: 0.5189 - precision: 0.3636 - recall: 0.0833 - auc: 0.5158 - prc: 0.4930 - val_loss: 0.6538 - val_tp: 1.0000 - val_fp: 2.0000 - val_tn: 15.0000 - val_fn: 9.0000 - val_accuracy: 0.5926 - val_precision: 0.3333 - val_recall: 0.1000 - val_auc: 0.6000 - val_prc: 0.4117\n",
      "Epoch 15/50\n",
      "4/4 [==============================] - 0s 18ms/step - loss: 0.7071 - tp: 5.0000 - fp: 7.0000 - tn: 51.0000 - fn: 43.0000 - accuracy: 0.5283 - precision: 0.4167 - recall: 0.1042 - auc: 0.5187 - prc: 0.4943 - val_loss: 0.6526 - val_tp: 1.0000 - val_fp: 2.0000 - val_tn: 15.0000 - val_fn: 9.0000 - val_accuracy: 0.5926 - val_precision: 0.3333 - val_recall: 0.1000 - val_auc: 0.6000 - val_prc: 0.4117\n",
      "Epoch 16/50\n",
      "4/4 [==============================] - 0s 18ms/step - loss: 0.7060 - tp: 5.0000 - fp: 7.0000 - tn: 51.0000 - fn: 43.0000 - accuracy: 0.5283 - precision: 0.4167 - recall: 0.1042 - auc: 0.5203 - prc: 0.4945 - val_loss: 0.6513 - val_tp: 1.0000 - val_fp: 2.0000 - val_tn: 15.0000 - val_fn: 9.0000 - val_accuracy: 0.5926 - val_precision: 0.3333 - val_recall: 0.1000 - val_auc: 0.6000 - val_prc: 0.4117\n",
      "Epoch 17/50\n",
      "4/4 [==============================] - 0s 21ms/step - loss: 0.7048 - tp: 5.0000 - fp: 7.0000 - tn: 51.0000 - fn: 43.0000 - accuracy: 0.5283 - precision: 0.4167 - recall: 0.1042 - auc: 0.5287 - prc: 0.4989 - val_loss: 0.6499 - val_tp: 1.0000 - val_fp: 2.0000 - val_tn: 15.0000 - val_fn: 9.0000 - val_accuracy: 0.5926 - val_precision: 0.3333 - val_recall: 0.1000 - val_auc: 0.6088 - val_prc: 0.4172\n",
      "Epoch 18/50\n",
      "4/4 [==============================] - 0s 17ms/step - loss: 0.7035 - tp: 5.0000 - fp: 7.0000 - tn: 51.0000 - fn: 43.0000 - accuracy: 0.5283 - precision: 0.4167 - recall: 0.1042 - auc: 0.5332 - prc: 0.5046 - val_loss: 0.6486 - val_tp: 1.0000 - val_fp: 2.0000 - val_tn: 15.0000 - val_fn: 9.0000 - val_accuracy: 0.5926 - val_precision: 0.3333 - val_recall: 0.1000 - val_auc: 0.6088 - val_prc: 0.4180\n",
      "Epoch 19/50\n",
      "4/4 [==============================] - 0s 16ms/step - loss: 0.7024 - tp: 5.0000 - fp: 7.0000 - tn: 51.0000 - fn: 43.0000 - accuracy: 0.5283 - precision: 0.4167 - recall: 0.1042 - auc: 0.5350 - prc: 0.5067 - val_loss: 0.6472 - val_tp: 1.0000 - val_fp: 2.0000 - val_tn: 15.0000 - val_fn: 9.0000 - val_accuracy: 0.5926 - val_precision: 0.3333 - val_recall: 0.1000 - val_auc: 0.6147 - val_prc: 0.4194\n",
      "Epoch 20/50\n",
      "4/4 [==============================] - 0s 16ms/step - loss: 0.7012 - tp: 5.0000 - fp: 7.0000 - tn: 51.0000 - fn: 43.0000 - accuracy: 0.5283 - precision: 0.4167 - recall: 0.1042 - auc: 0.5363 - prc: 0.5074 - val_loss: 0.6459 - val_tp: 1.0000 - val_fp: 2.0000 - val_tn: 15.0000 - val_fn: 9.0000 - val_accuracy: 0.5926 - val_precision: 0.3333 - val_recall: 0.1000 - val_auc: 0.6147 - val_prc: 0.4194\n",
      "Epoch 21/50\n"
     ]
    },
    {
     "name": "stdout",
     "output_type": "stream",
     "text": [
      "4/4 [==============================] - 0s 16ms/step - loss: 0.7000 - tp: 5.0000 - fp: 7.0000 - tn: 51.0000 - fn: 43.0000 - accuracy: 0.5283 - precision: 0.4167 - recall: 0.1042 - auc: 0.5392 - prc: 0.5098 - val_loss: 0.6447 - val_tp: 1.0000 - val_fp: 2.0000 - val_tn: 15.0000 - val_fn: 9.0000 - val_accuracy: 0.5926 - val_precision: 0.3333 - val_recall: 0.1000 - val_auc: 0.6147 - val_prc: 0.4194\n",
      "Epoch 22/50\n",
      "4/4 [==============================] - 0s 16ms/step - loss: 0.6989 - tp: 5.0000 - fp: 7.0000 - tn: 51.0000 - fn: 43.0000 - accuracy: 0.5283 - precision: 0.4167 - recall: 0.1042 - auc: 0.5427 - prc: 0.5116 - val_loss: 0.6434 - val_tp: 1.0000 - val_fp: 2.0000 - val_tn: 15.0000 - val_fn: 9.0000 - val_accuracy: 0.5926 - val_precision: 0.3333 - val_recall: 0.1000 - val_auc: 0.6206 - val_prc: 0.4230\n",
      "Epoch 23/50\n",
      "4/4 [==============================] - 0s 15ms/step - loss: 0.6978 - tp: 5.0000 - fp: 7.0000 - tn: 51.0000 - fn: 43.0000 - accuracy: 0.5283 - precision: 0.4167 - recall: 0.1042 - auc: 0.5447 - prc: 0.5132 - val_loss: 0.6423 - val_tp: 1.0000 - val_fp: 2.0000 - val_tn: 15.0000 - val_fn: 9.0000 - val_accuracy: 0.5926 - val_precision: 0.3333 - val_recall: 0.1000 - val_auc: 0.6235 - val_prc: 0.4203\n",
      "Epoch 24/50\n",
      "4/4 [==============================] - 0s 16ms/step - loss: 0.6968 - tp: 5.0000 - fp: 7.0000 - tn: 51.0000 - fn: 43.0000 - accuracy: 0.5283 - precision: 0.4167 - recall: 0.1042 - auc: 0.5472 - prc: 0.5148 - val_loss: 0.6412 - val_tp: 1.0000 - val_fp: 2.0000 - val_tn: 15.0000 - val_fn: 9.0000 - val_accuracy: 0.5926 - val_precision: 0.3333 - val_recall: 0.1000 - val_auc: 0.6265 - val_prc: 0.4221\n",
      "Epoch 25/50\n",
      "4/4 [==============================] - 0s 16ms/step - loss: 0.6957 - tp: 5.0000 - fp: 7.0000 - tn: 51.0000 - fn: 43.0000 - accuracy: 0.5283 - precision: 0.4167 - recall: 0.1042 - auc: 0.5480 - prc: 0.5150 - val_loss: 0.6400 - val_tp: 1.0000 - val_fp: 2.0000 - val_tn: 15.0000 - val_fn: 9.0000 - val_accuracy: 0.5926 - val_precision: 0.3333 - val_recall: 0.1000 - val_auc: 0.6265 - val_prc: 0.4245\n",
      "Epoch 26/50\n",
      "4/4 [==============================] - 0s 15ms/step - loss: 0.6947 - tp: 5.0000 - fp: 7.0000 - tn: 51.0000 - fn: 43.0000 - accuracy: 0.5283 - precision: 0.4167 - recall: 0.1042 - auc: 0.5487 - prc: 0.5172 - val_loss: 0.6388 - val_tp: 1.0000 - val_fp: 2.0000 - val_tn: 15.0000 - val_fn: 9.0000 - val_accuracy: 0.5926 - val_precision: 0.3333 - val_recall: 0.1000 - val_auc: 0.6294 - val_prc: 0.4297\n",
      "Epoch 27/50\n",
      "4/4 [==============================] - 0s 16ms/step - loss: 0.6935 - tp: 5.0000 - fp: 7.0000 - tn: 51.0000 - fn: 43.0000 - accuracy: 0.5283 - precision: 0.4167 - recall: 0.1042 - auc: 0.5524 - prc: 0.5191 - val_loss: 0.6376 - val_tp: 1.0000 - val_fp: 2.0000 - val_tn: 15.0000 - val_fn: 9.0000 - val_accuracy: 0.5926 - val_precision: 0.3333 - val_recall: 0.1000 - val_auc: 0.6324 - val_prc: 0.4305\n",
      "Epoch 28/50\n",
      "4/4 [==============================] - 0s 16ms/step - loss: 0.6924 - tp: 5.0000 - fp: 7.0000 - tn: 51.0000 - fn: 43.0000 - accuracy: 0.5283 - precision: 0.4167 - recall: 0.1042 - auc: 0.5568 - prc: 0.5230 - val_loss: 0.6366 - val_tp: 1.0000 - val_fp: 2.0000 - val_tn: 15.0000 - val_fn: 9.0000 - val_accuracy: 0.5926 - val_precision: 0.3333 - val_recall: 0.1000 - val_auc: 0.6324 - val_prc: 0.4305\n",
      "Epoch 29/50\n",
      "4/4 [==============================] - 0s 15ms/step - loss: 0.6916 - tp: 5.0000 - fp: 7.0000 - tn: 51.0000 - fn: 43.0000 - accuracy: 0.5283 - precision: 0.4167 - recall: 0.1042 - auc: 0.5609 - prc: 0.5255 - val_loss: 0.6354 - val_tp: 1.0000 - val_fp: 2.0000 - val_tn: 15.0000 - val_fn: 9.0000 - val_accuracy: 0.5926 - val_precision: 0.3333 - val_recall: 0.1000 - val_auc: 0.6324 - val_prc: 0.4294\n",
      "Epoch 30/50\n",
      "4/4 [==============================] - 0s 18ms/step - loss: 0.6906 - tp: 5.0000 - fp: 7.0000 - tn: 51.0000 - fn: 43.0000 - accuracy: 0.5283 - precision: 0.4167 - recall: 0.1042 - auc: 0.5657 - prc: 0.5285 - val_loss: 0.6344 - val_tp: 2.0000 - val_fp: 2.0000 - val_tn: 15.0000 - val_fn: 8.0000 - val_accuracy: 0.6296 - val_precision: 0.5000 - val_recall: 0.2000 - val_auc: 0.6324 - val_prc: 0.4294\n",
      "Epoch 31/50\n",
      "4/4 [==============================] - 0s 18ms/step - loss: 0.6896 - tp: 5.0000 - fp: 7.0000 - tn: 51.0000 - fn: 43.0000 - accuracy: 0.5283 - precision: 0.4167 - recall: 0.1042 - auc: 0.5673 - prc: 0.5290 - val_loss: 0.6333 - val_tp: 2.0000 - val_fp: 2.0000 - val_tn: 15.0000 - val_fn: 8.0000 - val_accuracy: 0.6296 - val_precision: 0.5000 - val_recall: 0.2000 - val_auc: 0.6382 - val_prc: 0.4328\n",
      "Epoch 32/50\n",
      "4/4 [==============================] - 0s 17ms/step - loss: 0.6887 - tp: 5.0000 - fp: 7.0000 - tn: 51.0000 - fn: 43.0000 - accuracy: 0.5283 - precision: 0.4167 - recall: 0.1042 - auc: 0.5697 - prc: 0.5307 - val_loss: 0.6322 - val_tp: 2.0000 - val_fp: 2.0000 - val_tn: 15.0000 - val_fn: 8.0000 - val_accuracy: 0.6296 - val_precision: 0.5000 - val_recall: 0.2000 - val_auc: 0.6441 - val_prc: 0.4355\n",
      "Epoch 33/50\n",
      "4/4 [==============================] - 0s 17ms/step - loss: 0.6878 - tp: 5.0000 - fp: 6.0000 - tn: 52.0000 - fn: 43.0000 - accuracy: 0.5377 - precision: 0.4545 - recall: 0.1042 - auc: 0.5720 - prc: 0.5315 - val_loss: 0.6312 - val_tp: 2.0000 - val_fp: 2.0000 - val_tn: 15.0000 - val_fn: 8.0000 - val_accuracy: 0.6296 - val_precision: 0.5000 - val_recall: 0.2000 - val_auc: 0.6353 - val_prc: 0.4302\n",
      "Epoch 34/50\n",
      "4/4 [==============================] - 0s 17ms/step - loss: 0.6868 - tp: 5.0000 - fp: 6.0000 - tn: 52.0000 - fn: 43.0000 - accuracy: 0.5377 - precision: 0.4545 - recall: 0.1042 - auc: 0.5763 - prc: 0.5347 - val_loss: 0.6303 - val_tp: 2.0000 - val_fp: 2.0000 - val_tn: 15.0000 - val_fn: 8.0000 - val_accuracy: 0.6296 - val_precision: 0.5000 - val_recall: 0.2000 - val_auc: 0.6412 - val_prc: 0.4337\n",
      "Epoch 35/50\n",
      "4/4 [==============================] - 0s 18ms/step - loss: 0.6857 - tp: 5.0000 - fp: 6.0000 - tn: 52.0000 - fn: 43.0000 - accuracy: 0.5377 - precision: 0.4545 - recall: 0.1042 - auc: 0.5778 - prc: 0.5346 - val_loss: 0.6293 - val_tp: 2.0000 - val_fp: 2.0000 - val_tn: 15.0000 - val_fn: 8.0000 - val_accuracy: 0.6296 - val_precision: 0.5000 - val_recall: 0.2000 - val_auc: 0.6441 - val_prc: 0.4355\n",
      "Epoch 36/50\n",
      "4/4 [==============================] - 0s 16ms/step - loss: 0.6851 - tp: 6.0000 - fp: 6.0000 - tn: 52.0000 - fn: 42.0000 - accuracy: 0.5472 - precision: 0.5000 - recall: 0.1250 - auc: 0.5787 - prc: 0.5361 - val_loss: 0.6283 - val_tp: 2.0000 - val_fp: 2.0000 - val_tn: 15.0000 - val_fn: 8.0000 - val_accuracy: 0.6296 - val_precision: 0.5000 - val_recall: 0.2000 - val_auc: 0.6441 - val_prc: 0.4355\n",
      "Epoch 37/50\n",
      "4/4 [==============================] - 0s 16ms/step - loss: 0.6840 - tp: 6.0000 - fp: 6.0000 - tn: 52.0000 - fn: 42.0000 - accuracy: 0.5472 - precision: 0.5000 - recall: 0.1250 - auc: 0.5823 - prc: 0.5383 - val_loss: 0.6274 - val_tp: 2.0000 - val_fp: 2.0000 - val_tn: 15.0000 - val_fn: 8.0000 - val_accuracy: 0.6296 - val_precision: 0.5000 - val_recall: 0.2000 - val_auc: 0.6500 - val_prc: 0.4418\n",
      "Epoch 38/50\n",
      "4/4 [==============================] - 0s 16ms/step - loss: 0.6830 - tp: 6.0000 - fp: 6.0000 - tn: 52.0000 - fn: 42.0000 - accuracy: 0.5472 - precision: 0.5000 - recall: 0.1250 - auc: 0.5866 - prc: 0.5418 - val_loss: 0.6265 - val_tp: 2.0000 - val_fp: 2.0000 - val_tn: 15.0000 - val_fn: 8.0000 - val_accuracy: 0.6296 - val_precision: 0.5000 - val_recall: 0.2000 - val_auc: 0.6500 - val_prc: 0.4409\n",
      "Epoch 39/50\n",
      "4/4 [==============================] - 0s 16ms/step - loss: 0.6823 - tp: 6.0000 - fp: 6.0000 - tn: 52.0000 - fn: 42.0000 - accuracy: 0.5472 - precision: 0.5000 - recall: 0.1250 - auc: 0.5918 - prc: 0.5470 - val_loss: 0.6254 - val_tp: 2.0000 - val_fp: 2.0000 - val_tn: 15.0000 - val_fn: 8.0000 - val_accuracy: 0.6296 - val_precision: 0.5000 - val_recall: 0.2000 - val_auc: 0.6500 - val_prc: 0.4409\n",
      "Epoch 40/50\n",
      "4/4 [==============================] - 0s 15ms/step - loss: 0.6814 - tp: 6.0000 - fp: 6.0000 - tn: 52.0000 - fn: 42.0000 - accuracy: 0.5472 - precision: 0.5000 - recall: 0.1250 - auc: 0.5950 - prc: 0.5508 - val_loss: 0.6244 - val_tp: 2.0000 - val_fp: 2.0000 - val_tn: 15.0000 - val_fn: 8.0000 - val_accuracy: 0.6296 - val_precision: 0.5000 - val_recall: 0.2000 - val_auc: 0.6588 - val_prc: 0.4528\n",
      "Epoch 41/50\n"
     ]
    },
    {
     "name": "stdout",
     "output_type": "stream",
     "text": [
      "4/4 [==============================] - 0s 16ms/step - loss: 0.6804 - tp: 6.0000 - fp: 6.0000 - tn: 52.0000 - fn: 42.0000 - accuracy: 0.5472 - precision: 0.5000 - recall: 0.1250 - auc: 0.5995 - prc: 0.5539 - val_loss: 0.6234 - val_tp: 2.0000 - val_fp: 2.0000 - val_tn: 15.0000 - val_fn: 8.0000 - val_accuracy: 0.6296 - val_precision: 0.5000 - val_recall: 0.2000 - val_auc: 0.6618 - val_prc: 0.4544\n",
      "Epoch 42/50\n",
      "4/4 [==============================] - 0s 16ms/step - loss: 0.6798 - tp: 7.0000 - fp: 6.0000 - tn: 52.0000 - fn: 41.0000 - accuracy: 0.5566 - precision: 0.5385 - recall: 0.1458 - auc: 0.5995 - prc: 0.5578 - val_loss: 0.6223 - val_tp: 2.0000 - val_fp: 2.0000 - val_tn: 15.0000 - val_fn: 8.0000 - val_accuracy: 0.6296 - val_precision: 0.5000 - val_recall: 0.2000 - val_auc: 0.6618 - val_prc: 0.4520\n",
      "Epoch 43/50\n",
      "4/4 [==============================] - 0s 16ms/step - loss: 0.6788 - tp: 7.0000 - fp: 6.0000 - tn: 52.0000 - fn: 41.0000 - accuracy: 0.5566 - precision: 0.5385 - recall: 0.1458 - auc: 0.6017 - prc: 0.5589 - val_loss: 0.6213 - val_tp: 2.0000 - val_fp: 2.0000 - val_tn: 15.0000 - val_fn: 8.0000 - val_accuracy: 0.6296 - val_precision: 0.5000 - val_recall: 0.2000 - val_auc: 0.6706 - val_prc: 0.4683\n",
      "Epoch 44/50\n",
      "4/4 [==============================] - 0s 15ms/step - loss: 0.6778 - tp: 7.0000 - fp: 6.0000 - tn: 52.0000 - fn: 41.0000 - accuracy: 0.5566 - precision: 0.5385 - recall: 0.1458 - auc: 0.6069 - prc: 0.5628 - val_loss: 0.6204 - val_tp: 2.0000 - val_fp: 2.0000 - val_tn: 15.0000 - val_fn: 8.0000 - val_accuracy: 0.6296 - val_precision: 0.5000 - val_recall: 0.2000 - val_auc: 0.6706 - val_prc: 0.4683\n",
      "Epoch 45/50\n",
      "4/4 [==============================] - 0s 16ms/step - loss: 0.6770 - tp: 7.0000 - fp: 6.0000 - tn: 52.0000 - fn: 41.0000 - accuracy: 0.5566 - precision: 0.5385 - recall: 0.1458 - auc: 0.6081 - prc: 0.5639 - val_loss: 0.6194 - val_tp: 2.0000 - val_fp: 2.0000 - val_tn: 15.0000 - val_fn: 8.0000 - val_accuracy: 0.6296 - val_precision: 0.5000 - val_recall: 0.2000 - val_auc: 0.6735 - val_prc: 0.4712\n",
      "Epoch 46/50\n",
      "4/4 [==============================] - 0s 16ms/step - loss: 0.6762 - tp: 7.0000 - fp: 6.0000 - tn: 52.0000 - fn: 41.0000 - accuracy: 0.5566 - precision: 0.5385 - recall: 0.1458 - auc: 0.6081 - prc: 0.5628 - val_loss: 0.6186 - val_tp: 2.0000 - val_fp: 2.0000 - val_tn: 15.0000 - val_fn: 8.0000 - val_accuracy: 0.6296 - val_precision: 0.5000 - val_recall: 0.2000 - val_auc: 0.6765 - val_prc: 0.4749\n",
      "Epoch 47/50\n",
      "4/4 [==============================] - 0s 16ms/step - loss: 0.6755 - tp: 7.0000 - fp: 6.0000 - tn: 52.0000 - fn: 41.0000 - accuracy: 0.5566 - precision: 0.5385 - recall: 0.1458 - auc: 0.6072 - prc: 0.5623 - val_loss: 0.6177 - val_tp: 2.0000 - val_fp: 2.0000 - val_tn: 15.0000 - val_fn: 8.0000 - val_accuracy: 0.6296 - val_precision: 0.5000 - val_recall: 0.2000 - val_auc: 0.6706 - val_prc: 0.4674\n",
      "Epoch 48/50\n",
      "4/4 [==============================] - 0s 16ms/step - loss: 0.6746 - tp: 7.0000 - fp: 6.0000 - tn: 52.0000 - fn: 41.0000 - accuracy: 0.5566 - precision: 0.5385 - recall: 0.1458 - auc: 0.6083 - prc: 0.5654 - val_loss: 0.6170 - val_tp: 2.0000 - val_fp: 2.0000 - val_tn: 15.0000 - val_fn: 8.0000 - val_accuracy: 0.6296 - val_precision: 0.5000 - val_recall: 0.2000 - val_auc: 0.6706 - val_prc: 0.4674\n",
      "Epoch 49/50\n",
      "4/4 [==============================] - 0s 15ms/step - loss: 0.6739 - tp: 7.0000 - fp: 6.0000 - tn: 52.0000 - fn: 41.0000 - accuracy: 0.5566 - precision: 0.5385 - recall: 0.1458 - auc: 0.6126 - prc: 0.5690 - val_loss: 0.6162 - val_tp: 2.0000 - val_fp: 2.0000 - val_tn: 15.0000 - val_fn: 8.0000 - val_accuracy: 0.6296 - val_precision: 0.5000 - val_recall: 0.2000 - val_auc: 0.6735 - val_prc: 0.4712\n",
      "Epoch 50/50\n",
      "4/4 [==============================] - 0s 16ms/step - loss: 0.6732 - tp: 7.0000 - fp: 6.0000 - tn: 52.0000 - fn: 41.0000 - accuracy: 0.5566 - precision: 0.5385 - recall: 0.1458 - auc: 0.6171 - prc: 0.5714 - val_loss: 0.6153 - val_tp: 2.0000 - val_fp: 2.0000 - val_tn: 15.0000 - val_fn: 8.0000 - val_accuracy: 0.6296 - val_precision: 0.5000 - val_recall: 0.2000 - val_auc: 0.6735 - val_prc: 0.4712\n"
     ]
    }
   ],
   "source": [
    "history = model.train(X_train, y_train, X_val, y_val, epochs, batch_size, early_stopping)\n",
    "#plt.plot(history.history['loss'])\n",
    "#plt.show()"
   ]
  },
  {
   "cell_type": "code",
   "execution_count": 48,
   "id": "a09e4b66",
   "metadata": {},
   "outputs": [
    {
     "data": {
      "text/plain": [
       "0"
      ]
     },
     "execution_count": 48,
     "metadata": {},
     "output_type": "execute_result"
    }
   ],
   "source": [
    "early_stopping.stopped_epoch"
   ]
  },
  {
   "cell_type": "code",
   "execution_count": 49,
   "id": "dcd5d3a1",
   "metadata": {},
   "outputs": [],
   "source": [
    "#plot_loss(history, \"Bias\", 0)\n",
    "#plt.show()"
   ]
  },
  {
   "cell_type": "code",
   "execution_count": 50,
   "id": "8a185439",
   "metadata": {},
   "outputs": [],
   "source": [
    "#plot_metrics(history)\n",
    "#plt.show()"
   ]
  },
  {
   "cell_type": "code",
   "execution_count": 51,
   "id": "1e3d161e",
   "metadata": {},
   "outputs": [
    {
     "name": "stdout",
     "output_type": "stream",
     "text": [
      "4/4 [==============================] - 0s 2ms/step\n",
      "1/1 [==============================] - 0s 20ms/step\n",
      "loss :  0.7403993010520935\n",
      "tp :  1.0\n",
      "fp :  2.0\n",
      "tn :  5.0\n",
      "fn :  7.0\n",
      "accuracy :  0.4000000059604645\n",
      "precision :  0.3333333432674408\n",
      "recall :  0.125\n",
      "auc :  0.5357142686843872\n",
      "prc :  0.5007680654525757\n"
     ]
    }
   ],
   "source": [
    "predictions_train = model.predict(X_train)\n",
    "predictions_test = model.predict(X_test)\n",
    "\n",
    "# Confusion matrix\n",
    "results = model.evaluate(X_test, y_test)\n",
    "for name, value in zip(model.metrics_names(), results):\n",
    "    print(name, ': ', value)\n",
    "    if name == 'accuracy':\n",
    "        accuracy_sixteen_mean.append(value)"
   ]
  },
  {
   "cell_type": "code",
   "execution_count": 52,
   "id": "5b02f927",
   "metadata": {},
   "outputs": [
    {
     "name": "stdout",
     "output_type": "stream",
     "text": [
      "True Negatives:  5\n",
      "False Positives:  2\n",
      "False Negatives:  7\n",
      "True Positives:  1\n",
      "Total:  8\n"
     ]
    },
    {
     "data": {
      "image/png": "[encoded data removed]",
      "text/plain": [
       "<Figure size 500x500 with 2 Axes>"
      ]
     },
     "metadata": {},
     "output_type": "display_data"
    }
   ],
   "source": [
    "plot_cm(y_test, predictions_test)\n",
    "plt.show()"
   ]
  },
  {
   "cell_type": "code",
   "execution_count": 53,
   "id": "f0f41d66",
   "metadata": {},
   "outputs": [],
   "source": [
    "#plot_roc(\"Test Predictions\", y_test, predictions_test, color=colors[0], linestyle='--')\n",
    "#plt.legend(loc='lower right')\n",
    "#plt.show()"
   ]
  },
  {
   "cell_type": "code",
   "execution_count": 54,
   "id": "5c6130aa",
   "metadata": {},
   "outputs": [],
   "source": [
    "# Precision-Recall Curve (PRC)\n",
    "#plot_prc(\"Train Predictions\", y_train, predictions_train, color=colors[0])\n",
    "#plot_prc(\"Test Predictions\", y_test, predictions_test, color=colors[0], linestyle='--')\n",
    "#plt.legend(loc='lower right')\n",
    "#plt.show()"
   ]
  },
  {
   "cell_type": "code",
   "execution_count": 55,
   "id": "21275488",
   "metadata": {},
   "outputs": [],
   "source": [
    "#STOP"
   ]
  },
  {
   "cell_type": "markdown",
   "id": "0260fb5a",
   "metadata": {},
   "source": [
    "## 4 Dense Model with 32 Lines"
   ]
  },
  {
   "cell_type": "markdown",
   "id": "3f16288e",
   "metadata": {},
   "source": [
    "### Dataset"
   ]
  },
  {
   "cell_type": "code",
   "execution_count": 56,
   "id": "411ceae0",
   "metadata": {},
   "outputs": [],
   "source": [
    "# prepare dataset\n",
    "\n",
    "df = df_damage_thirtytwo_mean.drop(columns=columns)"
   ]
  },
  {
   "cell_type": "code",
   "execution_count": 57,
   "id": "bf1b6f93",
   "metadata": {},
   "outputs": [
    {
     "name": "stdout",
     "output_type": "stream",
     "text": [
      "Training features shape: (106, 36)\n",
      "Training labels shape: (106,) \n",
      "\n",
      "Validation features shape: (27, 36)\n",
      "Validation labels shape: (27,) \n",
      "\n",
      "Test features shape: (15, 36)\n",
      "Test labels shape: (15,) \n",
      "\n"
     ]
    }
   ],
   "source": [
    "# Split into sets for training, validation, and testing + use and save scaler\n",
    "\n",
    "X = df.drop(columns=['Damage'])\n",
    "y = df['Damage']\n",
    "\n",
    "X_train, X_test, y_train, y_test = train_test_split(X, y, test_size=0.1, random_state=random_state)\n",
    "X_train, X_val, y_train, y_val = train_test_split(X_train, y_train, test_size=0.2, random_state=random_state)\n",
    "\n",
    "scaler_sixteen = StandardScaler()\n",
    "X_train = scaler_sixteen.fit_transform(X_train)\n",
    "\n",
    "X_val = scaler_sixteen.transform(X_val)\n",
    "X_test = scaler_sixteen.transform(X_test)\n",
    "\n",
    "print('Training features shape:', X_train.shape)\n",
    "print('Training labels shape:', y_train.shape, '\\n')\n",
    "\n",
    "print('Validation features shape:', X_val.shape)\n",
    "print('Validation labels shape:', y_val.shape, '\\n')\n",
    "\n",
    "print('Test features shape:', X_test.shape)\n",
    "print('Test labels shape:', y_test.shape, '\\n')"
   ]
  },
  {
   "cell_type": "markdown",
   "id": "ab5d0fd0",
   "metadata": {},
   "source": [
    "### Model"
   ]
  },
  {
   "cell_type": "code",
   "execution_count": 58,
   "id": "0f5bfd89",
   "metadata": {},
   "outputs": [
    {
     "name": "stdout",
     "output_type": "stream",
     "text": [
      "Model: \"sequential_3\"\n",
      "_________________________________________________________________\n",
      " Layer (type)                Output Shape              Param #   \n",
      "=================================================================\n",
      " dense_9 (Dense)             (None, 16)                592       \n",
      "                                                                 \n",
      " dense_10 (Dense)            (None, 16)                272       \n",
      "                                                                 \n",
      " dense_11 (Dense)            (None, 1)                 17        \n",
      "                                                                 \n",
      "=================================================================\n",
      "Total params: 881\n",
      "Trainable params: 881\n",
      "Non-trainable params: 0\n",
      "_________________________________________________________________\n"
     ]
    }
   ],
   "source": [
    "input_dim = X_train.shape[1]\n",
    "units = 16\n",
    "activation = 'relu'\n",
    "output_size = 1\n",
    "output_activation = 'sigmoid'\n",
    "kernel_initializer = 'he_uniform'\n",
    "\n",
    "LAYERS = [ \n",
    "    { 'type': 'Dense', 'nodes':units, 'activation': activation },\n",
    "    { 'type': 'Dense', 'nodes':units, 'activation': activation },\n",
    "    { 'type': 'Dense', 'nodes':output_size, 'activation': output_activation }\n",
    "]\n",
    "\n",
    "model = DenseModel(LAYERS, input_dim)\n",
    "model.summary()"
   ]
  },
  {
   "cell_type": "code",
   "execution_count": 59,
   "id": "63315db0",
   "metadata": {},
   "outputs": [
    {
     "name": "stdout",
     "output_type": "stream",
     "text": [
      "Epoch 1/50\n",
      "4/4 [==============================] - 2s 142ms/step - loss: 0.6628 - tp: 27.0000 - fp: 21.0000 - tn: 43.0000 - fn: 30.0000 - accuracy: 0.5785 - precision: 0.5625 - recall: 0.4737 - auc: 0.6430 - prc: 0.6089 - val_loss: 0.5630 - val_tp: 7.0000 - val_fp: 4.0000 - val_tn: 12.0000 - val_fn: 4.0000 - val_accuracy: 0.7037 - val_precision: 0.6364 - val_recall: 0.6364 - val_auc: 0.7784 - val_prc: 0.7183\n",
      "Epoch 2/50\n",
      "4/4 [==============================] - 0s 16ms/step - loss: 0.6615 - tp: 26.0000 - fp: 19.0000 - tn: 38.0000 - fn: 23.0000 - accuracy: 0.6038 - precision: 0.5778 - recall: 0.5306 - auc: 0.6584 - prc: 0.6116 - val_loss: 0.5632 - val_tp: 7.0000 - val_fp: 4.0000 - val_tn: 12.0000 - val_fn: 4.0000 - val_accuracy: 0.7037 - val_precision: 0.6364 - val_recall: 0.6364 - val_auc: 0.7784 - val_prc: 0.7183\n",
      "Epoch 3/50\n",
      "4/4 [==============================] - 0s 16ms/step - loss: 0.6606 - tp: 26.0000 - fp: 19.0000 - tn: 38.0000 - fn: 23.0000 - accuracy: 0.6038 - precision: 0.5778 - recall: 0.5306 - auc: 0.6579 - prc: 0.6123 - val_loss: 0.5635 - val_tp: 7.0000 - val_fp: 4.0000 - val_tn: 12.0000 - val_fn: 4.0000 - val_accuracy: 0.7037 - val_precision: 0.6364 - val_recall: 0.6364 - val_auc: 0.7812 - val_prc: 0.7201\n",
      "Epoch 4/50\n",
      "4/4 [==============================] - 0s 16ms/step - loss: 0.6597 - tp: 26.0000 - fp: 19.0000 - tn: 38.0000 - fn: 23.0000 - accuracy: 0.6038 - precision: 0.5778 - recall: 0.5306 - auc: 0.6600 - prc: 0.6145 - val_loss: 0.5635 - val_tp: 7.0000 - val_fp: 4.0000 - val_tn: 12.0000 - val_fn: 4.0000 - val_accuracy: 0.7037 - val_precision: 0.6364 - val_recall: 0.6364 - val_auc: 0.7812 - val_prc: 0.7201\n",
      "Epoch 5/50\n",
      "4/4 [==============================] - 0s 16ms/step - loss: 0.6588 - tp: 26.0000 - fp: 18.0000 - tn: 39.0000 - fn: 23.0000 - accuracy: 0.6132 - precision: 0.5909 - recall: 0.5306 - auc: 0.6606 - prc: 0.6194 - val_loss: 0.5636 - val_tp: 7.0000 - val_fp: 4.0000 - val_tn: 12.0000 - val_fn: 4.0000 - val_accuracy: 0.7037 - val_precision: 0.6364 - val_recall: 0.6364 - val_auc: 0.7812 - val_prc: 0.7201\n",
      "Epoch 6/50\n",
      "4/4 [==============================] - 0s 15ms/step - loss: 0.6580 - tp: 26.0000 - fp: 18.0000 - tn: 39.0000 - fn: 23.0000 - accuracy: 0.6132 - precision: 0.5909 - recall: 0.5306 - auc: 0.6599 - prc: 0.6144 - val_loss: 0.5637 - val_tp: 7.0000 - val_fp: 4.0000 - val_tn: 12.0000 - val_fn: 4.0000 - val_accuracy: 0.7037 - val_precision: 0.6364 - val_recall: 0.6364 - val_auc: 0.7812 - val_prc: 0.7201\n",
      "Epoch 7/50\n",
      "4/4 [==============================] - 0s 16ms/step - loss: 0.6573 - tp: 26.0000 - fp: 18.0000 - tn: 39.0000 - fn: 23.0000 - accuracy: 0.6132 - precision: 0.5909 - recall: 0.5306 - auc: 0.6609 - prc: 0.6198 - val_loss: 0.5638 - val_tp: 7.0000 - val_fp: 4.0000 - val_tn: 12.0000 - val_fn: 4.0000 - val_accuracy: 0.7037 - val_precision: 0.6364 - val_recall: 0.6364 - val_auc: 0.7812 - val_prc: 0.7201\n",
      "Epoch 8/50\n",
      "4/4 [==============================] - 0s 16ms/step - loss: 0.6566 - tp: 26.0000 - fp: 18.0000 - tn: 39.0000 - fn: 23.0000 - accuracy: 0.6132 - precision: 0.5909 - recall: 0.5306 - auc: 0.6611 - prc: 0.6153 - val_loss: 0.5638 - val_tp: 7.0000 - val_fp: 4.0000 - val_tn: 12.0000 - val_fn: 4.0000 - val_accuracy: 0.7037 - val_precision: 0.6364 - val_recall: 0.6364 - val_auc: 0.7756 - val_prc: 0.7165\n",
      "Epoch 9/50\n",
      "4/4 [==============================] - 0s 16ms/step - loss: 0.6558 - tp: 26.0000 - fp: 18.0000 - tn: 39.0000 - fn: 23.0000 - accuracy: 0.6132 - precision: 0.5909 - recall: 0.5306 - auc: 0.6620 - prc: 0.6157 - val_loss: 0.5638 - val_tp: 7.0000 - val_fp: 4.0000 - val_tn: 12.0000 - val_fn: 4.0000 - val_accuracy: 0.7037 - val_precision: 0.6364 - val_recall: 0.6364 - val_auc: 0.7784 - val_prc: 0.7178\n",
      "Epoch 10/50\n",
      "4/4 [==============================] - 0s 16ms/step - loss: 0.6552 - tp: 26.0000 - fp: 18.0000 - tn: 39.0000 - fn: 23.0000 - accuracy: 0.6132 - precision: 0.5909 - recall: 0.5306 - auc: 0.6620 - prc: 0.6205 - val_loss: 0.5637 - val_tp: 7.0000 - val_fp: 4.0000 - val_tn: 12.0000 - val_fn: 4.0000 - val_accuracy: 0.7037 - val_precision: 0.6364 - val_recall: 0.6364 - val_auc: 0.7784 - val_prc: 0.7178\n",
      "Epoch 11/50\n",
      "1/4 [======>.......................] - ETA: 0s - loss: 0.5989 - tp: 11.0000 - fp: 3.0000 - tn: 12.0000 - fn: 6.0000 - accuracy: 0.7188 - precision: 0.7857 - recall: 0.6471 - auc: 0.7608 - prc: 0.7926Restoring model weights from the end of the best epoch: 1.\n",
      "4/4 [==============================] - 0s 18ms/step - loss: 0.6545 - tp: 27.0000 - fp: 18.0000 - tn: 39.0000 - fn: 22.0000 - accuracy: 0.6226 - precision: 0.6000 - recall: 0.5510 - auc: 0.6627 - prc: 0.6213 - val_loss: 0.5636 - val_tp: 7.0000 - val_fp: 4.0000 - val_tn: 12.0000 - val_fn: 4.0000 - val_accuracy: 0.7037 - val_precision: 0.6364 - val_recall: 0.6364 - val_auc: 0.7784 - val_prc: 0.7178\n",
      "Epoch 11: early stopping\n"
     ]
    }
   ],
   "source": [
    "history = model.train(X_train, y_train, X_val, y_val, epochs, batch_size, early_stopping)\n",
    "#plt.plot(history.history['loss'])\n",
    "#plt.show()"
   ]
  },
  {
   "cell_type": "code",
   "execution_count": 60,
   "id": "302ea816",
   "metadata": {},
   "outputs": [
    {
     "data": {
      "text/plain": [
       "10"
      ]
     },
     "execution_count": 60,
     "metadata": {},
     "output_type": "execute_result"
    }
   ],
   "source": [
    "early_stopping.stopped_epoch"
   ]
  },
  {
   "cell_type": "code",
   "execution_count": 61,
   "id": "b13b14c7",
   "metadata": {},
   "outputs": [],
   "source": [
    "#plot_loss(history, \"Bias\", 0)\n",
    "#plt.show()"
   ]
  },
  {
   "cell_type": "code",
   "execution_count": 62,
   "id": "aabf65c9",
   "metadata": {},
   "outputs": [],
   "source": [
    "#plot_metrics(history)\n",
    "#plt.show()"
   ]
  },
  {
   "cell_type": "code",
   "execution_count": 63,
   "id": "6e66c015",
   "metadata": {},
   "outputs": [
    {
     "name": "stdout",
     "output_type": "stream",
     "text": [
      "4/4 [==============================] - 0s 2ms/step\n",
      "1/1 [==============================] - 0s 19ms/step\n",
      "loss :  1.0216046571731567\n",
      "tp :  1.0\n",
      "fp :  4.0\n",
      "tn :  3.0\n",
      "fn :  7.0\n",
      "accuracy :  0.2666666805744171\n",
      "precision :  0.20000000298023224\n",
      "recall :  0.125\n",
      "auc :  0.3214285373687744\n",
      "prc :  0.41036784648895264\n"
     ]
    }
   ],
   "source": [
    "predictions_train = model.predict(X_train)\n",
    "predictions_test = model.predict(X_test)\n",
    "\n",
    "# Confusion matrix\n",
    "results = model.evaluate(X_test, y_test)\n",
    "for name, value in zip(model.metrics_names(), results):\n",
    "    print(name, ': ', value)\n",
    "    if name == 'accuracy':\n",
    "        accuracy_thirtytwo_mean.append(value)"
   ]
  },
  {
   "cell_type": "code",
   "execution_count": 64,
   "id": "27dcd0e3",
   "metadata": {},
   "outputs": [
    {
     "name": "stdout",
     "output_type": "stream",
     "text": [
      "True Negatives:  3\n",
      "False Positives:  4\n",
      "False Negatives:  7\n",
      "True Positives:  1\n",
      "Total:  8\n"
     ]
    },
    {
     "data": {
      "image/png": "[encoded data removed]",
      "text/plain": [
       "<Figure size 500x500 with 2 Axes>"
      ]
     },
     "metadata": {},
     "output_type": "display_data"
    }
   ],
   "source": [
    "plot_cm(y_test, predictions_test)\n",
    "plt.show()"
   ]
  },
  {
   "cell_type": "code",
   "execution_count": 65,
   "id": "eedc2b18",
   "metadata": {},
   "outputs": [],
   "source": [
    "#plot_roc(\"Test Predictions\", y_test, predictions_test, color=colors[0], linestyle='--')\n",
    "#plt.legend(loc='lower right')\n",
    "#plt.show()"
   ]
  },
  {
   "cell_type": "code",
   "execution_count": 66,
   "id": "43f924d0",
   "metadata": {},
   "outputs": [],
   "source": [
    "# Precision-Recall Curve (PRC)\n",
    "#plot_prc(\"Train Predictions\", y_train, predictions_train, color=colors[0])\n",
    "#plot_prc(\"Test Predictions\", y_test, predictions_test, color=colors[0], linestyle='--')\n",
    "#plt.legend(loc='lower right')\n",
    "#plt.show()"
   ]
  },
  {
   "cell_type": "code",
   "execution_count": 67,
   "id": "348f7577",
   "metadata": {},
   "outputs": [],
   "source": [
    "#STOP"
   ]
  },
  {
   "cell_type": "markdown",
   "id": "02b16763",
   "metadata": {},
   "source": [
    "# 2 CNN Model"
   ]
  },
  {
   "cell_type": "code",
   "execution_count": 68,
   "id": "7b8acd55",
   "metadata": {},
   "outputs": [],
   "source": [
    "class CNNModel():\n",
    "    def __init__(self, in_shape, n_classes, kernel_size=3, kernel_initializer='he_uniform', activation = 'relu', output_activation = 'sigmoid', pool_size=2, filters_1=8, filters_2=16, filters_3=32, filters_4=12, metrics=METRICS):\n",
    "        model = Sequential()\n",
    "        model.add(Conv1D(filters= filters_1, kernel_size = kernel_size, activation=activation, kernel_initializer=kernel_initializer, input_shape=in_shape))\n",
    "\n",
    "        model.add(Conv1D(filters= filters_2, kernel_size = kernel_size, activation=activation, kernel_initializer=kernel_initializer))\n",
    "        model.add(MaxPool1D(pool_size=pool_size))\n",
    "        model.add(Dropout(0.5))\n",
    "\n",
    "        #model.add(Conv1D(filters= filters_3, kernel_size = kernel_size, activation=activation, kernel_initializer=kernel_initializer))\n",
    "        #model.add(MaxPool1D(pool_size=pool_size))\n",
    "        #model.add(Dropout(0.5))\n",
    "\n",
    "        model.add(Flatten())\n",
    "        #model.add(Dense(32, activation='relu', kernel_initializer='he_uniform'))\n",
    "        #model.add(Dense(16, activation='relu', kernel_initializer='he_uniform'))\n",
    "        model.add(Dense(8, activation='relu', kernel_initializer='he_uniform'))\n",
    "        #model.add(Dropout(0.5))\n",
    "        #model.add(BatchNormalization())\n",
    "        model.add(Dense(n_classes, activation=output_activation)) #'softmax'\n",
    "\n",
    "        model.compile(\n",
    "            optimizer=tf.keras.optimizers.Adam(learning_rate=0.0001),\n",
    "            loss='binary_crossentropy',\n",
    "            metrics=metrics)\n",
    "        \n",
    "        self.model = model    \n",
    "\n",
    "    def train(self, X_train, y_train, X_val, y_val, epochs, batch_size, callback):\n",
    "        history = self.model.fit(X_train, y_train, validation_data=(X_val, y_val), epochs=epochs, batch_size=batch_size, verbose=1, shuffle=True, callbacks=[callback])\n",
    "        return history\n",
    "\n",
    "    def evaluate(self, X_test, y_test):\n",
    "        results = self.model.evaluate(X_test, y_test, verbose=0)\n",
    "        return results\n",
    "\n",
    "    def predict(self, X): #X_train X_test\n",
    "        predictions = self.model.predict(X)\n",
    "        return predictions\n",
    "    \n",
    "    def summary(self):\n",
    "        self.model.summary()\n",
    "        \n",
    "    def metrics_names(self):\n",
    "        return self.model.metrics_names\n",
    "        "
   ]
  },
  {
   "cell_type": "markdown",
   "id": "1df8cd83",
   "metadata": {},
   "source": [
    "## 5 CNN Model with 16 Lines"
   ]
  },
  {
   "cell_type": "markdown",
   "id": "b9720978",
   "metadata": {},
   "source": [
    "### Dataset"
   ]
  },
  {
   "cell_type": "code",
   "execution_count": 69,
   "id": "1906e669",
   "metadata": {},
   "outputs": [],
   "source": [
    "# prepare dataset\n",
    "\n",
    "df = df_damage_sixteen_min_max.drop(columns=columns)"
   ]
  },
  {
   "cell_type": "code",
   "execution_count": 70,
   "id": "de5bace7",
   "metadata": {},
   "outputs": [
    {
     "name": "stdout",
     "output_type": "stream",
     "text": [
      "Training features shape: (106, 20)\n",
      "Training labels shape: (106,) \n",
      "\n",
      "Validation features shape: (27, 20)\n",
      "Validation labels shape: (27,) \n",
      "\n",
      "Test features shape: (15, 20)\n",
      "Test labels shape: (15,) \n",
      "\n"
     ]
    }
   ],
   "source": [
    "# Split into sets for training, validation, and testing + use and save scaler\n",
    "\n",
    "X = df.drop(columns=['Damage'])\n",
    "y = df['Damage']\n",
    "\n",
    "X_train, X_test, y_train, y_test = train_test_split(X, y, test_size=0.1, random_state=random_state)\n",
    "X_train, X_val, y_train, y_val = train_test_split(X_train, y_train, test_size=0.2, random_state=random_state)\n",
    "\n",
    "scaler_sixteen = StandardScaler()\n",
    "X_train = scaler_sixteen.fit_transform(X_train)\n",
    "\n",
    "X_val = scaler_sixteen.transform(X_val)\n",
    "X_test = scaler_sixteen.transform(X_test)\n",
    "\n",
    "print('Training features shape:', X_train.shape)\n",
    "print('Training labels shape:', y_train.shape, '\\n')\n",
    "\n",
    "print('Validation features shape:', X_val.shape)\n",
    "print('Validation labels shape:', y_val.shape, '\\n')\n",
    "\n",
    "print('Test features shape:', X_test.shape)\n",
    "print('Test labels shape:', y_test.shape, '\\n')"
   ]
  },
  {
   "cell_type": "markdown",
   "id": "2201504e",
   "metadata": {},
   "source": [
    "### Model"
   ]
  },
  {
   "cell_type": "code",
   "execution_count": 71,
   "id": "96a0bf2f",
   "metadata": {},
   "outputs": [
    {
     "name": "stdout",
     "output_type": "stream",
     "text": [
      "Before: (20,)\n",
      "After: (20, 1)\n",
      "Classes: 1\n",
      "Model: \"sequential_4\"\n",
      "_________________________________________________________________\n",
      " Layer (type)                Output Shape              Param #   \n",
      "=================================================================\n",
      " conv1d (Conv1D)             (None, 18, 8)             32        \n",
      "                                                                 \n",
      " conv1d_1 (Conv1D)           (None, 16, 16)            400       \n",
      "                                                                 \n",
      " max_pooling1d (MaxPooling1D  (None, 8, 16)            0         \n",
      " )                                                               \n",
      "                                                                 \n",
      " dropout (Dropout)           (None, 8, 16)             0         \n",
      "                                                                 \n",
      " flatten (Flatten)           (None, 128)               0         \n",
      "                                                                 \n",
      " dense_12 (Dense)            (None, 8)                 1032      \n",
      "                                                                 \n",
      " dense_13 (Dense)            (None, 1)                 9         \n",
      "                                                                 \n",
      "=================================================================\n",
      "Total params: 1,473\n",
      "Trainable params: 1,473\n",
      "Non-trainable params: 0\n",
      "_________________________________________________________________\n"
     ]
    }
   ],
   "source": [
    "orig_shape = X_train.shape[1:]\n",
    "X_train = X_train.reshape((X_train.shape[0], X_train.shape[1], 1))\n",
    "X_test = X_test.reshape((X_test.shape[0], X_test.shape[1], 1))\n",
    "\n",
    "X_val = X_val.reshape((X_val.shape[0], X_val.shape[1], 1))\n",
    "\n",
    "in_shape = X_train.shape[1:]\n",
    "print(\"Before: {0}\".format(orig_shape))\n",
    "print(\"After: {0}\".format(in_shape))\n",
    "\n",
    "n_classes = len(unique(y_train))\n",
    "n_classes = 1\n",
    "print(\"Classes: {0}\".format(n_classes))\n",
    "\n",
    "model = CNNModel(in_shape, n_classes)\n",
    "model.summary()"
   ]
  },
  {
   "cell_type": "code",
   "execution_count": 72,
   "id": "a4cb90a6",
   "metadata": {},
   "outputs": [
    {
     "name": "stdout",
     "output_type": "stream",
     "text": [
      "Epoch 1/50\n",
      "4/4 [==============================] - 2s 159ms/step - loss: 1.8476 - tp: 10.0000 - fp: 39.0000 - tn: 36.0000 - fn: 36.0000 - accuracy: 0.3802 - precision: 0.2041 - recall: 0.2174 - auc: 0.2849 - prc: 0.3040 - val_loss: 2.4513 - val_tp: 0.0000e+00 - val_fp: 0.0000e+00 - val_tn: 17.0000 - val_fn: 10.0000 - val_accuracy: 0.6296 - val_precision: 0.0000e+00 - val_recall: 0.0000e+00 - val_auc: 0.0294 - val_prc: 0.2147\n",
      "Epoch 2/50\n",
      "4/4 [==============================] - 0s 17ms/step - loss: 1.7363 - tp: 9.0000 - fp: 23.0000 - tn: 45.0000 - fn: 29.0000 - accuracy: 0.5094 - precision: 0.2812 - recall: 0.2368 - auc: 0.2848 - prc: 0.3161 - val_loss: 2.3906 - val_tp: 0.0000e+00 - val_fp: 0.0000e+00 - val_tn: 17.0000 - val_fn: 10.0000 - val_accuracy: 0.6296 - val_precision: 0.0000e+00 - val_recall: 0.0000e+00 - val_auc: 0.0294 - val_prc: 0.2147\n",
      "Epoch 3/50\n",
      "4/4 [==============================] - 0s 17ms/step - loss: 1.7185 - tp: 10.0000 - fp: 23.0000 - tn: 45.0000 - fn: 28.0000 - accuracy: 0.5189 - precision: 0.3030 - recall: 0.2632 - auc: 0.3098 - prc: 0.3645 - val_loss: 2.3297 - val_tp: 0.0000e+00 - val_fp: 0.0000e+00 - val_tn: 17.0000 - val_fn: 10.0000 - val_accuracy: 0.6296 - val_precision: 0.0000e+00 - val_recall: 0.0000e+00 - val_auc: 0.0412 - val_prc: 0.2155\n",
      "Epoch 4/50\n",
      "4/4 [==============================] - 0s 17ms/step - loss: 1.6856 - tp: 10.0000 - fp: 22.0000 - tn: 46.0000 - fn: 28.0000 - accuracy: 0.5283 - precision: 0.3125 - recall: 0.2632 - auc: 0.3212 - prc: 0.3405 - val_loss: 2.2713 - val_tp: 0.0000e+00 - val_fp: 0.0000e+00 - val_tn: 17.0000 - val_fn: 10.0000 - val_accuracy: 0.6296 - val_precision: 0.0000e+00 - val_recall: 0.0000e+00 - val_auc: 0.0412 - val_prc: 0.2155\n",
      "Epoch 5/50\n",
      "4/4 [==============================] - 0s 17ms/step - loss: 1.6464 - tp: 9.0000 - fp: 28.0000 - tn: 40.0000 - fn: 29.0000 - accuracy: 0.4623 - precision: 0.2432 - recall: 0.2368 - auc: 0.2800 - prc: 0.3401 - val_loss: 2.2100 - val_tp: 0.0000e+00 - val_fp: 0.0000e+00 - val_tn: 17.0000 - val_fn: 10.0000 - val_accuracy: 0.6296 - val_precision: 0.0000e+00 - val_recall: 0.0000e+00 - val_auc: 0.0412 - val_prc: 0.2155\n",
      "Epoch 6/50\n",
      "4/4 [==============================] - 0s 17ms/step - loss: 1.7638 - tp: 8.0000 - fp: 27.0000 - tn: 41.0000 - fn: 30.0000 - accuracy: 0.4623 - precision: 0.2286 - recall: 0.2105 - auc: 0.2802 - prc: 0.2856 - val_loss: 2.1486 - val_tp: 0.0000e+00 - val_fp: 0.0000e+00 - val_tn: 17.0000 - val_fn: 10.0000 - val_accuracy: 0.6296 - val_precision: 0.0000e+00 - val_recall: 0.0000e+00 - val_auc: 0.0471 - val_prc: 0.2159\n",
      "Epoch 7/50\n",
      "4/4 [==============================] - 0s 17ms/step - loss: 2.0008 - tp: 7.0000 - fp: 26.0000 - tn: 42.0000 - fn: 31.0000 - accuracy: 0.4623 - precision: 0.2121 - recall: 0.1842 - auc: 0.2659 - prc: 0.3108 - val_loss: 2.0873 - val_tp: 0.0000e+00 - val_fp: 0.0000e+00 - val_tn: 17.0000 - val_fn: 10.0000 - val_accuracy: 0.6296 - val_precision: 0.0000e+00 - val_recall: 0.0000e+00 - val_auc: 0.0471 - val_prc: 0.2159\n",
      "Epoch 8/50\n",
      "4/4 [==============================] - 0s 17ms/step - loss: 1.6905 - tp: 9.0000 - fp: 21.0000 - tn: 47.0000 - fn: 29.0000 - accuracy: 0.5283 - precision: 0.3000 - recall: 0.2368 - auc: 0.2804 - prc: 0.3082 - val_loss: 2.0234 - val_tp: 0.0000e+00 - val_fp: 0.0000e+00 - val_tn: 17.0000 - val_fn: 10.0000 - val_accuracy: 0.6296 - val_precision: 0.0000e+00 - val_recall: 0.0000e+00 - val_auc: 0.0471 - val_prc: 0.2159\n",
      "Epoch 9/50\n",
      "4/4 [==============================] - 0s 17ms/step - loss: 2.0542 - tp: 6.0000 - fp: 27.0000 - tn: 41.0000 - fn: 32.0000 - accuracy: 0.4434 - precision: 0.1818 - recall: 0.1579 - auc: 0.2264 - prc: 0.2422 - val_loss: 1.9607 - val_tp: 0.0000e+00 - val_fp: 0.0000e+00 - val_tn: 17.0000 - val_fn: 10.0000 - val_accuracy: 0.6296 - val_precision: 0.0000e+00 - val_recall: 0.0000e+00 - val_auc: 0.0500 - val_prc: 0.2160\n",
      "Epoch 10/50\n",
      "4/4 [==============================] - 0s 18ms/step - loss: 1.6758 - tp: 8.0000 - fp: 29.0000 - tn: 39.0000 - fn: 30.0000 - accuracy: 0.4434 - precision: 0.2162 - recall: 0.2105 - auc: 0.2604 - prc: 0.3217 - val_loss: 1.9000 - val_tp: 0.0000e+00 - val_fp: 0.0000e+00 - val_tn: 17.0000 - val_fn: 10.0000 - val_accuracy: 0.6296 - val_precision: 0.0000e+00 - val_recall: 0.0000e+00 - val_auc: 0.0588 - val_prc: 0.2168\n",
      "Epoch 11/50\n",
      "4/4 [==============================] - 0s 25ms/step - loss: 1.4617 - tp: 11.0000 - fp: 25.0000 - tn: 43.0000 - fn: 27.0000 - accuracy: 0.5094 - precision: 0.3056 - recall: 0.2895 - auc: 0.3841 - prc: 0.4120 - val_loss: 1.8464 - val_tp: 0.0000e+00 - val_fp: 0.0000e+00 - val_tn: 17.0000 - val_fn: 10.0000 - val_accuracy: 0.6296 - val_precision: 0.0000e+00 - val_recall: 0.0000e+00 - val_auc: 0.0618 - val_prc: 0.2172\n",
      "Epoch 12/50\n",
      "4/4 [==============================] - 0s 17ms/step - loss: 1.6128 - tp: 11.0000 - fp: 36.0000 - tn: 32.0000 - fn: 27.0000 - accuracy: 0.4057 - precision: 0.2340 - recall: 0.2895 - auc: 0.2889 - prc: 0.3169 - val_loss: 1.7899 - val_tp: 0.0000e+00 - val_fp: 0.0000e+00 - val_tn: 17.0000 - val_fn: 10.0000 - val_accuracy: 0.6296 - val_precision: 0.0000e+00 - val_recall: 0.0000e+00 - val_auc: 0.0706 - val_prc: 0.2182\n",
      "Epoch 13/50\n",
      "4/4 [==============================] - 0s 17ms/step - loss: 1.5924 - tp: 11.0000 - fp: 26.0000 - tn: 42.0000 - fn: 27.0000 - accuracy: 0.5000 - precision: 0.2973 - recall: 0.2895 - auc: 0.3082 - prc: 0.3451 - val_loss: 1.7346 - val_tp: 0.0000e+00 - val_fp: 0.0000e+00 - val_tn: 17.0000 - val_fn: 10.0000 - val_accuracy: 0.6296 - val_precision: 0.0000e+00 - val_recall: 0.0000e+00 - val_auc: 0.0794 - val_prc: 0.2196\n",
      "Epoch 14/50\n",
      "4/4 [==============================] - 0s 16ms/step - loss: 1.6304 - tp: 5.0000 - fp: 25.0000 - tn: 43.0000 - fn: 33.0000 - accuracy: 0.4528 - precision: 0.1667 - recall: 0.1316 - auc: 0.2659 - prc: 0.2615 - val_loss: 1.6814 - val_tp: 0.0000e+00 - val_fp: 0.0000e+00 - val_tn: 17.0000 - val_fn: 10.0000 - val_accuracy: 0.6296 - val_precision: 0.0000e+00 - val_recall: 0.0000e+00 - val_auc: 0.0882 - val_prc: 0.2214\n",
      "Epoch 15/50\n",
      "4/4 [==============================] - 0s 16ms/step - loss: 1.1262 - tp: 12.0000 - fp: 23.0000 - tn: 45.0000 - fn: 26.0000 - accuracy: 0.5377 - precision: 0.3429 - recall: 0.3158 - auc: 0.3874 - prc: 0.4242 - val_loss: 1.6299 - val_tp: 0.0000e+00 - val_fp: 0.0000e+00 - val_tn: 17.0000 - val_fn: 10.0000 - val_accuracy: 0.6296 - val_precision: 0.0000e+00 - val_recall: 0.0000e+00 - val_auc: 0.0853 - val_prc: 0.2211\n",
      "Epoch 16/50\n",
      "4/4 [==============================] - 0s 17ms/step - loss: 1.4292 - tp: 11.0000 - fp: 27.0000 - tn: 41.0000 - fn: 27.0000 - accuracy: 0.4906 - precision: 0.2895 - recall: 0.2895 - auc: 0.3448 - prc: 0.4061 - val_loss: 1.5777 - val_tp: 0.0000e+00 - val_fp: 0.0000e+00 - val_tn: 17.0000 - val_fn: 10.0000 - val_accuracy: 0.6296 - val_precision: 0.0000e+00 - val_recall: 0.0000e+00 - val_auc: 0.0912 - val_prc: 0.2227\n",
      "Epoch 17/50\n",
      "4/4 [==============================] - 0s 17ms/step - loss: 1.6069 - tp: 9.0000 - fp: 21.0000 - tn: 47.0000 - fn: 29.0000 - accuracy: 0.5283 - precision: 0.3000 - recall: 0.2368 - auc: 0.2993 - prc: 0.3240 - val_loss: 1.5233 - val_tp: 0.0000e+00 - val_fp: 0.0000e+00 - val_tn: 17.0000 - val_fn: 10.0000 - val_accuracy: 0.6296 - val_precision: 0.0000e+00 - val_recall: 0.0000e+00 - val_auc: 0.0912 - val_prc: 0.2227\n",
      "Epoch 18/50\n",
      "4/4 [==============================] - 0s 17ms/step - loss: 1.4331 - tp: 13.0000 - fp: 16.0000 - tn: 52.0000 - fn: 25.0000 - accuracy: 0.6132 - precision: 0.4483 - recall: 0.3421 - auc: 0.3914 - prc: 0.4207 - val_loss: 1.4672 - val_tp: 0.0000e+00 - val_fp: 0.0000e+00 - val_tn: 17.0000 - val_fn: 10.0000 - val_accuracy: 0.6296 - val_precision: 0.0000e+00 - val_recall: 0.0000e+00 - val_auc: 0.0941 - val_prc: 0.2230\n",
      "Epoch 19/50\n",
      "4/4 [==============================] - 0s 17ms/step - loss: 1.0084 - tp: 16.0000 - fp: 20.0000 - tn: 48.0000 - fn: 22.0000 - accuracy: 0.6038 - precision: 0.4444 - recall: 0.4211 - auc: 0.5288 - prc: 0.5495 - val_loss: 1.4211 - val_tp: 0.0000e+00 - val_fp: 0.0000e+00 - val_tn: 17.0000 - val_fn: 10.0000 - val_accuracy: 0.6296 - val_precision: 0.0000e+00 - val_recall: 0.0000e+00 - val_auc: 0.0912 - val_prc: 0.2227\n",
      "Epoch 20/50\n"
     ]
    },
    {
     "name": "stdout",
     "output_type": "stream",
     "text": [
      "4/4 [==============================] - 0s 19ms/step - loss: 1.0171 - tp: 15.0000 - fp: 18.0000 - tn: 50.0000 - fn: 23.0000 - accuracy: 0.6132 - precision: 0.4545 - recall: 0.3947 - auc: 0.4814 - prc: 0.5116 - val_loss: 1.3766 - val_tp: 0.0000e+00 - val_fp: 0.0000e+00 - val_tn: 17.0000 - val_fn: 10.0000 - val_accuracy: 0.6296 - val_precision: 0.0000e+00 - val_recall: 0.0000e+00 - val_auc: 0.0971 - val_prc: 0.2233\n",
      "Epoch 21/50\n",
      "4/4 [==============================] - 0s 17ms/step - loss: 1.1922 - tp: 11.0000 - fp: 22.0000 - tn: 46.0000 - fn: 27.0000 - accuracy: 0.5377 - precision: 0.3333 - recall: 0.2895 - auc: 0.3957 - prc: 0.3922 - val_loss: 1.3236 - val_tp: 0.0000e+00 - val_fp: 0.0000e+00 - val_tn: 17.0000 - val_fn: 10.0000 - val_accuracy: 0.6296 - val_precision: 0.0000e+00 - val_recall: 0.0000e+00 - val_auc: 0.1088 - val_prc: 0.2248\n",
      "Epoch 22/50\n",
      "4/4 [==============================] - 0s 31ms/step - loss: 1.3551 - tp: 11.0000 - fp: 22.0000 - tn: 46.0000 - fn: 27.0000 - accuracy: 0.5377 - precision: 0.3333 - recall: 0.2895 - auc: 0.3781 - prc: 0.4293 - val_loss: 1.2712 - val_tp: 0.0000e+00 - val_fp: 0.0000e+00 - val_tn: 17.0000 - val_fn: 10.0000 - val_accuracy: 0.6296 - val_precision: 0.0000e+00 - val_recall: 0.0000e+00 - val_auc: 0.1118 - val_prc: 0.2252\n",
      "Epoch 23/50\n",
      "4/4 [==============================] - 0s 17ms/step - loss: 1.2384 - tp: 12.0000 - fp: 20.0000 - tn: 48.0000 - fn: 26.0000 - accuracy: 0.5660 - precision: 0.3750 - recall: 0.3158 - auc: 0.3916 - prc: 0.4513 - val_loss: 1.2167 - val_tp: 0.0000e+00 - val_fp: 0.0000e+00 - val_tn: 17.0000 - val_fn: 10.0000 - val_accuracy: 0.6296 - val_precision: 0.0000e+00 - val_recall: 0.0000e+00 - val_auc: 0.1471 - val_prc: 0.2309\n",
      "Epoch 24/50\n",
      "4/4 [==============================] - 0s 16ms/step - loss: 1.1103 - tp: 15.0000 - fp: 25.0000 - tn: 43.0000 - fn: 23.0000 - accuracy: 0.5472 - precision: 0.3750 - recall: 0.3947 - auc: 0.5106 - prc: 0.4487 - val_loss: 1.1690 - val_tp: 0.0000e+00 - val_fp: 0.0000e+00 - val_tn: 17.0000 - val_fn: 10.0000 - val_accuracy: 0.6296 - val_precision: 0.0000e+00 - val_recall: 0.0000e+00 - val_auc: 0.1735 - val_prc: 0.2364\n",
      "Epoch 25/50\n",
      "4/4 [==============================] - 0s 16ms/step - loss: 1.1401 - tp: 15.0000 - fp: 21.0000 - tn: 47.0000 - fn: 23.0000 - accuracy: 0.5849 - precision: 0.4167 - recall: 0.3947 - auc: 0.4487 - prc: 0.4949 - val_loss: 1.1212 - val_tp: 0.0000e+00 - val_fp: 0.0000e+00 - val_tn: 17.0000 - val_fn: 10.0000 - val_accuracy: 0.6296 - val_precision: 0.0000e+00 - val_recall: 0.0000e+00 - val_auc: 0.1941 - val_prc: 0.2403\n",
      "Epoch 26/50\n",
      "4/4 [==============================] - 0s 16ms/step - loss: 0.9590 - tp: 16.0000 - fp: 20.0000 - tn: 48.0000 - fn: 22.0000 - accuracy: 0.6038 - precision: 0.4444 - recall: 0.4211 - auc: 0.5230 - prc: 0.5783 - val_loss: 1.0758 - val_tp: 0.0000e+00 - val_fp: 0.0000e+00 - val_tn: 17.0000 - val_fn: 10.0000 - val_accuracy: 0.6296 - val_precision: 0.0000e+00 - val_recall: 0.0000e+00 - val_auc: 0.2088 - val_prc: 0.2447\n",
      "Epoch 27/50\n",
      "4/4 [==============================] - 0s 16ms/step - loss: 1.3338 - tp: 13.0000 - fp: 21.0000 - tn: 47.0000 - fn: 25.0000 - accuracy: 0.5660 - precision: 0.3824 - recall: 0.3421 - auc: 0.4245 - prc: 0.4338 - val_loss: 1.0291 - val_tp: 0.0000e+00 - val_fp: 0.0000e+00 - val_tn: 17.0000 - val_fn: 10.0000 - val_accuracy: 0.6296 - val_precision: 0.0000e+00 - val_recall: 0.0000e+00 - val_auc: 0.2941 - val_prc: 0.2700\n",
      "Epoch 28/50\n",
      "4/4 [==============================] - 0s 16ms/step - loss: 1.1267 - tp: 14.0000 - fp: 21.0000 - tn: 47.0000 - fn: 24.0000 - accuracy: 0.5755 - precision: 0.4000 - recall: 0.3684 - auc: 0.4791 - prc: 0.4997 - val_loss: 0.9885 - val_tp: 0.0000e+00 - val_fp: 0.0000e+00 - val_tn: 17.0000 - val_fn: 10.0000 - val_accuracy: 0.6296 - val_precision: 0.0000e+00 - val_recall: 0.0000e+00 - val_auc: 0.3412 - val_prc: 0.2839\n",
      "Epoch 29/50\n",
      "4/4 [==============================] - 0s 16ms/step - loss: 0.9175 - tp: 17.0000 - fp: 18.0000 - tn: 50.0000 - fn: 21.0000 - accuracy: 0.6321 - precision: 0.4857 - recall: 0.4474 - auc: 0.5325 - prc: 0.5530 - val_loss: 0.9489 - val_tp: 0.0000e+00 - val_fp: 0.0000e+00 - val_tn: 17.0000 - val_fn: 10.0000 - val_accuracy: 0.6296 - val_precision: 0.0000e+00 - val_recall: 0.0000e+00 - val_auc: 0.4059 - val_prc: 0.3248\n",
      "Epoch 30/50\n",
      "4/4 [==============================] - 0s 17ms/step - loss: 1.3122 - tp: 13.0000 - fp: 20.0000 - tn: 48.0000 - fn: 25.0000 - accuracy: 0.5755 - precision: 0.3939 - recall: 0.3421 - auc: 0.4425 - prc: 0.4579 - val_loss: 0.9071 - val_tp: 0.0000e+00 - val_fp: 0.0000e+00 - val_tn: 17.0000 - val_fn: 10.0000 - val_accuracy: 0.6296 - val_precision: 0.0000e+00 - val_recall: 0.0000e+00 - val_auc: 0.4471 - val_prc: 0.4601\n",
      "Epoch 31/50\n",
      "4/4 [==============================] - 0s 16ms/step - loss: 1.0459 - tp: 17.0000 - fp: 24.0000 - tn: 44.0000 - fn: 21.0000 - accuracy: 0.5755 - precision: 0.4146 - recall: 0.4474 - auc: 0.4756 - prc: 0.4585 - val_loss: 0.8644 - val_tp: 0.0000e+00 - val_fp: 0.0000e+00 - val_tn: 17.0000 - val_fn: 10.0000 - val_accuracy: 0.6296 - val_precision: 0.0000e+00 - val_recall: 0.0000e+00 - val_auc: 0.4735 - val_prc: 0.5125\n",
      "Epoch 32/50\n",
      "4/4 [==============================] - 0s 17ms/step - loss: 0.9123 - tp: 19.0000 - fp: 19.0000 - tn: 49.0000 - fn: 19.0000 - accuracy: 0.6415 - precision: 0.5000 - recall: 0.5000 - auc: 0.5789 - prc: 0.5957 - val_loss: 0.8279 - val_tp: 1.0000 - val_fp: 0.0000e+00 - val_tn: 17.0000 - val_fn: 9.0000 - val_accuracy: 0.6667 - val_precision: 1.0000 - val_recall: 0.1000 - val_auc: 0.5059 - val_prc: 0.5704\n",
      "Epoch 33/50\n",
      "4/4 [==============================] - 0s 16ms/step - loss: 1.1940 - tp: 12.0000 - fp: 21.0000 - tn: 47.0000 - fn: 26.0000 - accuracy: 0.5566 - precision: 0.3636 - recall: 0.3158 - auc: 0.4029 - prc: 0.4458 - val_loss: 0.7928 - val_tp: 1.0000 - val_fp: 0.0000e+00 - val_tn: 17.0000 - val_fn: 9.0000 - val_accuracy: 0.6667 - val_precision: 1.0000 - val_recall: 0.1000 - val_auc: 0.5441 - val_prc: 0.6097\n",
      "Epoch 34/50\n",
      "4/4 [==============================] - 0s 17ms/step - loss: 0.9488 - tp: 16.0000 - fp: 16.0000 - tn: 52.0000 - fn: 22.0000 - accuracy: 0.6415 - precision: 0.5000 - recall: 0.4211 - auc: 0.5267 - prc: 0.5626 - val_loss: 0.7573 - val_tp: 2.0000 - val_fp: 0.0000e+00 - val_tn: 17.0000 - val_fn: 8.0000 - val_accuracy: 0.7037 - val_precision: 1.0000 - val_recall: 0.2000 - val_auc: 0.5676 - val_prc: 0.6206\n",
      "Epoch 35/50\n",
      "4/4 [==============================] - 0s 16ms/step - loss: 0.9897 - tp: 13.0000 - fp: 18.0000 - tn: 50.0000 - fn: 25.0000 - accuracy: 0.5943 - precision: 0.4194 - recall: 0.3421 - auc: 0.4768 - prc: 0.5348 - val_loss: 0.7233 - val_tp: 2.0000 - val_fp: 0.0000e+00 - val_tn: 17.0000 - val_fn: 8.0000 - val_accuracy: 0.7037 - val_precision: 1.0000 - val_recall: 0.2000 - val_auc: 0.6059 - val_prc: 0.6399\n",
      "Epoch 36/50\n",
      "4/4 [==============================] - 0s 18ms/step - loss: 0.9554 - tp: 14.0000 - fp: 19.0000 - tn: 49.0000 - fn: 24.0000 - accuracy: 0.5943 - precision: 0.4242 - recall: 0.3684 - auc: 0.5029 - prc: 0.5326 - val_loss: 0.6931 - val_tp: 3.0000 - val_fp: 0.0000e+00 - val_tn: 17.0000 - val_fn: 7.0000 - val_accuracy: 0.7407 - val_precision: 1.0000 - val_recall: 0.3000 - val_auc: 0.6529 - val_prc: 0.6743\n",
      "Epoch 37/50\n",
      "4/4 [==============================] - 0s 17ms/step - loss: 0.9401 - tp: 15.0000 - fp: 21.0000 - tn: 47.0000 - fn: 23.0000 - accuracy: 0.5849 - precision: 0.4167 - recall: 0.3947 - auc: 0.4866 - prc: 0.5276 - val_loss: 0.6619 - val_tp: 3.0000 - val_fp: 0.0000e+00 - val_tn: 17.0000 - val_fn: 7.0000 - val_accuracy: 0.7407 - val_precision: 1.0000 - val_recall: 0.3000 - val_auc: 0.6735 - val_prc: 0.6891\n",
      "Epoch 38/50\n",
      "4/4 [==============================] - 0s 17ms/step - loss: 0.9803 - tp: 20.0000 - fp: 24.0000 - tn: 44.0000 - fn: 18.0000 - accuracy: 0.6038 - precision: 0.4545 - recall: 0.5263 - auc: 0.6163 - prc: 0.5917 - val_loss: 0.6347 - val_tp: 3.0000 - val_fp: 0.0000e+00 - val_tn: 17.0000 - val_fn: 7.0000 - val_accuracy: 0.7407 - val_precision: 1.0000 - val_recall: 0.3000 - val_auc: 0.7147 - val_prc: 0.7457\n",
      "Epoch 39/50\n"
     ]
    },
    {
     "name": "stdout",
     "output_type": "stream",
     "text": [
      "4/4 [==============================] - 0s 17ms/step - loss: 1.0585 - tp: 17.0000 - fp: 18.0000 - tn: 50.0000 - fn: 21.0000 - accuracy: 0.6321 - precision: 0.4857 - recall: 0.4474 - auc: 0.5197 - prc: 0.5637 - val_loss: 0.6107 - val_tp: 3.0000 - val_fp: 0.0000e+00 - val_tn: 17.0000 - val_fn: 7.0000 - val_accuracy: 0.7407 - val_precision: 1.0000 - val_recall: 0.3000 - val_auc: 0.7206 - val_prc: 0.7506\n",
      "Epoch 40/50\n",
      "4/4 [==============================] - 0s 16ms/step - loss: 1.1009 - tp: 10.0000 - fp: 16.0000 - tn: 52.0000 - fn: 28.0000 - accuracy: 0.5849 - precision: 0.3846 - recall: 0.2632 - auc: 0.3913 - prc: 0.4265 - val_loss: 0.5835 - val_tp: 3.0000 - val_fp: 0.0000e+00 - val_tn: 17.0000 - val_fn: 7.0000 - val_accuracy: 0.7407 - val_precision: 1.0000 - val_recall: 0.3000 - val_auc: 0.7529 - val_prc: 0.7900\n",
      "Epoch 41/50\n",
      "4/4 [==============================] - 0s 17ms/step - loss: 0.8552 - tp: 17.0000 - fp: 19.0000 - tn: 49.0000 - fn: 21.0000 - accuracy: 0.6226 - precision: 0.4722 - recall: 0.4474 - auc: 0.5747 - prc: 0.5988 - val_loss: 0.5554 - val_tp: 3.0000 - val_fp: 0.0000e+00 - val_tn: 17.0000 - val_fn: 7.0000 - val_accuracy: 0.7407 - val_precision: 1.0000 - val_recall: 0.3000 - val_auc: 0.7706 - val_prc: 0.8183\n",
      "Epoch 42/50\n",
      "4/4 [==============================] - 0s 17ms/step - loss: 0.9869 - tp: 16.0000 - fp: 19.0000 - tn: 49.0000 - fn: 22.0000 - accuracy: 0.6132 - precision: 0.4571 - recall: 0.4211 - auc: 0.5635 - prc: 0.5531 - val_loss: 0.5309 - val_tp: 4.0000 - val_fp: 0.0000e+00 - val_tn: 17.0000 - val_fn: 6.0000 - val_accuracy: 0.7778 - val_precision: 1.0000 - val_recall: 0.4000 - val_auc: 0.7706 - val_prc: 0.8183\n",
      "Epoch 43/50\n",
      "4/4 [==============================] - 0s 17ms/step - loss: 0.9607 - tp: 16.0000 - fp: 21.0000 - tn: 47.0000 - fn: 22.0000 - accuracy: 0.5943 - precision: 0.4324 - recall: 0.4211 - auc: 0.5023 - prc: 0.5390 - val_loss: 0.5084 - val_tp: 4.0000 - val_fp: 0.0000e+00 - val_tn: 17.0000 - val_fn: 6.0000 - val_accuracy: 0.7778 - val_precision: 1.0000 - val_recall: 0.4000 - val_auc: 0.7735 - val_prc: 0.8192\n",
      "Epoch 44/50\n",
      "4/4 [==============================] - 0s 16ms/step - loss: 0.7153 - tp: 23.0000 - fp: 14.0000 - tn: 54.0000 - fn: 15.0000 - accuracy: 0.7264 - precision: 0.6216 - recall: 0.6053 - auc: 0.6527 - prc: 0.6927 - val_loss: 0.4886 - val_tp: 5.0000 - val_fp: 0.0000e+00 - val_tn: 17.0000 - val_fn: 5.0000 - val_accuracy: 0.8148 - val_precision: 1.0000 - val_recall: 0.5000 - val_auc: 0.7882 - val_prc: 0.8246\n",
      "Epoch 45/50\n",
      "4/4 [==============================] - 0s 16ms/step - loss: 0.6997 - tp: 24.0000 - fp: 16.0000 - tn: 52.0000 - fn: 14.0000 - accuracy: 0.7170 - precision: 0.6000 - recall: 0.6316 - auc: 0.7132 - prc: 0.7349 - val_loss: 0.4734 - val_tp: 6.0000 - val_fp: 0.0000e+00 - val_tn: 17.0000 - val_fn: 4.0000 - val_accuracy: 0.8519 - val_precision: 1.0000 - val_recall: 0.6000 - val_auc: 0.8059 - val_prc: 0.8320\n",
      "Epoch 46/50\n",
      "4/4 [==============================] - 0s 16ms/step - loss: 0.9213 - tp: 20.0000 - fp: 20.0000 - tn: 48.0000 - fn: 18.0000 - accuracy: 0.6415 - precision: 0.5000 - recall: 0.5263 - auc: 0.5919 - prc: 0.6026 - val_loss: 0.4586 - val_tp: 6.0000 - val_fp: 0.0000e+00 - val_tn: 17.0000 - val_fn: 4.0000 - val_accuracy: 0.8519 - val_precision: 1.0000 - val_recall: 0.6000 - val_auc: 0.8294 - val_prc: 0.8458\n",
      "Epoch 47/50\n",
      "4/4 [==============================] - 0s 16ms/step - loss: 0.7380 - tp: 21.0000 - fp: 20.0000 - tn: 48.0000 - fn: 17.0000 - accuracy: 0.6509 - precision: 0.5122 - recall: 0.5526 - auc: 0.6604 - prc: 0.6686 - val_loss: 0.4425 - val_tp: 6.0000 - val_fp: 0.0000e+00 - val_tn: 17.0000 - val_fn: 4.0000 - val_accuracy: 0.8519 - val_precision: 1.0000 - val_recall: 0.6000 - val_auc: 0.8412 - val_prc: 0.8533\n",
      "Epoch 48/50\n",
      "4/4 [==============================] - 0s 16ms/step - loss: 0.6529 - tp: 18.0000 - fp: 15.0000 - tn: 53.0000 - fn: 20.0000 - accuracy: 0.6698 - precision: 0.5455 - recall: 0.4737 - auc: 0.6440 - prc: 0.6567 - val_loss: 0.4296 - val_tp: 6.0000 - val_fp: 0.0000e+00 - val_tn: 17.0000 - val_fn: 4.0000 - val_accuracy: 0.8519 - val_precision: 1.0000 - val_recall: 0.6000 - val_auc: 0.8529 - val_prc: 0.8671\n",
      "Epoch 49/50\n",
      "4/4 [==============================] - 0s 19ms/step - loss: 0.8823 - tp: 22.0000 - fp: 25.0000 - tn: 43.0000 - fn: 16.0000 - accuracy: 0.6132 - precision: 0.4681 - recall: 0.5789 - auc: 0.6116 - prc: 0.5989 - val_loss: 0.4182 - val_tp: 6.0000 - val_fp: 0.0000e+00 - val_tn: 17.0000 - val_fn: 4.0000 - val_accuracy: 0.8519 - val_precision: 1.0000 - val_recall: 0.6000 - val_auc: 0.8706 - val_prc: 0.8862\n",
      "Epoch 50/50\n",
      "4/4 [==============================] - 0s 21ms/step - loss: 0.7590 - tp: 21.0000 - fp: 19.0000 - tn: 49.0000 - fn: 17.0000 - accuracy: 0.6604 - precision: 0.5250 - recall: 0.5526 - auc: 0.6453 - prc: 0.6658 - val_loss: 0.4046 - val_tp: 6.0000 - val_fp: 0.0000e+00 - val_tn: 17.0000 - val_fn: 4.0000 - val_accuracy: 0.8519 - val_precision: 1.0000 - val_recall: 0.6000 - val_auc: 0.8765 - val_prc: 0.8937\n"
     ]
    }
   ],
   "source": [
    "history = model.train(X_train, y_train, X_val, y_val, epochs, batch_size, early_stopping)\n",
    "#plt.plot(history.history['loss'])\n",
    "#plt.show()"
   ]
  },
  {
   "cell_type": "code",
   "execution_count": 73,
   "id": "21a59dcb",
   "metadata": {},
   "outputs": [
    {
     "data": {
      "text/plain": [
       "0"
      ]
     },
     "execution_count": 73,
     "metadata": {},
     "output_type": "execute_result"
    }
   ],
   "source": [
    "early_stopping.stopped_epoch"
   ]
  },
  {
   "cell_type": "code",
   "execution_count": 74,
   "id": "751d3bf8",
   "metadata": {},
   "outputs": [],
   "source": [
    "#plot_loss(history, \"Bias\", 0)\n",
    "#plt.show()"
   ]
  },
  {
   "cell_type": "code",
   "execution_count": 75,
   "id": "e51807ce",
   "metadata": {},
   "outputs": [],
   "source": [
    "#plot_metrics(history)\n",
    "#plt.show()"
   ]
  },
  {
   "cell_type": "code",
   "execution_count": 76,
   "id": "2dff2936",
   "metadata": {},
   "outputs": [
    {
     "name": "stdout",
     "output_type": "stream",
     "text": [
      "4/4 [==============================] - 0s 2ms/step\n",
      "1/1 [==============================] - 0s 27ms/step\n",
      "loss :  0.36068207025527954\n",
      "tp :  4.0\n",
      "fp :  0.0\n",
      "tn :  9.0\n",
      "fn :  2.0\n",
      "accuracy :  0.8666666746139526\n",
      "precision :  1.0\n",
      "recall :  0.6666666865348816\n",
      "auc :  0.8888888359069824\n",
      "prc :  0.9129886031150818\n"
     ]
    }
   ],
   "source": [
    "predictions_train = model.predict(X_train)\n",
    "predictions_test = model.predict(X_test)\n",
    "\n",
    "# Confusion matrix\n",
    "results = model.evaluate(X_test, y_test)\n",
    "for name, value in zip(model.metrics_names(), results):\n",
    "    print(name, ': ', value)\n",
    "    if name == 'accuracy':\n",
    "        accuracy_sixteen_min_max.append(value)"
   ]
  },
  {
   "cell_type": "code",
   "execution_count": 77,
   "id": "50742dbd",
   "metadata": {},
   "outputs": [
    {
     "name": "stdout",
     "output_type": "stream",
     "text": [
      "True Negatives:  9\n",
      "False Positives:  0\n",
      "False Negatives:  2\n",
      "True Positives:  4\n",
      "Total:  6\n"
     ]
    },
    {
     "data": {
      "image/png": "[encoded data removed]",
      "text/plain": [
       "<Figure size 500x500 with 2 Axes>"
      ]
     },
     "metadata": {},
     "output_type": "display_data"
    }
   ],
   "source": [
    "plot_cm(y_test, predictions_test)\n",
    "plt.show()"
   ]
  },
  {
   "cell_type": "code",
   "execution_count": 78,
   "id": "6a0a98c5",
   "metadata": {},
   "outputs": [],
   "source": [
    "#plot_roc(\"Test Predictions\", y_test, predictions_test, color=colors[0], linestyle='--')\n",
    "#plt.legend(loc='lower right')\n",
    "#plt.show()"
   ]
  },
  {
   "cell_type": "code",
   "execution_count": 79,
   "id": "2595bfa2",
   "metadata": {},
   "outputs": [],
   "source": [
    "# Precision-Recall Curve (PRC)\n",
    "#plot_prc(\"Train Predictions\", y_train, predictions_train, color=colors[0])\n",
    "#plot_prc(\"Test Predictions\", y_test, predictions_test, color=colors[0], linestyle='--')\n",
    "#plt.legend(loc='lower right')\n",
    "#plt.show()"
   ]
  },
  {
   "cell_type": "code",
   "execution_count": 80,
   "id": "a136be41",
   "metadata": {},
   "outputs": [],
   "source": [
    "#STOP"
   ]
  },
  {
   "cell_type": "markdown",
   "id": "f056064d",
   "metadata": {},
   "source": [
    "## 6 CNN Model with 32 Lines"
   ]
  },
  {
   "cell_type": "markdown",
   "id": "e35a1c6b",
   "metadata": {},
   "source": [
    "### Dataset"
   ]
  },
  {
   "cell_type": "code",
   "execution_count": 81,
   "id": "543f5f81",
   "metadata": {},
   "outputs": [],
   "source": [
    "# prepare dataset\n",
    "\n",
    "df = df_damage_thirtytwo_min_max.drop(columns=columns)"
   ]
  },
  {
   "cell_type": "code",
   "execution_count": 82,
   "id": "21ddab05",
   "metadata": {},
   "outputs": [
    {
     "name": "stdout",
     "output_type": "stream",
     "text": [
      "Training features shape: (106, 36)\n",
      "Training labels shape: (106,) \n",
      "\n",
      "Validation features shape: (27, 36)\n",
      "Validation labels shape: (27,) \n",
      "\n",
      "Test features shape: (15, 36)\n",
      "Test labels shape: (15,) \n",
      "\n"
     ]
    }
   ],
   "source": [
    "# Split into sets for training, validation, and testing + use and save scaler\n",
    "\n",
    "X = df.drop(columns=['Damage'])\n",
    "y = df['Damage']\n",
    "\n",
    "X_train, X_test, y_train, y_test = train_test_split(X, y, test_size=0.1, random_state=random_state)\n",
    "X_train, X_val, y_train, y_val = train_test_split(X_train, y_train, test_size=0.2, random_state=random_state)\n",
    "\n",
    "scaler_sixteen = StandardScaler()\n",
    "X_train = scaler_sixteen.fit_transform(X_train)\n",
    "\n",
    "X_val = scaler_sixteen.transform(X_val)\n",
    "X_test = scaler_sixteen.transform(X_test)\n",
    "\n",
    "print('Training features shape:', X_train.shape)\n",
    "print('Training labels shape:', y_train.shape, '\\n')\n",
    "\n",
    "print('Validation features shape:', X_val.shape)\n",
    "print('Validation labels shape:', y_val.shape, '\\n')\n",
    "\n",
    "print('Test features shape:', X_test.shape)\n",
    "print('Test labels shape:', y_test.shape, '\\n')"
   ]
  },
  {
   "cell_type": "markdown",
   "id": "d1e8c739",
   "metadata": {},
   "source": [
    "### Model"
   ]
  },
  {
   "cell_type": "code",
   "execution_count": 83,
   "id": "a335cdbe",
   "metadata": {},
   "outputs": [
    {
     "name": "stdout",
     "output_type": "stream",
     "text": [
      "Before: (36,)\n",
      "After: (36, 1)\n",
      "Classes: 1\n",
      "Model: \"sequential_5\"\n",
      "_________________________________________________________________\n",
      " Layer (type)                Output Shape              Param #   \n",
      "=================================================================\n",
      " conv1d_2 (Conv1D)           (None, 34, 8)             32        \n",
      "                                                                 \n",
      " conv1d_3 (Conv1D)           (None, 32, 16)            400       \n",
      "                                                                 \n",
      " max_pooling1d_1 (MaxPooling  (None, 16, 16)           0         \n",
      " 1D)                                                             \n",
      "                                                                 \n",
      " dropout_1 (Dropout)         (None, 16, 16)            0         \n",
      "                                                                 \n",
      " flatten_1 (Flatten)         (None, 256)               0         \n",
      "                                                                 \n",
      " dense_14 (Dense)            (None, 8)                 2056      \n",
      "                                                                 \n",
      " dense_15 (Dense)            (None, 1)                 9         \n",
      "                                                                 \n",
      "=================================================================\n",
      "Total params: 2,497\n",
      "Trainable params: 2,497\n",
      "Non-trainable params: 0\n",
      "_________________________________________________________________\n"
     ]
    }
   ],
   "source": [
    "orig_shape = X_train.shape[1:]\n",
    "X_train = X_train.reshape((X_train.shape[0], X_train.shape[1], 1))\n",
    "X_test = X_test.reshape((X_test.shape[0], X_test.shape[1], 1))\n",
    "\n",
    "X_val = X_val.reshape((X_val.shape[0], X_val.shape[1], 1))\n",
    "\n",
    "in_shape = X_train.shape[1:]\n",
    "print(\"Before: {0}\".format(orig_shape))\n",
    "print(\"After: {0}\".format(in_shape))\n",
    "\n",
    "n_classes = len(unique(y_train))\n",
    "n_classes = 1\n",
    "print(\"Classes: {0}\".format(n_classes))\n",
    "\n",
    "model = CNNModel(in_shape, n_classes)\n",
    "model.summary()"
   ]
  },
  {
   "cell_type": "code",
   "execution_count": 84,
   "id": "b50d83d1",
   "metadata": {},
   "outputs": [
    {
     "name": "stdout",
     "output_type": "stream",
     "text": [
      "Epoch 1/50\n",
      "4/4 [==============================] - 2s 193ms/step - loss: 0.8525 - tp: 27.0000 - fp: 39.0000 - tn: 31.0000 - fn: 24.0000 - accuracy: 0.4793 - precision: 0.4091 - recall: 0.5294 - auc: 0.4653 - prc: 0.4098 - val_loss: 0.8182 - val_tp: 8.0000 - val_fp: 12.0000 - val_tn: 2.0000 - val_fn: 5.0000 - val_accuracy: 0.3704 - val_precision: 0.4000 - val_recall: 0.6154 - val_auc: 0.2033 - val_prc: 0.3289\n",
      "Epoch 2/50\n",
      "4/4 [==============================] - 0s 22ms/step - loss: 0.9235 - tp: 19.0000 - fp: 43.0000 - tn: 18.0000 - fn: 26.0000 - accuracy: 0.3491 - precision: 0.3065 - recall: 0.4222 - auc: 0.2885 - prc: 0.3053 - val_loss: 0.8040 - val_tp: 8.0000 - val_fp: 12.0000 - val_tn: 2.0000 - val_fn: 5.0000 - val_accuracy: 0.3704 - val_precision: 0.4000 - val_recall: 0.6154 - val_auc: 0.2143 - val_prc: 0.3318\n",
      "Epoch 3/50\n",
      "4/4 [==============================] - 0s 20ms/step - loss: 0.9293 - tp: 23.0000 - fp: 48.0000 - tn: 13.0000 - fn: 22.0000 - accuracy: 0.3396 - precision: 0.3239 - recall: 0.5111 - auc: 0.2572 - prc: 0.2954 - val_loss: 0.7897 - val_tp: 8.0000 - val_fp: 11.0000 - val_tn: 3.0000 - val_fn: 5.0000 - val_accuracy: 0.4074 - val_precision: 0.4211 - val_recall: 0.6154 - val_auc: 0.2280 - val_prc: 0.3354\n",
      "Epoch 4/50\n",
      "4/4 [==============================] - 0s 19ms/step - loss: 0.8084 - tp: 22.0000 - fp: 41.0000 - tn: 20.0000 - fn: 23.0000 - accuracy: 0.3962 - precision: 0.3492 - recall: 0.4889 - auc: 0.3732 - prc: 0.3476 - val_loss: 0.7767 - val_tp: 8.0000 - val_fp: 11.0000 - val_tn: 3.0000 - val_fn: 5.0000 - val_accuracy: 0.4074 - val_precision: 0.4211 - val_recall: 0.6154 - val_auc: 0.2500 - val_prc: 0.3437\n",
      "Epoch 5/50\n",
      "4/4 [==============================] - 0s 20ms/step - loss: 0.8193 - tp: 23.0000 - fp: 42.0000 - tn: 19.0000 - fn: 22.0000 - accuracy: 0.3962 - precision: 0.3538 - recall: 0.5111 - auc: 0.3647 - prc: 0.3513 - val_loss: 0.7651 - val_tp: 8.0000 - val_fp: 11.0000 - val_tn: 3.0000 - val_fn: 5.0000 - val_accuracy: 0.4074 - val_precision: 0.4211 - val_recall: 0.6154 - val_auc: 0.2692 - val_prc: 0.3495\n",
      "Epoch 6/50\n",
      "4/4 [==============================] - 0s 20ms/step - loss: 0.8265 - tp: 21.0000 - fp: 37.0000 - tn: 24.0000 - fn: 24.0000 - accuracy: 0.4245 - precision: 0.3621 - recall: 0.4667 - auc: 0.3769 - prc: 0.3464 - val_loss: 0.7550 - val_tp: 9.0000 - val_fp: 11.0000 - val_tn: 3.0000 - val_fn: 4.0000 - val_accuracy: 0.4444 - val_precision: 0.4500 - val_recall: 0.6923 - val_auc: 0.3049 - val_prc: 0.3622\n",
      "Epoch 7/50\n",
      "4/4 [==============================] - 0s 19ms/step - loss: 0.8167 - tp: 17.0000 - fp: 36.0000 - tn: 25.0000 - fn: 28.0000 - accuracy: 0.3962 - precision: 0.3208 - recall: 0.3778 - auc: 0.3719 - prc: 0.3564 - val_loss: 0.7458 - val_tp: 9.0000 - val_fp: 11.0000 - val_tn: 3.0000 - val_fn: 4.0000 - val_accuracy: 0.4444 - val_precision: 0.4500 - val_recall: 0.6923 - val_auc: 0.3407 - val_prc: 0.3820\n",
      "Epoch 8/50\n",
      "4/4 [==============================] - 0s 26ms/step - loss: 0.7240 - tp: 24.0000 - fp: 34.0000 - tn: 27.0000 - fn: 21.0000 - accuracy: 0.4811 - precision: 0.4138 - recall: 0.5333 - auc: 0.4927 - prc: 0.4311 - val_loss: 0.7373 - val_tp: 10.0000 - val_fp: 11.0000 - val_tn: 3.0000 - val_fn: 3.0000 - val_accuracy: 0.4815 - val_precision: 0.4762 - val_recall: 0.7692 - val_auc: 0.3626 - val_prc: 0.3915\n",
      "Epoch 9/50\n",
      "4/4 [==============================] - 0s 19ms/step - loss: 0.7460 - tp: 22.0000 - fp: 33.0000 - tn: 28.0000 - fn: 23.0000 - accuracy: 0.4717 - precision: 0.4000 - recall: 0.4889 - auc: 0.4630 - prc: 0.4070 - val_loss: 0.7293 - val_tp: 9.0000 - val_fp: 11.0000 - val_tn: 3.0000 - val_fn: 4.0000 - val_accuracy: 0.4444 - val_precision: 0.4500 - val_recall: 0.6923 - val_auc: 0.3929 - val_prc: 0.4126\n",
      "Epoch 10/50\n",
      "4/4 [==============================] - 0s 19ms/step - loss: 0.8160 - tp: 22.0000 - fp: 37.0000 - tn: 24.0000 - fn: 23.0000 - accuracy: 0.4340 - precision: 0.3729 - recall: 0.4889 - auc: 0.3874 - prc: 0.3417 - val_loss: 0.7210 - val_tp: 9.0000 - val_fp: 11.0000 - val_tn: 3.0000 - val_fn: 4.0000 - val_accuracy: 0.4444 - val_precision: 0.4500 - val_recall: 0.6923 - val_auc: 0.4423 - val_prc: 0.4424\n",
      "Epoch 11/50\n",
      "4/4 [==============================] - 0s 19ms/step - loss: 0.7331 - tp: 19.0000 - fp: 34.0000 - tn: 27.0000 - fn: 26.0000 - accuracy: 0.4340 - precision: 0.3585 - recall: 0.4222 - auc: 0.4701 - prc: 0.3985 - val_loss: 0.7129 - val_tp: 9.0000 - val_fp: 11.0000 - val_tn: 3.0000 - val_fn: 4.0000 - val_accuracy: 0.4444 - val_precision: 0.4500 - val_recall: 0.6923 - val_auc: 0.4725 - val_prc: 0.4673\n",
      "Epoch 12/50\n",
      "4/4 [==============================] - 0s 19ms/step - loss: 0.7336 - tp: 23.0000 - fp: 29.0000 - tn: 32.0000 - fn: 22.0000 - accuracy: 0.5189 - precision: 0.4423 - recall: 0.5111 - auc: 0.5204 - prc: 0.4470 - val_loss: 0.7050 - val_tp: 9.0000 - val_fp: 11.0000 - val_tn: 3.0000 - val_fn: 4.0000 - val_accuracy: 0.4444 - val_precision: 0.4500 - val_recall: 0.6923 - val_auc: 0.5137 - val_prc: 0.5043\n",
      "Epoch 13/50\n",
      "4/4 [==============================] - 0s 20ms/step - loss: 0.6707 - tp: 23.0000 - fp: 29.0000 - tn: 32.0000 - fn: 22.0000 - accuracy: 0.5189 - precision: 0.4423 - recall: 0.5111 - auc: 0.5820 - prc: 0.5305 - val_loss: 0.6971 - val_tp: 9.0000 - val_fp: 10.0000 - val_tn: 4.0000 - val_fn: 4.0000 - val_accuracy: 0.4815 - val_precision: 0.4737 - val_recall: 0.6923 - val_auc: 0.5714 - val_prc: 0.6119\n",
      "Epoch 14/50\n",
      "4/4 [==============================] - 0s 20ms/step - loss: 0.7138 - tp: 23.0000 - fp: 28.0000 - tn: 33.0000 - fn: 22.0000 - accuracy: 0.5283 - precision: 0.4510 - recall: 0.5111 - auc: 0.5087 - prc: 0.4508 - val_loss: 0.6893 - val_tp: 8.0000 - val_fp: 11.0000 - val_tn: 3.0000 - val_fn: 5.0000 - val_accuracy: 0.4074 - val_precision: 0.4211 - val_recall: 0.6154 - val_auc: 0.5852 - val_prc: 0.6218\n",
      "Epoch 15/50\n",
      "4/4 [==============================] - 0s 19ms/step - loss: 0.6926 - tp: 18.0000 - fp: 21.0000 - tn: 40.0000 - fn: 27.0000 - accuracy: 0.5472 - precision: 0.4615 - recall: 0.4000 - auc: 0.5650 - prc: 0.4603 - val_loss: 0.6817 - val_tp: 8.0000 - val_fp: 9.0000 - val_tn: 5.0000 - val_fn: 5.0000 - val_accuracy: 0.4815 - val_precision: 0.4706 - val_recall: 0.6154 - val_auc: 0.6264 - val_prc: 0.6957\n",
      "Epoch 16/50\n",
      "4/4 [==============================] - 0s 18ms/step - loss: 0.7342 - tp: 22.0000 - fp: 26.0000 - tn: 35.0000 - fn: 23.0000 - accuracy: 0.5377 - precision: 0.4583 - recall: 0.4889 - auc: 0.5038 - prc: 0.4268 - val_loss: 0.6726 - val_tp: 9.0000 - val_fp: 7.0000 - val_tn: 7.0000 - val_fn: 4.0000 - val_accuracy: 0.5926 - val_precision: 0.5625 - val_recall: 0.6923 - val_auc: 0.6648 - val_prc: 0.7380\n",
      "Epoch 17/50\n",
      "4/4 [==============================] - 0s 19ms/step - loss: 0.6742 - tp: 22.0000 - fp: 21.0000 - tn: 40.0000 - fn: 23.0000 - accuracy: 0.5849 - precision: 0.5116 - recall: 0.4889 - auc: 0.5991 - prc: 0.5089 - val_loss: 0.6621 - val_tp: 9.0000 - val_fp: 5.0000 - val_tn: 9.0000 - val_fn: 4.0000 - val_accuracy: 0.6667 - val_precision: 0.6429 - val_recall: 0.6923 - val_auc: 0.6923 - val_prc: 0.7673\n",
      "Epoch 18/50\n",
      "4/4 [==============================] - 0s 19ms/step - loss: 0.6624 - tp: 14.0000 - fp: 25.0000 - tn: 36.0000 - fn: 31.0000 - accuracy: 0.4717 - precision: 0.3590 - recall: 0.3111 - auc: 0.5778 - prc: 0.5018 - val_loss: 0.6520 - val_tp: 9.0000 - val_fp: 2.0000 - val_tn: 12.0000 - val_fn: 4.0000 - val_accuracy: 0.7778 - val_precision: 0.8182 - val_recall: 0.6923 - val_auc: 0.7308 - val_prc: 0.8135\n",
      "Epoch 19/50\n",
      "4/4 [==============================] - 0s 19ms/step - loss: 0.6908 - tp: 24.0000 - fp: 26.0000 - tn: 35.0000 - fn: 21.0000 - accuracy: 0.5566 - precision: 0.4800 - recall: 0.5333 - auc: 0.5791 - prc: 0.5430 - val_loss: 0.6429 - val_tp: 9.0000 - val_fp: 2.0000 - val_tn: 12.0000 - val_fn: 4.0000 - val_accuracy: 0.7778 - val_precision: 0.8182 - val_recall: 0.6923 - val_auc: 0.7802 - val_prc: 0.8458\n",
      "Epoch 20/50\n",
      "4/4 [==============================] - 0s 19ms/step - loss: 0.6237 - tp: 25.0000 - fp: 16.0000 - tn: 45.0000 - fn: 20.0000 - accuracy: 0.6604 - precision: 0.6098 - recall: 0.5556 - auc: 0.7016 - prc: 0.6131 - val_loss: 0.6337 - val_tp: 9.0000 - val_fp: 2.0000 - val_tn: 12.0000 - val_fn: 4.0000 - val_accuracy: 0.7778 - val_precision: 0.8182 - val_recall: 0.6923 - val_auc: 0.7830 - val_prc: 0.8506\n"
     ]
    },
    {
     "name": "stdout",
     "output_type": "stream",
     "text": [
      "Epoch 21/50\n",
      "4/4 [==============================] - 0s 18ms/step - loss: 0.6942 - tp: 17.0000 - fp: 23.0000 - tn: 38.0000 - fn: 28.0000 - accuracy: 0.5189 - precision: 0.4250 - recall: 0.3778 - auc: 0.5603 - prc: 0.4609 - val_loss: 0.6249 - val_tp: 9.0000 - val_fp: 1.0000 - val_tn: 13.0000 - val_fn: 4.0000 - val_accuracy: 0.8148 - val_precision: 0.9000 - val_recall: 0.6923 - val_auc: 0.8242 - val_prc: 0.8780\n",
      "Epoch 22/50\n",
      "4/4 [==============================] - 0s 22ms/step - loss: 0.6209 - tp: 25.0000 - fp: 17.0000 - tn: 44.0000 - fn: 20.0000 - accuracy: 0.6509 - precision: 0.5952 - recall: 0.5556 - auc: 0.6913 - prc: 0.6352 - val_loss: 0.6167 - val_tp: 9.0000 - val_fp: 1.0000 - val_tn: 13.0000 - val_fn: 4.0000 - val_accuracy: 0.8148 - val_precision: 0.9000 - val_recall: 0.6923 - val_auc: 0.8324 - val_prc: 0.8856\n",
      "Epoch 23/50\n",
      "4/4 [==============================] - 0s 18ms/step - loss: 0.6154 - tp: 25.0000 - fp: 13.0000 - tn: 48.0000 - fn: 20.0000 - accuracy: 0.6887 - precision: 0.6579 - recall: 0.5556 - auc: 0.7313 - prc: 0.7037 - val_loss: 0.6084 - val_tp: 8.0000 - val_fp: 1.0000 - val_tn: 13.0000 - val_fn: 5.0000 - val_accuracy: 0.7778 - val_precision: 0.8889 - val_recall: 0.6154 - val_auc: 0.8297 - val_prc: 0.8816\n",
      "Epoch 24/50\n",
      "4/4 [==============================] - 0s 18ms/step - loss: 0.6348 - tp: 20.0000 - fp: 15.0000 - tn: 46.0000 - fn: 25.0000 - accuracy: 0.6226 - precision: 0.5714 - recall: 0.4444 - auc: 0.6674 - prc: 0.6037 - val_loss: 0.6002 - val_tp: 8.0000 - val_fp: 1.0000 - val_tn: 13.0000 - val_fn: 5.0000 - val_accuracy: 0.7778 - val_precision: 0.8889 - val_recall: 0.6154 - val_auc: 0.8407 - val_prc: 0.8868\n",
      "Epoch 25/50\n",
      "4/4 [==============================] - 0s 19ms/step - loss: 0.6280 - tp: 24.0000 - fp: 22.0000 - tn: 39.0000 - fn: 21.0000 - accuracy: 0.5943 - precision: 0.5217 - recall: 0.5333 - auc: 0.6832 - prc: 0.6677 - val_loss: 0.5916 - val_tp: 8.0000 - val_fp: 1.0000 - val_tn: 13.0000 - val_fn: 5.0000 - val_accuracy: 0.7778 - val_precision: 0.8889 - val_recall: 0.6154 - val_auc: 0.8462 - val_prc: 0.8901\n",
      "Epoch 26/50\n",
      "4/4 [==============================] - 0s 20ms/step - loss: 0.5995 - tp: 27.0000 - fp: 13.0000 - tn: 48.0000 - fn: 18.0000 - accuracy: 0.7075 - precision: 0.6750 - recall: 0.6000 - auc: 0.7472 - prc: 0.6673 - val_loss: 0.5838 - val_tp: 8.0000 - val_fp: 1.0000 - val_tn: 13.0000 - val_fn: 5.0000 - val_accuracy: 0.7778 - val_precision: 0.8889 - val_recall: 0.6154 - val_auc: 0.8489 - val_prc: 0.8918\n",
      "Epoch 27/50\n",
      "4/4 [==============================] - 0s 18ms/step - loss: 0.5848 - tp: 23.0000 - fp: 12.0000 - tn: 49.0000 - fn: 22.0000 - accuracy: 0.6792 - precision: 0.6571 - recall: 0.5111 - auc: 0.7590 - prc: 0.7285 - val_loss: 0.5760 - val_tp: 9.0000 - val_fp: 1.0000 - val_tn: 13.0000 - val_fn: 4.0000 - val_accuracy: 0.8148 - val_precision: 0.9000 - val_recall: 0.6923 - val_auc: 0.8489 - val_prc: 0.8918\n",
      "Epoch 28/50\n",
      "4/4 [==============================] - 0s 18ms/step - loss: 0.6191 - tp: 24.0000 - fp: 18.0000 - tn: 43.0000 - fn: 21.0000 - accuracy: 0.6321 - precision: 0.5714 - recall: 0.5333 - auc: 0.6863 - prc: 0.6697 - val_loss: 0.5688 - val_tp: 9.0000 - val_fp: 1.0000 - val_tn: 13.0000 - val_fn: 4.0000 - val_accuracy: 0.8148 - val_precision: 0.9000 - val_recall: 0.6923 - val_auc: 0.8516 - val_prc: 0.8936\n",
      "Epoch 29/50\n",
      "4/4 [==============================] - 0s 18ms/step - loss: 0.5812 - tp: 27.0000 - fp: 16.0000 - tn: 45.0000 - fn: 18.0000 - accuracy: 0.6792 - precision: 0.6279 - recall: 0.6000 - auc: 0.7703 - prc: 0.7415 - val_loss: 0.5615 - val_tp: 9.0000 - val_fp: 1.0000 - val_tn: 13.0000 - val_fn: 4.0000 - val_accuracy: 0.8148 - val_precision: 0.9000 - val_recall: 0.6923 - val_auc: 0.8544 - val_prc: 0.8976\n",
      "Epoch 30/50\n",
      "4/4 [==============================] - 0s 19ms/step - loss: 0.5784 - tp: 19.0000 - fp: 13.0000 - tn: 48.0000 - fn: 26.0000 - accuracy: 0.6321 - precision: 0.5938 - recall: 0.4222 - auc: 0.7776 - prc: 0.6769 - val_loss: 0.5540 - val_tp: 9.0000 - val_fp: 1.0000 - val_tn: 13.0000 - val_fn: 4.0000 - val_accuracy: 0.8148 - val_precision: 0.9000 - val_recall: 0.6923 - val_auc: 0.8571 - val_prc: 0.9006\n",
      "Epoch 31/50\n",
      "4/4 [==============================] - 0s 19ms/step - loss: 0.6108 - tp: 26.0000 - fp: 16.0000 - tn: 45.0000 - fn: 19.0000 - accuracy: 0.6698 - precision: 0.6190 - recall: 0.5778 - auc: 0.7155 - prc: 0.6777 - val_loss: 0.5467 - val_tp: 9.0000 - val_fp: 1.0000 - val_tn: 13.0000 - val_fn: 4.0000 - val_accuracy: 0.8148 - val_precision: 0.9000 - val_recall: 0.6923 - val_auc: 0.8571 - val_prc: 0.8998\n",
      "Epoch 32/50\n",
      "4/4 [==============================] - 0s 18ms/step - loss: 0.6056 - tp: 24.0000 - fp: 15.0000 - tn: 46.0000 - fn: 21.0000 - accuracy: 0.6604 - precision: 0.6154 - recall: 0.5333 - auc: 0.7282 - prc: 0.6875 - val_loss: 0.5397 - val_tp: 9.0000 - val_fp: 1.0000 - val_tn: 13.0000 - val_fn: 4.0000 - val_accuracy: 0.8148 - val_precision: 0.9000 - val_recall: 0.6923 - val_auc: 0.8571 - val_prc: 0.8998\n",
      "Epoch 33/50\n",
      "4/4 [==============================] - 0s 18ms/step - loss: 0.5930 - tp: 25.0000 - fp: 12.0000 - tn: 49.0000 - fn: 20.0000 - accuracy: 0.6981 - precision: 0.6757 - recall: 0.5556 - auc: 0.7348 - prc: 0.7120 - val_loss: 0.5330 - val_tp: 9.0000 - val_fp: 1.0000 - val_tn: 13.0000 - val_fn: 4.0000 - val_accuracy: 0.8148 - val_precision: 0.9000 - val_recall: 0.6923 - val_auc: 0.8599 - val_prc: 0.8999\n",
      "Epoch 34/50\n",
      "4/4 [==============================] - 0s 19ms/step - loss: 0.5621 - tp: 23.0000 - fp: 6.0000 - tn: 55.0000 - fn: 22.0000 - accuracy: 0.7358 - precision: 0.7931 - recall: 0.5111 - auc: 0.7978 - prc: 0.7995 - val_loss: 0.5267 - val_tp: 9.0000 - val_fp: 1.0000 - val_tn: 13.0000 - val_fn: 4.0000 - val_accuracy: 0.8148 - val_precision: 0.9000 - val_recall: 0.6923 - val_auc: 0.8571 - val_prc: 0.8987\n",
      "Epoch 35/50\n",
      "4/4 [==============================] - 0s 18ms/step - loss: 0.5714 - tp: 25.0000 - fp: 10.0000 - tn: 51.0000 - fn: 20.0000 - accuracy: 0.7170 - precision: 0.7143 - recall: 0.5556 - auc: 0.7632 - prc: 0.7409 - val_loss: 0.5207 - val_tp: 9.0000 - val_fp: 1.0000 - val_tn: 13.0000 - val_fn: 4.0000 - val_accuracy: 0.8148 - val_precision: 0.9000 - val_recall: 0.6923 - val_auc: 0.8654 - val_prc: 0.9011\n",
      "Epoch 36/50\n",
      "4/4 [==============================] - 0s 18ms/step - loss: 0.5538 - tp: 26.0000 - fp: 9.0000 - tn: 52.0000 - fn: 19.0000 - accuracy: 0.7358 - precision: 0.7429 - recall: 0.5778 - auc: 0.8107 - prc: 0.7659 - val_loss: 0.5154 - val_tp: 9.0000 - val_fp: 1.0000 - val_tn: 13.0000 - val_fn: 4.0000 - val_accuracy: 0.8148 - val_precision: 0.9000 - val_recall: 0.6923 - val_auc: 0.8654 - val_prc: 0.8993\n",
      "Epoch 37/50\n",
      "4/4 [==============================] - 0s 19ms/step - loss: 0.5444 - tp: 28.0000 - fp: 10.0000 - tn: 51.0000 - fn: 17.0000 - accuracy: 0.7453 - precision: 0.7368 - recall: 0.6222 - auc: 0.8029 - prc: 0.7784 - val_loss: 0.5104 - val_tp: 9.0000 - val_fp: 1.0000 - val_tn: 13.0000 - val_fn: 4.0000 - val_accuracy: 0.8148 - val_precision: 0.9000 - val_recall: 0.6923 - val_auc: 0.8654 - val_prc: 0.8993\n",
      "Epoch 38/50\n",
      "4/4 [==============================] - 0s 19ms/step - loss: 0.5342 - tp: 28.0000 - fp: 11.0000 - tn: 50.0000 - fn: 17.0000 - accuracy: 0.7358 - precision: 0.7179 - recall: 0.6222 - auc: 0.8250 - prc: 0.8227 - val_loss: 0.5059 - val_tp: 9.0000 - val_fp: 1.0000 - val_tn: 13.0000 - val_fn: 4.0000 - val_accuracy: 0.8148 - val_precision: 0.9000 - val_recall: 0.6923 - val_auc: 0.8654 - val_prc: 0.8993\n",
      "Epoch 39/50\n",
      "4/4 [==============================] - 0s 19ms/step - loss: 0.5051 - tp: 32.0000 - fp: 8.0000 - tn: 53.0000 - fn: 13.0000 - accuracy: 0.8019 - precision: 0.8000 - recall: 0.7111 - auc: 0.8820 - prc: 0.8637 - val_loss: 0.5017 - val_tp: 9.0000 - val_fp: 1.0000 - val_tn: 13.0000 - val_fn: 4.0000 - val_accuracy: 0.8148 - val_precision: 0.9000 - val_recall: 0.6923 - val_auc: 0.8681 - val_prc: 0.9019\n",
      "Epoch 40/50\n",
      "4/4 [==============================] - 0s 19ms/step - loss: 0.5303 - tp: 31.0000 - fp: 10.0000 - tn: 51.0000 - fn: 14.0000 - accuracy: 0.7736 - precision: 0.7561 - recall: 0.6889 - auc: 0.8235 - prc: 0.8102 - val_loss: 0.4978 - val_tp: 9.0000 - val_fp: 1.0000 - val_tn: 13.0000 - val_fn: 4.0000 - val_accuracy: 0.8148 - val_precision: 0.9000 - val_recall: 0.6923 - val_auc: 0.8709 - val_prc: 0.9028\n"
     ]
    },
    {
     "name": "stdout",
     "output_type": "stream",
     "text": [
      "Epoch 41/50\n",
      "4/4 [==============================] - 0s 19ms/step - loss: 0.5095 - tp: 29.0000 - fp: 6.0000 - tn: 55.0000 - fn: 16.0000 - accuracy: 0.7925 - precision: 0.8286 - recall: 0.6444 - auc: 0.8565 - prc: 0.8245 - val_loss: 0.4942 - val_tp: 9.0000 - val_fp: 1.0000 - val_tn: 13.0000 - val_fn: 4.0000 - val_accuracy: 0.8148 - val_precision: 0.9000 - val_recall: 0.6923 - val_auc: 0.8736 - val_prc: 0.9038\n",
      "Epoch 42/50\n",
      "4/4 [==============================] - 0s 18ms/step - loss: 0.4903 - tp: 33.0000 - fp: 7.0000 - tn: 54.0000 - fn: 12.0000 - accuracy: 0.8208 - precision: 0.8250 - recall: 0.7333 - auc: 0.8869 - prc: 0.8822 - val_loss: 0.4905 - val_tp: 9.0000 - val_fp: 1.0000 - val_tn: 13.0000 - val_fn: 4.0000 - val_accuracy: 0.8148 - val_precision: 0.9000 - val_recall: 0.6923 - val_auc: 0.8736 - val_prc: 0.9038\n",
      "Epoch 43/50\n",
      "4/4 [==============================] - 0s 19ms/step - loss: 0.4870 - tp: 32.0000 - fp: 4.0000 - tn: 57.0000 - fn: 13.0000 - accuracy: 0.8396 - precision: 0.8889 - recall: 0.7111 - auc: 0.8927 - prc: 0.8789 - val_loss: 0.4868 - val_tp: 9.0000 - val_fp: 1.0000 - val_tn: 13.0000 - val_fn: 4.0000 - val_accuracy: 0.8148 - val_precision: 0.9000 - val_recall: 0.6923 - val_auc: 0.8736 - val_prc: 0.9026\n",
      "Epoch 44/50\n",
      "4/4 [==============================] - 0s 18ms/step - loss: 0.5140 - tp: 26.0000 - fp: 6.0000 - tn: 55.0000 - fn: 19.0000 - accuracy: 0.7642 - precision: 0.8125 - recall: 0.5778 - auc: 0.8404 - prc: 0.8270 - val_loss: 0.4835 - val_tp: 9.0000 - val_fp: 1.0000 - val_tn: 13.0000 - val_fn: 4.0000 - val_accuracy: 0.8148 - val_precision: 0.9000 - val_recall: 0.6923 - val_auc: 0.8736 - val_prc: 0.9016\n",
      "Epoch 45/50\n",
      "4/4 [==============================] - 0s 19ms/step - loss: 0.5046 - tp: 26.0000 - fp: 6.0000 - tn: 55.0000 - fn: 19.0000 - accuracy: 0.7642 - precision: 0.8125 - recall: 0.5778 - auc: 0.8415 - prc: 0.8166 - val_loss: 0.4804 - val_tp: 9.0000 - val_fp: 1.0000 - val_tn: 13.0000 - val_fn: 4.0000 - val_accuracy: 0.8148 - val_precision: 0.9000 - val_recall: 0.6923 - val_auc: 0.8681 - val_prc: 0.8980\n",
      "Epoch 46/50\n",
      "4/4 [==============================] - 0s 19ms/step - loss: 0.4827 - tp: 30.0000 - fp: 7.0000 - tn: 54.0000 - fn: 15.0000 - accuracy: 0.7925 - precision: 0.8108 - recall: 0.6667 - auc: 0.8698 - prc: 0.8671 - val_loss: 0.4776 - val_tp: 9.0000 - val_fp: 1.0000 - val_tn: 13.0000 - val_fn: 4.0000 - val_accuracy: 0.8148 - val_precision: 0.9000 - val_recall: 0.6923 - val_auc: 0.8681 - val_prc: 0.8980\n",
      "Epoch 47/50\n",
      "4/4 [==============================] - 0s 22ms/step - loss: 0.5027 - tp: 29.0000 - fp: 7.0000 - tn: 54.0000 - fn: 16.0000 - accuracy: 0.7830 - precision: 0.8056 - recall: 0.6444 - auc: 0.8486 - prc: 0.8266 - val_loss: 0.4749 - val_tp: 9.0000 - val_fp: 1.0000 - val_tn: 13.0000 - val_fn: 4.0000 - val_accuracy: 0.8148 - val_precision: 0.9000 - val_recall: 0.6923 - val_auc: 0.8681 - val_prc: 0.8980\n",
      "Epoch 48/50\n",
      "4/4 [==============================] - 0s 22ms/step - loss: 0.5111 - tp: 31.0000 - fp: 8.0000 - tn: 53.0000 - fn: 14.0000 - accuracy: 0.7925 - precision: 0.7949 - recall: 0.6889 - auc: 0.8495 - prc: 0.8440 - val_loss: 0.4721 - val_tp: 9.0000 - val_fp: 1.0000 - val_tn: 13.0000 - val_fn: 4.0000 - val_accuracy: 0.8148 - val_precision: 0.9000 - val_recall: 0.6923 - val_auc: 0.8681 - val_prc: 0.8980\n",
      "Epoch 49/50\n",
      "4/4 [==============================] - 0s 20ms/step - loss: 0.5008 - tp: 28.0000 - fp: 5.0000 - tn: 56.0000 - fn: 17.0000 - accuracy: 0.7925 - precision: 0.8485 - recall: 0.6222 - auc: 0.8508 - prc: 0.8596 - val_loss: 0.4696 - val_tp: 9.0000 - val_fp: 1.0000 - val_tn: 13.0000 - val_fn: 4.0000 - val_accuracy: 0.8148 - val_precision: 0.9000 - val_recall: 0.6923 - val_auc: 0.8681 - val_prc: 0.8980\n",
      "Epoch 50/50\n",
      "4/4 [==============================] - 0s 21ms/step - loss: 0.4541 - tp: 27.0000 - fp: 5.0000 - tn: 56.0000 - fn: 18.0000 - accuracy: 0.7830 - precision: 0.8438 - recall: 0.6000 - auc: 0.9004 - prc: 0.8913 - val_loss: 0.4672 - val_tp: 9.0000 - val_fp: 1.0000 - val_tn: 13.0000 - val_fn: 4.0000 - val_accuracy: 0.8148 - val_precision: 0.9000 - val_recall: 0.6923 - val_auc: 0.8681 - val_prc: 0.8980\n"
     ]
    }
   ],
   "source": [
    "history = model.train(X_train, y_train, X_val, y_val, epochs, batch_size, early_stopping)\n",
    "#plt.plot(history.history['loss'])\n",
    "#plt.show()"
   ]
  },
  {
   "cell_type": "code",
   "execution_count": 85,
   "id": "6210165d",
   "metadata": {},
   "outputs": [
    {
     "data": {
      "text/plain": [
       "0"
      ]
     },
     "execution_count": 85,
     "metadata": {},
     "output_type": "execute_result"
    }
   ],
   "source": [
    "early_stopping.stopped_epoch"
   ]
  },
  {
   "cell_type": "code",
   "execution_count": 86,
   "id": "294bd327",
   "metadata": {},
   "outputs": [],
   "source": [
    "#plot_loss(history, \"Bias\", 0)\n",
    "#plt.show()"
   ]
  },
  {
   "cell_type": "code",
   "execution_count": 87,
   "id": "5874e2cb",
   "metadata": {},
   "outputs": [],
   "source": [
    "#plot_metrics(history)\n",
    "#plt.show()"
   ]
  },
  {
   "cell_type": "code",
   "execution_count": 88,
   "id": "5523ca7b",
   "metadata": {},
   "outputs": [
    {
     "name": "stdout",
     "output_type": "stream",
     "text": [
      "4/4 [==============================] - 0s 2ms/step\n",
      "1/1 [==============================] - 0s 24ms/step\n",
      "loss :  0.30705711245536804\n",
      "tp :  5.0\n",
      "fp :  0.0\n",
      "tn :  9.0\n",
      "fn :  1.0\n",
      "accuracy :  0.9333333373069763\n",
      "precision :  1.0\n",
      "recall :  0.8333333134651184\n",
      "auc :  1.0\n",
      "prc :  1.0\n"
     ]
    }
   ],
   "source": [
    "predictions_train = model.predict(X_train)\n",
    "predictions_test = model.predict(X_test)\n",
    "\n",
    "# Confusion matrix\n",
    "results = model.evaluate(X_test, y_test)\n",
    "for name, value in zip(model.metrics_names(), results):\n",
    "    print(name, ': ', value)\n",
    "    if name == 'accuracy':\n",
    "        accuracy_thirtytwo_min_max.append(value)"
   ]
  },
  {
   "cell_type": "code",
   "execution_count": 89,
   "id": "ef27d0f2",
   "metadata": {},
   "outputs": [
    {
     "name": "stdout",
     "output_type": "stream",
     "text": [
      "True Negatives:  9\n",
      "False Positives:  0\n",
      "False Negatives:  1\n",
      "True Positives:  5\n",
      "Total:  6\n"
     ]
    },
    {
     "data": {
      "image/png": "[encoded data removed]",
      "text/plain": [
       "<Figure size 500x500 with 2 Axes>"
      ]
     },
     "metadata": {},
     "output_type": "display_data"
    }
   ],
   "source": [
    "plot_cm(y_test, predictions_test)\n",
    "plt.show()"
   ]
  },
  {
   "cell_type": "code",
   "execution_count": 90,
   "id": "ef47688f",
   "metadata": {},
   "outputs": [],
   "source": [
    "#plot_roc(\"Test Predictions\", y_test, predictions_test, color=colors[0], linestyle='--')\n",
    "#plt.legend(loc='lower right')\n",
    "#plt.show()"
   ]
  },
  {
   "cell_type": "code",
   "execution_count": 91,
   "id": "bb33f525",
   "metadata": {},
   "outputs": [],
   "source": [
    "# Precision-Recall Curve (PRC)\n",
    "#plot_prc(\"Train Predictions\", y_train, predictions_train, color=colors[0])\n",
    "#plot_prc(\"Test Predictions\", y_test, predictions_test, color=colors[0], linestyle='--')\n",
    "#plt.legend(loc='lower right')\n",
    "#plt.show()"
   ]
  },
  {
   "cell_type": "code",
   "execution_count": 92,
   "id": "18dc0868",
   "metadata": {},
   "outputs": [],
   "source": [
    "#STOP"
   ]
  },
  {
   "cell_type": "markdown",
   "id": "f93a3b9f",
   "metadata": {},
   "source": [
    "## 7 CNN Model with 16 Lines"
   ]
  },
  {
   "cell_type": "markdown",
   "id": "7894082c",
   "metadata": {},
   "source": [
    "### Dataset"
   ]
  },
  {
   "cell_type": "code",
   "execution_count": 93,
   "id": "2987e037",
   "metadata": {},
   "outputs": [],
   "source": [
    "# prepare dataset\n",
    "\n",
    "df = df_damage_sixteen_mean.drop(columns=columns)"
   ]
  },
  {
   "cell_type": "code",
   "execution_count": 94,
   "id": "ff886a39",
   "metadata": {},
   "outputs": [
    {
     "name": "stdout",
     "output_type": "stream",
     "text": [
      "Training features shape: (106, 20)\n",
      "Training labels shape: (106,) \n",
      "\n",
      "Validation features shape: (27, 20)\n",
      "Validation labels shape: (27,) \n",
      "\n",
      "Test features shape: (15, 20)\n",
      "Test labels shape: (15,) \n",
      "\n"
     ]
    }
   ],
   "source": [
    "# Split into sets for training, validation, and testing + use and save scaler\n",
    "\n",
    "X = df.drop(columns=['Damage'])\n",
    "y = df['Damage']\n",
    "\n",
    "X_train, X_test, y_train, y_test = train_test_split(X, y, test_size=0.1, random_state=random_state)\n",
    "X_train, X_val, y_train, y_val = train_test_split(X_train, y_train, test_size=0.2, random_state=random_state)\n",
    "\n",
    "scaler_sixteen = StandardScaler()\n",
    "X_train = scaler_sixteen.fit_transform(X_train)\n",
    "\n",
    "X_val = scaler_sixteen.transform(X_val)\n",
    "X_test = scaler_sixteen.transform(X_test)\n",
    "\n",
    "print('Training features shape:', X_train.shape)\n",
    "print('Training labels shape:', y_train.shape, '\\n')\n",
    "\n",
    "print('Validation features shape:', X_val.shape)\n",
    "print('Validation labels shape:', y_val.shape, '\\n')\n",
    "\n",
    "print('Test features shape:', X_test.shape)\n",
    "print('Test labels shape:', y_test.shape, '\\n')"
   ]
  },
  {
   "cell_type": "markdown",
   "id": "04cb9706",
   "metadata": {},
   "source": [
    "### Model"
   ]
  },
  {
   "cell_type": "code",
   "execution_count": 95,
   "id": "fe9772d6",
   "metadata": {},
   "outputs": [
    {
     "name": "stdout",
     "output_type": "stream",
     "text": [
      "Before: (20,)\n",
      "After: (20, 1)\n",
      "Classes: 1\n",
      "Model: \"sequential_6\"\n",
      "_________________________________________________________________\n",
      " Layer (type)                Output Shape              Param #   \n",
      "=================================================================\n",
      " conv1d_4 (Conv1D)           (None, 18, 8)             32        \n",
      "                                                                 \n",
      " conv1d_5 (Conv1D)           (None, 16, 16)            400       \n",
      "                                                                 \n",
      " max_pooling1d_2 (MaxPooling  (None, 8, 16)            0         \n",
      " 1D)                                                             \n",
      "                                                                 \n",
      " dropout_2 (Dropout)         (None, 8, 16)             0         \n",
      "                                                                 \n",
      " flatten_2 (Flatten)         (None, 128)               0         \n",
      "                                                                 \n",
      " dense_16 (Dense)            (None, 8)                 1032      \n",
      "                                                                 \n",
      " dense_17 (Dense)            (None, 1)                 9         \n",
      "                                                                 \n",
      "=================================================================\n",
      "Total params: 1,473\n",
      "Trainable params: 1,473\n",
      "Non-trainable params: 0\n",
      "_________________________________________________________________\n"
     ]
    }
   ],
   "source": [
    "orig_shape = X_train.shape[1:]\n",
    "X_train = X_train.reshape((X_train.shape[0], X_train.shape[1], 1))\n",
    "X_test = X_test.reshape((X_test.shape[0], X_test.shape[1], 1))\n",
    "\n",
    "X_val = X_val.reshape((X_val.shape[0], X_val.shape[1], 1))\n",
    "\n",
    "in_shape = X_train.shape[1:]\n",
    "print(\"Before: {0}\".format(orig_shape))\n",
    "print(\"After: {0}\".format(in_shape))\n",
    "\n",
    "n_classes = len(unique(y_train))\n",
    "n_classes = 1\n",
    "print(\"Classes: {0}\".format(n_classes))\n",
    "\n",
    "model = CNNModel(in_shape, n_classes)\n",
    "model.summary()"
   ]
  },
  {
   "cell_type": "code",
   "execution_count": 96,
   "id": "0e9b85f6",
   "metadata": {},
   "outputs": [
    {
     "name": "stdout",
     "output_type": "stream",
     "text": [
      "Epoch 1/50\n",
      "4/4 [==============================] - 3s 307ms/step - loss: 0.7865 - tp: 36.0000 - fp: 39.0000 - tn: 28.0000 - fn: 18.0000 - accuracy: 0.5289 - precision: 0.4800 - recall: 0.6667 - auc: 0.6177 - prc: 0.5837 - val_loss: 0.8492 - val_tp: 9.0000 - val_fp: 16.0000 - val_tn: 1.0000 - val_fn: 1.0000 - val_accuracy: 0.3704 - val_precision: 0.3600 - val_recall: 0.9000 - val_auc: 0.6412 - val_prc: 0.5513\n",
      "Epoch 2/50\n",
      "4/4 [==============================] - 0s 21ms/step - loss: 0.8041 - tp: 36.0000 - fp: 42.0000 - tn: 16.0000 - fn: 12.0000 - accuracy: 0.4906 - precision: 0.4615 - recall: 0.7500 - auc: 0.5334 - prc: 0.5160 - val_loss: 0.8410 - val_tp: 9.0000 - val_fp: 16.0000 - val_tn: 1.0000 - val_fn: 1.0000 - val_accuracy: 0.3704 - val_precision: 0.3600 - val_recall: 0.9000 - val_auc: 0.6412 - val_prc: 0.5482\n",
      "Epoch 3/50\n",
      "4/4 [==============================] - 0s 22ms/step - loss: 0.7697 - tp: 35.0000 - fp: 33.0000 - tn: 25.0000 - fn: 13.0000 - accuracy: 0.5660 - precision: 0.5147 - recall: 0.7292 - auc: 0.5961 - prc: 0.5434 - val_loss: 0.8334 - val_tp: 9.0000 - val_fp: 16.0000 - val_tn: 1.0000 - val_fn: 1.0000 - val_accuracy: 0.3704 - val_precision: 0.3600 - val_recall: 0.9000 - val_auc: 0.6559 - val_prc: 0.5720\n",
      "Epoch 4/50\n",
      "4/4 [==============================] - 0s 21ms/step - loss: 0.8380 - tp: 35.0000 - fp: 36.0000 - tn: 22.0000 - fn: 13.0000 - accuracy: 0.5377 - precision: 0.4930 - recall: 0.7292 - auc: 0.5359 - prc: 0.4830 - val_loss: 0.8281 - val_tp: 9.0000 - val_fp: 16.0000 - val_tn: 1.0000 - val_fn: 1.0000 - val_accuracy: 0.3704 - val_precision: 0.3600 - val_recall: 0.9000 - val_auc: 0.6529 - val_prc: 0.5644\n",
      "Epoch 5/50\n",
      "4/4 [==============================] - 0s 20ms/step - loss: 0.8653 - tp: 27.0000 - fp: 37.0000 - tn: 21.0000 - fn: 21.0000 - accuracy: 0.4528 - precision: 0.4219 - recall: 0.5625 - auc: 0.4558 - prc: 0.4454 - val_loss: 0.8223 - val_tp: 9.0000 - val_fp: 16.0000 - val_tn: 1.0000 - val_fn: 1.0000 - val_accuracy: 0.3704 - val_precision: 0.3600 - val_recall: 0.9000 - val_auc: 0.6529 - val_prc: 0.5660\n",
      "Epoch 6/50\n",
      "4/4 [==============================] - 0s 19ms/step - loss: 0.8101 - tp: 32.0000 - fp: 35.0000 - tn: 23.0000 - fn: 16.0000 - accuracy: 0.5189 - precision: 0.4776 - recall: 0.6667 - auc: 0.5839 - prc: 0.5475 - val_loss: 0.8154 - val_tp: 9.0000 - val_fp: 16.0000 - val_tn: 1.0000 - val_fn: 1.0000 - val_accuracy: 0.3704 - val_precision: 0.3600 - val_recall: 0.9000 - val_auc: 0.6618 - val_prc: 0.5761\n",
      "Epoch 7/50\n",
      "4/4 [==============================] - 0s 19ms/step - loss: 0.7762 - tp: 32.0000 - fp: 33.0000 - tn: 25.0000 - fn: 16.0000 - accuracy: 0.5377 - precision: 0.4923 - recall: 0.6667 - auc: 0.5927 - prc: 0.5989 - val_loss: 0.8088 - val_tp: 9.0000 - val_fp: 16.0000 - val_tn: 1.0000 - val_fn: 1.0000 - val_accuracy: 0.3704 - val_precision: 0.3600 - val_recall: 0.9000 - val_auc: 0.6588 - val_prc: 0.5656\n",
      "Epoch 8/50\n",
      "4/4 [==============================] - 0s 19ms/step - loss: 0.7613 - tp: 29.0000 - fp: 35.0000 - tn: 23.0000 - fn: 19.0000 - accuracy: 0.4906 - precision: 0.4531 - recall: 0.6042 - auc: 0.5551 - prc: 0.5245 - val_loss: 0.8028 - val_tp: 9.0000 - val_fp: 16.0000 - val_tn: 1.0000 - val_fn: 1.0000 - val_accuracy: 0.3704 - val_precision: 0.3600 - val_recall: 0.9000 - val_auc: 0.6588 - val_prc: 0.5679\n",
      "Epoch 9/50\n",
      "4/4 [==============================] - 0s 21ms/step - loss: 0.8763 - tp: 29.0000 - fp: 34.0000 - tn: 24.0000 - fn: 19.0000 - accuracy: 0.5000 - precision: 0.4603 - recall: 0.6042 - auc: 0.5095 - prc: 0.4905 - val_loss: 0.7963 - val_tp: 9.0000 - val_fp: 16.0000 - val_tn: 1.0000 - val_fn: 1.0000 - val_accuracy: 0.3704 - val_precision: 0.3600 - val_recall: 0.9000 - val_auc: 0.6706 - val_prc: 0.5855\n",
      "Epoch 10/50\n",
      "4/4 [==============================] - 0s 21ms/step - loss: 0.7933 - tp: 32.0000 - fp: 31.0000 - tn: 27.0000 - fn: 16.0000 - accuracy: 0.5566 - precision: 0.5079 - recall: 0.6667 - auc: 0.5481 - prc: 0.5016 - val_loss: 0.7900 - val_tp: 9.0000 - val_fp: 16.0000 - val_tn: 1.0000 - val_fn: 1.0000 - val_accuracy: 0.3704 - val_precision: 0.3600 - val_recall: 0.9000 - val_auc: 0.6676 - val_prc: 0.5731\n",
      "Epoch 11/50\n",
      "4/4 [==============================] - 0s 21ms/step - loss: 0.7953 - tp: 32.0000 - fp: 39.0000 - tn: 19.0000 - fn: 16.0000 - accuracy: 0.4811 - precision: 0.4507 - recall: 0.6667 - auc: 0.4968 - prc: 0.4979 - val_loss: 0.7835 - val_tp: 9.0000 - val_fp: 16.0000 - val_tn: 1.0000 - val_fn: 1.0000 - val_accuracy: 0.3704 - val_precision: 0.3600 - val_recall: 0.9000 - val_auc: 0.6735 - val_prc: 0.5820\n",
      "Epoch 12/50\n",
      "4/4 [==============================] - 0s 22ms/step - loss: 0.8017 - tp: 30.0000 - fp: 35.0000 - tn: 23.0000 - fn: 18.0000 - accuracy: 0.5000 - precision: 0.4615 - recall: 0.6250 - auc: 0.5560 - prc: 0.5313 - val_loss: 0.7764 - val_tp: 9.0000 - val_fp: 16.0000 - val_tn: 1.0000 - val_fn: 1.0000 - val_accuracy: 0.3704 - val_precision: 0.3600 - val_recall: 0.9000 - val_auc: 0.6765 - val_prc: 0.5896\n",
      "Epoch 13/50\n",
      "4/4 [==============================] - 0s 19ms/step - loss: 0.9778 - tp: 24.0000 - fp: 38.0000 - tn: 20.0000 - fn: 24.0000 - accuracy: 0.4151 - precision: 0.3871 - recall: 0.5000 - auc: 0.4273 - prc: 0.4095 - val_loss: 0.7698 - val_tp: 9.0000 - val_fp: 16.0000 - val_tn: 1.0000 - val_fn: 1.0000 - val_accuracy: 0.3704 - val_precision: 0.3600 - val_recall: 0.9000 - val_auc: 0.6794 - val_prc: 0.5824\n",
      "Epoch 14/50\n",
      "4/4 [==============================] - 0s 19ms/step - loss: 0.7821 - tp: 31.0000 - fp: 38.0000 - tn: 20.0000 - fn: 17.0000 - accuracy: 0.4811 - precision: 0.4493 - recall: 0.6458 - auc: 0.5040 - prc: 0.5519 - val_loss: 0.7635 - val_tp: 9.0000 - val_fp: 16.0000 - val_tn: 1.0000 - val_fn: 1.0000 - val_accuracy: 0.3704 - val_precision: 0.3600 - val_recall: 0.9000 - val_auc: 0.6824 - val_prc: 0.5839\n",
      "Epoch 15/50\n",
      "4/4 [==============================] - 0s 19ms/step - loss: 0.6853 - tp: 33.0000 - fp: 28.0000 - tn: 30.0000 - fn: 15.0000 - accuracy: 0.5943 - precision: 0.5410 - recall: 0.6875 - auc: 0.6424 - prc: 0.6171 - val_loss: 0.7583 - val_tp: 9.0000 - val_fp: 16.0000 - val_tn: 1.0000 - val_fn: 1.0000 - val_accuracy: 0.3704 - val_precision: 0.3600 - val_recall: 0.9000 - val_auc: 0.6824 - val_prc: 0.5839\n",
      "Epoch 16/50\n",
      "4/4 [==============================] - 0s 19ms/step - loss: 0.7141 - tp: 32.0000 - fp: 29.0000 - tn: 29.0000 - fn: 16.0000 - accuracy: 0.5755 - precision: 0.5246 - recall: 0.6667 - auc: 0.6421 - prc: 0.6264 - val_loss: 0.7538 - val_tp: 9.0000 - val_fp: 16.0000 - val_tn: 1.0000 - val_fn: 1.0000 - val_accuracy: 0.3704 - val_precision: 0.3600 - val_recall: 0.9000 - val_auc: 0.6853 - val_prc: 0.5914\n",
      "Epoch 17/50\n",
      "4/4 [==============================] - 0s 21ms/step - loss: 0.7639 - tp: 33.0000 - fp: 35.0000 - tn: 23.0000 - fn: 15.0000 - accuracy: 0.5283 - precision: 0.4853 - recall: 0.6875 - auc: 0.5603 - prc: 0.5772 - val_loss: 0.7502 - val_tp: 9.0000 - val_fp: 16.0000 - val_tn: 1.0000 - val_fn: 1.0000 - val_accuracy: 0.3704 - val_precision: 0.3600 - val_recall: 0.9000 - val_auc: 0.6853 - val_prc: 0.5914\n",
      "Epoch 18/50\n",
      "4/4 [==============================] - 0s 21ms/step - loss: 0.8348 - tp: 31.0000 - fp: 40.0000 - tn: 18.0000 - fn: 17.0000 - accuracy: 0.4623 - precision: 0.4366 - recall: 0.6458 - auc: 0.5208 - prc: 0.4605 - val_loss: 0.7465 - val_tp: 9.0000 - val_fp: 16.0000 - val_tn: 1.0000 - val_fn: 1.0000 - val_accuracy: 0.3704 - val_precision: 0.3600 - val_recall: 0.9000 - val_auc: 0.6824 - val_prc: 0.5839\n",
      "Epoch 19/50\n",
      "4/4 [==============================] - 0s 21ms/step - loss: 0.6674 - tp: 33.0000 - fp: 32.0000 - tn: 26.0000 - fn: 15.0000 - accuracy: 0.5566 - precision: 0.5077 - recall: 0.6875 - auc: 0.6431 - prc: 0.6412 - val_loss: 0.7430 - val_tp: 9.0000 - val_fp: 16.0000 - val_tn: 1.0000 - val_fn: 1.0000 - val_accuracy: 0.3704 - val_precision: 0.3600 - val_recall: 0.9000 - val_auc: 0.6824 - val_prc: 0.5899\n",
      "Epoch 20/50\n",
      "4/4 [==============================] - 0s 18ms/step - loss: 0.7910 - tp: 27.0000 - fp: 32.0000 - tn: 26.0000 - fn: 21.0000 - accuracy: 0.5000 - precision: 0.4576 - recall: 0.5625 - auc: 0.5409 - prc: 0.5265 - val_loss: 0.7393 - val_tp: 9.0000 - val_fp: 16.0000 - val_tn: 1.0000 - val_fn: 1.0000 - val_accuracy: 0.3704 - val_precision: 0.3600 - val_recall: 0.9000 - val_auc: 0.6824 - val_prc: 0.5899\n"
     ]
    },
    {
     "name": "stdout",
     "output_type": "stream",
     "text": [
      "Epoch 21/50\n",
      "4/4 [==============================] - 0s 19ms/step - loss: 0.7897 - tp: 28.0000 - fp: 31.0000 - tn: 27.0000 - fn: 20.0000 - accuracy: 0.5189 - precision: 0.4746 - recall: 0.5833 - auc: 0.5663 - prc: 0.5586 - val_loss: 0.7358 - val_tp: 9.0000 - val_fp: 16.0000 - val_tn: 1.0000 - val_fn: 1.0000 - val_accuracy: 0.3704 - val_precision: 0.3600 - val_recall: 0.9000 - val_auc: 0.6765 - val_prc: 0.5810\n",
      "Epoch 22/50\n",
      "4/4 [==============================] - 0s 22ms/step - loss: 0.7371 - tp: 30.0000 - fp: 30.0000 - tn: 28.0000 - fn: 18.0000 - accuracy: 0.5472 - precision: 0.5000 - recall: 0.6250 - auc: 0.6146 - prc: 0.5757 - val_loss: 0.7321 - val_tp: 8.0000 - val_fp: 16.0000 - val_tn: 1.0000 - val_fn: 2.0000 - val_accuracy: 0.3333 - val_precision: 0.3333 - val_recall: 0.8000 - val_auc: 0.6824 - val_prc: 0.5840\n",
      "Epoch 23/50\n",
      "4/4 [==============================] - 0s 20ms/step - loss: 0.7821 - tp: 29.0000 - fp: 33.0000 - tn: 25.0000 - fn: 19.0000 - accuracy: 0.5094 - precision: 0.4677 - recall: 0.6042 - auc: 0.5463 - prc: 0.4861 - val_loss: 0.7289 - val_tp: 8.0000 - val_fp: 16.0000 - val_tn: 1.0000 - val_fn: 2.0000 - val_accuracy: 0.3333 - val_precision: 0.3333 - val_recall: 0.8000 - val_auc: 0.6765 - val_prc: 0.5810\n",
      "Epoch 24/50\n",
      "4/4 [==============================] - 0s 19ms/step - loss: 0.7085 - tp: 32.0000 - fp: 28.0000 - tn: 30.0000 - fn: 16.0000 - accuracy: 0.5849 - precision: 0.5333 - recall: 0.6667 - auc: 0.6659 - prc: 0.6138 - val_loss: 0.7252 - val_tp: 8.0000 - val_fp: 15.0000 - val_tn: 2.0000 - val_fn: 2.0000 - val_accuracy: 0.3704 - val_precision: 0.3478 - val_recall: 0.8000 - val_auc: 0.6824 - val_prc: 0.5899\n",
      "Epoch 25/50\n",
      "4/4 [==============================] - 0s 19ms/step - loss: 0.7036 - tp: 26.0000 - fp: 26.0000 - tn: 32.0000 - fn: 22.0000 - accuracy: 0.5472 - precision: 0.5000 - recall: 0.5417 - auc: 0.5790 - prc: 0.5481 - val_loss: 0.7229 - val_tp: 8.0000 - val_fp: 14.0000 - val_tn: 3.0000 - val_fn: 2.0000 - val_accuracy: 0.4074 - val_precision: 0.3636 - val_recall: 0.8000 - val_auc: 0.6882 - val_prc: 0.5931\n",
      "Epoch 26/50\n",
      "4/4 [==============================] - 0s 19ms/step - loss: 0.7171 - tp: 30.0000 - fp: 32.0000 - tn: 26.0000 - fn: 18.0000 - accuracy: 0.5283 - precision: 0.4839 - recall: 0.6250 - auc: 0.5943 - prc: 0.5547 - val_loss: 0.7202 - val_tp: 8.0000 - val_fp: 13.0000 - val_tn: 4.0000 - val_fn: 2.0000 - val_accuracy: 0.4444 - val_precision: 0.3810 - val_recall: 0.8000 - val_auc: 0.6824 - val_prc: 0.5840\n",
      "Epoch 27/50\n",
      "4/4 [==============================] - 0s 19ms/step - loss: 0.7222 - tp: 25.0000 - fp: 24.0000 - tn: 34.0000 - fn: 23.0000 - accuracy: 0.5566 - precision: 0.5102 - recall: 0.5208 - auc: 0.5697 - prc: 0.5764 - val_loss: 0.7170 - val_tp: 8.0000 - val_fp: 13.0000 - val_tn: 4.0000 - val_fn: 2.0000 - val_accuracy: 0.4444 - val_precision: 0.3810 - val_recall: 0.8000 - val_auc: 0.6882 - val_prc: 0.5931\n",
      "Epoch 28/50\n",
      "4/4 [==============================] - 0s 20ms/step - loss: 0.7132 - tp: 32.0000 - fp: 28.0000 - tn: 30.0000 - fn: 16.0000 - accuracy: 0.5849 - precision: 0.5333 - recall: 0.6667 - auc: 0.6302 - prc: 0.5957 - val_loss: 0.7135 - val_tp: 8.0000 - val_fp: 12.0000 - val_tn: 5.0000 - val_fn: 2.0000 - val_accuracy: 0.4815 - val_precision: 0.4000 - val_recall: 0.8000 - val_auc: 0.6941 - val_prc: 0.5946\n",
      "Epoch 29/50\n",
      "4/4 [==============================] - 0s 25ms/step - loss: 0.7539 - tp: 25.0000 - fp: 33.0000 - tn: 25.0000 - fn: 23.0000 - accuracy: 0.4717 - precision: 0.4310 - recall: 0.5208 - auc: 0.5440 - prc: 0.5544 - val_loss: 0.7105 - val_tp: 8.0000 - val_fp: 12.0000 - val_tn: 5.0000 - val_fn: 2.0000 - val_accuracy: 0.4815 - val_precision: 0.4000 - val_recall: 0.8000 - val_auc: 0.7059 - val_prc: 0.5987\n",
      "Epoch 30/50\n",
      "4/4 [==============================] - 0s 19ms/step - loss: 0.7991 - tp: 25.0000 - fp: 31.0000 - tn: 27.0000 - fn: 23.0000 - accuracy: 0.4906 - precision: 0.4464 - recall: 0.5208 - auc: 0.5251 - prc: 0.4844 - val_loss: 0.7066 - val_tp: 8.0000 - val_fp: 12.0000 - val_tn: 5.0000 - val_fn: 2.0000 - val_accuracy: 0.4815 - val_precision: 0.4000 - val_recall: 0.8000 - val_auc: 0.7059 - val_prc: 0.5997\n",
      "Epoch 31/50\n",
      "4/4 [==============================] - 0s 18ms/step - loss: 0.7418 - tp: 26.0000 - fp: 27.0000 - tn: 31.0000 - fn: 22.0000 - accuracy: 0.5377 - precision: 0.4906 - recall: 0.5417 - auc: 0.5691 - prc: 0.5796 - val_loss: 0.7032 - val_tp: 8.0000 - val_fp: 11.0000 - val_tn: 6.0000 - val_fn: 2.0000 - val_accuracy: 0.5185 - val_precision: 0.4211 - val_recall: 0.8000 - val_auc: 0.7059 - val_prc: 0.5997\n",
      "Epoch 32/50\n",
      "4/4 [==============================] - 0s 19ms/step - loss: 0.6808 - tp: 25.0000 - fp: 19.0000 - tn: 39.0000 - fn: 23.0000 - accuracy: 0.6038 - precision: 0.5682 - recall: 0.5208 - auc: 0.6668 - prc: 0.6020 - val_loss: 0.7004 - val_tp: 8.0000 - val_fp: 10.0000 - val_tn: 7.0000 - val_fn: 2.0000 - val_accuracy: 0.5556 - val_precision: 0.4444 - val_recall: 0.8000 - val_auc: 0.7088 - val_prc: 0.6017\n",
      "Epoch 33/50\n",
      "4/4 [==============================] - 0s 19ms/step - loss: 0.7233 - tp: 28.0000 - fp: 26.0000 - tn: 32.0000 - fn: 20.0000 - accuracy: 0.5660 - precision: 0.5185 - recall: 0.5833 - auc: 0.5699 - prc: 0.5299 - val_loss: 0.6981 - val_tp: 8.0000 - val_fp: 10.0000 - val_tn: 7.0000 - val_fn: 2.0000 - val_accuracy: 0.5556 - val_precision: 0.4444 - val_recall: 0.8000 - val_auc: 0.7088 - val_prc: 0.6017\n",
      "Epoch 34/50\n",
      "4/4 [==============================] - 0s 18ms/step - loss: 0.7108 - tp: 29.0000 - fp: 23.0000 - tn: 35.0000 - fn: 19.0000 - accuracy: 0.6038 - precision: 0.5577 - recall: 0.6042 - auc: 0.6365 - prc: 0.5992 - val_loss: 0.6952 - val_tp: 8.0000 - val_fp: 10.0000 - val_tn: 7.0000 - val_fn: 2.0000 - val_accuracy: 0.5556 - val_precision: 0.4444 - val_recall: 0.8000 - val_auc: 0.7147 - val_prc: 0.6061\n",
      "Epoch 35/50\n",
      "4/4 [==============================] - 0s 19ms/step - loss: 0.7535 - tp: 27.0000 - fp: 29.0000 - tn: 29.0000 - fn: 21.0000 - accuracy: 0.5283 - precision: 0.4821 - recall: 0.5625 - auc: 0.5600 - prc: 0.5563 - val_loss: 0.6920 - val_tp: 8.0000 - val_fp: 10.0000 - val_tn: 7.0000 - val_fn: 2.0000 - val_accuracy: 0.5556 - val_precision: 0.4444 - val_recall: 0.8000 - val_auc: 0.7176 - val_prc: 0.6070\n",
      "Epoch 36/50\n",
      "4/4 [==============================] - 0s 19ms/step - loss: 0.6935 - tp: 26.0000 - fp: 21.0000 - tn: 37.0000 - fn: 22.0000 - accuracy: 0.5943 - precision: 0.5532 - recall: 0.5417 - auc: 0.5812 - prc: 0.5752 - val_loss: 0.6875 - val_tp: 8.0000 - val_fp: 10.0000 - val_tn: 7.0000 - val_fn: 2.0000 - val_accuracy: 0.5556 - val_precision: 0.4444 - val_recall: 0.8000 - val_auc: 0.7206 - val_prc: 0.6164\n",
      "Epoch 37/50\n",
      "4/4 [==============================] - 0s 19ms/step - loss: 0.7117 - tp: 25.0000 - fp: 25.0000 - tn: 33.0000 - fn: 23.0000 - accuracy: 0.5472 - precision: 0.5000 - recall: 0.5208 - auc: 0.5954 - prc: 0.5553 - val_loss: 0.6846 - val_tp: 8.0000 - val_fp: 10.0000 - val_tn: 7.0000 - val_fn: 2.0000 - val_accuracy: 0.5556 - val_precision: 0.4444 - val_recall: 0.8000 - val_auc: 0.7206 - val_prc: 0.6079\n",
      "Epoch 38/50\n",
      "4/4 [==============================] - 0s 20ms/step - loss: 0.7142 - tp: 22.0000 - fp: 25.0000 - tn: 33.0000 - fn: 26.0000 - accuracy: 0.5189 - precision: 0.4681 - recall: 0.4583 - auc: 0.5528 - prc: 0.5567 - val_loss: 0.6817 - val_tp: 8.0000 - val_fp: 10.0000 - val_tn: 7.0000 - val_fn: 2.0000 - val_accuracy: 0.5556 - val_precision: 0.4444 - val_recall: 0.8000 - val_auc: 0.7235 - val_prc: 0.6088\n",
      "Epoch 39/50\n",
      "4/4 [==============================] - 0s 20ms/step - loss: 0.7144 - tp: 28.0000 - fp: 25.0000 - tn: 33.0000 - fn: 20.0000 - accuracy: 0.5755 - precision: 0.5283 - recall: 0.5833 - auc: 0.6347 - prc: 0.5856 - val_loss: 0.6785 - val_tp: 8.0000 - val_fp: 9.0000 - val_tn: 8.0000 - val_fn: 2.0000 - val_accuracy: 0.5926 - val_precision: 0.4706 - val_recall: 0.8000 - val_auc: 0.7324 - val_prc: 0.6198\n",
      "Epoch 40/50\n",
      "4/4 [==============================] - 0s 18ms/step - loss: 0.7321 - tp: 21.0000 - fp: 21.0000 - tn: 37.0000 - fn: 27.0000 - accuracy: 0.5472 - precision: 0.5000 - recall: 0.4375 - auc: 0.5815 - prc: 0.5497 - val_loss: 0.6764 - val_tp: 8.0000 - val_fp: 7.0000 - val_tn: 10.0000 - val_fn: 2.0000 - val_accuracy: 0.6667 - val_precision: 0.5333 - val_recall: 0.8000 - val_auc: 0.7324 - val_prc: 0.6112\n"
     ]
    },
    {
     "name": "stdout",
     "output_type": "stream",
     "text": [
      "Epoch 41/50\n",
      "4/4 [==============================] - 0s 20ms/step - loss: 0.6939 - tp: 21.0000 - fp: 25.0000 - tn: 33.0000 - fn: 27.0000 - accuracy: 0.5094 - precision: 0.4565 - recall: 0.4375 - auc: 0.5708 - prc: 0.5792 - val_loss: 0.6738 - val_tp: 8.0000 - val_fp: 7.0000 - val_tn: 10.0000 - val_fn: 2.0000 - val_accuracy: 0.6667 - val_precision: 0.5333 - val_recall: 0.8000 - val_auc: 0.7294 - val_prc: 0.6102\n",
      "Epoch 42/50\n",
      "4/4 [==============================] - 0s 19ms/step - loss: 0.6593 - tp: 25.0000 - fp: 25.0000 - tn: 33.0000 - fn: 23.0000 - accuracy: 0.5472 - precision: 0.5000 - recall: 0.5208 - auc: 0.6182 - prc: 0.6284 - val_loss: 0.6715 - val_tp: 8.0000 - val_fp: 6.0000 - val_tn: 11.0000 - val_fn: 2.0000 - val_accuracy: 0.7037 - val_precision: 0.5714 - val_recall: 0.8000 - val_auc: 0.7353 - val_prc: 0.6120\n",
      "Epoch 43/50\n",
      "4/4 [==============================] - 0s 19ms/step - loss: 0.7654 - tp: 23.0000 - fp: 26.0000 - tn: 32.0000 - fn: 25.0000 - accuracy: 0.5189 - precision: 0.4694 - recall: 0.4792 - auc: 0.5357 - prc: 0.5202 - val_loss: 0.6693 - val_tp: 8.0000 - val_fp: 5.0000 - val_tn: 12.0000 - val_fn: 2.0000 - val_accuracy: 0.7407 - val_precision: 0.6154 - val_recall: 0.8000 - val_auc: 0.7324 - val_prc: 0.6087\n",
      "Epoch 44/50\n",
      "4/4 [==============================] - 0s 20ms/step - loss: 0.6997 - tp: 24.0000 - fp: 25.0000 - tn: 33.0000 - fn: 24.0000 - accuracy: 0.5377 - precision: 0.4898 - recall: 0.5000 - auc: 0.6092 - prc: 0.5984 - val_loss: 0.6678 - val_tp: 8.0000 - val_fp: 5.0000 - val_tn: 12.0000 - val_fn: 2.0000 - val_accuracy: 0.7407 - val_precision: 0.6154 - val_recall: 0.8000 - val_auc: 0.7294 - val_prc: 0.6077\n",
      "Epoch 45/50\n",
      "4/4 [==============================] - 0s 23ms/step - loss: 0.7629 - tp: 20.0000 - fp: 25.0000 - tn: 33.0000 - fn: 28.0000 - accuracy: 0.5000 - precision: 0.4444 - recall: 0.4167 - auc: 0.5133 - prc: 0.5262 - val_loss: 0.6660 - val_tp: 8.0000 - val_fp: 5.0000 - val_tn: 12.0000 - val_fn: 2.0000 - val_accuracy: 0.7407 - val_precision: 0.6154 - val_recall: 0.8000 - val_auc: 0.7353 - val_prc: 0.6181\n",
      "Epoch 46/50\n",
      "4/4 [==============================] - 0s 21ms/step - loss: 0.7269 - tp: 21.0000 - fp: 24.0000 - tn: 34.0000 - fn: 27.0000 - accuracy: 0.5189 - precision: 0.4667 - recall: 0.4375 - auc: 0.5449 - prc: 0.5485 - val_loss: 0.6650 - val_tp: 8.0000 - val_fp: 5.0000 - val_tn: 12.0000 - val_fn: 2.0000 - val_accuracy: 0.7407 - val_precision: 0.6154 - val_recall: 0.8000 - val_auc: 0.7382 - val_prc: 0.6223\n",
      "Epoch 47/50\n",
      "4/4 [==============================] - 0s 19ms/step - loss: 0.7142 - tp: 27.0000 - fp: 25.0000 - tn: 33.0000 - fn: 21.0000 - accuracy: 0.5660 - precision: 0.5192 - recall: 0.5625 - auc: 0.5936 - prc: 0.5742 - val_loss: 0.6641 - val_tp: 8.0000 - val_fp: 5.0000 - val_tn: 12.0000 - val_fn: 2.0000 - val_accuracy: 0.7407 - val_precision: 0.6154 - val_recall: 0.8000 - val_auc: 0.7353 - val_prc: 0.6181\n",
      "Epoch 48/50\n",
      "4/4 [==============================] - 0s 19ms/step - loss: 0.7934 - tp: 20.0000 - fp: 24.0000 - tn: 34.0000 - fn: 28.0000 - accuracy: 0.5094 - precision: 0.4545 - recall: 0.4167 - auc: 0.5361 - prc: 0.4861 - val_loss: 0.6626 - val_tp: 8.0000 - val_fp: 5.0000 - val_tn: 12.0000 - val_fn: 2.0000 - val_accuracy: 0.7407 - val_precision: 0.6154 - val_recall: 0.8000 - val_auc: 0.7324 - val_prc: 0.6172\n",
      "Epoch 49/50\n",
      "4/4 [==============================] - 0s 19ms/step - loss: 0.7830 - tp: 21.0000 - fp: 26.0000 - tn: 32.0000 - fn: 27.0000 - accuracy: 0.5000 - precision: 0.4468 - recall: 0.4375 - auc: 0.5359 - prc: 0.4913 - val_loss: 0.6616 - val_tp: 8.0000 - val_fp: 5.0000 - val_tn: 12.0000 - val_fn: 2.0000 - val_accuracy: 0.7407 - val_precision: 0.6154 - val_recall: 0.8000 - val_auc: 0.7382 - val_prc: 0.6287\n",
      "Epoch 50/50\n",
      "4/4 [==============================] - 0s 19ms/step - loss: 0.7966 - tp: 24.0000 - fp: 23.0000 - tn: 35.0000 - fn: 24.0000 - accuracy: 0.5566 - precision: 0.5106 - recall: 0.5000 - auc: 0.5427 - prc: 0.5084 - val_loss: 0.6599 - val_tp: 8.0000 - val_fp: 5.0000 - val_tn: 12.0000 - val_fn: 2.0000 - val_accuracy: 0.7407 - val_precision: 0.6154 - val_recall: 0.8000 - val_auc: 0.7353 - val_prc: 0.6223\n"
     ]
    }
   ],
   "source": [
    "history = model.train(X_train, y_train, X_val, y_val, epochs, batch_size, early_stopping)\n",
    "#plt.plot(history.history['loss'])\n",
    "#plt.show()"
   ]
  },
  {
   "cell_type": "code",
   "execution_count": 97,
   "id": "40be14f3",
   "metadata": {},
   "outputs": [
    {
     "data": {
      "text/plain": [
       "0"
      ]
     },
     "execution_count": 97,
     "metadata": {},
     "output_type": "execute_result"
    }
   ],
   "source": [
    "early_stopping.stopped_epoch"
   ]
  },
  {
   "cell_type": "code",
   "execution_count": 98,
   "id": "6c1f8852",
   "metadata": {},
   "outputs": [],
   "source": [
    "#plot_loss(history, \"Bias\", 0)\n",
    "#plt.show()"
   ]
  },
  {
   "cell_type": "code",
   "execution_count": 99,
   "id": "fbec5c68",
   "metadata": {},
   "outputs": [],
   "source": [
    "#plot_metrics(history)\n",
    "#plt.show()"
   ]
  },
  {
   "cell_type": "code",
   "execution_count": 100,
   "id": "6d629bab",
   "metadata": {},
   "outputs": [
    {
     "name": "stdout",
     "output_type": "stream",
     "text": [
      "4/4 [==============================] - 0s 2ms/step\n",
      "1/1 [==============================] - 0s 22ms/step\n",
      "loss :  0.8139950633049011\n",
      "tp :  2.0\n",
      "fp :  4.0\n",
      "tn :  3.0\n",
      "fn :  6.0\n",
      "accuracy :  0.3333333432674408\n",
      "precision :  0.3333333432674408\n",
      "recall :  0.25\n",
      "auc :  0.3392857313156128\n",
      "prc :  0.4256861209869385\n"
     ]
    }
   ],
   "source": [
    "predictions_train = model.predict(X_train)\n",
    "predictions_test = model.predict(X_test)\n",
    "\n",
    "# Confusion matrix\n",
    "results = model.evaluate(X_test, y_test)\n",
    "for name, value in zip(model.metrics_names(), results):\n",
    "    print(name, ': ', value)\n",
    "    if name == 'accuracy':\n",
    "        accuracy_sixteen_mean.append(value)"
   ]
  },
  {
   "cell_type": "code",
   "execution_count": 101,
   "id": "f2c3f31c",
   "metadata": {},
   "outputs": [
    {
     "name": "stdout",
     "output_type": "stream",
     "text": [
      "True Negatives:  3\n",
      "False Positives:  4\n",
      "False Negatives:  6\n",
      "True Positives:  2\n",
      "Total:  8\n"
     ]
    },
    {
     "data": {
      "image/png": "[encoded data removed]",
      "text/plain": [
       "<Figure size 500x500 with 2 Axes>"
      ]
     },
     "metadata": {},
     "output_type": "display_data"
    }
   ],
   "source": [
    "plot_cm(y_test, predictions_test)\n",
    "plt.show()"
   ]
  },
  {
   "cell_type": "code",
   "execution_count": 102,
   "id": "f9a4b1b1",
   "metadata": {},
   "outputs": [],
   "source": [
    "#plot_roc(\"Test Predictions\", y_test, predictions_test, color=colors[0], linestyle='--')\n",
    "#plt.legend(loc='lower right')\n",
    "#plt.show()"
   ]
  },
  {
   "cell_type": "code",
   "execution_count": 103,
   "id": "d1745476",
   "metadata": {},
   "outputs": [],
   "source": [
    "# Precision-Recall Curve (PRC)\n",
    "#plot_prc(\"Train Predictions\", y_train, predictions_train, color=colors[0])\n",
    "#plot_prc(\"Test Predictions\", y_test, predictions_test, color=colors[0], linestyle='--')\n",
    "#plt.legend(loc='lower right')\n",
    "#plt.show()"
   ]
  },
  {
   "cell_type": "code",
   "execution_count": 104,
   "id": "c3ef1489",
   "metadata": {},
   "outputs": [],
   "source": [
    "#STOP"
   ]
  },
  {
   "cell_type": "markdown",
   "id": "18b51c9c",
   "metadata": {},
   "source": [
    "## 8 CNN Model with 32 Lines"
   ]
  },
  {
   "cell_type": "markdown",
   "id": "7de127e3",
   "metadata": {},
   "source": [
    "### Dataset"
   ]
  },
  {
   "cell_type": "code",
   "execution_count": 105,
   "id": "b0cb862a",
   "metadata": {},
   "outputs": [],
   "source": [
    "# prepare dataset\n",
    "\n",
    "df = df_damage_thirtytwo_mean.drop(columns=columns)"
   ]
  },
  {
   "cell_type": "code",
   "execution_count": 106,
   "id": "78530cdd",
   "metadata": {},
   "outputs": [
    {
     "name": "stdout",
     "output_type": "stream",
     "text": [
      "Training features shape: (106, 36)\n",
      "Training labels shape: (106,) \n",
      "\n",
      "Validation features shape: (27, 36)\n",
      "Validation labels shape: (27,) \n",
      "\n",
      "Test features shape: (15, 36)\n",
      "Test labels shape: (15,) \n",
      "\n"
     ]
    }
   ],
   "source": [
    "# Split into sets for training, validation, and testing + use and save scaler\n",
    "\n",
    "X = df.drop(columns=['Damage'])\n",
    "y = df['Damage']\n",
    "\n",
    "X_train, X_test, y_train, y_test = train_test_split(X, y, test_size=0.1, random_state=random_state)\n",
    "X_train, X_val, y_train, y_val = train_test_split(X_train, y_train, test_size=0.2, random_state=random_state)\n",
    "\n",
    "scaler_sixteen = StandardScaler()\n",
    "X_train = scaler_sixteen.fit_transform(X_train)\n",
    "\n",
    "X_val = scaler_sixteen.transform(X_val)\n",
    "X_test = scaler_sixteen.transform(X_test)\n",
    "\n",
    "print('Training features shape:', X_train.shape)\n",
    "print('Training labels shape:', y_train.shape, '\\n')\n",
    "\n",
    "print('Validation features shape:', X_val.shape)\n",
    "print('Validation labels shape:', y_val.shape, '\\n')\n",
    "\n",
    "print('Test features shape:', X_test.shape)\n",
    "print('Test labels shape:', y_test.shape, '\\n')"
   ]
  },
  {
   "cell_type": "markdown",
   "id": "1ed26a86",
   "metadata": {},
   "source": [
    "### Model"
   ]
  },
  {
   "cell_type": "code",
   "execution_count": 107,
   "id": "7879ee1b",
   "metadata": {},
   "outputs": [
    {
     "name": "stdout",
     "output_type": "stream",
     "text": [
      "Before: (36,)\n",
      "After: (36, 1)\n",
      "Classes: 1\n",
      "Model: \"sequential_7\"\n",
      "_________________________________________________________________\n",
      " Layer (type)                Output Shape              Param #   \n",
      "=================================================================\n",
      " conv1d_6 (Conv1D)           (None, 34, 8)             32        \n",
      "                                                                 \n",
      " conv1d_7 (Conv1D)           (None, 32, 16)            400       \n",
      "                                                                 \n",
      " max_pooling1d_3 (MaxPooling  (None, 16, 16)           0         \n",
      " 1D)                                                             \n",
      "                                                                 \n",
      " dropout_3 (Dropout)         (None, 16, 16)            0         \n",
      "                                                                 \n",
      " flatten_3 (Flatten)         (None, 256)               0         \n",
      "                                                                 \n",
      " dense_18 (Dense)            (None, 8)                 2056      \n",
      "                                                                 \n",
      " dense_19 (Dense)            (None, 1)                 9         \n",
      "                                                                 \n",
      "=================================================================\n",
      "Total params: 2,497\n",
      "Trainable params: 2,497\n",
      "Non-trainable params: 0\n",
      "_________________________________________________________________\n"
     ]
    }
   ],
   "source": [
    "orig_shape = X_train.shape[1:]\n",
    "X_train = X_train.reshape((X_train.shape[0], X_train.shape[1], 1))\n",
    "X_test = X_test.reshape((X_test.shape[0], X_test.shape[1], 1))\n",
    "\n",
    "X_val = X_val.reshape((X_val.shape[0], X_val.shape[1], 1))\n",
    "\n",
    "in_shape = X_train.shape[1:]\n",
    "print(\"Before: {0}\".format(orig_shape))\n",
    "print(\"After: {0}\".format(in_shape))\n",
    "\n",
    "n_classes = len(unique(y_train))\n",
    "n_classes = 1\n",
    "print(\"Classes: {0}\".format(n_classes))\n",
    "\n",
    "model = CNNModel(in_shape, n_classes)\n",
    "model.summary()"
   ]
  },
  {
   "cell_type": "code",
   "execution_count": 108,
   "id": "ad51420c",
   "metadata": {},
   "outputs": [
    {
     "name": "stdout",
     "output_type": "stream",
     "text": [
      "Epoch 1/50\n",
      "4/4 [==============================] - 2s 161ms/step - loss: 0.8996 - tp: 25.0000 - fp: 35.0000 - tn: 29.0000 - fn: 32.0000 - accuracy: 0.4463 - precision: 0.4167 - recall: 0.4386 - auc: 0.4726 - prc: 0.4623 - val_loss: 0.6741 - val_tp: 7.0000 - val_fp: 5.0000 - val_tn: 11.0000 - val_fn: 4.0000 - val_accuracy: 0.6667 - val_precision: 0.5833 - val_recall: 0.6364 - val_auc: 0.6335 - val_prc: 0.6446\n",
      "Epoch 2/50\n",
      "4/4 [==============================] - 0s 20ms/step - loss: 0.7741 - tp: 27.0000 - fp: 30.0000 - tn: 27.0000 - fn: 22.0000 - accuracy: 0.5094 - precision: 0.4737 - recall: 0.5510 - auc: 0.5440 - prc: 0.5498 - val_loss: 0.6732 - val_tp: 5.0000 - val_fp: 4.0000 - val_tn: 12.0000 - val_fn: 6.0000 - val_accuracy: 0.6296 - val_precision: 0.5556 - val_recall: 0.4545 - val_auc: 0.6278 - val_prc: 0.6465\n",
      "Epoch 3/50\n",
      "4/4 [==============================] - 0s 20ms/step - loss: 0.8313 - tp: 24.0000 - fp: 25.0000 - tn: 32.0000 - fn: 25.0000 - accuracy: 0.5283 - precision: 0.4898 - recall: 0.4898 - auc: 0.5165 - prc: 0.4579 - val_loss: 0.6719 - val_tp: 4.0000 - val_fp: 4.0000 - val_tn: 12.0000 - val_fn: 7.0000 - val_accuracy: 0.5926 - val_precision: 0.5000 - val_recall: 0.3636 - val_auc: 0.6165 - val_prc: 0.6406\n",
      "Epoch 4/50\n",
      "4/4 [==============================] - 0s 18ms/step - loss: 0.8248 - tp: 24.0000 - fp: 23.0000 - tn: 34.0000 - fn: 25.0000 - accuracy: 0.5472 - precision: 0.5106 - recall: 0.4898 - auc: 0.5057 - prc: 0.5106 - val_loss: 0.6718 - val_tp: 4.0000 - val_fp: 4.0000 - val_tn: 12.0000 - val_fn: 7.0000 - val_accuracy: 0.5926 - val_precision: 0.5000 - val_recall: 0.3636 - val_auc: 0.5881 - val_prc: 0.6233\n",
      "Epoch 5/50\n",
      "4/4 [==============================] - 0s 20ms/step - loss: 0.8308 - tp: 22.0000 - fp: 25.0000 - tn: 32.0000 - fn: 27.0000 - accuracy: 0.5094 - precision: 0.4681 - recall: 0.4490 - auc: 0.5104 - prc: 0.4662 - val_loss: 0.6723 - val_tp: 4.0000 - val_fp: 4.0000 - val_tn: 12.0000 - val_fn: 7.0000 - val_accuracy: 0.5926 - val_precision: 0.5000 - val_recall: 0.3636 - val_auc: 0.5511 - val_prc: 0.6055\n",
      "Epoch 6/50\n",
      "4/4 [==============================] - 0s 21ms/step - loss: 0.8547 - tp: 17.0000 - fp: 21.0000 - tn: 36.0000 - fn: 32.0000 - accuracy: 0.5000 - precision: 0.4474 - recall: 0.3469 - auc: 0.4436 - prc: 0.4587 - val_loss: 0.6723 - val_tp: 4.0000 - val_fp: 4.0000 - val_tn: 12.0000 - val_fn: 7.0000 - val_accuracy: 0.5926 - val_precision: 0.5000 - val_recall: 0.3636 - val_auc: 0.5455 - val_prc: 0.6097\n",
      "Epoch 7/50\n",
      "4/4 [==============================] - 0s 21ms/step - loss: 0.7587 - tp: 25.0000 - fp: 27.0000 - tn: 30.0000 - fn: 24.0000 - accuracy: 0.5189 - precision: 0.4808 - recall: 0.5102 - auc: 0.6165 - prc: 0.5880 - val_loss: 0.6714 - val_tp: 4.0000 - val_fp: 2.0000 - val_tn: 14.0000 - val_fn: 7.0000 - val_accuracy: 0.6667 - val_precision: 0.6667 - val_recall: 0.3636 - val_auc: 0.5568 - val_prc: 0.6235\n",
      "Epoch 8/50\n",
      "4/4 [==============================] - 0s 19ms/step - loss: 0.9136 - tp: 20.0000 - fp: 30.0000 - tn: 27.0000 - fn: 29.0000 - accuracy: 0.4434 - precision: 0.4000 - recall: 0.4082 - auc: 0.4125 - prc: 0.4247 - val_loss: 0.6704 - val_tp: 4.0000 - val_fp: 2.0000 - val_tn: 14.0000 - val_fn: 7.0000 - val_accuracy: 0.6667 - val_precision: 0.6667 - val_recall: 0.3636 - val_auc: 0.5511 - val_prc: 0.6206\n",
      "Epoch 9/50\n",
      "4/4 [==============================] - 0s 20ms/step - loss: 0.7721 - tp: 22.0000 - fp: 28.0000 - tn: 29.0000 - fn: 27.0000 - accuracy: 0.4811 - precision: 0.4400 - recall: 0.4490 - auc: 0.5070 - prc: 0.4954 - val_loss: 0.6694 - val_tp: 4.0000 - val_fp: 2.0000 - val_tn: 14.0000 - val_fn: 7.0000 - val_accuracy: 0.6667 - val_precision: 0.6667 - val_recall: 0.3636 - val_auc: 0.5511 - val_prc: 0.6206\n",
      "Epoch 10/50\n",
      "4/4 [==============================] - 0s 21ms/step - loss: 0.7982 - tp: 24.0000 - fp: 19.0000 - tn: 38.0000 - fn: 25.0000 - accuracy: 0.5849 - precision: 0.5581 - recall: 0.4898 - auc: 0.5286 - prc: 0.5031 - val_loss: 0.6686 - val_tp: 4.0000 - val_fp: 2.0000 - val_tn: 14.0000 - val_fn: 7.0000 - val_accuracy: 0.6667 - val_precision: 0.6667 - val_recall: 0.3636 - val_auc: 0.5398 - val_prc: 0.6152\n",
      "Epoch 11/50\n",
      "4/4 [==============================] - 0s 21ms/step - loss: 0.7719 - tp: 20.0000 - fp: 22.0000 - tn: 35.0000 - fn: 29.0000 - accuracy: 0.5189 - precision: 0.4762 - recall: 0.4082 - auc: 0.4599 - prc: 0.4892 - val_loss: 0.6678 - val_tp: 4.0000 - val_fp: 1.0000 - val_tn: 15.0000 - val_fn: 7.0000 - val_accuracy: 0.7037 - val_precision: 0.8000 - val_recall: 0.3636 - val_auc: 0.5398 - val_prc: 0.6144\n",
      "Epoch 12/50\n",
      "4/4 [==============================] - 0s 20ms/step - loss: 0.7549 - tp: 25.0000 - fp: 16.0000 - tn: 41.0000 - fn: 24.0000 - accuracy: 0.6226 - precision: 0.6098 - recall: 0.5102 - auc: 0.5899 - prc: 0.5393 - val_loss: 0.6665 - val_tp: 4.0000 - val_fp: 1.0000 - val_tn: 15.0000 - val_fn: 7.0000 - val_accuracy: 0.7037 - val_precision: 0.8000 - val_recall: 0.3636 - val_auc: 0.5455 - val_prc: 0.6167\n",
      "Epoch 13/50\n",
      "4/4 [==============================] - 0s 22ms/step - loss: 0.7709 - tp: 19.0000 - fp: 18.0000 - tn: 39.0000 - fn: 30.0000 - accuracy: 0.5472 - precision: 0.5135 - recall: 0.3878 - auc: 0.5512 - prc: 0.5222 - val_loss: 0.6647 - val_tp: 4.0000 - val_fp: 1.0000 - val_tn: 15.0000 - val_fn: 7.0000 - val_accuracy: 0.7037 - val_precision: 0.8000 - val_recall: 0.3636 - val_auc: 0.5483 - val_prc: 0.6178\n",
      "Epoch 14/50\n",
      "4/4 [==============================] - 0s 20ms/step - loss: 0.7902 - tp: 24.0000 - fp: 26.0000 - tn: 31.0000 - fn: 25.0000 - accuracy: 0.5189 - precision: 0.4800 - recall: 0.4898 - auc: 0.5602 - prc: 0.5389 - val_loss: 0.6625 - val_tp: 4.0000 - val_fp: 1.0000 - val_tn: 15.0000 - val_fn: 7.0000 - val_accuracy: 0.7037 - val_precision: 0.8000 - val_recall: 0.3636 - val_auc: 0.5511 - val_prc: 0.6167\n",
      "Epoch 15/50\n",
      "4/4 [==============================] - 0s 20ms/step - loss: 0.7602 - tp: 20.0000 - fp: 24.0000 - tn: 33.0000 - fn: 29.0000 - accuracy: 0.5000 - precision: 0.4545 - recall: 0.4082 - auc: 0.4801 - prc: 0.5056 - val_loss: 0.6595 - val_tp: 4.0000 - val_fp: 2.0000 - val_tn: 14.0000 - val_fn: 7.0000 - val_accuracy: 0.6667 - val_precision: 0.6667 - val_recall: 0.3636 - val_auc: 0.5597 - val_prc: 0.6196\n",
      "Epoch 16/50\n",
      "4/4 [==============================] - 0s 21ms/step - loss: 0.8131 - tp: 19.0000 - fp: 20.0000 - tn: 37.0000 - fn: 30.0000 - accuracy: 0.5283 - precision: 0.4872 - recall: 0.3878 - auc: 0.5125 - prc: 0.4636 - val_loss: 0.6573 - val_tp: 4.0000 - val_fp: 2.0000 - val_tn: 14.0000 - val_fn: 7.0000 - val_accuracy: 0.6667 - val_precision: 0.6667 - val_recall: 0.3636 - val_auc: 0.5597 - val_prc: 0.6086\n",
      "Epoch 17/50\n",
      "4/4 [==============================] - 0s 21ms/step - loss: 0.7617 - tp: 20.0000 - fp: 20.0000 - tn: 37.0000 - fn: 29.0000 - accuracy: 0.5377 - precision: 0.5000 - recall: 0.4082 - auc: 0.5571 - prc: 0.5145 - val_loss: 0.6553 - val_tp: 4.0000 - val_fp: 2.0000 - val_tn: 14.0000 - val_fn: 7.0000 - val_accuracy: 0.6667 - val_precision: 0.6667 - val_recall: 0.3636 - val_auc: 0.5568 - val_prc: 0.6006\n",
      "Epoch 18/50\n",
      "4/4 [==============================] - 0s 20ms/step - loss: 0.7967 - tp: 16.0000 - fp: 23.0000 - tn: 34.0000 - fn: 33.0000 - accuracy: 0.4717 - precision: 0.4103 - recall: 0.3265 - auc: 0.4733 - prc: 0.4276 - val_loss: 0.6536 - val_tp: 4.0000 - val_fp: 2.0000 - val_tn: 14.0000 - val_fn: 7.0000 - val_accuracy: 0.6667 - val_precision: 0.6667 - val_recall: 0.3636 - val_auc: 0.5540 - val_prc: 0.5922\n",
      "Epoch 19/50\n",
      "4/4 [==============================] - 0s 21ms/step - loss: 0.7915 - tp: 23.0000 - fp: 20.0000 - tn: 37.0000 - fn: 26.0000 - accuracy: 0.5660 - precision: 0.5349 - recall: 0.4694 - auc: 0.5725 - prc: 0.5410 - val_loss: 0.6524 - val_tp: 4.0000 - val_fp: 1.0000 - val_tn: 15.0000 - val_fn: 7.0000 - val_accuracy: 0.7037 - val_precision: 0.8000 - val_recall: 0.3636 - val_auc: 0.5540 - val_prc: 0.5974\n",
      "Epoch 20/50\n",
      "4/4 [==============================] - 0s 21ms/step - loss: 0.7358 - tp: 22.0000 - fp: 17.0000 - tn: 40.0000 - fn: 27.0000 - accuracy: 0.5849 - precision: 0.5641 - recall: 0.4490 - auc: 0.5657 - prc: 0.5453 - val_loss: 0.6507 - val_tp: 4.0000 - val_fp: 1.0000 - val_tn: 15.0000 - val_fn: 7.0000 - val_accuracy: 0.7037 - val_precision: 0.8000 - val_recall: 0.3636 - val_auc: 0.5540 - val_prc: 0.5974\n"
     ]
    },
    {
     "name": "stdout",
     "output_type": "stream",
     "text": [
      "Epoch 21/50\n",
      "4/4 [==============================] - 0s 22ms/step - loss: 0.7745 - tp: 23.0000 - fp: 20.0000 - tn: 37.0000 - fn: 26.0000 - accuracy: 0.5660 - precision: 0.5349 - recall: 0.4694 - auc: 0.5283 - prc: 0.5090 - val_loss: 0.6490 - val_tp: 4.0000 - val_fp: 1.0000 - val_tn: 15.0000 - val_fn: 7.0000 - val_accuracy: 0.7037 - val_precision: 0.8000 - val_recall: 0.3636 - val_auc: 0.5597 - val_prc: 0.5996\n",
      "Epoch 22/50\n",
      "4/4 [==============================] - 0s 20ms/step - loss: 0.7324 - tp: 23.0000 - fp: 24.0000 - tn: 33.0000 - fn: 26.0000 - accuracy: 0.5283 - precision: 0.4894 - recall: 0.4694 - auc: 0.5428 - prc: 0.5657 - val_loss: 0.6477 - val_tp: 4.0000 - val_fp: 1.0000 - val_tn: 15.0000 - val_fn: 7.0000 - val_accuracy: 0.7037 - val_precision: 0.8000 - val_recall: 0.3636 - val_auc: 0.5568 - val_prc: 0.5985\n",
      "Epoch 23/50\n",
      "4/4 [==============================] - 0s 20ms/step - loss: 0.8094 - tp: 18.0000 - fp: 24.0000 - tn: 33.0000 - fn: 31.0000 - accuracy: 0.4811 - precision: 0.4286 - recall: 0.3673 - auc: 0.4619 - prc: 0.4658 - val_loss: 0.6475 - val_tp: 4.0000 - val_fp: 1.0000 - val_tn: 15.0000 - val_fn: 7.0000 - val_accuracy: 0.7037 - val_precision: 0.8000 - val_recall: 0.3636 - val_auc: 0.5540 - val_prc: 0.5973\n",
      "Epoch 24/50\n",
      "4/4 [==============================] - 0s 20ms/step - loss: 0.7218 - tp: 22.0000 - fp: 24.0000 - tn: 33.0000 - fn: 27.0000 - accuracy: 0.5189 - precision: 0.4783 - recall: 0.4490 - auc: 0.5492 - prc: 0.5938 - val_loss: 0.6473 - val_tp: 4.0000 - val_fp: 1.0000 - val_tn: 15.0000 - val_fn: 7.0000 - val_accuracy: 0.7037 - val_precision: 0.8000 - val_recall: 0.3636 - val_auc: 0.5568 - val_prc: 0.6070\n",
      "Epoch 25/50\n",
      "4/4 [==============================] - 0s 20ms/step - loss: 0.6671 - tp: 22.0000 - fp: 14.0000 - tn: 43.0000 - fn: 27.0000 - accuracy: 0.6132 - precision: 0.6111 - recall: 0.4490 - auc: 0.6126 - prc: 0.6246 - val_loss: 0.6478 - val_tp: 4.0000 - val_fp: 0.0000e+00 - val_tn: 16.0000 - val_fn: 7.0000 - val_accuracy: 0.7407 - val_precision: 1.0000 - val_recall: 0.3636 - val_auc: 0.5568 - val_prc: 0.6069\n",
      "Epoch 26/50\n",
      "4/4 [==============================] - 0s 20ms/step - loss: 0.7067 - tp: 26.0000 - fp: 18.0000 - tn: 39.0000 - fn: 23.0000 - accuracy: 0.6132 - precision: 0.5909 - recall: 0.5306 - auc: 0.6305 - prc: 0.5768 - val_loss: 0.6489 - val_tp: 4.0000 - val_fp: 0.0000e+00 - val_tn: 16.0000 - val_fn: 7.0000 - val_accuracy: 0.7407 - val_precision: 1.0000 - val_recall: 0.3636 - val_auc: 0.5625 - val_prc: 0.6186\n",
      "Epoch 27/50\n",
      "4/4 [==============================] - 0s 19ms/step - loss: 0.7411 - tp: 24.0000 - fp: 17.0000 - tn: 40.0000 - fn: 25.0000 - accuracy: 0.6038 - precision: 0.5854 - recall: 0.4898 - auc: 0.5797 - prc: 0.5438 - val_loss: 0.6494 - val_tp: 4.0000 - val_fp: 0.0000e+00 - val_tn: 16.0000 - val_fn: 7.0000 - val_accuracy: 0.7407 - val_precision: 1.0000 - val_recall: 0.3636 - val_auc: 0.5682 - val_prc: 0.6211\n",
      "Epoch 28/50\n",
      "4/4 [==============================] - 0s 19ms/step - loss: 0.7335 - tp: 24.0000 - fp: 20.0000 - tn: 37.0000 - fn: 25.0000 - accuracy: 0.5755 - precision: 0.5455 - recall: 0.4898 - auc: 0.5621 - prc: 0.5741 - val_loss: 0.6498 - val_tp: 4.0000 - val_fp: 0.0000e+00 - val_tn: 16.0000 - val_fn: 7.0000 - val_accuracy: 0.7407 - val_precision: 1.0000 - val_recall: 0.3636 - val_auc: 0.5653 - val_prc: 0.6201\n",
      "Epoch 29/50\n",
      "4/4 [==============================] - 0s 19ms/step - loss: 0.6760 - tp: 26.0000 - fp: 17.0000 - tn: 40.0000 - fn: 23.0000 - accuracy: 0.6226 - precision: 0.6047 - recall: 0.5306 - auc: 0.6532 - prc: 0.6212 - val_loss: 0.6499 - val_tp: 4.0000 - val_fp: 0.0000e+00 - val_tn: 16.0000 - val_fn: 7.0000 - val_accuracy: 0.7407 - val_precision: 1.0000 - val_recall: 0.3636 - val_auc: 0.5653 - val_prc: 0.6201\n",
      "Epoch 30/50\n",
      "4/4 [==============================] - 0s 19ms/step - loss: 0.7953 - tp: 23.0000 - fp: 24.0000 - tn: 33.0000 - fn: 26.0000 - accuracy: 0.5283 - precision: 0.4894 - recall: 0.4694 - auc: 0.5306 - prc: 0.4973 - val_loss: 0.6499 - val_tp: 4.0000 - val_fp: 0.0000e+00 - val_tn: 16.0000 - val_fn: 7.0000 - val_accuracy: 0.7407 - val_precision: 1.0000 - val_recall: 0.3636 - val_auc: 0.5653 - val_prc: 0.6201\n",
      "Epoch 31/50\n",
      "4/4 [==============================] - 0s 18ms/step - loss: 0.7491 - tp: 21.0000 - fp: 19.0000 - tn: 38.0000 - fn: 28.0000 - accuracy: 0.5566 - precision: 0.5250 - recall: 0.4286 - auc: 0.5752 - prc: 0.5399 - val_loss: 0.6511 - val_tp: 4.0000 - val_fp: 0.0000e+00 - val_tn: 16.0000 - val_fn: 7.0000 - val_accuracy: 0.7407 - val_precision: 1.0000 - val_recall: 0.3636 - val_auc: 0.5739 - val_prc: 0.6239\n",
      "Epoch 32/50\n",
      "4/4 [==============================] - 0s 19ms/step - loss: 0.7190 - tp: 20.0000 - fp: 17.0000 - tn: 40.0000 - fn: 29.0000 - accuracy: 0.5660 - precision: 0.5405 - recall: 0.4082 - auc: 0.5847 - prc: 0.5252 - val_loss: 0.6522 - val_tp: 4.0000 - val_fp: 0.0000e+00 - val_tn: 16.0000 - val_fn: 7.0000 - val_accuracy: 0.7407 - val_precision: 1.0000 - val_recall: 0.3636 - val_auc: 0.5710 - val_prc: 0.6229\n",
      "Epoch 33/50\n",
      "4/4 [==============================] - 0s 19ms/step - loss: 0.7769 - tp: 22.0000 - fp: 23.0000 - tn: 34.0000 - fn: 27.0000 - accuracy: 0.5283 - precision: 0.4889 - recall: 0.4490 - auc: 0.5469 - prc: 0.4742 - val_loss: 0.6525 - val_tp: 4.0000 - val_fp: 0.0000e+00 - val_tn: 16.0000 - val_fn: 7.0000 - val_accuracy: 0.7407 - val_precision: 1.0000 - val_recall: 0.3636 - val_auc: 0.5710 - val_prc: 0.6230\n",
      "Epoch 34/50\n",
      "1/4 [======>.......................] - ETA: 0s - loss: 0.6032 - tp: 8.0000 - fp: 5.0000 - tn: 14.0000 - fn: 5.0000 - accuracy: 0.6875 - precision: 0.6154 - recall: 0.6154 - auc: 0.7166 - prc: 0.6882Restoring model weights from the end of the best epoch: 24.\n",
      "4/4 [==============================] - 0s 21ms/step - loss: 0.7374 - tp: 19.0000 - fp: 16.0000 - tn: 41.0000 - fn: 30.0000 - accuracy: 0.5660 - precision: 0.5429 - recall: 0.3878 - auc: 0.5575 - prc: 0.5324 - val_loss: 0.6528 - val_tp: 4.0000 - val_fp: 0.0000e+00 - val_tn: 16.0000 - val_fn: 7.0000 - val_accuracy: 0.7407 - val_precision: 1.0000 - val_recall: 0.3636 - val_auc: 0.5710 - val_prc: 0.6230\n",
      "Epoch 34: early stopping\n"
     ]
    }
   ],
   "source": [
    "history = model.train(X_train, y_train, X_val, y_val, epochs, batch_size, early_stopping)\n",
    "#plt.plot(history.history['loss'])\n",
    "#plt.show()"
   ]
  },
  {
   "cell_type": "code",
   "execution_count": 109,
   "id": "94c13034",
   "metadata": {},
   "outputs": [
    {
     "data": {
      "text/plain": [
       "33"
      ]
     },
     "execution_count": 109,
     "metadata": {},
     "output_type": "execute_result"
    }
   ],
   "source": [
    "early_stopping.stopped_epoch"
   ]
  },
  {
   "cell_type": "code",
   "execution_count": 110,
   "id": "9045cabd",
   "metadata": {},
   "outputs": [],
   "source": [
    "#plot_loss(history, \"Bias\", 0)\n",
    "#plt.show()"
   ]
  },
  {
   "cell_type": "code",
   "execution_count": 111,
   "id": "b5a4f23c",
   "metadata": {},
   "outputs": [],
   "source": [
    "#plot_metrics(history)\n",
    "#plt.show()"
   ]
  },
  {
   "cell_type": "code",
   "execution_count": 112,
   "id": "819499c3",
   "metadata": {},
   "outputs": [
    {
     "name": "stdout",
     "output_type": "stream",
     "text": [
      "4/4 [==============================] - 0s 2ms/step\n",
      "1/1 [==============================] - 0s 20ms/step\n",
      "loss :  0.6485836505889893\n",
      "tp :  2.0\n",
      "fp :  1.0\n",
      "tn :  6.0\n",
      "fn :  6.0\n",
      "accuracy :  0.5333333611488342\n",
      "0.5333333611488342\n",
      "precision :  0.6666666865348816\n",
      "recall :  0.25\n",
      "auc :  0.6964285969734192\n",
      "prc :  0.6860556602478027\n"
     ]
    }
   ],
   "source": [
    "predictions_train = model.predict(X_train)\n",
    "predictions_test = model.predict(X_test)\n",
    "\n",
    "# Confusion matrix\n",
    "results = model.evaluate(X_test, y_test)\n",
    "for name, value in zip(model.metrics_names(), results):\n",
    "    print(name, ': ', value)\n",
    "    if name == 'accuracy':\n",
    "        print(value)\n",
    "        accuracy_thirtytwo_mean.append(value)"
   ]
  },
  {
   "cell_type": "code",
   "execution_count": 113,
   "id": "d890b7c8",
   "metadata": {},
   "outputs": [
    {
     "name": "stdout",
     "output_type": "stream",
     "text": [
      "True Negatives:  6\n",
      "False Positives:  1\n",
      "False Negatives:  6\n",
      "True Positives:  2\n",
      "Total:  8\n"
     ]
    },
    {
     "data": {
      "image/png": "[encoded data removed]",
      "text/plain": [
       "<Figure size 500x500 with 2 Axes>"
      ]
     },
     "metadata": {},
     "output_type": "display_data"
    }
   ],
   "source": [
    "plot_cm(y_test, predictions_test)\n",
    "plt.show()"
   ]
  },
  {
   "cell_type": "code",
   "execution_count": 114,
   "id": "c203c253",
   "metadata": {},
   "outputs": [],
   "source": [
    "#plot_roc(\"Test Predictions\", y_test, predictions_test, color=colors[0], linestyle='--')\n",
    "#plt.legend(loc='lower right')\n",
    "#plt.show()"
   ]
  },
  {
   "cell_type": "code",
   "execution_count": 115,
   "id": "885ee060",
   "metadata": {},
   "outputs": [],
   "source": [
    "# Precision-Recall Curve (PRC)\n",
    "#plot_prc(\"Train Predictions\", y_train, predictions_train, color=colors[0])\n",
    "#plot_prc(\"Test Predictions\", y_test, predictions_test, color=colors[0], linestyle='--')\n",
    "#plt.legend(loc='lower right')\n",
    "#plt.show()"
   ]
  },
  {
   "cell_type": "code",
   "execution_count": 116,
   "id": "d2f024ce",
   "metadata": {},
   "outputs": [],
   "source": [
    "#STOP"
   ]
  },
  {
   "cell_type": "code",
   "execution_count": 117,
   "id": "a25fb719",
   "metadata": {},
   "outputs": [
    {
     "name": "stdout",
     "output_type": "stream",
     "text": [
      "[0.9333333373069763, 0.8666666746139526]\n",
      "[0.8666666746139526, 0.9333333373069763]\n",
      "[0.4000000059604645, 0.3333333432674408]\n",
      "[0.2666666805744171, 0.5333333611488342]\n"
     ]
    }
   ],
   "source": [
    "print(accuracy_sixteen_min_max)\n",
    "print(accuracy_thirtytwo_min_max)\n",
    "print(accuracy_sixteen_mean)\n",
    "print(accuracy_thirtytwo_mean)"
   ]
  },
  {
   "cell_type": "markdown",
   "id": "ec3bc74a",
   "metadata": {},
   "source": [
    "# Summarry"
   ]
  },
  {
   "cell_type": "code",
   "execution_count": 118,
   "id": "22344219",
   "metadata": {},
   "outputs": [
    {
     "data": {
      "image/png": "[encoded data removed]",
      "text/plain": [
       "<Figure size 1200x1000 with 1 Axes>"
      ]
     },
     "metadata": {},
     "output_type": "display_data"
    }
   ],
   "source": [
    "col = [1, 2, 3, 4, 5, 6, 7, 8]\n",
    "accuracy = accuracy_sixteen_min_max + accuracy_thirtytwo_min_max + accuracy_sixteen_mean + accuracy_thirtytwo_mean\n",
    "\n",
    "tick_label = ['Dense(16 min/max)', 'CNN(16 min/max)', 'Dense(32 min/max)', 'CNN(32 min/max)', 'Dense(16 mean)', 'CNN(16 mean)', 'Dense(32 mean)', 'CNN(32 mean)']\n",
    "\n",
    "plt.bar(col, accuracy, tick_label = tick_label, width = 0.8)\n",
    "    \n",
    "plt.xticks(rotation=45, horizontalalignment=\"right\")\n",
    "plt.xlabel('Model')\n",
    "plt.ylabel('Accuracy')\n",
    "plt.title('Model vs Accuracy')\n",
    "\n",
    "plt.show()   "
   ]
  },
  {
   "cell_type": "code",
   "execution_count": null,
   "id": "496c6388",
   "metadata": {},
   "outputs": [],
   "source": []
  },
  {
   "cell_type": "code",
   "execution_count": null,
   "id": "08e9a4a5",
   "metadata": {},
   "outputs": [],
   "source": []
  }
 ],
 "metadata": {
  "kernelspec": {
   "display_name": "Python 3 (ipykernel)",
   "language": "python",
   "name": "python3"
  },
  "language_info": {
   "codemirror_mode": {
    "name": "ipython",
    "version": 3
   },
   "file_extension": ".py",
   "mimetype": "text/x-python",
   "name": "python",
   "nbconvert_exporter": "python",
   "pygments_lexer": "ipython3",
   "version": "3.9.6"
  }
 },
 "nbformat": 4,
 "nbformat_minor": 5
}
