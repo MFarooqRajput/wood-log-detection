{
 "cells": [
  {
   "cell_type": "code",
   "execution_count": 1,
   "id": "adf08eb4",
   "metadata": {},
   "outputs": [
    {
     "name": "stdout",
     "output_type": "stream",
     "text": [
      "/Users/muhammadfarooq/Codebase/thesis-experiment/Pith2Bark\n"
     ]
    }
   ],
   "source": [
    "cd .."
   ]
  },
  {
   "cell_type": "code",
   "execution_count": 2,
   "id": "7218123d",
   "metadata": {},
   "outputs": [],
   "source": [
    "from src.winner import winner_model_rings\n",
    "from src.damage import merge_df\n",
    "from src.damage import read_damage_min_max\n",
    "from src.damage import read_damage_mean"
   ]
  },
  {
   "cell_type": "code",
   "execution_count": 3,
   "id": "a3067876",
   "metadata": {},
   "outputs": [
    {
     "name": "stderr",
     "output_type": "stream",
     "text": [
      "2023-04-10 22:38:55.461655: I tensorflow/core/platform/cpu_feature_guard.cc:193] This TensorFlow binary is optimized with oneAPI Deep Neural Network Library (oneDNN) to use the following CPU instructions in performance-critical operations:  AVX2 AVX512F AVX512_VNNI FMA\n",
      "To enable them in other operations, rebuild TensorFlow with the appropriate compiler flags.\n"
     ]
    }
   ],
   "source": [
    "import numpy as np\n",
    "import matplotlib as mpl\n",
    "import matplotlib.pyplot as plt\n",
    "import seaborn as sns\n",
    "from numpy import unique\n",
    "\n",
    "from tensorflow.keras.layers import Conv1D, Dense, MaxPool1D, MaxPooling1D, Dropout, Flatten\n",
    "import tensorflow as tf\n",
    "from tensorflow import keras\n",
    "from tensorflow.keras.models import Sequential\n",
    "from tensorflow.keras.layers import InputLayer\n",
    "\n",
    "from sklearn.model_selection import train_test_split\n",
    "from sklearn.preprocessing import StandardScaler\n",
    "from sklearn.model_selection import KFold\n",
    "\n",
    "from keras.callbacks import EarlyStopping\n",
    "from sklearn.metrics import confusion_matrix, roc_curve, precision_recall_curve\n",
    "\n",
    "from keras.layers import BatchNormalization"
   ]
  },
  {
   "cell_type": "code",
   "execution_count": 4,
   "id": "3daa7336",
   "metadata": {},
   "outputs": [],
   "source": [
    "import warnings\n",
    "warnings.simplefilter('ignore')\n",
    "\n",
    "mpl.rcParams['figure.figsize'] = (12, 10)\n",
    "colors = plt.rcParams['axes.prop_cycle'].by_key()['color']\n",
    "\n",
    "random_state = 47\n",
    "np.random.seed(random_state)"
   ]
  },
  {
   "cell_type": "markdown",
   "id": "80c37980",
   "metadata": {},
   "source": [
    "# Visual"
   ]
  },
  {
   "cell_type": "code",
   "execution_count": 5,
   "id": "b394214c",
   "metadata": {},
   "outputs": [],
   "source": [
    "def plot_loss(history, label, n):\n",
    "    plt.semilogy(history.epoch, history.history['loss'],\n",
    "                 color=colors[n], label='Train ' + label)\n",
    "    plt.semilogy(history.epoch, history.history['val_loss'],\n",
    "                 color=colors[n], label='Val ' + label,\n",
    "                 linestyle=\"--\")\n",
    "    plt.xlabel('Epoch')\n",
    "    plt.ylabel('Loss')\n",
    "    \n",
    "def plot_metrics(history):\n",
    "    metrics = ['loss', 'prc', 'precision', 'recall']\n",
    "    for n, metric in enumerate(metrics):\n",
    "        name = metric.replace(\"_\",\" \").capitalize()\n",
    "        plt.subplot(2,2,n+1)\n",
    "        plt.plot(history.epoch, history.history[metric], color=colors[0], label='Train')\n",
    "        plt.plot(history.epoch, history.history['val_'+metric],\n",
    "                 color=colors[0], linestyle=\"--\", label='Val')\n",
    "        plt.xlabel('Epoch')\n",
    "        plt.ylabel(name)\n",
    "        if metric == 'loss':\n",
    "            plt.ylim([0, plt.ylim()[1]])\n",
    "        elif metric == 'auc':\n",
    "            plt.ylim([0.8,1])\n",
    "        else:\n",
    "            plt.ylim([0,1])\n",
    "        plt.legend()\n",
    "\n",
    "def plot_cm(labels, predictions, p=0.5):\n",
    "    cm = confusion_matrix(labels, predictions > p)\n",
    "    plt.figure(figsize=(5,5))\n",
    "    sns.heatmap(cm, annot=True, fmt=\"d\")\n",
    "    plt.title('Confusion matrix @{:.2f}'.format(p))\n",
    "    plt.ylabel('Actual label')\n",
    "    plt.xlabel('Predicted label')\n",
    "\n",
    "    print('True Negatives: ', cm[0][0])\n",
    "    print('False Positives: ', cm[0][1])\n",
    "    print('False Negatives: ', cm[1][0])\n",
    "    print('True Positives: ', cm[1][1])\n",
    "    print('Total: ', np.sum(cm[1]))\n",
    "\n",
    "def plot_roc(name, labels, predictions, **kwargs):\n",
    "    fp, tp, _ = roc_curve(labels, predictions)\n",
    "\n",
    "    plt.plot(100*fp, 100*tp, label=name, linewidth=2, **kwargs)\n",
    "    plt.xlabel('False positives [%]')\n",
    "    plt.ylabel('True positives [%]')\n",
    "    plt.grid(True)\n",
    "    ax = plt.gca()\n",
    "    ax.set_aspect('equal')\n",
    "\n",
    "def plot_prc(name, labels, predictions, **kwargs):\n",
    "    precision, recall, _ = precision_recall_curve(labels, predictions)\n",
    "\n",
    "    plt.plot(precision, recall, label=name, linewidth=2, **kwargs)\n",
    "    plt.xlabel('Recall')\n",
    "    plt.ylabel('Precision')\n",
    "    plt.grid(True)\n",
    "    ax = plt.gca()\n",
    "    ax.set_aspect('equal')"
   ]
  },
  {
   "cell_type": "markdown",
   "id": "8c6ccf3c",
   "metadata": {},
   "source": [
    "# Configuration"
   ]
  },
  {
   "cell_type": "code",
   "execution_count": 6,
   "id": "426bceec",
   "metadata": {},
   "outputs": [
    {
     "name": "stderr",
     "output_type": "stream",
     "text": [
      "2023-04-10 22:38:59.645612: I tensorflow/core/platform/cpu_feature_guard.cc:193] This TensorFlow binary is optimized with oneAPI Deep Neural Network Library (oneDNN) to use the following CPU instructions in performance-critical operations:  AVX2 AVX512F AVX512_VNNI FMA\n",
      "To enable them in other operations, rebuild TensorFlow with the appropriate compiler flags.\n"
     ]
    }
   ],
   "source": [
    "epochs, batch_size = 50, 32\n",
    "# 50, 32\n",
    "# 500, 50\n",
    "kf = KFold(n_splits=3, shuffle=True, random_state=42)\n",
    "\n",
    "accuracy_sixteen_min_max = []\n",
    "accuracy_thirtytwo_min_max = []\n",
    "accuracy_sixteen_mean = []\n",
    "accuracy_thirtytwo_mean = []\n",
    "\n",
    "# mode = max for monitro val_accuracy and val_prc\n",
    "\n",
    "early_stopping = EarlyStopping(\n",
    "    monitor='val_loss', \n",
    "    verbose=1,\n",
    "    patience=10,\n",
    "    mode='min',\n",
    "    restore_best_weights=True)\n",
    "\n",
    "METRICS = [\n",
    "    keras.metrics.TruePositives(name='tp'),\n",
    "    keras.metrics.FalsePositives(name='fp'),\n",
    "    keras.metrics.TrueNegatives(name='tn'),\n",
    "    keras.metrics.FalseNegatives(name='fn'), \n",
    "    keras.metrics.BinaryAccuracy(name='accuracy'),\n",
    "    keras.metrics.Precision(name='precision'),\n",
    "    keras.metrics.Recall(name='recall'),\n",
    "    keras.metrics.AUC(name='auc'),\n",
    "    keras.metrics.AUC(name='prc', curve='PR'), # precision-recall curve\n",
    "]\n",
    "\n",
    "#columns to drop\n",
    "columns = ['image', 'algo']"
   ]
  },
  {
   "cell_type": "markdown",
   "id": "f997a936",
   "metadata": {},
   "source": [
    "# Prepare Dataset"
   ]
  },
  {
   "cell_type": "code",
   "execution_count": 7,
   "id": "fe5a18bd",
   "metadata": {},
   "outputs": [
    {
     "name": "stdout",
     "output_type": "stream",
     "text": [
      "Polar Pith Canny(blur otsu) 12.829318845239923 (subseq)\n",
      "Polar Pith Canny(blur otsu) 12.88055458721076 (subseq)\n"
     ]
    }
   ],
   "source": [
    "mse_url = \"output/ringsranking_mse_sixteen.csv\"\n",
    "rings_url = \"output/ringsranking_rings_sixteen.csv\"\n",
    "df_ringsranking_sixteen = winner_model_rings(mse_url, rings_url)\n",
    "\n",
    "mse_url = \"output/ringsranking_mse_thirtytwo.csv\"\n",
    "rings_url = \"output/ringsranking_rings_thirtytwo.csv\"\n",
    "df_ringsranking_thirtytwo = winner_model_rings(mse_url, rings_url)"
   ]
  },
  {
   "cell_type": "code",
   "execution_count": 8,
   "id": "4cc20eef",
   "metadata": {},
   "outputs": [
    {
     "name": "stdout",
     "output_type": "stream",
     "text": [
      "Polar Pith Canny(blur triangle) 19.888455438324574 (peaks)\n",
      "Polar Pith Canny(blur triangle) 19.591747084408897 (peaks)\n"
     ]
    }
   ],
   "source": [
    "mse_url = \"output/pine_mse_sixteen.csv\"\n",
    "rings_url = \"output/pine_rings_sixteen.csv\"\n",
    "df_pine_sixteen = winner_model_rings(mse_url, rings_url)\n",
    "\n",
    "mse_url = \"output/pine_mse_thirtytwo.csv\"\n",
    "rings_url = \"output/pine_rings_thirtytwo.csv\"\n",
    "df_pine_thirtytwo = winner_model_rings(mse_url, rings_url)"
   ]
  },
  {
   "cell_type": "code",
   "execution_count": 9,
   "id": "a43a2fd5",
   "metadata": {},
   "outputs": [
    {
     "name": "stdout",
     "output_type": "stream",
     "text": [
      "Polar Pith Canny(blur triangle) 13.428984012468806 (peaks)\n",
      "Polar Pith Canny(blur triangle) 13.688767879960144 (peaks)\n"
     ]
    }
   ],
   "source": [
    "mse_url = \"output/fur_mse_sixteen.csv\"\n",
    "rings_url = \"output/fur_rings_sixteen.csv\"\n",
    "df_fur_sixteen = winner_model_rings(mse_url, rings_url)\n",
    "\n",
    "mse_url = \"output/fur_mse_thirtytwo.csv\"\n",
    "rings_url = \"output/fur_rings_thirtytwo.csv\"\n",
    "df_fur_thirtytwo = winner_model_rings(mse_url, rings_url)"
   ]
  },
  {
   "cell_type": "code",
   "execution_count": 10,
   "id": "952163f8",
   "metadata": {},
   "outputs": [
    {
     "name": "stdout",
     "output_type": "stream",
     "text": [
      "Polar Canny(triangle) 39.683736416974455 (peaks)\n",
      "Polar Pith Canny(triangle) 39.48914666858598 (peaks)\n"
     ]
    }
   ],
   "source": [
    "mse_url = \"output/tracy_mse_sixteen.csv\"\n",
    "rings_url = \"output/tracy_rings_sixteen.csv\"\n",
    "df_tracy_sixteen = winner_model_rings(mse_url, rings_url)\n",
    "\n",
    "mse_url = \"output/tracy_mse_thirtytwo.csv\"\n",
    "rings_url = \"output/tracy_rings_thirtytwo.csv\"\n",
    "df_tracy_thirtytwo = winner_model_rings(mse_url, rings_url)"
   ]
  },
  {
   "cell_type": "code",
   "execution_count": 11,
   "id": "dc59f33c",
   "metadata": {},
   "outputs": [
    {
     "name": "stdout",
     "output_type": "stream",
     "text": [
      "Canny(triangle) 18.789996216404624 (subseq)\n",
      "Canny(triangle) 18.871624925897343 (subseq)\n"
     ]
    }
   ],
   "source": [
    "mse_url = \"output/data_mse_sixteen.csv\"\n",
    "rings_url = \"output/data_rings_sixteen.csv\"\n",
    "df_data_sixteen = winner_model_rings(mse_url, rings_url)\n",
    "\n",
    "mse_url = \"output/data_mse_thirtytwo.csv\"\n",
    "rings_url = \"output/data_rings_thirtytwo.csv\"\n",
    "df_data_thirtytwo = winner_model_rings(mse_url, rings_url)"
   ]
  },
  {
   "cell_type": "code",
   "execution_count": 12,
   "id": "7f0fa2ef",
   "metadata": {},
   "outputs": [],
   "source": [
    "#damage\n",
    "damage_sixteen_url = \"damage/damage_sixteen.csv\"\n",
    "damage_thirtytwo_url = \"damage/damage_thirtytwo.csv\"\n",
    "\n",
    "#merge\n",
    "df_merge_sixteen = merge_df(df_ringsranking_sixteen, df_pine_sixteen, df_fur_sixteen, df_tracy_sixteen, df_data_sixteen)\n",
    "df_merge_thirtytwo = merge_df(df_ringsranking_thirtytwo, df_pine_thirtytwo, df_fur_thirtytwo, df_tracy_thirtytwo, df_data_thirtytwo)\n",
    "\n",
    "df_damage_sixteen_min_max = read_damage_min_max(damage_sixteen_url, df_merge_sixteen)\n",
    "df_damage_thirtytwo_min_max = read_damage_min_max(damage_thirtytwo_url, df_merge_thirtytwo)\n",
    "\n",
    "df_damage_sixteen_mean = read_damage_mean(damage_sixteen_url, df_merge_sixteen)\n",
    "df_damage_thirtytwo_mean = read_damage_mean(damage_thirtytwo_url, df_merge_thirtytwo)"
   ]
  },
  {
   "cell_type": "code",
   "execution_count": 13,
   "id": "c3450480",
   "metadata": {},
   "outputs": [],
   "source": [
    "#df_damage_sixteen_min_max"
   ]
  },
  {
   "cell_type": "code",
   "execution_count": 14,
   "id": "8d2f32fc",
   "metadata": {},
   "outputs": [],
   "source": [
    "#df_damage_thirtytwo_min_max"
   ]
  },
  {
   "cell_type": "code",
   "execution_count": 15,
   "id": "f17fcb9b",
   "metadata": {},
   "outputs": [],
   "source": [
    "#df_damage_sixteen_mean"
   ]
  },
  {
   "cell_type": "code",
   "execution_count": 16,
   "id": "e3d93efc",
   "metadata": {},
   "outputs": [],
   "source": [
    "#df_damage_thirtytwo_mean"
   ]
  },
  {
   "cell_type": "code",
   "execution_count": 17,
   "id": "4a89d4fb",
   "metadata": {},
   "outputs": [],
   "source": [
    "#STOP"
   ]
  },
  {
   "cell_type": "markdown",
   "id": "e16663a1",
   "metadata": {},
   "source": [
    "# Dense Model"
   ]
  },
  {
   "cell_type": "code",
   "execution_count": 18,
   "id": "52f3c176",
   "metadata": {},
   "outputs": [],
   "source": [
    "def layerFactory(type, nodes, activation):\n",
    "        if type == 'Dense':\n",
    "            if not activation:\n",
    "                return Dense(units=nodes)\n",
    "            else:\n",
    "                return Dense(units=nodes, activation=activation)\n",
    "        if type == 'Conv1D':\n",
    "            if not activation:\n",
    "                return Conv1D(units=nodes)\n",
    "            else:\n",
    "                return Conv1D(units=nodes, activation=activation)\n",
    "        if type == 'MaxPooling1D':\n",
    "            if not activation:\n",
    "                return MaxPooling1D(units=nodes)\n",
    "            else:\n",
    "                return MaxPooling1D(units=nodes, activation=activation)\n",
    "        if type == 'Dropout':\n",
    "            return Dropout(rate=nodes)\n",
    "        if type == 'Flatten':\n",
    "            if not activation:\n",
    "                return Flatten(units=nodes)\n",
    "            else:\n",
    "                return Flatten(units=nodes, activation=activation)\n",
    "\n",
    "        return Dense(units=nodes, activation=activation)"
   ]
  },
  {
   "cell_type": "code",
   "execution_count": 19,
   "id": "e7a10910",
   "metadata": {},
   "outputs": [],
   "source": [
    "class DenseModel():\n",
    "    def __init__(self, layers, input_dim, metrics=METRICS, output_bias=None):\n",
    "        if output_bias is not None:\n",
    "            output_bias = tf.keras.initializers.Constant(output_bias)\n",
    "\n",
    "        model = Sequential([\n",
    "            InputLayer(input_shape=(input_dim))\n",
    "        ])\n",
    "\n",
    "        for layer in layers:\n",
    "            model.add(layerFactory(layer['type'], layer['nodes'], layer['activation']))\n",
    "\n",
    "        model.compile(\n",
    "            optimizer=tf.keras.optimizers.Adam(learning_rate=0.0001),\n",
    "            loss='binary_crossentropy',\n",
    "            metrics=metrics)\n",
    "        \n",
    "        self.model = model\n",
    "    \n",
    "    def train(self, X_train, y_train, X_val, y_val, epochs, batch_size, callback):\n",
    "        history = self.model.fit(X_train, y_train, validation_data=(X_val, y_val), epochs=epochs, batch_size=batch_size, verbose=1, shuffle=True, callbacks=[callback])\n",
    "        return history\n",
    "\n",
    "    def evaluate(self, X_test, y_test):\n",
    "        results = self.model.evaluate(X_test, y_test, verbose=0)\n",
    "        return results\n",
    "\n",
    "    def predict(self, X): #X_train X_test\n",
    "        predictions = self.model.predict(X)\n",
    "        return predictions\n",
    "    \n",
    "    def summary(self):\n",
    "        self.model.summary()\n",
    "        \n",
    "    def metrics_names(self):\n",
    "        return self.model.metrics_names"
   ]
  },
  {
   "cell_type": "markdown",
   "id": "68d831a3",
   "metadata": {},
   "source": [
    "## 1 Dense Model with 16 Lines"
   ]
  },
  {
   "cell_type": "markdown",
   "id": "7a5d3420",
   "metadata": {},
   "source": [
    "### Dataset"
   ]
  },
  {
   "cell_type": "code",
   "execution_count": 20,
   "id": "5608f968",
   "metadata": {},
   "outputs": [],
   "source": [
    "# prepare dataset\n",
    "df = df_damage_sixteen_min_max.drop(columns=columns)"
   ]
  },
  {
   "cell_type": "code",
   "execution_count": 21,
   "id": "6e225eb6",
   "metadata": {},
   "outputs": [
    {
     "name": "stdout",
     "output_type": "stream",
     "text": [
      "Training features shape: (106, 20)\n",
      "Training labels shape: (106,) \n",
      "\n",
      "Validation features shape: (27, 20)\n",
      "Validation labels shape: (27,) \n",
      "\n",
      "Test features shape: (15, 20)\n",
      "Test labels shape: (15,) \n",
      "\n"
     ]
    }
   ],
   "source": [
    "# Split into sets for training, validation, and testing + use and save scaler\n",
    "\n",
    "X = df.drop(columns=['Damage'])\n",
    "y = df['Damage']\n",
    "\n",
    "X_train, X_test, y_train, y_test = train_test_split(X, y, test_size=0.1, random_state=random_state)\n",
    "X_train, X_val, y_train, y_val = train_test_split(X_train, y_train, test_size=0.2, random_state=random_state)\n",
    "\n",
    "scaler_sixteen = StandardScaler()\n",
    "X_train = scaler_sixteen.fit_transform(X_train)\n",
    "\n",
    "X_val = scaler_sixteen.transform(X_val)\n",
    "X_test = scaler_sixteen.transform(X_test)\n",
    "\n",
    "print('Training features shape:', X_train.shape)\n",
    "print('Training labels shape:', y_train.shape, '\\n')\n",
    "\n",
    "print('Validation features shape:', X_val.shape)\n",
    "print('Validation labels shape:', y_val.shape, '\\n')\n",
    "\n",
    "print('Test features shape:', X_test.shape)\n",
    "print('Test labels shape:', y_test.shape, '\\n')"
   ]
  },
  {
   "cell_type": "markdown",
   "id": "ab1c3e45",
   "metadata": {},
   "source": [
    "### Model"
   ]
  },
  {
   "cell_type": "code",
   "execution_count": 22,
   "id": "0a6dd8d6",
   "metadata": {},
   "outputs": [
    {
     "name": "stdout",
     "output_type": "stream",
     "text": [
      "Model: \"sequential\"\n",
      "_________________________________________________________________\n",
      " Layer (type)                Output Shape              Param #   \n",
      "=================================================================\n",
      " dense (Dense)               (None, 16)                336       \n",
      "                                                                 \n",
      " dense_1 (Dense)             (None, 16)                272       \n",
      "                                                                 \n",
      " dense_2 (Dense)             (None, 1)                 17        \n",
      "                                                                 \n",
      "=================================================================\n",
      "Total params: 625\n",
      "Trainable params: 625\n",
      "Non-trainable params: 0\n",
      "_________________________________________________________________\n"
     ]
    }
   ],
   "source": [
    "input_dim = X_train.shape[1]\n",
    "units = 16\n",
    "activation = 'relu'\n",
    "output_size = 1\n",
    "output_activation = 'sigmoid'\n",
    "kernel_initializer = 'he_uniform'\n",
    "\n",
    "LAYERS = [ \n",
    "    { 'type': 'Dense', 'nodes':units, 'activation': activation },\n",
    "    { 'type': 'Dense', 'nodes':units, 'activation': activation },\n",
    "    { 'type': 'Dense', 'nodes':output_size, 'activation': output_activation }\n",
    "]\n",
    "\n",
    "model = DenseModel(LAYERS, input_dim)\n",
    "model.summary()"
   ]
  },
  {
   "cell_type": "code",
   "execution_count": 23,
   "id": "84838301",
   "metadata": {},
   "outputs": [
    {
     "name": "stdout",
     "output_type": "stream",
     "text": [
      "Epoch 1/50\n",
      "4/4 [==============================] - 2s 166ms/step - loss: 0.7384 - tp: 3.0000 - fp: 15.0000 - tn: 53.0000 - fn: 35.0000 - accuracy: 0.5283 - precision: 0.1667 - recall: 0.0789 - auc: 0.2384 - prc: 0.2539 - val_loss: 0.7277 - val_tp: 2.0000 - val_fp: 6.0000 - val_tn: 11.0000 - val_fn: 8.0000 - val_accuracy: 0.4815 - val_precision: 0.2500 - val_recall: 0.2000 - val_auc: 0.3265 - val_prc: 0.3222\n",
      "Epoch 2/50\n",
      "4/4 [==============================] - 0s 20ms/step - loss: 0.7331 - tp: 3.0000 - fp: 14.0000 - tn: 54.0000 - fn: 35.0000 - accuracy: 0.5377 - precision: 0.1765 - recall: 0.0789 - auc: 0.2494 - prc: 0.2571 - val_loss: 0.7215 - val_tp: 2.0000 - val_fp: 6.0000 - val_tn: 11.0000 - val_fn: 8.0000 - val_accuracy: 0.4815 - val_precision: 0.2500 - val_recall: 0.2000 - val_auc: 0.3441 - val_prc: 0.3272\n",
      "Epoch 3/50\n",
      "4/4 [==============================] - 0s 20ms/step - loss: 0.7283 - tp: 3.0000 - fp: 13.0000 - tn: 55.0000 - fn: 35.0000 - accuracy: 0.5472 - precision: 0.1875 - recall: 0.0789 - auc: 0.2604 - prc: 0.2625 - val_loss: 0.7156 - val_tp: 3.0000 - val_fp: 6.0000 - val_tn: 11.0000 - val_fn: 7.0000 - val_accuracy: 0.5185 - val_precision: 0.3333 - val_recall: 0.3000 - val_auc: 0.3529 - val_prc: 0.3328\n",
      "Epoch 4/50\n",
      "4/4 [==============================] - 0s 21ms/step - loss: 0.7238 - tp: 3.0000 - fp: 13.0000 - tn: 55.0000 - fn: 35.0000 - accuracy: 0.5472 - precision: 0.1875 - recall: 0.0789 - auc: 0.2721 - prc: 0.2662 - val_loss: 0.7098 - val_tp: 3.0000 - val_fp: 6.0000 - val_tn: 11.0000 - val_fn: 7.0000 - val_accuracy: 0.5185 - val_precision: 0.3333 - val_recall: 0.3000 - val_auc: 0.3824 - val_prc: 0.3416\n",
      "Epoch 5/50\n",
      "4/4 [==============================] - 0s 20ms/step - loss: 0.7192 - tp: 4.0000 - fp: 12.0000 - tn: 56.0000 - fn: 34.0000 - accuracy: 0.5660 - precision: 0.2500 - recall: 0.1053 - auc: 0.2817 - prc: 0.2707 - val_loss: 0.7043 - val_tp: 3.0000 - val_fp: 5.0000 - val_tn: 12.0000 - val_fn: 7.0000 - val_accuracy: 0.5556 - val_precision: 0.3750 - val_recall: 0.3000 - val_auc: 0.3941 - val_prc: 0.3464\n",
      "Epoch 6/50\n",
      "4/4 [==============================] - 0s 20ms/step - loss: 0.7148 - tp: 4.0000 - fp: 12.0000 - tn: 56.0000 - fn: 34.0000 - accuracy: 0.5660 - precision: 0.2500 - recall: 0.1053 - auc: 0.2982 - prc: 0.2776 - val_loss: 0.6990 - val_tp: 3.0000 - val_fp: 5.0000 - val_tn: 12.0000 - val_fn: 7.0000 - val_accuracy: 0.5556 - val_precision: 0.3750 - val_recall: 0.3000 - val_auc: 0.4088 - val_prc: 0.3503\n",
      "Epoch 7/50\n",
      "4/4 [==============================] - 0s 20ms/step - loss: 0.7105 - tp: 4.0000 - fp: 12.0000 - tn: 56.0000 - fn: 34.0000 - accuracy: 0.5660 - precision: 0.2500 - recall: 0.1053 - auc: 0.3160 - prc: 0.2840 - val_loss: 0.6936 - val_tp: 3.0000 - val_fp: 5.0000 - val_tn: 12.0000 - val_fn: 7.0000 - val_accuracy: 0.5556 - val_precision: 0.3750 - val_recall: 0.3000 - val_auc: 0.4147 - val_prc: 0.3518\n",
      "Epoch 8/50\n",
      "4/4 [==============================] - 0s 19ms/step - loss: 0.7066 - tp: 4.0000 - fp: 12.0000 - tn: 56.0000 - fn: 34.0000 - accuracy: 0.5660 - precision: 0.2500 - recall: 0.1053 - auc: 0.3301 - prc: 0.2966 - val_loss: 0.6881 - val_tp: 3.0000 - val_fp: 5.0000 - val_tn: 12.0000 - val_fn: 7.0000 - val_accuracy: 0.5556 - val_precision: 0.3750 - val_recall: 0.3000 - val_auc: 0.4471 - val_prc: 0.4377\n",
      "Epoch 9/50\n",
      "4/4 [==============================] - 0s 19ms/step - loss: 0.7021 - tp: 4.0000 - fp: 12.0000 - tn: 56.0000 - fn: 34.0000 - accuracy: 0.5660 - precision: 0.2500 - recall: 0.1053 - auc: 0.3495 - prc: 0.3036 - val_loss: 0.6830 - val_tp: 3.0000 - val_fp: 5.0000 - val_tn: 12.0000 - val_fn: 7.0000 - val_accuracy: 0.5556 - val_precision: 0.3750 - val_recall: 0.3000 - val_auc: 0.4559 - val_prc: 0.4449\n",
      "Epoch 10/50\n",
      "4/4 [==============================] - 0s 20ms/step - loss: 0.6980 - tp: 4.0000 - fp: 12.0000 - tn: 56.0000 - fn: 34.0000 - accuracy: 0.5660 - precision: 0.2500 - recall: 0.1053 - auc: 0.3613 - prc: 0.3208 - val_loss: 0.6781 - val_tp: 3.0000 - val_fp: 5.0000 - val_tn: 12.0000 - val_fn: 7.0000 - val_accuracy: 0.5556 - val_precision: 0.3750 - val_recall: 0.3000 - val_auc: 0.4735 - val_prc: 0.4416\n",
      "Epoch 11/50\n",
      "4/4 [==============================] - 0s 19ms/step - loss: 0.6939 - tp: 6.0000 - fp: 12.0000 - tn: 56.0000 - fn: 32.0000 - accuracy: 0.5849 - precision: 0.3333 - recall: 0.1579 - auc: 0.3779 - prc: 0.3287 - val_loss: 0.6732 - val_tp: 3.0000 - val_fp: 5.0000 - val_tn: 12.0000 - val_fn: 7.0000 - val_accuracy: 0.5556 - val_precision: 0.3750 - val_recall: 0.3000 - val_auc: 0.4941 - val_prc: 0.4498\n",
      "Epoch 12/50\n",
      "4/4 [==============================] - 0s 19ms/step - loss: 0.6898 - tp: 6.0000 - fp: 12.0000 - tn: 56.0000 - fn: 32.0000 - accuracy: 0.5849 - precision: 0.3333 - recall: 0.1579 - auc: 0.3918 - prc: 0.3362 - val_loss: 0.6682 - val_tp: 3.0000 - val_fp: 5.0000 - val_tn: 12.0000 - val_fn: 7.0000 - val_accuracy: 0.5556 - val_precision: 0.3750 - val_recall: 0.3000 - val_auc: 0.5147 - val_prc: 0.4563\n",
      "Epoch 13/50\n",
      "4/4 [==============================] - 0s 19ms/step - loss: 0.6860 - tp: 6.0000 - fp: 12.0000 - tn: 56.0000 - fn: 32.0000 - accuracy: 0.5849 - precision: 0.3333 - recall: 0.1579 - auc: 0.4087 - prc: 0.3441 - val_loss: 0.6632 - val_tp: 3.0000 - val_fp: 5.0000 - val_tn: 12.0000 - val_fn: 7.0000 - val_accuracy: 0.5556 - val_precision: 0.3750 - val_recall: 0.3000 - val_auc: 0.5294 - val_prc: 0.4704\n",
      "Epoch 14/50\n",
      "4/4 [==============================] - 0s 19ms/step - loss: 0.6815 - tp: 6.0000 - fp: 11.0000 - tn: 57.0000 - fn: 32.0000 - accuracy: 0.5943 - precision: 0.3529 - recall: 0.1579 - auc: 0.4276 - prc: 0.3537 - val_loss: 0.6583 - val_tp: 3.0000 - val_fp: 5.0000 - val_tn: 12.0000 - val_fn: 7.0000 - val_accuracy: 0.5556 - val_precision: 0.3750 - val_recall: 0.3000 - val_auc: 0.5441 - val_prc: 0.4762\n",
      "Epoch 15/50\n",
      "4/4 [==============================] - 0s 20ms/step - loss: 0.6776 - tp: 6.0000 - fp: 9.0000 - tn: 59.0000 - fn: 32.0000 - accuracy: 0.6132 - precision: 0.4000 - recall: 0.1579 - auc: 0.4536 - prc: 0.3676 - val_loss: 0.6533 - val_tp: 3.0000 - val_fp: 5.0000 - val_tn: 12.0000 - val_fn: 7.0000 - val_accuracy: 0.5556 - val_precision: 0.3750 - val_recall: 0.3000 - val_auc: 0.5706 - val_prc: 0.5250\n",
      "Epoch 16/50\n",
      "4/4 [==============================] - 0s 23ms/step - loss: 0.6738 - tp: 7.0000 - fp: 9.0000 - tn: 59.0000 - fn: 31.0000 - accuracy: 0.6226 - precision: 0.4375 - recall: 0.1842 - auc: 0.4745 - prc: 0.3765 - val_loss: 0.6483 - val_tp: 3.0000 - val_fp: 4.0000 - val_tn: 13.0000 - val_fn: 7.0000 - val_accuracy: 0.5926 - val_precision: 0.4286 - val_recall: 0.3000 - val_auc: 0.5941 - val_prc: 0.5365\n",
      "Epoch 17/50\n",
      "4/4 [==============================] - 0s 20ms/step - loss: 0.6699 - tp: 7.0000 - fp: 8.0000 - tn: 60.0000 - fn: 31.0000 - accuracy: 0.6321 - precision: 0.4667 - recall: 0.1842 - auc: 0.4963 - prc: 0.3890 - val_loss: 0.6433 - val_tp: 4.0000 - val_fp: 3.0000 - val_tn: 14.0000 - val_fn: 6.0000 - val_accuracy: 0.6667 - val_precision: 0.5714 - val_recall: 0.4000 - val_auc: 0.6235 - val_prc: 0.5526\n",
      "Epoch 18/50\n",
      "4/4 [==============================] - 0s 19ms/step - loss: 0.6661 - tp: 7.0000 - fp: 7.0000 - tn: 61.0000 - fn: 31.0000 - accuracy: 0.6415 - precision: 0.5000 - recall: 0.1842 - auc: 0.5180 - prc: 0.4026 - val_loss: 0.6384 - val_tp: 4.0000 - val_fp: 3.0000 - val_tn: 14.0000 - val_fn: 6.0000 - val_accuracy: 0.6667 - val_precision: 0.5714 - val_recall: 0.4000 - val_auc: 0.6559 - val_prc: 0.5726\n",
      "Epoch 19/50\n",
      "4/4 [==============================] - 0s 18ms/step - loss: 0.6622 - tp: 7.0000 - fp: 7.0000 - tn: 61.0000 - fn: 31.0000 - accuracy: 0.6415 - precision: 0.5000 - recall: 0.1842 - auc: 0.5424 - prc: 0.4162 - val_loss: 0.6336 - val_tp: 4.0000 - val_fp: 3.0000 - val_tn: 14.0000 - val_fn: 6.0000 - val_accuracy: 0.6667 - val_precision: 0.5714 - val_recall: 0.4000 - val_auc: 0.6765 - val_prc: 0.5859\n",
      "Epoch 20/50\n",
      "4/4 [==============================] - 0s 20ms/step - loss: 0.6584 - tp: 7.0000 - fp: 7.0000 - tn: 61.0000 - fn: 31.0000 - accuracy: 0.6415 - precision: 0.5000 - recall: 0.1842 - auc: 0.5642 - prc: 0.4320 - val_loss: 0.6289 - val_tp: 4.0000 - val_fp: 3.0000 - val_tn: 14.0000 - val_fn: 6.0000 - val_accuracy: 0.6667 - val_precision: 0.5714 - val_recall: 0.4000 - val_auc: 0.6853 - val_prc: 0.5906\n",
      "Epoch 21/50\n"
     ]
    },
    {
     "name": "stdout",
     "output_type": "stream",
     "text": [
      "4/4 [==============================] - 0s 21ms/step - loss: 0.6546 - tp: 7.0000 - fp: 6.0000 - tn: 62.0000 - fn: 31.0000 - accuracy: 0.6509 - precision: 0.5385 - recall: 0.1842 - auc: 0.5851 - prc: 0.4475 - val_loss: 0.6243 - val_tp: 4.0000 - val_fp: 2.0000 - val_tn: 15.0000 - val_fn: 6.0000 - val_accuracy: 0.7037 - val_precision: 0.6667 - val_recall: 0.4000 - val_auc: 0.7000 - val_prc: 0.5988\n",
      "Epoch 22/50\n",
      "4/4 [==============================] - 0s 20ms/step - loss: 0.6511 - tp: 8.0000 - fp: 6.0000 - tn: 62.0000 - fn: 30.0000 - accuracy: 0.6604 - precision: 0.5714 - recall: 0.2105 - auc: 0.6097 - prc: 0.4658 - val_loss: 0.6194 - val_tp: 4.0000 - val_fp: 2.0000 - val_tn: 15.0000 - val_fn: 6.0000 - val_accuracy: 0.7037 - val_precision: 0.6667 - val_recall: 0.4000 - val_auc: 0.7118 - val_prc: 0.6053\n",
      "Epoch 23/50\n",
      "4/4 [==============================] - 0s 18ms/step - loss: 0.6474 - tp: 10.0000 - fp: 6.0000 - tn: 62.0000 - fn: 28.0000 - accuracy: 0.6792 - precision: 0.6250 - recall: 0.2632 - auc: 0.6300 - prc: 0.4912 - val_loss: 0.6146 - val_tp: 4.0000 - val_fp: 2.0000 - val_tn: 15.0000 - val_fn: 6.0000 - val_accuracy: 0.7037 - val_precision: 0.6667 - val_recall: 0.4000 - val_auc: 0.7294 - val_prc: 0.6160\n",
      "Epoch 24/50\n",
      "4/4 [==============================] - 0s 17ms/step - loss: 0.6436 - tp: 11.0000 - fp: 6.0000 - tn: 62.0000 - fn: 27.0000 - accuracy: 0.6887 - precision: 0.6471 - recall: 0.2895 - auc: 0.6527 - prc: 0.5154 - val_loss: 0.6099 - val_tp: 4.0000 - val_fp: 2.0000 - val_tn: 15.0000 - val_fn: 6.0000 - val_accuracy: 0.7037 - val_precision: 0.6667 - val_recall: 0.4000 - val_auc: 0.7529 - val_prc: 0.6378\n",
      "Epoch 25/50\n",
      "4/4 [==============================] - 0s 18ms/step - loss: 0.6398 - tp: 11.0000 - fp: 6.0000 - tn: 62.0000 - fn: 27.0000 - accuracy: 0.6887 - precision: 0.6471 - recall: 0.2895 - auc: 0.6740 - prc: 0.5390 - val_loss: 0.6051 - val_tp: 4.0000 - val_fp: 2.0000 - val_tn: 15.0000 - val_fn: 6.0000 - val_accuracy: 0.7037 - val_precision: 0.6667 - val_recall: 0.4000 - val_auc: 0.7735 - val_prc: 0.6711\n",
      "Epoch 26/50\n",
      "4/4 [==============================] - 0s 19ms/step - loss: 0.6360 - tp: 12.0000 - fp: 7.0000 - tn: 61.0000 - fn: 26.0000 - accuracy: 0.6887 - precision: 0.6316 - recall: 0.3158 - auc: 0.6918 - prc: 0.5689 - val_loss: 0.6004 - val_tp: 4.0000 - val_fp: 2.0000 - val_tn: 15.0000 - val_fn: 6.0000 - val_accuracy: 0.7037 - val_precision: 0.6667 - val_recall: 0.4000 - val_auc: 0.7912 - val_prc: 0.6995\n",
      "Epoch 27/50\n",
      "4/4 [==============================] - 0s 21ms/step - loss: 0.6323 - tp: 13.0000 - fp: 7.0000 - tn: 61.0000 - fn: 25.0000 - accuracy: 0.6981 - precision: 0.6500 - recall: 0.3421 - auc: 0.7134 - prc: 0.5884 - val_loss: 0.5956 - val_tp: 4.0000 - val_fp: 2.0000 - val_tn: 15.0000 - val_fn: 6.0000 - val_accuracy: 0.7037 - val_precision: 0.6667 - val_recall: 0.4000 - val_auc: 0.8118 - val_prc: 0.7216\n",
      "Epoch 28/50\n",
      "4/4 [==============================] - 0s 17ms/step - loss: 0.6283 - tp: 14.0000 - fp: 7.0000 - tn: 61.0000 - fn: 24.0000 - accuracy: 0.7075 - precision: 0.6667 - recall: 0.3684 - auc: 0.7283 - prc: 0.6093 - val_loss: 0.5907 - val_tp: 5.0000 - val_fp: 2.0000 - val_tn: 15.0000 - val_fn: 5.0000 - val_accuracy: 0.7407 - val_precision: 0.7143 - val_recall: 0.5000 - val_auc: 0.8412 - val_prc: 0.7488\n",
      "Epoch 29/50\n",
      "4/4 [==============================] - 0s 17ms/step - loss: 0.6246 - tp: 15.0000 - fp: 7.0000 - tn: 61.0000 - fn: 23.0000 - accuracy: 0.7170 - precision: 0.6818 - recall: 0.3947 - auc: 0.7415 - prc: 0.6298 - val_loss: 0.5857 - val_tp: 5.0000 - val_fp: 2.0000 - val_tn: 15.0000 - val_fn: 5.0000 - val_accuracy: 0.7407 - val_precision: 0.7143 - val_recall: 0.5000 - val_auc: 0.8500 - val_prc: 0.7588\n",
      "Epoch 30/50\n",
      "4/4 [==============================] - 0s 16ms/step - loss: 0.6205 - tp: 16.0000 - fp: 7.0000 - tn: 61.0000 - fn: 22.0000 - accuracy: 0.7264 - precision: 0.6957 - recall: 0.4211 - auc: 0.7525 - prc: 0.6455 - val_loss: 0.5808 - val_tp: 5.0000 - val_fp: 2.0000 - val_tn: 15.0000 - val_fn: 5.0000 - val_accuracy: 0.7407 - val_precision: 0.7143 - val_recall: 0.5000 - val_auc: 0.8588 - val_prc: 0.7673\n",
      "Epoch 31/50\n",
      "4/4 [==============================] - 0s 18ms/step - loss: 0.6168 - tp: 18.0000 - fp: 7.0000 - tn: 61.0000 - fn: 20.0000 - accuracy: 0.7453 - precision: 0.7200 - recall: 0.4737 - auc: 0.7639 - prc: 0.6665 - val_loss: 0.5756 - val_tp: 7.0000 - val_fp: 2.0000 - val_tn: 15.0000 - val_fn: 3.0000 - val_accuracy: 0.8148 - val_precision: 0.7778 - val_recall: 0.7000 - val_auc: 0.8824 - val_prc: 0.7875\n",
      "Epoch 32/50\n",
      "4/4 [==============================] - 0s 17ms/step - loss: 0.6127 - tp: 19.0000 - fp: 7.0000 - tn: 61.0000 - fn: 19.0000 - accuracy: 0.7547 - precision: 0.7308 - recall: 0.5000 - auc: 0.7783 - prc: 0.6887 - val_loss: 0.5706 - val_tp: 7.0000 - val_fp: 2.0000 - val_tn: 15.0000 - val_fn: 3.0000 - val_accuracy: 0.8148 - val_precision: 0.7778 - val_recall: 0.7000 - val_auc: 0.8882 - val_prc: 0.8017\n",
      "Epoch 33/50\n",
      "4/4 [==============================] - 0s 19ms/step - loss: 0.6088 - tp: 19.0000 - fp: 7.0000 - tn: 61.0000 - fn: 19.0000 - accuracy: 0.7547 - precision: 0.7308 - recall: 0.5000 - auc: 0.7899 - prc: 0.7059 - val_loss: 0.5658 - val_tp: 7.0000 - val_fp: 2.0000 - val_tn: 15.0000 - val_fn: 3.0000 - val_accuracy: 0.8148 - val_precision: 0.7778 - val_recall: 0.7000 - val_auc: 0.8941 - val_prc: 0.8074\n",
      "Epoch 34/50\n",
      "4/4 [==============================] - 0s 17ms/step - loss: 0.6050 - tp: 19.0000 - fp: 7.0000 - tn: 61.0000 - fn: 19.0000 - accuracy: 0.7547 - precision: 0.7308 - recall: 0.5000 - auc: 0.7970 - prc: 0.7140 - val_loss: 0.5610 - val_tp: 7.0000 - val_fp: 2.0000 - val_tn: 15.0000 - val_fn: 3.0000 - val_accuracy: 0.8148 - val_precision: 0.7778 - val_recall: 0.7000 - val_auc: 0.9088 - val_prc: 0.8234\n",
      "Epoch 35/50\n",
      "4/4 [==============================] - 0s 17ms/step - loss: 0.6011 - tp: 19.0000 - fp: 7.0000 - tn: 61.0000 - fn: 19.0000 - accuracy: 0.7547 - precision: 0.7308 - recall: 0.5000 - auc: 0.8098 - prc: 0.7420 - val_loss: 0.5562 - val_tp: 6.0000 - val_fp: 2.0000 - val_tn: 15.0000 - val_fn: 4.0000 - val_accuracy: 0.7778 - val_precision: 0.7500 - val_recall: 0.6000 - val_auc: 0.9206 - val_prc: 0.8512\n",
      "Epoch 36/50\n",
      "4/4 [==============================] - 0s 19ms/step - loss: 0.5972 - tp: 20.0000 - fp: 7.0000 - tn: 61.0000 - fn: 18.0000 - accuracy: 0.7642 - precision: 0.7407 - recall: 0.5263 - auc: 0.8139 - prc: 0.7500 - val_loss: 0.5512 - val_tp: 7.0000 - val_fp: 2.0000 - val_tn: 15.0000 - val_fn: 3.0000 - val_accuracy: 0.8148 - val_precision: 0.7778 - val_recall: 0.7000 - val_auc: 0.9235 - val_prc: 0.8545\n",
      "Epoch 37/50\n",
      "4/4 [==============================] - 0s 19ms/step - loss: 0.5934 - tp: 21.0000 - fp: 7.0000 - tn: 61.0000 - fn: 17.0000 - accuracy: 0.7736 - precision: 0.7500 - recall: 0.5526 - auc: 0.8237 - prc: 0.7661 - val_loss: 0.5460 - val_tp: 7.0000 - val_fp: 2.0000 - val_tn: 15.0000 - val_fn: 3.0000 - val_accuracy: 0.8148 - val_precision: 0.7778 - val_recall: 0.7000 - val_auc: 0.9382 - val_prc: 0.8794\n",
      "Epoch 38/50\n",
      "4/4 [==============================] - 0s 19ms/step - loss: 0.5897 - tp: 22.0000 - fp: 6.0000 - tn: 62.0000 - fn: 16.0000 - accuracy: 0.7925 - precision: 0.7857 - recall: 0.5789 - auc: 0.8280 - prc: 0.7747 - val_loss: 0.5409 - val_tp: 7.0000 - val_fp: 2.0000 - val_tn: 15.0000 - val_fn: 3.0000 - val_accuracy: 0.8148 - val_precision: 0.7778 - val_recall: 0.7000 - val_auc: 0.9412 - val_prc: 0.8853\n",
      "Epoch 39/50\n",
      "4/4 [==============================] - 0s 17ms/step - loss: 0.5858 - tp: 22.0000 - fp: 6.0000 - tn: 62.0000 - fn: 16.0000 - accuracy: 0.7925 - precision: 0.7857 - recall: 0.5789 - auc: 0.8380 - prc: 0.7844 - val_loss: 0.5361 - val_tp: 8.0000 - val_fp: 2.0000 - val_tn: 15.0000 - val_fn: 2.0000 - val_accuracy: 0.8519 - val_precision: 0.8000 - val_recall: 0.8000 - val_auc: 0.9412 - val_prc: 0.8853\n",
      "Epoch 40/50\n",
      "4/4 [==============================] - 0s 20ms/step - loss: 0.5822 - tp: 22.0000 - fp: 6.0000 - tn: 62.0000 - fn: 16.0000 - accuracy: 0.7925 - precision: 0.7857 - recall: 0.5789 - auc: 0.8433 - prc: 0.7913 - val_loss: 0.5312 - val_tp: 8.0000 - val_fp: 2.0000 - val_tn: 15.0000 - val_fn: 2.0000 - val_accuracy: 0.8519 - val_precision: 0.8000 - val_recall: 0.8000 - val_auc: 0.9412 - val_prc: 0.8869\n",
      "Epoch 41/50\n"
     ]
    },
    {
     "name": "stdout",
     "output_type": "stream",
     "text": [
      "4/4 [==============================] - 0s 19ms/step - loss: 0.5787 - tp: 22.0000 - fp: 6.0000 - tn: 62.0000 - fn: 16.0000 - accuracy: 0.7925 - precision: 0.7857 - recall: 0.5789 - auc: 0.8466 - prc: 0.7995 - val_loss: 0.5264 - val_tp: 9.0000 - val_fp: 2.0000 - val_tn: 15.0000 - val_fn: 1.0000 - val_accuracy: 0.8889 - val_precision: 0.8182 - val_recall: 0.9000 - val_auc: 0.9441 - val_prc: 0.8902\n",
      "Epoch 42/50\n",
      "4/4 [==============================] - 0s 21ms/step - loss: 0.5750 - tp: 23.0000 - fp: 6.0000 - tn: 62.0000 - fn: 15.0000 - accuracy: 0.8019 - precision: 0.7931 - recall: 0.6053 - auc: 0.8516 - prc: 0.8100 - val_loss: 0.5214 - val_tp: 9.0000 - val_fp: 2.0000 - val_tn: 15.0000 - val_fn: 1.0000 - val_accuracy: 0.8889 - val_precision: 0.8182 - val_recall: 0.9000 - val_auc: 0.9529 - val_prc: 0.9102\n",
      "Epoch 43/50\n",
      "4/4 [==============================] - 0s 18ms/step - loss: 0.5712 - tp: 23.0000 - fp: 6.0000 - tn: 62.0000 - fn: 15.0000 - accuracy: 0.8019 - precision: 0.7931 - recall: 0.6053 - auc: 0.8557 - prc: 0.8160 - val_loss: 0.5162 - val_tp: 9.0000 - val_fp: 2.0000 - val_tn: 15.0000 - val_fn: 1.0000 - val_accuracy: 0.8889 - val_precision: 0.8182 - val_recall: 0.9000 - val_auc: 0.9559 - val_prc: 0.9206\n",
      "Epoch 44/50\n",
      "4/4 [==============================] - 0s 17ms/step - loss: 0.5674 - tp: 24.0000 - fp: 5.0000 - tn: 63.0000 - fn: 14.0000 - accuracy: 0.8208 - precision: 0.8276 - recall: 0.6316 - auc: 0.8570 - prc: 0.8191 - val_loss: 0.5107 - val_tp: 9.0000 - val_fp: 2.0000 - val_tn: 15.0000 - val_fn: 1.0000 - val_accuracy: 0.8889 - val_precision: 0.8182 - val_recall: 0.9000 - val_auc: 0.9588 - val_prc: 0.9249\n",
      "Epoch 45/50\n",
      "4/4 [==============================] - 0s 18ms/step - loss: 0.5638 - tp: 24.0000 - fp: 5.0000 - tn: 63.0000 - fn: 14.0000 - accuracy: 0.8208 - precision: 0.8276 - recall: 0.6316 - auc: 0.8616 - prc: 0.8252 - val_loss: 0.5053 - val_tp: 9.0000 - val_fp: 2.0000 - val_tn: 15.0000 - val_fn: 1.0000 - val_accuracy: 0.8889 - val_precision: 0.8182 - val_recall: 0.9000 - val_auc: 0.9588 - val_prc: 0.9249\n",
      "Epoch 46/50\n",
      "4/4 [==============================] - 0s 19ms/step - loss: 0.5599 - tp: 24.0000 - fp: 5.0000 - tn: 63.0000 - fn: 14.0000 - accuracy: 0.8208 - precision: 0.8276 - recall: 0.6316 - auc: 0.8657 - prc: 0.8328 - val_loss: 0.5001 - val_tp: 9.0000 - val_fp: 2.0000 - val_tn: 15.0000 - val_fn: 1.0000 - val_accuracy: 0.8889 - val_precision: 0.8182 - val_recall: 0.9000 - val_auc: 0.9618 - val_prc: 0.9324\n",
      "Epoch 47/50\n",
      "4/4 [==============================] - 0s 22ms/step - loss: 0.5562 - tp: 25.0000 - fp: 6.0000 - tn: 62.0000 - fn: 13.0000 - accuracy: 0.8208 - precision: 0.8065 - recall: 0.6579 - auc: 0.8692 - prc: 0.8364 - val_loss: 0.4951 - val_tp: 9.0000 - val_fp: 2.0000 - val_tn: 15.0000 - val_fn: 1.0000 - val_accuracy: 0.8889 - val_precision: 0.8182 - val_recall: 0.9000 - val_auc: 0.9676 - val_prc: 0.9468\n",
      "Epoch 48/50\n",
      "4/4 [==============================] - 0s 18ms/step - loss: 0.5523 - tp: 25.0000 - fp: 7.0000 - tn: 61.0000 - fn: 13.0000 - accuracy: 0.8113 - precision: 0.7812 - recall: 0.6579 - auc: 0.8729 - prc: 0.8428 - val_loss: 0.4899 - val_tp: 9.0000 - val_fp: 2.0000 - val_tn: 15.0000 - val_fn: 1.0000 - val_accuracy: 0.8889 - val_precision: 0.8182 - val_recall: 0.9000 - val_auc: 0.9676 - val_prc: 0.9468\n",
      "Epoch 49/50\n",
      "4/4 [==============================] - 0s 17ms/step - loss: 0.5486 - tp: 25.0000 - fp: 7.0000 - tn: 61.0000 - fn: 13.0000 - accuracy: 0.8113 - precision: 0.7812 - recall: 0.6579 - auc: 0.8760 - prc: 0.8449 - val_loss: 0.4847 - val_tp: 9.0000 - val_fp: 2.0000 - val_tn: 15.0000 - val_fn: 1.0000 - val_accuracy: 0.8889 - val_precision: 0.8182 - val_recall: 0.9000 - val_auc: 0.9735 - val_prc: 0.9594\n",
      "Epoch 50/50\n",
      "4/4 [==============================] - 0s 17ms/step - loss: 0.5449 - tp: 25.0000 - fp: 7.0000 - tn: 61.0000 - fn: 13.0000 - accuracy: 0.8113 - precision: 0.7812 - recall: 0.6579 - auc: 0.8795 - prc: 0.8493 - val_loss: 0.4794 - val_tp: 9.0000 - val_fp: 2.0000 - val_tn: 15.0000 - val_fn: 1.0000 - val_accuracy: 0.8889 - val_precision: 0.8182 - val_recall: 0.9000 - val_auc: 0.9735 - val_prc: 0.9626\n"
     ]
    }
   ],
   "source": [
    "history = model.train(X_train, y_train, X_val, y_val, epochs, batch_size, early_stopping)\n",
    "#plt.plot(history.history['loss'])\n",
    "#plt.show()"
   ]
  },
  {
   "cell_type": "code",
   "execution_count": 24,
   "id": "1b53d832",
   "metadata": {},
   "outputs": [
    {
     "data": {
      "text/plain": [
       "0"
      ]
     },
     "execution_count": 24,
     "metadata": {},
     "output_type": "execute_result"
    }
   ],
   "source": [
    "early_stopping.stopped_epoch"
   ]
  },
  {
   "cell_type": "code",
   "execution_count": 25,
   "id": "9a95df98",
   "metadata": {},
   "outputs": [],
   "source": [
    "#plot_loss(history, \"Bias\", 0)\n",
    "#plt.show()"
   ]
  },
  {
   "cell_type": "code",
   "execution_count": 26,
   "id": "c53fee07",
   "metadata": {},
   "outputs": [],
   "source": [
    "#plot_metrics(history)\n",
    "#plt.show()"
   ]
  },
  {
   "cell_type": "code",
   "execution_count": 27,
   "id": "764665b7",
   "metadata": {},
   "outputs": [
    {
     "name": "stdout",
     "output_type": "stream",
     "text": [
      "4/4 [==============================] - 0s 2ms/step\n",
      "1/1 [==============================] - 0s 21ms/step\n",
      "loss :  0.45920759439468384\n",
      "tp :  5.0\n",
      "fp :  0.0\n",
      "tn :  9.0\n",
      "fn :  1.0\n",
      "accuracy :  0.9333333373069763\n",
      "precision :  1.0\n",
      "recall :  0.8333333134651184\n",
      "auc :  1.0\n",
      "prc :  1.0\n"
     ]
    }
   ],
   "source": [
    "predictions_train = model.predict(X_train)\n",
    "predictions_test = model.predict(X_test)\n",
    "\n",
    "# Confusion matrix\n",
    "results = model.evaluate(X_test, y_test)\n",
    "for name, value in zip(model.metrics_names(), results):\n",
    "    print(name, ': ', value)\n",
    "    if name == 'accuracy':\n",
    "        accuracy_sixteen_min_max.append(value)"
   ]
  },
  {
   "cell_type": "code",
   "execution_count": 28,
   "id": "e2f9c161",
   "metadata": {},
   "outputs": [
    {
     "name": "stdout",
     "output_type": "stream",
     "text": [
      "True Negatives:  9\n",
      "False Positives:  0\n",
      "False Negatives:  1\n",
      "True Positives:  5\n",
      "Total:  6\n"
     ]
    },
    {
     "data": {
      "image/png": "[encoded data removed]",
      "text/plain": [
       "<Figure size 500x500 with 2 Axes>"
      ]
     },
     "metadata": {},
     "output_type": "display_data"
    }
   ],
   "source": [
    "plot_cm(y_test, predictions_test)\n",
    "plt.show()"
   ]
  },
  {
   "cell_type": "code",
   "execution_count": 29,
   "id": "3c4b7e7b",
   "metadata": {},
   "outputs": [],
   "source": [
    "#plot_roc(\"Test Predictions\", y_test, predictions_test, color=colors[0], linestyle='--')\n",
    "#plt.legend(loc='lower right')\n",
    "#plt.show()"
   ]
  },
  {
   "cell_type": "code",
   "execution_count": 30,
   "id": "33e822fb",
   "metadata": {},
   "outputs": [],
   "source": [
    "# Precision-Recall Curve (PRC)\n",
    "#plot_prc(\"Train Predictions\", y_train, predictions_train, color=colors[0])\n",
    "#plot_prc(\"Test Predictions\", y_test, predictions_test, color=colors[0], linestyle='--')\n",
    "#plt.legend(loc='lower right')\n",
    "#plt.show()"
   ]
  },
  {
   "cell_type": "code",
   "execution_count": 31,
   "id": "5d37780a",
   "metadata": {},
   "outputs": [],
   "source": [
    "#STOP"
   ]
  },
  {
   "cell_type": "markdown",
   "id": "6efd3ae9",
   "metadata": {},
   "source": [
    "## 2 Dense Model with 32 Lines"
   ]
  },
  {
   "cell_type": "markdown",
   "id": "343aa26a",
   "metadata": {},
   "source": [
    "### Dataset"
   ]
  },
  {
   "cell_type": "code",
   "execution_count": 32,
   "id": "a951c679",
   "metadata": {},
   "outputs": [],
   "source": [
    "df = df_damage_thirtytwo_min_max.drop(columns=columns)"
   ]
  },
  {
   "cell_type": "code",
   "execution_count": 33,
   "id": "7a9daaa4",
   "metadata": {},
   "outputs": [
    {
     "name": "stdout",
     "output_type": "stream",
     "text": [
      "Training features shape: (106, 36)\n",
      "Training labels shape: (106,) \n",
      "\n",
      "Validation features shape: (27, 36)\n",
      "Validation labels shape: (27,) \n",
      "\n",
      "Test features shape: (15, 36)\n",
      "Test labels shape: (15,) \n",
      "\n"
     ]
    }
   ],
   "source": [
    "# Split into sets for training, validation, and testing + use and save scaler\n",
    "\n",
    "X = df.drop(columns=['Damage'])\n",
    "y = df['Damage']\n",
    "\n",
    "X_train, X_test, y_train, y_test = train_test_split(X, y, test_size=0.1, random_state=random_state)\n",
    "X_train, X_val, y_train, y_val = train_test_split(X_train, y_train, test_size=0.2, random_state=random_state)\n",
    "\n",
    "scaler_sixteen = StandardScaler()\n",
    "X_train = scaler_sixteen.fit_transform(X_train)\n",
    "\n",
    "X_val = scaler_sixteen.transform(X_val)\n",
    "X_test = scaler_sixteen.transform(X_test)\n",
    "\n",
    "print('Training features shape:', X_train.shape)\n",
    "print('Training labels shape:', y_train.shape, '\\n')\n",
    "\n",
    "print('Validation features shape:', X_val.shape)\n",
    "print('Validation labels shape:', y_val.shape, '\\n')\n",
    "\n",
    "print('Test features shape:', X_test.shape)\n",
    "print('Test labels shape:', y_test.shape, '\\n')"
   ]
  },
  {
   "cell_type": "markdown",
   "id": "e83255d2",
   "metadata": {},
   "source": [
    "### Model"
   ]
  },
  {
   "cell_type": "code",
   "execution_count": 34,
   "id": "833dc13b",
   "metadata": {},
   "outputs": [
    {
     "name": "stdout",
     "output_type": "stream",
     "text": [
      "Model: \"sequential_1\"\n",
      "_________________________________________________________________\n",
      " Layer (type)                Output Shape              Param #   \n",
      "=================================================================\n",
      " dense_3 (Dense)             (None, 16)                592       \n",
      "                                                                 \n",
      " dense_4 (Dense)             (None, 16)                272       \n",
      "                                                                 \n",
      " dense_5 (Dense)             (None, 1)                 17        \n",
      "                                                                 \n",
      "=================================================================\n",
      "Total params: 881\n",
      "Trainable params: 881\n",
      "Non-trainable params: 0\n",
      "_________________________________________________________________\n"
     ]
    }
   ],
   "source": [
    "input_dim = X_train.shape[1]\n",
    "units = 16\n",
    "activation = 'relu'\n",
    "output_size = 1\n",
    "output_activation = 'sigmoid'\n",
    "kernel_initializer = 'he_uniform'\n",
    "\n",
    "LAYERS = [ \n",
    "    { 'type': 'Dense', 'nodes':units, 'activation': activation },\n",
    "    { 'type': 'Dense', 'nodes':units, 'activation': activation },\n",
    "    { 'type': 'Dense', 'nodes':output_size, 'activation': output_activation }\n",
    "]\n",
    "\n",
    "model = DenseModel(LAYERS, input_dim)\n",
    "model.summary()"
   ]
  },
  {
   "cell_type": "code",
   "execution_count": 35,
   "id": "57dd6825",
   "metadata": {},
   "outputs": [
    {
     "name": "stdout",
     "output_type": "stream",
     "text": [
      "Epoch 1/50\n",
      "4/4 [==============================] - 2s 180ms/step - loss: 1.0042 - tp: 11.0000 - fp: 48.0000 - tn: 22.0000 - fn: 40.0000 - accuracy: 0.2727 - precision: 0.1864 - recall: 0.2157 - auc: 0.2099 - prc: 0.3019 - val_loss: 1.0227 - val_tp: 4.0000 - val_fp: 11.0000 - val_tn: 3.0000 - val_fn: 9.0000 - val_accuracy: 0.2593 - val_precision: 0.2667 - val_recall: 0.3077 - val_auc: 0.1291 - val_prc: 0.3108\n",
      "Epoch 2/50\n",
      "4/4 [==============================] - 0s 20ms/step - loss: 0.9929 - tp: 6.0000 - fp: 48.0000 - tn: 13.0000 - fn: 39.0000 - accuracy: 0.1792 - precision: 0.1111 - recall: 0.1333 - auc: 0.0956 - prc: 0.2598 - val_loss: 1.0087 - val_tp: 4.0000 - val_fp: 11.0000 - val_tn: 3.0000 - val_fn: 9.0000 - val_accuracy: 0.2593 - val_precision: 0.2667 - val_recall: 0.3077 - val_auc: 0.1264 - val_prc: 0.3105\n",
      "Epoch 3/50\n",
      "4/4 [==============================] - 0s 20ms/step - loss: 0.9819 - tp: 6.0000 - fp: 48.0000 - tn: 13.0000 - fn: 39.0000 - accuracy: 0.1792 - precision: 0.1111 - recall: 0.1333 - auc: 0.0978 - prc: 0.2601 - val_loss: 0.9953 - val_tp: 4.0000 - val_fp: 11.0000 - val_tn: 3.0000 - val_fn: 9.0000 - val_accuracy: 0.2593 - val_precision: 0.2667 - val_recall: 0.3077 - val_auc: 0.1264 - val_prc: 0.3105\n",
      "Epoch 4/50\n",
      "4/4 [==============================] - 0s 20ms/step - loss: 0.9713 - tp: 7.0000 - fp: 48.0000 - tn: 13.0000 - fn: 38.0000 - accuracy: 0.1887 - precision: 0.1273 - recall: 0.1556 - auc: 0.1009 - prc: 0.2608 - val_loss: 0.9823 - val_tp: 4.0000 - val_fp: 11.0000 - val_tn: 3.0000 - val_fn: 9.0000 - val_accuracy: 0.2593 - val_precision: 0.2667 - val_recall: 0.3077 - val_auc: 0.1291 - val_prc: 0.3108\n",
      "Epoch 5/50\n",
      "4/4 [==============================] - 0s 20ms/step - loss: 0.9606 - tp: 7.0000 - fp: 48.0000 - tn: 13.0000 - fn: 38.0000 - accuracy: 0.1887 - precision: 0.1273 - recall: 0.1556 - auc: 0.1026 - prc: 0.2612 - val_loss: 0.9693 - val_tp: 4.0000 - val_fp: 11.0000 - val_tn: 3.0000 - val_fn: 9.0000 - val_accuracy: 0.2593 - val_precision: 0.2667 - val_recall: 0.3077 - val_auc: 0.1346 - val_prc: 0.3117\n",
      "Epoch 6/50\n",
      "4/4 [==============================] - 0s 19ms/step - loss: 0.9508 - tp: 7.0000 - fp: 48.0000 - tn: 13.0000 - fn: 38.0000 - accuracy: 0.1887 - precision: 0.1273 - recall: 0.1556 - auc: 0.1044 - prc: 0.2616 - val_loss: 0.9564 - val_tp: 4.0000 - val_fp: 11.0000 - val_tn: 3.0000 - val_fn: 9.0000 - val_accuracy: 0.2593 - val_precision: 0.2667 - val_recall: 0.3077 - val_auc: 0.1429 - val_prc: 0.3137\n",
      "Epoch 7/50\n",
      "4/4 [==============================] - 0s 21ms/step - loss: 0.9402 - tp: 7.0000 - fp: 48.0000 - tn: 13.0000 - fn: 38.0000 - accuracy: 0.1887 - precision: 0.1273 - recall: 0.1556 - auc: 0.1067 - prc: 0.2620 - val_loss: 0.9439 - val_tp: 4.0000 - val_fp: 11.0000 - val_tn: 3.0000 - val_fn: 9.0000 - val_accuracy: 0.2593 - val_precision: 0.2667 - val_recall: 0.3077 - val_auc: 0.1566 - val_prc: 0.3171\n",
      "Epoch 8/50\n",
      "4/4 [==============================] - 0s 19ms/step - loss: 0.9304 - tp: 7.0000 - fp: 48.0000 - tn: 13.0000 - fn: 38.0000 - accuracy: 0.1887 - precision: 0.1273 - recall: 0.1556 - auc: 0.1082 - prc: 0.2624 - val_loss: 0.9318 - val_tp: 4.0000 - val_fp: 11.0000 - val_tn: 3.0000 - val_fn: 9.0000 - val_accuracy: 0.2593 - val_precision: 0.2667 - val_recall: 0.3077 - val_auc: 0.1593 - val_prc: 0.3177\n",
      "Epoch 9/50\n",
      "4/4 [==============================] - 0s 18ms/step - loss: 0.9206 - tp: 7.0000 - fp: 48.0000 - tn: 13.0000 - fn: 38.0000 - accuracy: 0.1887 - precision: 0.1273 - recall: 0.1556 - auc: 0.1098 - prc: 0.2627 - val_loss: 0.9198 - val_tp: 4.0000 - val_fp: 11.0000 - val_tn: 3.0000 - val_fn: 9.0000 - val_accuracy: 0.2593 - val_precision: 0.2667 - val_recall: 0.3077 - val_auc: 0.1621 - val_prc: 0.3187\n",
      "Epoch 10/50\n",
      "4/4 [==============================] - 0s 18ms/step - loss: 0.9117 - tp: 7.0000 - fp: 47.0000 - tn: 14.0000 - fn: 38.0000 - accuracy: 0.1981 - precision: 0.1296 - recall: 0.1556 - auc: 0.1149 - prc: 0.2642 - val_loss: 0.9078 - val_tp: 4.0000 - val_fp: 11.0000 - val_tn: 3.0000 - val_fn: 9.0000 - val_accuracy: 0.2593 - val_precision: 0.2667 - val_recall: 0.3077 - val_auc: 0.1648 - val_prc: 0.3191\n",
      "Epoch 11/50\n",
      "4/4 [==============================] - 0s 19ms/step - loss: 0.9022 - tp: 7.0000 - fp: 47.0000 - tn: 14.0000 - fn: 38.0000 - accuracy: 0.1981 - precision: 0.1296 - recall: 0.1556 - auc: 0.1188 - prc: 0.2650 - val_loss: 0.8961 - val_tp: 4.0000 - val_fp: 11.0000 - val_tn: 3.0000 - val_fn: 9.0000 - val_accuracy: 0.2593 - val_precision: 0.2667 - val_recall: 0.3077 - val_auc: 0.1758 - val_prc: 0.3223\n",
      "Epoch 12/50\n",
      "4/4 [==============================] - 0s 18ms/step - loss: 0.8925 - tp: 7.0000 - fp: 47.0000 - tn: 14.0000 - fn: 38.0000 - accuracy: 0.1981 - precision: 0.1296 - recall: 0.1556 - auc: 0.1244 - prc: 0.2666 - val_loss: 0.8856 - val_tp: 4.0000 - val_fp: 11.0000 - val_tn: 3.0000 - val_fn: 9.0000 - val_accuracy: 0.2593 - val_precision: 0.2667 - val_recall: 0.3077 - val_auc: 0.1868 - val_prc: 0.3250\n",
      "Epoch 13/50\n",
      "4/4 [==============================] - 0s 20ms/step - loss: 0.8843 - tp: 7.0000 - fp: 47.0000 - tn: 14.0000 - fn: 38.0000 - accuracy: 0.1981 - precision: 0.1296 - recall: 0.1556 - auc: 0.1277 - prc: 0.2674 - val_loss: 0.8755 - val_tp: 4.0000 - val_fp: 10.0000 - val_tn: 4.0000 - val_fn: 9.0000 - val_accuracy: 0.2963 - val_precision: 0.2857 - val_recall: 0.3077 - val_auc: 0.2033 - val_prc: 0.3298\n",
      "Epoch 14/50\n",
      "4/4 [==============================] - 0s 20ms/step - loss: 0.8749 - tp: 7.0000 - fp: 47.0000 - tn: 14.0000 - fn: 38.0000 - accuracy: 0.1981 - precision: 0.1296 - recall: 0.1556 - auc: 0.1330 - prc: 0.2690 - val_loss: 0.8656 - val_tp: 4.0000 - val_fp: 10.0000 - val_tn: 4.0000 - val_fn: 9.0000 - val_accuracy: 0.2963 - val_precision: 0.2857 - val_recall: 0.3077 - val_auc: 0.2115 - val_prc: 0.3328\n",
      "Epoch 15/50\n",
      "4/4 [==============================] - 0s 19ms/step - loss: 0.8669 - tp: 8.0000 - fp: 47.0000 - tn: 14.0000 - fn: 37.0000 - accuracy: 0.2075 - precision: 0.1455 - recall: 0.1778 - auc: 0.1362 - prc: 0.2698 - val_loss: 0.8555 - val_tp: 4.0000 - val_fp: 10.0000 - val_tn: 4.0000 - val_fn: 9.0000 - val_accuracy: 0.2963 - val_precision: 0.2857 - val_recall: 0.3077 - val_auc: 0.2280 - val_prc: 0.3394\n",
      "Epoch 16/50\n",
      "4/4 [==============================] - 0s 18ms/step - loss: 0.8588 - tp: 8.0000 - fp: 47.0000 - tn: 14.0000 - fn: 37.0000 - accuracy: 0.2075 - precision: 0.1455 - recall: 0.1778 - auc: 0.1424 - prc: 0.2715 - val_loss: 0.8455 - val_tp: 4.0000 - val_fp: 10.0000 - val_tn: 4.0000 - val_fn: 9.0000 - val_accuracy: 0.2963 - val_precision: 0.2857 - val_recall: 0.3077 - val_auc: 0.2445 - val_prc: 0.3462\n",
      "Epoch 17/50\n",
      "4/4 [==============================] - 0s 17ms/step - loss: 0.8506 - tp: 9.0000 - fp: 46.0000 - tn: 15.0000 - fn: 36.0000 - accuracy: 0.2264 - precision: 0.1636 - recall: 0.2000 - auc: 0.1468 - prc: 0.2719 - val_loss: 0.8356 - val_tp: 4.0000 - val_fp: 10.0000 - val_tn: 4.0000 - val_fn: 9.0000 - val_accuracy: 0.2963 - val_precision: 0.2857 - val_recall: 0.3077 - val_auc: 0.2527 - val_prc: 0.3502\n",
      "Epoch 18/50\n",
      "4/4 [==============================] - 0s 20ms/step - loss: 0.8431 - tp: 9.0000 - fp: 45.0000 - tn: 16.0000 - fn: 36.0000 - accuracy: 0.2358 - precision: 0.1667 - recall: 0.2000 - auc: 0.1539 - prc: 0.2746 - val_loss: 0.8257 - val_tp: 5.0000 - val_fp: 10.0000 - val_tn: 4.0000 - val_fn: 8.0000 - val_accuracy: 0.3333 - val_precision: 0.3333 - val_recall: 0.3846 - val_auc: 0.2637 - val_prc: 0.3532\n",
      "Epoch 19/50\n",
      "4/4 [==============================] - 0s 20ms/step - loss: 0.8347 - tp: 9.0000 - fp: 45.0000 - tn: 16.0000 - fn: 36.0000 - accuracy: 0.2358 - precision: 0.1667 - recall: 0.2000 - auc: 0.1601 - prc: 0.2760 - val_loss: 0.8162 - val_tp: 5.0000 - val_fp: 11.0000 - val_tn: 3.0000 - val_fn: 8.0000 - val_accuracy: 0.2963 - val_precision: 0.3125 - val_recall: 0.3846 - val_auc: 0.2747 - val_prc: 0.3562\n",
      "Epoch 20/50\n",
      "4/4 [==============================] - 0s 20ms/step - loss: 0.8276 - tp: 8.0000 - fp: 44.0000 - tn: 17.0000 - fn: 37.0000 - accuracy: 0.2358 - precision: 0.1538 - recall: 0.1778 - auc: 0.1674 - prc: 0.2802 - val_loss: 0.8066 - val_tp: 6.0000 - val_fp: 11.0000 - val_tn: 3.0000 - val_fn: 7.0000 - val_accuracy: 0.3333 - val_precision: 0.3529 - val_recall: 0.4615 - val_auc: 0.2967 - val_prc: 0.3634\n"
     ]
    },
    {
     "name": "stdout",
     "output_type": "stream",
     "text": [
      "Epoch 21/50\n",
      "4/4 [==============================] - 0s 18ms/step - loss: 0.8196 - tp: 9.0000 - fp: 42.0000 - tn: 19.0000 - fn: 36.0000 - accuracy: 0.2642 - precision: 0.1765 - recall: 0.2000 - auc: 0.1741 - prc: 0.2845 - val_loss: 0.7971 - val_tp: 6.0000 - val_fp: 11.0000 - val_tn: 3.0000 - val_fn: 7.0000 - val_accuracy: 0.3333 - val_precision: 0.3529 - val_recall: 0.4615 - val_auc: 0.3242 - val_prc: 0.3756\n",
      "Epoch 22/50\n",
      "4/4 [==============================] - 0s 18ms/step - loss: 0.8122 - tp: 8.0000 - fp: 42.0000 - tn: 19.0000 - fn: 37.0000 - accuracy: 0.2547 - precision: 0.1600 - recall: 0.1778 - auc: 0.1814 - prc: 0.2903 - val_loss: 0.7877 - val_tp: 6.0000 - val_fp: 10.0000 - val_tn: 4.0000 - val_fn: 7.0000 - val_accuracy: 0.3704 - val_precision: 0.3750 - val_recall: 0.4615 - val_auc: 0.3462 - val_prc: 0.3861\n",
      "Epoch 23/50\n",
      "4/4 [==============================] - 0s 19ms/step - loss: 0.8046 - tp: 8.0000 - fp: 41.0000 - tn: 20.0000 - fn: 37.0000 - accuracy: 0.2642 - precision: 0.1633 - recall: 0.1778 - auc: 0.1922 - prc: 0.3096 - val_loss: 0.7789 - val_tp: 6.0000 - val_fp: 10.0000 - val_tn: 4.0000 - val_fn: 7.0000 - val_accuracy: 0.3704 - val_precision: 0.3750 - val_recall: 0.4615 - val_auc: 0.3626 - val_prc: 0.3940\n",
      "Epoch 24/50\n",
      "4/4 [==============================] - 0s 18ms/step - loss: 0.7976 - tp: 8.0000 - fp: 40.0000 - tn: 21.0000 - fn: 37.0000 - accuracy: 0.2736 - precision: 0.1667 - recall: 0.1778 - auc: 0.2020 - prc: 0.3190 - val_loss: 0.7706 - val_tp: 6.0000 - val_fp: 10.0000 - val_tn: 4.0000 - val_fn: 7.0000 - val_accuracy: 0.3704 - val_precision: 0.3750 - val_recall: 0.4615 - val_auc: 0.3736 - val_prc: 0.3971\n",
      "Epoch 25/50\n",
      "4/4 [==============================] - 0s 19ms/step - loss: 0.7904 - tp: 8.0000 - fp: 39.0000 - tn: 22.0000 - fn: 37.0000 - accuracy: 0.2830 - precision: 0.1702 - recall: 0.1778 - auc: 0.2089 - prc: 0.3215 - val_loss: 0.7626 - val_tp: 6.0000 - val_fp: 9.0000 - val_tn: 5.0000 - val_fn: 7.0000 - val_accuracy: 0.4074 - val_precision: 0.4000 - val_recall: 0.4615 - val_auc: 0.3984 - val_prc: 0.4115\n",
      "Epoch 26/50\n",
      "4/4 [==============================] - 0s 20ms/step - loss: 0.7840 - tp: 8.0000 - fp: 37.0000 - tn: 24.0000 - fn: 37.0000 - accuracy: 0.3019 - precision: 0.1778 - recall: 0.1778 - auc: 0.2184 - prc: 0.3289 - val_loss: 0.7544 - val_tp: 6.0000 - val_fp: 9.0000 - val_tn: 5.0000 - val_fn: 7.0000 - val_accuracy: 0.4074 - val_precision: 0.4000 - val_recall: 0.4615 - val_auc: 0.4258 - val_prc: 0.4316\n",
      "Epoch 27/50\n",
      "4/4 [==============================] - 0s 19ms/step - loss: 0.7773 - tp: 9.0000 - fp: 37.0000 - tn: 24.0000 - fn: 36.0000 - accuracy: 0.3113 - precision: 0.1957 - recall: 0.2000 - auc: 0.2301 - prc: 0.3403 - val_loss: 0.7465 - val_tp: 6.0000 - val_fp: 9.0000 - val_tn: 5.0000 - val_fn: 7.0000 - val_accuracy: 0.4074 - val_precision: 0.4000 - val_recall: 0.4615 - val_auc: 0.4505 - val_prc: 0.4504\n",
      "Epoch 28/50\n",
      "4/4 [==============================] - 0s 19ms/step - loss: 0.7705 - tp: 9.0000 - fp: 36.0000 - tn: 25.0000 - fn: 36.0000 - accuracy: 0.3208 - precision: 0.2000 - recall: 0.2000 - auc: 0.2419 - prc: 0.3582 - val_loss: 0.7388 - val_tp: 6.0000 - val_fp: 9.0000 - val_tn: 5.0000 - val_fn: 7.0000 - val_accuracy: 0.4074 - val_precision: 0.4000 - val_recall: 0.4615 - val_auc: 0.4670 - val_prc: 0.4594\n",
      "Epoch 29/50\n",
      "4/4 [==============================] - 0s 18ms/step - loss: 0.7639 - tp: 10.0000 - fp: 35.0000 - tn: 26.0000 - fn: 35.0000 - accuracy: 0.3396 - precision: 0.2222 - recall: 0.2222 - auc: 0.2523 - prc: 0.3659 - val_loss: 0.7313 - val_tp: 6.0000 - val_fp: 9.0000 - val_tn: 5.0000 - val_fn: 7.0000 - val_accuracy: 0.4074 - val_precision: 0.4000 - val_recall: 0.4615 - val_auc: 0.4780 - val_prc: 0.4669\n",
      "Epoch 30/50\n",
      "4/4 [==============================] - 0s 19ms/step - loss: 0.7577 - tp: 11.0000 - fp: 32.0000 - tn: 29.0000 - fn: 34.0000 - accuracy: 0.3774 - precision: 0.2558 - recall: 0.2444 - auc: 0.2705 - prc: 0.3737 - val_loss: 0.7240 - val_tp: 7.0000 - val_fp: 9.0000 - val_tn: 5.0000 - val_fn: 6.0000 - val_accuracy: 0.4444 - val_precision: 0.4375 - val_recall: 0.5385 - val_auc: 0.5027 - val_prc: 0.4880\n",
      "Epoch 31/50\n",
      "4/4 [==============================] - 0s 19ms/step - loss: 0.7517 - tp: 11.0000 - fp: 32.0000 - tn: 29.0000 - fn: 34.0000 - accuracy: 0.3774 - precision: 0.2558 - recall: 0.2444 - auc: 0.2887 - prc: 0.3809 - val_loss: 0.7167 - val_tp: 7.0000 - val_fp: 9.0000 - val_tn: 5.0000 - val_fn: 6.0000 - val_accuracy: 0.4444 - val_precision: 0.4375 - val_recall: 0.5385 - val_auc: 0.5330 - val_prc: 0.5258\n",
      "Epoch 32/50\n",
      "4/4 [==============================] - 0s 18ms/step - loss: 0.7459 - tp: 11.0000 - fp: 31.0000 - tn: 30.0000 - fn: 34.0000 - accuracy: 0.3868 - precision: 0.2619 - recall: 0.2444 - auc: 0.3031 - prc: 0.3876 - val_loss: 0.7094 - val_tp: 8.0000 - val_fp: 7.0000 - val_tn: 7.0000 - val_fn: 5.0000 - val_accuracy: 0.5556 - val_precision: 0.5333 - val_recall: 0.6154 - val_auc: 0.5714 - val_prc: 0.5935\n",
      "Epoch 33/50\n",
      "4/4 [==============================] - 0s 17ms/step - loss: 0.7399 - tp: 12.0000 - fp: 30.0000 - tn: 31.0000 - fn: 33.0000 - accuracy: 0.4057 - precision: 0.2857 - recall: 0.2667 - auc: 0.3184 - prc: 0.4015 - val_loss: 0.7022 - val_tp: 9.0000 - val_fp: 6.0000 - val_tn: 8.0000 - val_fn: 4.0000 - val_accuracy: 0.6296 - val_precision: 0.6000 - val_recall: 0.6923 - val_auc: 0.6071 - val_prc: 0.6319\n",
      "Epoch 34/50\n",
      "4/4 [==============================] - 0s 19ms/step - loss: 0.7344 - tp: 14.0000 - fp: 29.0000 - tn: 32.0000 - fn: 31.0000 - accuracy: 0.4340 - precision: 0.3256 - recall: 0.3111 - auc: 0.3383 - prc: 0.4114 - val_loss: 0.6952 - val_tp: 9.0000 - val_fp: 6.0000 - val_tn: 8.0000 - val_fn: 4.0000 - val_accuracy: 0.6296 - val_precision: 0.6000 - val_recall: 0.6923 - val_auc: 0.6181 - val_prc: 0.6380\n",
      "Epoch 35/50\n",
      "4/4 [==============================] - 0s 19ms/step - loss: 0.7286 - tp: 15.0000 - fp: 29.0000 - tn: 32.0000 - fn: 30.0000 - accuracy: 0.4434 - precision: 0.3409 - recall: 0.3333 - auc: 0.3579 - prc: 0.4189 - val_loss: 0.6887 - val_tp: 9.0000 - val_fp: 6.0000 - val_tn: 8.0000 - val_fn: 4.0000 - val_accuracy: 0.6296 - val_precision: 0.6000 - val_recall: 0.6923 - val_auc: 0.6291 - val_prc: 0.6453\n",
      "Epoch 36/50\n",
      "4/4 [==============================] - 0s 18ms/step - loss: 0.7232 - tp: 15.0000 - fp: 29.0000 - tn: 32.0000 - fn: 30.0000 - accuracy: 0.4434 - precision: 0.3409 - recall: 0.3333 - auc: 0.3809 - prc: 0.4337 - val_loss: 0.6821 - val_tp: 9.0000 - val_fp: 6.0000 - val_tn: 8.0000 - val_fn: 4.0000 - val_accuracy: 0.6296 - val_precision: 0.6000 - val_recall: 0.6923 - val_auc: 0.6456 - val_prc: 0.6531\n",
      "Epoch 37/50\n",
      "4/4 [==============================] - 0s 19ms/step - loss: 0.7179 - tp: 18.0000 - fp: 27.0000 - tn: 34.0000 - fn: 27.0000 - accuracy: 0.4906 - precision: 0.4000 - recall: 0.4000 - auc: 0.4040 - prc: 0.4485 - val_loss: 0.6753 - val_tp: 9.0000 - val_fp: 6.0000 - val_tn: 8.0000 - val_fn: 4.0000 - val_accuracy: 0.6296 - val_precision: 0.6000 - val_recall: 0.6923 - val_auc: 0.6703 - val_prc: 0.6739\n",
      "Epoch 38/50\n",
      "4/4 [==============================] - 0s 19ms/step - loss: 0.7122 - tp: 19.0000 - fp: 27.0000 - tn: 34.0000 - fn: 26.0000 - accuracy: 0.5000 - precision: 0.4130 - recall: 0.4222 - auc: 0.4279 - prc: 0.4645 - val_loss: 0.6688 - val_tp: 9.0000 - val_fp: 6.0000 - val_tn: 8.0000 - val_fn: 4.0000 - val_accuracy: 0.6296 - val_precision: 0.6000 - val_recall: 0.6923 - val_auc: 0.6786 - val_prc: 0.6758\n",
      "Epoch 39/50\n",
      "4/4 [==============================] - 0s 18ms/step - loss: 0.7065 - tp: 19.0000 - fp: 27.0000 - tn: 34.0000 - fn: 26.0000 - accuracy: 0.5000 - precision: 0.4130 - recall: 0.4222 - auc: 0.4552 - prc: 0.4897 - val_loss: 0.6622 - val_tp: 9.0000 - val_fp: 6.0000 - val_tn: 8.0000 - val_fn: 4.0000 - val_accuracy: 0.6296 - val_precision: 0.6000 - val_recall: 0.6923 - val_auc: 0.6841 - val_prc: 0.6780\n",
      "Epoch 40/50\n",
      "4/4 [==============================] - 0s 19ms/step - loss: 0.7012 - tp: 19.0000 - fp: 27.0000 - tn: 34.0000 - fn: 26.0000 - accuracy: 0.5000 - precision: 0.4130 - recall: 0.4222 - auc: 0.4829 - prc: 0.5132 - val_loss: 0.6556 - val_tp: 9.0000 - val_fp: 6.0000 - val_tn: 8.0000 - val_fn: 4.0000 - val_accuracy: 0.6296 - val_precision: 0.6000 - val_recall: 0.6923 - val_auc: 0.7088 - val_prc: 0.6948\n"
     ]
    },
    {
     "name": "stdout",
     "output_type": "stream",
     "text": [
      "Epoch 41/50\n",
      "4/4 [==============================] - 0s 18ms/step - loss: 0.6954 - tp: 19.0000 - fp: 26.0000 - tn: 35.0000 - fn: 26.0000 - accuracy: 0.5094 - precision: 0.4222 - recall: 0.4222 - auc: 0.5029 - prc: 0.5356 - val_loss: 0.6493 - val_tp: 9.0000 - val_fp: 5.0000 - val_tn: 9.0000 - val_fn: 4.0000 - val_accuracy: 0.6667 - val_precision: 0.6429 - val_recall: 0.6923 - val_auc: 0.7225 - val_prc: 0.7262\n",
      "Epoch 42/50\n",
      "4/4 [==============================] - 0s 18ms/step - loss: 0.6900 - tp: 19.0000 - fp: 24.0000 - tn: 37.0000 - fn: 26.0000 - accuracy: 0.5283 - precision: 0.4419 - recall: 0.4222 - auc: 0.5182 - prc: 0.5589 - val_loss: 0.6431 - val_tp: 9.0000 - val_fp: 5.0000 - val_tn: 9.0000 - val_fn: 4.0000 - val_accuracy: 0.6667 - val_precision: 0.6429 - val_recall: 0.6923 - val_auc: 0.7308 - val_prc: 0.7338\n",
      "Epoch 43/50\n",
      "4/4 [==============================] - 0s 19ms/step - loss: 0.6848 - tp: 19.0000 - fp: 23.0000 - tn: 38.0000 - fn: 26.0000 - accuracy: 0.5377 - precision: 0.4524 - recall: 0.4222 - auc: 0.5390 - prc: 0.5814 - val_loss: 0.6371 - val_tp: 10.0000 - val_fp: 5.0000 - val_tn: 9.0000 - val_fn: 3.0000 - val_accuracy: 0.7037 - val_precision: 0.6667 - val_recall: 0.7692 - val_auc: 0.7500 - val_prc: 0.7565\n",
      "Epoch 44/50\n",
      "4/4 [==============================] - 0s 19ms/step - loss: 0.6793 - tp: 21.0000 - fp: 20.0000 - tn: 41.0000 - fn: 24.0000 - accuracy: 0.5849 - precision: 0.5122 - recall: 0.4667 - auc: 0.5572 - prc: 0.5972 - val_loss: 0.6314 - val_tp: 11.0000 - val_fp: 5.0000 - val_tn: 9.0000 - val_fn: 2.0000 - val_accuracy: 0.7407 - val_precision: 0.6875 - val_recall: 0.8462 - val_auc: 0.7665 - val_prc: 0.7764\n",
      "Epoch 45/50\n",
      "4/4 [==============================] - 0s 18ms/step - loss: 0.6742 - tp: 21.0000 - fp: 19.0000 - tn: 42.0000 - fn: 24.0000 - accuracy: 0.5943 - precision: 0.5250 - recall: 0.4667 - auc: 0.5792 - prc: 0.6145 - val_loss: 0.6258 - val_tp: 11.0000 - val_fp: 5.0000 - val_tn: 9.0000 - val_fn: 2.0000 - val_accuracy: 0.7407 - val_precision: 0.6875 - val_recall: 0.8462 - val_auc: 0.7720 - val_prc: 0.7766\n",
      "Epoch 46/50\n",
      "4/4 [==============================] - 0s 19ms/step - loss: 0.6694 - tp: 21.0000 - fp: 17.0000 - tn: 44.0000 - fn: 24.0000 - accuracy: 0.6132 - precision: 0.5526 - recall: 0.4667 - auc: 0.5953 - prc: 0.6279 - val_loss: 0.6202 - val_tp: 11.0000 - val_fp: 5.0000 - val_tn: 9.0000 - val_fn: 2.0000 - val_accuracy: 0.7407 - val_precision: 0.6875 - val_recall: 0.8462 - val_auc: 0.7720 - val_prc: 0.7720\n",
      "Epoch 47/50\n",
      "4/4 [==============================] - 0s 17ms/step - loss: 0.6646 - tp: 21.0000 - fp: 17.0000 - tn: 44.0000 - fn: 24.0000 - accuracy: 0.6132 - precision: 0.5526 - recall: 0.4667 - auc: 0.6115 - prc: 0.6411 - val_loss: 0.6145 - val_tp: 11.0000 - val_fp: 5.0000 - val_tn: 9.0000 - val_fn: 2.0000 - val_accuracy: 0.7407 - val_precision: 0.6875 - val_recall: 0.8462 - val_auc: 0.7802 - val_prc: 0.7788\n",
      "Epoch 48/50\n",
      "4/4 [==============================] - 0s 18ms/step - loss: 0.6594 - tp: 21.0000 - fp: 16.0000 - tn: 45.0000 - fn: 24.0000 - accuracy: 0.6226 - precision: 0.5676 - recall: 0.4667 - auc: 0.6319 - prc: 0.6534 - val_loss: 0.6090 - val_tp: 11.0000 - val_fp: 5.0000 - val_tn: 9.0000 - val_fn: 2.0000 - val_accuracy: 0.7407 - val_precision: 0.6875 - val_recall: 0.8462 - val_auc: 0.7912 - val_prc: 0.7888\n",
      "Epoch 49/50\n",
      "4/4 [==============================] - 0s 18ms/step - loss: 0.6547 - tp: 23.0000 - fp: 16.0000 - tn: 45.0000 - fn: 22.0000 - accuracy: 0.6415 - precision: 0.5897 - recall: 0.5111 - auc: 0.6483 - prc: 0.6658 - val_loss: 0.6034 - val_tp: 11.0000 - val_fp: 5.0000 - val_tn: 9.0000 - val_fn: 2.0000 - val_accuracy: 0.7407 - val_precision: 0.6875 - val_recall: 0.8462 - val_auc: 0.8022 - val_prc: 0.7973\n",
      "Epoch 50/50\n",
      "4/4 [==============================] - 0s 18ms/step - loss: 0.6494 - tp: 23.0000 - fp: 15.0000 - tn: 46.0000 - fn: 22.0000 - accuracy: 0.6509 - precision: 0.6053 - recall: 0.5111 - auc: 0.6718 - prc: 0.6833 - val_loss: 0.5982 - val_tp: 11.0000 - val_fp: 5.0000 - val_tn: 9.0000 - val_fn: 2.0000 - val_accuracy: 0.7407 - val_precision: 0.6875 - val_recall: 0.8462 - val_auc: 0.8104 - val_prc: 0.8058\n"
     ]
    }
   ],
   "source": [
    "history = model.train(X_train, y_train, X_val, y_val, epochs, batch_size, early_stopping)\n",
    "#plt.plot(history.history['loss'])\n",
    "#plt.show()"
   ]
  },
  {
   "cell_type": "code",
   "execution_count": 36,
   "id": "7c3cae84",
   "metadata": {},
   "outputs": [
    {
     "data": {
      "text/plain": [
       "0"
      ]
     },
     "execution_count": 36,
     "metadata": {},
     "output_type": "execute_result"
    }
   ],
   "source": [
    "early_stopping.stopped_epoch"
   ]
  },
  {
   "cell_type": "code",
   "execution_count": 37,
   "id": "8945e94e",
   "metadata": {},
   "outputs": [],
   "source": [
    "#plot_loss(history, \"Bias\", 0)\n",
    "#plt.show()"
   ]
  },
  {
   "cell_type": "code",
   "execution_count": 38,
   "id": "0ddb8cc5",
   "metadata": {},
   "outputs": [],
   "source": [
    "#plot_metrics(history)\n",
    "#plt.show()"
   ]
  },
  {
   "cell_type": "code",
   "execution_count": 39,
   "id": "4d6933ea",
   "metadata": {},
   "outputs": [
    {
     "name": "stdout",
     "output_type": "stream",
     "text": [
      "4/4 [==============================] - 0s 2ms/step\n",
      "1/1 [==============================] - 0s 22ms/step\n",
      "loss :  0.5777769684791565\n",
      "tp :  4.0\n",
      "fp :  1.0\n",
      "tn :  8.0\n",
      "fn :  2.0\n",
      "accuracy :  0.800000011920929\n",
      "precision :  0.800000011920929\n",
      "recall :  0.6666666865348816\n",
      "auc :  0.9166666269302368\n",
      "prc :  0.8846259117126465\n"
     ]
    }
   ],
   "source": [
    "predictions_train = model.predict(X_train)\n",
    "predictions_test = model.predict(X_test)\n",
    "\n",
    "# Confusion matrix\n",
    "results = model.evaluate(X_test, y_test)\n",
    "for name, value in zip(model.metrics_names(), results):\n",
    "    print(name, ': ', value)\n",
    "    if name == 'accuracy':\n",
    "        accuracy_thirtytwo_min_max.append(value)"
   ]
  },
  {
   "cell_type": "code",
   "execution_count": 40,
   "id": "ad6204cc",
   "metadata": {},
   "outputs": [
    {
     "name": "stdout",
     "output_type": "stream",
     "text": [
      "True Negatives:  8\n",
      "False Positives:  1\n",
      "False Negatives:  2\n",
      "True Positives:  4\n",
      "Total:  6\n"
     ]
    },
    {
     "data": {
      "image/png": "[encoded data removed]",
      "text/plain": [
       "<Figure size 500x500 with 2 Axes>"
      ]
     },
     "metadata": {},
     "output_type": "display_data"
    }
   ],
   "source": [
    "plot_cm(y_test, predictions_test)\n",
    "plt.show()"
   ]
  },
  {
   "cell_type": "code",
   "execution_count": 41,
   "id": "9b7c4626",
   "metadata": {},
   "outputs": [],
   "source": [
    "#plot_roc(\"Test Predictions\", y_test, predictions_test, color=colors[0], linestyle='--')\n",
    "#plt.legend(loc='lower right')\n",
    "#plt.show()"
   ]
  },
  {
   "cell_type": "code",
   "execution_count": 42,
   "id": "6d99b692",
   "metadata": {},
   "outputs": [],
   "source": [
    "# Precision-Recall Curve (PRC)\n",
    "#plot_prc(\"Train Predictions\", y_train, predictions_train, color=colors[0])\n",
    "#plot_prc(\"Test Predictions\", y_test, predictions_test, color=colors[0], linestyle='--')\n",
    "#plt.legend(loc='lower right')\n",
    "#plt.show()"
   ]
  },
  {
   "cell_type": "code",
   "execution_count": 43,
   "id": "b2da11cc",
   "metadata": {},
   "outputs": [],
   "source": [
    "#STOP"
   ]
  },
  {
   "cell_type": "markdown",
   "id": "58bd1abc",
   "metadata": {},
   "source": [
    "## 3 Dense Model with 16 Lines"
   ]
  },
  {
   "cell_type": "markdown",
   "id": "505ba2cd",
   "metadata": {},
   "source": [
    "### Dataset"
   ]
  },
  {
   "cell_type": "code",
   "execution_count": 44,
   "id": "c456f224",
   "metadata": {},
   "outputs": [],
   "source": [
    "# prepare dataset\n",
    "\n",
    "df = df_damage_sixteen_mean.drop(columns=columns)"
   ]
  },
  {
   "cell_type": "code",
   "execution_count": 45,
   "id": "0203afba",
   "metadata": {},
   "outputs": [
    {
     "name": "stdout",
     "output_type": "stream",
     "text": [
      "Training features shape: (106, 20)\n",
      "Training labels shape: (106,) \n",
      "\n",
      "Validation features shape: (27, 20)\n",
      "Validation labels shape: (27,) \n",
      "\n",
      "Test features shape: (15, 20)\n",
      "Test labels shape: (15,) \n",
      "\n"
     ]
    }
   ],
   "source": [
    "# Split into sets for training, validation, and testing + use and save scaler\n",
    "\n",
    "X = df.drop(columns=['Damage'])\n",
    "y = df['Damage']\n",
    "\n",
    "X_train, X_test, y_train, y_test = train_test_split(X, y, test_size=0.1, random_state=random_state)\n",
    "X_train, X_val, y_train, y_val = train_test_split(X_train, y_train, test_size=0.2, random_state=random_state)\n",
    "\n",
    "scaler_sixteen = StandardScaler()\n",
    "X_train = scaler_sixteen.fit_transform(X_train)\n",
    "\n",
    "X_val = scaler_sixteen.transform(X_val)\n",
    "X_test = scaler_sixteen.transform(X_test)\n",
    "\n",
    "print('Training features shape:', X_train.shape)\n",
    "print('Training labels shape:', y_train.shape, '\\n')\n",
    "\n",
    "print('Validation features shape:', X_val.shape)\n",
    "print('Validation labels shape:', y_val.shape, '\\n')\n",
    "\n",
    "print('Test features shape:', X_test.shape)\n",
    "print('Test labels shape:', y_test.shape, '\\n')"
   ]
  },
  {
   "cell_type": "markdown",
   "id": "e7013a4d",
   "metadata": {},
   "source": [
    "### Model"
   ]
  },
  {
   "cell_type": "code",
   "execution_count": 46,
   "id": "d73ee253",
   "metadata": {},
   "outputs": [
    {
     "name": "stdout",
     "output_type": "stream",
     "text": [
      "Model: \"sequential_2\"\n",
      "_________________________________________________________________\n",
      " Layer (type)                Output Shape              Param #   \n",
      "=================================================================\n",
      " dense_6 (Dense)             (None, 16)                336       \n",
      "                                                                 \n",
      " dense_7 (Dense)             (None, 16)                272       \n",
      "                                                                 \n",
      " dense_8 (Dense)             (None, 1)                 17        \n",
      "                                                                 \n",
      "=================================================================\n",
      "Total params: 625\n",
      "Trainable params: 625\n",
      "Non-trainable params: 0\n",
      "_________________________________________________________________\n"
     ]
    }
   ],
   "source": [
    "input_dim = X_train.shape[1]\n",
    "units = 16\n",
    "activation = 'relu'\n",
    "output_size = 1\n",
    "output_activation = 'sigmoid'\n",
    "kernel_initializer = 'he_uniform'\n",
    "\n",
    "LAYERS = [ \n",
    "    { 'type': 'Dense', 'nodes':units, 'activation': activation },\n",
    "    { 'type': 'Dense', 'nodes':units, 'activation': activation },\n",
    "    { 'type': 'Dense', 'nodes':output_size, 'activation': output_activation }\n",
    "]\n",
    "\n",
    "model = DenseModel(LAYERS, input_dim)\n",
    "model.summary()"
   ]
  },
  {
   "cell_type": "code",
   "execution_count": 47,
   "id": "95bed05f",
   "metadata": {},
   "outputs": [
    {
     "name": "stdout",
     "output_type": "stream",
     "text": [
      "Epoch 1/50\n",
      "4/4 [==============================] - 2s 177ms/step - loss: 0.7427 - tp: 39.0000 - fp: 52.0000 - tn: 15.0000 - fn: 15.0000 - accuracy: 0.4463 - precision: 0.4286 - recall: 0.7222 - auc: 0.5129 - prc: 0.5295 - val_loss: 0.8242 - val_tp: 9.0000 - val_fp: 15.0000 - val_tn: 2.0000 - val_fn: 1.0000 - val_accuracy: 0.4074 - val_precision: 0.3750 - val_recall: 0.9000 - val_auc: 0.3618 - val_prc: 0.2973\n",
      "Epoch 2/50\n",
      "4/4 [==============================] - 0s 22ms/step - loss: 0.7407 - tp: 35.0000 - fp: 51.0000 - tn: 7.0000 - fn: 13.0000 - accuracy: 0.3962 - precision: 0.4070 - recall: 0.7292 - auc: 0.4537 - prc: 0.5078 - val_loss: 0.8216 - val_tp: 9.0000 - val_fp: 15.0000 - val_tn: 2.0000 - val_fn: 1.0000 - val_accuracy: 0.4074 - val_precision: 0.3750 - val_recall: 0.9000 - val_auc: 0.3618 - val_prc: 0.2971\n",
      "Epoch 3/50\n",
      "4/4 [==============================] - 0s 19ms/step - loss: 0.7393 - tp: 35.0000 - fp: 51.0000 - tn: 7.0000 - fn: 13.0000 - accuracy: 0.3962 - precision: 0.4070 - recall: 0.7292 - auc: 0.4558 - prc: 0.5123 - val_loss: 0.8188 - val_tp: 9.0000 - val_fp: 15.0000 - val_tn: 2.0000 - val_fn: 1.0000 - val_accuracy: 0.4074 - val_precision: 0.3750 - val_recall: 0.9000 - val_auc: 0.3588 - val_prc: 0.2964\n",
      "Epoch 4/50\n",
      "4/4 [==============================] - 0s 18ms/step - loss: 0.7377 - tp: 35.0000 - fp: 51.0000 - tn: 7.0000 - fn: 13.0000 - accuracy: 0.3962 - precision: 0.4070 - recall: 0.7292 - auc: 0.4538 - prc: 0.5151 - val_loss: 0.8161 - val_tp: 9.0000 - val_fp: 15.0000 - val_tn: 2.0000 - val_fn: 1.0000 - val_accuracy: 0.4074 - val_precision: 0.3750 - val_recall: 0.9000 - val_auc: 0.3706 - val_prc: 0.2998\n",
      "Epoch 5/50\n",
      "4/4 [==============================] - 0s 19ms/step - loss: 0.7360 - tp: 35.0000 - fp: 50.0000 - tn: 8.0000 - fn: 13.0000 - accuracy: 0.4057 - precision: 0.4118 - recall: 0.7292 - auc: 0.4587 - prc: 0.5194 - val_loss: 0.8136 - val_tp: 9.0000 - val_fp: 15.0000 - val_tn: 2.0000 - val_fn: 1.0000 - val_accuracy: 0.4074 - val_precision: 0.3750 - val_recall: 0.9000 - val_auc: 0.3765 - val_prc: 0.3016\n",
      "Epoch 6/50\n",
      "4/4 [==============================] - 0s 20ms/step - loss: 0.7346 - tp: 35.0000 - fp: 50.0000 - tn: 8.0000 - fn: 13.0000 - accuracy: 0.4057 - precision: 0.4118 - recall: 0.7292 - auc: 0.4634 - prc: 0.5235 - val_loss: 0.8109 - val_tp: 9.0000 - val_fp: 15.0000 - val_tn: 2.0000 - val_fn: 1.0000 - val_accuracy: 0.4074 - val_precision: 0.3750 - val_recall: 0.9000 - val_auc: 0.3794 - val_prc: 0.3026\n",
      "Epoch 7/50\n",
      "4/4 [==============================] - 0s 20ms/step - loss: 0.7330 - tp: 35.0000 - fp: 50.0000 - tn: 8.0000 - fn: 13.0000 - accuracy: 0.4057 - precision: 0.4118 - recall: 0.7292 - auc: 0.4644 - prc: 0.5256 - val_loss: 0.8084 - val_tp: 9.0000 - val_fp: 15.0000 - val_tn: 2.0000 - val_fn: 1.0000 - val_accuracy: 0.4074 - val_precision: 0.3750 - val_recall: 0.9000 - val_auc: 0.3882 - val_prc: 0.3054\n",
      "Epoch 8/50\n",
      "4/4 [==============================] - 0s 19ms/step - loss: 0.7314 - tp: 35.0000 - fp: 50.0000 - tn: 8.0000 - fn: 13.0000 - accuracy: 0.4057 - precision: 0.4118 - recall: 0.7292 - auc: 0.4686 - prc: 0.5284 - val_loss: 0.8060 - val_tp: 9.0000 - val_fp: 15.0000 - val_tn: 2.0000 - val_fn: 1.0000 - val_accuracy: 0.4074 - val_precision: 0.3750 - val_recall: 0.9000 - val_auc: 0.3941 - val_prc: 0.3074\n",
      "Epoch 9/50\n",
      "4/4 [==============================] - 0s 19ms/step - loss: 0.7300 - tp: 35.0000 - fp: 50.0000 - tn: 8.0000 - fn: 13.0000 - accuracy: 0.4057 - precision: 0.4118 - recall: 0.7292 - auc: 0.4688 - prc: 0.5290 - val_loss: 0.8036 - val_tp: 9.0000 - val_fp: 15.0000 - val_tn: 2.0000 - val_fn: 1.0000 - val_accuracy: 0.4074 - val_precision: 0.3750 - val_recall: 0.9000 - val_auc: 0.3882 - val_prc: 0.3054\n",
      "Epoch 10/50\n",
      "4/4 [==============================] - 0s 19ms/step - loss: 0.7285 - tp: 35.0000 - fp: 50.0000 - tn: 8.0000 - fn: 13.0000 - accuracy: 0.4057 - precision: 0.4118 - recall: 0.7292 - auc: 0.4720 - prc: 0.5323 - val_loss: 0.8012 - val_tp: 9.0000 - val_fp: 15.0000 - val_tn: 2.0000 - val_fn: 1.0000 - val_accuracy: 0.4074 - val_precision: 0.3750 - val_recall: 0.9000 - val_auc: 0.4029 - val_prc: 0.3105\n",
      "Epoch 11/50\n",
      "4/4 [==============================] - 0s 19ms/step - loss: 0.7271 - tp: 35.0000 - fp: 50.0000 - tn: 8.0000 - fn: 13.0000 - accuracy: 0.4057 - precision: 0.4118 - recall: 0.7292 - auc: 0.4756 - prc: 0.5363 - val_loss: 0.7987 - val_tp: 9.0000 - val_fp: 15.0000 - val_tn: 2.0000 - val_fn: 1.0000 - val_accuracy: 0.4074 - val_precision: 0.3750 - val_recall: 0.9000 - val_auc: 0.4029 - val_prc: 0.3107\n",
      "Epoch 12/50\n",
      "4/4 [==============================] - 0s 19ms/step - loss: 0.7257 - tp: 35.0000 - fp: 50.0000 - tn: 8.0000 - fn: 13.0000 - accuracy: 0.4057 - precision: 0.4118 - recall: 0.7292 - auc: 0.4777 - prc: 0.5378 - val_loss: 0.7964 - val_tp: 9.0000 - val_fp: 15.0000 - val_tn: 2.0000 - val_fn: 1.0000 - val_accuracy: 0.4074 - val_precision: 0.3750 - val_recall: 0.9000 - val_auc: 0.4029 - val_prc: 0.3107\n",
      "Epoch 13/50\n",
      "4/4 [==============================] - 0s 20ms/step - loss: 0.7243 - tp: 35.0000 - fp: 50.0000 - tn: 8.0000 - fn: 13.0000 - accuracy: 0.4057 - precision: 0.4118 - recall: 0.7292 - auc: 0.4786 - prc: 0.5390 - val_loss: 0.7941 - val_tp: 9.0000 - val_fp: 15.0000 - val_tn: 2.0000 - val_fn: 1.0000 - val_accuracy: 0.4074 - val_precision: 0.3750 - val_recall: 0.9000 - val_auc: 0.4118 - val_prc: 0.3136\n",
      "Epoch 14/50\n",
      "4/4 [==============================] - 0s 19ms/step - loss: 0.7231 - tp: 35.0000 - fp: 50.0000 - tn: 8.0000 - fn: 13.0000 - accuracy: 0.4057 - precision: 0.4118 - recall: 0.7292 - auc: 0.4804 - prc: 0.5426 - val_loss: 0.7918 - val_tp: 9.0000 - val_fp: 15.0000 - val_tn: 2.0000 - val_fn: 1.0000 - val_accuracy: 0.4074 - val_precision: 0.3750 - val_recall: 0.9000 - val_auc: 0.4088 - val_prc: 0.3129\n",
      "Epoch 15/50\n",
      "4/4 [==============================] - 0s 19ms/step - loss: 0.7218 - tp: 35.0000 - fp: 50.0000 - tn: 8.0000 - fn: 13.0000 - accuracy: 0.4057 - precision: 0.4118 - recall: 0.7292 - auc: 0.4838 - prc: 0.5436 - val_loss: 0.7895 - val_tp: 9.0000 - val_fp: 15.0000 - val_tn: 2.0000 - val_fn: 1.0000 - val_accuracy: 0.4074 - val_precision: 0.3750 - val_recall: 0.9000 - val_auc: 0.4176 - val_prc: 0.3160\n",
      "Epoch 16/50\n",
      "4/4 [==============================] - 0s 20ms/step - loss: 0.7204 - tp: 35.0000 - fp: 51.0000 - tn: 7.0000 - fn: 13.0000 - accuracy: 0.3962 - precision: 0.4070 - recall: 0.7292 - auc: 0.4860 - prc: 0.5459 - val_loss: 0.7873 - val_tp: 9.0000 - val_fp: 15.0000 - val_tn: 2.0000 - val_fn: 1.0000 - val_accuracy: 0.4074 - val_precision: 0.3750 - val_recall: 0.9000 - val_auc: 0.4147 - val_prc: 0.3148\n",
      "Epoch 17/50\n",
      "4/4 [==============================] - 0s 18ms/step - loss: 0.7191 - tp: 35.0000 - fp: 51.0000 - tn: 7.0000 - fn: 13.0000 - accuracy: 0.3962 - precision: 0.4070 - recall: 0.7292 - auc: 0.4908 - prc: 0.5502 - val_loss: 0.7851 - val_tp: 9.0000 - val_fp: 15.0000 - val_tn: 2.0000 - val_fn: 1.0000 - val_accuracy: 0.4074 - val_precision: 0.3750 - val_recall: 0.9000 - val_auc: 0.4353 - val_prc: 0.3235\n",
      "Epoch 18/50\n",
      "4/4 [==============================] - 0s 19ms/step - loss: 0.7178 - tp: 35.0000 - fp: 51.0000 - tn: 7.0000 - fn: 13.0000 - accuracy: 0.3962 - precision: 0.4070 - recall: 0.7292 - auc: 0.4914 - prc: 0.5484 - val_loss: 0.7829 - val_tp: 9.0000 - val_fp: 15.0000 - val_tn: 2.0000 - val_fn: 1.0000 - val_accuracy: 0.4074 - val_precision: 0.3750 - val_recall: 0.9000 - val_auc: 0.4353 - val_prc: 0.3233\n",
      "Epoch 19/50\n",
      "4/4 [==============================] - 0s 18ms/step - loss: 0.7166 - tp: 35.0000 - fp: 51.0000 - tn: 7.0000 - fn: 13.0000 - accuracy: 0.3962 - precision: 0.4070 - recall: 0.7292 - auc: 0.4919 - prc: 0.5491 - val_loss: 0.7807 - val_tp: 9.0000 - val_fp: 15.0000 - val_tn: 2.0000 - val_fn: 1.0000 - val_accuracy: 0.4074 - val_precision: 0.3750 - val_recall: 0.9000 - val_auc: 0.4441 - val_prc: 0.3272\n",
      "Epoch 20/50\n",
      "4/4 [==============================] - 0s 18ms/step - loss: 0.7154 - tp: 35.0000 - fp: 51.0000 - tn: 7.0000 - fn: 13.0000 - accuracy: 0.3962 - precision: 0.4070 - recall: 0.7292 - auc: 0.4969 - prc: 0.5518 - val_loss: 0.7787 - val_tp: 9.0000 - val_fp: 15.0000 - val_tn: 2.0000 - val_fn: 1.0000 - val_accuracy: 0.4074 - val_precision: 0.3750 - val_recall: 0.9000 - val_auc: 0.4471 - val_prc: 0.3287\n"
     ]
    },
    {
     "name": "stdout",
     "output_type": "stream",
     "text": [
      "Epoch 21/50\n",
      "4/4 [==============================] - 0s 19ms/step - loss: 0.7142 - tp: 35.0000 - fp: 51.0000 - tn: 7.0000 - fn: 13.0000 - accuracy: 0.3962 - precision: 0.4070 - recall: 0.7292 - auc: 0.4966 - prc: 0.5519 - val_loss: 0.7767 - val_tp: 9.0000 - val_fp: 15.0000 - val_tn: 2.0000 - val_fn: 1.0000 - val_accuracy: 0.4074 - val_precision: 0.3750 - val_recall: 0.9000 - val_auc: 0.4529 - val_prc: 0.3311\n",
      "Epoch 22/50\n",
      "4/4 [==============================] - 0s 20ms/step - loss: 0.7132 - tp: 35.0000 - fp: 51.0000 - tn: 7.0000 - fn: 13.0000 - accuracy: 0.3962 - precision: 0.4070 - recall: 0.7292 - auc: 0.5009 - prc: 0.5548 - val_loss: 0.7745 - val_tp: 9.0000 - val_fp: 15.0000 - val_tn: 2.0000 - val_fn: 1.0000 - val_accuracy: 0.4074 - val_precision: 0.3750 - val_recall: 0.9000 - val_auc: 0.4559 - val_prc: 0.3326\n",
      "Epoch 23/50\n",
      "4/4 [==============================] - 0s 18ms/step - loss: 0.7119 - tp: 34.0000 - fp: 51.0000 - tn: 7.0000 - fn: 14.0000 - accuracy: 0.3868 - precision: 0.4000 - recall: 0.7083 - auc: 0.5013 - prc: 0.5559 - val_loss: 0.7725 - val_tp: 9.0000 - val_fp: 15.0000 - val_tn: 2.0000 - val_fn: 1.0000 - val_accuracy: 0.4074 - val_precision: 0.3750 - val_recall: 0.9000 - val_auc: 0.4706 - val_prc: 0.3394\n",
      "Epoch 24/50\n",
      "4/4 [==============================] - 0s 18ms/step - loss: 0.7108 - tp: 34.0000 - fp: 51.0000 - tn: 7.0000 - fn: 14.0000 - accuracy: 0.3868 - precision: 0.4000 - recall: 0.7083 - auc: 0.5027 - prc: 0.5570 - val_loss: 0.7704 - val_tp: 9.0000 - val_fp: 15.0000 - val_tn: 2.0000 - val_fn: 1.0000 - val_accuracy: 0.4074 - val_precision: 0.3750 - val_recall: 0.9000 - val_auc: 0.4794 - val_prc: 0.3458\n",
      "Epoch 25/50\n",
      "4/4 [==============================] - 0s 19ms/step - loss: 0.7098 - tp: 34.0000 - fp: 50.0000 - tn: 8.0000 - fn: 14.0000 - accuracy: 0.3962 - precision: 0.4048 - recall: 0.7083 - auc: 0.5061 - prc: 0.5599 - val_loss: 0.7685 - val_tp: 9.0000 - val_fp: 15.0000 - val_tn: 2.0000 - val_fn: 1.0000 - val_accuracy: 0.4074 - val_precision: 0.3750 - val_recall: 0.9000 - val_auc: 0.4794 - val_prc: 0.3469\n",
      "Epoch 26/50\n",
      "4/4 [==============================] - 0s 18ms/step - loss: 0.7087 - tp: 35.0000 - fp: 50.0000 - tn: 8.0000 - fn: 13.0000 - accuracy: 0.4057 - precision: 0.4118 - recall: 0.7292 - auc: 0.5066 - prc: 0.5591 - val_loss: 0.7668 - val_tp: 9.0000 - val_fp: 14.0000 - val_tn: 3.0000 - val_fn: 1.0000 - val_accuracy: 0.4444 - val_precision: 0.3913 - val_recall: 0.9000 - val_auc: 0.4824 - val_prc: 0.3466\n",
      "Epoch 27/50\n",
      "4/4 [==============================] - 0s 19ms/step - loss: 0.7076 - tp: 34.0000 - fp: 50.0000 - tn: 8.0000 - fn: 14.0000 - accuracy: 0.3962 - precision: 0.4048 - recall: 0.7083 - auc: 0.5090 - prc: 0.5618 - val_loss: 0.7653 - val_tp: 9.0000 - val_fp: 14.0000 - val_tn: 3.0000 - val_fn: 1.0000 - val_accuracy: 0.4444 - val_precision: 0.3913 - val_recall: 0.9000 - val_auc: 0.4882 - val_prc: 0.3515\n",
      "Epoch 28/50\n",
      "4/4 [==============================] - 0s 20ms/step - loss: 0.7066 - tp: 34.0000 - fp: 50.0000 - tn: 8.0000 - fn: 14.0000 - accuracy: 0.3962 - precision: 0.4048 - recall: 0.7083 - auc: 0.5120 - prc: 0.5635 - val_loss: 0.7637 - val_tp: 9.0000 - val_fp: 14.0000 - val_tn: 3.0000 - val_fn: 1.0000 - val_accuracy: 0.4444 - val_precision: 0.3913 - val_recall: 0.9000 - val_auc: 0.4853 - val_prc: 0.3502\n",
      "Epoch 29/50\n",
      "4/4 [==============================] - 0s 19ms/step - loss: 0.7058 - tp: 34.0000 - fp: 50.0000 - tn: 8.0000 - fn: 14.0000 - accuracy: 0.3962 - precision: 0.4048 - recall: 0.7083 - auc: 0.5158 - prc: 0.5652 - val_loss: 0.7620 - val_tp: 9.0000 - val_fp: 14.0000 - val_tn: 3.0000 - val_fn: 1.0000 - val_accuracy: 0.4444 - val_precision: 0.3913 - val_recall: 0.9000 - val_auc: 0.4912 - val_prc: 0.3556\n",
      "Epoch 30/50\n",
      "4/4 [==============================] - 0s 20ms/step - loss: 0.7046 - tp: 34.0000 - fp: 50.0000 - tn: 8.0000 - fn: 14.0000 - accuracy: 0.3962 - precision: 0.4048 - recall: 0.7083 - auc: 0.5207 - prc: 0.5696 - val_loss: 0.7604 - val_tp: 9.0000 - val_fp: 14.0000 - val_tn: 3.0000 - val_fn: 1.0000 - val_accuracy: 0.4444 - val_precision: 0.3913 - val_recall: 0.9000 - val_auc: 0.5000 - val_prc: 0.3601\n",
      "Epoch 31/50\n",
      "4/4 [==============================] - 0s 18ms/step - loss: 0.7037 - tp: 34.0000 - fp: 50.0000 - tn: 8.0000 - fn: 14.0000 - accuracy: 0.3962 - precision: 0.4048 - recall: 0.7083 - auc: 0.5226 - prc: 0.5722 - val_loss: 0.7588 - val_tp: 9.0000 - val_fp: 14.0000 - val_tn: 3.0000 - val_fn: 1.0000 - val_accuracy: 0.4444 - val_precision: 0.3913 - val_recall: 0.9000 - val_auc: 0.5147 - val_prc: 0.3680\n",
      "Epoch 32/50\n",
      "4/4 [==============================] - 0s 18ms/step - loss: 0.7029 - tp: 34.0000 - fp: 50.0000 - tn: 8.0000 - fn: 14.0000 - accuracy: 0.3962 - precision: 0.4048 - recall: 0.7083 - auc: 0.5221 - prc: 0.5696 - val_loss: 0.7570 - val_tp: 9.0000 - val_fp: 14.0000 - val_tn: 3.0000 - val_fn: 1.0000 - val_accuracy: 0.4444 - val_precision: 0.3913 - val_recall: 0.9000 - val_auc: 0.5265 - val_prc: 0.3786\n",
      "Epoch 33/50\n",
      "4/4 [==============================] - 0s 20ms/step - loss: 0.7019 - tp: 34.0000 - fp: 50.0000 - tn: 8.0000 - fn: 14.0000 - accuracy: 0.3962 - precision: 0.4048 - recall: 0.7083 - auc: 0.5273 - prc: 0.5745 - val_loss: 0.7553 - val_tp: 9.0000 - val_fp: 14.0000 - val_tn: 3.0000 - val_fn: 1.0000 - val_accuracy: 0.4444 - val_precision: 0.3913 - val_recall: 0.9000 - val_auc: 0.5324 - val_prc: 0.3841\n",
      "Epoch 34/50\n",
      "4/4 [==============================] - 0s 18ms/step - loss: 0.7009 - tp: 34.0000 - fp: 49.0000 - tn: 9.0000 - fn: 14.0000 - accuracy: 0.4057 - precision: 0.4096 - recall: 0.7083 - auc: 0.5302 - prc: 0.5766 - val_loss: 0.7536 - val_tp: 9.0000 - val_fp: 14.0000 - val_tn: 3.0000 - val_fn: 1.0000 - val_accuracy: 0.4444 - val_precision: 0.3913 - val_recall: 0.9000 - val_auc: 0.5382 - val_prc: 0.3917\n",
      "Epoch 35/50\n",
      "4/4 [==============================] - 0s 17ms/step - loss: 0.7001 - tp: 34.0000 - fp: 49.0000 - tn: 9.0000 - fn: 14.0000 - accuracy: 0.4057 - precision: 0.4096 - recall: 0.7083 - auc: 0.5300 - prc: 0.5779 - val_loss: 0.7519 - val_tp: 9.0000 - val_fp: 14.0000 - val_tn: 3.0000 - val_fn: 1.0000 - val_accuracy: 0.4444 - val_precision: 0.3913 - val_recall: 0.9000 - val_auc: 0.5441 - val_prc: 0.3960\n",
      "Epoch 36/50\n",
      "4/4 [==============================] - 0s 18ms/step - loss: 0.6992 - tp: 34.0000 - fp: 48.0000 - tn: 10.0000 - fn: 14.0000 - accuracy: 0.4151 - precision: 0.4146 - recall: 0.7083 - auc: 0.5363 - prc: 0.5814 - val_loss: 0.7503 - val_tp: 9.0000 - val_fp: 14.0000 - val_tn: 3.0000 - val_fn: 1.0000 - val_accuracy: 0.4444 - val_precision: 0.3913 - val_recall: 0.9000 - val_auc: 0.5441 - val_prc: 0.3960\n",
      "Epoch 37/50\n",
      "4/4 [==============================] - 0s 17ms/step - loss: 0.6983 - tp: 34.0000 - fp: 48.0000 - tn: 10.0000 - fn: 14.0000 - accuracy: 0.4151 - precision: 0.4146 - recall: 0.7083 - auc: 0.5383 - prc: 0.5816 - val_loss: 0.7487 - val_tp: 9.0000 - val_fp: 14.0000 - val_tn: 3.0000 - val_fn: 1.0000 - val_accuracy: 0.4444 - val_precision: 0.3913 - val_recall: 0.9000 - val_auc: 0.5559 - val_prc: 0.4047\n",
      "Epoch 38/50\n",
      "4/4 [==============================] - 0s 18ms/step - loss: 0.6975 - tp: 34.0000 - fp: 48.0000 - tn: 10.0000 - fn: 14.0000 - accuracy: 0.4151 - precision: 0.4146 - recall: 0.7083 - auc: 0.5438 - prc: 0.5856 - val_loss: 0.7472 - val_tp: 9.0000 - val_fp: 14.0000 - val_tn: 3.0000 - val_fn: 1.0000 - val_accuracy: 0.4444 - val_precision: 0.3913 - val_recall: 0.9000 - val_auc: 0.5706 - val_prc: 0.4162\n",
      "Epoch 39/50\n",
      "4/4 [==============================] - 0s 18ms/step - loss: 0.6966 - tp: 34.0000 - fp: 48.0000 - tn: 10.0000 - fn: 14.0000 - accuracy: 0.4151 - precision: 0.4146 - recall: 0.7083 - auc: 0.5440 - prc: 0.5859 - val_loss: 0.7460 - val_tp: 9.0000 - val_fp: 14.0000 - val_tn: 3.0000 - val_fn: 1.0000 - val_accuracy: 0.4444 - val_precision: 0.3913 - val_recall: 0.9000 - val_auc: 0.5735 - val_prc: 0.4173\n",
      "Epoch 40/50\n",
      "4/4 [==============================] - 0s 19ms/step - loss: 0.6959 - tp: 34.0000 - fp: 48.0000 - tn: 10.0000 - fn: 14.0000 - accuracy: 0.4151 - precision: 0.4146 - recall: 0.7083 - auc: 0.5481 - prc: 0.5901 - val_loss: 0.7447 - val_tp: 9.0000 - val_fp: 14.0000 - val_tn: 3.0000 - val_fn: 1.0000 - val_accuracy: 0.4444 - val_precision: 0.3913 - val_recall: 0.9000 - val_auc: 0.5794 - val_prc: 0.4240\n"
     ]
    },
    {
     "name": "stdout",
     "output_type": "stream",
     "text": [
      "Epoch 41/50\n",
      "4/4 [==============================] - 0s 18ms/step - loss: 0.6950 - tp: 34.0000 - fp: 48.0000 - tn: 10.0000 - fn: 14.0000 - accuracy: 0.4151 - precision: 0.4146 - recall: 0.7083 - auc: 0.5519 - prc: 0.5929 - val_loss: 0.7433 - val_tp: 9.0000 - val_fp: 14.0000 - val_tn: 3.0000 - val_fn: 1.0000 - val_accuracy: 0.4444 - val_precision: 0.3913 - val_recall: 0.9000 - val_auc: 0.5765 - val_prc: 0.4229\n",
      "Epoch 42/50\n",
      "4/4 [==============================] - 0s 18ms/step - loss: 0.6942 - tp: 34.0000 - fp: 48.0000 - tn: 10.0000 - fn: 14.0000 - accuracy: 0.4151 - precision: 0.4146 - recall: 0.7083 - auc: 0.5553 - prc: 0.5959 - val_loss: 0.7419 - val_tp: 9.0000 - val_fp: 14.0000 - val_tn: 3.0000 - val_fn: 1.0000 - val_accuracy: 0.4444 - val_precision: 0.3913 - val_recall: 0.9000 - val_auc: 0.5794 - val_prc: 0.4238\n",
      "Epoch 43/50\n",
      "4/4 [==============================] - 0s 18ms/step - loss: 0.6933 - tp: 34.0000 - fp: 48.0000 - tn: 10.0000 - fn: 14.0000 - accuracy: 0.4151 - precision: 0.4146 - recall: 0.7083 - auc: 0.5564 - prc: 0.5980 - val_loss: 0.7403 - val_tp: 9.0000 - val_fp: 14.0000 - val_tn: 3.0000 - val_fn: 1.0000 - val_accuracy: 0.4444 - val_precision: 0.3913 - val_recall: 0.9000 - val_auc: 0.5853 - val_prc: 0.4261\n",
      "Epoch 44/50\n",
      "4/4 [==============================] - 0s 18ms/step - loss: 0.6924 - tp: 34.0000 - fp: 48.0000 - tn: 10.0000 - fn: 14.0000 - accuracy: 0.4151 - precision: 0.4146 - recall: 0.7083 - auc: 0.5627 - prc: 0.6020 - val_loss: 0.7387 - val_tp: 9.0000 - val_fp: 14.0000 - val_tn: 3.0000 - val_fn: 1.0000 - val_accuracy: 0.4444 - val_precision: 0.3913 - val_recall: 0.9000 - val_auc: 0.5882 - val_prc: 0.4274\n",
      "Epoch 45/50\n",
      "4/4 [==============================] - 0s 18ms/step - loss: 0.6916 - tp: 34.0000 - fp: 47.0000 - tn: 11.0000 - fn: 14.0000 - accuracy: 0.4245 - precision: 0.4198 - recall: 0.7083 - auc: 0.5690 - prc: 0.6061 - val_loss: 0.7373 - val_tp: 9.0000 - val_fp: 14.0000 - val_tn: 3.0000 - val_fn: 1.0000 - val_accuracy: 0.4444 - val_precision: 0.3913 - val_recall: 0.9000 - val_auc: 0.5912 - val_prc: 0.4284\n",
      "Epoch 46/50\n",
      "4/4 [==============================] - 0s 17ms/step - loss: 0.6907 - tp: 34.0000 - fp: 46.0000 - tn: 12.0000 - fn: 14.0000 - accuracy: 0.4340 - precision: 0.4250 - recall: 0.7083 - auc: 0.5690 - prc: 0.6056 - val_loss: 0.7358 - val_tp: 9.0000 - val_fp: 14.0000 - val_tn: 3.0000 - val_fn: 1.0000 - val_accuracy: 0.4444 - val_precision: 0.3913 - val_recall: 0.9000 - val_auc: 0.5912 - val_prc: 0.4283\n",
      "Epoch 47/50\n",
      "4/4 [==============================] - 0s 18ms/step - loss: 0.6899 - tp: 34.0000 - fp: 45.0000 - tn: 13.0000 - fn: 14.0000 - accuracy: 0.4434 - precision: 0.4304 - recall: 0.7083 - auc: 0.5700 - prc: 0.6070 - val_loss: 0.7344 - val_tp: 9.0000 - val_fp: 14.0000 - val_tn: 3.0000 - val_fn: 1.0000 - val_accuracy: 0.4444 - val_precision: 0.3913 - val_recall: 0.9000 - val_auc: 0.5941 - val_prc: 0.4317\n",
      "Epoch 48/50\n",
      "4/4 [==============================] - 0s 18ms/step - loss: 0.6891 - tp: 34.0000 - fp: 45.0000 - tn: 13.0000 - fn: 14.0000 - accuracy: 0.4434 - precision: 0.4304 - recall: 0.7083 - auc: 0.5731 - prc: 0.6087 - val_loss: 0.7330 - val_tp: 9.0000 - val_fp: 14.0000 - val_tn: 3.0000 - val_fn: 1.0000 - val_accuracy: 0.4444 - val_precision: 0.3913 - val_recall: 0.9000 - val_auc: 0.5971 - val_prc: 0.4327\n",
      "Epoch 49/50\n",
      "4/4 [==============================] - 0s 17ms/step - loss: 0.6882 - tp: 34.0000 - fp: 45.0000 - tn: 13.0000 - fn: 14.0000 - accuracy: 0.4434 - precision: 0.4304 - recall: 0.7083 - auc: 0.5806 - prc: 0.6140 - val_loss: 0.7316 - val_tp: 9.0000 - val_fp: 14.0000 - val_tn: 3.0000 - val_fn: 1.0000 - val_accuracy: 0.4444 - val_precision: 0.3913 - val_recall: 0.9000 - val_auc: 0.5971 - val_prc: 0.4303\n",
      "Epoch 50/50\n",
      "4/4 [==============================] - 0s 19ms/step - loss: 0.6874 - tp: 34.0000 - fp: 45.0000 - tn: 13.0000 - fn: 14.0000 - accuracy: 0.4434 - precision: 0.4304 - recall: 0.7083 - auc: 0.5814 - prc: 0.6151 - val_loss: 0.7302 - val_tp: 9.0000 - val_fp: 14.0000 - val_tn: 3.0000 - val_fn: 1.0000 - val_accuracy: 0.4444 - val_precision: 0.3913 - val_recall: 0.9000 - val_auc: 0.6029 - val_prc: 0.4323\n"
     ]
    }
   ],
   "source": [
    "history = model.train(X_train, y_train, X_val, y_val, epochs, batch_size, early_stopping)\n",
    "#plt.plot(history.history['loss'])\n",
    "#plt.show()"
   ]
  },
  {
   "cell_type": "code",
   "execution_count": 48,
   "id": "a09e4b66",
   "metadata": {},
   "outputs": [
    {
     "data": {
      "text/plain": [
       "0"
      ]
     },
     "execution_count": 48,
     "metadata": {},
     "output_type": "execute_result"
    }
   ],
   "source": [
    "early_stopping.stopped_epoch"
   ]
  },
  {
   "cell_type": "code",
   "execution_count": 49,
   "id": "dcd5d3a1",
   "metadata": {},
   "outputs": [],
   "source": [
    "#plot_loss(history, \"Bias\", 0)\n",
    "#plt.show()"
   ]
  },
  {
   "cell_type": "code",
   "execution_count": 50,
   "id": "8a185439",
   "metadata": {},
   "outputs": [],
   "source": [
    "#plot_metrics(history)\n",
    "#plt.show()"
   ]
  },
  {
   "cell_type": "code",
   "execution_count": 51,
   "id": "1e3d161e",
   "metadata": {},
   "outputs": [
    {
     "name": "stdout",
     "output_type": "stream",
     "text": [
      "4/4 [==============================] - 0s 2ms/step\n",
      "1/1 [==============================] - 0s 21ms/step\n",
      "loss :  0.7515673041343689\n",
      "tp :  8.0\n",
      "fp :  6.0\n",
      "tn :  1.0\n",
      "fn :  0.0\n",
      "accuracy :  0.6000000238418579\n",
      "precision :  0.5714285969734192\n",
      "recall :  1.0\n",
      "auc :  0.3392857015132904\n",
      "prc :  0.4200737178325653\n"
     ]
    }
   ],
   "source": [
    "predictions_train = model.predict(X_train)\n",
    "predictions_test = model.predict(X_test)\n",
    "\n",
    "# Confusion matrix\n",
    "results = model.evaluate(X_test, y_test)\n",
    "for name, value in zip(model.metrics_names(), results):\n",
    "    print(name, ': ', value)\n",
    "    if name == 'accuracy':\n",
    "        accuracy_sixteen_mean.append(value)"
   ]
  },
  {
   "cell_type": "code",
   "execution_count": 52,
   "id": "5b02f927",
   "metadata": {},
   "outputs": [
    {
     "name": "stdout",
     "output_type": "stream",
     "text": [
      "True Negatives:  1\n",
      "False Positives:  6\n",
      "False Negatives:  0\n",
      "True Positives:  8\n",
      "Total:  8\n"
     ]
    },
    {
     "data": {
      "image/png": "[encoded data removed]",
      "text/plain": [
       "<Figure size 500x500 with 2 Axes>"
      ]
     },
     "metadata": {},
     "output_type": "display_data"
    }
   ],
   "source": [
    "plot_cm(y_test, predictions_test)\n",
    "plt.show()"
   ]
  },
  {
   "cell_type": "code",
   "execution_count": 53,
   "id": "f0f41d66",
   "metadata": {},
   "outputs": [],
   "source": [
    "#plot_roc(\"Test Predictions\", y_test, predictions_test, color=colors[0], linestyle='--')\n",
    "#plt.legend(loc='lower right')\n",
    "#plt.show()"
   ]
  },
  {
   "cell_type": "code",
   "execution_count": 54,
   "id": "5c6130aa",
   "metadata": {},
   "outputs": [],
   "source": [
    "# Precision-Recall Curve (PRC)\n",
    "#plot_prc(\"Train Predictions\", y_train, predictions_train, color=colors[0])\n",
    "#plot_prc(\"Test Predictions\", y_test, predictions_test, color=colors[0], linestyle='--')\n",
    "#plt.legend(loc='lower right')\n",
    "#plt.show()"
   ]
  },
  {
   "cell_type": "code",
   "execution_count": 55,
   "id": "21275488",
   "metadata": {},
   "outputs": [],
   "source": [
    "#STOP"
   ]
  },
  {
   "cell_type": "markdown",
   "id": "0260fb5a",
   "metadata": {},
   "source": [
    "## 4 Dense Model with 32 Lines"
   ]
  },
  {
   "cell_type": "markdown",
   "id": "3f16288e",
   "metadata": {},
   "source": [
    "### Dataset"
   ]
  },
  {
   "cell_type": "code",
   "execution_count": 56,
   "id": "411ceae0",
   "metadata": {},
   "outputs": [],
   "source": [
    "# prepare dataset\n",
    "\n",
    "df = df_damage_thirtytwo_mean.drop(columns=columns)"
   ]
  },
  {
   "cell_type": "code",
   "execution_count": 57,
   "id": "bf1b6f93",
   "metadata": {},
   "outputs": [
    {
     "name": "stdout",
     "output_type": "stream",
     "text": [
      "Training features shape: (106, 36)\n",
      "Training labels shape: (106,) \n",
      "\n",
      "Validation features shape: (27, 36)\n",
      "Validation labels shape: (27,) \n",
      "\n",
      "Test features shape: (15, 36)\n",
      "Test labels shape: (15,) \n",
      "\n"
     ]
    }
   ],
   "source": [
    "# Split into sets for training, validation, and testing + use and save scaler\n",
    "\n",
    "X = df.drop(columns=['Damage'])\n",
    "y = df['Damage']\n",
    "\n",
    "X_train, X_test, y_train, y_test = train_test_split(X, y, test_size=0.1, random_state=random_state)\n",
    "X_train, X_val, y_train, y_val = train_test_split(X_train, y_train, test_size=0.2, random_state=random_state)\n",
    "\n",
    "scaler_sixteen = StandardScaler()\n",
    "X_train = scaler_sixteen.fit_transform(X_train)\n",
    "\n",
    "X_val = scaler_sixteen.transform(X_val)\n",
    "X_test = scaler_sixteen.transform(X_test)\n",
    "\n",
    "print('Training features shape:', X_train.shape)\n",
    "print('Training labels shape:', y_train.shape, '\\n')\n",
    "\n",
    "print('Validation features shape:', X_val.shape)\n",
    "print('Validation labels shape:', y_val.shape, '\\n')\n",
    "\n",
    "print('Test features shape:', X_test.shape)\n",
    "print('Test labels shape:', y_test.shape, '\\n')"
   ]
  },
  {
   "cell_type": "markdown",
   "id": "ab5d0fd0",
   "metadata": {},
   "source": [
    "### Model"
   ]
  },
  {
   "cell_type": "code",
   "execution_count": 58,
   "id": "0f5bfd89",
   "metadata": {},
   "outputs": [
    {
     "name": "stdout",
     "output_type": "stream",
     "text": [
      "Model: \"sequential_3\"\n",
      "_________________________________________________________________\n",
      " Layer (type)                Output Shape              Param #   \n",
      "=================================================================\n",
      " dense_9 (Dense)             (None, 16)                592       \n",
      "                                                                 \n",
      " dense_10 (Dense)            (None, 16)                272       \n",
      "                                                                 \n",
      " dense_11 (Dense)            (None, 1)                 17        \n",
      "                                                                 \n",
      "=================================================================\n",
      "Total params: 881\n",
      "Trainable params: 881\n",
      "Non-trainable params: 0\n",
      "_________________________________________________________________\n"
     ]
    }
   ],
   "source": [
    "input_dim = X_train.shape[1]\n",
    "units = 16\n",
    "activation = 'relu'\n",
    "output_size = 1\n",
    "output_activation = 'sigmoid'\n",
    "kernel_initializer = 'he_uniform'\n",
    "\n",
    "LAYERS = [ \n",
    "    { 'type': 'Dense', 'nodes':units, 'activation': activation },\n",
    "    { 'type': 'Dense', 'nodes':units, 'activation': activation },\n",
    "    { 'type': 'Dense', 'nodes':output_size, 'activation': output_activation }\n",
    "]\n",
    "\n",
    "model = DenseModel(LAYERS, input_dim)\n",
    "model.summary()"
   ]
  },
  {
   "cell_type": "code",
   "execution_count": 59,
   "id": "63315db0",
   "metadata": {},
   "outputs": [
    {
     "name": "stdout",
     "output_type": "stream",
     "text": [
      "Epoch 1/50\n",
      "4/4 [==============================] - 2s 172ms/step - loss: 0.7067 - tp: 22.0000 - fp: 18.0000 - tn: 46.0000 - fn: 35.0000 - accuracy: 0.5620 - precision: 0.5500 - recall: 0.3860 - auc: 0.5356 - prc: 0.5014 - val_loss: 0.6955 - val_tp: 5.0000 - val_fp: 6.0000 - val_tn: 10.0000 - val_fn: 6.0000 - val_accuracy: 0.5556 - val_precision: 0.4545 - val_recall: 0.4545 - val_auc: 0.5511 - val_prc: 0.4359\n",
      "Epoch 2/50\n",
      "4/4 [==============================] - 0s 18ms/step - loss: 0.7040 - tp: 14.0000 - fp: 13.0000 - tn: 44.0000 - fn: 35.0000 - accuracy: 0.5472 - precision: 0.5185 - recall: 0.2857 - auc: 0.5240 - prc: 0.5339 - val_loss: 0.6919 - val_tp: 5.0000 - val_fp: 5.0000 - val_tn: 11.0000 - val_fn: 6.0000 - val_accuracy: 0.5926 - val_precision: 0.5000 - val_recall: 0.4545 - val_auc: 0.5625 - val_prc: 0.4428\n",
      "Epoch 3/50\n",
      "4/4 [==============================] - 0s 18ms/step - loss: 0.7017 - tp: 12.0000 - fp: 12.0000 - tn: 45.0000 - fn: 37.0000 - accuracy: 0.5377 - precision: 0.5000 - recall: 0.2449 - auc: 0.5224 - prc: 0.5299 - val_loss: 0.6880 - val_tp: 5.0000 - val_fp: 5.0000 - val_tn: 11.0000 - val_fn: 6.0000 - val_accuracy: 0.5926 - val_precision: 0.5000 - val_recall: 0.4545 - val_auc: 0.5767 - val_prc: 0.5017\n",
      "Epoch 4/50\n",
      "4/4 [==============================] - 0s 18ms/step - loss: 0.6993 - tp: 11.0000 - fp: 12.0000 - tn: 45.0000 - fn: 38.0000 - accuracy: 0.5283 - precision: 0.4783 - recall: 0.2245 - auc: 0.5301 - prc: 0.5348 - val_loss: 0.6844 - val_tp: 5.0000 - val_fp: 5.0000 - val_tn: 11.0000 - val_fn: 6.0000 - val_accuracy: 0.5926 - val_precision: 0.5000 - val_recall: 0.4545 - val_auc: 0.5881 - val_prc: 0.5145\n",
      "Epoch 5/50\n",
      "4/4 [==============================] - 0s 19ms/step - loss: 0.6972 - tp: 11.0000 - fp: 11.0000 - tn: 46.0000 - fn: 38.0000 - accuracy: 0.5377 - precision: 0.5000 - recall: 0.2245 - auc: 0.5381 - prc: 0.5432 - val_loss: 0.6811 - val_tp: 5.0000 - val_fp: 5.0000 - val_tn: 11.0000 - val_fn: 6.0000 - val_accuracy: 0.5926 - val_precision: 0.5000 - val_recall: 0.4545 - val_auc: 0.6051 - val_prc: 0.5368\n",
      "Epoch 6/50\n",
      "4/4 [==============================] - 0s 18ms/step - loss: 0.6952 - tp: 10.0000 - fp: 11.0000 - tn: 46.0000 - fn: 39.0000 - accuracy: 0.5283 - precision: 0.4762 - recall: 0.2041 - auc: 0.5433 - prc: 0.5422 - val_loss: 0.6777 - val_tp: 5.0000 - val_fp: 5.0000 - val_tn: 11.0000 - val_fn: 6.0000 - val_accuracy: 0.5926 - val_precision: 0.5000 - val_recall: 0.4545 - val_auc: 0.6108 - val_prc: 0.5521\n",
      "Epoch 7/50\n",
      "4/4 [==============================] - 0s 17ms/step - loss: 0.6933 - tp: 10.0000 - fp: 11.0000 - tn: 46.0000 - fn: 39.0000 - accuracy: 0.5283 - precision: 0.4762 - recall: 0.2041 - auc: 0.5474 - prc: 0.5487 - val_loss: 0.6740 - val_tp: 5.0000 - val_fp: 4.0000 - val_tn: 12.0000 - val_fn: 6.0000 - val_accuracy: 0.6296 - val_precision: 0.5556 - val_recall: 0.4545 - val_auc: 0.6278 - val_prc: 0.5679\n",
      "Epoch 8/50\n",
      "4/4 [==============================] - 0s 19ms/step - loss: 0.6916 - tp: 11.0000 - fp: 11.0000 - tn: 46.0000 - fn: 38.0000 - accuracy: 0.5377 - precision: 0.5000 - recall: 0.2245 - auc: 0.5523 - prc: 0.5443 - val_loss: 0.6701 - val_tp: 4.0000 - val_fp: 4.0000 - val_tn: 12.0000 - val_fn: 7.0000 - val_accuracy: 0.5926 - val_precision: 0.5000 - val_recall: 0.3636 - val_auc: 0.6477 - val_prc: 0.5785\n",
      "Epoch 9/50\n",
      "4/4 [==============================] - 0s 18ms/step - loss: 0.6895 - tp: 11.0000 - fp: 10.0000 - tn: 47.0000 - fn: 38.0000 - accuracy: 0.5472 - precision: 0.5238 - recall: 0.2245 - auc: 0.5550 - prc: 0.5398 - val_loss: 0.6669 - val_tp: 4.0000 - val_fp: 4.0000 - val_tn: 12.0000 - val_fn: 7.0000 - val_accuracy: 0.5926 - val_precision: 0.5000 - val_recall: 0.3636 - val_auc: 0.6619 - val_prc: 0.5851\n",
      "Epoch 10/50\n",
      "4/4 [==============================] - 0s 18ms/step - loss: 0.6875 - tp: 11.0000 - fp: 10.0000 - tn: 47.0000 - fn: 38.0000 - accuracy: 0.5472 - precision: 0.5238 - recall: 0.2245 - auc: 0.5616 - prc: 0.5400 - val_loss: 0.6639 - val_tp: 4.0000 - val_fp: 4.0000 - val_tn: 12.0000 - val_fn: 7.0000 - val_accuracy: 0.5926 - val_precision: 0.5000 - val_recall: 0.3636 - val_auc: 0.6790 - val_prc: 0.6011\n",
      "Epoch 11/50\n",
      "4/4 [==============================] - 0s 18ms/step - loss: 0.6859 - tp: 11.0000 - fp: 10.0000 - tn: 47.0000 - fn: 38.0000 - accuracy: 0.5472 - precision: 0.5238 - recall: 0.2245 - auc: 0.5648 - prc: 0.5380 - val_loss: 0.6605 - val_tp: 4.0000 - val_fp: 4.0000 - val_tn: 12.0000 - val_fn: 7.0000 - val_accuracy: 0.5926 - val_precision: 0.5000 - val_recall: 0.3636 - val_auc: 0.6847 - val_prc: 0.6035\n",
      "Epoch 12/50\n",
      "4/4 [==============================] - 0s 19ms/step - loss: 0.6843 - tp: 11.0000 - fp: 11.0000 - tn: 46.0000 - fn: 38.0000 - accuracy: 0.5377 - precision: 0.5000 - recall: 0.2245 - auc: 0.5712 - prc: 0.5388 - val_loss: 0.6574 - val_tp: 5.0000 - val_fp: 4.0000 - val_tn: 12.0000 - val_fn: 6.0000 - val_accuracy: 0.6296 - val_precision: 0.5556 - val_recall: 0.4545 - val_auc: 0.6960 - val_prc: 0.6163\n",
      "Epoch 13/50\n",
      "4/4 [==============================] - 0s 19ms/step - loss: 0.6824 - tp: 11.0000 - fp: 11.0000 - tn: 46.0000 - fn: 38.0000 - accuracy: 0.5377 - precision: 0.5000 - recall: 0.2245 - auc: 0.5764 - prc: 0.5402 - val_loss: 0.6547 - val_tp: 5.0000 - val_fp: 3.0000 - val_tn: 13.0000 - val_fn: 6.0000 - val_accuracy: 0.6667 - val_precision: 0.6250 - val_recall: 0.4545 - val_auc: 0.6960 - val_prc: 0.6163\n",
      "Epoch 14/50\n",
      "4/4 [==============================] - 0s 22ms/step - loss: 0.6807 - tp: 11.0000 - fp: 10.0000 - tn: 47.0000 - fn: 38.0000 - accuracy: 0.5472 - precision: 0.5238 - recall: 0.2245 - auc: 0.5745 - prc: 0.5349 - val_loss: 0.6521 - val_tp: 5.0000 - val_fp: 3.0000 - val_tn: 13.0000 - val_fn: 6.0000 - val_accuracy: 0.6667 - val_precision: 0.6250 - val_recall: 0.4545 - val_auc: 0.7131 - val_prc: 0.6391\n",
      "Epoch 15/50\n",
      "4/4 [==============================] - 0s 18ms/step - loss: 0.6794 - tp: 11.0000 - fp: 10.0000 - tn: 47.0000 - fn: 38.0000 - accuracy: 0.5472 - precision: 0.5238 - recall: 0.2245 - auc: 0.5883 - prc: 0.5470 - val_loss: 0.6494 - val_tp: 6.0000 - val_fp: 3.0000 - val_tn: 13.0000 - val_fn: 5.0000 - val_accuracy: 0.7037 - val_precision: 0.6667 - val_recall: 0.5455 - val_auc: 0.7216 - val_prc: 0.6485\n",
      "Epoch 16/50\n",
      "4/4 [==============================] - 0s 17ms/step - loss: 0.6776 - tp: 11.0000 - fp: 10.0000 - tn: 47.0000 - fn: 38.0000 - accuracy: 0.5472 - precision: 0.5238 - recall: 0.2245 - auc: 0.5947 - prc: 0.5480 - val_loss: 0.6470 - val_tp: 5.0000 - val_fp: 3.0000 - val_tn: 13.0000 - val_fn: 6.0000 - val_accuracy: 0.6667 - val_precision: 0.6250 - val_recall: 0.4545 - val_auc: 0.7301 - val_prc: 0.6560\n",
      "Epoch 17/50\n",
      "4/4 [==============================] - 0s 19ms/step - loss: 0.6763 - tp: 11.0000 - fp: 10.0000 - tn: 47.0000 - fn: 38.0000 - accuracy: 0.5472 - precision: 0.5238 - recall: 0.2245 - auc: 0.6035 - prc: 0.5509 - val_loss: 0.6445 - val_tp: 5.0000 - val_fp: 3.0000 - val_tn: 13.0000 - val_fn: 6.0000 - val_accuracy: 0.6667 - val_precision: 0.6250 - val_recall: 0.4545 - val_auc: 0.7358 - val_prc: 0.6761\n",
      "Epoch 18/50\n",
      "4/4 [==============================] - 0s 18ms/step - loss: 0.6749 - tp: 11.0000 - fp: 10.0000 - tn: 47.0000 - fn: 38.0000 - accuracy: 0.5472 - precision: 0.5238 - recall: 0.2245 - auc: 0.6065 - prc: 0.5497 - val_loss: 0.6421 - val_tp: 5.0000 - val_fp: 3.0000 - val_tn: 13.0000 - val_fn: 6.0000 - val_accuracy: 0.6667 - val_precision: 0.6250 - val_recall: 0.4545 - val_auc: 0.7301 - val_prc: 0.6726\n",
      "Epoch 19/50\n",
      "4/4 [==============================] - 0s 18ms/step - loss: 0.6733 - tp: 11.0000 - fp: 10.0000 - tn: 47.0000 - fn: 38.0000 - accuracy: 0.5472 - precision: 0.5238 - recall: 0.2245 - auc: 0.6176 - prc: 0.5451 - val_loss: 0.6396 - val_tp: 5.0000 - val_fp: 3.0000 - val_tn: 13.0000 - val_fn: 6.0000 - val_accuracy: 0.6667 - val_precision: 0.6250 - val_recall: 0.4545 - val_auc: 0.7358 - val_prc: 0.7151\n",
      "Epoch 20/50\n",
      "4/4 [==============================] - 0s 17ms/step - loss: 0.6720 - tp: 12.0000 - fp: 10.0000 - tn: 47.0000 - fn: 37.0000 - accuracy: 0.5566 - precision: 0.5455 - recall: 0.2449 - auc: 0.6201 - prc: 0.5551 - val_loss: 0.6372 - val_tp: 5.0000 - val_fp: 3.0000 - val_tn: 13.0000 - val_fn: 6.0000 - val_accuracy: 0.6667 - val_precision: 0.6250 - val_recall: 0.4545 - val_auc: 0.7415 - val_prc: 0.7214\n"
     ]
    },
    {
     "name": "stdout",
     "output_type": "stream",
     "text": [
      "Epoch 21/50\n",
      "4/4 [==============================] - 0s 19ms/step - loss: 0.6706 - tp: 12.0000 - fp: 10.0000 - tn: 47.0000 - fn: 37.0000 - accuracy: 0.5566 - precision: 0.5455 - recall: 0.2449 - auc: 0.6221 - prc: 0.5457 - val_loss: 0.6351 - val_tp: 5.0000 - val_fp: 3.0000 - val_tn: 13.0000 - val_fn: 6.0000 - val_accuracy: 0.6667 - val_precision: 0.6250 - val_recall: 0.4545 - val_auc: 0.7386 - val_prc: 0.7124\n",
      "Epoch 22/50\n",
      "4/4 [==============================] - 0s 18ms/step - loss: 0.6695 - tp: 12.0000 - fp: 10.0000 - tn: 47.0000 - fn: 37.0000 - accuracy: 0.5566 - precision: 0.5455 - recall: 0.2449 - auc: 0.6312 - prc: 0.5480 - val_loss: 0.6327 - val_tp: 5.0000 - val_fp: 3.0000 - val_tn: 13.0000 - val_fn: 6.0000 - val_accuracy: 0.6667 - val_precision: 0.6250 - val_recall: 0.4545 - val_auc: 0.7386 - val_prc: 0.7240\n",
      "Epoch 23/50\n",
      "4/4 [==============================] - 0s 17ms/step - loss: 0.6683 - tp: 13.0000 - fp: 10.0000 - tn: 47.0000 - fn: 36.0000 - accuracy: 0.5660 - precision: 0.5652 - recall: 0.2653 - auc: 0.6332 - prc: 0.5479 - val_loss: 0.6306 - val_tp: 5.0000 - val_fp: 3.0000 - val_tn: 13.0000 - val_fn: 6.0000 - val_accuracy: 0.6667 - val_precision: 0.6250 - val_recall: 0.4545 - val_auc: 0.7415 - val_prc: 0.7238\n",
      "Epoch 24/50\n",
      "4/4 [==============================] - 0s 17ms/step - loss: 0.6672 - tp: 12.0000 - fp: 10.0000 - tn: 47.0000 - fn: 37.0000 - accuracy: 0.5566 - precision: 0.5455 - recall: 0.2449 - auc: 0.6396 - prc: 0.5533 - val_loss: 0.6289 - val_tp: 5.0000 - val_fp: 3.0000 - val_tn: 13.0000 - val_fn: 6.0000 - val_accuracy: 0.6667 - val_precision: 0.6250 - val_recall: 0.4545 - val_auc: 0.7443 - val_prc: 0.7248\n",
      "Epoch 25/50\n",
      "4/4 [==============================] - 0s 17ms/step - loss: 0.6663 - tp: 12.0000 - fp: 11.0000 - tn: 46.0000 - fn: 37.0000 - accuracy: 0.5472 - precision: 0.5217 - recall: 0.2449 - auc: 0.6398 - prc: 0.5510 - val_loss: 0.6273 - val_tp: 5.0000 - val_fp: 3.0000 - val_tn: 13.0000 - val_fn: 6.0000 - val_accuracy: 0.6667 - val_precision: 0.6250 - val_recall: 0.4545 - val_auc: 0.7443 - val_prc: 0.7327\n",
      "Epoch 26/50\n",
      "4/4 [==============================] - 0s 17ms/step - loss: 0.6651 - tp: 12.0000 - fp: 11.0000 - tn: 46.0000 - fn: 37.0000 - accuracy: 0.5472 - precision: 0.5217 - recall: 0.2449 - auc: 0.6459 - prc: 0.5553 - val_loss: 0.6260 - val_tp: 5.0000 - val_fp: 3.0000 - val_tn: 13.0000 - val_fn: 6.0000 - val_accuracy: 0.6667 - val_precision: 0.6250 - val_recall: 0.4545 - val_auc: 0.7528 - val_prc: 0.7354\n",
      "Epoch 27/50\n",
      "4/4 [==============================] - 0s 16ms/step - loss: 0.6643 - tp: 13.0000 - fp: 11.0000 - tn: 46.0000 - fn: 36.0000 - accuracy: 0.5566 - precision: 0.5417 - recall: 0.2653 - auc: 0.6500 - prc: 0.5578 - val_loss: 0.6248 - val_tp: 5.0000 - val_fp: 3.0000 - val_tn: 13.0000 - val_fn: 6.0000 - val_accuracy: 0.6667 - val_precision: 0.6250 - val_recall: 0.4545 - val_auc: 0.7528 - val_prc: 0.7354\n",
      "Epoch 28/50\n",
      "4/4 [==============================] - 0s 17ms/step - loss: 0.6633 - tp: 13.0000 - fp: 11.0000 - tn: 46.0000 - fn: 36.0000 - accuracy: 0.5566 - precision: 0.5417 - recall: 0.2653 - auc: 0.6543 - prc: 0.5611 - val_loss: 0.6234 - val_tp: 5.0000 - val_fp: 3.0000 - val_tn: 13.0000 - val_fn: 6.0000 - val_accuracy: 0.6667 - val_precision: 0.6250 - val_recall: 0.4545 - val_auc: 0.7528 - val_prc: 0.7248\n",
      "Epoch 29/50\n",
      "4/4 [==============================] - 0s 16ms/step - loss: 0.6625 - tp: 13.0000 - fp: 11.0000 - tn: 46.0000 - fn: 36.0000 - accuracy: 0.5566 - precision: 0.5417 - recall: 0.2653 - auc: 0.6604 - prc: 0.5638 - val_loss: 0.6222 - val_tp: 5.0000 - val_fp: 3.0000 - val_tn: 13.0000 - val_fn: 6.0000 - val_accuracy: 0.6667 - val_precision: 0.6250 - val_recall: 0.4545 - val_auc: 0.7415 - val_prc: 0.7169\n",
      "Epoch 30/50\n",
      "4/4 [==============================] - 0s 18ms/step - loss: 0.6615 - tp: 14.0000 - fp: 10.0000 - tn: 47.0000 - fn: 35.0000 - accuracy: 0.5755 - precision: 0.5833 - recall: 0.2857 - auc: 0.6636 - prc: 0.5653 - val_loss: 0.6212 - val_tp: 5.0000 - val_fp: 3.0000 - val_tn: 13.0000 - val_fn: 6.0000 - val_accuracy: 0.6667 - val_precision: 0.6250 - val_recall: 0.4545 - val_auc: 0.7443 - val_prc: 0.7179\n",
      "Epoch 31/50\n",
      "4/4 [==============================] - 0s 16ms/step - loss: 0.6607 - tp: 14.0000 - fp: 10.0000 - tn: 47.0000 - fn: 35.0000 - accuracy: 0.5755 - precision: 0.5833 - recall: 0.2857 - auc: 0.6665 - prc: 0.5675 - val_loss: 0.6201 - val_tp: 5.0000 - val_fp: 3.0000 - val_tn: 13.0000 - val_fn: 6.0000 - val_accuracy: 0.6667 - val_precision: 0.6250 - val_recall: 0.4545 - val_auc: 0.7415 - val_prc: 0.7164\n",
      "Epoch 32/50\n",
      "4/4 [==============================] - 0s 17ms/step - loss: 0.6599 - tp: 14.0000 - fp: 10.0000 - tn: 47.0000 - fn: 35.0000 - accuracy: 0.5755 - precision: 0.5833 - recall: 0.2857 - auc: 0.6679 - prc: 0.5678 - val_loss: 0.6195 - val_tp: 5.0000 - val_fp: 3.0000 - val_tn: 13.0000 - val_fn: 6.0000 - val_accuracy: 0.6667 - val_precision: 0.6250 - val_recall: 0.4545 - val_auc: 0.7358 - val_prc: 0.7103\n",
      "Epoch 33/50\n",
      "4/4 [==============================] - 0s 17ms/step - loss: 0.6591 - tp: 14.0000 - fp: 10.0000 - tn: 47.0000 - fn: 35.0000 - accuracy: 0.5755 - precision: 0.5833 - recall: 0.2857 - auc: 0.6710 - prc: 0.5708 - val_loss: 0.6181 - val_tp: 5.0000 - val_fp: 3.0000 - val_tn: 13.0000 - val_fn: 6.0000 - val_accuracy: 0.6667 - val_precision: 0.6250 - val_recall: 0.4545 - val_auc: 0.7358 - val_prc: 0.7103\n",
      "Epoch 34/50\n",
      "4/4 [==============================] - 0s 17ms/step - loss: 0.6581 - tp: 14.0000 - fp: 10.0000 - tn: 47.0000 - fn: 35.0000 - accuracy: 0.5755 - precision: 0.5833 - recall: 0.2857 - auc: 0.6728 - prc: 0.5721 - val_loss: 0.6169 - val_tp: 5.0000 - val_fp: 3.0000 - val_tn: 13.0000 - val_fn: 6.0000 - val_accuracy: 0.6667 - val_precision: 0.6250 - val_recall: 0.4545 - val_auc: 0.7386 - val_prc: 0.7201\n",
      "Epoch 35/50\n",
      "4/4 [==============================] - 0s 17ms/step - loss: 0.6573 - tp: 14.0000 - fp: 10.0000 - tn: 47.0000 - fn: 35.0000 - accuracy: 0.5755 - precision: 0.5833 - recall: 0.2857 - auc: 0.6710 - prc: 0.5719 - val_loss: 0.6155 - val_tp: 5.0000 - val_fp: 3.0000 - val_tn: 13.0000 - val_fn: 6.0000 - val_accuracy: 0.6667 - val_precision: 0.6250 - val_recall: 0.4545 - val_auc: 0.7415 - val_prc: 0.7220\n",
      "Epoch 36/50\n",
      "4/4 [==============================] - 0s 17ms/step - loss: 0.6564 - tp: 14.0000 - fp: 11.0000 - tn: 46.0000 - fn: 35.0000 - accuracy: 0.5660 - precision: 0.5600 - recall: 0.2857 - auc: 0.6758 - prc: 0.5759 - val_loss: 0.6142 - val_tp: 5.0000 - val_fp: 3.0000 - val_tn: 13.0000 - val_fn: 6.0000 - val_accuracy: 0.6667 - val_precision: 0.6250 - val_recall: 0.4545 - val_auc: 0.7301 - val_prc: 0.7121\n",
      "Epoch 37/50\n",
      "4/4 [==============================] - 0s 17ms/step - loss: 0.6556 - tp: 14.0000 - fp: 11.0000 - tn: 46.0000 - fn: 35.0000 - accuracy: 0.5660 - precision: 0.5600 - recall: 0.2857 - auc: 0.6801 - prc: 0.5799 - val_loss: 0.6132 - val_tp: 5.0000 - val_fp: 3.0000 - val_tn: 13.0000 - val_fn: 6.0000 - val_accuracy: 0.6667 - val_precision: 0.6250 - val_recall: 0.4545 - val_auc: 0.7273 - val_prc: 0.6897\n",
      "Epoch 38/50\n",
      "4/4 [==============================] - 0s 16ms/step - loss: 0.6549 - tp: 14.0000 - fp: 11.0000 - tn: 46.0000 - fn: 35.0000 - accuracy: 0.5660 - precision: 0.5600 - recall: 0.2857 - auc: 0.6824 - prc: 0.5811 - val_loss: 0.6121 - val_tp: 5.0000 - val_fp: 3.0000 - val_tn: 13.0000 - val_fn: 6.0000 - val_accuracy: 0.6667 - val_precision: 0.6250 - val_recall: 0.4545 - val_auc: 0.7301 - val_prc: 0.6910\n",
      "Epoch 39/50\n",
      "4/4 [==============================] - 0s 18ms/step - loss: 0.6541 - tp: 14.0000 - fp: 11.0000 - tn: 46.0000 - fn: 35.0000 - accuracy: 0.5660 - precision: 0.5600 - recall: 0.2857 - auc: 0.6831 - prc: 0.5819 - val_loss: 0.6110 - val_tp: 5.0000 - val_fp: 4.0000 - val_tn: 12.0000 - val_fn: 6.0000 - val_accuracy: 0.6296 - val_precision: 0.5556 - val_recall: 0.4545 - val_auc: 0.7216 - val_prc: 0.6860\n",
      "Epoch 40/50\n",
      "4/4 [==============================] - 0s 16ms/step - loss: 0.6534 - tp: 15.0000 - fp: 11.0000 - tn: 46.0000 - fn: 34.0000 - accuracy: 0.5755 - precision: 0.5769 - recall: 0.3061 - auc: 0.6826 - prc: 0.5826 - val_loss: 0.6100 - val_tp: 5.0000 - val_fp: 4.0000 - val_tn: 12.0000 - val_fn: 6.0000 - val_accuracy: 0.6296 - val_precision: 0.5556 - val_recall: 0.4545 - val_auc: 0.7188 - val_prc: 0.6738\n"
     ]
    },
    {
     "name": "stdout",
     "output_type": "stream",
     "text": [
      "Epoch 41/50\n",
      "4/4 [==============================] - 0s 17ms/step - loss: 0.6527 - tp: 15.0000 - fp: 11.0000 - tn: 46.0000 - fn: 34.0000 - accuracy: 0.5755 - precision: 0.5769 - recall: 0.3061 - auc: 0.6847 - prc: 0.5851 - val_loss: 0.6093 - val_tp: 5.0000 - val_fp: 4.0000 - val_tn: 12.0000 - val_fn: 6.0000 - val_accuracy: 0.6296 - val_precision: 0.5556 - val_recall: 0.4545 - val_auc: 0.7244 - val_prc: 0.6873\n",
      "Epoch 42/50\n",
      "4/4 [==============================] - 0s 17ms/step - loss: 0.6520 - tp: 15.0000 - fp: 11.0000 - tn: 46.0000 - fn: 34.0000 - accuracy: 0.5755 - precision: 0.5769 - recall: 0.3061 - auc: 0.6880 - prc: 0.5881 - val_loss: 0.6087 - val_tp: 5.0000 - val_fp: 4.0000 - val_tn: 12.0000 - val_fn: 6.0000 - val_accuracy: 0.6296 - val_precision: 0.5556 - val_recall: 0.4545 - val_auc: 0.7244 - val_prc: 0.6873\n",
      "Epoch 43/50\n",
      "4/4 [==============================] - 0s 17ms/step - loss: 0.6513 - tp: 15.0000 - fp: 11.0000 - tn: 46.0000 - fn: 34.0000 - accuracy: 0.5755 - precision: 0.5769 - recall: 0.3061 - auc: 0.6898 - prc: 0.5913 - val_loss: 0.6081 - val_tp: 5.0000 - val_fp: 4.0000 - val_tn: 12.0000 - val_fn: 6.0000 - val_accuracy: 0.6296 - val_precision: 0.5556 - val_recall: 0.4545 - val_auc: 0.7273 - val_prc: 0.6890\n",
      "Epoch 44/50\n",
      "4/4 [==============================] - 0s 18ms/step - loss: 0.6507 - tp: 15.0000 - fp: 11.0000 - tn: 46.0000 - fn: 34.0000 - accuracy: 0.5755 - precision: 0.5769 - recall: 0.3061 - auc: 0.6894 - prc: 0.5918 - val_loss: 0.6075 - val_tp: 5.0000 - val_fp: 4.0000 - val_tn: 12.0000 - val_fn: 6.0000 - val_accuracy: 0.6296 - val_precision: 0.5556 - val_recall: 0.4545 - val_auc: 0.7273 - val_prc: 0.6890\n",
      "Epoch 45/50\n",
      "4/4 [==============================] - 0s 17ms/step - loss: 0.6501 - tp: 16.0000 - fp: 11.0000 - tn: 46.0000 - fn: 33.0000 - accuracy: 0.5849 - precision: 0.5926 - recall: 0.3265 - auc: 0.6907 - prc: 0.5940 - val_loss: 0.6067 - val_tp: 5.0000 - val_fp: 4.0000 - val_tn: 12.0000 - val_fn: 6.0000 - val_accuracy: 0.6296 - val_precision: 0.5556 - val_recall: 0.4545 - val_auc: 0.7216 - val_prc: 0.6859\n",
      "Epoch 46/50\n",
      "4/4 [==============================] - 0s 17ms/step - loss: 0.6494 - tp: 16.0000 - fp: 11.0000 - tn: 46.0000 - fn: 33.0000 - accuracy: 0.5849 - precision: 0.5926 - recall: 0.3265 - auc: 0.6928 - prc: 0.5959 - val_loss: 0.6058 - val_tp: 5.0000 - val_fp: 4.0000 - val_tn: 12.0000 - val_fn: 6.0000 - val_accuracy: 0.6296 - val_precision: 0.5556 - val_recall: 0.4545 - val_auc: 0.7159 - val_prc: 0.6813\n",
      "Epoch 47/50\n",
      "4/4 [==============================] - 0s 18ms/step - loss: 0.6489 - tp: 17.0000 - fp: 10.0000 - tn: 47.0000 - fn: 32.0000 - accuracy: 0.6038 - precision: 0.6296 - recall: 0.3469 - auc: 0.6942 - prc: 0.5975 - val_loss: 0.6047 - val_tp: 5.0000 - val_fp: 4.0000 - val_tn: 12.0000 - val_fn: 6.0000 - val_accuracy: 0.6296 - val_precision: 0.5556 - val_recall: 0.4545 - val_auc: 0.7102 - val_prc: 0.6481\n",
      "Epoch 48/50\n",
      "4/4 [==============================] - 0s 17ms/step - loss: 0.6482 - tp: 17.0000 - fp: 10.0000 - tn: 47.0000 - fn: 32.0000 - accuracy: 0.6038 - precision: 0.6296 - recall: 0.3469 - auc: 0.6941 - prc: 0.5984 - val_loss: 0.6038 - val_tp: 5.0000 - val_fp: 4.0000 - val_tn: 12.0000 - val_fn: 6.0000 - val_accuracy: 0.6296 - val_precision: 0.5556 - val_recall: 0.4545 - val_auc: 0.7102 - val_prc: 0.6481\n",
      "Epoch 49/50\n",
      "4/4 [==============================] - 0s 17ms/step - loss: 0.6475 - tp: 18.0000 - fp: 10.0000 - tn: 47.0000 - fn: 31.0000 - accuracy: 0.6132 - precision: 0.6429 - recall: 0.3673 - auc: 0.6966 - prc: 0.6011 - val_loss: 0.6032 - val_tp: 5.0000 - val_fp: 4.0000 - val_tn: 12.0000 - val_fn: 6.0000 - val_accuracy: 0.6296 - val_precision: 0.5556 - val_recall: 0.4545 - val_auc: 0.7159 - val_prc: 0.6494\n",
      "Epoch 50/50\n",
      "4/4 [==============================] - 0s 17ms/step - loss: 0.6469 - tp: 18.0000 - fp: 10.0000 - tn: 47.0000 - fn: 31.0000 - accuracy: 0.6132 - precision: 0.6429 - recall: 0.3673 - auc: 0.6964 - prc: 0.6016 - val_loss: 0.6026 - val_tp: 5.0000 - val_fp: 4.0000 - val_tn: 12.0000 - val_fn: 6.0000 - val_accuracy: 0.6296 - val_precision: 0.5556 - val_recall: 0.4545 - val_auc: 0.7159 - val_prc: 0.6340\n"
     ]
    }
   ],
   "source": [
    "history = model.train(X_train, y_train, X_val, y_val, epochs, batch_size, early_stopping)\n",
    "#plt.plot(history.history['loss'])\n",
    "#plt.show()"
   ]
  },
  {
   "cell_type": "code",
   "execution_count": 60,
   "id": "302ea816",
   "metadata": {},
   "outputs": [
    {
     "data": {
      "text/plain": [
       "0"
      ]
     },
     "execution_count": 60,
     "metadata": {},
     "output_type": "execute_result"
    }
   ],
   "source": [
    "early_stopping.stopped_epoch"
   ]
  },
  {
   "cell_type": "code",
   "execution_count": 61,
   "id": "b13b14c7",
   "metadata": {},
   "outputs": [],
   "source": [
    "#plot_loss(history, \"Bias\", 0)\n",
    "#plt.show()"
   ]
  },
  {
   "cell_type": "code",
   "execution_count": 62,
   "id": "aabf65c9",
   "metadata": {},
   "outputs": [],
   "source": [
    "#plot_metrics(history)\n",
    "#plt.show()"
   ]
  },
  {
   "cell_type": "code",
   "execution_count": 63,
   "id": "6e66c015",
   "metadata": {},
   "outputs": [
    {
     "name": "stdout",
     "output_type": "stream",
     "text": [
      "4/4 [==============================] - 0s 2ms/step\n",
      "1/1 [==============================] - 0s 19ms/step\n",
      "loss :  0.7440334558486938\n",
      "tp :  0.0\n",
      "fp :  3.0\n",
      "tn :  4.0\n",
      "fn :  8.0\n",
      "accuracy :  0.2666666805744171\n",
      "precision :  0.0\n",
      "recall :  0.0\n",
      "auc :  0.4107142686843872\n",
      "prc :  0.44347599148750305\n"
     ]
    }
   ],
   "source": [
    "predictions_train = model.predict(X_train)\n",
    "predictions_test = model.predict(X_test)\n",
    "\n",
    "# Confusion matrix\n",
    "results = model.evaluate(X_test, y_test)\n",
    "for name, value in zip(model.metrics_names(), results):\n",
    "    print(name, ': ', value)\n",
    "    if name == 'accuracy':\n",
    "        accuracy_thirtytwo_mean.append(value)"
   ]
  },
  {
   "cell_type": "code",
   "execution_count": 64,
   "id": "27dcd0e3",
   "metadata": {},
   "outputs": [
    {
     "name": "stdout",
     "output_type": "stream",
     "text": [
      "True Negatives:  4\n",
      "False Positives:  3\n",
      "False Negatives:  8\n",
      "True Positives:  0\n",
      "Total:  8\n"
     ]
    },
    {
     "data": {
      "image/png": "[encoded data removed]",
      "text/plain": [
       "<Figure size 500x500 with 2 Axes>"
      ]
     },
     "metadata": {},
     "output_type": "display_data"
    }
   ],
   "source": [
    "plot_cm(y_test, predictions_test)\n",
    "plt.show()"
   ]
  },
  {
   "cell_type": "code",
   "execution_count": 65,
   "id": "eedc2b18",
   "metadata": {},
   "outputs": [],
   "source": [
    "#plot_roc(\"Test Predictions\", y_test, predictions_test, color=colors[0], linestyle='--')\n",
    "#plt.legend(loc='lower right')\n",
    "#plt.show()"
   ]
  },
  {
   "cell_type": "code",
   "execution_count": 66,
   "id": "43f924d0",
   "metadata": {},
   "outputs": [],
   "source": [
    "# Precision-Recall Curve (PRC)\n",
    "#plot_prc(\"Train Predictions\", y_train, predictions_train, color=colors[0])\n",
    "#plot_prc(\"Test Predictions\", y_test, predictions_test, color=colors[0], linestyle='--')\n",
    "#plt.legend(loc='lower right')\n",
    "#plt.show()"
   ]
  },
  {
   "cell_type": "code",
   "execution_count": 67,
   "id": "348f7577",
   "metadata": {},
   "outputs": [],
   "source": [
    "#STOP"
   ]
  },
  {
   "cell_type": "markdown",
   "id": "02b16763",
   "metadata": {},
   "source": [
    "# 2 CNN Model"
   ]
  },
  {
   "cell_type": "code",
   "execution_count": 68,
   "id": "7b8acd55",
   "metadata": {},
   "outputs": [],
   "source": [
    "class CNNModel():\n",
    "    def __init__(self, in_shape, n_classes, kernel_size=3, kernel_initializer='he_uniform', activation = 'relu', output_activation = 'sigmoid', pool_size=2, filters_1=8, filters_2=16, filters_3=32, filters_4=12, metrics=METRICS):\n",
    "        model = Sequential()\n",
    "        model.add(Conv1D(filters= filters_1, kernel_size = kernel_size, activation=activation, kernel_initializer=kernel_initializer, input_shape=in_shape))\n",
    "\n",
    "        model.add(Conv1D(filters= filters_2, kernel_size = kernel_size, activation=activation, kernel_initializer=kernel_initializer))\n",
    "        model.add(MaxPool1D(pool_size=pool_size))\n",
    "        model.add(Dropout(0.5))\n",
    "\n",
    "        #model.add(Conv1D(filters= filters_3, kernel_size = kernel_size, activation=activation, kernel_initializer=kernel_initializer))\n",
    "        #model.add(MaxPool1D(pool_size=pool_size))\n",
    "        #model.add(Dropout(0.5))\n",
    "\n",
    "        model.add(Flatten())\n",
    "        #model.add(Dense(32, activation='relu', kernel_initializer='he_uniform'))\n",
    "        #model.add(Dense(16, activation='relu', kernel_initializer='he_uniform'))\n",
    "        model.add(Dense(8, activation='relu', kernel_initializer='he_uniform'))\n",
    "        #model.add(Dropout(0.5))\n",
    "        #model.add(BatchNormalization())\n",
    "        model.add(Dense(n_classes, activation=output_activation)) #'softmax'\n",
    "\n",
    "        model.compile(\n",
    "            optimizer=tf.keras.optimizers.Adam(learning_rate=0.0001),\n",
    "            loss='binary_crossentropy',\n",
    "            metrics=metrics)\n",
    "        \n",
    "        self.model = model    \n",
    "\n",
    "    def train(self, X_train, y_train, X_val, y_val, epochs, batch_size, callback):\n",
    "        history = self.model.fit(X_train, y_train, validation_data=(X_val, y_val), epochs=epochs, batch_size=batch_size, verbose=1, shuffle=True, callbacks=[callback])\n",
    "        return history\n",
    "\n",
    "    def evaluate(self, X_test, y_test):\n",
    "        results = self.model.evaluate(X_test, y_test, verbose=0)\n",
    "        return results\n",
    "\n",
    "    def predict(self, X): #X_train X_test\n",
    "        predictions = self.model.predict(X)\n",
    "        return predictions\n",
    "    \n",
    "    def summary(self):\n",
    "        self.model.summary()\n",
    "        \n",
    "    def metrics_names(self):\n",
    "        return self.model.metrics_names\n",
    "        "
   ]
  },
  {
   "cell_type": "markdown",
   "id": "1df8cd83",
   "metadata": {},
   "source": [
    "## 5 CNN Model with 16 Lines"
   ]
  },
  {
   "cell_type": "markdown",
   "id": "b9720978",
   "metadata": {},
   "source": [
    "### Dataset"
   ]
  },
  {
   "cell_type": "code",
   "execution_count": 69,
   "id": "1906e669",
   "metadata": {},
   "outputs": [],
   "source": [
    "# prepare dataset\n",
    "\n",
    "df = df_damage_sixteen_min_max.drop(columns=columns)"
   ]
  },
  {
   "cell_type": "code",
   "execution_count": 70,
   "id": "de5bace7",
   "metadata": {},
   "outputs": [
    {
     "name": "stdout",
     "output_type": "stream",
     "text": [
      "Training features shape: (106, 20)\n",
      "Training labels shape: (106,) \n",
      "\n",
      "Validation features shape: (27, 20)\n",
      "Validation labels shape: (27,) \n",
      "\n",
      "Test features shape: (15, 20)\n",
      "Test labels shape: (15,) \n",
      "\n"
     ]
    }
   ],
   "source": [
    "# Split into sets for training, validation, and testing + use and save scaler\n",
    "\n",
    "X = df.drop(columns=['Damage'])\n",
    "y = df['Damage']\n",
    "\n",
    "X_train, X_test, y_train, y_test = train_test_split(X, y, test_size=0.1, random_state=random_state)\n",
    "X_train, X_val, y_train, y_val = train_test_split(X_train, y_train, test_size=0.2, random_state=random_state)\n",
    "\n",
    "scaler_sixteen = StandardScaler()\n",
    "X_train = scaler_sixteen.fit_transform(X_train)\n",
    "\n",
    "X_val = scaler_sixteen.transform(X_val)\n",
    "X_test = scaler_sixteen.transform(X_test)\n",
    "\n",
    "print('Training features shape:', X_train.shape)\n",
    "print('Training labels shape:', y_train.shape, '\\n')\n",
    "\n",
    "print('Validation features shape:', X_val.shape)\n",
    "print('Validation labels shape:', y_val.shape, '\\n')\n",
    "\n",
    "print('Test features shape:', X_test.shape)\n",
    "print('Test labels shape:', y_test.shape, '\\n')"
   ]
  },
  {
   "cell_type": "markdown",
   "id": "2201504e",
   "metadata": {},
   "source": [
    "### Model"
   ]
  },
  {
   "cell_type": "code",
   "execution_count": 71,
   "id": "96a0bf2f",
   "metadata": {},
   "outputs": [
    {
     "name": "stdout",
     "output_type": "stream",
     "text": [
      "Before: (20,)\n",
      "After: (20, 1)\n",
      "Classes: 1\n",
      "Model: \"sequential_4\"\n",
      "_________________________________________________________________\n",
      " Layer (type)                Output Shape              Param #   \n",
      "=================================================================\n",
      " conv1d (Conv1D)             (None, 18, 8)             32        \n",
      "                                                                 \n",
      " conv1d_1 (Conv1D)           (None, 16, 16)            400       \n",
      "                                                                 \n",
      " max_pooling1d (MaxPooling1D  (None, 8, 16)            0         \n",
      " )                                                               \n",
      "                                                                 \n",
      " dropout (Dropout)           (None, 8, 16)             0         \n",
      "                                                                 \n",
      " flatten (Flatten)           (None, 128)               0         \n",
      "                                                                 \n",
      " dense_12 (Dense)            (None, 8)                 1032      \n",
      "                                                                 \n",
      " dense_13 (Dense)            (None, 1)                 9         \n",
      "                                                                 \n",
      "=================================================================\n",
      "Total params: 1,473\n",
      "Trainable params: 1,473\n",
      "Non-trainable params: 0\n",
      "_________________________________________________________________\n"
     ]
    }
   ],
   "source": [
    "orig_shape = X_train.shape[1:]\n",
    "X_train = X_train.reshape((X_train.shape[0], X_train.shape[1], 1))\n",
    "X_test = X_test.reshape((X_test.shape[0], X_test.shape[1], 1))\n",
    "\n",
    "X_val = X_val.reshape((X_val.shape[0], X_val.shape[1], 1))\n",
    "\n",
    "in_shape = X_train.shape[1:]\n",
    "print(\"Before: {0}\".format(orig_shape))\n",
    "print(\"After: {0}\".format(in_shape))\n",
    "\n",
    "n_classes = len(unique(y_train))\n",
    "n_classes = 1\n",
    "print(\"Classes: {0}\".format(n_classes))\n",
    "\n",
    "model = CNNModel(in_shape, n_classes)\n",
    "model.summary()"
   ]
  },
  {
   "cell_type": "code",
   "execution_count": 72,
   "id": "a4cb90a6",
   "metadata": {},
   "outputs": [
    {
     "name": "stdout",
     "output_type": "stream",
     "text": [
      "Epoch 1/50\n",
      "4/4 [==============================] - 2s 171ms/step - loss: 0.7832 - tp: 26.0000 - fp: 41.0000 - tn: 34.0000 - fn: 20.0000 - accuracy: 0.4959 - precision: 0.3881 - recall: 0.5652 - auc: 0.5767 - prc: 0.5885 - val_loss: 0.5636 - val_tp: 9.0000 - val_fp: 12.0000 - val_tn: 5.0000 - val_fn: 1.0000 - val_accuracy: 0.5185 - val_precision: 0.4286 - val_recall: 0.9000 - val_auc: 0.8706 - val_prc: 0.8988\n",
      "Epoch 2/50\n",
      "4/4 [==============================] - 0s 20ms/step - loss: 0.6616 - tp: 28.0000 - fp: 32.0000 - tn: 36.0000 - fn: 10.0000 - accuracy: 0.6038 - precision: 0.4667 - recall: 0.7368 - auc: 0.7156 - prc: 0.7223 - val_loss: 0.5506 - val_tp: 9.0000 - val_fp: 9.0000 - val_tn: 8.0000 - val_fn: 1.0000 - val_accuracy: 0.6296 - val_precision: 0.5000 - val_recall: 0.9000 - val_auc: 0.8706 - val_prc: 0.8988\n",
      "Epoch 3/50\n",
      "4/4 [==============================] - 0s 19ms/step - loss: 0.7579 - tp: 26.0000 - fp: 33.0000 - tn: 35.0000 - fn: 12.0000 - accuracy: 0.5755 - precision: 0.4407 - recall: 0.6842 - auc: 0.6465 - prc: 0.6322 - val_loss: 0.5381 - val_tp: 9.0000 - val_fp: 8.0000 - val_tn: 9.0000 - val_fn: 1.0000 - val_accuracy: 0.6667 - val_precision: 0.5294 - val_recall: 0.9000 - val_auc: 0.8824 - val_prc: 0.9097\n",
      "Epoch 4/50\n",
      "4/4 [==============================] - 0s 19ms/step - loss: 0.8116 - tp: 27.0000 - fp: 34.0000 - tn: 34.0000 - fn: 11.0000 - accuracy: 0.5755 - precision: 0.4426 - recall: 0.7105 - auc: 0.6291 - prc: 0.6025 - val_loss: 0.5272 - val_tp: 9.0000 - val_fp: 8.0000 - val_tn: 9.0000 - val_fn: 1.0000 - val_accuracy: 0.6667 - val_precision: 0.5294 - val_recall: 0.9000 - val_auc: 0.8853 - val_prc: 0.9132\n",
      "Epoch 5/50\n",
      "4/4 [==============================] - 0s 20ms/step - loss: 0.7419 - tp: 23.0000 - fp: 33.0000 - tn: 35.0000 - fn: 15.0000 - accuracy: 0.5472 - precision: 0.4107 - recall: 0.6053 - auc: 0.5931 - prc: 0.6230 - val_loss: 0.5170 - val_tp: 9.0000 - val_fp: 7.0000 - val_tn: 10.0000 - val_fn: 1.0000 - val_accuracy: 0.7037 - val_precision: 0.5625 - val_recall: 0.9000 - val_auc: 0.8912 - val_prc: 0.9210\n",
      "Epoch 6/50\n",
      "4/4 [==============================] - 0s 19ms/step - loss: 0.7583 - tp: 23.0000 - fp: 31.0000 - tn: 37.0000 - fn: 15.0000 - accuracy: 0.5660 - precision: 0.4259 - recall: 0.6053 - auc: 0.6118 - prc: 0.5950 - val_loss: 0.5081 - val_tp: 9.0000 - val_fp: 6.0000 - val_tn: 11.0000 - val_fn: 1.0000 - val_accuracy: 0.7407 - val_precision: 0.6000 - val_recall: 0.9000 - val_auc: 0.8941 - val_prc: 0.9253\n",
      "Epoch 7/50\n",
      "4/4 [==============================] - 0s 19ms/step - loss: 0.7012 - tp: 28.0000 - fp: 29.0000 - tn: 39.0000 - fn: 10.0000 - accuracy: 0.6321 - precision: 0.4912 - recall: 0.7368 - auc: 0.7243 - prc: 0.7697 - val_loss: 0.4992 - val_tp: 9.0000 - val_fp: 5.0000 - val_tn: 12.0000 - val_fn: 1.0000 - val_accuracy: 0.7778 - val_precision: 0.6429 - val_recall: 0.9000 - val_auc: 0.8941 - val_prc: 0.9253\n",
      "Epoch 8/50\n",
      "4/4 [==============================] - 0s 19ms/step - loss: 0.7717 - tp: 26.0000 - fp: 28.0000 - tn: 40.0000 - fn: 12.0000 - accuracy: 0.6226 - precision: 0.4815 - recall: 0.6842 - auc: 0.6625 - prc: 0.6667 - val_loss: 0.4904 - val_tp: 9.0000 - val_fp: 5.0000 - val_tn: 12.0000 - val_fn: 1.0000 - val_accuracy: 0.7778 - val_precision: 0.6429 - val_recall: 0.9000 - val_auc: 0.8941 - val_prc: 0.9253\n",
      "Epoch 9/50\n",
      "4/4 [==============================] - 0s 20ms/step - loss: 0.6418 - tp: 28.0000 - fp: 27.0000 - tn: 41.0000 - fn: 10.0000 - accuracy: 0.6509 - precision: 0.5091 - recall: 0.7368 - auc: 0.7552 - prc: 0.7255 - val_loss: 0.4818 - val_tp: 9.0000 - val_fp: 3.0000 - val_tn: 14.0000 - val_fn: 1.0000 - val_accuracy: 0.8519 - val_precision: 0.7500 - val_recall: 0.9000 - val_auc: 0.8941 - val_prc: 0.9253\n",
      "Epoch 10/50\n",
      "4/4 [==============================] - 0s 20ms/step - loss: 0.6374 - tp: 33.0000 - fp: 32.0000 - tn: 36.0000 - fn: 5.0000 - accuracy: 0.6509 - precision: 0.5077 - recall: 0.8684 - auc: 0.7844 - prc: 0.6946 - val_loss: 0.4731 - val_tp: 9.0000 - val_fp: 3.0000 - val_tn: 14.0000 - val_fn: 1.0000 - val_accuracy: 0.8519 - val_precision: 0.7500 - val_recall: 0.9000 - val_auc: 0.8941 - val_prc: 0.9253\n",
      "Epoch 11/50\n",
      "4/4 [==============================] - 0s 20ms/step - loss: 0.6168 - tp: 28.0000 - fp: 29.0000 - tn: 39.0000 - fn: 10.0000 - accuracy: 0.6321 - precision: 0.4912 - recall: 0.7368 - auc: 0.7523 - prc: 0.7414 - val_loss: 0.4640 - val_tp: 9.0000 - val_fp: 3.0000 - val_tn: 14.0000 - val_fn: 1.0000 - val_accuracy: 0.8519 - val_precision: 0.7500 - val_recall: 0.9000 - val_auc: 0.8941 - val_prc: 0.9253\n",
      "Epoch 12/50\n",
      "4/4 [==============================] - 0s 19ms/step - loss: 0.7282 - tp: 21.0000 - fp: 20.0000 - tn: 48.0000 - fn: 17.0000 - accuracy: 0.6509 - precision: 0.5122 - recall: 0.5526 - auc: 0.6389 - prc: 0.6670 - val_loss: 0.4559 - val_tp: 9.0000 - val_fp: 3.0000 - val_tn: 14.0000 - val_fn: 1.0000 - val_accuracy: 0.8519 - val_precision: 0.7500 - val_recall: 0.9000 - val_auc: 0.8941 - val_prc: 0.9253\n",
      "Epoch 13/50\n",
      "4/4 [==============================] - 0s 19ms/step - loss: 0.6668 - tp: 27.0000 - fp: 28.0000 - tn: 40.0000 - fn: 11.0000 - accuracy: 0.6321 - precision: 0.4909 - recall: 0.7105 - auc: 0.7103 - prc: 0.7171 - val_loss: 0.4487 - val_tp: 9.0000 - val_fp: 3.0000 - val_tn: 14.0000 - val_fn: 1.0000 - val_accuracy: 0.8519 - val_precision: 0.7500 - val_recall: 0.9000 - val_auc: 0.8971 - val_prc: 0.9260\n",
      "Epoch 14/50\n",
      "4/4 [==============================] - 0s 20ms/step - loss: 0.7335 - tp: 26.0000 - fp: 34.0000 - tn: 34.0000 - fn: 12.0000 - accuracy: 0.5660 - precision: 0.4333 - recall: 0.6842 - auc: 0.7024 - prc: 0.7297 - val_loss: 0.4412 - val_tp: 9.0000 - val_fp: 3.0000 - val_tn: 14.0000 - val_fn: 1.0000 - val_accuracy: 0.8519 - val_precision: 0.7500 - val_recall: 0.9000 - val_auc: 0.9000 - val_prc: 0.9267\n",
      "Epoch 15/50\n",
      "4/4 [==============================] - 0s 27ms/step - loss: 0.5866 - tp: 30.0000 - fp: 25.0000 - tn: 43.0000 - fn: 8.0000 - accuracy: 0.6887 - precision: 0.5455 - recall: 0.7895 - auc: 0.7846 - prc: 0.7828 - val_loss: 0.4338 - val_tp: 9.0000 - val_fp: 3.0000 - val_tn: 14.0000 - val_fn: 1.0000 - val_accuracy: 0.8519 - val_precision: 0.7500 - val_recall: 0.9000 - val_auc: 0.9000 - val_prc: 0.9267\n",
      "Epoch 16/50\n",
      "4/4 [==============================] - 0s 21ms/step - loss: 0.5873 - tp: 28.0000 - fp: 24.0000 - tn: 44.0000 - fn: 10.0000 - accuracy: 0.6792 - precision: 0.5385 - recall: 0.7368 - auc: 0.7781 - prc: 0.7633 - val_loss: 0.4276 - val_tp: 9.0000 - val_fp: 2.0000 - val_tn: 15.0000 - val_fn: 1.0000 - val_accuracy: 0.8889 - val_precision: 0.8182 - val_recall: 0.9000 - val_auc: 0.9000 - val_prc: 0.9267\n",
      "Epoch 17/50\n",
      "4/4 [==============================] - 0s 20ms/step - loss: 0.5307 - tp: 29.0000 - fp: 22.0000 - tn: 46.0000 - fn: 9.0000 - accuracy: 0.7075 - precision: 0.5686 - recall: 0.7632 - auc: 0.8168 - prc: 0.8190 - val_loss: 0.4220 - val_tp: 9.0000 - val_fp: 2.0000 - val_tn: 15.0000 - val_fn: 1.0000 - val_accuracy: 0.8889 - val_precision: 0.8182 - val_recall: 0.9000 - val_auc: 0.9000 - val_prc: 0.9267\n",
      "Epoch 18/50\n",
      "4/4 [==============================] - 0s 21ms/step - loss: 0.6076 - tp: 27.0000 - fp: 22.0000 - tn: 46.0000 - fn: 11.0000 - accuracy: 0.6887 - precision: 0.5510 - recall: 0.7105 - auc: 0.7357 - prc: 0.7327 - val_loss: 0.4166 - val_tp: 9.0000 - val_fp: 2.0000 - val_tn: 15.0000 - val_fn: 1.0000 - val_accuracy: 0.8889 - val_precision: 0.8182 - val_recall: 0.9000 - val_auc: 0.9000 - val_prc: 0.9267\n",
      "Epoch 19/50\n",
      "4/4 [==============================] - 0s 20ms/step - loss: 0.6489 - tp: 26.0000 - fp: 25.0000 - tn: 43.0000 - fn: 12.0000 - accuracy: 0.6509 - precision: 0.5098 - recall: 0.6842 - auc: 0.7550 - prc: 0.7597 - val_loss: 0.4110 - val_tp: 9.0000 - val_fp: 2.0000 - val_tn: 15.0000 - val_fn: 1.0000 - val_accuracy: 0.8889 - val_precision: 0.8182 - val_recall: 0.9000 - val_auc: 0.9000 - val_prc: 0.9267\n",
      "Epoch 20/50\n",
      "4/4 [==============================] - 0s 21ms/step - loss: 0.6125 - tp: 27.0000 - fp: 23.0000 - tn: 45.0000 - fn: 11.0000 - accuracy: 0.6792 - precision: 0.5400 - recall: 0.7105 - auc: 0.7697 - prc: 0.7813 - val_loss: 0.4052 - val_tp: 9.0000 - val_fp: 2.0000 - val_tn: 15.0000 - val_fn: 1.0000 - val_accuracy: 0.8889 - val_precision: 0.8182 - val_recall: 0.9000 - val_auc: 0.9000 - val_prc: 0.9267\n"
     ]
    },
    {
     "name": "stdout",
     "output_type": "stream",
     "text": [
      "Epoch 21/50\n",
      "4/4 [==============================] - 0s 20ms/step - loss: 0.5816 - tp: 28.0000 - fp: 23.0000 - tn: 45.0000 - fn: 10.0000 - accuracy: 0.6887 - precision: 0.5490 - recall: 0.7368 - auc: 0.7842 - prc: 0.7768 - val_loss: 0.3996 - val_tp: 9.0000 - val_fp: 2.0000 - val_tn: 15.0000 - val_fn: 1.0000 - val_accuracy: 0.8889 - val_precision: 0.8182 - val_recall: 0.9000 - val_auc: 0.9000 - val_prc: 0.9267\n",
      "Epoch 22/50\n",
      "4/4 [==============================] - 0s 23ms/step - loss: 0.6212 - tp: 26.0000 - fp: 28.0000 - tn: 40.0000 - fn: 12.0000 - accuracy: 0.6226 - precision: 0.4815 - recall: 0.6842 - auc: 0.7390 - prc: 0.7430 - val_loss: 0.3944 - val_tp: 9.0000 - val_fp: 2.0000 - val_tn: 15.0000 - val_fn: 1.0000 - val_accuracy: 0.8889 - val_precision: 0.8182 - val_recall: 0.9000 - val_auc: 0.9000 - val_prc: 0.9267\n",
      "Epoch 23/50\n",
      "4/4 [==============================] - 0s 21ms/step - loss: 0.4974 - tp: 33.0000 - fp: 19.0000 - tn: 49.0000 - fn: 5.0000 - accuracy: 0.7736 - precision: 0.6346 - recall: 0.8684 - auc: 0.8771 - prc: 0.8352 - val_loss: 0.3894 - val_tp: 9.0000 - val_fp: 2.0000 - val_tn: 15.0000 - val_fn: 1.0000 - val_accuracy: 0.8889 - val_precision: 0.8182 - val_recall: 0.9000 - val_auc: 0.9000 - val_prc: 0.9267\n",
      "Epoch 24/50\n",
      "4/4 [==============================] - 0s 18ms/step - loss: 0.5612 - tp: 26.0000 - fp: 20.0000 - tn: 48.0000 - fn: 12.0000 - accuracy: 0.6981 - precision: 0.5652 - recall: 0.6842 - auc: 0.7713 - prc: 0.7881 - val_loss: 0.3847 - val_tp: 9.0000 - val_fp: 2.0000 - val_tn: 15.0000 - val_fn: 1.0000 - val_accuracy: 0.8889 - val_precision: 0.8182 - val_recall: 0.9000 - val_auc: 0.9000 - val_prc: 0.9267\n",
      "Epoch 25/50\n",
      "4/4 [==============================] - 0s 18ms/step - loss: 0.6350 - tp: 24.0000 - fp: 21.0000 - tn: 47.0000 - fn: 14.0000 - accuracy: 0.6698 - precision: 0.5333 - recall: 0.6316 - auc: 0.7200 - prc: 0.7054 - val_loss: 0.3802 - val_tp: 9.0000 - val_fp: 2.0000 - val_tn: 15.0000 - val_fn: 1.0000 - val_accuracy: 0.8889 - val_precision: 0.8182 - val_recall: 0.9000 - val_auc: 0.9000 - val_prc: 0.9267\n",
      "Epoch 26/50\n",
      "4/4 [==============================] - 0s 20ms/step - loss: 0.6470 - tp: 24.0000 - fp: 22.0000 - tn: 46.0000 - fn: 14.0000 - accuracy: 0.6604 - precision: 0.5217 - recall: 0.6316 - auc: 0.7057 - prc: 0.6935 - val_loss: 0.3763 - val_tp: 9.0000 - val_fp: 2.0000 - val_tn: 15.0000 - val_fn: 1.0000 - val_accuracy: 0.8889 - val_precision: 0.8182 - val_recall: 0.9000 - val_auc: 0.9029 - val_prc: 0.9275\n",
      "Epoch 27/50\n",
      "4/4 [==============================] - 0s 22ms/step - loss: 0.5245 - tp: 30.0000 - fp: 18.0000 - tn: 50.0000 - fn: 8.0000 - accuracy: 0.7547 - precision: 0.6250 - recall: 0.7895 - auc: 0.8334 - prc: 0.7935 - val_loss: 0.3727 - val_tp: 9.0000 - val_fp: 2.0000 - val_tn: 15.0000 - val_fn: 1.0000 - val_accuracy: 0.8889 - val_precision: 0.8182 - val_recall: 0.9000 - val_auc: 0.9059 - val_prc: 0.9282\n",
      "Epoch 28/50\n",
      "4/4 [==============================] - 0s 21ms/step - loss: 0.5231 - tp: 34.0000 - fp: 28.0000 - tn: 40.0000 - fn: 4.0000 - accuracy: 0.6981 - precision: 0.5484 - recall: 0.8947 - auc: 0.8673 - prc: 0.8415 - val_loss: 0.3686 - val_tp: 9.0000 - val_fp: 2.0000 - val_tn: 15.0000 - val_fn: 1.0000 - val_accuracy: 0.8889 - val_precision: 0.8182 - val_recall: 0.9000 - val_auc: 0.9059 - val_prc: 0.9282\n",
      "Epoch 29/50\n",
      "4/4 [==============================] - 0s 19ms/step - loss: 0.5038 - tp: 33.0000 - fp: 16.0000 - tn: 52.0000 - fn: 5.0000 - accuracy: 0.8019 - precision: 0.6735 - recall: 0.8684 - auc: 0.8856 - prc: 0.8614 - val_loss: 0.3644 - val_tp: 9.0000 - val_fp: 2.0000 - val_tn: 15.0000 - val_fn: 1.0000 - val_accuracy: 0.8889 - val_precision: 0.8182 - val_recall: 0.9000 - val_auc: 0.9059 - val_prc: 0.9282\n",
      "Epoch 30/50\n",
      "4/4 [==============================] - 0s 20ms/step - loss: 0.5734 - tp: 25.0000 - fp: 14.0000 - tn: 54.0000 - fn: 13.0000 - accuracy: 0.7453 - precision: 0.6410 - recall: 0.6579 - auc: 0.7403 - prc: 0.7521 - val_loss: 0.3607 - val_tp: 9.0000 - val_fp: 2.0000 - val_tn: 15.0000 - val_fn: 1.0000 - val_accuracy: 0.8889 - val_precision: 0.8182 - val_recall: 0.9000 - val_auc: 0.9059 - val_prc: 0.9282\n",
      "Epoch 31/50\n",
      "4/4 [==============================] - 0s 20ms/step - loss: 0.5218 - tp: 29.0000 - fp: 15.0000 - tn: 53.0000 - fn: 9.0000 - accuracy: 0.7736 - precision: 0.6591 - recall: 0.7632 - auc: 0.8117 - prc: 0.8077 - val_loss: 0.3577 - val_tp: 9.0000 - val_fp: 2.0000 - val_tn: 15.0000 - val_fn: 1.0000 - val_accuracy: 0.8889 - val_precision: 0.8182 - val_recall: 0.9000 - val_auc: 0.9059 - val_prc: 0.9282\n",
      "Epoch 32/50\n",
      "4/4 [==============================] - 0s 19ms/step - loss: 0.5228 - tp: 31.0000 - fp: 27.0000 - tn: 41.0000 - fn: 7.0000 - accuracy: 0.6792 - precision: 0.5345 - recall: 0.8158 - auc: 0.8423 - prc: 0.8347 - val_loss: 0.3544 - val_tp: 9.0000 - val_fp: 2.0000 - val_tn: 15.0000 - val_fn: 1.0000 - val_accuracy: 0.8889 - val_precision: 0.8182 - val_recall: 0.9000 - val_auc: 0.9059 - val_prc: 0.9282\n",
      "Epoch 33/50\n",
      "4/4 [==============================] - 0s 20ms/step - loss: 0.5238 - tp: 28.0000 - fp: 18.0000 - tn: 50.0000 - fn: 10.0000 - accuracy: 0.7358 - precision: 0.6087 - recall: 0.7368 - auc: 0.8096 - prc: 0.7887 - val_loss: 0.3501 - val_tp: 9.0000 - val_fp: 2.0000 - val_tn: 15.0000 - val_fn: 1.0000 - val_accuracy: 0.8889 - val_precision: 0.8182 - val_recall: 0.9000 - val_auc: 0.9059 - val_prc: 0.9282\n",
      "Epoch 34/50\n",
      "4/4 [==============================] - 0s 20ms/step - loss: 0.5243 - tp: 29.0000 - fp: 16.0000 - tn: 52.0000 - fn: 9.0000 - accuracy: 0.7642 - precision: 0.6444 - recall: 0.7632 - auc: 0.8303 - prc: 0.8161 - val_loss: 0.3462 - val_tp: 9.0000 - val_fp: 2.0000 - val_tn: 15.0000 - val_fn: 1.0000 - val_accuracy: 0.8889 - val_precision: 0.8182 - val_recall: 0.9000 - val_auc: 0.9059 - val_prc: 0.9282\n",
      "Epoch 35/50\n",
      "4/4 [==============================] - 0s 20ms/step - loss: 0.5317 - tp: 27.0000 - fp: 17.0000 - tn: 51.0000 - fn: 11.0000 - accuracy: 0.7358 - precision: 0.6136 - recall: 0.7105 - auc: 0.7713 - prc: 0.7738 - val_loss: 0.3425 - val_tp: 9.0000 - val_fp: 2.0000 - val_tn: 15.0000 - val_fn: 1.0000 - val_accuracy: 0.8889 - val_precision: 0.8182 - val_recall: 0.9000 - val_auc: 0.9059 - val_prc: 0.9282\n",
      "Epoch 36/50\n",
      "4/4 [==============================] - 0s 20ms/step - loss: 0.5091 - tp: 29.0000 - fp: 17.0000 - tn: 51.0000 - fn: 9.0000 - accuracy: 0.7547 - precision: 0.6304 - recall: 0.7632 - auc: 0.8067 - prc: 0.8112 - val_loss: 0.3389 - val_tp: 9.0000 - val_fp: 2.0000 - val_tn: 15.0000 - val_fn: 1.0000 - val_accuracy: 0.8889 - val_precision: 0.8182 - val_recall: 0.9000 - val_auc: 0.9059 - val_prc: 0.9282\n",
      "Epoch 37/50\n",
      "4/4 [==============================] - 0s 20ms/step - loss: 0.4572 - tp: 30.0000 - fp: 13.0000 - tn: 55.0000 - fn: 8.0000 - accuracy: 0.8019 - precision: 0.6977 - recall: 0.7895 - auc: 0.8756 - prc: 0.8554 - val_loss: 0.3356 - val_tp: 9.0000 - val_fp: 2.0000 - val_tn: 15.0000 - val_fn: 1.0000 - val_accuracy: 0.8889 - val_precision: 0.8182 - val_recall: 0.9000 - val_auc: 0.9059 - val_prc: 0.9282\n",
      "Epoch 38/50\n",
      "4/4 [==============================] - 0s 19ms/step - loss: 0.5121 - tp: 30.0000 - fp: 14.0000 - tn: 54.0000 - fn: 8.0000 - accuracy: 0.7925 - precision: 0.6818 - recall: 0.7895 - auc: 0.8444 - prc: 0.8029 - val_loss: 0.3325 - val_tp: 9.0000 - val_fp: 2.0000 - val_tn: 15.0000 - val_fn: 1.0000 - val_accuracy: 0.8889 - val_precision: 0.8182 - val_recall: 0.9000 - val_auc: 0.9059 - val_prc: 0.9282\n",
      "Epoch 39/50\n",
      "4/4 [==============================] - 0s 20ms/step - loss: 0.5938 - tp: 27.0000 - fp: 17.0000 - tn: 51.0000 - fn: 11.0000 - accuracy: 0.7358 - precision: 0.6136 - recall: 0.7105 - auc: 0.7463 - prc: 0.7405 - val_loss: 0.3294 - val_tp: 9.0000 - val_fp: 2.0000 - val_tn: 15.0000 - val_fn: 1.0000 - val_accuracy: 0.8889 - val_precision: 0.8182 - val_recall: 0.9000 - val_auc: 0.9059 - val_prc: 0.9282\n",
      "Epoch 40/50\n",
      "4/4 [==============================] - 0s 19ms/step - loss: 0.5285 - tp: 27.0000 - fp: 14.0000 - tn: 54.0000 - fn: 11.0000 - accuracy: 0.7642 - precision: 0.6585 - recall: 0.7105 - auc: 0.8293 - prc: 0.8026 - val_loss: 0.3267 - val_tp: 9.0000 - val_fp: 2.0000 - val_tn: 15.0000 - val_fn: 1.0000 - val_accuracy: 0.8889 - val_precision: 0.8182 - val_recall: 0.9000 - val_auc: 0.9059 - val_prc: 0.9282\n"
     ]
    },
    {
     "name": "stdout",
     "output_type": "stream",
     "text": [
      "Epoch 41/50\n",
      "4/4 [==============================] - 0s 19ms/step - loss: 0.5383 - tp: 27.0000 - fp: 17.0000 - tn: 51.0000 - fn: 11.0000 - accuracy: 0.7358 - precision: 0.6136 - recall: 0.7105 - auc: 0.7980 - prc: 0.7858 - val_loss: 0.3246 - val_tp: 9.0000 - val_fp: 2.0000 - val_tn: 15.0000 - val_fn: 1.0000 - val_accuracy: 0.8889 - val_precision: 0.8182 - val_recall: 0.9000 - val_auc: 0.9059 - val_prc: 0.9282\n",
      "Epoch 42/50\n",
      "4/4 [==============================] - 0s 19ms/step - loss: 0.4646 - tp: 31.0000 - fp: 15.0000 - tn: 53.0000 - fn: 7.0000 - accuracy: 0.7925 - precision: 0.6739 - recall: 0.8158 - auc: 0.8936 - prc: 0.8540 - val_loss: 0.3222 - val_tp: 9.0000 - val_fp: 1.0000 - val_tn: 16.0000 - val_fn: 1.0000 - val_accuracy: 0.9259 - val_precision: 0.9000 - val_recall: 0.9000 - val_auc: 0.9059 - val_prc: 0.9282\n",
      "Epoch 43/50\n",
      "4/4 [==============================] - 0s 19ms/step - loss: 0.4715 - tp: 29.0000 - fp: 12.0000 - tn: 56.0000 - fn: 9.0000 - accuracy: 0.8019 - precision: 0.7073 - recall: 0.7632 - auc: 0.8640 - prc: 0.8338 - val_loss: 0.3199 - val_tp: 9.0000 - val_fp: 1.0000 - val_tn: 16.0000 - val_fn: 1.0000 - val_accuracy: 0.9259 - val_precision: 0.9000 - val_recall: 0.9000 - val_auc: 0.9059 - val_prc: 0.9282\n",
      "Epoch 44/50\n",
      "4/4 [==============================] - 0s 19ms/step - loss: 0.5118 - tp: 32.0000 - fp: 16.0000 - tn: 52.0000 - fn: 6.0000 - accuracy: 0.7925 - precision: 0.6667 - recall: 0.8421 - auc: 0.8421 - prc: 0.8268 - val_loss: 0.3176 - val_tp: 9.0000 - val_fp: 1.0000 - val_tn: 16.0000 - val_fn: 1.0000 - val_accuracy: 0.9259 - val_precision: 0.9000 - val_recall: 0.9000 - val_auc: 0.9059 - val_prc: 0.9282\n",
      "Epoch 45/50\n",
      "4/4 [==============================] - 0s 19ms/step - loss: 0.4152 - tp: 32.0000 - fp: 10.0000 - tn: 58.0000 - fn: 6.0000 - accuracy: 0.8491 - precision: 0.7619 - recall: 0.8421 - auc: 0.9067 - prc: 0.8988 - val_loss: 0.3154 - val_tp: 9.0000 - val_fp: 1.0000 - val_tn: 16.0000 - val_fn: 1.0000 - val_accuracy: 0.9259 - val_precision: 0.9000 - val_recall: 0.9000 - val_auc: 0.9088 - val_prc: 0.9290\n",
      "Epoch 46/50\n",
      "4/4 [==============================] - 0s 20ms/step - loss: 0.4646 - tp: 27.0000 - fp: 10.0000 - tn: 58.0000 - fn: 11.0000 - accuracy: 0.8019 - precision: 0.7297 - recall: 0.7105 - auc: 0.8346 - prc: 0.8193 - val_loss: 0.3133 - val_tp: 9.0000 - val_fp: 1.0000 - val_tn: 16.0000 - val_fn: 1.0000 - val_accuracy: 0.9259 - val_precision: 0.9000 - val_recall: 0.9000 - val_auc: 0.9088 - val_prc: 0.9290\n",
      "Epoch 47/50\n",
      "4/4 [==============================] - 0s 19ms/step - loss: 0.4842 - tp: 29.0000 - fp: 11.0000 - tn: 57.0000 - fn: 9.0000 - accuracy: 0.8113 - precision: 0.7250 - recall: 0.7632 - auc: 0.8553 - prc: 0.8016 - val_loss: 0.3113 - val_tp: 9.0000 - val_fp: 1.0000 - val_tn: 16.0000 - val_fn: 1.0000 - val_accuracy: 0.9259 - val_precision: 0.9000 - val_recall: 0.9000 - val_auc: 0.9088 - val_prc: 0.9290\n",
      "Epoch 48/50\n",
      "4/4 [==============================] - 0s 19ms/step - loss: 0.4786 - tp: 32.0000 - fp: 8.0000 - tn: 60.0000 - fn: 6.0000 - accuracy: 0.8679 - precision: 0.8000 - recall: 0.8421 - auc: 0.8795 - prc: 0.8699 - val_loss: 0.3095 - val_tp: 9.0000 - val_fp: 1.0000 - val_tn: 16.0000 - val_fn: 1.0000 - val_accuracy: 0.9259 - val_precision: 0.9000 - val_recall: 0.9000 - val_auc: 0.9118 - val_prc: 0.9299\n",
      "Epoch 49/50\n",
      "4/4 [==============================] - 0s 20ms/step - loss: 0.4922 - tp: 27.0000 - fp: 16.0000 - tn: 52.0000 - fn: 11.0000 - accuracy: 0.7453 - precision: 0.6279 - recall: 0.7105 - auc: 0.8220 - prc: 0.7930 - val_loss: 0.3079 - val_tp: 9.0000 - val_fp: 1.0000 - val_tn: 16.0000 - val_fn: 1.0000 - val_accuracy: 0.9259 - val_precision: 0.9000 - val_recall: 0.9000 - val_auc: 0.9088 - val_prc: 0.9290\n",
      "Epoch 50/50\n",
      "4/4 [==============================] - 0s 20ms/step - loss: 0.5715 - tp: 29.0000 - fp: 10.0000 - tn: 58.0000 - fn: 9.0000 - accuracy: 0.8208 - precision: 0.7436 - recall: 0.7632 - auc: 0.8226 - prc: 0.8171 - val_loss: 0.3063 - val_tp: 9.0000 - val_fp: 1.0000 - val_tn: 16.0000 - val_fn: 1.0000 - val_accuracy: 0.9259 - val_precision: 0.9000 - val_recall: 0.9000 - val_auc: 0.9147 - val_prc: 0.9308\n"
     ]
    }
   ],
   "source": [
    "history = model.train(X_train, y_train, X_val, y_val, epochs, batch_size, early_stopping)\n",
    "#plt.plot(history.history['loss'])\n",
    "#plt.show()"
   ]
  },
  {
   "cell_type": "code",
   "execution_count": 73,
   "id": "21a59dcb",
   "metadata": {},
   "outputs": [
    {
     "data": {
      "text/plain": [
       "0"
      ]
     },
     "execution_count": 73,
     "metadata": {},
     "output_type": "execute_result"
    }
   ],
   "source": [
    "early_stopping.stopped_epoch"
   ]
  },
  {
   "cell_type": "code",
   "execution_count": 74,
   "id": "751d3bf8",
   "metadata": {},
   "outputs": [],
   "source": [
    "#plot_loss(history, \"Bias\", 0)\n",
    "#plt.show()"
   ]
  },
  {
   "cell_type": "code",
   "execution_count": 75,
   "id": "e51807ce",
   "metadata": {},
   "outputs": [],
   "source": [
    "#plot_metrics(history)\n",
    "#plt.show()"
   ]
  },
  {
   "cell_type": "code",
   "execution_count": 76,
   "id": "2dff2936",
   "metadata": {},
   "outputs": [
    {
     "name": "stdout",
     "output_type": "stream",
     "text": [
      "4/4 [==============================] - 0s 2ms/step\n",
      "1/1 [==============================] - 0s 23ms/step\n",
      "loss :  0.263361394405365\n",
      "tp :  5.0\n",
      "fp :  0.0\n",
      "tn :  9.0\n",
      "fn :  1.0\n",
      "accuracy :  0.9333333373069763\n",
      "precision :  1.0\n",
      "recall :  0.8333333134651184\n",
      "auc :  0.9074074029922485\n",
      "prc :  0.9205749034881592\n"
     ]
    }
   ],
   "source": [
    "predictions_train = model.predict(X_train)\n",
    "predictions_test = model.predict(X_test)\n",
    "\n",
    "# Confusion matrix\n",
    "results = model.evaluate(X_test, y_test)\n",
    "for name, value in zip(model.metrics_names(), results):\n",
    "    print(name, ': ', value)\n",
    "    if name == 'accuracy':\n",
    "        accuracy_sixteen_min_max.append(value)"
   ]
  },
  {
   "cell_type": "code",
   "execution_count": 77,
   "id": "50742dbd",
   "metadata": {},
   "outputs": [
    {
     "name": "stdout",
     "output_type": "stream",
     "text": [
      "True Negatives:  9\n",
      "False Positives:  0\n",
      "False Negatives:  1\n",
      "True Positives:  5\n",
      "Total:  6\n"
     ]
    },
    {
     "data": {
      "image/png": "[encoded data removed]",
      "text/plain": [
       "<Figure size 500x500 with 2 Axes>"
      ]
     },
     "metadata": {},
     "output_type": "display_data"
    }
   ],
   "source": [
    "plot_cm(y_test, predictions_test)\n",
    "plt.show()"
   ]
  },
  {
   "cell_type": "code",
   "execution_count": 78,
   "id": "6a0a98c5",
   "metadata": {},
   "outputs": [],
   "source": [
    "#plot_roc(\"Test Predictions\", y_test, predictions_test, color=colors[0], linestyle='--')\n",
    "#plt.legend(loc='lower right')\n",
    "#plt.show()"
   ]
  },
  {
   "cell_type": "code",
   "execution_count": 79,
   "id": "2595bfa2",
   "metadata": {},
   "outputs": [],
   "source": [
    "# Precision-Recall Curve (PRC)\n",
    "#plot_prc(\"Train Predictions\", y_train, predictions_train, color=colors[0])\n",
    "#plot_prc(\"Test Predictions\", y_test, predictions_test, color=colors[0], linestyle='--')\n",
    "#plt.legend(loc='lower right')\n",
    "#plt.show()"
   ]
  },
  {
   "cell_type": "code",
   "execution_count": 80,
   "id": "a136be41",
   "metadata": {},
   "outputs": [],
   "source": [
    "#STOP"
   ]
  },
  {
   "cell_type": "markdown",
   "id": "f056064d",
   "metadata": {},
   "source": [
    "## 6 CNN Model with 32 Lines"
   ]
  },
  {
   "cell_type": "markdown",
   "id": "e35a1c6b",
   "metadata": {},
   "source": [
    "### Dataset"
   ]
  },
  {
   "cell_type": "code",
   "execution_count": 81,
   "id": "543f5f81",
   "metadata": {},
   "outputs": [],
   "source": [
    "# prepare dataset\n",
    "\n",
    "df = df_damage_thirtytwo_min_max.drop(columns=columns)"
   ]
  },
  {
   "cell_type": "code",
   "execution_count": 82,
   "id": "21ddab05",
   "metadata": {},
   "outputs": [
    {
     "name": "stdout",
     "output_type": "stream",
     "text": [
      "Training features shape: (106, 36)\n",
      "Training labels shape: (106,) \n",
      "\n",
      "Validation features shape: (27, 36)\n",
      "Validation labels shape: (27,) \n",
      "\n",
      "Test features shape: (15, 36)\n",
      "Test labels shape: (15,) \n",
      "\n"
     ]
    }
   ],
   "source": [
    "# Split into sets for training, validation, and testing + use and save scaler\n",
    "\n",
    "X = df.drop(columns=['Damage'])\n",
    "y = df['Damage']\n",
    "\n",
    "X_train, X_test, y_train, y_test = train_test_split(X, y, test_size=0.1, random_state=random_state)\n",
    "X_train, X_val, y_train, y_val = train_test_split(X_train, y_train, test_size=0.2, random_state=random_state)\n",
    "\n",
    "scaler_sixteen = StandardScaler()\n",
    "X_train = scaler_sixteen.fit_transform(X_train)\n",
    "\n",
    "X_val = scaler_sixteen.transform(X_val)\n",
    "X_test = scaler_sixteen.transform(X_test)\n",
    "\n",
    "print('Training features shape:', X_train.shape)\n",
    "print('Training labels shape:', y_train.shape, '\\n')\n",
    "\n",
    "print('Validation features shape:', X_val.shape)\n",
    "print('Validation labels shape:', y_val.shape, '\\n')\n",
    "\n",
    "print('Test features shape:', X_test.shape)\n",
    "print('Test labels shape:', y_test.shape, '\\n')"
   ]
  },
  {
   "cell_type": "markdown",
   "id": "d1e8c739",
   "metadata": {},
   "source": [
    "### Model"
   ]
  },
  {
   "cell_type": "code",
   "execution_count": 83,
   "id": "a335cdbe",
   "metadata": {},
   "outputs": [
    {
     "name": "stdout",
     "output_type": "stream",
     "text": [
      "Before: (36,)\n",
      "After: (36, 1)\n",
      "Classes: 1\n",
      "Model: \"sequential_5\"\n",
      "_________________________________________________________________\n",
      " Layer (type)                Output Shape              Param #   \n",
      "=================================================================\n",
      " conv1d_2 (Conv1D)           (None, 34, 8)             32        \n",
      "                                                                 \n",
      " conv1d_3 (Conv1D)           (None, 32, 16)            400       \n",
      "                                                                 \n",
      " max_pooling1d_1 (MaxPooling  (None, 16, 16)           0         \n",
      " 1D)                                                             \n",
      "                                                                 \n",
      " dropout_1 (Dropout)         (None, 16, 16)            0         \n",
      "                                                                 \n",
      " flatten_1 (Flatten)         (None, 256)               0         \n",
      "                                                                 \n",
      " dense_14 (Dense)            (None, 8)                 2056      \n",
      "                                                                 \n",
      " dense_15 (Dense)            (None, 1)                 9         \n",
      "                                                                 \n",
      "=================================================================\n",
      "Total params: 2,497\n",
      "Trainable params: 2,497\n",
      "Non-trainable params: 0\n",
      "_________________________________________________________________\n"
     ]
    }
   ],
   "source": [
    "orig_shape = X_train.shape[1:]\n",
    "X_train = X_train.reshape((X_train.shape[0], X_train.shape[1], 1))\n",
    "X_test = X_test.reshape((X_test.shape[0], X_test.shape[1], 1))\n",
    "\n",
    "X_val = X_val.reshape((X_val.shape[0], X_val.shape[1], 1))\n",
    "\n",
    "in_shape = X_train.shape[1:]\n",
    "print(\"Before: {0}\".format(orig_shape))\n",
    "print(\"After: {0}\".format(in_shape))\n",
    "\n",
    "n_classes = len(unique(y_train))\n",
    "n_classes = 1\n",
    "print(\"Classes: {0}\".format(n_classes))\n",
    "\n",
    "model = CNNModel(in_shape, n_classes)\n",
    "model.summary()"
   ]
  },
  {
   "cell_type": "code",
   "execution_count": 84,
   "id": "b50d83d1",
   "metadata": {},
   "outputs": [
    {
     "name": "stdout",
     "output_type": "stream",
     "text": [
      "Epoch 1/50\n",
      "4/4 [==============================] - 2s 198ms/step - loss: 1.1015 - tp: 17.0000 - fp: 16.0000 - tn: 54.0000 - fn: 34.0000 - accuracy: 0.5868 - precision: 0.5152 - recall: 0.3333 - auc: 0.4661 - prc: 0.5246 - val_loss: 1.1175 - val_tp: 0.0000e+00 - val_fp: 0.0000e+00 - val_tn: 14.0000 - val_fn: 13.0000 - val_accuracy: 0.5185 - val_precision: 0.0000e+00 - val_recall: 0.0000e+00 - val_auc: 0.1813 - val_prc: 0.3397\n",
      "Epoch 2/50\n",
      "4/4 [==============================] - 0s 20ms/step - loss: 0.9568 - tp: 12.0000 - fp: 11.0000 - tn: 50.0000 - fn: 33.0000 - accuracy: 0.5849 - precision: 0.5217 - recall: 0.2667 - auc: 0.4253 - prc: 0.4882 - val_loss: 1.0615 - val_tp: 0.0000e+00 - val_fp: 0.0000e+00 - val_tn: 14.0000 - val_fn: 13.0000 - val_accuracy: 0.5185 - val_precision: 0.0000e+00 - val_recall: 0.0000e+00 - val_auc: 0.1786 - val_prc: 0.3386\n",
      "Epoch 3/50\n",
      "4/4 [==============================] - 0s 21ms/step - loss: 1.1359 - tp: 13.0000 - fp: 15.0000 - tn: 46.0000 - fn: 32.0000 - accuracy: 0.5566 - precision: 0.4643 - recall: 0.2889 - auc: 0.4432 - prc: 0.4610 - val_loss: 1.0115 - val_tp: 0.0000e+00 - val_fp: 0.0000e+00 - val_tn: 14.0000 - val_fn: 13.0000 - val_accuracy: 0.5185 - val_precision: 0.0000e+00 - val_recall: 0.0000e+00 - val_auc: 0.2143 - val_prc: 0.3473\n",
      "Epoch 4/50\n",
      "4/4 [==============================] - 0s 21ms/step - loss: 0.9676 - tp: 13.0000 - fp: 15.0000 - tn: 46.0000 - fn: 32.0000 - accuracy: 0.5566 - precision: 0.4643 - recall: 0.2889 - auc: 0.4335 - prc: 0.4514 - val_loss: 0.9645 - val_tp: 0.0000e+00 - val_fp: 0.0000e+00 - val_tn: 14.0000 - val_fn: 13.0000 - val_accuracy: 0.5185 - val_precision: 0.0000e+00 - val_recall: 0.0000e+00 - val_auc: 0.2857 - val_prc: 0.3820\n",
      "Epoch 5/50\n",
      "4/4 [==============================] - 0s 21ms/step - loss: 1.1020 - tp: 11.0000 - fp: 19.0000 - tn: 42.0000 - fn: 34.0000 - accuracy: 0.5000 - precision: 0.3667 - recall: 0.2444 - auc: 0.3576 - prc: 0.4305 - val_loss: 0.9170 - val_tp: 0.0000e+00 - val_fp: 0.0000e+00 - val_tn: 14.0000 - val_fn: 13.0000 - val_accuracy: 0.5185 - val_precision: 0.0000e+00 - val_recall: 0.0000e+00 - val_auc: 0.3407 - val_prc: 0.4163\n",
      "Epoch 6/50\n",
      "4/4 [==============================] - 0s 20ms/step - loss: 1.1533 - tp: 10.0000 - fp: 20.0000 - tn: 41.0000 - fn: 35.0000 - accuracy: 0.4811 - precision: 0.3333 - recall: 0.2222 - auc: 0.3421 - prc: 0.4044 - val_loss: 0.8745 - val_tp: 0.0000e+00 - val_fp: 0.0000e+00 - val_tn: 14.0000 - val_fn: 13.0000 - val_accuracy: 0.5185 - val_precision: 0.0000e+00 - val_recall: 0.0000e+00 - val_auc: 0.3736 - val_prc: 0.4405\n",
      "Epoch 7/50\n",
      "4/4 [==============================] - 0s 21ms/step - loss: 0.9114 - tp: 19.0000 - fp: 16.0000 - tn: 45.0000 - fn: 26.0000 - accuracy: 0.6038 - precision: 0.5429 - recall: 0.4222 - auc: 0.5209 - prc: 0.5703 - val_loss: 0.8360 - val_tp: 1.0000 - val_fp: 0.0000e+00 - val_tn: 14.0000 - val_fn: 12.0000 - val_accuracy: 0.5556 - val_precision: 1.0000 - val_recall: 0.0769 - val_auc: 0.4203 - val_prc: 0.5143\n",
      "Epoch 8/50\n",
      "4/4 [==============================] - 0s 22ms/step - loss: 0.8274 - tp: 18.0000 - fp: 19.0000 - tn: 42.0000 - fn: 27.0000 - accuracy: 0.5660 - precision: 0.4865 - recall: 0.4000 - auc: 0.5366 - prc: 0.5697 - val_loss: 0.8002 - val_tp: 2.0000 - val_fp: 0.0000e+00 - val_tn: 14.0000 - val_fn: 11.0000 - val_accuracy: 0.5926 - val_precision: 1.0000 - val_recall: 0.1538 - val_auc: 0.4753 - val_prc: 0.5773\n",
      "Epoch 9/50\n",
      "4/4 [==============================] - 0s 22ms/step - loss: 0.9062 - tp: 20.0000 - fp: 19.0000 - tn: 42.0000 - fn: 25.0000 - accuracy: 0.5849 - precision: 0.5128 - recall: 0.4444 - auc: 0.4936 - prc: 0.4798 - val_loss: 0.7673 - val_tp: 2.0000 - val_fp: 1.0000 - val_tn: 13.0000 - val_fn: 11.0000 - val_accuracy: 0.5556 - val_precision: 0.6667 - val_recall: 0.1538 - val_auc: 0.5055 - val_prc: 0.5976\n",
      "Epoch 10/50\n",
      "4/4 [==============================] - 0s 22ms/step - loss: 0.8366 - tp: 21.0000 - fp: 16.0000 - tn: 45.0000 - fn: 24.0000 - accuracy: 0.6226 - precision: 0.5676 - recall: 0.4667 - auc: 0.5444 - prc: 0.6116 - val_loss: 0.7373 - val_tp: 2.0000 - val_fp: 1.0000 - val_tn: 13.0000 - val_fn: 11.0000 - val_accuracy: 0.5556 - val_precision: 0.6667 - val_recall: 0.1538 - val_auc: 0.5357 - val_prc: 0.6121\n",
      "Epoch 11/50\n",
      "4/4 [==============================] - 0s 22ms/step - loss: 0.8449 - tp: 18.0000 - fp: 18.0000 - tn: 43.0000 - fn: 27.0000 - accuracy: 0.5755 - precision: 0.5000 - recall: 0.4000 - auc: 0.5355 - prc: 0.5826 - val_loss: 0.7107 - val_tp: 3.0000 - val_fp: 1.0000 - val_tn: 13.0000 - val_fn: 10.0000 - val_accuracy: 0.5926 - val_precision: 0.7500 - val_recall: 0.2308 - val_auc: 0.5907 - val_prc: 0.6511\n",
      "Epoch 12/50\n",
      "4/4 [==============================] - 0s 21ms/step - loss: 0.8939 - tp: 20.0000 - fp: 17.0000 - tn: 44.0000 - fn: 25.0000 - accuracy: 0.6038 - precision: 0.5405 - recall: 0.4444 - auc: 0.5357 - prc: 0.5255 - val_loss: 0.6847 - val_tp: 3.0000 - val_fp: 1.0000 - val_tn: 13.0000 - val_fn: 10.0000 - val_accuracy: 0.5926 - val_precision: 0.7500 - val_recall: 0.2308 - val_auc: 0.6593 - val_prc: 0.7163\n",
      "Epoch 13/50\n",
      "4/4 [==============================] - 0s 20ms/step - loss: 0.7584 - tp: 17.0000 - fp: 17.0000 - tn: 44.0000 - fn: 28.0000 - accuracy: 0.5755 - precision: 0.5000 - recall: 0.3778 - auc: 0.5577 - prc: 0.5689 - val_loss: 0.6613 - val_tp: 4.0000 - val_fp: 1.0000 - val_tn: 13.0000 - val_fn: 9.0000 - val_accuracy: 0.6296 - val_precision: 0.8000 - val_recall: 0.3077 - val_auc: 0.6923 - val_prc: 0.7466\n",
      "Epoch 14/50\n",
      "4/4 [==============================] - 0s 20ms/step - loss: 0.7881 - tp: 23.0000 - fp: 20.0000 - tn: 41.0000 - fn: 22.0000 - accuracy: 0.6038 - precision: 0.5349 - recall: 0.5111 - auc: 0.5745 - prc: 0.5975 - val_loss: 0.6394 - val_tp: 5.0000 - val_fp: 1.0000 - val_tn: 13.0000 - val_fn: 8.0000 - val_accuracy: 0.6667 - val_precision: 0.8333 - val_recall: 0.3846 - val_auc: 0.7198 - val_prc: 0.7865\n",
      "Epoch 15/50\n",
      "4/4 [==============================] - 0s 21ms/step - loss: 0.7087 - tp: 20.0000 - fp: 19.0000 - tn: 42.0000 - fn: 25.0000 - accuracy: 0.5849 - precision: 0.5128 - recall: 0.4444 - auc: 0.5772 - prc: 0.6000 - val_loss: 0.6195 - val_tp: 5.0000 - val_fp: 1.0000 - val_tn: 13.0000 - val_fn: 8.0000 - val_accuracy: 0.6667 - val_precision: 0.8333 - val_recall: 0.3846 - val_auc: 0.7363 - val_prc: 0.7971\n",
      "Epoch 16/50\n",
      "4/4 [==============================] - 0s 21ms/step - loss: 0.7649 - tp: 21.0000 - fp: 21.0000 - tn: 40.0000 - fn: 24.0000 - accuracy: 0.5755 - precision: 0.5000 - recall: 0.4667 - auc: 0.5894 - prc: 0.5976 - val_loss: 0.6014 - val_tp: 6.0000 - val_fp: 1.0000 - val_tn: 13.0000 - val_fn: 7.0000 - val_accuracy: 0.7037 - val_precision: 0.8571 - val_recall: 0.4615 - val_auc: 0.7527 - val_prc: 0.8084\n",
      "Epoch 17/50\n",
      "4/4 [==============================] - 0s 19ms/step - loss: 0.7834 - tp: 27.0000 - fp: 17.0000 - tn: 44.0000 - fn: 18.0000 - accuracy: 0.6698 - precision: 0.6136 - recall: 0.6000 - auc: 0.6638 - prc: 0.6749 - val_loss: 0.5848 - val_tp: 6.0000 - val_fp: 1.0000 - val_tn: 13.0000 - val_fn: 7.0000 - val_accuracy: 0.7037 - val_precision: 0.8571 - val_recall: 0.4615 - val_auc: 0.7665 - val_prc: 0.8269\n",
      "Epoch 18/50\n",
      "4/4 [==============================] - 0s 20ms/step - loss: 0.6672 - tp: 27.0000 - fp: 21.0000 - tn: 40.0000 - fn: 18.0000 - accuracy: 0.6321 - precision: 0.5625 - recall: 0.6000 - auc: 0.6889 - prc: 0.6986 - val_loss: 0.5712 - val_tp: 7.0000 - val_fp: 1.0000 - val_tn: 13.0000 - val_fn: 6.0000 - val_accuracy: 0.7407 - val_precision: 0.8750 - val_recall: 0.5385 - val_auc: 0.7747 - val_prc: 0.8296\n",
      "Epoch 19/50\n",
      "4/4 [==============================] - 0s 20ms/step - loss: 0.6746 - tp: 24.0000 - fp: 14.0000 - tn: 47.0000 - fn: 21.0000 - accuracy: 0.6698 - precision: 0.6316 - recall: 0.5333 - auc: 0.6692 - prc: 0.6896 - val_loss: 0.5582 - val_tp: 7.0000 - val_fp: 1.0000 - val_tn: 13.0000 - val_fn: 6.0000 - val_accuracy: 0.7407 - val_precision: 0.8750 - val_recall: 0.5385 - val_auc: 0.7830 - val_prc: 0.8319\n",
      "Epoch 20/50\n",
      "4/4 [==============================] - 0s 19ms/step - loss: 0.6265 - tp: 27.0000 - fp: 19.0000 - tn: 42.0000 - fn: 18.0000 - accuracy: 0.6509 - precision: 0.5870 - recall: 0.6000 - auc: 0.7016 - prc: 0.7033 - val_loss: 0.5444 - val_tp: 7.0000 - val_fp: 1.0000 - val_tn: 13.0000 - val_fn: 6.0000 - val_accuracy: 0.7407 - val_precision: 0.8750 - val_recall: 0.5385 - val_auc: 0.8049 - val_prc: 0.8451\n"
     ]
    },
    {
     "name": "stdout",
     "output_type": "stream",
     "text": [
      "Epoch 21/50\n",
      "4/4 [==============================] - 0s 18ms/step - loss: 0.6473 - tp: 26.0000 - fp: 13.0000 - tn: 48.0000 - fn: 19.0000 - accuracy: 0.6981 - precision: 0.6667 - recall: 0.5778 - auc: 0.7058 - prc: 0.7403 - val_loss: 0.5322 - val_tp: 8.0000 - val_fp: 1.0000 - val_tn: 13.0000 - val_fn: 5.0000 - val_accuracy: 0.7778 - val_precision: 0.8889 - val_recall: 0.6154 - val_auc: 0.8379 - val_prc: 0.8699\n",
      "Epoch 22/50\n",
      "4/4 [==============================] - 0s 25ms/step - loss: 0.7480 - tp: 24.0000 - fp: 18.0000 - tn: 43.0000 - fn: 21.0000 - accuracy: 0.6321 - precision: 0.5714 - recall: 0.5333 - auc: 0.6113 - prc: 0.6004 - val_loss: 0.5219 - val_tp: 8.0000 - val_fp: 1.0000 - val_tn: 13.0000 - val_fn: 5.0000 - val_accuracy: 0.7778 - val_precision: 0.8889 - val_recall: 0.6154 - val_auc: 0.8489 - val_prc: 0.8793\n",
      "Epoch 23/50\n",
      "4/4 [==============================] - 0s 19ms/step - loss: 0.6067 - tp: 28.0000 - fp: 16.0000 - tn: 45.0000 - fn: 17.0000 - accuracy: 0.6887 - precision: 0.6364 - recall: 0.6222 - auc: 0.7199 - prc: 0.7613 - val_loss: 0.5127 - val_tp: 8.0000 - val_fp: 2.0000 - val_tn: 12.0000 - val_fn: 5.0000 - val_accuracy: 0.7407 - val_precision: 0.8000 - val_recall: 0.6154 - val_auc: 0.8571 - val_prc: 0.8894\n",
      "Epoch 24/50\n",
      "4/4 [==============================] - 0s 21ms/step - loss: 0.6822 - tp: 23.0000 - fp: 17.0000 - tn: 44.0000 - fn: 22.0000 - accuracy: 0.6321 - precision: 0.5750 - recall: 0.5111 - auc: 0.6670 - prc: 0.6806 - val_loss: 0.5045 - val_tp: 8.0000 - val_fp: 2.0000 - val_tn: 12.0000 - val_fn: 5.0000 - val_accuracy: 0.7407 - val_precision: 0.8000 - val_recall: 0.6154 - val_auc: 0.8571 - val_prc: 0.8874\n",
      "Epoch 25/50\n",
      "4/4 [==============================] - 0s 20ms/step - loss: 0.6631 - tp: 27.0000 - fp: 19.0000 - tn: 42.0000 - fn: 18.0000 - accuracy: 0.6509 - precision: 0.5870 - recall: 0.6000 - auc: 0.6541 - prc: 0.6390 - val_loss: 0.4969 - val_tp: 8.0000 - val_fp: 2.0000 - val_tn: 12.0000 - val_fn: 5.0000 - val_accuracy: 0.7407 - val_precision: 0.8000 - val_recall: 0.6154 - val_auc: 0.8599 - val_prc: 0.8894\n",
      "Epoch 26/50\n",
      "4/4 [==============================] - 0s 19ms/step - loss: 0.5556 - tp: 31.0000 - fp: 16.0000 - tn: 45.0000 - fn: 14.0000 - accuracy: 0.7170 - precision: 0.6596 - recall: 0.6889 - auc: 0.7998 - prc: 0.8034 - val_loss: 0.4901 - val_tp: 9.0000 - val_fp: 2.0000 - val_tn: 12.0000 - val_fn: 4.0000 - val_accuracy: 0.7778 - val_precision: 0.8182 - val_recall: 0.6923 - val_auc: 0.8626 - val_prc: 0.8902\n",
      "Epoch 27/50\n",
      "4/4 [==============================] - 0s 18ms/step - loss: 0.6433 - tp: 30.0000 - fp: 19.0000 - tn: 42.0000 - fn: 15.0000 - accuracy: 0.6792 - precision: 0.6122 - recall: 0.6667 - auc: 0.7175 - prc: 0.7551 - val_loss: 0.4835 - val_tp: 9.0000 - val_fp: 2.0000 - val_tn: 12.0000 - val_fn: 4.0000 - val_accuracy: 0.7778 - val_precision: 0.8182 - val_recall: 0.6923 - val_auc: 0.8626 - val_prc: 0.8934\n",
      "Epoch 28/50\n",
      "4/4 [==============================] - 0s 19ms/step - loss: 0.6021 - tp: 32.0000 - fp: 20.0000 - tn: 41.0000 - fn: 13.0000 - accuracy: 0.6887 - precision: 0.6154 - recall: 0.7111 - auc: 0.7341 - prc: 0.7564 - val_loss: 0.4775 - val_tp: 9.0000 - val_fp: 2.0000 - val_tn: 12.0000 - val_fn: 4.0000 - val_accuracy: 0.7778 - val_precision: 0.8182 - val_recall: 0.6923 - val_auc: 0.8709 - val_prc: 0.9034\n",
      "Epoch 29/50\n",
      "4/4 [==============================] - 0s 19ms/step - loss: 0.6047 - tp: 32.0000 - fp: 17.0000 - tn: 44.0000 - fn: 13.0000 - accuracy: 0.7170 - precision: 0.6531 - recall: 0.7111 - auc: 0.7656 - prc: 0.7657 - val_loss: 0.4716 - val_tp: 9.0000 - val_fp: 2.0000 - val_tn: 12.0000 - val_fn: 4.0000 - val_accuracy: 0.7778 - val_precision: 0.8182 - val_recall: 0.6923 - val_auc: 0.8681 - val_prc: 0.9015\n",
      "Epoch 30/50\n",
      "4/4 [==============================] - 0s 18ms/step - loss: 0.6643 - tp: 23.0000 - fp: 18.0000 - tn: 43.0000 - fn: 22.0000 - accuracy: 0.6226 - precision: 0.5610 - recall: 0.5111 - auc: 0.6548 - prc: 0.6559 - val_loss: 0.4650 - val_tp: 9.0000 - val_fp: 2.0000 - val_tn: 12.0000 - val_fn: 4.0000 - val_accuracy: 0.7778 - val_precision: 0.8182 - val_recall: 0.6923 - val_auc: 0.8736 - val_prc: 0.9049\n",
      "Epoch 31/50\n",
      "4/4 [==============================] - 0s 18ms/step - loss: 0.7065 - tp: 27.0000 - fp: 22.0000 - tn: 39.0000 - fn: 18.0000 - accuracy: 0.6226 - precision: 0.5510 - recall: 0.6000 - auc: 0.6536 - prc: 0.6726 - val_loss: 0.4592 - val_tp: 9.0000 - val_fp: 2.0000 - val_tn: 12.0000 - val_fn: 4.0000 - val_accuracy: 0.7778 - val_precision: 0.8182 - val_recall: 0.6923 - val_auc: 0.8709 - val_prc: 0.9021\n",
      "Epoch 32/50\n",
      "4/4 [==============================] - 0s 18ms/step - loss: 0.7277 - tp: 23.0000 - fp: 17.0000 - tn: 44.0000 - fn: 22.0000 - accuracy: 0.6321 - precision: 0.5750 - recall: 0.5111 - auc: 0.6492 - prc: 0.6791 - val_loss: 0.4539 - val_tp: 9.0000 - val_fp: 2.0000 - val_tn: 12.0000 - val_fn: 4.0000 - val_accuracy: 0.7778 - val_precision: 0.8182 - val_recall: 0.6923 - val_auc: 0.8709 - val_prc: 0.9021\n",
      "Epoch 33/50\n",
      "4/4 [==============================] - 0s 18ms/step - loss: 0.5169 - tp: 34.0000 - fp: 18.0000 - tn: 43.0000 - fn: 11.0000 - accuracy: 0.7264 - precision: 0.6538 - recall: 0.7556 - auc: 0.8257 - prc: 0.8302 - val_loss: 0.4488 - val_tp: 9.0000 - val_fp: 2.0000 - val_tn: 12.0000 - val_fn: 4.0000 - val_accuracy: 0.7778 - val_precision: 0.8182 - val_recall: 0.6923 - val_auc: 0.8736 - val_prc: 0.9030\n",
      "Epoch 34/50\n",
      "4/4 [==============================] - 0s 18ms/step - loss: 0.6137 - tp: 29.0000 - fp: 17.0000 - tn: 44.0000 - fn: 16.0000 - accuracy: 0.6887 - precision: 0.6304 - recall: 0.6444 - auc: 0.7557 - prc: 0.7468 - val_loss: 0.4440 - val_tp: 9.0000 - val_fp: 2.0000 - val_tn: 12.0000 - val_fn: 4.0000 - val_accuracy: 0.7778 - val_precision: 0.8182 - val_recall: 0.6923 - val_auc: 0.8736 - val_prc: 0.9030\n",
      "Epoch 35/50\n",
      "4/4 [==============================] - 0s 18ms/step - loss: 0.6017 - tp: 31.0000 - fp: 19.0000 - tn: 42.0000 - fn: 14.0000 - accuracy: 0.6887 - precision: 0.6200 - recall: 0.6889 - auc: 0.7461 - prc: 0.7570 - val_loss: 0.4397 - val_tp: 9.0000 - val_fp: 2.0000 - val_tn: 12.0000 - val_fn: 4.0000 - val_accuracy: 0.7778 - val_precision: 0.8182 - val_recall: 0.6923 - val_auc: 0.8736 - val_prc: 0.9030\n",
      "Epoch 36/50\n",
      "4/4 [==============================] - 0s 18ms/step - loss: 0.5473 - tp: 36.0000 - fp: 20.0000 - tn: 41.0000 - fn: 9.0000 - accuracy: 0.7264 - precision: 0.6429 - recall: 0.8000 - auc: 0.8075 - prc: 0.8097 - val_loss: 0.4360 - val_tp: 9.0000 - val_fp: 2.0000 - val_tn: 12.0000 - val_fn: 4.0000 - val_accuracy: 0.7778 - val_precision: 0.8182 - val_recall: 0.6923 - val_auc: 0.8736 - val_prc: 0.9030\n",
      "Epoch 37/50\n",
      "4/4 [==============================] - 0s 18ms/step - loss: 0.5614 - tp: 32.0000 - fp: 20.0000 - tn: 41.0000 - fn: 13.0000 - accuracy: 0.6887 - precision: 0.6154 - recall: 0.7111 - auc: 0.7960 - prc: 0.8189 - val_loss: 0.4324 - val_tp: 9.0000 - val_fp: 2.0000 - val_tn: 12.0000 - val_fn: 4.0000 - val_accuracy: 0.7778 - val_precision: 0.8182 - val_recall: 0.6923 - val_auc: 0.8764 - val_prc: 0.9039\n",
      "Epoch 38/50\n",
      "4/4 [==============================] - 0s 18ms/step - loss: 0.5611 - tp: 29.0000 - fp: 9.0000 - tn: 52.0000 - fn: 16.0000 - accuracy: 0.7642 - precision: 0.7632 - recall: 0.6444 - auc: 0.7874 - prc: 0.8175 - val_loss: 0.4287 - val_tp: 9.0000 - val_fp: 2.0000 - val_tn: 12.0000 - val_fn: 4.0000 - val_accuracy: 0.7778 - val_precision: 0.8182 - val_recall: 0.6923 - val_auc: 0.8791 - val_prc: 0.9048\n",
      "Epoch 39/50\n",
      "4/4 [==============================] - 0s 18ms/step - loss: 0.5138 - tp: 33.0000 - fp: 15.0000 - tn: 46.0000 - fn: 12.0000 - accuracy: 0.7453 - precision: 0.6875 - recall: 0.7333 - auc: 0.8255 - prc: 0.8105 - val_loss: 0.4252 - val_tp: 9.0000 - val_fp: 2.0000 - val_tn: 12.0000 - val_fn: 4.0000 - val_accuracy: 0.7778 - val_precision: 0.8182 - val_recall: 0.6923 - val_auc: 0.8791 - val_prc: 0.9048\n",
      "Epoch 40/50\n",
      "4/4 [==============================] - 0s 18ms/step - loss: 0.4470 - tp: 37.0000 - fp: 13.0000 - tn: 48.0000 - fn: 8.0000 - accuracy: 0.8019 - precision: 0.7400 - recall: 0.8222 - auc: 0.8909 - prc: 0.8913 - val_loss: 0.4219 - val_tp: 9.0000 - val_fp: 2.0000 - val_tn: 12.0000 - val_fn: 4.0000 - val_accuracy: 0.7778 - val_precision: 0.8182 - val_recall: 0.6923 - val_auc: 0.8791 - val_prc: 0.9048\n"
     ]
    },
    {
     "name": "stdout",
     "output_type": "stream",
     "text": [
      "Epoch 41/50\n",
      "4/4 [==============================] - 0s 18ms/step - loss: 0.5306 - tp: 34.0000 - fp: 11.0000 - tn: 50.0000 - fn: 11.0000 - accuracy: 0.7925 - precision: 0.7556 - recall: 0.7556 - auc: 0.8330 - prc: 0.8512 - val_loss: 0.4191 - val_tp: 9.0000 - val_fp: 2.0000 - val_tn: 12.0000 - val_fn: 4.0000 - val_accuracy: 0.7778 - val_precision: 0.8182 - val_recall: 0.6923 - val_auc: 0.8791 - val_prc: 0.9048\n",
      "Epoch 42/50\n",
      "4/4 [==============================] - 0s 18ms/step - loss: 0.5386 - tp: 33.0000 - fp: 20.0000 - tn: 41.0000 - fn: 12.0000 - accuracy: 0.6981 - precision: 0.6226 - recall: 0.7333 - auc: 0.8055 - prc: 0.8125 - val_loss: 0.4164 - val_tp: 9.0000 - val_fp: 2.0000 - val_tn: 12.0000 - val_fn: 4.0000 - val_accuracy: 0.7778 - val_precision: 0.8182 - val_recall: 0.6923 - val_auc: 0.8819 - val_prc: 0.9058\n",
      "Epoch 43/50\n",
      "4/4 [==============================] - 0s 18ms/step - loss: 0.4536 - tp: 37.0000 - fp: 14.0000 - tn: 47.0000 - fn: 8.0000 - accuracy: 0.7925 - precision: 0.7255 - recall: 0.8222 - auc: 0.8756 - prc: 0.8613 - val_loss: 0.4140 - val_tp: 9.0000 - val_fp: 2.0000 - val_tn: 12.0000 - val_fn: 4.0000 - val_accuracy: 0.7778 - val_precision: 0.8182 - val_recall: 0.6923 - val_auc: 0.8819 - val_prc: 0.9058\n",
      "Epoch 44/50\n",
      "4/4 [==============================] - 0s 18ms/step - loss: 0.5180 - tp: 31.0000 - fp: 13.0000 - tn: 48.0000 - fn: 14.0000 - accuracy: 0.7453 - precision: 0.7045 - recall: 0.6889 - auc: 0.8115 - prc: 0.8365 - val_loss: 0.4118 - val_tp: 9.0000 - val_fp: 2.0000 - val_tn: 12.0000 - val_fn: 4.0000 - val_accuracy: 0.7778 - val_precision: 0.8182 - val_recall: 0.6923 - val_auc: 0.8846 - val_prc: 0.9068\n",
      "Epoch 45/50\n",
      "4/4 [==============================] - 0s 18ms/step - loss: 0.4793 - tp: 34.0000 - fp: 13.0000 - tn: 48.0000 - fn: 11.0000 - accuracy: 0.7736 - precision: 0.7234 - recall: 0.7556 - auc: 0.8441 - prc: 0.8427 - val_loss: 0.4097 - val_tp: 9.0000 - val_fp: 2.0000 - val_tn: 12.0000 - val_fn: 4.0000 - val_accuracy: 0.7778 - val_precision: 0.8182 - val_recall: 0.6923 - val_auc: 0.8846 - val_prc: 0.9068\n",
      "Epoch 46/50\n",
      "4/4 [==============================] - 0s 17ms/step - loss: 0.5142 - tp: 32.0000 - fp: 18.0000 - tn: 43.0000 - fn: 13.0000 - accuracy: 0.7075 - precision: 0.6400 - recall: 0.7111 - auc: 0.8066 - prc: 0.8247 - val_loss: 0.4077 - val_tp: 9.0000 - val_fp: 2.0000 - val_tn: 12.0000 - val_fn: 4.0000 - val_accuracy: 0.7778 - val_precision: 0.8182 - val_recall: 0.6923 - val_auc: 0.8846 - val_prc: 0.9068\n",
      "Epoch 47/50\n",
      "4/4 [==============================] - 0s 18ms/step - loss: 0.5336 - tp: 31.0000 - fp: 15.0000 - tn: 46.0000 - fn: 14.0000 - accuracy: 0.7264 - precision: 0.6739 - recall: 0.6889 - auc: 0.7863 - prc: 0.8163 - val_loss: 0.4053 - val_tp: 9.0000 - val_fp: 2.0000 - val_tn: 12.0000 - val_fn: 4.0000 - val_accuracy: 0.7778 - val_precision: 0.8182 - val_recall: 0.6923 - val_auc: 0.8846 - val_prc: 0.9068\n",
      "Epoch 48/50\n",
      "4/4 [==============================] - 0s 19ms/step - loss: 0.5372 - tp: 33.0000 - fp: 16.0000 - tn: 45.0000 - fn: 12.0000 - accuracy: 0.7358 - precision: 0.6735 - recall: 0.7333 - auc: 0.7973 - prc: 0.8074 - val_loss: 0.4033 - val_tp: 9.0000 - val_fp: 2.0000 - val_tn: 12.0000 - val_fn: 4.0000 - val_accuracy: 0.7778 - val_precision: 0.8182 - val_recall: 0.6923 - val_auc: 0.8846 - val_prc: 0.9068\n",
      "Epoch 49/50\n",
      "4/4 [==============================] - 0s 19ms/step - loss: 0.5123 - tp: 32.0000 - fp: 12.0000 - tn: 49.0000 - fn: 13.0000 - accuracy: 0.7642 - precision: 0.7273 - recall: 0.7111 - auc: 0.8024 - prc: 0.8206 - val_loss: 0.4012 - val_tp: 9.0000 - val_fp: 2.0000 - val_tn: 12.0000 - val_fn: 4.0000 - val_accuracy: 0.7778 - val_precision: 0.8182 - val_recall: 0.6923 - val_auc: 0.8819 - val_prc: 0.9050\n",
      "Epoch 50/50\n",
      "4/4 [==============================] - 0s 19ms/step - loss: 0.4805 - tp: 33.0000 - fp: 12.0000 - tn: 49.0000 - fn: 12.0000 - accuracy: 0.7736 - precision: 0.7333 - recall: 0.7333 - auc: 0.8475 - prc: 0.8614 - val_loss: 0.3991 - val_tp: 9.0000 - val_fp: 2.0000 - val_tn: 12.0000 - val_fn: 4.0000 - val_accuracy: 0.7778 - val_precision: 0.8182 - val_recall: 0.6923 - val_auc: 0.8846 - val_prc: 0.9068\n"
     ]
    }
   ],
   "source": [
    "history = model.train(X_train, y_train, X_val, y_val, epochs, batch_size, early_stopping)\n",
    "#plt.plot(history.history['loss'])\n",
    "#plt.show()"
   ]
  },
  {
   "cell_type": "code",
   "execution_count": 85,
   "id": "6210165d",
   "metadata": {},
   "outputs": [
    {
     "data": {
      "text/plain": [
       "0"
      ]
     },
     "execution_count": 85,
     "metadata": {},
     "output_type": "execute_result"
    }
   ],
   "source": [
    "early_stopping.stopped_epoch"
   ]
  },
  {
   "cell_type": "code",
   "execution_count": 86,
   "id": "294bd327",
   "metadata": {},
   "outputs": [],
   "source": [
    "#plot_loss(history, \"Bias\", 0)\n",
    "#plt.show()"
   ]
  },
  {
   "cell_type": "code",
   "execution_count": 87,
   "id": "5874e2cb",
   "metadata": {},
   "outputs": [],
   "source": [
    "#plot_metrics(history)\n",
    "#plt.show()"
   ]
  },
  {
   "cell_type": "code",
   "execution_count": 88,
   "id": "5523ca7b",
   "metadata": {},
   "outputs": [
    {
     "name": "stdout",
     "output_type": "stream",
     "text": [
      "4/4 [==============================] - 0s 2ms/step\n",
      "1/1 [==============================] - 0s 22ms/step\n",
      "loss :  0.2898629605770111\n",
      "tp :  5.0\n",
      "fp :  0.0\n",
      "tn :  9.0\n",
      "fn :  1.0\n",
      "accuracy :  0.9333333373069763\n",
      "precision :  1.0\n",
      "recall :  0.8333333134651184\n",
      "auc :  0.9814814329147339\n",
      "prc :  0.9743082523345947\n"
     ]
    }
   ],
   "source": [
    "predictions_train = model.predict(X_train)\n",
    "predictions_test = model.predict(X_test)\n",
    "\n",
    "# Confusion matrix\n",
    "results = model.evaluate(X_test, y_test)\n",
    "for name, value in zip(model.metrics_names(), results):\n",
    "    print(name, ': ', value)\n",
    "    if name == 'accuracy':\n",
    "        accuracy_thirtytwo_min_max.append(value)"
   ]
  },
  {
   "cell_type": "code",
   "execution_count": 89,
   "id": "ef27d0f2",
   "metadata": {},
   "outputs": [
    {
     "name": "stdout",
     "output_type": "stream",
     "text": [
      "True Negatives:  9\n",
      "False Positives:  0\n",
      "False Negatives:  1\n",
      "True Positives:  5\n",
      "Total:  6\n"
     ]
    },
    {
     "data": {
      "image/png": "[encoded data removed]",
      "text/plain": [
       "<Figure size 500x500 with 2 Axes>"
      ]
     },
     "metadata": {},
     "output_type": "display_data"
    }
   ],
   "source": [
    "plot_cm(y_test, predictions_test)\n",
    "plt.show()"
   ]
  },
  {
   "cell_type": "code",
   "execution_count": 90,
   "id": "ef47688f",
   "metadata": {},
   "outputs": [],
   "source": [
    "#plot_roc(\"Test Predictions\", y_test, predictions_test, color=colors[0], linestyle='--')\n",
    "#plt.legend(loc='lower right')\n",
    "#plt.show()"
   ]
  },
  {
   "cell_type": "code",
   "execution_count": 91,
   "id": "bb33f525",
   "metadata": {},
   "outputs": [],
   "source": [
    "# Precision-Recall Curve (PRC)\n",
    "#plot_prc(\"Train Predictions\", y_train, predictions_train, color=colors[0])\n",
    "#plot_prc(\"Test Predictions\", y_test, predictions_test, color=colors[0], linestyle='--')\n",
    "#plt.legend(loc='lower right')\n",
    "#plt.show()"
   ]
  },
  {
   "cell_type": "code",
   "execution_count": 92,
   "id": "18dc0868",
   "metadata": {},
   "outputs": [],
   "source": [
    "#STOP"
   ]
  },
  {
   "cell_type": "markdown",
   "id": "f93a3b9f",
   "metadata": {},
   "source": [
    "## 7 CNN Model with 16 Lines"
   ]
  },
  {
   "cell_type": "markdown",
   "id": "7894082c",
   "metadata": {},
   "source": [
    "### Dataset"
   ]
  },
  {
   "cell_type": "code",
   "execution_count": 93,
   "id": "2987e037",
   "metadata": {},
   "outputs": [],
   "source": [
    "# prepare dataset\n",
    "\n",
    "df = df_damage_sixteen_mean.drop(columns=columns)"
   ]
  },
  {
   "cell_type": "code",
   "execution_count": 94,
   "id": "ff886a39",
   "metadata": {},
   "outputs": [
    {
     "name": "stdout",
     "output_type": "stream",
     "text": [
      "Training features shape: (106, 20)\n",
      "Training labels shape: (106,) \n",
      "\n",
      "Validation features shape: (27, 20)\n",
      "Validation labels shape: (27,) \n",
      "\n",
      "Test features shape: (15, 20)\n",
      "Test labels shape: (15,) \n",
      "\n"
     ]
    }
   ],
   "source": [
    "# Split into sets for training, validation, and testing + use and save scaler\n",
    "\n",
    "X = df.drop(columns=['Damage'])\n",
    "y = df['Damage']\n",
    "\n",
    "X_train, X_test, y_train, y_test = train_test_split(X, y, test_size=0.1, random_state=random_state)\n",
    "X_train, X_val, y_train, y_val = train_test_split(X_train, y_train, test_size=0.2, random_state=random_state)\n",
    "\n",
    "scaler_sixteen = StandardScaler()\n",
    "X_train = scaler_sixteen.fit_transform(X_train)\n",
    "\n",
    "X_val = scaler_sixteen.transform(X_val)\n",
    "X_test = scaler_sixteen.transform(X_test)\n",
    "\n",
    "print('Training features shape:', X_train.shape)\n",
    "print('Training labels shape:', y_train.shape, '\\n')\n",
    "\n",
    "print('Validation features shape:', X_val.shape)\n",
    "print('Validation labels shape:', y_val.shape, '\\n')\n",
    "\n",
    "print('Test features shape:', X_test.shape)\n",
    "print('Test labels shape:', y_test.shape, '\\n')"
   ]
  },
  {
   "cell_type": "markdown",
   "id": "04cb9706",
   "metadata": {},
   "source": [
    "### Model"
   ]
  },
  {
   "cell_type": "code",
   "execution_count": 95,
   "id": "fe9772d6",
   "metadata": {},
   "outputs": [
    {
     "name": "stdout",
     "output_type": "stream",
     "text": [
      "Before: (20,)\n",
      "After: (20, 1)\n",
      "Classes: 1\n",
      "Model: \"sequential_6\"\n",
      "_________________________________________________________________\n",
      " Layer (type)                Output Shape              Param #   \n",
      "=================================================================\n",
      " conv1d_4 (Conv1D)           (None, 18, 8)             32        \n",
      "                                                                 \n",
      " conv1d_5 (Conv1D)           (None, 16, 16)            400       \n",
      "                                                                 \n",
      " max_pooling1d_2 (MaxPooling  (None, 8, 16)            0         \n",
      " 1D)                                                             \n",
      "                                                                 \n",
      " dropout_2 (Dropout)         (None, 8, 16)             0         \n",
      "                                                                 \n",
      " flatten_2 (Flatten)         (None, 128)               0         \n",
      "                                                                 \n",
      " dense_16 (Dense)            (None, 8)                 1032      \n",
      "                                                                 \n",
      " dense_17 (Dense)            (None, 1)                 9         \n",
      "                                                                 \n",
      "=================================================================\n",
      "Total params: 1,473\n",
      "Trainable params: 1,473\n",
      "Non-trainable params: 0\n",
      "_________________________________________________________________\n"
     ]
    }
   ],
   "source": [
    "orig_shape = X_train.shape[1:]\n",
    "X_train = X_train.reshape((X_train.shape[0], X_train.shape[1], 1))\n",
    "X_test = X_test.reshape((X_test.shape[0], X_test.shape[1], 1))\n",
    "\n",
    "X_val = X_val.reshape((X_val.shape[0], X_val.shape[1], 1))\n",
    "\n",
    "in_shape = X_train.shape[1:]\n",
    "print(\"Before: {0}\".format(orig_shape))\n",
    "print(\"After: {0}\".format(in_shape))\n",
    "\n",
    "n_classes = len(unique(y_train))\n",
    "n_classes = 1\n",
    "print(\"Classes: {0}\".format(n_classes))\n",
    "\n",
    "model = CNNModel(in_shape, n_classes)\n",
    "model.summary()"
   ]
  },
  {
   "cell_type": "code",
   "execution_count": 96,
   "id": "0e9b85f6",
   "metadata": {},
   "outputs": [
    {
     "name": "stdout",
     "output_type": "stream",
     "text": [
      "Epoch 1/50\n",
      "4/4 [==============================] - 3s 283ms/step - loss: 1.2483 - tp: 52.0000 - fp: 58.0000 - tn: 9.0000 - fn: 2.0000 - accuracy: 0.5041 - precision: 0.4727 - recall: 0.9630 - auc: 0.5565 - prc: 0.4765 - val_loss: 1.1736 - val_tp: 10.0000 - val_fp: 17.0000 - val_tn: 0.0000e+00 - val_fn: 0.0000e+00 - val_accuracy: 0.3704 - val_precision: 0.3704 - val_recall: 1.0000 - val_auc: 0.6029 - val_prc: 0.5950\n",
      "Epoch 2/50\n",
      "4/4 [==============================] - 0s 17ms/step - loss: 1.2235 - tp: 46.0000 - fp: 54.0000 - tn: 4.0000 - fn: 2.0000 - accuracy: 0.4717 - precision: 0.4600 - recall: 0.9583 - auc: 0.4944 - prc: 0.4508 - val_loss: 1.1440 - val_tp: 10.0000 - val_fp: 17.0000 - val_tn: 0.0000e+00 - val_fn: 0.0000e+00 - val_accuracy: 0.3704 - val_precision: 0.3704 - val_recall: 1.0000 - val_auc: 0.6059 - val_prc: 0.5960\n",
      "Epoch 3/50\n",
      "4/4 [==============================] - 0s 17ms/step - loss: 1.1687 - tp: 43.0000 - fp: 54.0000 - tn: 4.0000 - fn: 5.0000 - accuracy: 0.4434 - precision: 0.4433 - recall: 0.8958 - auc: 0.5621 - prc: 0.5463 - val_loss: 1.1165 - val_tp: 10.0000 - val_fp: 17.0000 - val_tn: 0.0000e+00 - val_fn: 0.0000e+00 - val_accuracy: 0.3704 - val_precision: 0.3704 - val_recall: 1.0000 - val_auc: 0.6059 - val_prc: 0.5958\n",
      "Epoch 4/50\n",
      "4/4 [==============================] - 0s 19ms/step - loss: 1.1008 - tp: 47.0000 - fp: 57.0000 - tn: 1.0000 - fn: 1.0000 - accuracy: 0.4528 - precision: 0.4519 - recall: 0.9792 - auc: 0.5321 - prc: 0.5234 - val_loss: 1.0904 - val_tp: 10.0000 - val_fp: 17.0000 - val_tn: 0.0000e+00 - val_fn: 0.0000e+00 - val_accuracy: 0.3704 - val_precision: 0.3704 - val_recall: 1.0000 - val_auc: 0.6088 - val_prc: 0.5966\n",
      "Epoch 5/50\n",
      "4/4 [==============================] - 0s 18ms/step - loss: 1.1792 - tp: 48.0000 - fp: 57.0000 - tn: 1.0000 - fn: 0.0000e+00 - accuracy: 0.4623 - precision: 0.4571 - recall: 1.0000 - auc: 0.5074 - prc: 0.4694 - val_loss: 1.0628 - val_tp: 10.0000 - val_fp: 17.0000 - val_tn: 0.0000e+00 - val_fn: 0.0000e+00 - val_accuracy: 0.3704 - val_precision: 0.3704 - val_recall: 1.0000 - val_auc: 0.6088 - val_prc: 0.5966\n",
      "Epoch 6/50\n",
      "4/4 [==============================] - 0s 19ms/step - loss: 1.0483 - tp: 44.0000 - fp: 54.0000 - tn: 4.0000 - fn: 4.0000 - accuracy: 0.4528 - precision: 0.4490 - recall: 0.9167 - auc: 0.5436 - prc: 0.5801 - val_loss: 1.0366 - val_tp: 10.0000 - val_fp: 17.0000 - val_tn: 0.0000e+00 - val_fn: 0.0000e+00 - val_accuracy: 0.3704 - val_precision: 0.3704 - val_recall: 1.0000 - val_auc: 0.6029 - val_prc: 0.5732\n",
      "Epoch 7/50\n",
      "4/4 [==============================] - 0s 19ms/step - loss: 1.0640 - tp: 45.0000 - fp: 55.0000 - tn: 3.0000 - fn: 3.0000 - accuracy: 0.4528 - precision: 0.4500 - recall: 0.9375 - auc: 0.5011 - prc: 0.4954 - val_loss: 1.0113 - val_tp: 10.0000 - val_fp: 17.0000 - val_tn: 0.0000e+00 - val_fn: 0.0000e+00 - val_accuracy: 0.3704 - val_precision: 0.3704 - val_recall: 1.0000 - val_auc: 0.6118 - val_prc: 0.5975\n",
      "Epoch 8/50\n",
      "4/4 [==============================] - 0s 18ms/step - loss: 1.0006 - tp: 43.0000 - fp: 51.0000 - tn: 7.0000 - fn: 5.0000 - accuracy: 0.4717 - precision: 0.4574 - recall: 0.8958 - auc: 0.5219 - prc: 0.5535 - val_loss: 0.9887 - val_tp: 10.0000 - val_fp: 17.0000 - val_tn: 0.0000e+00 - val_fn: 0.0000e+00 - val_accuracy: 0.3704 - val_precision: 0.3704 - val_recall: 1.0000 - val_auc: 0.6118 - val_prc: 0.5975\n",
      "Epoch 9/50\n",
      "4/4 [==============================] - 0s 18ms/step - loss: 0.9728 - tp: 48.0000 - fp: 52.0000 - tn: 6.0000 - fn: 0.0000e+00 - accuracy: 0.5094 - precision: 0.4800 - recall: 1.0000 - auc: 0.5779 - prc: 0.5254 - val_loss: 0.9673 - val_tp: 10.0000 - val_fp: 17.0000 - val_tn: 0.0000e+00 - val_fn: 0.0000e+00 - val_accuracy: 0.3704 - val_precision: 0.3704 - val_recall: 1.0000 - val_auc: 0.6147 - val_prc: 0.5803\n",
      "Epoch 10/50\n",
      "4/4 [==============================] - 0s 18ms/step - loss: 1.1140 - tp: 44.0000 - fp: 53.0000 - tn: 5.0000 - fn: 4.0000 - accuracy: 0.4623 - precision: 0.4536 - recall: 0.9167 - auc: 0.4880 - prc: 0.4992 - val_loss: 0.9465 - val_tp: 10.0000 - val_fp: 17.0000 - val_tn: 0.0000e+00 - val_fn: 0.0000e+00 - val_accuracy: 0.3704 - val_precision: 0.3704 - val_recall: 1.0000 - val_auc: 0.6235 - val_prc: 0.5872\n",
      "Epoch 11/50\n",
      "4/4 [==============================] - 0s 19ms/step - loss: 0.9339 - tp: 48.0000 - fp: 54.0000 - tn: 4.0000 - fn: 0.0000e+00 - accuracy: 0.4906 - precision: 0.4706 - recall: 1.0000 - auc: 0.5242 - prc: 0.5303 - val_loss: 0.9272 - val_tp: 10.0000 - val_fp: 17.0000 - val_tn: 0.0000e+00 - val_fn: 0.0000e+00 - val_accuracy: 0.3704 - val_precision: 0.3704 - val_recall: 1.0000 - val_auc: 0.6265 - val_prc: 0.6097\n",
      "Epoch 12/50\n",
      "4/4 [==============================] - 0s 18ms/step - loss: 1.0234 - tp: 44.0000 - fp: 54.0000 - tn: 4.0000 - fn: 4.0000 - accuracy: 0.4528 - precision: 0.4490 - recall: 0.9167 - auc: 0.5596 - prc: 0.5079 - val_loss: 0.9083 - val_tp: 10.0000 - val_fp: 17.0000 - val_tn: 0.0000e+00 - val_fn: 0.0000e+00 - val_accuracy: 0.3704 - val_precision: 0.3704 - val_recall: 1.0000 - val_auc: 0.6324 - val_prc: 0.5846\n",
      "Epoch 13/50\n",
      "4/4 [==============================] - 0s 17ms/step - loss: 0.9444 - tp: 43.0000 - fp: 47.0000 - tn: 11.0000 - fn: 5.0000 - accuracy: 0.5094 - precision: 0.4778 - recall: 0.8958 - auc: 0.5826 - prc: 0.5111 - val_loss: 0.8907 - val_tp: 10.0000 - val_fp: 17.0000 - val_tn: 0.0000e+00 - val_fn: 0.0000e+00 - val_accuracy: 0.3704 - val_precision: 0.3704 - val_recall: 1.0000 - val_auc: 0.6324 - val_prc: 0.5789\n",
      "Epoch 14/50\n",
      "4/4 [==============================] - 0s 17ms/step - loss: 0.8181 - tp: 42.0000 - fp: 46.0000 - tn: 12.0000 - fn: 6.0000 - accuracy: 0.5094 - precision: 0.4773 - recall: 0.8750 - auc: 0.6474 - prc: 0.6473 - val_loss: 0.8737 - val_tp: 10.0000 - val_fp: 17.0000 - val_tn: 0.0000e+00 - val_fn: 0.0000e+00 - val_accuracy: 0.3704 - val_precision: 0.3704 - val_recall: 1.0000 - val_auc: 0.6412 - val_prc: 0.5823\n",
      "Epoch 15/50\n",
      "4/4 [==============================] - 0s 18ms/step - loss: 1.0046 - tp: 42.0000 - fp: 55.0000 - tn: 3.0000 - fn: 6.0000 - accuracy: 0.4245 - precision: 0.4330 - recall: 0.8750 - auc: 0.4641 - prc: 0.5124 - val_loss: 0.8572 - val_tp: 10.0000 - val_fp: 17.0000 - val_tn: 0.0000e+00 - val_fn: 0.0000e+00 - val_accuracy: 0.3704 - val_precision: 0.3704 - val_recall: 1.0000 - val_auc: 0.6529 - val_prc: 0.5868\n",
      "Epoch 16/50\n",
      "4/4 [==============================] - 0s 18ms/step - loss: 1.0075 - tp: 43.0000 - fp: 52.0000 - tn: 6.0000 - fn: 5.0000 - accuracy: 0.4623 - precision: 0.4526 - recall: 0.8958 - auc: 0.5136 - prc: 0.4722 - val_loss: 0.8422 - val_tp: 10.0000 - val_fp: 17.0000 - val_tn: 0.0000e+00 - val_fn: 0.0000e+00 - val_accuracy: 0.3704 - val_precision: 0.3704 - val_recall: 1.0000 - val_auc: 0.6618 - val_prc: 0.5733\n",
      "Epoch 17/50\n",
      "4/4 [==============================] - 0s 17ms/step - loss: 0.9253 - tp: 41.0000 - fp: 52.0000 - tn: 6.0000 - fn: 7.0000 - accuracy: 0.4434 - precision: 0.4409 - recall: 0.8542 - auc: 0.4862 - prc: 0.5001 - val_loss: 0.8294 - val_tp: 10.0000 - val_fp: 17.0000 - val_tn: 0.0000e+00 - val_fn: 0.0000e+00 - val_accuracy: 0.3704 - val_precision: 0.3704 - val_recall: 1.0000 - val_auc: 0.6706 - val_prc: 0.5772\n",
      "Epoch 18/50\n",
      "4/4 [==============================] - 0s 21ms/step - loss: 0.8550 - tp: 41.0000 - fp: 54.0000 - tn: 4.0000 - fn: 7.0000 - accuracy: 0.4245 - precision: 0.4316 - recall: 0.8542 - auc: 0.5849 - prc: 0.5532 - val_loss: 0.8174 - val_tp: 10.0000 - val_fp: 17.0000 - val_tn: 0.0000e+00 - val_fn: 0.0000e+00 - val_accuracy: 0.3704 - val_precision: 0.3704 - val_recall: 1.0000 - val_auc: 0.6971 - val_prc: 0.6088\n",
      "Epoch 19/50\n",
      "4/4 [==============================] - 0s 19ms/step - loss: 0.8819 - tp: 45.0000 - fp: 54.0000 - tn: 4.0000 - fn: 3.0000 - accuracy: 0.4623 - precision: 0.4545 - recall: 0.9375 - auc: 0.5715 - prc: 0.5661 - val_loss: 0.8061 - val_tp: 10.0000 - val_fp: 17.0000 - val_tn: 0.0000e+00 - val_fn: 0.0000e+00 - val_accuracy: 0.3704 - val_precision: 0.3704 - val_recall: 1.0000 - val_auc: 0.7088 - val_prc: 0.6148\n",
      "Epoch 20/50\n",
      "4/4 [==============================] - 0s 18ms/step - loss: 0.9557 - tp: 40.0000 - fp: 53.0000 - tn: 5.0000 - fn: 8.0000 - accuracy: 0.4245 - precision: 0.4301 - recall: 0.8333 - auc: 0.5420 - prc: 0.5101 - val_loss: 0.7949 - val_tp: 10.0000 - val_fp: 17.0000 - val_tn: 0.0000e+00 - val_fn: 0.0000e+00 - val_accuracy: 0.3704 - val_precision: 0.3704 - val_recall: 1.0000 - val_auc: 0.7088 - val_prc: 0.5983\n"
     ]
    },
    {
     "name": "stdout",
     "output_type": "stream",
     "text": [
      "Epoch 21/50\n",
      "4/4 [==============================] - 0s 18ms/step - loss: 0.9644 - tp: 38.0000 - fp: 49.0000 - tn: 9.0000 - fn: 10.0000 - accuracy: 0.4434 - precision: 0.4368 - recall: 0.7917 - auc: 0.4625 - prc: 0.4906 - val_loss: 0.7846 - val_tp: 10.0000 - val_fp: 17.0000 - val_tn: 0.0000e+00 - val_fn: 0.0000e+00 - val_accuracy: 0.3704 - val_precision: 0.3704 - val_recall: 1.0000 - val_auc: 0.7206 - val_prc: 0.6049\n",
      "Epoch 22/50\n",
      "4/4 [==============================] - 0s 17ms/step - loss: 1.0151 - tp: 38.0000 - fp: 48.0000 - tn: 10.0000 - fn: 10.0000 - accuracy: 0.4528 - precision: 0.4419 - recall: 0.7917 - auc: 0.4635 - prc: 0.4291 - val_loss: 0.7744 - val_tp: 10.0000 - val_fp: 17.0000 - val_tn: 0.0000e+00 - val_fn: 0.0000e+00 - val_accuracy: 0.3704 - val_precision: 0.3704 - val_recall: 1.0000 - val_auc: 0.7206 - val_prc: 0.6053\n",
      "Epoch 23/50\n",
      "4/4 [==============================] - 0s 17ms/step - loss: 0.7892 - tp: 43.0000 - fp: 52.0000 - tn: 6.0000 - fn: 5.0000 - accuracy: 0.4623 - precision: 0.4526 - recall: 0.8958 - auc: 0.6489 - prc: 0.6849 - val_loss: 0.7646 - val_tp: 10.0000 - val_fp: 17.0000 - val_tn: 0.0000e+00 - val_fn: 0.0000e+00 - val_accuracy: 0.3704 - val_precision: 0.3704 - val_recall: 1.0000 - val_auc: 0.7382 - val_prc: 0.6158\n",
      "Epoch 24/50\n",
      "4/4 [==============================] - 0s 17ms/step - loss: 0.8442 - tp: 42.0000 - fp: 45.0000 - tn: 13.0000 - fn: 6.0000 - accuracy: 0.5189 - precision: 0.4828 - recall: 0.8750 - auc: 0.5851 - prc: 0.5750 - val_loss: 0.7557 - val_tp: 10.0000 - val_fp: 17.0000 - val_tn: 0.0000e+00 - val_fn: 0.0000e+00 - val_accuracy: 0.3704 - val_precision: 0.3704 - val_recall: 1.0000 - val_auc: 0.7412 - val_prc: 0.6134\n",
      "Epoch 25/50\n",
      "4/4 [==============================] - 0s 17ms/step - loss: 0.8008 - tp: 38.0000 - fp: 48.0000 - tn: 10.0000 - fn: 10.0000 - accuracy: 0.4528 - precision: 0.4419 - recall: 0.7917 - auc: 0.5932 - prc: 0.5956 - val_loss: 0.7467 - val_tp: 10.0000 - val_fp: 16.0000 - val_tn: 1.0000 - val_fn: 0.0000e+00 - val_accuracy: 0.4074 - val_precision: 0.3846 - val_recall: 1.0000 - val_auc: 0.7441 - val_prc: 0.6156\n",
      "Epoch 26/50\n",
      "4/4 [==============================] - 0s 17ms/step - loss: 0.8726 - tp: 43.0000 - fp: 44.0000 - tn: 14.0000 - fn: 5.0000 - accuracy: 0.5377 - precision: 0.4943 - recall: 0.8958 - auc: 0.6395 - prc: 0.5736 - val_loss: 0.7372 - val_tp: 10.0000 - val_fp: 13.0000 - val_tn: 4.0000 - val_fn: 0.0000e+00 - val_accuracy: 0.5185 - val_precision: 0.4348 - val_recall: 1.0000 - val_auc: 0.7529 - val_prc: 0.6198\n",
      "Epoch 27/50\n",
      "4/4 [==============================] - 0s 17ms/step - loss: 0.9502 - tp: 35.0000 - fp: 42.0000 - tn: 16.0000 - fn: 13.0000 - accuracy: 0.4811 - precision: 0.4545 - recall: 0.7292 - auc: 0.5077 - prc: 0.4613 - val_loss: 0.7286 - val_tp: 10.0000 - val_fp: 13.0000 - val_tn: 4.0000 - val_fn: 0.0000e+00 - val_accuracy: 0.5185 - val_precision: 0.4348 - val_recall: 1.0000 - val_auc: 0.7559 - val_prc: 0.6249\n",
      "Epoch 28/50\n",
      "4/4 [==============================] - 0s 17ms/step - loss: 0.8282 - tp: 43.0000 - fp: 43.0000 - tn: 15.0000 - fn: 5.0000 - accuracy: 0.5472 - precision: 0.5000 - recall: 0.8958 - auc: 0.6340 - prc: 0.5640 - val_loss: 0.7199 - val_tp: 10.0000 - val_fp: 13.0000 - val_tn: 4.0000 - val_fn: 0.0000e+00 - val_accuracy: 0.5185 - val_precision: 0.4348 - val_recall: 1.0000 - val_auc: 0.7529 - val_prc: 0.6235\n",
      "Epoch 29/50\n",
      "4/4 [==============================] - 0s 17ms/step - loss: 0.7884 - tp: 40.0000 - fp: 40.0000 - tn: 18.0000 - fn: 8.0000 - accuracy: 0.5472 - precision: 0.5000 - recall: 0.8333 - auc: 0.5880 - prc: 0.5668 - val_loss: 0.7122 - val_tp: 9.0000 - val_fp: 13.0000 - val_tn: 4.0000 - val_fn: 1.0000 - val_accuracy: 0.4815 - val_precision: 0.4091 - val_recall: 0.9000 - val_auc: 0.7559 - val_prc: 0.6242\n",
      "Epoch 30/50\n",
      "4/4 [==============================] - 0s 17ms/step - loss: 0.9022 - tp: 36.0000 - fp: 45.0000 - tn: 13.0000 - fn: 12.0000 - accuracy: 0.4623 - precision: 0.4444 - recall: 0.7500 - auc: 0.5192 - prc: 0.4670 - val_loss: 0.7038 - val_tp: 9.0000 - val_fp: 12.0000 - val_tn: 5.0000 - val_fn: 1.0000 - val_accuracy: 0.5185 - val_precision: 0.4286 - val_recall: 0.9000 - val_auc: 0.7559 - val_prc: 0.6242\n",
      "Epoch 31/50\n",
      "4/4 [==============================] - 0s 17ms/step - loss: 0.8779 - tp: 38.0000 - fp: 42.0000 - tn: 16.0000 - fn: 10.0000 - accuracy: 0.5094 - precision: 0.4750 - recall: 0.7917 - auc: 0.5697 - prc: 0.4924 - val_loss: 0.6957 - val_tp: 9.0000 - val_fp: 10.0000 - val_tn: 7.0000 - val_fn: 1.0000 - val_accuracy: 0.5926 - val_precision: 0.4737 - val_recall: 0.9000 - val_auc: 0.7588 - val_prc: 0.6252\n",
      "Epoch 32/50\n",
      "4/4 [==============================] - 0s 17ms/step - loss: 0.9021 - tp: 32.0000 - fp: 44.0000 - tn: 14.0000 - fn: 16.0000 - accuracy: 0.4340 - precision: 0.4211 - recall: 0.6667 - auc: 0.4989 - prc: 0.4564 - val_loss: 0.6889 - val_tp: 9.0000 - val_fp: 9.0000 - val_tn: 8.0000 - val_fn: 1.0000 - val_accuracy: 0.6296 - val_precision: 0.5000 - val_recall: 0.9000 - val_auc: 0.7647 - val_prc: 0.6273\n",
      "Epoch 33/50\n",
      "4/4 [==============================] - 0s 21ms/step - loss: 0.7845 - tp: 37.0000 - fp: 43.0000 - tn: 15.0000 - fn: 11.0000 - accuracy: 0.4906 - precision: 0.4625 - recall: 0.7708 - auc: 0.5496 - prc: 0.5283 - val_loss: 0.6833 - val_tp: 9.0000 - val_fp: 9.0000 - val_tn: 8.0000 - val_fn: 1.0000 - val_accuracy: 0.6296 - val_precision: 0.5000 - val_recall: 0.9000 - val_auc: 0.7647 - val_prc: 0.6273\n",
      "Epoch 34/50\n",
      "4/4 [==============================] - 0s 17ms/step - loss: 0.7467 - tp: 42.0000 - fp: 39.0000 - tn: 19.0000 - fn: 6.0000 - accuracy: 0.5755 - precision: 0.5185 - recall: 0.8750 - auc: 0.6677 - prc: 0.6222 - val_loss: 0.6781 - val_tp: 8.0000 - val_fp: 8.0000 - val_tn: 9.0000 - val_fn: 2.0000 - val_accuracy: 0.6296 - val_precision: 0.5000 - val_recall: 0.8000 - val_auc: 0.7676 - val_prc: 0.6288\n",
      "Epoch 35/50\n",
      "4/4 [==============================] - 0s 17ms/step - loss: 0.8459 - tp: 40.0000 - fp: 44.0000 - tn: 14.0000 - fn: 8.0000 - accuracy: 0.5094 - precision: 0.4762 - recall: 0.8333 - auc: 0.5878 - prc: 0.5317 - val_loss: 0.6724 - val_tp: 8.0000 - val_fp: 8.0000 - val_tn: 9.0000 - val_fn: 2.0000 - val_accuracy: 0.6296 - val_precision: 0.5000 - val_recall: 0.8000 - val_auc: 0.7647 - val_prc: 0.6270\n",
      "Epoch 36/50\n",
      "4/4 [==============================] - 0s 17ms/step - loss: 0.8453 - tp: 34.0000 - fp: 37.0000 - tn: 21.0000 - fn: 14.0000 - accuracy: 0.5189 - precision: 0.4789 - recall: 0.7083 - auc: 0.5102 - prc: 0.4752 - val_loss: 0.6676 - val_tp: 8.0000 - val_fp: 8.0000 - val_tn: 9.0000 - val_fn: 2.0000 - val_accuracy: 0.6296 - val_precision: 0.5000 - val_recall: 0.8000 - val_auc: 0.7618 - val_prc: 0.6256\n",
      "Epoch 37/50\n",
      "4/4 [==============================] - 0s 17ms/step - loss: 0.7036 - tp: 36.0000 - fp: 34.0000 - tn: 24.0000 - fn: 12.0000 - accuracy: 0.5660 - precision: 0.5143 - recall: 0.7500 - auc: 0.6584 - prc: 0.6042 - val_loss: 0.6631 - val_tp: 8.0000 - val_fp: 7.0000 - val_tn: 10.0000 - val_fn: 2.0000 - val_accuracy: 0.6667 - val_precision: 0.5333 - val_recall: 0.8000 - val_auc: 0.7647 - val_prc: 0.6269\n",
      "Epoch 38/50\n",
      "4/4 [==============================] - 0s 18ms/step - loss: 0.7526 - tp: 38.0000 - fp: 40.0000 - tn: 18.0000 - fn: 10.0000 - accuracy: 0.5283 - precision: 0.4872 - recall: 0.7917 - auc: 0.6397 - prc: 0.5947 - val_loss: 0.6586 - val_tp: 8.0000 - val_fp: 7.0000 - val_tn: 10.0000 - val_fn: 2.0000 - val_accuracy: 0.6667 - val_precision: 0.5333 - val_recall: 0.8000 - val_auc: 0.7618 - val_prc: 0.6218\n",
      "Epoch 39/50\n",
      "4/4 [==============================] - 0s 18ms/step - loss: 0.8149 - tp: 35.0000 - fp: 39.0000 - tn: 19.0000 - fn: 13.0000 - accuracy: 0.5094 - precision: 0.4730 - recall: 0.7292 - auc: 0.5539 - prc: 0.4905 - val_loss: 0.6540 - val_tp: 8.0000 - val_fp: 6.0000 - val_tn: 11.0000 - val_fn: 2.0000 - val_accuracy: 0.7037 - val_precision: 0.5714 - val_recall: 0.8000 - val_auc: 0.7588 - val_prc: 0.6171\n",
      "Epoch 40/50\n",
      "4/4 [==============================] - 0s 18ms/step - loss: 0.7529 - tp: 35.0000 - fp: 37.0000 - tn: 21.0000 - fn: 13.0000 - accuracy: 0.5283 - precision: 0.4861 - recall: 0.7292 - auc: 0.6248 - prc: 0.5886 - val_loss: 0.6496 - val_tp: 8.0000 - val_fp: 5.0000 - val_tn: 12.0000 - val_fn: 2.0000 - val_accuracy: 0.7407 - val_precision: 0.6154 - val_recall: 0.8000 - val_auc: 0.7588 - val_prc: 0.6171\n"
     ]
    },
    {
     "name": "stdout",
     "output_type": "stream",
     "text": [
      "Epoch 41/50\n",
      "4/4 [==============================] - 0s 17ms/step - loss: 0.8624 - tp: 34.0000 - fp: 39.0000 - tn: 19.0000 - fn: 14.0000 - accuracy: 0.5000 - precision: 0.4658 - recall: 0.7083 - auc: 0.4957 - prc: 0.4871 - val_loss: 0.6458 - val_tp: 8.0000 - val_fp: 5.0000 - val_tn: 12.0000 - val_fn: 2.0000 - val_accuracy: 0.7407 - val_precision: 0.6154 - val_recall: 0.8000 - val_auc: 0.7559 - val_prc: 0.6134\n",
      "Epoch 42/50\n",
      "4/4 [==============================] - 0s 19ms/step - loss: 0.9312 - tp: 34.0000 - fp: 43.0000 - tn: 15.0000 - fn: 14.0000 - accuracy: 0.4623 - precision: 0.4416 - recall: 0.7083 - auc: 0.4522 - prc: 0.4238 - val_loss: 0.6421 - val_tp: 8.0000 - val_fp: 5.0000 - val_tn: 12.0000 - val_fn: 2.0000 - val_accuracy: 0.7407 - val_precision: 0.6154 - val_recall: 0.8000 - val_auc: 0.7529 - val_prc: 0.6100\n",
      "Epoch 43/50\n",
      "4/4 [==============================] - 0s 26ms/step - loss: 0.8432 - tp: 35.0000 - fp: 38.0000 - tn: 20.0000 - fn: 13.0000 - accuracy: 0.5189 - precision: 0.4795 - recall: 0.7292 - auc: 0.5691 - prc: 0.4854 - val_loss: 0.6387 - val_tp: 8.0000 - val_fp: 5.0000 - val_tn: 12.0000 - val_fn: 2.0000 - val_accuracy: 0.7407 - val_precision: 0.6154 - val_recall: 0.8000 - val_auc: 0.7529 - val_prc: 0.6100\n",
      "Epoch 44/50\n",
      "4/4 [==============================] - 0s 24ms/step - loss: 0.7423 - tp: 33.0000 - fp: 35.0000 - tn: 23.0000 - fn: 15.0000 - accuracy: 0.5283 - precision: 0.4853 - recall: 0.6875 - auc: 0.5808 - prc: 0.5541 - val_loss: 0.6356 - val_tp: 8.0000 - val_fp: 5.0000 - val_tn: 12.0000 - val_fn: 2.0000 - val_accuracy: 0.7407 - val_precision: 0.6154 - val_recall: 0.8000 - val_auc: 0.7529 - val_prc: 0.6100\n",
      "Epoch 45/50\n",
      "4/4 [==============================] - 0s 23ms/step - loss: 0.7994 - tp: 32.0000 - fp: 38.0000 - tn: 20.0000 - fn: 16.0000 - accuracy: 0.4906 - precision: 0.4571 - recall: 0.6667 - auc: 0.5571 - prc: 0.5181 - val_loss: 0.6326 - val_tp: 8.0000 - val_fp: 4.0000 - val_tn: 13.0000 - val_fn: 2.0000 - val_accuracy: 0.7778 - val_precision: 0.6667 - val_recall: 0.8000 - val_auc: 0.7529 - val_prc: 0.6100\n",
      "Epoch 46/50\n",
      "4/4 [==============================] - 0s 21ms/step - loss: 0.8150 - tp: 35.0000 - fp: 32.0000 - tn: 26.0000 - fn: 13.0000 - accuracy: 0.5755 - precision: 0.5224 - recall: 0.7292 - auc: 0.5896 - prc: 0.5394 - val_loss: 0.6296 - val_tp: 8.0000 - val_fp: 4.0000 - val_tn: 13.0000 - val_fn: 2.0000 - val_accuracy: 0.7778 - val_precision: 0.6667 - val_recall: 0.8000 - val_auc: 0.7529 - val_prc: 0.6100\n",
      "Epoch 47/50\n",
      "4/4 [==============================] - 0s 20ms/step - loss: 0.8667 - tp: 30.0000 - fp: 30.0000 - tn: 28.0000 - fn: 18.0000 - accuracy: 0.5472 - precision: 0.5000 - recall: 0.6250 - auc: 0.5706 - prc: 0.4996 - val_loss: 0.6270 - val_tp: 7.0000 - val_fp: 4.0000 - val_tn: 13.0000 - val_fn: 3.0000 - val_accuracy: 0.7407 - val_precision: 0.6364 - val_recall: 0.7000 - val_auc: 0.7529 - val_prc: 0.6100\n",
      "Epoch 48/50\n",
      "4/4 [==============================] - 0s 19ms/step - loss: 0.7736 - tp: 35.0000 - fp: 35.0000 - tn: 23.0000 - fn: 13.0000 - accuracy: 0.5472 - precision: 0.5000 - recall: 0.7292 - auc: 0.5961 - prc: 0.5645 - val_loss: 0.6242 - val_tp: 7.0000 - val_fp: 4.0000 - val_tn: 13.0000 - val_fn: 3.0000 - val_accuracy: 0.7407 - val_precision: 0.6364 - val_recall: 0.7000 - val_auc: 0.7529 - val_prc: 0.6100\n",
      "Epoch 49/50\n",
      "4/4 [==============================] - 0s 19ms/step - loss: 0.7482 - tp: 31.0000 - fp: 31.0000 - tn: 27.0000 - fn: 17.0000 - accuracy: 0.5472 - precision: 0.5000 - recall: 0.6458 - auc: 0.6060 - prc: 0.5679 - val_loss: 0.6216 - val_tp: 7.0000 - val_fp: 4.0000 - val_tn: 13.0000 - val_fn: 3.0000 - val_accuracy: 0.7407 - val_precision: 0.6364 - val_recall: 0.7000 - val_auc: 0.7529 - val_prc: 0.6100\n",
      "Epoch 50/50\n",
      "4/4 [==============================] - 0s 19ms/step - loss: 0.7283 - tp: 34.0000 - fp: 33.0000 - tn: 25.0000 - fn: 14.0000 - accuracy: 0.5566 - precision: 0.5075 - recall: 0.7083 - auc: 0.6268 - prc: 0.5694 - val_loss: 0.6190 - val_tp: 7.0000 - val_fp: 4.0000 - val_tn: 13.0000 - val_fn: 3.0000 - val_accuracy: 0.7407 - val_precision: 0.6364 - val_recall: 0.7000 - val_auc: 0.7500 - val_prc: 0.6073\n"
     ]
    }
   ],
   "source": [
    "history = model.train(X_train, y_train, X_val, y_val, epochs, batch_size, early_stopping)\n",
    "#plt.plot(history.history['loss'])\n",
    "#plt.show()"
   ]
  },
  {
   "cell_type": "code",
   "execution_count": 97,
   "id": "40be14f3",
   "metadata": {},
   "outputs": [
    {
     "data": {
      "text/plain": [
       "0"
      ]
     },
     "execution_count": 97,
     "metadata": {},
     "output_type": "execute_result"
    }
   ],
   "source": [
    "early_stopping.stopped_epoch"
   ]
  },
  {
   "cell_type": "code",
   "execution_count": 98,
   "id": "6c1f8852",
   "metadata": {},
   "outputs": [],
   "source": [
    "#plot_loss(history, \"Bias\", 0)\n",
    "#plt.show()"
   ]
  },
  {
   "cell_type": "code",
   "execution_count": 99,
   "id": "fbec5c68",
   "metadata": {},
   "outputs": [],
   "source": [
    "#plot_metrics(history)\n",
    "#plt.show()"
   ]
  },
  {
   "cell_type": "code",
   "execution_count": 100,
   "id": "6d629bab",
   "metadata": {},
   "outputs": [
    {
     "name": "stdout",
     "output_type": "stream",
     "text": [
      "4/4 [==============================] - 0s 2ms/step\n",
      "1/1 [==============================] - 0s 21ms/step\n",
      "loss :  0.7852311730384827\n",
      "tp :  2.0\n",
      "fp :  4.0\n",
      "tn :  3.0\n",
      "fn :  6.0\n",
      "accuracy :  0.3333333432674408\n",
      "precision :  0.3333333432674408\n",
      "recall :  0.25\n",
      "auc :  0.3928571343421936\n",
      "prc :  0.43644699454307556\n"
     ]
    }
   ],
   "source": [
    "predictions_train = model.predict(X_train)\n",
    "predictions_test = model.predict(X_test)\n",
    "\n",
    "# Confusion matrix\n",
    "results = model.evaluate(X_test, y_test)\n",
    "for name, value in zip(model.metrics_names(), results):\n",
    "    print(name, ': ', value)\n",
    "    if name == 'accuracy':\n",
    "        accuracy_sixteen_mean.append(value)"
   ]
  },
  {
   "cell_type": "code",
   "execution_count": 101,
   "id": "f2c3f31c",
   "metadata": {},
   "outputs": [
    {
     "name": "stdout",
     "output_type": "stream",
     "text": [
      "True Negatives:  3\n",
      "False Positives:  4\n",
      "False Negatives:  6\n",
      "True Positives:  2\n",
      "Total:  8\n"
     ]
    },
    {
     "data": {
      "image/png": "[encoded data removed]",
      "text/plain": [
       "<Figure size 500x500 with 2 Axes>"
      ]
     },
     "metadata": {},
     "output_type": "display_data"
    }
   ],
   "source": [
    "plot_cm(y_test, predictions_test)\n",
    "plt.show()"
   ]
  },
  {
   "cell_type": "code",
   "execution_count": 102,
   "id": "f9a4b1b1",
   "metadata": {},
   "outputs": [],
   "source": [
    "#plot_roc(\"Test Predictions\", y_test, predictions_test, color=colors[0], linestyle='--')\n",
    "#plt.legend(loc='lower right')\n",
    "#plt.show()"
   ]
  },
  {
   "cell_type": "code",
   "execution_count": 103,
   "id": "d1745476",
   "metadata": {},
   "outputs": [],
   "source": [
    "# Precision-Recall Curve (PRC)\n",
    "#plot_prc(\"Train Predictions\", y_train, predictions_train, color=colors[0])\n",
    "#plot_prc(\"Test Predictions\", y_test, predictions_test, color=colors[0], linestyle='--')\n",
    "#plt.legend(loc='lower right')\n",
    "#plt.show()"
   ]
  },
  {
   "cell_type": "code",
   "execution_count": 104,
   "id": "c3ef1489",
   "metadata": {},
   "outputs": [],
   "source": [
    "#STOP"
   ]
  },
  {
   "cell_type": "markdown",
   "id": "18b51c9c",
   "metadata": {},
   "source": [
    "## 8 CNN Model with 32 Lines"
   ]
  },
  {
   "cell_type": "markdown",
   "id": "7de127e3",
   "metadata": {},
   "source": [
    "### Dataset"
   ]
  },
  {
   "cell_type": "code",
   "execution_count": 105,
   "id": "b0cb862a",
   "metadata": {},
   "outputs": [],
   "source": [
    "# prepare dataset\n",
    "\n",
    "df = df_damage_thirtytwo_mean.drop(columns=columns)"
   ]
  },
  {
   "cell_type": "code",
   "execution_count": 106,
   "id": "78530cdd",
   "metadata": {},
   "outputs": [
    {
     "name": "stdout",
     "output_type": "stream",
     "text": [
      "Training features shape: (106, 36)\n",
      "Training labels shape: (106,) \n",
      "\n",
      "Validation features shape: (27, 36)\n",
      "Validation labels shape: (27,) \n",
      "\n",
      "Test features shape: (15, 36)\n",
      "Test labels shape: (15,) \n",
      "\n"
     ]
    }
   ],
   "source": [
    "# Split into sets for training, validation, and testing + use and save scaler\n",
    "\n",
    "X = df.drop(columns=['Damage'])\n",
    "y = df['Damage']\n",
    "\n",
    "X_train, X_test, y_train, y_test = train_test_split(X, y, test_size=0.1, random_state=random_state)\n",
    "X_train, X_val, y_train, y_val = train_test_split(X_train, y_train, test_size=0.2, random_state=random_state)\n",
    "\n",
    "scaler_sixteen = StandardScaler()\n",
    "X_train = scaler_sixteen.fit_transform(X_train)\n",
    "\n",
    "X_val = scaler_sixteen.transform(X_val)\n",
    "X_test = scaler_sixteen.transform(X_test)\n",
    "\n",
    "print('Training features shape:', X_train.shape)\n",
    "print('Training labels shape:', y_train.shape, '\\n')\n",
    "\n",
    "print('Validation features shape:', X_val.shape)\n",
    "print('Validation labels shape:', y_val.shape, '\\n')\n",
    "\n",
    "print('Test features shape:', X_test.shape)\n",
    "print('Test labels shape:', y_test.shape, '\\n')"
   ]
  },
  {
   "cell_type": "markdown",
   "id": "1ed26a86",
   "metadata": {},
   "source": [
    "### Model"
   ]
  },
  {
   "cell_type": "code",
   "execution_count": 107,
   "id": "7879ee1b",
   "metadata": {},
   "outputs": [
    {
     "name": "stdout",
     "output_type": "stream",
     "text": [
      "Before: (36,)\n",
      "After: (36, 1)\n",
      "Classes: 1\n",
      "Model: \"sequential_7\"\n",
      "_________________________________________________________________\n",
      " Layer (type)                Output Shape              Param #   \n",
      "=================================================================\n",
      " conv1d_6 (Conv1D)           (None, 34, 8)             32        \n",
      "                                                                 \n",
      " conv1d_7 (Conv1D)           (None, 32, 16)            400       \n",
      "                                                                 \n",
      " max_pooling1d_3 (MaxPooling  (None, 16, 16)           0         \n",
      " 1D)                                                             \n",
      "                                                                 \n",
      " dropout_3 (Dropout)         (None, 16, 16)            0         \n",
      "                                                                 \n",
      " flatten_3 (Flatten)         (None, 256)               0         \n",
      "                                                                 \n",
      " dense_18 (Dense)            (None, 8)                 2056      \n",
      "                                                                 \n",
      " dense_19 (Dense)            (None, 1)                 9         \n",
      "                                                                 \n",
      "=================================================================\n",
      "Total params: 2,497\n",
      "Trainable params: 2,497\n",
      "Non-trainable params: 0\n",
      "_________________________________________________________________\n"
     ]
    }
   ],
   "source": [
    "orig_shape = X_train.shape[1:]\n",
    "X_train = X_train.reshape((X_train.shape[0], X_train.shape[1], 1))\n",
    "X_test = X_test.reshape((X_test.shape[0], X_test.shape[1], 1))\n",
    "\n",
    "X_val = X_val.reshape((X_val.shape[0], X_val.shape[1], 1))\n",
    "\n",
    "in_shape = X_train.shape[1:]\n",
    "print(\"Before: {0}\".format(orig_shape))\n",
    "print(\"After: {0}\".format(in_shape))\n",
    "\n",
    "n_classes = len(unique(y_train))\n",
    "n_classes = 1\n",
    "print(\"Classes: {0}\".format(n_classes))\n",
    "\n",
    "model = CNNModel(in_shape, n_classes)\n",
    "model.summary()"
   ]
  },
  {
   "cell_type": "code",
   "execution_count": 108,
   "id": "ad51420c",
   "metadata": {},
   "outputs": [
    {
     "name": "stdout",
     "output_type": "stream",
     "text": [
      "Epoch 1/50\n",
      "4/4 [==============================] - 2s 184ms/step - loss: 1.0413 - tp: 29.0000 - fp: 40.0000 - tn: 24.0000 - fn: 28.0000 - accuracy: 0.4380 - precision: 0.4203 - recall: 0.5088 - auc: 0.4121 - prc: 0.4087 - val_loss: 1.3109 - val_tp: 5.0000 - val_fp: 14.0000 - val_tn: 2.0000 - val_fn: 6.0000 - val_accuracy: 0.2593 - val_precision: 0.2632 - val_recall: 0.4545 - val_auc: 0.2585 - val_prc: 0.2865\n",
      "Epoch 2/50\n",
      "4/4 [==============================] - 0s 22ms/step - loss: 0.9068 - tp: 25.0000 - fp: 30.0000 - tn: 27.0000 - fn: 24.0000 - accuracy: 0.4906 - precision: 0.4545 - recall: 0.5102 - auc: 0.4903 - prc: 0.4644 - val_loss: 1.2736 - val_tp: 5.0000 - val_fp: 14.0000 - val_tn: 2.0000 - val_fn: 6.0000 - val_accuracy: 0.2593 - val_precision: 0.2632 - val_recall: 0.4545 - val_auc: 0.2614 - val_prc: 0.2875\n",
      "Epoch 3/50\n",
      "4/4 [==============================] - 0s 20ms/step - loss: 1.0041 - tp: 23.0000 - fp: 29.0000 - tn: 28.0000 - fn: 26.0000 - accuracy: 0.4811 - precision: 0.4423 - recall: 0.4694 - auc: 0.4384 - prc: 0.4152 - val_loss: 1.2366 - val_tp: 5.0000 - val_fp: 14.0000 - val_tn: 2.0000 - val_fn: 6.0000 - val_accuracy: 0.2593 - val_precision: 0.2632 - val_recall: 0.4545 - val_auc: 0.2699 - val_prc: 0.2933\n",
      "Epoch 4/50\n",
      "4/4 [==============================] - 0s 21ms/step - loss: 1.0326 - tp: 20.0000 - fp: 32.0000 - tn: 25.0000 - fn: 29.0000 - accuracy: 0.4245 - precision: 0.3846 - recall: 0.4082 - auc: 0.3781 - prc: 0.3840 - val_loss: 1.1986 - val_tp: 5.0000 - val_fp: 14.0000 - val_tn: 2.0000 - val_fn: 6.0000 - val_accuracy: 0.2593 - val_precision: 0.2632 - val_recall: 0.4545 - val_auc: 0.2727 - val_prc: 0.3029\n",
      "Epoch 5/50\n",
      "4/4 [==============================] - 0s 20ms/step - loss: 0.9357 - tp: 15.0000 - fp: 23.0000 - tn: 34.0000 - fn: 34.0000 - accuracy: 0.4623 - precision: 0.3947 - recall: 0.3061 - auc: 0.4595 - prc: 0.4832 - val_loss: 1.1669 - val_tp: 5.0000 - val_fp: 14.0000 - val_tn: 2.0000 - val_fn: 6.0000 - val_accuracy: 0.2593 - val_precision: 0.2632 - val_recall: 0.4545 - val_auc: 0.2812 - val_prc: 0.3062\n",
      "Epoch 6/50\n",
      "4/4 [==============================] - 0s 21ms/step - loss: 0.9152 - tp: 17.0000 - fp: 25.0000 - tn: 32.0000 - fn: 32.0000 - accuracy: 0.4623 - precision: 0.4048 - recall: 0.3469 - auc: 0.4717 - prc: 0.4258 - val_loss: 1.1388 - val_tp: 5.0000 - val_fp: 14.0000 - val_tn: 2.0000 - val_fn: 6.0000 - val_accuracy: 0.2593 - val_precision: 0.2632 - val_recall: 0.4545 - val_auc: 0.2812 - val_prc: 0.3062\n",
      "Epoch 7/50\n",
      "4/4 [==============================] - 0s 19ms/step - loss: 0.9886 - tp: 20.0000 - fp: 26.0000 - tn: 31.0000 - fn: 29.0000 - accuracy: 0.4811 - precision: 0.4348 - recall: 0.4082 - auc: 0.4449 - prc: 0.4124 - val_loss: 1.1160 - val_tp: 5.0000 - val_fp: 14.0000 - val_tn: 2.0000 - val_fn: 6.0000 - val_accuracy: 0.2593 - val_precision: 0.2632 - val_recall: 0.4545 - val_auc: 0.2813 - val_prc: 0.3062\n",
      "Epoch 8/50\n",
      "4/4 [==============================] - 0s 20ms/step - loss: 0.9277 - tp: 20.0000 - fp: 26.0000 - tn: 31.0000 - fn: 29.0000 - accuracy: 0.4811 - precision: 0.4348 - recall: 0.4082 - auc: 0.4431 - prc: 0.4004 - val_loss: 1.0938 - val_tp: 5.0000 - val_fp: 13.0000 - val_tn: 3.0000 - val_fn: 6.0000 - val_accuracy: 0.2963 - val_precision: 0.2778 - val_recall: 0.4545 - val_auc: 0.2841 - val_prc: 0.3074\n",
      "Epoch 9/50\n",
      "4/4 [==============================] - 0s 20ms/step - loss: 0.9018 - tp: 22.0000 - fp: 26.0000 - tn: 31.0000 - fn: 27.0000 - accuracy: 0.5000 - precision: 0.4583 - recall: 0.4490 - auc: 0.4615 - prc: 0.4256 - val_loss: 1.0722 - val_tp: 5.0000 - val_fp: 13.0000 - val_tn: 3.0000 - val_fn: 6.0000 - val_accuracy: 0.2963 - val_precision: 0.2778 - val_recall: 0.4545 - val_auc: 0.2841 - val_prc: 0.3238\n",
      "Epoch 10/50\n",
      "4/4 [==============================] - 0s 20ms/step - loss: 0.9198 - tp: 20.0000 - fp: 27.0000 - tn: 30.0000 - fn: 29.0000 - accuracy: 0.4717 - precision: 0.4255 - recall: 0.4082 - auc: 0.4837 - prc: 0.4749 - val_loss: 1.0490 - val_tp: 5.0000 - val_fp: 13.0000 - val_tn: 3.0000 - val_fn: 6.0000 - val_accuracy: 0.2963 - val_precision: 0.2778 - val_recall: 0.4545 - val_auc: 0.2841 - val_prc: 0.3680\n",
      "Epoch 11/50\n",
      "4/4 [==============================] - 0s 19ms/step - loss: 0.9631 - tp: 18.0000 - fp: 26.0000 - tn: 31.0000 - fn: 31.0000 - accuracy: 0.4623 - precision: 0.4091 - recall: 0.3673 - auc: 0.4654 - prc: 0.4155 - val_loss: 1.0245 - val_tp: 5.0000 - val_fp: 13.0000 - val_tn: 3.0000 - val_fn: 6.0000 - val_accuracy: 0.2963 - val_precision: 0.2778 - val_recall: 0.4545 - val_auc: 0.2841 - val_prc: 0.3680\n",
      "Epoch 12/50\n",
      "4/4 [==============================] - 0s 20ms/step - loss: 1.0046 - tp: 22.0000 - fp: 31.0000 - tn: 26.0000 - fn: 27.0000 - accuracy: 0.4528 - precision: 0.4151 - recall: 0.4490 - auc: 0.4089 - prc: 0.3964 - val_loss: 1.0027 - val_tp: 5.0000 - val_fp: 13.0000 - val_tn: 3.0000 - val_fn: 6.0000 - val_accuracy: 0.2963 - val_precision: 0.2778 - val_recall: 0.4545 - val_auc: 0.2869 - val_prc: 0.3683\n",
      "Epoch 13/50\n",
      "4/4 [==============================] - 0s 20ms/step - loss: 0.8953 - tp: 23.0000 - fp: 28.0000 - tn: 29.0000 - fn: 26.0000 - accuracy: 0.4906 - precision: 0.4510 - recall: 0.4694 - auc: 0.4885 - prc: 0.4800 - val_loss: 0.9826 - val_tp: 5.0000 - val_fp: 13.0000 - val_tn: 3.0000 - val_fn: 6.0000 - val_accuracy: 0.2963 - val_precision: 0.2778 - val_recall: 0.4545 - val_auc: 0.2869 - val_prc: 0.3683\n",
      "Epoch 14/50\n",
      "4/4 [==============================] - 0s 21ms/step - loss: 0.8119 - tp: 23.0000 - fp: 27.0000 - tn: 30.0000 - fn: 26.0000 - accuracy: 0.5000 - precision: 0.4600 - recall: 0.4694 - auc: 0.5097 - prc: 0.5086 - val_loss: 0.9645 - val_tp: 5.0000 - val_fp: 13.0000 - val_tn: 3.0000 - val_fn: 6.0000 - val_accuracy: 0.2963 - val_precision: 0.2778 - val_recall: 0.4545 - val_auc: 0.2898 - val_prc: 0.3695\n",
      "Epoch 15/50\n",
      "4/4 [==============================] - 0s 21ms/step - loss: 0.8087 - tp: 22.0000 - fp: 27.0000 - tn: 30.0000 - fn: 27.0000 - accuracy: 0.4906 - precision: 0.4490 - recall: 0.4490 - auc: 0.4989 - prc: 0.4735 - val_loss: 0.9472 - val_tp: 5.0000 - val_fp: 13.0000 - val_tn: 3.0000 - val_fn: 6.0000 - val_accuracy: 0.2963 - val_precision: 0.2778 - val_recall: 0.4545 - val_auc: 0.2898 - val_prc: 0.3693\n",
      "Epoch 16/50\n",
      "4/4 [==============================] - 0s 19ms/step - loss: 1.0274 - tp: 15.0000 - fp: 27.0000 - tn: 30.0000 - fn: 34.0000 - accuracy: 0.4245 - precision: 0.3571 - recall: 0.3061 - auc: 0.3702 - prc: 0.3736 - val_loss: 0.9298 - val_tp: 5.0000 - val_fp: 13.0000 - val_tn: 3.0000 - val_fn: 6.0000 - val_accuracy: 0.2963 - val_precision: 0.2778 - val_recall: 0.4545 - val_auc: 0.2812 - val_prc: 0.3658\n",
      "Epoch 17/50\n",
      "4/4 [==============================] - 0s 20ms/step - loss: 0.8598 - tp: 19.0000 - fp: 22.0000 - tn: 35.0000 - fn: 30.0000 - accuracy: 0.5094 - precision: 0.4634 - recall: 0.3878 - auc: 0.4878 - prc: 0.4357 - val_loss: 0.9163 - val_tp: 5.0000 - val_fp: 13.0000 - val_tn: 3.0000 - val_fn: 6.0000 - val_accuracy: 0.2963 - val_precision: 0.2778 - val_recall: 0.4545 - val_auc: 0.2812 - val_prc: 0.3661\n",
      "Epoch 18/50\n",
      "4/4 [==============================] - 0s 21ms/step - loss: 0.9184 - tp: 17.0000 - fp: 25.0000 - tn: 32.0000 - fn: 32.0000 - accuracy: 0.4623 - precision: 0.4048 - recall: 0.3469 - auc: 0.4755 - prc: 0.4390 - val_loss: 0.9034 - val_tp: 5.0000 - val_fp: 13.0000 - val_tn: 3.0000 - val_fn: 6.0000 - val_accuracy: 0.2963 - val_precision: 0.2778 - val_recall: 0.4545 - val_auc: 0.2869 - val_prc: 0.3697\n",
      "Epoch 19/50\n",
      "4/4 [==============================] - 0s 21ms/step - loss: 0.9204 - tp: 15.0000 - fp: 25.0000 - tn: 32.0000 - fn: 34.0000 - accuracy: 0.4434 - precision: 0.3750 - recall: 0.3061 - auc: 0.4488 - prc: 0.4076 - val_loss: 0.8904 - val_tp: 5.0000 - val_fp: 13.0000 - val_tn: 3.0000 - val_fn: 6.0000 - val_accuracy: 0.2963 - val_precision: 0.2778 - val_recall: 0.4545 - val_auc: 0.2869 - val_prc: 0.3710\n",
      "Epoch 20/50\n",
      "4/4 [==============================] - 0s 19ms/step - loss: 0.9166 - tp: 16.0000 - fp: 22.0000 - tn: 35.0000 - fn: 33.0000 - accuracy: 0.4811 - precision: 0.4211 - recall: 0.3265 - auc: 0.4552 - prc: 0.4448 - val_loss: 0.8801 - val_tp: 5.0000 - val_fp: 13.0000 - val_tn: 3.0000 - val_fn: 6.0000 - val_accuracy: 0.2963 - val_precision: 0.2778 - val_recall: 0.4545 - val_auc: 0.2955 - val_prc: 0.3751\n"
     ]
    },
    {
     "name": "stdout",
     "output_type": "stream",
     "text": [
      "Epoch 21/50\n",
      "4/4 [==============================] - 0s 21ms/step - loss: 0.8386 - tp: 19.0000 - fp: 14.0000 - tn: 43.0000 - fn: 30.0000 - accuracy: 0.5849 - precision: 0.5758 - recall: 0.3878 - auc: 0.5317 - prc: 0.4860 - val_loss: 0.8696 - val_tp: 5.0000 - val_fp: 13.0000 - val_tn: 3.0000 - val_fn: 6.0000 - val_accuracy: 0.2963 - val_precision: 0.2778 - val_recall: 0.4545 - val_auc: 0.3011 - val_prc: 0.3762\n",
      "Epoch 22/50\n",
      "4/4 [==============================] - 0s 20ms/step - loss: 0.7667 - tp: 21.0000 - fp: 18.0000 - tn: 39.0000 - fn: 28.0000 - accuracy: 0.5660 - precision: 0.5385 - recall: 0.4286 - auc: 0.5666 - prc: 0.5294 - val_loss: 0.8601 - val_tp: 6.0000 - val_fp: 13.0000 - val_tn: 3.0000 - val_fn: 5.0000 - val_accuracy: 0.3333 - val_precision: 0.3158 - val_recall: 0.5455 - val_auc: 0.3068 - val_prc: 0.3790\n",
      "Epoch 23/50\n",
      "4/4 [==============================] - 0s 19ms/step - loss: 0.8151 - tp: 20.0000 - fp: 26.0000 - tn: 31.0000 - fn: 29.0000 - accuracy: 0.4811 - precision: 0.4348 - recall: 0.4082 - auc: 0.5070 - prc: 0.4923 - val_loss: 0.8509 - val_tp: 5.0000 - val_fp: 13.0000 - val_tn: 3.0000 - val_fn: 6.0000 - val_accuracy: 0.2963 - val_precision: 0.2778 - val_recall: 0.4545 - val_auc: 0.3239 - val_prc: 0.3876\n",
      "Epoch 24/50\n",
      "4/4 [==============================] - 0s 20ms/step - loss: 0.8719 - tp: 16.0000 - fp: 19.0000 - tn: 38.0000 - fn: 33.0000 - accuracy: 0.5094 - precision: 0.4571 - recall: 0.3265 - auc: 0.4646 - prc: 0.4299 - val_loss: 0.8424 - val_tp: 5.0000 - val_fp: 13.0000 - val_tn: 3.0000 - val_fn: 6.0000 - val_accuracy: 0.2963 - val_precision: 0.2778 - val_recall: 0.4545 - val_auc: 0.3324 - val_prc: 0.4034\n",
      "Epoch 25/50\n",
      "4/4 [==============================] - 0s 19ms/step - loss: 0.8821 - tp: 16.0000 - fp: 15.0000 - tn: 42.0000 - fn: 33.0000 - accuracy: 0.5472 - precision: 0.5161 - recall: 0.3265 - auc: 0.4535 - prc: 0.4787 - val_loss: 0.8361 - val_tp: 5.0000 - val_fp: 13.0000 - val_tn: 3.0000 - val_fn: 6.0000 - val_accuracy: 0.2963 - val_precision: 0.2778 - val_recall: 0.4545 - val_auc: 0.3239 - val_prc: 0.3874\n",
      "Epoch 26/50\n",
      "4/4 [==============================] - 0s 19ms/step - loss: 0.7466 - tp: 22.0000 - fp: 16.0000 - tn: 41.0000 - fn: 27.0000 - accuracy: 0.5943 - precision: 0.5789 - recall: 0.4490 - auc: 0.5840 - prc: 0.5556 - val_loss: 0.8300 - val_tp: 5.0000 - val_fp: 12.0000 - val_tn: 4.0000 - val_fn: 6.0000 - val_accuracy: 0.3333 - val_precision: 0.2941 - val_recall: 0.4545 - val_auc: 0.3210 - val_prc: 0.3895\n",
      "Epoch 27/50\n",
      "4/4 [==============================] - 0s 19ms/step - loss: 0.9288 - tp: 13.0000 - fp: 26.0000 - tn: 31.0000 - fn: 36.0000 - accuracy: 0.4151 - precision: 0.3333 - recall: 0.2653 - auc: 0.4141 - prc: 0.3992 - val_loss: 0.8249 - val_tp: 5.0000 - val_fp: 12.0000 - val_tn: 4.0000 - val_fn: 6.0000 - val_accuracy: 0.3333 - val_precision: 0.2941 - val_recall: 0.4545 - val_auc: 0.3381 - val_prc: 0.4110\n",
      "Epoch 28/50\n",
      "4/4 [==============================] - 0s 19ms/step - loss: 0.8233 - tp: 18.0000 - fp: 16.0000 - tn: 41.0000 - fn: 31.0000 - accuracy: 0.5566 - precision: 0.5294 - recall: 0.3673 - auc: 0.5319 - prc: 0.5083 - val_loss: 0.8203 - val_tp: 5.0000 - val_fp: 12.0000 - val_tn: 4.0000 - val_fn: 6.0000 - val_accuracy: 0.3333 - val_precision: 0.2941 - val_recall: 0.4545 - val_auc: 0.3352 - val_prc: 0.3940\n",
      "Epoch 29/50\n",
      "4/4 [==============================] - 0s 19ms/step - loss: 0.7678 - tp: 23.0000 - fp: 20.0000 - tn: 37.0000 - fn: 26.0000 - accuracy: 0.5660 - precision: 0.5349 - recall: 0.4694 - auc: 0.5602 - prc: 0.5321 - val_loss: 0.8131 - val_tp: 5.0000 - val_fp: 12.0000 - val_tn: 4.0000 - val_fn: 6.0000 - val_accuracy: 0.3333 - val_precision: 0.2941 - val_recall: 0.4545 - val_auc: 0.3438 - val_prc: 0.3959\n",
      "Epoch 30/50\n",
      "4/4 [==============================] - 0s 19ms/step - loss: 0.8394 - tp: 19.0000 - fp: 24.0000 - tn: 33.0000 - fn: 30.0000 - accuracy: 0.4906 - precision: 0.4419 - recall: 0.3878 - auc: 0.4977 - prc: 0.4686 - val_loss: 0.8049 - val_tp: 5.0000 - val_fp: 12.0000 - val_tn: 4.0000 - val_fn: 6.0000 - val_accuracy: 0.3333 - val_precision: 0.2941 - val_recall: 0.4545 - val_auc: 0.3580 - val_prc: 0.4016\n",
      "Epoch 31/50\n",
      "4/4 [==============================] - 0s 19ms/step - loss: 0.7387 - tp: 24.0000 - fp: 20.0000 - tn: 37.0000 - fn: 25.0000 - accuracy: 0.5755 - precision: 0.5455 - recall: 0.4898 - auc: 0.5859 - prc: 0.5565 - val_loss: 0.7972 - val_tp: 5.0000 - val_fp: 12.0000 - val_tn: 4.0000 - val_fn: 6.0000 - val_accuracy: 0.3333 - val_precision: 0.2941 - val_recall: 0.4545 - val_auc: 0.3693 - val_prc: 0.4045\n",
      "Epoch 32/50\n",
      "4/4 [==============================] - 0s 20ms/step - loss: 0.8568 - tp: 17.0000 - fp: 20.0000 - tn: 37.0000 - fn: 32.0000 - accuracy: 0.5094 - precision: 0.4595 - recall: 0.3469 - auc: 0.4594 - prc: 0.4405 - val_loss: 0.7902 - val_tp: 5.0000 - val_fp: 12.0000 - val_tn: 4.0000 - val_fn: 6.0000 - val_accuracy: 0.3333 - val_precision: 0.2941 - val_recall: 0.4545 - val_auc: 0.3778 - val_prc: 0.4100\n",
      "Epoch 33/50\n",
      "4/4 [==============================] - 0s 21ms/step - loss: 0.7807 - tp: 23.0000 - fp: 21.0000 - tn: 36.0000 - fn: 26.0000 - accuracy: 0.5566 - precision: 0.5227 - recall: 0.4694 - auc: 0.5738 - prc: 0.5411 - val_loss: 0.7839 - val_tp: 6.0000 - val_fp: 11.0000 - val_tn: 5.0000 - val_fn: 5.0000 - val_accuracy: 0.4074 - val_precision: 0.3529 - val_recall: 0.5455 - val_auc: 0.3864 - val_prc: 0.4177\n",
      "Epoch 34/50\n",
      "4/4 [==============================] - 0s 20ms/step - loss: 0.7099 - tp: 20.0000 - fp: 15.0000 - tn: 42.0000 - fn: 29.0000 - accuracy: 0.5849 - precision: 0.5714 - recall: 0.4082 - auc: 0.6117 - prc: 0.5454 - val_loss: 0.7786 - val_tp: 6.0000 - val_fp: 11.0000 - val_tn: 5.0000 - val_fn: 5.0000 - val_accuracy: 0.4074 - val_precision: 0.3529 - val_recall: 0.5455 - val_auc: 0.3892 - val_prc: 0.4208\n",
      "Epoch 35/50\n",
      "4/4 [==============================] - 0s 18ms/step - loss: 0.8299 - tp: 18.0000 - fp: 20.0000 - tn: 37.0000 - fn: 31.0000 - accuracy: 0.5189 - precision: 0.4737 - recall: 0.3673 - auc: 0.5036 - prc: 0.4806 - val_loss: 0.7716 - val_tp: 6.0000 - val_fp: 11.0000 - val_tn: 5.0000 - val_fn: 5.0000 - val_accuracy: 0.4074 - val_precision: 0.3529 - val_recall: 0.5455 - val_auc: 0.4062 - val_prc: 0.4311\n",
      "Epoch 36/50\n",
      "4/4 [==============================] - 0s 18ms/step - loss: 0.7458 - tp: 22.0000 - fp: 17.0000 - tn: 40.0000 - fn: 27.0000 - accuracy: 0.5849 - precision: 0.5641 - recall: 0.4490 - auc: 0.5646 - prc: 0.5358 - val_loss: 0.7635 - val_tp: 6.0000 - val_fp: 11.0000 - val_tn: 5.0000 - val_fn: 5.0000 - val_accuracy: 0.4074 - val_precision: 0.3529 - val_recall: 0.5455 - val_auc: 0.4148 - val_prc: 0.4346\n",
      "Epoch 37/50\n",
      "4/4 [==============================] - 0s 21ms/step - loss: 0.7918 - tp: 21.0000 - fp: 20.0000 - tn: 37.0000 - fn: 28.0000 - accuracy: 0.5472 - precision: 0.5122 - recall: 0.4286 - auc: 0.5322 - prc: 0.4746 - val_loss: 0.7554 - val_tp: 6.0000 - val_fp: 10.0000 - val_tn: 6.0000 - val_fn: 5.0000 - val_accuracy: 0.4444 - val_precision: 0.3750 - val_recall: 0.5455 - val_auc: 0.4176 - val_prc: 0.4351\n",
      "Epoch 38/50\n",
      "4/4 [==============================] - 0s 22ms/step - loss: 0.8087 - tp: 20.0000 - fp: 26.0000 - tn: 31.0000 - fn: 29.0000 - accuracy: 0.4811 - precision: 0.4348 - recall: 0.4082 - auc: 0.4961 - prc: 0.4432 - val_loss: 0.7457 - val_tp: 6.0000 - val_fp: 10.0000 - val_tn: 6.0000 - val_fn: 5.0000 - val_accuracy: 0.4444 - val_precision: 0.3750 - val_recall: 0.5455 - val_auc: 0.4261 - val_prc: 0.4382\n",
      "Epoch 39/50\n",
      "4/4 [==============================] - 0s 20ms/step - loss: 0.7914 - tp: 24.0000 - fp: 24.0000 - tn: 33.0000 - fn: 25.0000 - accuracy: 0.5377 - precision: 0.5000 - recall: 0.4898 - auc: 0.5399 - prc: 0.5364 - val_loss: 0.7357 - val_tp: 6.0000 - val_fp: 8.0000 - val_tn: 8.0000 - val_fn: 5.0000 - val_accuracy: 0.5185 - val_precision: 0.4286 - val_recall: 0.5455 - val_auc: 0.4347 - val_prc: 0.4551\n",
      "Epoch 40/50\n",
      "4/4 [==============================] - 0s 18ms/step - loss: 0.7445 - tp: 19.0000 - fp: 20.0000 - tn: 37.0000 - fn: 30.0000 - accuracy: 0.5283 - precision: 0.4872 - recall: 0.3878 - auc: 0.5528 - prc: 0.5708 - val_loss: 0.7290 - val_tp: 6.0000 - val_fp: 8.0000 - val_tn: 8.0000 - val_fn: 5.0000 - val_accuracy: 0.5185 - val_precision: 0.4286 - val_recall: 0.5455 - val_auc: 0.4375 - val_prc: 0.4565\n"
     ]
    },
    {
     "name": "stdout",
     "output_type": "stream",
     "text": [
      "Epoch 41/50\n",
      "4/4 [==============================] - 0s 19ms/step - loss: 0.7782 - tp: 20.0000 - fp: 20.0000 - tn: 37.0000 - fn: 29.0000 - accuracy: 0.5377 - precision: 0.5000 - recall: 0.4082 - auc: 0.5295 - prc: 0.4737 - val_loss: 0.7223 - val_tp: 6.0000 - val_fp: 8.0000 - val_tn: 8.0000 - val_fn: 5.0000 - val_accuracy: 0.5185 - val_precision: 0.4286 - val_recall: 0.5455 - val_auc: 0.4489 - val_prc: 0.4598\n",
      "Epoch 42/50\n",
      "4/4 [==============================] - 0s 19ms/step - loss: 0.7637 - tp: 21.0000 - fp: 20.0000 - tn: 37.0000 - fn: 28.0000 - accuracy: 0.5472 - precision: 0.5122 - recall: 0.4286 - auc: 0.5553 - prc: 0.5261 - val_loss: 0.7141 - val_tp: 6.0000 - val_fp: 8.0000 - val_tn: 8.0000 - val_fn: 5.0000 - val_accuracy: 0.5185 - val_precision: 0.4286 - val_recall: 0.5455 - val_auc: 0.4659 - val_prc: 0.4635\n",
      "Epoch 43/50\n",
      "4/4 [==============================] - 0s 19ms/step - loss: 0.8166 - tp: 16.0000 - fp: 21.0000 - tn: 36.0000 - fn: 33.0000 - accuracy: 0.4906 - precision: 0.4324 - recall: 0.3265 - auc: 0.4873 - prc: 0.4566 - val_loss: 0.7072 - val_tp: 6.0000 - val_fp: 8.0000 - val_tn: 8.0000 - val_fn: 5.0000 - val_accuracy: 0.5185 - val_precision: 0.4286 - val_recall: 0.5455 - val_auc: 0.4915 - val_prc: 0.4738\n",
      "Epoch 44/50\n",
      "4/4 [==============================] - 0s 20ms/step - loss: 0.8547 - tp: 20.0000 - fp: 22.0000 - tn: 35.0000 - fn: 29.0000 - accuracy: 0.5189 - precision: 0.4762 - recall: 0.4082 - auc: 0.4862 - prc: 0.4646 - val_loss: 0.6994 - val_tp: 6.0000 - val_fp: 8.0000 - val_tn: 8.0000 - val_fn: 5.0000 - val_accuracy: 0.5185 - val_precision: 0.4286 - val_recall: 0.5455 - val_auc: 0.5227 - val_prc: 0.5028\n",
      "Epoch 45/50\n",
      "4/4 [==============================] - 0s 21ms/step - loss: 0.7699 - tp: 23.0000 - fp: 18.0000 - tn: 39.0000 - fn: 26.0000 - accuracy: 0.5849 - precision: 0.5610 - recall: 0.4694 - auc: 0.5593 - prc: 0.4901 - val_loss: 0.6936 - val_tp: 5.0000 - val_fp: 8.0000 - val_tn: 8.0000 - val_fn: 6.0000 - val_accuracy: 0.4815 - val_precision: 0.3846 - val_recall: 0.4545 - val_auc: 0.5398 - val_prc: 0.5103\n",
      "Epoch 46/50\n",
      "4/4 [==============================] - 0s 20ms/step - loss: 0.7587 - tp: 20.0000 - fp: 21.0000 - tn: 36.0000 - fn: 29.0000 - accuracy: 0.5283 - precision: 0.4878 - recall: 0.4082 - auc: 0.5392 - prc: 0.5309 - val_loss: 0.6874 - val_tp: 5.0000 - val_fp: 8.0000 - val_tn: 8.0000 - val_fn: 6.0000 - val_accuracy: 0.4815 - val_precision: 0.3846 - val_recall: 0.4545 - val_auc: 0.5511 - val_prc: 0.5166\n",
      "Epoch 47/50\n",
      "4/4 [==============================] - 0s 21ms/step - loss: 0.8131 - tp: 18.0000 - fp: 15.0000 - tn: 42.0000 - fn: 31.0000 - accuracy: 0.5660 - precision: 0.5455 - recall: 0.3673 - auc: 0.5593 - prc: 0.5359 - val_loss: 0.6833 - val_tp: 5.0000 - val_fp: 8.0000 - val_tn: 8.0000 - val_fn: 6.0000 - val_accuracy: 0.4815 - val_precision: 0.3846 - val_recall: 0.4545 - val_auc: 0.5710 - val_prc: 0.5277\n",
      "Epoch 48/50\n",
      "4/4 [==============================] - 0s 20ms/step - loss: 0.8575 - tp: 21.0000 - fp: 24.0000 - tn: 33.0000 - fn: 28.0000 - accuracy: 0.5094 - precision: 0.4667 - recall: 0.4286 - auc: 0.4787 - prc: 0.4371 - val_loss: 0.6794 - val_tp: 5.0000 - val_fp: 7.0000 - val_tn: 9.0000 - val_fn: 6.0000 - val_accuracy: 0.5185 - val_precision: 0.4167 - val_recall: 0.4545 - val_auc: 0.5824 - val_prc: 0.5534\n",
      "Epoch 49/50\n",
      "4/4 [==============================] - 0s 20ms/step - loss: 0.7606 - tp: 22.0000 - fp: 19.0000 - tn: 38.0000 - fn: 27.0000 - accuracy: 0.5660 - precision: 0.5366 - recall: 0.4490 - auc: 0.5516 - prc: 0.5303 - val_loss: 0.6762 - val_tp: 5.0000 - val_fp: 7.0000 - val_tn: 9.0000 - val_fn: 6.0000 - val_accuracy: 0.5185 - val_precision: 0.4167 - val_recall: 0.4545 - val_auc: 0.5824 - val_prc: 0.5534\n",
      "Epoch 50/50\n",
      "4/4 [==============================] - 0s 20ms/step - loss: 0.7247 - tp: 18.0000 - fp: 17.0000 - tn: 40.0000 - fn: 31.0000 - accuracy: 0.5472 - precision: 0.5143 - recall: 0.3673 - auc: 0.5918 - prc: 0.5428 - val_loss: 0.6735 - val_tp: 5.0000 - val_fp: 6.0000 - val_tn: 10.0000 - val_fn: 6.0000 - val_accuracy: 0.5556 - val_precision: 0.4545 - val_recall: 0.4545 - val_auc: 0.5881 - val_prc: 0.5567\n"
     ]
    }
   ],
   "source": [
    "history = model.train(X_train, y_train, X_val, y_val, epochs, batch_size, early_stopping)\n",
    "#plt.plot(history.history['loss'])\n",
    "#plt.show()"
   ]
  },
  {
   "cell_type": "code",
   "execution_count": 109,
   "id": "94c13034",
   "metadata": {},
   "outputs": [
    {
     "data": {
      "text/plain": [
       "0"
      ]
     },
     "execution_count": 109,
     "metadata": {},
     "output_type": "execute_result"
    }
   ],
   "source": [
    "early_stopping.stopped_epoch"
   ]
  },
  {
   "cell_type": "code",
   "execution_count": 110,
   "id": "9045cabd",
   "metadata": {},
   "outputs": [],
   "source": [
    "#plot_loss(history, \"Bias\", 0)\n",
    "#plt.show()"
   ]
  },
  {
   "cell_type": "code",
   "execution_count": 111,
   "id": "b5a4f23c",
   "metadata": {},
   "outputs": [],
   "source": [
    "#plot_metrics(history)\n",
    "#plt.show()"
   ]
  },
  {
   "cell_type": "code",
   "execution_count": 112,
   "id": "819499c3",
   "metadata": {},
   "outputs": [
    {
     "name": "stdout",
     "output_type": "stream",
     "text": [
      "4/4 [==============================] - 0s 2ms/step\n",
      "1/1 [==============================] - 0s 21ms/step\n",
      "loss :  0.7972513437271118\n",
      "tp :  4.0\n",
      "fp :  4.0\n",
      "tn :  3.0\n",
      "fn :  4.0\n",
      "accuracy :  0.46666666865348816\n",
      "0.46666666865348816\n",
      "precision :  0.5\n",
      "recall :  0.5\n",
      "auc :  0.294642835855484\n",
      "prc :  0.41083645820617676\n"
     ]
    }
   ],
   "source": [
    "predictions_train = model.predict(X_train)\n",
    "predictions_test = model.predict(X_test)\n",
    "\n",
    "# Confusion matrix\n",
    "results = model.evaluate(X_test, y_test)\n",
    "for name, value in zip(model.metrics_names(), results):\n",
    "    print(name, ': ', value)\n",
    "    if name == 'accuracy':\n",
    "        print(value)\n",
    "        accuracy_thirtytwo_mean.append(value)"
   ]
  },
  {
   "cell_type": "code",
   "execution_count": 113,
   "id": "d890b7c8",
   "metadata": {},
   "outputs": [
    {
     "name": "stdout",
     "output_type": "stream",
     "text": [
      "True Negatives:  3\n",
      "False Positives:  4\n",
      "False Negatives:  4\n",
      "True Positives:  4\n",
      "Total:  8\n"
     ]
    },
    {
     "data": {
      "image/png": "[encoded data removed]",
      "text/plain": [
       "<Figure size 500x500 with 2 Axes>"
      ]
     },
     "metadata": {},
     "output_type": "display_data"
    }
   ],
   "source": [
    "plot_cm(y_test, predictions_test)\n",
    "plt.show()"
   ]
  },
  {
   "cell_type": "code",
   "execution_count": 114,
   "id": "c203c253",
   "metadata": {},
   "outputs": [],
   "source": [
    "#plot_roc(\"Test Predictions\", y_test, predictions_test, color=colors[0], linestyle='--')\n",
    "#plt.legend(loc='lower right')\n",
    "#plt.show()"
   ]
  },
  {
   "cell_type": "code",
   "execution_count": 115,
   "id": "885ee060",
   "metadata": {},
   "outputs": [],
   "source": [
    "# Precision-Recall Curve (PRC)\n",
    "#plot_prc(\"Train Predictions\", y_train, predictions_train, color=colors[0])\n",
    "#plot_prc(\"Test Predictions\", y_test, predictions_test, color=colors[0], linestyle='--')\n",
    "#plt.legend(loc='lower right')\n",
    "#plt.show()"
   ]
  },
  {
   "cell_type": "code",
   "execution_count": 116,
   "id": "d2f024ce",
   "metadata": {},
   "outputs": [],
   "source": [
    "#STOP"
   ]
  },
  {
   "cell_type": "code",
   "execution_count": 117,
   "id": "a25fb719",
   "metadata": {},
   "outputs": [
    {
     "name": "stdout",
     "output_type": "stream",
     "text": [
      "[0.9333333373069763, 0.9333333373069763]\n",
      "[0.800000011920929, 0.9333333373069763]\n",
      "[0.6000000238418579, 0.3333333432674408]\n",
      "[0.2666666805744171, 0.46666666865348816]\n"
     ]
    }
   ],
   "source": [
    "print(accuracy_sixteen_min_max)\n",
    "print(accuracy_thirtytwo_min_max)\n",
    "print(accuracy_sixteen_mean)\n",
    "print(accuracy_thirtytwo_mean)"
   ]
  },
  {
   "cell_type": "markdown",
   "id": "ec3bc74a",
   "metadata": {},
   "source": [
    "# Summarry"
   ]
  },
  {
   "cell_type": "code",
   "execution_count": 118,
   "id": "22344219",
   "metadata": {},
   "outputs": [
    {
     "data": {
      "image/png": "[encoded data removed]",
      "text/plain": [
       "<Figure size 1200x1000 with 1 Axes>"
      ]
     },
     "metadata": {},
     "output_type": "display_data"
    }
   ],
   "source": [
    "col = [1, 2, 3, 4, 5, 6, 7, 8]\n",
    "accuracy = accuracy_sixteen_min_max + accuracy_thirtytwo_min_max + accuracy_sixteen_mean + accuracy_thirtytwo_mean\n",
    "\n",
    "tick_label = ['Dense(16 min/max)', 'CNN(16 min/max)', 'Dense(32 min/max)', 'CNN(32 min/max)', 'Dense(16 mean)', 'CNN(16 mean)', 'Dense(32 mean)', 'CNN(32 mean)']\n",
    "\n",
    "plt.bar(col, accuracy, tick_label = tick_label, width = 0.8)\n",
    "    \n",
    "plt.xticks(rotation=45, horizontalalignment=\"right\")\n",
    "plt.xlabel('Model')\n",
    "plt.ylabel('Accuracy')\n",
    "plt.title('Model vs Accuracy')\n",
    "\n",
    "plt.show()   "
   ]
  },
  {
   "cell_type": "code",
   "execution_count": 119,
   "id": "496c6388",
   "metadata": {},
   "outputs": [],
   "source": [
    "#STOP"
   ]
  }
 ],
 "metadata": {
  "kernelspec": {
   "display_name": "Python 3 (ipykernel)",
   "language": "python",
   "name": "python3"
  },
  "language_info": {
   "codemirror_mode": {
    "name": "ipython",
    "version": 3
   },
   "file_extension": ".py",
   "mimetype": "text/x-python",
   "name": "python",
   "nbconvert_exporter": "python",
   "pygments_lexer": "ipython3",
   "version": "3.9.6"
  }
 },
 "nbformat": 4,
 "nbformat_minor": 5
}
