{
 "cells": [
  {
   "cell_type": "code",
   "execution_count": null,
   "id": "4836630a",
   "metadata": {},
   "outputs": [],
   "source": [
    "cd .."
   ]
  },
  {
   "cell_type": "code",
   "execution_count": null,
   "id": "d87bc37d",
   "metadata": {},
   "outputs": [],
   "source": [
    "import os\n",
    "os.environ['TF_CPP_MIN_LOG_LEVEL'] = '3'\n",
    "import warnings\n",
    "warnings.filterwarnings(\"ignore\")\n",
    "\n",
    "import json\n",
    "import numpy as np\n",
    "import matplotlib.pyplot as plt\n",
    "\n",
    "import cv2\n",
    "import tensorflow as tf\n",
    "\n",
    "from keras.applications import EfficientNetB0\n",
    "from keras.models import Model, Sequential\n",
    "from keras.layers import Input, InputLayer, GlobalAveragePooling2D, Dropout, Dense\n",
    "\n",
    "from sklearn.model_selection import KFold"
   ]
  },
  {
   "cell_type": "markdown",
   "id": "ae1db6f6",
   "metadata": {},
   "source": [
    "# Pith Dataset"
   ]
  },
  {
   "cell_type": "code",
   "execution_count": null,
   "id": "e6bb56d5",
   "metadata": {},
   "outputs": [],
   "source": [
    "def get_image_path(directory, image_name):\n",
    "    return os.path.join(directory, image_name)"
   ]
  },
  {
   "cell_type": "code",
   "execution_count": null,
   "id": "d9b43489",
   "metadata": {},
   "outputs": [],
   "source": [
    "with open(r'data/Log_Ends_Train.json', 'r') as f:\n",
    "    PITH_JSON_TRAIN = json.load(f)\n",
    "    \n",
    "with open(r'data/Log_Ends_Val.json', 'r') as f:\n",
    "    PITH_JSON_VAL = json.load(f)"
   ]
  },
  {
   "cell_type": "code",
   "execution_count": null,
   "id": "cb4d7f4e",
   "metadata": {},
   "outputs": [],
   "source": [
    "def get_bbox(image_name, json_file):\n",
    "    for image_item in json_file[\"images\"]:\n",
    "        if image_item[\"image_name\"] == image_name:\n",
    "            return image_item[\"labels\"][0][\"bbox\"]\n",
    "    return None\n",
    "\n",
    "def get_xy_coordinates(image, image_name, json_file):\n",
    "    x,y,w,h = get_bbox(image_name, json_file)\n",
    "    w = np.abs(w-x)\n",
    "    h = np.abs(h-y)\n",
    "    height, width = image.shape[0], image.shape[1]\n",
    "    return (x + w/2)/width, (y + h/2)/height"
   ]
  },
  {
   "cell_type": "code",
   "execution_count": null,
   "id": "a38f9636",
   "metadata": {},
   "outputs": [],
   "source": [
    "#STOP"
   ]
  },
  {
   "cell_type": "code",
   "execution_count": null,
   "id": "fd1165e8",
   "metadata": {},
   "outputs": [],
   "source": [
    "labels_Log_Ends_Train = []\n",
    "images_Log_Ends_Train = []\n",
    "for image_item in PITH_JSON_TRAIN[\"images\"]:\n",
    "    image_name = image_item[\"image_name\"]\n",
    "    image_path = get_image_path(r'data/Log_Ends_Train', image_name)\n",
    "    image = plt.imread(image_path)\n",
    "    labels_Log_Ends_Train.append(get_xy_coordinates(image, image_name, PITH_JSON_TRAIN)) \n",
    "    images_Log_Ends_Train.append(image)\n",
    "\n",
    "labels_Log_Ends_Val = []\n",
    "images_Log_Ends_Val = []\n",
    "for image_item in PITH_JSON_VAL[\"images\"]: \n",
    "    image_name = image_item[\"image_name\"]\n",
    "    image_path = get_image_path(r'data/Log_Ends_Val', image_name)\n",
    "    image = plt.imread(image_path)\n",
    "    labels_Log_Ends_Val.append(get_xy_coordinates(image, image_name, PITH_JSON_VAL))\n",
    "    images_Log_Ends_Val.append(image)"
   ]
  },
  {
   "cell_type": "code",
   "execution_count": null,
   "id": "cdef4b0c",
   "metadata": {},
   "outputs": [],
   "source": [
    "prediction = labels_Log_Ends_Train[0]\n",
    "img = images_Log_Ends_Train[0]\n",
    "height, width = img.shape[0], img.shape[1]\n",
    "plt.imshow(img)\n",
    "plt.plot(prediction[0]*width, prediction[1]*height, '.', markersize = 10)\n",
    "plt.show()"
   ]
  },
  {
   "cell_type": "code",
   "execution_count": null,
   "id": "b197cd2d",
   "metadata": {},
   "outputs": [],
   "source": [
    "prediction =labels_Log_Ends_Val[0]\n",
    "img = images_Log_Ends_Val[0]\n",
    "height, width = img.shape[0], img.shape[1]\n",
    "plt.imshow(img)\n",
    "plt.plot(prediction[0]*width, prediction[1]*height, '.', markersize = 10)\n",
    "plt.show()"
   ]
  },
  {
   "cell_type": "code",
   "execution_count": null,
   "id": "c81ed07a",
   "metadata": {},
   "outputs": [],
   "source": [
    "#STOP"
   ]
  },
  {
   "cell_type": "markdown",
   "id": "f0dbfa40",
   "metadata": {},
   "source": [
    "# Config"
   ]
  },
  {
   "cell_type": "code",
   "execution_count": null,
   "id": "61c03e5e",
   "metadata": {},
   "outputs": [],
   "source": [
    "epochs, batch_size = 50, 32\n",
    "kf = KFold(n_splits=3, shuffle=True, random_state=42)\n",
    "\n",
    "early_stopping = tf.keras.callbacks.EarlyStopping(\n",
    "        monitor=\"val_loss\",\n",
    "        patience=10,\n",
    "        restore_best_weights=True,\n",
    "    )\n",
    "\n",
    "METRICS = [ \n",
    "    tf.keras.metrics.MAE,\n",
    "    tf.keras.metrics.MSE,\n",
    "    tf.keras.metrics.RootMeanSquaredError()\n",
    "]\n",
    "\n",
    "IMG_SIZE = 224 # Image resolution"
   ]
  },
  {
   "cell_type": "code",
   "execution_count": null,
   "id": "39edad68",
   "metadata": {},
   "outputs": [],
   "source": [
    "#STOP"
   ]
  },
  {
   "cell_type": "markdown",
   "id": "55ccce15",
   "metadata": {},
   "source": [
    "# Model"
   ]
  },
  {
   "cell_type": "code",
   "execution_count": null,
   "id": "726ca1bf",
   "metadata": {},
   "outputs": [],
   "source": [
    "class Baseline():\n",
    "    def __init__(self, metrics=METRICS):\n",
    "        # Define the input shape\n",
    "        '''\n",
    "        input_shape = (224, 224, 3)\n",
    "        \n",
    "        # Instantiate the base model (EfficientNetB0)\n",
    "        base_model = EfficientNetB0(weights='imagenet', include_top=False, input_shape=input_shape)\n",
    "\n",
    "        # Freeze the weights of the base model\n",
    "        #base_model.trainable = False\n",
    "\n",
    "        # Create a new model on top of the base model\n",
    "        model = Sequential([\n",
    "            InputLayer(input_shape=input_shape),\n",
    "            base_model,\n",
    "            GlobalAveragePooling2D(),\n",
    "            Dropout(0.5),\n",
    "            Dense(2, activation='softmax')\n",
    "        ])\n",
    "        '''\n",
    "        \n",
    "        #\n",
    "        input_shape = (224, 224, 3)\n",
    "        inputs = Input(shape=input_shape)\n",
    "        x = EfficientNetB0(include_top=False, input_shape=input_shape)(inputs)\n",
    "        x = GlobalAveragePooling2D()(x)\n",
    "        x = Dropout(0.5)(x)\n",
    "        prediction = Dense(2, activation='softmax')(x)\n",
    "        model = Model(inputs=inputs, outputs=prediction)\n",
    "\n",
    "        # Compile the model\n",
    "        model.compile(loss='mse', optimizer=tf.keras.optimizers.Adam(learning_rate=0.00001), metrics=metrics)\n",
    "\n",
    "        self.model = model\n",
    "\n",
    "    def train(self, X_train, y_train, X_val, y_val, epochs, batch_size):\n",
    "        #history = self.model.fit(X_train, y_train, validation_data=(X_val, y_val), epochs=epochs, batch_size=batch_size, callbacks=[early_stopping], verbose=2)\n",
    "        history = self.model.fit(X_train, y_train, validation_data=(X_val, y_val), epochs=epochs, batch_size=batch_size, verbose=2)\n",
    "        return history\n",
    "    \n",
    "    def evaluate(self, X_test, y_test):\n",
    "        results = self.model.evaluate(X_test, y_test, verbose=0)\n",
    "        return results\n",
    "\n",
    "    def predict(self, X_test):\n",
    "        predictions = self.model.predict(X_test)\n",
    "        return predictions\n",
    "\n",
    "    def summary(self):\n",
    "        self.model.summary()\n",
    "        \n",
    "    def metrics_names(self):\n",
    "        return self.model.metrics_names"
   ]
  },
  {
   "cell_type": "markdown",
   "id": "f92e17e0",
   "metadata": {},
   "source": [
    "# Prepare dataset"
   ]
  },
  {
   "cell_type": "code",
   "execution_count": null,
   "id": "5833bcec",
   "metadata": {},
   "outputs": [],
   "source": [
    "resized_images_Log_Ends_Train = [cv2.resize(img, (IMG_SIZE, IMG_SIZE)) for img in images_Log_Ends_Train]\n",
    "resized_images_Log_Ends_Val = [cv2.resize(img, (IMG_SIZE, IMG_SIZE)) for img in images_Log_Ends_Val]\n",
    "\n",
    "X_train = np.array(resized_images_Log_Ends_Train)\n",
    "y_train = np.array(labels_Log_Ends_Train)\n",
    "\n",
    "X_holdout = np.array(resized_images_Log_Ends_Val)\n",
    "y_holdout = np.array(labels_Log_Ends_Val)"
   ]
  },
  {
   "cell_type": "code",
   "execution_count": null,
   "id": "9f6425a3",
   "metadata": {},
   "outputs": [],
   "source": [
    "# create the model and iterate over each fold\n",
    "\n",
    "model = Baseline()\n",
    "model.summary()"
   ]
  },
  {
   "cell_type": "code",
   "execution_count": null,
   "id": "4c83f457",
   "metadata": {},
   "outputs": [],
   "source": [
    "#STOP"
   ]
  },
  {
   "cell_type": "code",
   "execution_count": null,
   "id": "68e195e4",
   "metadata": {},
   "outputs": [],
   "source": [
    "results_loss = []\n",
    "results_mae = []\n",
    "results_mse = []\n",
    "results_rmse = []\n",
    "\n",
    "for train_index, val_index in kf.split(X_train):\n",
    "    # split the dataset into training and validation sets for this fold\n",
    "    X_train_kf, X_val_kf = X_train[train_index], X_train[val_index]\n",
    "    y_train_kf, y_val_kf = y_train[train_index], y_train[val_index]\n",
    "    \n",
    "    history = model.train(X_train_kf, y_train_kf, X_val_kf, y_val_kf, epochs, batch_size)\n",
    "    plt.plot(history.history['loss'])\n",
    "    plt.show()\n",
    "    \n",
    "    loss, mae, mse, rmse = model.evaluate(X_val_kf, y_val_kf)\n",
    "    print('Loss on validation set:', loss)\n",
    "    print('MAE on validation set:', mae)\n",
    "    print('MSE on validation set:', mse)\n",
    "    print('RMSE on validation set:', rmse)\n",
    "\n",
    "    results_loss.append(loss)\n",
    "    results_mae.append(mae)\n",
    "    results_mse.append(mse)\n",
    "    results_rmse.append(rmse)\n",
    "    \n",
    "# Calculate the average for the K-fold cross-validation\n",
    "print(f\"K-fold cross-validation Loss: {sum(results_loss) / len(results_loss)}\")\n",
    "print(f\"K-fold cross-validation MAE: {sum(results_mae) / len(results_mae)}\")\n",
    "print(f\"K-fold cross-validation MSE: {sum(results_mse) / len(results_mse)}\")\n",
    "print(f\"K-fold cross-validation RMSE: {sum(results_rmse) / len(results_rmse)}\")\n",
    "\n",
    "loss, mae, mse, rmse = model.evaluate(X_holdout, y_holdout)\n",
    "print('Loss on holdout set:', loss)\n",
    "print('MAE on holdout set:', mae)\n",
    "print('MSE on holdout set:', mse)\n",
    "print('RMSE on holdout set:', rmse)"
   ]
  },
  {
   "cell_type": "code",
   "execution_count": null,
   "id": "8d1f35c4",
   "metadata": {},
   "outputs": [],
   "source": [
    "#STOP"
   ]
  },
  {
   "cell_type": "code",
   "execution_count": null,
   "id": "e4706e97",
   "metadata": {},
   "outputs": [],
   "source": [
    "img_ind = 1\n",
    "\n",
    "image = images_Log_Ends_Train[img_ind]\n",
    "height, width = image.shape[0], image.shape[1]\n",
    "image = cv2.resize(image, (224,224))\n",
    "image = np.expand_dims(image, axis=0)\n",
    "prediction = model.predict(image)[0]\n",
    "image = np.squeeze(image, axis = 0)\n",
    "image = cv2.resize(image, (width, height))\n",
    "plt.imshow(image)\n",
    "plt.plot(prediction[0]*width, prediction[1]*height, '.', markersize = 10)\n",
    "plt.title(\"Predicted\")\n",
    "plt.show()\n",
    "\n",
    "prediction = labels_Log_Ends_Train[img_ind]\n",
    "img = images_Log_Ends_Train[img_ind]\n",
    "height, width = img.shape[0], img.shape[1]\n",
    "plt.imshow(img)\n",
    "plt.plot(prediction[0]*width, prediction[1]*height, '.', markersize = 10)\n",
    "plt.title(\"Original\")\n",
    "plt.show()"
   ]
  },
  {
   "cell_type": "code",
   "execution_count": null,
   "id": "1b95950f",
   "metadata": {},
   "outputs": [],
   "source": [
    "img_ind = 1\n",
    "\n",
    "\n",
    "image = images_Log_Ends_Val[1]\n",
    "height, width = image.shape[0], image.shape[1]\n",
    "image = cv2.resize(image, (224,224))\n",
    "image = np.expand_dims(image, axis=0)\n",
    "prediction = model.predict(image)[0]\n",
    "image = np.squeeze(image, axis = 0)\n",
    "image = cv2.resize(image, (width, height))\n",
    "plt.imshow(image)\n",
    "plt.plot(prediction[0]*width, prediction[1]*height, '.', markersize = 10)\n",
    "plt.title(\"Predicted\")\n",
    "plt.show()\n",
    "\n",
    "prediction = labels_Log_Ends_Val[img_ind]\n",
    "img = images_Log_Ends_Val[img_ind]\n",
    "height, width = img.shape[0], img.shape[1]\n",
    "plt.imshow(img)\n",
    "plt.plot(prediction[0]*width, prediction[1]*height, '.', markersize = 10)\n",
    "plt.title(\"Original\")\n",
    "plt.show()"
   ]
  },
  {
   "cell_type": "code",
   "execution_count": null,
   "id": "a2d3485b",
   "metadata": {},
   "outputs": [],
   "source": [
    "#STOP"
   ]
  }
 ],
 "metadata": {
  "kernelspec": {
   "display_name": "Python 3 (ipykernel)",
   "language": "python",
   "name": "python3"
  },
  "language_info": {
   "codemirror_mode": {
    "name": "ipython",
    "version": 3
   },
   "file_extension": ".py",
   "mimetype": "text/x-python",
   "name": "python",
   "nbconvert_exporter": "python",
   "pygments_lexer": "ipython3",
   "version": "3.9.6"
  }
 },
 "nbformat": 4,
 "nbformat_minor": 5
}
