{
 "cells": [
  {
   "cell_type": "code",
   "execution_count": null,
   "id": "0f2f07b8",
   "metadata": {
    "scrolled": false
   },
   "outputs": [],
   "source": [
    "cd .."
   ]
  },
  {
   "cell_type": "code",
   "execution_count": null,
   "id": "830e71fa",
   "metadata": {
    "scrolled": false
   },
   "outputs": [],
   "source": [
    "from src.winner import winner_model_rings\n",
    "from src.winner import winner_visual"
   ]
  },
  {
   "cell_type": "code",
   "execution_count": null,
   "id": "301baad2",
   "metadata": {
    "scrolled": true
   },
   "outputs": [],
   "source": [
    "mse_url = \"output/ringsranking_mse_sixteen.csv\"\n",
    "rings_url = \"output/ringsranking_rings_sixteen.csv\"\n",
    "df_ringsranking_sixteen = winner_model_rings(mse_url, rings_url)\n",
    "winner_visual(df_ringsranking_sixteen)"
   ]
  },
  {
   "cell_type": "code",
   "execution_count": null,
   "id": "d705bf70",
   "metadata": {
    "scrolled": true
   },
   "outputs": [],
   "source": [
    "mse_url = \"output/ringsranking_mse_thirtytwo.csv\"\n",
    "rings_url = \"output/ringsranking_rings_thirtytwo.csv\"\n",
    "df_ringsranking_thirtytwo = winner_model_rings(mse_url, rings_url)\n",
    "winner_visual(df_ringsranking_thirtytwo)"
   ]
  },
  {
   "cell_type": "code",
   "execution_count": null,
   "id": "2ae737fa",
   "metadata": {
    "scrolled": false
   },
   "outputs": [],
   "source": [
    "#STOP"
   ]
  },
  {
   "cell_type": "code",
   "execution_count": null,
   "id": "c218957a",
   "metadata": {
    "scrolled": true
   },
   "outputs": [],
   "source": [
    "mse_url = \"output/pine_mse_sixteen.csv\"\n",
    "rings_url = \"output/pine_rings_sixteen.csv\"\n",
    "df_pine_sixteen = winner_model_rings(mse_url, rings_url)\n",
    "winner_visual(df_pine_sixteen)"
   ]
  },
  {
   "cell_type": "code",
   "execution_count": null,
   "id": "69da6ef7",
   "metadata": {
    "scrolled": true
   },
   "outputs": [],
   "source": [
    "mse_url = \"output/pine_mse_thirtytwo.csv\"\n",
    "rings_url = \"output/pine_rings_thirtytwo.csv\"\n",
    "df_pine_thirtytwo = winner_model_rings(mse_url, rings_url)\n",
    "winner_visual(df_pine_thirtytwo)"
   ]
  },
  {
   "cell_type": "code",
   "execution_count": null,
   "id": "fabce6a3",
   "metadata": {
    "scrolled": false
   },
   "outputs": [],
   "source": [
    "#STOP"
   ]
  },
  {
   "cell_type": "code",
   "execution_count": null,
   "id": "55375c3d",
   "metadata": {
    "scrolled": true
   },
   "outputs": [],
   "source": [
    "mse_url = \"output/fur_mse_sixteen.csv\"\n",
    "rings_url = \"output/fur_rings_sixteen.csv\"\n",
    "df_fur_sixteen = winner_model_rings(mse_url, rings_url)\n",
    "winner_visual(df_fur_sixteen)"
   ]
  },
  {
   "cell_type": "code",
   "execution_count": null,
   "id": "da557c4d",
   "metadata": {
    "scrolled": true
   },
   "outputs": [],
   "source": [
    "mse_url = \"output/fur_mse_thirtytwo.csv\"\n",
    "rings_url = \"output/fur_rings_thirtytwo.csv\"\n",
    "df_fur_thirtytwo = winner_model_rings(mse_url, rings_url)\n",
    "winner_visual(df_fur_thirtytwo)"
   ]
  },
  {
   "cell_type": "code",
   "execution_count": null,
   "id": "eeee2a6c",
   "metadata": {
    "scrolled": false
   },
   "outputs": [],
   "source": [
    "#STOP"
   ]
  },
  {
   "cell_type": "code",
   "execution_count": null,
   "id": "5b58ed64",
   "metadata": {
    "scrolled": true
   },
   "outputs": [],
   "source": [
    "mse_url = \"output/tracy_mse_sixteen.csv\"\n",
    "rings_url = \"output/tracy_rings_sixteen.csv\"\n",
    "df_tracy_sixteen = winner_model_rings(mse_url, rings_url)\n",
    "winner_visual(df_tracy_sixteen)"
   ]
  },
  {
   "cell_type": "code",
   "execution_count": null,
   "id": "7862c642",
   "metadata": {
    "scrolled": true
   },
   "outputs": [],
   "source": [
    "mse_url = \"output/tracy_mse_thirtytwo.csv\"\n",
    "rings_url = \"output/tracy_rings_thirtytwo.csv\"\n",
    "df_tracy_thirtytwo = winner_model_rings(mse_url, rings_url)\n",
    "winner_visual(df_tracy_thirtytwo)"
   ]
  },
  {
   "cell_type": "code",
   "execution_count": null,
   "id": "80d693f9",
   "metadata": {
    "scrolled": false
   },
   "outputs": [],
   "source": [
    "#STOP"
   ]
  },
  {
   "cell_type": "code",
   "execution_count": null,
   "id": "0d3d653b",
   "metadata": {
    "scrolled": true
   },
   "outputs": [],
   "source": [
    "mse_url = \"output/data_mse_sixteen.csv\"\n",
    "rings_url = \"output/data_rings_sixteen.csv\"\n",
    "df_data_sixteen = winner_model_rings(mse_url, rings_url)\n",
    "winner_visual(df_data_sixteen)"
   ]
  },
  {
   "cell_type": "code",
   "execution_count": null,
   "id": "946ec785",
   "metadata": {
    "scrolled": true
   },
   "outputs": [],
   "source": [
    "mse_url = \"output/data_mse_thirtytwo.csv\"\n",
    "rings_url = \"output/data_rings_thirtytwo.csv\"\n",
    "df_data_thirtytwo = winner_model_rings(mse_url, rings_url)\n",
    "winner_visual(df_data_thirtytwo)"
   ]
  },
  {
   "cell_type": "code",
   "execution_count": null,
   "id": "ec5c0482",
   "metadata": {},
   "outputs": [],
   "source": [
    "#STOP"
   ]
  }
 ],
 "metadata": {
  "kernelspec": {
   "display_name": "Python 3 (ipykernel)",
   "language": "python",
   "name": "python3"
  },
  "language_info": {
   "codemirror_mode": {
    "name": "ipython",
    "version": 3
   },
   "file_extension": ".py",
   "mimetype": "text/x-python",
   "name": "python",
   "nbconvert_exporter": "python",
   "pygments_lexer": "ipython3",
   "version": "3.9.6"
  }
 },
 "nbformat": 4,
 "nbformat_minor": 5
}
