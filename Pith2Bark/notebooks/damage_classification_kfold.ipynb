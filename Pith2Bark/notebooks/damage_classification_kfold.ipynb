{
 "cells": [
  {
   "cell_type": "code",
   "execution_count": 1,
   "id": "0d4a89ca",
   "metadata": {},
   "outputs": [
    {
     "name": "stdout",
     "output_type": "stream",
     "text": [
      "/Users/muhammadfarooq/Codebase/thesis-experiment/Pith2Bark\n"
     ]
    }
   ],
   "source": [
    "cd .."
   ]
  },
  {
   "cell_type": "code",
   "execution_count": 2,
   "id": "b5db5d2c",
   "metadata": {},
   "outputs": [],
   "source": [
    "import os\n",
    "os.environ['TF_CPP_MIN_LOG_LEVEL'] = '3'\n",
    "import warnings\n",
    "warnings.filterwarnings(\"ignore\")\n",
    "\n",
    "import matplotlib.pyplot as plt\n",
    "\n",
    "from sklearn.model_selection import KFold\n",
    "from sklearn.model_selection import train_test_split\n",
    "\n",
    "from sklearn.linear_model import LogisticRegression\n",
    "from sklearn.naive_bayes import GaussianNB\n",
    "from sklearn.naive_bayes import MultinomialNB\n",
    "from sklearn.discriminant_analysis import LinearDiscriminantAnalysis\n",
    "from sklearn.neighbors import KNeighborsClassifier\n",
    "from sklearn.tree import DecisionTreeClassifier\n",
    "from sklearn.ensemble import RandomForestClassifier\n",
    "from sklearn.svm import SVC\n",
    "\n",
    "from sklearn.pipeline import Pipeline\n",
    "from sklearn.preprocessing import StandardScaler\n",
    "from sklearn.model_selection import cross_val_score\n",
    "from sklearn.model_selection import cross_validate\n",
    "\n",
    "from src.winner import winner_model_rings\n",
    "from src.damage import merge_df\n",
    "from src.damage import read_damage_min_max\n",
    "from src.damage import read_damage_mean"
   ]
  },
  {
   "cell_type": "markdown",
   "id": "a7e7fb87",
   "metadata": {},
   "source": [
    "# Damage Dataset"
   ]
  },
  {
   "cell_type": "code",
   "execution_count": 3,
   "id": "2b55092e",
   "metadata": {},
   "outputs": [
    {
     "name": "stdout",
     "output_type": "stream",
     "text": [
      "Polar Pith Canny(blur otsu) 12.829318845239923 (subseq)\n",
      "Polar Pith Canny(blur otsu) 12.88055458721076 (subseq)\n"
     ]
    }
   ],
   "source": [
    "mse_url = \"output/ringsranking_mse_sixteen.csv\"\n",
    "rings_url = \"output/ringsranking_rings_sixteen.csv\"\n",
    "df_ringsranking_sixteen = winner_model_rings(mse_url, rings_url)\n",
    "\n",
    "mse_url = \"output/ringsranking_mse_thirtytwo.csv\"\n",
    "rings_url = \"output/ringsranking_rings_thirtytwo.csv\"\n",
    "df_ringsranking_thirtytwo = winner_model_rings(mse_url, rings_url)"
   ]
  },
  {
   "cell_type": "code",
   "execution_count": 4,
   "id": "38c0dc02",
   "metadata": {},
   "outputs": [
    {
     "name": "stdout",
     "output_type": "stream",
     "text": [
      "Polar Pith Canny(blur triangle) 19.888455438324574 (peaks)\n",
      "Polar Pith Canny(blur triangle) 19.591747084408897 (peaks)\n"
     ]
    }
   ],
   "source": [
    "mse_url = \"output/pine_mse_sixteen.csv\"\n",
    "rings_url = \"output/pine_rings_sixteen.csv\"\n",
    "df_pine_sixteen = winner_model_rings(mse_url, rings_url)\n",
    "\n",
    "mse_url = \"output/pine_mse_thirtytwo.csv\"\n",
    "rings_url = \"output/pine_rings_thirtytwo.csv\"\n",
    "df_pine_thirtytwo = winner_model_rings(mse_url, rings_url)"
   ]
  },
  {
   "cell_type": "code",
   "execution_count": 5,
   "id": "5771f82d",
   "metadata": {},
   "outputs": [
    {
     "name": "stdout",
     "output_type": "stream",
     "text": [
      "Polar Pith Canny(blur triangle) 13.428984012468806 (peaks)\n",
      "Polar Pith Canny(blur triangle) 13.688767879960144 (peaks)\n"
     ]
    }
   ],
   "source": [
    "mse_url = \"output/fur_mse_sixteen.csv\"\n",
    "rings_url = \"output/fur_rings_sixteen.csv\"\n",
    "df_fur_sixteen = winner_model_rings(mse_url, rings_url)\n",
    "\n",
    "mse_url = \"output/fur_mse_thirtytwo.csv\"\n",
    "rings_url = \"output/fur_rings_thirtytwo.csv\"\n",
    "df_fur_thirtytwo = winner_model_rings(mse_url, rings_url)"
   ]
  },
  {
   "cell_type": "code",
   "execution_count": 6,
   "id": "1e4a04f6",
   "metadata": {},
   "outputs": [
    {
     "name": "stdout",
     "output_type": "stream",
     "text": [
      "Polar Canny(triangle) 39.683736416974455 (peaks)\n",
      "Polar Pith Canny(triangle) 39.48914666858598 (peaks)\n"
     ]
    }
   ],
   "source": [
    "mse_url = \"output/tracy_mse_sixteen.csv\"\n",
    "rings_url = \"output/tracy_rings_sixteen.csv\"\n",
    "df_tracy_sixteen = winner_model_rings(mse_url, rings_url)\n",
    "\n",
    "mse_url = \"output/tracy_mse_thirtytwo.csv\"\n",
    "rings_url = \"output/tracy_rings_thirtytwo.csv\"\n",
    "df_tracy_thirtytwo = winner_model_rings(mse_url, rings_url)"
   ]
  },
  {
   "cell_type": "code",
   "execution_count": 7,
   "id": "670d048c",
   "metadata": {},
   "outputs": [
    {
     "name": "stdout",
     "output_type": "stream",
     "text": [
      "Canny(triangle) 18.789996216404624 (subseq)\n",
      "Canny(triangle) 18.871624925897343 (subseq)\n"
     ]
    }
   ],
   "source": [
    "mse_url = \"output/data_mse_sixteen.csv\"\n",
    "rings_url = \"output/data_rings_sixteen.csv\"\n",
    "df_data_sixteen = winner_model_rings(mse_url, rings_url)\n",
    "\n",
    "mse_url = \"output/data_mse_thirtytwo.csv\"\n",
    "rings_url = \"output/data_rings_thirtytwo.csv\"\n",
    "df_data_thirtytwo = winner_model_rings(mse_url, rings_url)"
   ]
  },
  {
   "cell_type": "code",
   "execution_count": 8,
   "id": "c6635fcf",
   "metadata": {},
   "outputs": [],
   "source": [
    "#damage\n",
    "damage_sixteen_url = \"damage/damage_sixteen.csv\"\n",
    "damage_thirtytwo_url = \"damage/damage_thirtytwo.csv\"\n",
    "\n",
    "#merge\n",
    "df_merge_sixteen = merge_df(df_ringsranking_sixteen, df_pine_sixteen, df_fur_sixteen, df_tracy_sixteen, df_data_sixteen)\n",
    "df_merge_thirtytwo = merge_df(df_ringsranking_thirtytwo, df_pine_thirtytwo, df_fur_thirtytwo, df_tracy_thirtytwo, df_data_thirtytwo)\n",
    "\n",
    "df_damage_sixteen_min_max = read_damage_min_max(damage_sixteen_url, df_merge_sixteen)\n",
    "df_damage_thirtytwo_min_max = read_damage_min_max(damage_thirtytwo_url, df_merge_thirtytwo)\n",
    "\n",
    "df_damage_sixteen_mean = read_damage_mean(damage_sixteen_url, df_merge_sixteen)\n",
    "df_damage_thirtytwo_mean = read_damage_mean(damage_thirtytwo_url, df_merge_thirtytwo)"
   ]
  },
  {
   "cell_type": "code",
   "execution_count": 9,
   "id": "18616bc7",
   "metadata": {},
   "outputs": [],
   "source": [
    "#df_damage_sixteen_min_max"
   ]
  },
  {
   "cell_type": "code",
   "execution_count": 10,
   "id": "48be2ae6",
   "metadata": {},
   "outputs": [],
   "source": [
    "#df_damage_thirtytwo_min_max"
   ]
  },
  {
   "cell_type": "code",
   "execution_count": 11,
   "id": "c34946fb",
   "metadata": {},
   "outputs": [],
   "source": [
    "#df_damage_sixteen_mean"
   ]
  },
  {
   "cell_type": "code",
   "execution_count": 12,
   "id": "db669d5a",
   "metadata": {},
   "outputs": [],
   "source": [
    "#df_damage_thirtytwo_mean"
   ]
  },
  {
   "cell_type": "code",
   "execution_count": 13,
   "id": "76a0444c",
   "metadata": {},
   "outputs": [],
   "source": [
    "#STOP"
   ]
  },
  {
   "cell_type": "markdown",
   "id": "004cda3f",
   "metadata": {},
   "source": [
    "# Config"
   ]
  },
  {
   "cell_type": "code",
   "execution_count": 14,
   "id": "530a4b5a",
   "metadata": {},
   "outputs": [],
   "source": [
    "# Using 3-fold cross-validation\n",
    "kf = KFold(n_splits=3, shuffle=True, random_state=42)\n",
    "\n",
    "columns = ['image', 'algo']\n",
    "training_percent = 0.9\n",
    "\n",
    "# create pipeline\n",
    "LR_pipeline = Pipeline(steps=[('scaler', StandardScaler()), ('model', LogisticRegression())])\n",
    "GNB_pipeline = Pipeline(steps=[('scaler', StandardScaler()), ('model', GaussianNB())])\n",
    "MNB_pipeline = Pipeline(steps=[('model', MultinomialNB())])\n",
    "LDA_pipeline = Pipeline(steps=[('scaler', StandardScaler()), ('model', LinearDiscriminantAnalysis())])\n",
    "KNN_pipeline = Pipeline(steps=[('scaler', StandardScaler()), ('model', KNeighborsClassifier())])\n",
    "DTC_pipeline = Pipeline(steps=[('scaler', StandardScaler()), ('model', DecisionTreeClassifier())])\n",
    "RFC_pipeline = Pipeline(steps=[('scaler', StandardScaler()), ('model', RandomForestClassifier())])\n",
    "SVC_pipeline = Pipeline(steps=[('scaler', StandardScaler()), ('model', SVC())])"
   ]
  },
  {
   "cell_type": "code",
   "execution_count": 15,
   "id": "52271938",
   "metadata": {},
   "outputs": [],
   "source": [
    "accuracy_sixteen_min_max = []\n",
    "accuracy_thirtytwo_min_max = []\n",
    "accuracy_sixteen_mean = []\n",
    "accuracy_thirtytwo_mean = []"
   ]
  },
  {
   "cell_type": "code",
   "execution_count": 16,
   "id": "feacef63",
   "metadata": {},
   "outputs": [],
   "source": [
    "def evaluate_model(pipeline, _X, _y, _cv=kf):\n",
    "    _scoring = ['accuracy', 'precision', 'recall', 'f1']\n",
    "    \n",
    "    nmse_scores = cross_val_score(estimator=pipeline, X=_X, y=_y, scoring='neg_mean_squared_error', cv=_cv)\n",
    "    accuracy_scores = cross_val_score(estimator=pipeline, X=_X, y=_y, scoring='accuracy', cv=_cv)\n",
    "    cv_scores = cross_validate(estimator=pipeline, X=_X, y=_y, cv=_cv, return_estimator=True) #scoring=_scoring, return_estimator=True, return_train_score=True\n",
    "    cv_test_scores = cv_scores['test_score']\n",
    "    \n",
    "    #print(f'Scores for each fold are: {nmse_scores}')\n",
    "    #print(f'Average score: {\"{:.2f}\".format(nmse_scores.mean())}')\n",
    "\n",
    "    #print(f'Scores for each fold are: {accuracy_scores}')\n",
    "    #print(f'Average score: {\"{:.2f}\".format(accuracy_scores.mean())}')\n",
    "\n",
    "    #print(f'Scores for each fold are: {cv_test_scores}')\n",
    "    #print(f'Average score: {\"{:.2f}\".format(cv_test_scores.mean())}')\n",
    "    \n",
    "    return accuracy_scores.mean()"
   ]
  },
  {
   "cell_type": "code",
   "execution_count": 17,
   "id": "b5a6efd4",
   "metadata": {},
   "outputs": [],
   "source": [
    "def plot_accuracy(title, data):\n",
    "    models = list(data.keys())\n",
    "    performance = list(data.values())\n",
    "\n",
    "    fig = plt.figure(figsize = (14, 10))\n",
    "\n",
    "    plt.bar(models, performance, color ='maroon', width = 0.4)\n",
    "\n",
    "    plt.text(0, performance[0] + 0.01, performance[0], ha='center', fontsize=12)\n",
    "    plt.text(1, performance[1] + 0.01, performance[1], ha='center', fontsize=12)\n",
    "    plt.text(2, performance[2] + 0.01, performance[2], ha='center', fontsize=12)\n",
    "    plt.text(3, performance[3] + 0.01, performance[3], ha='center', fontsize=12)\n",
    "    plt.text(4, performance[4] + 0.01, performance[4], ha='center', fontsize=12)\n",
    "    plt.text(5, performance[5] + 0.01, performance[5], ha='center', fontsize=12)\n",
    "    plt.text(6, performance[6] + 0.01, performance[6], ha='center', fontsize=12)\n",
    "    plt.text(7, performance[6] + 0.01, performance[6], ha='center', fontsize=12)\n",
    "\n",
    "    plt.title(title)\n",
    "    plt.show()"
   ]
  },
  {
   "cell_type": "markdown",
   "id": "69ff93a3",
   "metadata": {},
   "source": [
    "# MinMax"
   ]
  },
  {
   "cell_type": "markdown",
   "id": "ce994281",
   "metadata": {},
   "source": [
    "## 16"
   ]
  },
  {
   "cell_type": "code",
   "execution_count": 18,
   "id": "a80253fb",
   "metadata": {},
   "outputs": [],
   "source": [
    "df = df_damage_sixteen_min_max\n",
    "X = df.drop(columns=columns)\n",
    "y = df[[\"Damage\"]]\n",
    "X_train, X_test, y_train, y_test = train_test_split(X, y, train_size=training_percent)"
   ]
  },
  {
   "cell_type": "code",
   "execution_count": 19,
   "id": "aac63166",
   "metadata": {},
   "outputs": [],
   "source": [
    "acc = evaluate_model(LR_pipeline, X_train, y_train)\n",
    "accuracy_sixteen_min_max.append(round(acc, 2))"
   ]
  },
  {
   "cell_type": "code",
   "execution_count": 20,
   "id": "c2f5dbd1",
   "metadata": {},
   "outputs": [],
   "source": [
    "acc = evaluate_model(GNB_pipeline, X_train, y_train)\n",
    "accuracy_sixteen_min_max.append(round(acc, 2))"
   ]
  },
  {
   "cell_type": "code",
   "execution_count": 21,
   "id": "14135b40",
   "metadata": {},
   "outputs": [],
   "source": [
    "acc = evaluate_model(MNB_pipeline, X_train, y_train)\n",
    "accuracy_sixteen_min_max.append(round(acc, 2))"
   ]
  },
  {
   "cell_type": "code",
   "execution_count": 22,
   "id": "54217290",
   "metadata": {},
   "outputs": [],
   "source": [
    "acc = evaluate_model(LDA_pipeline, X_train, y_train)\n",
    "accuracy_sixteen_min_max.append(round(acc, 2))"
   ]
  },
  {
   "cell_type": "code",
   "execution_count": 23,
   "id": "2977df1d",
   "metadata": {},
   "outputs": [],
   "source": [
    "acc = evaluate_model(KNN_pipeline, X_train, y_train)\n",
    "accuracy_sixteen_min_max.append(round(acc, 2))"
   ]
  },
  {
   "cell_type": "code",
   "execution_count": 24,
   "id": "5ca15227",
   "metadata": {},
   "outputs": [],
   "source": [
    "acc = evaluate_model(DTC_pipeline, X_train, y_train)\n",
    "accuracy_sixteen_min_max.append(round(acc, 2))"
   ]
  },
  {
   "cell_type": "code",
   "execution_count": 25,
   "id": "bc2684cb",
   "metadata": {},
   "outputs": [],
   "source": [
    "acc = evaluate_model(RFC_pipeline, X_train, y_train)\n",
    "accuracy_sixteen_min_max.append(round(acc, 2))"
   ]
  },
  {
   "cell_type": "code",
   "execution_count": 26,
   "id": "0ab1dda4",
   "metadata": {},
   "outputs": [],
   "source": [
    "acc = evaluate_model(SVC_pipeline, X_train, y_train)\n",
    "accuracy_sixteen_min_max.append(round(acc, 2))"
   ]
  },
  {
   "cell_type": "code",
   "execution_count": 27,
   "id": "0c1681ce",
   "metadata": {},
   "outputs": [],
   "source": [
    "#STOP"
   ]
  },
  {
   "cell_type": "markdown",
   "id": "15adc744",
   "metadata": {},
   "source": [
    "## 32"
   ]
  },
  {
   "cell_type": "code",
   "execution_count": 28,
   "id": "c664e40a",
   "metadata": {},
   "outputs": [],
   "source": [
    "df = df_damage_thirtytwo_min_max\n",
    "X = df.drop(columns=columns)\n",
    "y = df[[\"Damage\"]]\n",
    "X_train, X_test, y_train, y_test = train_test_split(X, y, train_size=training_percent)"
   ]
  },
  {
   "cell_type": "code",
   "execution_count": 29,
   "id": "aa09eff5",
   "metadata": {},
   "outputs": [],
   "source": [
    "acc = evaluate_model(LR_pipeline, X_train, y_train)\n",
    "accuracy_thirtytwo_min_max.append(round(acc, 2))"
   ]
  },
  {
   "cell_type": "code",
   "execution_count": 30,
   "id": "cf9ddb5c",
   "metadata": {},
   "outputs": [],
   "source": [
    "acc = evaluate_model(GNB_pipeline, X_train, y_train)\n",
    "accuracy_thirtytwo_min_max.append(round(acc, 2))"
   ]
  },
  {
   "cell_type": "code",
   "execution_count": 31,
   "id": "1dd90b3f",
   "metadata": {},
   "outputs": [],
   "source": [
    "acc = evaluate_model(MNB_pipeline, X_train, y_train)\n",
    "accuracy_thirtytwo_min_max.append(round(acc, 2))"
   ]
  },
  {
   "cell_type": "code",
   "execution_count": 32,
   "id": "fbde0ca0",
   "metadata": {},
   "outputs": [],
   "source": [
    "acc = evaluate_model(LDA_pipeline, X_train, y_train)\n",
    "accuracy_thirtytwo_min_max.append(round(acc, 2))"
   ]
  },
  {
   "cell_type": "code",
   "execution_count": 33,
   "id": "2f60eb0f",
   "metadata": {},
   "outputs": [],
   "source": [
    "acc = evaluate_model(KNN_pipeline, X_train, y_train)\n",
    "accuracy_thirtytwo_min_max.append(round(acc, 2))"
   ]
  },
  {
   "cell_type": "code",
   "execution_count": 34,
   "id": "077261f8",
   "metadata": {},
   "outputs": [],
   "source": [
    "acc = evaluate_model(DTC_pipeline, X_train, y_train)\n",
    "accuracy_thirtytwo_min_max.append(round(acc, 2))"
   ]
  },
  {
   "cell_type": "code",
   "execution_count": 35,
   "id": "c6d57bb0",
   "metadata": {},
   "outputs": [],
   "source": [
    "acc = evaluate_model(RFC_pipeline, X_train, y_train)\n",
    "accuracy_thirtytwo_min_max.append(round(acc, 2))"
   ]
  },
  {
   "cell_type": "code",
   "execution_count": 36,
   "id": "d8d68cac",
   "metadata": {},
   "outputs": [],
   "source": [
    "acc = evaluate_model(SVC_pipeline, X_train, y_train)\n",
    "accuracy_thirtytwo_min_max.append(round(acc, 2))"
   ]
  },
  {
   "cell_type": "code",
   "execution_count": 37,
   "id": "34aa5174",
   "metadata": {},
   "outputs": [],
   "source": [
    "#STOP"
   ]
  },
  {
   "cell_type": "markdown",
   "id": "a1b88ba4",
   "metadata": {},
   "source": [
    "# Mean"
   ]
  },
  {
   "cell_type": "markdown",
   "id": "3cf43752",
   "metadata": {},
   "source": [
    "## 16"
   ]
  },
  {
   "cell_type": "code",
   "execution_count": 38,
   "id": "e6274ff2",
   "metadata": {},
   "outputs": [],
   "source": [
    "df = df_damage_sixteen_mean\n",
    "X = df.drop(columns=columns)\n",
    "y = df[[\"Damage\"]]\n",
    "X_train, X_test, y_train, y_test = train_test_split(X, y, train_size=training_percent)"
   ]
  },
  {
   "cell_type": "code",
   "execution_count": 39,
   "id": "e298a045",
   "metadata": {},
   "outputs": [],
   "source": [
    "acc = evaluate_model(LR_pipeline, X_train, y_train)\n",
    "accuracy_sixteen_mean.append(round(acc, 2))"
   ]
  },
  {
   "cell_type": "code",
   "execution_count": 40,
   "id": "727b1ff1",
   "metadata": {},
   "outputs": [],
   "source": [
    "acc = evaluate_model(GNB_pipeline, X_train, y_train)\n",
    "accuracy_sixteen_mean.append(round(acc, 2))"
   ]
  },
  {
   "cell_type": "code",
   "execution_count": 41,
   "id": "d157acac",
   "metadata": {},
   "outputs": [],
   "source": [
    "acc = evaluate_model(MNB_pipeline, X_train, y_train)\n",
    "accuracy_sixteen_mean.append(round(acc, 2))"
   ]
  },
  {
   "cell_type": "code",
   "execution_count": 42,
   "id": "8ed9b6c3",
   "metadata": {},
   "outputs": [],
   "source": [
    "acc = evaluate_model(LDA_pipeline, X_train, y_train)\n",
    "accuracy_sixteen_mean.append(round(acc, 2))"
   ]
  },
  {
   "cell_type": "code",
   "execution_count": 43,
   "id": "c2695390",
   "metadata": {},
   "outputs": [],
   "source": [
    "acc = evaluate_model(KNN_pipeline, X_train, y_train)\n",
    "accuracy_sixteen_mean.append(round(acc, 2))"
   ]
  },
  {
   "cell_type": "code",
   "execution_count": 44,
   "id": "94995c89",
   "metadata": {},
   "outputs": [],
   "source": [
    "acc = evaluate_model(DTC_pipeline, X_train, y_train)\n",
    "accuracy_sixteen_mean.append(round(acc, 2))"
   ]
  },
  {
   "cell_type": "code",
   "execution_count": 45,
   "id": "831969cc",
   "metadata": {},
   "outputs": [],
   "source": [
    "acc = evaluate_model(RFC_pipeline, X_train, y_train)\n",
    "accuracy_sixteen_mean.append(round(acc, 2))"
   ]
  },
  {
   "cell_type": "code",
   "execution_count": 46,
   "id": "e19225a5",
   "metadata": {},
   "outputs": [],
   "source": [
    "acc = evaluate_model(SVC_pipeline, X_train, y_train)\n",
    "accuracy_sixteen_mean.append(round(acc, 2))"
   ]
  },
  {
   "cell_type": "code",
   "execution_count": 47,
   "id": "d1b42034",
   "metadata": {},
   "outputs": [],
   "source": [
    "#STOP"
   ]
  },
  {
   "cell_type": "markdown",
   "id": "f64f9fa2",
   "metadata": {},
   "source": [
    "## 32"
   ]
  },
  {
   "cell_type": "code",
   "execution_count": 48,
   "id": "0dfb4fed",
   "metadata": {},
   "outputs": [],
   "source": [
    "df = df_damage_thirtytwo_mean\n",
    "X = df.drop(columns=columns)\n",
    "y = df[[\"Damage\"]]\n",
    "X_train, X_test, y_train, y_test = train_test_split(X, y, train_size=training_percent)"
   ]
  },
  {
   "cell_type": "code",
   "execution_count": 49,
   "id": "2ef4287f",
   "metadata": {},
   "outputs": [],
   "source": [
    "acc = evaluate_model(LR_pipeline, X_train, y_train)\n",
    "accuracy_thirtytwo_mean.append(round(acc, 2))"
   ]
  },
  {
   "cell_type": "code",
   "execution_count": 50,
   "id": "68bc73f0",
   "metadata": {},
   "outputs": [],
   "source": [
    "acc = evaluate_model(GNB_pipeline, X_train, y_train)\n",
    "accuracy_thirtytwo_mean.append(round(acc, 2))"
   ]
  },
  {
   "cell_type": "code",
   "execution_count": 51,
   "id": "5746d7b9",
   "metadata": {},
   "outputs": [],
   "source": [
    "acc = evaluate_model(MNB_pipeline, X_train, y_train)\n",
    "accuracy_thirtytwo_mean.append(round(acc, 2))"
   ]
  },
  {
   "cell_type": "code",
   "execution_count": 52,
   "id": "ab8d662c",
   "metadata": {},
   "outputs": [],
   "source": [
    "acc = evaluate_model(LDA_pipeline, X_train, y_train)\n",
    "accuracy_thirtytwo_mean.append(round(acc, 2))"
   ]
  },
  {
   "cell_type": "code",
   "execution_count": 53,
   "id": "7eb62ab1",
   "metadata": {},
   "outputs": [],
   "source": [
    "acc = evaluate_model(KNN_pipeline, X_train, y_train)\n",
    "accuracy_thirtytwo_mean.append(round(acc, 2))"
   ]
  },
  {
   "cell_type": "code",
   "execution_count": 54,
   "id": "097334e3",
   "metadata": {},
   "outputs": [],
   "source": [
    "acc = evaluate_model(DTC_pipeline, X_train, y_train)\n",
    "accuracy_thirtytwo_mean.append(round(acc, 2))"
   ]
  },
  {
   "cell_type": "code",
   "execution_count": 55,
   "id": "d25be8f6",
   "metadata": {},
   "outputs": [],
   "source": [
    "acc = evaluate_model(RFC_pipeline, X_train, y_train)\n",
    "accuracy_thirtytwo_mean.append(round(acc, 2))"
   ]
  },
  {
   "cell_type": "code",
   "execution_count": 56,
   "id": "6536e0bd",
   "metadata": {},
   "outputs": [],
   "source": [
    "acc = evaluate_model(SVC_pipeline, X_train, y_train)\n",
    "accuracy_thirtytwo_mean.append(round(acc, 2))"
   ]
  },
  {
   "cell_type": "code",
   "execution_count": 57,
   "id": "463d0935",
   "metadata": {},
   "outputs": [],
   "source": [
    "#STOP"
   ]
  },
  {
   "cell_type": "markdown",
   "id": "eb6c5295",
   "metadata": {},
   "source": [
    "# Performance"
   ]
  },
  {
   "cell_type": "code",
   "execution_count": 58,
   "id": "571a48d7",
   "metadata": {},
   "outputs": [
    {
     "data": {
      "image/png": "[encoded data removed]",
      "text/plain": [
       "<Figure size 1400x1000 with 1 Axes>"
      ]
     },
     "metadata": {},
     "output_type": "display_data"
    }
   ],
   "source": [
    "data = {'LogisticRegression':accuracy_sixteen_min_max[0], 'GaussianNB':accuracy_sixteen_min_max[1],\n",
    "        'MultinomialNB':accuracy_sixteen_min_max[2], 'LDA':accuracy_sixteen_min_max[3],\n",
    "        'KNN':accuracy_sixteen_min_max[4], 'DTC':accuracy_sixteen_min_max[5], 'RFC':accuracy_sixteen_min_max[6],\n",
    "       'SVC':accuracy_sixteen_min_max[7]}\n",
    "\n",
    "plot_accuracy(\"Damage Classification (Min/Max 16 Lines)\", data)"
   ]
  },
  {
   "cell_type": "code",
   "execution_count": 59,
   "id": "ca47c8cd",
   "metadata": {},
   "outputs": [
    {
     "data": {
      "image/png": "[encoded data removed]",
      "text/plain": [
       "<Figure size 1400x1000 with 1 Axes>"
      ]
     },
     "metadata": {},
     "output_type": "display_data"
    }
   ],
   "source": [
    "data = {'LogisticRegression':accuracy_thirtytwo_min_max[0], 'GaussianNB':accuracy_thirtytwo_min_max[1],\n",
    "        'MultinomialNB':accuracy_thirtytwo_min_max[2], 'LDA':accuracy_thirtytwo_min_max[3],\n",
    "        'KNN':accuracy_thirtytwo_min_max[4], 'DTC':accuracy_thirtytwo_min_max[5], 'RFC':accuracy_thirtytwo_min_max[6],\n",
    "       'SVC':accuracy_thirtytwo_min_max[7]}\n",
    "\n",
    "plot_accuracy(\"Damage Classification (Min/Max 32 Lines)\", data)"
   ]
  },
  {
   "cell_type": "code",
   "execution_count": 60,
   "id": "9283661f",
   "metadata": {},
   "outputs": [
    {
     "data": {
      "image/png": "[encoded data removed]",
      "text/plain": [
       "<Figure size 1400x1000 with 1 Axes>"
      ]
     },
     "metadata": {},
     "output_type": "display_data"
    }
   ],
   "source": [
    "data = {'LogisticRegression':accuracy_sixteen_mean[0], 'GaussianNB':accuracy_sixteen_mean[1],\n",
    "        'MultinomialNB':accuracy_sixteen_mean[2], 'LDA':accuracy_sixteen_mean[3],\n",
    "        'KNN':accuracy_sixteen_mean[4], 'DTC':accuracy_sixteen_mean[5], 'RFC':accuracy_sixteen_mean[6],\n",
    "        'SVC':accuracy_sixteen_mean[7]}\n",
    "\n",
    "plot_accuracy(\"Damage Classification (Mean 16 Lines)\", data)"
   ]
  },
  {
   "cell_type": "code",
   "execution_count": 61,
   "id": "42146771",
   "metadata": {},
   "outputs": [
    {
     "data": {
      "image/png": "[encoded data removed]",
      "text/plain": [
       "<Figure size 1400x1000 with 1 Axes>"
      ]
     },
     "metadata": {},
     "output_type": "display_data"
    }
   ],
   "source": [
    "data = {'LogisticRegression':accuracy_thirtytwo_mean[0], 'GaussianNB':accuracy_thirtytwo_mean[1],\n",
    "        'MultinomialNB':accuracy_thirtytwo_mean[2], 'LDA':accuracy_thirtytwo_mean[3],\n",
    "        'KNN':accuracy_thirtytwo_mean[4], 'DTC':accuracy_thirtytwo_mean[5], 'RFC':accuracy_thirtytwo_mean[6],\n",
    "        'SVC':accuracy_thirtytwo_mean[7]}\n",
    "\n",
    "plot_accuracy(\"Damage Classification (Mean 32 Lines)\", data)"
   ]
  },
  {
   "cell_type": "code",
   "execution_count": 62,
   "id": "d5e40d9f",
   "metadata": {},
   "outputs": [],
   "source": [
    "#STOP"
   ]
  }
 ],
 "metadata": {
  "kernelspec": {
   "display_name": "Python 3 (ipykernel)",
   "language": "python",
   "name": "python3"
  },
  "language_info": {
   "codemirror_mode": {
    "name": "ipython",
    "version": 3
   },
   "file_extension": ".py",
   "mimetype": "text/x-python",
   "name": "python",
   "nbconvert_exporter": "python",
   "pygments_lexer": "ipython3",
   "version": "3.9.6"
  }
 },
 "nbformat": 4,
 "nbformat_minor": 5
}
