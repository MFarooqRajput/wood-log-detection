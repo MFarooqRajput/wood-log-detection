{
 "cells": [
  {
   "cell_type": "code",
   "execution_count": null,
   "id": "0ecd848a",
   "metadata": {
    "scrolled": false
   },
   "outputs": [],
   "source": [
    "cd .."
   ]
  },
  {
   "cell_type": "code",
   "execution_count": null,
   "id": "cdc7fc3b",
   "metadata": {
    "scrolled": false
   },
   "outputs": [],
   "source": [
    "from src.model import Model\n",
    "\n",
    "from src.pith_contours import prepare_data\n",
    "from src.pith_contours import images_with_pith\n",
    "from src.pith_contours import gray_polar_pith_images\n",
    "from src.pith_contours import contours_with_points"
   ]
  },
  {
   "cell_type": "markdown",
   "id": "43b97972",
   "metadata": {},
   "source": [
    "# RingsRanking"
   ]
  },
  {
   "cell_type": "code",
   "execution_count": null,
   "id": "c334b254",
   "metadata": {
    "scrolled": false
   },
   "outputs": [],
   "source": [
    "#data directory here!\n",
    "data_dir = \"dataset/ringsranking\"\n",
    "\n",
    "#ranking file\n",
    "ranking_url = \"dataset/ringsranking.xlsx\"\n",
    "\n",
    "#pickle file\n",
    "pickle_url = \"pith/ringsranking.pickle\"\n",
    "\n",
    "no_of_lines=32"
   ]
  },
  {
   "cell_type": "code",
   "execution_count": null,
   "id": "9858a0b2",
   "metadata": {
    "scrolled": false
   },
   "outputs": [],
   "source": [
    "images, grayscale_images, predictions = prepare_data(Model.GRAYSCALE, data_dir, ranking_url, pickle_url)"
   ]
  },
  {
   "cell_type": "code",
   "execution_count": null,
   "id": "35cedeaa",
   "metadata": {
    "scrolled": true
   },
   "outputs": [],
   "source": [
    "images_with_pith(images, predictions)"
   ]
  },
  {
   "cell_type": "code",
   "execution_count": null,
   "id": "d27263fd",
   "metadata": {
    "scrolled": true
   },
   "outputs": [],
   "source": [
    "gray_polar_pith_images(grayscale_images, predictions)"
   ]
  },
  {
   "cell_type": "code",
   "execution_count": null,
   "id": "7834d994",
   "metadata": {
    "scrolled": true
   },
   "outputs": [],
   "source": [
    "contours_with_points(Model.POLAR, grayscale_images, predictions)"
   ]
  },
  {
   "cell_type": "code",
   "execution_count": null,
   "id": "8982f76c",
   "metadata": {
    "scrolled": true
   },
   "outputs": [],
   "source": [
    "contours_with_points(Model.POLAR_PITH, grayscale_images, predictions)"
   ]
  },
  {
   "cell_type": "code",
   "execution_count": null,
   "id": "87b99c83",
   "metadata": {
    "scrolled": true
   },
   "outputs": [],
   "source": [
    "contours_with_points(Model.GRAYSCALE, grayscale_images, predictions)"
   ]
  },
  {
   "cell_type": "code",
   "execution_count": null,
   "id": "778fa0a1",
   "metadata": {
    "scrolled": false
   },
   "outputs": [],
   "source": [
    "#STOP"
   ]
  },
  {
   "cell_type": "markdown",
   "id": "adc352d9",
   "metadata": {},
   "source": [
    "# PINE"
   ]
  },
  {
   "cell_type": "code",
   "execution_count": null,
   "id": "58ff92e7",
   "metadata": {
    "scrolled": false
   },
   "outputs": [],
   "source": [
    "#data directory here!\n",
    "data_dir = \"dataset/pine\"\n",
    "\n",
    "#ranking file\n",
    "ranking_url = \"dataset/pine.xlsx\"\n",
    "\n",
    "#pickle file\n",
    "pickle_url = \"pith/pine.pickle\"\n",
    "\n",
    "#no_of_lines=32"
   ]
  },
  {
   "cell_type": "code",
   "execution_count": null,
   "id": "843534f4",
   "metadata": {
    "scrolled": false
   },
   "outputs": [],
   "source": [
    "images, grayscale_images, predictions = prepare_data(Model.GRAYSCALE, data_dir, ranking_url, pickle_url)"
   ]
  },
  {
   "cell_type": "code",
   "execution_count": null,
   "id": "abc84134",
   "metadata": {
    "scrolled": true
   },
   "outputs": [],
   "source": [
    "images_with_pith(images, predictions)"
   ]
  },
  {
   "cell_type": "code",
   "execution_count": null,
   "id": "ce2c67c4",
   "metadata": {
    "scrolled": true
   },
   "outputs": [],
   "source": [
    "gray_polar_pith_images(grayscale_images, predictions)"
   ]
  },
  {
   "cell_type": "code",
   "execution_count": null,
   "id": "5c06d465",
   "metadata": {
    "scrolled": true
   },
   "outputs": [],
   "source": [
    "contours_with_points(Model.POLAR, grayscale_images, predictions)"
   ]
  },
  {
   "cell_type": "code",
   "execution_count": null,
   "id": "344f8b95",
   "metadata": {
    "scrolled": true
   },
   "outputs": [],
   "source": [
    "contours_with_points(Model.POLAR_PITH, grayscale_images, predictions)"
   ]
  },
  {
   "cell_type": "code",
   "execution_count": null,
   "id": "92d17e9d",
   "metadata": {
    "scrolled": true
   },
   "outputs": [],
   "source": [
    "contours_with_points(Model.GRAYSCALE, grayscale_images, predictions)"
   ]
  },
  {
   "cell_type": "code",
   "execution_count": null,
   "id": "d7f47ce8",
   "metadata": {
    "scrolled": false
   },
   "outputs": [],
   "source": [
    "#STOP"
   ]
  },
  {
   "cell_type": "markdown",
   "id": "3939319d",
   "metadata": {},
   "source": [
    "# FUR"
   ]
  },
  {
   "cell_type": "code",
   "execution_count": null,
   "id": "7070214e",
   "metadata": {
    "scrolled": false
   },
   "outputs": [],
   "source": [
    "#data directory here!\n",
    "data_dir = \"dataset/fur\"\n",
    "\n",
    "#ranking file\n",
    "ranking_url = \"dataset/fur.xlsx\"\n",
    "\n",
    "#pickle file\n",
    "pickle_url = \"pith/fur.pickle\"\n",
    "\n",
    "#no_of_lines=32"
   ]
  },
  {
   "cell_type": "code",
   "execution_count": null,
   "id": "865b4bda",
   "metadata": {
    "scrolled": false
   },
   "outputs": [],
   "source": [
    "images, grayscale_images, predictions = prepare_data(Model.GRAYSCALE, data_dir, ranking_url, pickle_url)"
   ]
  },
  {
   "cell_type": "code",
   "execution_count": null,
   "id": "80338270",
   "metadata": {
    "scrolled": true
   },
   "outputs": [],
   "source": [
    "images_with_pith(images, predictions)"
   ]
  },
  {
   "cell_type": "code",
   "execution_count": null,
   "id": "28774ed6",
   "metadata": {
    "scrolled": true
   },
   "outputs": [],
   "source": [
    "gray_polar_pith_images(grayscale_images, predictions)"
   ]
  },
  {
   "cell_type": "code",
   "execution_count": null,
   "id": "f53015ec",
   "metadata": {
    "scrolled": true
   },
   "outputs": [],
   "source": [
    "contours_with_points(Model.POLAR, grayscale_images, predictions)"
   ]
  },
  {
   "cell_type": "code",
   "execution_count": null,
   "id": "37fa5d67",
   "metadata": {
    "scrolled": true
   },
   "outputs": [],
   "source": [
    "contours_with_points(Model.POLAR_PITH, grayscale_images, predictions)"
   ]
  },
  {
   "cell_type": "code",
   "execution_count": null,
   "id": "f85ceb23",
   "metadata": {
    "scrolled": true
   },
   "outputs": [],
   "source": [
    "contours_with_points(Model.GRAYSCALE, grayscale_images, predictions)"
   ]
  },
  {
   "cell_type": "code",
   "execution_count": null,
   "id": "e62a6729",
   "metadata": {
    "scrolled": false
   },
   "outputs": [],
   "source": [
    "#STOP"
   ]
  },
  {
   "cell_type": "markdown",
   "id": "9b76da87",
   "metadata": {},
   "source": [
    "# TRACY"
   ]
  },
  {
   "cell_type": "code",
   "execution_count": null,
   "id": "cd864a18",
   "metadata": {
    "scrolled": false
   },
   "outputs": [],
   "source": [
    "#data directory here!\n",
    "data_dir = \"dataset/tracy\"\n",
    "\n",
    "#ranking file\n",
    "ranking_url = \"dataset/tracy.xlsx\"\n",
    "\n",
    "#pickle file\n",
    "pickle_url = \"pith/tracy.pickle\"\n",
    "\n",
    "#no_of_lines=32"
   ]
  },
  {
   "cell_type": "code",
   "execution_count": null,
   "id": "6a5b32cf",
   "metadata": {
    "scrolled": false
   },
   "outputs": [],
   "source": [
    "images, grayscale_images, predictions = prepare_data(Model.GRAYSCALE, data_dir, ranking_url, pickle_url)"
   ]
  },
  {
   "cell_type": "code",
   "execution_count": null,
   "id": "983948db",
   "metadata": {
    "scrolled": true
   },
   "outputs": [],
   "source": [
    "images_with_pith(images, predictions)"
   ]
  },
  {
   "cell_type": "code",
   "execution_count": null,
   "id": "3afcfd11",
   "metadata": {
    "scrolled": true
   },
   "outputs": [],
   "source": [
    "gray_polar_pith_images(grayscale_images, predictions)"
   ]
  },
  {
   "cell_type": "code",
   "execution_count": null,
   "id": "02835f3a",
   "metadata": {
    "scrolled": true
   },
   "outputs": [],
   "source": [
    "contours_with_points(Model.POLAR, grayscale_images, predictions)"
   ]
  },
  {
   "cell_type": "code",
   "execution_count": null,
   "id": "633935fb",
   "metadata": {
    "scrolled": true
   },
   "outputs": [],
   "source": [
    "contours_with_points(Model.POLAR_PITH, grayscale_images, predictions)"
   ]
  },
  {
   "cell_type": "code",
   "execution_count": null,
   "id": "3151a9e8",
   "metadata": {
    "scrolled": true
   },
   "outputs": [],
   "source": [
    "contours_with_points(Model.GRAYSCALE, grayscale_images, predictions)"
   ]
  },
  {
   "cell_type": "code",
   "execution_count": null,
   "id": "6878ad1f",
   "metadata": {
    "scrolled": false
   },
   "outputs": [],
   "source": [
    "#STOP"
   ]
  },
  {
   "cell_type": "markdown",
   "id": "07056891",
   "metadata": {},
   "source": [
    "# DATA"
   ]
  },
  {
   "cell_type": "code",
   "execution_count": null,
   "id": "b09dfc29",
   "metadata": {
    "scrolled": false
   },
   "outputs": [],
   "source": [
    "#data directory here!\n",
    "data_dir = \"dataset/data\"\n",
    "\n",
    "#ranking file\n",
    "ranking_url = \"dataset/data.xlsx\"\n",
    "\n",
    "#pickle file\n",
    "pickle_url = \"pith/data.pickle\"\n",
    "\n",
    "#no_of_lines=32"
   ]
  },
  {
   "cell_type": "code",
   "execution_count": null,
   "id": "d6f2d326",
   "metadata": {},
   "outputs": [],
   "source": [
    "images, grayscale_images, predictions = prepare_data(Model.GRAYSCALE, data_dir, ranking_url, pickle_url)"
   ]
  },
  {
   "cell_type": "code",
   "execution_count": null,
   "id": "69e2c316",
   "metadata": {},
   "outputs": [],
   "source": [
    "images_with_pith(images, predictions)"
   ]
  },
  {
   "cell_type": "code",
   "execution_count": null,
   "id": "2725508d",
   "metadata": {},
   "outputs": [],
   "source": [
    "gray_polar_pith_images(grayscale_images, predictions)"
   ]
  },
  {
   "cell_type": "code",
   "execution_count": null,
   "id": "a966d1db",
   "metadata": {},
   "outputs": [],
   "source": [
    "contours_with_points(Model.POLAR, grayscale_images, predictions)"
   ]
  },
  {
   "cell_type": "code",
   "execution_count": null,
   "id": "47eb47a0",
   "metadata": {},
   "outputs": [],
   "source": [
    "contours_with_points(Model.POLAR_PITH, grayscale_images, predictions)"
   ]
  },
  {
   "cell_type": "code",
   "execution_count": null,
   "id": "d612f39a",
   "metadata": {},
   "outputs": [],
   "source": [
    "contours_with_points(Model.GRAYSCALE, grayscale_images, predictions)"
   ]
  },
  {
   "cell_type": "code",
   "execution_count": null,
   "id": "67316503",
   "metadata": {
    "scrolled": false
   },
   "outputs": [],
   "source": [
    "#STOP"
   ]
  }
 ],
 "metadata": {
  "kernelspec": {
   "display_name": "Python 3 (ipykernel)",
   "language": "python",
   "name": "python3"
  },
  "language_info": {
   "codemirror_mode": {
    "name": "ipython",
    "version": 3
   },
   "file_extension": ".py",
   "mimetype": "text/x-python",
   "name": "python",
   "nbconvert_exporter": "python",
   "pygments_lexer": "ipython3",
   "version": "3.9.6"
  }
 },
 "nbformat": 4,
 "nbformat_minor": 5
}
