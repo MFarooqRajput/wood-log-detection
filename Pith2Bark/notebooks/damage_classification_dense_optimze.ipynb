{
 "cells": [
  {
   "cell_type": "code",
   "execution_count": null,
   "id": "adf08eb4",
   "metadata": {},
   "outputs": [],
   "source": [
    "cd .."
   ]
  },
  {
   "cell_type": "code",
   "execution_count": null,
   "id": "7218123d",
   "metadata": {},
   "outputs": [],
   "source": [
    "import os\n",
    "os.environ['TF_CPP_MIN_LOG_LEVEL'] = '3'\n",
    "import warnings\n",
    "warnings.filterwarnings(\"ignore\")\n",
    "\n",
    "import numpy as np\n",
    "import matplotlib.pyplot as plt\n",
    "import seaborn as sns\n",
    "import scikitplot as skplt\n",
    "\n",
    "import tensorflow as tf\n",
    "\n",
    "from keras.models import Sequential\n",
    "from keras.layers import Dense, Dropout\n",
    "\n",
    "from sklearn.model_selection import KFold\n",
    "from sklearn.model_selection import train_test_split\n",
    "from sklearn.preprocessing import StandardScaler\n",
    "\n",
    "from sklearn.metrics import accuracy_score\n",
    "from sklearn.metrics import balanced_accuracy_score\n",
    "from sklearn.metrics import roc_auc_score\n",
    "from sklearn.metrics import precision_score\n",
    "from sklearn.metrics import recall_score\n",
    "from sklearn.metrics import f1_score\n",
    "from sklearn.metrics import confusion_matrix\n",
    "from sklearn.metrics import classification_report\n",
    "\n",
    "from src.cv_winner import winner_model_rings\n",
    "from src.damage import merge_df\n",
    "from src.damage import read_damage_min_max\n",
    "from src.damage import read_damage_mean"
   ]
  },
  {
   "cell_type": "markdown",
   "id": "f997a936",
   "metadata": {},
   "source": [
    "# Damage Dataset"
   ]
  },
  {
   "cell_type": "code",
   "execution_count": null,
   "id": "fe5a18bd",
   "metadata": {},
   "outputs": [],
   "source": [
    "rmse_url = \"cv_output/ringsranking_rmse.csv\"\n",
    "rings_url = \"cv_output/ringsranking_rings.csv\"\n",
    "df_ringsranking = winner_model_rings(rmse_url, rings_url)"
   ]
  },
  {
   "cell_type": "code",
   "execution_count": null,
   "id": "4cc20eef",
   "metadata": {},
   "outputs": [],
   "source": [
    "rmse_url = \"cv_output/pine_rmse.csv\"\n",
    "rings_url = \"cv_output/pine_rings.csv\"\n",
    "df_pine = winner_model_rings(rmse_url, rings_url)"
   ]
  },
  {
   "cell_type": "code",
   "execution_count": null,
   "id": "a43a2fd5",
   "metadata": {},
   "outputs": [],
   "source": [
    "rmse_url = \"cv_output/fur_rmse.csv\"\n",
    "rings_url = \"cv_output/fur_rings.csv\"\n",
    "df_fur = winner_model_rings(rmse_url, rings_url)"
   ]
  },
  {
   "cell_type": "code",
   "execution_count": null,
   "id": "952163f8",
   "metadata": {},
   "outputs": [],
   "source": [
    "rmse_url = \"cv_output/tracy_rmse.csv\"\n",
    "rings_url = \"cv_output/tracy_rings.csv\"\n",
    "df_tracy = winner_model_rings(rmse_url, rings_url)"
   ]
  },
  {
   "cell_type": "code",
   "execution_count": null,
   "id": "dc59f33c",
   "metadata": {},
   "outputs": [],
   "source": [
    "rmse_url = \"cv_output/data_rmse.csv\"\n",
    "rings_url = \"cv_output/data_rings.csv\"\n",
    "df_data = winner_model_rings(rmse_url, rings_url)"
   ]
  },
  {
   "cell_type": "code",
   "execution_count": null,
   "id": "7f0fa2ef",
   "metadata": {},
   "outputs": [],
   "source": [
    "#damage\n",
    "damage_url = \"damage_dataset/damage.csv\"\n",
    "\n",
    "#merge\n",
    "df_merge = merge_df(df_ringsranking, df_pine, df_fur, df_tracy, df_data)\n",
    "\n",
    "df_damage_min_max = read_damage_min_max(damage_url, df_merge)\n",
    "\n",
    "df_damage_mean = read_damage_mean(damage_url, df_merge)"
   ]
  },
  {
   "cell_type": "code",
   "execution_count": null,
   "id": "4a89d4fb",
   "metadata": {},
   "outputs": [],
   "source": [
    "#STOP"
   ]
  },
  {
   "cell_type": "markdown",
   "id": "eb6a167a",
   "metadata": {},
   "source": [
    "# Config"
   ]
  },
  {
   "cell_type": "code",
   "execution_count": null,
   "id": "abbdd2ae",
   "metadata": {},
   "outputs": [],
   "source": [
    "training_percent = 0.9\n",
    "\n",
    "epochs, batch_size = 50, 32\n",
    "kf = KFold(n_splits=3, shuffle=True, random_state=42)\n",
    "\n",
    "# mode = max for monitro val_accuracy and val_prc\n",
    "early_stopping = tf.keras.callbacks.EarlyStopping(\n",
    "    monitor='val_loss', \n",
    "    patience=10,\n",
    "    restore_best_weights=True)\n",
    "\n",
    "METRICS = [\n",
    "    tf.keras.metrics.TruePositives(name='tp'),\n",
    "    tf.keras.metrics.FalsePositives(name='fp'),\n",
    "    tf.keras.metrics.TrueNegatives(name='tn'),\n",
    "    tf.keras.metrics.FalseNegatives(name='fn'), \n",
    "    tf.keras.metrics.BinaryAccuracy(name='accuracy'),\n",
    "    tf.keras.metrics.Precision(name='precision'),\n",
    "    tf.keras.metrics.Recall(name='recall'),\n",
    "    tf.keras.metrics.AUC(name='auc'),\n",
    "    tf.keras.metrics.AUC(name='prc', curve='PR'), # precision-recall curve\n",
    "]\n",
    "\n",
    "#columns to drop\n",
    "columns = ['image', 'algo']"
   ]
  },
  {
   "cell_type": "code",
   "execution_count": null,
   "id": "df4dc48a",
   "metadata": {},
   "outputs": [],
   "source": [
    "def heat_map_normalized(y_true, y_pred):\n",
    "    \n",
    "    class_names = ['Not Damage', 'Damaged']\n",
    "    \n",
    "    skplt.metrics.plot_confusion_matrix(y_true, y_pred,\n",
    "                                        figsize=(4,3),\n",
    "                                        normalize=True)\n",
    "    \n",
    "    # Customize axis tick labels\n",
    "    plt.xticks([0,1], class_names)\n",
    "    plt.yticks([0,1], class_names)\n",
    "    \n",
    "    plt.yticks(rotation=90)\n",
    "    \n",
    "    plt.xlabel('Predicted labels')\n",
    "    plt.ylabel('True labels')\n",
    "    plt.show()"
   ]
  },
  {
   "cell_type": "code",
   "execution_count": null,
   "id": "7023cc50",
   "metadata": {},
   "outputs": [],
   "source": [
    "def heat_map(_cm):\n",
    "    # plot confusion matrix as heatmap\n",
    "    labels = ['Not Damage', 'Damaged']\n",
    "    \n",
    "    # Set up the matplotlib figure\n",
    "    plt.figure(figsize=(4, 3))\n",
    "    \n",
    "    # Generate a custom diverging colormap\n",
    "    cmap = sns.diverging_palette(230, 20, as_cmap=True)\n",
    "    \n",
    "    sns.heatmap(_cm, annot=True, cmap=cmap, xticklabels=labels, yticklabels=labels)\n",
    "    plt.xlabel('Predicted labels')\n",
    "    plt.ylabel('True labels')\n",
    "    plt.show()"
   ]
  },
  {
   "cell_type": "code",
   "execution_count": null,
   "id": "5c55c86f",
   "metadata": {},
   "outputs": [],
   "source": [
    "units = [32, 64, 128, 256]\n",
    "activations = ['relu', 'tanh', 'sigmoid']\n",
    "kernel_size = [3, 5]\n",
    "learning_rate = [0.001, 0.0001, 0.00001]\n",
    "optimizer = ['Adam', 'RMSprop', 'Nadam']\n",
    "dropout = [0.1, 0.2, 0.3]"
   ]
  },
  {
   "cell_type": "markdown",
   "id": "e16663a1",
   "metadata": {},
   "source": [
    "# Model"
   ]
  },
  {
   "cell_type": "code",
   "execution_count": null,
   "id": "e7a10910",
   "metadata": {},
   "outputs": [],
   "source": [
    "class Baseline():\n",
    "    def __init__(self, _input_dim, unit, activation, kernel_size, learning_rate, optimizer, dropout, metrics=METRICS):\n",
    "        # Define the model architecture\n",
    "        model = Sequential()\n",
    "        \n",
    "        # hidden layer\n",
    "        model.add(Dense(unit, activation=activation, input_dim=_input_dim))\n",
    "        model.add(Dropout(dropout))\n",
    "        \n",
    "        # hidden layer\n",
    "        model.add(Dense(unit, activation=activation))\n",
    "        model.add(Dropout(dropout))\n",
    "        \n",
    "        # hidden layer\n",
    "        model.add(Dense(unit, activation=activation))\n",
    "        model.add(Dropout(dropout))\n",
    "        \n",
    "        # hidden layer\n",
    "        model.add(Dense(unit, activation=activation))\n",
    "        model.add(Dropout(dropout))\n",
    "        \n",
    "        # output layer\n",
    "        model.add(Dense(1, activation='sigmoid'))\n",
    "\n",
    "        if optimizer == 'Adam':\n",
    "            ops = tf.keras.optimizers.Adam(learning_rate=learning_rate)\n",
    "        elif optimizer == 'RMSprop':\n",
    "            ops = tf.keras.optimizers.RMSprop(learning_rate=learning_rate)\n",
    "        elif optimizer == 'Nadam':\n",
    "            ops = tf.keras.optimizers.Nadam(learning_rate=learning_rate)\n",
    "            \n",
    "        # Compile the model\n",
    "        model.compile(loss='binary_crossentropy', optimizer=optimizer, metrics=['accuracy'])\n",
    "\n",
    "        self.model = model\n",
    "        \n",
    "    def train(self, X_train, y_train, X_val, y_val, epochs, batch_size):\n",
    "        history = self.model.fit(X_train, y_train, validation_data=(X_val, y_val), epochs=epochs, batch_size=batch_size, callbacks=[early_stopping], verbose=2)\n",
    "        return history\n",
    "\n",
    "    def evaluate(self, X_test, y_test):\n",
    "        results = self.model.evaluate(X_test, y_test, verbose=0)\n",
    "        return results\n",
    "\n",
    "    def predict(self, X): #X_train X_test\n",
    "        predictions = self.model.predict(X)\n",
    "        return predictions\n",
    "    \n",
    "    def summary(self):\n",
    "        self.model.summary()\n",
    "        \n",
    "    def metrics_names(self):\n",
    "        return self.model.metrics_names"
   ]
  },
  {
   "cell_type": "markdown",
   "id": "baa62310",
   "metadata": {},
   "source": [
    "# Model MinMax"
   ]
  },
  {
   "cell_type": "code",
   "execution_count": null,
   "id": "14a1c3f2",
   "metadata": {},
   "outputs": [],
   "source": [
    "df = df_damage_min_max.drop(columns=columns)\n",
    "\n",
    "X = df.drop(columns=['Damage'])\n",
    "y = df['Damage']\n",
    "\n",
    "# split the data into a holdout set and the rest for K-Fold cross-validation\n",
    "X_train, X_holdout, y_train, y_holdout = train_test_split(X, y, train_size=training_percent, random_state=42)"
   ]
  },
  {
   "cell_type": "code",
   "execution_count": null,
   "id": "07457154",
   "metadata": {},
   "outputs": [],
   "source": [
    "# Initialize StandardScaler\n",
    "scaler = StandardScaler()\n",
    "\n",
    "# Fit scaler on training data\n",
    "scaler.fit(X_train)\n",
    "\n",
    "# Transform both training and test data\n",
    "X_train_scaled = scaler.transform(X_train)\n",
    "X_holdout_scaled = scaler.transform(X_holdout)"
   ]
  },
  {
   "cell_type": "code",
   "execution_count": null,
   "id": "67dcdec8",
   "metadata": {},
   "outputs": [],
   "source": [
    "best_acc = 0.0\n",
    "baseline_values = { 'units': 0, 'activation': '', 'kernel_size': 0, 'learning_rate' : 0.0, 'optimizer': '', 'dropout': 0.0 }"
   ]
  },
  {
   "cell_type": "code",
   "execution_count": null,
   "id": "f5fff565",
   "metadata": {},
   "outputs": [],
   "source": [
    "input_dim = X_train.shape[1]"
   ]
  },
  {
   "cell_type": "code",
   "execution_count": null,
   "id": "6734f394",
   "metadata": {},
   "outputs": [],
   "source": [
    "for u in units:\n",
    "    for a in activations:\n",
    "        for k in kernel_size:\n",
    "            for l in learning_rate:\n",
    "                for o in optimizer:\n",
    "                    for d in dropout:\n",
    "                        print('\\nUnits:', u, 'Activation:', a, 'Kernel size:', k, 'Learning rate:', l, 'Optimizer:', o, 'Dropout:', d)\n",
    "                        for train_index, val_index in kf.split(X_train_scaled):\n",
    "                            # split the dataset into training and validation sets for this fold\n",
    "                            X_train_kf, X_val_kf = X_train_scaled[train_index], X_train_scaled[val_index]\n",
    "                            y_train_kf, y_val_kf = y_train.iloc[train_index], y_train.iloc[val_index]\n",
    "\n",
    "                            model = Baseline(input_dim, u, a, k, l, o, d)\n",
    "\n",
    "                            history = model.train(X_train_kf, y_train_kf, X_val_kf, y_val_kf, epochs, batch_size)\n",
    "                            if (history.history['val_accuracy'][-1] > best_acc):\n",
    "                                best_acc = history.history['val_accuracy'][-1]\n",
    "                                baseline_values = { 'units': u, 'activation': a, 'kernel_size': k, 'learning_rate' : l, 'optimizer': o, 'dropout': d }"
   ]
  },
  {
   "cell_type": "code",
   "execution_count": null,
   "id": "727452a7",
   "metadata": {},
   "outputs": [],
   "source": [
    "print(best_acc)\n",
    "print(baseline_values)"
   ]
  },
  {
   "cell_type": "code",
   "execution_count": null,
   "id": "eb603979",
   "metadata": {},
   "outputs": [],
   "source": [
    "#STOP"
   ]
  }
 ],
 "metadata": {
  "kernelspec": {
   "display_name": "Python 3 (ipykernel)",
   "language": "python",
   "name": "python3"
  },
  "language_info": {
   "codemirror_mode": {
    "name": "ipython",
    "version": 3
   },
   "file_extension": ".py",
   "mimetype": "text/x-python",
   "name": "python",
   "nbconvert_exporter": "python",
   "pygments_lexer": "ipython3",
   "version": "3.9.6"
  }
 },
 "nbformat": 4,
 "nbformat_minor": 5
}
