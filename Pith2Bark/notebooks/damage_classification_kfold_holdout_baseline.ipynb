{
 "cells": [
  {
   "cell_type": "code",
   "execution_count": 1,
   "id": "4836630a",
   "metadata": {},
   "outputs": [
    {
     "name": "stdout",
     "output_type": "stream",
     "text": [
      "/Users/muhammadfarooq/Codebase/thesis-experiment/Pith2Bark\n"
     ]
    }
   ],
   "source": [
    "cd .."
   ]
  },
  {
   "cell_type": "code",
   "execution_count": 2,
   "id": "d87bc37d",
   "metadata": {},
   "outputs": [],
   "source": [
    "import os\n",
    "os.environ['TF_CPP_MIN_LOG_LEVEL'] = '3'\n",
    "import warnings\n",
    "warnings.filterwarnings(\"ignore\")\n",
    "\n",
    "import pandas as pd\n",
    "import numpy as np\n",
    "import matplotlib.pyplot as plt\n",
    "import seaborn as sns\n",
    "\n",
    "import tensorflow as tf\n",
    "from tensorflow.keras.preprocessing.image import load_img, img_to_array\n",
    "\n",
    "from keras.models import Sequential\n",
    "from keras.layers import Dense, Flatten, Conv2D, MaxPooling2D\n",
    "#from keras.utils import to_categorical\n",
    "\n",
    "from sklearn.model_selection import KFold\n",
    "from sklearn.model_selection import train_test_split\n",
    "from sklearn.metrics import accuracy_score\n",
    "from sklearn.metrics import confusion_matrix\n",
    "from sklearn.metrics import classification_report\n",
    "from sklearn.metrics import balanced_accuracy_score"
   ]
  },
  {
   "cell_type": "markdown",
   "id": "ae1db6f6",
   "metadata": {},
   "source": [
    "# Damage Dataset"
   ]
  },
  {
   "cell_type": "code",
   "execution_count": 3,
   "id": "e6bb56d5",
   "metadata": {},
   "outputs": [],
   "source": [
    "def read_damage_min_max(damage_fname):\n",
    "    df_damage = pd.read_csv(damage_fname)\n",
    "    \n",
    "    columns = ['min', 'max', 'mean', 'orig', 'diff_min_max', 'diff_orig_mean', 'damage_mean']\n",
    "    df_damage_temp = df_damage.drop(columns=columns)\n",
    "    df_damage_temp.rename(columns={'damage_min_max': 'Damage'}, inplace=True)\n",
    "\n",
    "    df_damage_temp.reset_index(drop=True, inplace=True)\n",
    "\n",
    "    return df_damage_temp"
   ]
  },
  {
   "cell_type": "code",
   "execution_count": 4,
   "id": "cb4d7f4e",
   "metadata": {},
   "outputs": [],
   "source": [
    "def read_damage_mean(damage_fname):\n",
    "    df_damage = pd.read_csv(damage_fname)\n",
    "    \n",
    "    columns = ['min', 'max', 'mean', 'orig', 'diff_min_max', 'diff_orig_mean', 'damage_min_max']\n",
    "    df_damage_temp = df_damage.drop(columns=columns)\n",
    "    df_damage_temp.rename(columns={'damage_mean': 'Damage'}, inplace=True)\n",
    "\n",
    "    df_damage_temp.reset_index(drop=True, inplace=True)\n",
    "\n",
    "    return df_damage_temp"
   ]
  },
  {
   "cell_type": "code",
   "execution_count": 5,
   "id": "e5aac56a",
   "metadata": {},
   "outputs": [],
   "source": [
    "def heat_map(_cm):\n",
    "    # plot confusion matrix as heatmap\n",
    "    \n",
    "    labels = ['Not Damage', 'Damaged']\n",
    "    \n",
    "    # Set up the matplotlib figure\n",
    "    plt.figure(figsize=(4, 3))\n",
    "    \n",
    "    # Generate a custom diverging colormap\n",
    "    cmap = sns.diverging_palette(230, 20, as_cmap=True)\n",
    "    \n",
    "    sns.heatmap(_cm, annot=True, cmap=cmap, xticklabels=labels, yticklabels=labels)\n",
    "    plt.xlabel('Predicted labels')\n",
    "    plt.ylabel('True labels')\n",
    "    plt.show()"
   ]
  },
  {
   "cell_type": "code",
   "execution_count": 6,
   "id": "b013fa28",
   "metadata": {},
   "outputs": [],
   "source": [
    "#damage\n",
    "damage_sixteen_url = \"damage/damage_sixteen.csv\"\n",
    "damage_thirtytwo_url = \"damage/damage_thirtytwo.csv\"\n",
    "\n",
    "df_damage_sixteen_min_max = read_damage_min_max(damage_sixteen_url)\n",
    "df_damage_thirtytwo_min_max = read_damage_min_max(damage_thirtytwo_url)\n",
    "\n",
    "df_damage_sixteen_mean = read_damage_mean(damage_sixteen_url)\n",
    "df_damage_thirtytwo_mean = read_damage_mean(damage_thirtytwo_url)"
   ]
  },
  {
   "cell_type": "code",
   "execution_count": 7,
   "id": "9488a22d",
   "metadata": {},
   "outputs": [],
   "source": [
    "#df_damage_sixteen_min_max"
   ]
  },
  {
   "cell_type": "code",
   "execution_count": 8,
   "id": "3d2aca14",
   "metadata": {},
   "outputs": [],
   "source": [
    "#df_damage_thirtytwo_min_max"
   ]
  },
  {
   "cell_type": "code",
   "execution_count": 9,
   "id": "bee3f612",
   "metadata": {},
   "outputs": [],
   "source": [
    "#df_damage_sixteen_mean"
   ]
  },
  {
   "cell_type": "code",
   "execution_count": 10,
   "id": "58fceae4",
   "metadata": {},
   "outputs": [],
   "source": [
    "#df_damage_thirtytwo_mean"
   ]
  },
  {
   "cell_type": "code",
   "execution_count": 11,
   "id": "a38f9636",
   "metadata": {},
   "outputs": [],
   "source": [
    "#STOP"
   ]
  },
  {
   "cell_type": "code",
   "execution_count": 12,
   "id": "08a05160",
   "metadata": {},
   "outputs": [],
   "source": [
    "df = df_damage_sixteen_min_max"
   ]
  },
  {
   "cell_type": "code",
   "execution_count": 13,
   "id": "c820916a",
   "metadata": {},
   "outputs": [],
   "source": [
    "#df"
   ]
  },
  {
   "cell_type": "code",
   "execution_count": 14,
   "id": "fd1165e8",
   "metadata": {},
   "outputs": [
    {
     "name": "stdout",
     "output_type": "stream",
     "text": [
      "Image data shape: (148, 128, 128, 3)\n",
      "Label data shape: (148,)\n"
     ]
    }
   ],
   "source": [
    "# set up the file paths for your image data and labels\n",
    "img_size = (128, 128)\n",
    "\n",
    "data_dir = 'damage/images'\n",
    "\n",
    "# convert the DataFrame to a dictionary with specific column names as key and value\n",
    "label_dict = {k: v for k, v in zip(df['image'], df['Damage'])}\n",
    "\n",
    "# create empty lists to store the image data and labels\n",
    "images = []\n",
    "labels = []\n",
    "\n",
    "# loop through each image file in the directory\n",
    "for filename in os.listdir(data_dir):\n",
    "    # load the image file and convert it to a NumPy array\n",
    "    image = load_img(os.path.join(data_dir, filename), target_size=img_size)\n",
    "    image = img_to_array(image)\n",
    "    # preprocess the image by scaling the pixel values to be between 0 and 1\n",
    "    image = image.astype('float32') / 255.0\n",
    "    # add the preprocessed image and its label to the lists\n",
    "    images.append(image)\n",
    "    labels.append(label_dict[filename])\n",
    "\n",
    "# convert the lists to NumPy arrays\n",
    "images = np.array(images)\n",
    "labels = np.array(labels)\n",
    "\n",
    "# print the shape of the data to verify that it's been loaded correctly\n",
    "print('Image data shape:', images.shape) #(148, 64, 64, 3)\n",
    "print('Label data shape:', labels.shape) #(148,)"
   ]
  },
  {
   "cell_type": "code",
   "execution_count": 15,
   "id": "c81ed07a",
   "metadata": {},
   "outputs": [],
   "source": [
    "#STOP"
   ]
  },
  {
   "cell_type": "markdown",
   "id": "f0dbfa40",
   "metadata": {},
   "source": [
    "# Config"
   ]
  },
  {
   "cell_type": "code",
   "execution_count": 16,
   "id": "61c03e5e",
   "metadata": {},
   "outputs": [],
   "source": [
    "training_percent = 0.9\n",
    "\n",
    "epochs, batch_size = 50, 32\n",
    "kf = KFold(n_splits=3, shuffle=True, random_state=42)\n",
    "\n",
    "early_stopping = tf.keras.callbacks.EarlyStopping(\n",
    "        monitor=\"val_loss\",\n",
    "        patience=10,\n",
    "        restore_best_weights=True,\n",
    "    )\n",
    "\n",
    "METRICS = [\n",
    "    tf.keras.metrics.TruePositives(name='tp'),\n",
    "    tf.keras.metrics.FalsePositives(name='fp'),\n",
    "    tf.keras.metrics.TrueNegatives(name='tn'),\n",
    "    tf.keras.metrics.FalseNegatives(name='fn'), \n",
    "    tf.keras.metrics.BinaryAccuracy(name='accuracy'),\n",
    "    tf.keras.metrics.Precision(name='precision'),\n",
    "    tf.keras.metrics.Recall(name='recall'),\n",
    "    tf.keras.metrics.AUC(name='auc'),\n",
    "    tf.keras.metrics.AUC(name='prc', curve='PR'), # precision-recall curve\n",
    "]"
   ]
  },
  {
   "cell_type": "code",
   "execution_count": 17,
   "id": "39edad68",
   "metadata": {},
   "outputs": [],
   "source": [
    "#STOP"
   ]
  },
  {
   "cell_type": "markdown",
   "id": "55ccce15",
   "metadata": {},
   "source": [
    "# Model"
   ]
  },
  {
   "cell_type": "code",
   "execution_count": 18,
   "id": "726ca1bf",
   "metadata": {},
   "outputs": [],
   "source": [
    "class Baseline():\n",
    "    def __init__(self, _input_dim, metrics=METRICS):\n",
    "        # Define the model architecture\n",
    "        model = Sequential()\n",
    "        model.add(Conv2D(32, kernel_size=(3, 3), activation='relu', input_shape=_input_dim))\n",
    "        model.add(MaxPooling2D(pool_size=(2, 2)))\n",
    "        model.add(Flatten())\n",
    "        model.add(Dense(64, activation='relu'))\n",
    "        model.add(Dense(1, activation='sigmoid'))\n",
    "\n",
    "        # Compile the model\n",
    "        model.compile(loss='binary_crossentropy', optimizer=tf.keras.optimizers.Adam(learning_rate=0.0001), metrics=metrics)\n",
    "\n",
    "        self.model = model\n",
    "\n",
    "    def train(self, X_train, y_train, X_val, y_val, epochs, batch_size):\n",
    "        history = self.model.fit(X_train, y_train, validation_data=(X_val, y_val), epochs=epochs, batch_size=batch_size, callbacks=[early_stopping], verbose=2)\n",
    "        return history\n",
    "    \n",
    "    def evaluate(self, X_test, y_test):\n",
    "        results = self.model.evaluate(X_test, y_test, verbose=0)\n",
    "        return results\n",
    "\n",
    "    def predict(self, X_test):\n",
    "        predictions = self.model.predict(X_test)\n",
    "        return predictions\n",
    "\n",
    "    def summary(self):\n",
    "        self.model.summary()\n",
    "        \n",
    "    def metrics_names(self):\n",
    "        return self.model.metrics_names"
   ]
  },
  {
   "cell_type": "markdown",
   "id": "f92e17e0",
   "metadata": {},
   "source": [
    "# Prepare dataset"
   ]
  },
  {
   "cell_type": "code",
   "execution_count": 19,
   "id": "5833bcec",
   "metadata": {},
   "outputs": [],
   "source": [
    "X = images\n",
    "y = labels\n",
    "\n",
    "# If use loss function categorical_crossentropy and activation function softmax than\n",
    "# def __init__(self, _input_dim, _num_classes, metrics=METRICS)\n",
    "# model.add(Dense(_num_classes, activation='softmax'))\n",
    "# model.compile(loss='categorical_crossentropy', optimizer=tf.keras.optimizers.Adam(learning_rate=0.0001), metrics=metrics)\n",
    "\n",
    "# Convert labels to one-hot encoding\n",
    "# num_classes = 2\n",
    "#y = to_categorical(y, num_classes=num_classes)\n",
    "\n",
    "# split the data into a holdout set and the rest for K-Fold cross-validation\n",
    "X_train, X_holdout, y_train, y_holdout = train_test_split(X, y, train_size=training_percent, random_state=42)"
   ]
  },
  {
   "cell_type": "code",
   "execution_count": 20,
   "id": "9f6425a3",
   "metadata": {},
   "outputs": [
    {
     "name": "stdout",
     "output_type": "stream",
     "text": [
      "Model: \"sequential\"\n",
      "_________________________________________________________________\n",
      " Layer (type)                Output Shape              Param #   \n",
      "=================================================================\n",
      " conv2d (Conv2D)             (None, 126, 126, 32)      896       \n",
      "                                                                 \n",
      " max_pooling2d (MaxPooling2D  (None, 63, 63, 32)       0         \n",
      " )                                                               \n",
      "                                                                 \n",
      " flatten (Flatten)           (None, 127008)            0         \n",
      "                                                                 \n",
      " dense (Dense)               (None, 64)                8128576   \n",
      "                                                                 \n",
      " dense_1 (Dense)             (None, 1)                 65        \n",
      "                                                                 \n",
      "=================================================================\n",
      "Total params: 8,129,537\n",
      "Trainable params: 8,129,537\n",
      "Non-trainable params: 0\n",
      "_________________________________________________________________\n"
     ]
    }
   ],
   "source": [
    "# create the model and iterate over each fold\n",
    "\n",
    "input_dim = X_train.shape[1:]\n",
    "\n",
    "#model = Baseline(input_dim, num_classes)\n",
    "model = Baseline(input_dim)\n",
    "model.summary()"
   ]
  },
  {
   "cell_type": "code",
   "execution_count": 21,
   "id": "68e195e4",
   "metadata": {},
   "outputs": [
    {
     "name": "stdout",
     "output_type": "stream",
     "text": [
      "Epoch 1/50\n",
      "3/3 - 3s - loss: 0.7865 - tp: 21.0000 - fp: 38.0000 - tn: 17.0000 - fn: 12.0000 - accuracy: 0.4318 - precision: 0.3559 - recall: 0.6364 - auc: 0.5725 - prc: 0.6500 - val_loss: 0.5333 - val_tp: 10.0000 - val_fp: 3.0000 - val_tn: 26.0000 - val_fn: 6.0000 - val_accuracy: 0.8000 - val_precision: 0.7692 - val_recall: 0.6250 - val_auc: 0.7963 - val_prc: 0.8039 - 3s/epoch - 868ms/step\n",
      "Epoch 2/50\n",
      "3/3 - 0s - loss: 0.5231 - tp: 22.0000 - fp: 1.0000 - tn: 54.0000 - fn: 11.0000 - accuracy: 0.8636 - precision: 0.9565 - recall: 0.6667 - auc: 0.7804 - prc: 0.7682 - val_loss: 0.4265 - val_tp: 10.0000 - val_fp: 0.0000e+00 - val_tn: 29.0000 - val_fn: 6.0000 - val_accuracy: 0.8667 - val_precision: 1.0000 - val_recall: 0.6250 - val_auc: 0.8567 - val_prc: 0.8418 - 499ms/epoch - 166ms/step\n",
      "Epoch 3/50\n",
      "3/3 - 1s - loss: 0.4723 - tp: 21.0000 - fp: 1.0000 - tn: 54.0000 - fn: 12.0000 - accuracy: 0.8523 - precision: 0.9545 - recall: 0.6364 - auc: 0.7934 - prc: 0.7565 - val_loss: 0.4068 - val_tp: 10.0000 - val_fp: 1.0000 - val_tn: 28.0000 - val_fn: 6.0000 - val_accuracy: 0.8444 - val_precision: 0.9091 - val_recall: 0.6250 - val_auc: 0.8308 - val_prc: 0.8216 - 541ms/epoch - 180ms/step\n",
      "Epoch 4/50\n",
      "3/3 - 1s - loss: 0.4579 - tp: 22.0000 - fp: 2.0000 - tn: 53.0000 - fn: 11.0000 - accuracy: 0.8523 - precision: 0.9167 - recall: 0.6667 - auc: 0.7642 - prc: 0.7723 - val_loss: 0.4158 - val_tp: 10.0000 - val_fp: 3.0000 - val_tn: 26.0000 - val_fn: 6.0000 - val_accuracy: 0.8000 - val_precision: 0.7692 - val_recall: 0.6250 - val_auc: 0.8168 - val_prc: 0.8131 - 533ms/epoch - 178ms/step\n",
      "Epoch 5/50\n",
      "3/3 - 1s - loss: 0.4201 - tp: 22.0000 - fp: 1.0000 - tn: 54.0000 - fn: 11.0000 - accuracy: 0.8636 - precision: 0.9565 - recall: 0.6667 - auc: 0.8182 - prc: 0.8127 - val_loss: 0.3798 - val_tp: 10.0000 - val_fp: 1.0000 - val_tn: 28.0000 - val_fn: 6.0000 - val_accuracy: 0.8444 - val_precision: 0.9091 - val_recall: 0.6250 - val_auc: 0.8254 - val_prc: 0.8188 - 519ms/epoch - 173ms/step\n",
      "Epoch 6/50\n",
      "3/3 - 1s - loss: 0.4267 - tp: 21.0000 - fp: 1.0000 - tn: 54.0000 - fn: 12.0000 - accuracy: 0.8523 - precision: 0.9545 - recall: 0.6364 - auc: 0.7824 - prc: 0.7821 - val_loss: 0.3668 - val_tp: 10.0000 - val_fp: 0.0000e+00 - val_tn: 29.0000 - val_fn: 6.0000 - val_accuracy: 0.8667 - val_precision: 1.0000 - val_recall: 0.6250 - val_auc: 0.8319 - val_prc: 0.8228 - 547ms/epoch - 182ms/step\n",
      "Epoch 7/50\n",
      "3/3 - 1s - loss: 0.4102 - tp: 21.0000 - fp: 1.0000 - tn: 54.0000 - fn: 12.0000 - accuracy: 0.8523 - precision: 0.9545 - recall: 0.6364 - auc: 0.7909 - prc: 0.8250 - val_loss: 0.3815 - val_tp: 10.0000 - val_fp: 1.0000 - val_tn: 28.0000 - val_fn: 6.0000 - val_accuracy: 0.8444 - val_precision: 0.9091 - val_recall: 0.6250 - val_auc: 0.8254 - val_prc: 0.8198 - 516ms/epoch - 172ms/step\n",
      "Epoch 8/50\n",
      "3/3 - 1s - loss: 0.3918 - tp: 23.0000 - fp: 1.0000 - tn: 54.0000 - fn: 10.0000 - accuracy: 0.8750 - precision: 0.9583 - recall: 0.6970 - auc: 0.8121 - prc: 0.8430 - val_loss: 0.4458 - val_tp: 10.0000 - val_fp: 3.0000 - val_tn: 26.0000 - val_fn: 6.0000 - val_accuracy: 0.8000 - val_precision: 0.7692 - val_recall: 0.6250 - val_auc: 0.8103 - val_prc: 0.8121 - 520ms/epoch - 173ms/step\n",
      "Epoch 9/50\n",
      "3/3 - 1s - loss: 0.3890 - tp: 23.0000 - fp: 2.0000 - tn: 53.0000 - fn: 10.0000 - accuracy: 0.8636 - precision: 0.9200 - recall: 0.6970 - auc: 0.8234 - prc: 0.8471 - val_loss: 0.4608 - val_tp: 10.0000 - val_fp: 3.0000 - val_tn: 26.0000 - val_fn: 6.0000 - val_accuracy: 0.8000 - val_precision: 0.7692 - val_recall: 0.6250 - val_auc: 0.8114 - val_prc: 0.8129 - 517ms/epoch - 172ms/step\n",
      "Epoch 10/50\n",
      "3/3 - 1s - loss: 0.3699 - tp: 24.0000 - fp: 2.0000 - tn: 53.0000 - fn: 9.0000 - accuracy: 0.8750 - precision: 0.9231 - recall: 0.7273 - auc: 0.8234 - prc: 0.8504 - val_loss: 0.4050 - val_tp: 10.0000 - val_fp: 2.0000 - val_tn: 27.0000 - val_fn: 6.0000 - val_accuracy: 0.8222 - val_precision: 0.8333 - val_recall: 0.6250 - val_auc: 0.8114 - val_prc: 0.8129 - 619ms/epoch - 206ms/step\n",
      "Epoch 11/50\n",
      "3/3 - 1s - loss: 0.3532 - tp: 23.0000 - fp: 1.0000 - tn: 54.0000 - fn: 10.0000 - accuracy: 0.8750 - precision: 0.9583 - recall: 0.6970 - auc: 0.8314 - prc: 0.8572 - val_loss: 0.3736 - val_tp: 10.0000 - val_fp: 0.0000e+00 - val_tn: 29.0000 - val_fn: 6.0000 - val_accuracy: 0.8667 - val_precision: 1.0000 - val_recall: 0.6250 - val_auc: 0.8297 - val_prc: 0.8278 - 506ms/epoch - 169ms/step\n",
      "Epoch 12/50\n",
      "3/3 - 0s - loss: 0.3531 - tp: 23.0000 - fp: 1.0000 - tn: 54.0000 - fn: 10.0000 - accuracy: 0.8750 - precision: 0.9583 - recall: 0.6970 - auc: 0.8424 - prc: 0.8663 - val_loss: 0.3785 - val_tp: 10.0000 - val_fp: 0.0000e+00 - val_tn: 29.0000 - val_fn: 6.0000 - val_accuracy: 0.8667 - val_precision: 1.0000 - val_recall: 0.6250 - val_auc: 0.8265 - val_prc: 0.8287 - 489ms/epoch - 163ms/step\n",
      "Epoch 13/50\n",
      "3/3 - 1s - loss: 0.3322 - tp: 23.0000 - fp: 1.0000 - tn: 54.0000 - fn: 10.0000 - accuracy: 0.8750 - precision: 0.9583 - recall: 0.6970 - auc: 0.8664 - prc: 0.8773 - val_loss: 0.4157 - val_tp: 10.0000 - val_fp: 3.0000 - val_tn: 26.0000 - val_fn: 6.0000 - val_accuracy: 0.8000 - val_precision: 0.7692 - val_recall: 0.6250 - val_auc: 0.8265 - val_prc: 0.8291 - 512ms/epoch - 171ms/step\n",
      "Epoch 14/50\n",
      "3/3 - 1s - loss: 0.3290 - tp: 24.0000 - fp: 1.0000 - tn: 54.0000 - fn: 9.0000 - accuracy: 0.8864 - precision: 0.9600 - recall: 0.7273 - auc: 0.8576 - prc: 0.8707 - val_loss: 0.4161 - val_tp: 10.0000 - val_fp: 3.0000 - val_tn: 26.0000 - val_fn: 6.0000 - val_accuracy: 0.8000 - val_precision: 0.7692 - val_recall: 0.6250 - val_auc: 0.8308 - val_prc: 0.8338 - 539ms/epoch - 180ms/step\n",
      "Epoch 15/50\n",
      "3/3 - 1s - loss: 0.3189 - tp: 24.0000 - fp: 0.0000e+00 - tn: 55.0000 - fn: 9.0000 - accuracy: 0.8977 - precision: 1.0000 - recall: 0.7273 - auc: 0.8744 - prc: 0.8791 - val_loss: 0.3889 - val_tp: 10.0000 - val_fp: 1.0000 - val_tn: 28.0000 - val_fn: 6.0000 - val_accuracy: 0.8444 - val_precision: 0.9091 - val_recall: 0.6250 - val_auc: 0.8308 - val_prc: 0.8309 - 510ms/epoch - 170ms/step\n",
      "Epoch 16/50\n",
      "3/3 - 1s - loss: 0.3184 - tp: 24.0000 - fp: 0.0000e+00 - tn: 55.0000 - fn: 9.0000 - accuracy: 0.8977 - precision: 1.0000 - recall: 0.7273 - auc: 0.8567 - prc: 0.8746 - val_loss: 0.3793 - val_tp: 10.0000 - val_fp: 0.0000e+00 - val_tn: 29.0000 - val_fn: 6.0000 - val_accuracy: 0.8667 - val_precision: 1.0000 - val_recall: 0.6250 - val_auc: 0.8287 - val_prc: 0.8288 - 567ms/epoch - 189ms/step\n"
     ]
    },
    {
     "data": {
      "image/png": "[encoded data removed]",
      "text/plain": [
       "<Figure size 640x480 with 1 Axes>"
      ]
     },
     "metadata": {},
     "output_type": "display_data"
    },
    {
     "name": "stdout",
     "output_type": "stream",
     "text": [
      "loss :  0.3668113350868225\n",
      "tp :  10.0\n",
      "fp :  0.0\n",
      "tn :  29.0\n",
      "fn :  6.0\n",
      "accuracy :  0.8666666746139526\n",
      "Accuracy on validation set: 0.8666666746139526\n",
      "precision :  1.0\n",
      "recall :  0.625\n",
      "auc :  0.8318965435028076\n",
      "prc :  0.8228284120559692\n",
      "Epoch 1/50\n",
      "3/3 - 1s - loss: 0.3193 - tp: 17.0000 - fp: 0.0000e+00 - tn: 62.0000 - fn: 10.0000 - accuracy: 0.8876 - precision: 1.0000 - recall: 0.6296 - auc: 0.8408 - prc: 0.8251 - val_loss: 0.5443 - val_tp: 14.0000 - val_fp: 1.0000 - val_tn: 21.0000 - val_fn: 8.0000 - val_accuracy: 0.7955 - val_precision: 0.9333 - val_recall: 0.6364 - val_auc: 0.7490 - val_prc: 0.8401 - 628ms/epoch - 209ms/step\n",
      "Epoch 2/50\n",
      "3/3 - 1s - loss: 0.3140 - tp: 17.0000 - fp: 0.0000e+00 - tn: 62.0000 - fn: 10.0000 - accuracy: 0.8876 - precision: 1.0000 - recall: 0.6296 - auc: 0.8566 - prc: 0.8322 - val_loss: 0.5632 - val_tp: 14.0000 - val_fp: 1.0000 - val_tn: 21.0000 - val_fn: 8.0000 - val_accuracy: 0.7955 - val_precision: 0.9333 - val_recall: 0.6364 - val_auc: 0.7510 - val_prc: 0.8411 - 534ms/epoch - 178ms/step\n",
      "Epoch 3/50\n",
      "3/3 - 1s - loss: 0.3108 - tp: 17.0000 - fp: 0.0000e+00 - tn: 62.0000 - fn: 10.0000 - accuracy: 0.8876 - precision: 1.0000 - recall: 0.6296 - auc: 0.8644 - prc: 0.8416 - val_loss: 0.5578 - val_tp: 14.0000 - val_fp: 1.0000 - val_tn: 21.0000 - val_fn: 8.0000 - val_accuracy: 0.7955 - val_precision: 0.9333 - val_recall: 0.6364 - val_auc: 0.7469 - val_prc: 0.8391 - 535ms/epoch - 178ms/step\n",
      "Epoch 4/50\n",
      "3/3 - 1s - loss: 0.3004 - tp: 17.0000 - fp: 0.0000e+00 - tn: 62.0000 - fn: 10.0000 - accuracy: 0.8876 - precision: 1.0000 - recall: 0.6296 - auc: 0.9035 - prc: 0.8703 - val_loss: 0.5347 - val_tp: 15.0000 - val_fp: 1.0000 - val_tn: 21.0000 - val_fn: 7.0000 - val_accuracy: 0.8182 - val_precision: 0.9375 - val_recall: 0.6818 - val_auc: 0.7314 - val_prc: 0.7940 - 525ms/epoch - 175ms/step\n",
      "Epoch 5/50\n",
      "3/3 - 1s - loss: 0.3039 - tp: 18.0000 - fp: 0.0000e+00 - tn: 62.0000 - fn: 9.0000 - accuracy: 0.8989 - precision: 1.0000 - recall: 0.6667 - auc: 0.9155 - prc: 0.8862 - val_loss: 0.5482 - val_tp: 15.0000 - val_fp: 1.0000 - val_tn: 21.0000 - val_fn: 7.0000 - val_accuracy: 0.8182 - val_precision: 0.9375 - val_recall: 0.6818 - val_auc: 0.7355 - val_prc: 0.7958 - 531ms/epoch - 177ms/step\n",
      "Epoch 6/50\n",
      "3/3 - 1s - loss: 0.2815 - tp: 18.0000 - fp: 0.0000e+00 - tn: 62.0000 - fn: 9.0000 - accuracy: 0.8989 - precision: 1.0000 - recall: 0.6667 - auc: 0.9579 - prc: 0.9286 - val_loss: 0.5940 - val_tp: 14.0000 - val_fp: 1.0000 - val_tn: 21.0000 - val_fn: 8.0000 - val_accuracy: 0.7955 - val_precision: 0.9333 - val_recall: 0.6364 - val_auc: 0.7438 - val_prc: 0.8286 - 541ms/epoch - 180ms/step\n",
      "Epoch 7/50\n",
      "3/3 - 1s - loss: 0.2912 - tp: 17.0000 - fp: 0.0000e+00 - tn: 62.0000 - fn: 10.0000 - accuracy: 0.8876 - precision: 1.0000 - recall: 0.6296 - auc: 0.9289 - prc: 0.9031 - val_loss: 0.6086 - val_tp: 14.0000 - val_fp: 1.0000 - val_tn: 21.0000 - val_fn: 8.0000 - val_accuracy: 0.7955 - val_precision: 0.9333 - val_recall: 0.6364 - val_auc: 0.7428 - val_prc: 0.8343 - 546ms/epoch - 182ms/step\n",
      "Epoch 8/50\n",
      "3/3 - 1s - loss: 0.2764 - tp: 18.0000 - fp: 0.0000e+00 - tn: 62.0000 - fn: 9.0000 - accuracy: 0.8989 - precision: 1.0000 - recall: 0.6667 - auc: 0.9543 - prc: 0.9339 - val_loss: 0.5947 - val_tp: 15.0000 - val_fp: 1.0000 - val_tn: 21.0000 - val_fn: 7.0000 - val_accuracy: 0.8182 - val_precision: 0.9375 - val_recall: 0.6818 - val_auc: 0.7376 - val_prc: 0.7963 - 553ms/epoch - 184ms/step\n",
      "Epoch 9/50\n",
      "3/3 - 1s - loss: 0.2680 - tp: 18.0000 - fp: 0.0000e+00 - tn: 62.0000 - fn: 9.0000 - accuracy: 0.8989 - precision: 1.0000 - recall: 0.6667 - auc: 0.9618 - prc: 0.9400 - val_loss: 0.5857 - val_tp: 15.0000 - val_fp: 1.0000 - val_tn: 21.0000 - val_fn: 7.0000 - val_accuracy: 0.8182 - val_precision: 0.9375 - val_recall: 0.6818 - val_auc: 0.7397 - val_prc: 0.7996 - 556ms/epoch - 185ms/step\n",
      "Epoch 10/50\n",
      "3/3 - 1s - loss: 0.2669 - tp: 18.0000 - fp: 0.0000e+00 - tn: 62.0000 - fn: 9.0000 - accuracy: 0.8989 - precision: 1.0000 - recall: 0.6667 - auc: 0.9773 - prc: 0.9605 - val_loss: 0.5941 - val_tp: 15.0000 - val_fp: 1.0000 - val_tn: 21.0000 - val_fn: 7.0000 - val_accuracy: 0.8182 - val_precision: 0.9375 - val_recall: 0.6818 - val_auc: 0.7397 - val_prc: 0.7974 - 525ms/epoch - 175ms/step\n",
      "Epoch 11/50\n",
      "3/3 - 1s - loss: 0.2585 - tp: 18.0000 - fp: 0.0000e+00 - tn: 62.0000 - fn: 9.0000 - accuracy: 0.8989 - precision: 1.0000 - recall: 0.6667 - auc: 0.9812 - prc: 0.9659 - val_loss: 0.6084 - val_tp: 15.0000 - val_fp: 1.0000 - val_tn: 21.0000 - val_fn: 7.0000 - val_accuracy: 0.8182 - val_precision: 0.9375 - val_recall: 0.6818 - val_auc: 0.7366 - val_prc: 0.7954 - 540ms/epoch - 180ms/step\n",
      "Epoch 12/50\n",
      "3/3 - 1s - loss: 0.2549 - tp: 18.0000 - fp: 0.0000e+00 - tn: 62.0000 - fn: 9.0000 - accuracy: 0.8989 - precision: 1.0000 - recall: 0.6667 - auc: 0.9860 - prc: 0.9726 - val_loss: 0.6165 - val_tp: 15.0000 - val_fp: 1.0000 - val_tn: 21.0000 - val_fn: 7.0000 - val_accuracy: 0.8182 - val_precision: 0.9375 - val_recall: 0.6818 - val_auc: 0.7366 - val_prc: 0.7954 - 538ms/epoch - 179ms/step\n",
      "Epoch 13/50\n",
      "3/3 - 1s - loss: 0.2517 - tp: 18.0000 - fp: 0.0000e+00 - tn: 62.0000 - fn: 9.0000 - accuracy: 0.8989 - precision: 1.0000 - recall: 0.6667 - auc: 0.9857 - prc: 0.9722 - val_loss: 0.6197 - val_tp: 15.0000 - val_fp: 1.0000 - val_tn: 21.0000 - val_fn: 7.0000 - val_accuracy: 0.8182 - val_precision: 0.9375 - val_recall: 0.6818 - val_auc: 0.7397 - val_prc: 0.7970 - 509ms/epoch - 170ms/step\n",
      "Epoch 14/50\n",
      "3/3 - 1s - loss: 0.2430 - tp: 18.0000 - fp: 0.0000e+00 - tn: 62.0000 - fn: 9.0000 - accuracy: 0.8989 - precision: 1.0000 - recall: 0.6667 - auc: 0.9976 - prc: 0.9943 - val_loss: 0.6129 - val_tp: 15.0000 - val_fp: 1.0000 - val_tn: 21.0000 - val_fn: 7.0000 - val_accuracy: 0.8182 - val_precision: 0.9375 - val_recall: 0.6818 - val_auc: 0.7397 - val_prc: 0.7989 - 561ms/epoch - 187ms/step\n"
     ]
    },
    {
     "data": {
      "image/png": "[encoded data removed]",
      "text/plain": [
       "<Figure size 640x480 with 1 Axes>"
      ]
     },
     "metadata": {},
     "output_type": "display_data"
    },
    {
     "name": "stdout",
     "output_type": "stream",
     "text": [
      "loss :  0.5347220301628113\n",
      "tp :  15.0\n",
      "fp :  1.0\n",
      "tn :  21.0\n",
      "fn :  7.0\n",
      "accuracy :  0.8181818127632141\n",
      "Accuracy on validation set: 0.8181818127632141\n",
      "precision :  0.9375\n",
      "recall :  0.6818181872367859\n",
      "auc :  0.7314049601554871\n",
      "prc :  0.7939673662185669\n",
      "Epoch 1/50\n",
      "3/3 - 1s - loss: 0.4502 - tp: 25.0000 - fp: 1.0000 - tn: 50.0000 - fn: 13.0000 - accuracy: 0.8427 - precision: 0.9615 - recall: 0.6579 - auc: 0.8083 - prc: 0.8262 - val_loss: 0.2837 - val_tp: 8.0000 - val_fp: 0.0000e+00 - val_tn: 33.0000 - val_fn: 3.0000 - val_accuracy: 0.9318 - val_precision: 1.0000 - val_recall: 0.7273 - val_auc: 0.9477 - val_prc: 0.9117 - 646ms/epoch - 215ms/step\n",
      "Epoch 2/50\n",
      "3/3 - 1s - loss: 0.4090 - tp: 25.0000 - fp: 1.0000 - tn: 50.0000 - fn: 13.0000 - accuracy: 0.8427 - precision: 0.9615 - recall: 0.6579 - auc: 0.8640 - prc: 0.8900 - val_loss: 0.3041 - val_tp: 7.0000 - val_fp: 0.0000e+00 - val_tn: 33.0000 - val_fn: 4.0000 - val_accuracy: 0.9091 - val_precision: 1.0000 - val_recall: 0.6364 - val_auc: 0.8636 - val_prc: 0.8342 - 531ms/epoch - 177ms/step\n",
      "Epoch 3/50\n",
      "3/3 - 1s - loss: 0.4023 - tp: 24.0000 - fp: 1.0000 - tn: 50.0000 - fn: 14.0000 - accuracy: 0.8315 - precision: 0.9600 - recall: 0.6316 - auc: 0.8842 - prc: 0.9010 - val_loss: 0.3183 - val_tp: 7.0000 - val_fp: 0.0000e+00 - val_tn: 33.0000 - val_fn: 4.0000 - val_accuracy: 0.9091 - val_precision: 1.0000 - val_recall: 0.6364 - val_auc: 0.8857 - val_prc: 0.8557 - 520ms/epoch - 173ms/step\n",
      "Epoch 4/50\n",
      "3/3 - 1s - loss: 0.3888 - tp: 25.0000 - fp: 1.0000 - tn: 50.0000 - fn: 13.0000 - accuracy: 0.8427 - precision: 0.9615 - recall: 0.6579 - auc: 0.8661 - prc: 0.8867 - val_loss: 0.3433 - val_tp: 8.0000 - val_fp: 0.0000e+00 - val_tn: 33.0000 - val_fn: 3.0000 - val_accuracy: 0.9318 - val_precision: 1.0000 - val_recall: 0.7273 - val_auc: 0.9793 - val_prc: 0.9529 - 529ms/epoch - 176ms/step\n",
      "Epoch 5/50\n",
      "3/3 - 1s - loss: 0.3756 - tp: 25.0000 - fp: 1.0000 - tn: 50.0000 - fn: 13.0000 - accuracy: 0.8427 - precision: 0.9615 - recall: 0.6579 - auc: 0.9007 - prc: 0.9065 - val_loss: 0.3092 - val_tp: 7.0000 - val_fp: 0.0000e+00 - val_tn: 33.0000 - val_fn: 4.0000 - val_accuracy: 0.9091 - val_precision: 1.0000 - val_recall: 0.6364 - val_auc: 0.9573 - val_prc: 0.9097 - 559ms/epoch - 186ms/step\n",
      "Epoch 6/50\n",
      "3/3 - 1s - loss: 0.3558 - tp: 25.0000 - fp: 0.0000e+00 - tn: 51.0000 - fn: 13.0000 - accuracy: 0.8539 - precision: 1.0000 - recall: 0.6579 - auc: 0.9334 - prc: 0.9345 - val_loss: 0.2888 - val_tp: 8.0000 - val_fp: 0.0000e+00 - val_tn: 33.0000 - val_fn: 3.0000 - val_accuracy: 0.9318 - val_precision: 1.0000 - val_recall: 0.7273 - val_auc: 0.9752 - val_prc: 0.9438 - 566ms/epoch - 189ms/step\n",
      "Epoch 7/50\n",
      "3/3 - 1s - loss: 0.3401 - tp: 26.0000 - fp: 1.0000 - tn: 50.0000 - fn: 12.0000 - accuracy: 0.8539 - precision: 0.9630 - recall: 0.6842 - auc: 0.9247 - prc: 0.9357 - val_loss: 0.3171 - val_tp: 8.0000 - val_fp: 0.0000e+00 - val_tn: 33.0000 - val_fn: 3.0000 - val_accuracy: 0.9318 - val_precision: 1.0000 - val_recall: 0.7273 - val_auc: 0.9642 - val_prc: 0.9285 - 507ms/epoch - 169ms/step\n",
      "Epoch 8/50\n",
      "3/3 - 1s - loss: 0.3284 - tp: 26.0000 - fp: 1.0000 - tn: 50.0000 - fn: 12.0000 - accuracy: 0.8539 - precision: 0.9630 - recall: 0.6842 - auc: 0.9396 - prc: 0.9446 - val_loss: 0.2578 - val_tp: 8.0000 - val_fp: 0.0000e+00 - val_tn: 33.0000 - val_fn: 3.0000 - val_accuracy: 0.9318 - val_precision: 1.0000 - val_recall: 0.7273 - val_auc: 0.9656 - val_prc: 0.9301 - 558ms/epoch - 186ms/step\n",
      "Epoch 9/50\n",
      "3/3 - 1s - loss: 0.3216 - tp: 25.0000 - fp: 0.0000e+00 - tn: 51.0000 - fn: 13.0000 - accuracy: 0.8539 - precision: 1.0000 - recall: 0.6579 - auc: 0.9582 - prc: 0.9542 - val_loss: 0.2508 - val_tp: 8.0000 - val_fp: 0.0000e+00 - val_tn: 33.0000 - val_fn: 3.0000 - val_accuracy: 0.9318 - val_precision: 1.0000 - val_recall: 0.7273 - val_auc: 0.9518 - val_prc: 0.9171 - 565ms/epoch - 188ms/step\n",
      "Epoch 10/50\n",
      "3/3 - 1s - loss: 0.3019 - tp: 26.0000 - fp: 0.0000e+00 - tn: 51.0000 - fn: 12.0000 - accuracy: 0.8652 - precision: 1.0000 - recall: 0.6842 - auc: 0.9636 - prc: 0.9613 - val_loss: 0.2927 - val_tp: 8.0000 - val_fp: 0.0000e+00 - val_tn: 33.0000 - val_fn: 3.0000 - val_accuracy: 0.9318 - val_precision: 1.0000 - val_recall: 0.7273 - val_auc: 0.9656 - val_prc: 0.9308 - 573ms/epoch - 191ms/step\n",
      "Epoch 11/50\n",
      "3/3 - 1s - loss: 0.3048 - tp: 26.0000 - fp: 0.0000e+00 - tn: 51.0000 - fn: 12.0000 - accuracy: 0.8652 - precision: 1.0000 - recall: 0.6842 - auc: 0.9866 - prc: 0.9840 - val_loss: 0.2851 - val_tp: 8.0000 - val_fp: 0.0000e+00 - val_tn: 33.0000 - val_fn: 3.0000 - val_accuracy: 0.9318 - val_precision: 1.0000 - val_recall: 0.7273 - val_auc: 0.9669 - val_prc: 0.9325 - 557ms/epoch - 186ms/step\n",
      "Epoch 12/50\n",
      "3/3 - 1s - loss: 0.2844 - tp: 26.0000 - fp: 0.0000e+00 - tn: 51.0000 - fn: 12.0000 - accuracy: 0.8652 - precision: 1.0000 - recall: 0.6842 - auc: 0.9985 - prc: 0.9980 - val_loss: 0.2578 - val_tp: 7.0000 - val_fp: 0.0000e+00 - val_tn: 33.0000 - val_fn: 4.0000 - val_accuracy: 0.9091 - val_precision: 1.0000 - val_recall: 0.6364 - val_auc: 0.9490 - val_prc: 0.9136 - 501ms/epoch - 167ms/step\n",
      "Epoch 13/50\n",
      "3/3 - 0s - loss: 0.2862 - tp: 26.0000 - fp: 0.0000e+00 - tn: 51.0000 - fn: 12.0000 - accuracy: 0.8652 - precision: 1.0000 - recall: 0.6842 - auc: 0.9905 - prc: 0.9889 - val_loss: 0.2604 - val_tp: 8.0000 - val_fp: 0.0000e+00 - val_tn: 33.0000 - val_fn: 3.0000 - val_accuracy: 0.9318 - val_precision: 1.0000 - val_recall: 0.7273 - val_auc: 0.9559 - val_prc: 0.9157 - 491ms/epoch - 164ms/step\n",
      "Epoch 14/50\n",
      "3/3 - 0s - loss: 0.2695 - tp: 26.0000 - fp: 0.0000e+00 - tn: 51.0000 - fn: 12.0000 - accuracy: 0.8652 - precision: 1.0000 - recall: 0.6842 - auc: 0.9936 - prc: 0.9920 - val_loss: 0.2686 - val_tp: 8.0000 - val_fp: 0.0000e+00 - val_tn: 33.0000 - val_fn: 3.0000 - val_accuracy: 0.9318 - val_precision: 1.0000 - val_recall: 0.7273 - val_auc: 0.9559 - val_prc: 0.9191 - 489ms/epoch - 163ms/step\n",
      "Epoch 15/50\n",
      "3/3 - 0s - loss: 0.2670 - tp: 26.0000 - fp: 0.0000e+00 - tn: 51.0000 - fn: 12.0000 - accuracy: 0.8652 - precision: 1.0000 - recall: 0.6842 - auc: 0.9954 - prc: 0.9939 - val_loss: 0.2803 - val_tp: 8.0000 - val_fp: 0.0000e+00 - val_tn: 33.0000 - val_fn: 3.0000 - val_accuracy: 0.9318 - val_precision: 1.0000 - val_recall: 0.7273 - val_auc: 0.9490 - val_prc: 0.9089 - 496ms/epoch - 165ms/step\n",
      "Epoch 16/50\n",
      "3/3 - 1s - loss: 0.2583 - tp: 26.0000 - fp: 0.0000e+00 - tn: 51.0000 - fn: 12.0000 - accuracy: 0.8652 - precision: 1.0000 - recall: 0.6842 - auc: 0.9925 - prc: 0.9910 - val_loss: 0.2543 - val_tp: 8.0000 - val_fp: 0.0000e+00 - val_tn: 33.0000 - val_fn: 3.0000 - val_accuracy: 0.9318 - val_precision: 1.0000 - val_recall: 0.7273 - val_auc: 0.9394 - val_prc: 0.8972 - 514ms/epoch - 171ms/step\n",
      "Epoch 17/50\n",
      "3/3 - 1s - loss: 0.2507 - tp: 26.0000 - fp: 0.0000e+00 - tn: 51.0000 - fn: 12.0000 - accuracy: 0.8652 - precision: 1.0000 - recall: 0.6842 - auc: 0.9951 - prc: 0.9938 - val_loss: 0.2611 - val_tp: 8.0000 - val_fp: 0.0000e+00 - val_tn: 33.0000 - val_fn: 3.0000 - val_accuracy: 0.9318 - val_precision: 1.0000 - val_recall: 0.7273 - val_auc: 0.9366 - val_prc: 0.8926 - 538ms/epoch - 179ms/step\n",
      "Epoch 18/50\n",
      "3/3 - 1s - loss: 0.2410 - tp: 27.0000 - fp: 0.0000e+00 - tn: 51.0000 - fn: 11.0000 - accuracy: 0.8764 - precision: 1.0000 - recall: 0.7105 - auc: 0.9969 - prc: 0.9961 - val_loss: 0.2817 - val_tp: 8.0000 - val_fp: 0.0000e+00 - val_tn: 33.0000 - val_fn: 3.0000 - val_accuracy: 0.9318 - val_precision: 1.0000 - val_recall: 0.7273 - val_auc: 0.9408 - val_prc: 0.8933 - 518ms/epoch - 173ms/step\n",
      "Epoch 19/50\n",
      "3/3 - 1s - loss: 0.2394 - tp: 27.0000 - fp: 0.0000e+00 - tn: 51.0000 - fn: 11.0000 - accuracy: 0.8764 - precision: 1.0000 - recall: 0.7105 - auc: 0.9969 - prc: 0.9959 - val_loss: 0.2638 - val_tp: 8.0000 - val_fp: 0.0000e+00 - val_tn: 33.0000 - val_fn: 3.0000 - val_accuracy: 0.9318 - val_precision: 1.0000 - val_recall: 0.7273 - val_auc: 0.9298 - val_prc: 0.8845 - 534ms/epoch - 178ms/step\n"
     ]
    },
    {
     "data": {
      "image/png": "[encoded data removed]",
      "text/plain": [
       "<Figure size 640x480 with 1 Axes>"
      ]
     },
     "metadata": {},
     "output_type": "display_data"
    },
    {
     "name": "stdout",
     "output_type": "stream",
     "text": [
      "loss :  0.2508032023906708\n",
      "tp :  8.0\n",
      "fp :  0.0\n",
      "tn :  33.0\n",
      "fn :  3.0\n",
      "accuracy :  0.9318181872367859\n",
      "Accuracy on validation set: 0.9318181872367859\n",
      "precision :  1.0\n",
      "recall :  0.7272727489471436\n",
      "auc :  0.9517905712127686\n",
      "prc :  0.9170820713043213\n",
      "results [0.2508032023906708, 8.0, 0.0, 33.0, 3.0, 0.9318181872367859, 1.0, 0.7272727489471436, 0.9517905712127686, 0.9170820713043213, 0.9318181872367859]\n",
      "K-fold cross-validation accuracy: 4.5191440880298615\n",
      "1/1 [==============================] - 0s 102ms/step\n",
      "Accuracy on holdout set: 0.9333333333333333\n",
      "Balanced Accuracy on holdout set: 0.9\n",
      "\n",
      "Classification Report:\n",
      "\n",
      "              precision    recall  f1-score   support\n",
      "\n",
      "           0      0.909     1.000     0.952        10\n",
      "           1      1.000     0.800     0.889         5\n",
      "\n",
      "    accuracy                          0.933        15\n",
      "   macro avg      0.955     0.900     0.921        15\n",
      "weighted avg      0.939     0.933     0.931        15\n",
      "\n"
     ]
    },
    {
     "data": {
      "image/png": "[encoded data removed]",
      "text/plain": [
       "<Figure size 400x300 with 2 Axes>"
      ]
     },
     "metadata": {},
     "output_type": "display_data"
    },
    {
     "name": "stdout",
     "output_type": "stream",
     "text": [
      "True Positive(TP)  =  4\n",
      "False Positive(FP) =  0\n",
      "True Negative(TN)  =  10\n",
      "False Negative(FN) =  1\n",
      "Accuracy of the binary classifier = 0.933\n"
     ]
    }
   ],
   "source": [
    "results = []\n",
    "\n",
    "for train_index, val_index in kf.split(X_train):\n",
    "    # split the dataset into training and validation sets for this fold\n",
    "    X_train_kf, X_val_kf = X_train[train_index], X_train[val_index]\n",
    "    y_train_kf, y_val_kf = y_train[train_index], y_train[val_index]\n",
    "    \n",
    "    history = model.train(X_train_kf, y_train_kf, X_val_kf, y_val_kf, epochs, batch_size)\n",
    "    plt.plot(history.history['loss'])\n",
    "    plt.show()\n",
    "    \n",
    "    results = model.evaluate(X_val_kf, y_val_kf)\n",
    "    \n",
    "    for name, value in zip(model.metrics_names(), results):\n",
    "        print(name, ': ', value)\n",
    "        if name == 'accuracy':\n",
    "            accuracy_kf = value\n",
    "            results.append(accuracy_kf)\n",
    "            print(f\"Accuracy on validation set: {accuracy_kf}\")\n",
    "    \n",
    "# Calculate the average accuracy score for the K-fold cross-validation\n",
    "print(\"results\",results)\n",
    "print(f\"K-fold cross-validation accuracy: {sum(results) / len(results)}\")\n",
    "\n",
    "# Train and evaluate the model using train-test split\n",
    "#model.train(X_train, y_train, X_holdout, y_holdout, epochs, batch_size)\n",
    "#y_pred = model.predict(X_holdout)\n",
    "#loss function categorical_crossentropy and activation function softmax\n",
    "#test_accuracy = accuracy_score(np.argmax(y_test, axis=1), np.argmax(y_pred, axis=1))\n",
    "#loss function binary_crossentropy and activation function sigmoid\n",
    "#test_accuracy = accuracy_score(np.round(y_holdout), np.round(y_pred))\n",
    "#print(f'Train-test split accuracy: {test_accuracy}')\n",
    "\n",
    "y_pred_holdout = model.predict(X_holdout)\n",
    "accuracy_holdout = accuracy_score(np.round(y_holdout), np.round(y_pred_holdout))\n",
    "print(f\"Accuracy on holdout set: {accuracy_holdout}\")\n",
    "\n",
    "balanced_accuracy_holdout = balanced_accuracy_score(np.round(y_holdout), np.round(y_pred_holdout))\n",
    "print(f\"Balanced Accuracy on holdout set: {balanced_accuracy_holdout}\")\n",
    "\n",
    "print(\"\\nClassification Report:\\n\")\n",
    "print(classification_report(np.round(y_holdout), np.round(y_pred_holdout), digits = 3))\n",
    "\n",
    "cm = confusion_matrix(np.round(y_holdout), np.round(y_pred_holdout))\n",
    "heat_map(cm)\n",
    "TN, FP, FN, TP = confusion_matrix(np.round(y_holdout), np.round(y_pred_holdout)).ravel()\n",
    "print('True Positive(TP)  = ', TP)\n",
    "print('False Positive(FP) = ', FP)\n",
    "print('True Negative(TN)  = ', TN)\n",
    "print('False Negative(FN) = ', FN)\n",
    "\n",
    "accuracy =  (TP + TN) / (TP + FP + TN + FN)\n",
    "print('Accuracy of the binary classifier = {:0.3f}'.format(accuracy))"
   ]
  },
  {
   "cell_type": "code",
   "execution_count": 22,
   "id": "8d1f35c4",
   "metadata": {},
   "outputs": [],
   "source": [
    "#STOP"
   ]
  }
 ],
 "metadata": {
  "kernelspec": {
   "display_name": "Python 3 (ipykernel)",
   "language": "python",
   "name": "python3"
  },
  "language_info": {
   "codemirror_mode": {
    "name": "ipython",
    "version": 3
   },
   "file_extension": ".py",
   "mimetype": "text/x-python",
   "name": "python",
   "nbconvert_exporter": "python",
   "pygments_lexer": "ipython3",
   "version": "3.9.6"
  }
 },
 "nbformat": 4,
 "nbformat_minor": 5
}
