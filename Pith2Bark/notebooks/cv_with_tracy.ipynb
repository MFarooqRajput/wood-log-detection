{
 "cells": [
  {
   "cell_type": "code",
   "execution_count": 1,
   "id": "f2bc938e",
   "metadata": {},
   "outputs": [
    {
     "name": "stdout",
     "output_type": "stream",
     "text": [
      "/Users/muhammadfarooq/Codebase/wood-log-detection/Pith2Bark\n"
     ]
    }
   ],
   "source": [
    "cd .."
   ]
  },
  {
   "cell_type": "code",
   "execution_count": 2,
   "id": "15f37520",
   "metadata": {},
   "outputs": [
    {
     "name": "stderr",
     "output_type": "stream",
     "text": [
      "2023-04-30 12:44:38.264754: I tensorflow/core/platform/cpu_feature_guard.cc:182] This TensorFlow binary is optimized to use available CPU instructions in performance-critical operations.\n",
      "To enable the following instructions: AVX2 AVX512F AVX512_VNNI FMA, in other operations, rebuild TensorFlow with the appropriate compiler flags.\n"
     ]
    }
   ],
   "source": [
    "from src.cv_experiment import with_model\n",
    "from src.cv_model import Model\n",
    "from src.cv_rmse import multi_rmse"
   ]
  },
  {
   "cell_type": "markdown",
   "id": "a382f8b5",
   "metadata": {},
   "source": [
    "# Configurations"
   ]
  },
  {
   "cell_type": "code",
   "execution_count": 3,
   "id": "1aef55ef",
   "metadata": {},
   "outputs": [],
   "source": [
    "#data directory here!\n",
    "data_dir = \"cv_dataset/tracy\"\n",
    "\n",
    "#ranking file\n",
    "ranking_url = \"cv_dataset/tracy.xlsx\"\n",
    "\n",
    "#pickle file\n",
    "pith_url = \"estimated_pith/tracy.pickle\""
   ]
  },
  {
   "cell_type": "markdown",
   "id": "2738afaf",
   "metadata": {},
   "source": [
    "## Model"
   ]
  },
  {
   "cell_type": "code",
   "execution_count": 4,
   "id": "f404c659",
   "metadata": {},
   "outputs": [],
   "source": [
    "#RMSE file\n",
    "rmse_url = \"cv_output/tracy_rmse.csv\"\n",
    "\n",
    "#rings info file\n",
    "rings_url = \"cv_output/tracy_rings.csv\"\n",
    "\n",
    "#no of lines and points\n",
    "lines = 16\n",
    "points = 150"
   ]
  },
  {
   "cell_type": "code",
   "execution_count": 5,
   "id": "51fb0795",
   "metadata": {},
   "outputs": [
    {
     "name": "stdout",
     "output_type": "stream",
     "text": [
      "0 6701.jpg 94.0\n",
      "1 6728.jpg 97.2\n",
      "2 6700.jpg 101.2\n",
      "3 6717.jpg 73.2\n",
      "4 6688.jpg 119.0\n",
      "5 6698.jpg 73.2\n",
      "6 6707.jpg 77.2\n",
      "7 6713.jpg 83.2\n",
      "8 6710.jpg 81.2\n",
      "9 6711.jpg 83.0\n",
      "10 6697.jpg 85.0\n",
      "11 6720.jpg 59.2\n",
      "12 6708.jpg 81.2\n",
      "13 6682.jpg 114.2\n",
      "14 6694.jpg 119.0\n",
      "15 6681.jpg 127.0\n",
      "16 6726.jpg 86.0\n",
      "17 6686.jpg 233.0\n",
      "18 6692.jpg 133.2\n",
      "19 6719.jpg 61.2\n",
      "20 6687.jpg 123.0\n"
     ]
    },
    {
     "data": {
      "text/html": [
       "<div>\n",
       "<style scoped>\n",
       "    .dataframe tbody tr th:only-of-type {\n",
       "        vertical-align: middle;\n",
       "    }\n",
       "\n",
       "    .dataframe tbody tr th {\n",
       "        vertical-align: top;\n",
       "    }\n",
       "\n",
       "    .dataframe thead th {\n",
       "        text-align: right;\n",
       "    }\n",
       "</style>\n",
       "<table border=\"1\" class=\"dataframe\">\n",
       "  <thead>\n",
       "    <tr style=\"text-align: right;\">\n",
       "      <th></th>\n",
       "      <th>model</th>\n",
       "      <th>subseq</th>\n",
       "      <th>peaks</th>\n",
       "      <th>binary</th>\n",
       "      <th>mwa</th>\n",
       "    </tr>\n",
       "  </thead>\n",
       "  <tbody>\n",
       "    <tr>\n",
       "      <th>0</th>\n",
       "      <td>Grayscale</td>\n",
       "      <td>318.302</td>\n",
       "      <td>77.657</td>\n",
       "      <td>293.758</td>\n",
       "      <td>57.035</td>\n",
       "    </tr>\n",
       "  </tbody>\n",
       "</table>\n",
       "</div>"
      ],
      "text/plain": [
       "       model   subseq   peaks   binary     mwa\n",
       "0  Grayscale  318.302  77.657  293.758  57.035"
      ]
     },
     "metadata": {},
     "output_type": "display_data"
    }
   ],
   "source": [
    "with_model(Model.GRAYSCALE, lines, points, data_dir, ranking_url, pith_url, rings_url, rmse_url)"
   ]
  },
  {
   "cell_type": "code",
   "execution_count": 6,
   "id": "e9558f17",
   "metadata": {},
   "outputs": [
    {
     "name": "stdout",
     "output_type": "stream",
     "text": [
      "0 6701.jpg 94.0\n",
      "1 6728.jpg 97.2\n",
      "2 6700.jpg 101.2\n",
      "3 6717.jpg 73.2\n",
      "4 6688.jpg 119.0\n",
      "5 6698.jpg 73.2\n",
      "6 6707.jpg 77.2\n",
      "7 6713.jpg 83.2\n",
      "8 6710.jpg 81.2\n",
      "9 6711.jpg 83.0\n",
      "10 6697.jpg 85.0\n",
      "11 6720.jpg 59.2\n",
      "12 6708.jpg 81.2\n",
      "13 6682.jpg 114.2\n",
      "14 6694.jpg 119.0\n",
      "15 6681.jpg 127.0\n",
      "16 6726.jpg 86.0\n",
      "17 6686.jpg 233.0\n",
      "18 6692.jpg 133.2\n",
      "19 6719.jpg 61.2\n",
      "20 6687.jpg 123.0\n"
     ]
    },
    {
     "data": {
      "text/html": [
       "<div>\n",
       "<style scoped>\n",
       "    .dataframe tbody tr th:only-of-type {\n",
       "        vertical-align: middle;\n",
       "    }\n",
       "\n",
       "    .dataframe tbody tr th {\n",
       "        vertical-align: top;\n",
       "    }\n",
       "\n",
       "    .dataframe thead th {\n",
       "        text-align: right;\n",
       "    }\n",
       "</style>\n",
       "<table border=\"1\" class=\"dataframe\">\n",
       "  <thead>\n",
       "    <tr style=\"text-align: right;\">\n",
       "      <th></th>\n",
       "      <th>model</th>\n",
       "      <th>subseq</th>\n",
       "      <th>peaks</th>\n",
       "      <th>binary</th>\n",
       "      <th>mwa</th>\n",
       "    </tr>\n",
       "  </thead>\n",
       "  <tbody>\n",
       "    <tr>\n",
       "      <th>0</th>\n",
       "      <td>Polar</td>\n",
       "      <td>145.256</td>\n",
       "      <td>91.525</td>\n",
       "      <td>355.7</td>\n",
       "      <td>61.84</td>\n",
       "    </tr>\n",
       "  </tbody>\n",
       "</table>\n",
       "</div>"
      ],
      "text/plain": [
       "   model   subseq   peaks  binary    mwa\n",
       "0  Polar  145.256  91.525   355.7  61.84"
      ]
     },
     "metadata": {},
     "output_type": "display_data"
    }
   ],
   "source": [
    "with_model(Model.POLAR, lines, points, data_dir, ranking_url, pith_url, rings_url, rmse_url)"
   ]
  },
  {
   "cell_type": "code",
   "execution_count": 7,
   "id": "1b0ac3f1",
   "metadata": {},
   "outputs": [
    {
     "name": "stdout",
     "output_type": "stream",
     "text": [
      "0 6701.jpg 94.0\n",
      "1 6728.jpg 97.2\n",
      "2 6700.jpg 101.2\n",
      "3 6717.jpg 73.2\n",
      "4 6688.jpg 119.0\n",
      "5 6698.jpg 73.2\n",
      "6 6707.jpg 77.2\n",
      "7 6713.jpg 83.2\n",
      "8 6710.jpg 81.2\n",
      "9 6711.jpg 83.0\n",
      "10 6697.jpg 85.0\n",
      "11 6720.jpg 59.2\n",
      "12 6708.jpg 81.2\n",
      "13 6682.jpg 114.2\n",
      "14 6694.jpg 119.0\n",
      "15 6681.jpg 127.0\n",
      "16 6726.jpg 86.0\n",
      "17 6686.jpg 233.0\n",
      "18 6692.jpg 133.2\n",
      "19 6719.jpg 61.2\n",
      "20 6687.jpg 123.0\n"
     ]
    },
    {
     "data": {
      "text/html": [
       "<div>\n",
       "<style scoped>\n",
       "    .dataframe tbody tr th:only-of-type {\n",
       "        vertical-align: middle;\n",
       "    }\n",
       "\n",
       "    .dataframe tbody tr th {\n",
       "        vertical-align: top;\n",
       "    }\n",
       "\n",
       "    .dataframe thead th {\n",
       "        text-align: right;\n",
       "    }\n",
       "</style>\n",
       "<table border=\"1\" class=\"dataframe\">\n",
       "  <thead>\n",
       "    <tr style=\"text-align: right;\">\n",
       "      <th></th>\n",
       "      <th>model</th>\n",
       "      <th>subseq</th>\n",
       "      <th>peaks</th>\n",
       "      <th>binary</th>\n",
       "      <th>mwa</th>\n",
       "    </tr>\n",
       "  </thead>\n",
       "  <tbody>\n",
       "    <tr>\n",
       "      <th>0</th>\n",
       "      <td>Polar Pith</td>\n",
       "      <td>143.005</td>\n",
       "      <td>91.352</td>\n",
       "      <td>338.649</td>\n",
       "      <td>62.229</td>\n",
       "    </tr>\n",
       "  </tbody>\n",
       "</table>\n",
       "</div>"
      ],
      "text/plain": [
       "        model   subseq   peaks   binary     mwa\n",
       "0  Polar Pith  143.005  91.352  338.649  62.229"
      ]
     },
     "metadata": {},
     "output_type": "display_data"
    }
   ],
   "source": [
    "with_model(Model.POLAR_PITH, lines, points, data_dir, ranking_url, pith_url, rings_url, rmse_url)"
   ]
  },
  {
   "cell_type": "code",
   "execution_count": null,
   "id": "35b80fb0",
   "metadata": {},
   "outputs": [],
   "source": []
  },
  {
   "cell_type": "code",
   "execution_count": 8,
   "id": "58f9f265",
   "metadata": {},
   "outputs": [
    {
     "name": "stdout",
     "output_type": "stream",
     "text": [
      "0 6701.jpg 94.0\n",
      "1 6728.jpg 97.2\n",
      "2 6700.jpg 101.2\n",
      "3 6717.jpg 73.2\n",
      "4 6688.jpg 119.0\n",
      "5 6698.jpg 73.2\n",
      "6 6707.jpg 77.2\n",
      "7 6713.jpg 83.2\n",
      "8 6710.jpg 81.2\n",
      "9 6711.jpg 83.0\n",
      "10 6697.jpg 85.0\n",
      "11 6720.jpg 59.2\n",
      "12 6708.jpg 81.2\n",
      "13 6682.jpg 114.2\n",
      "14 6694.jpg 119.0\n",
      "15 6681.jpg 127.0\n",
      "16 6726.jpg 86.0\n",
      "17 6686.jpg 233.0\n",
      "18 6692.jpg 133.2\n",
      "19 6719.jpg 61.2\n",
      "20 6687.jpg 123.0\n"
     ]
    },
    {
     "data": {
      "text/html": [
       "<div>\n",
       "<style scoped>\n",
       "    .dataframe tbody tr th:only-of-type {\n",
       "        vertical-align: middle;\n",
       "    }\n",
       "\n",
       "    .dataframe tbody tr th {\n",
       "        vertical-align: top;\n",
       "    }\n",
       "\n",
       "    .dataframe thead th {\n",
       "        text-align: right;\n",
       "    }\n",
       "</style>\n",
       "<table border=\"1\" class=\"dataframe\">\n",
       "  <thead>\n",
       "    <tr style=\"text-align: right;\">\n",
       "      <th></th>\n",
       "      <th>model</th>\n",
       "      <th>subseq</th>\n",
       "      <th>peaks</th>\n",
       "      <th>binary</th>\n",
       "      <th>mwa</th>\n",
       "    </tr>\n",
       "  </thead>\n",
       "  <tbody>\n",
       "    <tr>\n",
       "      <th>0</th>\n",
       "      <td>Sobel</td>\n",
       "      <td>423.259</td>\n",
       "      <td>70.29</td>\n",
       "      <td>386.112</td>\n",
       "      <td>113.609</td>\n",
       "    </tr>\n",
       "  </tbody>\n",
       "</table>\n",
       "</div>"
      ],
      "text/plain": [
       "   model   subseq  peaks   binary      mwa\n",
       "0  Sobel  423.259  70.29  386.112  113.609"
      ]
     },
     "metadata": {},
     "output_type": "display_data"
    }
   ],
   "source": [
    "with_model(Model.SOBEL_EDGE, lines, points, data_dir, ranking_url, pith_url, rings_url, rmse_url)"
   ]
  },
  {
   "cell_type": "code",
   "execution_count": 9,
   "id": "48d1849e",
   "metadata": {},
   "outputs": [
    {
     "name": "stdout",
     "output_type": "stream",
     "text": [
      "0 6701.jpg 94.0\n",
      "1 6728.jpg 97.2\n",
      "2 6700.jpg 101.2\n",
      "3 6717.jpg 73.2\n",
      "4 6688.jpg 119.0\n",
      "5 6698.jpg 73.2\n",
      "6 6707.jpg 77.2\n",
      "7 6713.jpg 83.2\n",
      "8 6710.jpg 81.2\n",
      "9 6711.jpg 83.0\n",
      "10 6697.jpg 85.0\n",
      "11 6720.jpg 59.2\n",
      "12 6708.jpg 81.2\n",
      "13 6682.jpg 114.2\n",
      "14 6694.jpg 119.0\n",
      "15 6681.jpg 127.0\n",
      "16 6726.jpg 86.0\n",
      "17 6686.jpg 233.0\n",
      "18 6692.jpg 133.2\n",
      "19 6719.jpg 61.2\n",
      "20 6687.jpg 123.0\n"
     ]
    },
    {
     "data": {
      "text/html": [
       "<div>\n",
       "<style scoped>\n",
       "    .dataframe tbody tr th:only-of-type {\n",
       "        vertical-align: middle;\n",
       "    }\n",
       "\n",
       "    .dataframe tbody tr th {\n",
       "        vertical-align: top;\n",
       "    }\n",
       "\n",
       "    .dataframe thead th {\n",
       "        text-align: right;\n",
       "    }\n",
       "</style>\n",
       "<table border=\"1\" class=\"dataframe\">\n",
       "  <thead>\n",
       "    <tr style=\"text-align: right;\">\n",
       "      <th></th>\n",
       "      <th>model</th>\n",
       "      <th>subseq</th>\n",
       "      <th>peaks</th>\n",
       "      <th>binary</th>\n",
       "      <th>mwa</th>\n",
       "    </tr>\n",
       "  </thead>\n",
       "  <tbody>\n",
       "    <tr>\n",
       "      <th>0</th>\n",
       "      <td>Sobel(blur)</td>\n",
       "      <td>360.202</td>\n",
       "      <td>55.148</td>\n",
       "      <td>343.221</td>\n",
       "      <td>71.629</td>\n",
       "    </tr>\n",
       "  </tbody>\n",
       "</table>\n",
       "</div>"
      ],
      "text/plain": [
       "         model   subseq   peaks   binary     mwa\n",
       "0  Sobel(blur)  360.202  55.148  343.221  71.629"
      ]
     },
     "metadata": {},
     "output_type": "display_data"
    }
   ],
   "source": [
    "with_model(Model.SOBEL_EDGE_BLUR, lines, points, data_dir, ranking_url, pith_url, rings_url, rmse_url)"
   ]
  },
  {
   "cell_type": "code",
   "execution_count": 10,
   "id": "bfdb6e13",
   "metadata": {},
   "outputs": [
    {
     "name": "stdout",
     "output_type": "stream",
     "text": [
      "0 6701.jpg 94.0\n",
      "1 6728.jpg 97.2\n",
      "2 6700.jpg 101.2\n",
      "3 6717.jpg 73.2\n",
      "4 6688.jpg 119.0\n",
      "5 6698.jpg 73.2\n",
      "6 6707.jpg 77.2\n",
      "7 6713.jpg 83.2\n",
      "8 6710.jpg 81.2\n",
      "9 6711.jpg 83.0\n",
      "10 6697.jpg 85.0\n",
      "11 6720.jpg 59.2\n",
      "12 6708.jpg 81.2\n",
      "13 6682.jpg 114.2\n",
      "14 6694.jpg 119.0\n",
      "15 6681.jpg 127.0\n",
      "16 6726.jpg 86.0\n",
      "17 6686.jpg 233.0\n",
      "18 6692.jpg 133.2\n",
      "19 6719.jpg 61.2\n",
      "20 6687.jpg 123.0\n"
     ]
    },
    {
     "data": {
      "text/html": [
       "<div>\n",
       "<style scoped>\n",
       "    .dataframe tbody tr th:only-of-type {\n",
       "        vertical-align: middle;\n",
       "    }\n",
       "\n",
       "    .dataframe tbody tr th {\n",
       "        vertical-align: top;\n",
       "    }\n",
       "\n",
       "    .dataframe thead th {\n",
       "        text-align: right;\n",
       "    }\n",
       "</style>\n",
       "<table border=\"1\" class=\"dataframe\">\n",
       "  <thead>\n",
       "    <tr style=\"text-align: right;\">\n",
       "      <th></th>\n",
       "      <th>model</th>\n",
       "      <th>subseq</th>\n",
       "      <th>peaks</th>\n",
       "      <th>binary</th>\n",
       "      <th>mwa</th>\n",
       "    </tr>\n",
       "  </thead>\n",
       "  <tbody>\n",
       "    <tr>\n",
       "      <th>0</th>\n",
       "      <td>Canny</td>\n",
       "      <td>71.815</td>\n",
       "      <td>54.801</td>\n",
       "      <td>270.431</td>\n",
       "      <td>188.566</td>\n",
       "    </tr>\n",
       "  </tbody>\n",
       "</table>\n",
       "</div>"
      ],
      "text/plain": [
       "   model  subseq   peaks   binary      mwa\n",
       "0  Canny  71.815  54.801  270.431  188.566"
      ]
     },
     "metadata": {},
     "output_type": "display_data"
    }
   ],
   "source": [
    "with_model(Model.CANNY_EDGE, lines, points, data_dir, ranking_url, pith_url, rings_url, rmse_url)"
   ]
  },
  {
   "cell_type": "code",
   "execution_count": 11,
   "id": "af83b217",
   "metadata": {},
   "outputs": [
    {
     "name": "stdout",
     "output_type": "stream",
     "text": [
      "0 6701.jpg 94.0\n",
      "1 6728.jpg 97.2\n",
      "2 6700.jpg 101.2\n",
      "3 6717.jpg 73.2\n",
      "4 6688.jpg 119.0\n",
      "5 6698.jpg 73.2\n",
      "6 6707.jpg 77.2\n",
      "7 6713.jpg 83.2\n",
      "8 6710.jpg 81.2\n",
      "9 6711.jpg 83.0\n",
      "10 6697.jpg 85.0\n",
      "11 6720.jpg 59.2\n",
      "12 6708.jpg 81.2\n",
      "13 6682.jpg 114.2\n",
      "14 6694.jpg 119.0\n",
      "15 6681.jpg 127.0\n",
      "16 6726.jpg 86.0\n",
      "17 6686.jpg 233.0\n",
      "18 6692.jpg 133.2\n",
      "19 6719.jpg 61.2\n",
      "20 6687.jpg 123.0\n"
     ]
    },
    {
     "data": {
      "text/html": [
       "<div>\n",
       "<style scoped>\n",
       "    .dataframe tbody tr th:only-of-type {\n",
       "        vertical-align: middle;\n",
       "    }\n",
       "\n",
       "    .dataframe tbody tr th {\n",
       "        vertical-align: top;\n",
       "    }\n",
       "\n",
       "    .dataframe thead th {\n",
       "        text-align: right;\n",
       "    }\n",
       "</style>\n",
       "<table border=\"1\" class=\"dataframe\">\n",
       "  <thead>\n",
       "    <tr style=\"text-align: right;\">\n",
       "      <th></th>\n",
       "      <th>model</th>\n",
       "      <th>subseq</th>\n",
       "      <th>peaks</th>\n",
       "      <th>binary</th>\n",
       "      <th>mwa</th>\n",
       "    </tr>\n",
       "  </thead>\n",
       "  <tbody>\n",
       "    <tr>\n",
       "      <th>0</th>\n",
       "      <td>Canny(otsu)</td>\n",
       "      <td>66.376</td>\n",
       "      <td>55.335</td>\n",
       "      <td>250.446</td>\n",
       "      <td>172.233</td>\n",
       "    </tr>\n",
       "  </tbody>\n",
       "</table>\n",
       "</div>"
      ],
      "text/plain": [
       "         model  subseq   peaks   binary      mwa\n",
       "0  Canny(otsu)  66.376  55.335  250.446  172.233"
      ]
     },
     "metadata": {},
     "output_type": "display_data"
    }
   ],
   "source": [
    "with_model(Model.CANNY_EDGE_OTSU, lines, points, data_dir, ranking_url, pith_url, rings_url, rmse_url)"
   ]
  },
  {
   "cell_type": "code",
   "execution_count": 12,
   "id": "aaf7c5d5",
   "metadata": {},
   "outputs": [
    {
     "name": "stdout",
     "output_type": "stream",
     "text": [
      "0 6701.jpg 94.0\n",
      "1 6728.jpg 97.2\n",
      "2 6700.jpg 101.2\n",
      "3 6717.jpg 73.2\n",
      "4 6688.jpg 119.0\n",
      "5 6698.jpg 73.2\n",
      "6 6707.jpg 77.2\n",
      "7 6713.jpg 83.2\n",
      "8 6710.jpg 81.2\n",
      "9 6711.jpg 83.0\n",
      "10 6697.jpg 85.0\n",
      "11 6720.jpg 59.2\n",
      "12 6708.jpg 81.2\n",
      "13 6682.jpg 114.2\n",
      "14 6694.jpg 119.0\n",
      "15 6681.jpg 127.0\n",
      "16 6726.jpg 86.0\n",
      "17 6686.jpg 233.0\n",
      "18 6692.jpg 133.2\n",
      "19 6719.jpg 61.2\n",
      "20 6687.jpg 123.0\n"
     ]
    },
    {
     "data": {
      "text/html": [
       "<div>\n",
       "<style scoped>\n",
       "    .dataframe tbody tr th:only-of-type {\n",
       "        vertical-align: middle;\n",
       "    }\n",
       "\n",
       "    .dataframe tbody tr th {\n",
       "        vertical-align: top;\n",
       "    }\n",
       "\n",
       "    .dataframe thead th {\n",
       "        text-align: right;\n",
       "    }\n",
       "</style>\n",
       "<table border=\"1\" class=\"dataframe\">\n",
       "  <thead>\n",
       "    <tr style=\"text-align: right;\">\n",
       "      <th></th>\n",
       "      <th>model</th>\n",
       "      <th>subseq</th>\n",
       "      <th>peaks</th>\n",
       "      <th>binary</th>\n",
       "      <th>mwa</th>\n",
       "    </tr>\n",
       "  </thead>\n",
       "  <tbody>\n",
       "    <tr>\n",
       "      <th>0</th>\n",
       "      <td>Canny(triangle)</td>\n",
       "      <td>87.694</td>\n",
       "      <td>66.921</td>\n",
       "      <td>281.214</td>\n",
       "      <td>200.409</td>\n",
       "    </tr>\n",
       "  </tbody>\n",
       "</table>\n",
       "</div>"
      ],
      "text/plain": [
       "             model  subseq   peaks   binary      mwa\n",
       "0  Canny(triangle)  87.694  66.921  281.214  200.409"
      ]
     },
     "metadata": {},
     "output_type": "display_data"
    }
   ],
   "source": [
    "with_model(Model.CANNY_EDGE_TRIANGLE, lines, points, data_dir, ranking_url, pith_url, rings_url, rmse_url)"
   ]
  },
  {
   "cell_type": "code",
   "execution_count": 13,
   "id": "37b04875",
   "metadata": {},
   "outputs": [
    {
     "name": "stdout",
     "output_type": "stream",
     "text": [
      "0 6701.jpg 94.0\n",
      "1 6728.jpg 97.2\n",
      "2 6700.jpg 101.2\n",
      "3 6717.jpg 73.2\n",
      "4 6688.jpg 119.0\n",
      "5 6698.jpg 73.2\n",
      "6 6707.jpg 77.2\n",
      "7 6713.jpg 83.2\n",
      "8 6710.jpg 81.2\n",
      "9 6711.jpg 83.0\n",
      "10 6697.jpg 85.0\n",
      "11 6720.jpg 59.2\n",
      "12 6708.jpg 81.2\n",
      "13 6682.jpg 114.2\n",
      "14 6694.jpg 119.0\n",
      "15 6681.jpg 127.0\n",
      "16 6726.jpg 86.0\n",
      "17 6686.jpg 233.0\n",
      "18 6692.jpg 133.2\n",
      "19 6719.jpg 61.2\n",
      "20 6687.jpg 123.0\n"
     ]
    },
    {
     "data": {
      "text/html": [
       "<div>\n",
       "<style scoped>\n",
       "    .dataframe tbody tr th:only-of-type {\n",
       "        vertical-align: middle;\n",
       "    }\n",
       "\n",
       "    .dataframe tbody tr th {\n",
       "        vertical-align: top;\n",
       "    }\n",
       "\n",
       "    .dataframe thead th {\n",
       "        text-align: right;\n",
       "    }\n",
       "</style>\n",
       "<table border=\"1\" class=\"dataframe\">\n",
       "  <thead>\n",
       "    <tr style=\"text-align: right;\">\n",
       "      <th></th>\n",
       "      <th>model</th>\n",
       "      <th>subseq</th>\n",
       "      <th>peaks</th>\n",
       "      <th>binary</th>\n",
       "      <th>mwa</th>\n",
       "    </tr>\n",
       "  </thead>\n",
       "  <tbody>\n",
       "    <tr>\n",
       "      <th>0</th>\n",
       "      <td>Canny(manual)</td>\n",
       "      <td>63.056</td>\n",
       "      <td>55.92</td>\n",
       "      <td>235.021</td>\n",
       "      <td>159.261</td>\n",
       "    </tr>\n",
       "  </tbody>\n",
       "</table>\n",
       "</div>"
      ],
      "text/plain": [
       "           model  subseq  peaks   binary      mwa\n",
       "0  Canny(manual)  63.056  55.92  235.021  159.261"
      ]
     },
     "metadata": {},
     "output_type": "display_data"
    }
   ],
   "source": [
    "with_model(Model.CANNY_EDGE_MANUAL, lines, points, data_dir, ranking_url, pith_url, rings_url, rmse_url)"
   ]
  },
  {
   "cell_type": "code",
   "execution_count": 14,
   "id": "dadfd80a",
   "metadata": {},
   "outputs": [
    {
     "name": "stdout",
     "output_type": "stream",
     "text": [
      "0 6701.jpg 94.0\n",
      "1 6728.jpg 97.2\n",
      "2 6700.jpg 101.2\n",
      "3 6717.jpg 73.2\n",
      "4 6688.jpg 119.0\n",
      "5 6698.jpg 73.2\n",
      "6 6707.jpg 77.2\n",
      "7 6713.jpg 83.2\n",
      "8 6710.jpg 81.2\n",
      "9 6711.jpg 83.0\n",
      "10 6697.jpg 85.0\n",
      "11 6720.jpg 59.2\n",
      "12 6708.jpg 81.2\n",
      "13 6682.jpg 114.2\n",
      "14 6694.jpg 119.0\n",
      "15 6681.jpg 127.0\n",
      "16 6726.jpg 86.0\n",
      "17 6686.jpg 233.0\n",
      "18 6692.jpg 133.2\n",
      "19 6719.jpg 61.2\n",
      "20 6687.jpg 123.0\n"
     ]
    },
    {
     "data": {
      "text/html": [
       "<div>\n",
       "<style scoped>\n",
       "    .dataframe tbody tr th:only-of-type {\n",
       "        vertical-align: middle;\n",
       "    }\n",
       "\n",
       "    .dataframe tbody tr th {\n",
       "        vertical-align: top;\n",
       "    }\n",
       "\n",
       "    .dataframe thead th {\n",
       "        text-align: right;\n",
       "    }\n",
       "</style>\n",
       "<table border=\"1\" class=\"dataframe\">\n",
       "  <thead>\n",
       "    <tr style=\"text-align: right;\">\n",
       "      <th></th>\n",
       "      <th>model</th>\n",
       "      <th>subseq</th>\n",
       "      <th>peaks</th>\n",
       "      <th>binary</th>\n",
       "      <th>mwa</th>\n",
       "    </tr>\n",
       "  </thead>\n",
       "  <tbody>\n",
       "    <tr>\n",
       "      <th>0</th>\n",
       "      <td>Canny(blur)</td>\n",
       "      <td>56.077</td>\n",
       "      <td>58.679</td>\n",
       "      <td>206.078</td>\n",
       "      <td>138.037</td>\n",
       "    </tr>\n",
       "  </tbody>\n",
       "</table>\n",
       "</div>"
      ],
      "text/plain": [
       "         model  subseq   peaks   binary      mwa\n",
       "0  Canny(blur)  56.077  58.679  206.078  138.037"
      ]
     },
     "metadata": {},
     "output_type": "display_data"
    }
   ],
   "source": [
    "with_model(Model.CANNY_EDGE_BLUR, lines, points, data_dir, ranking_url, pith_url, rings_url, rmse_url)"
   ]
  },
  {
   "cell_type": "code",
   "execution_count": 15,
   "id": "e8ab48ad",
   "metadata": {},
   "outputs": [
    {
     "name": "stdout",
     "output_type": "stream",
     "text": [
      "0 6701.jpg 94.0\n",
      "1 6728.jpg 97.2\n",
      "2 6700.jpg 101.2\n",
      "3 6717.jpg 73.2\n",
      "4 6688.jpg 119.0\n",
      "5 6698.jpg 73.2\n",
      "6 6707.jpg 77.2\n",
      "7 6713.jpg 83.2\n",
      "8 6710.jpg 81.2\n",
      "9 6711.jpg 83.0\n",
      "10 6697.jpg 85.0\n",
      "11 6720.jpg 59.2\n",
      "12 6708.jpg 81.2\n",
      "13 6682.jpg 114.2\n",
      "14 6694.jpg 119.0\n",
      "15 6681.jpg 127.0\n",
      "16 6726.jpg 86.0\n",
      "17 6686.jpg 233.0\n",
      "18 6692.jpg 133.2\n",
      "19 6719.jpg 61.2\n",
      "20 6687.jpg 123.0\n"
     ]
    },
    {
     "data": {
      "text/html": [
       "<div>\n",
       "<style scoped>\n",
       "    .dataframe tbody tr th:only-of-type {\n",
       "        vertical-align: middle;\n",
       "    }\n",
       "\n",
       "    .dataframe tbody tr th {\n",
       "        vertical-align: top;\n",
       "    }\n",
       "\n",
       "    .dataframe thead th {\n",
       "        text-align: right;\n",
       "    }\n",
       "</style>\n",
       "<table border=\"1\" class=\"dataframe\">\n",
       "  <thead>\n",
       "    <tr style=\"text-align: right;\">\n",
       "      <th></th>\n",
       "      <th>model</th>\n",
       "      <th>subseq</th>\n",
       "      <th>peaks</th>\n",
       "      <th>binary</th>\n",
       "      <th>mwa</th>\n",
       "    </tr>\n",
       "  </thead>\n",
       "  <tbody>\n",
       "    <tr>\n",
       "      <th>0</th>\n",
       "      <td>Canny(blur otsu)</td>\n",
       "      <td>58.407</td>\n",
       "      <td>62.308</td>\n",
       "      <td>188.247</td>\n",
       "      <td>123.644</td>\n",
       "    </tr>\n",
       "  </tbody>\n",
       "</table>\n",
       "</div>"
      ],
      "text/plain": [
       "              model  subseq   peaks   binary      mwa\n",
       "0  Canny(blur otsu)  58.407  62.308  188.247  123.644"
      ]
     },
     "metadata": {},
     "output_type": "display_data"
    }
   ],
   "source": [
    "with_model(Model.CANNY_EDGE_BLUR_OTSU, lines, points, data_dir, ranking_url, pith_url, rings_url, rmse_url)"
   ]
  },
  {
   "cell_type": "code",
   "execution_count": 16,
   "id": "23d1a996",
   "metadata": {},
   "outputs": [
    {
     "name": "stdout",
     "output_type": "stream",
     "text": [
      "0 6701.jpg 94.0\n",
      "1 6728.jpg 97.2\n",
      "2 6700.jpg 101.2\n",
      "3 6717.jpg 73.2\n",
      "4 6688.jpg 119.0\n",
      "5 6698.jpg 73.2\n",
      "6 6707.jpg 77.2\n",
      "7 6713.jpg 83.2\n",
      "8 6710.jpg 81.2\n",
      "9 6711.jpg 83.0\n",
      "10 6697.jpg 85.0\n",
      "11 6720.jpg 59.2\n",
      "12 6708.jpg 81.2\n",
      "13 6682.jpg 114.2\n",
      "14 6694.jpg 119.0\n",
      "15 6681.jpg 127.0\n",
      "16 6726.jpg 86.0\n",
      "17 6686.jpg 233.0\n",
      "18 6692.jpg 133.2\n",
      "19 6719.jpg 61.2\n",
      "20 6687.jpg 123.0\n"
     ]
    },
    {
     "data": {
      "text/html": [
       "<div>\n",
       "<style scoped>\n",
       "    .dataframe tbody tr th:only-of-type {\n",
       "        vertical-align: middle;\n",
       "    }\n",
       "\n",
       "    .dataframe tbody tr th {\n",
       "        vertical-align: top;\n",
       "    }\n",
       "\n",
       "    .dataframe thead th {\n",
       "        text-align: right;\n",
       "    }\n",
       "</style>\n",
       "<table border=\"1\" class=\"dataframe\">\n",
       "  <thead>\n",
       "    <tr style=\"text-align: right;\">\n",
       "      <th></th>\n",
       "      <th>model</th>\n",
       "      <th>subseq</th>\n",
       "      <th>peaks</th>\n",
       "      <th>binary</th>\n",
       "      <th>mwa</th>\n",
       "    </tr>\n",
       "  </thead>\n",
       "  <tbody>\n",
       "    <tr>\n",
       "      <th>0</th>\n",
       "      <td>Canny(blur triangle)</td>\n",
       "      <td>73.47</td>\n",
       "      <td>69.039</td>\n",
       "      <td>230.908</td>\n",
       "      <td>164.094</td>\n",
       "    </tr>\n",
       "  </tbody>\n",
       "</table>\n",
       "</div>"
      ],
      "text/plain": [
       "                  model  subseq   peaks   binary      mwa\n",
       "0  Canny(blur triangle)   73.47  69.039  230.908  164.094"
      ]
     },
     "metadata": {},
     "output_type": "display_data"
    }
   ],
   "source": [
    "with_model(Model.CANNY_EDGE_BLUR_TRIANGLE, lines, points, data_dir, ranking_url, pith_url, rings_url, rmse_url)"
   ]
  },
  {
   "cell_type": "code",
   "execution_count": 17,
   "id": "21804530",
   "metadata": {},
   "outputs": [
    {
     "name": "stdout",
     "output_type": "stream",
     "text": [
      "0 6701.jpg 94.0\n",
      "1 6728.jpg 97.2\n",
      "2 6700.jpg 101.2\n",
      "3 6717.jpg 73.2\n",
      "4 6688.jpg 119.0\n",
      "5 6698.jpg 73.2\n",
      "6 6707.jpg 77.2\n",
      "7 6713.jpg 83.2\n",
      "8 6710.jpg 81.2\n",
      "9 6711.jpg 83.0\n",
      "10 6697.jpg 85.0\n",
      "11 6720.jpg 59.2\n",
      "12 6708.jpg 81.2\n",
      "13 6682.jpg 114.2\n",
      "14 6694.jpg 119.0\n",
      "15 6681.jpg 127.0\n",
      "16 6726.jpg 86.0\n",
      "17 6686.jpg 233.0\n",
      "18 6692.jpg 133.2\n",
      "19 6719.jpg 61.2\n",
      "20 6687.jpg 123.0\n"
     ]
    },
    {
     "data": {
      "text/html": [
       "<div>\n",
       "<style scoped>\n",
       "    .dataframe tbody tr th:only-of-type {\n",
       "        vertical-align: middle;\n",
       "    }\n",
       "\n",
       "    .dataframe tbody tr th {\n",
       "        vertical-align: top;\n",
       "    }\n",
       "\n",
       "    .dataframe thead th {\n",
       "        text-align: right;\n",
       "    }\n",
       "</style>\n",
       "<table border=\"1\" class=\"dataframe\">\n",
       "  <thead>\n",
       "    <tr style=\"text-align: right;\">\n",
       "      <th></th>\n",
       "      <th>model</th>\n",
       "      <th>subseq</th>\n",
       "      <th>peaks</th>\n",
       "      <th>binary</th>\n",
       "      <th>mwa</th>\n",
       "    </tr>\n",
       "  </thead>\n",
       "  <tbody>\n",
       "    <tr>\n",
       "      <th>0</th>\n",
       "      <td>Canny(blur manual)</td>\n",
       "      <td>61.261</td>\n",
       "      <td>66.133</td>\n",
       "      <td>168.368</td>\n",
       "      <td>109.816</td>\n",
       "    </tr>\n",
       "  </tbody>\n",
       "</table>\n",
       "</div>"
      ],
      "text/plain": [
       "                model  subseq   peaks   binary      mwa\n",
       "0  Canny(blur manual)  61.261  66.133  168.368  109.816"
      ]
     },
     "metadata": {},
     "output_type": "display_data"
    }
   ],
   "source": [
    "with_model(Model.CANNY_EDGE_BLUR_MANUAL, lines, points, data_dir, ranking_url, pith_url, rings_url, rmse_url)"
   ]
  },
  {
   "cell_type": "code",
   "execution_count": 18,
   "id": "30d22fe1",
   "metadata": {},
   "outputs": [
    {
     "name": "stdout",
     "output_type": "stream",
     "text": [
      "0 6701.jpg 94.0\n",
      "1 6728.jpg 97.2\n",
      "2 6700.jpg 101.2\n",
      "3 6717.jpg 73.2\n",
      "4 6688.jpg 119.0\n",
      "5 6698.jpg 73.2\n",
      "6 6707.jpg 77.2\n",
      "7 6713.jpg 83.2\n",
      "8 6710.jpg 81.2\n",
      "9 6711.jpg 83.0\n",
      "10 6697.jpg 85.0\n",
      "11 6720.jpg 59.2\n",
      "12 6708.jpg 81.2\n",
      "13 6682.jpg 114.2\n",
      "14 6694.jpg 119.0\n",
      "15 6681.jpg 127.0\n",
      "16 6726.jpg 86.0\n",
      "17 6686.jpg 233.0\n",
      "18 6692.jpg 133.2\n",
      "19 6719.jpg 61.2\n",
      "20 6687.jpg 123.0\n"
     ]
    },
    {
     "data": {
      "text/html": [
       "<div>\n",
       "<style scoped>\n",
       "    .dataframe tbody tr th:only-of-type {\n",
       "        vertical-align: middle;\n",
       "    }\n",
       "\n",
       "    .dataframe tbody tr th {\n",
       "        vertical-align: top;\n",
       "    }\n",
       "\n",
       "    .dataframe thead th {\n",
       "        text-align: right;\n",
       "    }\n",
       "</style>\n",
       "<table border=\"1\" class=\"dataframe\">\n",
       "  <thead>\n",
       "    <tr style=\"text-align: right;\">\n",
       "      <th></th>\n",
       "      <th>model</th>\n",
       "      <th>subseq</th>\n",
       "      <th>peaks</th>\n",
       "      <th>binary</th>\n",
       "      <th>mwa</th>\n",
       "    </tr>\n",
       "  </thead>\n",
       "  <tbody>\n",
       "    <tr>\n",
       "      <th>0</th>\n",
       "      <td>Laplacian</td>\n",
       "      <td>503.893</td>\n",
       "      <td>138.364</td>\n",
       "      <td>471.837</td>\n",
       "      <td>201.695</td>\n",
       "    </tr>\n",
       "  </tbody>\n",
       "</table>\n",
       "</div>"
      ],
      "text/plain": [
       "       model   subseq    peaks   binary      mwa\n",
       "0  Laplacian  503.893  138.364  471.837  201.695"
      ]
     },
     "metadata": {},
     "output_type": "display_data"
    }
   ],
   "source": [
    "with_model(Model.LAPLACIAN_EDGE, lines, points, data_dir, ranking_url, pith_url, rings_url, rmse_url)"
   ]
  },
  {
   "cell_type": "code",
   "execution_count": 19,
   "id": "3a400e30",
   "metadata": {},
   "outputs": [
    {
     "name": "stdout",
     "output_type": "stream",
     "text": [
      "0 6701.jpg 94.0\n",
      "1 6728.jpg 97.2\n",
      "2 6700.jpg 101.2\n",
      "3 6717.jpg 73.2\n",
      "4 6688.jpg 119.0\n",
      "5 6698.jpg 73.2\n",
      "6 6707.jpg 77.2\n",
      "7 6713.jpg 83.2\n",
      "8 6710.jpg 81.2\n",
      "9 6711.jpg 83.0\n",
      "10 6697.jpg 85.0\n",
      "11 6720.jpg 59.2\n",
      "12 6708.jpg 81.2\n",
      "13 6682.jpg 114.2\n",
      "14 6694.jpg 119.0\n",
      "15 6681.jpg 127.0\n",
      "16 6726.jpg 86.0\n",
      "17 6686.jpg 233.0\n",
      "18 6692.jpg 133.2\n",
      "19 6719.jpg 61.2\n",
      "20 6687.jpg 123.0\n"
     ]
    },
    {
     "data": {
      "text/html": [
       "<div>\n",
       "<style scoped>\n",
       "    .dataframe tbody tr th:only-of-type {\n",
       "        vertical-align: middle;\n",
       "    }\n",
       "\n",
       "    .dataframe tbody tr th {\n",
       "        vertical-align: top;\n",
       "    }\n",
       "\n",
       "    .dataframe thead th {\n",
       "        text-align: right;\n",
       "    }\n",
       "</style>\n",
       "<table border=\"1\" class=\"dataframe\">\n",
       "  <thead>\n",
       "    <tr style=\"text-align: right;\">\n",
       "      <th></th>\n",
       "      <th>model</th>\n",
       "      <th>subseq</th>\n",
       "      <th>peaks</th>\n",
       "      <th>binary</th>\n",
       "      <th>mwa</th>\n",
       "    </tr>\n",
       "  </thead>\n",
       "  <tbody>\n",
       "    <tr>\n",
       "      <th>0</th>\n",
       "      <td>Laplacian(blur)</td>\n",
       "      <td>447.409</td>\n",
       "      <td>75.207</td>\n",
       "      <td>440.97</td>\n",
       "      <td>87.272</td>\n",
       "    </tr>\n",
       "  </tbody>\n",
       "</table>\n",
       "</div>"
      ],
      "text/plain": [
       "             model   subseq   peaks  binary     mwa\n",
       "0  Laplacian(blur)  447.409  75.207  440.97  87.272"
      ]
     },
     "metadata": {},
     "output_type": "display_data"
    }
   ],
   "source": [
    "with_model(Model.LAPLACIAN_EDGE_BLUR, lines, points, data_dir, ranking_url, pith_url, rings_url, rmse_url)"
   ]
  },
  {
   "cell_type": "code",
   "execution_count": null,
   "id": "bf6dec47",
   "metadata": {},
   "outputs": [],
   "source": []
  },
  {
   "cell_type": "code",
   "execution_count": 20,
   "id": "67430856",
   "metadata": {},
   "outputs": [
    {
     "name": "stdout",
     "output_type": "stream",
     "text": [
      "0 6701.jpg 94.0\n",
      "1 6728.jpg 97.2\n",
      "2 6700.jpg 101.2\n",
      "3 6717.jpg 73.2\n",
      "4 6688.jpg 119.0\n",
      "5 6698.jpg 73.2\n",
      "6 6707.jpg 77.2\n",
      "7 6713.jpg 83.2\n",
      "8 6710.jpg 81.2\n",
      "9 6711.jpg 83.0\n",
      "10 6697.jpg 85.0\n",
      "11 6720.jpg 59.2\n",
      "12 6708.jpg 81.2\n",
      "13 6682.jpg 114.2\n",
      "14 6694.jpg 119.0\n",
      "15 6681.jpg 127.0\n",
      "16 6726.jpg 86.0\n",
      "17 6686.jpg 233.0\n",
      "18 6692.jpg 133.2\n",
      "19 6719.jpg 61.2\n",
      "20 6687.jpg 123.0\n"
     ]
    },
    {
     "data": {
      "text/html": [
       "<div>\n",
       "<style scoped>\n",
       "    .dataframe tbody tr th:only-of-type {\n",
       "        vertical-align: middle;\n",
       "    }\n",
       "\n",
       "    .dataframe tbody tr th {\n",
       "        vertical-align: top;\n",
       "    }\n",
       "\n",
       "    .dataframe thead th {\n",
       "        text-align: right;\n",
       "    }\n",
       "</style>\n",
       "<table border=\"1\" class=\"dataframe\">\n",
       "  <thead>\n",
       "    <tr style=\"text-align: right;\">\n",
       "      <th></th>\n",
       "      <th>model</th>\n",
       "      <th>subseq</th>\n",
       "      <th>peaks</th>\n",
       "      <th>binary</th>\n",
       "      <th>mwa</th>\n",
       "    </tr>\n",
       "  </thead>\n",
       "  <tbody>\n",
       "    <tr>\n",
       "      <th>0</th>\n",
       "      <td>Polar Sobel</td>\n",
       "      <td>434.173</td>\n",
       "      <td>44.014</td>\n",
       "      <td>392.984</td>\n",
       "      <td>63.56</td>\n",
       "    </tr>\n",
       "  </tbody>\n",
       "</table>\n",
       "</div>"
      ],
      "text/plain": [
       "         model   subseq   peaks   binary    mwa\n",
       "0  Polar Sobel  434.173  44.014  392.984  63.56"
      ]
     },
     "metadata": {},
     "output_type": "display_data"
    }
   ],
   "source": [
    "with_model(Model.POLAR_SOBEL_EDGE, lines, points, data_dir, ranking_url, pith_url, rings_url, rmse_url)"
   ]
  },
  {
   "cell_type": "code",
   "execution_count": 21,
   "id": "3b6f3da2",
   "metadata": {},
   "outputs": [
    {
     "name": "stdout",
     "output_type": "stream",
     "text": [
      "0 6701.jpg 94.0\n",
      "1 6728.jpg 97.2\n",
      "2 6700.jpg 101.2\n",
      "3 6717.jpg 73.2\n",
      "4 6688.jpg 119.0\n",
      "5 6698.jpg 73.2\n",
      "6 6707.jpg 77.2\n",
      "7 6713.jpg 83.2\n",
      "8 6710.jpg 81.2\n",
      "9 6711.jpg 83.0\n",
      "10 6697.jpg 85.0\n",
      "11 6720.jpg 59.2\n",
      "12 6708.jpg 81.2\n",
      "13 6682.jpg 114.2\n",
      "14 6694.jpg 119.0\n",
      "15 6681.jpg 127.0\n",
      "16 6726.jpg 86.0\n",
      "17 6686.jpg 233.0\n",
      "18 6692.jpg 133.2\n",
      "19 6719.jpg 61.2\n",
      "20 6687.jpg 123.0\n"
     ]
    },
    {
     "data": {
      "text/html": [
       "<div>\n",
       "<style scoped>\n",
       "    .dataframe tbody tr th:only-of-type {\n",
       "        vertical-align: middle;\n",
       "    }\n",
       "\n",
       "    .dataframe tbody tr th {\n",
       "        vertical-align: top;\n",
       "    }\n",
       "\n",
       "    .dataframe thead th {\n",
       "        text-align: right;\n",
       "    }\n",
       "</style>\n",
       "<table border=\"1\" class=\"dataframe\">\n",
       "  <thead>\n",
       "    <tr style=\"text-align: right;\">\n",
       "      <th></th>\n",
       "      <th>model</th>\n",
       "      <th>subseq</th>\n",
       "      <th>peaks</th>\n",
       "      <th>binary</th>\n",
       "      <th>mwa</th>\n",
       "    </tr>\n",
       "  </thead>\n",
       "  <tbody>\n",
       "    <tr>\n",
       "      <th>0</th>\n",
       "      <td>Polar Sobel(blur)</td>\n",
       "      <td>319.304</td>\n",
       "      <td>72.41</td>\n",
       "      <td>323.403</td>\n",
       "      <td>48.922</td>\n",
       "    </tr>\n",
       "  </tbody>\n",
       "</table>\n",
       "</div>"
      ],
      "text/plain": [
       "               model   subseq  peaks   binary     mwa\n",
       "0  Polar Sobel(blur)  319.304  72.41  323.403  48.922"
      ]
     },
     "metadata": {},
     "output_type": "display_data"
    }
   ],
   "source": [
    "with_model(Model.POLAR_SOBEL_EDGE_BLUR, lines, points, data_dir, ranking_url, pith_url, rings_url, rmse_url)"
   ]
  },
  {
   "cell_type": "code",
   "execution_count": 22,
   "id": "ee75dd80",
   "metadata": {},
   "outputs": [
    {
     "name": "stdout",
     "output_type": "stream",
     "text": [
      "0 6701.jpg 94.0\n",
      "1 6728.jpg 97.2\n",
      "2 6700.jpg 101.2\n",
      "3 6717.jpg 73.2\n",
      "4 6688.jpg 119.0\n",
      "5 6698.jpg 73.2\n",
      "6 6707.jpg 77.2\n",
      "7 6713.jpg 83.2\n",
      "8 6710.jpg 81.2\n",
      "9 6711.jpg 83.0\n",
      "10 6697.jpg 85.0\n",
      "11 6720.jpg 59.2\n",
      "12 6708.jpg 81.2\n",
      "13 6682.jpg 114.2\n",
      "14 6694.jpg 119.0\n",
      "15 6681.jpg 127.0\n",
      "16 6726.jpg 86.0\n",
      "17 6686.jpg 233.0\n",
      "18 6692.jpg 133.2\n",
      "19 6719.jpg 61.2\n",
      "20 6687.jpg 123.0\n"
     ]
    },
    {
     "data": {
      "text/html": [
       "<div>\n",
       "<style scoped>\n",
       "    .dataframe tbody tr th:only-of-type {\n",
       "        vertical-align: middle;\n",
       "    }\n",
       "\n",
       "    .dataframe tbody tr th {\n",
       "        vertical-align: top;\n",
       "    }\n",
       "\n",
       "    .dataframe thead th {\n",
       "        text-align: right;\n",
       "    }\n",
       "</style>\n",
       "<table border=\"1\" class=\"dataframe\">\n",
       "  <thead>\n",
       "    <tr style=\"text-align: right;\">\n",
       "      <th></th>\n",
       "      <th>model</th>\n",
       "      <th>subseq</th>\n",
       "      <th>peaks</th>\n",
       "      <th>binary</th>\n",
       "      <th>mwa</th>\n",
       "    </tr>\n",
       "  </thead>\n",
       "  <tbody>\n",
       "    <tr>\n",
       "      <th>0</th>\n",
       "      <td>Polar Canny</td>\n",
       "      <td>51.03</td>\n",
       "      <td>60.726</td>\n",
       "      <td>182.8</td>\n",
       "      <td>112.434</td>\n",
       "    </tr>\n",
       "  </tbody>\n",
       "</table>\n",
       "</div>"
      ],
      "text/plain": [
       "         model  subseq   peaks  binary      mwa\n",
       "0  Polar Canny   51.03  60.726   182.8  112.434"
      ]
     },
     "metadata": {},
     "output_type": "display_data"
    }
   ],
   "source": [
    "with_model(Model.POLAR_CANNY_EDGE, lines, points, data_dir, ranking_url, pith_url, rings_url, rmse_url)"
   ]
  },
  {
   "cell_type": "code",
   "execution_count": 23,
   "id": "95860264",
   "metadata": {},
   "outputs": [
    {
     "name": "stdout",
     "output_type": "stream",
     "text": [
      "0 6701.jpg 94.0\n",
      "1 6728.jpg 97.2\n",
      "2 6700.jpg 101.2\n",
      "3 6717.jpg 73.2\n",
      "4 6688.jpg 119.0\n",
      "5 6698.jpg 73.2\n",
      "6 6707.jpg 77.2\n",
      "7 6713.jpg 83.2\n",
      "8 6710.jpg 81.2\n",
      "9 6711.jpg 83.0\n",
      "10 6697.jpg 85.0\n",
      "11 6720.jpg 59.2\n",
      "12 6708.jpg 81.2\n",
      "13 6682.jpg 114.2\n",
      "14 6694.jpg 119.0\n",
      "15 6681.jpg 127.0\n",
      "16 6726.jpg 86.0\n",
      "17 6686.jpg 233.0\n",
      "18 6692.jpg 133.2\n",
      "19 6719.jpg 61.2\n",
      "20 6687.jpg 123.0\n"
     ]
    },
    {
     "data": {
      "text/html": [
       "<div>\n",
       "<style scoped>\n",
       "    .dataframe tbody tr th:only-of-type {\n",
       "        vertical-align: middle;\n",
       "    }\n",
       "\n",
       "    .dataframe tbody tr th {\n",
       "        vertical-align: top;\n",
       "    }\n",
       "\n",
       "    .dataframe thead th {\n",
       "        text-align: right;\n",
       "    }\n",
       "</style>\n",
       "<table border=\"1\" class=\"dataframe\">\n",
       "  <thead>\n",
       "    <tr style=\"text-align: right;\">\n",
       "      <th></th>\n",
       "      <th>model</th>\n",
       "      <th>subseq</th>\n",
       "      <th>peaks</th>\n",
       "      <th>binary</th>\n",
       "      <th>mwa</th>\n",
       "    </tr>\n",
       "  </thead>\n",
       "  <tbody>\n",
       "    <tr>\n",
       "      <th>0</th>\n",
       "      <td>Polar Canny(otsu)</td>\n",
       "      <td>41.77</td>\n",
       "      <td>49.477</td>\n",
       "      <td>225.743</td>\n",
       "      <td>146.388</td>\n",
       "    </tr>\n",
       "  </tbody>\n",
       "</table>\n",
       "</div>"
      ],
      "text/plain": [
       "               model  subseq   peaks   binary      mwa\n",
       "0  Polar Canny(otsu)   41.77  49.477  225.743  146.388"
      ]
     },
     "metadata": {},
     "output_type": "display_data"
    }
   ],
   "source": [
    "with_model(Model.POLAR_CANNY_EDGE_OTSU, lines, points, data_dir, ranking_url, pith_url, rings_url, rmse_url)"
   ]
  },
  {
   "cell_type": "code",
   "execution_count": 24,
   "id": "cb91f2b9",
   "metadata": {},
   "outputs": [
    {
     "name": "stdout",
     "output_type": "stream",
     "text": [
      "0 6701.jpg 94.0\n",
      "1 6728.jpg 97.2\n",
      "2 6700.jpg 101.2\n",
      "3 6717.jpg 73.2\n",
      "4 6688.jpg 119.0\n",
      "5 6698.jpg 73.2\n",
      "6 6707.jpg 77.2\n",
      "7 6713.jpg 83.2\n",
      "8 6710.jpg 81.2\n",
      "9 6711.jpg 83.0\n",
      "10 6697.jpg 85.0\n",
      "11 6720.jpg 59.2\n",
      "12 6708.jpg 81.2\n",
      "13 6682.jpg 114.2\n",
      "14 6694.jpg 119.0\n",
      "15 6681.jpg 127.0\n",
      "16 6726.jpg 86.0\n",
      "17 6686.jpg 233.0\n",
      "18 6692.jpg 133.2\n",
      "19 6719.jpg 61.2\n",
      "20 6687.jpg 123.0\n"
     ]
    },
    {
     "data": {
      "text/html": [
       "<div>\n",
       "<style scoped>\n",
       "    .dataframe tbody tr th:only-of-type {\n",
       "        vertical-align: middle;\n",
       "    }\n",
       "\n",
       "    .dataframe tbody tr th {\n",
       "        vertical-align: top;\n",
       "    }\n",
       "\n",
       "    .dataframe thead th {\n",
       "        text-align: right;\n",
       "    }\n",
       "</style>\n",
       "<table border=\"1\" class=\"dataframe\">\n",
       "  <thead>\n",
       "    <tr style=\"text-align: right;\">\n",
       "      <th></th>\n",
       "      <th>model</th>\n",
       "      <th>subseq</th>\n",
       "      <th>peaks</th>\n",
       "      <th>binary</th>\n",
       "      <th>mwa</th>\n",
       "    </tr>\n",
       "  </thead>\n",
       "  <tbody>\n",
       "    <tr>\n",
       "      <th>0</th>\n",
       "      <td>Polar Canny(triangle)</td>\n",
       "      <td>62.091</td>\n",
       "      <td>39.684</td>\n",
       "      <td>317.074</td>\n",
       "      <td>222.277</td>\n",
       "    </tr>\n",
       "  </tbody>\n",
       "</table>\n",
       "</div>"
      ],
      "text/plain": [
       "                   model  subseq   peaks   binary      mwa\n",
       "0  Polar Canny(triangle)  62.091  39.684  317.074  222.277"
      ]
     },
     "metadata": {},
     "output_type": "display_data"
    }
   ],
   "source": [
    "with_model(Model.POLAR_CANNY_EDGE_TRIANGLE, lines, points, data_dir, ranking_url, pith_url, rings_url, rmse_url)"
   ]
  },
  {
   "cell_type": "code",
   "execution_count": 25,
   "id": "b9b3b7fa",
   "metadata": {},
   "outputs": [
    {
     "name": "stdout",
     "output_type": "stream",
     "text": [
      "0 6701.jpg 94.0\n",
      "1 6728.jpg 97.2\n",
      "2 6700.jpg 101.2\n",
      "3 6717.jpg 73.2\n",
      "4 6688.jpg 119.0\n",
      "5 6698.jpg 73.2\n",
      "6 6707.jpg 77.2\n",
      "7 6713.jpg 83.2\n",
      "8 6710.jpg 81.2\n",
      "9 6711.jpg 83.0\n",
      "10 6697.jpg 85.0\n",
      "11 6720.jpg 59.2\n",
      "12 6708.jpg 81.2\n",
      "13 6682.jpg 114.2\n",
      "14 6694.jpg 119.0\n",
      "15 6681.jpg 127.0\n",
      "16 6726.jpg 86.0\n",
      "17 6686.jpg 233.0\n",
      "18 6692.jpg 133.2\n",
      "19 6719.jpg 61.2\n",
      "20 6687.jpg 123.0\n"
     ]
    },
    {
     "data": {
      "text/html": [
       "<div>\n",
       "<style scoped>\n",
       "    .dataframe tbody tr th:only-of-type {\n",
       "        vertical-align: middle;\n",
       "    }\n",
       "\n",
       "    .dataframe tbody tr th {\n",
       "        vertical-align: top;\n",
       "    }\n",
       "\n",
       "    .dataframe thead th {\n",
       "        text-align: right;\n",
       "    }\n",
       "</style>\n",
       "<table border=\"1\" class=\"dataframe\">\n",
       "  <thead>\n",
       "    <tr style=\"text-align: right;\">\n",
       "      <th></th>\n",
       "      <th>model</th>\n",
       "      <th>subseq</th>\n",
       "      <th>peaks</th>\n",
       "      <th>binary</th>\n",
       "      <th>mwa</th>\n",
       "    </tr>\n",
       "  </thead>\n",
       "  <tbody>\n",
       "    <tr>\n",
       "      <th>0</th>\n",
       "      <td>Polar Canny(manual)</td>\n",
       "      <td>52.663</td>\n",
       "      <td>61.686</td>\n",
       "      <td>175.634</td>\n",
       "      <td>106.18</td>\n",
       "    </tr>\n",
       "  </tbody>\n",
       "</table>\n",
       "</div>"
      ],
      "text/plain": [
       "                 model  subseq   peaks   binary     mwa\n",
       "0  Polar Canny(manual)  52.663  61.686  175.634  106.18"
      ]
     },
     "metadata": {},
     "output_type": "display_data"
    }
   ],
   "source": [
    "with_model(Model.POLAR_CANNY_EDGE_MANUAL, lines, points, data_dir, ranking_url, pith_url, rings_url, rmse_url)"
   ]
  },
  {
   "cell_type": "code",
   "execution_count": 26,
   "id": "f3b7e6da",
   "metadata": {},
   "outputs": [
    {
     "name": "stdout",
     "output_type": "stream",
     "text": [
      "0 6701.jpg 94.0\n",
      "1 6728.jpg 97.2\n",
      "2 6700.jpg 101.2\n",
      "3 6717.jpg 73.2\n",
      "4 6688.jpg 119.0\n",
      "5 6698.jpg 73.2\n",
      "6 6707.jpg 77.2\n",
      "7 6713.jpg 83.2\n",
      "8 6710.jpg 81.2\n",
      "9 6711.jpg 83.0\n",
      "10 6697.jpg 85.0\n",
      "11 6720.jpg 59.2\n",
      "12 6708.jpg 81.2\n",
      "13 6682.jpg 114.2\n",
      "14 6694.jpg 119.0\n",
      "15 6681.jpg 127.0\n",
      "16 6726.jpg 86.0\n",
      "17 6686.jpg 233.0\n",
      "18 6692.jpg 133.2\n",
      "19 6719.jpg 61.2\n",
      "20 6687.jpg 123.0\n"
     ]
    },
    {
     "data": {
      "text/html": [
       "<div>\n",
       "<style scoped>\n",
       "    .dataframe tbody tr th:only-of-type {\n",
       "        vertical-align: middle;\n",
       "    }\n",
       "\n",
       "    .dataframe tbody tr th {\n",
       "        vertical-align: top;\n",
       "    }\n",
       "\n",
       "    .dataframe thead th {\n",
       "        text-align: right;\n",
       "    }\n",
       "</style>\n",
       "<table border=\"1\" class=\"dataframe\">\n",
       "  <thead>\n",
       "    <tr style=\"text-align: right;\">\n",
       "      <th></th>\n",
       "      <th>model</th>\n",
       "      <th>subseq</th>\n",
       "      <th>peaks</th>\n",
       "      <th>binary</th>\n",
       "      <th>mwa</th>\n",
       "    </tr>\n",
       "  </thead>\n",
       "  <tbody>\n",
       "    <tr>\n",
       "      <th>0</th>\n",
       "      <td>Polar Canny(blur)</td>\n",
       "      <td>71.358</td>\n",
       "      <td>77.092</td>\n",
       "      <td>116.916</td>\n",
       "      <td>65.948</td>\n",
       "    </tr>\n",
       "  </tbody>\n",
       "</table>\n",
       "</div>"
      ],
      "text/plain": [
       "               model  subseq   peaks   binary     mwa\n",
       "0  Polar Canny(blur)  71.358  77.092  116.916  65.948"
      ]
     },
     "metadata": {},
     "output_type": "display_data"
    }
   ],
   "source": [
    "with_model(Model.POLAR_CANNY_EDGE_BLUR, lines, points, data_dir, ranking_url, pith_url, rings_url, rmse_url)"
   ]
  },
  {
   "cell_type": "code",
   "execution_count": 27,
   "id": "d30f5bab",
   "metadata": {},
   "outputs": [
    {
     "name": "stdout",
     "output_type": "stream",
     "text": [
      "0 6701.jpg 94.0\n",
      "1 6728.jpg 97.2\n",
      "2 6700.jpg 101.2\n",
      "3 6717.jpg 73.2\n",
      "4 6688.jpg 119.0\n",
      "5 6698.jpg 73.2\n",
      "6 6707.jpg 77.2\n",
      "7 6713.jpg 83.2\n",
      "8 6710.jpg 81.2\n",
      "9 6711.jpg 83.0\n",
      "10 6697.jpg 85.0\n",
      "11 6720.jpg 59.2\n",
      "12 6708.jpg 81.2\n",
      "13 6682.jpg 114.2\n",
      "14 6694.jpg 119.0\n",
      "15 6681.jpg 127.0\n",
      "16 6726.jpg 86.0\n",
      "17 6686.jpg 233.0\n",
      "18 6692.jpg 133.2\n",
      "19 6719.jpg 61.2\n",
      "20 6687.jpg 123.0\n"
     ]
    },
    {
     "data": {
      "text/html": [
       "<div>\n",
       "<style scoped>\n",
       "    .dataframe tbody tr th:only-of-type {\n",
       "        vertical-align: middle;\n",
       "    }\n",
       "\n",
       "    .dataframe tbody tr th {\n",
       "        vertical-align: top;\n",
       "    }\n",
       "\n",
       "    .dataframe thead th {\n",
       "        text-align: right;\n",
       "    }\n",
       "</style>\n",
       "<table border=\"1\" class=\"dataframe\">\n",
       "  <thead>\n",
       "    <tr style=\"text-align: right;\">\n",
       "      <th></th>\n",
       "      <th>model</th>\n",
       "      <th>subseq</th>\n",
       "      <th>peaks</th>\n",
       "      <th>binary</th>\n",
       "      <th>mwa</th>\n",
       "    </tr>\n",
       "  </thead>\n",
       "  <tbody>\n",
       "    <tr>\n",
       "      <th>0</th>\n",
       "      <td>Polar Canny(blur otsu)</td>\n",
       "      <td>57.604</td>\n",
       "      <td>64.974</td>\n",
       "      <td>167.878</td>\n",
       "      <td>97.845</td>\n",
       "    </tr>\n",
       "  </tbody>\n",
       "</table>\n",
       "</div>"
      ],
      "text/plain": [
       "                    model  subseq   peaks   binary     mwa\n",
       "0  Polar Canny(blur otsu)  57.604  64.974  167.878  97.845"
      ]
     },
     "metadata": {},
     "output_type": "display_data"
    }
   ],
   "source": [
    "with_model(Model.POLAR_CANNY_EDGE_BLUR_OTSU, lines, points, data_dir, ranking_url, pith_url, rings_url, rmse_url)"
   ]
  },
  {
   "cell_type": "code",
   "execution_count": 28,
   "id": "4a5752ee",
   "metadata": {},
   "outputs": [
    {
     "name": "stdout",
     "output_type": "stream",
     "text": [
      "0 6701.jpg 94.0\n",
      "1 6728.jpg 97.2\n",
      "2 6700.jpg 101.2\n",
      "3 6717.jpg 73.2\n",
      "4 6688.jpg 119.0\n",
      "5 6698.jpg 73.2\n",
      "6 6707.jpg 77.2\n",
      "7 6713.jpg 83.2\n",
      "8 6710.jpg 81.2\n",
      "9 6711.jpg 83.0\n",
      "10 6697.jpg 85.0\n",
      "11 6720.jpg 59.2\n",
      "12 6708.jpg 81.2\n",
      "13 6682.jpg 114.2\n",
      "14 6694.jpg 119.0\n",
      "15 6681.jpg 127.0\n",
      "16 6726.jpg 86.0\n",
      "17 6686.jpg 233.0\n",
      "18 6692.jpg 133.2\n",
      "19 6719.jpg 61.2\n",
      "20 6687.jpg 123.0\n"
     ]
    },
    {
     "data": {
      "text/html": [
       "<div>\n",
       "<style scoped>\n",
       "    .dataframe tbody tr th:only-of-type {\n",
       "        vertical-align: middle;\n",
       "    }\n",
       "\n",
       "    .dataframe tbody tr th {\n",
       "        vertical-align: top;\n",
       "    }\n",
       "\n",
       "    .dataframe thead th {\n",
       "        text-align: right;\n",
       "    }\n",
       "</style>\n",
       "<table border=\"1\" class=\"dataframe\">\n",
       "  <thead>\n",
       "    <tr style=\"text-align: right;\">\n",
       "      <th></th>\n",
       "      <th>model</th>\n",
       "      <th>subseq</th>\n",
       "      <th>peaks</th>\n",
       "      <th>binary</th>\n",
       "      <th>mwa</th>\n",
       "    </tr>\n",
       "  </thead>\n",
       "  <tbody>\n",
       "    <tr>\n",
       "      <th>0</th>\n",
       "      <td>Polar Canny(blur triangle)</td>\n",
       "      <td>40.08</td>\n",
       "      <td>39.757</td>\n",
       "      <td>272.193</td>\n",
       "      <td>186.998</td>\n",
       "    </tr>\n",
       "  </tbody>\n",
       "</table>\n",
       "</div>"
      ],
      "text/plain": [
       "                        model  subseq   peaks   binary      mwa\n",
       "0  Polar Canny(blur triangle)   40.08  39.757  272.193  186.998"
      ]
     },
     "metadata": {},
     "output_type": "display_data"
    }
   ],
   "source": [
    "with_model(Model.POLAR_CANNY_EDGE_BLUR_TRIANGLE, lines, points, data_dir, ranking_url, pith_url, rings_url, rmse_url)"
   ]
  },
  {
   "cell_type": "code",
   "execution_count": 29,
   "id": "d1eef189",
   "metadata": {},
   "outputs": [
    {
     "name": "stdout",
     "output_type": "stream",
     "text": [
      "0 6701.jpg 94.0\n",
      "1 6728.jpg 97.2\n",
      "2 6700.jpg 101.2\n",
      "3 6717.jpg 73.2\n",
      "4 6688.jpg 119.0\n",
      "5 6698.jpg 73.2\n",
      "6 6707.jpg 77.2\n",
      "7 6713.jpg 83.2\n",
      "8 6710.jpg 81.2\n",
      "9 6711.jpg 83.0\n",
      "10 6697.jpg 85.0\n",
      "11 6720.jpg 59.2\n",
      "12 6708.jpg 81.2\n",
      "13 6682.jpg 114.2\n",
      "14 6694.jpg 119.0\n",
      "15 6681.jpg 127.0\n",
      "16 6726.jpg 86.0\n",
      "17 6686.jpg 233.0\n",
      "18 6692.jpg 133.2\n",
      "19 6719.jpg 61.2\n",
      "20 6687.jpg 123.0\n"
     ]
    },
    {
     "data": {
      "text/html": [
       "<div>\n",
       "<style scoped>\n",
       "    .dataframe tbody tr th:only-of-type {\n",
       "        vertical-align: middle;\n",
       "    }\n",
       "\n",
       "    .dataframe tbody tr th {\n",
       "        vertical-align: top;\n",
       "    }\n",
       "\n",
       "    .dataframe thead th {\n",
       "        text-align: right;\n",
       "    }\n",
       "</style>\n",
       "<table border=\"1\" class=\"dataframe\">\n",
       "  <thead>\n",
       "    <tr style=\"text-align: right;\">\n",
       "      <th></th>\n",
       "      <th>model</th>\n",
       "      <th>subseq</th>\n",
       "      <th>peaks</th>\n",
       "      <th>binary</th>\n",
       "      <th>mwa</th>\n",
       "    </tr>\n",
       "  </thead>\n",
       "  <tbody>\n",
       "    <tr>\n",
       "      <th>0</th>\n",
       "      <td>Polar Canny(blur manual)</td>\n",
       "      <td>72.786</td>\n",
       "      <td>77.956</td>\n",
       "      <td>112.561</td>\n",
       "      <td>64.009</td>\n",
       "    </tr>\n",
       "  </tbody>\n",
       "</table>\n",
       "</div>"
      ],
      "text/plain": [
       "                      model  subseq   peaks   binary     mwa\n",
       "0  Polar Canny(blur manual)  72.786  77.956  112.561  64.009"
      ]
     },
     "metadata": {},
     "output_type": "display_data"
    }
   ],
   "source": [
    "with_model(Model.POLAR_CANNY_EDGE_BLUR_MANUAL, lines, points, data_dir, ranking_url, pith_url, rings_url, rmse_url)"
   ]
  },
  {
   "cell_type": "code",
   "execution_count": 30,
   "id": "a2c63b76",
   "metadata": {},
   "outputs": [
    {
     "name": "stdout",
     "output_type": "stream",
     "text": [
      "0 6701.jpg 94.0\n",
      "1 6728.jpg 97.2\n",
      "2 6700.jpg 101.2\n",
      "3 6717.jpg 73.2\n",
      "4 6688.jpg 119.0\n",
      "5 6698.jpg 73.2\n",
      "6 6707.jpg 77.2\n",
      "7 6713.jpg 83.2\n",
      "8 6710.jpg 81.2\n",
      "9 6711.jpg 83.0\n",
      "10 6697.jpg 85.0\n",
      "11 6720.jpg 59.2\n",
      "12 6708.jpg 81.2\n",
      "13 6682.jpg 114.2\n",
      "14 6694.jpg 119.0\n",
      "15 6681.jpg 127.0\n",
      "16 6726.jpg 86.0\n",
      "17 6686.jpg 233.0\n",
      "18 6692.jpg 133.2\n",
      "19 6719.jpg 61.2\n",
      "20 6687.jpg 123.0\n"
     ]
    },
    {
     "data": {
      "text/html": [
       "<div>\n",
       "<style scoped>\n",
       "    .dataframe tbody tr th:only-of-type {\n",
       "        vertical-align: middle;\n",
       "    }\n",
       "\n",
       "    .dataframe tbody tr th {\n",
       "        vertical-align: top;\n",
       "    }\n",
       "\n",
       "    .dataframe thead th {\n",
       "        text-align: right;\n",
       "    }\n",
       "</style>\n",
       "<table border=\"1\" class=\"dataframe\">\n",
       "  <thead>\n",
       "    <tr style=\"text-align: right;\">\n",
       "      <th></th>\n",
       "      <th>model</th>\n",
       "      <th>subseq</th>\n",
       "      <th>peaks</th>\n",
       "      <th>binary</th>\n",
       "      <th>mwa</th>\n",
       "    </tr>\n",
       "  </thead>\n",
       "  <tbody>\n",
       "    <tr>\n",
       "      <th>0</th>\n",
       "      <td>Polar Laplacian</td>\n",
       "      <td>579.877</td>\n",
       "      <td>129.919</td>\n",
       "      <td>516.801</td>\n",
       "      <td>186.868</td>\n",
       "    </tr>\n",
       "  </tbody>\n",
       "</table>\n",
       "</div>"
      ],
      "text/plain": [
       "             model   subseq    peaks   binary      mwa\n",
       "0  Polar Laplacian  579.877  129.919  516.801  186.868"
      ]
     },
     "metadata": {},
     "output_type": "display_data"
    }
   ],
   "source": [
    "with_model(Model.POLAR_LAPLACIAN_EDGE, lines, points, data_dir, ranking_url, pith_url, rings_url, rmse_url)"
   ]
  },
  {
   "cell_type": "code",
   "execution_count": 31,
   "id": "055f80d8",
   "metadata": {},
   "outputs": [
    {
     "name": "stdout",
     "output_type": "stream",
     "text": [
      "0 6701.jpg 94.0\n",
      "1 6728.jpg 97.2\n",
      "2 6700.jpg 101.2\n",
      "3 6717.jpg 73.2\n",
      "4 6688.jpg 119.0\n",
      "5 6698.jpg 73.2\n",
      "6 6707.jpg 77.2\n",
      "7 6713.jpg 83.2\n",
      "8 6710.jpg 81.2\n",
      "9 6711.jpg 83.0\n",
      "10 6697.jpg 85.0\n",
      "11 6720.jpg 59.2\n",
      "12 6708.jpg 81.2\n",
      "13 6682.jpg 114.2\n",
      "14 6694.jpg 119.0\n",
      "15 6681.jpg 127.0\n",
      "16 6726.jpg 86.0\n",
      "17 6686.jpg 233.0\n",
      "18 6692.jpg 133.2\n",
      "19 6719.jpg 61.2\n",
      "20 6687.jpg 123.0\n"
     ]
    },
    {
     "data": {
      "text/html": [
       "<div>\n",
       "<style scoped>\n",
       "    .dataframe tbody tr th:only-of-type {\n",
       "        vertical-align: middle;\n",
       "    }\n",
       "\n",
       "    .dataframe tbody tr th {\n",
       "        vertical-align: top;\n",
       "    }\n",
       "\n",
       "    .dataframe thead th {\n",
       "        text-align: right;\n",
       "    }\n",
       "</style>\n",
       "<table border=\"1\" class=\"dataframe\">\n",
       "  <thead>\n",
       "    <tr style=\"text-align: right;\">\n",
       "      <th></th>\n",
       "      <th>model</th>\n",
       "      <th>subseq</th>\n",
       "      <th>peaks</th>\n",
       "      <th>binary</th>\n",
       "      <th>mwa</th>\n",
       "    </tr>\n",
       "  </thead>\n",
       "  <tbody>\n",
       "    <tr>\n",
       "      <th>0</th>\n",
       "      <td>Polar Laplacian(blur)</td>\n",
       "      <td>452.686</td>\n",
       "      <td>45.709</td>\n",
       "      <td>445.682</td>\n",
       "      <td>49.441</td>\n",
       "    </tr>\n",
       "  </tbody>\n",
       "</table>\n",
       "</div>"
      ],
      "text/plain": [
       "                   model   subseq   peaks   binary     mwa\n",
       "0  Polar Laplacian(blur)  452.686  45.709  445.682  49.441"
      ]
     },
     "metadata": {},
     "output_type": "display_data"
    }
   ],
   "source": [
    "with_model(Model.POLAR_LAPLACIAN_EDGE_BLUR, lines, points, data_dir, ranking_url, pith_url, rings_url, rmse_url)"
   ]
  },
  {
   "cell_type": "code",
   "execution_count": null,
   "id": "717b358e",
   "metadata": {},
   "outputs": [],
   "source": []
  },
  {
   "cell_type": "code",
   "execution_count": 32,
   "id": "4000d64b",
   "metadata": {},
   "outputs": [
    {
     "name": "stdout",
     "output_type": "stream",
     "text": [
      "0 6701.jpg 94.0\n",
      "1 6728.jpg 97.2\n",
      "2 6700.jpg 101.2\n",
      "3 6717.jpg 73.2\n",
      "4 6688.jpg 119.0\n",
      "5 6698.jpg 73.2\n",
      "6 6707.jpg 77.2\n",
      "7 6713.jpg 83.2\n",
      "8 6710.jpg 81.2\n",
      "9 6711.jpg 83.0\n",
      "10 6697.jpg 85.0\n",
      "11 6720.jpg 59.2\n",
      "12 6708.jpg 81.2\n",
      "13 6682.jpg 114.2\n",
      "14 6694.jpg 119.0\n",
      "15 6681.jpg 127.0\n",
      "16 6726.jpg 86.0\n",
      "17 6686.jpg 233.0\n",
      "18 6692.jpg 133.2\n",
      "19 6719.jpg 61.2\n",
      "20 6687.jpg 123.0\n"
     ]
    },
    {
     "data": {
      "text/html": [
       "<div>\n",
       "<style scoped>\n",
       "    .dataframe tbody tr th:only-of-type {\n",
       "        vertical-align: middle;\n",
       "    }\n",
       "\n",
       "    .dataframe tbody tr th {\n",
       "        vertical-align: top;\n",
       "    }\n",
       "\n",
       "    .dataframe thead th {\n",
       "        text-align: right;\n",
       "    }\n",
       "</style>\n",
       "<table border=\"1\" class=\"dataframe\">\n",
       "  <thead>\n",
       "    <tr style=\"text-align: right;\">\n",
       "      <th></th>\n",
       "      <th>model</th>\n",
       "      <th>subseq</th>\n",
       "      <th>peaks</th>\n",
       "      <th>binary</th>\n",
       "      <th>mwa</th>\n",
       "    </tr>\n",
       "  </thead>\n",
       "  <tbody>\n",
       "    <tr>\n",
       "      <th>0</th>\n",
       "      <td>Polar Pith Sobel</td>\n",
       "      <td>417.258</td>\n",
       "      <td>50.366</td>\n",
       "      <td>375.073</td>\n",
       "      <td>74.585</td>\n",
       "    </tr>\n",
       "  </tbody>\n",
       "</table>\n",
       "</div>"
      ],
      "text/plain": [
       "              model   subseq   peaks   binary     mwa\n",
       "0  Polar Pith Sobel  417.258  50.366  375.073  74.585"
      ]
     },
     "metadata": {},
     "output_type": "display_data"
    }
   ],
   "source": [
    "with_model(Model.POLAR_PITH_SOBEL_EDGE, lines, points, data_dir, ranking_url, pith_url, rings_url, rmse_url)"
   ]
  },
  {
   "cell_type": "code",
   "execution_count": 33,
   "id": "eec08ac6",
   "metadata": {},
   "outputs": [
    {
     "name": "stdout",
     "output_type": "stream",
     "text": [
      "0 6701.jpg 94.0\n",
      "1 6728.jpg 97.2\n",
      "2 6700.jpg 101.2\n",
      "3 6717.jpg 73.2\n",
      "4 6688.jpg 119.0\n",
      "5 6698.jpg 73.2\n",
      "6 6707.jpg 77.2\n",
      "7 6713.jpg 83.2\n",
      "8 6710.jpg 81.2\n",
      "9 6711.jpg 83.0\n",
      "10 6697.jpg 85.0\n",
      "11 6720.jpg 59.2\n",
      "12 6708.jpg 81.2\n",
      "13 6682.jpg 114.2\n",
      "14 6694.jpg 119.0\n",
      "15 6681.jpg 127.0\n",
      "16 6726.jpg 86.0\n",
      "17 6686.jpg 233.0\n",
      "18 6692.jpg 133.2\n",
      "19 6719.jpg 61.2\n",
      "20 6687.jpg 123.0\n"
     ]
    },
    {
     "data": {
      "text/html": [
       "<div>\n",
       "<style scoped>\n",
       "    .dataframe tbody tr th:only-of-type {\n",
       "        vertical-align: middle;\n",
       "    }\n",
       "\n",
       "    .dataframe tbody tr th {\n",
       "        vertical-align: top;\n",
       "    }\n",
       "\n",
       "    .dataframe thead th {\n",
       "        text-align: right;\n",
       "    }\n",
       "</style>\n",
       "<table border=\"1\" class=\"dataframe\">\n",
       "  <thead>\n",
       "    <tr style=\"text-align: right;\">\n",
       "      <th></th>\n",
       "      <th>model</th>\n",
       "      <th>subseq</th>\n",
       "      <th>peaks</th>\n",
       "      <th>binary</th>\n",
       "      <th>mwa</th>\n",
       "    </tr>\n",
       "  </thead>\n",
       "  <tbody>\n",
       "    <tr>\n",
       "      <th>0</th>\n",
       "      <td>Polar Pith Sobel(blur)</td>\n",
       "      <td>308.413</td>\n",
       "      <td>72.377</td>\n",
       "      <td>308.869</td>\n",
       "      <td>54.455</td>\n",
       "    </tr>\n",
       "  </tbody>\n",
       "</table>\n",
       "</div>"
      ],
      "text/plain": [
       "                    model   subseq   peaks   binary     mwa\n",
       "0  Polar Pith Sobel(blur)  308.413  72.377  308.869  54.455"
      ]
     },
     "metadata": {},
     "output_type": "display_data"
    }
   ],
   "source": [
    "with_model(Model.POLAR_PITH_SOBEL_EDGE_BLUR, lines, points, data_dir, ranking_url, pith_url, rings_url, rmse_url)"
   ]
  },
  {
   "cell_type": "code",
   "execution_count": 34,
   "id": "97fb7a77",
   "metadata": {},
   "outputs": [
    {
     "name": "stdout",
     "output_type": "stream",
     "text": [
      "0 6701.jpg 94.0\n",
      "1 6728.jpg 97.2\n",
      "2 6700.jpg 101.2\n",
      "3 6717.jpg 73.2\n",
      "4 6688.jpg 119.0\n",
      "5 6698.jpg 73.2\n",
      "6 6707.jpg 77.2\n",
      "7 6713.jpg 83.2\n",
      "8 6710.jpg 81.2\n",
      "9 6711.jpg 83.0\n",
      "10 6697.jpg 85.0\n",
      "11 6720.jpg 59.2\n",
      "12 6708.jpg 81.2\n",
      "13 6682.jpg 114.2\n",
      "14 6694.jpg 119.0\n",
      "15 6681.jpg 127.0\n",
      "16 6726.jpg 86.0\n",
      "17 6686.jpg 233.0\n",
      "18 6692.jpg 133.2\n",
      "19 6719.jpg 61.2\n",
      "20 6687.jpg 123.0\n"
     ]
    },
    {
     "data": {
      "text/html": [
       "<div>\n",
       "<style scoped>\n",
       "    .dataframe tbody tr th:only-of-type {\n",
       "        vertical-align: middle;\n",
       "    }\n",
       "\n",
       "    .dataframe tbody tr th {\n",
       "        vertical-align: top;\n",
       "    }\n",
       "\n",
       "    .dataframe thead th {\n",
       "        text-align: right;\n",
       "    }\n",
       "</style>\n",
       "<table border=\"1\" class=\"dataframe\">\n",
       "  <thead>\n",
       "    <tr style=\"text-align: right;\">\n",
       "      <th></th>\n",
       "      <th>model</th>\n",
       "      <th>subseq</th>\n",
       "      <th>peaks</th>\n",
       "      <th>binary</th>\n",
       "      <th>mwa</th>\n",
       "    </tr>\n",
       "  </thead>\n",
       "  <tbody>\n",
       "    <tr>\n",
       "      <th>0</th>\n",
       "      <td>Polar Pith Canny</td>\n",
       "      <td>54.755</td>\n",
       "      <td>62.191</td>\n",
       "      <td>189.308</td>\n",
       "      <td>121.019</td>\n",
       "    </tr>\n",
       "  </tbody>\n",
       "</table>\n",
       "</div>"
      ],
      "text/plain": [
       "              model  subseq   peaks   binary      mwa\n",
       "0  Polar Pith Canny  54.755  62.191  189.308  121.019"
      ]
     },
     "metadata": {},
     "output_type": "display_data"
    }
   ],
   "source": [
    "with_model(Model.POLAR_PITH_CANNY_EDGE, lines, points, data_dir, ranking_url, pith_url, rings_url, rmse_url)"
   ]
  },
  {
   "cell_type": "code",
   "execution_count": 35,
   "id": "016625dd",
   "metadata": {},
   "outputs": [
    {
     "name": "stdout",
     "output_type": "stream",
     "text": [
      "0 6701.jpg 94.0\n",
      "1 6728.jpg 97.2\n",
      "2 6700.jpg 101.2\n",
      "3 6717.jpg 73.2\n",
      "4 6688.jpg 119.0\n",
      "5 6698.jpg 73.2\n",
      "6 6707.jpg 77.2\n",
      "7 6713.jpg 83.2\n",
      "8 6710.jpg 81.2\n",
      "9 6711.jpg 83.0\n",
      "10 6697.jpg 85.0\n",
      "11 6720.jpg 59.2\n",
      "12 6708.jpg 81.2\n",
      "13 6682.jpg 114.2\n",
      "14 6694.jpg 119.0\n",
      "15 6681.jpg 127.0\n",
      "16 6726.jpg 86.0\n",
      "17 6686.jpg 233.0\n",
      "18 6692.jpg 133.2\n",
      "19 6719.jpg 61.2\n",
      "20 6687.jpg 123.0\n"
     ]
    },
    {
     "data": {
      "text/html": [
       "<div>\n",
       "<style scoped>\n",
       "    .dataframe tbody tr th:only-of-type {\n",
       "        vertical-align: middle;\n",
       "    }\n",
       "\n",
       "    .dataframe tbody tr th {\n",
       "        vertical-align: top;\n",
       "    }\n",
       "\n",
       "    .dataframe thead th {\n",
       "        text-align: right;\n",
       "    }\n",
       "</style>\n",
       "<table border=\"1\" class=\"dataframe\">\n",
       "  <thead>\n",
       "    <tr style=\"text-align: right;\">\n",
       "      <th></th>\n",
       "      <th>model</th>\n",
       "      <th>subseq</th>\n",
       "      <th>peaks</th>\n",
       "      <th>binary</th>\n",
       "      <th>mwa</th>\n",
       "    </tr>\n",
       "  </thead>\n",
       "  <tbody>\n",
       "    <tr>\n",
       "      <th>0</th>\n",
       "      <td>Polar Pith Canny(otsu)</td>\n",
       "      <td>46.599</td>\n",
       "      <td>51.842</td>\n",
       "      <td>226.024</td>\n",
       "      <td>150.155</td>\n",
       "    </tr>\n",
       "  </tbody>\n",
       "</table>\n",
       "</div>"
      ],
      "text/plain": [
       "                    model  subseq   peaks   binary      mwa\n",
       "0  Polar Pith Canny(otsu)  46.599  51.842  226.024  150.155"
      ]
     },
     "metadata": {},
     "output_type": "display_data"
    }
   ],
   "source": [
    "with_model(Model.POLAR_PITH_CANNY_EDGE_OTSU, lines, points, data_dir, ranking_url, pith_url, rings_url, rmse_url)"
   ]
  },
  {
   "cell_type": "code",
   "execution_count": 36,
   "id": "300f771c",
   "metadata": {},
   "outputs": [
    {
     "name": "stdout",
     "output_type": "stream",
     "text": [
      "0 6701.jpg 94.0\n",
      "1 6728.jpg 97.2\n",
      "2 6700.jpg 101.2\n",
      "3 6717.jpg 73.2\n",
      "4 6688.jpg 119.0\n",
      "5 6698.jpg 73.2\n",
      "6 6707.jpg 77.2\n",
      "7 6713.jpg 83.2\n",
      "8 6710.jpg 81.2\n",
      "9 6711.jpg 83.0\n",
      "10 6697.jpg 85.0\n",
      "11 6720.jpg 59.2\n",
      "12 6708.jpg 81.2\n",
      "13 6682.jpg 114.2\n",
      "14 6694.jpg 119.0\n",
      "15 6681.jpg 127.0\n",
      "16 6726.jpg 86.0\n",
      "17 6686.jpg 233.0\n",
      "18 6692.jpg 133.2\n",
      "19 6719.jpg 61.2\n",
      "20 6687.jpg 123.0\n"
     ]
    },
    {
     "data": {
      "text/html": [
       "<div>\n",
       "<style scoped>\n",
       "    .dataframe tbody tr th:only-of-type {\n",
       "        vertical-align: middle;\n",
       "    }\n",
       "\n",
       "    .dataframe tbody tr th {\n",
       "        vertical-align: top;\n",
       "    }\n",
       "\n",
       "    .dataframe thead th {\n",
       "        text-align: right;\n",
       "    }\n",
       "</style>\n",
       "<table border=\"1\" class=\"dataframe\">\n",
       "  <thead>\n",
       "    <tr style=\"text-align: right;\">\n",
       "      <th></th>\n",
       "      <th>model</th>\n",
       "      <th>subseq</th>\n",
       "      <th>peaks</th>\n",
       "      <th>binary</th>\n",
       "      <th>mwa</th>\n",
       "    </tr>\n",
       "  </thead>\n",
       "  <tbody>\n",
       "    <tr>\n",
       "      <th>0</th>\n",
       "      <td>Polar Pith Canny(triangle)</td>\n",
       "      <td>60.002</td>\n",
       "      <td>39.913</td>\n",
       "      <td>303.716</td>\n",
       "      <td>213.781</td>\n",
       "    </tr>\n",
       "  </tbody>\n",
       "</table>\n",
       "</div>"
      ],
      "text/plain": [
       "                        model  subseq   peaks   binary      mwa\n",
       "0  Polar Pith Canny(triangle)  60.002  39.913  303.716  213.781"
      ]
     },
     "metadata": {},
     "output_type": "display_data"
    }
   ],
   "source": [
    "with_model(Model.POLAR_PITH_CANNY_EDGE_TRIANGLE, lines, points, data_dir, ranking_url, pith_url, rings_url, rmse_url)"
   ]
  },
  {
   "cell_type": "code",
   "execution_count": 37,
   "id": "b1a23908",
   "metadata": {},
   "outputs": [
    {
     "name": "stdout",
     "output_type": "stream",
     "text": [
      "0 6701.jpg 94.0\n",
      "1 6728.jpg 97.2\n",
      "2 6700.jpg 101.2\n",
      "3 6717.jpg 73.2\n",
      "4 6688.jpg 119.0\n",
      "5 6698.jpg 73.2\n",
      "6 6707.jpg 77.2\n",
      "7 6713.jpg 83.2\n",
      "8 6710.jpg 81.2\n",
      "9 6711.jpg 83.0\n",
      "10 6697.jpg 85.0\n",
      "11 6720.jpg 59.2\n",
      "12 6708.jpg 81.2\n",
      "13 6682.jpg 114.2\n",
      "14 6694.jpg 119.0\n",
      "15 6681.jpg 127.0\n",
      "16 6726.jpg 86.0\n",
      "17 6686.jpg 233.0\n",
      "18 6692.jpg 133.2\n",
      "19 6719.jpg 61.2\n",
      "20 6687.jpg 123.0\n"
     ]
    },
    {
     "data": {
      "text/html": [
       "<div>\n",
       "<style scoped>\n",
       "    .dataframe tbody tr th:only-of-type {\n",
       "        vertical-align: middle;\n",
       "    }\n",
       "\n",
       "    .dataframe tbody tr th {\n",
       "        vertical-align: top;\n",
       "    }\n",
       "\n",
       "    .dataframe thead th {\n",
       "        text-align: right;\n",
       "    }\n",
       "</style>\n",
       "<table border=\"1\" class=\"dataframe\">\n",
       "  <thead>\n",
       "    <tr style=\"text-align: right;\">\n",
       "      <th></th>\n",
       "      <th>model</th>\n",
       "      <th>subseq</th>\n",
       "      <th>peaks</th>\n",
       "      <th>binary</th>\n",
       "      <th>mwa</th>\n",
       "    </tr>\n",
       "  </thead>\n",
       "  <tbody>\n",
       "    <tr>\n",
       "      <th>0</th>\n",
       "      <td>Polar Pith Canny(manual)</td>\n",
       "      <td>52.65</td>\n",
       "      <td>60.084</td>\n",
       "      <td>186.805</td>\n",
       "      <td>117.49</td>\n",
       "    </tr>\n",
       "  </tbody>\n",
       "</table>\n",
       "</div>"
      ],
      "text/plain": [
       "                      model  subseq   peaks   binary     mwa\n",
       "0  Polar Pith Canny(manual)   52.65  60.084  186.805  117.49"
      ]
     },
     "metadata": {},
     "output_type": "display_data"
    }
   ],
   "source": [
    "with_model(Model.POLAR_PITH_CANNY_EDGE_MANUAL, lines, points, data_dir, ranking_url, pith_url, rings_url, rmse_url)"
   ]
  },
  {
   "cell_type": "code",
   "execution_count": 38,
   "id": "44bf39bb",
   "metadata": {},
   "outputs": [
    {
     "name": "stdout",
     "output_type": "stream",
     "text": [
      "0 6701.jpg 94.0\n",
      "1 6728.jpg 97.2\n",
      "2 6700.jpg 101.2\n",
      "3 6717.jpg 73.2\n",
      "4 6688.jpg 119.0\n",
      "5 6698.jpg 73.2\n",
      "6 6707.jpg 77.2\n",
      "7 6713.jpg 83.2\n",
      "8 6710.jpg 81.2\n",
      "9 6711.jpg 83.0\n",
      "10 6697.jpg 85.0\n",
      "11 6720.jpg 59.2\n",
      "12 6708.jpg 81.2\n",
      "13 6682.jpg 114.2\n",
      "14 6694.jpg 119.0\n",
      "15 6681.jpg 127.0\n",
      "16 6726.jpg 86.0\n",
      "17 6686.jpg 233.0\n",
      "18 6692.jpg 133.2\n",
      "19 6719.jpg 61.2\n",
      "20 6687.jpg 123.0\n"
     ]
    },
    {
     "data": {
      "text/html": [
       "<div>\n",
       "<style scoped>\n",
       "    .dataframe tbody tr th:only-of-type {\n",
       "        vertical-align: middle;\n",
       "    }\n",
       "\n",
       "    .dataframe tbody tr th {\n",
       "        vertical-align: top;\n",
       "    }\n",
       "\n",
       "    .dataframe thead th {\n",
       "        text-align: right;\n",
       "    }\n",
       "</style>\n",
       "<table border=\"1\" class=\"dataframe\">\n",
       "  <thead>\n",
       "    <tr style=\"text-align: right;\">\n",
       "      <th></th>\n",
       "      <th>model</th>\n",
       "      <th>subseq</th>\n",
       "      <th>peaks</th>\n",
       "      <th>binary</th>\n",
       "      <th>mwa</th>\n",
       "    </tr>\n",
       "  </thead>\n",
       "  <tbody>\n",
       "    <tr>\n",
       "      <th>0</th>\n",
       "      <td>Polar Pith Canny(blur)</td>\n",
       "      <td>71.696</td>\n",
       "      <td>76.854</td>\n",
       "      <td>129.991</td>\n",
       "      <td>77.763</td>\n",
       "    </tr>\n",
       "  </tbody>\n",
       "</table>\n",
       "</div>"
      ],
      "text/plain": [
       "                    model  subseq   peaks   binary     mwa\n",
       "0  Polar Pith Canny(blur)  71.696  76.854  129.991  77.763"
      ]
     },
     "metadata": {},
     "output_type": "display_data"
    }
   ],
   "source": [
    "with_model(Model.POLAR_PITH_CANNY_EDGE_BLUR, lines, points, data_dir, ranking_url, pith_url, rings_url, rmse_url)"
   ]
  },
  {
   "cell_type": "code",
   "execution_count": 39,
   "id": "483e93b8",
   "metadata": {},
   "outputs": [
    {
     "name": "stdout",
     "output_type": "stream",
     "text": [
      "0 6701.jpg 94.0\n",
      "1 6728.jpg 97.2\n",
      "2 6700.jpg 101.2\n",
      "3 6717.jpg 73.2\n",
      "4 6688.jpg 119.0\n",
      "5 6698.jpg 73.2\n",
      "6 6707.jpg 77.2\n",
      "7 6713.jpg 83.2\n",
      "8 6710.jpg 81.2\n",
      "9 6711.jpg 83.0\n",
      "10 6697.jpg 85.0\n",
      "11 6720.jpg 59.2\n",
      "12 6708.jpg 81.2\n",
      "13 6682.jpg 114.2\n",
      "14 6694.jpg 119.0\n",
      "15 6681.jpg 127.0\n",
      "16 6726.jpg 86.0\n",
      "17 6686.jpg 233.0\n",
      "18 6692.jpg 133.2\n",
      "19 6719.jpg 61.2\n",
      "20 6687.jpg 123.0\n"
     ]
    },
    {
     "data": {
      "text/html": [
       "<div>\n",
       "<style scoped>\n",
       "    .dataframe tbody tr th:only-of-type {\n",
       "        vertical-align: middle;\n",
       "    }\n",
       "\n",
       "    .dataframe tbody tr th {\n",
       "        vertical-align: top;\n",
       "    }\n",
       "\n",
       "    .dataframe thead th {\n",
       "        text-align: right;\n",
       "    }\n",
       "</style>\n",
       "<table border=\"1\" class=\"dataframe\">\n",
       "  <thead>\n",
       "    <tr style=\"text-align: right;\">\n",
       "      <th></th>\n",
       "      <th>model</th>\n",
       "      <th>subseq</th>\n",
       "      <th>peaks</th>\n",
       "      <th>binary</th>\n",
       "      <th>mwa</th>\n",
       "    </tr>\n",
       "  </thead>\n",
       "  <tbody>\n",
       "    <tr>\n",
       "      <th>0</th>\n",
       "      <td>Polar Pith Canny(blur otsu)</td>\n",
       "      <td>59.177</td>\n",
       "      <td>65.521</td>\n",
       "      <td>173.682</td>\n",
       "      <td>105.31</td>\n",
       "    </tr>\n",
       "  </tbody>\n",
       "</table>\n",
       "</div>"
      ],
      "text/plain": [
       "                         model  subseq   peaks   binary     mwa\n",
       "0  Polar Pith Canny(blur otsu)  59.177  65.521  173.682  105.31"
      ]
     },
     "metadata": {},
     "output_type": "display_data"
    }
   ],
   "source": [
    "with_model(Model.POLAR_PITH_CANNY_EDGE_BLUR_OTSU, lines, points, data_dir, ranking_url, pith_url, rings_url, rmse_url)"
   ]
  },
  {
   "cell_type": "code",
   "execution_count": 40,
   "id": "081babe2",
   "metadata": {},
   "outputs": [
    {
     "name": "stdout",
     "output_type": "stream",
     "text": [
      "0 6701.jpg 94.0\n",
      "1 6728.jpg 97.2\n",
      "2 6700.jpg 101.2\n",
      "3 6717.jpg 73.2\n",
      "4 6688.jpg 119.0\n",
      "5 6698.jpg 73.2\n",
      "6 6707.jpg 77.2\n",
      "7 6713.jpg 83.2\n",
      "8 6710.jpg 81.2\n",
      "9 6711.jpg 83.0\n",
      "10 6697.jpg 85.0\n",
      "11 6720.jpg 59.2\n",
      "12 6708.jpg 81.2\n",
      "13 6682.jpg 114.2\n",
      "14 6694.jpg 119.0\n",
      "15 6681.jpg 127.0\n",
      "16 6726.jpg 86.0\n",
      "17 6686.jpg 233.0\n",
      "18 6692.jpg 133.2\n",
      "19 6719.jpg 61.2\n",
      "20 6687.jpg 123.0\n"
     ]
    },
    {
     "data": {
      "text/html": [
       "<div>\n",
       "<style scoped>\n",
       "    .dataframe tbody tr th:only-of-type {\n",
       "        vertical-align: middle;\n",
       "    }\n",
       "\n",
       "    .dataframe tbody tr th {\n",
       "        vertical-align: top;\n",
       "    }\n",
       "\n",
       "    .dataframe thead th {\n",
       "        text-align: right;\n",
       "    }\n",
       "</style>\n",
       "<table border=\"1\" class=\"dataframe\">\n",
       "  <thead>\n",
       "    <tr style=\"text-align: right;\">\n",
       "      <th></th>\n",
       "      <th>model</th>\n",
       "      <th>subseq</th>\n",
       "      <th>peaks</th>\n",
       "      <th>binary</th>\n",
       "      <th>mwa</th>\n",
       "    </tr>\n",
       "  </thead>\n",
       "  <tbody>\n",
       "    <tr>\n",
       "      <th>0</th>\n",
       "      <td>Polar Pith Canny(blur triangle)</td>\n",
       "      <td>41.61</td>\n",
       "      <td>41.696</td>\n",
       "      <td>261.696</td>\n",
       "      <td>179.899</td>\n",
       "    </tr>\n",
       "  </tbody>\n",
       "</table>\n",
       "</div>"
      ],
      "text/plain": [
       "                             model  subseq   peaks   binary      mwa\n",
       "0  Polar Pith Canny(blur triangle)   41.61  41.696  261.696  179.899"
      ]
     },
     "metadata": {},
     "output_type": "display_data"
    }
   ],
   "source": [
    "with_model(Model.POLAR_PITH_CANNY_EDGE_BLUR_TRIANGLE, lines, points, data_dir, ranking_url, pith_url, rings_url, rmse_url)"
   ]
  },
  {
   "cell_type": "code",
   "execution_count": 41,
   "id": "261c103a",
   "metadata": {},
   "outputs": [
    {
     "name": "stdout",
     "output_type": "stream",
     "text": [
      "0 6701.jpg 94.0\n",
      "1 6728.jpg 97.2\n",
      "2 6700.jpg 101.2\n",
      "3 6717.jpg 73.2\n",
      "4 6688.jpg 119.0\n",
      "5 6698.jpg 73.2\n",
      "6 6707.jpg 77.2\n",
      "7 6713.jpg 83.2\n",
      "8 6710.jpg 81.2\n",
      "9 6711.jpg 83.0\n",
      "10 6697.jpg 85.0\n",
      "11 6720.jpg 59.2\n",
      "12 6708.jpg 81.2\n",
      "13 6682.jpg 114.2\n",
      "14 6694.jpg 119.0\n",
      "15 6681.jpg 127.0\n",
      "16 6726.jpg 86.0\n",
      "17 6686.jpg 233.0\n",
      "18 6692.jpg 133.2\n",
      "19 6719.jpg 61.2\n",
      "20 6687.jpg 123.0\n"
     ]
    },
    {
     "data": {
      "text/html": [
       "<div>\n",
       "<style scoped>\n",
       "    .dataframe tbody tr th:only-of-type {\n",
       "        vertical-align: middle;\n",
       "    }\n",
       "\n",
       "    .dataframe tbody tr th {\n",
       "        vertical-align: top;\n",
       "    }\n",
       "\n",
       "    .dataframe thead th {\n",
       "        text-align: right;\n",
       "    }\n",
       "</style>\n",
       "<table border=\"1\" class=\"dataframe\">\n",
       "  <thead>\n",
       "    <tr style=\"text-align: right;\">\n",
       "      <th></th>\n",
       "      <th>model</th>\n",
       "      <th>subseq</th>\n",
       "      <th>peaks</th>\n",
       "      <th>binary</th>\n",
       "      <th>mwa</th>\n",
       "    </tr>\n",
       "  </thead>\n",
       "  <tbody>\n",
       "    <tr>\n",
       "      <th>0</th>\n",
       "      <td>Polar Pith Canny(blur manual)</td>\n",
       "      <td>70.233</td>\n",
       "      <td>75.286</td>\n",
       "      <td>127.96</td>\n",
       "      <td>74.928</td>\n",
       "    </tr>\n",
       "  </tbody>\n",
       "</table>\n",
       "</div>"
      ],
      "text/plain": [
       "                           model  subseq   peaks  binary     mwa\n",
       "0  Polar Pith Canny(blur manual)  70.233  75.286  127.96  74.928"
      ]
     },
     "metadata": {},
     "output_type": "display_data"
    }
   ],
   "source": [
    "with_model(Model.POLAR_PITH_CANNY_EDGE_BLUR_MANUAL, lines, points, data_dir, ranking_url, pith_url, rings_url, rmse_url)"
   ]
  },
  {
   "cell_type": "code",
   "execution_count": 42,
   "id": "d4c9ff68",
   "metadata": {},
   "outputs": [
    {
     "name": "stdout",
     "output_type": "stream",
     "text": [
      "0 6701.jpg 94.0\n",
      "1 6728.jpg 97.2\n",
      "2 6700.jpg 101.2\n",
      "3 6717.jpg 73.2\n",
      "4 6688.jpg 119.0\n",
      "5 6698.jpg 73.2\n",
      "6 6707.jpg 77.2\n",
      "7 6713.jpg 83.2\n",
      "8 6710.jpg 81.2\n",
      "9 6711.jpg 83.0\n",
      "10 6697.jpg 85.0\n",
      "11 6720.jpg 59.2\n",
      "12 6708.jpg 81.2\n",
      "13 6682.jpg 114.2\n",
      "14 6694.jpg 119.0\n",
      "15 6681.jpg 127.0\n",
      "16 6726.jpg 86.0\n",
      "17 6686.jpg 233.0\n",
      "18 6692.jpg 133.2\n",
      "19 6719.jpg 61.2\n",
      "20 6687.jpg 123.0\n"
     ]
    },
    {
     "data": {
      "text/html": [
       "<div>\n",
       "<style scoped>\n",
       "    .dataframe tbody tr th:only-of-type {\n",
       "        vertical-align: middle;\n",
       "    }\n",
       "\n",
       "    .dataframe tbody tr th {\n",
       "        vertical-align: top;\n",
       "    }\n",
       "\n",
       "    .dataframe thead th {\n",
       "        text-align: right;\n",
       "    }\n",
       "</style>\n",
       "<table border=\"1\" class=\"dataframe\">\n",
       "  <thead>\n",
       "    <tr style=\"text-align: right;\">\n",
       "      <th></th>\n",
       "      <th>model</th>\n",
       "      <th>subseq</th>\n",
       "      <th>peaks</th>\n",
       "      <th>binary</th>\n",
       "      <th>mwa</th>\n",
       "    </tr>\n",
       "  </thead>\n",
       "  <tbody>\n",
       "    <tr>\n",
       "      <th>0</th>\n",
       "      <td>Polar Pith Laplacian</td>\n",
       "      <td>551.685</td>\n",
       "      <td>126.206</td>\n",
       "      <td>490.645</td>\n",
       "      <td>188.436</td>\n",
       "    </tr>\n",
       "  </tbody>\n",
       "</table>\n",
       "</div>"
      ],
      "text/plain": [
       "                  model   subseq    peaks   binary      mwa\n",
       "0  Polar Pith Laplacian  551.685  126.206  490.645  188.436"
      ]
     },
     "metadata": {},
     "output_type": "display_data"
    }
   ],
   "source": [
    "with_model(Model.POLAR_PITH_LAPLACIAN_EDGE, lines, points, data_dir, ranking_url, pith_url, rings_url, rmse_url)"
   ]
  },
  {
   "cell_type": "code",
   "execution_count": 43,
   "id": "385ccfcc",
   "metadata": {},
   "outputs": [
    {
     "name": "stdout",
     "output_type": "stream",
     "text": [
      "0 6701.jpg 94.0\n",
      "1 6728.jpg 97.2\n",
      "2 6700.jpg 101.2\n",
      "3 6717.jpg 73.2\n",
      "4 6688.jpg 119.0\n",
      "5 6698.jpg 73.2\n",
      "6 6707.jpg 77.2\n",
      "7 6713.jpg 83.2\n",
      "8 6710.jpg 81.2\n",
      "9 6711.jpg 83.0\n",
      "10 6697.jpg 85.0\n",
      "11 6720.jpg 59.2\n",
      "12 6708.jpg 81.2\n",
      "13 6682.jpg 114.2\n",
      "14 6694.jpg 119.0\n",
      "15 6681.jpg 127.0\n",
      "16 6726.jpg 86.0\n",
      "17 6686.jpg 233.0\n",
      "18 6692.jpg 133.2\n",
      "19 6719.jpg 61.2\n",
      "20 6687.jpg 123.0\n"
     ]
    },
    {
     "data": {
      "text/html": [
       "<div>\n",
       "<style scoped>\n",
       "    .dataframe tbody tr th:only-of-type {\n",
       "        vertical-align: middle;\n",
       "    }\n",
       "\n",
       "    .dataframe tbody tr th {\n",
       "        vertical-align: top;\n",
       "    }\n",
       "\n",
       "    .dataframe thead th {\n",
       "        text-align: right;\n",
       "    }\n",
       "</style>\n",
       "<table border=\"1\" class=\"dataframe\">\n",
       "  <thead>\n",
       "    <tr style=\"text-align: right;\">\n",
       "      <th></th>\n",
       "      <th>model</th>\n",
       "      <th>subseq</th>\n",
       "      <th>peaks</th>\n",
       "      <th>binary</th>\n",
       "      <th>mwa</th>\n",
       "    </tr>\n",
       "  </thead>\n",
       "  <tbody>\n",
       "    <tr>\n",
       "      <th>0</th>\n",
       "      <td>Polar Pith Laplacian(blur)</td>\n",
       "      <td>433.921</td>\n",
       "      <td>51.731</td>\n",
       "      <td>423.564</td>\n",
       "      <td>60.137</td>\n",
       "    </tr>\n",
       "  </tbody>\n",
       "</table>\n",
       "</div>"
      ],
      "text/plain": [
       "                        model   subseq   peaks   binary     mwa\n",
       "0  Polar Pith Laplacian(blur)  433.921  51.731  423.564  60.137"
      ]
     },
     "metadata": {},
     "output_type": "display_data"
    }
   ],
   "source": [
    "with_model(Model.POLAR_PITH_LAPLACIAN_EDGE_BLUR, lines, points, data_dir, ranking_url, pith_url, rings_url, rmse_url)"
   ]
  },
  {
   "cell_type": "code",
   "execution_count": 44,
   "id": "34ab8968",
   "metadata": {},
   "outputs": [
    {
     "name": "stdout",
     "output_type": "stream",
     "text": [
      "Polar Canny(triangle) 39.684 (peaks) \n",
      "\n"
     ]
    },
    {
     "data": {
      "image/png": "[encoded data removed]",
      "text/plain": [
       "<Figure size 800x800 with 1 Axes>"
      ]
     },
     "metadata": {},
     "output_type": "display_data"
    },
    {
     "data": {
      "image/png": "[encoded data removed]",
      "text/plain": [
       "<Figure size 1200x400 with 1 Axes>"
      ]
     },
     "metadata": {},
     "output_type": "display_data"
    }
   ],
   "source": [
    "multi_rmse(rmse_url)"
   ]
  },
  {
   "cell_type": "code",
   "execution_count": 45,
   "id": "17bf2401",
   "metadata": {},
   "outputs": [],
   "source": [
    "#STOP"
   ]
  }
 ],
 "metadata": {
  "kernelspec": {
   "display_name": "Python 3 (ipykernel)",
   "language": "python",
   "name": "python3"
  },
  "language_info": {
   "codemirror_mode": {
    "name": "ipython",
    "version": 3
   },
   "file_extension": ".py",
   "mimetype": "text/x-python",
   "name": "python",
   "nbconvert_exporter": "python",
   "pygments_lexer": "ipython3",
   "version": "3.9.6"
  }
 },
 "nbformat": 4,
 "nbformat_minor": 5
}
