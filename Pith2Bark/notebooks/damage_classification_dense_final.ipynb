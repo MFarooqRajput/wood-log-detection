{
 "cells": [
  {
   "cell_type": "code",
   "execution_count": 1,
   "id": "adf08eb4",
   "metadata": {},
   "outputs": [
    {
     "name": "stdout",
     "output_type": "stream",
     "text": [
      "/Users/muhammadfarooq/Codebase/thesis-experiment/Pith2Bark\n"
     ]
    }
   ],
   "source": [
    "cd .."
   ]
  },
  {
   "cell_type": "code",
   "execution_count": 2,
   "id": "7218123d",
   "metadata": {},
   "outputs": [],
   "source": [
    "import os\n",
    "os.environ['TF_CPP_MIN_LOG_LEVEL'] = '3'\n",
    "import warnings\n",
    "warnings.filterwarnings(\"ignore\")\n",
    "\n",
    "import numpy as np\n",
    "import matplotlib.pyplot as plt\n",
    "import seaborn as sns\n",
    "import scikitplot as skplt\n",
    "\n",
    "import tensorflow as tf\n",
    "\n",
    "from keras.models import Sequential\n",
    "from keras.layers import Dense, Dropout\n",
    "\n",
    "from sklearn.model_selection import KFold\n",
    "from sklearn.model_selection import train_test_split\n",
    "from sklearn.preprocessing import StandardScaler\n",
    "#from sklearn.metrics import accuracy_score\n",
    "from sklearn.metrics import confusion_matrix\n",
    "from sklearn.metrics import classification_report\n",
    "from sklearn.metrics import balanced_accuracy_score\n",
    "\n",
    "from sklearn.metrics import accuracy_score, roc_auc_score, precision_score, recall_score, f1_score\n",
    "\n",
    "from src.winner import winner_model_rings\n",
    "from src.damage import merge_df\n",
    "from src.damage import read_damage_min_max\n",
    "from src.damage import read_damage_mean"
   ]
  },
  {
   "cell_type": "markdown",
   "id": "f997a936",
   "metadata": {},
   "source": [
    "# Damage Dataset"
   ]
  },
  {
   "cell_type": "code",
   "execution_count": 3,
   "id": "fe5a18bd",
   "metadata": {},
   "outputs": [
    {
     "name": "stdout",
     "output_type": "stream",
     "text": [
      "Polar Pith Canny(blur otsu) 12.829318845239923 (subseq)\n",
      "Polar Pith Canny(blur otsu) 12.88055458721076 (subseq)\n"
     ]
    }
   ],
   "source": [
    "mse_url = \"output/ringsranking_mse_sixteen.csv\"\n",
    "rings_url = \"output/ringsranking_rings_sixteen.csv\"\n",
    "df_ringsranking_sixteen = winner_model_rings(mse_url, rings_url)\n",
    "\n",
    "mse_url = \"output/ringsranking_mse_thirtytwo.csv\"\n",
    "rings_url = \"output/ringsranking_rings_thirtytwo.csv\"\n",
    "df_ringsranking_thirtytwo = winner_model_rings(mse_url, rings_url)"
   ]
  },
  {
   "cell_type": "code",
   "execution_count": 4,
   "id": "4cc20eef",
   "metadata": {},
   "outputs": [
    {
     "name": "stdout",
     "output_type": "stream",
     "text": [
      "Polar Pith Canny(blur triangle) 19.888455438324574 (peaks)\n",
      "Polar Pith Canny(blur triangle) 19.591747084408897 (peaks)\n"
     ]
    }
   ],
   "source": [
    "mse_url = \"output/pine_mse_sixteen.csv\"\n",
    "rings_url = \"output/pine_rings_sixteen.csv\"\n",
    "df_pine_sixteen = winner_model_rings(mse_url, rings_url)\n",
    "\n",
    "mse_url = \"output/pine_mse_thirtytwo.csv\"\n",
    "rings_url = \"output/pine_rings_thirtytwo.csv\"\n",
    "df_pine_thirtytwo = winner_model_rings(mse_url, rings_url)"
   ]
  },
  {
   "cell_type": "code",
   "execution_count": 5,
   "id": "a43a2fd5",
   "metadata": {},
   "outputs": [
    {
     "name": "stdout",
     "output_type": "stream",
     "text": [
      "Polar Pith Canny(blur triangle) 13.428984012468806 (peaks)\n",
      "Polar Pith Canny(blur triangle) 13.688767879960144 (peaks)\n"
     ]
    }
   ],
   "source": [
    "mse_url = \"output/fur_mse_sixteen.csv\"\n",
    "rings_url = \"output/fur_rings_sixteen.csv\"\n",
    "df_fur_sixteen = winner_model_rings(mse_url, rings_url)\n",
    "\n",
    "mse_url = \"output/fur_mse_thirtytwo.csv\"\n",
    "rings_url = \"output/fur_rings_thirtytwo.csv\"\n",
    "df_fur_thirtytwo = winner_model_rings(mse_url, rings_url)"
   ]
  },
  {
   "cell_type": "code",
   "execution_count": 6,
   "id": "952163f8",
   "metadata": {},
   "outputs": [
    {
     "name": "stdout",
     "output_type": "stream",
     "text": [
      "Polar Canny(triangle) 39.683736416974455 (peaks)\n",
      "Polar Pith Canny(triangle) 39.48914666858598 (peaks)\n"
     ]
    }
   ],
   "source": [
    "mse_url = \"output/tracy_mse_sixteen.csv\"\n",
    "rings_url = \"output/tracy_rings_sixteen.csv\"\n",
    "df_tracy_sixteen = winner_model_rings(mse_url, rings_url)\n",
    "\n",
    "mse_url = \"output/tracy_mse_thirtytwo.csv\"\n",
    "rings_url = \"output/tracy_rings_thirtytwo.csv\"\n",
    "df_tracy_thirtytwo = winner_model_rings(mse_url, rings_url)"
   ]
  },
  {
   "cell_type": "code",
   "execution_count": 7,
   "id": "dc59f33c",
   "metadata": {},
   "outputs": [
    {
     "name": "stdout",
     "output_type": "stream",
     "text": [
      "Canny(triangle) 18.789996216404624 (subseq)\n",
      "Canny(triangle) 18.871624925897343 (subseq)\n"
     ]
    }
   ],
   "source": [
    "mse_url = \"output/data_mse_sixteen.csv\"\n",
    "rings_url = \"output/data_rings_sixteen.csv\"\n",
    "df_data_sixteen = winner_model_rings(mse_url, rings_url)\n",
    "\n",
    "mse_url = \"output/data_mse_thirtytwo.csv\"\n",
    "rings_url = \"output/data_rings_thirtytwo.csv\"\n",
    "df_data_thirtytwo = winner_model_rings(mse_url, rings_url)"
   ]
  },
  {
   "cell_type": "code",
   "execution_count": 8,
   "id": "7f0fa2ef",
   "metadata": {},
   "outputs": [],
   "source": [
    "#damage\n",
    "damage_sixteen_url = \"damage/damage_sixteen.csv\"\n",
    "damage_thirtytwo_url = \"damage/damage_thirtytwo.csv\"\n",
    "\n",
    "#merge\n",
    "df_merge_sixteen = merge_df(df_ringsranking_sixteen, df_pine_sixteen, df_fur_sixteen, df_tracy_sixteen, df_data_sixteen)\n",
    "df_merge_thirtytwo = merge_df(df_ringsranking_thirtytwo, df_pine_thirtytwo, df_fur_thirtytwo, df_tracy_thirtytwo, df_data_thirtytwo)\n",
    "\n",
    "df_damage_sixteen_min_max = read_damage_min_max(damage_sixteen_url, df_merge_sixteen)\n",
    "df_damage_thirtytwo_min_max = read_damage_min_max(damage_thirtytwo_url, df_merge_thirtytwo)\n",
    "\n",
    "df_damage_sixteen_mean = read_damage_mean(damage_sixteen_url, df_merge_sixteen)\n",
    "df_damage_thirtytwo_mean = read_damage_mean(damage_thirtytwo_url, df_merge_thirtytwo)"
   ]
  },
  {
   "cell_type": "code",
   "execution_count": 9,
   "id": "c3450480",
   "metadata": {},
   "outputs": [],
   "source": [
    "#df_damage_sixteen_min_max"
   ]
  },
  {
   "cell_type": "code",
   "execution_count": 10,
   "id": "8d2f32fc",
   "metadata": {},
   "outputs": [],
   "source": [
    "#df_damage_thirtytwo_min_max"
   ]
  },
  {
   "cell_type": "code",
   "execution_count": 11,
   "id": "f17fcb9b",
   "metadata": {},
   "outputs": [],
   "source": [
    "#df_damage_sixteen_mean"
   ]
  },
  {
   "cell_type": "code",
   "execution_count": 12,
   "id": "e3d93efc",
   "metadata": {},
   "outputs": [],
   "source": [
    "#df_damage_thirtytwo_mean"
   ]
  },
  {
   "cell_type": "code",
   "execution_count": 13,
   "id": "4a89d4fb",
   "metadata": {},
   "outputs": [],
   "source": [
    "#STOP"
   ]
  },
  {
   "cell_type": "markdown",
   "id": "eb6a167a",
   "metadata": {},
   "source": [
    "# Config"
   ]
  },
  {
   "cell_type": "code",
   "execution_count": 14,
   "id": "abbdd2ae",
   "metadata": {},
   "outputs": [],
   "source": [
    "training_percent = 0.9\n",
    "\n",
    "epochs, batch_size = 50, 32\n",
    "kf = KFold(n_splits=3, shuffle=True, random_state=42)\n",
    "\n",
    "# mode = max for monitro val_accuracy and val_prc\n",
    "early_stopping = tf.keras.callbacks.EarlyStopping(\n",
    "    monitor='val_loss', \n",
    "    patience=10,\n",
    "    restore_best_weights=True)\n",
    "\n",
    "METRICS = [\n",
    "    tf.keras.metrics.TruePositives(name='tp'),\n",
    "    tf.keras.metrics.FalsePositives(name='fp'),\n",
    "    tf.keras.metrics.TrueNegatives(name='tn'),\n",
    "    tf.keras.metrics.FalseNegatives(name='fn'), \n",
    "    tf.keras.metrics.BinaryAccuracy(name='accuracy'),\n",
    "    tf.keras.metrics.Precision(name='precision'),\n",
    "    tf.keras.metrics.Recall(name='recall'),\n",
    "    tf.keras.metrics.AUC(name='auc'),\n",
    "    tf.keras.metrics.AUC(name='prc', curve='PR'), # precision-recall curve\n",
    "]\n",
    "\n",
    "#columns to drop\n",
    "columns = ['image', 'algo']"
   ]
  },
  {
   "cell_type": "code",
   "execution_count": 15,
   "id": "df4dc48a",
   "metadata": {},
   "outputs": [],
   "source": [
    "def heat_map(_cm):\n",
    "    # plot confusion matrix as heatmap\n",
    "    \n",
    "    labels = ['Not Damage', 'Damaged']\n",
    "    \n",
    "    # Set up the matplotlib figure\n",
    "    plt.figure(figsize=(4, 3))\n",
    "    \n",
    "    # Generate a custom diverging colormap\n",
    "    cmap = sns.diverging_palette(230, 20, as_cmap=True)\n",
    "    \n",
    "    sns.heatmap(_cm, annot=True, cmap=cmap, xticklabels=labels, yticklabels=labels)\n",
    "    \n",
    "    plt.xlabel('Predicted labels')\n",
    "    plt.ylabel('True labels')\n",
    "    plt.show()"
   ]
  },
  {
   "cell_type": "code",
   "execution_count": 16,
   "id": "bf7ef7be",
   "metadata": {},
   "outputs": [],
   "source": [
    "def heat_map_n(y_true, y_pred):\n",
    "    \n",
    "    class_names = ['Not Damage', 'Damaged']\n",
    "    \n",
    "    skplt.metrics.plot_confusion_matrix(y_true, y_pred,\n",
    "                                        figsize=(4,3),\n",
    "                                        normalize=True)\n",
    "    \n",
    "    # Customize axis tick labels\n",
    "    plt.xticks([0,1], class_names)\n",
    "    plt.yticks([0,1], class_names)\n",
    "    \n",
    "    plt.yticks(rotation=90)\n",
    "    \n",
    "    plt.xlabel('Predicted labels')\n",
    "    plt.ylabel('True labels')\n",
    "    plt.show()"
   ]
  },
  {
   "cell_type": "markdown",
   "id": "e16663a1",
   "metadata": {},
   "source": [
    "# Model"
   ]
  },
  {
   "cell_type": "code",
   "execution_count": 17,
   "id": "e7a10910",
   "metadata": {},
   "outputs": [],
   "source": [
    "class Baseline():\n",
    "    def __init__(self, _input_dim, metrics=METRICS):\n",
    "        # Define the model architecture\n",
    "        model = Sequential()\n",
    "        \n",
    "        # hidden layer\n",
    "        model.add(Dense(32, activation='relu', input_dim=_input_dim))\n",
    "        model.add(Dropout(0.1))\n",
    "        \n",
    "        # hidden layer\n",
    "        model.add(Dense(32, activation='relu'))\n",
    "        model.add(Dropout(0.1))\n",
    "        \n",
    "        # hidden layer\n",
    "        model.add(Dense(32, activation='relu'))\n",
    "        model.add(Dropout(0.1))\n",
    "        \n",
    "        # hidden layer\n",
    "        model.add(Dense(32, activation='relu'))\n",
    "        model.add(Dropout(0.1))\n",
    "        \n",
    "        # output layer\n",
    "        model.add(Dense(1, activation='sigmoid'))\n",
    "\n",
    "        # Compile the model\n",
    "        model.compile(loss='binary_crossentropy', optimizer=tf.keras.optimizers.RMSprop(learning_rate=0.001), metrics=metrics)\n",
    "\n",
    "        self.model = model\n",
    "        \n",
    "    def train(self, X_train, y_train, X_val, y_val, epochs, batch_size):\n",
    "        history = self.model.fit(X_train, y_train, validation_data=(X_val, y_val), epochs=epochs, batch_size=batch_size, callbacks=[early_stopping], verbose=2)\n",
    "        return history\n",
    "\n",
    "    def evaluate(self, X_test, y_test):\n",
    "        results = self.model.evaluate(X_test, y_test, verbose=0)\n",
    "        return results\n",
    "\n",
    "    def predict(self, X): #X_train X_test\n",
    "        predictions = self.model.predict(X)\n",
    "        return predictions\n",
    "    \n",
    "    def summary(self):\n",
    "        self.model.summary()\n",
    "        \n",
    "    def metrics_names(self):\n",
    "        return self.model.metrics_names"
   ]
  },
  {
   "cell_type": "markdown",
   "id": "baa62310",
   "metadata": {},
   "source": [
    "# 1 Prepare dataset"
   ]
  },
  {
   "cell_type": "code",
   "execution_count": 18,
   "id": "14a1c3f2",
   "metadata": {},
   "outputs": [],
   "source": [
    "df = df_damage_sixteen_min_max.drop(columns=columns)\n",
    "\n",
    "X = df.drop(columns=['Damage'])\n",
    "y = df['Damage']\n",
    "\n",
    "# split the data into a holdout set and the rest for K-Fold cross-validation\n",
    "X_train, X_holdout, y_train, y_holdout = train_test_split(X, y, train_size=training_percent, random_state=42)"
   ]
  },
  {
   "cell_type": "code",
   "execution_count": 19,
   "id": "07457154",
   "metadata": {},
   "outputs": [],
   "source": [
    "# Initialize StandardScaler\n",
    "scaler = StandardScaler()\n",
    "\n",
    "# Fit scaler on training data\n",
    "scaler.fit(X_train)\n",
    "\n",
    "# Transform both training and test data\n",
    "X_train_scaled = scaler.transform(X_train)\n",
    "X_holdout_scaled = scaler.transform(X_holdout)"
   ]
  },
  {
   "cell_type": "code",
   "execution_count": 20,
   "id": "f5fff565",
   "metadata": {},
   "outputs": [
    {
     "name": "stdout",
     "output_type": "stream",
     "text": [
      "Model: \"sequential\"\n",
      "_________________________________________________________________\n",
      " Layer (type)                Output Shape              Param #   \n",
      "=================================================================\n",
      " dense (Dense)               (None, 32)                672       \n",
      "                                                                 \n",
      " dropout (Dropout)           (None, 32)                0         \n",
      "                                                                 \n",
      " dense_1 (Dense)             (None, 32)                1056      \n",
      "                                                                 \n",
      " dropout_1 (Dropout)         (None, 32)                0         \n",
      "                                                                 \n",
      " dense_2 (Dense)             (None, 32)                1056      \n",
      "                                                                 \n",
      " dropout_2 (Dropout)         (None, 32)                0         \n",
      "                                                                 \n",
      " dense_3 (Dense)             (None, 32)                1056      \n",
      "                                                                 \n",
      " dropout_3 (Dropout)         (None, 32)                0         \n",
      "                                                                 \n",
      " dense_4 (Dense)             (None, 1)                 33        \n",
      "                                                                 \n",
      "=================================================================\n",
      "Total params: 3,873\n",
      "Trainable params: 3,873\n",
      "Non-trainable params: 0\n",
      "_________________________________________________________________\n"
     ]
    }
   ],
   "source": [
    "input_dim = X_train.shape[1]\n",
    "\n",
    "model = Baseline(input_dim)\n",
    "model.summary()"
   ]
  },
  {
   "cell_type": "code",
   "execution_count": 21,
   "id": "b8d6e49a",
   "metadata": {},
   "outputs": [
    {
     "name": "stdout",
     "output_type": "stream",
     "text": [
      "(133, 20)\n",
      "(133,)\n"
     ]
    }
   ],
   "source": [
    "print(X_train_scaled.shape)\n",
    "print(y_train.shape)"
   ]
  },
  {
   "cell_type": "code",
   "execution_count": 22,
   "id": "ff9e07b5",
   "metadata": {},
   "outputs": [
    {
     "name": "stdout",
     "output_type": "stream",
     "text": [
      "Epoch 1/50\n",
      "3/3 - 2s - loss: 0.6956 - tp: 23.0000 - fp: 44.0000 - tn: 15.0000 - fn: 6.0000 - accuracy: 0.4318 - precision: 0.3433 - recall: 0.7931 - auc: 0.6607 - prc: 0.6164 - val_loss: 0.5502 - val_tp: 16.0000 - val_fp: 1.0000 - val_tn: 25.0000 - val_fn: 3.0000 - val_accuracy: 0.9111 - val_precision: 0.9412 - val_recall: 0.8421 - val_auc: 0.9231 - val_prc: 0.9199 - 2s/epoch - 647ms/step\n",
      "Epoch 2/50\n",
      "3/3 - 0s - loss: 0.5578 - tp: 23.0000 - fp: 10.0000 - tn: 49.0000 - fn: 6.0000 - accuracy: 0.8182 - precision: 0.6970 - recall: 0.7931 - auc: 0.8875 - prc: 0.8909 - val_loss: 0.4778 - val_tp: 16.0000 - val_fp: 1.0000 - val_tn: 25.0000 - val_fn: 3.0000 - val_accuracy: 0.9111 - val_precision: 0.9412 - val_recall: 0.8421 - val_auc: 0.9180 - val_prc: 0.9190 - 63ms/epoch - 21ms/step\n",
      "Epoch 3/50\n",
      "3/3 - 0s - loss: 0.4863 - tp: 21.0000 - fp: 4.0000 - tn: 55.0000 - fn: 8.0000 - accuracy: 0.8636 - precision: 0.8400 - recall: 0.7241 - auc: 0.9217 - prc: 0.8951 - val_loss: 0.4159 - val_tp: 16.0000 - val_fp: 1.0000 - val_tn: 25.0000 - val_fn: 3.0000 - val_accuracy: 0.9111 - val_precision: 0.9412 - val_recall: 0.8421 - val_auc: 0.9221 - val_prc: 0.9205 - 62ms/epoch - 21ms/step\n",
      "Epoch 4/50\n",
      "3/3 - 0s - loss: 0.3960 - tp: 23.0000 - fp: 2.0000 - tn: 57.0000 - fn: 6.0000 - accuracy: 0.9091 - precision: 0.9200 - recall: 0.7931 - auc: 0.9451 - prc: 0.9254 - val_loss: 0.3738 - val_tp: 16.0000 - val_fp: 1.0000 - val_tn: 25.0000 - val_fn: 3.0000 - val_accuracy: 0.9111 - val_precision: 0.9412 - val_recall: 0.8421 - val_auc: 0.9251 - val_prc: 0.9231 - 58ms/epoch - 19ms/step\n",
      "Epoch 5/50\n",
      "3/3 - 0s - loss: 0.3637 - tp: 23.0000 - fp: 2.0000 - tn: 57.0000 - fn: 6.0000 - accuracy: 0.9091 - precision: 0.9200 - recall: 0.7931 - auc: 0.9573 - prc: 0.9421 - val_loss: 0.3430 - val_tp: 16.0000 - val_fp: 1.0000 - val_tn: 25.0000 - val_fn: 3.0000 - val_accuracy: 0.9111 - val_precision: 0.9412 - val_recall: 0.8421 - val_auc: 0.9291 - val_prc: 0.9265 - 60ms/epoch - 20ms/step\n",
      "Epoch 6/50\n",
      "3/3 - 0s - loss: 0.3268 - tp: 22.0000 - fp: 5.0000 - tn: 54.0000 - fn: 7.0000 - accuracy: 0.8636 - precision: 0.8148 - recall: 0.7586 - auc: 0.9442 - prc: 0.9268 - val_loss: 0.3212 - val_tp: 16.0000 - val_fp: 1.0000 - val_tn: 25.0000 - val_fn: 3.0000 - val_accuracy: 0.9111 - val_precision: 0.9412 - val_recall: 0.8421 - val_auc: 0.9302 - val_prc: 0.9272 - 58ms/epoch - 19ms/step\n",
      "Epoch 7/50\n",
      "3/3 - 0s - loss: 0.2879 - tp: 25.0000 - fp: 4.0000 - tn: 55.0000 - fn: 4.0000 - accuracy: 0.9091 - precision: 0.8621 - recall: 0.8621 - auc: 0.9565 - prc: 0.9500 - val_loss: 0.3046 - val_tp: 16.0000 - val_fp: 1.0000 - val_tn: 25.0000 - val_fn: 3.0000 - val_accuracy: 0.9111 - val_precision: 0.9412 - val_recall: 0.8421 - val_auc: 0.9302 - val_prc: 0.9269 - 58ms/epoch - 19ms/step\n",
      "Epoch 8/50\n",
      "3/3 - 0s - loss: 0.2669 - tp: 24.0000 - fp: 5.0000 - tn: 54.0000 - fn: 5.0000 - accuracy: 0.8864 - precision: 0.8276 - recall: 0.8276 - auc: 0.9638 - prc: 0.9455 - val_loss: 0.2930 - val_tp: 16.0000 - val_fp: 1.0000 - val_tn: 25.0000 - val_fn: 3.0000 - val_accuracy: 0.9111 - val_precision: 0.9412 - val_recall: 0.8421 - val_auc: 0.9332 - val_prc: 0.9300 - 57ms/epoch - 19ms/step\n",
      "Epoch 9/50\n",
      "3/3 - 0s - loss: 0.2547 - tp: 24.0000 - fp: 5.0000 - tn: 54.0000 - fn: 5.0000 - accuracy: 0.8864 - precision: 0.8276 - recall: 0.8276 - auc: 0.9559 - prc: 0.9458 - val_loss: 0.2877 - val_tp: 16.0000 - val_fp: 1.0000 - val_tn: 25.0000 - val_fn: 3.0000 - val_accuracy: 0.9111 - val_precision: 0.9412 - val_recall: 0.8421 - val_auc: 0.9342 - val_prc: 0.9304 - 60ms/epoch - 20ms/step\n",
      "Epoch 10/50\n",
      "3/3 - 0s - loss: 0.2597 - tp: 24.0000 - fp: 3.0000 - tn: 56.0000 - fn: 5.0000 - accuracy: 0.9091 - precision: 0.8889 - recall: 0.8276 - auc: 0.9550 - prc: 0.9447 - val_loss: 0.2832 - val_tp: 16.0000 - val_fp: 1.0000 - val_tn: 25.0000 - val_fn: 3.0000 - val_accuracy: 0.9111 - val_precision: 0.9412 - val_recall: 0.8421 - val_auc: 0.9342 - val_prc: 0.9308 - 64ms/epoch - 21ms/step\n",
      "Epoch 11/50\n",
      "3/3 - 0s - loss: 0.2409 - tp: 25.0000 - fp: 5.0000 - tn: 54.0000 - fn: 4.0000 - accuracy: 0.8977 - precision: 0.8333 - recall: 0.8621 - auc: 0.9667 - prc: 0.9458 - val_loss: 0.2828 - val_tp: 16.0000 - val_fp: 1.0000 - val_tn: 25.0000 - val_fn: 3.0000 - val_accuracy: 0.9111 - val_precision: 0.9412 - val_recall: 0.8421 - val_auc: 0.9342 - val_prc: 0.9304 - 61ms/epoch - 20ms/step\n",
      "Epoch 12/50\n",
      "3/3 - 0s - loss: 0.2154 - tp: 26.0000 - fp: 3.0000 - tn: 56.0000 - fn: 3.0000 - accuracy: 0.9318 - precision: 0.8966 - recall: 0.8966 - auc: 0.9714 - prc: 0.9546 - val_loss: 0.2813 - val_tp: 16.0000 - val_fp: 1.0000 - val_tn: 25.0000 - val_fn: 3.0000 - val_accuracy: 0.9111 - val_precision: 0.9412 - val_recall: 0.8421 - val_auc: 0.9342 - val_prc: 0.9304 - 58ms/epoch - 19ms/step\n",
      "Epoch 13/50\n",
      "3/3 - 0s - loss: 0.2180 - tp: 26.0000 - fp: 3.0000 - tn: 56.0000 - fn: 3.0000 - accuracy: 0.9318 - precision: 0.8966 - recall: 0.8966 - auc: 0.9722 - prc: 0.9612 - val_loss: 0.2818 - val_tp: 16.0000 - val_fp: 1.0000 - val_tn: 25.0000 - val_fn: 3.0000 - val_accuracy: 0.9111 - val_precision: 0.9412 - val_recall: 0.8421 - val_auc: 0.9362 - val_prc: 0.9321 - 56ms/epoch - 19ms/step\n",
      "Epoch 14/50\n",
      "3/3 - 0s - loss: 0.2216 - tp: 26.0000 - fp: 2.0000 - tn: 57.0000 - fn: 3.0000 - accuracy: 0.9432 - precision: 0.9286 - recall: 0.8966 - auc: 0.9638 - prc: 0.9637 - val_loss: 0.2821 - val_tp: 16.0000 - val_fp: 1.0000 - val_tn: 25.0000 - val_fn: 3.0000 - val_accuracy: 0.9111 - val_precision: 0.9412 - val_recall: 0.8421 - val_auc: 0.9383 - val_prc: 0.9342 - 56ms/epoch - 19ms/step\n",
      "Epoch 15/50\n",
      "3/3 - 0s - loss: 0.2047 - tp: 27.0000 - fp: 3.0000 - tn: 56.0000 - fn: 2.0000 - accuracy: 0.9432 - precision: 0.9000 - recall: 0.9310 - auc: 0.9714 - prc: 0.9698 - val_loss: 0.2833 - val_tp: 16.0000 - val_fp: 1.0000 - val_tn: 25.0000 - val_fn: 3.0000 - val_accuracy: 0.9111 - val_precision: 0.9412 - val_recall: 0.8421 - val_auc: 0.9383 - val_prc: 0.9342 - 62ms/epoch - 21ms/step\n",
      "Epoch 16/50\n",
      "3/3 - 0s - loss: 0.2107 - tp: 25.0000 - fp: 3.0000 - tn: 56.0000 - fn: 4.0000 - accuracy: 0.9205 - precision: 0.8929 - recall: 0.8621 - auc: 0.9649 - prc: 0.9577 - val_loss: 0.2853 - val_tp: 16.0000 - val_fp: 1.0000 - val_tn: 25.0000 - val_fn: 3.0000 - val_accuracy: 0.9111 - val_precision: 0.9412 - val_recall: 0.8421 - val_auc: 0.9383 - val_prc: 0.9342 - 61ms/epoch - 20ms/step\n",
      "Epoch 17/50\n",
      "3/3 - 0s - loss: 0.2211 - tp: 27.0000 - fp: 3.0000 - tn: 56.0000 - fn: 2.0000 - accuracy: 0.9432 - precision: 0.9000 - recall: 0.9310 - auc: 0.9626 - prc: 0.9571 - val_loss: 0.2850 - val_tp: 16.0000 - val_fp: 1.0000 - val_tn: 25.0000 - val_fn: 3.0000 - val_accuracy: 0.9111 - val_precision: 0.9412 - val_recall: 0.8421 - val_auc: 0.9383 - val_prc: 0.9342 - 60ms/epoch - 20ms/step\n",
      "Epoch 18/50\n",
      "3/3 - 0s - loss: 0.1922 - tp: 26.0000 - fp: 0.0000e+00 - tn: 59.0000 - fn: 3.0000 - accuracy: 0.9659 - precision: 1.0000 - recall: 0.8966 - auc: 0.9737 - prc: 0.9656 - val_loss: 0.2872 - val_tp: 16.0000 - val_fp: 1.0000 - val_tn: 25.0000 - val_fn: 3.0000 - val_accuracy: 0.9111 - val_precision: 0.9412 - val_recall: 0.8421 - val_auc: 0.9383 - val_prc: 0.9342 - 61ms/epoch - 20ms/step\n",
      "Epoch 19/50\n",
      "3/3 - 0s - loss: 0.1897 - tp: 26.0000 - fp: 3.0000 - tn: 56.0000 - fn: 3.0000 - accuracy: 0.9318 - precision: 0.8966 - recall: 0.8966 - auc: 0.9749 - prc: 0.9653 - val_loss: 0.2882 - val_tp: 16.0000 - val_fp: 1.0000 - val_tn: 25.0000 - val_fn: 3.0000 - val_accuracy: 0.9111 - val_precision: 0.9412 - val_recall: 0.8421 - val_auc: 0.9383 - val_prc: 0.9342 - 63ms/epoch - 21ms/step\n",
      "Epoch 20/50\n",
      "3/3 - 0s - loss: 0.1944 - tp: 27.0000 - fp: 4.0000 - tn: 55.0000 - fn: 2.0000 - accuracy: 0.9318 - precision: 0.8710 - recall: 0.9310 - auc: 0.9708 - prc: 0.9650 - val_loss: 0.2905 - val_tp: 16.0000 - val_fp: 1.0000 - val_tn: 25.0000 - val_fn: 3.0000 - val_accuracy: 0.9111 - val_precision: 0.9412 - val_recall: 0.8421 - val_auc: 0.9393 - val_prc: 0.9346 - 59ms/epoch - 20ms/step\n",
      "Epoch 21/50\n",
      "3/3 - 0s - loss: 0.1767 - tp: 26.0000 - fp: 1.0000 - tn: 58.0000 - fn: 3.0000 - accuracy: 0.9545 - precision: 0.9630 - recall: 0.8966 - auc: 0.9737 - prc: 0.9703 - val_loss: 0.2922 - val_tp: 16.0000 - val_fp: 1.0000 - val_tn: 25.0000 - val_fn: 3.0000 - val_accuracy: 0.9111 - val_precision: 0.9412 - val_recall: 0.8421 - val_auc: 0.9383 - val_prc: 0.9342 - 57ms/epoch - 19ms/step\n"
     ]
    },
    {
     "name": "stdout",
     "output_type": "stream",
     "text": [
      "Epoch 22/50\n",
      "3/3 - 0s - loss: 0.1870 - tp: 26.0000 - fp: 2.0000 - tn: 57.0000 - fn: 3.0000 - accuracy: 0.9432 - precision: 0.9286 - recall: 0.8966 - auc: 0.9702 - prc: 0.9636 - val_loss: 0.2924 - val_tp: 16.0000 - val_fp: 1.0000 - val_tn: 25.0000 - val_fn: 3.0000 - val_accuracy: 0.9111 - val_precision: 0.9412 - val_recall: 0.8421 - val_auc: 0.9383 - val_prc: 0.9342 - 66ms/epoch - 22ms/step\n"
     ]
    },
    {
     "data": {
      "image/png": "[encoded data removed]",
      "text/plain": [
       "<Figure size 640x480 with 1 Axes>"
      ]
     },
     "metadata": {},
     "output_type": "display_data"
    },
    {
     "name": "stdout",
     "output_type": "stream",
     "text": [
      "loss :  0.2813349664211273\n",
      "tp :  16.0\n",
      "fp :  1.0\n",
      "tn :  25.0\n",
      "fn :  3.0\n",
      "accuracy :  0.9111111164093018\n",
      "Accuracy on validation set: 0.9111111164093018\n",
      "precision :  0.9411764740943909\n",
      "recall :  0.8421052694320679\n",
      "auc :  0.9342105388641357\n",
      "prc :  0.9304078817367554\n",
      "Epoch 1/50\n",
      "3/3 - 2s - loss: 0.6487 - tp: 46.0000 - fp: 46.0000 - tn: 38.0000 - fn: 4.0000 - accuracy: 0.6269 - precision: 0.5000 - recall: 0.9200 - auc: 0.8777 - prc: 0.8566 - val_loss: 0.6005 - val_tp: 14.0000 - val_fp: 9.0000 - val_tn: 18.0000 - val_fn: 3.0000 - val_accuracy: 0.7273 - val_precision: 0.6087 - val_recall: 0.8235 - val_auc: 0.8845 - val_prc: 0.9038 - 2s/epoch - 633ms/step\n",
      "Epoch 2/50\n",
      "3/3 - 0s - loss: 0.5688 - tp: 29.0000 - fp: 16.0000 - tn: 42.0000 - fn: 2.0000 - accuracy: 0.7978 - precision: 0.6444 - recall: 0.9355 - auc: 0.9497 - prc: 0.9265 - val_loss: 0.5445 - val_tp: 14.0000 - val_fp: 6.0000 - val_tn: 21.0000 - val_fn: 3.0000 - val_accuracy: 0.7955 - val_precision: 0.7000 - val_recall: 0.8235 - val_auc: 0.9194 - val_prc: 0.9239 - 58ms/epoch - 19ms/step\n",
      "Epoch 3/50\n",
      "3/3 - 0s - loss: 0.5156 - tp: 30.0000 - fp: 12.0000 - tn: 46.0000 - fn: 1.0000 - accuracy: 0.8539 - precision: 0.7143 - recall: 0.9677 - auc: 0.9683 - prc: 0.9573 - val_loss: 0.5040 - val_tp: 14.0000 - val_fp: 6.0000 - val_tn: 21.0000 - val_fn: 3.0000 - val_accuracy: 0.7955 - val_precision: 0.7000 - val_recall: 0.8235 - val_auc: 0.9227 - val_prc: 0.9270 - 57ms/epoch - 19ms/step\n",
      "Epoch 4/50\n",
      "3/3 - 0s - loss: 0.4779 - tp: 29.0000 - fp: 5.0000 - tn: 53.0000 - fn: 2.0000 - accuracy: 0.9213 - precision: 0.8529 - recall: 0.9355 - auc: 0.9516 - prc: 0.9418 - val_loss: 0.4693 - val_tp: 14.0000 - val_fp: 5.0000 - val_tn: 22.0000 - val_fn: 3.0000 - val_accuracy: 0.8182 - val_precision: 0.7368 - val_recall: 0.8235 - val_auc: 0.9194 - val_prc: 0.9263 - 57ms/epoch - 19ms/step\n",
      "Epoch 5/50\n",
      "3/3 - 0s - loss: 0.4424 - tp: 29.0000 - fp: 7.0000 - tn: 51.0000 - fn: 2.0000 - accuracy: 0.8989 - precision: 0.8056 - recall: 0.9355 - auc: 0.9435 - prc: 0.9362 - val_loss: 0.4403 - val_tp: 14.0000 - val_fp: 4.0000 - val_tn: 23.0000 - val_fn: 3.0000 - val_accuracy: 0.8409 - val_precision: 0.7778 - val_recall: 0.8235 - val_auc: 0.9161 - val_prc: 0.9236 - 60ms/epoch - 20ms/step\n",
      "Epoch 6/50\n",
      "3/3 - 0s - loss: 0.4333 - tp: 29.0000 - fp: 5.0000 - tn: 53.0000 - fn: 2.0000 - accuracy: 0.9213 - precision: 0.8529 - recall: 0.9355 - auc: 0.9680 - prc: 0.9452 - val_loss: 0.4149 - val_tp: 14.0000 - val_fp: 3.0000 - val_tn: 24.0000 - val_fn: 3.0000 - val_accuracy: 0.8636 - val_precision: 0.8235 - val_recall: 0.8235 - val_auc: 0.9150 - val_prc: 0.9216 - 55ms/epoch - 18ms/step\n",
      "Epoch 7/50\n",
      "3/3 - 0s - loss: 0.3736 - tp: 29.0000 - fp: 3.0000 - tn: 55.0000 - fn: 2.0000 - accuracy: 0.9438 - precision: 0.9062 - recall: 0.9355 - auc: 0.9583 - prc: 0.9403 - val_loss: 0.3916 - val_tp: 14.0000 - val_fp: 3.0000 - val_tn: 24.0000 - val_fn: 3.0000 - val_accuracy: 0.8636 - val_precision: 0.8235 - val_recall: 0.8235 - val_auc: 0.9172 - val_prc: 0.9235 - 62ms/epoch - 21ms/step\n",
      "Epoch 8/50\n",
      "3/3 - 0s - loss: 0.3222 - tp: 29.0000 - fp: 2.0000 - tn: 56.0000 - fn: 2.0000 - accuracy: 0.9551 - precision: 0.9355 - recall: 0.9355 - auc: 0.9522 - prc: 0.9531 - val_loss: 0.3729 - val_tp: 14.0000 - val_fp: 3.0000 - val_tn: 24.0000 - val_fn: 3.0000 - val_accuracy: 0.8636 - val_precision: 0.8235 - val_recall: 0.8235 - val_auc: 0.9172 - val_prc: 0.9235 - 61ms/epoch - 20ms/step\n",
      "Epoch 9/50\n",
      "3/3 - 0s - loss: 0.3002 - tp: 29.0000 - fp: 3.0000 - tn: 55.0000 - fn: 2.0000 - accuracy: 0.9438 - precision: 0.9062 - recall: 0.9355 - auc: 0.9666 - prc: 0.9609 - val_loss: 0.3564 - val_tp: 14.0000 - val_fp: 3.0000 - val_tn: 24.0000 - val_fn: 3.0000 - val_accuracy: 0.8636 - val_precision: 0.8235 - val_recall: 0.8235 - val_auc: 0.9205 - val_prc: 0.9260 - 59ms/epoch - 20ms/step\n",
      "Epoch 10/50\n",
      "3/3 - 0s - loss: 0.2963 - tp: 29.0000 - fp: 3.0000 - tn: 55.0000 - fn: 2.0000 - accuracy: 0.9438 - precision: 0.9062 - recall: 0.9355 - auc: 0.9461 - prc: 0.9491 - val_loss: 0.3470 - val_tp: 14.0000 - val_fp: 3.0000 - val_tn: 24.0000 - val_fn: 3.0000 - val_accuracy: 0.8636 - val_precision: 0.8235 - val_recall: 0.8235 - val_auc: 0.9205 - val_prc: 0.9260 - 60ms/epoch - 20ms/step\n",
      "Epoch 11/50\n",
      "3/3 - 0s - loss: 0.2737 - tp: 29.0000 - fp: 1.0000 - tn: 57.0000 - fn: 2.0000 - accuracy: 0.9663 - precision: 0.9667 - recall: 0.9355 - auc: 0.9577 - prc: 0.9494 - val_loss: 0.3387 - val_tp: 14.0000 - val_fp: 2.0000 - val_tn: 25.0000 - val_fn: 3.0000 - val_accuracy: 0.8864 - val_precision: 0.8750 - val_recall: 0.8235 - val_auc: 0.9205 - val_prc: 0.9260 - 65ms/epoch - 22ms/step\n",
      "Epoch 12/50\n",
      "3/3 - 0s - loss: 0.2554 - tp: 29.0000 - fp: 3.0000 - tn: 55.0000 - fn: 2.0000 - accuracy: 0.9438 - precision: 0.9062 - recall: 0.9355 - auc: 0.9694 - prc: 0.9460 - val_loss: 0.3334 - val_tp: 14.0000 - val_fp: 2.0000 - val_tn: 25.0000 - val_fn: 3.0000 - val_accuracy: 0.8864 - val_precision: 0.8750 - val_recall: 0.8235 - val_auc: 0.9205 - val_prc: 0.9260 - 57ms/epoch - 19ms/step\n",
      "Epoch 13/50\n",
      "3/3 - 0s - loss: 0.2512 - tp: 29.0000 - fp: 3.0000 - tn: 55.0000 - fn: 2.0000 - accuracy: 0.9438 - precision: 0.9062 - recall: 0.9355 - auc: 0.9552 - prc: 0.9492 - val_loss: 0.3319 - val_tp: 14.0000 - val_fp: 1.0000 - val_tn: 26.0000 - val_fn: 3.0000 - val_accuracy: 0.9091 - val_precision: 0.9333 - val_recall: 0.8235 - val_auc: 0.9205 - val_prc: 0.9260 - 56ms/epoch - 19ms/step\n",
      "Epoch 14/50\n",
      "3/3 - 0s - loss: 0.2412 - tp: 28.0000 - fp: 2.0000 - tn: 56.0000 - fn: 3.0000 - accuracy: 0.9438 - precision: 0.9333 - recall: 0.9032 - auc: 0.9666 - prc: 0.9488 - val_loss: 0.3286 - val_tp: 14.0000 - val_fp: 1.0000 - val_tn: 26.0000 - val_fn: 3.0000 - val_accuracy: 0.9091 - val_precision: 0.9333 - val_recall: 0.8235 - val_auc: 0.9205 - val_prc: 0.9260 - 55ms/epoch - 18ms/step\n",
      "Epoch 15/50\n",
      "3/3 - 0s - loss: 0.2247 - tp: 29.0000 - fp: 3.0000 - tn: 55.0000 - fn: 2.0000 - accuracy: 0.9438 - precision: 0.9062 - recall: 0.9355 - auc: 0.9683 - prc: 0.9551 - val_loss: 0.3304 - val_tp: 14.0000 - val_fp: 1.0000 - val_tn: 26.0000 - val_fn: 3.0000 - val_accuracy: 0.9091 - val_precision: 0.9333 - val_recall: 0.8235 - val_auc: 0.9205 - val_prc: 0.9260 - 54ms/epoch - 18ms/step\n",
      "Epoch 16/50\n",
      "3/3 - 0s - loss: 0.2450 - tp: 29.0000 - fp: 2.0000 - tn: 56.0000 - fn: 2.0000 - accuracy: 0.9551 - precision: 0.9355 - recall: 0.9355 - auc: 0.9536 - prc: 0.9434 - val_loss: 0.3315 - val_tp: 13.0000 - val_fp: 1.0000 - val_tn: 26.0000 - val_fn: 4.0000 - val_accuracy: 0.8864 - val_precision: 0.9286 - val_recall: 0.7647 - val_auc: 0.9205 - val_prc: 0.9260 - 53ms/epoch - 18ms/step\n",
      "Epoch 17/50\n",
      "3/3 - 0s - loss: 0.2048 - tp: 29.0000 - fp: 3.0000 - tn: 55.0000 - fn: 2.0000 - accuracy: 0.9438 - precision: 0.9062 - recall: 0.9355 - auc: 0.9591 - prc: 0.9548 - val_loss: 0.3346 - val_tp: 13.0000 - val_fp: 1.0000 - val_tn: 26.0000 - val_fn: 4.0000 - val_accuracy: 0.8864 - val_precision: 0.9286 - val_recall: 0.7647 - val_auc: 0.9205 - val_prc: 0.9260 - 53ms/epoch - 18ms/step\n",
      "Epoch 18/50\n",
      "3/3 - 0s - loss: 0.1837 - tp: 29.0000 - fp: 2.0000 - tn: 56.0000 - fn: 2.0000 - accuracy: 0.9551 - precision: 0.9355 - recall: 0.9355 - auc: 0.9783 - prc: 0.9665 - val_loss: 0.3368 - val_tp: 13.0000 - val_fp: 1.0000 - val_tn: 26.0000 - val_fn: 4.0000 - val_accuracy: 0.8864 - val_precision: 0.9286 - val_recall: 0.7647 - val_auc: 0.9205 - val_prc: 0.9260 - 53ms/epoch - 18ms/step\n",
      "Epoch 19/50\n",
      "3/3 - 0s - loss: 0.2154 - tp: 28.0000 - fp: 3.0000 - tn: 55.0000 - fn: 3.0000 - accuracy: 0.9326 - precision: 0.9032 - recall: 0.9032 - auc: 0.9655 - prc: 0.9493 - val_loss: 0.3437 - val_tp: 13.0000 - val_fp: 1.0000 - val_tn: 26.0000 - val_fn: 4.0000 - val_accuracy: 0.8864 - val_precision: 0.9286 - val_recall: 0.7647 - val_auc: 0.9216 - val_prc: 0.9263 - 56ms/epoch - 19ms/step\n",
      "Epoch 20/50\n",
      "3/3 - 0s - loss: 0.2259 - tp: 28.0000 - fp: 1.0000 - tn: 57.0000 - fn: 3.0000 - accuracy: 0.9551 - precision: 0.9655 - recall: 0.9032 - auc: 0.9555 - prc: 0.9388 - val_loss: 0.3430 - val_tp: 13.0000 - val_fp: 1.0000 - val_tn: 26.0000 - val_fn: 4.0000 - val_accuracy: 0.8864 - val_precision: 0.9286 - val_recall: 0.7647 - val_auc: 0.9183 - val_prc: 0.9253 - 60ms/epoch - 20ms/step\n",
      "Epoch 21/50\n",
      "3/3 - 0s - loss: 0.2275 - tp: 28.0000 - fp: 2.0000 - tn: 56.0000 - fn: 3.0000 - accuracy: 0.9438 - precision: 0.9333 - recall: 0.9032 - auc: 0.9572 - prc: 0.9450 - val_loss: 0.3451 - val_tp: 13.0000 - val_fp: 1.0000 - val_tn: 26.0000 - val_fn: 4.0000 - val_accuracy: 0.8864 - val_precision: 0.9286 - val_recall: 0.7647 - val_auc: 0.9205 - val_prc: 0.9260 - 56ms/epoch - 19ms/step\n"
     ]
    },
    {
     "name": "stdout",
     "output_type": "stream",
     "text": [
      "Epoch 22/50\n",
      "3/3 - 0s - loss: 0.1875 - tp: 29.0000 - fp: 3.0000 - tn: 55.0000 - fn: 2.0000 - accuracy: 0.9438 - precision: 0.9062 - recall: 0.9355 - auc: 0.9647 - prc: 0.9640 - val_loss: 0.3492 - val_tp: 13.0000 - val_fp: 1.0000 - val_tn: 26.0000 - val_fn: 4.0000 - val_accuracy: 0.8864 - val_precision: 0.9286 - val_recall: 0.7647 - val_auc: 0.9216 - val_prc: 0.9263 - 57ms/epoch - 19ms/step\n",
      "Epoch 23/50\n",
      "3/3 - 0s - loss: 0.1857 - tp: 29.0000 - fp: 3.0000 - tn: 55.0000 - fn: 2.0000 - accuracy: 0.9438 - precision: 0.9062 - recall: 0.9355 - auc: 0.9661 - prc: 0.9579 - val_loss: 0.3501 - val_tp: 13.0000 - val_fp: 1.0000 - val_tn: 26.0000 - val_fn: 4.0000 - val_accuracy: 0.8864 - val_precision: 0.9286 - val_recall: 0.7647 - val_auc: 0.9216 - val_prc: 0.9263 - 58ms/epoch - 19ms/step\n",
      "Epoch 24/50\n",
      "3/3 - 0s - loss: 0.2148 - tp: 27.0000 - fp: 2.0000 - tn: 56.0000 - fn: 4.0000 - accuracy: 0.9326 - precision: 0.9310 - recall: 0.8710 - auc: 0.9600 - prc: 0.9579 - val_loss: 0.3465 - val_tp: 13.0000 - val_fp: 1.0000 - val_tn: 26.0000 - val_fn: 4.0000 - val_accuracy: 0.8864 - val_precision: 0.9286 - val_recall: 0.7647 - val_auc: 0.9216 - val_prc: 0.9263 - 58ms/epoch - 19ms/step\n"
     ]
    },
    {
     "data": {
      "image/png": "[encoded data removed]",
      "text/plain": [
       "<Figure size 640x480 with 1 Axes>"
      ]
     },
     "metadata": {},
     "output_type": "display_data"
    },
    {
     "name": "stdout",
     "output_type": "stream",
     "text": [
      "loss :  0.3286197781562805\n",
      "tp :  14.0\n",
      "fp :  1.0\n",
      "tn :  26.0\n",
      "fn :  3.0\n",
      "accuracy :  0.9090909361839294\n",
      "Accuracy on validation set: 0.9090909361839294\n",
      "precision :  0.9333333373069763\n",
      "recall :  0.8235294222831726\n",
      "auc :  0.9204792976379395\n",
      "prc :  0.9259610176086426\n",
      "Epoch 1/50\n",
      "3/3 - 2s - loss: 0.6365 - tp: 27.0000 - fp: 6.0000 - tn: 74.0000 - fn: 26.0000 - accuracy: 0.7594 - precision: 0.8182 - recall: 0.5094 - auc: 0.8081 - prc: 0.7894 - val_loss: 0.4864 - val_tp: 10.0000 - val_fp: 1.0000 - val_tn: 31.0000 - val_fn: 2.0000 - val_accuracy: 0.9318 - val_precision: 0.9091 - val_recall: 0.8333 - val_auc: 0.9909 - val_prc: 0.9782 - 2s/epoch - 651ms/step\n",
      "Epoch 2/50\n",
      "3/3 - 0s - loss: 0.5649 - tp: 16.0000 - fp: 2.0000 - tn: 51.0000 - fn: 20.0000 - accuracy: 0.7528 - precision: 0.8889 - recall: 0.4444 - auc: 0.8488 - prc: 0.8273 - val_loss: 0.4170 - val_tp: 12.0000 - val_fp: 3.0000 - val_tn: 29.0000 - val_fn: 0.0000e+00 - val_accuracy: 0.9318 - val_precision: 0.8000 - val_recall: 1.0000 - val_auc: 0.9961 - val_prc: 0.9904 - 55ms/epoch - 18ms/step\n",
      "Epoch 3/50\n",
      "3/3 - 0s - loss: 0.5102 - tp: 26.0000 - fp: 3.0000 - tn: 50.0000 - fn: 10.0000 - accuracy: 0.8539 - precision: 0.8966 - recall: 0.7222 - auc: 0.8988 - prc: 0.9056 - val_loss: 0.3608 - val_tp: 12.0000 - val_fp: 3.0000 - val_tn: 29.0000 - val_fn: 0.0000e+00 - val_accuracy: 0.9318 - val_precision: 0.8000 - val_recall: 1.0000 - val_auc: 0.9974 - val_prc: 0.9933 - 58ms/epoch - 19ms/step\n",
      "Epoch 4/50\n",
      "3/3 - 0s - loss: 0.4659 - tp: 29.0000 - fp: 4.0000 - tn: 49.0000 - fn: 7.0000 - accuracy: 0.8764 - precision: 0.8788 - recall: 0.8056 - auc: 0.9119 - prc: 0.9101 - val_loss: 0.3116 - val_tp: 12.0000 - val_fp: 3.0000 - val_tn: 29.0000 - val_fn: 0.0000e+00 - val_accuracy: 0.9318 - val_precision: 0.8000 - val_recall: 1.0000 - val_auc: 0.9974 - val_prc: 0.9933 - 58ms/epoch - 19ms/step\n",
      "Epoch 5/50\n",
      "3/3 - 0s - loss: 0.4438 - tp: 29.0000 - fp: 4.0000 - tn: 49.0000 - fn: 7.0000 - accuracy: 0.8764 - precision: 0.8788 - recall: 0.8056 - auc: 0.9161 - prc: 0.9081 - val_loss: 0.2754 - val_tp: 12.0000 - val_fp: 3.0000 - val_tn: 29.0000 - val_fn: 0.0000e+00 - val_accuracy: 0.9318 - val_precision: 0.8000 - val_recall: 1.0000 - val_auc: 0.9974 - val_prc: 0.9933 - 54ms/epoch - 18ms/step\n",
      "Epoch 6/50\n",
      "3/3 - 0s - loss: 0.3901 - tp: 30.0000 - fp: 4.0000 - tn: 49.0000 - fn: 6.0000 - accuracy: 0.8876 - precision: 0.8824 - recall: 0.8333 - auc: 0.9258 - prc: 0.9280 - val_loss: 0.2441 - val_tp: 12.0000 - val_fp: 4.0000 - val_tn: 28.0000 - val_fn: 0.0000e+00 - val_accuracy: 0.9091 - val_precision: 0.7500 - val_recall: 1.0000 - val_auc: 0.9974 - val_prc: 0.9933 - 56ms/epoch - 19ms/step\n",
      "Epoch 7/50\n",
      "3/3 - 0s - loss: 0.4015 - tp: 30.0000 - fp: 5.0000 - tn: 48.0000 - fn: 6.0000 - accuracy: 0.8764 - precision: 0.8571 - recall: 0.8333 - auc: 0.9114 - prc: 0.9064 - val_loss: 0.2227 - val_tp: 12.0000 - val_fp: 4.0000 - val_tn: 28.0000 - val_fn: 0.0000e+00 - val_accuracy: 0.9091 - val_precision: 0.7500 - val_recall: 1.0000 - val_auc: 0.9974 - val_prc: 0.9933 - 55ms/epoch - 18ms/step\n",
      "Epoch 8/50\n",
      "3/3 - 0s - loss: 0.3579 - tp: 31.0000 - fp: 3.0000 - tn: 50.0000 - fn: 5.0000 - accuracy: 0.9101 - precision: 0.9118 - recall: 0.8611 - auc: 0.9251 - prc: 0.9190 - val_loss: 0.2099 - val_tp: 12.0000 - val_fp: 4.0000 - val_tn: 28.0000 - val_fn: 0.0000e+00 - val_accuracy: 0.9091 - val_precision: 0.7500 - val_recall: 1.0000 - val_auc: 0.9974 - val_prc: 0.9933 - 55ms/epoch - 18ms/step\n",
      "Epoch 9/50\n",
      "3/3 - 0s - loss: 0.3744 - tp: 31.0000 - fp: 5.0000 - tn: 48.0000 - fn: 5.0000 - accuracy: 0.8876 - precision: 0.8611 - recall: 0.8611 - auc: 0.9224 - prc: 0.9119 - val_loss: 0.1989 - val_tp: 12.0000 - val_fp: 4.0000 - val_tn: 28.0000 - val_fn: 0.0000e+00 - val_accuracy: 0.9091 - val_precision: 0.7500 - val_recall: 1.0000 - val_auc: 0.9974 - val_prc: 0.9933 - 57ms/epoch - 19ms/step\n",
      "Epoch 10/50\n",
      "3/3 - 0s - loss: 0.3476 - tp: 31.0000 - fp: 4.0000 - tn: 49.0000 - fn: 5.0000 - accuracy: 0.8989 - precision: 0.8857 - recall: 0.8611 - auc: 0.9201 - prc: 0.9134 - val_loss: 0.1899 - val_tp: 12.0000 - val_fp: 4.0000 - val_tn: 28.0000 - val_fn: 0.0000e+00 - val_accuracy: 0.9091 - val_precision: 0.7500 - val_recall: 1.0000 - val_auc: 0.9974 - val_prc: 0.9933 - 58ms/epoch - 19ms/step\n",
      "Epoch 11/50\n",
      "3/3 - 0s - loss: 0.3252 - tp: 32.0000 - fp: 2.0000 - tn: 51.0000 - fn: 4.0000 - accuracy: 0.9326 - precision: 0.9412 - recall: 0.8889 - auc: 0.9308 - prc: 0.9385 - val_loss: 0.1826 - val_tp: 12.0000 - val_fp: 4.0000 - val_tn: 28.0000 - val_fn: 0.0000e+00 - val_accuracy: 0.9091 - val_precision: 0.7500 - val_recall: 1.0000 - val_auc: 0.9974 - val_prc: 0.9933 - 57ms/epoch - 19ms/step\n",
      "Epoch 12/50\n",
      "3/3 - 0s - loss: 0.3199 - tp: 30.0000 - fp: 4.0000 - tn: 49.0000 - fn: 6.0000 - accuracy: 0.8876 - precision: 0.8824 - recall: 0.8333 - auc: 0.9300 - prc: 0.9195 - val_loss: 0.1761 - val_tp: 12.0000 - val_fp: 4.0000 - val_tn: 28.0000 - val_fn: 0.0000e+00 - val_accuracy: 0.9091 - val_precision: 0.7500 - val_recall: 1.0000 - val_auc: 0.9974 - val_prc: 0.9933 - 62ms/epoch - 21ms/step\n",
      "Epoch 13/50\n",
      "3/3 - 0s - loss: 0.2931 - tp: 31.0000 - fp: 5.0000 - tn: 48.0000 - fn: 5.0000 - accuracy: 0.8876 - precision: 0.8611 - recall: 0.8611 - auc: 0.9395 - prc: 0.9347 - val_loss: 0.1707 - val_tp: 12.0000 - val_fp: 4.0000 - val_tn: 28.0000 - val_fn: 0.0000e+00 - val_accuracy: 0.9091 - val_precision: 0.7500 - val_recall: 1.0000 - val_auc: 0.9974 - val_prc: 0.9933 - 57ms/epoch - 19ms/step\n",
      "Epoch 14/50\n",
      "3/3 - 0s - loss: 0.2957 - tp: 31.0000 - fp: 3.0000 - tn: 50.0000 - fn: 5.0000 - accuracy: 0.9101 - precision: 0.9118 - recall: 0.8611 - auc: 0.9397 - prc: 0.9341 - val_loss: 0.1660 - val_tp: 12.0000 - val_fp: 4.0000 - val_tn: 28.0000 - val_fn: 0.0000e+00 - val_accuracy: 0.9091 - val_precision: 0.7500 - val_recall: 1.0000 - val_auc: 0.9974 - val_prc: 0.9933 - 57ms/epoch - 19ms/step\n",
      "Epoch 15/50\n",
      "3/3 - 0s - loss: 0.3184 - tp: 32.0000 - fp: 1.0000 - tn: 52.0000 - fn: 4.0000 - accuracy: 0.9438 - precision: 0.9697 - recall: 0.8889 - auc: 0.9363 - prc: 0.9347 - val_loss: 0.1634 - val_tp: 12.0000 - val_fp: 4.0000 - val_tn: 28.0000 - val_fn: 0.0000e+00 - val_accuracy: 0.9091 - val_precision: 0.7500 - val_recall: 1.0000 - val_auc: 0.9974 - val_prc: 0.9933 - 54ms/epoch - 18ms/step\n",
      "Epoch 16/50\n",
      "3/3 - 0s - loss: 0.2834 - tp: 31.0000 - fp: 4.0000 - tn: 49.0000 - fn: 5.0000 - accuracy: 0.8989 - precision: 0.8857 - recall: 0.8611 - auc: 0.9481 - prc: 0.9373 - val_loss: 0.1605 - val_tp: 12.0000 - val_fp: 4.0000 - val_tn: 28.0000 - val_fn: 0.0000e+00 - val_accuracy: 0.9091 - val_precision: 0.7500 - val_recall: 1.0000 - val_auc: 0.9974 - val_prc: 0.9933 - 60ms/epoch - 20ms/step\n",
      "Epoch 17/50\n",
      "3/3 - 0s - loss: 0.3104 - tp: 32.0000 - fp: 3.0000 - tn: 50.0000 - fn: 4.0000 - accuracy: 0.9213 - precision: 0.9143 - recall: 0.8889 - auc: 0.9292 - prc: 0.9281 - val_loss: 0.1635 - val_tp: 12.0000 - val_fp: 4.0000 - val_tn: 28.0000 - val_fn: 0.0000e+00 - val_accuracy: 0.9091 - val_precision: 0.7500 - val_recall: 1.0000 - val_auc: 0.9974 - val_prc: 0.9933 - 59ms/epoch - 20ms/step\n",
      "Epoch 18/50\n",
      "3/3 - 0s - loss: 0.3042 - tp: 32.0000 - fp: 3.0000 - tn: 50.0000 - fn: 4.0000 - accuracy: 0.9213 - precision: 0.9143 - recall: 0.8889 - auc: 0.9292 - prc: 0.9411 - val_loss: 0.1650 - val_tp: 12.0000 - val_fp: 4.0000 - val_tn: 28.0000 - val_fn: 0.0000e+00 - val_accuracy: 0.9091 - val_precision: 0.7500 - val_recall: 1.0000 - val_auc: 0.9974 - val_prc: 0.9933 - 58ms/epoch - 19ms/step\n",
      "Epoch 19/50\n",
      "3/3 - 0s - loss: 0.2824 - tp: 32.0000 - fp: 3.0000 - tn: 50.0000 - fn: 4.0000 - accuracy: 0.9213 - precision: 0.9143 - recall: 0.8889 - auc: 0.9431 - prc: 0.9544 - val_loss: 0.1647 - val_tp: 12.0000 - val_fp: 4.0000 - val_tn: 28.0000 - val_fn: 0.0000e+00 - val_accuracy: 0.9091 - val_precision: 0.7500 - val_recall: 1.0000 - val_auc: 0.9974 - val_prc: 0.9933 - 59ms/epoch - 20ms/step\n",
      "Epoch 20/50\n",
      "3/3 - 0s - loss: 0.2787 - tp: 32.0000 - fp: 4.0000 - tn: 49.0000 - fn: 4.0000 - accuracy: 0.9101 - precision: 0.8889 - recall: 0.8889 - auc: 0.9374 - prc: 0.9411 - val_loss: 0.1621 - val_tp: 12.0000 - val_fp: 4.0000 - val_tn: 28.0000 - val_fn: 0.0000e+00 - val_accuracy: 0.9091 - val_precision: 0.7500 - val_recall: 1.0000 - val_auc: 0.9974 - val_prc: 0.9933 - 59ms/epoch - 20ms/step\n",
      "Epoch 21/50\n",
      "3/3 - 0s - loss: 0.2972 - tp: 31.0000 - fp: 4.0000 - tn: 49.0000 - fn: 5.0000 - accuracy: 0.8989 - precision: 0.8857 - recall: 0.8611 - auc: 0.9376 - prc: 0.9412 - val_loss: 0.1652 - val_tp: 12.0000 - val_fp: 4.0000 - val_tn: 28.0000 - val_fn: 0.0000e+00 - val_accuracy: 0.9091 - val_precision: 0.7500 - val_recall: 1.0000 - val_auc: 0.9974 - val_prc: 0.9933 - 56ms/epoch - 19ms/step\n"
     ]
    },
    {
     "name": "stdout",
     "output_type": "stream",
     "text": [
      "Epoch 22/50\n",
      "3/3 - 0s - loss: 0.2548 - tp: 32.0000 - fp: 4.0000 - tn: 49.0000 - fn: 4.0000 - accuracy: 0.9101 - precision: 0.8889 - recall: 0.8889 - auc: 0.9581 - prc: 0.9586 - val_loss: 0.1610 - val_tp: 12.0000 - val_fp: 4.0000 - val_tn: 28.0000 - val_fn: 0.0000e+00 - val_accuracy: 0.9091 - val_precision: 0.7500 - val_recall: 1.0000 - val_auc: 0.9974 - val_prc: 0.9933 - 56ms/epoch - 19ms/step\n",
      "Epoch 23/50\n",
      "3/3 - 0s - loss: 0.2738 - tp: 32.0000 - fp: 3.0000 - tn: 50.0000 - fn: 4.0000 - accuracy: 0.9213 - precision: 0.9143 - recall: 0.8889 - auc: 0.9403 - prc: 0.9398 - val_loss: 0.1592 - val_tp: 12.0000 - val_fp: 4.0000 - val_tn: 28.0000 - val_fn: 0.0000e+00 - val_accuracy: 0.9091 - val_precision: 0.7500 - val_recall: 1.0000 - val_auc: 0.9974 - val_prc: 0.9933 - 61ms/epoch - 20ms/step\n",
      "Epoch 24/50\n",
      "3/3 - 0s - loss: 0.2573 - tp: 32.0000 - fp: 3.0000 - tn: 50.0000 - fn: 4.0000 - accuracy: 0.9213 - precision: 0.9143 - recall: 0.8889 - auc: 0.9429 - prc: 0.9452 - val_loss: 0.1578 - val_tp: 12.0000 - val_fp: 4.0000 - val_tn: 28.0000 - val_fn: 0.0000e+00 - val_accuracy: 0.9091 - val_precision: 0.7500 - val_recall: 1.0000 - val_auc: 0.9974 - val_prc: 0.9933 - 58ms/epoch - 19ms/step\n",
      "Epoch 25/50\n",
      "3/3 - 0s - loss: 0.2588 - tp: 32.0000 - fp: 2.0000 - tn: 51.0000 - fn: 4.0000 - accuracy: 0.9326 - precision: 0.9412 - recall: 0.8889 - auc: 0.9426 - prc: 0.9481 - val_loss: 0.1597 - val_tp: 12.0000 - val_fp: 4.0000 - val_tn: 28.0000 - val_fn: 0.0000e+00 - val_accuracy: 0.9091 - val_precision: 0.7500 - val_recall: 1.0000 - val_auc: 0.9974 - val_prc: 0.9933 - 56ms/epoch - 19ms/step\n",
      "Epoch 26/50\n",
      "3/3 - 0s - loss: 0.2615 - tp: 33.0000 - fp: 3.0000 - tn: 50.0000 - fn: 3.0000 - accuracy: 0.9326 - precision: 0.9167 - recall: 0.9167 - auc: 0.9452 - prc: 0.9438 - val_loss: 0.1586 - val_tp: 12.0000 - val_fp: 4.0000 - val_tn: 28.0000 - val_fn: 0.0000e+00 - val_accuracy: 0.9091 - val_precision: 0.7500 - val_recall: 1.0000 - val_auc: 0.9974 - val_prc: 0.9933 - 57ms/epoch - 19ms/step\n",
      "Epoch 27/50\n",
      "3/3 - 0s - loss: 0.2484 - tp: 32.0000 - fp: 3.0000 - tn: 50.0000 - fn: 4.0000 - accuracy: 0.9213 - precision: 0.9143 - recall: 0.8889 - auc: 0.9505 - prc: 0.9492 - val_loss: 0.1564 - val_tp: 12.0000 - val_fp: 4.0000 - val_tn: 28.0000 - val_fn: 0.0000e+00 - val_accuracy: 0.9091 - val_precision: 0.7500 - val_recall: 1.0000 - val_auc: 0.9974 - val_prc: 0.9933 - 58ms/epoch - 19ms/step\n",
      "Epoch 28/50\n",
      "3/3 - 0s - loss: 0.2690 - tp: 31.0000 - fp: 2.0000 - tn: 51.0000 - fn: 5.0000 - accuracy: 0.9213 - precision: 0.9394 - recall: 0.8611 - auc: 0.9444 - prc: 0.9397 - val_loss: 0.1617 - val_tp: 12.0000 - val_fp: 4.0000 - val_tn: 28.0000 - val_fn: 0.0000e+00 - val_accuracy: 0.9091 - val_precision: 0.7500 - val_recall: 1.0000 - val_auc: 0.9948 - val_prc: 0.9876 - 56ms/epoch - 19ms/step\n",
      "Epoch 29/50\n",
      "3/3 - 0s - loss: 0.2624 - tp: 33.0000 - fp: 1.0000 - tn: 52.0000 - fn: 3.0000 - accuracy: 0.9551 - precision: 0.9706 - recall: 0.9167 - auc: 0.9327 - prc: 0.9456 - val_loss: 0.1616 - val_tp: 12.0000 - val_fp: 4.0000 - val_tn: 28.0000 - val_fn: 0.0000e+00 - val_accuracy: 0.9091 - val_precision: 0.7500 - val_recall: 1.0000 - val_auc: 0.9948 - val_prc: 0.9876 - 60ms/epoch - 20ms/step\n",
      "Epoch 30/50\n",
      "3/3 - 0s - loss: 0.2549 - tp: 32.0000 - fp: 3.0000 - tn: 50.0000 - fn: 4.0000 - accuracy: 0.9213 - precision: 0.9143 - recall: 0.8889 - auc: 0.9447 - prc: 0.9466 - val_loss: 0.1609 - val_tp: 12.0000 - val_fp: 4.0000 - val_tn: 28.0000 - val_fn: 0.0000e+00 - val_accuracy: 0.9091 - val_precision: 0.7500 - val_recall: 1.0000 - val_auc: 0.9948 - val_prc: 0.9876 - 60ms/epoch - 20ms/step\n",
      "Epoch 31/50\n",
      "3/3 - 0s - loss: 0.2328 - tp: 32.0000 - fp: 3.0000 - tn: 50.0000 - fn: 4.0000 - accuracy: 0.9213 - precision: 0.9143 - recall: 0.8889 - auc: 0.9547 - prc: 0.9559 - val_loss: 0.1619 - val_tp: 12.0000 - val_fp: 4.0000 - val_tn: 28.0000 - val_fn: 0.0000e+00 - val_accuracy: 0.9091 - val_precision: 0.7500 - val_recall: 1.0000 - val_auc: 0.9948 - val_prc: 0.9876 - 58ms/epoch - 19ms/step\n",
      "Epoch 32/50\n",
      "3/3 - 0s - loss: 0.2438 - tp: 32.0000 - fp: 3.0000 - tn: 50.0000 - fn: 4.0000 - accuracy: 0.9213 - precision: 0.9143 - recall: 0.8889 - auc: 0.9526 - prc: 0.9496 - val_loss: 0.1664 - val_tp: 12.0000 - val_fp: 4.0000 - val_tn: 28.0000 - val_fn: 0.0000e+00 - val_accuracy: 0.9091 - val_precision: 0.7500 - val_recall: 1.0000 - val_auc: 0.9948 - val_prc: 0.9876 - 54ms/epoch - 18ms/step\n",
      "Epoch 33/50\n",
      "3/3 - 0s - loss: 0.2152 - tp: 32.0000 - fp: 2.0000 - tn: 51.0000 - fn: 4.0000 - accuracy: 0.9326 - precision: 0.9412 - recall: 0.8889 - auc: 0.9617 - prc: 0.9616 - val_loss: 0.1661 - val_tp: 12.0000 - val_fp: 4.0000 - val_tn: 28.0000 - val_fn: 0.0000e+00 - val_accuracy: 0.9091 - val_precision: 0.7500 - val_recall: 1.0000 - val_auc: 0.9948 - val_prc: 0.9876 - 55ms/epoch - 18ms/step\n",
      "Epoch 34/50\n",
      "3/3 - 0s - loss: 0.2432 - tp: 32.0000 - fp: 2.0000 - tn: 51.0000 - fn: 4.0000 - accuracy: 0.9326 - precision: 0.9412 - recall: 0.8889 - auc: 0.9486 - prc: 0.9475 - val_loss: 0.1658 - val_tp: 12.0000 - val_fp: 4.0000 - val_tn: 28.0000 - val_fn: 0.0000e+00 - val_accuracy: 0.9091 - val_precision: 0.7500 - val_recall: 1.0000 - val_auc: 0.9948 - val_prc: 0.9876 - 57ms/epoch - 19ms/step\n",
      "Epoch 35/50\n",
      "3/3 - 0s - loss: 0.1869 - tp: 33.0000 - fp: 1.0000 - tn: 52.0000 - fn: 3.0000 - accuracy: 0.9551 - precision: 0.9706 - recall: 0.9167 - auc: 0.9651 - prc: 0.9688 - val_loss: 0.1620 - val_tp: 12.0000 - val_fp: 4.0000 - val_tn: 28.0000 - val_fn: 0.0000e+00 - val_accuracy: 0.9091 - val_precision: 0.7500 - val_recall: 1.0000 - val_auc: 0.9948 - val_prc: 0.9876 - 56ms/epoch - 19ms/step\n",
      "Epoch 36/50\n",
      "3/3 - 0s - loss: 0.2549 - tp: 32.0000 - fp: 1.0000 - tn: 52.0000 - fn: 4.0000 - accuracy: 0.9438 - precision: 0.9697 - recall: 0.8889 - auc: 0.9471 - prc: 0.9399 - val_loss: 0.1637 - val_tp: 12.0000 - val_fp: 4.0000 - val_tn: 28.0000 - val_fn: 0.0000e+00 - val_accuracy: 0.9091 - val_precision: 0.7500 - val_recall: 1.0000 - val_auc: 0.9948 - val_prc: 0.9876 - 55ms/epoch - 18ms/step\n",
      "Epoch 37/50\n",
      "3/3 - 0s - loss: 0.2329 - tp: 33.0000 - fp: 1.0000 - tn: 52.0000 - fn: 3.0000 - accuracy: 0.9551 - precision: 0.9706 - recall: 0.9167 - auc: 0.9481 - prc: 0.9549 - val_loss: 0.1644 - val_tp: 12.0000 - val_fp: 4.0000 - val_tn: 28.0000 - val_fn: 0.0000e+00 - val_accuracy: 0.9091 - val_precision: 0.7500 - val_recall: 1.0000 - val_auc: 0.9948 - val_prc: 0.9876 - 56ms/epoch - 19ms/step\n"
     ]
    },
    {
     "data": {
      "image/png": "[encoded data removed]",
      "text/plain": [
       "<Figure size 640x480 with 1 Axes>"
      ]
     },
     "metadata": {},
     "output_type": "display_data"
    },
    {
     "name": "stdout",
     "output_type": "stream",
     "text": [
      "loss :  0.15638065338134766\n",
      "tp :  12.0\n",
      "fp :  4.0\n",
      "tn :  28.0\n",
      "fn :  0.0\n",
      "accuracy :  0.9090909361839294\n",
      "Accuracy on validation set: 0.9090909361839294\n",
      "precision :  0.75\n",
      "recall :  1.0\n",
      "auc :  0.9973958730697632\n",
      "prc :  0.9933297634124756\n",
      "results [0.9111111164093018, 0.9090909361839294, 0.9090909361839294]\n",
      "K-fold cross-validation accuracy: 0.9097643295923868\n",
      "1/1 [==============================] - 0s 94ms/step\n",
      "Accuracy on holdout set: 0.8666666666666667\n",
      "Balanced Accuracy on holdout set: 0.8611111111111112\n",
      "\n",
      "Classification Report:\n",
      "\n",
      "              precision    recall  f1-score   support\n",
      "\n",
      "           0      0.889     0.889     0.889         9\n",
      "           1      0.833     0.833     0.833         6\n",
      "\n",
      "    accuracy                          0.867        15\n",
      "   macro avg      0.861     0.861     0.861        15\n",
      "weighted avg      0.867     0.867     0.867        15\n",
      "\n"
     ]
    },
    {
     "data": {
      "image/png": "[encoded data removed]",
      "text/plain": [
       "<Figure size 400x300 with 2 Axes>"
      ]
     },
     "metadata": {},
     "output_type": "display_data"
    },
    {
     "data": {
      "image/png": "[encoded data removed]",
      "text/plain": [
       "<Figure size 400x300 with 2 Axes>"
      ]
     },
     "metadata": {},
     "output_type": "display_data"
    },
    {
     "name": "stdout",
     "output_type": "stream",
     "text": [
      "True Positive(TP)  =  5\n",
      "False Positive(FP) =  1\n",
      "True Negative(TN)  =  8\n",
      "False Negative(FN) =  1\n",
      "Accuracy of the binary classifier = 0.867\n"
     ]
    }
   ],
   "source": [
    "results = []\n",
    "\n",
    "for train_index, val_index in kf.split(X_train_scaled):\n",
    "    # split the dataset into training and validation sets for this fold\n",
    "    X_train_kf, X_val_kf = X_train_scaled[train_index], X_train_scaled[val_index]\n",
    "    y_train_kf, y_val_kf = y_train.iloc[train_index], y_train.iloc[val_index]\n",
    "    \n",
    "    model = Baseline(input_dim)\n",
    "    \n",
    "    history = model.train(X_train_kf, y_train_kf, X_val_kf, y_val_kf, epochs, batch_size)\n",
    "    plt.plot(history.history['loss'])\n",
    "    plt.show()\n",
    "    \n",
    "    results_m = model.evaluate(X_val_kf, y_val_kf)\n",
    "    \n",
    "    for name, value in zip(model.metrics_names(), results_m):\n",
    "        print(name, ': ', value)\n",
    "        if name == 'accuracy':\n",
    "            accuracy_kf = value\n",
    "            results.append(accuracy_kf)\n",
    "            print(f\"Accuracy on validation set: {accuracy_kf}\")\n",
    "    \n",
    "# Calculate the average accuracy score for the K-fold cross-validation\n",
    "print(\"results\",results)\n",
    "print(f\"K-fold cross-validation accuracy: {sum(results) / len(results)}\")\n",
    "\n",
    "y_pred_holdout = model.predict(X_holdout_scaled)\n",
    "accuracy_holdout = accuracy_score(np.round(y_holdout), np.round(y_pred_holdout))\n",
    "print(f\"Accuracy on holdout set: {accuracy_holdout}\")\n",
    "\n",
    "balanced_accuracy_holdout = balanced_accuracy_score(np.round(y_holdout), np.round(y_pred_holdout))\n",
    "print(f\"Balanced Accuracy on holdout set: {balanced_accuracy_holdout}\")\n",
    "\n",
    "print(\"\\nClassification Report:\\n\")\n",
    "print(classification_report(np.round(y_holdout), np.round(y_pred_holdout), digits = 3))\n",
    "\n",
    "cm = confusion_matrix(np.round(y_holdout), np.round(y_pred_holdout))\n",
    "heat_map(cm)\n",
    "heat_map_n(np.round(y_holdout), np.round(y_pred_holdout))\n",
    "TN, FP, FN, TP = confusion_matrix(np.round(y_holdout), np.round(y_pred_holdout)).ravel()\n",
    "print('True Positive(TP)  = ', TP)\n",
    "print('False Positive(FP) = ', FP)\n",
    "print('True Negative(TN)  = ', TN)\n",
    "print('False Negative(FN) = ', FN)\n",
    "\n",
    "accuracy =  (TP + TN) / (TP + FP + TN + FN)\n",
    "print('Accuracy of the binary classifier = {:0.3f}'.format(accuracy))"
   ]
  },
  {
   "cell_type": "code",
   "execution_count": 23,
   "id": "4643b042",
   "metadata": {},
   "outputs": [
    {
     "name": "stdout",
     "output_type": "stream",
     "text": [
      "Accuracy: 86.67%\n",
      "Balanced Accuracy: 86.11%\n",
      "AUC: 0.86\n",
      "Precision: 0.83\n",
      "Recall: 0.83\n",
      "F1 score: 0.83\n"
     ]
    }
   ],
   "source": [
    "# Calculate performance metrics\n",
    "accuracy = accuracy_score(np.round(y_holdout), np.round(y_pred_holdout)) * 100\n",
    "balanced_accuracy = balanced_accuracy_score(np.round(y_holdout), np.round(y_pred_holdout)) * 100\n",
    "auc = roc_auc_score(np.round(y_holdout), np.round(y_pred_holdout))\n",
    "precision = precision_score(np.round(y_holdout), np.round(y_pred_holdout))\n",
    "recall = recall_score(np.round(y_holdout), np.round(y_pred_holdout))\n",
    "f1 = f1_score(np.round(y_holdout), np.round(y_pred_holdout))\n",
    "\n",
    "# Print results\n",
    "print(f\"Accuracy: {accuracy:.2f}%\")\n",
    "print(f\"Balanced Accuracy: {balanced_accuracy:.2f}%\")\n",
    "print(f\"AUC: {auc:.2f}\")\n",
    "print(f\"Precision: {precision:.2f}\")\n",
    "print(f\"Recall: {recall:.2f}\")\n",
    "print(f\"F1 score: {f1:.2f}\")"
   ]
  },
  {
   "cell_type": "code",
   "execution_count": 24,
   "id": "eb603979",
   "metadata": {},
   "outputs": [
    {
     "ename": "NameError",
     "evalue": "name 'STOP' is not defined",
     "output_type": "error",
     "traceback": [
      "\u001b[0;31m---------------------------------------------------------------------------\u001b[0m",
      "\u001b[0;31mNameError\u001b[0m                                 Traceback (most recent call last)",
      "Cell \u001b[0;32mIn[24], line 1\u001b[0m\n\u001b[0;32m----> 1\u001b[0m \u001b[43mSTOP\u001b[49m\n",
      "\u001b[0;31mNameError\u001b[0m: name 'STOP' is not defined"
     ]
    }
   ],
   "source": [
    "STOP"
   ]
  },
  {
   "cell_type": "markdown",
   "id": "78288d39",
   "metadata": {},
   "source": [
    "# 2 Prepare dataset"
   ]
  },
  {
   "cell_type": "code",
   "execution_count": null,
   "id": "a20e1415",
   "metadata": {},
   "outputs": [],
   "source": [
    "df = df_damage_thirtytwo_min_max.drop(columns=columns)\n",
    "\n",
    "X = df.drop(columns=['Damage'])\n",
    "y = df['Damage']\n",
    "\n",
    "# split the data into a holdout set and the rest for K-Fold cross-validation\n",
    "X_train, X_holdout, y_train, y_holdout = train_test_split(X, y, train_size=training_percent, random_state=42)"
   ]
  },
  {
   "cell_type": "code",
   "execution_count": null,
   "id": "5bcc4a43",
   "metadata": {},
   "outputs": [],
   "source": [
    "# Initialize StandardScaler\n",
    "scaler = StandardScaler()\n",
    "\n",
    "# Fit scaler on training data\n",
    "scaler.fit(X_train)\n",
    "\n",
    "# Transform both training and test data\n",
    "X_train_scaled = scaler.transform(X_train)\n",
    "X_holdout_scaled = scaler.transform(X_holdout)"
   ]
  },
  {
   "cell_type": "code",
   "execution_count": null,
   "id": "03fe99c0",
   "metadata": {},
   "outputs": [],
   "source": [
    "input_dim = X_train.shape[1]\n",
    "\n",
    "model = Baseline(input_dim)\n",
    "model.summary()"
   ]
  },
  {
   "cell_type": "code",
   "execution_count": null,
   "id": "95c707b3",
   "metadata": {},
   "outputs": [],
   "source": [
    "results = []\n",
    "\n",
    "for train_index, val_index in kf.split(X_train_scaled):\n",
    "    # split the dataset into training and validation sets for this fold\n",
    "    X_train_kf, X_val_kf = X_train_scaled[train_index], X_train_scaled[val_index]\n",
    "    y_train_kf, y_val_kf = y_train.iloc[train_index], y_train.iloc[val_index]\n",
    "    \n",
    "    model = Baseline(input_dim)\n",
    "    \n",
    "    history = model.train(X_train_kf, y_train_kf, X_val_kf, y_val_kf, epochs, batch_size)\n",
    "    plt.plot(history.history['loss'])\n",
    "    plt.show()\n",
    "    \n",
    "    results_m = model.evaluate(X_val_kf, y_val_kf)\n",
    "    \n",
    "    for name, value in zip(model.metrics_names(), results_m):\n",
    "        print(name, ': ', value)\n",
    "        if name == 'accuracy':\n",
    "            accuracy_kf = value\n",
    "            results.append(accuracy_kf)\n",
    "            print(f\"Accuracy on validation set: {accuracy_kf}\")\n",
    "    \n",
    "# Calculate the average accuracy score for the K-fold cross-validation\n",
    "print(\"results\",results)\n",
    "print(f\"K-fold cross-validation accuracy: {sum(results) / len(results)}\")\n",
    "\n",
    "y_pred_holdout = model.predict(X_holdout_scaled)\n",
    "accuracy_holdout = accuracy_score(np.round(y_holdout), np.round(y_pred_holdout))\n",
    "print(f\"Accuracy on holdout set: {accuracy_holdout}\")\n",
    "\n",
    "balanced_accuracy_holdout = balanced_accuracy_score(np.round(y_holdout), np.round(y_pred_holdout))\n",
    "print(f\"Balanced Accuracy on holdout set: {balanced_accuracy_holdout}\")\n",
    "\n",
    "print(\"\\nClassification Report:\\n\")\n",
    "print(classification_report(np.round(y_holdout), np.round(y_pred_holdout), digits = 3))\n",
    "\n",
    "cm = confusion_matrix(np.round(y_holdout), np.round(y_pred_holdout))\n",
    "heat_map(cm)\n",
    "heat_map_n(np.round(y_holdout), np.round(y_pred_holdout))\n",
    "TN, FP, FN, TP = confusion_matrix(np.round(y_holdout), np.round(y_pred_holdout)).ravel()\n",
    "print('True Positive(TP)  = ', TP)\n",
    "print('False Positive(FP) = ', FP)\n",
    "print('True Negative(TN)  = ', TN)\n",
    "print('False Negative(FN) = ', FN)\n",
    "\n",
    "accuracy =  (TP + TN) / (TP + FP + TN + FN)\n",
    "print('Accuracy of the binary classifier = {:0.3f}'.format(accuracy))"
   ]
  },
  {
   "cell_type": "code",
   "execution_count": null,
   "id": "da986473",
   "metadata": {},
   "outputs": [],
   "source": [
    "#STOP"
   ]
  },
  {
   "cell_type": "markdown",
   "id": "3c859f89",
   "metadata": {},
   "source": [
    "# 3 Prepare dataset"
   ]
  },
  {
   "cell_type": "code",
   "execution_count": null,
   "id": "02dd227a",
   "metadata": {},
   "outputs": [],
   "source": [
    "df = df_damage_sixteen_mean.drop(columns=columns)\n",
    "\n",
    "X = df.drop(columns=['Damage'])\n",
    "y = df['Damage']\n",
    "\n",
    "# split the data into a holdout set and the rest for K-Fold cross-validation\n",
    "X_train, X_holdout, y_train, y_holdout = train_test_split(X, y, train_size=training_percent, random_state=42)"
   ]
  },
  {
   "cell_type": "code",
   "execution_count": null,
   "id": "4104e6c8",
   "metadata": {},
   "outputs": [],
   "source": [
    "# Initialize StandardScaler\n",
    "scaler = StandardScaler()\n",
    "\n",
    "# Fit scaler on training data\n",
    "scaler.fit(X_train)\n",
    "\n",
    "# Transform both training and test data\n",
    "X_train_scaled = scaler.transform(X_train)\n",
    "X_holdout_scaled = scaler.transform(X_holdout)"
   ]
  },
  {
   "cell_type": "code",
   "execution_count": null,
   "id": "b4067e0c",
   "metadata": {},
   "outputs": [],
   "source": [
    "input_dim = X_train.shape[1]\n",
    "\n",
    "model = Baseline(input_dim)\n",
    "model.summary()"
   ]
  },
  {
   "cell_type": "code",
   "execution_count": null,
   "id": "7c8e23d1",
   "metadata": {},
   "outputs": [],
   "source": [
    "results = []\n",
    "\n",
    "for train_index, val_index in kf.split(X_train_scaled):\n",
    "    # split the dataset into training and validation sets for this fold\n",
    "    X_train_kf, X_val_kf = X_train_scaled[train_index], X_train_scaled[val_index]\n",
    "    y_train_kf, y_val_kf = y_train.iloc[train_index], y_train.iloc[val_index]\n",
    "    \n",
    "    model = Baseline(input_dim)\n",
    "    \n",
    "    history = model.train(X_train_kf, y_train_kf, X_val_kf, y_val_kf, epochs, batch_size)\n",
    "    plt.plot(history.history['loss'])\n",
    "    plt.show()\n",
    "    \n",
    "    results_m = model.evaluate(X_val_kf, y_val_kf)\n",
    "    \n",
    "    for name, value in zip(model.metrics_names(), results_m):\n",
    "        print(name, ': ', value)\n",
    "        if name == 'accuracy':\n",
    "            accuracy_kf = value\n",
    "            results.append(accuracy_kf)\n",
    "            print(f\"Accuracy on validation set: {accuracy_kf}\")\n",
    "    \n",
    "# Calculate the average accuracy score for the K-fold cross-validation\n",
    "print(\"results\",results)\n",
    "print(f\"K-fold cross-validation accuracy: {sum(results) / len(results)}\")\n",
    "\n",
    "y_pred_holdout = model.predict(X_holdout_scaled)\n",
    "accuracy_holdout = accuracy_score(np.round(y_holdout), np.round(y_pred_holdout))\n",
    "print(f\"Accuracy on holdout set: {accuracy_holdout}\")\n",
    "\n",
    "balanced_accuracy_holdout = balanced_accuracy_score(np.round(y_holdout), np.round(y_pred_holdout))\n",
    "print(f\"Balanced Accuracy on holdout set: {balanced_accuracy_holdout}\")\n",
    "\n",
    "print(\"\\nClassification Report:\\n\")\n",
    "print(classification_report(np.round(y_holdout), np.round(y_pred_holdout), digits = 3))\n",
    "\n",
    "cm = confusion_matrix(np.round(y_holdout), np.round(y_pred_holdout))\n",
    "heat_map(cm)\n",
    "heat_map_n(np.round(y_holdout), np.round(y_pred_holdout))\n",
    "TN, FP, FN, TP = confusion_matrix(np.round(y_holdout), np.round(y_pred_holdout)).ravel()\n",
    "print('True Positive(TP)  = ', TP)\n",
    "print('False Positive(FP) = ', FP)\n",
    "print('True Negative(TN)  = ', TN)\n",
    "print('False Negative(FN) = ', FN)\n",
    "\n",
    "accuracy =  (TP + TN) / (TP + FP + TN + FN)\n",
    "print('Accuracy of the binary classifier = {:0.3f}'.format(accuracy))"
   ]
  },
  {
   "cell_type": "code",
   "execution_count": null,
   "id": "404d47f0",
   "metadata": {},
   "outputs": [],
   "source": [
    "#STOP"
   ]
  },
  {
   "cell_type": "markdown",
   "id": "847db1f6",
   "metadata": {},
   "source": [
    "# 4 Prepare dataset"
   ]
  },
  {
   "cell_type": "code",
   "execution_count": null,
   "id": "76700ff6",
   "metadata": {},
   "outputs": [],
   "source": [
    "df = df_damage_thirtytwo_mean.drop(columns=columns)\n",
    "\n",
    "X = df.drop(columns=['Damage'])\n",
    "y = df['Damage']\n",
    "\n",
    "# split the data into a holdout set and the rest for K-Fold cross-validation\n",
    "X_train, X_holdout, y_train, y_holdout = train_test_split(X, y, train_size=training_percent, random_state=42)"
   ]
  },
  {
   "cell_type": "code",
   "execution_count": null,
   "id": "578a2b2c",
   "metadata": {},
   "outputs": [],
   "source": [
    "# Initialize StandardScaler\n",
    "scaler = StandardScaler()\n",
    "\n",
    "# Fit scaler on training data\n",
    "scaler.fit(X_train)\n",
    "\n",
    "# Transform both training and test data\n",
    "X_train_scaled = scaler.transform(X_train)\n",
    "X_holdout_scaled = scaler.transform(X_holdout)"
   ]
  },
  {
   "cell_type": "code",
   "execution_count": null,
   "id": "f98f5bdc",
   "metadata": {},
   "outputs": [],
   "source": [
    "input_dim = X_train.shape[1]\n",
    "\n",
    "model = Baseline(input_dim)\n",
    "model.summary()"
   ]
  },
  {
   "cell_type": "code",
   "execution_count": null,
   "id": "e07f7b22",
   "metadata": {},
   "outputs": [],
   "source": [
    "results = []\n",
    "\n",
    "for train_index, val_index in kf.split(X_train_scaled):\n",
    "    # split the dataset into training and validation sets for this fold\n",
    "    X_train_kf, X_val_kf = X_train_scaled[train_index], X_train_scaled[val_index]\n",
    "    y_train_kf, y_val_kf = y_train.iloc[train_index], y_train.iloc[val_index]\n",
    "    \n",
    "    model = Baseline(input_dim)\n",
    "    \n",
    "    history = model.train(X_train_kf, y_train_kf, X_val_kf, y_val_kf, epochs, batch_size)\n",
    "    plt.plot(history.history['loss'])\n",
    "    plt.show()\n",
    "    \n",
    "    results_m = model.evaluate(X_val_kf, y_val_kf)\n",
    "    \n",
    "    for name, value in zip(model.metrics_names(), results_m):\n",
    "        print(name, ': ', value)\n",
    "        if name == 'accuracy':\n",
    "            accuracy_kf = value\n",
    "            results.append(accuracy_kf)\n",
    "            print(f\"Accuracy on validation set: {accuracy_kf}\")\n",
    "    \n",
    "# Calculate the average accuracy score for the K-fold cross-validation\n",
    "print(\"results\",results)\n",
    "print(f\"K-fold cross-validation accuracy: {sum(results) / len(results)}\")\n",
    "\n",
    "y_pred_holdout = model.predict(X_holdout_scaled)\n",
    "accuracy_holdout = accuracy_score(np.round(y_holdout), np.round(y_pred_holdout))\n",
    "print(f\"Accuracy on holdout set: {accuracy_holdout}\")\n",
    "\n",
    "balanced_accuracy_holdout = balanced_accuracy_score(np.round(y_holdout), np.round(y_pred_holdout))\n",
    "print(f\"Balanced Accuracy on holdout set: {balanced_accuracy_holdout}\")\n",
    "\n",
    "print(\"\\nClassification Report:\\n\")\n",
    "print(classification_report(np.round(y_holdout), np.round(y_pred_holdout), digits = 3))\n",
    "\n",
    "cm = confusion_matrix(np.round(y_holdout), np.round(y_pred_holdout))\n",
    "heat_map(cm)\n",
    "heat_map_n(np.round(y_holdout), np.round(y_pred_holdout))\n",
    "TN, FP, FN, TP = confusion_matrix(np.round(y_holdout), np.round(y_pred_holdout)).ravel()\n",
    "print('True Positive(TP)  = ', TP)\n",
    "print('False Positive(FP) = ', FP)\n",
    "print('True Negative(TN)  = ', TN)\n",
    "print('False Negative(FN) = ', FN)\n",
    "\n",
    "accuracy =  (TP + TN) / (TP + FP + TN + FN)\n",
    "print('Accuracy of the binary classifier = {:0.3f}'.format(accuracy))"
   ]
  },
  {
   "cell_type": "code",
   "execution_count": null,
   "id": "c9564545",
   "metadata": {},
   "outputs": [],
   "source": [
    "#STOP"
   ]
  }
 ],
 "metadata": {
  "kernelspec": {
   "display_name": "Python 3 (ipykernel)",
   "language": "python",
   "name": "python3"
  },
  "language_info": {
   "codemirror_mode": {
    "name": "ipython",
    "version": 3
   },
   "file_extension": ".py",
   "mimetype": "text/x-python",
   "name": "python",
   "nbconvert_exporter": "python",
   "pygments_lexer": "ipython3",
   "version": "3.9.6"
  }
 },
 "nbformat": 4,
 "nbformat_minor": 5
}
