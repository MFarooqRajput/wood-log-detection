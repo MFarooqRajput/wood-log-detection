{
 "cells": [
  {
   "cell_type": "code",
   "execution_count": 1,
   "id": "4836630a",
   "metadata": {},
   "outputs": [
    {
     "name": "stdout",
     "output_type": "stream",
     "text": [
      "/Users/muhammadfarooq/Codebase/thesis-experiment/Pith2Bark\n"
     ]
    }
   ],
   "source": [
    "cd .."
   ]
  },
  {
   "cell_type": "code",
   "execution_count": 2,
   "id": "d87bc37d",
   "metadata": {},
   "outputs": [],
   "source": [
    "import os\n",
    "os.environ['TF_CPP_MIN_LOG_LEVEL'] = '3'\n",
    "import warnings\n",
    "warnings.filterwarnings(\"ignore\")\n",
    "\n",
    "import pandas as pd\n",
    "import numpy as np\n",
    "import matplotlib.pyplot as plt\n",
    "import seaborn as sns\n",
    "import scikitplot as skplt\n",
    "\n",
    "import tensorflow as tf\n",
    "from tensorflow.keras.preprocessing.image import load_img, img_to_array\n",
    "\n",
    "from keras.models import Sequential\n",
    "from keras.layers import Dense, Flatten, Conv2D, MaxPooling2D, Dropout\n",
    "\n",
    "from sklearn.model_selection import KFold\n",
    "from sklearn.model_selection import train_test_split\n",
    "#from sklearn.metrics import accuracy_score\n",
    "from sklearn.metrics import confusion_matrix\n",
    "from sklearn.metrics import classification_report\n",
    "from sklearn.metrics import balanced_accuracy_score\n",
    "\n",
    "from sklearn.metrics import accuracy_score, roc_auc_score, precision_score, recall_score, f1_score"
   ]
  },
  {
   "cell_type": "markdown",
   "id": "ae1db6f6",
   "metadata": {},
   "source": [
    "# Damage Dataset"
   ]
  },
  {
   "cell_type": "code",
   "execution_count": 3,
   "id": "e6bb56d5",
   "metadata": {},
   "outputs": [],
   "source": [
    "def read_damage_min_max(damage_fname):\n",
    "    df_damage = pd.read_csv(damage_fname)\n",
    "    \n",
    "    columns = ['min', 'max', 'mean', 'orig', 'diff_min_max', 'diff_orig_mean', 'damage_mean']\n",
    "    df_damage_temp = df_damage.drop(columns=columns)\n",
    "    df_damage_temp.rename(columns={'damage_min_max': 'Damage'}, inplace=True)\n",
    "\n",
    "    df_damage_temp.reset_index(drop=True, inplace=True)\n",
    "\n",
    "    return df_damage_temp"
   ]
  },
  {
   "cell_type": "code",
   "execution_count": 4,
   "id": "cb4d7f4e",
   "metadata": {},
   "outputs": [],
   "source": [
    "def read_damage_mean(damage_fname):\n",
    "    df_damage = pd.read_csv(damage_fname)\n",
    "    \n",
    "    columns = ['min', 'max', 'mean', 'orig', 'diff_min_max', 'diff_orig_mean', 'damage_min_max']\n",
    "    df_damage_temp = df_damage.drop(columns=columns)\n",
    "    df_damage_temp.rename(columns={'damage_mean': 'Damage'}, inplace=True)\n",
    "\n",
    "    df_damage_temp.reset_index(drop=True, inplace=True)\n",
    "\n",
    "    return df_damage_temp"
   ]
  },
  {
   "cell_type": "code",
   "execution_count": 5,
   "id": "b013fa28",
   "metadata": {},
   "outputs": [],
   "source": [
    "#damage\n",
    "damage_sixteen_url = \"damage/damage_sixteen.csv\"\n",
    "damage_thirtytwo_url = \"damage/damage_thirtytwo.csv\"\n",
    "\n",
    "df_damage_sixteen_min_max = read_damage_min_max(damage_sixteen_url)\n",
    "df_damage_thirtytwo_min_max = read_damage_min_max(damage_thirtytwo_url)\n",
    "\n",
    "df_damage_sixteen_mean = read_damage_mean(damage_sixteen_url)\n",
    "df_damage_thirtytwo_mean = read_damage_mean(damage_thirtytwo_url)"
   ]
  },
  {
   "cell_type": "code",
   "execution_count": 6,
   "id": "9488a22d",
   "metadata": {},
   "outputs": [],
   "source": [
    "#df_damage_sixteen_min_max"
   ]
  },
  {
   "cell_type": "code",
   "execution_count": 7,
   "id": "3d2aca14",
   "metadata": {},
   "outputs": [],
   "source": [
    "#df_damage_thirtytwo_min_max"
   ]
  },
  {
   "cell_type": "code",
   "execution_count": 8,
   "id": "bee3f612",
   "metadata": {},
   "outputs": [],
   "source": [
    "#df_damage_sixteen_mean"
   ]
  },
  {
   "cell_type": "code",
   "execution_count": 9,
   "id": "58fceae4",
   "metadata": {},
   "outputs": [],
   "source": [
    "#df_damage_thirtytwo_mean"
   ]
  },
  {
   "cell_type": "code",
   "execution_count": 10,
   "id": "a38f9636",
   "metadata": {},
   "outputs": [],
   "source": [
    "#STOP"
   ]
  },
  {
   "cell_type": "code",
   "execution_count": 11,
   "id": "08a05160",
   "metadata": {},
   "outputs": [],
   "source": [
    "df = df_damage_sixteen_min_max"
   ]
  },
  {
   "cell_type": "code",
   "execution_count": 12,
   "id": "c820916a",
   "metadata": {},
   "outputs": [],
   "source": [
    "#df"
   ]
  },
  {
   "cell_type": "code",
   "execution_count": 13,
   "id": "fd1165e8",
   "metadata": {},
   "outputs": [
    {
     "name": "stdout",
     "output_type": "stream",
     "text": [
      "Image data shape: (148, 128, 128, 3)\n",
      "Label data shape: (148,)\n"
     ]
    }
   ],
   "source": [
    "# set up the file paths for your image data and labels\n",
    "img_size = (128, 128)\n",
    "\n",
    "data_dir = 'damage/images'\n",
    "\n",
    "# convert the DataFrame to a dictionary with specific column names as key and value\n",
    "label_dict = {k: v for k, v in zip(df['image'], df['Damage'])}\n",
    "\n",
    "# create empty lists to store the image data and labels\n",
    "images = []\n",
    "labels = []\n",
    "\n",
    "# loop through each image file in the directory\n",
    "for filename in os.listdir(data_dir):\n",
    "    # load the image file and convert it to a NumPy array\n",
    "    image = load_img(os.path.join(data_dir, filename), target_size=img_size)\n",
    "    image = img_to_array(image)\n",
    "    # preprocess the image by scaling the pixel values to be between 0 and 1\n",
    "    image = image.astype('float32') / 255.0\n",
    "    # add the preprocessed image and its label to the lists\n",
    "    images.append(image)\n",
    "    labels.append(label_dict[filename])\n",
    "\n",
    "# convert the lists to NumPy arrays\n",
    "images = np.array(images)\n",
    "labels = np.array(labels)\n",
    "\n",
    "# print the shape of the data to verify that it's been loaded correctly\n",
    "print('Image data shape:', images.shape) #(148, 64, 64, 3)\n",
    "print('Label data shape:', labels.shape) #(148,)"
   ]
  },
  {
   "cell_type": "code",
   "execution_count": 14,
   "id": "c81ed07a",
   "metadata": {},
   "outputs": [],
   "source": [
    "#STOP"
   ]
  },
  {
   "cell_type": "markdown",
   "id": "f0dbfa40",
   "metadata": {},
   "source": [
    "# Config"
   ]
  },
  {
   "cell_type": "code",
   "execution_count": 15,
   "id": "61c03e5e",
   "metadata": {},
   "outputs": [],
   "source": [
    "training_percent = 0.9\n",
    "\n",
    "epochs, batch_size = 50, 32\n",
    "kf = KFold(n_splits=3, shuffle=True, random_state=42)\n",
    "\n",
    "early_stopping = tf.keras.callbacks.EarlyStopping(\n",
    "        monitor=\"val_loss\",\n",
    "        patience=10,\n",
    "        restore_best_weights=True,\n",
    "    )\n",
    "\n",
    "METRICS = [\n",
    "    tf.keras.metrics.TruePositives(name='tp'),\n",
    "    tf.keras.metrics.FalsePositives(name='fp'),\n",
    "    tf.keras.metrics.TrueNegatives(name='tn'),\n",
    "    tf.keras.metrics.FalseNegatives(name='fn'), \n",
    "    tf.keras.metrics.BinaryAccuracy(name='accuracy'),\n",
    "    tf.keras.metrics.Precision(name='precision'),\n",
    "    tf.keras.metrics.Recall(name='recall'),\n",
    "    tf.keras.metrics.AUC(name='auc'),\n",
    "    tf.keras.metrics.AUC(name='prc', curve='PR'), # precision-recall curve\n",
    "]"
   ]
  },
  {
   "cell_type": "code",
   "execution_count": 16,
   "id": "6e3039f9",
   "metadata": {},
   "outputs": [],
   "source": [
    "def heat_map(_cm):\n",
    "    # plot confusion matrix as heatmap\n",
    "    \n",
    "    labels = ['Not Damage', 'Damaged']\n",
    "    \n",
    "    # Set up the matplotlib figure\n",
    "    plt.figure(figsize=(4, 3))\n",
    "    \n",
    "    # Generate a custom diverging colormap\n",
    "    cmap = sns.diverging_palette(230, 20, as_cmap=True)\n",
    "    \n",
    "    sns.heatmap(_cm, annot=True, cmap=cmap, xticklabels=labels, yticklabels=labels)\n",
    "    plt.xlabel('Predicted labels')\n",
    "    plt.ylabel('True labels')\n",
    "    plt.show()"
   ]
  },
  {
   "cell_type": "code",
   "execution_count": 17,
   "id": "76026ce3",
   "metadata": {},
   "outputs": [],
   "source": [
    "def heat_map_n(y_true, y_pred):\n",
    "    \n",
    "    class_names = ['Not Damage', 'Damaged']\n",
    "    \n",
    "    skplt.metrics.plot_confusion_matrix(y_true, y_pred,\n",
    "                                        figsize=(4,3),\n",
    "                                        normalize=True)\n",
    "    \n",
    "    # Customize axis tick labels\n",
    "    plt.xticks([0,1], class_names)\n",
    "    plt.yticks([0,1], class_names)\n",
    "    \n",
    "    plt.yticks(rotation=90)\n",
    "    \n",
    "    plt.xlabel('Predicted labels')\n",
    "    plt.ylabel('True labels')\n",
    "    plt.show()"
   ]
  },
  {
   "cell_type": "code",
   "execution_count": 18,
   "id": "39edad68",
   "metadata": {},
   "outputs": [],
   "source": [
    "#STOP"
   ]
  },
  {
   "cell_type": "markdown",
   "id": "55ccce15",
   "metadata": {},
   "source": [
    "# Model"
   ]
  },
  {
   "cell_type": "code",
   "execution_count": 19,
   "id": "726ca1bf",
   "metadata": {},
   "outputs": [],
   "source": [
    "class Baseline():\n",
    "    def __init__(self, _input_dim, metrics=METRICS):\n",
    "        # Define the model architecture\n",
    "        model = Sequential()\n",
    "        \n",
    "        # convolutional layer\n",
    "        model.add(Conv2D(32, kernel_size=(3, 3), activation='relu', input_shape=_input_dim))\n",
    "        model.add(MaxPooling2D(pool_size=(2, 2)))\n",
    "        model.add(Dropout(0.2))\n",
    "                  \n",
    "        # flatten output of conv\n",
    "        model.add(Flatten())\n",
    "                  \n",
    "        # hidden layer\n",
    "        model.add(Dense(64, activation='relu'))\n",
    "        model.add(Dropout(0.2))\n",
    "        \n",
    "        # output layer         \n",
    "        model.add(Dense(1, activation='sigmoid'))\n",
    "\n",
    "        # Compile the model\n",
    "        model.compile(loss='binary_crossentropy', optimizer=tf.keras.optimizers.Adam(learning_rate=0.0001), metrics=metrics)\n",
    "\n",
    "        self.model = model\n",
    "\n",
    "    def train(self, X_train, y_train, X_val, y_val, epochs, batch_size):\n",
    "        history = self.model.fit(X_train, y_train, validation_data=(X_val, y_val), epochs=epochs, batch_size=batch_size, callbacks=[early_stopping], verbose=2)\n",
    "        return history\n",
    "    \n",
    "    def evaluate(self, X_test, y_test):\n",
    "        results = self.model.evaluate(X_test, y_test, verbose=0)\n",
    "        return results\n",
    "\n",
    "    def predict(self, X_test):\n",
    "        predictions = self.model.predict(X_test)\n",
    "        return predictions\n",
    "\n",
    "    def summary(self):\n",
    "        self.model.summary()\n",
    "        \n",
    "    def metrics_names(self):\n",
    "        return self.model.metrics_names"
   ]
  },
  {
   "cell_type": "markdown",
   "id": "f92e17e0",
   "metadata": {},
   "source": [
    "# Prepare dataset"
   ]
  },
  {
   "cell_type": "code",
   "execution_count": 20,
   "id": "5833bcec",
   "metadata": {},
   "outputs": [],
   "source": [
    "X = images\n",
    "y = labels\n",
    "\n",
    "# split the data into a holdout set and the rest for K-Fold cross-validation\n",
    "X_train, X_holdout, y_train, y_holdout = train_test_split(X, y, train_size=training_percent, random_state=42)"
   ]
  },
  {
   "cell_type": "code",
   "execution_count": 21,
   "id": "9f6425a3",
   "metadata": {},
   "outputs": [
    {
     "name": "stdout",
     "output_type": "stream",
     "text": [
      "Model: \"sequential\"\n",
      "_________________________________________________________________\n",
      " Layer (type)                Output Shape              Param #   \n",
      "=================================================================\n",
      " conv2d (Conv2D)             (None, 126, 126, 32)      896       \n",
      "                                                                 \n",
      " max_pooling2d (MaxPooling2D  (None, 63, 63, 32)       0         \n",
      " )                                                               \n",
      "                                                                 \n",
      " dropout (Dropout)           (None, 63, 63, 32)        0         \n",
      "                                                                 \n",
      " flatten (Flatten)           (None, 127008)            0         \n",
      "                                                                 \n",
      " dense (Dense)               (None, 64)                8128576   \n",
      "                                                                 \n",
      " dropout_1 (Dropout)         (None, 64)                0         \n",
      "                                                                 \n",
      " dense_1 (Dense)             (None, 1)                 65        \n",
      "                                                                 \n",
      "=================================================================\n",
      "Total params: 8,129,537\n",
      "Trainable params: 8,129,537\n",
      "Non-trainable params: 0\n",
      "_________________________________________________________________\n"
     ]
    }
   ],
   "source": [
    "input_dim = X_train.shape[1:]\n",
    "\n",
    "model = Baseline(input_dim)\n",
    "model.summary()"
   ]
  },
  {
   "cell_type": "code",
   "execution_count": 22,
   "id": "68e195e4",
   "metadata": {},
   "outputs": [
    {
     "name": "stdout",
     "output_type": "stream",
     "text": [
      "Epoch 1/50\n",
      "3/3 - 3s - loss: 0.7353 - tp: 28.0000 - fp: 40.0000 - tn: 15.0000 - fn: 5.0000 - accuracy: 0.4886 - precision: 0.4118 - recall: 0.8485 - auc: 0.6333 - prc: 0.5765 - val_loss: 0.4603 - val_tp: 10.0000 - val_fp: 0.0000e+00 - val_tn: 29.0000 - val_fn: 6.0000 - val_accuracy: 0.8667 - val_precision: 1.0000 - val_recall: 0.6250 - val_auc: 0.8297 - val_prc: 0.8287 - 3s/epoch - 836ms/step\n",
      "Epoch 2/50\n",
      "3/3 - 1s - loss: 0.4844 - tp: 19.0000 - fp: 2.0000 - tn: 53.0000 - fn: 14.0000 - accuracy: 0.8182 - precision: 0.9048 - recall: 0.5758 - auc: 0.7793 - prc: 0.7714 - val_loss: 0.4511 - val_tp: 10.0000 - val_fp: 3.0000 - val_tn: 26.0000 - val_fn: 6.0000 - val_accuracy: 0.8000 - val_precision: 0.7692 - val_recall: 0.6250 - val_auc: 0.8125 - val_prc: 0.8148 - 561ms/epoch - 187ms/step\n",
      "Epoch 3/50\n",
      "3/3 - 1s - loss: 0.4300 - tp: 23.0000 - fp: 4.0000 - tn: 51.0000 - fn: 10.0000 - accuracy: 0.8409 - precision: 0.8519 - recall: 0.6970 - auc: 0.8306 - prc: 0.8213 - val_loss: 0.4807 - val_tp: 10.0000 - val_fp: 4.0000 - val_tn: 25.0000 - val_fn: 6.0000 - val_accuracy: 0.7778 - val_precision: 0.7143 - val_recall: 0.6250 - val_auc: 0.8136 - val_prc: 0.8164 - 566ms/epoch - 189ms/step\n",
      "Epoch 4/50\n",
      "3/3 - 1s - loss: 0.4264 - tp: 23.0000 - fp: 2.0000 - tn: 53.0000 - fn: 10.0000 - accuracy: 0.8636 - precision: 0.9200 - recall: 0.6970 - auc: 0.8030 - prc: 0.8225 - val_loss: 0.4413 - val_tp: 10.0000 - val_fp: 3.0000 - val_tn: 26.0000 - val_fn: 6.0000 - val_accuracy: 0.8000 - val_precision: 0.7692 - val_recall: 0.6250 - val_auc: 0.8125 - val_prc: 0.8152 - 619ms/epoch - 206ms/step\n",
      "Epoch 5/50\n",
      "3/3 - 1s - loss: 0.4247 - tp: 23.0000 - fp: 2.0000 - tn: 53.0000 - fn: 10.0000 - accuracy: 0.8636 - precision: 0.9200 - recall: 0.6970 - auc: 0.8099 - prc: 0.8211 - val_loss: 0.4114 - val_tp: 10.0000 - val_fp: 1.0000 - val_tn: 28.0000 - val_fn: 6.0000 - val_accuracy: 0.8444 - val_precision: 0.9091 - val_recall: 0.6250 - val_auc: 0.8114 - val_prc: 0.8154 - 543ms/epoch - 181ms/step\n",
      "Epoch 6/50\n",
      "3/3 - 1s - loss: 0.4485 - tp: 22.0000 - fp: 2.0000 - tn: 53.0000 - fn: 11.0000 - accuracy: 0.8523 - precision: 0.9167 - recall: 0.6667 - auc: 0.8033 - prc: 0.7810 - val_loss: 0.4414 - val_tp: 10.0000 - val_fp: 3.0000 - val_tn: 26.0000 - val_fn: 6.0000 - val_accuracy: 0.8000 - val_precision: 0.7692 - val_recall: 0.6250 - val_auc: 0.8179 - val_prc: 0.8203 - 553ms/epoch - 184ms/step\n",
      "Epoch 7/50\n",
      "3/3 - 1s - loss: 0.3984 - tp: 23.0000 - fp: 2.0000 - tn: 53.0000 - fn: 10.0000 - accuracy: 0.8636 - precision: 0.9200 - recall: 0.6970 - auc: 0.8347 - prc: 0.8516 - val_loss: 0.4074 - val_tp: 10.0000 - val_fp: 3.0000 - val_tn: 26.0000 - val_fn: 6.0000 - val_accuracy: 0.8000 - val_precision: 0.7692 - val_recall: 0.6250 - val_auc: 0.8168 - val_prc: 0.8200 - 644ms/epoch - 215ms/step\n",
      "Epoch 8/50\n",
      "3/3 - 1s - loss: 0.4026 - tp: 22.0000 - fp: 2.0000 - tn: 53.0000 - fn: 11.0000 - accuracy: 0.8523 - precision: 0.9167 - recall: 0.6667 - auc: 0.8477 - prc: 0.8356 - val_loss: 0.3991 - val_tp: 10.0000 - val_fp: 1.0000 - val_tn: 28.0000 - val_fn: 6.0000 - val_accuracy: 0.8444 - val_precision: 0.9091 - val_recall: 0.6250 - val_auc: 0.8222 - val_prc: 0.8254 - 537ms/epoch - 179ms/step\n",
      "Epoch 9/50\n",
      "3/3 - 1s - loss: 0.3650 - tp: 23.0000 - fp: 1.0000 - tn: 54.0000 - fn: 10.0000 - accuracy: 0.8750 - precision: 0.9583 - recall: 0.6970 - auc: 0.8620 - prc: 0.8725 - val_loss: 0.4131 - val_tp: 10.0000 - val_fp: 3.0000 - val_tn: 26.0000 - val_fn: 6.0000 - val_accuracy: 0.8000 - val_precision: 0.7692 - val_recall: 0.6250 - val_auc: 0.8297 - val_prc: 0.8326 - 517ms/epoch - 172ms/step\n",
      "Epoch 10/50\n",
      "3/3 - 1s - loss: 0.3468 - tp: 23.0000 - fp: 2.0000 - tn: 53.0000 - fn: 10.0000 - accuracy: 0.8636 - precision: 0.9200 - recall: 0.6970 - auc: 0.8813 - prc: 0.8901 - val_loss: 0.4040 - val_tp: 10.0000 - val_fp: 3.0000 - val_tn: 26.0000 - val_fn: 6.0000 - val_accuracy: 0.8000 - val_precision: 0.7692 - val_recall: 0.6250 - val_auc: 0.8330 - val_prc: 0.8345 - 523ms/epoch - 174ms/step\n",
      "Epoch 11/50\n",
      "3/3 - 1s - loss: 0.3765 - tp: 23.0000 - fp: 2.0000 - tn: 53.0000 - fn: 10.0000 - accuracy: 0.8636 - precision: 0.9200 - recall: 0.6970 - auc: 0.8791 - prc: 0.8487 - val_loss: 0.3823 - val_tp: 10.0000 - val_fp: 0.0000e+00 - val_tn: 29.0000 - val_fn: 6.0000 - val_accuracy: 0.8667 - val_precision: 1.0000 - val_recall: 0.6250 - val_auc: 0.8265 - val_prc: 0.8270 - 555ms/epoch - 185ms/step\n",
      "Epoch 12/50\n",
      "3/3 - 1s - loss: 0.3477 - tp: 22.0000 - fp: 1.0000 - tn: 54.0000 - fn: 11.0000 - accuracy: 0.8636 - precision: 0.9565 - recall: 0.6667 - auc: 0.8967 - prc: 0.9041 - val_loss: 0.3911 - val_tp: 10.0000 - val_fp: 0.0000e+00 - val_tn: 29.0000 - val_fn: 6.0000 - val_accuracy: 0.8667 - val_precision: 1.0000 - val_recall: 0.6250 - val_auc: 0.8287 - val_prc: 0.8296 - 592ms/epoch - 197ms/step\n",
      "Epoch 13/50\n",
      "3/3 - 1s - loss: 0.3592 - tp: 24.0000 - fp: 2.0000 - tn: 53.0000 - fn: 9.0000 - accuracy: 0.8750 - precision: 0.9231 - recall: 0.7273 - auc: 0.8565 - prc: 0.8660 - val_loss: 0.4070 - val_tp: 10.0000 - val_fp: 3.0000 - val_tn: 26.0000 - val_fn: 6.0000 - val_accuracy: 0.8000 - val_precision: 0.7692 - val_recall: 0.6250 - val_auc: 0.8341 - val_prc: 0.8363 - 577ms/epoch - 192ms/step\n",
      "Epoch 14/50\n",
      "3/3 - 1s - loss: 0.3314 - tp: 24.0000 - fp: 1.0000 - tn: 54.0000 - fn: 9.0000 - accuracy: 0.8864 - precision: 0.9600 - recall: 0.7273 - auc: 0.9096 - prc: 0.9047 - val_loss: 0.3831 - val_tp: 10.0000 - val_fp: 0.0000e+00 - val_tn: 29.0000 - val_fn: 6.0000 - val_accuracy: 0.8667 - val_precision: 1.0000 - val_recall: 0.6250 - val_auc: 0.8341 - val_prc: 0.8361 - 683ms/epoch - 228ms/step\n",
      "Epoch 15/50\n",
      "3/3 - 1s - loss: 0.3337 - tp: 22.0000 - fp: 1.0000 - tn: 54.0000 - fn: 11.0000 - accuracy: 0.8636 - precision: 0.9565 - recall: 0.6667 - auc: 0.8826 - prc: 0.8915 - val_loss: 0.3826 - val_tp: 10.0000 - val_fp: 0.0000e+00 - val_tn: 29.0000 - val_fn: 6.0000 - val_accuracy: 0.8667 - val_precision: 1.0000 - val_recall: 0.6250 - val_auc: 0.8341 - val_prc: 0.8378 - 599ms/epoch - 200ms/step\n",
      "Epoch 16/50\n",
      "3/3 - 1s - loss: 0.3170 - tp: 24.0000 - fp: 1.0000 - tn: 54.0000 - fn: 9.0000 - accuracy: 0.8864 - precision: 0.9600 - recall: 0.7273 - auc: 0.9176 - prc: 0.9120 - val_loss: 0.3833 - val_tp: 10.0000 - val_fp: 0.0000e+00 - val_tn: 29.0000 - val_fn: 6.0000 - val_accuracy: 0.8667 - val_precision: 1.0000 - val_recall: 0.6250 - val_auc: 0.8341 - val_prc: 0.8353 - 597ms/epoch - 199ms/step\n",
      "Epoch 17/50\n",
      "3/3 - 1s - loss: 0.3098 - tp: 23.0000 - fp: 1.0000 - tn: 54.0000 - fn: 10.0000 - accuracy: 0.8750 - precision: 0.9583 - recall: 0.6970 - auc: 0.9245 - prc: 0.9246 - val_loss: 0.3754 - val_tp: 10.0000 - val_fp: 0.0000e+00 - val_tn: 29.0000 - val_fn: 6.0000 - val_accuracy: 0.8667 - val_precision: 1.0000 - val_recall: 0.6250 - val_auc: 0.8394 - val_prc: 0.8388 - 736ms/epoch - 245ms/step\n",
      "Epoch 18/50\n",
      "3/3 - 1s - loss: 0.3108 - tp: 24.0000 - fp: 1.0000 - tn: 54.0000 - fn: 9.0000 - accuracy: 0.8864 - precision: 0.9600 - recall: 0.7273 - auc: 0.9047 - prc: 0.9007 - val_loss: 0.3701 - val_tp: 10.0000 - val_fp: 0.0000e+00 - val_tn: 29.0000 - val_fn: 6.0000 - val_accuracy: 0.8667 - val_precision: 1.0000 - val_recall: 0.6250 - val_auc: 0.8448 - val_prc: 0.8423 - 596ms/epoch - 199ms/step\n",
      "Epoch 19/50\n",
      "3/3 - 1s - loss: 0.2787 - tp: 23.0000 - fp: 0.0000e+00 - tn: 55.0000 - fn: 10.0000 - accuracy: 0.8864 - precision: 1.0000 - recall: 0.6970 - auc: 0.9650 - prc: 0.9563 - val_loss: 0.3839 - val_tp: 10.0000 - val_fp: 0.0000e+00 - val_tn: 29.0000 - val_fn: 6.0000 - val_accuracy: 0.8667 - val_precision: 1.0000 - val_recall: 0.6250 - val_auc: 0.8394 - val_prc: 0.8376 - 547ms/epoch - 182ms/step\n",
      "Epoch 20/50\n",
      "3/3 - 1s - loss: 0.3155 - tp: 25.0000 - fp: 3.0000 - tn: 52.0000 - fn: 8.0000 - accuracy: 0.8750 - precision: 0.8929 - recall: 0.7576 - auc: 0.9088 - prc: 0.9087 - val_loss: 0.4316 - val_tp: 10.0000 - val_fp: 4.0000 - val_tn: 25.0000 - val_fn: 6.0000 - val_accuracy: 0.7778 - val_precision: 0.7143 - val_recall: 0.6250 - val_auc: 0.8405 - val_prc: 0.8381 - 553ms/epoch - 184ms/step\n",
      "Epoch 21/50\n",
      "3/3 - 1s - loss: 0.2700 - tp: 25.0000 - fp: 0.0000e+00 - tn: 55.0000 - fn: 8.0000 - accuracy: 0.9091 - precision: 1.0000 - recall: 0.7576 - auc: 0.9625 - prc: 0.9499 - val_loss: 0.3904 - val_tp: 10.0000 - val_fp: 1.0000 - val_tn: 28.0000 - val_fn: 6.0000 - val_accuracy: 0.8444 - val_precision: 0.9091 - val_recall: 0.6250 - val_auc: 0.8405 - val_prc: 0.8370 - 518ms/epoch - 173ms/step\n"
     ]
    },
    {
     "name": "stdout",
     "output_type": "stream",
     "text": [
      "Epoch 22/50\n",
      "3/3 - 1s - loss: 0.2807 - tp: 24.0000 - fp: 1.0000 - tn: 54.0000 - fn: 9.0000 - accuracy: 0.8864 - precision: 0.9600 - recall: 0.7273 - auc: 0.9397 - prc: 0.9345 - val_loss: 0.3679 - val_tp: 10.0000 - val_fp: 0.0000e+00 - val_tn: 29.0000 - val_fn: 6.0000 - val_accuracy: 0.8667 - val_precision: 1.0000 - val_recall: 0.6250 - val_auc: 0.8481 - val_prc: 0.8460 - 549ms/epoch - 183ms/step\n",
      "Epoch 23/50\n",
      "3/3 - 1s - loss: 0.2680 - tp: 23.0000 - fp: 0.0000e+00 - tn: 55.0000 - fn: 10.0000 - accuracy: 0.8864 - precision: 1.0000 - recall: 0.6970 - auc: 0.9623 - prc: 0.9566 - val_loss: 0.3699 - val_tp: 10.0000 - val_fp: 0.0000e+00 - val_tn: 29.0000 - val_fn: 6.0000 - val_accuracy: 0.8667 - val_precision: 1.0000 - val_recall: 0.6250 - val_auc: 0.8448 - val_prc: 0.8418 - 525ms/epoch - 175ms/step\n",
      "Epoch 24/50\n",
      "3/3 - 1s - loss: 0.2496 - tp: 24.0000 - fp: 0.0000e+00 - tn: 55.0000 - fn: 9.0000 - accuracy: 0.8977 - precision: 1.0000 - recall: 0.7273 - auc: 0.9683 - prc: 0.9619 - val_loss: 0.4157 - val_tp: 10.0000 - val_fp: 4.0000 - val_tn: 25.0000 - val_fn: 6.0000 - val_accuracy: 0.7778 - val_precision: 0.7143 - val_recall: 0.6250 - val_auc: 0.8362 - val_prc: 0.8321 - 530ms/epoch - 177ms/step\n",
      "Epoch 25/50\n",
      "3/3 - 1s - loss: 0.2559 - tp: 25.0000 - fp: 1.0000 - tn: 54.0000 - fn: 8.0000 - accuracy: 0.8977 - precision: 0.9615 - recall: 0.7576 - auc: 0.9713 - prc: 0.9598 - val_loss: 0.4124 - val_tp: 10.0000 - val_fp: 4.0000 - val_tn: 25.0000 - val_fn: 6.0000 - val_accuracy: 0.7778 - val_precision: 0.7143 - val_recall: 0.6250 - val_auc: 0.8362 - val_prc: 0.8321 - 523ms/epoch - 174ms/step\n",
      "Epoch 26/50\n",
      "3/3 - 1s - loss: 0.2243 - tp: 26.0000 - fp: 0.0000e+00 - tn: 55.0000 - fn: 7.0000 - accuracy: 0.9205 - precision: 1.0000 - recall: 0.7879 - auc: 0.9760 - prc: 0.9702 - val_loss: 0.3970 - val_tp: 10.0000 - val_fp: 1.0000 - val_tn: 28.0000 - val_fn: 6.0000 - val_accuracy: 0.8444 - val_precision: 0.9091 - val_recall: 0.6250 - val_auc: 0.8405 - val_prc: 0.8361 - 520ms/epoch - 173ms/step\n",
      "Epoch 27/50\n",
      "3/3 - 1s - loss: 0.2399 - tp: 24.0000 - fp: 0.0000e+00 - tn: 55.0000 - fn: 9.0000 - accuracy: 0.8977 - precision: 1.0000 - recall: 0.7273 - auc: 0.9824 - prc: 0.9731 - val_loss: 0.3874 - val_tp: 10.0000 - val_fp: 1.0000 - val_tn: 28.0000 - val_fn: 6.0000 - val_accuracy: 0.8444 - val_precision: 0.9091 - val_recall: 0.6250 - val_auc: 0.8373 - val_prc: 0.8331 - 514ms/epoch - 171ms/step\n",
      "Epoch 28/50\n",
      "3/3 - 0s - loss: 0.2391 - tp: 24.0000 - fp: 0.0000e+00 - tn: 55.0000 - fn: 9.0000 - accuracy: 0.8977 - precision: 1.0000 - recall: 0.7273 - auc: 0.9700 - prc: 0.9602 - val_loss: 0.3842 - val_tp: 10.0000 - val_fp: 1.0000 - val_tn: 28.0000 - val_fn: 6.0000 - val_accuracy: 0.8444 - val_precision: 0.9091 - val_recall: 0.6250 - val_auc: 0.8351 - val_prc: 0.8311 - 499ms/epoch - 166ms/step\n",
      "Epoch 29/50\n",
      "3/3 - 1s - loss: 0.2289 - tp: 25.0000 - fp: 0.0000e+00 - tn: 55.0000 - fn: 8.0000 - accuracy: 0.9091 - precision: 1.0000 - recall: 0.7576 - auc: 0.9821 - prc: 0.9787 - val_loss: 0.4067 - val_tp: 10.0000 - val_fp: 4.0000 - val_tn: 25.0000 - val_fn: 6.0000 - val_accuracy: 0.7778 - val_precision: 0.7143 - val_recall: 0.6250 - val_auc: 0.8394 - val_prc: 0.8338 - 528ms/epoch - 176ms/step\n",
      "Epoch 30/50\n",
      "3/3 - 1s - loss: 0.2124 - tp: 27.0000 - fp: 0.0000e+00 - tn: 55.0000 - fn: 6.0000 - accuracy: 0.9318 - precision: 1.0000 - recall: 0.8182 - auc: 0.9810 - prc: 0.9786 - val_loss: 0.3967 - val_tp: 10.0000 - val_fp: 2.0000 - val_tn: 27.0000 - val_fn: 6.0000 - val_accuracy: 0.8222 - val_precision: 0.8333 - val_recall: 0.6250 - val_auc: 0.8362 - val_prc: 0.8315 - 510ms/epoch - 170ms/step\n",
      "Epoch 31/50\n",
      "3/3 - 1s - loss: 0.2164 - tp: 25.0000 - fp: 0.0000e+00 - tn: 55.0000 - fn: 8.0000 - accuracy: 0.9091 - precision: 1.0000 - recall: 0.7576 - auc: 0.9744 - prc: 0.9704 - val_loss: 0.3974 - val_tp: 10.0000 - val_fp: 1.0000 - val_tn: 28.0000 - val_fn: 6.0000 - val_accuracy: 0.8444 - val_precision: 0.9091 - val_recall: 0.6250 - val_auc: 0.8394 - val_prc: 0.8338 - 510ms/epoch - 170ms/step\n",
      "Epoch 32/50\n",
      "3/3 - 1s - loss: 0.1983 - tp: 25.0000 - fp: 0.0000e+00 - tn: 55.0000 - fn: 8.0000 - accuracy: 0.9091 - precision: 1.0000 - recall: 0.7576 - auc: 0.9915 - prc: 0.9885 - val_loss: 0.3993 - val_tp: 10.0000 - val_fp: 2.0000 - val_tn: 27.0000 - val_fn: 6.0000 - val_accuracy: 0.8222 - val_precision: 0.8333 - val_recall: 0.6250 - val_auc: 0.8394 - val_prc: 0.8326 - 516ms/epoch - 172ms/step\n"
     ]
    },
    {
     "data": {
      "image/png": "[encoded data removed]",
      "text/plain": [
       "<Figure size 640x480 with 1 Axes>"
      ]
     },
     "metadata": {},
     "output_type": "display_data"
    },
    {
     "name": "stdout",
     "output_type": "stream",
     "text": [
      "loss :  0.36792153120040894\n",
      "tp :  10.0\n",
      "fp :  0.0\n",
      "tn :  29.0\n",
      "fn :  6.0\n",
      "accuracy :  0.8666666746139526\n",
      "Accuracy on validation set: 0.8666666746139526\n",
      "precision :  1.0\n",
      "recall :  0.625\n",
      "auc :  0.8480603694915771\n",
      "prc :  0.8459748029708862\n",
      "Epoch 1/50\n",
      "3/3 - 2s - loss: 1.1031 - tp: 18.0000 - fp: 14.0000 - tn: 77.0000 - fn: 25.0000 - accuracy: 0.7090 - precision: 0.5625 - recall: 0.4186 - auc: 0.5610 - prc: 0.5866 - val_loss: 0.5163 - val_tp: 16.0000 - val_fp: 3.0000 - val_tn: 19.0000 - val_fn: 6.0000 - val_accuracy: 0.7955 - val_precision: 0.8421 - val_recall: 0.7273 - val_auc: 0.7490 - val_prc: 0.7894 - 2s/epoch - 781ms/step\n",
      "Epoch 2/50\n",
      "3/3 - 1s - loss: 0.6042 - tp: 19.0000 - fp: 13.0000 - tn: 49.0000 - fn: 8.0000 - accuracy: 0.7640 - precision: 0.5938 - recall: 0.7037 - auc: 0.8318 - prc: 0.7815 - val_loss: 0.4844 - val_tp: 16.0000 - val_fp: 1.0000 - val_tn: 21.0000 - val_fn: 6.0000 - val_accuracy: 0.8409 - val_precision: 0.9412 - val_recall: 0.7273 - val_auc: 0.7366 - val_prc: 0.7372 - 600ms/epoch - 200ms/step\n",
      "Epoch 3/50\n",
      "3/3 - 1s - loss: 0.4473 - tp: 18.0000 - fp: 4.0000 - tn: 58.0000 - fn: 9.0000 - accuracy: 0.8539 - precision: 0.8182 - recall: 0.6667 - auc: 0.7894 - prc: 0.7484 - val_loss: 0.6677 - val_tp: 12.0000 - val_fp: 1.0000 - val_tn: 21.0000 - val_fn: 10.0000 - val_accuracy: 0.7500 - val_precision: 0.9231 - val_recall: 0.5455 - val_auc: 0.7417 - val_prc: 0.7340 - 551ms/epoch - 184ms/step\n",
      "Epoch 4/50\n",
      "3/3 - 1s - loss: 0.3752 - tp: 17.0000 - fp: 0.0000e+00 - tn: 62.0000 - fn: 10.0000 - accuracy: 0.8876 - precision: 1.0000 - recall: 0.6296 - auc: 0.8554 - prc: 0.8305 - val_loss: 0.7672 - val_tp: 12.0000 - val_fp: 1.0000 - val_tn: 21.0000 - val_fn: 10.0000 - val_accuracy: 0.7500 - val_precision: 0.9231 - val_recall: 0.5455 - val_auc: 0.7283 - val_prc: 0.7263 - 540ms/epoch - 180ms/step\n",
      "Epoch 5/50\n",
      "3/3 - 1s - loss: 0.4059 - tp: 17.0000 - fp: 0.0000e+00 - tn: 62.0000 - fn: 10.0000 - accuracy: 0.8876 - precision: 1.0000 - recall: 0.6296 - auc: 0.8097 - prc: 0.7980 - val_loss: 0.6812 - val_tp: 13.0000 - val_fp: 1.0000 - val_tn: 21.0000 - val_fn: 9.0000 - val_accuracy: 0.7727 - val_precision: 0.9286 - val_recall: 0.5909 - val_auc: 0.7552 - val_prc: 0.7629 - 546ms/epoch - 182ms/step\n",
      "Epoch 6/50\n",
      "3/3 - 1s - loss: 0.3520 - tp: 18.0000 - fp: 0.0000e+00 - tn: 62.0000 - fn: 9.0000 - accuracy: 0.8989 - precision: 1.0000 - recall: 0.6667 - auc: 0.8178 - prc: 0.8168 - val_loss: 0.5820 - val_tp: 15.0000 - val_fp: 1.0000 - val_tn: 21.0000 - val_fn: 7.0000 - val_accuracy: 0.8182 - val_precision: 0.9375 - val_recall: 0.6818 - val_auc: 0.7521 - val_prc: 0.7955 - 552ms/epoch - 184ms/step\n",
      "Epoch 7/50\n",
      "3/3 - 1s - loss: 0.3988 - tp: 17.0000 - fp: 6.0000 - tn: 56.0000 - fn: 10.0000 - accuracy: 0.8202 - precision: 0.7391 - recall: 0.6296 - auc: 0.8826 - prc: 0.8354 - val_loss: 0.5850 - val_tp: 15.0000 - val_fp: 1.0000 - val_tn: 21.0000 - val_fn: 7.0000 - val_accuracy: 0.8182 - val_precision: 0.9375 - val_recall: 0.6818 - val_auc: 0.7572 - val_prc: 0.7973 - 637ms/epoch - 212ms/step\n",
      "Epoch 8/50\n",
      "3/3 - 1s - loss: 0.3518 - tp: 18.0000 - fp: 1.0000 - tn: 61.0000 - fn: 9.0000 - accuracy: 0.8876 - precision: 0.9474 - recall: 0.6667 - auc: 0.8306 - prc: 0.8174 - val_loss: 0.6414 - val_tp: 15.0000 - val_fp: 1.0000 - val_tn: 21.0000 - val_fn: 7.0000 - val_accuracy: 0.8182 - val_precision: 0.9375 - val_recall: 0.6818 - val_auc: 0.7242 - val_prc: 0.7432 - 688ms/epoch - 229ms/step\n",
      "Epoch 9/50\n",
      "3/3 - 1s - loss: 0.3152 - tp: 17.0000 - fp: 0.0000e+00 - tn: 62.0000 - fn: 10.0000 - accuracy: 0.8876 - precision: 1.0000 - recall: 0.6296 - auc: 0.8781 - prc: 0.8622 - val_loss: 0.6318 - val_tp: 14.0000 - val_fp: 1.0000 - val_tn: 21.0000 - val_fn: 8.0000 - val_accuracy: 0.7955 - val_precision: 0.9333 - val_recall: 0.6364 - val_auc: 0.7076 - val_prc: 0.7194 - 652ms/epoch - 217ms/step\n",
      "Epoch 10/50\n",
      "3/3 - 1s - loss: 0.3320 - tp: 17.0000 - fp: 0.0000e+00 - tn: 62.0000 - fn: 10.0000 - accuracy: 0.8876 - precision: 1.0000 - recall: 0.6296 - auc: 0.8375 - prc: 0.8308 - val_loss: 0.6153 - val_tp: 14.0000 - val_fp: 1.0000 - val_tn: 21.0000 - val_fn: 8.0000 - val_accuracy: 0.7955 - val_precision: 0.9333 - val_recall: 0.6364 - val_auc: 0.7076 - val_prc: 0.7548 - 665ms/epoch - 222ms/step\n",
      "Epoch 11/50\n",
      "3/3 - 1s - loss: 0.3300 - tp: 17.0000 - fp: 0.0000e+00 - tn: 62.0000 - fn: 10.0000 - accuracy: 0.8876 - precision: 1.0000 - recall: 0.6296 - auc: 0.8498 - prc: 0.8214 - val_loss: 0.5598 - val_tp: 15.0000 - val_fp: 1.0000 - val_tn: 21.0000 - val_fn: 7.0000 - val_accuracy: 0.8182 - val_precision: 0.9375 - val_recall: 0.6818 - val_auc: 0.7025 - val_prc: 0.7172 - 688ms/epoch - 229ms/step\n",
      "Epoch 12/50\n",
      "3/3 - 1s - loss: 0.3108 - tp: 17.0000 - fp: 0.0000e+00 - tn: 62.0000 - fn: 10.0000 - accuracy: 0.8876 - precision: 1.0000 - recall: 0.6296 - auc: 0.9002 - prc: 0.8617 - val_loss: 0.5355 - val_tp: 15.0000 - val_fp: 1.0000 - val_tn: 21.0000 - val_fn: 7.0000 - val_accuracy: 0.8182 - val_precision: 0.9375 - val_recall: 0.6818 - val_auc: 0.7118 - val_prc: 0.7191 - 594ms/epoch - 198ms/step\n"
     ]
    },
    {
     "data": {
      "image/png": "[encoded data removed]",
      "text/plain": [
       "<Figure size 640x480 with 1 Axes>"
      ]
     },
     "metadata": {},
     "output_type": "display_data"
    },
    {
     "name": "stdout",
     "output_type": "stream",
     "text": [
      "loss :  0.48440656065940857\n",
      "tp :  16.0\n",
      "fp :  1.0\n",
      "tn :  21.0\n",
      "fn :  6.0\n",
      "accuracy :  0.8409090638160706\n",
      "Accuracy on validation set: 0.8409090638160706\n",
      "precision :  0.9411764740943909\n",
      "recall :  0.7272727489471436\n",
      "auc :  0.7365702390670776\n",
      "prc :  0.7372211217880249\n",
      "Epoch 1/50\n",
      "3/3 - 2s - loss: 0.5645 - tp: 37.0000 - fp: 4.0000 - tn: 69.0000 - fn: 23.0000 - accuracy: 0.7970 - precision: 0.9024 - recall: 0.6167 - auc: 0.7939 - prc: 0.8128 - val_loss: 0.3000 - val_tp: 7.0000 - val_fp: 0.0000e+00 - val_tn: 33.0000 - val_fn: 4.0000 - val_accuracy: 0.9091 - val_precision: 1.0000 - val_recall: 0.6364 - val_auc: 0.8567 - val_prc: 0.8471 - 2s/epoch - 768ms/step\n",
      "Epoch 2/50\n",
      "3/3 - 1s - loss: 0.4971 - tp: 24.0000 - fp: 2.0000 - tn: 49.0000 - fn: 14.0000 - accuracy: 0.8202 - precision: 0.9231 - recall: 0.6316 - auc: 0.7972 - prc: 0.8227 - val_loss: 0.2791 - val_tp: 8.0000 - val_fp: 1.0000 - val_tn: 32.0000 - val_fn: 3.0000 - val_accuracy: 0.9091 - val_precision: 0.8889 - val_recall: 0.7273 - val_auc: 0.8581 - val_prc: 0.8475 - 565ms/epoch - 188ms/step\n",
      "Epoch 3/50\n",
      "3/3 - 1s - loss: 0.5038 - tp: 25.0000 - fp: 4.0000 - tn: 47.0000 - fn: 13.0000 - accuracy: 0.8090 - precision: 0.8621 - recall: 0.6579 - auc: 0.8117 - prc: 0.8141 - val_loss: 0.2978 - val_tp: 8.0000 - val_fp: 0.0000e+00 - val_tn: 33.0000 - val_fn: 3.0000 - val_accuracy: 0.9318 - val_precision: 1.0000 - val_recall: 0.7273 - val_auc: 0.8609 - val_prc: 0.8483 - 545ms/epoch - 182ms/step\n",
      "Epoch 4/50\n",
      "3/3 - 1s - loss: 0.4648 - tp: 25.0000 - fp: 3.0000 - tn: 48.0000 - fn: 13.0000 - accuracy: 0.8202 - precision: 0.8929 - recall: 0.6579 - auc: 0.8393 - prc: 0.8261 - val_loss: 0.3382 - val_tp: 7.0000 - val_fp: 0.0000e+00 - val_tn: 33.0000 - val_fn: 4.0000 - val_accuracy: 0.9091 - val_precision: 1.0000 - val_recall: 0.6364 - val_auc: 0.8623 - val_prc: 0.8444 - 599ms/epoch - 200ms/step\n",
      "Epoch 5/50\n",
      "3/3 - 1s - loss: 0.4381 - tp: 24.0000 - fp: 1.0000 - tn: 50.0000 - fn: 14.0000 - accuracy: 0.8315 - precision: 0.9600 - recall: 0.6316 - auc: 0.8194 - prc: 0.8477 - val_loss: 0.3383 - val_tp: 7.0000 - val_fp: 0.0000e+00 - val_tn: 33.0000 - val_fn: 4.0000 - val_accuracy: 0.9091 - val_precision: 1.0000 - val_recall: 0.6364 - val_auc: 0.7975 - val_prc: 0.7954 - 539ms/epoch - 180ms/step\n",
      "Epoch 6/50\n",
      "3/3 - 1s - loss: 0.3640 - tp: 25.0000 - fp: 1.0000 - tn: 50.0000 - fn: 13.0000 - accuracy: 0.8427 - precision: 0.9615 - recall: 0.6579 - auc: 0.9311 - prc: 0.9210 - val_loss: 0.3693 - val_tp: 7.0000 - val_fp: 0.0000e+00 - val_tn: 33.0000 - val_fn: 4.0000 - val_accuracy: 0.9091 - val_precision: 1.0000 - val_recall: 0.6364 - val_auc: 0.8085 - val_prc: 0.7986 - 520ms/epoch - 173ms/step\n",
      "Epoch 7/50\n",
      "3/3 - 1s - loss: 0.3986 - tp: 27.0000 - fp: 1.0000 - tn: 50.0000 - fn: 11.0000 - accuracy: 0.8652 - precision: 0.9643 - recall: 0.7105 - auc: 0.8834 - prc: 0.8838 - val_loss: 0.3674 - val_tp: 7.0000 - val_fp: 0.0000e+00 - val_tn: 33.0000 - val_fn: 4.0000 - val_accuracy: 0.9091 - val_precision: 1.0000 - val_recall: 0.6364 - val_auc: 0.8017 - val_prc: 0.7956 - 535ms/epoch - 178ms/step\n",
      "Epoch 8/50\n",
      "3/3 - 1s - loss: 0.3819 - tp: 26.0000 - fp: 2.0000 - tn: 49.0000 - fn: 12.0000 - accuracy: 0.8427 - precision: 0.9286 - recall: 0.6842 - auc: 0.8965 - prc: 0.8989 - val_loss: 0.3364 - val_tp: 7.0000 - val_fp: 0.0000e+00 - val_tn: 33.0000 - val_fn: 4.0000 - val_accuracy: 0.9091 - val_precision: 1.0000 - val_recall: 0.6364 - val_auc: 0.7920 - val_prc: 0.7935 - 548ms/epoch - 183ms/step\n",
      "Epoch 9/50\n",
      "3/3 - 1s - loss: 0.3460 - tp: 25.0000 - fp: 1.0000 - tn: 50.0000 - fn: 13.0000 - accuracy: 0.8427 - precision: 0.9615 - recall: 0.6579 - auc: 0.9579 - prc: 0.9437 - val_loss: 0.3386 - val_tp: 7.0000 - val_fp: 0.0000e+00 - val_tn: 33.0000 - val_fn: 4.0000 - val_accuracy: 0.9091 - val_precision: 1.0000 - val_recall: 0.6364 - val_auc: 0.8003 - val_prc: 0.7964 - 545ms/epoch - 182ms/step\n",
      "Epoch 10/50\n",
      "3/3 - 1s - loss: 0.3355 - tp: 26.0000 - fp: 1.0000 - tn: 50.0000 - fn: 12.0000 - accuracy: 0.8539 - precision: 0.9630 - recall: 0.6842 - auc: 0.9159 - prc: 0.9291 - val_loss: 0.3853 - val_tp: 7.0000 - val_fp: 0.0000e+00 - val_tn: 33.0000 - val_fn: 4.0000 - val_accuracy: 0.9091 - val_precision: 1.0000 - val_recall: 0.6364 - val_auc: 0.7948 - val_prc: 0.7932 - 561ms/epoch - 187ms/step\n",
      "Epoch 11/50\n",
      "3/3 - 1s - loss: 0.3493 - tp: 31.0000 - fp: 2.0000 - tn: 49.0000 - fn: 7.0000 - accuracy: 0.8989 - precision: 0.9394 - recall: 0.8158 - auc: 0.9623 - prc: 0.9554 - val_loss: 0.3492 - val_tp: 7.0000 - val_fp: 0.0000e+00 - val_tn: 33.0000 - val_fn: 4.0000 - val_accuracy: 0.9091 - val_precision: 1.0000 - val_recall: 0.6364 - val_auc: 0.7948 - val_prc: 0.7930 - 560ms/epoch - 187ms/step\n",
      "Epoch 12/50\n",
      "3/3 - 1s - loss: 0.2917 - tp: 28.0000 - fp: 1.0000 - tn: 50.0000 - fn: 10.0000 - accuracy: 0.8764 - precision: 0.9655 - recall: 0.7368 - auc: 0.9657 - prc: 0.9637 - val_loss: 0.3242 - val_tp: 7.0000 - val_fp: 0.0000e+00 - val_tn: 33.0000 - val_fn: 4.0000 - val_accuracy: 0.9091 - val_precision: 1.0000 - val_recall: 0.6364 - val_auc: 0.7865 - val_prc: 0.7841 - 555ms/epoch - 185ms/step\n"
     ]
    },
    {
     "data": {
      "image/png": "[encoded data removed]",
      "text/plain": [
       "<Figure size 640x480 with 1 Axes>"
      ]
     },
     "metadata": {},
     "output_type": "display_data"
    },
    {
     "name": "stdout",
     "output_type": "stream",
     "text": [
      "loss :  0.2791365683078766\n",
      "tp :  8.0\n",
      "fp :  1.0\n",
      "tn :  32.0\n",
      "fn :  3.0\n",
      "accuracy :  0.9090909361839294\n",
      "Accuracy on validation set: 0.9090909361839294\n",
      "precision :  0.8888888955116272\n",
      "recall :  0.7272727489471436\n",
      "auc :  0.858126699924469\n",
      "prc :  0.8475106954574585\n",
      "results [0.8666666746139526, 0.8409090638160706, 0.9090909361839294]\n",
      "K-fold cross-validation accuracy: 0.8722222248713175\n",
      "1/1 [==============================] - 0s 104ms/step\n",
      "Accuracy on holdout set: 0.8666666666666667\n",
      "Balanced Accuracy on holdout set: 0.8500000000000001\n",
      "\n",
      "Classification Report:\n",
      "\n",
      "              precision    recall  f1-score   support\n",
      "\n",
      "           0      0.900     0.900     0.900        10\n",
      "           1      0.800     0.800     0.800         5\n",
      "\n",
      "    accuracy                          0.867        15\n",
      "   macro avg      0.850     0.850     0.850        15\n",
      "weighted avg      0.867     0.867     0.867        15\n",
      "\n"
     ]
    },
    {
     "data": {
      "image/png": "[encoded data removed]",
      "text/plain": [
       "<Figure size 400x300 with 2 Axes>"
      ]
     },
     "metadata": {},
     "output_type": "display_data"
    },
    {
     "data": {
      "image/png": "[encoded data removed]",
      "text/plain": [
       "<Figure size 400x300 with 2 Axes>"
      ]
     },
     "metadata": {},
     "output_type": "display_data"
    },
    {
     "name": "stdout",
     "output_type": "stream",
     "text": [
      "True Positive(TP)  =  4\n",
      "False Positive(FP) =  1\n",
      "True Negative(TN)  =  9\n",
      "False Negative(FN) =  1\n",
      "Accuracy of the binary classifier = 0.867\n"
     ]
    }
   ],
   "source": [
    "results = []\n",
    "\n",
    "for train_index, val_index in kf.split(X_train):\n",
    "    # split the dataset into training and validation sets for this fold\n",
    "    X_train_kf, X_val_kf = X_train[train_index], X_train[val_index]\n",
    "    y_train_kf, y_val_kf = y_train[train_index], y_train[val_index]\n",
    "    \n",
    "    model = Baseline(input_dim)\n",
    "    \n",
    "    history = model.train(X_train_kf, y_train_kf, X_val_kf, y_val_kf, epochs, batch_size)\n",
    "    plt.plot(history.history['loss'])\n",
    "    plt.show()\n",
    "    \n",
    "    results_m = model.evaluate(X_val_kf, y_val_kf)\n",
    "    \n",
    "    for name, value in zip(model.metrics_names(), results_m):\n",
    "        print(name, ': ', value)\n",
    "        if name == 'accuracy':\n",
    "            accuracy_kf = value\n",
    "            results.append(accuracy_kf)\n",
    "            print(f\"Accuracy on validation set: {accuracy_kf}\")\n",
    "    \n",
    "# Calculate the average accuracy score for the K-fold cross-validation\n",
    "print(\"results\",results)\n",
    "print(f\"K-fold cross-validation accuracy: {sum(results) / len(results)}\")\n",
    "\n",
    "y_pred_holdout = model.predict(X_holdout)\n",
    "accuracy_holdout = accuracy_score(np.round(y_holdout), np.round(y_pred_holdout))\n",
    "print(f\"Accuracy on holdout set: {accuracy_holdout}\")\n",
    "\n",
    "balanced_accuracy_holdout = balanced_accuracy_score(np.round(y_holdout), np.round(y_pred_holdout))\n",
    "print(f\"Balanced Accuracy on holdout set: {balanced_accuracy_holdout}\")\n",
    "\n",
    "print(\"\\nClassification Report:\\n\")\n",
    "print(classification_report(np.round(y_holdout), np.round(y_pred_holdout), digits = 3))\n",
    "\n",
    "cm = confusion_matrix(np.round(y_holdout), np.round(y_pred_holdout))\n",
    "heat_map(cm)\n",
    "heat_map_n(np.round(y_holdout), np.round(y_pred_holdout))\n",
    "TN, FP, FN, TP = confusion_matrix(np.round(y_holdout), np.round(y_pred_holdout)).ravel()\n",
    "print('True Positive(TP)  = ', TP)\n",
    "print('False Positive(FP) = ', FP)\n",
    "print('True Negative(TN)  = ', TN)\n",
    "print('False Negative(FN) = ', FN)\n",
    "\n",
    "accuracy =  (TP + TN) / (TP + FP + TN + FN)\n",
    "print('Accuracy of the binary classifier = {:0.3f}'.format(accuracy))"
   ]
  },
  {
   "cell_type": "code",
   "execution_count": 23,
   "id": "5d4b1d34",
   "metadata": {},
   "outputs": [
    {
     "name": "stdout",
     "output_type": "stream",
     "text": [
      "Accuracy: 86.67%\n",
      "Balanced Accuracy: 85.00%\n",
      "AUC: 0.85\n",
      "Precision: 0.80\n",
      "Recall: 0.80\n",
      "F1 score: 0.80\n"
     ]
    }
   ],
   "source": [
    "# Calculate performance metrics\n",
    "accuracy = accuracy_score(np.round(y_holdout), np.round(y_pred_holdout)) * 100\n",
    "balanced_accuracy = balanced_accuracy_score(np.round(y_holdout), np.round(y_pred_holdout)) * 100\n",
    "auc = roc_auc_score(np.round(y_holdout), np.round(y_pred_holdout))\n",
    "precision = precision_score(np.round(y_holdout), np.round(y_pred_holdout))\n",
    "recall = recall_score(np.round(y_holdout), np.round(y_pred_holdout))\n",
    "f1 = f1_score(np.round(y_holdout), np.round(y_pred_holdout))\n",
    "\n",
    "# Print results\n",
    "print(f\"Accuracy: {accuracy:.2f}%\")\n",
    "print(f\"Balanced Accuracy: {balanced_accuracy:.2f}%\")\n",
    "print(f\"AUC: {auc:.2f}\")\n",
    "print(f\"Precision: {precision:.2f}\")\n",
    "print(f\"Recall: {recall:.2f}\")\n",
    "print(f\"F1 score: {f1:.2f}\")"
   ]
  },
  {
   "cell_type": "code",
   "execution_count": 24,
   "id": "8d1f35c4",
   "metadata": {},
   "outputs": [],
   "source": [
    "#STOP"
   ]
  }
 ],
 "metadata": {
  "kernelspec": {
   "display_name": "Python 3 (ipykernel)",
   "language": "python",
   "name": "python3"
  },
  "language_info": {
   "codemirror_mode": {
    "name": "ipython",
    "version": 3
   },
   "file_extension": ".py",
   "mimetype": "text/x-python",
   "name": "python",
   "nbconvert_exporter": "python",
   "pygments_lexer": "ipython3",
   "version": "3.9.6"
  }
 },
 "nbformat": 4,
 "nbformat_minor": 5
}
