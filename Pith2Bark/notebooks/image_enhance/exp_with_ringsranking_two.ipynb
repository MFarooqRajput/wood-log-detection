{
 "cells": [
  {
   "cell_type": "code",
   "execution_count": 1,
   "id": "f2bc938e",
   "metadata": {},
   "outputs": [
    {
     "name": "stdout",
     "output_type": "stream",
     "text": [
      "/Users/muhammadfarooq/Codebase/thesis-experiment/Pith2Bark\n"
     ]
    }
   ],
   "source": [
    "cd .."
   ]
  },
  {
   "cell_type": "code",
   "execution_count": 2,
   "id": "24b79f2e",
   "metadata": {},
   "outputs": [
    {
     "name": "stderr",
     "output_type": "stream",
     "text": [
      "2023-03-29 13:49:17.284110: I tensorflow/core/platform/cpu_feature_guard.cc:193] This TensorFlow binary is optimized with oneAPI Deep Neural Network Library (oneDNN) to use the following CPU instructions in performance-critical operations:  AVX2 AVX512F AVX512_VNNI FMA\n",
      "To enable them in other operations, rebuild TensorFlow with the appropriate compiler flags.\n"
     ]
    }
   ],
   "source": [
    "from src.experiment import with_model\n",
    "from src.model import Model\n",
    "from src.multi_mse import multi_mse"
   ]
  },
  {
   "cell_type": "markdown",
   "id": "a382f8b5",
   "metadata": {},
   "source": [
    "# Configurations"
   ]
  },
  {
   "cell_type": "code",
   "execution_count": 3,
   "id": "1aef55ef",
   "metadata": {},
   "outputs": [],
   "source": [
    "#data directory here!\n",
    "data_dir = \"dataset/ringsranking\"\n",
    "\n",
    "#ranking file\n",
    "ranking_url = \"dataset/ringsranking.xlsx\"\n",
    "\n",
    "#pickle file\n",
    "pith_url = \"pith/ringsranking.pickle\""
   ]
  },
  {
   "cell_type": "markdown",
   "id": "2738afaf",
   "metadata": {},
   "source": [
    "## Phase 1 Model"
   ]
  },
  {
   "cell_type": "code",
   "execution_count": 4,
   "id": "f404c659",
   "metadata": {},
   "outputs": [],
   "source": [
    "#MSE file\n",
    "mse_url = \"output/temp_ringsranking_mse.csv\"\n",
    "\n",
    "#rings info file\n",
    "rings_url = \"output/temp_ringsranking_rings.csv\"\n",
    "\n",
    "#no of lines and points\n",
    "lines = 16\n",
    "points = 150"
   ]
  },
  {
   "cell_type": "code",
   "execution_count": 5,
   "id": "0fc5323d",
   "metadata": {},
   "outputs": [
    {
     "name": "stdout",
     "output_type": "stream",
     "text": [
      "0 2-34e23370868237a073d086fb64851017e9b2c8c9_85903b8cb210e9ad54581e7a37999bcd5fb18443_instant.jpg 87.0\n",
      "1 1-5d205d5ea6bafd3c2e038cf1139cdd5a9825388f_275cb29ffc473512447ce75ff34baa4ecea7276d_instant_210319.jpg 59.666666666666664\n",
      "2 1-11c00bf7cc3e03dc86bde8a20c8ab390b0b2f2a4_d5d5dbc0f05ff34587375f4a567740b61c4731a6_instant_210319.jpg 18.0\n",
      "3 2-8c5de8aa63e57b1e5d3a11ce4c4e2ded042b2ef3_0693ab68bf2278539a3733129d6964ba7719f7b2.jpg 22.0\n",
      "4 1-3d78e56849a16c0b17831129f6059e367574a138_8560eccb0f16269a00f2d6c6a5fab7419529c803_instant.jpg 15.0\n",
      "5 1-947a57fc1b94be1fb8a5cce439cd8112016648b1_b151d6624e13c4d31f300f909ebb63577e42a730_instant.jpg 19.0\n",
      "6 1-1f43f59e9f5ead12a13b1cd892a8757242367189_9cd89303dd466e6b178399f8d02b12aae69ec707_instant.jpg 14.0\n",
      "7 1-85fde97a518625ed46589a6be46300e36c3ad0d9_6626ee8bedc11ff89bd5a6205d10710e72ed9801_instant_210319.jpg 16.0\n",
      "8 1-e50b5a99fd9bab50130099c750df6d80f50a9b4e_fdafeaf4b1ec0417f969870e07a0d6401488df85_instant.jpg 17.0\n",
      "9 1-0d8eabdfed2cb1f0d455e5a2050d78ba39ae6cff_0665c9464c856662322717999ae3d8301ff48907_instant.jpg 11.0\n",
      "10 2-746ba8ac1301085b9f8d8d96beb3bf7f9e7a4605_ecc100d2cbc4a9fc70c2fde3eafaadb6ceb588ca_instant.jpg 29.0\n"
     ]
    },
    {
     "data": {
      "text/html": [
       "<div>\n",
       "<style scoped>\n",
       "    .dataframe tbody tr th:only-of-type {\n",
       "        vertical-align: middle;\n",
       "    }\n",
       "\n",
       "    .dataframe tbody tr th {\n",
       "        vertical-align: top;\n",
       "    }\n",
       "\n",
       "    .dataframe thead th {\n",
       "        text-align: right;\n",
       "    }\n",
       "</style>\n",
       "<table border=\"1\" class=\"dataframe\">\n",
       "  <thead>\n",
       "    <tr style=\"text-align: right;\">\n",
       "      <th></th>\n",
       "      <th>model</th>\n",
       "      <th>subseq</th>\n",
       "      <th>peaks</th>\n",
       "      <th>binary</th>\n",
       "      <th>mwa</th>\n",
       "    </tr>\n",
       "  </thead>\n",
       "  <tbody>\n",
       "    <tr>\n",
       "      <th>0</th>\n",
       "      <td>Grayscale</td>\n",
       "      <td>233.074606</td>\n",
       "      <td>28.996609</td>\n",
       "      <td>227.048266</td>\n",
       "      <td>53.831157</td>\n",
       "    </tr>\n",
       "  </tbody>\n",
       "</table>\n",
       "</div>"
      ],
      "text/plain": [
       "       model      subseq      peaks      binary        mwa\n",
       "0  Grayscale  233.074606  28.996609  227.048266  53.831157"
      ]
     },
     "metadata": {},
     "output_type": "display_data"
    }
   ],
   "source": [
    "with_model(Model.GRAYSCALE, lines, points, data_dir, ranking_url, pith_url, rings_url, mse_url)"
   ]
  },
  {
   "cell_type": "code",
   "execution_count": 6,
   "id": "5c5e0158",
   "metadata": {},
   "outputs": [
    {
     "name": "stdout",
     "output_type": "stream",
     "text": [
      "0 2-34e23370868237a073d086fb64851017e9b2c8c9_85903b8cb210e9ad54581e7a37999bcd5fb18443_instant.jpg 87.0\n",
      "1 1-5d205d5ea6bafd3c2e038cf1139cdd5a9825388f_275cb29ffc473512447ce75ff34baa4ecea7276d_instant_210319.jpg 59.666666666666664\n",
      "2 1-11c00bf7cc3e03dc86bde8a20c8ab390b0b2f2a4_d5d5dbc0f05ff34587375f4a567740b61c4731a6_instant_210319.jpg 18.0\n",
      "3 2-8c5de8aa63e57b1e5d3a11ce4c4e2ded042b2ef3_0693ab68bf2278539a3733129d6964ba7719f7b2.jpg 22.0\n",
      "4 1-3d78e56849a16c0b17831129f6059e367574a138_8560eccb0f16269a00f2d6c6a5fab7419529c803_instant.jpg 15.0\n",
      "5 1-947a57fc1b94be1fb8a5cce439cd8112016648b1_b151d6624e13c4d31f300f909ebb63577e42a730_instant.jpg 19.0\n",
      "6 1-1f43f59e9f5ead12a13b1cd892a8757242367189_9cd89303dd466e6b178399f8d02b12aae69ec707_instant.jpg 14.0\n",
      "7 1-85fde97a518625ed46589a6be46300e36c3ad0d9_6626ee8bedc11ff89bd5a6205d10710e72ed9801_instant_210319.jpg 16.0\n",
      "8 1-e50b5a99fd9bab50130099c750df6d80f50a9b4e_fdafeaf4b1ec0417f969870e07a0d6401488df85_instant.jpg 17.0\n",
      "9 1-0d8eabdfed2cb1f0d455e5a2050d78ba39ae6cff_0665c9464c856662322717999ae3d8301ff48907_instant.jpg 11.0\n",
      "10 2-746ba8ac1301085b9f8d8d96beb3bf7f9e7a4605_ecc100d2cbc4a9fc70c2fde3eafaadb6ceb588ca_instant.jpg 29.0\n"
     ]
    },
    {
     "data": {
      "text/html": [
       "<div>\n",
       "<style scoped>\n",
       "    .dataframe tbody tr th:only-of-type {\n",
       "        vertical-align: middle;\n",
       "    }\n",
       "\n",
       "    .dataframe tbody tr th {\n",
       "        vertical-align: top;\n",
       "    }\n",
       "\n",
       "    .dataframe thead th {\n",
       "        text-align: right;\n",
       "    }\n",
       "</style>\n",
       "<table border=\"1\" class=\"dataframe\">\n",
       "  <thead>\n",
       "    <tr style=\"text-align: right;\">\n",
       "      <th></th>\n",
       "      <th>model</th>\n",
       "      <th>subseq</th>\n",
       "      <th>peaks</th>\n",
       "      <th>binary</th>\n",
       "      <th>mwa</th>\n",
       "    </tr>\n",
       "  </thead>\n",
       "  <tbody>\n",
       "    <tr>\n",
       "      <th>0</th>\n",
       "      <td>Polar</td>\n",
       "      <td>167.324917</td>\n",
       "      <td>20.67999</td>\n",
       "      <td>305.470001</td>\n",
       "      <td>55.384421</td>\n",
       "    </tr>\n",
       "  </tbody>\n",
       "</table>\n",
       "</div>"
      ],
      "text/plain": [
       "   model      subseq     peaks      binary        mwa\n",
       "0  Polar  167.324917  20.67999  305.470001  55.384421"
      ]
     },
     "metadata": {},
     "output_type": "display_data"
    }
   ],
   "source": [
    "with_model(Model.POLAR, lines, points, data_dir, ranking_url, pith_url, rings_url, mse_url)"
   ]
  },
  {
   "cell_type": "code",
   "execution_count": 7,
   "id": "d9e30891",
   "metadata": {},
   "outputs": [
    {
     "name": "stdout",
     "output_type": "stream",
     "text": [
      "0 2-34e23370868237a073d086fb64851017e9b2c8c9_85903b8cb210e9ad54581e7a37999bcd5fb18443_instant.jpg 87.0\n",
      "1 1-5d205d5ea6bafd3c2e038cf1139cdd5a9825388f_275cb29ffc473512447ce75ff34baa4ecea7276d_instant_210319.jpg 59.666666666666664\n",
      "2 1-11c00bf7cc3e03dc86bde8a20c8ab390b0b2f2a4_d5d5dbc0f05ff34587375f4a567740b61c4731a6_instant_210319.jpg 18.0\n",
      "3 2-8c5de8aa63e57b1e5d3a11ce4c4e2ded042b2ef3_0693ab68bf2278539a3733129d6964ba7719f7b2.jpg 22.0\n",
      "4 1-3d78e56849a16c0b17831129f6059e367574a138_8560eccb0f16269a00f2d6c6a5fab7419529c803_instant.jpg 15.0\n",
      "5 1-947a57fc1b94be1fb8a5cce439cd8112016648b1_b151d6624e13c4d31f300f909ebb63577e42a730_instant.jpg 19.0\n",
      "6 1-1f43f59e9f5ead12a13b1cd892a8757242367189_9cd89303dd466e6b178399f8d02b12aae69ec707_instant.jpg 14.0\n",
      "7 1-85fde97a518625ed46589a6be46300e36c3ad0d9_6626ee8bedc11ff89bd5a6205d10710e72ed9801_instant_210319.jpg 16.0\n",
      "8 1-e50b5a99fd9bab50130099c750df6d80f50a9b4e_fdafeaf4b1ec0417f969870e07a0d6401488df85_instant.jpg 17.0\n",
      "9 1-0d8eabdfed2cb1f0d455e5a2050d78ba39ae6cff_0665c9464c856662322717999ae3d8301ff48907_instant.jpg 11.0\n",
      "10 2-746ba8ac1301085b9f8d8d96beb3bf7f9e7a4605_ecc100d2cbc4a9fc70c2fde3eafaadb6ceb588ca_instant.jpg 29.0\n"
     ]
    },
    {
     "data": {
      "text/html": [
       "<div>\n",
       "<style scoped>\n",
       "    .dataframe tbody tr th:only-of-type {\n",
       "        vertical-align: middle;\n",
       "    }\n",
       "\n",
       "    .dataframe tbody tr th {\n",
       "        vertical-align: top;\n",
       "    }\n",
       "\n",
       "    .dataframe thead th {\n",
       "        text-align: right;\n",
       "    }\n",
       "</style>\n",
       "<table border=\"1\" class=\"dataframe\">\n",
       "  <thead>\n",
       "    <tr style=\"text-align: right;\">\n",
       "      <th></th>\n",
       "      <th>model</th>\n",
       "      <th>subseq</th>\n",
       "      <th>peaks</th>\n",
       "      <th>binary</th>\n",
       "      <th>mwa</th>\n",
       "    </tr>\n",
       "  </thead>\n",
       "  <tbody>\n",
       "    <tr>\n",
       "      <th>0</th>\n",
       "      <td>Polar Pith</td>\n",
       "      <td>165.494986</td>\n",
       "      <td>20.52267</td>\n",
       "      <td>303.588302</td>\n",
       "      <td>56.850757</td>\n",
       "    </tr>\n",
       "  </tbody>\n",
       "</table>\n",
       "</div>"
      ],
      "text/plain": [
       "        model      subseq     peaks      binary        mwa\n",
       "0  Polar Pith  165.494986  20.52267  303.588302  56.850757"
      ]
     },
     "metadata": {},
     "output_type": "display_data"
    }
   ],
   "source": [
    "with_model(Model.POLAR_PITH, lines, points, data_dir, ranking_url, pith_url, rings_url, mse_url)"
   ]
  },
  {
   "cell_type": "code",
   "execution_count": 8,
   "id": "33125fc3",
   "metadata": {},
   "outputs": [
    {
     "name": "stdout",
     "output_type": "stream",
     "text": [
      "0 2-34e23370868237a073d086fb64851017e9b2c8c9_85903b8cb210e9ad54581e7a37999bcd5fb18443_instant.jpg 87.0\n",
      "1 1-5d205d5ea6bafd3c2e038cf1139cdd5a9825388f_275cb29ffc473512447ce75ff34baa4ecea7276d_instant_210319.jpg 59.666666666666664\n",
      "2 1-11c00bf7cc3e03dc86bde8a20c8ab390b0b2f2a4_d5d5dbc0f05ff34587375f4a567740b61c4731a6_instant_210319.jpg 18.0\n",
      "3 2-8c5de8aa63e57b1e5d3a11ce4c4e2ded042b2ef3_0693ab68bf2278539a3733129d6964ba7719f7b2.jpg 22.0\n",
      "4 1-3d78e56849a16c0b17831129f6059e367574a138_8560eccb0f16269a00f2d6c6a5fab7419529c803_instant.jpg 15.0\n",
      "5 1-947a57fc1b94be1fb8a5cce439cd8112016648b1_b151d6624e13c4d31f300f909ebb63577e42a730_instant.jpg 19.0\n",
      "6 1-1f43f59e9f5ead12a13b1cd892a8757242367189_9cd89303dd466e6b178399f8d02b12aae69ec707_instant.jpg 14.0\n",
      "7 1-85fde97a518625ed46589a6be46300e36c3ad0d9_6626ee8bedc11ff89bd5a6205d10710e72ed9801_instant_210319.jpg 16.0\n",
      "8 1-e50b5a99fd9bab50130099c750df6d80f50a9b4e_fdafeaf4b1ec0417f969870e07a0d6401488df85_instant.jpg 17.0\n",
      "9 1-0d8eabdfed2cb1f0d455e5a2050d78ba39ae6cff_0665c9464c856662322717999ae3d8301ff48907_instant.jpg 11.0\n",
      "10 2-746ba8ac1301085b9f8d8d96beb3bf7f9e7a4605_ecc100d2cbc4a9fc70c2fde3eafaadb6ceb588ca_instant.jpg 29.0\n"
     ]
    },
    {
     "data": {
      "text/html": [
       "<div>\n",
       "<style scoped>\n",
       "    .dataframe tbody tr th:only-of-type {\n",
       "        vertical-align: middle;\n",
       "    }\n",
       "\n",
       "    .dataframe tbody tr th {\n",
       "        vertical-align: top;\n",
       "    }\n",
       "\n",
       "    .dataframe thead th {\n",
       "        text-align: right;\n",
       "    }\n",
       "</style>\n",
       "<table border=\"1\" class=\"dataframe\">\n",
       "  <thead>\n",
       "    <tr style=\"text-align: right;\">\n",
       "      <th></th>\n",
       "      <th>model</th>\n",
       "      <th>subseq</th>\n",
       "      <th>peaks</th>\n",
       "      <th>binary</th>\n",
       "      <th>mwa</th>\n",
       "    </tr>\n",
       "  </thead>\n",
       "  <tbody>\n",
       "    <tr>\n",
       "      <th>0</th>\n",
       "      <td>Sobel</td>\n",
       "      <td>285.430048</td>\n",
       "      <td>74.724251</td>\n",
       "      <td>268.97311</td>\n",
       "      <td>109.9888</td>\n",
       "    </tr>\n",
       "  </tbody>\n",
       "</table>\n",
       "</div>"
      ],
      "text/plain": [
       "   model      subseq      peaks     binary       mwa\n",
       "0  Sobel  285.430048  74.724251  268.97311  109.9888"
      ]
     },
     "metadata": {},
     "output_type": "display_data"
    }
   ],
   "source": [
    "with_model(Model.SOBEL_EDGE, lines, points, data_dir, ranking_url, pith_url, rings_url, mse_url)"
   ]
  },
  {
   "cell_type": "code",
   "execution_count": 9,
   "id": "9dd0bf5b",
   "metadata": {},
   "outputs": [
    {
     "name": "stdout",
     "output_type": "stream",
     "text": [
      "0 2-34e23370868237a073d086fb64851017e9b2c8c9_85903b8cb210e9ad54581e7a37999bcd5fb18443_instant.jpg 87.0\n",
      "1 1-5d205d5ea6bafd3c2e038cf1139cdd5a9825388f_275cb29ffc473512447ce75ff34baa4ecea7276d_instant_210319.jpg 59.666666666666664\n",
      "2 1-11c00bf7cc3e03dc86bde8a20c8ab390b0b2f2a4_d5d5dbc0f05ff34587375f4a567740b61c4731a6_instant_210319.jpg 18.0\n",
      "3 2-8c5de8aa63e57b1e5d3a11ce4c4e2ded042b2ef3_0693ab68bf2278539a3733129d6964ba7719f7b2.jpg 22.0\n",
      "4 1-3d78e56849a16c0b17831129f6059e367574a138_8560eccb0f16269a00f2d6c6a5fab7419529c803_instant.jpg 15.0\n",
      "5 1-947a57fc1b94be1fb8a5cce439cd8112016648b1_b151d6624e13c4d31f300f909ebb63577e42a730_instant.jpg 19.0\n",
      "6 1-1f43f59e9f5ead12a13b1cd892a8757242367189_9cd89303dd466e6b178399f8d02b12aae69ec707_instant.jpg 14.0\n",
      "7 1-85fde97a518625ed46589a6be46300e36c3ad0d9_6626ee8bedc11ff89bd5a6205d10710e72ed9801_instant_210319.jpg 16.0\n",
      "8 1-e50b5a99fd9bab50130099c750df6d80f50a9b4e_fdafeaf4b1ec0417f969870e07a0d6401488df85_instant.jpg 17.0\n",
      "9 1-0d8eabdfed2cb1f0d455e5a2050d78ba39ae6cff_0665c9464c856662322717999ae3d8301ff48907_instant.jpg 11.0\n",
      "10 2-746ba8ac1301085b9f8d8d96beb3bf7f9e7a4605_ecc100d2cbc4a9fc70c2fde3eafaadb6ceb588ca_instant.jpg 29.0\n"
     ]
    },
    {
     "data": {
      "text/html": [
       "<div>\n",
       "<style scoped>\n",
       "    .dataframe tbody tr th:only-of-type {\n",
       "        vertical-align: middle;\n",
       "    }\n",
       "\n",
       "    .dataframe tbody tr th {\n",
       "        vertical-align: top;\n",
       "    }\n",
       "\n",
       "    .dataframe thead th {\n",
       "        text-align: right;\n",
       "    }\n",
       "</style>\n",
       "<table border=\"1\" class=\"dataframe\">\n",
       "  <thead>\n",
       "    <tr style=\"text-align: right;\">\n",
       "      <th></th>\n",
       "      <th>model</th>\n",
       "      <th>subseq</th>\n",
       "      <th>peaks</th>\n",
       "      <th>binary</th>\n",
       "      <th>mwa</th>\n",
       "    </tr>\n",
       "  </thead>\n",
       "  <tbody>\n",
       "    <tr>\n",
       "      <th>0</th>\n",
       "      <td>Canny</td>\n",
       "      <td>80.813281</td>\n",
       "      <td>46.394196</td>\n",
       "      <td>212.997581</td>\n",
       "      <td>154.443957</td>\n",
       "    </tr>\n",
       "  </tbody>\n",
       "</table>\n",
       "</div>"
      ],
      "text/plain": [
       "   model     subseq      peaks      binary         mwa\n",
       "0  Canny  80.813281  46.394196  212.997581  154.443957"
      ]
     },
     "metadata": {},
     "output_type": "display_data"
    }
   ],
   "source": [
    "with_model(Model.CANNY_EDGE, lines, points, data_dir, ranking_url, pith_url, rings_url, mse_url)"
   ]
  },
  {
   "cell_type": "code",
   "execution_count": 10,
   "id": "c3043ef5",
   "metadata": {},
   "outputs": [
    {
     "name": "stdout",
     "output_type": "stream",
     "text": [
      "Polar Pith 20.522669507144897 (peaks) \n",
      "\n"
     ]
    },
    {
     "data": {
      "text/html": [
       "<div>\n",
       "<style scoped>\n",
       "    .dataframe tbody tr th:only-of-type {\n",
       "        vertical-align: middle;\n",
       "    }\n",
       "\n",
       "    .dataframe tbody tr th {\n",
       "        vertical-align: top;\n",
       "    }\n",
       "\n",
       "    .dataframe thead th {\n",
       "        text-align: right;\n",
       "    }\n",
       "</style>\n",
       "<table border=\"1\" class=\"dataframe\">\n",
       "  <thead>\n",
       "    <tr style=\"text-align: right;\">\n",
       "      <th></th>\n",
       "      <th>subseq</th>\n",
       "      <th>peaks</th>\n",
       "      <th>binary</th>\n",
       "      <th>mwa</th>\n",
       "    </tr>\n",
       "    <tr>\n",
       "      <th>model</th>\n",
       "      <th></th>\n",
       "      <th></th>\n",
       "      <th></th>\n",
       "      <th></th>\n",
       "    </tr>\n",
       "  </thead>\n",
       "  <tbody>\n",
       "    <tr>\n",
       "      <th>Grayscale</th>\n",
       "      <td>233.074606</td>\n",
       "      <td>28.996609</td>\n",
       "      <td>227.048266</td>\n",
       "      <td>53.831157</td>\n",
       "    </tr>\n",
       "    <tr>\n",
       "      <th>Polar</th>\n",
       "      <td>167.324917</td>\n",
       "      <td>20.679990</td>\n",
       "      <td>305.470001</td>\n",
       "      <td>55.384421</td>\n",
       "    </tr>\n",
       "    <tr>\n",
       "      <th>Polar Pith</th>\n",
       "      <td>165.494986</td>\n",
       "      <td>20.522670</td>\n",
       "      <td>303.588302</td>\n",
       "      <td>56.850757</td>\n",
       "    </tr>\n",
       "    <tr>\n",
       "      <th>Sobel</th>\n",
       "      <td>285.430048</td>\n",
       "      <td>74.724251</td>\n",
       "      <td>268.973110</td>\n",
       "      <td>109.988800</td>\n",
       "    </tr>\n",
       "    <tr>\n",
       "      <th>Canny</th>\n",
       "      <td>80.813281</td>\n",
       "      <td>46.394196</td>\n",
       "      <td>212.997581</td>\n",
       "      <td>154.443957</td>\n",
       "    </tr>\n",
       "  </tbody>\n",
       "</table>\n",
       "</div>"
      ],
      "text/plain": [
       "                subseq      peaks      binary         mwa\n",
       "model                                                    \n",
       "Grayscale   233.074606  28.996609  227.048266   53.831157\n",
       "Polar       167.324917  20.679990  305.470001   55.384421\n",
       "Polar Pith  165.494986  20.522670  303.588302   56.850757\n",
       "Sobel       285.430048  74.724251  268.973110  109.988800\n",
       "Canny        80.813281  46.394196  212.997581  154.443957"
      ]
     },
     "metadata": {},
     "output_type": "display_data"
    },
    {
     "name": "stdout",
     "output_type": "stream",
     "text": [
      "Min: 20.522669507144897, Max: 305.470001466733\n"
     ]
    },
    {
     "data": {
      "image/png": "[encoded data removed]",
      "text/plain": [
       "<Figure size 640x480 with 1 Axes>"
      ]
     },
     "metadata": {},
     "output_type": "display_data"
    }
   ],
   "source": [
    "multi_mse(mse_url, False)"
   ]
  },
  {
   "cell_type": "code",
   "execution_count": 11,
   "id": "ddb0de4d",
   "metadata": {},
   "outputs": [],
   "source": [
    "#STOP"
   ]
  },
  {
   "cell_type": "markdown",
   "id": "dcfff2f6",
   "metadata": {},
   "source": [
    "## Phase 2 Model"
   ]
  },
  {
   "cell_type": "markdown",
   "id": "600e29d4",
   "metadata": {},
   "source": [
    "### Model with 16 lines"
   ]
  },
  {
   "cell_type": "code",
   "execution_count": 12,
   "id": "ddd064fc",
   "metadata": {},
   "outputs": [],
   "source": [
    "#MSE file\n",
    "mse_url = \"output/temp_ringsranking_mse_sixteen.csv\"\n",
    "\n",
    "#rings info file\n",
    "rings_url = \"output/temp_ringsranking_rings_sixteen.csv\"\n",
    "\n",
    "#no of lines and points\n",
    "no_of_lines = 16\n",
    "no_of_points = 150"
   ]
  },
  {
   "cell_type": "code",
   "execution_count": 13,
   "id": "51fb0795",
   "metadata": {},
   "outputs": [
    {
     "name": "stdout",
     "output_type": "stream",
     "text": [
      "0 2-34e23370868237a073d086fb64851017e9b2c8c9_85903b8cb210e9ad54581e7a37999bcd5fb18443_instant.jpg 87.0\n",
      "1 1-5d205d5ea6bafd3c2e038cf1139cdd5a9825388f_275cb29ffc473512447ce75ff34baa4ecea7276d_instant_210319.jpg 59.666666666666664\n",
      "2 1-11c00bf7cc3e03dc86bde8a20c8ab390b0b2f2a4_d5d5dbc0f05ff34587375f4a567740b61c4731a6_instant_210319.jpg 18.0\n",
      "3 2-8c5de8aa63e57b1e5d3a11ce4c4e2ded042b2ef3_0693ab68bf2278539a3733129d6964ba7719f7b2.jpg 22.0\n",
      "4 1-3d78e56849a16c0b17831129f6059e367574a138_8560eccb0f16269a00f2d6c6a5fab7419529c803_instant.jpg 15.0\n",
      "5 1-947a57fc1b94be1fb8a5cce439cd8112016648b1_b151d6624e13c4d31f300f909ebb63577e42a730_instant.jpg 19.0\n",
      "6 1-1f43f59e9f5ead12a13b1cd892a8757242367189_9cd89303dd466e6b178399f8d02b12aae69ec707_instant.jpg 14.0\n",
      "7 1-85fde97a518625ed46589a6be46300e36c3ad0d9_6626ee8bedc11ff89bd5a6205d10710e72ed9801_instant_210319.jpg 16.0\n",
      "8 1-e50b5a99fd9bab50130099c750df6d80f50a9b4e_fdafeaf4b1ec0417f969870e07a0d6401488df85_instant.jpg 17.0\n",
      "9 1-0d8eabdfed2cb1f0d455e5a2050d78ba39ae6cff_0665c9464c856662322717999ae3d8301ff48907_instant.jpg 11.0\n",
      "10 2-746ba8ac1301085b9f8d8d96beb3bf7f9e7a4605_ecc100d2cbc4a9fc70c2fde3eafaadb6ceb588ca_instant.jpg 29.0\n"
     ]
    },
    {
     "data": {
      "text/html": [
       "<div>\n",
       "<style scoped>\n",
       "    .dataframe tbody tr th:only-of-type {\n",
       "        vertical-align: middle;\n",
       "    }\n",
       "\n",
       "    .dataframe tbody tr th {\n",
       "        vertical-align: top;\n",
       "    }\n",
       "\n",
       "    .dataframe thead th {\n",
       "        text-align: right;\n",
       "    }\n",
       "</style>\n",
       "<table border=\"1\" class=\"dataframe\">\n",
       "  <thead>\n",
       "    <tr style=\"text-align: right;\">\n",
       "      <th></th>\n",
       "      <th>model</th>\n",
       "      <th>subseq</th>\n",
       "      <th>peaks</th>\n",
       "      <th>binary</th>\n",
       "      <th>mwa</th>\n",
       "    </tr>\n",
       "  </thead>\n",
       "  <tbody>\n",
       "    <tr>\n",
       "      <th>0</th>\n",
       "      <td>Grayscale</td>\n",
       "      <td>233.074606</td>\n",
       "      <td>28.996609</td>\n",
       "      <td>227.048266</td>\n",
       "      <td>53.831157</td>\n",
       "    </tr>\n",
       "  </tbody>\n",
       "</table>\n",
       "</div>"
      ],
      "text/plain": [
       "       model      subseq      peaks      binary        mwa\n",
       "0  Grayscale  233.074606  28.996609  227.048266  53.831157"
      ]
     },
     "metadata": {},
     "output_type": "display_data"
    }
   ],
   "source": [
    "with_model(Model.GRAYSCALE, lines, points, data_dir, ranking_url, pith_url, rings_url, mse_url)"
   ]
  },
  {
   "cell_type": "code",
   "execution_count": 14,
   "id": "e9558f17",
   "metadata": {},
   "outputs": [
    {
     "name": "stdout",
     "output_type": "stream",
     "text": [
      "0 2-34e23370868237a073d086fb64851017e9b2c8c9_85903b8cb210e9ad54581e7a37999bcd5fb18443_instant.jpg 87.0\n",
      "1 1-5d205d5ea6bafd3c2e038cf1139cdd5a9825388f_275cb29ffc473512447ce75ff34baa4ecea7276d_instant_210319.jpg 59.666666666666664\n",
      "2 1-11c00bf7cc3e03dc86bde8a20c8ab390b0b2f2a4_d5d5dbc0f05ff34587375f4a567740b61c4731a6_instant_210319.jpg 18.0\n",
      "3 2-8c5de8aa63e57b1e5d3a11ce4c4e2ded042b2ef3_0693ab68bf2278539a3733129d6964ba7719f7b2.jpg 22.0\n",
      "4 1-3d78e56849a16c0b17831129f6059e367574a138_8560eccb0f16269a00f2d6c6a5fab7419529c803_instant.jpg 15.0\n",
      "5 1-947a57fc1b94be1fb8a5cce439cd8112016648b1_b151d6624e13c4d31f300f909ebb63577e42a730_instant.jpg 19.0\n",
      "6 1-1f43f59e9f5ead12a13b1cd892a8757242367189_9cd89303dd466e6b178399f8d02b12aae69ec707_instant.jpg 14.0\n",
      "7 1-85fde97a518625ed46589a6be46300e36c3ad0d9_6626ee8bedc11ff89bd5a6205d10710e72ed9801_instant_210319.jpg 16.0\n",
      "8 1-e50b5a99fd9bab50130099c750df6d80f50a9b4e_fdafeaf4b1ec0417f969870e07a0d6401488df85_instant.jpg 17.0\n",
      "9 1-0d8eabdfed2cb1f0d455e5a2050d78ba39ae6cff_0665c9464c856662322717999ae3d8301ff48907_instant.jpg 11.0\n",
      "10 2-746ba8ac1301085b9f8d8d96beb3bf7f9e7a4605_ecc100d2cbc4a9fc70c2fde3eafaadb6ceb588ca_instant.jpg 29.0\n"
     ]
    },
    {
     "data": {
      "text/html": [
       "<div>\n",
       "<style scoped>\n",
       "    .dataframe tbody tr th:only-of-type {\n",
       "        vertical-align: middle;\n",
       "    }\n",
       "\n",
       "    .dataframe tbody tr th {\n",
       "        vertical-align: top;\n",
       "    }\n",
       "\n",
       "    .dataframe thead th {\n",
       "        text-align: right;\n",
       "    }\n",
       "</style>\n",
       "<table border=\"1\" class=\"dataframe\">\n",
       "  <thead>\n",
       "    <tr style=\"text-align: right;\">\n",
       "      <th></th>\n",
       "      <th>model</th>\n",
       "      <th>subseq</th>\n",
       "      <th>peaks</th>\n",
       "      <th>binary</th>\n",
       "      <th>mwa</th>\n",
       "    </tr>\n",
       "  </thead>\n",
       "  <tbody>\n",
       "    <tr>\n",
       "      <th>0</th>\n",
       "      <td>Polar</td>\n",
       "      <td>167.324917</td>\n",
       "      <td>20.67999</td>\n",
       "      <td>305.470001</td>\n",
       "      <td>55.384421</td>\n",
       "    </tr>\n",
       "  </tbody>\n",
       "</table>\n",
       "</div>"
      ],
      "text/plain": [
       "   model      subseq     peaks      binary        mwa\n",
       "0  Polar  167.324917  20.67999  305.470001  55.384421"
      ]
     },
     "metadata": {},
     "output_type": "display_data"
    }
   ],
   "source": [
    "with_model(Model.POLAR, lines, points, data_dir, ranking_url, pith_url, rings_url, mse_url)"
   ]
  },
  {
   "cell_type": "code",
   "execution_count": 15,
   "id": "1b0ac3f1",
   "metadata": {},
   "outputs": [
    {
     "name": "stdout",
     "output_type": "stream",
     "text": [
      "0 2-34e23370868237a073d086fb64851017e9b2c8c9_85903b8cb210e9ad54581e7a37999bcd5fb18443_instant.jpg 87.0\n",
      "1 1-5d205d5ea6bafd3c2e038cf1139cdd5a9825388f_275cb29ffc473512447ce75ff34baa4ecea7276d_instant_210319.jpg 59.666666666666664\n",
      "2 1-11c00bf7cc3e03dc86bde8a20c8ab390b0b2f2a4_d5d5dbc0f05ff34587375f4a567740b61c4731a6_instant_210319.jpg 18.0\n",
      "3 2-8c5de8aa63e57b1e5d3a11ce4c4e2ded042b2ef3_0693ab68bf2278539a3733129d6964ba7719f7b2.jpg 22.0\n",
      "4 1-3d78e56849a16c0b17831129f6059e367574a138_8560eccb0f16269a00f2d6c6a5fab7419529c803_instant.jpg 15.0\n",
      "5 1-947a57fc1b94be1fb8a5cce439cd8112016648b1_b151d6624e13c4d31f300f909ebb63577e42a730_instant.jpg 19.0\n",
      "6 1-1f43f59e9f5ead12a13b1cd892a8757242367189_9cd89303dd466e6b178399f8d02b12aae69ec707_instant.jpg 14.0\n",
      "7 1-85fde97a518625ed46589a6be46300e36c3ad0d9_6626ee8bedc11ff89bd5a6205d10710e72ed9801_instant_210319.jpg 16.0\n",
      "8 1-e50b5a99fd9bab50130099c750df6d80f50a9b4e_fdafeaf4b1ec0417f969870e07a0d6401488df85_instant.jpg 17.0\n",
      "9 1-0d8eabdfed2cb1f0d455e5a2050d78ba39ae6cff_0665c9464c856662322717999ae3d8301ff48907_instant.jpg 11.0\n",
      "10 2-746ba8ac1301085b9f8d8d96beb3bf7f9e7a4605_ecc100d2cbc4a9fc70c2fde3eafaadb6ceb588ca_instant.jpg 29.0\n"
     ]
    },
    {
     "data": {
      "text/html": [
       "<div>\n",
       "<style scoped>\n",
       "    .dataframe tbody tr th:only-of-type {\n",
       "        vertical-align: middle;\n",
       "    }\n",
       "\n",
       "    .dataframe tbody tr th {\n",
       "        vertical-align: top;\n",
       "    }\n",
       "\n",
       "    .dataframe thead th {\n",
       "        text-align: right;\n",
       "    }\n",
       "</style>\n",
       "<table border=\"1\" class=\"dataframe\">\n",
       "  <thead>\n",
       "    <tr style=\"text-align: right;\">\n",
       "      <th></th>\n",
       "      <th>model</th>\n",
       "      <th>subseq</th>\n",
       "      <th>peaks</th>\n",
       "      <th>binary</th>\n",
       "      <th>mwa</th>\n",
       "    </tr>\n",
       "  </thead>\n",
       "  <tbody>\n",
       "    <tr>\n",
       "      <th>0</th>\n",
       "      <td>Polar Pith</td>\n",
       "      <td>165.494986</td>\n",
       "      <td>20.52267</td>\n",
       "      <td>303.588302</td>\n",
       "      <td>56.850757</td>\n",
       "    </tr>\n",
       "  </tbody>\n",
       "</table>\n",
       "</div>"
      ],
      "text/plain": [
       "        model      subseq     peaks      binary        mwa\n",
       "0  Polar Pith  165.494986  20.52267  303.588302  56.850757"
      ]
     },
     "metadata": {},
     "output_type": "display_data"
    }
   ],
   "source": [
    "with_model(Model.POLAR_PITH, lines, points, data_dir, ranking_url, pith_url, rings_url, mse_url)"
   ]
  },
  {
   "cell_type": "code",
   "execution_count": null,
   "id": "35b80fb0",
   "metadata": {},
   "outputs": [],
   "source": []
  },
  {
   "cell_type": "code",
   "execution_count": 16,
   "id": "58f9f265",
   "metadata": {},
   "outputs": [
    {
     "name": "stdout",
     "output_type": "stream",
     "text": [
      "0 2-34e23370868237a073d086fb64851017e9b2c8c9_85903b8cb210e9ad54581e7a37999bcd5fb18443_instant.jpg 87.0\n",
      "1 1-5d205d5ea6bafd3c2e038cf1139cdd5a9825388f_275cb29ffc473512447ce75ff34baa4ecea7276d_instant_210319.jpg 59.666666666666664\n",
      "2 1-11c00bf7cc3e03dc86bde8a20c8ab390b0b2f2a4_d5d5dbc0f05ff34587375f4a567740b61c4731a6_instant_210319.jpg 18.0\n",
      "3 2-8c5de8aa63e57b1e5d3a11ce4c4e2ded042b2ef3_0693ab68bf2278539a3733129d6964ba7719f7b2.jpg 22.0\n",
      "4 1-3d78e56849a16c0b17831129f6059e367574a138_8560eccb0f16269a00f2d6c6a5fab7419529c803_instant.jpg 15.0\n",
      "5 1-947a57fc1b94be1fb8a5cce439cd8112016648b1_b151d6624e13c4d31f300f909ebb63577e42a730_instant.jpg 19.0\n",
      "6 1-1f43f59e9f5ead12a13b1cd892a8757242367189_9cd89303dd466e6b178399f8d02b12aae69ec707_instant.jpg 14.0\n",
      "7 1-85fde97a518625ed46589a6be46300e36c3ad0d9_6626ee8bedc11ff89bd5a6205d10710e72ed9801_instant_210319.jpg 16.0\n",
      "8 1-e50b5a99fd9bab50130099c750df6d80f50a9b4e_fdafeaf4b1ec0417f969870e07a0d6401488df85_instant.jpg 17.0\n",
      "9 1-0d8eabdfed2cb1f0d455e5a2050d78ba39ae6cff_0665c9464c856662322717999ae3d8301ff48907_instant.jpg 11.0\n",
      "10 2-746ba8ac1301085b9f8d8d96beb3bf7f9e7a4605_ecc100d2cbc4a9fc70c2fde3eafaadb6ceb588ca_instant.jpg 29.0\n"
     ]
    },
    {
     "data": {
      "text/html": [
       "<div>\n",
       "<style scoped>\n",
       "    .dataframe tbody tr th:only-of-type {\n",
       "        vertical-align: middle;\n",
       "    }\n",
       "\n",
       "    .dataframe tbody tr th {\n",
       "        vertical-align: top;\n",
       "    }\n",
       "\n",
       "    .dataframe thead th {\n",
       "        text-align: right;\n",
       "    }\n",
       "</style>\n",
       "<table border=\"1\" class=\"dataframe\">\n",
       "  <thead>\n",
       "    <tr style=\"text-align: right;\">\n",
       "      <th></th>\n",
       "      <th>model</th>\n",
       "      <th>subseq</th>\n",
       "      <th>peaks</th>\n",
       "      <th>binary</th>\n",
       "      <th>mwa</th>\n",
       "    </tr>\n",
       "  </thead>\n",
       "  <tbody>\n",
       "    <tr>\n",
       "      <th>0</th>\n",
       "      <td>Sobel</td>\n",
       "      <td>285.430048</td>\n",
       "      <td>74.724251</td>\n",
       "      <td>268.97311</td>\n",
       "      <td>109.9888</td>\n",
       "    </tr>\n",
       "  </tbody>\n",
       "</table>\n",
       "</div>"
      ],
      "text/plain": [
       "   model      subseq      peaks     binary       mwa\n",
       "0  Sobel  285.430048  74.724251  268.97311  109.9888"
      ]
     },
     "metadata": {},
     "output_type": "display_data"
    }
   ],
   "source": [
    "with_model(Model.SOBEL_EDGE, lines, points, data_dir, ranking_url, pith_url, rings_url, mse_url)"
   ]
  },
  {
   "cell_type": "code",
   "execution_count": 17,
   "id": "48d1849e",
   "metadata": {},
   "outputs": [
    {
     "name": "stdout",
     "output_type": "stream",
     "text": [
      "0 2-34e23370868237a073d086fb64851017e9b2c8c9_85903b8cb210e9ad54581e7a37999bcd5fb18443_instant.jpg 87.0\n",
      "1 1-5d205d5ea6bafd3c2e038cf1139cdd5a9825388f_275cb29ffc473512447ce75ff34baa4ecea7276d_instant_210319.jpg 59.666666666666664\n",
      "2 1-11c00bf7cc3e03dc86bde8a20c8ab390b0b2f2a4_d5d5dbc0f05ff34587375f4a567740b61c4731a6_instant_210319.jpg 18.0\n",
      "3 2-8c5de8aa63e57b1e5d3a11ce4c4e2ded042b2ef3_0693ab68bf2278539a3733129d6964ba7719f7b2.jpg 22.0\n",
      "4 1-3d78e56849a16c0b17831129f6059e367574a138_8560eccb0f16269a00f2d6c6a5fab7419529c803_instant.jpg 15.0\n",
      "5 1-947a57fc1b94be1fb8a5cce439cd8112016648b1_b151d6624e13c4d31f300f909ebb63577e42a730_instant.jpg 19.0\n",
      "6 1-1f43f59e9f5ead12a13b1cd892a8757242367189_9cd89303dd466e6b178399f8d02b12aae69ec707_instant.jpg 14.0\n",
      "7 1-85fde97a518625ed46589a6be46300e36c3ad0d9_6626ee8bedc11ff89bd5a6205d10710e72ed9801_instant_210319.jpg 16.0\n",
      "8 1-e50b5a99fd9bab50130099c750df6d80f50a9b4e_fdafeaf4b1ec0417f969870e07a0d6401488df85_instant.jpg 17.0\n",
      "9 1-0d8eabdfed2cb1f0d455e5a2050d78ba39ae6cff_0665c9464c856662322717999ae3d8301ff48907_instant.jpg 11.0\n",
      "10 2-746ba8ac1301085b9f8d8d96beb3bf7f9e7a4605_ecc100d2cbc4a9fc70c2fde3eafaadb6ceb588ca_instant.jpg 29.0\n"
     ]
    },
    {
     "data": {
      "text/html": [
       "<div>\n",
       "<style scoped>\n",
       "    .dataframe tbody tr th:only-of-type {\n",
       "        vertical-align: middle;\n",
       "    }\n",
       "\n",
       "    .dataframe tbody tr th {\n",
       "        vertical-align: top;\n",
       "    }\n",
       "\n",
       "    .dataframe thead th {\n",
       "        text-align: right;\n",
       "    }\n",
       "</style>\n",
       "<table border=\"1\" class=\"dataframe\">\n",
       "  <thead>\n",
       "    <tr style=\"text-align: right;\">\n",
       "      <th></th>\n",
       "      <th>model</th>\n",
       "      <th>subseq</th>\n",
       "      <th>peaks</th>\n",
       "      <th>binary</th>\n",
       "      <th>mwa</th>\n",
       "    </tr>\n",
       "  </thead>\n",
       "  <tbody>\n",
       "    <tr>\n",
       "      <th>0</th>\n",
       "      <td>Sobel(blur)</td>\n",
       "      <td>251.800704</td>\n",
       "      <td>43.731709</td>\n",
       "      <td>240.73387</td>\n",
       "      <td>69.551207</td>\n",
       "    </tr>\n",
       "  </tbody>\n",
       "</table>\n",
       "</div>"
      ],
      "text/plain": [
       "         model      subseq      peaks     binary        mwa\n",
       "0  Sobel(blur)  251.800704  43.731709  240.73387  69.551207"
      ]
     },
     "metadata": {},
     "output_type": "display_data"
    }
   ],
   "source": [
    "with_model(Model.SOBEL_EDGE_BLUR, lines, points, data_dir, ranking_url, pith_url, rings_url, mse_url)"
   ]
  },
  {
   "cell_type": "code",
   "execution_count": 18,
   "id": "bfdb6e13",
   "metadata": {},
   "outputs": [
    {
     "name": "stdout",
     "output_type": "stream",
     "text": [
      "0 2-34e23370868237a073d086fb64851017e9b2c8c9_85903b8cb210e9ad54581e7a37999bcd5fb18443_instant.jpg 87.0\n",
      "1 1-5d205d5ea6bafd3c2e038cf1139cdd5a9825388f_275cb29ffc473512447ce75ff34baa4ecea7276d_instant_210319.jpg 59.666666666666664\n",
      "2 1-11c00bf7cc3e03dc86bde8a20c8ab390b0b2f2a4_d5d5dbc0f05ff34587375f4a567740b61c4731a6_instant_210319.jpg 18.0\n",
      "3 2-8c5de8aa63e57b1e5d3a11ce4c4e2ded042b2ef3_0693ab68bf2278539a3733129d6964ba7719f7b2.jpg 22.0\n",
      "4 1-3d78e56849a16c0b17831129f6059e367574a138_8560eccb0f16269a00f2d6c6a5fab7419529c803_instant.jpg 15.0\n",
      "5 1-947a57fc1b94be1fb8a5cce439cd8112016648b1_b151d6624e13c4d31f300f909ebb63577e42a730_instant.jpg 19.0\n",
      "6 1-1f43f59e9f5ead12a13b1cd892a8757242367189_9cd89303dd466e6b178399f8d02b12aae69ec707_instant.jpg 14.0\n",
      "7 1-85fde97a518625ed46589a6be46300e36c3ad0d9_6626ee8bedc11ff89bd5a6205d10710e72ed9801_instant_210319.jpg 16.0\n",
      "8 1-e50b5a99fd9bab50130099c750df6d80f50a9b4e_fdafeaf4b1ec0417f969870e07a0d6401488df85_instant.jpg 17.0\n",
      "9 1-0d8eabdfed2cb1f0d455e5a2050d78ba39ae6cff_0665c9464c856662322717999ae3d8301ff48907_instant.jpg 11.0\n",
      "10 2-746ba8ac1301085b9f8d8d96beb3bf7f9e7a4605_ecc100d2cbc4a9fc70c2fde3eafaadb6ceb588ca_instant.jpg 29.0\n"
     ]
    },
    {
     "data": {
      "text/html": [
       "<div>\n",
       "<style scoped>\n",
       "    .dataframe tbody tr th:only-of-type {\n",
       "        vertical-align: middle;\n",
       "    }\n",
       "\n",
       "    .dataframe tbody tr th {\n",
       "        vertical-align: top;\n",
       "    }\n",
       "\n",
       "    .dataframe thead th {\n",
       "        text-align: right;\n",
       "    }\n",
       "</style>\n",
       "<table border=\"1\" class=\"dataframe\">\n",
       "  <thead>\n",
       "    <tr style=\"text-align: right;\">\n",
       "      <th></th>\n",
       "      <th>model</th>\n",
       "      <th>subseq</th>\n",
       "      <th>peaks</th>\n",
       "      <th>binary</th>\n",
       "      <th>mwa</th>\n",
       "    </tr>\n",
       "  </thead>\n",
       "  <tbody>\n",
       "    <tr>\n",
       "      <th>0</th>\n",
       "      <td>Canny</td>\n",
       "      <td>80.813281</td>\n",
       "      <td>46.394196</td>\n",
       "      <td>212.997581</td>\n",
       "      <td>154.443957</td>\n",
       "    </tr>\n",
       "  </tbody>\n",
       "</table>\n",
       "</div>"
      ],
      "text/plain": [
       "   model     subseq      peaks      binary         mwa\n",
       "0  Canny  80.813281  46.394196  212.997581  154.443957"
      ]
     },
     "metadata": {},
     "output_type": "display_data"
    }
   ],
   "source": [
    "with_model(Model.CANNY_EDGE, lines, points, data_dir, ranking_url, pith_url, rings_url, mse_url)"
   ]
  },
  {
   "cell_type": "code",
   "execution_count": 19,
   "id": "af83b217",
   "metadata": {},
   "outputs": [
    {
     "name": "stdout",
     "output_type": "stream",
     "text": [
      "0 2-34e23370868237a073d086fb64851017e9b2c8c9_85903b8cb210e9ad54581e7a37999bcd5fb18443_instant.jpg 87.0\n",
      "1 1-5d205d5ea6bafd3c2e038cf1139cdd5a9825388f_275cb29ffc473512447ce75ff34baa4ecea7276d_instant_210319.jpg 59.666666666666664\n",
      "2 1-11c00bf7cc3e03dc86bde8a20c8ab390b0b2f2a4_d5d5dbc0f05ff34587375f4a567740b61c4731a6_instant_210319.jpg 18.0\n",
      "3 2-8c5de8aa63e57b1e5d3a11ce4c4e2ded042b2ef3_0693ab68bf2278539a3733129d6964ba7719f7b2.jpg 22.0\n",
      "4 1-3d78e56849a16c0b17831129f6059e367574a138_8560eccb0f16269a00f2d6c6a5fab7419529c803_instant.jpg 15.0\n",
      "5 1-947a57fc1b94be1fb8a5cce439cd8112016648b1_b151d6624e13c4d31f300f909ebb63577e42a730_instant.jpg 19.0\n",
      "6 1-1f43f59e9f5ead12a13b1cd892a8757242367189_9cd89303dd466e6b178399f8d02b12aae69ec707_instant.jpg 14.0\n",
      "7 1-85fde97a518625ed46589a6be46300e36c3ad0d9_6626ee8bedc11ff89bd5a6205d10710e72ed9801_instant_210319.jpg 16.0\n",
      "8 1-e50b5a99fd9bab50130099c750df6d80f50a9b4e_fdafeaf4b1ec0417f969870e07a0d6401488df85_instant.jpg 17.0\n",
      "9 1-0d8eabdfed2cb1f0d455e5a2050d78ba39ae6cff_0665c9464c856662322717999ae3d8301ff48907_instant.jpg 11.0\n",
      "10 2-746ba8ac1301085b9f8d8d96beb3bf7f9e7a4605_ecc100d2cbc4a9fc70c2fde3eafaadb6ceb588ca_instant.jpg 29.0\n"
     ]
    },
    {
     "data": {
      "text/html": [
       "<div>\n",
       "<style scoped>\n",
       "    .dataframe tbody tr th:only-of-type {\n",
       "        vertical-align: middle;\n",
       "    }\n",
       "\n",
       "    .dataframe tbody tr th {\n",
       "        vertical-align: top;\n",
       "    }\n",
       "\n",
       "    .dataframe thead th {\n",
       "        text-align: right;\n",
       "    }\n",
       "</style>\n",
       "<table border=\"1\" class=\"dataframe\">\n",
       "  <thead>\n",
       "    <tr style=\"text-align: right;\">\n",
       "      <th></th>\n",
       "      <th>model</th>\n",
       "      <th>subseq</th>\n",
       "      <th>peaks</th>\n",
       "      <th>binary</th>\n",
       "      <th>mwa</th>\n",
       "    </tr>\n",
       "  </thead>\n",
       "  <tbody>\n",
       "    <tr>\n",
       "      <th>0</th>\n",
       "      <td>Canny(otsu)</td>\n",
       "      <td>90.67452</td>\n",
       "      <td>52.639914</td>\n",
       "      <td>228.463968</td>\n",
       "      <td>166.869105</td>\n",
       "    </tr>\n",
       "  </tbody>\n",
       "</table>\n",
       "</div>"
      ],
      "text/plain": [
       "         model    subseq      peaks      binary         mwa\n",
       "0  Canny(otsu)  90.67452  52.639914  228.463968  166.869105"
      ]
     },
     "metadata": {},
     "output_type": "display_data"
    }
   ],
   "source": [
    "with_model(Model.CANNY_EDGE_OTSU, lines, points, data_dir, ranking_url, pith_url, rings_url, mse_url)"
   ]
  },
  {
   "cell_type": "code",
   "execution_count": 20,
   "id": "aaf7c5d5",
   "metadata": {},
   "outputs": [
    {
     "name": "stdout",
     "output_type": "stream",
     "text": [
      "0 2-34e23370868237a073d086fb64851017e9b2c8c9_85903b8cb210e9ad54581e7a37999bcd5fb18443_instant.jpg 87.0\n",
      "1 1-5d205d5ea6bafd3c2e038cf1139cdd5a9825388f_275cb29ffc473512447ce75ff34baa4ecea7276d_instant_210319.jpg 59.666666666666664\n",
      "2 1-11c00bf7cc3e03dc86bde8a20c8ab390b0b2f2a4_d5d5dbc0f05ff34587375f4a567740b61c4731a6_instant_210319.jpg 18.0\n",
      "3 2-8c5de8aa63e57b1e5d3a11ce4c4e2ded042b2ef3_0693ab68bf2278539a3733129d6964ba7719f7b2.jpg 22.0\n",
      "4 1-3d78e56849a16c0b17831129f6059e367574a138_8560eccb0f16269a00f2d6c6a5fab7419529c803_instant.jpg 15.0\n",
      "5 1-947a57fc1b94be1fb8a5cce439cd8112016648b1_b151d6624e13c4d31f300f909ebb63577e42a730_instant.jpg 19.0\n",
      "6 1-1f43f59e9f5ead12a13b1cd892a8757242367189_9cd89303dd466e6b178399f8d02b12aae69ec707_instant.jpg 14.0\n",
      "7 1-85fde97a518625ed46589a6be46300e36c3ad0d9_6626ee8bedc11ff89bd5a6205d10710e72ed9801_instant_210319.jpg 16.0\n",
      "8 1-e50b5a99fd9bab50130099c750df6d80f50a9b4e_fdafeaf4b1ec0417f969870e07a0d6401488df85_instant.jpg 17.0\n",
      "9 1-0d8eabdfed2cb1f0d455e5a2050d78ba39ae6cff_0665c9464c856662322717999ae3d8301ff48907_instant.jpg 11.0\n",
      "10 2-746ba8ac1301085b9f8d8d96beb3bf7f9e7a4605_ecc100d2cbc4a9fc70c2fde3eafaadb6ceb588ca_instant.jpg 29.0\n"
     ]
    },
    {
     "data": {
      "text/html": [
       "<div>\n",
       "<style scoped>\n",
       "    .dataframe tbody tr th:only-of-type {\n",
       "        vertical-align: middle;\n",
       "    }\n",
       "\n",
       "    .dataframe tbody tr th {\n",
       "        vertical-align: top;\n",
       "    }\n",
       "\n",
       "    .dataframe thead th {\n",
       "        text-align: right;\n",
       "    }\n",
       "</style>\n",
       "<table border=\"1\" class=\"dataframe\">\n",
       "  <thead>\n",
       "    <tr style=\"text-align: right;\">\n",
       "      <th></th>\n",
       "      <th>model</th>\n",
       "      <th>subseq</th>\n",
       "      <th>peaks</th>\n",
       "      <th>binary</th>\n",
       "      <th>mwa</th>\n",
       "    </tr>\n",
       "  </thead>\n",
       "  <tbody>\n",
       "    <tr>\n",
       "      <th>0</th>\n",
       "      <td>Canny(triangle)</td>\n",
       "      <td>105.515798</td>\n",
       "      <td>61.297387</td>\n",
       "      <td>248.952177</td>\n",
       "      <td>182.599466</td>\n",
       "    </tr>\n",
       "  </tbody>\n",
       "</table>\n",
       "</div>"
      ],
      "text/plain": [
       "             model      subseq      peaks      binary         mwa\n",
       "0  Canny(triangle)  105.515798  61.297387  248.952177  182.599466"
      ]
     },
     "metadata": {},
     "output_type": "display_data"
    }
   ],
   "source": [
    "with_model(Model.CANNY_EDGE_TRIANGLE, lines, points, data_dir, ranking_url, pith_url, rings_url, mse_url)"
   ]
  },
  {
   "cell_type": "code",
   "execution_count": 21,
   "id": "37b04875",
   "metadata": {},
   "outputs": [
    {
     "name": "stdout",
     "output_type": "stream",
     "text": [
      "0 2-34e23370868237a073d086fb64851017e9b2c8c9_85903b8cb210e9ad54581e7a37999bcd5fb18443_instant.jpg 87.0\n",
      "1 1-5d205d5ea6bafd3c2e038cf1139cdd5a9825388f_275cb29ffc473512447ce75ff34baa4ecea7276d_instant_210319.jpg 59.666666666666664\n",
      "2 1-11c00bf7cc3e03dc86bde8a20c8ab390b0b2f2a4_d5d5dbc0f05ff34587375f4a567740b61c4731a6_instant_210319.jpg 18.0\n",
      "3 2-8c5de8aa63e57b1e5d3a11ce4c4e2ded042b2ef3_0693ab68bf2278539a3733129d6964ba7719f7b2.jpg 22.0\n",
      "4 1-3d78e56849a16c0b17831129f6059e367574a138_8560eccb0f16269a00f2d6c6a5fab7419529c803_instant.jpg 15.0\n",
      "5 1-947a57fc1b94be1fb8a5cce439cd8112016648b1_b151d6624e13c4d31f300f909ebb63577e42a730_instant.jpg 19.0\n",
      "6 1-1f43f59e9f5ead12a13b1cd892a8757242367189_9cd89303dd466e6b178399f8d02b12aae69ec707_instant.jpg 14.0\n",
      "7 1-85fde97a518625ed46589a6be46300e36c3ad0d9_6626ee8bedc11ff89bd5a6205d10710e72ed9801_instant_210319.jpg 16.0\n",
      "8 1-e50b5a99fd9bab50130099c750df6d80f50a9b4e_fdafeaf4b1ec0417f969870e07a0d6401488df85_instant.jpg 17.0\n",
      "9 1-0d8eabdfed2cb1f0d455e5a2050d78ba39ae6cff_0665c9464c856662322717999ae3d8301ff48907_instant.jpg 11.0\n",
      "10 2-746ba8ac1301085b9f8d8d96beb3bf7f9e7a4605_ecc100d2cbc4a9fc70c2fde3eafaadb6ceb588ca_instant.jpg 29.0\n"
     ]
    },
    {
     "data": {
      "text/html": [
       "<div>\n",
       "<style scoped>\n",
       "    .dataframe tbody tr th:only-of-type {\n",
       "        vertical-align: middle;\n",
       "    }\n",
       "\n",
       "    .dataframe tbody tr th {\n",
       "        vertical-align: top;\n",
       "    }\n",
       "\n",
       "    .dataframe thead th {\n",
       "        text-align: right;\n",
       "    }\n",
       "</style>\n",
       "<table border=\"1\" class=\"dataframe\">\n",
       "  <thead>\n",
       "    <tr style=\"text-align: right;\">\n",
       "      <th></th>\n",
       "      <th>model</th>\n",
       "      <th>subseq</th>\n",
       "      <th>peaks</th>\n",
       "      <th>binary</th>\n",
       "      <th>mwa</th>\n",
       "    </tr>\n",
       "  </thead>\n",
       "  <tbody>\n",
       "    <tr>\n",
       "      <th>0</th>\n",
       "      <td>Canny(manual)</td>\n",
       "      <td>66.978064</td>\n",
       "      <td>38.144359</td>\n",
       "      <td>190.214201</td>\n",
       "      <td>135.917196</td>\n",
       "    </tr>\n",
       "  </tbody>\n",
       "</table>\n",
       "</div>"
      ],
      "text/plain": [
       "           model     subseq      peaks      binary         mwa\n",
       "0  Canny(manual)  66.978064  38.144359  190.214201  135.917196"
      ]
     },
     "metadata": {},
     "output_type": "display_data"
    }
   ],
   "source": [
    "with_model(Model.CANNY_EDGE_MANUAL, lines, points, data_dir, ranking_url, pith_url, rings_url, mse_url)"
   ]
  },
  {
   "cell_type": "code",
   "execution_count": 22,
   "id": "dadfd80a",
   "metadata": {},
   "outputs": [
    {
     "name": "stdout",
     "output_type": "stream",
     "text": [
      "0 2-34e23370868237a073d086fb64851017e9b2c8c9_85903b8cb210e9ad54581e7a37999bcd5fb18443_instant.jpg 87.0\n",
      "1 1-5d205d5ea6bafd3c2e038cf1139cdd5a9825388f_275cb29ffc473512447ce75ff34baa4ecea7276d_instant_210319.jpg 59.666666666666664\n",
      "2 1-11c00bf7cc3e03dc86bde8a20c8ab390b0b2f2a4_d5d5dbc0f05ff34587375f4a567740b61c4731a6_instant_210319.jpg 18.0\n",
      "3 2-8c5de8aa63e57b1e5d3a11ce4c4e2ded042b2ef3_0693ab68bf2278539a3733129d6964ba7719f7b2.jpg 22.0\n",
      "4 1-3d78e56849a16c0b17831129f6059e367574a138_8560eccb0f16269a00f2d6c6a5fab7419529c803_instant.jpg 15.0\n",
      "5 1-947a57fc1b94be1fb8a5cce439cd8112016648b1_b151d6624e13c4d31f300f909ebb63577e42a730_instant.jpg 19.0\n",
      "6 1-1f43f59e9f5ead12a13b1cd892a8757242367189_9cd89303dd466e6b178399f8d02b12aae69ec707_instant.jpg 14.0\n",
      "7 1-85fde97a518625ed46589a6be46300e36c3ad0d9_6626ee8bedc11ff89bd5a6205d10710e72ed9801_instant_210319.jpg 16.0\n",
      "8 1-e50b5a99fd9bab50130099c750df6d80f50a9b4e_fdafeaf4b1ec0417f969870e07a0d6401488df85_instant.jpg 17.0\n",
      "9 1-0d8eabdfed2cb1f0d455e5a2050d78ba39ae6cff_0665c9464c856662322717999ae3d8301ff48907_instant.jpg 11.0\n",
      "10 2-746ba8ac1301085b9f8d8d96beb3bf7f9e7a4605_ecc100d2cbc4a9fc70c2fde3eafaadb6ceb588ca_instant.jpg 29.0\n"
     ]
    },
    {
     "data": {
      "text/html": [
       "<div>\n",
       "<style scoped>\n",
       "    .dataframe tbody tr th:only-of-type {\n",
       "        vertical-align: middle;\n",
       "    }\n",
       "\n",
       "    .dataframe tbody tr th {\n",
       "        vertical-align: top;\n",
       "    }\n",
       "\n",
       "    .dataframe thead th {\n",
       "        text-align: right;\n",
       "    }\n",
       "</style>\n",
       "<table border=\"1\" class=\"dataframe\">\n",
       "  <thead>\n",
       "    <tr style=\"text-align: right;\">\n",
       "      <th></th>\n",
       "      <th>model</th>\n",
       "      <th>subseq</th>\n",
       "      <th>peaks</th>\n",
       "      <th>binary</th>\n",
       "      <th>mwa</th>\n",
       "    </tr>\n",
       "  </thead>\n",
       "  <tbody>\n",
       "    <tr>\n",
       "      <th>0</th>\n",
       "      <td>Canny(blur)</td>\n",
       "      <td>47.302931</td>\n",
       "      <td>28.433479</td>\n",
       "      <td>165.21228</td>\n",
       "      <td>118.744802</td>\n",
       "    </tr>\n",
       "  </tbody>\n",
       "</table>\n",
       "</div>"
      ],
      "text/plain": [
       "         model     subseq      peaks     binary         mwa\n",
       "0  Canny(blur)  47.302931  28.433479  165.21228  118.744802"
      ]
     },
     "metadata": {},
     "output_type": "display_data"
    }
   ],
   "source": [
    "with_model(Model.CANNY_EDGE_BLUR, lines, points, data_dir, ranking_url, pith_url, rings_url, mse_url)"
   ]
  },
  {
   "cell_type": "code",
   "execution_count": 23,
   "id": "e8ab48ad",
   "metadata": {},
   "outputs": [
    {
     "name": "stdout",
     "output_type": "stream",
     "text": [
      "0 2-34e23370868237a073d086fb64851017e9b2c8c9_85903b8cb210e9ad54581e7a37999bcd5fb18443_instant.jpg 87.0\n",
      "1 1-5d205d5ea6bafd3c2e038cf1139cdd5a9825388f_275cb29ffc473512447ce75ff34baa4ecea7276d_instant_210319.jpg 59.666666666666664\n",
      "2 1-11c00bf7cc3e03dc86bde8a20c8ab390b0b2f2a4_d5d5dbc0f05ff34587375f4a567740b61c4731a6_instant_210319.jpg 18.0\n",
      "3 2-8c5de8aa63e57b1e5d3a11ce4c4e2ded042b2ef3_0693ab68bf2278539a3733129d6964ba7719f7b2.jpg 22.0\n",
      "4 1-3d78e56849a16c0b17831129f6059e367574a138_8560eccb0f16269a00f2d6c6a5fab7419529c803_instant.jpg 15.0\n",
      "5 1-947a57fc1b94be1fb8a5cce439cd8112016648b1_b151d6624e13c4d31f300f909ebb63577e42a730_instant.jpg 19.0\n",
      "6 1-1f43f59e9f5ead12a13b1cd892a8757242367189_9cd89303dd466e6b178399f8d02b12aae69ec707_instant.jpg 14.0\n",
      "7 1-85fde97a518625ed46589a6be46300e36c3ad0d9_6626ee8bedc11ff89bd5a6205d10710e72ed9801_instant_210319.jpg 16.0\n",
      "8 1-e50b5a99fd9bab50130099c750df6d80f50a9b4e_fdafeaf4b1ec0417f969870e07a0d6401488df85_instant.jpg 17.0\n",
      "9 1-0d8eabdfed2cb1f0d455e5a2050d78ba39ae6cff_0665c9464c856662322717999ae3d8301ff48907_instant.jpg 11.0\n",
      "10 2-746ba8ac1301085b9f8d8d96beb3bf7f9e7a4605_ecc100d2cbc4a9fc70c2fde3eafaadb6ceb588ca_instant.jpg 29.0\n"
     ]
    },
    {
     "data": {
      "text/html": [
       "<div>\n",
       "<style scoped>\n",
       "    .dataframe tbody tr th:only-of-type {\n",
       "        vertical-align: middle;\n",
       "    }\n",
       "\n",
       "    .dataframe tbody tr th {\n",
       "        vertical-align: top;\n",
       "    }\n",
       "\n",
       "    .dataframe thead th {\n",
       "        text-align: right;\n",
       "    }\n",
       "</style>\n",
       "<table border=\"1\" class=\"dataframe\">\n",
       "  <thead>\n",
       "    <tr style=\"text-align: right;\">\n",
       "      <th></th>\n",
       "      <th>model</th>\n",
       "      <th>subseq</th>\n",
       "      <th>peaks</th>\n",
       "      <th>binary</th>\n",
       "      <th>mwa</th>\n",
       "    </tr>\n",
       "  </thead>\n",
       "  <tbody>\n",
       "    <tr>\n",
       "      <th>0</th>\n",
       "      <td>Canny(blur otsu)</td>\n",
       "      <td>57.208974</td>\n",
       "      <td>35.093833</td>\n",
       "      <td>185.370993</td>\n",
       "      <td>135.126285</td>\n",
       "    </tr>\n",
       "  </tbody>\n",
       "</table>\n",
       "</div>"
      ],
      "text/plain": [
       "              model     subseq      peaks      binary         mwa\n",
       "0  Canny(blur otsu)  57.208974  35.093833  185.370993  135.126285"
      ]
     },
     "metadata": {},
     "output_type": "display_data"
    }
   ],
   "source": [
    "with_model(Model.CANNY_EDGE_BLUR_OTSU, lines, points, data_dir, ranking_url, pith_url, rings_url, mse_url)"
   ]
  },
  {
   "cell_type": "code",
   "execution_count": 24,
   "id": "23d1a996",
   "metadata": {},
   "outputs": [
    {
     "name": "stdout",
     "output_type": "stream",
     "text": [
      "0 2-34e23370868237a073d086fb64851017e9b2c8c9_85903b8cb210e9ad54581e7a37999bcd5fb18443_instant.jpg 87.0\n",
      "1 1-5d205d5ea6bafd3c2e038cf1139cdd5a9825388f_275cb29ffc473512447ce75ff34baa4ecea7276d_instant_210319.jpg 59.666666666666664\n",
      "2 1-11c00bf7cc3e03dc86bde8a20c8ab390b0b2f2a4_d5d5dbc0f05ff34587375f4a567740b61c4731a6_instant_210319.jpg 18.0\n",
      "3 2-8c5de8aa63e57b1e5d3a11ce4c4e2ded042b2ef3_0693ab68bf2278539a3733129d6964ba7719f7b2.jpg 22.0\n",
      "4 1-3d78e56849a16c0b17831129f6059e367574a138_8560eccb0f16269a00f2d6c6a5fab7419529c803_instant.jpg 15.0\n",
      "5 1-947a57fc1b94be1fb8a5cce439cd8112016648b1_b151d6624e13c4d31f300f909ebb63577e42a730_instant.jpg 19.0\n",
      "6 1-1f43f59e9f5ead12a13b1cd892a8757242367189_9cd89303dd466e6b178399f8d02b12aae69ec707_instant.jpg 14.0\n",
      "7 1-85fde97a518625ed46589a6be46300e36c3ad0d9_6626ee8bedc11ff89bd5a6205d10710e72ed9801_instant_210319.jpg 16.0\n",
      "8 1-e50b5a99fd9bab50130099c750df6d80f50a9b4e_fdafeaf4b1ec0417f969870e07a0d6401488df85_instant.jpg 17.0\n",
      "9 1-0d8eabdfed2cb1f0d455e5a2050d78ba39ae6cff_0665c9464c856662322717999ae3d8301ff48907_instant.jpg 11.0\n",
      "10 2-746ba8ac1301085b9f8d8d96beb3bf7f9e7a4605_ecc100d2cbc4a9fc70c2fde3eafaadb6ceb588ca_instant.jpg 29.0\n"
     ]
    },
    {
     "data": {
      "text/html": [
       "<div>\n",
       "<style scoped>\n",
       "    .dataframe tbody tr th:only-of-type {\n",
       "        vertical-align: middle;\n",
       "    }\n",
       "\n",
       "    .dataframe tbody tr th {\n",
       "        vertical-align: top;\n",
       "    }\n",
       "\n",
       "    .dataframe thead th {\n",
       "        text-align: right;\n",
       "    }\n",
       "</style>\n",
       "<table border=\"1\" class=\"dataframe\">\n",
       "  <thead>\n",
       "    <tr style=\"text-align: right;\">\n",
       "      <th></th>\n",
       "      <th>model</th>\n",
       "      <th>subseq</th>\n",
       "      <th>peaks</th>\n",
       "      <th>binary</th>\n",
       "      <th>mwa</th>\n",
       "    </tr>\n",
       "  </thead>\n",
       "  <tbody>\n",
       "    <tr>\n",
       "      <th>0</th>\n",
       "      <td>Canny(blur triangle)</td>\n",
       "      <td>84.835595</td>\n",
       "      <td>52.948393</td>\n",
       "      <td>228.393502</td>\n",
       "      <td>171.144197</td>\n",
       "    </tr>\n",
       "  </tbody>\n",
       "</table>\n",
       "</div>"
      ],
      "text/plain": [
       "                  model     subseq      peaks      binary         mwa\n",
       "0  Canny(blur triangle)  84.835595  52.948393  228.393502  171.144197"
      ]
     },
     "metadata": {},
     "output_type": "display_data"
    }
   ],
   "source": [
    "with_model(Model.CANNY_EDGE_BLUR_TRIANGLE, lines, points, data_dir, ranking_url, pith_url, rings_url, mse_url)"
   ]
  },
  {
   "cell_type": "code",
   "execution_count": 25,
   "id": "21804530",
   "metadata": {},
   "outputs": [
    {
     "name": "stdout",
     "output_type": "stream",
     "text": [
      "0 2-34e23370868237a073d086fb64851017e9b2c8c9_85903b8cb210e9ad54581e7a37999bcd5fb18443_instant.jpg 87.0\n",
      "1 1-5d205d5ea6bafd3c2e038cf1139cdd5a9825388f_275cb29ffc473512447ce75ff34baa4ecea7276d_instant_210319.jpg 59.666666666666664\n",
      "2 1-11c00bf7cc3e03dc86bde8a20c8ab390b0b2f2a4_d5d5dbc0f05ff34587375f4a567740b61c4731a6_instant_210319.jpg 18.0\n",
      "3 2-8c5de8aa63e57b1e5d3a11ce4c4e2ded042b2ef3_0693ab68bf2278539a3733129d6964ba7719f7b2.jpg 22.0\n",
      "4 1-3d78e56849a16c0b17831129f6059e367574a138_8560eccb0f16269a00f2d6c6a5fab7419529c803_instant.jpg 15.0\n",
      "5 1-947a57fc1b94be1fb8a5cce439cd8112016648b1_b151d6624e13c4d31f300f909ebb63577e42a730_instant.jpg 19.0\n",
      "6 1-1f43f59e9f5ead12a13b1cd892a8757242367189_9cd89303dd466e6b178399f8d02b12aae69ec707_instant.jpg 14.0\n",
      "7 1-85fde97a518625ed46589a6be46300e36c3ad0d9_6626ee8bedc11ff89bd5a6205d10710e72ed9801_instant_210319.jpg 16.0\n",
      "8 1-e50b5a99fd9bab50130099c750df6d80f50a9b4e_fdafeaf4b1ec0417f969870e07a0d6401488df85_instant.jpg 17.0\n",
      "9 1-0d8eabdfed2cb1f0d455e5a2050d78ba39ae6cff_0665c9464c856662322717999ae3d8301ff48907_instant.jpg 11.0\n",
      "10 2-746ba8ac1301085b9f8d8d96beb3bf7f9e7a4605_ecc100d2cbc4a9fc70c2fde3eafaadb6ceb588ca_instant.jpg 29.0\n"
     ]
    },
    {
     "data": {
      "text/html": [
       "<div>\n",
       "<style scoped>\n",
       "    .dataframe tbody tr th:only-of-type {\n",
       "        vertical-align: middle;\n",
       "    }\n",
       "\n",
       "    .dataframe tbody tr th {\n",
       "        vertical-align: top;\n",
       "    }\n",
       "\n",
       "    .dataframe thead th {\n",
       "        text-align: right;\n",
       "    }\n",
       "</style>\n",
       "<table border=\"1\" class=\"dataframe\">\n",
       "  <thead>\n",
       "    <tr style=\"text-align: right;\">\n",
       "      <th></th>\n",
       "      <th>model</th>\n",
       "      <th>subseq</th>\n",
       "      <th>peaks</th>\n",
       "      <th>binary</th>\n",
       "      <th>mwa</th>\n",
       "    </tr>\n",
       "  </thead>\n",
       "  <tbody>\n",
       "    <tr>\n",
       "      <th>0</th>\n",
       "      <td>Canny(blur manual)</td>\n",
       "      <td>32.034387</td>\n",
       "      <td>19.09388</td>\n",
       "      <td>134.884342</td>\n",
       "      <td>93.002415</td>\n",
       "    </tr>\n",
       "  </tbody>\n",
       "</table>\n",
       "</div>"
      ],
      "text/plain": [
       "                model     subseq     peaks      binary        mwa\n",
       "0  Canny(blur manual)  32.034387  19.09388  134.884342  93.002415"
      ]
     },
     "metadata": {},
     "output_type": "display_data"
    }
   ],
   "source": [
    "with_model(Model.CANNY_EDGE_BLUR_MANUAL, lines, points, data_dir, ranking_url, pith_url, rings_url, mse_url)"
   ]
  },
  {
   "cell_type": "code",
   "execution_count": 26,
   "id": "30d22fe1",
   "metadata": {},
   "outputs": [
    {
     "name": "stdout",
     "output_type": "stream",
     "text": [
      "0 2-34e23370868237a073d086fb64851017e9b2c8c9_85903b8cb210e9ad54581e7a37999bcd5fb18443_instant.jpg 87.0\n",
      "1 1-5d205d5ea6bafd3c2e038cf1139cdd5a9825388f_275cb29ffc473512447ce75ff34baa4ecea7276d_instant_210319.jpg 59.666666666666664\n",
      "2 1-11c00bf7cc3e03dc86bde8a20c8ab390b0b2f2a4_d5d5dbc0f05ff34587375f4a567740b61c4731a6_instant_210319.jpg 18.0\n",
      "3 2-8c5de8aa63e57b1e5d3a11ce4c4e2ded042b2ef3_0693ab68bf2278539a3733129d6964ba7719f7b2.jpg 22.0\n",
      "4 1-3d78e56849a16c0b17831129f6059e367574a138_8560eccb0f16269a00f2d6c6a5fab7419529c803_instant.jpg 15.0\n",
      "5 1-947a57fc1b94be1fb8a5cce439cd8112016648b1_b151d6624e13c4d31f300f909ebb63577e42a730_instant.jpg 19.0\n",
      "6 1-1f43f59e9f5ead12a13b1cd892a8757242367189_9cd89303dd466e6b178399f8d02b12aae69ec707_instant.jpg 14.0\n",
      "7 1-85fde97a518625ed46589a6be46300e36c3ad0d9_6626ee8bedc11ff89bd5a6205d10710e72ed9801_instant_210319.jpg 16.0\n",
      "8 1-e50b5a99fd9bab50130099c750df6d80f50a9b4e_fdafeaf4b1ec0417f969870e07a0d6401488df85_instant.jpg 17.0\n",
      "9 1-0d8eabdfed2cb1f0d455e5a2050d78ba39ae6cff_0665c9464c856662322717999ae3d8301ff48907_instant.jpg 11.0\n",
      "10 2-746ba8ac1301085b9f8d8d96beb3bf7f9e7a4605_ecc100d2cbc4a9fc70c2fde3eafaadb6ceb588ca_instant.jpg 29.0\n"
     ]
    },
    {
     "data": {
      "text/html": [
       "<div>\n",
       "<style scoped>\n",
       "    .dataframe tbody tr th:only-of-type {\n",
       "        vertical-align: middle;\n",
       "    }\n",
       "\n",
       "    .dataframe tbody tr th {\n",
       "        vertical-align: top;\n",
       "    }\n",
       "\n",
       "    .dataframe thead th {\n",
       "        text-align: right;\n",
       "    }\n",
       "</style>\n",
       "<table border=\"1\" class=\"dataframe\">\n",
       "  <thead>\n",
       "    <tr style=\"text-align: right;\">\n",
       "      <th></th>\n",
       "      <th>model</th>\n",
       "      <th>subseq</th>\n",
       "      <th>peaks</th>\n",
       "      <th>binary</th>\n",
       "      <th>mwa</th>\n",
       "    </tr>\n",
       "  </thead>\n",
       "  <tbody>\n",
       "    <tr>\n",
       "      <th>0</th>\n",
       "      <td>Laplacian</td>\n",
       "      <td>283.543544</td>\n",
       "      <td>97.460885</td>\n",
       "      <td>278.609351</td>\n",
       "      <td>171.063707</td>\n",
       "    </tr>\n",
       "  </tbody>\n",
       "</table>\n",
       "</div>"
      ],
      "text/plain": [
       "       model      subseq      peaks      binary         mwa\n",
       "0  Laplacian  283.543544  97.460885  278.609351  171.063707"
      ]
     },
     "metadata": {},
     "output_type": "display_data"
    }
   ],
   "source": [
    "with_model(Model.LAPLACIAN_EDGE, lines, points, data_dir, ranking_url, pith_url, rings_url, mse_url)"
   ]
  },
  {
   "cell_type": "code",
   "execution_count": 27,
   "id": "3a400e30",
   "metadata": {},
   "outputs": [
    {
     "name": "stdout",
     "output_type": "stream",
     "text": [
      "0 2-34e23370868237a073d086fb64851017e9b2c8c9_85903b8cb210e9ad54581e7a37999bcd5fb18443_instant.jpg 87.0\n",
      "1 1-5d205d5ea6bafd3c2e038cf1139cdd5a9825388f_275cb29ffc473512447ce75ff34baa4ecea7276d_instant_210319.jpg 59.666666666666664\n",
      "2 1-11c00bf7cc3e03dc86bde8a20c8ab390b0b2f2a4_d5d5dbc0f05ff34587375f4a567740b61c4731a6_instant_210319.jpg 18.0\n",
      "3 2-8c5de8aa63e57b1e5d3a11ce4c4e2ded042b2ef3_0693ab68bf2278539a3733129d6964ba7719f7b2.jpg 22.0\n",
      "4 1-3d78e56849a16c0b17831129f6059e367574a138_8560eccb0f16269a00f2d6c6a5fab7419529c803_instant.jpg 15.0\n",
      "5 1-947a57fc1b94be1fb8a5cce439cd8112016648b1_b151d6624e13c4d31f300f909ebb63577e42a730_instant.jpg 19.0\n",
      "6 1-1f43f59e9f5ead12a13b1cd892a8757242367189_9cd89303dd466e6b178399f8d02b12aae69ec707_instant.jpg 14.0\n",
      "7 1-85fde97a518625ed46589a6be46300e36c3ad0d9_6626ee8bedc11ff89bd5a6205d10710e72ed9801_instant_210319.jpg 16.0\n",
      "8 1-e50b5a99fd9bab50130099c750df6d80f50a9b4e_fdafeaf4b1ec0417f969870e07a0d6401488df85_instant.jpg 17.0\n",
      "9 1-0d8eabdfed2cb1f0d455e5a2050d78ba39ae6cff_0665c9464c856662322717999ae3d8301ff48907_instant.jpg 11.0\n",
      "10 2-746ba8ac1301085b9f8d8d96beb3bf7f9e7a4605_ecc100d2cbc4a9fc70c2fde3eafaadb6ceb588ca_instant.jpg 29.0\n"
     ]
    },
    {
     "data": {
      "text/html": [
       "<div>\n",
       "<style scoped>\n",
       "    .dataframe tbody tr th:only-of-type {\n",
       "        vertical-align: middle;\n",
       "    }\n",
       "\n",
       "    .dataframe tbody tr th {\n",
       "        vertical-align: top;\n",
       "    }\n",
       "\n",
       "    .dataframe thead th {\n",
       "        text-align: right;\n",
       "    }\n",
       "</style>\n",
       "<table border=\"1\" class=\"dataframe\">\n",
       "  <thead>\n",
       "    <tr style=\"text-align: right;\">\n",
       "      <th></th>\n",
       "      <th>model</th>\n",
       "      <th>subseq</th>\n",
       "      <th>peaks</th>\n",
       "      <th>binary</th>\n",
       "      <th>mwa</th>\n",
       "    </tr>\n",
       "  </thead>\n",
       "  <tbody>\n",
       "    <tr>\n",
       "      <th>0</th>\n",
       "      <td>Laplacian(blur)</td>\n",
       "      <td>291.260267</td>\n",
       "      <td>79.889479</td>\n",
       "      <td>285.631747</td>\n",
       "      <td>98.574975</td>\n",
       "    </tr>\n",
       "  </tbody>\n",
       "</table>\n",
       "</div>"
      ],
      "text/plain": [
       "             model      subseq      peaks      binary        mwa\n",
       "0  Laplacian(blur)  291.260267  79.889479  285.631747  98.574975"
      ]
     },
     "metadata": {},
     "output_type": "display_data"
    }
   ],
   "source": [
    "with_model(Model.LAPLACIAN_EDGE_BLUR, lines, points, data_dir, ranking_url, pith_url, rings_url, mse_url)"
   ]
  },
  {
   "cell_type": "code",
   "execution_count": null,
   "id": "bf6dec47",
   "metadata": {},
   "outputs": [],
   "source": []
  },
  {
   "cell_type": "code",
   "execution_count": 28,
   "id": "67430856",
   "metadata": {},
   "outputs": [
    {
     "name": "stdout",
     "output_type": "stream",
     "text": [
      "0 2-34e23370868237a073d086fb64851017e9b2c8c9_85903b8cb210e9ad54581e7a37999bcd5fb18443_instant.jpg 87.0\n",
      "1 1-5d205d5ea6bafd3c2e038cf1139cdd5a9825388f_275cb29ffc473512447ce75ff34baa4ecea7276d_instant_210319.jpg 59.666666666666664\n",
      "2 1-11c00bf7cc3e03dc86bde8a20c8ab390b0b2f2a4_d5d5dbc0f05ff34587375f4a567740b61c4731a6_instant_210319.jpg 18.0\n",
      "3 2-8c5de8aa63e57b1e5d3a11ce4c4e2ded042b2ef3_0693ab68bf2278539a3733129d6964ba7719f7b2.jpg 22.0\n",
      "4 1-3d78e56849a16c0b17831129f6059e367574a138_8560eccb0f16269a00f2d6c6a5fab7419529c803_instant.jpg 15.0\n",
      "5 1-947a57fc1b94be1fb8a5cce439cd8112016648b1_b151d6624e13c4d31f300f909ebb63577e42a730_instant.jpg 19.0\n",
      "6 1-1f43f59e9f5ead12a13b1cd892a8757242367189_9cd89303dd466e6b178399f8d02b12aae69ec707_instant.jpg 14.0\n",
      "7 1-85fde97a518625ed46589a6be46300e36c3ad0d9_6626ee8bedc11ff89bd5a6205d10710e72ed9801_instant_210319.jpg 16.0\n",
      "8 1-e50b5a99fd9bab50130099c750df6d80f50a9b4e_fdafeaf4b1ec0417f969870e07a0d6401488df85_instant.jpg 17.0\n",
      "9 1-0d8eabdfed2cb1f0d455e5a2050d78ba39ae6cff_0665c9464c856662322717999ae3d8301ff48907_instant.jpg 11.0\n",
      "10 2-746ba8ac1301085b9f8d8d96beb3bf7f9e7a4605_ecc100d2cbc4a9fc70c2fde3eafaadb6ceb588ca_instant.jpg 29.0\n"
     ]
    },
    {
     "data": {
      "text/html": [
       "<div>\n",
       "<style scoped>\n",
       "    .dataframe tbody tr th:only-of-type {\n",
       "        vertical-align: middle;\n",
       "    }\n",
       "\n",
       "    .dataframe tbody tr th {\n",
       "        vertical-align: top;\n",
       "    }\n",
       "\n",
       "    .dataframe thead th {\n",
       "        text-align: right;\n",
       "    }\n",
       "</style>\n",
       "<table border=\"1\" class=\"dataframe\">\n",
       "  <thead>\n",
       "    <tr style=\"text-align: right;\">\n",
       "      <th></th>\n",
       "      <th>model</th>\n",
       "      <th>subseq</th>\n",
       "      <th>peaks</th>\n",
       "      <th>binary</th>\n",
       "      <th>mwa</th>\n",
       "    </tr>\n",
       "  </thead>\n",
       "  <tbody>\n",
       "    <tr>\n",
       "      <th>0</th>\n",
       "      <td>Polar Sobel</td>\n",
       "      <td>393.525104</td>\n",
       "      <td>88.948044</td>\n",
       "      <td>352.52578</td>\n",
       "      <td>126.856469</td>\n",
       "    </tr>\n",
       "  </tbody>\n",
       "</table>\n",
       "</div>"
      ],
      "text/plain": [
       "         model      subseq      peaks     binary         mwa\n",
       "0  Polar Sobel  393.525104  88.948044  352.52578  126.856469"
      ]
     },
     "metadata": {},
     "output_type": "display_data"
    }
   ],
   "source": [
    "with_model(Model.POLAR_SOBEL_EDGE, lines, points, data_dir, ranking_url, pith_url, rings_url, mse_url)"
   ]
  },
  {
   "cell_type": "code",
   "execution_count": 29,
   "id": "3b6f3da2",
   "metadata": {},
   "outputs": [
    {
     "name": "stdout",
     "output_type": "stream",
     "text": [
      "0 2-34e23370868237a073d086fb64851017e9b2c8c9_85903b8cb210e9ad54581e7a37999bcd5fb18443_instant.jpg 87.0\n",
      "1 1-5d205d5ea6bafd3c2e038cf1139cdd5a9825388f_275cb29ffc473512447ce75ff34baa4ecea7276d_instant_210319.jpg 59.666666666666664\n",
      "2 1-11c00bf7cc3e03dc86bde8a20c8ab390b0b2f2a4_d5d5dbc0f05ff34587375f4a567740b61c4731a6_instant_210319.jpg 18.0\n",
      "3 2-8c5de8aa63e57b1e5d3a11ce4c4e2ded042b2ef3_0693ab68bf2278539a3733129d6964ba7719f7b2.jpg 22.0\n",
      "4 1-3d78e56849a16c0b17831129f6059e367574a138_8560eccb0f16269a00f2d6c6a5fab7419529c803_instant.jpg 15.0\n",
      "5 1-947a57fc1b94be1fb8a5cce439cd8112016648b1_b151d6624e13c4d31f300f909ebb63577e42a730_instant.jpg 19.0\n",
      "6 1-1f43f59e9f5ead12a13b1cd892a8757242367189_9cd89303dd466e6b178399f8d02b12aae69ec707_instant.jpg 14.0\n",
      "7 1-85fde97a518625ed46589a6be46300e36c3ad0d9_6626ee8bedc11ff89bd5a6205d10710e72ed9801_instant_210319.jpg 16.0\n",
      "8 1-e50b5a99fd9bab50130099c750df6d80f50a9b4e_fdafeaf4b1ec0417f969870e07a0d6401488df85_instant.jpg 17.0\n",
      "9 1-0d8eabdfed2cb1f0d455e5a2050d78ba39ae6cff_0665c9464c856662322717999ae3d8301ff48907_instant.jpg 11.0\n",
      "10 2-746ba8ac1301085b9f8d8d96beb3bf7f9e7a4605_ecc100d2cbc4a9fc70c2fde3eafaadb6ceb588ca_instant.jpg 29.0\n"
     ]
    },
    {
     "data": {
      "text/html": [
       "<div>\n",
       "<style scoped>\n",
       "    .dataframe tbody tr th:only-of-type {\n",
       "        vertical-align: middle;\n",
       "    }\n",
       "\n",
       "    .dataframe tbody tr th {\n",
       "        vertical-align: top;\n",
       "    }\n",
       "\n",
       "    .dataframe thead th {\n",
       "        text-align: right;\n",
       "    }\n",
       "</style>\n",
       "<table border=\"1\" class=\"dataframe\">\n",
       "  <thead>\n",
       "    <tr style=\"text-align: right;\">\n",
       "      <th></th>\n",
       "      <th>model</th>\n",
       "      <th>subseq</th>\n",
       "      <th>peaks</th>\n",
       "      <th>binary</th>\n",
       "      <th>mwa</th>\n",
       "    </tr>\n",
       "  </thead>\n",
       "  <tbody>\n",
       "    <tr>\n",
       "      <th>0</th>\n",
       "      <td>Polar Sobel(blur)</td>\n",
       "      <td>330.88113</td>\n",
       "      <td>40.514303</td>\n",
       "      <td>310.260028</td>\n",
       "      <td>71.738328</td>\n",
       "    </tr>\n",
       "  </tbody>\n",
       "</table>\n",
       "</div>"
      ],
      "text/plain": [
       "               model     subseq      peaks      binary        mwa\n",
       "0  Polar Sobel(blur)  330.88113  40.514303  310.260028  71.738328"
      ]
     },
     "metadata": {},
     "output_type": "display_data"
    }
   ],
   "source": [
    "with_model(Model.POLAR_SOBEL_EDGE_BLUR, lines, points, data_dir, ranking_url, pith_url, rings_url, mse_url)"
   ]
  },
  {
   "cell_type": "code",
   "execution_count": 30,
   "id": "ee75dd80",
   "metadata": {},
   "outputs": [
    {
     "name": "stdout",
     "output_type": "stream",
     "text": [
      "0 2-34e23370868237a073d086fb64851017e9b2c8c9_85903b8cb210e9ad54581e7a37999bcd5fb18443_instant.jpg 87.0\n",
      "1 1-5d205d5ea6bafd3c2e038cf1139cdd5a9825388f_275cb29ffc473512447ce75ff34baa4ecea7276d_instant_210319.jpg 59.666666666666664\n",
      "2 1-11c00bf7cc3e03dc86bde8a20c8ab390b0b2f2a4_d5d5dbc0f05ff34587375f4a567740b61c4731a6_instant_210319.jpg 18.0\n",
      "3 2-8c5de8aa63e57b1e5d3a11ce4c4e2ded042b2ef3_0693ab68bf2278539a3733129d6964ba7719f7b2.jpg 22.0\n",
      "4 1-3d78e56849a16c0b17831129f6059e367574a138_8560eccb0f16269a00f2d6c6a5fab7419529c803_instant.jpg 15.0\n",
      "5 1-947a57fc1b94be1fb8a5cce439cd8112016648b1_b151d6624e13c4d31f300f909ebb63577e42a730_instant.jpg 19.0\n",
      "6 1-1f43f59e9f5ead12a13b1cd892a8757242367189_9cd89303dd466e6b178399f8d02b12aae69ec707_instant.jpg 14.0\n",
      "7 1-85fde97a518625ed46589a6be46300e36c3ad0d9_6626ee8bedc11ff89bd5a6205d10710e72ed9801_instant_210319.jpg 16.0\n",
      "8 1-e50b5a99fd9bab50130099c750df6d80f50a9b4e_fdafeaf4b1ec0417f969870e07a0d6401488df85_instant.jpg 17.0\n",
      "9 1-0d8eabdfed2cb1f0d455e5a2050d78ba39ae6cff_0665c9464c856662322717999ae3d8301ff48907_instant.jpg 11.0\n",
      "10 2-746ba8ac1301085b9f8d8d96beb3bf7f9e7a4605_ecc100d2cbc4a9fc70c2fde3eafaadb6ceb588ca_instant.jpg 29.0\n"
     ]
    },
    {
     "data": {
      "text/html": [
       "<div>\n",
       "<style scoped>\n",
       "    .dataframe tbody tr th:only-of-type {\n",
       "        vertical-align: middle;\n",
       "    }\n",
       "\n",
       "    .dataframe tbody tr th {\n",
       "        vertical-align: top;\n",
       "    }\n",
       "\n",
       "    .dataframe thead th {\n",
       "        text-align: right;\n",
       "    }\n",
       "</style>\n",
       "<table border=\"1\" class=\"dataframe\">\n",
       "  <thead>\n",
       "    <tr style=\"text-align: right;\">\n",
       "      <th></th>\n",
       "      <th>model</th>\n",
       "      <th>subseq</th>\n",
       "      <th>peaks</th>\n",
       "      <th>binary</th>\n",
       "      <th>mwa</th>\n",
       "    </tr>\n",
       "  </thead>\n",
       "  <tbody>\n",
       "    <tr>\n",
       "      <th>0</th>\n",
       "      <td>Polar Canny</td>\n",
       "      <td>76.644352</td>\n",
       "      <td>48.319843</td>\n",
       "      <td>246.095163</td>\n",
       "      <td>180.598974</td>\n",
       "    </tr>\n",
       "  </tbody>\n",
       "</table>\n",
       "</div>"
      ],
      "text/plain": [
       "         model     subseq      peaks      binary         mwa\n",
       "0  Polar Canny  76.644352  48.319843  246.095163  180.598974"
      ]
     },
     "metadata": {},
     "output_type": "display_data"
    }
   ],
   "source": [
    "with_model(Model.POLAR_CANNY_EDGE, lines, points, data_dir, ranking_url, pith_url, rings_url, mse_url)"
   ]
  },
  {
   "cell_type": "code",
   "execution_count": 31,
   "id": "95860264",
   "metadata": {},
   "outputs": [
    {
     "name": "stdout",
     "output_type": "stream",
     "text": [
      "0 2-34e23370868237a073d086fb64851017e9b2c8c9_85903b8cb210e9ad54581e7a37999bcd5fb18443_instant.jpg 87.0\n",
      "1 1-5d205d5ea6bafd3c2e038cf1139cdd5a9825388f_275cb29ffc473512447ce75ff34baa4ecea7276d_instant_210319.jpg 59.666666666666664\n",
      "2 1-11c00bf7cc3e03dc86bde8a20c8ab390b0b2f2a4_d5d5dbc0f05ff34587375f4a567740b61c4731a6_instant_210319.jpg 18.0\n",
      "3 2-8c5de8aa63e57b1e5d3a11ce4c4e2ded042b2ef3_0693ab68bf2278539a3733129d6964ba7719f7b2.jpg 22.0\n",
      "4 1-3d78e56849a16c0b17831129f6059e367574a138_8560eccb0f16269a00f2d6c6a5fab7419529c803_instant.jpg 15.0\n",
      "5 1-947a57fc1b94be1fb8a5cce439cd8112016648b1_b151d6624e13c4d31f300f909ebb63577e42a730_instant.jpg 19.0\n",
      "6 1-1f43f59e9f5ead12a13b1cd892a8757242367189_9cd89303dd466e6b178399f8d02b12aae69ec707_instant.jpg 14.0\n",
      "7 1-85fde97a518625ed46589a6be46300e36c3ad0d9_6626ee8bedc11ff89bd5a6205d10710e72ed9801_instant_210319.jpg 16.0\n",
      "8 1-e50b5a99fd9bab50130099c750df6d80f50a9b4e_fdafeaf4b1ec0417f969870e07a0d6401488df85_instant.jpg 17.0\n",
      "9 1-0d8eabdfed2cb1f0d455e5a2050d78ba39ae6cff_0665c9464c856662322717999ae3d8301ff48907_instant.jpg 11.0\n",
      "10 2-746ba8ac1301085b9f8d8d96beb3bf7f9e7a4605_ecc100d2cbc4a9fc70c2fde3eafaadb6ceb588ca_instant.jpg 29.0\n"
     ]
    },
    {
     "data": {
      "text/html": [
       "<div>\n",
       "<style scoped>\n",
       "    .dataframe tbody tr th:only-of-type {\n",
       "        vertical-align: middle;\n",
       "    }\n",
       "\n",
       "    .dataframe tbody tr th {\n",
       "        vertical-align: top;\n",
       "    }\n",
       "\n",
       "    .dataframe thead th {\n",
       "        text-align: right;\n",
       "    }\n",
       "</style>\n",
       "<table border=\"1\" class=\"dataframe\">\n",
       "  <thead>\n",
       "    <tr style=\"text-align: right;\">\n",
       "      <th></th>\n",
       "      <th>model</th>\n",
       "      <th>subseq</th>\n",
       "      <th>peaks</th>\n",
       "      <th>binary</th>\n",
       "      <th>mwa</th>\n",
       "    </tr>\n",
       "  </thead>\n",
       "  <tbody>\n",
       "    <tr>\n",
       "      <th>0</th>\n",
       "      <td>Polar Canny(otsu)</td>\n",
       "      <td>88.878388</td>\n",
       "      <td>56.672202</td>\n",
       "      <td>268.350984</td>\n",
       "      <td>199.233198</td>\n",
       "    </tr>\n",
       "  </tbody>\n",
       "</table>\n",
       "</div>"
      ],
      "text/plain": [
       "               model     subseq      peaks      binary         mwa\n",
       "0  Polar Canny(otsu)  88.878388  56.672202  268.350984  199.233198"
      ]
     },
     "metadata": {},
     "output_type": "display_data"
    }
   ],
   "source": [
    "with_model(Model.POLAR_CANNY_EDGE_OTSU, lines, points, data_dir, ranking_url, pith_url, rings_url, mse_url)"
   ]
  },
  {
   "cell_type": "code",
   "execution_count": 32,
   "id": "cb91f2b9",
   "metadata": {},
   "outputs": [
    {
     "name": "stdout",
     "output_type": "stream",
     "text": [
      "0 2-34e23370868237a073d086fb64851017e9b2c8c9_85903b8cb210e9ad54581e7a37999bcd5fb18443_instant.jpg 87.0\n",
      "1 1-5d205d5ea6bafd3c2e038cf1139cdd5a9825388f_275cb29ffc473512447ce75ff34baa4ecea7276d_instant_210319.jpg 59.666666666666664\n",
      "2 1-11c00bf7cc3e03dc86bde8a20c8ab390b0b2f2a4_d5d5dbc0f05ff34587375f4a567740b61c4731a6_instant_210319.jpg 18.0\n",
      "3 2-8c5de8aa63e57b1e5d3a11ce4c4e2ded042b2ef3_0693ab68bf2278539a3733129d6964ba7719f7b2.jpg 22.0\n",
      "4 1-3d78e56849a16c0b17831129f6059e367574a138_8560eccb0f16269a00f2d6c6a5fab7419529c803_instant.jpg 15.0\n",
      "5 1-947a57fc1b94be1fb8a5cce439cd8112016648b1_b151d6624e13c4d31f300f909ebb63577e42a730_instant.jpg 19.0\n",
      "6 1-1f43f59e9f5ead12a13b1cd892a8757242367189_9cd89303dd466e6b178399f8d02b12aae69ec707_instant.jpg 14.0\n",
      "7 1-85fde97a518625ed46589a6be46300e36c3ad0d9_6626ee8bedc11ff89bd5a6205d10710e72ed9801_instant_210319.jpg 16.0\n",
      "8 1-e50b5a99fd9bab50130099c750df6d80f50a9b4e_fdafeaf4b1ec0417f969870e07a0d6401488df85_instant.jpg 17.0\n",
      "9 1-0d8eabdfed2cb1f0d455e5a2050d78ba39ae6cff_0665c9464c856662322717999ae3d8301ff48907_instant.jpg 11.0\n",
      "10 2-746ba8ac1301085b9f8d8d96beb3bf7f9e7a4605_ecc100d2cbc4a9fc70c2fde3eafaadb6ceb588ca_instant.jpg 29.0\n"
     ]
    },
    {
     "data": {
      "text/html": [
       "<div>\n",
       "<style scoped>\n",
       "    .dataframe tbody tr th:only-of-type {\n",
       "        vertical-align: middle;\n",
       "    }\n",
       "\n",
       "    .dataframe tbody tr th {\n",
       "        vertical-align: top;\n",
       "    }\n",
       "\n",
       "    .dataframe thead th {\n",
       "        text-align: right;\n",
       "    }\n",
       "</style>\n",
       "<table border=\"1\" class=\"dataframe\">\n",
       "  <thead>\n",
       "    <tr style=\"text-align: right;\">\n",
       "      <th></th>\n",
       "      <th>model</th>\n",
       "      <th>subseq</th>\n",
       "      <th>peaks</th>\n",
       "      <th>binary</th>\n",
       "      <th>mwa</th>\n",
       "    </tr>\n",
       "  </thead>\n",
       "  <tbody>\n",
       "    <tr>\n",
       "      <th>0</th>\n",
       "      <td>Polar Canny(triangle)</td>\n",
       "      <td>113.174342</td>\n",
       "      <td>72.412701</td>\n",
       "      <td>302.148057</td>\n",
       "      <td>226.17374</td>\n",
       "    </tr>\n",
       "  </tbody>\n",
       "</table>\n",
       "</div>"
      ],
      "text/plain": [
       "                   model      subseq      peaks      binary        mwa\n",
       "0  Polar Canny(triangle)  113.174342  72.412701  302.148057  226.17374"
      ]
     },
     "metadata": {},
     "output_type": "display_data"
    }
   ],
   "source": [
    "with_model(Model.POLAR_CANNY_EDGE_TRIANGLE, lines, points, data_dir, ranking_url, pith_url, rings_url, mse_url)"
   ]
  },
  {
   "cell_type": "code",
   "execution_count": 33,
   "id": "b9b3b7fa",
   "metadata": {},
   "outputs": [
    {
     "name": "stdout",
     "output_type": "stream",
     "text": [
      "0 2-34e23370868237a073d086fb64851017e9b2c8c9_85903b8cb210e9ad54581e7a37999bcd5fb18443_instant.jpg 87.0\n",
      "1 1-5d205d5ea6bafd3c2e038cf1139cdd5a9825388f_275cb29ffc473512447ce75ff34baa4ecea7276d_instant_210319.jpg 59.666666666666664\n",
      "2 1-11c00bf7cc3e03dc86bde8a20c8ab390b0b2f2a4_d5d5dbc0f05ff34587375f4a567740b61c4731a6_instant_210319.jpg 18.0\n",
      "3 2-8c5de8aa63e57b1e5d3a11ce4c4e2ded042b2ef3_0693ab68bf2278539a3733129d6964ba7719f7b2.jpg 22.0\n",
      "4 1-3d78e56849a16c0b17831129f6059e367574a138_8560eccb0f16269a00f2d6c6a5fab7419529c803_instant.jpg 15.0\n",
      "5 1-947a57fc1b94be1fb8a5cce439cd8112016648b1_b151d6624e13c4d31f300f909ebb63577e42a730_instant.jpg 19.0\n",
      "6 1-1f43f59e9f5ead12a13b1cd892a8757242367189_9cd89303dd466e6b178399f8d02b12aae69ec707_instant.jpg 14.0\n",
      "7 1-85fde97a518625ed46589a6be46300e36c3ad0d9_6626ee8bedc11ff89bd5a6205d10710e72ed9801_instant_210319.jpg 16.0\n",
      "8 1-e50b5a99fd9bab50130099c750df6d80f50a9b4e_fdafeaf4b1ec0417f969870e07a0d6401488df85_instant.jpg 17.0\n",
      "9 1-0d8eabdfed2cb1f0d455e5a2050d78ba39ae6cff_0665c9464c856662322717999ae3d8301ff48907_instant.jpg 11.0\n",
      "10 2-746ba8ac1301085b9f8d8d96beb3bf7f9e7a4605_ecc100d2cbc4a9fc70c2fde3eafaadb6ceb588ca_instant.jpg 29.0\n"
     ]
    },
    {
     "data": {
      "text/html": [
       "<div>\n",
       "<style scoped>\n",
       "    .dataframe tbody tr th:only-of-type {\n",
       "        vertical-align: middle;\n",
       "    }\n",
       "\n",
       "    .dataframe tbody tr th {\n",
       "        vertical-align: top;\n",
       "    }\n",
       "\n",
       "    .dataframe thead th {\n",
       "        text-align: right;\n",
       "    }\n",
       "</style>\n",
       "<table border=\"1\" class=\"dataframe\">\n",
       "  <thead>\n",
       "    <tr style=\"text-align: right;\">\n",
       "      <th></th>\n",
       "      <th>model</th>\n",
       "      <th>subseq</th>\n",
       "      <th>peaks</th>\n",
       "      <th>binary</th>\n",
       "      <th>mwa</th>\n",
       "    </tr>\n",
       "  </thead>\n",
       "  <tbody>\n",
       "    <tr>\n",
       "      <th>0</th>\n",
       "      <td>Polar Canny(manual)</td>\n",
       "      <td>61.609859</td>\n",
       "      <td>38.166523</td>\n",
       "      <td>219.130386</td>\n",
       "      <td>157.143286</td>\n",
       "    </tr>\n",
       "  </tbody>\n",
       "</table>\n",
       "</div>"
      ],
      "text/plain": [
       "                 model     subseq      peaks      binary         mwa\n",
       "0  Polar Canny(manual)  61.609859  38.166523  219.130386  157.143286"
      ]
     },
     "metadata": {},
     "output_type": "display_data"
    }
   ],
   "source": [
    "with_model(Model.POLAR_CANNY_EDGE_MANUAL, lines, points, data_dir, ranking_url, pith_url, rings_url, mse_url)"
   ]
  },
  {
   "cell_type": "code",
   "execution_count": 34,
   "id": "f3b7e6da",
   "metadata": {},
   "outputs": [
    {
     "name": "stdout",
     "output_type": "stream",
     "text": [
      "0 2-34e23370868237a073d086fb64851017e9b2c8c9_85903b8cb210e9ad54581e7a37999bcd5fb18443_instant.jpg 87.0\n",
      "1 1-5d205d5ea6bafd3c2e038cf1139cdd5a9825388f_275cb29ffc473512447ce75ff34baa4ecea7276d_instant_210319.jpg 59.666666666666664\n",
      "2 1-11c00bf7cc3e03dc86bde8a20c8ab390b0b2f2a4_d5d5dbc0f05ff34587375f4a567740b61c4731a6_instant_210319.jpg 18.0\n",
      "3 2-8c5de8aa63e57b1e5d3a11ce4c4e2ded042b2ef3_0693ab68bf2278539a3733129d6964ba7719f7b2.jpg 22.0\n",
      "4 1-3d78e56849a16c0b17831129f6059e367574a138_8560eccb0f16269a00f2d6c6a5fab7419529c803_instant.jpg 15.0\n",
      "5 1-947a57fc1b94be1fb8a5cce439cd8112016648b1_b151d6624e13c4d31f300f909ebb63577e42a730_instant.jpg 19.0\n",
      "6 1-1f43f59e9f5ead12a13b1cd892a8757242367189_9cd89303dd466e6b178399f8d02b12aae69ec707_instant.jpg 14.0\n",
      "7 1-85fde97a518625ed46589a6be46300e36c3ad0d9_6626ee8bedc11ff89bd5a6205d10710e72ed9801_instant_210319.jpg 16.0\n",
      "8 1-e50b5a99fd9bab50130099c750df6d80f50a9b4e_fdafeaf4b1ec0417f969870e07a0d6401488df85_instant.jpg 17.0\n",
      "9 1-0d8eabdfed2cb1f0d455e5a2050d78ba39ae6cff_0665c9464c856662322717999ae3d8301ff48907_instant.jpg 11.0\n",
      "10 2-746ba8ac1301085b9f8d8d96beb3bf7f9e7a4605_ecc100d2cbc4a9fc70c2fde3eafaadb6ceb588ca_instant.jpg 29.0\n"
     ]
    },
    {
     "data": {
      "text/html": [
       "<div>\n",
       "<style scoped>\n",
       "    .dataframe tbody tr th:only-of-type {\n",
       "        vertical-align: middle;\n",
       "    }\n",
       "\n",
       "    .dataframe tbody tr th {\n",
       "        vertical-align: top;\n",
       "    }\n",
       "\n",
       "    .dataframe thead th {\n",
       "        text-align: right;\n",
       "    }\n",
       "</style>\n",
       "<table border=\"1\" class=\"dataframe\">\n",
       "  <thead>\n",
       "    <tr style=\"text-align: right;\">\n",
       "      <th></th>\n",
       "      <th>model</th>\n",
       "      <th>subseq</th>\n",
       "      <th>peaks</th>\n",
       "      <th>binary</th>\n",
       "      <th>mwa</th>\n",
       "    </tr>\n",
       "  </thead>\n",
       "  <tbody>\n",
       "    <tr>\n",
       "      <th>0</th>\n",
       "      <td>Polar Canny(blur)</td>\n",
       "      <td>41.439364</td>\n",
       "      <td>27.974819</td>\n",
       "      <td>187.727625</td>\n",
       "      <td>132.194214</td>\n",
       "    </tr>\n",
       "  </tbody>\n",
       "</table>\n",
       "</div>"
      ],
      "text/plain": [
       "               model     subseq      peaks      binary         mwa\n",
       "0  Polar Canny(blur)  41.439364  27.974819  187.727625  132.194214"
      ]
     },
     "metadata": {},
     "output_type": "display_data"
    }
   ],
   "source": [
    "with_model(Model.POLAR_CANNY_EDGE_BLUR, lines, points, data_dir, ranking_url, pith_url, rings_url, mse_url)"
   ]
  },
  {
   "cell_type": "code",
   "execution_count": 35,
   "id": "d30f5bab",
   "metadata": {},
   "outputs": [
    {
     "name": "stdout",
     "output_type": "stream",
     "text": [
      "0 2-34e23370868237a073d086fb64851017e9b2c8c9_85903b8cb210e9ad54581e7a37999bcd5fb18443_instant.jpg 87.0\n",
      "1 1-5d205d5ea6bafd3c2e038cf1139cdd5a9825388f_275cb29ffc473512447ce75ff34baa4ecea7276d_instant_210319.jpg 59.666666666666664\n",
      "2 1-11c00bf7cc3e03dc86bde8a20c8ab390b0b2f2a4_d5d5dbc0f05ff34587375f4a567740b61c4731a6_instant_210319.jpg 18.0\n",
      "3 2-8c5de8aa63e57b1e5d3a11ce4c4e2ded042b2ef3_0693ab68bf2278539a3733129d6964ba7719f7b2.jpg 22.0\n",
      "4 1-3d78e56849a16c0b17831129f6059e367574a138_8560eccb0f16269a00f2d6c6a5fab7419529c803_instant.jpg 15.0\n",
      "5 1-947a57fc1b94be1fb8a5cce439cd8112016648b1_b151d6624e13c4d31f300f909ebb63577e42a730_instant.jpg 19.0\n",
      "6 1-1f43f59e9f5ead12a13b1cd892a8757242367189_9cd89303dd466e6b178399f8d02b12aae69ec707_instant.jpg 14.0\n",
      "7 1-85fde97a518625ed46589a6be46300e36c3ad0d9_6626ee8bedc11ff89bd5a6205d10710e72ed9801_instant_210319.jpg 16.0\n",
      "8 1-e50b5a99fd9bab50130099c750df6d80f50a9b4e_fdafeaf4b1ec0417f969870e07a0d6401488df85_instant.jpg 17.0\n",
      "9 1-0d8eabdfed2cb1f0d455e5a2050d78ba39ae6cff_0665c9464c856662322717999ae3d8301ff48907_instant.jpg 11.0\n",
      "10 2-746ba8ac1301085b9f8d8d96beb3bf7f9e7a4605_ecc100d2cbc4a9fc70c2fde3eafaadb6ceb588ca_instant.jpg 29.0\n"
     ]
    },
    {
     "data": {
      "text/html": [
       "<div>\n",
       "<style scoped>\n",
       "    .dataframe tbody tr th:only-of-type {\n",
       "        vertical-align: middle;\n",
       "    }\n",
       "\n",
       "    .dataframe tbody tr th {\n",
       "        vertical-align: top;\n",
       "    }\n",
       "\n",
       "    .dataframe thead th {\n",
       "        text-align: right;\n",
       "    }\n",
       "</style>\n",
       "<table border=\"1\" class=\"dataframe\">\n",
       "  <thead>\n",
       "    <tr style=\"text-align: right;\">\n",
       "      <th></th>\n",
       "      <th>model</th>\n",
       "      <th>subseq</th>\n",
       "      <th>peaks</th>\n",
       "      <th>binary</th>\n",
       "      <th>mwa</th>\n",
       "    </tr>\n",
       "  </thead>\n",
       "  <tbody>\n",
       "    <tr>\n",
       "      <th>0</th>\n",
       "      <td>Polar Canny(blur otsu)</td>\n",
       "      <td>53.876472</td>\n",
       "      <td>37.065851</td>\n",
       "      <td>219.559331</td>\n",
       "      <td>158.667341</td>\n",
       "    </tr>\n",
       "  </tbody>\n",
       "</table>\n",
       "</div>"
      ],
      "text/plain": [
       "                    model     subseq      peaks      binary         mwa\n",
       "0  Polar Canny(blur otsu)  53.876472  37.065851  219.559331  158.667341"
      ]
     },
     "metadata": {},
     "output_type": "display_data"
    }
   ],
   "source": [
    "with_model(Model.POLAR_CANNY_EDGE_BLUR_OTSU, lines, points, data_dir, ranking_url, pith_url, rings_url, mse_url)"
   ]
  },
  {
   "cell_type": "code",
   "execution_count": 36,
   "id": "4a5752ee",
   "metadata": {},
   "outputs": [
    {
     "name": "stdout",
     "output_type": "stream",
     "text": [
      "0 2-34e23370868237a073d086fb64851017e9b2c8c9_85903b8cb210e9ad54581e7a37999bcd5fb18443_instant.jpg 87.0\n",
      "1 1-5d205d5ea6bafd3c2e038cf1139cdd5a9825388f_275cb29ffc473512447ce75ff34baa4ecea7276d_instant_210319.jpg 59.666666666666664\n",
      "2 1-11c00bf7cc3e03dc86bde8a20c8ab390b0b2f2a4_d5d5dbc0f05ff34587375f4a567740b61c4731a6_instant_210319.jpg 18.0\n",
      "3 2-8c5de8aa63e57b1e5d3a11ce4c4e2ded042b2ef3_0693ab68bf2278539a3733129d6964ba7719f7b2.jpg 22.0\n",
      "4 1-3d78e56849a16c0b17831129f6059e367574a138_8560eccb0f16269a00f2d6c6a5fab7419529c803_instant.jpg 15.0\n",
      "5 1-947a57fc1b94be1fb8a5cce439cd8112016648b1_b151d6624e13c4d31f300f909ebb63577e42a730_instant.jpg 19.0\n",
      "6 1-1f43f59e9f5ead12a13b1cd892a8757242367189_9cd89303dd466e6b178399f8d02b12aae69ec707_instant.jpg 14.0\n",
      "7 1-85fde97a518625ed46589a6be46300e36c3ad0d9_6626ee8bedc11ff89bd5a6205d10710e72ed9801_instant_210319.jpg 16.0\n",
      "8 1-e50b5a99fd9bab50130099c750df6d80f50a9b4e_fdafeaf4b1ec0417f969870e07a0d6401488df85_instant.jpg 17.0\n",
      "9 1-0d8eabdfed2cb1f0d455e5a2050d78ba39ae6cff_0665c9464c856662322717999ae3d8301ff48907_instant.jpg 11.0\n",
      "10 2-746ba8ac1301085b9f8d8d96beb3bf7f9e7a4605_ecc100d2cbc4a9fc70c2fde3eafaadb6ceb588ca_instant.jpg 29.0\n"
     ]
    },
    {
     "data": {
      "text/html": [
       "<div>\n",
       "<style scoped>\n",
       "    .dataframe tbody tr th:only-of-type {\n",
       "        vertical-align: middle;\n",
       "    }\n",
       "\n",
       "    .dataframe tbody tr th {\n",
       "        vertical-align: top;\n",
       "    }\n",
       "\n",
       "    .dataframe thead th {\n",
       "        text-align: right;\n",
       "    }\n",
       "</style>\n",
       "<table border=\"1\" class=\"dataframe\">\n",
       "  <thead>\n",
       "    <tr style=\"text-align: right;\">\n",
       "      <th></th>\n",
       "      <th>model</th>\n",
       "      <th>subseq</th>\n",
       "      <th>peaks</th>\n",
       "      <th>binary</th>\n",
       "      <th>mwa</th>\n",
       "    </tr>\n",
       "  </thead>\n",
       "  <tbody>\n",
       "    <tr>\n",
       "      <th>0</th>\n",
       "      <td>Polar Canny(blur triangle)</td>\n",
       "      <td>90.478677</td>\n",
       "      <td>63.175075</td>\n",
       "      <td>281.521904</td>\n",
       "      <td>211.204385</td>\n",
       "    </tr>\n",
       "  </tbody>\n",
       "</table>\n",
       "</div>"
      ],
      "text/plain": [
       "                        model     subseq      peaks      binary         mwa\n",
       "0  Polar Canny(blur triangle)  90.478677  63.175075  281.521904  211.204385"
      ]
     },
     "metadata": {},
     "output_type": "display_data"
    }
   ],
   "source": [
    "with_model(Model.POLAR_CANNY_EDGE_BLUR_TRIANGLE, lines, points, data_dir, ranking_url, pith_url, rings_url, mse_url)"
   ]
  },
  {
   "cell_type": "code",
   "execution_count": 37,
   "id": "d1eef189",
   "metadata": {},
   "outputs": [
    {
     "name": "stdout",
     "output_type": "stream",
     "text": [
      "0 2-34e23370868237a073d086fb64851017e9b2c8c9_85903b8cb210e9ad54581e7a37999bcd5fb18443_instant.jpg 87.0\n",
      "1 1-5d205d5ea6bafd3c2e038cf1139cdd5a9825388f_275cb29ffc473512447ce75ff34baa4ecea7276d_instant_210319.jpg 59.666666666666664\n",
      "2 1-11c00bf7cc3e03dc86bde8a20c8ab390b0b2f2a4_d5d5dbc0f05ff34587375f4a567740b61c4731a6_instant_210319.jpg 18.0\n",
      "3 2-8c5de8aa63e57b1e5d3a11ce4c4e2ded042b2ef3_0693ab68bf2278539a3733129d6964ba7719f7b2.jpg 22.0\n",
      "4 1-3d78e56849a16c0b17831129f6059e367574a138_8560eccb0f16269a00f2d6c6a5fab7419529c803_instant.jpg 15.0\n",
      "5 1-947a57fc1b94be1fb8a5cce439cd8112016648b1_b151d6624e13c4d31f300f909ebb63577e42a730_instant.jpg 19.0\n",
      "6 1-1f43f59e9f5ead12a13b1cd892a8757242367189_9cd89303dd466e6b178399f8d02b12aae69ec707_instant.jpg 14.0\n",
      "7 1-85fde97a518625ed46589a6be46300e36c3ad0d9_6626ee8bedc11ff89bd5a6205d10710e72ed9801_instant_210319.jpg 16.0\n",
      "8 1-e50b5a99fd9bab50130099c750df6d80f50a9b4e_fdafeaf4b1ec0417f969870e07a0d6401488df85_instant.jpg 17.0\n",
      "9 1-0d8eabdfed2cb1f0d455e5a2050d78ba39ae6cff_0665c9464c856662322717999ae3d8301ff48907_instant.jpg 11.0\n",
      "10 2-746ba8ac1301085b9f8d8d96beb3bf7f9e7a4605_ecc100d2cbc4a9fc70c2fde3eafaadb6ceb588ca_instant.jpg 29.0\n"
     ]
    },
    {
     "data": {
      "text/html": [
       "<div>\n",
       "<style scoped>\n",
       "    .dataframe tbody tr th:only-of-type {\n",
       "        vertical-align: middle;\n",
       "    }\n",
       "\n",
       "    .dataframe tbody tr th {\n",
       "        vertical-align: top;\n",
       "    }\n",
       "\n",
       "    .dataframe thead th {\n",
       "        text-align: right;\n",
       "    }\n",
       "</style>\n",
       "<table border=\"1\" class=\"dataframe\">\n",
       "  <thead>\n",
       "    <tr style=\"text-align: right;\">\n",
       "      <th></th>\n",
       "      <th>model</th>\n",
       "      <th>subseq</th>\n",
       "      <th>peaks</th>\n",
       "      <th>binary</th>\n",
       "      <th>mwa</th>\n",
       "    </tr>\n",
       "  </thead>\n",
       "  <tbody>\n",
       "    <tr>\n",
       "      <th>0</th>\n",
       "      <td>Polar Canny(blur manual)</td>\n",
       "      <td>25.558127</td>\n",
       "      <td>17.038133</td>\n",
       "      <td>148.890127</td>\n",
       "      <td>99.358762</td>\n",
       "    </tr>\n",
       "  </tbody>\n",
       "</table>\n",
       "</div>"
      ],
      "text/plain": [
       "                      model     subseq      peaks      binary        mwa\n",
       "0  Polar Canny(blur manual)  25.558127  17.038133  148.890127  99.358762"
      ]
     },
     "metadata": {},
     "output_type": "display_data"
    }
   ],
   "source": [
    "with_model(Model.POLAR_CANNY_EDGE_BLUR_MANUAL, lines, points, data_dir, ranking_url, pith_url, rings_url, mse_url)"
   ]
  },
  {
   "cell_type": "code",
   "execution_count": 38,
   "id": "a2c63b76",
   "metadata": {},
   "outputs": [
    {
     "name": "stdout",
     "output_type": "stream",
     "text": [
      "0 2-34e23370868237a073d086fb64851017e9b2c8c9_85903b8cb210e9ad54581e7a37999bcd5fb18443_instant.jpg 87.0\n",
      "1 1-5d205d5ea6bafd3c2e038cf1139cdd5a9825388f_275cb29ffc473512447ce75ff34baa4ecea7276d_instant_210319.jpg 59.666666666666664\n",
      "2 1-11c00bf7cc3e03dc86bde8a20c8ab390b0b2f2a4_d5d5dbc0f05ff34587375f4a567740b61c4731a6_instant_210319.jpg 18.0\n",
      "3 2-8c5de8aa63e57b1e5d3a11ce4c4e2ded042b2ef3_0693ab68bf2278539a3733129d6964ba7719f7b2.jpg 22.0\n",
      "4 1-3d78e56849a16c0b17831129f6059e367574a138_8560eccb0f16269a00f2d6c6a5fab7419529c803_instant.jpg 15.0\n",
      "5 1-947a57fc1b94be1fb8a5cce439cd8112016648b1_b151d6624e13c4d31f300f909ebb63577e42a730_instant.jpg 19.0\n",
      "6 1-1f43f59e9f5ead12a13b1cd892a8757242367189_9cd89303dd466e6b178399f8d02b12aae69ec707_instant.jpg 14.0\n",
      "7 1-85fde97a518625ed46589a6be46300e36c3ad0d9_6626ee8bedc11ff89bd5a6205d10710e72ed9801_instant_210319.jpg 16.0\n",
      "8 1-e50b5a99fd9bab50130099c750df6d80f50a9b4e_fdafeaf4b1ec0417f969870e07a0d6401488df85_instant.jpg 17.0\n",
      "9 1-0d8eabdfed2cb1f0d455e5a2050d78ba39ae6cff_0665c9464c856662322717999ae3d8301ff48907_instant.jpg 11.0\n",
      "10 2-746ba8ac1301085b9f8d8d96beb3bf7f9e7a4605_ecc100d2cbc4a9fc70c2fde3eafaadb6ceb588ca_instant.jpg 29.0\n"
     ]
    },
    {
     "data": {
      "text/html": [
       "<div>\n",
       "<style scoped>\n",
       "    .dataframe tbody tr th:only-of-type {\n",
       "        vertical-align: middle;\n",
       "    }\n",
       "\n",
       "    .dataframe tbody tr th {\n",
       "        vertical-align: top;\n",
       "    }\n",
       "\n",
       "    .dataframe thead th {\n",
       "        text-align: right;\n",
       "    }\n",
       "</style>\n",
       "<table border=\"1\" class=\"dataframe\">\n",
       "  <thead>\n",
       "    <tr style=\"text-align: right;\">\n",
       "      <th></th>\n",
       "      <th>model</th>\n",
       "      <th>subseq</th>\n",
       "      <th>peaks</th>\n",
       "      <th>binary</th>\n",
       "      <th>mwa</th>\n",
       "    </tr>\n",
       "  </thead>\n",
       "  <tbody>\n",
       "    <tr>\n",
       "      <th>0</th>\n",
       "      <td>Polar Laplacian</td>\n",
       "      <td>419.296271</td>\n",
       "      <td>139.863564</td>\n",
       "      <td>387.07502</td>\n",
       "      <td>225.223877</td>\n",
       "    </tr>\n",
       "  </tbody>\n",
       "</table>\n",
       "</div>"
      ],
      "text/plain": [
       "             model      subseq       peaks     binary         mwa\n",
       "0  Polar Laplacian  419.296271  139.863564  387.07502  225.223877"
      ]
     },
     "metadata": {},
     "output_type": "display_data"
    }
   ],
   "source": [
    "with_model(Model.POLAR_LAPLACIAN_EDGE, lines, points, data_dir, ranking_url, pith_url, rings_url, mse_url)"
   ]
  },
  {
   "cell_type": "code",
   "execution_count": 39,
   "id": "055f80d8",
   "metadata": {},
   "outputs": [
    {
     "name": "stdout",
     "output_type": "stream",
     "text": [
      "0 2-34e23370868237a073d086fb64851017e9b2c8c9_85903b8cb210e9ad54581e7a37999bcd5fb18443_instant.jpg 87.0\n",
      "1 1-5d205d5ea6bafd3c2e038cf1139cdd5a9825388f_275cb29ffc473512447ce75ff34baa4ecea7276d_instant_210319.jpg 59.666666666666664\n",
      "2 1-11c00bf7cc3e03dc86bde8a20c8ab390b0b2f2a4_d5d5dbc0f05ff34587375f4a567740b61c4731a6_instant_210319.jpg 18.0\n",
      "3 2-8c5de8aa63e57b1e5d3a11ce4c4e2ded042b2ef3_0693ab68bf2278539a3733129d6964ba7719f7b2.jpg 22.0\n",
      "4 1-3d78e56849a16c0b17831129f6059e367574a138_8560eccb0f16269a00f2d6c6a5fab7419529c803_instant.jpg 15.0\n",
      "5 1-947a57fc1b94be1fb8a5cce439cd8112016648b1_b151d6624e13c4d31f300f909ebb63577e42a730_instant.jpg 19.0\n",
      "6 1-1f43f59e9f5ead12a13b1cd892a8757242367189_9cd89303dd466e6b178399f8d02b12aae69ec707_instant.jpg 14.0\n",
      "7 1-85fde97a518625ed46589a6be46300e36c3ad0d9_6626ee8bedc11ff89bd5a6205d10710e72ed9801_instant_210319.jpg 16.0\n",
      "8 1-e50b5a99fd9bab50130099c750df6d80f50a9b4e_fdafeaf4b1ec0417f969870e07a0d6401488df85_instant.jpg 17.0\n",
      "9 1-0d8eabdfed2cb1f0d455e5a2050d78ba39ae6cff_0665c9464c856662322717999ae3d8301ff48907_instant.jpg 11.0\n",
      "10 2-746ba8ac1301085b9f8d8d96beb3bf7f9e7a4605_ecc100d2cbc4a9fc70c2fde3eafaadb6ceb588ca_instant.jpg 29.0\n"
     ]
    },
    {
     "data": {
      "text/html": [
       "<div>\n",
       "<style scoped>\n",
       "    .dataframe tbody tr th:only-of-type {\n",
       "        vertical-align: middle;\n",
       "    }\n",
       "\n",
       "    .dataframe tbody tr th {\n",
       "        vertical-align: top;\n",
       "    }\n",
       "\n",
       "    .dataframe thead th {\n",
       "        text-align: right;\n",
       "    }\n",
       "</style>\n",
       "<table border=\"1\" class=\"dataframe\">\n",
       "  <thead>\n",
       "    <tr style=\"text-align: right;\">\n",
       "      <th></th>\n",
       "      <th>model</th>\n",
       "      <th>subseq</th>\n",
       "      <th>peaks</th>\n",
       "      <th>binary</th>\n",
       "      <th>mwa</th>\n",
       "    </tr>\n",
       "  </thead>\n",
       "  <tbody>\n",
       "    <tr>\n",
       "      <th>0</th>\n",
       "      <td>Polar Laplacian(blur)</td>\n",
       "      <td>393.088196</td>\n",
       "      <td>86.929788</td>\n",
       "      <td>369.123498</td>\n",
       "      <td>106.6145</td>\n",
       "    </tr>\n",
       "  </tbody>\n",
       "</table>\n",
       "</div>"
      ],
      "text/plain": [
       "                   model      subseq      peaks      binary       mwa\n",
       "0  Polar Laplacian(blur)  393.088196  86.929788  369.123498  106.6145"
      ]
     },
     "metadata": {},
     "output_type": "display_data"
    }
   ],
   "source": [
    "with_model(Model.POLAR_LAPLACIAN_EDGE_BLUR, lines, points, data_dir, ranking_url, pith_url, rings_url, mse_url)"
   ]
  },
  {
   "cell_type": "code",
   "execution_count": null,
   "id": "717b358e",
   "metadata": {},
   "outputs": [],
   "source": []
  },
  {
   "cell_type": "code",
   "execution_count": 40,
   "id": "4000d64b",
   "metadata": {},
   "outputs": [
    {
     "name": "stdout",
     "output_type": "stream",
     "text": [
      "0 2-34e23370868237a073d086fb64851017e9b2c8c9_85903b8cb210e9ad54581e7a37999bcd5fb18443_instant.jpg 87.0\n",
      "1 1-5d205d5ea6bafd3c2e038cf1139cdd5a9825388f_275cb29ffc473512447ce75ff34baa4ecea7276d_instant_210319.jpg 59.666666666666664\n",
      "2 1-11c00bf7cc3e03dc86bde8a20c8ab390b0b2f2a4_d5d5dbc0f05ff34587375f4a567740b61c4731a6_instant_210319.jpg 18.0\n",
      "3 2-8c5de8aa63e57b1e5d3a11ce4c4e2ded042b2ef3_0693ab68bf2278539a3733129d6964ba7719f7b2.jpg 22.0\n",
      "4 1-3d78e56849a16c0b17831129f6059e367574a138_8560eccb0f16269a00f2d6c6a5fab7419529c803_instant.jpg 15.0\n",
      "5 1-947a57fc1b94be1fb8a5cce439cd8112016648b1_b151d6624e13c4d31f300f909ebb63577e42a730_instant.jpg 19.0\n",
      "6 1-1f43f59e9f5ead12a13b1cd892a8757242367189_9cd89303dd466e6b178399f8d02b12aae69ec707_instant.jpg 14.0\n",
      "7 1-85fde97a518625ed46589a6be46300e36c3ad0d9_6626ee8bedc11ff89bd5a6205d10710e72ed9801_instant_210319.jpg 16.0\n",
      "8 1-e50b5a99fd9bab50130099c750df6d80f50a9b4e_fdafeaf4b1ec0417f969870e07a0d6401488df85_instant.jpg 17.0\n",
      "9 1-0d8eabdfed2cb1f0d455e5a2050d78ba39ae6cff_0665c9464c856662322717999ae3d8301ff48907_instant.jpg 11.0\n",
      "10 2-746ba8ac1301085b9f8d8d96beb3bf7f9e7a4605_ecc100d2cbc4a9fc70c2fde3eafaadb6ceb588ca_instant.jpg 29.0\n"
     ]
    },
    {
     "data": {
      "text/html": [
       "<div>\n",
       "<style scoped>\n",
       "    .dataframe tbody tr th:only-of-type {\n",
       "        vertical-align: middle;\n",
       "    }\n",
       "\n",
       "    .dataframe tbody tr th {\n",
       "        vertical-align: top;\n",
       "    }\n",
       "\n",
       "    .dataframe thead th {\n",
       "        text-align: right;\n",
       "    }\n",
       "</style>\n",
       "<table border=\"1\" class=\"dataframe\">\n",
       "  <thead>\n",
       "    <tr style=\"text-align: right;\">\n",
       "      <th></th>\n",
       "      <th>model</th>\n",
       "      <th>subseq</th>\n",
       "      <th>peaks</th>\n",
       "      <th>binary</th>\n",
       "      <th>mwa</th>\n",
       "    </tr>\n",
       "  </thead>\n",
       "  <tbody>\n",
       "    <tr>\n",
       "      <th>0</th>\n",
       "      <td>Polar Pith Sobel</td>\n",
       "      <td>391.781585</td>\n",
       "      <td>87.720371</td>\n",
       "      <td>349.497439</td>\n",
       "      <td>126.089302</td>\n",
       "    </tr>\n",
       "  </tbody>\n",
       "</table>\n",
       "</div>"
      ],
      "text/plain": [
       "              model      subseq      peaks      binary         mwa\n",
       "0  Polar Pith Sobel  391.781585  87.720371  349.497439  126.089302"
      ]
     },
     "metadata": {},
     "output_type": "display_data"
    }
   ],
   "source": [
    "with_model(Model.POLAR_PITH_SOBEL_EDGE, lines, points, data_dir, ranking_url, pith_url, rings_url, mse_url)"
   ]
  },
  {
   "cell_type": "code",
   "execution_count": 41,
   "id": "eec08ac6",
   "metadata": {},
   "outputs": [
    {
     "name": "stdout",
     "output_type": "stream",
     "text": [
      "0 2-34e23370868237a073d086fb64851017e9b2c8c9_85903b8cb210e9ad54581e7a37999bcd5fb18443_instant.jpg 87.0\n",
      "1 1-5d205d5ea6bafd3c2e038cf1139cdd5a9825388f_275cb29ffc473512447ce75ff34baa4ecea7276d_instant_210319.jpg 59.666666666666664\n",
      "2 1-11c00bf7cc3e03dc86bde8a20c8ab390b0b2f2a4_d5d5dbc0f05ff34587375f4a567740b61c4731a6_instant_210319.jpg 18.0\n",
      "3 2-8c5de8aa63e57b1e5d3a11ce4c4e2ded042b2ef3_0693ab68bf2278539a3733129d6964ba7719f7b2.jpg 22.0\n",
      "4 1-3d78e56849a16c0b17831129f6059e367574a138_8560eccb0f16269a00f2d6c6a5fab7419529c803_instant.jpg 15.0\n",
      "5 1-947a57fc1b94be1fb8a5cce439cd8112016648b1_b151d6624e13c4d31f300f909ebb63577e42a730_instant.jpg 19.0\n",
      "6 1-1f43f59e9f5ead12a13b1cd892a8757242367189_9cd89303dd466e6b178399f8d02b12aae69ec707_instant.jpg 14.0\n",
      "7 1-85fde97a518625ed46589a6be46300e36c3ad0d9_6626ee8bedc11ff89bd5a6205d10710e72ed9801_instant_210319.jpg 16.0\n",
      "8 1-e50b5a99fd9bab50130099c750df6d80f50a9b4e_fdafeaf4b1ec0417f969870e07a0d6401488df85_instant.jpg 17.0\n",
      "9 1-0d8eabdfed2cb1f0d455e5a2050d78ba39ae6cff_0665c9464c856662322717999ae3d8301ff48907_instant.jpg 11.0\n",
      "10 2-746ba8ac1301085b9f8d8d96beb3bf7f9e7a4605_ecc100d2cbc4a9fc70c2fde3eafaadb6ceb588ca_instant.jpg 29.0\n"
     ]
    },
    {
     "data": {
      "text/html": [
       "<div>\n",
       "<style scoped>\n",
       "    .dataframe tbody tr th:only-of-type {\n",
       "        vertical-align: middle;\n",
       "    }\n",
       "\n",
       "    .dataframe tbody tr th {\n",
       "        vertical-align: top;\n",
       "    }\n",
       "\n",
       "    .dataframe thead th {\n",
       "        text-align: right;\n",
       "    }\n",
       "</style>\n",
       "<table border=\"1\" class=\"dataframe\">\n",
       "  <thead>\n",
       "    <tr style=\"text-align: right;\">\n",
       "      <th></th>\n",
       "      <th>model</th>\n",
       "      <th>subseq</th>\n",
       "      <th>peaks</th>\n",
       "      <th>binary</th>\n",
       "      <th>mwa</th>\n",
       "    </tr>\n",
       "  </thead>\n",
       "  <tbody>\n",
       "    <tr>\n",
       "      <th>0</th>\n",
       "      <td>Polar Pith Sobel(blur)</td>\n",
       "      <td>328.917498</td>\n",
       "      <td>40.737704</td>\n",
       "      <td>309.890133</td>\n",
       "      <td>73.111155</td>\n",
       "    </tr>\n",
       "  </tbody>\n",
       "</table>\n",
       "</div>"
      ],
      "text/plain": [
       "                    model      subseq      peaks      binary        mwa\n",
       "0  Polar Pith Sobel(blur)  328.917498  40.737704  309.890133  73.111155"
      ]
     },
     "metadata": {},
     "output_type": "display_data"
    }
   ],
   "source": [
    "with_model(Model.POLAR_PITH_SOBEL_EDGE_BLUR, lines, points, data_dir, ranking_url, pith_url, rings_url, mse_url)"
   ]
  },
  {
   "cell_type": "code",
   "execution_count": 42,
   "id": "97fb7a77",
   "metadata": {},
   "outputs": [
    {
     "name": "stdout",
     "output_type": "stream",
     "text": [
      "0 2-34e23370868237a073d086fb64851017e9b2c8c9_85903b8cb210e9ad54581e7a37999bcd5fb18443_instant.jpg 87.0\n",
      "1 1-5d205d5ea6bafd3c2e038cf1139cdd5a9825388f_275cb29ffc473512447ce75ff34baa4ecea7276d_instant_210319.jpg 59.666666666666664\n",
      "2 1-11c00bf7cc3e03dc86bde8a20c8ab390b0b2f2a4_d5d5dbc0f05ff34587375f4a567740b61c4731a6_instant_210319.jpg 18.0\n",
      "3 2-8c5de8aa63e57b1e5d3a11ce4c4e2ded042b2ef3_0693ab68bf2278539a3733129d6964ba7719f7b2.jpg 22.0\n",
      "4 1-3d78e56849a16c0b17831129f6059e367574a138_8560eccb0f16269a00f2d6c6a5fab7419529c803_instant.jpg 15.0\n",
      "5 1-947a57fc1b94be1fb8a5cce439cd8112016648b1_b151d6624e13c4d31f300f909ebb63577e42a730_instant.jpg 19.0\n",
      "6 1-1f43f59e9f5ead12a13b1cd892a8757242367189_9cd89303dd466e6b178399f8d02b12aae69ec707_instant.jpg 14.0\n",
      "7 1-85fde97a518625ed46589a6be46300e36c3ad0d9_6626ee8bedc11ff89bd5a6205d10710e72ed9801_instant_210319.jpg 16.0\n",
      "8 1-e50b5a99fd9bab50130099c750df6d80f50a9b4e_fdafeaf4b1ec0417f969870e07a0d6401488df85_instant.jpg 17.0\n",
      "9 1-0d8eabdfed2cb1f0d455e5a2050d78ba39ae6cff_0665c9464c856662322717999ae3d8301ff48907_instant.jpg 11.0\n",
      "10 2-746ba8ac1301085b9f8d8d96beb3bf7f9e7a4605_ecc100d2cbc4a9fc70c2fde3eafaadb6ceb588ca_instant.jpg 29.0\n"
     ]
    },
    {
     "data": {
      "text/html": [
       "<div>\n",
       "<style scoped>\n",
       "    .dataframe tbody tr th:only-of-type {\n",
       "        vertical-align: middle;\n",
       "    }\n",
       "\n",
       "    .dataframe tbody tr th {\n",
       "        vertical-align: top;\n",
       "    }\n",
       "\n",
       "    .dataframe thead th {\n",
       "        text-align: right;\n",
       "    }\n",
       "</style>\n",
       "<table border=\"1\" class=\"dataframe\">\n",
       "  <thead>\n",
       "    <tr style=\"text-align: right;\">\n",
       "      <th></th>\n",
       "      <th>model</th>\n",
       "      <th>subseq</th>\n",
       "      <th>peaks</th>\n",
       "      <th>binary</th>\n",
       "      <th>mwa</th>\n",
       "    </tr>\n",
       "  </thead>\n",
       "  <tbody>\n",
       "    <tr>\n",
       "      <th>0</th>\n",
       "      <td>Polar Pith Canny</td>\n",
       "      <td>73.353568</td>\n",
       "      <td>46.418208</td>\n",
       "      <td>241.827888</td>\n",
       "      <td>178.109727</td>\n",
       "    </tr>\n",
       "  </tbody>\n",
       "</table>\n",
       "</div>"
      ],
      "text/plain": [
       "              model     subseq      peaks      binary         mwa\n",
       "0  Polar Pith Canny  73.353568  46.418208  241.827888  178.109727"
      ]
     },
     "metadata": {},
     "output_type": "display_data"
    }
   ],
   "source": [
    "with_model(Model.POLAR_PITH_CANNY_EDGE, lines, points, data_dir, ranking_url, pith_url, rings_url, mse_url)"
   ]
  },
  {
   "cell_type": "code",
   "execution_count": 43,
   "id": "016625dd",
   "metadata": {},
   "outputs": [
    {
     "name": "stdout",
     "output_type": "stream",
     "text": [
      "0 2-34e23370868237a073d086fb64851017e9b2c8c9_85903b8cb210e9ad54581e7a37999bcd5fb18443_instant.jpg 87.0\n",
      "1 1-5d205d5ea6bafd3c2e038cf1139cdd5a9825388f_275cb29ffc473512447ce75ff34baa4ecea7276d_instant_210319.jpg 59.666666666666664\n",
      "2 1-11c00bf7cc3e03dc86bde8a20c8ab390b0b2f2a4_d5d5dbc0f05ff34587375f4a567740b61c4731a6_instant_210319.jpg 18.0\n",
      "3 2-8c5de8aa63e57b1e5d3a11ce4c4e2ded042b2ef3_0693ab68bf2278539a3733129d6964ba7719f7b2.jpg 22.0\n",
      "4 1-3d78e56849a16c0b17831129f6059e367574a138_8560eccb0f16269a00f2d6c6a5fab7419529c803_instant.jpg 15.0\n",
      "5 1-947a57fc1b94be1fb8a5cce439cd8112016648b1_b151d6624e13c4d31f300f909ebb63577e42a730_instant.jpg 19.0\n",
      "6 1-1f43f59e9f5ead12a13b1cd892a8757242367189_9cd89303dd466e6b178399f8d02b12aae69ec707_instant.jpg 14.0\n",
      "7 1-85fde97a518625ed46589a6be46300e36c3ad0d9_6626ee8bedc11ff89bd5a6205d10710e72ed9801_instant_210319.jpg 16.0\n",
      "8 1-e50b5a99fd9bab50130099c750df6d80f50a9b4e_fdafeaf4b1ec0417f969870e07a0d6401488df85_instant.jpg 17.0\n",
      "9 1-0d8eabdfed2cb1f0d455e5a2050d78ba39ae6cff_0665c9464c856662322717999ae3d8301ff48907_instant.jpg 11.0\n",
      "10 2-746ba8ac1301085b9f8d8d96beb3bf7f9e7a4605_ecc100d2cbc4a9fc70c2fde3eafaadb6ceb588ca_instant.jpg 29.0\n"
     ]
    },
    {
     "data": {
      "text/html": [
       "<div>\n",
       "<style scoped>\n",
       "    .dataframe tbody tr th:only-of-type {\n",
       "        vertical-align: middle;\n",
       "    }\n",
       "\n",
       "    .dataframe tbody tr th {\n",
       "        vertical-align: top;\n",
       "    }\n",
       "\n",
       "    .dataframe thead th {\n",
       "        text-align: right;\n",
       "    }\n",
       "</style>\n",
       "<table border=\"1\" class=\"dataframe\">\n",
       "  <thead>\n",
       "    <tr style=\"text-align: right;\">\n",
       "      <th></th>\n",
       "      <th>model</th>\n",
       "      <th>subseq</th>\n",
       "      <th>peaks</th>\n",
       "      <th>binary</th>\n",
       "      <th>mwa</th>\n",
       "    </tr>\n",
       "  </thead>\n",
       "  <tbody>\n",
       "    <tr>\n",
       "      <th>0</th>\n",
       "      <td>Polar Pith Canny(otsu)</td>\n",
       "      <td>85.821743</td>\n",
       "      <td>54.868106</td>\n",
       "      <td>264.596347</td>\n",
       "      <td>197.124304</td>\n",
       "    </tr>\n",
       "  </tbody>\n",
       "</table>\n",
       "</div>"
      ],
      "text/plain": [
       "                    model     subseq      peaks      binary         mwa\n",
       "0  Polar Pith Canny(otsu)  85.821743  54.868106  264.596347  197.124304"
      ]
     },
     "metadata": {},
     "output_type": "display_data"
    }
   ],
   "source": [
    "with_model(Model.POLAR_PITH_CANNY_EDGE_OTSU, lines, points, data_dir, ranking_url, pith_url, rings_url, mse_url)"
   ]
  },
  {
   "cell_type": "code",
   "execution_count": 44,
   "id": "300f771c",
   "metadata": {},
   "outputs": [
    {
     "name": "stdout",
     "output_type": "stream",
     "text": [
      "0 2-34e23370868237a073d086fb64851017e9b2c8c9_85903b8cb210e9ad54581e7a37999bcd5fb18443_instant.jpg 87.0\n",
      "1 1-5d205d5ea6bafd3c2e038cf1139cdd5a9825388f_275cb29ffc473512447ce75ff34baa4ecea7276d_instant_210319.jpg 59.666666666666664\n",
      "2 1-11c00bf7cc3e03dc86bde8a20c8ab390b0b2f2a4_d5d5dbc0f05ff34587375f4a567740b61c4731a6_instant_210319.jpg 18.0\n",
      "3 2-8c5de8aa63e57b1e5d3a11ce4c4e2ded042b2ef3_0693ab68bf2278539a3733129d6964ba7719f7b2.jpg 22.0\n",
      "4 1-3d78e56849a16c0b17831129f6059e367574a138_8560eccb0f16269a00f2d6c6a5fab7419529c803_instant.jpg 15.0\n",
      "5 1-947a57fc1b94be1fb8a5cce439cd8112016648b1_b151d6624e13c4d31f300f909ebb63577e42a730_instant.jpg 19.0\n",
      "6 1-1f43f59e9f5ead12a13b1cd892a8757242367189_9cd89303dd466e6b178399f8d02b12aae69ec707_instant.jpg 14.0\n",
      "7 1-85fde97a518625ed46589a6be46300e36c3ad0d9_6626ee8bedc11ff89bd5a6205d10710e72ed9801_instant_210319.jpg 16.0\n",
      "8 1-e50b5a99fd9bab50130099c750df6d80f50a9b4e_fdafeaf4b1ec0417f969870e07a0d6401488df85_instant.jpg 17.0\n",
      "9 1-0d8eabdfed2cb1f0d455e5a2050d78ba39ae6cff_0665c9464c856662322717999ae3d8301ff48907_instant.jpg 11.0\n",
      "10 2-746ba8ac1301085b9f8d8d96beb3bf7f9e7a4605_ecc100d2cbc4a9fc70c2fde3eafaadb6ceb588ca_instant.jpg 29.0\n"
     ]
    },
    {
     "data": {
      "text/html": [
       "<div>\n",
       "<style scoped>\n",
       "    .dataframe tbody tr th:only-of-type {\n",
       "        vertical-align: middle;\n",
       "    }\n",
       "\n",
       "    .dataframe tbody tr th {\n",
       "        vertical-align: top;\n",
       "    }\n",
       "\n",
       "    .dataframe thead th {\n",
       "        text-align: right;\n",
       "    }\n",
       "</style>\n",
       "<table border=\"1\" class=\"dataframe\">\n",
       "  <thead>\n",
       "    <tr style=\"text-align: right;\">\n",
       "      <th></th>\n",
       "      <th>model</th>\n",
       "      <th>subseq</th>\n",
       "      <th>peaks</th>\n",
       "      <th>binary</th>\n",
       "      <th>mwa</th>\n",
       "    </tr>\n",
       "  </thead>\n",
       "  <tbody>\n",
       "    <tr>\n",
       "      <th>0</th>\n",
       "      <td>Polar Pith Canny(triangle)</td>\n",
       "      <td>110.620955</td>\n",
       "      <td>70.98314</td>\n",
       "      <td>299.114253</td>\n",
       "      <td>225.159278</td>\n",
       "    </tr>\n",
       "  </tbody>\n",
       "</table>\n",
       "</div>"
      ],
      "text/plain": [
       "                        model      subseq     peaks      binary         mwa\n",
       "0  Polar Pith Canny(triangle)  110.620955  70.98314  299.114253  225.159278"
      ]
     },
     "metadata": {},
     "output_type": "display_data"
    }
   ],
   "source": [
    "with_model(Model.POLAR_PITH_CANNY_EDGE_TRIANGLE, lines, points, data_dir, ranking_url, pith_url, rings_url, mse_url)"
   ]
  },
  {
   "cell_type": "code",
   "execution_count": 45,
   "id": "b1a23908",
   "metadata": {},
   "outputs": [
    {
     "name": "stdout",
     "output_type": "stream",
     "text": [
      "0 2-34e23370868237a073d086fb64851017e9b2c8c9_85903b8cb210e9ad54581e7a37999bcd5fb18443_instant.jpg 87.0\n",
      "1 1-5d205d5ea6bafd3c2e038cf1139cdd5a9825388f_275cb29ffc473512447ce75ff34baa4ecea7276d_instant_210319.jpg 59.666666666666664\n",
      "2 1-11c00bf7cc3e03dc86bde8a20c8ab390b0b2f2a4_d5d5dbc0f05ff34587375f4a567740b61c4731a6_instant_210319.jpg 18.0\n",
      "3 2-8c5de8aa63e57b1e5d3a11ce4c4e2ded042b2ef3_0693ab68bf2278539a3733129d6964ba7719f7b2.jpg 22.0\n",
      "4 1-3d78e56849a16c0b17831129f6059e367574a138_8560eccb0f16269a00f2d6c6a5fab7419529c803_instant.jpg 15.0\n",
      "5 1-947a57fc1b94be1fb8a5cce439cd8112016648b1_b151d6624e13c4d31f300f909ebb63577e42a730_instant.jpg 19.0\n",
      "6 1-1f43f59e9f5ead12a13b1cd892a8757242367189_9cd89303dd466e6b178399f8d02b12aae69ec707_instant.jpg 14.0\n",
      "7 1-85fde97a518625ed46589a6be46300e36c3ad0d9_6626ee8bedc11ff89bd5a6205d10710e72ed9801_instant_210319.jpg 16.0\n",
      "8 1-e50b5a99fd9bab50130099c750df6d80f50a9b4e_fdafeaf4b1ec0417f969870e07a0d6401488df85_instant.jpg 17.0\n",
      "9 1-0d8eabdfed2cb1f0d455e5a2050d78ba39ae6cff_0665c9464c856662322717999ae3d8301ff48907_instant.jpg 11.0\n",
      "10 2-746ba8ac1301085b9f8d8d96beb3bf7f9e7a4605_ecc100d2cbc4a9fc70c2fde3eafaadb6ceb588ca_instant.jpg 29.0\n"
     ]
    },
    {
     "data": {
      "text/html": [
       "<div>\n",
       "<style scoped>\n",
       "    .dataframe tbody tr th:only-of-type {\n",
       "        vertical-align: middle;\n",
       "    }\n",
       "\n",
       "    .dataframe tbody tr th {\n",
       "        vertical-align: top;\n",
       "    }\n",
       "\n",
       "    .dataframe thead th {\n",
       "        text-align: right;\n",
       "    }\n",
       "</style>\n",
       "<table border=\"1\" class=\"dataframe\">\n",
       "  <thead>\n",
       "    <tr style=\"text-align: right;\">\n",
       "      <th></th>\n",
       "      <th>model</th>\n",
       "      <th>subseq</th>\n",
       "      <th>peaks</th>\n",
       "      <th>binary</th>\n",
       "      <th>mwa</th>\n",
       "    </tr>\n",
       "  </thead>\n",
       "  <tbody>\n",
       "    <tr>\n",
       "      <th>0</th>\n",
       "      <td>Polar Pith Canny(manual)</td>\n",
       "      <td>59.081853</td>\n",
       "      <td>36.578926</td>\n",
       "      <td>215.886647</td>\n",
       "      <td>155.728801</td>\n",
       "    </tr>\n",
       "  </tbody>\n",
       "</table>\n",
       "</div>"
      ],
      "text/plain": [
       "                      model     subseq      peaks      binary         mwa\n",
       "0  Polar Pith Canny(manual)  59.081853  36.578926  215.886647  155.728801"
      ]
     },
     "metadata": {},
     "output_type": "display_data"
    }
   ],
   "source": [
    "with_model(Model.POLAR_PITH_CANNY_EDGE_MANUAL, lines, points, data_dir, ranking_url, pith_url, rings_url, mse_url)"
   ]
  },
  {
   "cell_type": "code",
   "execution_count": 46,
   "id": "44bf39bb",
   "metadata": {},
   "outputs": [
    {
     "name": "stdout",
     "output_type": "stream",
     "text": [
      "0 2-34e23370868237a073d086fb64851017e9b2c8c9_85903b8cb210e9ad54581e7a37999bcd5fb18443_instant.jpg 87.0\n",
      "1 1-5d205d5ea6bafd3c2e038cf1139cdd5a9825388f_275cb29ffc473512447ce75ff34baa4ecea7276d_instant_210319.jpg 59.666666666666664\n",
      "2 1-11c00bf7cc3e03dc86bde8a20c8ab390b0b2f2a4_d5d5dbc0f05ff34587375f4a567740b61c4731a6_instant_210319.jpg 18.0\n",
      "3 2-8c5de8aa63e57b1e5d3a11ce4c4e2ded042b2ef3_0693ab68bf2278539a3733129d6964ba7719f7b2.jpg 22.0\n",
      "4 1-3d78e56849a16c0b17831129f6059e367574a138_8560eccb0f16269a00f2d6c6a5fab7419529c803_instant.jpg 15.0\n",
      "5 1-947a57fc1b94be1fb8a5cce439cd8112016648b1_b151d6624e13c4d31f300f909ebb63577e42a730_instant.jpg 19.0\n",
      "6 1-1f43f59e9f5ead12a13b1cd892a8757242367189_9cd89303dd466e6b178399f8d02b12aae69ec707_instant.jpg 14.0\n",
      "7 1-85fde97a518625ed46589a6be46300e36c3ad0d9_6626ee8bedc11ff89bd5a6205d10710e72ed9801_instant_210319.jpg 16.0\n",
      "8 1-e50b5a99fd9bab50130099c750df6d80f50a9b4e_fdafeaf4b1ec0417f969870e07a0d6401488df85_instant.jpg 17.0\n",
      "9 1-0d8eabdfed2cb1f0d455e5a2050d78ba39ae6cff_0665c9464c856662322717999ae3d8301ff48907_instant.jpg 11.0\n",
      "10 2-746ba8ac1301085b9f8d8d96beb3bf7f9e7a4605_ecc100d2cbc4a9fc70c2fde3eafaadb6ceb588ca_instant.jpg 29.0\n"
     ]
    },
    {
     "data": {
      "text/html": [
       "<div>\n",
       "<style scoped>\n",
       "    .dataframe tbody tr th:only-of-type {\n",
       "        vertical-align: middle;\n",
       "    }\n",
       "\n",
       "    .dataframe tbody tr th {\n",
       "        vertical-align: top;\n",
       "    }\n",
       "\n",
       "    .dataframe thead th {\n",
       "        text-align: right;\n",
       "    }\n",
       "</style>\n",
       "<table border=\"1\" class=\"dataframe\">\n",
       "  <thead>\n",
       "    <tr style=\"text-align: right;\">\n",
       "      <th></th>\n",
       "      <th>model</th>\n",
       "      <th>subseq</th>\n",
       "      <th>peaks</th>\n",
       "      <th>binary</th>\n",
       "      <th>mwa</th>\n",
       "    </tr>\n",
       "  </thead>\n",
       "  <tbody>\n",
       "    <tr>\n",
       "      <th>0</th>\n",
       "      <td>Polar Pith Canny(blur)</td>\n",
       "      <td>41.702693</td>\n",
       "      <td>28.061493</td>\n",
       "      <td>185.271625</td>\n",
       "      <td>130.113521</td>\n",
       "    </tr>\n",
       "  </tbody>\n",
       "</table>\n",
       "</div>"
      ],
      "text/plain": [
       "                    model     subseq      peaks      binary         mwa\n",
       "0  Polar Pith Canny(blur)  41.702693  28.061493  185.271625  130.113521"
      ]
     },
     "metadata": {},
     "output_type": "display_data"
    }
   ],
   "source": [
    "with_model(Model.POLAR_PITH_CANNY_EDGE_BLUR, lines, points, data_dir, ranking_url, pith_url, rings_url, mse_url)"
   ]
  },
  {
   "cell_type": "code",
   "execution_count": 47,
   "id": "483e93b8",
   "metadata": {},
   "outputs": [
    {
     "name": "stdout",
     "output_type": "stream",
     "text": [
      "0 2-34e23370868237a073d086fb64851017e9b2c8c9_85903b8cb210e9ad54581e7a37999bcd5fb18443_instant.jpg 87.0\n",
      "1 1-5d205d5ea6bafd3c2e038cf1139cdd5a9825388f_275cb29ffc473512447ce75ff34baa4ecea7276d_instant_210319.jpg 59.666666666666664\n",
      "2 1-11c00bf7cc3e03dc86bde8a20c8ab390b0b2f2a4_d5d5dbc0f05ff34587375f4a567740b61c4731a6_instant_210319.jpg 18.0\n",
      "3 2-8c5de8aa63e57b1e5d3a11ce4c4e2ded042b2ef3_0693ab68bf2278539a3733129d6964ba7719f7b2.jpg 22.0\n",
      "4 1-3d78e56849a16c0b17831129f6059e367574a138_8560eccb0f16269a00f2d6c6a5fab7419529c803_instant.jpg 15.0\n",
      "5 1-947a57fc1b94be1fb8a5cce439cd8112016648b1_b151d6624e13c4d31f300f909ebb63577e42a730_instant.jpg 19.0\n",
      "6 1-1f43f59e9f5ead12a13b1cd892a8757242367189_9cd89303dd466e6b178399f8d02b12aae69ec707_instant.jpg 14.0\n",
      "7 1-85fde97a518625ed46589a6be46300e36c3ad0d9_6626ee8bedc11ff89bd5a6205d10710e72ed9801_instant_210319.jpg 16.0\n",
      "8 1-e50b5a99fd9bab50130099c750df6d80f50a9b4e_fdafeaf4b1ec0417f969870e07a0d6401488df85_instant.jpg 17.0\n",
      "9 1-0d8eabdfed2cb1f0d455e5a2050d78ba39ae6cff_0665c9464c856662322717999ae3d8301ff48907_instant.jpg 11.0\n",
      "10 2-746ba8ac1301085b9f8d8d96beb3bf7f9e7a4605_ecc100d2cbc4a9fc70c2fde3eafaadb6ceb588ca_instant.jpg 29.0\n"
     ]
    },
    {
     "data": {
      "text/html": [
       "<div>\n",
       "<style scoped>\n",
       "    .dataframe tbody tr th:only-of-type {\n",
       "        vertical-align: middle;\n",
       "    }\n",
       "\n",
       "    .dataframe tbody tr th {\n",
       "        vertical-align: top;\n",
       "    }\n",
       "\n",
       "    .dataframe thead th {\n",
       "        text-align: right;\n",
       "    }\n",
       "</style>\n",
       "<table border=\"1\" class=\"dataframe\">\n",
       "  <thead>\n",
       "    <tr style=\"text-align: right;\">\n",
       "      <th></th>\n",
       "      <th>model</th>\n",
       "      <th>subseq</th>\n",
       "      <th>peaks</th>\n",
       "      <th>binary</th>\n",
       "      <th>mwa</th>\n",
       "    </tr>\n",
       "  </thead>\n",
       "  <tbody>\n",
       "    <tr>\n",
       "      <th>0</th>\n",
       "      <td>Polar Pith Canny(blur otsu)</td>\n",
       "      <td>53.385852</td>\n",
       "      <td>36.453084</td>\n",
       "      <td>217.21526</td>\n",
       "      <td>156.460575</td>\n",
       "    </tr>\n",
       "  </tbody>\n",
       "</table>\n",
       "</div>"
      ],
      "text/plain": [
       "                         model     subseq      peaks     binary         mwa\n",
       "0  Polar Pith Canny(blur otsu)  53.385852  36.453084  217.21526  156.460575"
      ]
     },
     "metadata": {},
     "output_type": "display_data"
    }
   ],
   "source": [
    "with_model(Model.POLAR_PITH_CANNY_EDGE_BLUR_OTSU, lines, points, data_dir, ranking_url, pith_url, rings_url, mse_url)"
   ]
  },
  {
   "cell_type": "code",
   "execution_count": 48,
   "id": "081babe2",
   "metadata": {},
   "outputs": [
    {
     "name": "stdout",
     "output_type": "stream",
     "text": [
      "0 2-34e23370868237a073d086fb64851017e9b2c8c9_85903b8cb210e9ad54581e7a37999bcd5fb18443_instant.jpg 87.0\n",
      "1 1-5d205d5ea6bafd3c2e038cf1139cdd5a9825388f_275cb29ffc473512447ce75ff34baa4ecea7276d_instant_210319.jpg 59.666666666666664\n",
      "2 1-11c00bf7cc3e03dc86bde8a20c8ab390b0b2f2a4_d5d5dbc0f05ff34587375f4a567740b61c4731a6_instant_210319.jpg 18.0\n",
      "3 2-8c5de8aa63e57b1e5d3a11ce4c4e2ded042b2ef3_0693ab68bf2278539a3733129d6964ba7719f7b2.jpg 22.0\n",
      "4 1-3d78e56849a16c0b17831129f6059e367574a138_8560eccb0f16269a00f2d6c6a5fab7419529c803_instant.jpg 15.0\n",
      "5 1-947a57fc1b94be1fb8a5cce439cd8112016648b1_b151d6624e13c4d31f300f909ebb63577e42a730_instant.jpg 19.0\n",
      "6 1-1f43f59e9f5ead12a13b1cd892a8757242367189_9cd89303dd466e6b178399f8d02b12aae69ec707_instant.jpg 14.0\n",
      "7 1-85fde97a518625ed46589a6be46300e36c3ad0d9_6626ee8bedc11ff89bd5a6205d10710e72ed9801_instant_210319.jpg 16.0\n",
      "8 1-e50b5a99fd9bab50130099c750df6d80f50a9b4e_fdafeaf4b1ec0417f969870e07a0d6401488df85_instant.jpg 17.0\n",
      "9 1-0d8eabdfed2cb1f0d455e5a2050d78ba39ae6cff_0665c9464c856662322717999ae3d8301ff48907_instant.jpg 11.0\n",
      "10 2-746ba8ac1301085b9f8d8d96beb3bf7f9e7a4605_ecc100d2cbc4a9fc70c2fde3eafaadb6ceb588ca_instant.jpg 29.0\n"
     ]
    },
    {
     "data": {
      "text/html": [
       "<div>\n",
       "<style scoped>\n",
       "    .dataframe tbody tr th:only-of-type {\n",
       "        vertical-align: middle;\n",
       "    }\n",
       "\n",
       "    .dataframe tbody tr th {\n",
       "        vertical-align: top;\n",
       "    }\n",
       "\n",
       "    .dataframe thead th {\n",
       "        text-align: right;\n",
       "    }\n",
       "</style>\n",
       "<table border=\"1\" class=\"dataframe\">\n",
       "  <thead>\n",
       "    <tr style=\"text-align: right;\">\n",
       "      <th></th>\n",
       "      <th>model</th>\n",
       "      <th>subseq</th>\n",
       "      <th>peaks</th>\n",
       "      <th>binary</th>\n",
       "      <th>mwa</th>\n",
       "    </tr>\n",
       "  </thead>\n",
       "  <tbody>\n",
       "    <tr>\n",
       "      <th>0</th>\n",
       "      <td>Polar Pith Canny(blur triangle)</td>\n",
       "      <td>89.269981</td>\n",
       "      <td>62.528006</td>\n",
       "      <td>279.290586</td>\n",
       "      <td>210.089633</td>\n",
       "    </tr>\n",
       "  </tbody>\n",
       "</table>\n",
       "</div>"
      ],
      "text/plain": [
       "                             model     subseq      peaks      binary  \\\n",
       "0  Polar Pith Canny(blur triangle)  89.269981  62.528006  279.290586   \n",
       "\n",
       "          mwa  \n",
       "0  210.089633  "
      ]
     },
     "metadata": {},
     "output_type": "display_data"
    }
   ],
   "source": [
    "with_model(Model.POLAR_PITH_CANNY_EDGE_BLUR_TRIANGLE, lines, points, data_dir, ranking_url, pith_url, rings_url, mse_url)"
   ]
  },
  {
   "cell_type": "code",
   "execution_count": 49,
   "id": "261c103a",
   "metadata": {},
   "outputs": [
    {
     "name": "stdout",
     "output_type": "stream",
     "text": [
      "0 2-34e23370868237a073d086fb64851017e9b2c8c9_85903b8cb210e9ad54581e7a37999bcd5fb18443_instant.jpg 87.0\n",
      "1 1-5d205d5ea6bafd3c2e038cf1139cdd5a9825388f_275cb29ffc473512447ce75ff34baa4ecea7276d_instant_210319.jpg 59.666666666666664\n",
      "2 1-11c00bf7cc3e03dc86bde8a20c8ab390b0b2f2a4_d5d5dbc0f05ff34587375f4a567740b61c4731a6_instant_210319.jpg 18.0\n",
      "3 2-8c5de8aa63e57b1e5d3a11ce4c4e2ded042b2ef3_0693ab68bf2278539a3733129d6964ba7719f7b2.jpg 22.0\n",
      "4 1-3d78e56849a16c0b17831129f6059e367574a138_8560eccb0f16269a00f2d6c6a5fab7419529c803_instant.jpg 15.0\n",
      "5 1-947a57fc1b94be1fb8a5cce439cd8112016648b1_b151d6624e13c4d31f300f909ebb63577e42a730_instant.jpg 19.0\n",
      "6 1-1f43f59e9f5ead12a13b1cd892a8757242367189_9cd89303dd466e6b178399f8d02b12aae69ec707_instant.jpg 14.0\n",
      "7 1-85fde97a518625ed46589a6be46300e36c3ad0d9_6626ee8bedc11ff89bd5a6205d10710e72ed9801_instant_210319.jpg 16.0\n",
      "8 1-e50b5a99fd9bab50130099c750df6d80f50a9b4e_fdafeaf4b1ec0417f969870e07a0d6401488df85_instant.jpg 17.0\n",
      "9 1-0d8eabdfed2cb1f0d455e5a2050d78ba39ae6cff_0665c9464c856662322717999ae3d8301ff48907_instant.jpg 11.0\n",
      "10 2-746ba8ac1301085b9f8d8d96beb3bf7f9e7a4605_ecc100d2cbc4a9fc70c2fde3eafaadb6ceb588ca_instant.jpg 29.0\n"
     ]
    },
    {
     "data": {
      "text/html": [
       "<div>\n",
       "<style scoped>\n",
       "    .dataframe tbody tr th:only-of-type {\n",
       "        vertical-align: middle;\n",
       "    }\n",
       "\n",
       "    .dataframe tbody tr th {\n",
       "        vertical-align: top;\n",
       "    }\n",
       "\n",
       "    .dataframe thead th {\n",
       "        text-align: right;\n",
       "    }\n",
       "</style>\n",
       "<table border=\"1\" class=\"dataframe\">\n",
       "  <thead>\n",
       "    <tr style=\"text-align: right;\">\n",
       "      <th></th>\n",
       "      <th>model</th>\n",
       "      <th>subseq</th>\n",
       "      <th>peaks</th>\n",
       "      <th>binary</th>\n",
       "      <th>mwa</th>\n",
       "    </tr>\n",
       "  </thead>\n",
       "  <tbody>\n",
       "    <tr>\n",
       "      <th>0</th>\n",
       "      <td>Polar Pith Canny(blur manual)</td>\n",
       "      <td>26.904317</td>\n",
       "      <td>18.190153</td>\n",
       "      <td>149.162153</td>\n",
       "      <td>100.269046</td>\n",
       "    </tr>\n",
       "  </tbody>\n",
       "</table>\n",
       "</div>"
      ],
      "text/plain": [
       "                           model     subseq      peaks      binary         mwa\n",
       "0  Polar Pith Canny(blur manual)  26.904317  18.190153  149.162153  100.269046"
      ]
     },
     "metadata": {},
     "output_type": "display_data"
    }
   ],
   "source": [
    "with_model(Model.POLAR_PITH_CANNY_EDGE_BLUR_MANUAL, lines, points, data_dir, ranking_url, pith_url, rings_url, mse_url)"
   ]
  },
  {
   "cell_type": "code",
   "execution_count": 50,
   "id": "d4c9ff68",
   "metadata": {},
   "outputs": [
    {
     "name": "stdout",
     "output_type": "stream",
     "text": [
      "0 2-34e23370868237a073d086fb64851017e9b2c8c9_85903b8cb210e9ad54581e7a37999bcd5fb18443_instant.jpg 87.0\n",
      "1 1-5d205d5ea6bafd3c2e038cf1139cdd5a9825388f_275cb29ffc473512447ce75ff34baa4ecea7276d_instant_210319.jpg 59.666666666666664\n",
      "2 1-11c00bf7cc3e03dc86bde8a20c8ab390b0b2f2a4_d5d5dbc0f05ff34587375f4a567740b61c4731a6_instant_210319.jpg 18.0\n",
      "3 2-8c5de8aa63e57b1e5d3a11ce4c4e2ded042b2ef3_0693ab68bf2278539a3733129d6964ba7719f7b2.jpg 22.0\n",
      "4 1-3d78e56849a16c0b17831129f6059e367574a138_8560eccb0f16269a00f2d6c6a5fab7419529c803_instant.jpg 15.0\n",
      "5 1-947a57fc1b94be1fb8a5cce439cd8112016648b1_b151d6624e13c4d31f300f909ebb63577e42a730_instant.jpg 19.0\n",
      "6 1-1f43f59e9f5ead12a13b1cd892a8757242367189_9cd89303dd466e6b178399f8d02b12aae69ec707_instant.jpg 14.0\n",
      "7 1-85fde97a518625ed46589a6be46300e36c3ad0d9_6626ee8bedc11ff89bd5a6205d10710e72ed9801_instant_210319.jpg 16.0\n",
      "8 1-e50b5a99fd9bab50130099c750df6d80f50a9b4e_fdafeaf4b1ec0417f969870e07a0d6401488df85_instant.jpg 17.0\n",
      "9 1-0d8eabdfed2cb1f0d455e5a2050d78ba39ae6cff_0665c9464c856662322717999ae3d8301ff48907_instant.jpg 11.0\n",
      "10 2-746ba8ac1301085b9f8d8d96beb3bf7f9e7a4605_ecc100d2cbc4a9fc70c2fde3eafaadb6ceb588ca_instant.jpg 29.0\n"
     ]
    },
    {
     "data": {
      "text/html": [
       "<div>\n",
       "<style scoped>\n",
       "    .dataframe tbody tr th:only-of-type {\n",
       "        vertical-align: middle;\n",
       "    }\n",
       "\n",
       "    .dataframe tbody tr th {\n",
       "        vertical-align: top;\n",
       "    }\n",
       "\n",
       "    .dataframe thead th {\n",
       "        text-align: right;\n",
       "    }\n",
       "</style>\n",
       "<table border=\"1\" class=\"dataframe\">\n",
       "  <thead>\n",
       "    <tr style=\"text-align: right;\">\n",
       "      <th></th>\n",
       "      <th>model</th>\n",
       "      <th>subseq</th>\n",
       "      <th>peaks</th>\n",
       "      <th>binary</th>\n",
       "      <th>mwa</th>\n",
       "    </tr>\n",
       "  </thead>\n",
       "  <tbody>\n",
       "    <tr>\n",
       "      <th>0</th>\n",
       "      <td>Polar Pith Laplacian</td>\n",
       "      <td>412.998448</td>\n",
       "      <td>137.042716</td>\n",
       "      <td>383.984672</td>\n",
       "      <td>221.378555</td>\n",
       "    </tr>\n",
       "  </tbody>\n",
       "</table>\n",
       "</div>"
      ],
      "text/plain": [
       "                  model      subseq       peaks      binary         mwa\n",
       "0  Polar Pith Laplacian  412.998448  137.042716  383.984672  221.378555"
      ]
     },
     "metadata": {},
     "output_type": "display_data"
    }
   ],
   "source": [
    "with_model(Model.POLAR_PITH_LAPLACIAN_EDGE, lines, points, data_dir, ranking_url, pith_url, rings_url, mse_url)"
   ]
  },
  {
   "cell_type": "code",
   "execution_count": 51,
   "id": "385ccfcc",
   "metadata": {},
   "outputs": [
    {
     "name": "stdout",
     "output_type": "stream",
     "text": [
      "0 2-34e23370868237a073d086fb64851017e9b2c8c9_85903b8cb210e9ad54581e7a37999bcd5fb18443_instant.jpg 87.0\n",
      "1 1-5d205d5ea6bafd3c2e038cf1139cdd5a9825388f_275cb29ffc473512447ce75ff34baa4ecea7276d_instant_210319.jpg 59.666666666666664\n",
      "2 1-11c00bf7cc3e03dc86bde8a20c8ab390b0b2f2a4_d5d5dbc0f05ff34587375f4a567740b61c4731a6_instant_210319.jpg 18.0\n",
      "3 2-8c5de8aa63e57b1e5d3a11ce4c4e2ded042b2ef3_0693ab68bf2278539a3733129d6964ba7719f7b2.jpg 22.0\n",
      "4 1-3d78e56849a16c0b17831129f6059e367574a138_8560eccb0f16269a00f2d6c6a5fab7419529c803_instant.jpg 15.0\n",
      "5 1-947a57fc1b94be1fb8a5cce439cd8112016648b1_b151d6624e13c4d31f300f909ebb63577e42a730_instant.jpg 19.0\n",
      "6 1-1f43f59e9f5ead12a13b1cd892a8757242367189_9cd89303dd466e6b178399f8d02b12aae69ec707_instant.jpg 14.0\n",
      "7 1-85fde97a518625ed46589a6be46300e36c3ad0d9_6626ee8bedc11ff89bd5a6205d10710e72ed9801_instant_210319.jpg 16.0\n",
      "8 1-e50b5a99fd9bab50130099c750df6d80f50a9b4e_fdafeaf4b1ec0417f969870e07a0d6401488df85_instant.jpg 17.0\n",
      "9 1-0d8eabdfed2cb1f0d455e5a2050d78ba39ae6cff_0665c9464c856662322717999ae3d8301ff48907_instant.jpg 11.0\n",
      "10 2-746ba8ac1301085b9f8d8d96beb3bf7f9e7a4605_ecc100d2cbc4a9fc70c2fde3eafaadb6ceb588ca_instant.jpg 29.0\n"
     ]
    },
    {
     "data": {
      "text/html": [
       "<div>\n",
       "<style scoped>\n",
       "    .dataframe tbody tr th:only-of-type {\n",
       "        vertical-align: middle;\n",
       "    }\n",
       "\n",
       "    .dataframe tbody tr th {\n",
       "        vertical-align: top;\n",
       "    }\n",
       "\n",
       "    .dataframe thead th {\n",
       "        text-align: right;\n",
       "    }\n",
       "</style>\n",
       "<table border=\"1\" class=\"dataframe\">\n",
       "  <thead>\n",
       "    <tr style=\"text-align: right;\">\n",
       "      <th></th>\n",
       "      <th>model</th>\n",
       "      <th>subseq</th>\n",
       "      <th>peaks</th>\n",
       "      <th>binary</th>\n",
       "      <th>mwa</th>\n",
       "    </tr>\n",
       "  </thead>\n",
       "  <tbody>\n",
       "    <tr>\n",
       "      <th>0</th>\n",
       "      <td>Polar Pith Laplacian(blur)</td>\n",
       "      <td>389.381994</td>\n",
       "      <td>85.95395</td>\n",
       "      <td>365.45388</td>\n",
       "      <td>105.621243</td>\n",
       "    </tr>\n",
       "  </tbody>\n",
       "</table>\n",
       "</div>"
      ],
      "text/plain": [
       "                        model      subseq     peaks     binary         mwa\n",
       "0  Polar Pith Laplacian(blur)  389.381994  85.95395  365.45388  105.621243"
      ]
     },
     "metadata": {},
     "output_type": "display_data"
    }
   ],
   "source": [
    "with_model(Model.POLAR_PITH_LAPLACIAN_EDGE_BLUR, lines, points, data_dir, ranking_url, pith_url, rings_url, mse_url)"
   ]
  },
  {
   "cell_type": "code",
   "execution_count": 52,
   "id": "34ab8968",
   "metadata": {},
   "outputs": [
    {
     "name": "stdout",
     "output_type": "stream",
     "text": [
      "Polar Canny(blur manual) 17.038133107766818 (peaks) \n",
      "\n"
     ]
    },
    {
     "data": {
      "text/html": [
       "<div>\n",
       "<style scoped>\n",
       "    .dataframe tbody tr th:only-of-type {\n",
       "        vertical-align: middle;\n",
       "    }\n",
       "\n",
       "    .dataframe tbody tr th {\n",
       "        vertical-align: top;\n",
       "    }\n",
       "\n",
       "    .dataframe thead th {\n",
       "        text-align: right;\n",
       "    }\n",
       "</style>\n",
       "<table border=\"1\" class=\"dataframe\">\n",
       "  <thead>\n",
       "    <tr style=\"text-align: right;\">\n",
       "      <th></th>\n",
       "      <th>subseq</th>\n",
       "      <th>peaks</th>\n",
       "      <th>binary</th>\n",
       "      <th>mwa</th>\n",
       "    </tr>\n",
       "    <tr>\n",
       "      <th>model</th>\n",
       "      <th></th>\n",
       "      <th></th>\n",
       "      <th></th>\n",
       "      <th></th>\n",
       "    </tr>\n",
       "  </thead>\n",
       "  <tbody>\n",
       "    <tr>\n",
       "      <th>Grayscale</th>\n",
       "      <td>233.074606</td>\n",
       "      <td>28.996609</td>\n",
       "      <td>227.048266</td>\n",
       "      <td>53.831157</td>\n",
       "    </tr>\n",
       "    <tr>\n",
       "      <th>Polar</th>\n",
       "      <td>167.324917</td>\n",
       "      <td>20.679990</td>\n",
       "      <td>305.470001</td>\n",
       "      <td>55.384421</td>\n",
       "    </tr>\n",
       "    <tr>\n",
       "      <th>Polar Pith</th>\n",
       "      <td>165.494986</td>\n",
       "      <td>20.522670</td>\n",
       "      <td>303.588302</td>\n",
       "      <td>56.850757</td>\n",
       "    </tr>\n",
       "    <tr>\n",
       "      <th>Sobel</th>\n",
       "      <td>285.430048</td>\n",
       "      <td>74.724251</td>\n",
       "      <td>268.973110</td>\n",
       "      <td>109.988800</td>\n",
       "    </tr>\n",
       "    <tr>\n",
       "      <th>Sobel(blur)</th>\n",
       "      <td>251.800704</td>\n",
       "      <td>43.731709</td>\n",
       "      <td>240.733870</td>\n",
       "      <td>69.551207</td>\n",
       "    </tr>\n",
       "    <tr>\n",
       "      <th>Canny</th>\n",
       "      <td>80.813281</td>\n",
       "      <td>46.394196</td>\n",
       "      <td>212.997581</td>\n",
       "      <td>154.443957</td>\n",
       "    </tr>\n",
       "    <tr>\n",
       "      <th>Canny(otsu)</th>\n",
       "      <td>90.674520</td>\n",
       "      <td>52.639914</td>\n",
       "      <td>228.463968</td>\n",
       "      <td>166.869105</td>\n",
       "    </tr>\n",
       "    <tr>\n",
       "      <th>Canny(triangle)</th>\n",
       "      <td>105.515798</td>\n",
       "      <td>61.297387</td>\n",
       "      <td>248.952177</td>\n",
       "      <td>182.599466</td>\n",
       "    </tr>\n",
       "    <tr>\n",
       "      <th>Canny(manual)</th>\n",
       "      <td>66.978064</td>\n",
       "      <td>38.144359</td>\n",
       "      <td>190.214201</td>\n",
       "      <td>135.917196</td>\n",
       "    </tr>\n",
       "    <tr>\n",
       "      <th>Canny(blur)</th>\n",
       "      <td>47.302931</td>\n",
       "      <td>28.433479</td>\n",
       "      <td>165.212280</td>\n",
       "      <td>118.744802</td>\n",
       "    </tr>\n",
       "    <tr>\n",
       "      <th>Canny(blur otsu)</th>\n",
       "      <td>57.208974</td>\n",
       "      <td>35.093833</td>\n",
       "      <td>185.370993</td>\n",
       "      <td>135.126285</td>\n",
       "    </tr>\n",
       "    <tr>\n",
       "      <th>Canny(blur triangle)</th>\n",
       "      <td>84.835595</td>\n",
       "      <td>52.948393</td>\n",
       "      <td>228.393502</td>\n",
       "      <td>171.144197</td>\n",
       "    </tr>\n",
       "    <tr>\n",
       "      <th>Canny(blur manual)</th>\n",
       "      <td>32.034387</td>\n",
       "      <td>19.093880</td>\n",
       "      <td>134.884342</td>\n",
       "      <td>93.002415</td>\n",
       "    </tr>\n",
       "    <tr>\n",
       "      <th>Laplacian</th>\n",
       "      <td>283.543544</td>\n",
       "      <td>97.460885</td>\n",
       "      <td>278.609351</td>\n",
       "      <td>171.063707</td>\n",
       "    </tr>\n",
       "    <tr>\n",
       "      <th>Laplacian(blur)</th>\n",
       "      <td>291.260267</td>\n",
       "      <td>79.889479</td>\n",
       "      <td>285.631747</td>\n",
       "      <td>98.574975</td>\n",
       "    </tr>\n",
       "    <tr>\n",
       "      <th>Polar Sobel</th>\n",
       "      <td>393.525104</td>\n",
       "      <td>88.948044</td>\n",
       "      <td>352.525780</td>\n",
       "      <td>126.856469</td>\n",
       "    </tr>\n",
       "    <tr>\n",
       "      <th>Polar Sobel(blur)</th>\n",
       "      <td>330.881130</td>\n",
       "      <td>40.514303</td>\n",
       "      <td>310.260028</td>\n",
       "      <td>71.738328</td>\n",
       "    </tr>\n",
       "    <tr>\n",
       "      <th>Polar Canny</th>\n",
       "      <td>76.644352</td>\n",
       "      <td>48.319843</td>\n",
       "      <td>246.095163</td>\n",
       "      <td>180.598974</td>\n",
       "    </tr>\n",
       "    <tr>\n",
       "      <th>Polar Canny(otsu)</th>\n",
       "      <td>88.878388</td>\n",
       "      <td>56.672202</td>\n",
       "      <td>268.350984</td>\n",
       "      <td>199.233198</td>\n",
       "    </tr>\n",
       "    <tr>\n",
       "      <th>Polar Canny(triangle)</th>\n",
       "      <td>113.174342</td>\n",
       "      <td>72.412701</td>\n",
       "      <td>302.148057</td>\n",
       "      <td>226.173740</td>\n",
       "    </tr>\n",
       "    <tr>\n",
       "      <th>Polar Canny(manual)</th>\n",
       "      <td>61.609859</td>\n",
       "      <td>38.166523</td>\n",
       "      <td>219.130386</td>\n",
       "      <td>157.143286</td>\n",
       "    </tr>\n",
       "    <tr>\n",
       "      <th>Polar Canny(blur)</th>\n",
       "      <td>41.439364</td>\n",
       "      <td>27.974819</td>\n",
       "      <td>187.727625</td>\n",
       "      <td>132.194214</td>\n",
       "    </tr>\n",
       "    <tr>\n",
       "      <th>Polar Canny(blur otsu)</th>\n",
       "      <td>53.876472</td>\n",
       "      <td>37.065851</td>\n",
       "      <td>219.559331</td>\n",
       "      <td>158.667341</td>\n",
       "    </tr>\n",
       "    <tr>\n",
       "      <th>Polar Canny(blur triangle)</th>\n",
       "      <td>90.478677</td>\n",
       "      <td>63.175075</td>\n",
       "      <td>281.521904</td>\n",
       "      <td>211.204385</td>\n",
       "    </tr>\n",
       "    <tr>\n",
       "      <th>Polar Canny(blur manual)</th>\n",
       "      <td>25.558127</td>\n",
       "      <td>17.038133</td>\n",
       "      <td>148.890127</td>\n",
       "      <td>99.358762</td>\n",
       "    </tr>\n",
       "    <tr>\n",
       "      <th>Polar Laplacian</th>\n",
       "      <td>419.296271</td>\n",
       "      <td>139.863564</td>\n",
       "      <td>387.075020</td>\n",
       "      <td>225.223877</td>\n",
       "    </tr>\n",
       "    <tr>\n",
       "      <th>Polar Laplacian(blur)</th>\n",
       "      <td>393.088196</td>\n",
       "      <td>86.929788</td>\n",
       "      <td>369.123498</td>\n",
       "      <td>106.614500</td>\n",
       "    </tr>\n",
       "    <tr>\n",
       "      <th>Polar Pith Sobel</th>\n",
       "      <td>391.781585</td>\n",
       "      <td>87.720371</td>\n",
       "      <td>349.497439</td>\n",
       "      <td>126.089302</td>\n",
       "    </tr>\n",
       "    <tr>\n",
       "      <th>Polar Pith Sobel(blur)</th>\n",
       "      <td>328.917498</td>\n",
       "      <td>40.737704</td>\n",
       "      <td>309.890133</td>\n",
       "      <td>73.111155</td>\n",
       "    </tr>\n",
       "    <tr>\n",
       "      <th>Polar Pith Canny</th>\n",
       "      <td>73.353568</td>\n",
       "      <td>46.418208</td>\n",
       "      <td>241.827888</td>\n",
       "      <td>178.109727</td>\n",
       "    </tr>\n",
       "    <tr>\n",
       "      <th>Polar Pith Canny(otsu)</th>\n",
       "      <td>85.821743</td>\n",
       "      <td>54.868106</td>\n",
       "      <td>264.596347</td>\n",
       "      <td>197.124304</td>\n",
       "    </tr>\n",
       "    <tr>\n",
       "      <th>Polar Pith Canny(triangle)</th>\n",
       "      <td>110.620955</td>\n",
       "      <td>70.983140</td>\n",
       "      <td>299.114253</td>\n",
       "      <td>225.159278</td>\n",
       "    </tr>\n",
       "    <tr>\n",
       "      <th>Polar Pith Canny(manual)</th>\n",
       "      <td>59.081853</td>\n",
       "      <td>36.578926</td>\n",
       "      <td>215.886647</td>\n",
       "      <td>155.728801</td>\n",
       "    </tr>\n",
       "    <tr>\n",
       "      <th>Polar Pith Canny(blur)</th>\n",
       "      <td>41.702693</td>\n",
       "      <td>28.061493</td>\n",
       "      <td>185.271625</td>\n",
       "      <td>130.113521</td>\n",
       "    </tr>\n",
       "    <tr>\n",
       "      <th>Polar Pith Canny(blur otsu)</th>\n",
       "      <td>53.385852</td>\n",
       "      <td>36.453084</td>\n",
       "      <td>217.215260</td>\n",
       "      <td>156.460575</td>\n",
       "    </tr>\n",
       "    <tr>\n",
       "      <th>Polar Pith Canny(blur triangle)</th>\n",
       "      <td>89.269981</td>\n",
       "      <td>62.528006</td>\n",
       "      <td>279.290586</td>\n",
       "      <td>210.089633</td>\n",
       "    </tr>\n",
       "    <tr>\n",
       "      <th>Polar Pith Canny(blur manual)</th>\n",
       "      <td>26.904317</td>\n",
       "      <td>18.190153</td>\n",
       "      <td>149.162153</td>\n",
       "      <td>100.269046</td>\n",
       "    </tr>\n",
       "    <tr>\n",
       "      <th>Polar Pith Laplacian</th>\n",
       "      <td>412.998448</td>\n",
       "      <td>137.042716</td>\n",
       "      <td>383.984672</td>\n",
       "      <td>221.378555</td>\n",
       "    </tr>\n",
       "    <tr>\n",
       "      <th>Polar Pith Laplacian(blur)</th>\n",
       "      <td>389.381994</td>\n",
       "      <td>85.953950</td>\n",
       "      <td>365.453880</td>\n",
       "      <td>105.621243</td>\n",
       "    </tr>\n",
       "  </tbody>\n",
       "</table>\n",
       "</div>"
      ],
      "text/plain": [
       "                                     subseq       peaks      binary  \\\n",
       "model                                                                 \n",
       "Grayscale                        233.074606   28.996609  227.048266   \n",
       "Polar                            167.324917   20.679990  305.470001   \n",
       "Polar Pith                       165.494986   20.522670  303.588302   \n",
       "Sobel                            285.430048   74.724251  268.973110   \n",
       "Sobel(blur)                      251.800704   43.731709  240.733870   \n",
       "Canny                             80.813281   46.394196  212.997581   \n",
       "Canny(otsu)                       90.674520   52.639914  228.463968   \n",
       "Canny(triangle)                  105.515798   61.297387  248.952177   \n",
       "Canny(manual)                     66.978064   38.144359  190.214201   \n",
       "Canny(blur)                       47.302931   28.433479  165.212280   \n",
       "Canny(blur otsu)                  57.208974   35.093833  185.370993   \n",
       "Canny(blur triangle)              84.835595   52.948393  228.393502   \n",
       "Canny(blur manual)                32.034387   19.093880  134.884342   \n",
       "Laplacian                        283.543544   97.460885  278.609351   \n",
       "Laplacian(blur)                  291.260267   79.889479  285.631747   \n",
       "Polar Sobel                      393.525104   88.948044  352.525780   \n",
       "Polar Sobel(blur)                330.881130   40.514303  310.260028   \n",
       "Polar Canny                       76.644352   48.319843  246.095163   \n",
       "Polar Canny(otsu)                 88.878388   56.672202  268.350984   \n",
       "Polar Canny(triangle)            113.174342   72.412701  302.148057   \n",
       "Polar Canny(manual)               61.609859   38.166523  219.130386   \n",
       "Polar Canny(blur)                 41.439364   27.974819  187.727625   \n",
       "Polar Canny(blur otsu)            53.876472   37.065851  219.559331   \n",
       "Polar Canny(blur triangle)        90.478677   63.175075  281.521904   \n",
       "Polar Canny(blur manual)          25.558127   17.038133  148.890127   \n",
       "Polar Laplacian                  419.296271  139.863564  387.075020   \n",
       "Polar Laplacian(blur)            393.088196   86.929788  369.123498   \n",
       "Polar Pith Sobel                 391.781585   87.720371  349.497439   \n",
       "Polar Pith Sobel(blur)           328.917498   40.737704  309.890133   \n",
       "Polar Pith Canny                  73.353568   46.418208  241.827888   \n",
       "Polar Pith Canny(otsu)            85.821743   54.868106  264.596347   \n",
       "Polar Pith Canny(triangle)       110.620955   70.983140  299.114253   \n",
       "Polar Pith Canny(manual)          59.081853   36.578926  215.886647   \n",
       "Polar Pith Canny(blur)            41.702693   28.061493  185.271625   \n",
       "Polar Pith Canny(blur otsu)       53.385852   36.453084  217.215260   \n",
       "Polar Pith Canny(blur triangle)   89.269981   62.528006  279.290586   \n",
       "Polar Pith Canny(blur manual)     26.904317   18.190153  149.162153   \n",
       "Polar Pith Laplacian             412.998448  137.042716  383.984672   \n",
       "Polar Pith Laplacian(blur)       389.381994   85.953950  365.453880   \n",
       "\n",
       "                                        mwa  \n",
       "model                                        \n",
       "Grayscale                         53.831157  \n",
       "Polar                             55.384421  \n",
       "Polar Pith                        56.850757  \n",
       "Sobel                            109.988800  \n",
       "Sobel(blur)                       69.551207  \n",
       "Canny                            154.443957  \n",
       "Canny(otsu)                      166.869105  \n",
       "Canny(triangle)                  182.599466  \n",
       "Canny(manual)                    135.917196  \n",
       "Canny(blur)                      118.744802  \n",
       "Canny(blur otsu)                 135.126285  \n",
       "Canny(blur triangle)             171.144197  \n",
       "Canny(blur manual)                93.002415  \n",
       "Laplacian                        171.063707  \n",
       "Laplacian(blur)                   98.574975  \n",
       "Polar Sobel                      126.856469  \n",
       "Polar Sobel(blur)                 71.738328  \n",
       "Polar Canny                      180.598974  \n",
       "Polar Canny(otsu)                199.233198  \n",
       "Polar Canny(triangle)            226.173740  \n",
       "Polar Canny(manual)              157.143286  \n",
       "Polar Canny(blur)                132.194214  \n",
       "Polar Canny(blur otsu)           158.667341  \n",
       "Polar Canny(blur triangle)       211.204385  \n",
       "Polar Canny(blur manual)          99.358762  \n",
       "Polar Laplacian                  225.223877  \n",
       "Polar Laplacian(blur)            106.614500  \n",
       "Polar Pith Sobel                 126.089302  \n",
       "Polar Pith Sobel(blur)            73.111155  \n",
       "Polar Pith Canny                 178.109727  \n",
       "Polar Pith Canny(otsu)           197.124304  \n",
       "Polar Pith Canny(triangle)       225.159278  \n",
       "Polar Pith Canny(manual)         155.728801  \n",
       "Polar Pith Canny(blur)           130.113521  \n",
       "Polar Pith Canny(blur otsu)      156.460575  \n",
       "Polar Pith Canny(blur triangle)  210.089633  \n",
       "Polar Pith Canny(blur manual)    100.269046  \n",
       "Polar Pith Laplacian             221.378555  \n",
       "Polar Pith Laplacian(blur)       105.621243  "
      ]
     },
     "metadata": {},
     "output_type": "display_data"
    },
    {
     "name": "stdout",
     "output_type": "stream",
     "text": [
      "Min: 17.038133107766818, Max: 419.2962709674655\n"
     ]
    },
    {
     "data": {
      "image/png": "[encoded data removed]",
      "text/plain": [
       "<Figure size 640x480 with 1 Axes>"
      ]
     },
     "metadata": {},
     "output_type": "display_data"
    },
    {
     "data": {
      "text/html": [
       "<div>\n",
       "<style scoped>\n",
       "    .dataframe tbody tr th:only-of-type {\n",
       "        vertical-align: middle;\n",
       "    }\n",
       "\n",
       "    .dataframe tbody tr th {\n",
       "        vertical-align: top;\n",
       "    }\n",
       "\n",
       "    .dataframe thead th {\n",
       "        text-align: right;\n",
       "    }\n",
       "</style>\n",
       "<table border=\"1\" class=\"dataframe\">\n",
       "  <thead>\n",
       "    <tr style=\"text-align: right;\">\n",
       "      <th></th>\n",
       "      <th>subseq</th>\n",
       "      <th>peaks</th>\n",
       "      <th>binary</th>\n",
       "      <th>mwa</th>\n",
       "    </tr>\n",
       "    <tr>\n",
       "      <th>model</th>\n",
       "      <th></th>\n",
       "      <th></th>\n",
       "      <th></th>\n",
       "      <th></th>\n",
       "    </tr>\n",
       "  </thead>\n",
       "  <tbody>\n",
       "    <tr>\n",
       "      <th>Grayscale</th>\n",
       "      <td>233.074606</td>\n",
       "      <td>28.996609</td>\n",
       "      <td>227.048266</td>\n",
       "      <td>53.831157</td>\n",
       "    </tr>\n",
       "    <tr>\n",
       "      <th>Polar</th>\n",
       "      <td>167.324917</td>\n",
       "      <td>20.679990</td>\n",
       "      <td>305.470001</td>\n",
       "      <td>55.384421</td>\n",
       "    </tr>\n",
       "    <tr>\n",
       "      <th>Polar Pith</th>\n",
       "      <td>165.494986</td>\n",
       "      <td>20.522670</td>\n",
       "      <td>303.588302</td>\n",
       "      <td>56.850757</td>\n",
       "    </tr>\n",
       "    <tr>\n",
       "      <th>Sobel</th>\n",
       "      <td>285.430048</td>\n",
       "      <td>74.724251</td>\n",
       "      <td>268.973110</td>\n",
       "      <td>109.988800</td>\n",
       "    </tr>\n",
       "    <tr>\n",
       "      <th>Sobel(blur)</th>\n",
       "      <td>251.800704</td>\n",
       "      <td>43.731709</td>\n",
       "      <td>240.733870</td>\n",
       "      <td>69.551207</td>\n",
       "    </tr>\n",
       "    <tr>\n",
       "      <th>Canny</th>\n",
       "      <td>80.813281</td>\n",
       "      <td>46.394196</td>\n",
       "      <td>212.997581</td>\n",
       "      <td>154.443957</td>\n",
       "    </tr>\n",
       "    <tr>\n",
       "      <th>Canny(otsu)</th>\n",
       "      <td>90.674520</td>\n",
       "      <td>52.639914</td>\n",
       "      <td>228.463968</td>\n",
       "      <td>166.869105</td>\n",
       "    </tr>\n",
       "    <tr>\n",
       "      <th>Canny(triangle)</th>\n",
       "      <td>105.515798</td>\n",
       "      <td>61.297387</td>\n",
       "      <td>248.952177</td>\n",
       "      <td>182.599466</td>\n",
       "    </tr>\n",
       "    <tr>\n",
       "      <th>Canny(manual)</th>\n",
       "      <td>66.978064</td>\n",
       "      <td>38.144359</td>\n",
       "      <td>190.214201</td>\n",
       "      <td>135.917196</td>\n",
       "    </tr>\n",
       "    <tr>\n",
       "      <th>Canny(blur)</th>\n",
       "      <td>47.302931</td>\n",
       "      <td>28.433479</td>\n",
       "      <td>165.212280</td>\n",
       "      <td>118.744802</td>\n",
       "    </tr>\n",
       "    <tr>\n",
       "      <th>Canny(blur otsu)</th>\n",
       "      <td>57.208974</td>\n",
       "      <td>35.093833</td>\n",
       "      <td>185.370993</td>\n",
       "      <td>135.126285</td>\n",
       "    </tr>\n",
       "    <tr>\n",
       "      <th>Canny(blur triangle)</th>\n",
       "      <td>84.835595</td>\n",
       "      <td>52.948393</td>\n",
       "      <td>228.393502</td>\n",
       "      <td>171.144197</td>\n",
       "    </tr>\n",
       "    <tr>\n",
       "      <th>Canny(blur manual)</th>\n",
       "      <td>32.034387</td>\n",
       "      <td>19.093880</td>\n",
       "      <td>134.884342</td>\n",
       "      <td>93.002415</td>\n",
       "    </tr>\n",
       "    <tr>\n",
       "      <th>Laplacian</th>\n",
       "      <td>283.543544</td>\n",
       "      <td>97.460885</td>\n",
       "      <td>278.609351</td>\n",
       "      <td>171.063707</td>\n",
       "    </tr>\n",
       "    <tr>\n",
       "      <th>Laplacian(blur)</th>\n",
       "      <td>291.260267</td>\n",
       "      <td>79.889479</td>\n",
       "      <td>285.631747</td>\n",
       "      <td>98.574975</td>\n",
       "    </tr>\n",
       "  </tbody>\n",
       "</table>\n",
       "</div>"
      ],
      "text/plain": [
       "                          subseq      peaks      binary         mwa\n",
       "model                                                              \n",
       "Grayscale             233.074606  28.996609  227.048266   53.831157\n",
       "Polar                 167.324917  20.679990  305.470001   55.384421\n",
       "Polar Pith            165.494986  20.522670  303.588302   56.850757\n",
       "Sobel                 285.430048  74.724251  268.973110  109.988800\n",
       "Sobel(blur)           251.800704  43.731709  240.733870   69.551207\n",
       "Canny                  80.813281  46.394196  212.997581  154.443957\n",
       "Canny(otsu)            90.674520  52.639914  228.463968  166.869105\n",
       "Canny(triangle)       105.515798  61.297387  248.952177  182.599466\n",
       "Canny(manual)          66.978064  38.144359  190.214201  135.917196\n",
       "Canny(blur)            47.302931  28.433479  165.212280  118.744802\n",
       "Canny(blur otsu)       57.208974  35.093833  185.370993  135.126285\n",
       "Canny(blur triangle)   84.835595  52.948393  228.393502  171.144197\n",
       "Canny(blur manual)     32.034387  19.093880  134.884342   93.002415\n",
       "Laplacian             283.543544  97.460885  278.609351  171.063707\n",
       "Laplacian(blur)       291.260267  79.889479  285.631747   98.574975"
      ]
     },
     "metadata": {},
     "output_type": "display_data"
    },
    {
     "name": "stdout",
     "output_type": "stream",
     "text": [
      "Min: 19.093880446825803, Max: 305.470001466733\n"
     ]
    },
    {
     "data": {
      "image/png": "[encoded data removed]",
      "text/plain": [
       "<Figure size 640x480 with 1 Axes>"
      ]
     },
     "metadata": {},
     "output_type": "display_data"
    },
    {
     "data": {
      "text/html": [
       "<div>\n",
       "<style scoped>\n",
       "    .dataframe tbody tr th:only-of-type {\n",
       "        vertical-align: middle;\n",
       "    }\n",
       "\n",
       "    .dataframe tbody tr th {\n",
       "        vertical-align: top;\n",
       "    }\n",
       "\n",
       "    .dataframe thead th {\n",
       "        text-align: right;\n",
       "    }\n",
       "</style>\n",
       "<table border=\"1\" class=\"dataframe\">\n",
       "  <thead>\n",
       "    <tr style=\"text-align: right;\">\n",
       "      <th></th>\n",
       "      <th>subseq</th>\n",
       "      <th>peaks</th>\n",
       "      <th>binary</th>\n",
       "      <th>mwa</th>\n",
       "    </tr>\n",
       "    <tr>\n",
       "      <th>model</th>\n",
       "      <th></th>\n",
       "      <th></th>\n",
       "      <th></th>\n",
       "      <th></th>\n",
       "    </tr>\n",
       "  </thead>\n",
       "  <tbody>\n",
       "    <tr>\n",
       "      <th>Polar Sobel</th>\n",
       "      <td>393.525104</td>\n",
       "      <td>88.948044</td>\n",
       "      <td>352.525780</td>\n",
       "      <td>126.856469</td>\n",
       "    </tr>\n",
       "    <tr>\n",
       "      <th>Polar Sobel(blur)</th>\n",
       "      <td>330.881130</td>\n",
       "      <td>40.514303</td>\n",
       "      <td>310.260028</td>\n",
       "      <td>71.738328</td>\n",
       "    </tr>\n",
       "    <tr>\n",
       "      <th>Polar Canny</th>\n",
       "      <td>76.644352</td>\n",
       "      <td>48.319843</td>\n",
       "      <td>246.095163</td>\n",
       "      <td>180.598974</td>\n",
       "    </tr>\n",
       "    <tr>\n",
       "      <th>Polar Canny(otsu)</th>\n",
       "      <td>88.878388</td>\n",
       "      <td>56.672202</td>\n",
       "      <td>268.350984</td>\n",
       "      <td>199.233198</td>\n",
       "    </tr>\n",
       "    <tr>\n",
       "      <th>Polar Canny(triangle)</th>\n",
       "      <td>113.174342</td>\n",
       "      <td>72.412701</td>\n",
       "      <td>302.148057</td>\n",
       "      <td>226.173740</td>\n",
       "    </tr>\n",
       "    <tr>\n",
       "      <th>Polar Canny(manual)</th>\n",
       "      <td>61.609859</td>\n",
       "      <td>38.166523</td>\n",
       "      <td>219.130386</td>\n",
       "      <td>157.143286</td>\n",
       "    </tr>\n",
       "    <tr>\n",
       "      <th>Polar Canny(blur)</th>\n",
       "      <td>41.439364</td>\n",
       "      <td>27.974819</td>\n",
       "      <td>187.727625</td>\n",
       "      <td>132.194214</td>\n",
       "    </tr>\n",
       "    <tr>\n",
       "      <th>Polar Canny(blur otsu)</th>\n",
       "      <td>53.876472</td>\n",
       "      <td>37.065851</td>\n",
       "      <td>219.559331</td>\n",
       "      <td>158.667341</td>\n",
       "    </tr>\n",
       "    <tr>\n",
       "      <th>Polar Canny(blur triangle)</th>\n",
       "      <td>90.478677</td>\n",
       "      <td>63.175075</td>\n",
       "      <td>281.521904</td>\n",
       "      <td>211.204385</td>\n",
       "    </tr>\n",
       "    <tr>\n",
       "      <th>Polar Canny(blur manual)</th>\n",
       "      <td>25.558127</td>\n",
       "      <td>17.038133</td>\n",
       "      <td>148.890127</td>\n",
       "      <td>99.358762</td>\n",
       "    </tr>\n",
       "    <tr>\n",
       "      <th>Polar Laplacian</th>\n",
       "      <td>419.296271</td>\n",
       "      <td>139.863564</td>\n",
       "      <td>387.075020</td>\n",
       "      <td>225.223877</td>\n",
       "    </tr>\n",
       "    <tr>\n",
       "      <th>Polar Laplacian(blur)</th>\n",
       "      <td>393.088196</td>\n",
       "      <td>86.929788</td>\n",
       "      <td>369.123498</td>\n",
       "      <td>106.614500</td>\n",
       "    </tr>\n",
       "  </tbody>\n",
       "</table>\n",
       "</div>"
      ],
      "text/plain": [
       "                                subseq       peaks      binary         mwa\n",
       "model                                                                     \n",
       "Polar Sobel                 393.525104   88.948044  352.525780  126.856469\n",
       "Polar Sobel(blur)           330.881130   40.514303  310.260028   71.738328\n",
       "Polar Canny                  76.644352   48.319843  246.095163  180.598974\n",
       "Polar Canny(otsu)            88.878388   56.672202  268.350984  199.233198\n",
       "Polar Canny(triangle)       113.174342   72.412701  302.148057  226.173740\n",
       "Polar Canny(manual)          61.609859   38.166523  219.130386  157.143286\n",
       "Polar Canny(blur)            41.439364   27.974819  187.727625  132.194214\n",
       "Polar Canny(blur otsu)       53.876472   37.065851  219.559331  158.667341\n",
       "Polar Canny(blur triangle)   90.478677   63.175075  281.521904  211.204385\n",
       "Polar Canny(blur manual)     25.558127   17.038133  148.890127   99.358762\n",
       "Polar Laplacian             419.296271  139.863564  387.075020  225.223877\n",
       "Polar Laplacian(blur)       393.088196   86.929788  369.123498  106.614500"
      ]
     },
     "metadata": {},
     "output_type": "display_data"
    },
    {
     "name": "stdout",
     "output_type": "stream",
     "text": [
      "Min: 17.038133107766818, Max: 419.2962709674655\n"
     ]
    },
    {
     "data": {
      "image/png": "[encoded data removed]",
      "text/plain": [
       "<Figure size 640x480 with 1 Axes>"
      ]
     },
     "metadata": {},
     "output_type": "display_data"
    },
    {
     "data": {
      "text/html": [
       "<div>\n",
       "<style scoped>\n",
       "    .dataframe tbody tr th:only-of-type {\n",
       "        vertical-align: middle;\n",
       "    }\n",
       "\n",
       "    .dataframe tbody tr th {\n",
       "        vertical-align: top;\n",
       "    }\n",
       "\n",
       "    .dataframe thead th {\n",
       "        text-align: right;\n",
       "    }\n",
       "</style>\n",
       "<table border=\"1\" class=\"dataframe\">\n",
       "  <thead>\n",
       "    <tr style=\"text-align: right;\">\n",
       "      <th></th>\n",
       "      <th>subseq</th>\n",
       "      <th>peaks</th>\n",
       "      <th>binary</th>\n",
       "      <th>mwa</th>\n",
       "    </tr>\n",
       "    <tr>\n",
       "      <th>model</th>\n",
       "      <th></th>\n",
       "      <th></th>\n",
       "      <th></th>\n",
       "      <th></th>\n",
       "    </tr>\n",
       "  </thead>\n",
       "  <tbody>\n",
       "    <tr>\n",
       "      <th>Polar Pith Sobel</th>\n",
       "      <td>391.781585</td>\n",
       "      <td>87.720371</td>\n",
       "      <td>349.497439</td>\n",
       "      <td>126.089302</td>\n",
       "    </tr>\n",
       "    <tr>\n",
       "      <th>Polar Pith Sobel(blur)</th>\n",
       "      <td>328.917498</td>\n",
       "      <td>40.737704</td>\n",
       "      <td>309.890133</td>\n",
       "      <td>73.111155</td>\n",
       "    </tr>\n",
       "    <tr>\n",
       "      <th>Polar Pith Canny</th>\n",
       "      <td>73.353568</td>\n",
       "      <td>46.418208</td>\n",
       "      <td>241.827888</td>\n",
       "      <td>178.109727</td>\n",
       "    </tr>\n",
       "    <tr>\n",
       "      <th>Polar Pith Canny(otsu)</th>\n",
       "      <td>85.821743</td>\n",
       "      <td>54.868106</td>\n",
       "      <td>264.596347</td>\n",
       "      <td>197.124304</td>\n",
       "    </tr>\n",
       "    <tr>\n",
       "      <th>Polar Pith Canny(triangle)</th>\n",
       "      <td>110.620955</td>\n",
       "      <td>70.983140</td>\n",
       "      <td>299.114253</td>\n",
       "      <td>225.159278</td>\n",
       "    </tr>\n",
       "    <tr>\n",
       "      <th>Polar Pith Canny(manual)</th>\n",
       "      <td>59.081853</td>\n",
       "      <td>36.578926</td>\n",
       "      <td>215.886647</td>\n",
       "      <td>155.728801</td>\n",
       "    </tr>\n",
       "    <tr>\n",
       "      <th>Polar Pith Canny(blur)</th>\n",
       "      <td>41.702693</td>\n",
       "      <td>28.061493</td>\n",
       "      <td>185.271625</td>\n",
       "      <td>130.113521</td>\n",
       "    </tr>\n",
       "    <tr>\n",
       "      <th>Polar Pith Canny(blur otsu)</th>\n",
       "      <td>53.385852</td>\n",
       "      <td>36.453084</td>\n",
       "      <td>217.215260</td>\n",
       "      <td>156.460575</td>\n",
       "    </tr>\n",
       "    <tr>\n",
       "      <th>Polar Pith Canny(blur triangle)</th>\n",
       "      <td>89.269981</td>\n",
       "      <td>62.528006</td>\n",
       "      <td>279.290586</td>\n",
       "      <td>210.089633</td>\n",
       "    </tr>\n",
       "    <tr>\n",
       "      <th>Polar Pith Canny(blur manual)</th>\n",
       "      <td>26.904317</td>\n",
       "      <td>18.190153</td>\n",
       "      <td>149.162153</td>\n",
       "      <td>100.269046</td>\n",
       "    </tr>\n",
       "    <tr>\n",
       "      <th>Polar Pith Laplacian</th>\n",
       "      <td>412.998448</td>\n",
       "      <td>137.042716</td>\n",
       "      <td>383.984672</td>\n",
       "      <td>221.378555</td>\n",
       "    </tr>\n",
       "    <tr>\n",
       "      <th>Polar Pith Laplacian(blur)</th>\n",
       "      <td>389.381994</td>\n",
       "      <td>85.953950</td>\n",
       "      <td>365.453880</td>\n",
       "      <td>105.621243</td>\n",
       "    </tr>\n",
       "  </tbody>\n",
       "</table>\n",
       "</div>"
      ],
      "text/plain": [
       "                                     subseq       peaks      binary  \\\n",
       "model                                                                 \n",
       "Polar Pith Sobel                 391.781585   87.720371  349.497439   \n",
       "Polar Pith Sobel(blur)           328.917498   40.737704  309.890133   \n",
       "Polar Pith Canny                  73.353568   46.418208  241.827888   \n",
       "Polar Pith Canny(otsu)            85.821743   54.868106  264.596347   \n",
       "Polar Pith Canny(triangle)       110.620955   70.983140  299.114253   \n",
       "Polar Pith Canny(manual)          59.081853   36.578926  215.886647   \n",
       "Polar Pith Canny(blur)            41.702693   28.061493  185.271625   \n",
       "Polar Pith Canny(blur otsu)       53.385852   36.453084  217.215260   \n",
       "Polar Pith Canny(blur triangle)   89.269981   62.528006  279.290586   \n",
       "Polar Pith Canny(blur manual)     26.904317   18.190153  149.162153   \n",
       "Polar Pith Laplacian             412.998448  137.042716  383.984672   \n",
       "Polar Pith Laplacian(blur)       389.381994   85.953950  365.453880   \n",
       "\n",
       "                                        mwa  \n",
       "model                                        \n",
       "Polar Pith Sobel                 126.089302  \n",
       "Polar Pith Sobel(blur)            73.111155  \n",
       "Polar Pith Canny                 178.109727  \n",
       "Polar Pith Canny(otsu)           197.124304  \n",
       "Polar Pith Canny(triangle)       225.159278  \n",
       "Polar Pith Canny(manual)         155.728801  \n",
       "Polar Pith Canny(blur)           130.113521  \n",
       "Polar Pith Canny(blur otsu)      156.460575  \n",
       "Polar Pith Canny(blur triangle)  210.089633  \n",
       "Polar Pith Canny(blur manual)    100.269046  \n",
       "Polar Pith Laplacian             221.378555  \n",
       "Polar Pith Laplacian(blur)       105.621243  "
      ]
     },
     "metadata": {},
     "output_type": "display_data"
    },
    {
     "name": "stdout",
     "output_type": "stream",
     "text": [
      "Min: 18.190153057216133, Max: 412.9984477482783\n"
     ]
    },
    {
     "data": {
      "image/png": "[encoded data removed]",
      "text/plain": [
       "<Figure size 640x480 with 1 Axes>"
      ]
     },
     "metadata": {},
     "output_type": "display_data"
    }
   ],
   "source": [
    "multi_mse(mse_url)"
   ]
  },
  {
   "cell_type": "code",
   "execution_count": 53,
   "id": "17bf2401",
   "metadata": {},
   "outputs": [
    {
     "ename": "NameError",
     "evalue": "name 'STOP' is not defined",
     "output_type": "error",
     "traceback": [
      "\u001b[0;31m---------------------------------------------------------------------------\u001b[0m",
      "\u001b[0;31mNameError\u001b[0m                                 Traceback (most recent call last)",
      "Cell \u001b[0;32mIn[53], line 1\u001b[0m\n\u001b[0;32m----> 1\u001b[0m \u001b[43mSTOP\u001b[49m\n",
      "\u001b[0;31mNameError\u001b[0m: name 'STOP' is not defined"
     ]
    }
   ],
   "source": [
    "STOP"
   ]
  },
  {
   "cell_type": "markdown",
   "id": "39e8e020",
   "metadata": {},
   "source": [
    "### Model with 32 lines"
   ]
  },
  {
   "cell_type": "code",
   "execution_count": null,
   "id": "c233746c",
   "metadata": {},
   "outputs": [],
   "source": [
    "#MSE file\n",
    "mse_url = \"output/ringsranking_mse_thirtytwo.csv\"\n",
    "\n",
    "#rings info file\n",
    "rings_url = \"output/ringsranking_rings_thirtytwo.csv\"\n",
    "\n",
    "#no of lines and points\n",
    "lines = 32\n",
    "points = 150"
   ]
  },
  {
   "cell_type": "code",
   "execution_count": null,
   "id": "50f82559",
   "metadata": {},
   "outputs": [],
   "source": [
    "with_model(Model.GRAYSCALE, lines, points, data_dir, ranking_url, pith_url, rings_url, mse_url)"
   ]
  },
  {
   "cell_type": "code",
   "execution_count": null,
   "id": "8797c4d3",
   "metadata": {},
   "outputs": [],
   "source": [
    "with_model(Model.POLAR, lines, points, data_dir, ranking_url, pith_url, rings_url, mse_url)"
   ]
  },
  {
   "cell_type": "code",
   "execution_count": null,
   "id": "c5d94494",
   "metadata": {},
   "outputs": [],
   "source": [
    "with_model(Model.POLAR_PITH, lines, points, data_dir, ranking_url, pith_url, rings_url, mse_url)"
   ]
  },
  {
   "cell_type": "code",
   "execution_count": null,
   "id": "d2cd02d0",
   "metadata": {},
   "outputs": [],
   "source": []
  },
  {
   "cell_type": "code",
   "execution_count": null,
   "id": "c0dffadb",
   "metadata": {},
   "outputs": [],
   "source": [
    "with_model(Model.SOBEL_EDGE, lines, points, data_dir, ranking_url, pith_url, rings_url, mse_url)"
   ]
  },
  {
   "cell_type": "code",
   "execution_count": null,
   "id": "04e63e04",
   "metadata": {},
   "outputs": [],
   "source": [
    "with_model(Model.SOBEL_EDGE_BLUR, lines, points, data_dir, ranking_url, pith_url, rings_url, mse_url)"
   ]
  },
  {
   "cell_type": "code",
   "execution_count": null,
   "id": "5994d9e7",
   "metadata": {},
   "outputs": [],
   "source": [
    "with_model(Model.CANNY_EDGE, lines, points, data_dir, ranking_url, pith_url, rings_url, mse_url)"
   ]
  },
  {
   "cell_type": "code",
   "execution_count": null,
   "id": "9fc72582",
   "metadata": {},
   "outputs": [],
   "source": [
    "with_model(Model.CANNY_EDGE_OTSU, lines, points, data_dir, ranking_url, pith_url, rings_url, mse_url)"
   ]
  },
  {
   "cell_type": "code",
   "execution_count": null,
   "id": "e6da9545",
   "metadata": {},
   "outputs": [],
   "source": [
    "with_model(Model.CANNY_EDGE_TRIANGLE, lines, points, data_dir, ranking_url, pith_url, rings_url, mse_url)"
   ]
  },
  {
   "cell_type": "code",
   "execution_count": null,
   "id": "989633ad",
   "metadata": {},
   "outputs": [],
   "source": [
    "with_model(Model.CANNY_EDGE_MANUAL, lines, points, data_dir, ranking_url, pith_url, rings_url, mse_url)"
   ]
  },
  {
   "cell_type": "code",
   "execution_count": null,
   "id": "21fc6843",
   "metadata": {},
   "outputs": [],
   "source": [
    "with_model(Model.CANNY_EDGE_BLUR, lines, points, data_dir, ranking_url, pith_url, rings_url, mse_url)"
   ]
  },
  {
   "cell_type": "code",
   "execution_count": null,
   "id": "e57eb8d2",
   "metadata": {},
   "outputs": [],
   "source": [
    "with_model(Model.CANNY_EDGE_BLUR_OTSU, lines, points, data_dir, ranking_url, pith_url, rings_url, mse_url)"
   ]
  },
  {
   "cell_type": "code",
   "execution_count": null,
   "id": "d8f43e57",
   "metadata": {},
   "outputs": [],
   "source": [
    "with_model(Model.CANNY_EDGE_BLUR_TRIANGLE, lines, points, data_dir, ranking_url, pith_url, rings_url, mse_url)"
   ]
  },
  {
   "cell_type": "code",
   "execution_count": null,
   "id": "f86cfcf6",
   "metadata": {},
   "outputs": [],
   "source": [
    "with_model(Model.CANNY_EDGE_BLUR_MANUAL, lines, points, data_dir, ranking_url, pith_url, rings_url, mse_url)"
   ]
  },
  {
   "cell_type": "code",
   "execution_count": null,
   "id": "043784b6",
   "metadata": {},
   "outputs": [],
   "source": [
    "with_model(Model.LAPLACIAN_EDGE, lines, points, data_dir, ranking_url, pith_url, rings_url, mse_url)"
   ]
  },
  {
   "cell_type": "code",
   "execution_count": null,
   "id": "355f21f9",
   "metadata": {},
   "outputs": [],
   "source": [
    "with_model(Model.LAPLACIAN_EDGE_BLUR, lines, points, data_dir, ranking_url, pith_url, rings_url, mse_url)"
   ]
  },
  {
   "cell_type": "code",
   "execution_count": null,
   "id": "6ec8f7be",
   "metadata": {},
   "outputs": [],
   "source": []
  },
  {
   "cell_type": "code",
   "execution_count": null,
   "id": "e4b1c1ec",
   "metadata": {},
   "outputs": [],
   "source": [
    "with_model(Model.POLAR_SOBEL_EDGE, lines, points, data_dir, ranking_url, pith_url, rings_url, mse_url)"
   ]
  },
  {
   "cell_type": "code",
   "execution_count": null,
   "id": "0dc55132",
   "metadata": {},
   "outputs": [],
   "source": [
    "with_model(Model.POLAR_SOBEL_EDGE_BLUR, lines, points, data_dir, ranking_url, pith_url, rings_url, mse_url)"
   ]
  },
  {
   "cell_type": "code",
   "execution_count": null,
   "id": "bb0743d4",
   "metadata": {},
   "outputs": [],
   "source": [
    "with_model(Model.POLAR_CANNY_EDGE, lines, points, data_dir, ranking_url, pith_url, rings_url, mse_url)"
   ]
  },
  {
   "cell_type": "code",
   "execution_count": null,
   "id": "19a552eb",
   "metadata": {},
   "outputs": [],
   "source": [
    "with_model(Model.POLAR_CANNY_EDGE_OTSU, lines, points, data_dir, ranking_url, pith_url, rings_url, mse_url)"
   ]
  },
  {
   "cell_type": "code",
   "execution_count": null,
   "id": "ca08dfb3",
   "metadata": {},
   "outputs": [],
   "source": [
    "with_model(Model.POLAR_CANNY_EDGE_TRIANGLE, lines, points, data_dir, ranking_url, pith_url, rings_url, mse_url)"
   ]
  },
  {
   "cell_type": "code",
   "execution_count": null,
   "id": "7eaf0ebf",
   "metadata": {},
   "outputs": [],
   "source": [
    "with_model(Model.POLAR_CANNY_EDGE_MANUAL, lines, points, data_dir, ranking_url, pith_url, rings_url, mse_url)"
   ]
  },
  {
   "cell_type": "code",
   "execution_count": null,
   "id": "5590f2cb",
   "metadata": {},
   "outputs": [],
   "source": [
    "with_model(Model.POLAR_CANNY_EDGE_BLUR, lines, points, data_dir, ranking_url, pith_url, rings_url, mse_url)"
   ]
  },
  {
   "cell_type": "code",
   "execution_count": null,
   "id": "59c0ac66",
   "metadata": {},
   "outputs": [],
   "source": [
    "with_model(Model.POLAR_CANNY_EDGE_BLUR_OTSU, lines, points, data_dir, ranking_url, pith_url, rings_url, mse_url)"
   ]
  },
  {
   "cell_type": "code",
   "execution_count": null,
   "id": "0a337941",
   "metadata": {},
   "outputs": [],
   "source": [
    "with_model(Model.POLAR_CANNY_EDGE_BLUR_TRIANGLE, lines, points, data_dir, ranking_url, pith_url, rings_url, mse_url)"
   ]
  },
  {
   "cell_type": "code",
   "execution_count": null,
   "id": "17f7164a",
   "metadata": {},
   "outputs": [],
   "source": [
    "with_model(Model.POLAR_CANNY_EDGE_BLUR_MANUAL, lines, points, data_dir, ranking_url, pith_url, rings_url, mse_url)"
   ]
  },
  {
   "cell_type": "code",
   "execution_count": null,
   "id": "9d7b0f8d",
   "metadata": {},
   "outputs": [],
   "source": [
    "with_model(Model.POLAR_LAPLACIAN_EDGE, lines, points, data_dir, ranking_url, pith_url, rings_url, mse_url)"
   ]
  },
  {
   "cell_type": "code",
   "execution_count": null,
   "id": "33559112",
   "metadata": {},
   "outputs": [],
   "source": [
    "with_model(Model.POLAR_LAPLACIAN_EDGE_BLUR, lines, points, data_dir, ranking_url, pith_url, rings_url, mse_url)"
   ]
  },
  {
   "cell_type": "code",
   "execution_count": null,
   "id": "76c7c094",
   "metadata": {},
   "outputs": [],
   "source": []
  },
  {
   "cell_type": "code",
   "execution_count": null,
   "id": "e36334e0",
   "metadata": {},
   "outputs": [],
   "source": [
    "with_model(Model.POLAR_PITH_SOBEL_EDGE, lines, points, data_dir, ranking_url, pith_url, rings_url, mse_url)"
   ]
  },
  {
   "cell_type": "code",
   "execution_count": null,
   "id": "fba84e51",
   "metadata": {},
   "outputs": [],
   "source": [
    "with_model(Model.POLAR_PITH_SOBEL_EDGE_BLUR, lines, points, data_dir, ranking_url, pith_url, rings_url, mse_url)"
   ]
  },
  {
   "cell_type": "code",
   "execution_count": null,
   "id": "881f5d46",
   "metadata": {},
   "outputs": [],
   "source": [
    "with_model(Model.POLAR_PITH_CANNY_EDGE, lines, points, data_dir, ranking_url, pith_url, rings_url, mse_url)"
   ]
  },
  {
   "cell_type": "code",
   "execution_count": null,
   "id": "30c51875",
   "metadata": {},
   "outputs": [],
   "source": [
    "with_model(Model.POLAR_PITH_CANNY_EDGE_OTSU, lines, points, data_dir, ranking_url, pith_url, rings_url, mse_url)"
   ]
  },
  {
   "cell_type": "code",
   "execution_count": null,
   "id": "d6e05ca3",
   "metadata": {},
   "outputs": [],
   "source": [
    "with_model(Model.POLAR_PITH_CANNY_EDGE_TRIANGLE, lines, points, data_dir, ranking_url, pith_url, rings_url, mse_url)"
   ]
  },
  {
   "cell_type": "code",
   "execution_count": null,
   "id": "406a0c9a",
   "metadata": {},
   "outputs": [],
   "source": [
    "with_model(Model.POLAR_PITH_CANNY_EDGE_MANUAL, lines, points, data_dir, ranking_url, pith_url, rings_url, mse_url)"
   ]
  },
  {
   "cell_type": "code",
   "execution_count": null,
   "id": "1ffb7487",
   "metadata": {},
   "outputs": [],
   "source": [
    "with_model(Model.POLAR_PITH_CANNY_EDGE_BLUR, lines, points, data_dir, ranking_url, pith_url, rings_url, mse_url)"
   ]
  },
  {
   "cell_type": "code",
   "execution_count": null,
   "id": "6e528227",
   "metadata": {},
   "outputs": [],
   "source": [
    "with_model(Model.POLAR_PITH_CANNY_EDGE_BLUR_OTSU, lines, points, data_dir, ranking_url, pith_url, rings_url, mse_url)"
   ]
  },
  {
   "cell_type": "code",
   "execution_count": null,
   "id": "a98298b9",
   "metadata": {},
   "outputs": [],
   "source": [
    "with_model(Model.POLAR_PITH_CANNY_EDGE_BLUR_TRIANGLE, lines, points, data_dir, ranking_url, pith_url, rings_url, mse_url)"
   ]
  },
  {
   "cell_type": "code",
   "execution_count": null,
   "id": "9e287b52",
   "metadata": {},
   "outputs": [],
   "source": [
    "with_model(Model.POLAR_PITH_CANNY_EDGE_BLUR_MANUAL, lines, points, data_dir, ranking_url, pith_url, rings_url, mse_url)"
   ]
  },
  {
   "cell_type": "code",
   "execution_count": null,
   "id": "bd2e973d",
   "metadata": {},
   "outputs": [],
   "source": [
    "with_model(Model.POLAR_PITH_LAPLACIAN_EDGE, lines, points, data_dir, ranking_url, pith_url, rings_url, mse_url)"
   ]
  },
  {
   "cell_type": "code",
   "execution_count": null,
   "id": "78e64035",
   "metadata": {},
   "outputs": [],
   "source": [
    "with_model(Model.POLAR_PITH_LAPLACIAN_EDGE_BLUR, lines, points, data_dir, ranking_url, pith_url, rings_url, mse_url)"
   ]
  },
  {
   "cell_type": "code",
   "execution_count": null,
   "id": "f5a2e335",
   "metadata": {},
   "outputs": [],
   "source": [
    "multi_mse(mse_url)"
   ]
  },
  {
   "cell_type": "code",
   "execution_count": null,
   "id": "2f852faa",
   "metadata": {},
   "outputs": [],
   "source": [
    "#STOP"
   ]
  }
 ],
 "metadata": {
  "kernelspec": {
   "display_name": "Python 3 (ipykernel)",
   "language": "python",
   "name": "python3"
  },
  "language_info": {
   "codemirror_mode": {
    "name": "ipython",
    "version": 3
   },
   "file_extension": ".py",
   "mimetype": "text/x-python",
   "name": "python",
   "nbconvert_exporter": "python",
   "pygments_lexer": "ipython3",
   "version": "3.9.6"
  }
 },
 "nbformat": 4,
 "nbformat_minor": 5
}
