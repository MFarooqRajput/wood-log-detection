{
 "cells": [
  {
   "cell_type": "code",
   "execution_count": 1,
   "id": "f2bc938e",
   "metadata": {},
   "outputs": [
    {
     "name": "stdout",
     "output_type": "stream",
     "text": [
      "/Users/muhammadfarooq/Codebase/thesis-experiment/Pith2Bark\n"
     ]
    }
   ],
   "source": [
    "cd .."
   ]
  },
  {
   "cell_type": "code",
   "execution_count": 2,
   "id": "24b79f2e",
   "metadata": {},
   "outputs": [
    {
     "name": "stderr",
     "output_type": "stream",
     "text": [
      "2023-03-29 15:21:12.843253: I tensorflow/core/platform/cpu_feature_guard.cc:193] This TensorFlow binary is optimized with oneAPI Deep Neural Network Library (oneDNN) to use the following CPU instructions in performance-critical operations:  AVX2 AVX512F AVX512_VNNI FMA\n",
      "To enable them in other operations, rebuild TensorFlow with the appropriate compiler flags.\n"
     ]
    }
   ],
   "source": [
    "from src.experiment import with_model\n",
    "from src.model import Model\n",
    "from src.multi_mse import multi_mse"
   ]
  },
  {
   "cell_type": "markdown",
   "id": "a382f8b5",
   "metadata": {},
   "source": [
    "# Configurations"
   ]
  },
  {
   "cell_type": "code",
   "execution_count": 3,
   "id": "1aef55ef",
   "metadata": {},
   "outputs": [],
   "source": [
    "#data directory here!\n",
    "data_dir = \"dataset/ringsranking\"\n",
    "\n",
    "#ranking file\n",
    "ranking_url = \"dataset/ringsranking.xlsx\"\n",
    "\n",
    "#pickle file\n",
    "pith_url = \"pith/ringsranking.pickle\""
   ]
  },
  {
   "cell_type": "markdown",
   "id": "2738afaf",
   "metadata": {},
   "source": [
    "## Phase 1 Model"
   ]
  },
  {
   "cell_type": "code",
   "execution_count": 4,
   "id": "f404c659",
   "metadata": {},
   "outputs": [],
   "source": [
    "#MSE file\n",
    "mse_url = \"output/temp_ringsranking_mse.csv\"\n",
    "\n",
    "#rings info file\n",
    "rings_url = \"output/temp_ringsranking_rings.csv\"\n",
    "\n",
    "#no of lines and points\n",
    "lines = 16\n",
    "points = 150"
   ]
  },
  {
   "cell_type": "code",
   "execution_count": 5,
   "id": "0fc5323d",
   "metadata": {},
   "outputs": [
    {
     "name": "stdout",
     "output_type": "stream",
     "text": [
      "0 2-34e23370868237a073d086fb64851017e9b2c8c9_85903b8cb210e9ad54581e7a37999bcd5fb18443_instant.jpg 87.0\n",
      "1 1-5d205d5ea6bafd3c2e038cf1139cdd5a9825388f_275cb29ffc473512447ce75ff34baa4ecea7276d_instant_210319.jpg 59.666666666666664\n",
      "2 1-11c00bf7cc3e03dc86bde8a20c8ab390b0b2f2a4_d5d5dbc0f05ff34587375f4a567740b61c4731a6_instant_210319.jpg 18.0\n",
      "3 2-8c5de8aa63e57b1e5d3a11ce4c4e2ded042b2ef3_0693ab68bf2278539a3733129d6964ba7719f7b2.jpg 22.0\n",
      "4 1-3d78e56849a16c0b17831129f6059e367574a138_8560eccb0f16269a00f2d6c6a5fab7419529c803_instant.jpg 15.0\n",
      "5 1-947a57fc1b94be1fb8a5cce439cd8112016648b1_b151d6624e13c4d31f300f909ebb63577e42a730_instant.jpg 19.0\n",
      "6 1-1f43f59e9f5ead12a13b1cd892a8757242367189_9cd89303dd466e6b178399f8d02b12aae69ec707_instant.jpg 14.0\n",
      "7 1-85fde97a518625ed46589a6be46300e36c3ad0d9_6626ee8bedc11ff89bd5a6205d10710e72ed9801_instant_210319.jpg 16.0\n",
      "8 1-e50b5a99fd9bab50130099c750df6d80f50a9b4e_fdafeaf4b1ec0417f969870e07a0d6401488df85_instant.jpg 17.0\n",
      "9 1-0d8eabdfed2cb1f0d455e5a2050d78ba39ae6cff_0665c9464c856662322717999ae3d8301ff48907_instant.jpg 11.0\n",
      "10 2-746ba8ac1301085b9f8d8d96beb3bf7f9e7a4605_ecc100d2cbc4a9fc70c2fde3eafaadb6ceb588ca_instant.jpg 29.0\n"
     ]
    },
    {
     "data": {
      "text/html": [
       "<div>\n",
       "<style scoped>\n",
       "    .dataframe tbody tr th:only-of-type {\n",
       "        vertical-align: middle;\n",
       "    }\n",
       "\n",
       "    .dataframe tbody tr th {\n",
       "        vertical-align: top;\n",
       "    }\n",
       "\n",
       "    .dataframe thead th {\n",
       "        text-align: right;\n",
       "    }\n",
       "</style>\n",
       "<table border=\"1\" class=\"dataframe\">\n",
       "  <thead>\n",
       "    <tr style=\"text-align: right;\">\n",
       "      <th></th>\n",
       "      <th>model</th>\n",
       "      <th>subseq</th>\n",
       "      <th>peaks</th>\n",
       "      <th>binary</th>\n",
       "      <th>mwa</th>\n",
       "    </tr>\n",
       "  </thead>\n",
       "  <tbody>\n",
       "    <tr>\n",
       "      <th>0</th>\n",
       "      <td>Grayscale</td>\n",
       "      <td>156.221</td>\n",
       "      <td>20.077538</td>\n",
       "      <td>175.846037</td>\n",
       "      <td>43.509164</td>\n",
       "    </tr>\n",
       "  </tbody>\n",
       "</table>\n",
       "</div>"
      ],
      "text/plain": [
       "       model   subseq      peaks      binary        mwa\n",
       "0  Grayscale  156.221  20.077538  175.846037  43.509164"
      ]
     },
     "metadata": {},
     "output_type": "display_data"
    }
   ],
   "source": [
    "with_model(Model.GRAYSCALE, lines, points, data_dir, ranking_url, pith_url, rings_url, mse_url)"
   ]
  },
  {
   "cell_type": "code",
   "execution_count": 6,
   "id": "5c5e0158",
   "metadata": {},
   "outputs": [
    {
     "name": "stdout",
     "output_type": "stream",
     "text": [
      "0 2-34e23370868237a073d086fb64851017e9b2c8c9_85903b8cb210e9ad54581e7a37999bcd5fb18443_instant.jpg 87.0\n",
      "1 1-5d205d5ea6bafd3c2e038cf1139cdd5a9825388f_275cb29ffc473512447ce75ff34baa4ecea7276d_instant_210319.jpg 59.666666666666664\n",
      "2 1-11c00bf7cc3e03dc86bde8a20c8ab390b0b2f2a4_d5d5dbc0f05ff34587375f4a567740b61c4731a6_instant_210319.jpg 18.0\n",
      "3 2-8c5de8aa63e57b1e5d3a11ce4c4e2ded042b2ef3_0693ab68bf2278539a3733129d6964ba7719f7b2.jpg 22.0\n",
      "4 1-3d78e56849a16c0b17831129f6059e367574a138_8560eccb0f16269a00f2d6c6a5fab7419529c803_instant.jpg 15.0\n",
      "5 1-947a57fc1b94be1fb8a5cce439cd8112016648b1_b151d6624e13c4d31f300f909ebb63577e42a730_instant.jpg 19.0\n",
      "6 1-1f43f59e9f5ead12a13b1cd892a8757242367189_9cd89303dd466e6b178399f8d02b12aae69ec707_instant.jpg 14.0\n",
      "7 1-85fde97a518625ed46589a6be46300e36c3ad0d9_6626ee8bedc11ff89bd5a6205d10710e72ed9801_instant_210319.jpg 16.0\n",
      "8 1-e50b5a99fd9bab50130099c750df6d80f50a9b4e_fdafeaf4b1ec0417f969870e07a0d6401488df85_instant.jpg 17.0\n",
      "9 1-0d8eabdfed2cb1f0d455e5a2050d78ba39ae6cff_0665c9464c856662322717999ae3d8301ff48907_instant.jpg 11.0\n",
      "10 2-746ba8ac1301085b9f8d8d96beb3bf7f9e7a4605_ecc100d2cbc4a9fc70c2fde3eafaadb6ceb588ca_instant.jpg 29.0\n"
     ]
    },
    {
     "data": {
      "text/html": [
       "<div>\n",
       "<style scoped>\n",
       "    .dataframe tbody tr th:only-of-type {\n",
       "        vertical-align: middle;\n",
       "    }\n",
       "\n",
       "    .dataframe tbody tr th {\n",
       "        vertical-align: top;\n",
       "    }\n",
       "\n",
       "    .dataframe thead th {\n",
       "        text-align: right;\n",
       "    }\n",
       "</style>\n",
       "<table border=\"1\" class=\"dataframe\">\n",
       "  <thead>\n",
       "    <tr style=\"text-align: right;\">\n",
       "      <th></th>\n",
       "      <th>model</th>\n",
       "      <th>subseq</th>\n",
       "      <th>peaks</th>\n",
       "      <th>binary</th>\n",
       "      <th>mwa</th>\n",
       "    </tr>\n",
       "  </thead>\n",
       "  <tbody>\n",
       "    <tr>\n",
       "      <th>0</th>\n",
       "      <td>Polar</td>\n",
       "      <td>43.194791</td>\n",
       "      <td>28.637114</td>\n",
       "      <td>124.69233</td>\n",
       "      <td>35.701754</td>\n",
       "    </tr>\n",
       "  </tbody>\n",
       "</table>\n",
       "</div>"
      ],
      "text/plain": [
       "   model     subseq      peaks     binary        mwa\n",
       "0  Polar  43.194791  28.637114  124.69233  35.701754"
      ]
     },
     "metadata": {},
     "output_type": "display_data"
    }
   ],
   "source": [
    "with_model(Model.POLAR, lines, points, data_dir, ranking_url, pith_url, rings_url, mse_url)"
   ]
  },
  {
   "cell_type": "code",
   "execution_count": 7,
   "id": "d9e30891",
   "metadata": {},
   "outputs": [
    {
     "name": "stdout",
     "output_type": "stream",
     "text": [
      "0 2-34e23370868237a073d086fb64851017e9b2c8c9_85903b8cb210e9ad54581e7a37999bcd5fb18443_instant.jpg 87.0\n",
      "1 1-5d205d5ea6bafd3c2e038cf1139cdd5a9825388f_275cb29ffc473512447ce75ff34baa4ecea7276d_instant_210319.jpg 59.666666666666664\n",
      "2 1-11c00bf7cc3e03dc86bde8a20c8ab390b0b2f2a4_d5d5dbc0f05ff34587375f4a567740b61c4731a6_instant_210319.jpg 18.0\n",
      "3 2-8c5de8aa63e57b1e5d3a11ce4c4e2ded042b2ef3_0693ab68bf2278539a3733129d6964ba7719f7b2.jpg 22.0\n",
      "4 1-3d78e56849a16c0b17831129f6059e367574a138_8560eccb0f16269a00f2d6c6a5fab7419529c803_instant.jpg 15.0\n",
      "5 1-947a57fc1b94be1fb8a5cce439cd8112016648b1_b151d6624e13c4d31f300f909ebb63577e42a730_instant.jpg 19.0\n",
      "6 1-1f43f59e9f5ead12a13b1cd892a8757242367189_9cd89303dd466e6b178399f8d02b12aae69ec707_instant.jpg 14.0\n",
      "7 1-85fde97a518625ed46589a6be46300e36c3ad0d9_6626ee8bedc11ff89bd5a6205d10710e72ed9801_instant_210319.jpg 16.0\n",
      "8 1-e50b5a99fd9bab50130099c750df6d80f50a9b4e_fdafeaf4b1ec0417f969870e07a0d6401488df85_instant.jpg 17.0\n",
      "9 1-0d8eabdfed2cb1f0d455e5a2050d78ba39ae6cff_0665c9464c856662322717999ae3d8301ff48907_instant.jpg 11.0\n",
      "10 2-746ba8ac1301085b9f8d8d96beb3bf7f9e7a4605_ecc100d2cbc4a9fc70c2fde3eafaadb6ceb588ca_instant.jpg 29.0\n"
     ]
    },
    {
     "data": {
      "text/html": [
       "<div>\n",
       "<style scoped>\n",
       "    .dataframe tbody tr th:only-of-type {\n",
       "        vertical-align: middle;\n",
       "    }\n",
       "\n",
       "    .dataframe tbody tr th {\n",
       "        vertical-align: top;\n",
       "    }\n",
       "\n",
       "    .dataframe thead th {\n",
       "        text-align: right;\n",
       "    }\n",
       "</style>\n",
       "<table border=\"1\" class=\"dataframe\">\n",
       "  <thead>\n",
       "    <tr style=\"text-align: right;\">\n",
       "      <th></th>\n",
       "      <th>model</th>\n",
       "      <th>subseq</th>\n",
       "      <th>peaks</th>\n",
       "      <th>binary</th>\n",
       "      <th>mwa</th>\n",
       "    </tr>\n",
       "  </thead>\n",
       "  <tbody>\n",
       "    <tr>\n",
       "      <th>0</th>\n",
       "      <td>Polar Pith</td>\n",
       "      <td>41.562251</td>\n",
       "      <td>28.102843</td>\n",
       "      <td>121.520948</td>\n",
       "      <td>35.03039</td>\n",
       "    </tr>\n",
       "  </tbody>\n",
       "</table>\n",
       "</div>"
      ],
      "text/plain": [
       "        model     subseq      peaks      binary       mwa\n",
       "0  Polar Pith  41.562251  28.102843  121.520948  35.03039"
      ]
     },
     "metadata": {},
     "output_type": "display_data"
    }
   ],
   "source": [
    "with_model(Model.POLAR_PITH, lines, points, data_dir, ranking_url, pith_url, rings_url, mse_url)"
   ]
  },
  {
   "cell_type": "code",
   "execution_count": 8,
   "id": "33125fc3",
   "metadata": {},
   "outputs": [
    {
     "name": "stdout",
     "output_type": "stream",
     "text": [
      "0 2-34e23370868237a073d086fb64851017e9b2c8c9_85903b8cb210e9ad54581e7a37999bcd5fb18443_instant.jpg 87.0\n",
      "1 1-5d205d5ea6bafd3c2e038cf1139cdd5a9825388f_275cb29ffc473512447ce75ff34baa4ecea7276d_instant_210319.jpg 59.666666666666664\n",
      "2 1-11c00bf7cc3e03dc86bde8a20c8ab390b0b2f2a4_d5d5dbc0f05ff34587375f4a567740b61c4731a6_instant_210319.jpg 18.0\n",
      "3 2-8c5de8aa63e57b1e5d3a11ce4c4e2ded042b2ef3_0693ab68bf2278539a3733129d6964ba7719f7b2.jpg 22.0\n",
      "4 1-3d78e56849a16c0b17831129f6059e367574a138_8560eccb0f16269a00f2d6c6a5fab7419529c803_instant.jpg 15.0\n",
      "5 1-947a57fc1b94be1fb8a5cce439cd8112016648b1_b151d6624e13c4d31f300f909ebb63577e42a730_instant.jpg 19.0\n",
      "6 1-1f43f59e9f5ead12a13b1cd892a8757242367189_9cd89303dd466e6b178399f8d02b12aae69ec707_instant.jpg 14.0\n",
      "7 1-85fde97a518625ed46589a6be46300e36c3ad0d9_6626ee8bedc11ff89bd5a6205d10710e72ed9801_instant_210319.jpg 16.0\n",
      "8 1-e50b5a99fd9bab50130099c750df6d80f50a9b4e_fdafeaf4b1ec0417f969870e07a0d6401488df85_instant.jpg 17.0\n",
      "9 1-0d8eabdfed2cb1f0d455e5a2050d78ba39ae6cff_0665c9464c856662322717999ae3d8301ff48907_instant.jpg 11.0\n",
      "10 2-746ba8ac1301085b9f8d8d96beb3bf7f9e7a4605_ecc100d2cbc4a9fc70c2fde3eafaadb6ceb588ca_instant.jpg 29.0\n"
     ]
    },
    {
     "data": {
      "text/html": [
       "<div>\n",
       "<style scoped>\n",
       "    .dataframe tbody tr th:only-of-type {\n",
       "        vertical-align: middle;\n",
       "    }\n",
       "\n",
       "    .dataframe tbody tr th {\n",
       "        vertical-align: top;\n",
       "    }\n",
       "\n",
       "    .dataframe thead th {\n",
       "        text-align: right;\n",
       "    }\n",
       "</style>\n",
       "<table border=\"1\" class=\"dataframe\">\n",
       "  <thead>\n",
       "    <tr style=\"text-align: right;\">\n",
       "      <th></th>\n",
       "      <th>model</th>\n",
       "      <th>subseq</th>\n",
       "      <th>peaks</th>\n",
       "      <th>binary</th>\n",
       "      <th>mwa</th>\n",
       "    </tr>\n",
       "  </thead>\n",
       "  <tbody>\n",
       "    <tr>\n",
       "      <th>0</th>\n",
       "      <td>Sobel</td>\n",
       "      <td>117.941241</td>\n",
       "      <td>34.609863</td>\n",
       "      <td>148.964838</td>\n",
       "      <td>67.108051</td>\n",
       "    </tr>\n",
       "  </tbody>\n",
       "</table>\n",
       "</div>"
      ],
      "text/plain": [
       "   model      subseq      peaks      binary        mwa\n",
       "0  Sobel  117.941241  34.609863  148.964838  67.108051"
      ]
     },
     "metadata": {},
     "output_type": "display_data"
    }
   ],
   "source": [
    "with_model(Model.SOBEL_EDGE, lines, points, data_dir, ranking_url, pith_url, rings_url, mse_url)"
   ]
  },
  {
   "cell_type": "code",
   "execution_count": 9,
   "id": "9dd0bf5b",
   "metadata": {},
   "outputs": [
    {
     "name": "stdout",
     "output_type": "stream",
     "text": [
      "0 2-34e23370868237a073d086fb64851017e9b2c8c9_85903b8cb210e9ad54581e7a37999bcd5fb18443_instant.jpg 87.0\n",
      "1 1-5d205d5ea6bafd3c2e038cf1139cdd5a9825388f_275cb29ffc473512447ce75ff34baa4ecea7276d_instant_210319.jpg 59.666666666666664\n",
      "2 1-11c00bf7cc3e03dc86bde8a20c8ab390b0b2f2a4_d5d5dbc0f05ff34587375f4a567740b61c4731a6_instant_210319.jpg 18.0\n",
      "3 2-8c5de8aa63e57b1e5d3a11ce4c4e2ded042b2ef3_0693ab68bf2278539a3733129d6964ba7719f7b2.jpg 22.0\n",
      "4 1-3d78e56849a16c0b17831129f6059e367574a138_8560eccb0f16269a00f2d6c6a5fab7419529c803_instant.jpg 15.0\n",
      "5 1-947a57fc1b94be1fb8a5cce439cd8112016648b1_b151d6624e13c4d31f300f909ebb63577e42a730_instant.jpg 19.0\n",
      "6 1-1f43f59e9f5ead12a13b1cd892a8757242367189_9cd89303dd466e6b178399f8d02b12aae69ec707_instant.jpg 14.0\n",
      "7 1-85fde97a518625ed46589a6be46300e36c3ad0d9_6626ee8bedc11ff89bd5a6205d10710e72ed9801_instant_210319.jpg 16.0\n",
      "8 1-e50b5a99fd9bab50130099c750df6d80f50a9b4e_fdafeaf4b1ec0417f969870e07a0d6401488df85_instant.jpg 17.0\n",
      "9 1-0d8eabdfed2cb1f0d455e5a2050d78ba39ae6cff_0665c9464c856662322717999ae3d8301ff48907_instant.jpg 11.0\n",
      "10 2-746ba8ac1301085b9f8d8d96beb3bf7f9e7a4605_ecc100d2cbc4a9fc70c2fde3eafaadb6ceb588ca_instant.jpg 29.0\n"
     ]
    },
    {
     "data": {
      "text/html": [
       "<div>\n",
       "<style scoped>\n",
       "    .dataframe tbody tr th:only-of-type {\n",
       "        vertical-align: middle;\n",
       "    }\n",
       "\n",
       "    .dataframe tbody tr th {\n",
       "        vertical-align: top;\n",
       "    }\n",
       "\n",
       "    .dataframe thead th {\n",
       "        text-align: right;\n",
       "    }\n",
       "</style>\n",
       "<table border=\"1\" class=\"dataframe\">\n",
       "  <thead>\n",
       "    <tr style=\"text-align: right;\">\n",
       "      <th></th>\n",
       "      <th>model</th>\n",
       "      <th>subseq</th>\n",
       "      <th>peaks</th>\n",
       "      <th>binary</th>\n",
       "      <th>mwa</th>\n",
       "    </tr>\n",
       "  </thead>\n",
       "  <tbody>\n",
       "    <tr>\n",
       "      <th>0</th>\n",
       "      <td>Canny</td>\n",
       "      <td>28.085392</td>\n",
       "      <td>21.651483</td>\n",
       "      <td>114.955618</td>\n",
       "      <td>75.321669</td>\n",
       "    </tr>\n",
       "  </tbody>\n",
       "</table>\n",
       "</div>"
      ],
      "text/plain": [
       "   model     subseq      peaks      binary        mwa\n",
       "0  Canny  28.085392  21.651483  114.955618  75.321669"
      ]
     },
     "metadata": {},
     "output_type": "display_data"
    }
   ],
   "source": [
    "with_model(Model.CANNY_EDGE, lines, points, data_dir, ranking_url, pith_url, rings_url, mse_url)"
   ]
  },
  {
   "cell_type": "code",
   "execution_count": 10,
   "id": "c3043ef5",
   "metadata": {},
   "outputs": [
    {
     "name": "stdout",
     "output_type": "stream",
     "text": [
      "Grayscale 20.07753771052807 (peaks) \n",
      "\n"
     ]
    },
    {
     "data": {
      "text/html": [
       "<div>\n",
       "<style scoped>\n",
       "    .dataframe tbody tr th:only-of-type {\n",
       "        vertical-align: middle;\n",
       "    }\n",
       "\n",
       "    .dataframe tbody tr th {\n",
       "        vertical-align: top;\n",
       "    }\n",
       "\n",
       "    .dataframe thead th {\n",
       "        text-align: right;\n",
       "    }\n",
       "</style>\n",
       "<table border=\"1\" class=\"dataframe\">\n",
       "  <thead>\n",
       "    <tr style=\"text-align: right;\">\n",
       "      <th></th>\n",
       "      <th>subseq</th>\n",
       "      <th>peaks</th>\n",
       "      <th>binary</th>\n",
       "      <th>mwa</th>\n",
       "    </tr>\n",
       "    <tr>\n",
       "      <th>model</th>\n",
       "      <th></th>\n",
       "      <th></th>\n",
       "      <th></th>\n",
       "      <th></th>\n",
       "    </tr>\n",
       "  </thead>\n",
       "  <tbody>\n",
       "    <tr>\n",
       "      <th>Grayscale</th>\n",
       "      <td>156.221000</td>\n",
       "      <td>20.077538</td>\n",
       "      <td>175.846037</td>\n",
       "      <td>43.509164</td>\n",
       "    </tr>\n",
       "    <tr>\n",
       "      <th>Polar</th>\n",
       "      <td>43.194791</td>\n",
       "      <td>28.637114</td>\n",
       "      <td>124.692330</td>\n",
       "      <td>35.701754</td>\n",
       "    </tr>\n",
       "    <tr>\n",
       "      <th>Polar Pith</th>\n",
       "      <td>41.562251</td>\n",
       "      <td>28.102843</td>\n",
       "      <td>121.520948</td>\n",
       "      <td>35.030390</td>\n",
       "    </tr>\n",
       "    <tr>\n",
       "      <th>Sobel</th>\n",
       "      <td>117.941241</td>\n",
       "      <td>34.609863</td>\n",
       "      <td>148.964838</td>\n",
       "      <td>67.108051</td>\n",
       "    </tr>\n",
       "    <tr>\n",
       "      <th>Canny</th>\n",
       "      <td>28.085392</td>\n",
       "      <td>21.651483</td>\n",
       "      <td>114.955618</td>\n",
       "      <td>75.321669</td>\n",
       "    </tr>\n",
       "  </tbody>\n",
       "</table>\n",
       "</div>"
      ],
      "text/plain": [
       "                subseq      peaks      binary        mwa\n",
       "model                                                   \n",
       "Grayscale   156.221000  20.077538  175.846037  43.509164\n",
       "Polar        43.194791  28.637114  124.692330  35.701754\n",
       "Polar Pith   41.562251  28.102843  121.520948  35.030390\n",
       "Sobel       117.941241  34.609863  148.964838  67.108051\n",
       "Canny        28.085392  21.651483  114.955618  75.321669"
      ]
     },
     "metadata": {},
     "output_type": "display_data"
    },
    {
     "name": "stdout",
     "output_type": "stream",
     "text": [
      "Min: 20.07753771052807, Max: 175.84603674220787\n"
     ]
    },
    {
     "data": {
      "image/png": "[encoded data removed]",
      "text/plain": [
       "<Figure size 640x480 with 1 Axes>"
      ]
     },
     "metadata": {},
     "output_type": "display_data"
    }
   ],
   "source": [
    "multi_mse(mse_url, False)"
   ]
  },
  {
   "cell_type": "code",
   "execution_count": 11,
   "id": "ddb0de4d",
   "metadata": {},
   "outputs": [],
   "source": [
    "#STOP"
   ]
  },
  {
   "cell_type": "markdown",
   "id": "dcfff2f6",
   "metadata": {},
   "source": [
    "## Phase 2 Model"
   ]
  },
  {
   "cell_type": "markdown",
   "id": "600e29d4",
   "metadata": {},
   "source": [
    "### Model with 16 lines"
   ]
  },
  {
   "cell_type": "code",
   "execution_count": 12,
   "id": "ddd064fc",
   "metadata": {},
   "outputs": [],
   "source": [
    "#MSE file\n",
    "mse_url = \"output/temp_ringsranking_mse_sixteen.csv\"\n",
    "\n",
    "#rings info file\n",
    "rings_url = \"output/temp_ringsranking_rings_sixteen.csv\"\n",
    "\n",
    "#no of lines and points\n",
    "no_of_lines = 16\n",
    "no_of_points = 150"
   ]
  },
  {
   "cell_type": "code",
   "execution_count": 13,
   "id": "51fb0795",
   "metadata": {},
   "outputs": [
    {
     "name": "stdout",
     "output_type": "stream",
     "text": [
      "0 2-34e23370868237a073d086fb64851017e9b2c8c9_85903b8cb210e9ad54581e7a37999bcd5fb18443_instant.jpg 87.0\n",
      "1 1-5d205d5ea6bafd3c2e038cf1139cdd5a9825388f_275cb29ffc473512447ce75ff34baa4ecea7276d_instant_210319.jpg 59.666666666666664\n",
      "2 1-11c00bf7cc3e03dc86bde8a20c8ab390b0b2f2a4_d5d5dbc0f05ff34587375f4a567740b61c4731a6_instant_210319.jpg 18.0\n",
      "3 2-8c5de8aa63e57b1e5d3a11ce4c4e2ded042b2ef3_0693ab68bf2278539a3733129d6964ba7719f7b2.jpg 22.0\n",
      "4 1-3d78e56849a16c0b17831129f6059e367574a138_8560eccb0f16269a00f2d6c6a5fab7419529c803_instant.jpg 15.0\n",
      "5 1-947a57fc1b94be1fb8a5cce439cd8112016648b1_b151d6624e13c4d31f300f909ebb63577e42a730_instant.jpg 19.0\n",
      "6 1-1f43f59e9f5ead12a13b1cd892a8757242367189_9cd89303dd466e6b178399f8d02b12aae69ec707_instant.jpg 14.0\n",
      "7 1-85fde97a518625ed46589a6be46300e36c3ad0d9_6626ee8bedc11ff89bd5a6205d10710e72ed9801_instant_210319.jpg 16.0\n",
      "8 1-e50b5a99fd9bab50130099c750df6d80f50a9b4e_fdafeaf4b1ec0417f969870e07a0d6401488df85_instant.jpg 17.0\n",
      "9 1-0d8eabdfed2cb1f0d455e5a2050d78ba39ae6cff_0665c9464c856662322717999ae3d8301ff48907_instant.jpg 11.0\n",
      "10 2-746ba8ac1301085b9f8d8d96beb3bf7f9e7a4605_ecc100d2cbc4a9fc70c2fde3eafaadb6ceb588ca_instant.jpg 29.0\n"
     ]
    },
    {
     "data": {
      "text/html": [
       "<div>\n",
       "<style scoped>\n",
       "    .dataframe tbody tr th:only-of-type {\n",
       "        vertical-align: middle;\n",
       "    }\n",
       "\n",
       "    .dataframe tbody tr th {\n",
       "        vertical-align: top;\n",
       "    }\n",
       "\n",
       "    .dataframe thead th {\n",
       "        text-align: right;\n",
       "    }\n",
       "</style>\n",
       "<table border=\"1\" class=\"dataframe\">\n",
       "  <thead>\n",
       "    <tr style=\"text-align: right;\">\n",
       "      <th></th>\n",
       "      <th>model</th>\n",
       "      <th>subseq</th>\n",
       "      <th>peaks</th>\n",
       "      <th>binary</th>\n",
       "      <th>mwa</th>\n",
       "    </tr>\n",
       "  </thead>\n",
       "  <tbody>\n",
       "    <tr>\n",
       "      <th>0</th>\n",
       "      <td>Grayscale</td>\n",
       "      <td>156.221</td>\n",
       "      <td>20.077538</td>\n",
       "      <td>175.846037</td>\n",
       "      <td>43.509164</td>\n",
       "    </tr>\n",
       "  </tbody>\n",
       "</table>\n",
       "</div>"
      ],
      "text/plain": [
       "       model   subseq      peaks      binary        mwa\n",
       "0  Grayscale  156.221  20.077538  175.846037  43.509164"
      ]
     },
     "metadata": {},
     "output_type": "display_data"
    }
   ],
   "source": [
    "with_model(Model.GRAYSCALE, lines, points, data_dir, ranking_url, pith_url, rings_url, mse_url)"
   ]
  },
  {
   "cell_type": "code",
   "execution_count": 14,
   "id": "e9558f17",
   "metadata": {},
   "outputs": [
    {
     "name": "stdout",
     "output_type": "stream",
     "text": [
      "0 2-34e23370868237a073d086fb64851017e9b2c8c9_85903b8cb210e9ad54581e7a37999bcd5fb18443_instant.jpg 87.0\n",
      "1 1-5d205d5ea6bafd3c2e038cf1139cdd5a9825388f_275cb29ffc473512447ce75ff34baa4ecea7276d_instant_210319.jpg 59.666666666666664\n",
      "2 1-11c00bf7cc3e03dc86bde8a20c8ab390b0b2f2a4_d5d5dbc0f05ff34587375f4a567740b61c4731a6_instant_210319.jpg 18.0\n",
      "3 2-8c5de8aa63e57b1e5d3a11ce4c4e2ded042b2ef3_0693ab68bf2278539a3733129d6964ba7719f7b2.jpg 22.0\n",
      "4 1-3d78e56849a16c0b17831129f6059e367574a138_8560eccb0f16269a00f2d6c6a5fab7419529c803_instant.jpg 15.0\n",
      "5 1-947a57fc1b94be1fb8a5cce439cd8112016648b1_b151d6624e13c4d31f300f909ebb63577e42a730_instant.jpg 19.0\n",
      "6 1-1f43f59e9f5ead12a13b1cd892a8757242367189_9cd89303dd466e6b178399f8d02b12aae69ec707_instant.jpg 14.0\n",
      "7 1-85fde97a518625ed46589a6be46300e36c3ad0d9_6626ee8bedc11ff89bd5a6205d10710e72ed9801_instant_210319.jpg 16.0\n",
      "8 1-e50b5a99fd9bab50130099c750df6d80f50a9b4e_fdafeaf4b1ec0417f969870e07a0d6401488df85_instant.jpg 17.0\n",
      "9 1-0d8eabdfed2cb1f0d455e5a2050d78ba39ae6cff_0665c9464c856662322717999ae3d8301ff48907_instant.jpg 11.0\n",
      "10 2-746ba8ac1301085b9f8d8d96beb3bf7f9e7a4605_ecc100d2cbc4a9fc70c2fde3eafaadb6ceb588ca_instant.jpg 29.0\n"
     ]
    },
    {
     "data": {
      "text/html": [
       "<div>\n",
       "<style scoped>\n",
       "    .dataframe tbody tr th:only-of-type {\n",
       "        vertical-align: middle;\n",
       "    }\n",
       "\n",
       "    .dataframe tbody tr th {\n",
       "        vertical-align: top;\n",
       "    }\n",
       "\n",
       "    .dataframe thead th {\n",
       "        text-align: right;\n",
       "    }\n",
       "</style>\n",
       "<table border=\"1\" class=\"dataframe\">\n",
       "  <thead>\n",
       "    <tr style=\"text-align: right;\">\n",
       "      <th></th>\n",
       "      <th>model</th>\n",
       "      <th>subseq</th>\n",
       "      <th>peaks</th>\n",
       "      <th>binary</th>\n",
       "      <th>mwa</th>\n",
       "    </tr>\n",
       "  </thead>\n",
       "  <tbody>\n",
       "    <tr>\n",
       "      <th>0</th>\n",
       "      <td>Polar</td>\n",
       "      <td>43.194791</td>\n",
       "      <td>28.637114</td>\n",
       "      <td>124.69233</td>\n",
       "      <td>35.701754</td>\n",
       "    </tr>\n",
       "  </tbody>\n",
       "</table>\n",
       "</div>"
      ],
      "text/plain": [
       "   model     subseq      peaks     binary        mwa\n",
       "0  Polar  43.194791  28.637114  124.69233  35.701754"
      ]
     },
     "metadata": {},
     "output_type": "display_data"
    }
   ],
   "source": [
    "with_model(Model.POLAR, lines, points, data_dir, ranking_url, pith_url, rings_url, mse_url)"
   ]
  },
  {
   "cell_type": "code",
   "execution_count": 15,
   "id": "1b0ac3f1",
   "metadata": {},
   "outputs": [
    {
     "name": "stdout",
     "output_type": "stream",
     "text": [
      "0 2-34e23370868237a073d086fb64851017e9b2c8c9_85903b8cb210e9ad54581e7a37999bcd5fb18443_instant.jpg 87.0\n",
      "1 1-5d205d5ea6bafd3c2e038cf1139cdd5a9825388f_275cb29ffc473512447ce75ff34baa4ecea7276d_instant_210319.jpg 59.666666666666664\n",
      "2 1-11c00bf7cc3e03dc86bde8a20c8ab390b0b2f2a4_d5d5dbc0f05ff34587375f4a567740b61c4731a6_instant_210319.jpg 18.0\n",
      "3 2-8c5de8aa63e57b1e5d3a11ce4c4e2ded042b2ef3_0693ab68bf2278539a3733129d6964ba7719f7b2.jpg 22.0\n",
      "4 1-3d78e56849a16c0b17831129f6059e367574a138_8560eccb0f16269a00f2d6c6a5fab7419529c803_instant.jpg 15.0\n",
      "5 1-947a57fc1b94be1fb8a5cce439cd8112016648b1_b151d6624e13c4d31f300f909ebb63577e42a730_instant.jpg 19.0\n",
      "6 1-1f43f59e9f5ead12a13b1cd892a8757242367189_9cd89303dd466e6b178399f8d02b12aae69ec707_instant.jpg 14.0\n",
      "7 1-85fde97a518625ed46589a6be46300e36c3ad0d9_6626ee8bedc11ff89bd5a6205d10710e72ed9801_instant_210319.jpg 16.0\n",
      "8 1-e50b5a99fd9bab50130099c750df6d80f50a9b4e_fdafeaf4b1ec0417f969870e07a0d6401488df85_instant.jpg 17.0\n",
      "9 1-0d8eabdfed2cb1f0d455e5a2050d78ba39ae6cff_0665c9464c856662322717999ae3d8301ff48907_instant.jpg 11.0\n",
      "10 2-746ba8ac1301085b9f8d8d96beb3bf7f9e7a4605_ecc100d2cbc4a9fc70c2fde3eafaadb6ceb588ca_instant.jpg 29.0\n"
     ]
    },
    {
     "data": {
      "text/html": [
       "<div>\n",
       "<style scoped>\n",
       "    .dataframe tbody tr th:only-of-type {\n",
       "        vertical-align: middle;\n",
       "    }\n",
       "\n",
       "    .dataframe tbody tr th {\n",
       "        vertical-align: top;\n",
       "    }\n",
       "\n",
       "    .dataframe thead th {\n",
       "        text-align: right;\n",
       "    }\n",
       "</style>\n",
       "<table border=\"1\" class=\"dataframe\">\n",
       "  <thead>\n",
       "    <tr style=\"text-align: right;\">\n",
       "      <th></th>\n",
       "      <th>model</th>\n",
       "      <th>subseq</th>\n",
       "      <th>peaks</th>\n",
       "      <th>binary</th>\n",
       "      <th>mwa</th>\n",
       "    </tr>\n",
       "  </thead>\n",
       "  <tbody>\n",
       "    <tr>\n",
       "      <th>0</th>\n",
       "      <td>Polar Pith</td>\n",
       "      <td>41.562251</td>\n",
       "      <td>28.102843</td>\n",
       "      <td>121.520948</td>\n",
       "      <td>35.03039</td>\n",
       "    </tr>\n",
       "  </tbody>\n",
       "</table>\n",
       "</div>"
      ],
      "text/plain": [
       "        model     subseq      peaks      binary       mwa\n",
       "0  Polar Pith  41.562251  28.102843  121.520948  35.03039"
      ]
     },
     "metadata": {},
     "output_type": "display_data"
    }
   ],
   "source": [
    "with_model(Model.POLAR_PITH, lines, points, data_dir, ranking_url, pith_url, rings_url, mse_url)"
   ]
  },
  {
   "cell_type": "code",
   "execution_count": null,
   "id": "35b80fb0",
   "metadata": {},
   "outputs": [],
   "source": []
  },
  {
   "cell_type": "code",
   "execution_count": 16,
   "id": "58f9f265",
   "metadata": {},
   "outputs": [
    {
     "name": "stdout",
     "output_type": "stream",
     "text": [
      "0 2-34e23370868237a073d086fb64851017e9b2c8c9_85903b8cb210e9ad54581e7a37999bcd5fb18443_instant.jpg 87.0\n",
      "1 1-5d205d5ea6bafd3c2e038cf1139cdd5a9825388f_275cb29ffc473512447ce75ff34baa4ecea7276d_instant_210319.jpg 59.666666666666664\n",
      "2 1-11c00bf7cc3e03dc86bde8a20c8ab390b0b2f2a4_d5d5dbc0f05ff34587375f4a567740b61c4731a6_instant_210319.jpg 18.0\n",
      "3 2-8c5de8aa63e57b1e5d3a11ce4c4e2ded042b2ef3_0693ab68bf2278539a3733129d6964ba7719f7b2.jpg 22.0\n",
      "4 1-3d78e56849a16c0b17831129f6059e367574a138_8560eccb0f16269a00f2d6c6a5fab7419529c803_instant.jpg 15.0\n",
      "5 1-947a57fc1b94be1fb8a5cce439cd8112016648b1_b151d6624e13c4d31f300f909ebb63577e42a730_instant.jpg 19.0\n",
      "6 1-1f43f59e9f5ead12a13b1cd892a8757242367189_9cd89303dd466e6b178399f8d02b12aae69ec707_instant.jpg 14.0\n",
      "7 1-85fde97a518625ed46589a6be46300e36c3ad0d9_6626ee8bedc11ff89bd5a6205d10710e72ed9801_instant_210319.jpg 16.0\n",
      "8 1-e50b5a99fd9bab50130099c750df6d80f50a9b4e_fdafeaf4b1ec0417f969870e07a0d6401488df85_instant.jpg 17.0\n",
      "9 1-0d8eabdfed2cb1f0d455e5a2050d78ba39ae6cff_0665c9464c856662322717999ae3d8301ff48907_instant.jpg 11.0\n",
      "10 2-746ba8ac1301085b9f8d8d96beb3bf7f9e7a4605_ecc100d2cbc4a9fc70c2fde3eafaadb6ceb588ca_instant.jpg 29.0\n"
     ]
    },
    {
     "data": {
      "text/html": [
       "<div>\n",
       "<style scoped>\n",
       "    .dataframe tbody tr th:only-of-type {\n",
       "        vertical-align: middle;\n",
       "    }\n",
       "\n",
       "    .dataframe tbody tr th {\n",
       "        vertical-align: top;\n",
       "    }\n",
       "\n",
       "    .dataframe thead th {\n",
       "        text-align: right;\n",
       "    }\n",
       "</style>\n",
       "<table border=\"1\" class=\"dataframe\">\n",
       "  <thead>\n",
       "    <tr style=\"text-align: right;\">\n",
       "      <th></th>\n",
       "      <th>model</th>\n",
       "      <th>subseq</th>\n",
       "      <th>peaks</th>\n",
       "      <th>binary</th>\n",
       "      <th>mwa</th>\n",
       "    </tr>\n",
       "  </thead>\n",
       "  <tbody>\n",
       "    <tr>\n",
       "      <th>0</th>\n",
       "      <td>Sobel</td>\n",
       "      <td>117.941241</td>\n",
       "      <td>34.609863</td>\n",
       "      <td>148.964838</td>\n",
       "      <td>67.108051</td>\n",
       "    </tr>\n",
       "  </tbody>\n",
       "</table>\n",
       "</div>"
      ],
      "text/plain": [
       "   model      subseq      peaks      binary        mwa\n",
       "0  Sobel  117.941241  34.609863  148.964838  67.108051"
      ]
     },
     "metadata": {},
     "output_type": "display_data"
    }
   ],
   "source": [
    "with_model(Model.SOBEL_EDGE, lines, points, data_dir, ranking_url, pith_url, rings_url, mse_url)"
   ]
  },
  {
   "cell_type": "code",
   "execution_count": 17,
   "id": "48d1849e",
   "metadata": {},
   "outputs": [
    {
     "name": "stdout",
     "output_type": "stream",
     "text": [
      "0 2-34e23370868237a073d086fb64851017e9b2c8c9_85903b8cb210e9ad54581e7a37999bcd5fb18443_instant.jpg 87.0\n",
      "1 1-5d205d5ea6bafd3c2e038cf1139cdd5a9825388f_275cb29ffc473512447ce75ff34baa4ecea7276d_instant_210319.jpg 59.666666666666664\n",
      "2 1-11c00bf7cc3e03dc86bde8a20c8ab390b0b2f2a4_d5d5dbc0f05ff34587375f4a567740b61c4731a6_instant_210319.jpg 18.0\n",
      "3 2-8c5de8aa63e57b1e5d3a11ce4c4e2ded042b2ef3_0693ab68bf2278539a3733129d6964ba7719f7b2.jpg 22.0\n",
      "4 1-3d78e56849a16c0b17831129f6059e367574a138_8560eccb0f16269a00f2d6c6a5fab7419529c803_instant.jpg 15.0\n",
      "5 1-947a57fc1b94be1fb8a5cce439cd8112016648b1_b151d6624e13c4d31f300f909ebb63577e42a730_instant.jpg 19.0\n",
      "6 1-1f43f59e9f5ead12a13b1cd892a8757242367189_9cd89303dd466e6b178399f8d02b12aae69ec707_instant.jpg 14.0\n",
      "7 1-85fde97a518625ed46589a6be46300e36c3ad0d9_6626ee8bedc11ff89bd5a6205d10710e72ed9801_instant_210319.jpg 16.0\n",
      "8 1-e50b5a99fd9bab50130099c750df6d80f50a9b4e_fdafeaf4b1ec0417f969870e07a0d6401488df85_instant.jpg 17.0\n",
      "9 1-0d8eabdfed2cb1f0d455e5a2050d78ba39ae6cff_0665c9464c856662322717999ae3d8301ff48907_instant.jpg 11.0\n",
      "10 2-746ba8ac1301085b9f8d8d96beb3bf7f9e7a4605_ecc100d2cbc4a9fc70c2fde3eafaadb6ceb588ca_instant.jpg 29.0\n"
     ]
    },
    {
     "data": {
      "text/html": [
       "<div>\n",
       "<style scoped>\n",
       "    .dataframe tbody tr th:only-of-type {\n",
       "        vertical-align: middle;\n",
       "    }\n",
       "\n",
       "    .dataframe tbody tr th {\n",
       "        vertical-align: top;\n",
       "    }\n",
       "\n",
       "    .dataframe thead th {\n",
       "        text-align: right;\n",
       "    }\n",
       "</style>\n",
       "<table border=\"1\" class=\"dataframe\">\n",
       "  <thead>\n",
       "    <tr style=\"text-align: right;\">\n",
       "      <th></th>\n",
       "      <th>model</th>\n",
       "      <th>subseq</th>\n",
       "      <th>peaks</th>\n",
       "      <th>binary</th>\n",
       "      <th>mwa</th>\n",
       "    </tr>\n",
       "  </thead>\n",
       "  <tbody>\n",
       "    <tr>\n",
       "      <th>0</th>\n",
       "      <td>Sobel(blur)</td>\n",
       "      <td>125.249547</td>\n",
       "      <td>28.426079</td>\n",
       "      <td>147.712498</td>\n",
       "      <td>58.249283</td>\n",
       "    </tr>\n",
       "  </tbody>\n",
       "</table>\n",
       "</div>"
      ],
      "text/plain": [
       "         model      subseq      peaks      binary        mwa\n",
       "0  Sobel(blur)  125.249547  28.426079  147.712498  58.249283"
      ]
     },
     "metadata": {},
     "output_type": "display_data"
    }
   ],
   "source": [
    "with_model(Model.SOBEL_EDGE_BLUR, lines, points, data_dir, ranking_url, pith_url, rings_url, mse_url)"
   ]
  },
  {
   "cell_type": "code",
   "execution_count": 18,
   "id": "bfdb6e13",
   "metadata": {},
   "outputs": [
    {
     "name": "stdout",
     "output_type": "stream",
     "text": [
      "0 2-34e23370868237a073d086fb64851017e9b2c8c9_85903b8cb210e9ad54581e7a37999bcd5fb18443_instant.jpg 87.0\n",
      "1 1-5d205d5ea6bafd3c2e038cf1139cdd5a9825388f_275cb29ffc473512447ce75ff34baa4ecea7276d_instant_210319.jpg 59.666666666666664\n",
      "2 1-11c00bf7cc3e03dc86bde8a20c8ab390b0b2f2a4_d5d5dbc0f05ff34587375f4a567740b61c4731a6_instant_210319.jpg 18.0\n",
      "3 2-8c5de8aa63e57b1e5d3a11ce4c4e2ded042b2ef3_0693ab68bf2278539a3733129d6964ba7719f7b2.jpg 22.0\n",
      "4 1-3d78e56849a16c0b17831129f6059e367574a138_8560eccb0f16269a00f2d6c6a5fab7419529c803_instant.jpg 15.0\n",
      "5 1-947a57fc1b94be1fb8a5cce439cd8112016648b1_b151d6624e13c4d31f300f909ebb63577e42a730_instant.jpg 19.0\n",
      "6 1-1f43f59e9f5ead12a13b1cd892a8757242367189_9cd89303dd466e6b178399f8d02b12aae69ec707_instant.jpg 14.0\n",
      "7 1-85fde97a518625ed46589a6be46300e36c3ad0d9_6626ee8bedc11ff89bd5a6205d10710e72ed9801_instant_210319.jpg 16.0\n",
      "8 1-e50b5a99fd9bab50130099c750df6d80f50a9b4e_fdafeaf4b1ec0417f969870e07a0d6401488df85_instant.jpg 17.0\n",
      "9 1-0d8eabdfed2cb1f0d455e5a2050d78ba39ae6cff_0665c9464c856662322717999ae3d8301ff48907_instant.jpg 11.0\n",
      "10 2-746ba8ac1301085b9f8d8d96beb3bf7f9e7a4605_ecc100d2cbc4a9fc70c2fde3eafaadb6ceb588ca_instant.jpg 29.0\n"
     ]
    },
    {
     "data": {
      "text/html": [
       "<div>\n",
       "<style scoped>\n",
       "    .dataframe tbody tr th:only-of-type {\n",
       "        vertical-align: middle;\n",
       "    }\n",
       "\n",
       "    .dataframe tbody tr th {\n",
       "        vertical-align: top;\n",
       "    }\n",
       "\n",
       "    .dataframe thead th {\n",
       "        text-align: right;\n",
       "    }\n",
       "</style>\n",
       "<table border=\"1\" class=\"dataframe\">\n",
       "  <thead>\n",
       "    <tr style=\"text-align: right;\">\n",
       "      <th></th>\n",
       "      <th>model</th>\n",
       "      <th>subseq</th>\n",
       "      <th>peaks</th>\n",
       "      <th>binary</th>\n",
       "      <th>mwa</th>\n",
       "    </tr>\n",
       "  </thead>\n",
       "  <tbody>\n",
       "    <tr>\n",
       "      <th>0</th>\n",
       "      <td>Canny</td>\n",
       "      <td>28.085392</td>\n",
       "      <td>21.651483</td>\n",
       "      <td>114.955618</td>\n",
       "      <td>75.321669</td>\n",
       "    </tr>\n",
       "  </tbody>\n",
       "</table>\n",
       "</div>"
      ],
      "text/plain": [
       "   model     subseq      peaks      binary        mwa\n",
       "0  Canny  28.085392  21.651483  114.955618  75.321669"
      ]
     },
     "metadata": {},
     "output_type": "display_data"
    }
   ],
   "source": [
    "with_model(Model.CANNY_EDGE, lines, points, data_dir, ranking_url, pith_url, rings_url, mse_url)"
   ]
  },
  {
   "cell_type": "code",
   "execution_count": 19,
   "id": "af83b217",
   "metadata": {},
   "outputs": [
    {
     "name": "stdout",
     "output_type": "stream",
     "text": [
      "0 2-34e23370868237a073d086fb64851017e9b2c8c9_85903b8cb210e9ad54581e7a37999bcd5fb18443_instant.jpg 87.0\n",
      "1 1-5d205d5ea6bafd3c2e038cf1139cdd5a9825388f_275cb29ffc473512447ce75ff34baa4ecea7276d_instant_210319.jpg 59.666666666666664\n",
      "2 1-11c00bf7cc3e03dc86bde8a20c8ab390b0b2f2a4_d5d5dbc0f05ff34587375f4a567740b61c4731a6_instant_210319.jpg 18.0\n",
      "3 2-8c5de8aa63e57b1e5d3a11ce4c4e2ded042b2ef3_0693ab68bf2278539a3733129d6964ba7719f7b2.jpg 22.0\n",
      "4 1-3d78e56849a16c0b17831129f6059e367574a138_8560eccb0f16269a00f2d6c6a5fab7419529c803_instant.jpg 15.0\n",
      "5 1-947a57fc1b94be1fb8a5cce439cd8112016648b1_b151d6624e13c4d31f300f909ebb63577e42a730_instant.jpg 19.0\n",
      "6 1-1f43f59e9f5ead12a13b1cd892a8757242367189_9cd89303dd466e6b178399f8d02b12aae69ec707_instant.jpg 14.0\n",
      "7 1-85fde97a518625ed46589a6be46300e36c3ad0d9_6626ee8bedc11ff89bd5a6205d10710e72ed9801_instant_210319.jpg 16.0\n",
      "8 1-e50b5a99fd9bab50130099c750df6d80f50a9b4e_fdafeaf4b1ec0417f969870e07a0d6401488df85_instant.jpg 17.0\n",
      "9 1-0d8eabdfed2cb1f0d455e5a2050d78ba39ae6cff_0665c9464c856662322717999ae3d8301ff48907_instant.jpg 11.0\n",
      "10 2-746ba8ac1301085b9f8d8d96beb3bf7f9e7a4605_ecc100d2cbc4a9fc70c2fde3eafaadb6ceb588ca_instant.jpg 29.0\n"
     ]
    },
    {
     "data": {
      "text/html": [
       "<div>\n",
       "<style scoped>\n",
       "    .dataframe tbody tr th:only-of-type {\n",
       "        vertical-align: middle;\n",
       "    }\n",
       "\n",
       "    .dataframe tbody tr th {\n",
       "        vertical-align: top;\n",
       "    }\n",
       "\n",
       "    .dataframe thead th {\n",
       "        text-align: right;\n",
       "    }\n",
       "</style>\n",
       "<table border=\"1\" class=\"dataframe\">\n",
       "  <thead>\n",
       "    <tr style=\"text-align: right;\">\n",
       "      <th></th>\n",
       "      <th>model</th>\n",
       "      <th>subseq</th>\n",
       "      <th>peaks</th>\n",
       "      <th>binary</th>\n",
       "      <th>mwa</th>\n",
       "    </tr>\n",
       "  </thead>\n",
       "  <tbody>\n",
       "    <tr>\n",
       "      <th>0</th>\n",
       "      <td>Canny(otsu)</td>\n",
       "      <td>27.380773</td>\n",
       "      <td>21.396524</td>\n",
       "      <td>113.251579</td>\n",
       "      <td>74.067086</td>\n",
       "    </tr>\n",
       "  </tbody>\n",
       "</table>\n",
       "</div>"
      ],
      "text/plain": [
       "         model     subseq      peaks      binary        mwa\n",
       "0  Canny(otsu)  27.380773  21.396524  113.251579  74.067086"
      ]
     },
     "metadata": {},
     "output_type": "display_data"
    }
   ],
   "source": [
    "with_model(Model.CANNY_EDGE_OTSU, lines, points, data_dir, ranking_url, pith_url, rings_url, mse_url)"
   ]
  },
  {
   "cell_type": "code",
   "execution_count": 20,
   "id": "aaf7c5d5",
   "metadata": {},
   "outputs": [
    {
     "name": "stdout",
     "output_type": "stream",
     "text": [
      "0 2-34e23370868237a073d086fb64851017e9b2c8c9_85903b8cb210e9ad54581e7a37999bcd5fb18443_instant.jpg 87.0\n",
      "1 1-5d205d5ea6bafd3c2e038cf1139cdd5a9825388f_275cb29ffc473512447ce75ff34baa4ecea7276d_instant_210319.jpg 59.666666666666664\n",
      "2 1-11c00bf7cc3e03dc86bde8a20c8ab390b0b2f2a4_d5d5dbc0f05ff34587375f4a567740b61c4731a6_instant_210319.jpg 18.0\n",
      "3 2-8c5de8aa63e57b1e5d3a11ce4c4e2ded042b2ef3_0693ab68bf2278539a3733129d6964ba7719f7b2.jpg 22.0\n",
      "4 1-3d78e56849a16c0b17831129f6059e367574a138_8560eccb0f16269a00f2d6c6a5fab7419529c803_instant.jpg 15.0\n",
      "5 1-947a57fc1b94be1fb8a5cce439cd8112016648b1_b151d6624e13c4d31f300f909ebb63577e42a730_instant.jpg 19.0\n",
      "6 1-1f43f59e9f5ead12a13b1cd892a8757242367189_9cd89303dd466e6b178399f8d02b12aae69ec707_instant.jpg 14.0\n",
      "7 1-85fde97a518625ed46589a6be46300e36c3ad0d9_6626ee8bedc11ff89bd5a6205d10710e72ed9801_instant_210319.jpg 16.0\n",
      "8 1-e50b5a99fd9bab50130099c750df6d80f50a9b4e_fdafeaf4b1ec0417f969870e07a0d6401488df85_instant.jpg 17.0\n",
      "9 1-0d8eabdfed2cb1f0d455e5a2050d78ba39ae6cff_0665c9464c856662322717999ae3d8301ff48907_instant.jpg 11.0\n",
      "10 2-746ba8ac1301085b9f8d8d96beb3bf7f9e7a4605_ecc100d2cbc4a9fc70c2fde3eafaadb6ceb588ca_instant.jpg 29.0\n"
     ]
    },
    {
     "data": {
      "text/html": [
       "<div>\n",
       "<style scoped>\n",
       "    .dataframe tbody tr th:only-of-type {\n",
       "        vertical-align: middle;\n",
       "    }\n",
       "\n",
       "    .dataframe tbody tr th {\n",
       "        vertical-align: top;\n",
       "    }\n",
       "\n",
       "    .dataframe thead th {\n",
       "        text-align: right;\n",
       "    }\n",
       "</style>\n",
       "<table border=\"1\" class=\"dataframe\">\n",
       "  <thead>\n",
       "    <tr style=\"text-align: right;\">\n",
       "      <th></th>\n",
       "      <th>model</th>\n",
       "      <th>subseq</th>\n",
       "      <th>peaks</th>\n",
       "      <th>binary</th>\n",
       "      <th>mwa</th>\n",
       "    </tr>\n",
       "  </thead>\n",
       "  <tbody>\n",
       "    <tr>\n",
       "      <th>0</th>\n",
       "      <td>Canny(triangle)</td>\n",
       "      <td>22.738153</td>\n",
       "      <td>20.563733</td>\n",
       "      <td>98.447554</td>\n",
       "      <td>62.347979</td>\n",
       "    </tr>\n",
       "  </tbody>\n",
       "</table>\n",
       "</div>"
      ],
      "text/plain": [
       "             model     subseq      peaks     binary        mwa\n",
       "0  Canny(triangle)  22.738153  20.563733  98.447554  62.347979"
      ]
     },
     "metadata": {},
     "output_type": "display_data"
    }
   ],
   "source": [
    "with_model(Model.CANNY_EDGE_TRIANGLE, lines, points, data_dir, ranking_url, pith_url, rings_url, mse_url)"
   ]
  },
  {
   "cell_type": "code",
   "execution_count": 21,
   "id": "37b04875",
   "metadata": {},
   "outputs": [
    {
     "name": "stdout",
     "output_type": "stream",
     "text": [
      "0 2-34e23370868237a073d086fb64851017e9b2c8c9_85903b8cb210e9ad54581e7a37999bcd5fb18443_instant.jpg 87.0\n",
      "1 1-5d205d5ea6bafd3c2e038cf1139cdd5a9825388f_275cb29ffc473512447ce75ff34baa4ecea7276d_instant_210319.jpg 59.666666666666664\n",
      "2 1-11c00bf7cc3e03dc86bde8a20c8ab390b0b2f2a4_d5d5dbc0f05ff34587375f4a567740b61c4731a6_instant_210319.jpg 18.0\n",
      "3 2-8c5de8aa63e57b1e5d3a11ce4c4e2ded042b2ef3_0693ab68bf2278539a3733129d6964ba7719f7b2.jpg 22.0\n",
      "4 1-3d78e56849a16c0b17831129f6059e367574a138_8560eccb0f16269a00f2d6c6a5fab7419529c803_instant.jpg 15.0\n",
      "5 1-947a57fc1b94be1fb8a5cce439cd8112016648b1_b151d6624e13c4d31f300f909ebb63577e42a730_instant.jpg 19.0\n",
      "6 1-1f43f59e9f5ead12a13b1cd892a8757242367189_9cd89303dd466e6b178399f8d02b12aae69ec707_instant.jpg 14.0\n",
      "7 1-85fde97a518625ed46589a6be46300e36c3ad0d9_6626ee8bedc11ff89bd5a6205d10710e72ed9801_instant_210319.jpg 16.0\n",
      "8 1-e50b5a99fd9bab50130099c750df6d80f50a9b4e_fdafeaf4b1ec0417f969870e07a0d6401488df85_instant.jpg 17.0\n",
      "9 1-0d8eabdfed2cb1f0d455e5a2050d78ba39ae6cff_0665c9464c856662322717999ae3d8301ff48907_instant.jpg 11.0\n",
      "10 2-746ba8ac1301085b9f8d8d96beb3bf7f9e7a4605_ecc100d2cbc4a9fc70c2fde3eafaadb6ceb588ca_instant.jpg 29.0\n"
     ]
    },
    {
     "data": {
      "text/html": [
       "<div>\n",
       "<style scoped>\n",
       "    .dataframe tbody tr th:only-of-type {\n",
       "        vertical-align: middle;\n",
       "    }\n",
       "\n",
       "    .dataframe tbody tr th {\n",
       "        vertical-align: top;\n",
       "    }\n",
       "\n",
       "    .dataframe thead th {\n",
       "        text-align: right;\n",
       "    }\n",
       "</style>\n",
       "<table border=\"1\" class=\"dataframe\">\n",
       "  <thead>\n",
       "    <tr style=\"text-align: right;\">\n",
       "      <th></th>\n",
       "      <th>model</th>\n",
       "      <th>subseq</th>\n",
       "      <th>peaks</th>\n",
       "      <th>binary</th>\n",
       "      <th>mwa</th>\n",
       "    </tr>\n",
       "  </thead>\n",
       "  <tbody>\n",
       "    <tr>\n",
       "      <th>0</th>\n",
       "      <td>Canny(manual)</td>\n",
       "      <td>23.569289</td>\n",
       "      <td>20.501632</td>\n",
       "      <td>102.09664</td>\n",
       "      <td>65.211302</td>\n",
       "    </tr>\n",
       "  </tbody>\n",
       "</table>\n",
       "</div>"
      ],
      "text/plain": [
       "           model     subseq      peaks     binary        mwa\n",
       "0  Canny(manual)  23.569289  20.501632  102.09664  65.211302"
      ]
     },
     "metadata": {},
     "output_type": "display_data"
    }
   ],
   "source": [
    "with_model(Model.CANNY_EDGE_MANUAL, lines, points, data_dir, ranking_url, pith_url, rings_url, mse_url)"
   ]
  },
  {
   "cell_type": "code",
   "execution_count": 22,
   "id": "dadfd80a",
   "metadata": {},
   "outputs": [
    {
     "name": "stdout",
     "output_type": "stream",
     "text": [
      "0 2-34e23370868237a073d086fb64851017e9b2c8c9_85903b8cb210e9ad54581e7a37999bcd5fb18443_instant.jpg 87.0\n",
      "1 1-5d205d5ea6bafd3c2e038cf1139cdd5a9825388f_275cb29ffc473512447ce75ff34baa4ecea7276d_instant_210319.jpg 59.666666666666664\n",
      "2 1-11c00bf7cc3e03dc86bde8a20c8ab390b0b2f2a4_d5d5dbc0f05ff34587375f4a567740b61c4731a6_instant_210319.jpg 18.0\n",
      "3 2-8c5de8aa63e57b1e5d3a11ce4c4e2ded042b2ef3_0693ab68bf2278539a3733129d6964ba7719f7b2.jpg 22.0\n",
      "4 1-3d78e56849a16c0b17831129f6059e367574a138_8560eccb0f16269a00f2d6c6a5fab7419529c803_instant.jpg 15.0\n",
      "5 1-947a57fc1b94be1fb8a5cce439cd8112016648b1_b151d6624e13c4d31f300f909ebb63577e42a730_instant.jpg 19.0\n",
      "6 1-1f43f59e9f5ead12a13b1cd892a8757242367189_9cd89303dd466e6b178399f8d02b12aae69ec707_instant.jpg 14.0\n",
      "7 1-85fde97a518625ed46589a6be46300e36c3ad0d9_6626ee8bedc11ff89bd5a6205d10710e72ed9801_instant_210319.jpg 16.0\n",
      "8 1-e50b5a99fd9bab50130099c750df6d80f50a9b4e_fdafeaf4b1ec0417f969870e07a0d6401488df85_instant.jpg 17.0\n",
      "9 1-0d8eabdfed2cb1f0d455e5a2050d78ba39ae6cff_0665c9464c856662322717999ae3d8301ff48907_instant.jpg 11.0\n",
      "10 2-746ba8ac1301085b9f8d8d96beb3bf7f9e7a4605_ecc100d2cbc4a9fc70c2fde3eafaadb6ceb588ca_instant.jpg 29.0\n"
     ]
    },
    {
     "data": {
      "text/html": [
       "<div>\n",
       "<style scoped>\n",
       "    .dataframe tbody tr th:only-of-type {\n",
       "        vertical-align: middle;\n",
       "    }\n",
       "\n",
       "    .dataframe tbody tr th {\n",
       "        vertical-align: top;\n",
       "    }\n",
       "\n",
       "    .dataframe thead th {\n",
       "        text-align: right;\n",
       "    }\n",
       "</style>\n",
       "<table border=\"1\" class=\"dataframe\">\n",
       "  <thead>\n",
       "    <tr style=\"text-align: right;\">\n",
       "      <th></th>\n",
       "      <th>model</th>\n",
       "      <th>subseq</th>\n",
       "      <th>peaks</th>\n",
       "      <th>binary</th>\n",
       "      <th>mwa</th>\n",
       "    </tr>\n",
       "  </thead>\n",
       "  <tbody>\n",
       "    <tr>\n",
       "      <th>0</th>\n",
       "      <td>Canny(blur)</td>\n",
       "      <td>22.287938</td>\n",
       "      <td>20.329737</td>\n",
       "      <td>101.248037</td>\n",
       "      <td>65.080372</td>\n",
       "    </tr>\n",
       "  </tbody>\n",
       "</table>\n",
       "</div>"
      ],
      "text/plain": [
       "         model     subseq      peaks      binary        mwa\n",
       "0  Canny(blur)  22.287938  20.329737  101.248037  65.080372"
      ]
     },
     "metadata": {},
     "output_type": "display_data"
    }
   ],
   "source": [
    "with_model(Model.CANNY_EDGE_BLUR, lines, points, data_dir, ranking_url, pith_url, rings_url, mse_url)"
   ]
  },
  {
   "cell_type": "code",
   "execution_count": 23,
   "id": "e8ab48ad",
   "metadata": {},
   "outputs": [
    {
     "name": "stdout",
     "output_type": "stream",
     "text": [
      "0 2-34e23370868237a073d086fb64851017e9b2c8c9_85903b8cb210e9ad54581e7a37999bcd5fb18443_instant.jpg 87.0\n",
      "1 1-5d205d5ea6bafd3c2e038cf1139cdd5a9825388f_275cb29ffc473512447ce75ff34baa4ecea7276d_instant_210319.jpg 59.666666666666664\n",
      "2 1-11c00bf7cc3e03dc86bde8a20c8ab390b0b2f2a4_d5d5dbc0f05ff34587375f4a567740b61c4731a6_instant_210319.jpg 18.0\n",
      "3 2-8c5de8aa63e57b1e5d3a11ce4c4e2ded042b2ef3_0693ab68bf2278539a3733129d6964ba7719f7b2.jpg 22.0\n",
      "4 1-3d78e56849a16c0b17831129f6059e367574a138_8560eccb0f16269a00f2d6c6a5fab7419529c803_instant.jpg 15.0\n",
      "5 1-947a57fc1b94be1fb8a5cce439cd8112016648b1_b151d6624e13c4d31f300f909ebb63577e42a730_instant.jpg 19.0\n",
      "6 1-1f43f59e9f5ead12a13b1cd892a8757242367189_9cd89303dd466e6b178399f8d02b12aae69ec707_instant.jpg 14.0\n",
      "7 1-85fde97a518625ed46589a6be46300e36c3ad0d9_6626ee8bedc11ff89bd5a6205d10710e72ed9801_instant_210319.jpg 16.0\n",
      "8 1-e50b5a99fd9bab50130099c750df6d80f50a9b4e_fdafeaf4b1ec0417f969870e07a0d6401488df85_instant.jpg 17.0\n",
      "9 1-0d8eabdfed2cb1f0d455e5a2050d78ba39ae6cff_0665c9464c856662322717999ae3d8301ff48907_instant.jpg 11.0\n",
      "10 2-746ba8ac1301085b9f8d8d96beb3bf7f9e7a4605_ecc100d2cbc4a9fc70c2fde3eafaadb6ceb588ca_instant.jpg 29.0\n"
     ]
    },
    {
     "data": {
      "text/html": [
       "<div>\n",
       "<style scoped>\n",
       "    .dataframe tbody tr th:only-of-type {\n",
       "        vertical-align: middle;\n",
       "    }\n",
       "\n",
       "    .dataframe tbody tr th {\n",
       "        vertical-align: top;\n",
       "    }\n",
       "\n",
       "    .dataframe thead th {\n",
       "        text-align: right;\n",
       "    }\n",
       "</style>\n",
       "<table border=\"1\" class=\"dataframe\">\n",
       "  <thead>\n",
       "    <tr style=\"text-align: right;\">\n",
       "      <th></th>\n",
       "      <th>model</th>\n",
       "      <th>subseq</th>\n",
       "      <th>peaks</th>\n",
       "      <th>binary</th>\n",
       "      <th>mwa</th>\n",
       "    </tr>\n",
       "  </thead>\n",
       "  <tbody>\n",
       "    <tr>\n",
       "      <th>0</th>\n",
       "      <td>Canny(blur otsu)</td>\n",
       "      <td>21.881337</td>\n",
       "      <td>20.37851</td>\n",
       "      <td>99.386818</td>\n",
       "      <td>63.555068</td>\n",
       "    </tr>\n",
       "  </tbody>\n",
       "</table>\n",
       "</div>"
      ],
      "text/plain": [
       "              model     subseq     peaks     binary        mwa\n",
       "0  Canny(blur otsu)  21.881337  20.37851  99.386818  63.555068"
      ]
     },
     "metadata": {},
     "output_type": "display_data"
    }
   ],
   "source": [
    "with_model(Model.CANNY_EDGE_BLUR_OTSU, lines, points, data_dir, ranking_url, pith_url, rings_url, mse_url)"
   ]
  },
  {
   "cell_type": "code",
   "execution_count": 24,
   "id": "23d1a996",
   "metadata": {},
   "outputs": [
    {
     "name": "stdout",
     "output_type": "stream",
     "text": [
      "0 2-34e23370868237a073d086fb64851017e9b2c8c9_85903b8cb210e9ad54581e7a37999bcd5fb18443_instant.jpg 87.0\n",
      "1 1-5d205d5ea6bafd3c2e038cf1139cdd5a9825388f_275cb29ffc473512447ce75ff34baa4ecea7276d_instant_210319.jpg 59.666666666666664\n",
      "2 1-11c00bf7cc3e03dc86bde8a20c8ab390b0b2f2a4_d5d5dbc0f05ff34587375f4a567740b61c4731a6_instant_210319.jpg 18.0\n",
      "3 2-8c5de8aa63e57b1e5d3a11ce4c4e2ded042b2ef3_0693ab68bf2278539a3733129d6964ba7719f7b2.jpg 22.0\n",
      "4 1-3d78e56849a16c0b17831129f6059e367574a138_8560eccb0f16269a00f2d6c6a5fab7419529c803_instant.jpg 15.0\n",
      "5 1-947a57fc1b94be1fb8a5cce439cd8112016648b1_b151d6624e13c4d31f300f909ebb63577e42a730_instant.jpg 19.0\n",
      "6 1-1f43f59e9f5ead12a13b1cd892a8757242367189_9cd89303dd466e6b178399f8d02b12aae69ec707_instant.jpg 14.0\n",
      "7 1-85fde97a518625ed46589a6be46300e36c3ad0d9_6626ee8bedc11ff89bd5a6205d10710e72ed9801_instant_210319.jpg 16.0\n",
      "8 1-e50b5a99fd9bab50130099c750df6d80f50a9b4e_fdafeaf4b1ec0417f969870e07a0d6401488df85_instant.jpg 17.0\n",
      "9 1-0d8eabdfed2cb1f0d455e5a2050d78ba39ae6cff_0665c9464c856662322717999ae3d8301ff48907_instant.jpg 11.0\n",
      "10 2-746ba8ac1301085b9f8d8d96beb3bf7f9e7a4605_ecc100d2cbc4a9fc70c2fde3eafaadb6ceb588ca_instant.jpg 29.0\n"
     ]
    },
    {
     "data": {
      "text/html": [
       "<div>\n",
       "<style scoped>\n",
       "    .dataframe tbody tr th:only-of-type {\n",
       "        vertical-align: middle;\n",
       "    }\n",
       "\n",
       "    .dataframe tbody tr th {\n",
       "        vertical-align: top;\n",
       "    }\n",
       "\n",
       "    .dataframe thead th {\n",
       "        text-align: right;\n",
       "    }\n",
       "</style>\n",
       "<table border=\"1\" class=\"dataframe\">\n",
       "  <thead>\n",
       "    <tr style=\"text-align: right;\">\n",
       "      <th></th>\n",
       "      <th>model</th>\n",
       "      <th>subseq</th>\n",
       "      <th>peaks</th>\n",
       "      <th>binary</th>\n",
       "      <th>mwa</th>\n",
       "    </tr>\n",
       "  </thead>\n",
       "  <tbody>\n",
       "    <tr>\n",
       "      <th>0</th>\n",
       "      <td>Canny(blur triangle)</td>\n",
       "      <td>20.541254</td>\n",
       "      <td>21.620485</td>\n",
       "      <td>81.139786</td>\n",
       "      <td>49.712133</td>\n",
       "    </tr>\n",
       "  </tbody>\n",
       "</table>\n",
       "</div>"
      ],
      "text/plain": [
       "                  model     subseq      peaks     binary        mwa\n",
       "0  Canny(blur triangle)  20.541254  21.620485  81.139786  49.712133"
      ]
     },
     "metadata": {},
     "output_type": "display_data"
    }
   ],
   "source": [
    "with_model(Model.CANNY_EDGE_BLUR_TRIANGLE, lines, points, data_dir, ranking_url, pith_url, rings_url, mse_url)"
   ]
  },
  {
   "cell_type": "code",
   "execution_count": 25,
   "id": "21804530",
   "metadata": {},
   "outputs": [
    {
     "name": "stdout",
     "output_type": "stream",
     "text": [
      "0 2-34e23370868237a073d086fb64851017e9b2c8c9_85903b8cb210e9ad54581e7a37999bcd5fb18443_instant.jpg 87.0\n",
      "1 1-5d205d5ea6bafd3c2e038cf1139cdd5a9825388f_275cb29ffc473512447ce75ff34baa4ecea7276d_instant_210319.jpg 59.666666666666664\n",
      "2 1-11c00bf7cc3e03dc86bde8a20c8ab390b0b2f2a4_d5d5dbc0f05ff34587375f4a567740b61c4731a6_instant_210319.jpg 18.0\n",
      "3 2-8c5de8aa63e57b1e5d3a11ce4c4e2ded042b2ef3_0693ab68bf2278539a3733129d6964ba7719f7b2.jpg 22.0\n",
      "4 1-3d78e56849a16c0b17831129f6059e367574a138_8560eccb0f16269a00f2d6c6a5fab7419529c803_instant.jpg 15.0\n",
      "5 1-947a57fc1b94be1fb8a5cce439cd8112016648b1_b151d6624e13c4d31f300f909ebb63577e42a730_instant.jpg 19.0\n",
      "6 1-1f43f59e9f5ead12a13b1cd892a8757242367189_9cd89303dd466e6b178399f8d02b12aae69ec707_instant.jpg 14.0\n",
      "7 1-85fde97a518625ed46589a6be46300e36c3ad0d9_6626ee8bedc11ff89bd5a6205d10710e72ed9801_instant_210319.jpg 16.0\n",
      "8 1-e50b5a99fd9bab50130099c750df6d80f50a9b4e_fdafeaf4b1ec0417f969870e07a0d6401488df85_instant.jpg 17.0\n",
      "9 1-0d8eabdfed2cb1f0d455e5a2050d78ba39ae6cff_0665c9464c856662322717999ae3d8301ff48907_instant.jpg 11.0\n",
      "10 2-746ba8ac1301085b9f8d8d96beb3bf7f9e7a4605_ecc100d2cbc4a9fc70c2fde3eafaadb6ceb588ca_instant.jpg 29.0\n"
     ]
    },
    {
     "data": {
      "text/html": [
       "<div>\n",
       "<style scoped>\n",
       "    .dataframe tbody tr th:only-of-type {\n",
       "        vertical-align: middle;\n",
       "    }\n",
       "\n",
       "    .dataframe tbody tr th {\n",
       "        vertical-align: top;\n",
       "    }\n",
       "\n",
       "    .dataframe thead th {\n",
       "        text-align: right;\n",
       "    }\n",
       "</style>\n",
       "<table border=\"1\" class=\"dataframe\">\n",
       "  <thead>\n",
       "    <tr style=\"text-align: right;\">\n",
       "      <th></th>\n",
       "      <th>model</th>\n",
       "      <th>subseq</th>\n",
       "      <th>peaks</th>\n",
       "      <th>binary</th>\n",
       "      <th>mwa</th>\n",
       "    </tr>\n",
       "  </thead>\n",
       "  <tbody>\n",
       "    <tr>\n",
       "      <th>0</th>\n",
       "      <td>Canny(blur manual)</td>\n",
       "      <td>20.752305</td>\n",
       "      <td>21.104805</td>\n",
       "      <td>87.095062</td>\n",
       "      <td>54.118199</td>\n",
       "    </tr>\n",
       "  </tbody>\n",
       "</table>\n",
       "</div>"
      ],
      "text/plain": [
       "                model     subseq      peaks     binary        mwa\n",
       "0  Canny(blur manual)  20.752305  21.104805  87.095062  54.118199"
      ]
     },
     "metadata": {},
     "output_type": "display_data"
    }
   ],
   "source": [
    "with_model(Model.CANNY_EDGE_BLUR_MANUAL, lines, points, data_dir, ranking_url, pith_url, rings_url, mse_url)"
   ]
  },
  {
   "cell_type": "code",
   "execution_count": 26,
   "id": "30d22fe1",
   "metadata": {},
   "outputs": [
    {
     "name": "stdout",
     "output_type": "stream",
     "text": [
      "0 2-34e23370868237a073d086fb64851017e9b2c8c9_85903b8cb210e9ad54581e7a37999bcd5fb18443_instant.jpg 87.0\n",
      "1 1-5d205d5ea6bafd3c2e038cf1139cdd5a9825388f_275cb29ffc473512447ce75ff34baa4ecea7276d_instant_210319.jpg 59.666666666666664\n",
      "2 1-11c00bf7cc3e03dc86bde8a20c8ab390b0b2f2a4_d5d5dbc0f05ff34587375f4a567740b61c4731a6_instant_210319.jpg 18.0\n",
      "3 2-8c5de8aa63e57b1e5d3a11ce4c4e2ded042b2ef3_0693ab68bf2278539a3733129d6964ba7719f7b2.jpg 22.0\n",
      "4 1-3d78e56849a16c0b17831129f6059e367574a138_8560eccb0f16269a00f2d6c6a5fab7419529c803_instant.jpg 15.0\n",
      "5 1-947a57fc1b94be1fb8a5cce439cd8112016648b1_b151d6624e13c4d31f300f909ebb63577e42a730_instant.jpg 19.0\n",
      "6 1-1f43f59e9f5ead12a13b1cd892a8757242367189_9cd89303dd466e6b178399f8d02b12aae69ec707_instant.jpg 14.0\n",
      "7 1-85fde97a518625ed46589a6be46300e36c3ad0d9_6626ee8bedc11ff89bd5a6205d10710e72ed9801_instant_210319.jpg 16.0\n",
      "8 1-e50b5a99fd9bab50130099c750df6d80f50a9b4e_fdafeaf4b1ec0417f969870e07a0d6401488df85_instant.jpg 17.0\n",
      "9 1-0d8eabdfed2cb1f0d455e5a2050d78ba39ae6cff_0665c9464c856662322717999ae3d8301ff48907_instant.jpg 11.0\n",
      "10 2-746ba8ac1301085b9f8d8d96beb3bf7f9e7a4605_ecc100d2cbc4a9fc70c2fde3eafaadb6ceb588ca_instant.jpg 29.0\n"
     ]
    },
    {
     "data": {
      "text/html": [
       "<div>\n",
       "<style scoped>\n",
       "    .dataframe tbody tr th:only-of-type {\n",
       "        vertical-align: middle;\n",
       "    }\n",
       "\n",
       "    .dataframe tbody tr th {\n",
       "        vertical-align: top;\n",
       "    }\n",
       "\n",
       "    .dataframe thead th {\n",
       "        text-align: right;\n",
       "    }\n",
       "</style>\n",
       "<table border=\"1\" class=\"dataframe\">\n",
       "  <thead>\n",
       "    <tr style=\"text-align: right;\">\n",
       "      <th></th>\n",
       "      <th>model</th>\n",
       "      <th>subseq</th>\n",
       "      <th>peaks</th>\n",
       "      <th>binary</th>\n",
       "      <th>mwa</th>\n",
       "    </tr>\n",
       "  </thead>\n",
       "  <tbody>\n",
       "    <tr>\n",
       "      <th>0</th>\n",
       "      <td>Laplacian</td>\n",
       "      <td>127.565598</td>\n",
       "      <td>43.871969</td>\n",
       "      <td>168.719765</td>\n",
       "      <td>90.614818</td>\n",
       "    </tr>\n",
       "  </tbody>\n",
       "</table>\n",
       "</div>"
      ],
      "text/plain": [
       "       model      subseq      peaks      binary        mwa\n",
       "0  Laplacian  127.565598  43.871969  168.719765  90.614818"
      ]
     },
     "metadata": {},
     "output_type": "display_data"
    }
   ],
   "source": [
    "with_model(Model.LAPLACIAN_EDGE, lines, points, data_dir, ranking_url, pith_url, rings_url, mse_url)"
   ]
  },
  {
   "cell_type": "code",
   "execution_count": 27,
   "id": "3a400e30",
   "metadata": {},
   "outputs": [
    {
     "name": "stdout",
     "output_type": "stream",
     "text": [
      "0 2-34e23370868237a073d086fb64851017e9b2c8c9_85903b8cb210e9ad54581e7a37999bcd5fb18443_instant.jpg 87.0\n",
      "1 1-5d205d5ea6bafd3c2e038cf1139cdd5a9825388f_275cb29ffc473512447ce75ff34baa4ecea7276d_instant_210319.jpg 59.666666666666664\n",
      "2 1-11c00bf7cc3e03dc86bde8a20c8ab390b0b2f2a4_d5d5dbc0f05ff34587375f4a567740b61c4731a6_instant_210319.jpg 18.0\n",
      "3 2-8c5de8aa63e57b1e5d3a11ce4c4e2ded042b2ef3_0693ab68bf2278539a3733129d6964ba7719f7b2.jpg 22.0\n",
      "4 1-3d78e56849a16c0b17831129f6059e367574a138_8560eccb0f16269a00f2d6c6a5fab7419529c803_instant.jpg 15.0\n",
      "5 1-947a57fc1b94be1fb8a5cce439cd8112016648b1_b151d6624e13c4d31f300f909ebb63577e42a730_instant.jpg 19.0\n",
      "6 1-1f43f59e9f5ead12a13b1cd892a8757242367189_9cd89303dd466e6b178399f8d02b12aae69ec707_instant.jpg 14.0\n",
      "7 1-85fde97a518625ed46589a6be46300e36c3ad0d9_6626ee8bedc11ff89bd5a6205d10710e72ed9801_instant_210319.jpg 16.0\n",
      "8 1-e50b5a99fd9bab50130099c750df6d80f50a9b4e_fdafeaf4b1ec0417f969870e07a0d6401488df85_instant.jpg 17.0\n",
      "9 1-0d8eabdfed2cb1f0d455e5a2050d78ba39ae6cff_0665c9464c856662322717999ae3d8301ff48907_instant.jpg 11.0\n",
      "10 2-746ba8ac1301085b9f8d8d96beb3bf7f9e7a4605_ecc100d2cbc4a9fc70c2fde3eafaadb6ceb588ca_instant.jpg 29.0\n"
     ]
    },
    {
     "data": {
      "text/html": [
       "<div>\n",
       "<style scoped>\n",
       "    .dataframe tbody tr th:only-of-type {\n",
       "        vertical-align: middle;\n",
       "    }\n",
       "\n",
       "    .dataframe tbody tr th {\n",
       "        vertical-align: top;\n",
       "    }\n",
       "\n",
       "    .dataframe thead th {\n",
       "        text-align: right;\n",
       "    }\n",
       "</style>\n",
       "<table border=\"1\" class=\"dataframe\">\n",
       "  <thead>\n",
       "    <tr style=\"text-align: right;\">\n",
       "      <th></th>\n",
       "      <th>model</th>\n",
       "      <th>subseq</th>\n",
       "      <th>peaks</th>\n",
       "      <th>binary</th>\n",
       "      <th>mwa</th>\n",
       "    </tr>\n",
       "  </thead>\n",
       "  <tbody>\n",
       "    <tr>\n",
       "      <th>0</th>\n",
       "      <td>Laplacian(blur)</td>\n",
       "      <td>164.166486</td>\n",
       "      <td>45.056131</td>\n",
       "      <td>189.72129</td>\n",
       "      <td>76.936397</td>\n",
       "    </tr>\n",
       "  </tbody>\n",
       "</table>\n",
       "</div>"
      ],
      "text/plain": [
       "             model      subseq      peaks     binary        mwa\n",
       "0  Laplacian(blur)  164.166486  45.056131  189.72129  76.936397"
      ]
     },
     "metadata": {},
     "output_type": "display_data"
    }
   ],
   "source": [
    "with_model(Model.LAPLACIAN_EDGE_BLUR, lines, points, data_dir, ranking_url, pith_url, rings_url, mse_url)"
   ]
  },
  {
   "cell_type": "code",
   "execution_count": null,
   "id": "bf6dec47",
   "metadata": {},
   "outputs": [],
   "source": []
  },
  {
   "cell_type": "code",
   "execution_count": 28,
   "id": "67430856",
   "metadata": {},
   "outputs": [
    {
     "name": "stdout",
     "output_type": "stream",
     "text": [
      "0 2-34e23370868237a073d086fb64851017e9b2c8c9_85903b8cb210e9ad54581e7a37999bcd5fb18443_instant.jpg 87.0\n",
      "1 1-5d205d5ea6bafd3c2e038cf1139cdd5a9825388f_275cb29ffc473512447ce75ff34baa4ecea7276d_instant_210319.jpg 59.666666666666664\n",
      "2 1-11c00bf7cc3e03dc86bde8a20c8ab390b0b2f2a4_d5d5dbc0f05ff34587375f4a567740b61c4731a6_instant_210319.jpg 18.0\n",
      "3 2-8c5de8aa63e57b1e5d3a11ce4c4e2ded042b2ef3_0693ab68bf2278539a3733129d6964ba7719f7b2.jpg 22.0\n",
      "4 1-3d78e56849a16c0b17831129f6059e367574a138_8560eccb0f16269a00f2d6c6a5fab7419529c803_instant.jpg 15.0\n",
      "5 1-947a57fc1b94be1fb8a5cce439cd8112016648b1_b151d6624e13c4d31f300f909ebb63577e42a730_instant.jpg 19.0\n",
      "6 1-1f43f59e9f5ead12a13b1cd892a8757242367189_9cd89303dd466e6b178399f8d02b12aae69ec707_instant.jpg 14.0\n",
      "7 1-85fde97a518625ed46589a6be46300e36c3ad0d9_6626ee8bedc11ff89bd5a6205d10710e72ed9801_instant_210319.jpg 16.0\n",
      "8 1-e50b5a99fd9bab50130099c750df6d80f50a9b4e_fdafeaf4b1ec0417f969870e07a0d6401488df85_instant.jpg 17.0\n",
      "9 1-0d8eabdfed2cb1f0d455e5a2050d78ba39ae6cff_0665c9464c856662322717999ae3d8301ff48907_instant.jpg 11.0\n",
      "10 2-746ba8ac1301085b9f8d8d96beb3bf7f9e7a4605_ecc100d2cbc4a9fc70c2fde3eafaadb6ceb588ca_instant.jpg 29.0\n"
     ]
    },
    {
     "data": {
      "text/html": [
       "<div>\n",
       "<style scoped>\n",
       "    .dataframe tbody tr th:only-of-type {\n",
       "        vertical-align: middle;\n",
       "    }\n",
       "\n",
       "    .dataframe tbody tr th {\n",
       "        vertical-align: top;\n",
       "    }\n",
       "\n",
       "    .dataframe thead th {\n",
       "        text-align: right;\n",
       "    }\n",
       "</style>\n",
       "<table border=\"1\" class=\"dataframe\">\n",
       "  <thead>\n",
       "    <tr style=\"text-align: right;\">\n",
       "      <th></th>\n",
       "      <th>model</th>\n",
       "      <th>subseq</th>\n",
       "      <th>peaks</th>\n",
       "      <th>binary</th>\n",
       "      <th>mwa</th>\n",
       "    </tr>\n",
       "  </thead>\n",
       "  <tbody>\n",
       "    <tr>\n",
       "      <th>0</th>\n",
       "      <td>Polar Sobel</td>\n",
       "      <td>52.35011</td>\n",
       "      <td>24.468615</td>\n",
       "      <td>86.203053</td>\n",
       "      <td>31.867781</td>\n",
       "    </tr>\n",
       "  </tbody>\n",
       "</table>\n",
       "</div>"
      ],
      "text/plain": [
       "         model    subseq      peaks     binary        mwa\n",
       "0  Polar Sobel  52.35011  24.468615  86.203053  31.867781"
      ]
     },
     "metadata": {},
     "output_type": "display_data"
    }
   ],
   "source": [
    "with_model(Model.POLAR_SOBEL_EDGE, lines, points, data_dir, ranking_url, pith_url, rings_url, mse_url)"
   ]
  },
  {
   "cell_type": "code",
   "execution_count": 29,
   "id": "3b6f3da2",
   "metadata": {},
   "outputs": [
    {
     "name": "stdout",
     "output_type": "stream",
     "text": [
      "0 2-34e23370868237a073d086fb64851017e9b2c8c9_85903b8cb210e9ad54581e7a37999bcd5fb18443_instant.jpg 87.0\n",
      "1 1-5d205d5ea6bafd3c2e038cf1139cdd5a9825388f_275cb29ffc473512447ce75ff34baa4ecea7276d_instant_210319.jpg 59.666666666666664\n",
      "2 1-11c00bf7cc3e03dc86bde8a20c8ab390b0b2f2a4_d5d5dbc0f05ff34587375f4a567740b61c4731a6_instant_210319.jpg 18.0\n",
      "3 2-8c5de8aa63e57b1e5d3a11ce4c4e2ded042b2ef3_0693ab68bf2278539a3733129d6964ba7719f7b2.jpg 22.0\n",
      "4 1-3d78e56849a16c0b17831129f6059e367574a138_8560eccb0f16269a00f2d6c6a5fab7419529c803_instant.jpg 15.0\n",
      "5 1-947a57fc1b94be1fb8a5cce439cd8112016648b1_b151d6624e13c4d31f300f909ebb63577e42a730_instant.jpg 19.0\n",
      "6 1-1f43f59e9f5ead12a13b1cd892a8757242367189_9cd89303dd466e6b178399f8d02b12aae69ec707_instant.jpg 14.0\n",
      "7 1-85fde97a518625ed46589a6be46300e36c3ad0d9_6626ee8bedc11ff89bd5a6205d10710e72ed9801_instant_210319.jpg 16.0\n",
      "8 1-e50b5a99fd9bab50130099c750df6d80f50a9b4e_fdafeaf4b1ec0417f969870e07a0d6401488df85_instant.jpg 17.0\n",
      "9 1-0d8eabdfed2cb1f0d455e5a2050d78ba39ae6cff_0665c9464c856662322717999ae3d8301ff48907_instant.jpg 11.0\n",
      "10 2-746ba8ac1301085b9f8d8d96beb3bf7f9e7a4605_ecc100d2cbc4a9fc70c2fde3eafaadb6ceb588ca_instant.jpg 29.0\n"
     ]
    },
    {
     "data": {
      "text/html": [
       "<div>\n",
       "<style scoped>\n",
       "    .dataframe tbody tr th:only-of-type {\n",
       "        vertical-align: middle;\n",
       "    }\n",
       "\n",
       "    .dataframe tbody tr th {\n",
       "        vertical-align: top;\n",
       "    }\n",
       "\n",
       "    .dataframe thead th {\n",
       "        text-align: right;\n",
       "    }\n",
       "</style>\n",
       "<table border=\"1\" class=\"dataframe\">\n",
       "  <thead>\n",
       "    <tr style=\"text-align: right;\">\n",
       "      <th></th>\n",
       "      <th>model</th>\n",
       "      <th>subseq</th>\n",
       "      <th>peaks</th>\n",
       "      <th>binary</th>\n",
       "      <th>mwa</th>\n",
       "    </tr>\n",
       "  </thead>\n",
       "  <tbody>\n",
       "    <tr>\n",
       "      <th>0</th>\n",
       "      <td>Polar Sobel(blur)</td>\n",
       "      <td>56.055444</td>\n",
       "      <td>25.403825</td>\n",
       "      <td>84.438417</td>\n",
       "      <td>27.195378</td>\n",
       "    </tr>\n",
       "  </tbody>\n",
       "</table>\n",
       "</div>"
      ],
      "text/plain": [
       "               model     subseq      peaks     binary        mwa\n",
       "0  Polar Sobel(blur)  56.055444  25.403825  84.438417  27.195378"
      ]
     },
     "metadata": {},
     "output_type": "display_data"
    }
   ],
   "source": [
    "with_model(Model.POLAR_SOBEL_EDGE_BLUR, lines, points, data_dir, ranking_url, pith_url, rings_url, mse_url)"
   ]
  },
  {
   "cell_type": "code",
   "execution_count": 30,
   "id": "ee75dd80",
   "metadata": {},
   "outputs": [
    {
     "name": "stdout",
     "output_type": "stream",
     "text": [
      "0 2-34e23370868237a073d086fb64851017e9b2c8c9_85903b8cb210e9ad54581e7a37999bcd5fb18443_instant.jpg 87.0\n",
      "1 1-5d205d5ea6bafd3c2e038cf1139cdd5a9825388f_275cb29ffc473512447ce75ff34baa4ecea7276d_instant_210319.jpg 59.666666666666664\n",
      "2 1-11c00bf7cc3e03dc86bde8a20c8ab390b0b2f2a4_d5d5dbc0f05ff34587375f4a567740b61c4731a6_instant_210319.jpg 18.0\n",
      "3 2-8c5de8aa63e57b1e5d3a11ce4c4e2ded042b2ef3_0693ab68bf2278539a3733129d6964ba7719f7b2.jpg 22.0\n",
      "4 1-3d78e56849a16c0b17831129f6059e367574a138_8560eccb0f16269a00f2d6c6a5fab7419529c803_instant.jpg 15.0\n",
      "5 1-947a57fc1b94be1fb8a5cce439cd8112016648b1_b151d6624e13c4d31f300f909ebb63577e42a730_instant.jpg 19.0\n",
      "6 1-1f43f59e9f5ead12a13b1cd892a8757242367189_9cd89303dd466e6b178399f8d02b12aae69ec707_instant.jpg 14.0\n",
      "7 1-85fde97a518625ed46589a6be46300e36c3ad0d9_6626ee8bedc11ff89bd5a6205d10710e72ed9801_instant_210319.jpg 16.0\n",
      "8 1-e50b5a99fd9bab50130099c750df6d80f50a9b4e_fdafeaf4b1ec0417f969870e07a0d6401488df85_instant.jpg 17.0\n",
      "9 1-0d8eabdfed2cb1f0d455e5a2050d78ba39ae6cff_0665c9464c856662322717999ae3d8301ff48907_instant.jpg 11.0\n",
      "10 2-746ba8ac1301085b9f8d8d96beb3bf7f9e7a4605_ecc100d2cbc4a9fc70c2fde3eafaadb6ceb588ca_instant.jpg 29.0\n"
     ]
    },
    {
     "data": {
      "text/html": [
       "<div>\n",
       "<style scoped>\n",
       "    .dataframe tbody tr th:only-of-type {\n",
       "        vertical-align: middle;\n",
       "    }\n",
       "\n",
       "    .dataframe tbody tr th {\n",
       "        vertical-align: top;\n",
       "    }\n",
       "\n",
       "    .dataframe thead th {\n",
       "        text-align: right;\n",
       "    }\n",
       "</style>\n",
       "<table border=\"1\" class=\"dataframe\">\n",
       "  <thead>\n",
       "    <tr style=\"text-align: right;\">\n",
       "      <th></th>\n",
       "      <th>model</th>\n",
       "      <th>subseq</th>\n",
       "      <th>peaks</th>\n",
       "      <th>binary</th>\n",
       "      <th>mwa</th>\n",
       "    </tr>\n",
       "  </thead>\n",
       "  <tbody>\n",
       "    <tr>\n",
       "      <th>0</th>\n",
       "      <td>Polar Canny</td>\n",
       "      <td>26.165089</td>\n",
       "      <td>27.852768</td>\n",
       "      <td>51.73221</td>\n",
       "      <td>32.799374</td>\n",
       "    </tr>\n",
       "  </tbody>\n",
       "</table>\n",
       "</div>"
      ],
      "text/plain": [
       "         model     subseq      peaks    binary        mwa\n",
       "0  Polar Canny  26.165089  27.852768  51.73221  32.799374"
      ]
     },
     "metadata": {},
     "output_type": "display_data"
    }
   ],
   "source": [
    "with_model(Model.POLAR_CANNY_EDGE, lines, points, data_dir, ranking_url, pith_url, rings_url, mse_url)"
   ]
  },
  {
   "cell_type": "code",
   "execution_count": 31,
   "id": "95860264",
   "metadata": {},
   "outputs": [
    {
     "name": "stdout",
     "output_type": "stream",
     "text": [
      "0 2-34e23370868237a073d086fb64851017e9b2c8c9_85903b8cb210e9ad54581e7a37999bcd5fb18443_instant.jpg 87.0\n",
      "1 1-5d205d5ea6bafd3c2e038cf1139cdd5a9825388f_275cb29ffc473512447ce75ff34baa4ecea7276d_instant_210319.jpg 59.666666666666664\n",
      "2 1-11c00bf7cc3e03dc86bde8a20c8ab390b0b2f2a4_d5d5dbc0f05ff34587375f4a567740b61c4731a6_instant_210319.jpg 18.0\n",
      "3 2-8c5de8aa63e57b1e5d3a11ce4c4e2ded042b2ef3_0693ab68bf2278539a3733129d6964ba7719f7b2.jpg 22.0\n",
      "4 1-3d78e56849a16c0b17831129f6059e367574a138_8560eccb0f16269a00f2d6c6a5fab7419529c803_instant.jpg 15.0\n",
      "5 1-947a57fc1b94be1fb8a5cce439cd8112016648b1_b151d6624e13c4d31f300f909ebb63577e42a730_instant.jpg 19.0\n",
      "6 1-1f43f59e9f5ead12a13b1cd892a8757242367189_9cd89303dd466e6b178399f8d02b12aae69ec707_instant.jpg 14.0\n",
      "7 1-85fde97a518625ed46589a6be46300e36c3ad0d9_6626ee8bedc11ff89bd5a6205d10710e72ed9801_instant_210319.jpg 16.0\n",
      "8 1-e50b5a99fd9bab50130099c750df6d80f50a9b4e_fdafeaf4b1ec0417f969870e07a0d6401488df85_instant.jpg 17.0\n",
      "9 1-0d8eabdfed2cb1f0d455e5a2050d78ba39ae6cff_0665c9464c856662322717999ae3d8301ff48907_instant.jpg 11.0\n",
      "10 2-746ba8ac1301085b9f8d8d96beb3bf7f9e7a4605_ecc100d2cbc4a9fc70c2fde3eafaadb6ceb588ca_instant.jpg 29.0\n"
     ]
    },
    {
     "data": {
      "text/html": [
       "<div>\n",
       "<style scoped>\n",
       "    .dataframe tbody tr th:only-of-type {\n",
       "        vertical-align: middle;\n",
       "    }\n",
       "\n",
       "    .dataframe tbody tr th {\n",
       "        vertical-align: top;\n",
       "    }\n",
       "\n",
       "    .dataframe thead th {\n",
       "        text-align: right;\n",
       "    }\n",
       "</style>\n",
       "<table border=\"1\" class=\"dataframe\">\n",
       "  <thead>\n",
       "    <tr style=\"text-align: right;\">\n",
       "      <th></th>\n",
       "      <th>model</th>\n",
       "      <th>subseq</th>\n",
       "      <th>peaks</th>\n",
       "      <th>binary</th>\n",
       "      <th>mwa</th>\n",
       "    </tr>\n",
       "  </thead>\n",
       "  <tbody>\n",
       "    <tr>\n",
       "      <th>0</th>\n",
       "      <td>Polar Canny(otsu)</td>\n",
       "      <td>26.267726</td>\n",
       "      <td>28.029747</td>\n",
       "      <td>50.032096</td>\n",
       "      <td>31.810259</td>\n",
       "    </tr>\n",
       "  </tbody>\n",
       "</table>\n",
       "</div>"
      ],
      "text/plain": [
       "               model     subseq      peaks     binary        mwa\n",
       "0  Polar Canny(otsu)  26.267726  28.029747  50.032096  31.810259"
      ]
     },
     "metadata": {},
     "output_type": "display_data"
    }
   ],
   "source": [
    "with_model(Model.POLAR_CANNY_EDGE_OTSU, lines, points, data_dir, ranking_url, pith_url, rings_url, mse_url)"
   ]
  },
  {
   "cell_type": "code",
   "execution_count": 32,
   "id": "cb91f2b9",
   "metadata": {},
   "outputs": [
    {
     "name": "stdout",
     "output_type": "stream",
     "text": [
      "0 2-34e23370868237a073d086fb64851017e9b2c8c9_85903b8cb210e9ad54581e7a37999bcd5fb18443_instant.jpg 87.0\n",
      "1 1-5d205d5ea6bafd3c2e038cf1139cdd5a9825388f_275cb29ffc473512447ce75ff34baa4ecea7276d_instant_210319.jpg 59.666666666666664\n",
      "2 1-11c00bf7cc3e03dc86bde8a20c8ab390b0b2f2a4_d5d5dbc0f05ff34587375f4a567740b61c4731a6_instant_210319.jpg 18.0\n",
      "3 2-8c5de8aa63e57b1e5d3a11ce4c4e2ded042b2ef3_0693ab68bf2278539a3733129d6964ba7719f7b2.jpg 22.0\n",
      "4 1-3d78e56849a16c0b17831129f6059e367574a138_8560eccb0f16269a00f2d6c6a5fab7419529c803_instant.jpg 15.0\n",
      "5 1-947a57fc1b94be1fb8a5cce439cd8112016648b1_b151d6624e13c4d31f300f909ebb63577e42a730_instant.jpg 19.0\n",
      "6 1-1f43f59e9f5ead12a13b1cd892a8757242367189_9cd89303dd466e6b178399f8d02b12aae69ec707_instant.jpg 14.0\n",
      "7 1-85fde97a518625ed46589a6be46300e36c3ad0d9_6626ee8bedc11ff89bd5a6205d10710e72ed9801_instant_210319.jpg 16.0\n",
      "8 1-e50b5a99fd9bab50130099c750df6d80f50a9b4e_fdafeaf4b1ec0417f969870e07a0d6401488df85_instant.jpg 17.0\n",
      "9 1-0d8eabdfed2cb1f0d455e5a2050d78ba39ae6cff_0665c9464c856662322717999ae3d8301ff48907_instant.jpg 11.0\n",
      "10 2-746ba8ac1301085b9f8d8d96beb3bf7f9e7a4605_ecc100d2cbc4a9fc70c2fde3eafaadb6ceb588ca_instant.jpg 29.0\n"
     ]
    },
    {
     "data": {
      "text/html": [
       "<div>\n",
       "<style scoped>\n",
       "    .dataframe tbody tr th:only-of-type {\n",
       "        vertical-align: middle;\n",
       "    }\n",
       "\n",
       "    .dataframe tbody tr th {\n",
       "        vertical-align: top;\n",
       "    }\n",
       "\n",
       "    .dataframe thead th {\n",
       "        text-align: right;\n",
       "    }\n",
       "</style>\n",
       "<table border=\"1\" class=\"dataframe\">\n",
       "  <thead>\n",
       "    <tr style=\"text-align: right;\">\n",
       "      <th></th>\n",
       "      <th>model</th>\n",
       "      <th>subseq</th>\n",
       "      <th>peaks</th>\n",
       "      <th>binary</th>\n",
       "      <th>mwa</th>\n",
       "    </tr>\n",
       "  </thead>\n",
       "  <tbody>\n",
       "    <tr>\n",
       "      <th>0</th>\n",
       "      <td>Polar Canny(triangle)</td>\n",
       "      <td>27.810764</td>\n",
       "      <td>29.56849</td>\n",
       "      <td>38.491691</td>\n",
       "      <td>26.650024</td>\n",
       "    </tr>\n",
       "  </tbody>\n",
       "</table>\n",
       "</div>"
      ],
      "text/plain": [
       "                   model     subseq     peaks     binary        mwa\n",
       "0  Polar Canny(triangle)  27.810764  29.56849  38.491691  26.650024"
      ]
     },
     "metadata": {},
     "output_type": "display_data"
    }
   ],
   "source": [
    "with_model(Model.POLAR_CANNY_EDGE_TRIANGLE, lines, points, data_dir, ranking_url, pith_url, rings_url, mse_url)"
   ]
  },
  {
   "cell_type": "code",
   "execution_count": 33,
   "id": "b9b3b7fa",
   "metadata": {},
   "outputs": [
    {
     "name": "stdout",
     "output_type": "stream",
     "text": [
      "0 2-34e23370868237a073d086fb64851017e9b2c8c9_85903b8cb210e9ad54581e7a37999bcd5fb18443_instant.jpg 87.0\n",
      "1 1-5d205d5ea6bafd3c2e038cf1139cdd5a9825388f_275cb29ffc473512447ce75ff34baa4ecea7276d_instant_210319.jpg 59.666666666666664\n",
      "2 1-11c00bf7cc3e03dc86bde8a20c8ab390b0b2f2a4_d5d5dbc0f05ff34587375f4a567740b61c4731a6_instant_210319.jpg 18.0\n",
      "3 2-8c5de8aa63e57b1e5d3a11ce4c4e2ded042b2ef3_0693ab68bf2278539a3733129d6964ba7719f7b2.jpg 22.0\n",
      "4 1-3d78e56849a16c0b17831129f6059e367574a138_8560eccb0f16269a00f2d6c6a5fab7419529c803_instant.jpg 15.0\n",
      "5 1-947a57fc1b94be1fb8a5cce439cd8112016648b1_b151d6624e13c4d31f300f909ebb63577e42a730_instant.jpg 19.0\n",
      "6 1-1f43f59e9f5ead12a13b1cd892a8757242367189_9cd89303dd466e6b178399f8d02b12aae69ec707_instant.jpg 14.0\n",
      "7 1-85fde97a518625ed46589a6be46300e36c3ad0d9_6626ee8bedc11ff89bd5a6205d10710e72ed9801_instant_210319.jpg 16.0\n",
      "8 1-e50b5a99fd9bab50130099c750df6d80f50a9b4e_fdafeaf4b1ec0417f969870e07a0d6401488df85_instant.jpg 17.0\n",
      "9 1-0d8eabdfed2cb1f0d455e5a2050d78ba39ae6cff_0665c9464c856662322717999ae3d8301ff48907_instant.jpg 11.0\n",
      "10 2-746ba8ac1301085b9f8d8d96beb3bf7f9e7a4605_ecc100d2cbc4a9fc70c2fde3eafaadb6ceb588ca_instant.jpg 29.0\n"
     ]
    },
    {
     "data": {
      "text/html": [
       "<div>\n",
       "<style scoped>\n",
       "    .dataframe tbody tr th:only-of-type {\n",
       "        vertical-align: middle;\n",
       "    }\n",
       "\n",
       "    .dataframe tbody tr th {\n",
       "        vertical-align: top;\n",
       "    }\n",
       "\n",
       "    .dataframe thead th {\n",
       "        text-align: right;\n",
       "    }\n",
       "</style>\n",
       "<table border=\"1\" class=\"dataframe\">\n",
       "  <thead>\n",
       "    <tr style=\"text-align: right;\">\n",
       "      <th></th>\n",
       "      <th>model</th>\n",
       "      <th>subseq</th>\n",
       "      <th>peaks</th>\n",
       "      <th>binary</th>\n",
       "      <th>mwa</th>\n",
       "    </tr>\n",
       "  </thead>\n",
       "  <tbody>\n",
       "    <tr>\n",
       "      <th>0</th>\n",
       "      <td>Polar Canny(manual)</td>\n",
       "      <td>27.858422</td>\n",
       "      <td>29.599213</td>\n",
       "      <td>38.317108</td>\n",
       "      <td>26.585904</td>\n",
       "    </tr>\n",
       "  </tbody>\n",
       "</table>\n",
       "</div>"
      ],
      "text/plain": [
       "                 model     subseq      peaks     binary        mwa\n",
       "0  Polar Canny(manual)  27.858422  29.599213  38.317108  26.585904"
      ]
     },
     "metadata": {},
     "output_type": "display_data"
    }
   ],
   "source": [
    "with_model(Model.POLAR_CANNY_EDGE_MANUAL, lines, points, data_dir, ranking_url, pith_url, rings_url, mse_url)"
   ]
  },
  {
   "cell_type": "code",
   "execution_count": 34,
   "id": "f3b7e6da",
   "metadata": {},
   "outputs": [
    {
     "name": "stdout",
     "output_type": "stream",
     "text": [
      "0 2-34e23370868237a073d086fb64851017e9b2c8c9_85903b8cb210e9ad54581e7a37999bcd5fb18443_instant.jpg 87.0\n",
      "1 1-5d205d5ea6bafd3c2e038cf1139cdd5a9825388f_275cb29ffc473512447ce75ff34baa4ecea7276d_instant_210319.jpg 59.666666666666664\n",
      "2 1-11c00bf7cc3e03dc86bde8a20c8ab390b0b2f2a4_d5d5dbc0f05ff34587375f4a567740b61c4731a6_instant_210319.jpg 18.0\n",
      "3 2-8c5de8aa63e57b1e5d3a11ce4c4e2ded042b2ef3_0693ab68bf2278539a3733129d6964ba7719f7b2.jpg 22.0\n",
      "4 1-3d78e56849a16c0b17831129f6059e367574a138_8560eccb0f16269a00f2d6c6a5fab7419529c803_instant.jpg 15.0\n",
      "5 1-947a57fc1b94be1fb8a5cce439cd8112016648b1_b151d6624e13c4d31f300f909ebb63577e42a730_instant.jpg 19.0\n",
      "6 1-1f43f59e9f5ead12a13b1cd892a8757242367189_9cd89303dd466e6b178399f8d02b12aae69ec707_instant.jpg 14.0\n",
      "7 1-85fde97a518625ed46589a6be46300e36c3ad0d9_6626ee8bedc11ff89bd5a6205d10710e72ed9801_instant_210319.jpg 16.0\n",
      "8 1-e50b5a99fd9bab50130099c750df6d80f50a9b4e_fdafeaf4b1ec0417f969870e07a0d6401488df85_instant.jpg 17.0\n",
      "9 1-0d8eabdfed2cb1f0d455e5a2050d78ba39ae6cff_0665c9464c856662322717999ae3d8301ff48907_instant.jpg 11.0\n",
      "10 2-746ba8ac1301085b9f8d8d96beb3bf7f9e7a4605_ecc100d2cbc4a9fc70c2fde3eafaadb6ceb588ca_instant.jpg 29.0\n"
     ]
    },
    {
     "data": {
      "text/html": [
       "<div>\n",
       "<style scoped>\n",
       "    .dataframe tbody tr th:only-of-type {\n",
       "        vertical-align: middle;\n",
       "    }\n",
       "\n",
       "    .dataframe tbody tr th {\n",
       "        vertical-align: top;\n",
       "    }\n",
       "\n",
       "    .dataframe thead th {\n",
       "        text-align: right;\n",
       "    }\n",
       "</style>\n",
       "<table border=\"1\" class=\"dataframe\">\n",
       "  <thead>\n",
       "    <tr style=\"text-align: right;\">\n",
       "      <th></th>\n",
       "      <th>model</th>\n",
       "      <th>subseq</th>\n",
       "      <th>peaks</th>\n",
       "      <th>binary</th>\n",
       "      <th>mwa</th>\n",
       "    </tr>\n",
       "  </thead>\n",
       "  <tbody>\n",
       "    <tr>\n",
       "      <th>0</th>\n",
       "      <td>Polar Canny(blur)</td>\n",
       "      <td>27.71197</td>\n",
       "      <td>29.188476</td>\n",
       "      <td>42.152218</td>\n",
       "      <td>28.377431</td>\n",
       "    </tr>\n",
       "  </tbody>\n",
       "</table>\n",
       "</div>"
      ],
      "text/plain": [
       "               model    subseq      peaks     binary        mwa\n",
       "0  Polar Canny(blur)  27.71197  29.188476  42.152218  28.377431"
      ]
     },
     "metadata": {},
     "output_type": "display_data"
    }
   ],
   "source": [
    "with_model(Model.POLAR_CANNY_EDGE_BLUR, lines, points, data_dir, ranking_url, pith_url, rings_url, mse_url)"
   ]
  },
  {
   "cell_type": "code",
   "execution_count": 35,
   "id": "d30f5bab",
   "metadata": {},
   "outputs": [
    {
     "name": "stdout",
     "output_type": "stream",
     "text": [
      "0 2-34e23370868237a073d086fb64851017e9b2c8c9_85903b8cb210e9ad54581e7a37999bcd5fb18443_instant.jpg 87.0\n",
      "1 1-5d205d5ea6bafd3c2e038cf1139cdd5a9825388f_275cb29ffc473512447ce75ff34baa4ecea7276d_instant_210319.jpg 59.666666666666664\n",
      "2 1-11c00bf7cc3e03dc86bde8a20c8ab390b0b2f2a4_d5d5dbc0f05ff34587375f4a567740b61c4731a6_instant_210319.jpg 18.0\n",
      "3 2-8c5de8aa63e57b1e5d3a11ce4c4e2ded042b2ef3_0693ab68bf2278539a3733129d6964ba7719f7b2.jpg 22.0\n",
      "4 1-3d78e56849a16c0b17831129f6059e367574a138_8560eccb0f16269a00f2d6c6a5fab7419529c803_instant.jpg 15.0\n",
      "5 1-947a57fc1b94be1fb8a5cce439cd8112016648b1_b151d6624e13c4d31f300f909ebb63577e42a730_instant.jpg 19.0\n",
      "6 1-1f43f59e9f5ead12a13b1cd892a8757242367189_9cd89303dd466e6b178399f8d02b12aae69ec707_instant.jpg 14.0\n",
      "7 1-85fde97a518625ed46589a6be46300e36c3ad0d9_6626ee8bedc11ff89bd5a6205d10710e72ed9801_instant_210319.jpg 16.0\n",
      "8 1-e50b5a99fd9bab50130099c750df6d80f50a9b4e_fdafeaf4b1ec0417f969870e07a0d6401488df85_instant.jpg 17.0\n",
      "9 1-0d8eabdfed2cb1f0d455e5a2050d78ba39ae6cff_0665c9464c856662322717999ae3d8301ff48907_instant.jpg 11.0\n",
      "10 2-746ba8ac1301085b9f8d8d96beb3bf7f9e7a4605_ecc100d2cbc4a9fc70c2fde3eafaadb6ceb588ca_instant.jpg 29.0\n"
     ]
    },
    {
     "data": {
      "text/html": [
       "<div>\n",
       "<style scoped>\n",
       "    .dataframe tbody tr th:only-of-type {\n",
       "        vertical-align: middle;\n",
       "    }\n",
       "\n",
       "    .dataframe tbody tr th {\n",
       "        vertical-align: top;\n",
       "    }\n",
       "\n",
       "    .dataframe thead th {\n",
       "        text-align: right;\n",
       "    }\n",
       "</style>\n",
       "<table border=\"1\" class=\"dataframe\">\n",
       "  <thead>\n",
       "    <tr style=\"text-align: right;\">\n",
       "      <th></th>\n",
       "      <th>model</th>\n",
       "      <th>subseq</th>\n",
       "      <th>peaks</th>\n",
       "      <th>binary</th>\n",
       "      <th>mwa</th>\n",
       "    </tr>\n",
       "  </thead>\n",
       "  <tbody>\n",
       "    <tr>\n",
       "      <th>0</th>\n",
       "      <td>Polar Canny(blur otsu)</td>\n",
       "      <td>27.946992</td>\n",
       "      <td>29.415954</td>\n",
       "      <td>40.424835</td>\n",
       "      <td>27.457115</td>\n",
       "    </tr>\n",
       "  </tbody>\n",
       "</table>\n",
       "</div>"
      ],
      "text/plain": [
       "                    model     subseq      peaks     binary        mwa\n",
       "0  Polar Canny(blur otsu)  27.946992  29.415954  40.424835  27.457115"
      ]
     },
     "metadata": {},
     "output_type": "display_data"
    }
   ],
   "source": [
    "with_model(Model.POLAR_CANNY_EDGE_BLUR_OTSU, lines, points, data_dir, ranking_url, pith_url, rings_url, mse_url)"
   ]
  },
  {
   "cell_type": "code",
   "execution_count": 36,
   "id": "4a5752ee",
   "metadata": {},
   "outputs": [
    {
     "name": "stdout",
     "output_type": "stream",
     "text": [
      "0 2-34e23370868237a073d086fb64851017e9b2c8c9_85903b8cb210e9ad54581e7a37999bcd5fb18443_instant.jpg 87.0\n",
      "1 1-5d205d5ea6bafd3c2e038cf1139cdd5a9825388f_275cb29ffc473512447ce75ff34baa4ecea7276d_instant_210319.jpg 59.666666666666664\n",
      "2 1-11c00bf7cc3e03dc86bde8a20c8ab390b0b2f2a4_d5d5dbc0f05ff34587375f4a567740b61c4731a6_instant_210319.jpg 18.0\n",
      "3 2-8c5de8aa63e57b1e5d3a11ce4c4e2ded042b2ef3_0693ab68bf2278539a3733129d6964ba7719f7b2.jpg 22.0\n",
      "4 1-3d78e56849a16c0b17831129f6059e367574a138_8560eccb0f16269a00f2d6c6a5fab7419529c803_instant.jpg 15.0\n",
      "5 1-947a57fc1b94be1fb8a5cce439cd8112016648b1_b151d6624e13c4d31f300f909ebb63577e42a730_instant.jpg 19.0\n",
      "6 1-1f43f59e9f5ead12a13b1cd892a8757242367189_9cd89303dd466e6b178399f8d02b12aae69ec707_instant.jpg 14.0\n",
      "7 1-85fde97a518625ed46589a6be46300e36c3ad0d9_6626ee8bedc11ff89bd5a6205d10710e72ed9801_instant_210319.jpg 16.0\n",
      "8 1-e50b5a99fd9bab50130099c750df6d80f50a9b4e_fdafeaf4b1ec0417f969870e07a0d6401488df85_instant.jpg 17.0\n",
      "9 1-0d8eabdfed2cb1f0d455e5a2050d78ba39ae6cff_0665c9464c856662322717999ae3d8301ff48907_instant.jpg 11.0\n",
      "10 2-746ba8ac1301085b9f8d8d96beb3bf7f9e7a4605_ecc100d2cbc4a9fc70c2fde3eafaadb6ceb588ca_instant.jpg 29.0\n"
     ]
    },
    {
     "data": {
      "text/html": [
       "<div>\n",
       "<style scoped>\n",
       "    .dataframe tbody tr th:only-of-type {\n",
       "        vertical-align: middle;\n",
       "    }\n",
       "\n",
       "    .dataframe tbody tr th {\n",
       "        vertical-align: top;\n",
       "    }\n",
       "\n",
       "    .dataframe thead th {\n",
       "        text-align: right;\n",
       "    }\n",
       "</style>\n",
       "<table border=\"1\" class=\"dataframe\">\n",
       "  <thead>\n",
       "    <tr style=\"text-align: right;\">\n",
       "      <th></th>\n",
       "      <th>model</th>\n",
       "      <th>subseq</th>\n",
       "      <th>peaks</th>\n",
       "      <th>binary</th>\n",
       "      <th>mwa</th>\n",
       "    </tr>\n",
       "  </thead>\n",
       "  <tbody>\n",
       "    <tr>\n",
       "      <th>0</th>\n",
       "      <td>Polar Canny(blur triangle)</td>\n",
       "      <td>30.739274</td>\n",
       "      <td>31.68142</td>\n",
       "      <td>29.187805</td>\n",
       "      <td>25.304704</td>\n",
       "    </tr>\n",
       "  </tbody>\n",
       "</table>\n",
       "</div>"
      ],
      "text/plain": [
       "                        model     subseq     peaks     binary        mwa\n",
       "0  Polar Canny(blur triangle)  30.739274  31.68142  29.187805  25.304704"
      ]
     },
     "metadata": {},
     "output_type": "display_data"
    }
   ],
   "source": [
    "with_model(Model.POLAR_CANNY_EDGE_BLUR_TRIANGLE, lines, points, data_dir, ranking_url, pith_url, rings_url, mse_url)"
   ]
  },
  {
   "cell_type": "code",
   "execution_count": 37,
   "id": "d1eef189",
   "metadata": {},
   "outputs": [
    {
     "name": "stdout",
     "output_type": "stream",
     "text": [
      "0 2-34e23370868237a073d086fb64851017e9b2c8c9_85903b8cb210e9ad54581e7a37999bcd5fb18443_instant.jpg 87.0\n",
      "1 1-5d205d5ea6bafd3c2e038cf1139cdd5a9825388f_275cb29ffc473512447ce75ff34baa4ecea7276d_instant_210319.jpg 59.666666666666664\n",
      "2 1-11c00bf7cc3e03dc86bde8a20c8ab390b0b2f2a4_d5d5dbc0f05ff34587375f4a567740b61c4731a6_instant_210319.jpg 18.0\n",
      "3 2-8c5de8aa63e57b1e5d3a11ce4c4e2ded042b2ef3_0693ab68bf2278539a3733129d6964ba7719f7b2.jpg 22.0\n",
      "4 1-3d78e56849a16c0b17831129f6059e367574a138_8560eccb0f16269a00f2d6c6a5fab7419529c803_instant.jpg 15.0\n",
      "5 1-947a57fc1b94be1fb8a5cce439cd8112016648b1_b151d6624e13c4d31f300f909ebb63577e42a730_instant.jpg 19.0\n",
      "6 1-1f43f59e9f5ead12a13b1cd892a8757242367189_9cd89303dd466e6b178399f8d02b12aae69ec707_instant.jpg 14.0\n",
      "7 1-85fde97a518625ed46589a6be46300e36c3ad0d9_6626ee8bedc11ff89bd5a6205d10710e72ed9801_instant_210319.jpg 16.0\n",
      "8 1-e50b5a99fd9bab50130099c750df6d80f50a9b4e_fdafeaf4b1ec0417f969870e07a0d6401488df85_instant.jpg 17.0\n",
      "9 1-0d8eabdfed2cb1f0d455e5a2050d78ba39ae6cff_0665c9464c856662322717999ae3d8301ff48907_instant.jpg 11.0\n",
      "10 2-746ba8ac1301085b9f8d8d96beb3bf7f9e7a4605_ecc100d2cbc4a9fc70c2fde3eafaadb6ceb588ca_instant.jpg 29.0\n"
     ]
    },
    {
     "data": {
      "text/html": [
       "<div>\n",
       "<style scoped>\n",
       "    .dataframe tbody tr th:only-of-type {\n",
       "        vertical-align: middle;\n",
       "    }\n",
       "\n",
       "    .dataframe tbody tr th {\n",
       "        vertical-align: top;\n",
       "    }\n",
       "\n",
       "    .dataframe thead th {\n",
       "        text-align: right;\n",
       "    }\n",
       "</style>\n",
       "<table border=\"1\" class=\"dataframe\">\n",
       "  <thead>\n",
       "    <tr style=\"text-align: right;\">\n",
       "      <th></th>\n",
       "      <th>model</th>\n",
       "      <th>subseq</th>\n",
       "      <th>peaks</th>\n",
       "      <th>binary</th>\n",
       "      <th>mwa</th>\n",
       "    </tr>\n",
       "  </thead>\n",
       "  <tbody>\n",
       "    <tr>\n",
       "      <th>0</th>\n",
       "      <td>Polar Canny(blur manual)</td>\n",
       "      <td>30.778199</td>\n",
       "      <td>31.708142</td>\n",
       "      <td>29.063566</td>\n",
       "      <td>25.32216</td>\n",
       "    </tr>\n",
       "  </tbody>\n",
       "</table>\n",
       "</div>"
      ],
      "text/plain": [
       "                      model     subseq      peaks     binary       mwa\n",
       "0  Polar Canny(blur manual)  30.778199  31.708142  29.063566  25.32216"
      ]
     },
     "metadata": {},
     "output_type": "display_data"
    }
   ],
   "source": [
    "with_model(Model.POLAR_CANNY_EDGE_BLUR_MANUAL, lines, points, data_dir, ranking_url, pith_url, rings_url, mse_url)"
   ]
  },
  {
   "cell_type": "code",
   "execution_count": 38,
   "id": "a2c63b76",
   "metadata": {},
   "outputs": [
    {
     "name": "stdout",
     "output_type": "stream",
     "text": [
      "0 2-34e23370868237a073d086fb64851017e9b2c8c9_85903b8cb210e9ad54581e7a37999bcd5fb18443_instant.jpg 87.0\n",
      "1 1-5d205d5ea6bafd3c2e038cf1139cdd5a9825388f_275cb29ffc473512447ce75ff34baa4ecea7276d_instant_210319.jpg 59.666666666666664\n",
      "2 1-11c00bf7cc3e03dc86bde8a20c8ab390b0b2f2a4_d5d5dbc0f05ff34587375f4a567740b61c4731a6_instant_210319.jpg 18.0\n",
      "3 2-8c5de8aa63e57b1e5d3a11ce4c4e2ded042b2ef3_0693ab68bf2278539a3733129d6964ba7719f7b2.jpg 22.0\n",
      "4 1-3d78e56849a16c0b17831129f6059e367574a138_8560eccb0f16269a00f2d6c6a5fab7419529c803_instant.jpg 15.0\n",
      "5 1-947a57fc1b94be1fb8a5cce439cd8112016648b1_b151d6624e13c4d31f300f909ebb63577e42a730_instant.jpg 19.0\n",
      "6 1-1f43f59e9f5ead12a13b1cd892a8757242367189_9cd89303dd466e6b178399f8d02b12aae69ec707_instant.jpg 14.0\n",
      "7 1-85fde97a518625ed46589a6be46300e36c3ad0d9_6626ee8bedc11ff89bd5a6205d10710e72ed9801_instant_210319.jpg 16.0\n",
      "8 1-e50b5a99fd9bab50130099c750df6d80f50a9b4e_fdafeaf4b1ec0417f969870e07a0d6401488df85_instant.jpg 17.0\n",
      "9 1-0d8eabdfed2cb1f0d455e5a2050d78ba39ae6cff_0665c9464c856662322717999ae3d8301ff48907_instant.jpg 11.0\n",
      "10 2-746ba8ac1301085b9f8d8d96beb3bf7f9e7a4605_ecc100d2cbc4a9fc70c2fde3eafaadb6ceb588ca_instant.jpg 29.0\n"
     ]
    },
    {
     "data": {
      "text/html": [
       "<div>\n",
       "<style scoped>\n",
       "    .dataframe tbody tr th:only-of-type {\n",
       "        vertical-align: middle;\n",
       "    }\n",
       "\n",
       "    .dataframe tbody tr th {\n",
       "        vertical-align: top;\n",
       "    }\n",
       "\n",
       "    .dataframe thead th {\n",
       "        text-align: right;\n",
       "    }\n",
       "</style>\n",
       "<table border=\"1\" class=\"dataframe\">\n",
       "  <thead>\n",
       "    <tr style=\"text-align: right;\">\n",
       "      <th></th>\n",
       "      <th>model</th>\n",
       "      <th>subseq</th>\n",
       "      <th>peaks</th>\n",
       "      <th>binary</th>\n",
       "      <th>mwa</th>\n",
       "    </tr>\n",
       "  </thead>\n",
       "  <tbody>\n",
       "    <tr>\n",
       "      <th>0</th>\n",
       "      <td>Polar Laplacian</td>\n",
       "      <td>53.252333</td>\n",
       "      <td>26.385606</td>\n",
       "      <td>94.804332</td>\n",
       "      <td>42.130301</td>\n",
       "    </tr>\n",
       "  </tbody>\n",
       "</table>\n",
       "</div>"
      ],
      "text/plain": [
       "             model     subseq      peaks     binary        mwa\n",
       "0  Polar Laplacian  53.252333  26.385606  94.804332  42.130301"
      ]
     },
     "metadata": {},
     "output_type": "display_data"
    }
   ],
   "source": [
    "with_model(Model.POLAR_LAPLACIAN_EDGE, lines, points, data_dir, ranking_url, pith_url, rings_url, mse_url)"
   ]
  },
  {
   "cell_type": "code",
   "execution_count": 39,
   "id": "055f80d8",
   "metadata": {},
   "outputs": [
    {
     "name": "stdout",
     "output_type": "stream",
     "text": [
      "0 2-34e23370868237a073d086fb64851017e9b2c8c9_85903b8cb210e9ad54581e7a37999bcd5fb18443_instant.jpg 87.0\n",
      "1 1-5d205d5ea6bafd3c2e038cf1139cdd5a9825388f_275cb29ffc473512447ce75ff34baa4ecea7276d_instant_210319.jpg 59.666666666666664\n",
      "2 1-11c00bf7cc3e03dc86bde8a20c8ab390b0b2f2a4_d5d5dbc0f05ff34587375f4a567740b61c4731a6_instant_210319.jpg 18.0\n",
      "3 2-8c5de8aa63e57b1e5d3a11ce4c4e2ded042b2ef3_0693ab68bf2278539a3733129d6964ba7719f7b2.jpg 22.0\n",
      "4 1-3d78e56849a16c0b17831129f6059e367574a138_8560eccb0f16269a00f2d6c6a5fab7419529c803_instant.jpg 15.0\n",
      "5 1-947a57fc1b94be1fb8a5cce439cd8112016648b1_b151d6624e13c4d31f300f909ebb63577e42a730_instant.jpg 19.0\n",
      "6 1-1f43f59e9f5ead12a13b1cd892a8757242367189_9cd89303dd466e6b178399f8d02b12aae69ec707_instant.jpg 14.0\n",
      "7 1-85fde97a518625ed46589a6be46300e36c3ad0d9_6626ee8bedc11ff89bd5a6205d10710e72ed9801_instant_210319.jpg 16.0\n",
      "8 1-e50b5a99fd9bab50130099c750df6d80f50a9b4e_fdafeaf4b1ec0417f969870e07a0d6401488df85_instant.jpg 17.0\n",
      "9 1-0d8eabdfed2cb1f0d455e5a2050d78ba39ae6cff_0665c9464c856662322717999ae3d8301ff48907_instant.jpg 11.0\n",
      "10 2-746ba8ac1301085b9f8d8d96beb3bf7f9e7a4605_ecc100d2cbc4a9fc70c2fde3eafaadb6ceb588ca_instant.jpg 29.0\n"
     ]
    },
    {
     "data": {
      "text/html": [
       "<div>\n",
       "<style scoped>\n",
       "    .dataframe tbody tr th:only-of-type {\n",
       "        vertical-align: middle;\n",
       "    }\n",
       "\n",
       "    .dataframe tbody tr th {\n",
       "        vertical-align: top;\n",
       "    }\n",
       "\n",
       "    .dataframe thead th {\n",
       "        text-align: right;\n",
       "    }\n",
       "</style>\n",
       "<table border=\"1\" class=\"dataframe\">\n",
       "  <thead>\n",
       "    <tr style=\"text-align: right;\">\n",
       "      <th></th>\n",
       "      <th>model</th>\n",
       "      <th>subseq</th>\n",
       "      <th>peaks</th>\n",
       "      <th>binary</th>\n",
       "      <th>mwa</th>\n",
       "    </tr>\n",
       "  </thead>\n",
       "  <tbody>\n",
       "    <tr>\n",
       "      <th>0</th>\n",
       "      <td>Polar Laplacian(blur)</td>\n",
       "      <td>84.880494</td>\n",
       "      <td>25.414803</td>\n",
       "      <td>111.570542</td>\n",
       "      <td>31.442804</td>\n",
       "    </tr>\n",
       "  </tbody>\n",
       "</table>\n",
       "</div>"
      ],
      "text/plain": [
       "                   model     subseq      peaks      binary        mwa\n",
       "0  Polar Laplacian(blur)  84.880494  25.414803  111.570542  31.442804"
      ]
     },
     "metadata": {},
     "output_type": "display_data"
    }
   ],
   "source": [
    "with_model(Model.POLAR_LAPLACIAN_EDGE_BLUR, lines, points, data_dir, ranking_url, pith_url, rings_url, mse_url)"
   ]
  },
  {
   "cell_type": "code",
   "execution_count": null,
   "id": "717b358e",
   "metadata": {},
   "outputs": [],
   "source": []
  },
  {
   "cell_type": "code",
   "execution_count": 40,
   "id": "4000d64b",
   "metadata": {},
   "outputs": [
    {
     "name": "stdout",
     "output_type": "stream",
     "text": [
      "0 2-34e23370868237a073d086fb64851017e9b2c8c9_85903b8cb210e9ad54581e7a37999bcd5fb18443_instant.jpg 87.0\n",
      "1 1-5d205d5ea6bafd3c2e038cf1139cdd5a9825388f_275cb29ffc473512447ce75ff34baa4ecea7276d_instant_210319.jpg 59.666666666666664\n",
      "2 1-11c00bf7cc3e03dc86bde8a20c8ab390b0b2f2a4_d5d5dbc0f05ff34587375f4a567740b61c4731a6_instant_210319.jpg 18.0\n",
      "3 2-8c5de8aa63e57b1e5d3a11ce4c4e2ded042b2ef3_0693ab68bf2278539a3733129d6964ba7719f7b2.jpg 22.0\n",
      "4 1-3d78e56849a16c0b17831129f6059e367574a138_8560eccb0f16269a00f2d6c6a5fab7419529c803_instant.jpg 15.0\n",
      "5 1-947a57fc1b94be1fb8a5cce439cd8112016648b1_b151d6624e13c4d31f300f909ebb63577e42a730_instant.jpg 19.0\n",
      "6 1-1f43f59e9f5ead12a13b1cd892a8757242367189_9cd89303dd466e6b178399f8d02b12aae69ec707_instant.jpg 14.0\n",
      "7 1-85fde97a518625ed46589a6be46300e36c3ad0d9_6626ee8bedc11ff89bd5a6205d10710e72ed9801_instant_210319.jpg 16.0\n",
      "8 1-e50b5a99fd9bab50130099c750df6d80f50a9b4e_fdafeaf4b1ec0417f969870e07a0d6401488df85_instant.jpg 17.0\n",
      "9 1-0d8eabdfed2cb1f0d455e5a2050d78ba39ae6cff_0665c9464c856662322717999ae3d8301ff48907_instant.jpg 11.0\n",
      "10 2-746ba8ac1301085b9f8d8d96beb3bf7f9e7a4605_ecc100d2cbc4a9fc70c2fde3eafaadb6ceb588ca_instant.jpg 29.0\n"
     ]
    },
    {
     "data": {
      "text/html": [
       "<div>\n",
       "<style scoped>\n",
       "    .dataframe tbody tr th:only-of-type {\n",
       "        vertical-align: middle;\n",
       "    }\n",
       "\n",
       "    .dataframe tbody tr th {\n",
       "        vertical-align: top;\n",
       "    }\n",
       "\n",
       "    .dataframe thead th {\n",
       "        text-align: right;\n",
       "    }\n",
       "</style>\n",
       "<table border=\"1\" class=\"dataframe\">\n",
       "  <thead>\n",
       "    <tr style=\"text-align: right;\">\n",
       "      <th></th>\n",
       "      <th>model</th>\n",
       "      <th>subseq</th>\n",
       "      <th>peaks</th>\n",
       "      <th>binary</th>\n",
       "      <th>mwa</th>\n",
       "    </tr>\n",
       "  </thead>\n",
       "  <tbody>\n",
       "    <tr>\n",
       "      <th>0</th>\n",
       "      <td>Polar Pith Sobel</td>\n",
       "      <td>51.57974</td>\n",
       "      <td>23.588078</td>\n",
       "      <td>85.71164</td>\n",
       "      <td>29.783381</td>\n",
       "    </tr>\n",
       "  </tbody>\n",
       "</table>\n",
       "</div>"
      ],
      "text/plain": [
       "              model    subseq      peaks    binary        mwa\n",
       "0  Polar Pith Sobel  51.57974  23.588078  85.71164  29.783381"
      ]
     },
     "metadata": {},
     "output_type": "display_data"
    }
   ],
   "source": [
    "with_model(Model.POLAR_PITH_SOBEL_EDGE, lines, points, data_dir, ranking_url, pith_url, rings_url, mse_url)"
   ]
  },
  {
   "cell_type": "code",
   "execution_count": 41,
   "id": "eec08ac6",
   "metadata": {},
   "outputs": [
    {
     "name": "stdout",
     "output_type": "stream",
     "text": [
      "0 2-34e23370868237a073d086fb64851017e9b2c8c9_85903b8cb210e9ad54581e7a37999bcd5fb18443_instant.jpg 87.0\n",
      "1 1-5d205d5ea6bafd3c2e038cf1139cdd5a9825388f_275cb29ffc473512447ce75ff34baa4ecea7276d_instant_210319.jpg 59.666666666666664\n",
      "2 1-11c00bf7cc3e03dc86bde8a20c8ab390b0b2f2a4_d5d5dbc0f05ff34587375f4a567740b61c4731a6_instant_210319.jpg 18.0\n",
      "3 2-8c5de8aa63e57b1e5d3a11ce4c4e2ded042b2ef3_0693ab68bf2278539a3733129d6964ba7719f7b2.jpg 22.0\n",
      "4 1-3d78e56849a16c0b17831129f6059e367574a138_8560eccb0f16269a00f2d6c6a5fab7419529c803_instant.jpg 15.0\n",
      "5 1-947a57fc1b94be1fb8a5cce439cd8112016648b1_b151d6624e13c4d31f300f909ebb63577e42a730_instant.jpg 19.0\n",
      "6 1-1f43f59e9f5ead12a13b1cd892a8757242367189_9cd89303dd466e6b178399f8d02b12aae69ec707_instant.jpg 14.0\n",
      "7 1-85fde97a518625ed46589a6be46300e36c3ad0d9_6626ee8bedc11ff89bd5a6205d10710e72ed9801_instant_210319.jpg 16.0\n",
      "8 1-e50b5a99fd9bab50130099c750df6d80f50a9b4e_fdafeaf4b1ec0417f969870e07a0d6401488df85_instant.jpg 17.0\n",
      "9 1-0d8eabdfed2cb1f0d455e5a2050d78ba39ae6cff_0665c9464c856662322717999ae3d8301ff48907_instant.jpg 11.0\n",
      "10 2-746ba8ac1301085b9f8d8d96beb3bf7f9e7a4605_ecc100d2cbc4a9fc70c2fde3eafaadb6ceb588ca_instant.jpg 29.0\n"
     ]
    },
    {
     "data": {
      "text/html": [
       "<div>\n",
       "<style scoped>\n",
       "    .dataframe tbody tr th:only-of-type {\n",
       "        vertical-align: middle;\n",
       "    }\n",
       "\n",
       "    .dataframe tbody tr th {\n",
       "        vertical-align: top;\n",
       "    }\n",
       "\n",
       "    .dataframe thead th {\n",
       "        text-align: right;\n",
       "    }\n",
       "</style>\n",
       "<table border=\"1\" class=\"dataframe\">\n",
       "  <thead>\n",
       "    <tr style=\"text-align: right;\">\n",
       "      <th></th>\n",
       "      <th>model</th>\n",
       "      <th>subseq</th>\n",
       "      <th>peaks</th>\n",
       "      <th>binary</th>\n",
       "      <th>mwa</th>\n",
       "    </tr>\n",
       "  </thead>\n",
       "  <tbody>\n",
       "    <tr>\n",
       "      <th>0</th>\n",
       "      <td>Polar Pith Sobel(blur)</td>\n",
       "      <td>55.64025</td>\n",
       "      <td>24.569379</td>\n",
       "      <td>83.596608</td>\n",
       "      <td>25.190339</td>\n",
       "    </tr>\n",
       "  </tbody>\n",
       "</table>\n",
       "</div>"
      ],
      "text/plain": [
       "                    model    subseq      peaks     binary        mwa\n",
       "0  Polar Pith Sobel(blur)  55.64025  24.569379  83.596608  25.190339"
      ]
     },
     "metadata": {},
     "output_type": "display_data"
    }
   ],
   "source": [
    "with_model(Model.POLAR_PITH_SOBEL_EDGE_BLUR, lines, points, data_dir, ranking_url, pith_url, rings_url, mse_url)"
   ]
  },
  {
   "cell_type": "code",
   "execution_count": 42,
   "id": "97fb7a77",
   "metadata": {},
   "outputs": [
    {
     "name": "stdout",
     "output_type": "stream",
     "text": [
      "0 2-34e23370868237a073d086fb64851017e9b2c8c9_85903b8cb210e9ad54581e7a37999bcd5fb18443_instant.jpg 87.0\n",
      "1 1-5d205d5ea6bafd3c2e038cf1139cdd5a9825388f_275cb29ffc473512447ce75ff34baa4ecea7276d_instant_210319.jpg 59.666666666666664\n",
      "2 1-11c00bf7cc3e03dc86bde8a20c8ab390b0b2f2a4_d5d5dbc0f05ff34587375f4a567740b61c4731a6_instant_210319.jpg 18.0\n",
      "3 2-8c5de8aa63e57b1e5d3a11ce4c4e2ded042b2ef3_0693ab68bf2278539a3733129d6964ba7719f7b2.jpg 22.0\n",
      "4 1-3d78e56849a16c0b17831129f6059e367574a138_8560eccb0f16269a00f2d6c6a5fab7419529c803_instant.jpg 15.0\n",
      "5 1-947a57fc1b94be1fb8a5cce439cd8112016648b1_b151d6624e13c4d31f300f909ebb63577e42a730_instant.jpg 19.0\n",
      "6 1-1f43f59e9f5ead12a13b1cd892a8757242367189_9cd89303dd466e6b178399f8d02b12aae69ec707_instant.jpg 14.0\n",
      "7 1-85fde97a518625ed46589a6be46300e36c3ad0d9_6626ee8bedc11ff89bd5a6205d10710e72ed9801_instant_210319.jpg 16.0\n",
      "8 1-e50b5a99fd9bab50130099c750df6d80f50a9b4e_fdafeaf4b1ec0417f969870e07a0d6401488df85_instant.jpg 17.0\n",
      "9 1-0d8eabdfed2cb1f0d455e5a2050d78ba39ae6cff_0665c9464c856662322717999ae3d8301ff48907_instant.jpg 11.0\n",
      "10 2-746ba8ac1301085b9f8d8d96beb3bf7f9e7a4605_ecc100d2cbc4a9fc70c2fde3eafaadb6ceb588ca_instant.jpg 29.0\n"
     ]
    },
    {
     "data": {
      "text/html": [
       "<div>\n",
       "<style scoped>\n",
       "    .dataframe tbody tr th:only-of-type {\n",
       "        vertical-align: middle;\n",
       "    }\n",
       "\n",
       "    .dataframe tbody tr th {\n",
       "        vertical-align: top;\n",
       "    }\n",
       "\n",
       "    .dataframe thead th {\n",
       "        text-align: right;\n",
       "    }\n",
       "</style>\n",
       "<table border=\"1\" class=\"dataframe\">\n",
       "  <thead>\n",
       "    <tr style=\"text-align: right;\">\n",
       "      <th></th>\n",
       "      <th>model</th>\n",
       "      <th>subseq</th>\n",
       "      <th>peaks</th>\n",
       "      <th>binary</th>\n",
       "      <th>mwa</th>\n",
       "    </tr>\n",
       "  </thead>\n",
       "  <tbody>\n",
       "    <tr>\n",
       "      <th>0</th>\n",
       "      <td>Polar Pith Canny</td>\n",
       "      <td>25.60279</td>\n",
       "      <td>27.254323</td>\n",
       "      <td>50.8748</td>\n",
       "      <td>31.228944</td>\n",
       "    </tr>\n",
       "  </tbody>\n",
       "</table>\n",
       "</div>"
      ],
      "text/plain": [
       "              model    subseq      peaks   binary        mwa\n",
       "0  Polar Pith Canny  25.60279  27.254323  50.8748  31.228944"
      ]
     },
     "metadata": {},
     "output_type": "display_data"
    }
   ],
   "source": [
    "with_model(Model.POLAR_PITH_CANNY_EDGE, lines, points, data_dir, ranking_url, pith_url, rings_url, mse_url)"
   ]
  },
  {
   "cell_type": "code",
   "execution_count": 43,
   "id": "016625dd",
   "metadata": {},
   "outputs": [
    {
     "name": "stdout",
     "output_type": "stream",
     "text": [
      "0 2-34e23370868237a073d086fb64851017e9b2c8c9_85903b8cb210e9ad54581e7a37999bcd5fb18443_instant.jpg 87.0\n",
      "1 1-5d205d5ea6bafd3c2e038cf1139cdd5a9825388f_275cb29ffc473512447ce75ff34baa4ecea7276d_instant_210319.jpg 59.666666666666664\n",
      "2 1-11c00bf7cc3e03dc86bde8a20c8ab390b0b2f2a4_d5d5dbc0f05ff34587375f4a567740b61c4731a6_instant_210319.jpg 18.0\n",
      "3 2-8c5de8aa63e57b1e5d3a11ce4c4e2ded042b2ef3_0693ab68bf2278539a3733129d6964ba7719f7b2.jpg 22.0\n",
      "4 1-3d78e56849a16c0b17831129f6059e367574a138_8560eccb0f16269a00f2d6c6a5fab7419529c803_instant.jpg 15.0\n",
      "5 1-947a57fc1b94be1fb8a5cce439cd8112016648b1_b151d6624e13c4d31f300f909ebb63577e42a730_instant.jpg 19.0\n",
      "6 1-1f43f59e9f5ead12a13b1cd892a8757242367189_9cd89303dd466e6b178399f8d02b12aae69ec707_instant.jpg 14.0\n",
      "7 1-85fde97a518625ed46589a6be46300e36c3ad0d9_6626ee8bedc11ff89bd5a6205d10710e72ed9801_instant_210319.jpg 16.0\n",
      "8 1-e50b5a99fd9bab50130099c750df6d80f50a9b4e_fdafeaf4b1ec0417f969870e07a0d6401488df85_instant.jpg 17.0\n",
      "9 1-0d8eabdfed2cb1f0d455e5a2050d78ba39ae6cff_0665c9464c856662322717999ae3d8301ff48907_instant.jpg 11.0\n",
      "10 2-746ba8ac1301085b9f8d8d96beb3bf7f9e7a4605_ecc100d2cbc4a9fc70c2fde3eafaadb6ceb588ca_instant.jpg 29.0\n"
     ]
    },
    {
     "data": {
      "text/html": [
       "<div>\n",
       "<style scoped>\n",
       "    .dataframe tbody tr th:only-of-type {\n",
       "        vertical-align: middle;\n",
       "    }\n",
       "\n",
       "    .dataframe tbody tr th {\n",
       "        vertical-align: top;\n",
       "    }\n",
       "\n",
       "    .dataframe thead th {\n",
       "        text-align: right;\n",
       "    }\n",
       "</style>\n",
       "<table border=\"1\" class=\"dataframe\">\n",
       "  <thead>\n",
       "    <tr style=\"text-align: right;\">\n",
       "      <th></th>\n",
       "      <th>model</th>\n",
       "      <th>subseq</th>\n",
       "      <th>peaks</th>\n",
       "      <th>binary</th>\n",
       "      <th>mwa</th>\n",
       "    </tr>\n",
       "  </thead>\n",
       "  <tbody>\n",
       "    <tr>\n",
       "      <th>0</th>\n",
       "      <td>Polar Pith Canny(otsu)</td>\n",
       "      <td>25.739936</td>\n",
       "      <td>27.46041</td>\n",
       "      <td>48.975576</td>\n",
       "      <td>30.09504</td>\n",
       "    </tr>\n",
       "  </tbody>\n",
       "</table>\n",
       "</div>"
      ],
      "text/plain": [
       "                    model     subseq     peaks     binary       mwa\n",
       "0  Polar Pith Canny(otsu)  25.739936  27.46041  48.975576  30.09504"
      ]
     },
     "metadata": {},
     "output_type": "display_data"
    }
   ],
   "source": [
    "with_model(Model.POLAR_PITH_CANNY_EDGE_OTSU, lines, points, data_dir, ranking_url, pith_url, rings_url, mse_url)"
   ]
  },
  {
   "cell_type": "code",
   "execution_count": 44,
   "id": "300f771c",
   "metadata": {},
   "outputs": [
    {
     "name": "stdout",
     "output_type": "stream",
     "text": [
      "0 2-34e23370868237a073d086fb64851017e9b2c8c9_85903b8cb210e9ad54581e7a37999bcd5fb18443_instant.jpg 87.0\n",
      "1 1-5d205d5ea6bafd3c2e038cf1139cdd5a9825388f_275cb29ffc473512447ce75ff34baa4ecea7276d_instant_210319.jpg 59.666666666666664\n",
      "2 1-11c00bf7cc3e03dc86bde8a20c8ab390b0b2f2a4_d5d5dbc0f05ff34587375f4a567740b61c4731a6_instant_210319.jpg 18.0\n",
      "3 2-8c5de8aa63e57b1e5d3a11ce4c4e2ded042b2ef3_0693ab68bf2278539a3733129d6964ba7719f7b2.jpg 22.0\n",
      "4 1-3d78e56849a16c0b17831129f6059e367574a138_8560eccb0f16269a00f2d6c6a5fab7419529c803_instant.jpg 15.0\n",
      "5 1-947a57fc1b94be1fb8a5cce439cd8112016648b1_b151d6624e13c4d31f300f909ebb63577e42a730_instant.jpg 19.0\n",
      "6 1-1f43f59e9f5ead12a13b1cd892a8757242367189_9cd89303dd466e6b178399f8d02b12aae69ec707_instant.jpg 14.0\n",
      "7 1-85fde97a518625ed46589a6be46300e36c3ad0d9_6626ee8bedc11ff89bd5a6205d10710e72ed9801_instant_210319.jpg 16.0\n",
      "8 1-e50b5a99fd9bab50130099c750df6d80f50a9b4e_fdafeaf4b1ec0417f969870e07a0d6401488df85_instant.jpg 17.0\n",
      "9 1-0d8eabdfed2cb1f0d455e5a2050d78ba39ae6cff_0665c9464c856662322717999ae3d8301ff48907_instant.jpg 11.0\n",
      "10 2-746ba8ac1301085b9f8d8d96beb3bf7f9e7a4605_ecc100d2cbc4a9fc70c2fde3eafaadb6ceb588ca_instant.jpg 29.0\n"
     ]
    },
    {
     "data": {
      "text/html": [
       "<div>\n",
       "<style scoped>\n",
       "    .dataframe tbody tr th:only-of-type {\n",
       "        vertical-align: middle;\n",
       "    }\n",
       "\n",
       "    .dataframe tbody tr th {\n",
       "        vertical-align: top;\n",
       "    }\n",
       "\n",
       "    .dataframe thead th {\n",
       "        text-align: right;\n",
       "    }\n",
       "</style>\n",
       "<table border=\"1\" class=\"dataframe\">\n",
       "  <thead>\n",
       "    <tr style=\"text-align: right;\">\n",
       "      <th></th>\n",
       "      <th>model</th>\n",
       "      <th>subseq</th>\n",
       "      <th>peaks</th>\n",
       "      <th>binary</th>\n",
       "      <th>mwa</th>\n",
       "    </tr>\n",
       "  </thead>\n",
       "  <tbody>\n",
       "    <tr>\n",
       "      <th>0</th>\n",
       "      <td>Polar Pith Canny(triangle)</td>\n",
       "      <td>27.567405</td>\n",
       "      <td>29.216911</td>\n",
       "      <td>36.825651</td>\n",
       "      <td>25.101256</td>\n",
       "    </tr>\n",
       "  </tbody>\n",
       "</table>\n",
       "</div>"
      ],
      "text/plain": [
       "                        model     subseq      peaks     binary        mwa\n",
       "0  Polar Pith Canny(triangle)  27.567405  29.216911  36.825651  25.101256"
      ]
     },
     "metadata": {},
     "output_type": "display_data"
    }
   ],
   "source": [
    "with_model(Model.POLAR_PITH_CANNY_EDGE_TRIANGLE, lines, points, data_dir, ranking_url, pith_url, rings_url, mse_url)"
   ]
  },
  {
   "cell_type": "code",
   "execution_count": 45,
   "id": "b1a23908",
   "metadata": {},
   "outputs": [
    {
     "name": "stdout",
     "output_type": "stream",
     "text": [
      "0 2-34e23370868237a073d086fb64851017e9b2c8c9_85903b8cb210e9ad54581e7a37999bcd5fb18443_instant.jpg 87.0\n",
      "1 1-5d205d5ea6bafd3c2e038cf1139cdd5a9825388f_275cb29ffc473512447ce75ff34baa4ecea7276d_instant_210319.jpg 59.666666666666664\n",
      "2 1-11c00bf7cc3e03dc86bde8a20c8ab390b0b2f2a4_d5d5dbc0f05ff34587375f4a567740b61c4731a6_instant_210319.jpg 18.0\n",
      "3 2-8c5de8aa63e57b1e5d3a11ce4c4e2ded042b2ef3_0693ab68bf2278539a3733129d6964ba7719f7b2.jpg 22.0\n",
      "4 1-3d78e56849a16c0b17831129f6059e367574a138_8560eccb0f16269a00f2d6c6a5fab7419529c803_instant.jpg 15.0\n",
      "5 1-947a57fc1b94be1fb8a5cce439cd8112016648b1_b151d6624e13c4d31f300f909ebb63577e42a730_instant.jpg 19.0\n",
      "6 1-1f43f59e9f5ead12a13b1cd892a8757242367189_9cd89303dd466e6b178399f8d02b12aae69ec707_instant.jpg 14.0\n",
      "7 1-85fde97a518625ed46589a6be46300e36c3ad0d9_6626ee8bedc11ff89bd5a6205d10710e72ed9801_instant_210319.jpg 16.0\n",
      "8 1-e50b5a99fd9bab50130099c750df6d80f50a9b4e_fdafeaf4b1ec0417f969870e07a0d6401488df85_instant.jpg 17.0\n",
      "9 1-0d8eabdfed2cb1f0d455e5a2050d78ba39ae6cff_0665c9464c856662322717999ae3d8301ff48907_instant.jpg 11.0\n",
      "10 2-746ba8ac1301085b9f8d8d96beb3bf7f9e7a4605_ecc100d2cbc4a9fc70c2fde3eafaadb6ceb588ca_instant.jpg 29.0\n"
     ]
    },
    {
     "data": {
      "text/html": [
       "<div>\n",
       "<style scoped>\n",
       "    .dataframe tbody tr th:only-of-type {\n",
       "        vertical-align: middle;\n",
       "    }\n",
       "\n",
       "    .dataframe tbody tr th {\n",
       "        vertical-align: top;\n",
       "    }\n",
       "\n",
       "    .dataframe thead th {\n",
       "        text-align: right;\n",
       "    }\n",
       "</style>\n",
       "<table border=\"1\" class=\"dataframe\">\n",
       "  <thead>\n",
       "    <tr style=\"text-align: right;\">\n",
       "      <th></th>\n",
       "      <th>model</th>\n",
       "      <th>subseq</th>\n",
       "      <th>peaks</th>\n",
       "      <th>binary</th>\n",
       "      <th>mwa</th>\n",
       "    </tr>\n",
       "  </thead>\n",
       "  <tbody>\n",
       "    <tr>\n",
       "      <th>0</th>\n",
       "      <td>Polar Pith Canny(manual)</td>\n",
       "      <td>27.595101</td>\n",
       "      <td>29.234337</td>\n",
       "      <td>36.690661</td>\n",
       "      <td>25.08946</td>\n",
       "    </tr>\n",
       "  </tbody>\n",
       "</table>\n",
       "</div>"
      ],
      "text/plain": [
       "                      model     subseq      peaks     binary       mwa\n",
       "0  Polar Pith Canny(manual)  27.595101  29.234337  36.690661  25.08946"
      ]
     },
     "metadata": {},
     "output_type": "display_data"
    }
   ],
   "source": [
    "with_model(Model.POLAR_PITH_CANNY_EDGE_MANUAL, lines, points, data_dir, ranking_url, pith_url, rings_url, mse_url)"
   ]
  },
  {
   "cell_type": "code",
   "execution_count": 46,
   "id": "44bf39bb",
   "metadata": {},
   "outputs": [
    {
     "name": "stdout",
     "output_type": "stream",
     "text": [
      "0 2-34e23370868237a073d086fb64851017e9b2c8c9_85903b8cb210e9ad54581e7a37999bcd5fb18443_instant.jpg 87.0\n",
      "1 1-5d205d5ea6bafd3c2e038cf1139cdd5a9825388f_275cb29ffc473512447ce75ff34baa4ecea7276d_instant_210319.jpg 59.666666666666664\n",
      "2 1-11c00bf7cc3e03dc86bde8a20c8ab390b0b2f2a4_d5d5dbc0f05ff34587375f4a567740b61c4731a6_instant_210319.jpg 18.0\n",
      "3 2-8c5de8aa63e57b1e5d3a11ce4c4e2ded042b2ef3_0693ab68bf2278539a3733129d6964ba7719f7b2.jpg 22.0\n",
      "4 1-3d78e56849a16c0b17831129f6059e367574a138_8560eccb0f16269a00f2d6c6a5fab7419529c803_instant.jpg 15.0\n",
      "5 1-947a57fc1b94be1fb8a5cce439cd8112016648b1_b151d6624e13c4d31f300f909ebb63577e42a730_instant.jpg 19.0\n",
      "6 1-1f43f59e9f5ead12a13b1cd892a8757242367189_9cd89303dd466e6b178399f8d02b12aae69ec707_instant.jpg 14.0\n",
      "7 1-85fde97a518625ed46589a6be46300e36c3ad0d9_6626ee8bedc11ff89bd5a6205d10710e72ed9801_instant_210319.jpg 16.0\n",
      "8 1-e50b5a99fd9bab50130099c750df6d80f50a9b4e_fdafeaf4b1ec0417f969870e07a0d6401488df85_instant.jpg 17.0\n",
      "9 1-0d8eabdfed2cb1f0d455e5a2050d78ba39ae6cff_0665c9464c856662322717999ae3d8301ff48907_instant.jpg 11.0\n",
      "10 2-746ba8ac1301085b9f8d8d96beb3bf7f9e7a4605_ecc100d2cbc4a9fc70c2fde3eafaadb6ceb588ca_instant.jpg 29.0\n"
     ]
    },
    {
     "data": {
      "text/html": [
       "<div>\n",
       "<style scoped>\n",
       "    .dataframe tbody tr th:only-of-type {\n",
       "        vertical-align: middle;\n",
       "    }\n",
       "\n",
       "    .dataframe tbody tr th {\n",
       "        vertical-align: top;\n",
       "    }\n",
       "\n",
       "    .dataframe thead th {\n",
       "        text-align: right;\n",
       "    }\n",
       "</style>\n",
       "<table border=\"1\" class=\"dataframe\">\n",
       "  <thead>\n",
       "    <tr style=\"text-align: right;\">\n",
       "      <th></th>\n",
       "      <th>model</th>\n",
       "      <th>subseq</th>\n",
       "      <th>peaks</th>\n",
       "      <th>binary</th>\n",
       "      <th>mwa</th>\n",
       "    </tr>\n",
       "  </thead>\n",
       "  <tbody>\n",
       "    <tr>\n",
       "      <th>0</th>\n",
       "      <td>Polar Pith Canny(blur)</td>\n",
       "      <td>26.902482</td>\n",
       "      <td>28.62601</td>\n",
       "      <td>40.538276</td>\n",
       "      <td>26.412534</td>\n",
       "    </tr>\n",
       "  </tbody>\n",
       "</table>\n",
       "</div>"
      ],
      "text/plain": [
       "                    model     subseq     peaks     binary        mwa\n",
       "0  Polar Pith Canny(blur)  26.902482  28.62601  40.538276  26.412534"
      ]
     },
     "metadata": {},
     "output_type": "display_data"
    }
   ],
   "source": [
    "with_model(Model.POLAR_PITH_CANNY_EDGE_BLUR, lines, points, data_dir, ranking_url, pith_url, rings_url, mse_url)"
   ]
  },
  {
   "cell_type": "code",
   "execution_count": 47,
   "id": "483e93b8",
   "metadata": {},
   "outputs": [
    {
     "name": "stdout",
     "output_type": "stream",
     "text": [
      "0 2-34e23370868237a073d086fb64851017e9b2c8c9_85903b8cb210e9ad54581e7a37999bcd5fb18443_instant.jpg 87.0\n",
      "1 1-5d205d5ea6bafd3c2e038cf1139cdd5a9825388f_275cb29ffc473512447ce75ff34baa4ecea7276d_instant_210319.jpg 59.666666666666664\n",
      "2 1-11c00bf7cc3e03dc86bde8a20c8ab390b0b2f2a4_d5d5dbc0f05ff34587375f4a567740b61c4731a6_instant_210319.jpg 18.0\n",
      "3 2-8c5de8aa63e57b1e5d3a11ce4c4e2ded042b2ef3_0693ab68bf2278539a3733129d6964ba7719f7b2.jpg 22.0\n",
      "4 1-3d78e56849a16c0b17831129f6059e367574a138_8560eccb0f16269a00f2d6c6a5fab7419529c803_instant.jpg 15.0\n",
      "5 1-947a57fc1b94be1fb8a5cce439cd8112016648b1_b151d6624e13c4d31f300f909ebb63577e42a730_instant.jpg 19.0\n",
      "6 1-1f43f59e9f5ead12a13b1cd892a8757242367189_9cd89303dd466e6b178399f8d02b12aae69ec707_instant.jpg 14.0\n",
      "7 1-85fde97a518625ed46589a6be46300e36c3ad0d9_6626ee8bedc11ff89bd5a6205d10710e72ed9801_instant_210319.jpg 16.0\n",
      "8 1-e50b5a99fd9bab50130099c750df6d80f50a9b4e_fdafeaf4b1ec0417f969870e07a0d6401488df85_instant.jpg 17.0\n",
      "9 1-0d8eabdfed2cb1f0d455e5a2050d78ba39ae6cff_0665c9464c856662322717999ae3d8301ff48907_instant.jpg 11.0\n",
      "10 2-746ba8ac1301085b9f8d8d96beb3bf7f9e7a4605_ecc100d2cbc4a9fc70c2fde3eafaadb6ceb588ca_instant.jpg 29.0\n"
     ]
    },
    {
     "data": {
      "text/html": [
       "<div>\n",
       "<style scoped>\n",
       "    .dataframe tbody tr th:only-of-type {\n",
       "        vertical-align: middle;\n",
       "    }\n",
       "\n",
       "    .dataframe tbody tr th {\n",
       "        vertical-align: top;\n",
       "    }\n",
       "\n",
       "    .dataframe thead th {\n",
       "        text-align: right;\n",
       "    }\n",
       "</style>\n",
       "<table border=\"1\" class=\"dataframe\">\n",
       "  <thead>\n",
       "    <tr style=\"text-align: right;\">\n",
       "      <th></th>\n",
       "      <th>model</th>\n",
       "      <th>subseq</th>\n",
       "      <th>peaks</th>\n",
       "      <th>binary</th>\n",
       "      <th>mwa</th>\n",
       "    </tr>\n",
       "  </thead>\n",
       "  <tbody>\n",
       "    <tr>\n",
       "      <th>0</th>\n",
       "      <td>Polar Pith Canny(blur otsu)</td>\n",
       "      <td>27.309989</td>\n",
       "      <td>28.995353</td>\n",
       "      <td>38.67122</td>\n",
       "      <td>25.714028</td>\n",
       "    </tr>\n",
       "  </tbody>\n",
       "</table>\n",
       "</div>"
      ],
      "text/plain": [
       "                         model     subseq      peaks    binary        mwa\n",
       "0  Polar Pith Canny(blur otsu)  27.309989  28.995353  38.67122  25.714028"
      ]
     },
     "metadata": {},
     "output_type": "display_data"
    }
   ],
   "source": [
    "with_model(Model.POLAR_PITH_CANNY_EDGE_BLUR_OTSU, lines, points, data_dir, ranking_url, pith_url, rings_url, mse_url)"
   ]
  },
  {
   "cell_type": "code",
   "execution_count": 48,
   "id": "081babe2",
   "metadata": {},
   "outputs": [
    {
     "name": "stdout",
     "output_type": "stream",
     "text": [
      "0 2-34e23370868237a073d086fb64851017e9b2c8c9_85903b8cb210e9ad54581e7a37999bcd5fb18443_instant.jpg 87.0\n",
      "1 1-5d205d5ea6bafd3c2e038cf1139cdd5a9825388f_275cb29ffc473512447ce75ff34baa4ecea7276d_instant_210319.jpg 59.666666666666664\n",
      "2 1-11c00bf7cc3e03dc86bde8a20c8ab390b0b2f2a4_d5d5dbc0f05ff34587375f4a567740b61c4731a6_instant_210319.jpg 18.0\n",
      "3 2-8c5de8aa63e57b1e5d3a11ce4c4e2ded042b2ef3_0693ab68bf2278539a3733129d6964ba7719f7b2.jpg 22.0\n",
      "4 1-3d78e56849a16c0b17831129f6059e367574a138_8560eccb0f16269a00f2d6c6a5fab7419529c803_instant.jpg 15.0\n",
      "5 1-947a57fc1b94be1fb8a5cce439cd8112016648b1_b151d6624e13c4d31f300f909ebb63577e42a730_instant.jpg 19.0\n",
      "6 1-1f43f59e9f5ead12a13b1cd892a8757242367189_9cd89303dd466e6b178399f8d02b12aae69ec707_instant.jpg 14.0\n",
      "7 1-85fde97a518625ed46589a6be46300e36c3ad0d9_6626ee8bedc11ff89bd5a6205d10710e72ed9801_instant_210319.jpg 16.0\n",
      "8 1-e50b5a99fd9bab50130099c750df6d80f50a9b4e_fdafeaf4b1ec0417f969870e07a0d6401488df85_instant.jpg 17.0\n",
      "9 1-0d8eabdfed2cb1f0d455e5a2050d78ba39ae6cff_0665c9464c856662322717999ae3d8301ff48907_instant.jpg 11.0\n",
      "10 2-746ba8ac1301085b9f8d8d96beb3bf7f9e7a4605_ecc100d2cbc4a9fc70c2fde3eafaadb6ceb588ca_instant.jpg 29.0\n"
     ]
    },
    {
     "data": {
      "text/html": [
       "<div>\n",
       "<style scoped>\n",
       "    .dataframe tbody tr th:only-of-type {\n",
       "        vertical-align: middle;\n",
       "    }\n",
       "\n",
       "    .dataframe tbody tr th {\n",
       "        vertical-align: top;\n",
       "    }\n",
       "\n",
       "    .dataframe thead th {\n",
       "        text-align: right;\n",
       "    }\n",
       "</style>\n",
       "<table border=\"1\" class=\"dataframe\">\n",
       "  <thead>\n",
       "    <tr style=\"text-align: right;\">\n",
       "      <th></th>\n",
       "      <th>model</th>\n",
       "      <th>subseq</th>\n",
       "      <th>peaks</th>\n",
       "      <th>binary</th>\n",
       "      <th>mwa</th>\n",
       "    </tr>\n",
       "  </thead>\n",
       "  <tbody>\n",
       "    <tr>\n",
       "      <th>0</th>\n",
       "      <td>Polar Pith Canny(blur triangle)</td>\n",
       "      <td>30.127097</td>\n",
       "      <td>31.266631</td>\n",
       "      <td>27.433861</td>\n",
       "      <td>23.412467</td>\n",
       "    </tr>\n",
       "  </tbody>\n",
       "</table>\n",
       "</div>"
      ],
      "text/plain": [
       "                             model     subseq      peaks     binary        mwa\n",
       "0  Polar Pith Canny(blur triangle)  30.127097  31.266631  27.433861  23.412467"
      ]
     },
     "metadata": {},
     "output_type": "display_data"
    }
   ],
   "source": [
    "with_model(Model.POLAR_PITH_CANNY_EDGE_BLUR_TRIANGLE, lines, points, data_dir, ranking_url, pith_url, rings_url, mse_url)"
   ]
  },
  {
   "cell_type": "code",
   "execution_count": 49,
   "id": "261c103a",
   "metadata": {},
   "outputs": [
    {
     "name": "stdout",
     "output_type": "stream",
     "text": [
      "0 2-34e23370868237a073d086fb64851017e9b2c8c9_85903b8cb210e9ad54581e7a37999bcd5fb18443_instant.jpg 87.0\n",
      "1 1-5d205d5ea6bafd3c2e038cf1139cdd5a9825388f_275cb29ffc473512447ce75ff34baa4ecea7276d_instant_210319.jpg 59.666666666666664\n",
      "2 1-11c00bf7cc3e03dc86bde8a20c8ab390b0b2f2a4_d5d5dbc0f05ff34587375f4a567740b61c4731a6_instant_210319.jpg 18.0\n",
      "3 2-8c5de8aa63e57b1e5d3a11ce4c4e2ded042b2ef3_0693ab68bf2278539a3733129d6964ba7719f7b2.jpg 22.0\n",
      "4 1-3d78e56849a16c0b17831129f6059e367574a138_8560eccb0f16269a00f2d6c6a5fab7419529c803_instant.jpg 15.0\n",
      "5 1-947a57fc1b94be1fb8a5cce439cd8112016648b1_b151d6624e13c4d31f300f909ebb63577e42a730_instant.jpg 19.0\n",
      "6 1-1f43f59e9f5ead12a13b1cd892a8757242367189_9cd89303dd466e6b178399f8d02b12aae69ec707_instant.jpg 14.0\n",
      "7 1-85fde97a518625ed46589a6be46300e36c3ad0d9_6626ee8bedc11ff89bd5a6205d10710e72ed9801_instant_210319.jpg 16.0\n",
      "8 1-e50b5a99fd9bab50130099c750df6d80f50a9b4e_fdafeaf4b1ec0417f969870e07a0d6401488df85_instant.jpg 17.0\n",
      "9 1-0d8eabdfed2cb1f0d455e5a2050d78ba39ae6cff_0665c9464c856662322717999ae3d8301ff48907_instant.jpg 11.0\n",
      "10 2-746ba8ac1301085b9f8d8d96beb3bf7f9e7a4605_ecc100d2cbc4a9fc70c2fde3eafaadb6ceb588ca_instant.jpg 29.0\n"
     ]
    },
    {
     "data": {
      "text/html": [
       "<div>\n",
       "<style scoped>\n",
       "    .dataframe tbody tr th:only-of-type {\n",
       "        vertical-align: middle;\n",
       "    }\n",
       "\n",
       "    .dataframe tbody tr th {\n",
       "        vertical-align: top;\n",
       "    }\n",
       "\n",
       "    .dataframe thead th {\n",
       "        text-align: right;\n",
       "    }\n",
       "</style>\n",
       "<table border=\"1\" class=\"dataframe\">\n",
       "  <thead>\n",
       "    <tr style=\"text-align: right;\">\n",
       "      <th></th>\n",
       "      <th>model</th>\n",
       "      <th>subseq</th>\n",
       "      <th>peaks</th>\n",
       "      <th>binary</th>\n",
       "      <th>mwa</th>\n",
       "    </tr>\n",
       "  </thead>\n",
       "  <tbody>\n",
       "    <tr>\n",
       "      <th>0</th>\n",
       "      <td>Polar Pith Canny(blur manual)</td>\n",
       "      <td>30.179761</td>\n",
       "      <td>31.284239</td>\n",
       "      <td>27.385305</td>\n",
       "      <td>23.501003</td>\n",
       "    </tr>\n",
       "  </tbody>\n",
       "</table>\n",
       "</div>"
      ],
      "text/plain": [
       "                           model     subseq      peaks     binary        mwa\n",
       "0  Polar Pith Canny(blur manual)  30.179761  31.284239  27.385305  23.501003"
      ]
     },
     "metadata": {},
     "output_type": "display_data"
    }
   ],
   "source": [
    "with_model(Model.POLAR_PITH_CANNY_EDGE_BLUR_MANUAL, lines, points, data_dir, ranking_url, pith_url, rings_url, mse_url)"
   ]
  },
  {
   "cell_type": "code",
   "execution_count": 50,
   "id": "d4c9ff68",
   "metadata": {},
   "outputs": [
    {
     "name": "stdout",
     "output_type": "stream",
     "text": [
      "0 2-34e23370868237a073d086fb64851017e9b2c8c9_85903b8cb210e9ad54581e7a37999bcd5fb18443_instant.jpg 87.0\n",
      "1 1-5d205d5ea6bafd3c2e038cf1139cdd5a9825388f_275cb29ffc473512447ce75ff34baa4ecea7276d_instant_210319.jpg 59.666666666666664\n",
      "2 1-11c00bf7cc3e03dc86bde8a20c8ab390b0b2f2a4_d5d5dbc0f05ff34587375f4a567740b61c4731a6_instant_210319.jpg 18.0\n",
      "3 2-8c5de8aa63e57b1e5d3a11ce4c4e2ded042b2ef3_0693ab68bf2278539a3733129d6964ba7719f7b2.jpg 22.0\n",
      "4 1-3d78e56849a16c0b17831129f6059e367574a138_8560eccb0f16269a00f2d6c6a5fab7419529c803_instant.jpg 15.0\n",
      "5 1-947a57fc1b94be1fb8a5cce439cd8112016648b1_b151d6624e13c4d31f300f909ebb63577e42a730_instant.jpg 19.0\n",
      "6 1-1f43f59e9f5ead12a13b1cd892a8757242367189_9cd89303dd466e6b178399f8d02b12aae69ec707_instant.jpg 14.0\n",
      "7 1-85fde97a518625ed46589a6be46300e36c3ad0d9_6626ee8bedc11ff89bd5a6205d10710e72ed9801_instant_210319.jpg 16.0\n",
      "8 1-e50b5a99fd9bab50130099c750df6d80f50a9b4e_fdafeaf4b1ec0417f969870e07a0d6401488df85_instant.jpg 17.0\n",
      "9 1-0d8eabdfed2cb1f0d455e5a2050d78ba39ae6cff_0665c9464c856662322717999ae3d8301ff48907_instant.jpg 11.0\n",
      "10 2-746ba8ac1301085b9f8d8d96beb3bf7f9e7a4605_ecc100d2cbc4a9fc70c2fde3eafaadb6ceb588ca_instant.jpg 29.0\n"
     ]
    },
    {
     "data": {
      "text/html": [
       "<div>\n",
       "<style scoped>\n",
       "    .dataframe tbody tr th:only-of-type {\n",
       "        vertical-align: middle;\n",
       "    }\n",
       "\n",
       "    .dataframe tbody tr th {\n",
       "        vertical-align: top;\n",
       "    }\n",
       "\n",
       "    .dataframe thead th {\n",
       "        text-align: right;\n",
       "    }\n",
       "</style>\n",
       "<table border=\"1\" class=\"dataframe\">\n",
       "  <thead>\n",
       "    <tr style=\"text-align: right;\">\n",
       "      <th></th>\n",
       "      <th>model</th>\n",
       "      <th>subseq</th>\n",
       "      <th>peaks</th>\n",
       "      <th>binary</th>\n",
       "      <th>mwa</th>\n",
       "    </tr>\n",
       "  </thead>\n",
       "  <tbody>\n",
       "    <tr>\n",
       "      <th>0</th>\n",
       "      <td>Polar Pith Laplacian</td>\n",
       "      <td>52.327957</td>\n",
       "      <td>25.145604</td>\n",
       "      <td>93.666658</td>\n",
       "      <td>40.649068</td>\n",
       "    </tr>\n",
       "  </tbody>\n",
       "</table>\n",
       "</div>"
      ],
      "text/plain": [
       "                  model     subseq      peaks     binary        mwa\n",
       "0  Polar Pith Laplacian  52.327957  25.145604  93.666658  40.649068"
      ]
     },
     "metadata": {},
     "output_type": "display_data"
    }
   ],
   "source": [
    "with_model(Model.POLAR_PITH_LAPLACIAN_EDGE, lines, points, data_dir, ranking_url, pith_url, rings_url, mse_url)"
   ]
  },
  {
   "cell_type": "code",
   "execution_count": 51,
   "id": "385ccfcc",
   "metadata": {},
   "outputs": [
    {
     "name": "stdout",
     "output_type": "stream",
     "text": [
      "0 2-34e23370868237a073d086fb64851017e9b2c8c9_85903b8cb210e9ad54581e7a37999bcd5fb18443_instant.jpg 87.0\n",
      "1 1-5d205d5ea6bafd3c2e038cf1139cdd5a9825388f_275cb29ffc473512447ce75ff34baa4ecea7276d_instant_210319.jpg 59.666666666666664\n",
      "2 1-11c00bf7cc3e03dc86bde8a20c8ab390b0b2f2a4_d5d5dbc0f05ff34587375f4a567740b61c4731a6_instant_210319.jpg 18.0\n",
      "3 2-8c5de8aa63e57b1e5d3a11ce4c4e2ded042b2ef3_0693ab68bf2278539a3733129d6964ba7719f7b2.jpg 22.0\n",
      "4 1-3d78e56849a16c0b17831129f6059e367574a138_8560eccb0f16269a00f2d6c6a5fab7419529c803_instant.jpg 15.0\n",
      "5 1-947a57fc1b94be1fb8a5cce439cd8112016648b1_b151d6624e13c4d31f300f909ebb63577e42a730_instant.jpg 19.0\n",
      "6 1-1f43f59e9f5ead12a13b1cd892a8757242367189_9cd89303dd466e6b178399f8d02b12aae69ec707_instant.jpg 14.0\n",
      "7 1-85fde97a518625ed46589a6be46300e36c3ad0d9_6626ee8bedc11ff89bd5a6205d10710e72ed9801_instant_210319.jpg 16.0\n",
      "8 1-e50b5a99fd9bab50130099c750df6d80f50a9b4e_fdafeaf4b1ec0417f969870e07a0d6401488df85_instant.jpg 17.0\n",
      "9 1-0d8eabdfed2cb1f0d455e5a2050d78ba39ae6cff_0665c9464c856662322717999ae3d8301ff48907_instant.jpg 11.0\n",
      "10 2-746ba8ac1301085b9f8d8d96beb3bf7f9e7a4605_ecc100d2cbc4a9fc70c2fde3eafaadb6ceb588ca_instant.jpg 29.0\n"
     ]
    },
    {
     "data": {
      "text/html": [
       "<div>\n",
       "<style scoped>\n",
       "    .dataframe tbody tr th:only-of-type {\n",
       "        vertical-align: middle;\n",
       "    }\n",
       "\n",
       "    .dataframe tbody tr th {\n",
       "        vertical-align: top;\n",
       "    }\n",
       "\n",
       "    .dataframe thead th {\n",
       "        text-align: right;\n",
       "    }\n",
       "</style>\n",
       "<table border=\"1\" class=\"dataframe\">\n",
       "  <thead>\n",
       "    <tr style=\"text-align: right;\">\n",
       "      <th></th>\n",
       "      <th>model</th>\n",
       "      <th>subseq</th>\n",
       "      <th>peaks</th>\n",
       "      <th>binary</th>\n",
       "      <th>mwa</th>\n",
       "    </tr>\n",
       "  </thead>\n",
       "  <tbody>\n",
       "    <tr>\n",
       "      <th>0</th>\n",
       "      <td>Polar Pith Laplacian(blur)</td>\n",
       "      <td>84.918618</td>\n",
       "      <td>23.821767</td>\n",
       "      <td>111.112011</td>\n",
       "      <td>29.598606</td>\n",
       "    </tr>\n",
       "  </tbody>\n",
       "</table>\n",
       "</div>"
      ],
      "text/plain": [
       "                        model     subseq      peaks      binary        mwa\n",
       "0  Polar Pith Laplacian(blur)  84.918618  23.821767  111.112011  29.598606"
      ]
     },
     "metadata": {},
     "output_type": "display_data"
    }
   ],
   "source": [
    "with_model(Model.POLAR_PITH_LAPLACIAN_EDGE_BLUR, lines, points, data_dir, ranking_url, pith_url, rings_url, mse_url)"
   ]
  },
  {
   "cell_type": "code",
   "execution_count": 52,
   "id": "34ab8968",
   "metadata": {},
   "outputs": [
    {
     "name": "stdout",
     "output_type": "stream",
     "text": [
      "Grayscale 20.07753771052807 (peaks) \n",
      "\n"
     ]
    },
    {
     "data": {
      "text/html": [
       "<div>\n",
       "<style scoped>\n",
       "    .dataframe tbody tr th:only-of-type {\n",
       "        vertical-align: middle;\n",
       "    }\n",
       "\n",
       "    .dataframe tbody tr th {\n",
       "        vertical-align: top;\n",
       "    }\n",
       "\n",
       "    .dataframe thead th {\n",
       "        text-align: right;\n",
       "    }\n",
       "</style>\n",
       "<table border=\"1\" class=\"dataframe\">\n",
       "  <thead>\n",
       "    <tr style=\"text-align: right;\">\n",
       "      <th></th>\n",
       "      <th>subseq</th>\n",
       "      <th>peaks</th>\n",
       "      <th>binary</th>\n",
       "      <th>mwa</th>\n",
       "    </tr>\n",
       "    <tr>\n",
       "      <th>model</th>\n",
       "      <th></th>\n",
       "      <th></th>\n",
       "      <th></th>\n",
       "      <th></th>\n",
       "    </tr>\n",
       "  </thead>\n",
       "  <tbody>\n",
       "    <tr>\n",
       "      <th>Grayscale</th>\n",
       "      <td>156.221000</td>\n",
       "      <td>20.077538</td>\n",
       "      <td>175.846037</td>\n",
       "      <td>43.509164</td>\n",
       "    </tr>\n",
       "    <tr>\n",
       "      <th>Polar</th>\n",
       "      <td>43.194791</td>\n",
       "      <td>28.637114</td>\n",
       "      <td>124.692330</td>\n",
       "      <td>35.701754</td>\n",
       "    </tr>\n",
       "    <tr>\n",
       "      <th>Polar Pith</th>\n",
       "      <td>41.562251</td>\n",
       "      <td>28.102843</td>\n",
       "      <td>121.520948</td>\n",
       "      <td>35.030390</td>\n",
       "    </tr>\n",
       "    <tr>\n",
       "      <th>Sobel</th>\n",
       "      <td>117.941241</td>\n",
       "      <td>34.609863</td>\n",
       "      <td>148.964838</td>\n",
       "      <td>67.108051</td>\n",
       "    </tr>\n",
       "    <tr>\n",
       "      <th>Sobel(blur)</th>\n",
       "      <td>125.249547</td>\n",
       "      <td>28.426079</td>\n",
       "      <td>147.712498</td>\n",
       "      <td>58.249283</td>\n",
       "    </tr>\n",
       "    <tr>\n",
       "      <th>Canny</th>\n",
       "      <td>28.085392</td>\n",
       "      <td>21.651483</td>\n",
       "      <td>114.955618</td>\n",
       "      <td>75.321669</td>\n",
       "    </tr>\n",
       "    <tr>\n",
       "      <th>Canny(otsu)</th>\n",
       "      <td>27.380773</td>\n",
       "      <td>21.396524</td>\n",
       "      <td>113.251579</td>\n",
       "      <td>74.067086</td>\n",
       "    </tr>\n",
       "    <tr>\n",
       "      <th>Canny(triangle)</th>\n",
       "      <td>22.738153</td>\n",
       "      <td>20.563733</td>\n",
       "      <td>98.447554</td>\n",
       "      <td>62.347979</td>\n",
       "    </tr>\n",
       "    <tr>\n",
       "      <th>Canny(manual)</th>\n",
       "      <td>23.569289</td>\n",
       "      <td>20.501632</td>\n",
       "      <td>102.096640</td>\n",
       "      <td>65.211302</td>\n",
       "    </tr>\n",
       "    <tr>\n",
       "      <th>Canny(blur)</th>\n",
       "      <td>22.287938</td>\n",
       "      <td>20.329737</td>\n",
       "      <td>101.248037</td>\n",
       "      <td>65.080372</td>\n",
       "    </tr>\n",
       "    <tr>\n",
       "      <th>Canny(blur otsu)</th>\n",
       "      <td>21.881337</td>\n",
       "      <td>20.378510</td>\n",
       "      <td>99.386818</td>\n",
       "      <td>63.555068</td>\n",
       "    </tr>\n",
       "    <tr>\n",
       "      <th>Canny(blur triangle)</th>\n",
       "      <td>20.541254</td>\n",
       "      <td>21.620485</td>\n",
       "      <td>81.139786</td>\n",
       "      <td>49.712133</td>\n",
       "    </tr>\n",
       "    <tr>\n",
       "      <th>Canny(blur manual)</th>\n",
       "      <td>20.752305</td>\n",
       "      <td>21.104805</td>\n",
       "      <td>87.095062</td>\n",
       "      <td>54.118199</td>\n",
       "    </tr>\n",
       "    <tr>\n",
       "      <th>Laplacian</th>\n",
       "      <td>127.565598</td>\n",
       "      <td>43.871969</td>\n",
       "      <td>168.719765</td>\n",
       "      <td>90.614818</td>\n",
       "    </tr>\n",
       "    <tr>\n",
       "      <th>Laplacian(blur)</th>\n",
       "      <td>164.166486</td>\n",
       "      <td>45.056131</td>\n",
       "      <td>189.721290</td>\n",
       "      <td>76.936397</td>\n",
       "    </tr>\n",
       "    <tr>\n",
       "      <th>Polar Sobel</th>\n",
       "      <td>52.350110</td>\n",
       "      <td>24.468615</td>\n",
       "      <td>86.203053</td>\n",
       "      <td>31.867781</td>\n",
       "    </tr>\n",
       "    <tr>\n",
       "      <th>Polar Sobel(blur)</th>\n",
       "      <td>56.055444</td>\n",
       "      <td>25.403825</td>\n",
       "      <td>84.438417</td>\n",
       "      <td>27.195378</td>\n",
       "    </tr>\n",
       "    <tr>\n",
       "      <th>Polar Canny</th>\n",
       "      <td>26.165089</td>\n",
       "      <td>27.852768</td>\n",
       "      <td>51.732210</td>\n",
       "      <td>32.799374</td>\n",
       "    </tr>\n",
       "    <tr>\n",
       "      <th>Polar Canny(otsu)</th>\n",
       "      <td>26.267726</td>\n",
       "      <td>28.029747</td>\n",
       "      <td>50.032096</td>\n",
       "      <td>31.810259</td>\n",
       "    </tr>\n",
       "    <tr>\n",
       "      <th>Polar Canny(triangle)</th>\n",
       "      <td>27.810764</td>\n",
       "      <td>29.568490</td>\n",
       "      <td>38.491691</td>\n",
       "      <td>26.650024</td>\n",
       "    </tr>\n",
       "    <tr>\n",
       "      <th>Polar Canny(manual)</th>\n",
       "      <td>27.858422</td>\n",
       "      <td>29.599213</td>\n",
       "      <td>38.317108</td>\n",
       "      <td>26.585904</td>\n",
       "    </tr>\n",
       "    <tr>\n",
       "      <th>Polar Canny(blur)</th>\n",
       "      <td>27.711970</td>\n",
       "      <td>29.188476</td>\n",
       "      <td>42.152218</td>\n",
       "      <td>28.377431</td>\n",
       "    </tr>\n",
       "    <tr>\n",
       "      <th>Polar Canny(blur otsu)</th>\n",
       "      <td>27.946992</td>\n",
       "      <td>29.415954</td>\n",
       "      <td>40.424835</td>\n",
       "      <td>27.457115</td>\n",
       "    </tr>\n",
       "    <tr>\n",
       "      <th>Polar Canny(blur triangle)</th>\n",
       "      <td>30.739274</td>\n",
       "      <td>31.681420</td>\n",
       "      <td>29.187805</td>\n",
       "      <td>25.304704</td>\n",
       "    </tr>\n",
       "    <tr>\n",
       "      <th>Polar Canny(blur manual)</th>\n",
       "      <td>30.778199</td>\n",
       "      <td>31.708142</td>\n",
       "      <td>29.063566</td>\n",
       "      <td>25.322160</td>\n",
       "    </tr>\n",
       "    <tr>\n",
       "      <th>Polar Laplacian</th>\n",
       "      <td>53.252333</td>\n",
       "      <td>26.385606</td>\n",
       "      <td>94.804332</td>\n",
       "      <td>42.130301</td>\n",
       "    </tr>\n",
       "    <tr>\n",
       "      <th>Polar Laplacian(blur)</th>\n",
       "      <td>84.880494</td>\n",
       "      <td>25.414803</td>\n",
       "      <td>111.570542</td>\n",
       "      <td>31.442804</td>\n",
       "    </tr>\n",
       "    <tr>\n",
       "      <th>Polar Pith Sobel</th>\n",
       "      <td>51.579740</td>\n",
       "      <td>23.588078</td>\n",
       "      <td>85.711640</td>\n",
       "      <td>29.783381</td>\n",
       "    </tr>\n",
       "    <tr>\n",
       "      <th>Polar Pith Sobel(blur)</th>\n",
       "      <td>55.640250</td>\n",
       "      <td>24.569379</td>\n",
       "      <td>83.596608</td>\n",
       "      <td>25.190339</td>\n",
       "    </tr>\n",
       "    <tr>\n",
       "      <th>Polar Pith Canny</th>\n",
       "      <td>25.602790</td>\n",
       "      <td>27.254323</td>\n",
       "      <td>50.874800</td>\n",
       "      <td>31.228944</td>\n",
       "    </tr>\n",
       "    <tr>\n",
       "      <th>Polar Pith Canny(otsu)</th>\n",
       "      <td>25.739936</td>\n",
       "      <td>27.460410</td>\n",
       "      <td>48.975576</td>\n",
       "      <td>30.095040</td>\n",
       "    </tr>\n",
       "    <tr>\n",
       "      <th>Polar Pith Canny(triangle)</th>\n",
       "      <td>27.567405</td>\n",
       "      <td>29.216911</td>\n",
       "      <td>36.825651</td>\n",
       "      <td>25.101256</td>\n",
       "    </tr>\n",
       "    <tr>\n",
       "      <th>Polar Pith Canny(manual)</th>\n",
       "      <td>27.595101</td>\n",
       "      <td>29.234337</td>\n",
       "      <td>36.690661</td>\n",
       "      <td>25.089460</td>\n",
       "    </tr>\n",
       "    <tr>\n",
       "      <th>Polar Pith Canny(blur)</th>\n",
       "      <td>26.902482</td>\n",
       "      <td>28.626010</td>\n",
       "      <td>40.538276</td>\n",
       "      <td>26.412534</td>\n",
       "    </tr>\n",
       "    <tr>\n",
       "      <th>Polar Pith Canny(blur otsu)</th>\n",
       "      <td>27.309989</td>\n",
       "      <td>28.995353</td>\n",
       "      <td>38.671220</td>\n",
       "      <td>25.714028</td>\n",
       "    </tr>\n",
       "    <tr>\n",
       "      <th>Polar Pith Canny(blur triangle)</th>\n",
       "      <td>30.127097</td>\n",
       "      <td>31.266631</td>\n",
       "      <td>27.433861</td>\n",
       "      <td>23.412467</td>\n",
       "    </tr>\n",
       "    <tr>\n",
       "      <th>Polar Pith Canny(blur manual)</th>\n",
       "      <td>30.179761</td>\n",
       "      <td>31.284239</td>\n",
       "      <td>27.385305</td>\n",
       "      <td>23.501003</td>\n",
       "    </tr>\n",
       "    <tr>\n",
       "      <th>Polar Pith Laplacian</th>\n",
       "      <td>52.327957</td>\n",
       "      <td>25.145604</td>\n",
       "      <td>93.666658</td>\n",
       "      <td>40.649068</td>\n",
       "    </tr>\n",
       "    <tr>\n",
       "      <th>Polar Pith Laplacian(blur)</th>\n",
       "      <td>84.918618</td>\n",
       "      <td>23.821767</td>\n",
       "      <td>111.112011</td>\n",
       "      <td>29.598606</td>\n",
       "    </tr>\n",
       "  </tbody>\n",
       "</table>\n",
       "</div>"
      ],
      "text/plain": [
       "                                     subseq      peaks      binary        mwa\n",
       "model                                                                        \n",
       "Grayscale                        156.221000  20.077538  175.846037  43.509164\n",
       "Polar                             43.194791  28.637114  124.692330  35.701754\n",
       "Polar Pith                        41.562251  28.102843  121.520948  35.030390\n",
       "Sobel                            117.941241  34.609863  148.964838  67.108051\n",
       "Sobel(blur)                      125.249547  28.426079  147.712498  58.249283\n",
       "Canny                             28.085392  21.651483  114.955618  75.321669\n",
       "Canny(otsu)                       27.380773  21.396524  113.251579  74.067086\n",
       "Canny(triangle)                   22.738153  20.563733   98.447554  62.347979\n",
       "Canny(manual)                     23.569289  20.501632  102.096640  65.211302\n",
       "Canny(blur)                       22.287938  20.329737  101.248037  65.080372\n",
       "Canny(blur otsu)                  21.881337  20.378510   99.386818  63.555068\n",
       "Canny(blur triangle)              20.541254  21.620485   81.139786  49.712133\n",
       "Canny(blur manual)                20.752305  21.104805   87.095062  54.118199\n",
       "Laplacian                        127.565598  43.871969  168.719765  90.614818\n",
       "Laplacian(blur)                  164.166486  45.056131  189.721290  76.936397\n",
       "Polar Sobel                       52.350110  24.468615   86.203053  31.867781\n",
       "Polar Sobel(blur)                 56.055444  25.403825   84.438417  27.195378\n",
       "Polar Canny                       26.165089  27.852768   51.732210  32.799374\n",
       "Polar Canny(otsu)                 26.267726  28.029747   50.032096  31.810259\n",
       "Polar Canny(triangle)             27.810764  29.568490   38.491691  26.650024\n",
       "Polar Canny(manual)               27.858422  29.599213   38.317108  26.585904\n",
       "Polar Canny(blur)                 27.711970  29.188476   42.152218  28.377431\n",
       "Polar Canny(blur otsu)            27.946992  29.415954   40.424835  27.457115\n",
       "Polar Canny(blur triangle)        30.739274  31.681420   29.187805  25.304704\n",
       "Polar Canny(blur manual)          30.778199  31.708142   29.063566  25.322160\n",
       "Polar Laplacian                   53.252333  26.385606   94.804332  42.130301\n",
       "Polar Laplacian(blur)             84.880494  25.414803  111.570542  31.442804\n",
       "Polar Pith Sobel                  51.579740  23.588078   85.711640  29.783381\n",
       "Polar Pith Sobel(blur)            55.640250  24.569379   83.596608  25.190339\n",
       "Polar Pith Canny                  25.602790  27.254323   50.874800  31.228944\n",
       "Polar Pith Canny(otsu)            25.739936  27.460410   48.975576  30.095040\n",
       "Polar Pith Canny(triangle)        27.567405  29.216911   36.825651  25.101256\n",
       "Polar Pith Canny(manual)          27.595101  29.234337   36.690661  25.089460\n",
       "Polar Pith Canny(blur)            26.902482  28.626010   40.538276  26.412534\n",
       "Polar Pith Canny(blur otsu)       27.309989  28.995353   38.671220  25.714028\n",
       "Polar Pith Canny(blur triangle)   30.127097  31.266631   27.433861  23.412467\n",
       "Polar Pith Canny(blur manual)     30.179761  31.284239   27.385305  23.501003\n",
       "Polar Pith Laplacian              52.327957  25.145604   93.666658  40.649068\n",
       "Polar Pith Laplacian(blur)        84.918618  23.821767  111.112011  29.598606"
      ]
     },
     "metadata": {},
     "output_type": "display_data"
    },
    {
     "name": "stdout",
     "output_type": "stream",
     "text": [
      "Min: 20.07753771052807, Max: 189.7212897159005\n"
     ]
    },
    {
     "data": {
      "image/png": "[encoded data removed]",
      "text/plain": [
       "<Figure size 640x480 with 1 Axes>"
      ]
     },
     "metadata": {},
     "output_type": "display_data"
    },
    {
     "data": {
      "text/html": [
       "<div>\n",
       "<style scoped>\n",
       "    .dataframe tbody tr th:only-of-type {\n",
       "        vertical-align: middle;\n",
       "    }\n",
       "\n",
       "    .dataframe tbody tr th {\n",
       "        vertical-align: top;\n",
       "    }\n",
       "\n",
       "    .dataframe thead th {\n",
       "        text-align: right;\n",
       "    }\n",
       "</style>\n",
       "<table border=\"1\" class=\"dataframe\">\n",
       "  <thead>\n",
       "    <tr style=\"text-align: right;\">\n",
       "      <th></th>\n",
       "      <th>subseq</th>\n",
       "      <th>peaks</th>\n",
       "      <th>binary</th>\n",
       "      <th>mwa</th>\n",
       "    </tr>\n",
       "    <tr>\n",
       "      <th>model</th>\n",
       "      <th></th>\n",
       "      <th></th>\n",
       "      <th></th>\n",
       "      <th></th>\n",
       "    </tr>\n",
       "  </thead>\n",
       "  <tbody>\n",
       "    <tr>\n",
       "      <th>Grayscale</th>\n",
       "      <td>156.221000</td>\n",
       "      <td>20.077538</td>\n",
       "      <td>175.846037</td>\n",
       "      <td>43.509164</td>\n",
       "    </tr>\n",
       "    <tr>\n",
       "      <th>Polar</th>\n",
       "      <td>43.194791</td>\n",
       "      <td>28.637114</td>\n",
       "      <td>124.692330</td>\n",
       "      <td>35.701754</td>\n",
       "    </tr>\n",
       "    <tr>\n",
       "      <th>Polar Pith</th>\n",
       "      <td>41.562251</td>\n",
       "      <td>28.102843</td>\n",
       "      <td>121.520948</td>\n",
       "      <td>35.030390</td>\n",
       "    </tr>\n",
       "    <tr>\n",
       "      <th>Sobel</th>\n",
       "      <td>117.941241</td>\n",
       "      <td>34.609863</td>\n",
       "      <td>148.964838</td>\n",
       "      <td>67.108051</td>\n",
       "    </tr>\n",
       "    <tr>\n",
       "      <th>Sobel(blur)</th>\n",
       "      <td>125.249547</td>\n",
       "      <td>28.426079</td>\n",
       "      <td>147.712498</td>\n",
       "      <td>58.249283</td>\n",
       "    </tr>\n",
       "    <tr>\n",
       "      <th>Canny</th>\n",
       "      <td>28.085392</td>\n",
       "      <td>21.651483</td>\n",
       "      <td>114.955618</td>\n",
       "      <td>75.321669</td>\n",
       "    </tr>\n",
       "    <tr>\n",
       "      <th>Canny(otsu)</th>\n",
       "      <td>27.380773</td>\n",
       "      <td>21.396524</td>\n",
       "      <td>113.251579</td>\n",
       "      <td>74.067086</td>\n",
       "    </tr>\n",
       "    <tr>\n",
       "      <th>Canny(triangle)</th>\n",
       "      <td>22.738153</td>\n",
       "      <td>20.563733</td>\n",
       "      <td>98.447554</td>\n",
       "      <td>62.347979</td>\n",
       "    </tr>\n",
       "    <tr>\n",
       "      <th>Canny(manual)</th>\n",
       "      <td>23.569289</td>\n",
       "      <td>20.501632</td>\n",
       "      <td>102.096640</td>\n",
       "      <td>65.211302</td>\n",
       "    </tr>\n",
       "    <tr>\n",
       "      <th>Canny(blur)</th>\n",
       "      <td>22.287938</td>\n",
       "      <td>20.329737</td>\n",
       "      <td>101.248037</td>\n",
       "      <td>65.080372</td>\n",
       "    </tr>\n",
       "    <tr>\n",
       "      <th>Canny(blur otsu)</th>\n",
       "      <td>21.881337</td>\n",
       "      <td>20.378510</td>\n",
       "      <td>99.386818</td>\n",
       "      <td>63.555068</td>\n",
       "    </tr>\n",
       "    <tr>\n",
       "      <th>Canny(blur triangle)</th>\n",
       "      <td>20.541254</td>\n",
       "      <td>21.620485</td>\n",
       "      <td>81.139786</td>\n",
       "      <td>49.712133</td>\n",
       "    </tr>\n",
       "    <tr>\n",
       "      <th>Canny(blur manual)</th>\n",
       "      <td>20.752305</td>\n",
       "      <td>21.104805</td>\n",
       "      <td>87.095062</td>\n",
       "      <td>54.118199</td>\n",
       "    </tr>\n",
       "    <tr>\n",
       "      <th>Laplacian</th>\n",
       "      <td>127.565598</td>\n",
       "      <td>43.871969</td>\n",
       "      <td>168.719765</td>\n",
       "      <td>90.614818</td>\n",
       "    </tr>\n",
       "    <tr>\n",
       "      <th>Laplacian(blur)</th>\n",
       "      <td>164.166486</td>\n",
       "      <td>45.056131</td>\n",
       "      <td>189.721290</td>\n",
       "      <td>76.936397</td>\n",
       "    </tr>\n",
       "  </tbody>\n",
       "</table>\n",
       "</div>"
      ],
      "text/plain": [
       "                          subseq      peaks      binary        mwa\n",
       "model                                                             \n",
       "Grayscale             156.221000  20.077538  175.846037  43.509164\n",
       "Polar                  43.194791  28.637114  124.692330  35.701754\n",
       "Polar Pith             41.562251  28.102843  121.520948  35.030390\n",
       "Sobel                 117.941241  34.609863  148.964838  67.108051\n",
       "Sobel(blur)           125.249547  28.426079  147.712498  58.249283\n",
       "Canny                  28.085392  21.651483  114.955618  75.321669\n",
       "Canny(otsu)            27.380773  21.396524  113.251579  74.067086\n",
       "Canny(triangle)        22.738153  20.563733   98.447554  62.347979\n",
       "Canny(manual)          23.569289  20.501632  102.096640  65.211302\n",
       "Canny(blur)            22.287938  20.329737  101.248037  65.080372\n",
       "Canny(blur otsu)       21.881337  20.378510   99.386818  63.555068\n",
       "Canny(blur triangle)   20.541254  21.620485   81.139786  49.712133\n",
       "Canny(blur manual)     20.752305  21.104805   87.095062  54.118199\n",
       "Laplacian             127.565598  43.871969  168.719765  90.614818\n",
       "Laplacian(blur)       164.166486  45.056131  189.721290  76.936397"
      ]
     },
     "metadata": {},
     "output_type": "display_data"
    },
    {
     "name": "stdout",
     "output_type": "stream",
     "text": [
      "Min: 20.07753771052807, Max: 189.7212897159005\n"
     ]
    },
    {
     "data": {
      "image/png": "[encoded data removed]",
      "text/plain": [
       "<Figure size 640x480 with 1 Axes>"
      ]
     },
     "metadata": {},
     "output_type": "display_data"
    },
    {
     "data": {
      "text/html": [
       "<div>\n",
       "<style scoped>\n",
       "    .dataframe tbody tr th:only-of-type {\n",
       "        vertical-align: middle;\n",
       "    }\n",
       "\n",
       "    .dataframe tbody tr th {\n",
       "        vertical-align: top;\n",
       "    }\n",
       "\n",
       "    .dataframe thead th {\n",
       "        text-align: right;\n",
       "    }\n",
       "</style>\n",
       "<table border=\"1\" class=\"dataframe\">\n",
       "  <thead>\n",
       "    <tr style=\"text-align: right;\">\n",
       "      <th></th>\n",
       "      <th>subseq</th>\n",
       "      <th>peaks</th>\n",
       "      <th>binary</th>\n",
       "      <th>mwa</th>\n",
       "    </tr>\n",
       "    <tr>\n",
       "      <th>model</th>\n",
       "      <th></th>\n",
       "      <th></th>\n",
       "      <th></th>\n",
       "      <th></th>\n",
       "    </tr>\n",
       "  </thead>\n",
       "  <tbody>\n",
       "    <tr>\n",
       "      <th>Polar Sobel</th>\n",
       "      <td>52.350110</td>\n",
       "      <td>24.468615</td>\n",
       "      <td>86.203053</td>\n",
       "      <td>31.867781</td>\n",
       "    </tr>\n",
       "    <tr>\n",
       "      <th>Polar Sobel(blur)</th>\n",
       "      <td>56.055444</td>\n",
       "      <td>25.403825</td>\n",
       "      <td>84.438417</td>\n",
       "      <td>27.195378</td>\n",
       "    </tr>\n",
       "    <tr>\n",
       "      <th>Polar Canny</th>\n",
       "      <td>26.165089</td>\n",
       "      <td>27.852768</td>\n",
       "      <td>51.732210</td>\n",
       "      <td>32.799374</td>\n",
       "    </tr>\n",
       "    <tr>\n",
       "      <th>Polar Canny(otsu)</th>\n",
       "      <td>26.267726</td>\n",
       "      <td>28.029747</td>\n",
       "      <td>50.032096</td>\n",
       "      <td>31.810259</td>\n",
       "    </tr>\n",
       "    <tr>\n",
       "      <th>Polar Canny(triangle)</th>\n",
       "      <td>27.810764</td>\n",
       "      <td>29.568490</td>\n",
       "      <td>38.491691</td>\n",
       "      <td>26.650024</td>\n",
       "    </tr>\n",
       "    <tr>\n",
       "      <th>Polar Canny(manual)</th>\n",
       "      <td>27.858422</td>\n",
       "      <td>29.599213</td>\n",
       "      <td>38.317108</td>\n",
       "      <td>26.585904</td>\n",
       "    </tr>\n",
       "    <tr>\n",
       "      <th>Polar Canny(blur)</th>\n",
       "      <td>27.711970</td>\n",
       "      <td>29.188476</td>\n",
       "      <td>42.152218</td>\n",
       "      <td>28.377431</td>\n",
       "    </tr>\n",
       "    <tr>\n",
       "      <th>Polar Canny(blur otsu)</th>\n",
       "      <td>27.946992</td>\n",
       "      <td>29.415954</td>\n",
       "      <td>40.424835</td>\n",
       "      <td>27.457115</td>\n",
       "    </tr>\n",
       "    <tr>\n",
       "      <th>Polar Canny(blur triangle)</th>\n",
       "      <td>30.739274</td>\n",
       "      <td>31.681420</td>\n",
       "      <td>29.187805</td>\n",
       "      <td>25.304704</td>\n",
       "    </tr>\n",
       "    <tr>\n",
       "      <th>Polar Canny(blur manual)</th>\n",
       "      <td>30.778199</td>\n",
       "      <td>31.708142</td>\n",
       "      <td>29.063566</td>\n",
       "      <td>25.322160</td>\n",
       "    </tr>\n",
       "    <tr>\n",
       "      <th>Polar Laplacian</th>\n",
       "      <td>53.252333</td>\n",
       "      <td>26.385606</td>\n",
       "      <td>94.804332</td>\n",
       "      <td>42.130301</td>\n",
       "    </tr>\n",
       "    <tr>\n",
       "      <th>Polar Laplacian(blur)</th>\n",
       "      <td>84.880494</td>\n",
       "      <td>25.414803</td>\n",
       "      <td>111.570542</td>\n",
       "      <td>31.442804</td>\n",
       "    </tr>\n",
       "  </tbody>\n",
       "</table>\n",
       "</div>"
      ],
      "text/plain": [
       "                               subseq      peaks      binary        mwa\n",
       "model                                                                  \n",
       "Polar Sobel                 52.350110  24.468615   86.203053  31.867781\n",
       "Polar Sobel(blur)           56.055444  25.403825   84.438417  27.195378\n",
       "Polar Canny                 26.165089  27.852768   51.732210  32.799374\n",
       "Polar Canny(otsu)           26.267726  28.029747   50.032096  31.810259\n",
       "Polar Canny(triangle)       27.810764  29.568490   38.491691  26.650024\n",
       "Polar Canny(manual)         27.858422  29.599213   38.317108  26.585904\n",
       "Polar Canny(blur)           27.711970  29.188476   42.152218  28.377431\n",
       "Polar Canny(blur otsu)      27.946992  29.415954   40.424835  27.457115\n",
       "Polar Canny(blur triangle)  30.739274  31.681420   29.187805  25.304704\n",
       "Polar Canny(blur manual)    30.778199  31.708142   29.063566  25.322160\n",
       "Polar Laplacian             53.252333  26.385606   94.804332  42.130301\n",
       "Polar Laplacian(blur)       84.880494  25.414803  111.570542  31.442804"
      ]
     },
     "metadata": {},
     "output_type": "display_data"
    },
    {
     "name": "stdout",
     "output_type": "stream",
     "text": [
      "Min: 24.468614747036437, Max: 111.5705419674549\n"
     ]
    },
    {
     "data": {
      "image/png": "[encoded data removed]",
      "text/plain": [
       "<Figure size 640x480 with 1 Axes>"
      ]
     },
     "metadata": {},
     "output_type": "display_data"
    },
    {
     "data": {
      "text/html": [
       "<div>\n",
       "<style scoped>\n",
       "    .dataframe tbody tr th:only-of-type {\n",
       "        vertical-align: middle;\n",
       "    }\n",
       "\n",
       "    .dataframe tbody tr th {\n",
       "        vertical-align: top;\n",
       "    }\n",
       "\n",
       "    .dataframe thead th {\n",
       "        text-align: right;\n",
       "    }\n",
       "</style>\n",
       "<table border=\"1\" class=\"dataframe\">\n",
       "  <thead>\n",
       "    <tr style=\"text-align: right;\">\n",
       "      <th></th>\n",
       "      <th>subseq</th>\n",
       "      <th>peaks</th>\n",
       "      <th>binary</th>\n",
       "      <th>mwa</th>\n",
       "    </tr>\n",
       "    <tr>\n",
       "      <th>model</th>\n",
       "      <th></th>\n",
       "      <th></th>\n",
       "      <th></th>\n",
       "      <th></th>\n",
       "    </tr>\n",
       "  </thead>\n",
       "  <tbody>\n",
       "    <tr>\n",
       "      <th>Polar Pith Sobel</th>\n",
       "      <td>51.579740</td>\n",
       "      <td>23.588078</td>\n",
       "      <td>85.711640</td>\n",
       "      <td>29.783381</td>\n",
       "    </tr>\n",
       "    <tr>\n",
       "      <th>Polar Pith Sobel(blur)</th>\n",
       "      <td>55.640250</td>\n",
       "      <td>24.569379</td>\n",
       "      <td>83.596608</td>\n",
       "      <td>25.190339</td>\n",
       "    </tr>\n",
       "    <tr>\n",
       "      <th>Polar Pith Canny</th>\n",
       "      <td>25.602790</td>\n",
       "      <td>27.254323</td>\n",
       "      <td>50.874800</td>\n",
       "      <td>31.228944</td>\n",
       "    </tr>\n",
       "    <tr>\n",
       "      <th>Polar Pith Canny(otsu)</th>\n",
       "      <td>25.739936</td>\n",
       "      <td>27.460410</td>\n",
       "      <td>48.975576</td>\n",
       "      <td>30.095040</td>\n",
       "    </tr>\n",
       "    <tr>\n",
       "      <th>Polar Pith Canny(triangle)</th>\n",
       "      <td>27.567405</td>\n",
       "      <td>29.216911</td>\n",
       "      <td>36.825651</td>\n",
       "      <td>25.101256</td>\n",
       "    </tr>\n",
       "    <tr>\n",
       "      <th>Polar Pith Canny(manual)</th>\n",
       "      <td>27.595101</td>\n",
       "      <td>29.234337</td>\n",
       "      <td>36.690661</td>\n",
       "      <td>25.089460</td>\n",
       "    </tr>\n",
       "    <tr>\n",
       "      <th>Polar Pith Canny(blur)</th>\n",
       "      <td>26.902482</td>\n",
       "      <td>28.626010</td>\n",
       "      <td>40.538276</td>\n",
       "      <td>26.412534</td>\n",
       "    </tr>\n",
       "    <tr>\n",
       "      <th>Polar Pith Canny(blur otsu)</th>\n",
       "      <td>27.309989</td>\n",
       "      <td>28.995353</td>\n",
       "      <td>38.671220</td>\n",
       "      <td>25.714028</td>\n",
       "    </tr>\n",
       "    <tr>\n",
       "      <th>Polar Pith Canny(blur triangle)</th>\n",
       "      <td>30.127097</td>\n",
       "      <td>31.266631</td>\n",
       "      <td>27.433861</td>\n",
       "      <td>23.412467</td>\n",
       "    </tr>\n",
       "    <tr>\n",
       "      <th>Polar Pith Canny(blur manual)</th>\n",
       "      <td>30.179761</td>\n",
       "      <td>31.284239</td>\n",
       "      <td>27.385305</td>\n",
       "      <td>23.501003</td>\n",
       "    </tr>\n",
       "    <tr>\n",
       "      <th>Polar Pith Laplacian</th>\n",
       "      <td>52.327957</td>\n",
       "      <td>25.145604</td>\n",
       "      <td>93.666658</td>\n",
       "      <td>40.649068</td>\n",
       "    </tr>\n",
       "    <tr>\n",
       "      <th>Polar Pith Laplacian(blur)</th>\n",
       "      <td>84.918618</td>\n",
       "      <td>23.821767</td>\n",
       "      <td>111.112011</td>\n",
       "      <td>29.598606</td>\n",
       "    </tr>\n",
       "  </tbody>\n",
       "</table>\n",
       "</div>"
      ],
      "text/plain": [
       "                                    subseq      peaks      binary        mwa\n",
       "model                                                                       \n",
       "Polar Pith Sobel                 51.579740  23.588078   85.711640  29.783381\n",
       "Polar Pith Sobel(blur)           55.640250  24.569379   83.596608  25.190339\n",
       "Polar Pith Canny                 25.602790  27.254323   50.874800  31.228944\n",
       "Polar Pith Canny(otsu)           25.739936  27.460410   48.975576  30.095040\n",
       "Polar Pith Canny(triangle)       27.567405  29.216911   36.825651  25.101256\n",
       "Polar Pith Canny(manual)         27.595101  29.234337   36.690661  25.089460\n",
       "Polar Pith Canny(blur)           26.902482  28.626010   40.538276  26.412534\n",
       "Polar Pith Canny(blur otsu)      27.309989  28.995353   38.671220  25.714028\n",
       "Polar Pith Canny(blur triangle)  30.127097  31.266631   27.433861  23.412467\n",
       "Polar Pith Canny(blur manual)    30.179761  31.284239   27.385305  23.501003\n",
       "Polar Pith Laplacian             52.327957  25.145604   93.666658  40.649068\n",
       "Polar Pith Laplacian(blur)       84.918618  23.821767  111.112011  29.598606"
      ]
     },
     "metadata": {},
     "output_type": "display_data"
    },
    {
     "name": "stdout",
     "output_type": "stream",
     "text": [
      "Min: 23.412467271464017, Max: 111.11201134026098\n"
     ]
    },
    {
     "data": {
      "image/png": "[encoded data removed]",
      "text/plain": [
       "<Figure size 640x480 with 1 Axes>"
      ]
     },
     "metadata": {},
     "output_type": "display_data"
    }
   ],
   "source": [
    "multi_mse(mse_url)"
   ]
  },
  {
   "cell_type": "code",
   "execution_count": 53,
   "id": "17bf2401",
   "metadata": {},
   "outputs": [
    {
     "ename": "NameError",
     "evalue": "name 'STOP' is not defined",
     "output_type": "error",
     "traceback": [
      "\u001b[0;31m---------------------------------------------------------------------------\u001b[0m",
      "\u001b[0;31mNameError\u001b[0m                                 Traceback (most recent call last)",
      "Cell \u001b[0;32mIn[53], line 1\u001b[0m\n\u001b[0;32m----> 1\u001b[0m \u001b[43mSTOP\u001b[49m\n",
      "\u001b[0;31mNameError\u001b[0m: name 'STOP' is not defined"
     ]
    }
   ],
   "source": [
    "STOP"
   ]
  },
  {
   "cell_type": "markdown",
   "id": "39e8e020",
   "metadata": {},
   "source": [
    "### Model with 32 lines"
   ]
  },
  {
   "cell_type": "code",
   "execution_count": null,
   "id": "c233746c",
   "metadata": {},
   "outputs": [],
   "source": [
    "#MSE file\n",
    "mse_url = \"output/ringsranking_mse_thirtytwo.csv\"\n",
    "\n",
    "#rings info file\n",
    "rings_url = \"output/ringsranking_rings_thirtytwo.csv\"\n",
    "\n",
    "#no of lines and points\n",
    "lines = 32\n",
    "points = 150"
   ]
  },
  {
   "cell_type": "code",
   "execution_count": null,
   "id": "50f82559",
   "metadata": {},
   "outputs": [],
   "source": [
    "with_model(Model.GRAYSCALE, lines, points, data_dir, ranking_url, pith_url, rings_url, mse_url)"
   ]
  },
  {
   "cell_type": "code",
   "execution_count": null,
   "id": "8797c4d3",
   "metadata": {},
   "outputs": [],
   "source": [
    "with_model(Model.POLAR, lines, points, data_dir, ranking_url, pith_url, rings_url, mse_url)"
   ]
  },
  {
   "cell_type": "code",
   "execution_count": null,
   "id": "c5d94494",
   "metadata": {},
   "outputs": [],
   "source": [
    "with_model(Model.POLAR_PITH, lines, points, data_dir, ranking_url, pith_url, rings_url, mse_url)"
   ]
  },
  {
   "cell_type": "code",
   "execution_count": null,
   "id": "d2cd02d0",
   "metadata": {},
   "outputs": [],
   "source": []
  },
  {
   "cell_type": "code",
   "execution_count": null,
   "id": "c0dffadb",
   "metadata": {},
   "outputs": [],
   "source": [
    "with_model(Model.SOBEL_EDGE, lines, points, data_dir, ranking_url, pith_url, rings_url, mse_url)"
   ]
  },
  {
   "cell_type": "code",
   "execution_count": null,
   "id": "04e63e04",
   "metadata": {},
   "outputs": [],
   "source": [
    "with_model(Model.SOBEL_EDGE_BLUR, lines, points, data_dir, ranking_url, pith_url, rings_url, mse_url)"
   ]
  },
  {
   "cell_type": "code",
   "execution_count": null,
   "id": "5994d9e7",
   "metadata": {},
   "outputs": [],
   "source": [
    "with_model(Model.CANNY_EDGE, lines, points, data_dir, ranking_url, pith_url, rings_url, mse_url)"
   ]
  },
  {
   "cell_type": "code",
   "execution_count": null,
   "id": "9fc72582",
   "metadata": {},
   "outputs": [],
   "source": [
    "with_model(Model.CANNY_EDGE_OTSU, lines, points, data_dir, ranking_url, pith_url, rings_url, mse_url)"
   ]
  },
  {
   "cell_type": "code",
   "execution_count": null,
   "id": "e6da9545",
   "metadata": {},
   "outputs": [],
   "source": [
    "with_model(Model.CANNY_EDGE_TRIANGLE, lines, points, data_dir, ranking_url, pith_url, rings_url, mse_url)"
   ]
  },
  {
   "cell_type": "code",
   "execution_count": null,
   "id": "989633ad",
   "metadata": {},
   "outputs": [],
   "source": [
    "with_model(Model.CANNY_EDGE_MANUAL, lines, points, data_dir, ranking_url, pith_url, rings_url, mse_url)"
   ]
  },
  {
   "cell_type": "code",
   "execution_count": null,
   "id": "21fc6843",
   "metadata": {},
   "outputs": [],
   "source": [
    "with_model(Model.CANNY_EDGE_BLUR, lines, points, data_dir, ranking_url, pith_url, rings_url, mse_url)"
   ]
  },
  {
   "cell_type": "code",
   "execution_count": null,
   "id": "e57eb8d2",
   "metadata": {},
   "outputs": [],
   "source": [
    "with_model(Model.CANNY_EDGE_BLUR_OTSU, lines, points, data_dir, ranking_url, pith_url, rings_url, mse_url)"
   ]
  },
  {
   "cell_type": "code",
   "execution_count": null,
   "id": "d8f43e57",
   "metadata": {},
   "outputs": [],
   "source": [
    "with_model(Model.CANNY_EDGE_BLUR_TRIANGLE, lines, points, data_dir, ranking_url, pith_url, rings_url, mse_url)"
   ]
  },
  {
   "cell_type": "code",
   "execution_count": null,
   "id": "f86cfcf6",
   "metadata": {},
   "outputs": [],
   "source": [
    "with_model(Model.CANNY_EDGE_BLUR_MANUAL, lines, points, data_dir, ranking_url, pith_url, rings_url, mse_url)"
   ]
  },
  {
   "cell_type": "code",
   "execution_count": null,
   "id": "043784b6",
   "metadata": {},
   "outputs": [],
   "source": [
    "with_model(Model.LAPLACIAN_EDGE, lines, points, data_dir, ranking_url, pith_url, rings_url, mse_url)"
   ]
  },
  {
   "cell_type": "code",
   "execution_count": null,
   "id": "355f21f9",
   "metadata": {},
   "outputs": [],
   "source": [
    "with_model(Model.LAPLACIAN_EDGE_BLUR, lines, points, data_dir, ranking_url, pith_url, rings_url, mse_url)"
   ]
  },
  {
   "cell_type": "code",
   "execution_count": null,
   "id": "6ec8f7be",
   "metadata": {},
   "outputs": [],
   "source": []
  },
  {
   "cell_type": "code",
   "execution_count": null,
   "id": "e4b1c1ec",
   "metadata": {},
   "outputs": [],
   "source": [
    "with_model(Model.POLAR_SOBEL_EDGE, lines, points, data_dir, ranking_url, pith_url, rings_url, mse_url)"
   ]
  },
  {
   "cell_type": "code",
   "execution_count": null,
   "id": "0dc55132",
   "metadata": {},
   "outputs": [],
   "source": [
    "with_model(Model.POLAR_SOBEL_EDGE_BLUR, lines, points, data_dir, ranking_url, pith_url, rings_url, mse_url)"
   ]
  },
  {
   "cell_type": "code",
   "execution_count": null,
   "id": "bb0743d4",
   "metadata": {},
   "outputs": [],
   "source": [
    "with_model(Model.POLAR_CANNY_EDGE, lines, points, data_dir, ranking_url, pith_url, rings_url, mse_url)"
   ]
  },
  {
   "cell_type": "code",
   "execution_count": null,
   "id": "19a552eb",
   "metadata": {},
   "outputs": [],
   "source": [
    "with_model(Model.POLAR_CANNY_EDGE_OTSU, lines, points, data_dir, ranking_url, pith_url, rings_url, mse_url)"
   ]
  },
  {
   "cell_type": "code",
   "execution_count": null,
   "id": "ca08dfb3",
   "metadata": {},
   "outputs": [],
   "source": [
    "with_model(Model.POLAR_CANNY_EDGE_TRIANGLE, lines, points, data_dir, ranking_url, pith_url, rings_url, mse_url)"
   ]
  },
  {
   "cell_type": "code",
   "execution_count": null,
   "id": "7eaf0ebf",
   "metadata": {},
   "outputs": [],
   "source": [
    "with_model(Model.POLAR_CANNY_EDGE_MANUAL, lines, points, data_dir, ranking_url, pith_url, rings_url, mse_url)"
   ]
  },
  {
   "cell_type": "code",
   "execution_count": null,
   "id": "5590f2cb",
   "metadata": {},
   "outputs": [],
   "source": [
    "with_model(Model.POLAR_CANNY_EDGE_BLUR, lines, points, data_dir, ranking_url, pith_url, rings_url, mse_url)"
   ]
  },
  {
   "cell_type": "code",
   "execution_count": null,
   "id": "59c0ac66",
   "metadata": {},
   "outputs": [],
   "source": [
    "with_model(Model.POLAR_CANNY_EDGE_BLUR_OTSU, lines, points, data_dir, ranking_url, pith_url, rings_url, mse_url)"
   ]
  },
  {
   "cell_type": "code",
   "execution_count": null,
   "id": "0a337941",
   "metadata": {},
   "outputs": [],
   "source": [
    "with_model(Model.POLAR_CANNY_EDGE_BLUR_TRIANGLE, lines, points, data_dir, ranking_url, pith_url, rings_url, mse_url)"
   ]
  },
  {
   "cell_type": "code",
   "execution_count": null,
   "id": "17f7164a",
   "metadata": {},
   "outputs": [],
   "source": [
    "with_model(Model.POLAR_CANNY_EDGE_BLUR_MANUAL, lines, points, data_dir, ranking_url, pith_url, rings_url, mse_url)"
   ]
  },
  {
   "cell_type": "code",
   "execution_count": null,
   "id": "9d7b0f8d",
   "metadata": {},
   "outputs": [],
   "source": [
    "with_model(Model.POLAR_LAPLACIAN_EDGE, lines, points, data_dir, ranking_url, pith_url, rings_url, mse_url)"
   ]
  },
  {
   "cell_type": "code",
   "execution_count": null,
   "id": "33559112",
   "metadata": {},
   "outputs": [],
   "source": [
    "with_model(Model.POLAR_LAPLACIAN_EDGE_BLUR, lines, points, data_dir, ranking_url, pith_url, rings_url, mse_url)"
   ]
  },
  {
   "cell_type": "code",
   "execution_count": null,
   "id": "76c7c094",
   "metadata": {},
   "outputs": [],
   "source": []
  },
  {
   "cell_type": "code",
   "execution_count": null,
   "id": "e36334e0",
   "metadata": {},
   "outputs": [],
   "source": [
    "with_model(Model.POLAR_PITH_SOBEL_EDGE, lines, points, data_dir, ranking_url, pith_url, rings_url, mse_url)"
   ]
  },
  {
   "cell_type": "code",
   "execution_count": null,
   "id": "fba84e51",
   "metadata": {},
   "outputs": [],
   "source": [
    "with_model(Model.POLAR_PITH_SOBEL_EDGE_BLUR, lines, points, data_dir, ranking_url, pith_url, rings_url, mse_url)"
   ]
  },
  {
   "cell_type": "code",
   "execution_count": null,
   "id": "881f5d46",
   "metadata": {},
   "outputs": [],
   "source": [
    "with_model(Model.POLAR_PITH_CANNY_EDGE, lines, points, data_dir, ranking_url, pith_url, rings_url, mse_url)"
   ]
  },
  {
   "cell_type": "code",
   "execution_count": null,
   "id": "30c51875",
   "metadata": {},
   "outputs": [],
   "source": [
    "with_model(Model.POLAR_PITH_CANNY_EDGE_OTSU, lines, points, data_dir, ranking_url, pith_url, rings_url, mse_url)"
   ]
  },
  {
   "cell_type": "code",
   "execution_count": null,
   "id": "d6e05ca3",
   "metadata": {},
   "outputs": [],
   "source": [
    "with_model(Model.POLAR_PITH_CANNY_EDGE_TRIANGLE, lines, points, data_dir, ranking_url, pith_url, rings_url, mse_url)"
   ]
  },
  {
   "cell_type": "code",
   "execution_count": null,
   "id": "406a0c9a",
   "metadata": {},
   "outputs": [],
   "source": [
    "with_model(Model.POLAR_PITH_CANNY_EDGE_MANUAL, lines, points, data_dir, ranking_url, pith_url, rings_url, mse_url)"
   ]
  },
  {
   "cell_type": "code",
   "execution_count": null,
   "id": "1ffb7487",
   "metadata": {},
   "outputs": [],
   "source": [
    "with_model(Model.POLAR_PITH_CANNY_EDGE_BLUR, lines, points, data_dir, ranking_url, pith_url, rings_url, mse_url)"
   ]
  },
  {
   "cell_type": "code",
   "execution_count": null,
   "id": "6e528227",
   "metadata": {},
   "outputs": [],
   "source": [
    "with_model(Model.POLAR_PITH_CANNY_EDGE_BLUR_OTSU, lines, points, data_dir, ranking_url, pith_url, rings_url, mse_url)"
   ]
  },
  {
   "cell_type": "code",
   "execution_count": null,
   "id": "a98298b9",
   "metadata": {},
   "outputs": [],
   "source": [
    "with_model(Model.POLAR_PITH_CANNY_EDGE_BLUR_TRIANGLE, lines, points, data_dir, ranking_url, pith_url, rings_url, mse_url)"
   ]
  },
  {
   "cell_type": "code",
   "execution_count": null,
   "id": "9e287b52",
   "metadata": {},
   "outputs": [],
   "source": [
    "with_model(Model.POLAR_PITH_CANNY_EDGE_BLUR_MANUAL, lines, points, data_dir, ranking_url, pith_url, rings_url, mse_url)"
   ]
  },
  {
   "cell_type": "code",
   "execution_count": null,
   "id": "bd2e973d",
   "metadata": {},
   "outputs": [],
   "source": [
    "with_model(Model.POLAR_PITH_LAPLACIAN_EDGE, lines, points, data_dir, ranking_url, pith_url, rings_url, mse_url)"
   ]
  },
  {
   "cell_type": "code",
   "execution_count": null,
   "id": "78e64035",
   "metadata": {},
   "outputs": [],
   "source": [
    "with_model(Model.POLAR_PITH_LAPLACIAN_EDGE_BLUR, lines, points, data_dir, ranking_url, pith_url, rings_url, mse_url)"
   ]
  },
  {
   "cell_type": "code",
   "execution_count": null,
   "id": "f5a2e335",
   "metadata": {},
   "outputs": [],
   "source": [
    "multi_mse(mse_url)"
   ]
  },
  {
   "cell_type": "code",
   "execution_count": null,
   "id": "2f852faa",
   "metadata": {},
   "outputs": [],
   "source": [
    "#STOP"
   ]
  }
 ],
 "metadata": {
  "kernelspec": {
   "display_name": "Python 3 (ipykernel)",
   "language": "python",
   "name": "python3"
  },
  "language_info": {
   "codemirror_mode": {
    "name": "ipython",
    "version": 3
   },
   "file_extension": ".py",
   "mimetype": "text/x-python",
   "name": "python",
   "nbconvert_exporter": "python",
   "pygments_lexer": "ipython3",
   "version": "3.9.6"
  }
 },
 "nbformat": 4,
 "nbformat_minor": 5
}
