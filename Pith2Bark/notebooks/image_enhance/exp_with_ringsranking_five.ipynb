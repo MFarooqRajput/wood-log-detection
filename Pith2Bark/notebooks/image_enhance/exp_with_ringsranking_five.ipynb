{
 "cells": [
  {
   "cell_type": "code",
   "execution_count": 1,
   "id": "f2bc938e",
   "metadata": {},
   "outputs": [
    {
     "name": "stdout",
     "output_type": "stream",
     "text": [
      "/Users/muhammadfarooq/Codebase/thesis-experiment/Pith2Bark\n"
     ]
    }
   ],
   "source": [
    "cd .."
   ]
  },
  {
   "cell_type": "code",
   "execution_count": 2,
   "id": "24b79f2e",
   "metadata": {},
   "outputs": [
    {
     "name": "stderr",
     "output_type": "stream",
     "text": [
      "2023-03-29 15:10:52.541123: I tensorflow/core/platform/cpu_feature_guard.cc:193] This TensorFlow binary is optimized with oneAPI Deep Neural Network Library (oneDNN) to use the following CPU instructions in performance-critical operations:  AVX2 AVX512F AVX512_VNNI FMA\n",
      "To enable them in other operations, rebuild TensorFlow with the appropriate compiler flags.\n"
     ]
    }
   ],
   "source": [
    "from src.experiment import with_model\n",
    "from src.model import Model\n",
    "from src.multi_mse import multi_mse"
   ]
  },
  {
   "cell_type": "markdown",
   "id": "a382f8b5",
   "metadata": {},
   "source": [
    "# Configurations"
   ]
  },
  {
   "cell_type": "code",
   "execution_count": 3,
   "id": "1aef55ef",
   "metadata": {},
   "outputs": [],
   "source": [
    "#data directory here!\n",
    "data_dir = \"dataset/ringsranking\"\n",
    "\n",
    "#ranking file\n",
    "ranking_url = \"dataset/ringsranking.xlsx\"\n",
    "\n",
    "#pickle file\n",
    "pith_url = \"pith/ringsranking.pickle\""
   ]
  },
  {
   "cell_type": "markdown",
   "id": "2738afaf",
   "metadata": {},
   "source": [
    "## Phase 1 Model"
   ]
  },
  {
   "cell_type": "code",
   "execution_count": 4,
   "id": "f404c659",
   "metadata": {},
   "outputs": [],
   "source": [
    "#MSE file\n",
    "mse_url = \"output/temp_ringsranking_mse.csv\"\n",
    "\n",
    "#rings info file\n",
    "rings_url = \"output/temp_ringsranking_rings.csv\"\n",
    "\n",
    "#no of lines and points\n",
    "lines = 16\n",
    "points = 150"
   ]
  },
  {
   "cell_type": "code",
   "execution_count": 5,
   "id": "0fc5323d",
   "metadata": {},
   "outputs": [
    {
     "name": "stdout",
     "output_type": "stream",
     "text": [
      "0 2-34e23370868237a073d086fb64851017e9b2c8c9_85903b8cb210e9ad54581e7a37999bcd5fb18443_instant.jpg 87.0\n",
      "1 1-5d205d5ea6bafd3c2e038cf1139cdd5a9825388f_275cb29ffc473512447ce75ff34baa4ecea7276d_instant_210319.jpg 59.666666666666664\n",
      "2 1-11c00bf7cc3e03dc86bde8a20c8ab390b0b2f2a4_d5d5dbc0f05ff34587375f4a567740b61c4731a6_instant_210319.jpg 18.0\n",
      "3 2-8c5de8aa63e57b1e5d3a11ce4c4e2ded042b2ef3_0693ab68bf2278539a3733129d6964ba7719f7b2.jpg 22.0\n",
      "4 1-3d78e56849a16c0b17831129f6059e367574a138_8560eccb0f16269a00f2d6c6a5fab7419529c803_instant.jpg 15.0\n",
      "5 1-947a57fc1b94be1fb8a5cce439cd8112016648b1_b151d6624e13c4d31f300f909ebb63577e42a730_instant.jpg 19.0\n",
      "6 1-1f43f59e9f5ead12a13b1cd892a8757242367189_9cd89303dd466e6b178399f8d02b12aae69ec707_instant.jpg 14.0\n",
      "7 1-85fde97a518625ed46589a6be46300e36c3ad0d9_6626ee8bedc11ff89bd5a6205d10710e72ed9801_instant_210319.jpg 16.0\n",
      "8 1-e50b5a99fd9bab50130099c750df6d80f50a9b4e_fdafeaf4b1ec0417f969870e07a0d6401488df85_instant.jpg 17.0\n",
      "9 1-0d8eabdfed2cb1f0d455e5a2050d78ba39ae6cff_0665c9464c856662322717999ae3d8301ff48907_instant.jpg 11.0\n",
      "10 2-746ba8ac1301085b9f8d8d96beb3bf7f9e7a4605_ecc100d2cbc4a9fc70c2fde3eafaadb6ceb588ca_instant.jpg 29.0\n"
     ]
    },
    {
     "data": {
      "text/html": [
       "<div>\n",
       "<style scoped>\n",
       "    .dataframe tbody tr th:only-of-type {\n",
       "        vertical-align: middle;\n",
       "    }\n",
       "\n",
       "    .dataframe tbody tr th {\n",
       "        vertical-align: top;\n",
       "    }\n",
       "\n",
       "    .dataframe thead th {\n",
       "        text-align: right;\n",
       "    }\n",
       "</style>\n",
       "<table border=\"1\" class=\"dataframe\">\n",
       "  <thead>\n",
       "    <tr style=\"text-align: right;\">\n",
       "      <th></th>\n",
       "      <th>model</th>\n",
       "      <th>subseq</th>\n",
       "      <th>peaks</th>\n",
       "      <th>binary</th>\n",
       "      <th>mwa</th>\n",
       "    </tr>\n",
       "  </thead>\n",
       "  <tbody>\n",
       "    <tr>\n",
       "      <th>0</th>\n",
       "      <td>Grayscale</td>\n",
       "      <td>156.221</td>\n",
       "      <td>20.077538</td>\n",
       "      <td>175.846037</td>\n",
       "      <td>43.509164</td>\n",
       "    </tr>\n",
       "  </tbody>\n",
       "</table>\n",
       "</div>"
      ],
      "text/plain": [
       "       model   subseq      peaks      binary        mwa\n",
       "0  Grayscale  156.221  20.077538  175.846037  43.509164"
      ]
     },
     "metadata": {},
     "output_type": "display_data"
    }
   ],
   "source": [
    "with_model(Model.GRAYSCALE, lines, points, data_dir, ranking_url, pith_url, rings_url, mse_url)"
   ]
  },
  {
   "cell_type": "code",
   "execution_count": 6,
   "id": "5c5e0158",
   "metadata": {},
   "outputs": [
    {
     "name": "stdout",
     "output_type": "stream",
     "text": [
      "0 2-34e23370868237a073d086fb64851017e9b2c8c9_85903b8cb210e9ad54581e7a37999bcd5fb18443_instant.jpg 87.0\n",
      "1 1-5d205d5ea6bafd3c2e038cf1139cdd5a9825388f_275cb29ffc473512447ce75ff34baa4ecea7276d_instant_210319.jpg 59.666666666666664\n",
      "2 1-11c00bf7cc3e03dc86bde8a20c8ab390b0b2f2a4_d5d5dbc0f05ff34587375f4a567740b61c4731a6_instant_210319.jpg 18.0\n",
      "3 2-8c5de8aa63e57b1e5d3a11ce4c4e2ded042b2ef3_0693ab68bf2278539a3733129d6964ba7719f7b2.jpg 22.0\n",
      "4 1-3d78e56849a16c0b17831129f6059e367574a138_8560eccb0f16269a00f2d6c6a5fab7419529c803_instant.jpg 15.0\n",
      "5 1-947a57fc1b94be1fb8a5cce439cd8112016648b1_b151d6624e13c4d31f300f909ebb63577e42a730_instant.jpg 19.0\n",
      "6 1-1f43f59e9f5ead12a13b1cd892a8757242367189_9cd89303dd466e6b178399f8d02b12aae69ec707_instant.jpg 14.0\n",
      "7 1-85fde97a518625ed46589a6be46300e36c3ad0d9_6626ee8bedc11ff89bd5a6205d10710e72ed9801_instant_210319.jpg 16.0\n",
      "8 1-e50b5a99fd9bab50130099c750df6d80f50a9b4e_fdafeaf4b1ec0417f969870e07a0d6401488df85_instant.jpg 17.0\n",
      "9 1-0d8eabdfed2cb1f0d455e5a2050d78ba39ae6cff_0665c9464c856662322717999ae3d8301ff48907_instant.jpg 11.0\n",
      "10 2-746ba8ac1301085b9f8d8d96beb3bf7f9e7a4605_ecc100d2cbc4a9fc70c2fde3eafaadb6ceb588ca_instant.jpg 29.0\n"
     ]
    },
    {
     "data": {
      "text/html": [
       "<div>\n",
       "<style scoped>\n",
       "    .dataframe tbody tr th:only-of-type {\n",
       "        vertical-align: middle;\n",
       "    }\n",
       "\n",
       "    .dataframe tbody tr th {\n",
       "        vertical-align: top;\n",
       "    }\n",
       "\n",
       "    .dataframe thead th {\n",
       "        text-align: right;\n",
       "    }\n",
       "</style>\n",
       "<table border=\"1\" class=\"dataframe\">\n",
       "  <thead>\n",
       "    <tr style=\"text-align: right;\">\n",
       "      <th></th>\n",
       "      <th>model</th>\n",
       "      <th>subseq</th>\n",
       "      <th>peaks</th>\n",
       "      <th>binary</th>\n",
       "      <th>mwa</th>\n",
       "    </tr>\n",
       "  </thead>\n",
       "  <tbody>\n",
       "    <tr>\n",
       "      <th>0</th>\n",
       "      <td>Polar</td>\n",
       "      <td>58.947436</td>\n",
       "      <td>27.469713</td>\n",
       "      <td>162.735774</td>\n",
       "      <td>37.948622</td>\n",
       "    </tr>\n",
       "  </tbody>\n",
       "</table>\n",
       "</div>"
      ],
      "text/plain": [
       "   model     subseq      peaks      binary        mwa\n",
       "0  Polar  58.947436  27.469713  162.735774  37.948622"
      ]
     },
     "metadata": {},
     "output_type": "display_data"
    }
   ],
   "source": [
    "with_model(Model.POLAR, lines, points, data_dir, ranking_url, pith_url, rings_url, mse_url)"
   ]
  },
  {
   "cell_type": "code",
   "execution_count": 7,
   "id": "d9e30891",
   "metadata": {},
   "outputs": [
    {
     "name": "stdout",
     "output_type": "stream",
     "text": [
      "0 2-34e23370868237a073d086fb64851017e9b2c8c9_85903b8cb210e9ad54581e7a37999bcd5fb18443_instant.jpg 87.0\n",
      "1 1-5d205d5ea6bafd3c2e038cf1139cdd5a9825388f_275cb29ffc473512447ce75ff34baa4ecea7276d_instant_210319.jpg 59.666666666666664\n",
      "2 1-11c00bf7cc3e03dc86bde8a20c8ab390b0b2f2a4_d5d5dbc0f05ff34587375f4a567740b61c4731a6_instant_210319.jpg 18.0\n",
      "3 2-8c5de8aa63e57b1e5d3a11ce4c4e2ded042b2ef3_0693ab68bf2278539a3733129d6964ba7719f7b2.jpg 22.0\n",
      "4 1-3d78e56849a16c0b17831129f6059e367574a138_8560eccb0f16269a00f2d6c6a5fab7419529c803_instant.jpg 15.0\n",
      "5 1-947a57fc1b94be1fb8a5cce439cd8112016648b1_b151d6624e13c4d31f300f909ebb63577e42a730_instant.jpg 19.0\n",
      "6 1-1f43f59e9f5ead12a13b1cd892a8757242367189_9cd89303dd466e6b178399f8d02b12aae69ec707_instant.jpg 14.0\n",
      "7 1-85fde97a518625ed46589a6be46300e36c3ad0d9_6626ee8bedc11ff89bd5a6205d10710e72ed9801_instant_210319.jpg 16.0\n",
      "8 1-e50b5a99fd9bab50130099c750df6d80f50a9b4e_fdafeaf4b1ec0417f969870e07a0d6401488df85_instant.jpg 17.0\n",
      "9 1-0d8eabdfed2cb1f0d455e5a2050d78ba39ae6cff_0665c9464c856662322717999ae3d8301ff48907_instant.jpg 11.0\n",
      "10 2-746ba8ac1301085b9f8d8d96beb3bf7f9e7a4605_ecc100d2cbc4a9fc70c2fde3eafaadb6ceb588ca_instant.jpg 29.0\n"
     ]
    },
    {
     "data": {
      "text/html": [
       "<div>\n",
       "<style scoped>\n",
       "    .dataframe tbody tr th:only-of-type {\n",
       "        vertical-align: middle;\n",
       "    }\n",
       "\n",
       "    .dataframe tbody tr th {\n",
       "        vertical-align: top;\n",
       "    }\n",
       "\n",
       "    .dataframe thead th {\n",
       "        text-align: right;\n",
       "    }\n",
       "</style>\n",
       "<table border=\"1\" class=\"dataframe\">\n",
       "  <thead>\n",
       "    <tr style=\"text-align: right;\">\n",
       "      <th></th>\n",
       "      <th>model</th>\n",
       "      <th>subseq</th>\n",
       "      <th>peaks</th>\n",
       "      <th>binary</th>\n",
       "      <th>mwa</th>\n",
       "    </tr>\n",
       "  </thead>\n",
       "  <tbody>\n",
       "    <tr>\n",
       "      <th>0</th>\n",
       "      <td>Polar Pith</td>\n",
       "      <td>56.959764</td>\n",
       "      <td>26.993525</td>\n",
       "      <td>158.89147</td>\n",
       "      <td>37.865317</td>\n",
       "    </tr>\n",
       "  </tbody>\n",
       "</table>\n",
       "</div>"
      ],
      "text/plain": [
       "        model     subseq      peaks     binary        mwa\n",
       "0  Polar Pith  56.959764  26.993525  158.89147  37.865317"
      ]
     },
     "metadata": {},
     "output_type": "display_data"
    }
   ],
   "source": [
    "with_model(Model.POLAR_PITH, lines, points, data_dir, ranking_url, pith_url, rings_url, mse_url)"
   ]
  },
  {
   "cell_type": "code",
   "execution_count": 8,
   "id": "33125fc3",
   "metadata": {},
   "outputs": [
    {
     "name": "stdout",
     "output_type": "stream",
     "text": [
      "0 2-34e23370868237a073d086fb64851017e9b2c8c9_85903b8cb210e9ad54581e7a37999bcd5fb18443_instant.jpg 87.0\n",
      "1 1-5d205d5ea6bafd3c2e038cf1139cdd5a9825388f_275cb29ffc473512447ce75ff34baa4ecea7276d_instant_210319.jpg 59.666666666666664\n",
      "2 1-11c00bf7cc3e03dc86bde8a20c8ab390b0b2f2a4_d5d5dbc0f05ff34587375f4a567740b61c4731a6_instant_210319.jpg 18.0\n",
      "3 2-8c5de8aa63e57b1e5d3a11ce4c4e2ded042b2ef3_0693ab68bf2278539a3733129d6964ba7719f7b2.jpg 22.0\n",
      "4 1-3d78e56849a16c0b17831129f6059e367574a138_8560eccb0f16269a00f2d6c6a5fab7419529c803_instant.jpg 15.0\n",
      "5 1-947a57fc1b94be1fb8a5cce439cd8112016648b1_b151d6624e13c4d31f300f909ebb63577e42a730_instant.jpg 19.0\n",
      "6 1-1f43f59e9f5ead12a13b1cd892a8757242367189_9cd89303dd466e6b178399f8d02b12aae69ec707_instant.jpg 14.0\n",
      "7 1-85fde97a518625ed46589a6be46300e36c3ad0d9_6626ee8bedc11ff89bd5a6205d10710e72ed9801_instant_210319.jpg 16.0\n",
      "8 1-e50b5a99fd9bab50130099c750df6d80f50a9b4e_fdafeaf4b1ec0417f969870e07a0d6401488df85_instant.jpg 17.0\n",
      "9 1-0d8eabdfed2cb1f0d455e5a2050d78ba39ae6cff_0665c9464c856662322717999ae3d8301ff48907_instant.jpg 11.0\n",
      "10 2-746ba8ac1301085b9f8d8d96beb3bf7f9e7a4605_ecc100d2cbc4a9fc70c2fde3eafaadb6ceb588ca_instant.jpg 29.0\n"
     ]
    },
    {
     "data": {
      "text/html": [
       "<div>\n",
       "<style scoped>\n",
       "    .dataframe tbody tr th:only-of-type {\n",
       "        vertical-align: middle;\n",
       "    }\n",
       "\n",
       "    .dataframe tbody tr th {\n",
       "        vertical-align: top;\n",
       "    }\n",
       "\n",
       "    .dataframe thead th {\n",
       "        text-align: right;\n",
       "    }\n",
       "</style>\n",
       "<table border=\"1\" class=\"dataframe\">\n",
       "  <thead>\n",
       "    <tr style=\"text-align: right;\">\n",
       "      <th></th>\n",
       "      <th>model</th>\n",
       "      <th>subseq</th>\n",
       "      <th>peaks</th>\n",
       "      <th>binary</th>\n",
       "      <th>mwa</th>\n",
       "    </tr>\n",
       "  </thead>\n",
       "  <tbody>\n",
       "    <tr>\n",
       "      <th>0</th>\n",
       "      <td>Sobel</td>\n",
       "      <td>150.61828</td>\n",
       "      <td>41.337847</td>\n",
       "      <td>175.260492</td>\n",
       "      <td>79.2925</td>\n",
       "    </tr>\n",
       "  </tbody>\n",
       "</table>\n",
       "</div>"
      ],
      "text/plain": [
       "   model     subseq      peaks      binary      mwa\n",
       "0  Sobel  150.61828  41.337847  175.260492  79.2925"
      ]
     },
     "metadata": {},
     "output_type": "display_data"
    }
   ],
   "source": [
    "with_model(Model.SOBEL_EDGE, lines, points, data_dir, ranking_url, pith_url, rings_url, mse_url)"
   ]
  },
  {
   "cell_type": "code",
   "execution_count": 9,
   "id": "9dd0bf5b",
   "metadata": {},
   "outputs": [
    {
     "name": "stdout",
     "output_type": "stream",
     "text": [
      "0 2-34e23370868237a073d086fb64851017e9b2c8c9_85903b8cb210e9ad54581e7a37999bcd5fb18443_instant.jpg 87.0\n",
      "1 1-5d205d5ea6bafd3c2e038cf1139cdd5a9825388f_275cb29ffc473512447ce75ff34baa4ecea7276d_instant_210319.jpg 59.666666666666664\n",
      "2 1-11c00bf7cc3e03dc86bde8a20c8ab390b0b2f2a4_d5d5dbc0f05ff34587375f4a567740b61c4731a6_instant_210319.jpg 18.0\n",
      "3 2-8c5de8aa63e57b1e5d3a11ce4c4e2ded042b2ef3_0693ab68bf2278539a3733129d6964ba7719f7b2.jpg 22.0\n",
      "4 1-3d78e56849a16c0b17831129f6059e367574a138_8560eccb0f16269a00f2d6c6a5fab7419529c803_instant.jpg 15.0\n",
      "5 1-947a57fc1b94be1fb8a5cce439cd8112016648b1_b151d6624e13c4d31f300f909ebb63577e42a730_instant.jpg 19.0\n",
      "6 1-1f43f59e9f5ead12a13b1cd892a8757242367189_9cd89303dd466e6b178399f8d02b12aae69ec707_instant.jpg 14.0\n",
      "7 1-85fde97a518625ed46589a6be46300e36c3ad0d9_6626ee8bedc11ff89bd5a6205d10710e72ed9801_instant_210319.jpg 16.0\n",
      "8 1-e50b5a99fd9bab50130099c750df6d80f50a9b4e_fdafeaf4b1ec0417f969870e07a0d6401488df85_instant.jpg 17.0\n",
      "9 1-0d8eabdfed2cb1f0d455e5a2050d78ba39ae6cff_0665c9464c856662322717999ae3d8301ff48907_instant.jpg 11.0\n",
      "10 2-746ba8ac1301085b9f8d8d96beb3bf7f9e7a4605_ecc100d2cbc4a9fc70c2fde3eafaadb6ceb588ca_instant.jpg 29.0\n"
     ]
    },
    {
     "data": {
      "text/html": [
       "<div>\n",
       "<style scoped>\n",
       "    .dataframe tbody tr th:only-of-type {\n",
       "        vertical-align: middle;\n",
       "    }\n",
       "\n",
       "    .dataframe tbody tr th {\n",
       "        vertical-align: top;\n",
       "    }\n",
       "\n",
       "    .dataframe thead th {\n",
       "        text-align: right;\n",
       "    }\n",
       "</style>\n",
       "<table border=\"1\" class=\"dataframe\">\n",
       "  <thead>\n",
       "    <tr style=\"text-align: right;\">\n",
       "      <th></th>\n",
       "      <th>model</th>\n",
       "      <th>subseq</th>\n",
       "      <th>peaks</th>\n",
       "      <th>binary</th>\n",
       "      <th>mwa</th>\n",
       "    </tr>\n",
       "  </thead>\n",
       "  <tbody>\n",
       "    <tr>\n",
       "      <th>0</th>\n",
       "      <td>Canny</td>\n",
       "      <td>33.403038</td>\n",
       "      <td>22.692319</td>\n",
       "      <td>134.787981</td>\n",
       "      <td>90.812433</td>\n",
       "    </tr>\n",
       "  </tbody>\n",
       "</table>\n",
       "</div>"
      ],
      "text/plain": [
       "   model     subseq      peaks      binary        mwa\n",
       "0  Canny  33.403038  22.692319  134.787981  90.812433"
      ]
     },
     "metadata": {},
     "output_type": "display_data"
    }
   ],
   "source": [
    "with_model(Model.CANNY_EDGE, lines, points, data_dir, ranking_url, pith_url, rings_url, mse_url)"
   ]
  },
  {
   "cell_type": "code",
   "execution_count": 10,
   "id": "c3043ef5",
   "metadata": {},
   "outputs": [
    {
     "name": "stdout",
     "output_type": "stream",
     "text": [
      "Grayscale 20.07753771052807 (peaks) \n",
      "\n"
     ]
    },
    {
     "data": {
      "text/html": [
       "<div>\n",
       "<style scoped>\n",
       "    .dataframe tbody tr th:only-of-type {\n",
       "        vertical-align: middle;\n",
       "    }\n",
       "\n",
       "    .dataframe tbody tr th {\n",
       "        vertical-align: top;\n",
       "    }\n",
       "\n",
       "    .dataframe thead th {\n",
       "        text-align: right;\n",
       "    }\n",
       "</style>\n",
       "<table border=\"1\" class=\"dataframe\">\n",
       "  <thead>\n",
       "    <tr style=\"text-align: right;\">\n",
       "      <th></th>\n",
       "      <th>subseq</th>\n",
       "      <th>peaks</th>\n",
       "      <th>binary</th>\n",
       "      <th>mwa</th>\n",
       "    </tr>\n",
       "    <tr>\n",
       "      <th>model</th>\n",
       "      <th></th>\n",
       "      <th></th>\n",
       "      <th></th>\n",
       "      <th></th>\n",
       "    </tr>\n",
       "  </thead>\n",
       "  <tbody>\n",
       "    <tr>\n",
       "      <th>Grayscale</th>\n",
       "      <td>156.221000</td>\n",
       "      <td>20.077538</td>\n",
       "      <td>175.846037</td>\n",
       "      <td>43.509164</td>\n",
       "    </tr>\n",
       "    <tr>\n",
       "      <th>Polar</th>\n",
       "      <td>58.947436</td>\n",
       "      <td>27.469713</td>\n",
       "      <td>162.735774</td>\n",
       "      <td>37.948622</td>\n",
       "    </tr>\n",
       "    <tr>\n",
       "      <th>Polar Pith</th>\n",
       "      <td>56.959764</td>\n",
       "      <td>26.993525</td>\n",
       "      <td>158.891470</td>\n",
       "      <td>37.865317</td>\n",
       "    </tr>\n",
       "    <tr>\n",
       "      <th>Sobel</th>\n",
       "      <td>150.618280</td>\n",
       "      <td>41.337847</td>\n",
       "      <td>175.260492</td>\n",
       "      <td>79.292500</td>\n",
       "    </tr>\n",
       "    <tr>\n",
       "      <th>Canny</th>\n",
       "      <td>33.403038</td>\n",
       "      <td>22.692319</td>\n",
       "      <td>134.787981</td>\n",
       "      <td>90.812433</td>\n",
       "    </tr>\n",
       "  </tbody>\n",
       "</table>\n",
       "</div>"
      ],
      "text/plain": [
       "                subseq      peaks      binary        mwa\n",
       "model                                                   \n",
       "Grayscale   156.221000  20.077538  175.846037  43.509164\n",
       "Polar        58.947436  27.469713  162.735774  37.948622\n",
       "Polar Pith   56.959764  26.993525  158.891470  37.865317\n",
       "Sobel       150.618280  41.337847  175.260492  79.292500\n",
       "Canny        33.403038  22.692319  134.787981  90.812433"
      ]
     },
     "metadata": {},
     "output_type": "display_data"
    },
    {
     "name": "stdout",
     "output_type": "stream",
     "text": [
      "Min: 20.07753771052807, Max: 175.84603674220787\n"
     ]
    },
    {
     "data": {
      "image/png": "[encoded data removed]",
      "text/plain": [
       "<Figure size 640x480 with 1 Axes>"
      ]
     },
     "metadata": {},
     "output_type": "display_data"
    }
   ],
   "source": [
    "multi_mse(mse_url, False)"
   ]
  },
  {
   "cell_type": "code",
   "execution_count": 11,
   "id": "ddb0de4d",
   "metadata": {},
   "outputs": [],
   "source": [
    "#STOP"
   ]
  },
  {
   "cell_type": "markdown",
   "id": "dcfff2f6",
   "metadata": {},
   "source": [
    "## Phase 2 Model"
   ]
  },
  {
   "cell_type": "markdown",
   "id": "600e29d4",
   "metadata": {},
   "source": [
    "### Model with 16 lines"
   ]
  },
  {
   "cell_type": "code",
   "execution_count": 12,
   "id": "ddd064fc",
   "metadata": {},
   "outputs": [],
   "source": [
    "#MSE file\n",
    "mse_url = \"output/temp_ringsranking_mse_sixteen.csv\"\n",
    "\n",
    "#rings info file\n",
    "rings_url = \"output/temp_ringsranking_rings_sixteen.csv\"\n",
    "\n",
    "#no of lines and points\n",
    "no_of_lines = 16\n",
    "no_of_points = 150"
   ]
  },
  {
   "cell_type": "code",
   "execution_count": 13,
   "id": "51fb0795",
   "metadata": {},
   "outputs": [
    {
     "name": "stdout",
     "output_type": "stream",
     "text": [
      "0 2-34e23370868237a073d086fb64851017e9b2c8c9_85903b8cb210e9ad54581e7a37999bcd5fb18443_instant.jpg 87.0\n",
      "1 1-5d205d5ea6bafd3c2e038cf1139cdd5a9825388f_275cb29ffc473512447ce75ff34baa4ecea7276d_instant_210319.jpg 59.666666666666664\n",
      "2 1-11c00bf7cc3e03dc86bde8a20c8ab390b0b2f2a4_d5d5dbc0f05ff34587375f4a567740b61c4731a6_instant_210319.jpg 18.0\n",
      "3 2-8c5de8aa63e57b1e5d3a11ce4c4e2ded042b2ef3_0693ab68bf2278539a3733129d6964ba7719f7b2.jpg 22.0\n",
      "4 1-3d78e56849a16c0b17831129f6059e367574a138_8560eccb0f16269a00f2d6c6a5fab7419529c803_instant.jpg 15.0\n",
      "5 1-947a57fc1b94be1fb8a5cce439cd8112016648b1_b151d6624e13c4d31f300f909ebb63577e42a730_instant.jpg 19.0\n",
      "6 1-1f43f59e9f5ead12a13b1cd892a8757242367189_9cd89303dd466e6b178399f8d02b12aae69ec707_instant.jpg 14.0\n",
      "7 1-85fde97a518625ed46589a6be46300e36c3ad0d9_6626ee8bedc11ff89bd5a6205d10710e72ed9801_instant_210319.jpg 16.0\n",
      "8 1-e50b5a99fd9bab50130099c750df6d80f50a9b4e_fdafeaf4b1ec0417f969870e07a0d6401488df85_instant.jpg 17.0\n",
      "9 1-0d8eabdfed2cb1f0d455e5a2050d78ba39ae6cff_0665c9464c856662322717999ae3d8301ff48907_instant.jpg 11.0\n",
      "10 2-746ba8ac1301085b9f8d8d96beb3bf7f9e7a4605_ecc100d2cbc4a9fc70c2fde3eafaadb6ceb588ca_instant.jpg 29.0\n"
     ]
    },
    {
     "data": {
      "text/html": [
       "<div>\n",
       "<style scoped>\n",
       "    .dataframe tbody tr th:only-of-type {\n",
       "        vertical-align: middle;\n",
       "    }\n",
       "\n",
       "    .dataframe tbody tr th {\n",
       "        vertical-align: top;\n",
       "    }\n",
       "\n",
       "    .dataframe thead th {\n",
       "        text-align: right;\n",
       "    }\n",
       "</style>\n",
       "<table border=\"1\" class=\"dataframe\">\n",
       "  <thead>\n",
       "    <tr style=\"text-align: right;\">\n",
       "      <th></th>\n",
       "      <th>model</th>\n",
       "      <th>subseq</th>\n",
       "      <th>peaks</th>\n",
       "      <th>binary</th>\n",
       "      <th>mwa</th>\n",
       "    </tr>\n",
       "  </thead>\n",
       "  <tbody>\n",
       "    <tr>\n",
       "      <th>0</th>\n",
       "      <td>Grayscale</td>\n",
       "      <td>156.221</td>\n",
       "      <td>20.077538</td>\n",
       "      <td>175.846037</td>\n",
       "      <td>43.509164</td>\n",
       "    </tr>\n",
       "  </tbody>\n",
       "</table>\n",
       "</div>"
      ],
      "text/plain": [
       "       model   subseq      peaks      binary        mwa\n",
       "0  Grayscale  156.221  20.077538  175.846037  43.509164"
      ]
     },
     "metadata": {},
     "output_type": "display_data"
    }
   ],
   "source": [
    "with_model(Model.GRAYSCALE, lines, points, data_dir, ranking_url, pith_url, rings_url, mse_url)"
   ]
  },
  {
   "cell_type": "code",
   "execution_count": 14,
   "id": "e9558f17",
   "metadata": {},
   "outputs": [
    {
     "name": "stdout",
     "output_type": "stream",
     "text": [
      "0 2-34e23370868237a073d086fb64851017e9b2c8c9_85903b8cb210e9ad54581e7a37999bcd5fb18443_instant.jpg 87.0\n",
      "1 1-5d205d5ea6bafd3c2e038cf1139cdd5a9825388f_275cb29ffc473512447ce75ff34baa4ecea7276d_instant_210319.jpg 59.666666666666664\n",
      "2 1-11c00bf7cc3e03dc86bde8a20c8ab390b0b2f2a4_d5d5dbc0f05ff34587375f4a567740b61c4731a6_instant_210319.jpg 18.0\n",
      "3 2-8c5de8aa63e57b1e5d3a11ce4c4e2ded042b2ef3_0693ab68bf2278539a3733129d6964ba7719f7b2.jpg 22.0\n",
      "4 1-3d78e56849a16c0b17831129f6059e367574a138_8560eccb0f16269a00f2d6c6a5fab7419529c803_instant.jpg 15.0\n",
      "5 1-947a57fc1b94be1fb8a5cce439cd8112016648b1_b151d6624e13c4d31f300f909ebb63577e42a730_instant.jpg 19.0\n",
      "6 1-1f43f59e9f5ead12a13b1cd892a8757242367189_9cd89303dd466e6b178399f8d02b12aae69ec707_instant.jpg 14.0\n",
      "7 1-85fde97a518625ed46589a6be46300e36c3ad0d9_6626ee8bedc11ff89bd5a6205d10710e72ed9801_instant_210319.jpg 16.0\n",
      "8 1-e50b5a99fd9bab50130099c750df6d80f50a9b4e_fdafeaf4b1ec0417f969870e07a0d6401488df85_instant.jpg 17.0\n",
      "9 1-0d8eabdfed2cb1f0d455e5a2050d78ba39ae6cff_0665c9464c856662322717999ae3d8301ff48907_instant.jpg 11.0\n",
      "10 2-746ba8ac1301085b9f8d8d96beb3bf7f9e7a4605_ecc100d2cbc4a9fc70c2fde3eafaadb6ceb588ca_instant.jpg 29.0\n"
     ]
    },
    {
     "data": {
      "text/html": [
       "<div>\n",
       "<style scoped>\n",
       "    .dataframe tbody tr th:only-of-type {\n",
       "        vertical-align: middle;\n",
       "    }\n",
       "\n",
       "    .dataframe tbody tr th {\n",
       "        vertical-align: top;\n",
       "    }\n",
       "\n",
       "    .dataframe thead th {\n",
       "        text-align: right;\n",
       "    }\n",
       "</style>\n",
       "<table border=\"1\" class=\"dataframe\">\n",
       "  <thead>\n",
       "    <tr style=\"text-align: right;\">\n",
       "      <th></th>\n",
       "      <th>model</th>\n",
       "      <th>subseq</th>\n",
       "      <th>peaks</th>\n",
       "      <th>binary</th>\n",
       "      <th>mwa</th>\n",
       "    </tr>\n",
       "  </thead>\n",
       "  <tbody>\n",
       "    <tr>\n",
       "      <th>0</th>\n",
       "      <td>Polar</td>\n",
       "      <td>58.947436</td>\n",
       "      <td>27.469713</td>\n",
       "      <td>162.735774</td>\n",
       "      <td>37.948622</td>\n",
       "    </tr>\n",
       "  </tbody>\n",
       "</table>\n",
       "</div>"
      ],
      "text/plain": [
       "   model     subseq      peaks      binary        mwa\n",
       "0  Polar  58.947436  27.469713  162.735774  37.948622"
      ]
     },
     "metadata": {},
     "output_type": "display_data"
    }
   ],
   "source": [
    "with_model(Model.POLAR, lines, points, data_dir, ranking_url, pith_url, rings_url, mse_url)"
   ]
  },
  {
   "cell_type": "code",
   "execution_count": 15,
   "id": "1b0ac3f1",
   "metadata": {},
   "outputs": [
    {
     "name": "stdout",
     "output_type": "stream",
     "text": [
      "0 2-34e23370868237a073d086fb64851017e9b2c8c9_85903b8cb210e9ad54581e7a37999bcd5fb18443_instant.jpg 87.0\n",
      "1 1-5d205d5ea6bafd3c2e038cf1139cdd5a9825388f_275cb29ffc473512447ce75ff34baa4ecea7276d_instant_210319.jpg 59.666666666666664\n",
      "2 1-11c00bf7cc3e03dc86bde8a20c8ab390b0b2f2a4_d5d5dbc0f05ff34587375f4a567740b61c4731a6_instant_210319.jpg 18.0\n",
      "3 2-8c5de8aa63e57b1e5d3a11ce4c4e2ded042b2ef3_0693ab68bf2278539a3733129d6964ba7719f7b2.jpg 22.0\n",
      "4 1-3d78e56849a16c0b17831129f6059e367574a138_8560eccb0f16269a00f2d6c6a5fab7419529c803_instant.jpg 15.0\n",
      "5 1-947a57fc1b94be1fb8a5cce439cd8112016648b1_b151d6624e13c4d31f300f909ebb63577e42a730_instant.jpg 19.0\n",
      "6 1-1f43f59e9f5ead12a13b1cd892a8757242367189_9cd89303dd466e6b178399f8d02b12aae69ec707_instant.jpg 14.0\n",
      "7 1-85fde97a518625ed46589a6be46300e36c3ad0d9_6626ee8bedc11ff89bd5a6205d10710e72ed9801_instant_210319.jpg 16.0\n",
      "8 1-e50b5a99fd9bab50130099c750df6d80f50a9b4e_fdafeaf4b1ec0417f969870e07a0d6401488df85_instant.jpg 17.0\n",
      "9 1-0d8eabdfed2cb1f0d455e5a2050d78ba39ae6cff_0665c9464c856662322717999ae3d8301ff48907_instant.jpg 11.0\n",
      "10 2-746ba8ac1301085b9f8d8d96beb3bf7f9e7a4605_ecc100d2cbc4a9fc70c2fde3eafaadb6ceb588ca_instant.jpg 29.0\n"
     ]
    },
    {
     "data": {
      "text/html": [
       "<div>\n",
       "<style scoped>\n",
       "    .dataframe tbody tr th:only-of-type {\n",
       "        vertical-align: middle;\n",
       "    }\n",
       "\n",
       "    .dataframe tbody tr th {\n",
       "        vertical-align: top;\n",
       "    }\n",
       "\n",
       "    .dataframe thead th {\n",
       "        text-align: right;\n",
       "    }\n",
       "</style>\n",
       "<table border=\"1\" class=\"dataframe\">\n",
       "  <thead>\n",
       "    <tr style=\"text-align: right;\">\n",
       "      <th></th>\n",
       "      <th>model</th>\n",
       "      <th>subseq</th>\n",
       "      <th>peaks</th>\n",
       "      <th>binary</th>\n",
       "      <th>mwa</th>\n",
       "    </tr>\n",
       "  </thead>\n",
       "  <tbody>\n",
       "    <tr>\n",
       "      <th>0</th>\n",
       "      <td>Polar Pith</td>\n",
       "      <td>56.959764</td>\n",
       "      <td>26.993525</td>\n",
       "      <td>158.89147</td>\n",
       "      <td>37.865317</td>\n",
       "    </tr>\n",
       "  </tbody>\n",
       "</table>\n",
       "</div>"
      ],
      "text/plain": [
       "        model     subseq      peaks     binary        mwa\n",
       "0  Polar Pith  56.959764  26.993525  158.89147  37.865317"
      ]
     },
     "metadata": {},
     "output_type": "display_data"
    }
   ],
   "source": [
    "with_model(Model.POLAR_PITH, lines, points, data_dir, ranking_url, pith_url, rings_url, mse_url)"
   ]
  },
  {
   "cell_type": "code",
   "execution_count": null,
   "id": "35b80fb0",
   "metadata": {},
   "outputs": [],
   "source": []
  },
  {
   "cell_type": "code",
   "execution_count": 16,
   "id": "58f9f265",
   "metadata": {},
   "outputs": [
    {
     "name": "stdout",
     "output_type": "stream",
     "text": [
      "0 2-34e23370868237a073d086fb64851017e9b2c8c9_85903b8cb210e9ad54581e7a37999bcd5fb18443_instant.jpg 87.0\n",
      "1 1-5d205d5ea6bafd3c2e038cf1139cdd5a9825388f_275cb29ffc473512447ce75ff34baa4ecea7276d_instant_210319.jpg 59.666666666666664\n",
      "2 1-11c00bf7cc3e03dc86bde8a20c8ab390b0b2f2a4_d5d5dbc0f05ff34587375f4a567740b61c4731a6_instant_210319.jpg 18.0\n",
      "3 2-8c5de8aa63e57b1e5d3a11ce4c4e2ded042b2ef3_0693ab68bf2278539a3733129d6964ba7719f7b2.jpg 22.0\n",
      "4 1-3d78e56849a16c0b17831129f6059e367574a138_8560eccb0f16269a00f2d6c6a5fab7419529c803_instant.jpg 15.0\n",
      "5 1-947a57fc1b94be1fb8a5cce439cd8112016648b1_b151d6624e13c4d31f300f909ebb63577e42a730_instant.jpg 19.0\n",
      "6 1-1f43f59e9f5ead12a13b1cd892a8757242367189_9cd89303dd466e6b178399f8d02b12aae69ec707_instant.jpg 14.0\n",
      "7 1-85fde97a518625ed46589a6be46300e36c3ad0d9_6626ee8bedc11ff89bd5a6205d10710e72ed9801_instant_210319.jpg 16.0\n",
      "8 1-e50b5a99fd9bab50130099c750df6d80f50a9b4e_fdafeaf4b1ec0417f969870e07a0d6401488df85_instant.jpg 17.0\n",
      "9 1-0d8eabdfed2cb1f0d455e5a2050d78ba39ae6cff_0665c9464c856662322717999ae3d8301ff48907_instant.jpg 11.0\n",
      "10 2-746ba8ac1301085b9f8d8d96beb3bf7f9e7a4605_ecc100d2cbc4a9fc70c2fde3eafaadb6ceb588ca_instant.jpg 29.0\n"
     ]
    },
    {
     "data": {
      "text/html": [
       "<div>\n",
       "<style scoped>\n",
       "    .dataframe tbody tr th:only-of-type {\n",
       "        vertical-align: middle;\n",
       "    }\n",
       "\n",
       "    .dataframe tbody tr th {\n",
       "        vertical-align: top;\n",
       "    }\n",
       "\n",
       "    .dataframe thead th {\n",
       "        text-align: right;\n",
       "    }\n",
       "</style>\n",
       "<table border=\"1\" class=\"dataframe\">\n",
       "  <thead>\n",
       "    <tr style=\"text-align: right;\">\n",
       "      <th></th>\n",
       "      <th>model</th>\n",
       "      <th>subseq</th>\n",
       "      <th>peaks</th>\n",
       "      <th>binary</th>\n",
       "      <th>mwa</th>\n",
       "    </tr>\n",
       "  </thead>\n",
       "  <tbody>\n",
       "    <tr>\n",
       "      <th>0</th>\n",
       "      <td>Sobel</td>\n",
       "      <td>150.61828</td>\n",
       "      <td>41.337847</td>\n",
       "      <td>175.260492</td>\n",
       "      <td>79.2925</td>\n",
       "    </tr>\n",
       "  </tbody>\n",
       "</table>\n",
       "</div>"
      ],
      "text/plain": [
       "   model     subseq      peaks      binary      mwa\n",
       "0  Sobel  150.61828  41.337847  175.260492  79.2925"
      ]
     },
     "metadata": {},
     "output_type": "display_data"
    }
   ],
   "source": [
    "with_model(Model.SOBEL_EDGE, lines, points, data_dir, ranking_url, pith_url, rings_url, mse_url)"
   ]
  },
  {
   "cell_type": "code",
   "execution_count": 17,
   "id": "48d1849e",
   "metadata": {},
   "outputs": [
    {
     "name": "stdout",
     "output_type": "stream",
     "text": [
      "0 2-34e23370868237a073d086fb64851017e9b2c8c9_85903b8cb210e9ad54581e7a37999bcd5fb18443_instant.jpg 87.0\n",
      "1 1-5d205d5ea6bafd3c2e038cf1139cdd5a9825388f_275cb29ffc473512447ce75ff34baa4ecea7276d_instant_210319.jpg 59.666666666666664\n",
      "2 1-11c00bf7cc3e03dc86bde8a20c8ab390b0b2f2a4_d5d5dbc0f05ff34587375f4a567740b61c4731a6_instant_210319.jpg 18.0\n",
      "3 2-8c5de8aa63e57b1e5d3a11ce4c4e2ded042b2ef3_0693ab68bf2278539a3733129d6964ba7719f7b2.jpg 22.0\n",
      "4 1-3d78e56849a16c0b17831129f6059e367574a138_8560eccb0f16269a00f2d6c6a5fab7419529c803_instant.jpg 15.0\n",
      "5 1-947a57fc1b94be1fb8a5cce439cd8112016648b1_b151d6624e13c4d31f300f909ebb63577e42a730_instant.jpg 19.0\n",
      "6 1-1f43f59e9f5ead12a13b1cd892a8757242367189_9cd89303dd466e6b178399f8d02b12aae69ec707_instant.jpg 14.0\n",
      "7 1-85fde97a518625ed46589a6be46300e36c3ad0d9_6626ee8bedc11ff89bd5a6205d10710e72ed9801_instant_210319.jpg 16.0\n",
      "8 1-e50b5a99fd9bab50130099c750df6d80f50a9b4e_fdafeaf4b1ec0417f969870e07a0d6401488df85_instant.jpg 17.0\n",
      "9 1-0d8eabdfed2cb1f0d455e5a2050d78ba39ae6cff_0665c9464c856662322717999ae3d8301ff48907_instant.jpg 11.0\n",
      "10 2-746ba8ac1301085b9f8d8d96beb3bf7f9e7a4605_ecc100d2cbc4a9fc70c2fde3eafaadb6ceb588ca_instant.jpg 29.0\n"
     ]
    },
    {
     "data": {
      "text/html": [
       "<div>\n",
       "<style scoped>\n",
       "    .dataframe tbody tr th:only-of-type {\n",
       "        vertical-align: middle;\n",
       "    }\n",
       "\n",
       "    .dataframe tbody tr th {\n",
       "        vertical-align: top;\n",
       "    }\n",
       "\n",
       "    .dataframe thead th {\n",
       "        text-align: right;\n",
       "    }\n",
       "</style>\n",
       "<table border=\"1\" class=\"dataframe\">\n",
       "  <thead>\n",
       "    <tr style=\"text-align: right;\">\n",
       "      <th></th>\n",
       "      <th>model</th>\n",
       "      <th>subseq</th>\n",
       "      <th>peaks</th>\n",
       "      <th>binary</th>\n",
       "      <th>mwa</th>\n",
       "    </tr>\n",
       "  </thead>\n",
       "  <tbody>\n",
       "    <tr>\n",
       "      <th>0</th>\n",
       "      <td>Sobel(blur)</td>\n",
       "      <td>152.679954</td>\n",
       "      <td>30.898488</td>\n",
       "      <td>168.452281</td>\n",
       "      <td>65.505088</td>\n",
       "    </tr>\n",
       "  </tbody>\n",
       "</table>\n",
       "</div>"
      ],
      "text/plain": [
       "         model      subseq      peaks      binary        mwa\n",
       "0  Sobel(blur)  152.679954  30.898488  168.452281  65.505088"
      ]
     },
     "metadata": {},
     "output_type": "display_data"
    }
   ],
   "source": [
    "with_model(Model.SOBEL_EDGE_BLUR, lines, points, data_dir, ranking_url, pith_url, rings_url, mse_url)"
   ]
  },
  {
   "cell_type": "code",
   "execution_count": 18,
   "id": "bfdb6e13",
   "metadata": {},
   "outputs": [
    {
     "name": "stdout",
     "output_type": "stream",
     "text": [
      "0 2-34e23370868237a073d086fb64851017e9b2c8c9_85903b8cb210e9ad54581e7a37999bcd5fb18443_instant.jpg 87.0\n",
      "1 1-5d205d5ea6bafd3c2e038cf1139cdd5a9825388f_275cb29ffc473512447ce75ff34baa4ecea7276d_instant_210319.jpg 59.666666666666664\n",
      "2 1-11c00bf7cc3e03dc86bde8a20c8ab390b0b2f2a4_d5d5dbc0f05ff34587375f4a567740b61c4731a6_instant_210319.jpg 18.0\n",
      "3 2-8c5de8aa63e57b1e5d3a11ce4c4e2ded042b2ef3_0693ab68bf2278539a3733129d6964ba7719f7b2.jpg 22.0\n",
      "4 1-3d78e56849a16c0b17831129f6059e367574a138_8560eccb0f16269a00f2d6c6a5fab7419529c803_instant.jpg 15.0\n",
      "5 1-947a57fc1b94be1fb8a5cce439cd8112016648b1_b151d6624e13c4d31f300f909ebb63577e42a730_instant.jpg 19.0\n",
      "6 1-1f43f59e9f5ead12a13b1cd892a8757242367189_9cd89303dd466e6b178399f8d02b12aae69ec707_instant.jpg 14.0\n",
      "7 1-85fde97a518625ed46589a6be46300e36c3ad0d9_6626ee8bedc11ff89bd5a6205d10710e72ed9801_instant_210319.jpg 16.0\n",
      "8 1-e50b5a99fd9bab50130099c750df6d80f50a9b4e_fdafeaf4b1ec0417f969870e07a0d6401488df85_instant.jpg 17.0\n",
      "9 1-0d8eabdfed2cb1f0d455e5a2050d78ba39ae6cff_0665c9464c856662322717999ae3d8301ff48907_instant.jpg 11.0\n",
      "10 2-746ba8ac1301085b9f8d8d96beb3bf7f9e7a4605_ecc100d2cbc4a9fc70c2fde3eafaadb6ceb588ca_instant.jpg 29.0\n"
     ]
    },
    {
     "data": {
      "text/html": [
       "<div>\n",
       "<style scoped>\n",
       "    .dataframe tbody tr th:only-of-type {\n",
       "        vertical-align: middle;\n",
       "    }\n",
       "\n",
       "    .dataframe tbody tr th {\n",
       "        vertical-align: top;\n",
       "    }\n",
       "\n",
       "    .dataframe thead th {\n",
       "        text-align: right;\n",
       "    }\n",
       "</style>\n",
       "<table border=\"1\" class=\"dataframe\">\n",
       "  <thead>\n",
       "    <tr style=\"text-align: right;\">\n",
       "      <th></th>\n",
       "      <th>model</th>\n",
       "      <th>subseq</th>\n",
       "      <th>peaks</th>\n",
       "      <th>binary</th>\n",
       "      <th>mwa</th>\n",
       "    </tr>\n",
       "  </thead>\n",
       "  <tbody>\n",
       "    <tr>\n",
       "      <th>0</th>\n",
       "      <td>Canny</td>\n",
       "      <td>33.403038</td>\n",
       "      <td>22.692319</td>\n",
       "      <td>134.787981</td>\n",
       "      <td>90.812433</td>\n",
       "    </tr>\n",
       "  </tbody>\n",
       "</table>\n",
       "</div>"
      ],
      "text/plain": [
       "   model     subseq      peaks      binary        mwa\n",
       "0  Canny  33.403038  22.692319  134.787981  90.812433"
      ]
     },
     "metadata": {},
     "output_type": "display_data"
    }
   ],
   "source": [
    "with_model(Model.CANNY_EDGE, lines, points, data_dir, ranking_url, pith_url, rings_url, mse_url)"
   ]
  },
  {
   "cell_type": "code",
   "execution_count": 19,
   "id": "af83b217",
   "metadata": {},
   "outputs": [
    {
     "name": "stdout",
     "output_type": "stream",
     "text": [
      "0 2-34e23370868237a073d086fb64851017e9b2c8c9_85903b8cb210e9ad54581e7a37999bcd5fb18443_instant.jpg 87.0\n",
      "1 1-5d205d5ea6bafd3c2e038cf1139cdd5a9825388f_275cb29ffc473512447ce75ff34baa4ecea7276d_instant_210319.jpg 59.666666666666664\n",
      "2 1-11c00bf7cc3e03dc86bde8a20c8ab390b0b2f2a4_d5d5dbc0f05ff34587375f4a567740b61c4731a6_instant_210319.jpg 18.0\n",
      "3 2-8c5de8aa63e57b1e5d3a11ce4c4e2ded042b2ef3_0693ab68bf2278539a3733129d6964ba7719f7b2.jpg 22.0\n",
      "4 1-3d78e56849a16c0b17831129f6059e367574a138_8560eccb0f16269a00f2d6c6a5fab7419529c803_instant.jpg 15.0\n",
      "5 1-947a57fc1b94be1fb8a5cce439cd8112016648b1_b151d6624e13c4d31f300f909ebb63577e42a730_instant.jpg 19.0\n",
      "6 1-1f43f59e9f5ead12a13b1cd892a8757242367189_9cd89303dd466e6b178399f8d02b12aae69ec707_instant.jpg 14.0\n",
      "7 1-85fde97a518625ed46589a6be46300e36c3ad0d9_6626ee8bedc11ff89bd5a6205d10710e72ed9801_instant_210319.jpg 16.0\n",
      "8 1-e50b5a99fd9bab50130099c750df6d80f50a9b4e_fdafeaf4b1ec0417f969870e07a0d6401488df85_instant.jpg 17.0\n",
      "9 1-0d8eabdfed2cb1f0d455e5a2050d78ba39ae6cff_0665c9464c856662322717999ae3d8301ff48907_instant.jpg 11.0\n",
      "10 2-746ba8ac1301085b9f8d8d96beb3bf7f9e7a4605_ecc100d2cbc4a9fc70c2fde3eafaadb6ceb588ca_instant.jpg 29.0\n"
     ]
    },
    {
     "data": {
      "text/html": [
       "<div>\n",
       "<style scoped>\n",
       "    .dataframe tbody tr th:only-of-type {\n",
       "        vertical-align: middle;\n",
       "    }\n",
       "\n",
       "    .dataframe tbody tr th {\n",
       "        vertical-align: top;\n",
       "    }\n",
       "\n",
       "    .dataframe thead th {\n",
       "        text-align: right;\n",
       "    }\n",
       "</style>\n",
       "<table border=\"1\" class=\"dataframe\">\n",
       "  <thead>\n",
       "    <tr style=\"text-align: right;\">\n",
       "      <th></th>\n",
       "      <th>model</th>\n",
       "      <th>subseq</th>\n",
       "      <th>peaks</th>\n",
       "      <th>binary</th>\n",
       "      <th>mwa</th>\n",
       "    </tr>\n",
       "  </thead>\n",
       "  <tbody>\n",
       "    <tr>\n",
       "      <th>0</th>\n",
       "      <td>Canny(otsu)</td>\n",
       "      <td>30.358738</td>\n",
       "      <td>21.51351</td>\n",
       "      <td>127.878729</td>\n",
       "      <td>85.002978</td>\n",
       "    </tr>\n",
       "  </tbody>\n",
       "</table>\n",
       "</div>"
      ],
      "text/plain": [
       "         model     subseq     peaks      binary        mwa\n",
       "0  Canny(otsu)  30.358738  21.51351  127.878729  85.002978"
      ]
     },
     "metadata": {},
     "output_type": "display_data"
    }
   ],
   "source": [
    "with_model(Model.CANNY_EDGE_OTSU, lines, points, data_dir, ranking_url, pith_url, rings_url, mse_url)"
   ]
  },
  {
   "cell_type": "code",
   "execution_count": 20,
   "id": "aaf7c5d5",
   "metadata": {},
   "outputs": [
    {
     "name": "stdout",
     "output_type": "stream",
     "text": [
      "0 2-34e23370868237a073d086fb64851017e9b2c8c9_85903b8cb210e9ad54581e7a37999bcd5fb18443_instant.jpg 87.0\n",
      "1 1-5d205d5ea6bafd3c2e038cf1139cdd5a9825388f_275cb29ffc473512447ce75ff34baa4ecea7276d_instant_210319.jpg 59.666666666666664\n",
      "2 1-11c00bf7cc3e03dc86bde8a20c8ab390b0b2f2a4_d5d5dbc0f05ff34587375f4a567740b61c4731a6_instant_210319.jpg 18.0\n",
      "3 2-8c5de8aa63e57b1e5d3a11ce4c4e2ded042b2ef3_0693ab68bf2278539a3733129d6964ba7719f7b2.jpg 22.0\n",
      "4 1-3d78e56849a16c0b17831129f6059e367574a138_8560eccb0f16269a00f2d6c6a5fab7419529c803_instant.jpg 15.0\n",
      "5 1-947a57fc1b94be1fb8a5cce439cd8112016648b1_b151d6624e13c4d31f300f909ebb63577e42a730_instant.jpg 19.0\n",
      "6 1-1f43f59e9f5ead12a13b1cd892a8757242367189_9cd89303dd466e6b178399f8d02b12aae69ec707_instant.jpg 14.0\n",
      "7 1-85fde97a518625ed46589a6be46300e36c3ad0d9_6626ee8bedc11ff89bd5a6205d10710e72ed9801_instant_210319.jpg 16.0\n",
      "8 1-e50b5a99fd9bab50130099c750df6d80f50a9b4e_fdafeaf4b1ec0417f969870e07a0d6401488df85_instant.jpg 17.0\n",
      "9 1-0d8eabdfed2cb1f0d455e5a2050d78ba39ae6cff_0665c9464c856662322717999ae3d8301ff48907_instant.jpg 11.0\n",
      "10 2-746ba8ac1301085b9f8d8d96beb3bf7f9e7a4605_ecc100d2cbc4a9fc70c2fde3eafaadb6ceb588ca_instant.jpg 29.0\n"
     ]
    },
    {
     "data": {
      "text/html": [
       "<div>\n",
       "<style scoped>\n",
       "    .dataframe tbody tr th:only-of-type {\n",
       "        vertical-align: middle;\n",
       "    }\n",
       "\n",
       "    .dataframe tbody tr th {\n",
       "        vertical-align: top;\n",
       "    }\n",
       "\n",
       "    .dataframe thead th {\n",
       "        text-align: right;\n",
       "    }\n",
       "</style>\n",
       "<table border=\"1\" class=\"dataframe\">\n",
       "  <thead>\n",
       "    <tr style=\"text-align: right;\">\n",
       "      <th></th>\n",
       "      <th>model</th>\n",
       "      <th>subseq</th>\n",
       "      <th>peaks</th>\n",
       "      <th>binary</th>\n",
       "      <th>mwa</th>\n",
       "    </tr>\n",
       "  </thead>\n",
       "  <tbody>\n",
       "    <tr>\n",
       "      <th>0</th>\n",
       "      <td>Canny(triangle)</td>\n",
       "      <td>23.426814</td>\n",
       "      <td>19.524419</td>\n",
       "      <td>109.075978</td>\n",
       "      <td>69.854565</td>\n",
       "    </tr>\n",
       "  </tbody>\n",
       "</table>\n",
       "</div>"
      ],
      "text/plain": [
       "             model     subseq      peaks      binary        mwa\n",
       "0  Canny(triangle)  23.426814  19.524419  109.075978  69.854565"
      ]
     },
     "metadata": {},
     "output_type": "display_data"
    }
   ],
   "source": [
    "with_model(Model.CANNY_EDGE_TRIANGLE, lines, points, data_dir, ranking_url, pith_url, rings_url, mse_url)"
   ]
  },
  {
   "cell_type": "code",
   "execution_count": 21,
   "id": "37b04875",
   "metadata": {},
   "outputs": [
    {
     "name": "stdout",
     "output_type": "stream",
     "text": [
      "0 2-34e23370868237a073d086fb64851017e9b2c8c9_85903b8cb210e9ad54581e7a37999bcd5fb18443_instant.jpg 87.0\n",
      "1 1-5d205d5ea6bafd3c2e038cf1139cdd5a9825388f_275cb29ffc473512447ce75ff34baa4ecea7276d_instant_210319.jpg 59.666666666666664\n",
      "2 1-11c00bf7cc3e03dc86bde8a20c8ab390b0b2f2a4_d5d5dbc0f05ff34587375f4a567740b61c4731a6_instant_210319.jpg 18.0\n",
      "3 2-8c5de8aa63e57b1e5d3a11ce4c4e2ded042b2ef3_0693ab68bf2278539a3733129d6964ba7719f7b2.jpg 22.0\n",
      "4 1-3d78e56849a16c0b17831129f6059e367574a138_8560eccb0f16269a00f2d6c6a5fab7419529c803_instant.jpg 15.0\n",
      "5 1-947a57fc1b94be1fb8a5cce439cd8112016648b1_b151d6624e13c4d31f300f909ebb63577e42a730_instant.jpg 19.0\n",
      "6 1-1f43f59e9f5ead12a13b1cd892a8757242367189_9cd89303dd466e6b178399f8d02b12aae69ec707_instant.jpg 14.0\n",
      "7 1-85fde97a518625ed46589a6be46300e36c3ad0d9_6626ee8bedc11ff89bd5a6205d10710e72ed9801_instant_210319.jpg 16.0\n",
      "8 1-e50b5a99fd9bab50130099c750df6d80f50a9b4e_fdafeaf4b1ec0417f969870e07a0d6401488df85_instant.jpg 17.0\n",
      "9 1-0d8eabdfed2cb1f0d455e5a2050d78ba39ae6cff_0665c9464c856662322717999ae3d8301ff48907_instant.jpg 11.0\n",
      "10 2-746ba8ac1301085b9f8d8d96beb3bf7f9e7a4605_ecc100d2cbc4a9fc70c2fde3eafaadb6ceb588ca_instant.jpg 29.0\n"
     ]
    },
    {
     "data": {
      "text/html": [
       "<div>\n",
       "<style scoped>\n",
       "    .dataframe tbody tr th:only-of-type {\n",
       "        vertical-align: middle;\n",
       "    }\n",
       "\n",
       "    .dataframe tbody tr th {\n",
       "        vertical-align: top;\n",
       "    }\n",
       "\n",
       "    .dataframe thead th {\n",
       "        text-align: right;\n",
       "    }\n",
       "</style>\n",
       "<table border=\"1\" class=\"dataframe\">\n",
       "  <thead>\n",
       "    <tr style=\"text-align: right;\">\n",
       "      <th></th>\n",
       "      <th>model</th>\n",
       "      <th>subseq</th>\n",
       "      <th>peaks</th>\n",
       "      <th>binary</th>\n",
       "      <th>mwa</th>\n",
       "    </tr>\n",
       "  </thead>\n",
       "  <tbody>\n",
       "    <tr>\n",
       "      <th>0</th>\n",
       "      <td>Canny(manual)</td>\n",
       "      <td>27.469295</td>\n",
       "      <td>20.324718</td>\n",
       "      <td>121.337408</td>\n",
       "      <td>79.55403</td>\n",
       "    </tr>\n",
       "  </tbody>\n",
       "</table>\n",
       "</div>"
      ],
      "text/plain": [
       "           model     subseq      peaks      binary       mwa\n",
       "0  Canny(manual)  27.469295  20.324718  121.337408  79.55403"
      ]
     },
     "metadata": {},
     "output_type": "display_data"
    }
   ],
   "source": [
    "with_model(Model.CANNY_EDGE_MANUAL, lines, points, data_dir, ranking_url, pith_url, rings_url, mse_url)"
   ]
  },
  {
   "cell_type": "code",
   "execution_count": 22,
   "id": "dadfd80a",
   "metadata": {},
   "outputs": [
    {
     "name": "stdout",
     "output_type": "stream",
     "text": [
      "0 2-34e23370868237a073d086fb64851017e9b2c8c9_85903b8cb210e9ad54581e7a37999bcd5fb18443_instant.jpg 87.0\n",
      "1 1-5d205d5ea6bafd3c2e038cf1139cdd5a9825388f_275cb29ffc473512447ce75ff34baa4ecea7276d_instant_210319.jpg 59.666666666666664\n",
      "2 1-11c00bf7cc3e03dc86bde8a20c8ab390b0b2f2a4_d5d5dbc0f05ff34587375f4a567740b61c4731a6_instant_210319.jpg 18.0\n",
      "3 2-8c5de8aa63e57b1e5d3a11ce4c4e2ded042b2ef3_0693ab68bf2278539a3733129d6964ba7719f7b2.jpg 22.0\n",
      "4 1-3d78e56849a16c0b17831129f6059e367574a138_8560eccb0f16269a00f2d6c6a5fab7419529c803_instant.jpg 15.0\n",
      "5 1-947a57fc1b94be1fb8a5cce439cd8112016648b1_b151d6624e13c4d31f300f909ebb63577e42a730_instant.jpg 19.0\n",
      "6 1-1f43f59e9f5ead12a13b1cd892a8757242367189_9cd89303dd466e6b178399f8d02b12aae69ec707_instant.jpg 14.0\n",
      "7 1-85fde97a518625ed46589a6be46300e36c3ad0d9_6626ee8bedc11ff89bd5a6205d10710e72ed9801_instant_210319.jpg 16.0\n",
      "8 1-e50b5a99fd9bab50130099c750df6d80f50a9b4e_fdafeaf4b1ec0417f969870e07a0d6401488df85_instant.jpg 17.0\n",
      "9 1-0d8eabdfed2cb1f0d455e5a2050d78ba39ae6cff_0665c9464c856662322717999ae3d8301ff48907_instant.jpg 11.0\n",
      "10 2-746ba8ac1301085b9f8d8d96beb3bf7f9e7a4605_ecc100d2cbc4a9fc70c2fde3eafaadb6ceb588ca_instant.jpg 29.0\n"
     ]
    },
    {
     "data": {
      "text/html": [
       "<div>\n",
       "<style scoped>\n",
       "    .dataframe tbody tr th:only-of-type {\n",
       "        vertical-align: middle;\n",
       "    }\n",
       "\n",
       "    .dataframe tbody tr th {\n",
       "        vertical-align: top;\n",
       "    }\n",
       "\n",
       "    .dataframe thead th {\n",
       "        text-align: right;\n",
       "    }\n",
       "</style>\n",
       "<table border=\"1\" class=\"dataframe\">\n",
       "  <thead>\n",
       "    <tr style=\"text-align: right;\">\n",
       "      <th></th>\n",
       "      <th>model</th>\n",
       "      <th>subseq</th>\n",
       "      <th>peaks</th>\n",
       "      <th>binary</th>\n",
       "      <th>mwa</th>\n",
       "    </tr>\n",
       "  </thead>\n",
       "  <tbody>\n",
       "    <tr>\n",
       "      <th>0</th>\n",
       "      <td>Canny(blur)</td>\n",
       "      <td>24.07824</td>\n",
       "      <td>19.633838</td>\n",
       "      <td>117.467604</td>\n",
       "      <td>77.432545</td>\n",
       "    </tr>\n",
       "  </tbody>\n",
       "</table>\n",
       "</div>"
      ],
      "text/plain": [
       "         model    subseq      peaks      binary        mwa\n",
       "0  Canny(blur)  24.07824  19.633838  117.467604  77.432545"
      ]
     },
     "metadata": {},
     "output_type": "display_data"
    }
   ],
   "source": [
    "with_model(Model.CANNY_EDGE_BLUR, lines, points, data_dir, ranking_url, pith_url, rings_url, mse_url)"
   ]
  },
  {
   "cell_type": "code",
   "execution_count": 23,
   "id": "e8ab48ad",
   "metadata": {},
   "outputs": [
    {
     "name": "stdout",
     "output_type": "stream",
     "text": [
      "0 2-34e23370868237a073d086fb64851017e9b2c8c9_85903b8cb210e9ad54581e7a37999bcd5fb18443_instant.jpg 87.0\n",
      "1 1-5d205d5ea6bafd3c2e038cf1139cdd5a9825388f_275cb29ffc473512447ce75ff34baa4ecea7276d_instant_210319.jpg 59.666666666666664\n",
      "2 1-11c00bf7cc3e03dc86bde8a20c8ab390b0b2f2a4_d5d5dbc0f05ff34587375f4a567740b61c4731a6_instant_210319.jpg 18.0\n",
      "3 2-8c5de8aa63e57b1e5d3a11ce4c4e2ded042b2ef3_0693ab68bf2278539a3733129d6964ba7719f7b2.jpg 22.0\n",
      "4 1-3d78e56849a16c0b17831129f6059e367574a138_8560eccb0f16269a00f2d6c6a5fab7419529c803_instant.jpg 15.0\n",
      "5 1-947a57fc1b94be1fb8a5cce439cd8112016648b1_b151d6624e13c4d31f300f909ebb63577e42a730_instant.jpg 19.0\n",
      "6 1-1f43f59e9f5ead12a13b1cd892a8757242367189_9cd89303dd466e6b178399f8d02b12aae69ec707_instant.jpg 14.0\n",
      "7 1-85fde97a518625ed46589a6be46300e36c3ad0d9_6626ee8bedc11ff89bd5a6205d10710e72ed9801_instant_210319.jpg 16.0\n",
      "8 1-e50b5a99fd9bab50130099c750df6d80f50a9b4e_fdafeaf4b1ec0417f969870e07a0d6401488df85_instant.jpg 17.0\n",
      "9 1-0d8eabdfed2cb1f0d455e5a2050d78ba39ae6cff_0665c9464c856662322717999ae3d8301ff48907_instant.jpg 11.0\n",
      "10 2-746ba8ac1301085b9f8d8d96beb3bf7f9e7a4605_ecc100d2cbc4a9fc70c2fde3eafaadb6ceb588ca_instant.jpg 29.0\n"
     ]
    },
    {
     "data": {
      "text/html": [
       "<div>\n",
       "<style scoped>\n",
       "    .dataframe tbody tr th:only-of-type {\n",
       "        vertical-align: middle;\n",
       "    }\n",
       "\n",
       "    .dataframe tbody tr th {\n",
       "        vertical-align: top;\n",
       "    }\n",
       "\n",
       "    .dataframe thead th {\n",
       "        text-align: right;\n",
       "    }\n",
       "</style>\n",
       "<table border=\"1\" class=\"dataframe\">\n",
       "  <thead>\n",
       "    <tr style=\"text-align: right;\">\n",
       "      <th></th>\n",
       "      <th>model</th>\n",
       "      <th>subseq</th>\n",
       "      <th>peaks</th>\n",
       "      <th>binary</th>\n",
       "      <th>mwa</th>\n",
       "    </tr>\n",
       "  </thead>\n",
       "  <tbody>\n",
       "    <tr>\n",
       "      <th>0</th>\n",
       "      <td>Canny(blur otsu)</td>\n",
       "      <td>22.311657</td>\n",
       "      <td>19.421822</td>\n",
       "      <td>110.343698</td>\n",
       "      <td>71.351989</td>\n",
       "    </tr>\n",
       "  </tbody>\n",
       "</table>\n",
       "</div>"
      ],
      "text/plain": [
       "              model     subseq      peaks      binary        mwa\n",
       "0  Canny(blur otsu)  22.311657  19.421822  110.343698  71.351989"
      ]
     },
     "metadata": {},
     "output_type": "display_data"
    }
   ],
   "source": [
    "with_model(Model.CANNY_EDGE_BLUR_OTSU, lines, points, data_dir, ranking_url, pith_url, rings_url, mse_url)"
   ]
  },
  {
   "cell_type": "code",
   "execution_count": 24,
   "id": "23d1a996",
   "metadata": {},
   "outputs": [
    {
     "name": "stdout",
     "output_type": "stream",
     "text": [
      "0 2-34e23370868237a073d086fb64851017e9b2c8c9_85903b8cb210e9ad54581e7a37999bcd5fb18443_instant.jpg 87.0\n",
      "1 1-5d205d5ea6bafd3c2e038cf1139cdd5a9825388f_275cb29ffc473512447ce75ff34baa4ecea7276d_instant_210319.jpg 59.666666666666664\n",
      "2 1-11c00bf7cc3e03dc86bde8a20c8ab390b0b2f2a4_d5d5dbc0f05ff34587375f4a567740b61c4731a6_instant_210319.jpg 18.0\n",
      "3 2-8c5de8aa63e57b1e5d3a11ce4c4e2ded042b2ef3_0693ab68bf2278539a3733129d6964ba7719f7b2.jpg 22.0\n",
      "4 1-3d78e56849a16c0b17831129f6059e367574a138_8560eccb0f16269a00f2d6c6a5fab7419529c803_instant.jpg 15.0\n",
      "5 1-947a57fc1b94be1fb8a5cce439cd8112016648b1_b151d6624e13c4d31f300f909ebb63577e42a730_instant.jpg 19.0\n",
      "6 1-1f43f59e9f5ead12a13b1cd892a8757242367189_9cd89303dd466e6b178399f8d02b12aae69ec707_instant.jpg 14.0\n",
      "7 1-85fde97a518625ed46589a6be46300e36c3ad0d9_6626ee8bedc11ff89bd5a6205d10710e72ed9801_instant_210319.jpg 16.0\n",
      "8 1-e50b5a99fd9bab50130099c750df6d80f50a9b4e_fdafeaf4b1ec0417f969870e07a0d6401488df85_instant.jpg 17.0\n",
      "9 1-0d8eabdfed2cb1f0d455e5a2050d78ba39ae6cff_0665c9464c856662322717999ae3d8301ff48907_instant.jpg 11.0\n",
      "10 2-746ba8ac1301085b9f8d8d96beb3bf7f9e7a4605_ecc100d2cbc4a9fc70c2fde3eafaadb6ceb588ca_instant.jpg 29.0\n"
     ]
    },
    {
     "data": {
      "text/html": [
       "<div>\n",
       "<style scoped>\n",
       "    .dataframe tbody tr th:only-of-type {\n",
       "        vertical-align: middle;\n",
       "    }\n",
       "\n",
       "    .dataframe tbody tr th {\n",
       "        vertical-align: top;\n",
       "    }\n",
       "\n",
       "    .dataframe thead th {\n",
       "        text-align: right;\n",
       "    }\n",
       "</style>\n",
       "<table border=\"1\" class=\"dataframe\">\n",
       "  <thead>\n",
       "    <tr style=\"text-align: right;\">\n",
       "      <th></th>\n",
       "      <th>model</th>\n",
       "      <th>subseq</th>\n",
       "      <th>peaks</th>\n",
       "      <th>binary</th>\n",
       "      <th>mwa</th>\n",
       "    </tr>\n",
       "  </thead>\n",
       "  <tbody>\n",
       "    <tr>\n",
       "      <th>0</th>\n",
       "      <td>Canny(blur triangle)</td>\n",
       "      <td>22.656177</td>\n",
       "      <td>20.581696</td>\n",
       "      <td>97.861817</td>\n",
       "      <td>63.026434</td>\n",
       "    </tr>\n",
       "  </tbody>\n",
       "</table>\n",
       "</div>"
      ],
      "text/plain": [
       "                  model     subseq      peaks     binary        mwa\n",
       "0  Canny(blur triangle)  22.656177  20.581696  97.861817  63.026434"
      ]
     },
     "metadata": {},
     "output_type": "display_data"
    }
   ],
   "source": [
    "with_model(Model.CANNY_EDGE_BLUR_TRIANGLE, lines, points, data_dir, ranking_url, pith_url, rings_url, mse_url)"
   ]
  },
  {
   "cell_type": "code",
   "execution_count": 25,
   "id": "21804530",
   "metadata": {},
   "outputs": [
    {
     "name": "stdout",
     "output_type": "stream",
     "text": [
      "0 2-34e23370868237a073d086fb64851017e9b2c8c9_85903b8cb210e9ad54581e7a37999bcd5fb18443_instant.jpg 87.0\n",
      "1 1-5d205d5ea6bafd3c2e038cf1139cdd5a9825388f_275cb29ffc473512447ce75ff34baa4ecea7276d_instant_210319.jpg 59.666666666666664\n",
      "2 1-11c00bf7cc3e03dc86bde8a20c8ab390b0b2f2a4_d5d5dbc0f05ff34587375f4a567740b61c4731a6_instant_210319.jpg 18.0\n",
      "3 2-8c5de8aa63e57b1e5d3a11ce4c4e2ded042b2ef3_0693ab68bf2278539a3733129d6964ba7719f7b2.jpg 22.0\n",
      "4 1-3d78e56849a16c0b17831129f6059e367574a138_8560eccb0f16269a00f2d6c6a5fab7419529c803_instant.jpg 15.0\n",
      "5 1-947a57fc1b94be1fb8a5cce439cd8112016648b1_b151d6624e13c4d31f300f909ebb63577e42a730_instant.jpg 19.0\n",
      "6 1-1f43f59e9f5ead12a13b1cd892a8757242367189_9cd89303dd466e6b178399f8d02b12aae69ec707_instant.jpg 14.0\n",
      "7 1-85fde97a518625ed46589a6be46300e36c3ad0d9_6626ee8bedc11ff89bd5a6205d10710e72ed9801_instant_210319.jpg 16.0\n",
      "8 1-e50b5a99fd9bab50130099c750df6d80f50a9b4e_fdafeaf4b1ec0417f969870e07a0d6401488df85_instant.jpg 17.0\n",
      "9 1-0d8eabdfed2cb1f0d455e5a2050d78ba39ae6cff_0665c9464c856662322717999ae3d8301ff48907_instant.jpg 11.0\n",
      "10 2-746ba8ac1301085b9f8d8d96beb3bf7f9e7a4605_ecc100d2cbc4a9fc70c2fde3eafaadb6ceb588ca_instant.jpg 29.0\n"
     ]
    },
    {
     "data": {
      "text/html": [
       "<div>\n",
       "<style scoped>\n",
       "    .dataframe tbody tr th:only-of-type {\n",
       "        vertical-align: middle;\n",
       "    }\n",
       "\n",
       "    .dataframe tbody tr th {\n",
       "        vertical-align: top;\n",
       "    }\n",
       "\n",
       "    .dataframe thead th {\n",
       "        text-align: right;\n",
       "    }\n",
       "</style>\n",
       "<table border=\"1\" class=\"dataframe\">\n",
       "  <thead>\n",
       "    <tr style=\"text-align: right;\">\n",
       "      <th></th>\n",
       "      <th>model</th>\n",
       "      <th>subseq</th>\n",
       "      <th>peaks</th>\n",
       "      <th>binary</th>\n",
       "      <th>mwa</th>\n",
       "    </tr>\n",
       "  </thead>\n",
       "  <tbody>\n",
       "    <tr>\n",
       "      <th>0</th>\n",
       "      <td>Canny(blur manual)</td>\n",
       "      <td>20.863356</td>\n",
       "      <td>19.579309</td>\n",
       "      <td>101.38128</td>\n",
       "      <td>64.356764</td>\n",
       "    </tr>\n",
       "  </tbody>\n",
       "</table>\n",
       "</div>"
      ],
      "text/plain": [
       "                model     subseq      peaks     binary        mwa\n",
       "0  Canny(blur manual)  20.863356  19.579309  101.38128  64.356764"
      ]
     },
     "metadata": {},
     "output_type": "display_data"
    }
   ],
   "source": [
    "with_model(Model.CANNY_EDGE_BLUR_MANUAL, lines, points, data_dir, ranking_url, pith_url, rings_url, mse_url)"
   ]
  },
  {
   "cell_type": "code",
   "execution_count": 26,
   "id": "30d22fe1",
   "metadata": {},
   "outputs": [
    {
     "name": "stdout",
     "output_type": "stream",
     "text": [
      "0 2-34e23370868237a073d086fb64851017e9b2c8c9_85903b8cb210e9ad54581e7a37999bcd5fb18443_instant.jpg 87.0\n",
      "1 1-5d205d5ea6bafd3c2e038cf1139cdd5a9825388f_275cb29ffc473512447ce75ff34baa4ecea7276d_instant_210319.jpg 59.666666666666664\n",
      "2 1-11c00bf7cc3e03dc86bde8a20c8ab390b0b2f2a4_d5d5dbc0f05ff34587375f4a567740b61c4731a6_instant_210319.jpg 18.0\n",
      "3 2-8c5de8aa63e57b1e5d3a11ce4c4e2ded042b2ef3_0693ab68bf2278539a3733129d6964ba7719f7b2.jpg 22.0\n",
      "4 1-3d78e56849a16c0b17831129f6059e367574a138_8560eccb0f16269a00f2d6c6a5fab7419529c803_instant.jpg 15.0\n",
      "5 1-947a57fc1b94be1fb8a5cce439cd8112016648b1_b151d6624e13c4d31f300f909ebb63577e42a730_instant.jpg 19.0\n",
      "6 1-1f43f59e9f5ead12a13b1cd892a8757242367189_9cd89303dd466e6b178399f8d02b12aae69ec707_instant.jpg 14.0\n",
      "7 1-85fde97a518625ed46589a6be46300e36c3ad0d9_6626ee8bedc11ff89bd5a6205d10710e72ed9801_instant_210319.jpg 16.0\n",
      "8 1-e50b5a99fd9bab50130099c750df6d80f50a9b4e_fdafeaf4b1ec0417f969870e07a0d6401488df85_instant.jpg 17.0\n",
      "9 1-0d8eabdfed2cb1f0d455e5a2050d78ba39ae6cff_0665c9464c856662322717999ae3d8301ff48907_instant.jpg 11.0\n",
      "10 2-746ba8ac1301085b9f8d8d96beb3bf7f9e7a4605_ecc100d2cbc4a9fc70c2fde3eafaadb6ceb588ca_instant.jpg 29.0\n"
     ]
    },
    {
     "data": {
      "text/html": [
       "<div>\n",
       "<style scoped>\n",
       "    .dataframe tbody tr th:only-of-type {\n",
       "        vertical-align: middle;\n",
       "    }\n",
       "\n",
       "    .dataframe tbody tr th {\n",
       "        vertical-align: top;\n",
       "    }\n",
       "\n",
       "    .dataframe thead th {\n",
       "        text-align: right;\n",
       "    }\n",
       "</style>\n",
       "<table border=\"1\" class=\"dataframe\">\n",
       "  <thead>\n",
       "    <tr style=\"text-align: right;\">\n",
       "      <th></th>\n",
       "      <th>model</th>\n",
       "      <th>subseq</th>\n",
       "      <th>peaks</th>\n",
       "      <th>binary</th>\n",
       "      <th>mwa</th>\n",
       "    </tr>\n",
       "  </thead>\n",
       "  <tbody>\n",
       "    <tr>\n",
       "      <th>0</th>\n",
       "      <td>Laplacian</td>\n",
       "      <td>173.321287</td>\n",
       "      <td>58.962696</td>\n",
       "      <td>205.41727</td>\n",
       "      <td>109.442043</td>\n",
       "    </tr>\n",
       "  </tbody>\n",
       "</table>\n",
       "</div>"
      ],
      "text/plain": [
       "       model      subseq      peaks     binary         mwa\n",
       "0  Laplacian  173.321287  58.962696  205.41727  109.442043"
      ]
     },
     "metadata": {},
     "output_type": "display_data"
    }
   ],
   "source": [
    "with_model(Model.LAPLACIAN_EDGE, lines, points, data_dir, ranking_url, pith_url, rings_url, mse_url)"
   ]
  },
  {
   "cell_type": "code",
   "execution_count": 27,
   "id": "3a400e30",
   "metadata": {},
   "outputs": [
    {
     "name": "stdout",
     "output_type": "stream",
     "text": [
      "0 2-34e23370868237a073d086fb64851017e9b2c8c9_85903b8cb210e9ad54581e7a37999bcd5fb18443_instant.jpg 87.0\n",
      "1 1-5d205d5ea6bafd3c2e038cf1139cdd5a9825388f_275cb29ffc473512447ce75ff34baa4ecea7276d_instant_210319.jpg 59.666666666666664\n",
      "2 1-11c00bf7cc3e03dc86bde8a20c8ab390b0b2f2a4_d5d5dbc0f05ff34587375f4a567740b61c4731a6_instant_210319.jpg 18.0\n",
      "3 2-8c5de8aa63e57b1e5d3a11ce4c4e2ded042b2ef3_0693ab68bf2278539a3733129d6964ba7719f7b2.jpg 22.0\n",
      "4 1-3d78e56849a16c0b17831129f6059e367574a138_8560eccb0f16269a00f2d6c6a5fab7419529c803_instant.jpg 15.0\n",
      "5 1-947a57fc1b94be1fb8a5cce439cd8112016648b1_b151d6624e13c4d31f300f909ebb63577e42a730_instant.jpg 19.0\n",
      "6 1-1f43f59e9f5ead12a13b1cd892a8757242367189_9cd89303dd466e6b178399f8d02b12aae69ec707_instant.jpg 14.0\n",
      "7 1-85fde97a518625ed46589a6be46300e36c3ad0d9_6626ee8bedc11ff89bd5a6205d10710e72ed9801_instant_210319.jpg 16.0\n",
      "8 1-e50b5a99fd9bab50130099c750df6d80f50a9b4e_fdafeaf4b1ec0417f969870e07a0d6401488df85_instant.jpg 17.0\n",
      "9 1-0d8eabdfed2cb1f0d455e5a2050d78ba39ae6cff_0665c9464c856662322717999ae3d8301ff48907_instant.jpg 11.0\n",
      "10 2-746ba8ac1301085b9f8d8d96beb3bf7f9e7a4605_ecc100d2cbc4a9fc70c2fde3eafaadb6ceb588ca_instant.jpg 29.0\n"
     ]
    },
    {
     "data": {
      "text/html": [
       "<div>\n",
       "<style scoped>\n",
       "    .dataframe tbody tr th:only-of-type {\n",
       "        vertical-align: middle;\n",
       "    }\n",
       "\n",
       "    .dataframe tbody tr th {\n",
       "        vertical-align: top;\n",
       "    }\n",
       "\n",
       "    .dataframe thead th {\n",
       "        text-align: right;\n",
       "    }\n",
       "</style>\n",
       "<table border=\"1\" class=\"dataframe\">\n",
       "  <thead>\n",
       "    <tr style=\"text-align: right;\">\n",
       "      <th></th>\n",
       "      <th>model</th>\n",
       "      <th>subseq</th>\n",
       "      <th>peaks</th>\n",
       "      <th>binary</th>\n",
       "      <th>mwa</th>\n",
       "    </tr>\n",
       "  </thead>\n",
       "  <tbody>\n",
       "    <tr>\n",
       "      <th>0</th>\n",
       "      <td>Laplacian(blur)</td>\n",
       "      <td>198.442116</td>\n",
       "      <td>50.884244</td>\n",
       "      <td>219.047549</td>\n",
       "      <td>80.413929</td>\n",
       "    </tr>\n",
       "  </tbody>\n",
       "</table>\n",
       "</div>"
      ],
      "text/plain": [
       "             model      subseq      peaks      binary        mwa\n",
       "0  Laplacian(blur)  198.442116  50.884244  219.047549  80.413929"
      ]
     },
     "metadata": {},
     "output_type": "display_data"
    }
   ],
   "source": [
    "with_model(Model.LAPLACIAN_EDGE_BLUR, lines, points, data_dir, ranking_url, pith_url, rings_url, mse_url)"
   ]
  },
  {
   "cell_type": "code",
   "execution_count": null,
   "id": "bf6dec47",
   "metadata": {},
   "outputs": [],
   "source": []
  },
  {
   "cell_type": "code",
   "execution_count": 28,
   "id": "67430856",
   "metadata": {},
   "outputs": [
    {
     "name": "stdout",
     "output_type": "stream",
     "text": [
      "0 2-34e23370868237a073d086fb64851017e9b2c8c9_85903b8cb210e9ad54581e7a37999bcd5fb18443_instant.jpg 87.0\n",
      "1 1-5d205d5ea6bafd3c2e038cf1139cdd5a9825388f_275cb29ffc473512447ce75ff34baa4ecea7276d_instant_210319.jpg 59.666666666666664\n",
      "2 1-11c00bf7cc3e03dc86bde8a20c8ab390b0b2f2a4_d5d5dbc0f05ff34587375f4a567740b61c4731a6_instant_210319.jpg 18.0\n",
      "3 2-8c5de8aa63e57b1e5d3a11ce4c4e2ded042b2ef3_0693ab68bf2278539a3733129d6964ba7719f7b2.jpg 22.0\n",
      "4 1-3d78e56849a16c0b17831129f6059e367574a138_8560eccb0f16269a00f2d6c6a5fab7419529c803_instant.jpg 15.0\n",
      "5 1-947a57fc1b94be1fb8a5cce439cd8112016648b1_b151d6624e13c4d31f300f909ebb63577e42a730_instant.jpg 19.0\n",
      "6 1-1f43f59e9f5ead12a13b1cd892a8757242367189_9cd89303dd466e6b178399f8d02b12aae69ec707_instant.jpg 14.0\n",
      "7 1-85fde97a518625ed46589a6be46300e36c3ad0d9_6626ee8bedc11ff89bd5a6205d10710e72ed9801_instant_210319.jpg 16.0\n",
      "8 1-e50b5a99fd9bab50130099c750df6d80f50a9b4e_fdafeaf4b1ec0417f969870e07a0d6401488df85_instant.jpg 17.0\n",
      "9 1-0d8eabdfed2cb1f0d455e5a2050d78ba39ae6cff_0665c9464c856662322717999ae3d8301ff48907_instant.jpg 11.0\n",
      "10 2-746ba8ac1301085b9f8d8d96beb3bf7f9e7a4605_ecc100d2cbc4a9fc70c2fde3eafaadb6ceb588ca_instant.jpg 29.0\n"
     ]
    },
    {
     "data": {
      "text/html": [
       "<div>\n",
       "<style scoped>\n",
       "    .dataframe tbody tr th:only-of-type {\n",
       "        vertical-align: middle;\n",
       "    }\n",
       "\n",
       "    .dataframe tbody tr th {\n",
       "        vertical-align: top;\n",
       "    }\n",
       "\n",
       "    .dataframe thead th {\n",
       "        text-align: right;\n",
       "    }\n",
       "</style>\n",
       "<table border=\"1\" class=\"dataframe\">\n",
       "  <thead>\n",
       "    <tr style=\"text-align: right;\">\n",
       "      <th></th>\n",
       "      <th>model</th>\n",
       "      <th>subseq</th>\n",
       "      <th>peaks</th>\n",
       "      <th>binary</th>\n",
       "      <th>mwa</th>\n",
       "    </tr>\n",
       "  </thead>\n",
       "  <tbody>\n",
       "    <tr>\n",
       "      <th>0</th>\n",
       "      <td>Polar Sobel</td>\n",
       "      <td>71.685276</td>\n",
       "      <td>24.149227</td>\n",
       "      <td>112.144895</td>\n",
       "      <td>35.326062</td>\n",
       "    </tr>\n",
       "  </tbody>\n",
       "</table>\n",
       "</div>"
      ],
      "text/plain": [
       "         model     subseq      peaks      binary        mwa\n",
       "0  Polar Sobel  71.685276  24.149227  112.144895  35.326062"
      ]
     },
     "metadata": {},
     "output_type": "display_data"
    }
   ],
   "source": [
    "with_model(Model.POLAR_SOBEL_EDGE, lines, points, data_dir, ranking_url, pith_url, rings_url, mse_url)"
   ]
  },
  {
   "cell_type": "code",
   "execution_count": 29,
   "id": "3b6f3da2",
   "metadata": {},
   "outputs": [
    {
     "name": "stdout",
     "output_type": "stream",
     "text": [
      "0 2-34e23370868237a073d086fb64851017e9b2c8c9_85903b8cb210e9ad54581e7a37999bcd5fb18443_instant.jpg 87.0\n",
      "1 1-5d205d5ea6bafd3c2e038cf1139cdd5a9825388f_275cb29ffc473512447ce75ff34baa4ecea7276d_instant_210319.jpg 59.666666666666664\n",
      "2 1-11c00bf7cc3e03dc86bde8a20c8ab390b0b2f2a4_d5d5dbc0f05ff34587375f4a567740b61c4731a6_instant_210319.jpg 18.0\n",
      "3 2-8c5de8aa63e57b1e5d3a11ce4c4e2ded042b2ef3_0693ab68bf2278539a3733129d6964ba7719f7b2.jpg 22.0\n",
      "4 1-3d78e56849a16c0b17831129f6059e367574a138_8560eccb0f16269a00f2d6c6a5fab7419529c803_instant.jpg 15.0\n",
      "5 1-947a57fc1b94be1fb8a5cce439cd8112016648b1_b151d6624e13c4d31f300f909ebb63577e42a730_instant.jpg 19.0\n",
      "6 1-1f43f59e9f5ead12a13b1cd892a8757242367189_9cd89303dd466e6b178399f8d02b12aae69ec707_instant.jpg 14.0\n",
      "7 1-85fde97a518625ed46589a6be46300e36c3ad0d9_6626ee8bedc11ff89bd5a6205d10710e72ed9801_instant_210319.jpg 16.0\n",
      "8 1-e50b5a99fd9bab50130099c750df6d80f50a9b4e_fdafeaf4b1ec0417f969870e07a0d6401488df85_instant.jpg 17.0\n",
      "9 1-0d8eabdfed2cb1f0d455e5a2050d78ba39ae6cff_0665c9464c856662322717999ae3d8301ff48907_instant.jpg 11.0\n",
      "10 2-746ba8ac1301085b9f8d8d96beb3bf7f9e7a4605_ecc100d2cbc4a9fc70c2fde3eafaadb6ceb588ca_instant.jpg 29.0\n"
     ]
    },
    {
     "data": {
      "text/html": [
       "<div>\n",
       "<style scoped>\n",
       "    .dataframe tbody tr th:only-of-type {\n",
       "        vertical-align: middle;\n",
       "    }\n",
       "\n",
       "    .dataframe tbody tr th {\n",
       "        vertical-align: top;\n",
       "    }\n",
       "\n",
       "    .dataframe thead th {\n",
       "        text-align: right;\n",
       "    }\n",
       "</style>\n",
       "<table border=\"1\" class=\"dataframe\">\n",
       "  <thead>\n",
       "    <tr style=\"text-align: right;\">\n",
       "      <th></th>\n",
       "      <th>model</th>\n",
       "      <th>subseq</th>\n",
       "      <th>peaks</th>\n",
       "      <th>binary</th>\n",
       "      <th>mwa</th>\n",
       "    </tr>\n",
       "  </thead>\n",
       "  <tbody>\n",
       "    <tr>\n",
       "      <th>0</th>\n",
       "      <td>Polar Sobel(blur)</td>\n",
       "      <td>72.113482</td>\n",
       "      <td>25.82342</td>\n",
       "      <td>106.759224</td>\n",
       "      <td>26.752735</td>\n",
       "    </tr>\n",
       "  </tbody>\n",
       "</table>\n",
       "</div>"
      ],
      "text/plain": [
       "               model     subseq     peaks      binary        mwa\n",
       "0  Polar Sobel(blur)  72.113482  25.82342  106.759224  26.752735"
      ]
     },
     "metadata": {},
     "output_type": "display_data"
    }
   ],
   "source": [
    "with_model(Model.POLAR_SOBEL_EDGE_BLUR, lines, points, data_dir, ranking_url, pith_url, rings_url, mse_url)"
   ]
  },
  {
   "cell_type": "code",
   "execution_count": 30,
   "id": "ee75dd80",
   "metadata": {},
   "outputs": [
    {
     "name": "stdout",
     "output_type": "stream",
     "text": [
      "0 2-34e23370868237a073d086fb64851017e9b2c8c9_85903b8cb210e9ad54581e7a37999bcd5fb18443_instant.jpg 87.0\n",
      "1 1-5d205d5ea6bafd3c2e038cf1139cdd5a9825388f_275cb29ffc473512447ce75ff34baa4ecea7276d_instant_210319.jpg 59.666666666666664\n",
      "2 1-11c00bf7cc3e03dc86bde8a20c8ab390b0b2f2a4_d5d5dbc0f05ff34587375f4a567740b61c4731a6_instant_210319.jpg 18.0\n",
      "3 2-8c5de8aa63e57b1e5d3a11ce4c4e2ded042b2ef3_0693ab68bf2278539a3733129d6964ba7719f7b2.jpg 22.0\n",
      "4 1-3d78e56849a16c0b17831129f6059e367574a138_8560eccb0f16269a00f2d6c6a5fab7419529c803_instant.jpg 15.0\n",
      "5 1-947a57fc1b94be1fb8a5cce439cd8112016648b1_b151d6624e13c4d31f300f909ebb63577e42a730_instant.jpg 19.0\n",
      "6 1-1f43f59e9f5ead12a13b1cd892a8757242367189_9cd89303dd466e6b178399f8d02b12aae69ec707_instant.jpg 14.0\n",
      "7 1-85fde97a518625ed46589a6be46300e36c3ad0d9_6626ee8bedc11ff89bd5a6205d10710e72ed9801_instant_210319.jpg 16.0\n",
      "8 1-e50b5a99fd9bab50130099c750df6d80f50a9b4e_fdafeaf4b1ec0417f969870e07a0d6401488df85_instant.jpg 17.0\n",
      "9 1-0d8eabdfed2cb1f0d455e5a2050d78ba39ae6cff_0665c9464c856662322717999ae3d8301ff48907_instant.jpg 11.0\n",
      "10 2-746ba8ac1301085b9f8d8d96beb3bf7f9e7a4605_ecc100d2cbc4a9fc70c2fde3eafaadb6ceb588ca_instant.jpg 29.0\n"
     ]
    },
    {
     "data": {
      "text/html": [
       "<div>\n",
       "<style scoped>\n",
       "    .dataframe tbody tr th:only-of-type {\n",
       "        vertical-align: middle;\n",
       "    }\n",
       "\n",
       "    .dataframe tbody tr th {\n",
       "        vertical-align: top;\n",
       "    }\n",
       "\n",
       "    .dataframe thead th {\n",
       "        text-align: right;\n",
       "    }\n",
       "</style>\n",
       "<table border=\"1\" class=\"dataframe\">\n",
       "  <thead>\n",
       "    <tr style=\"text-align: right;\">\n",
       "      <th></th>\n",
       "      <th>model</th>\n",
       "      <th>subseq</th>\n",
       "      <th>peaks</th>\n",
       "      <th>binary</th>\n",
       "      <th>mwa</th>\n",
       "    </tr>\n",
       "  </thead>\n",
       "  <tbody>\n",
       "    <tr>\n",
       "      <th>0</th>\n",
       "      <td>Polar Canny</td>\n",
       "      <td>24.777001</td>\n",
       "      <td>26.41322</td>\n",
       "      <td>62.37825</td>\n",
       "      <td>37.19596</td>\n",
       "    </tr>\n",
       "  </tbody>\n",
       "</table>\n",
       "</div>"
      ],
      "text/plain": [
       "         model     subseq     peaks    binary       mwa\n",
       "0  Polar Canny  24.777001  26.41322  62.37825  37.19596"
      ]
     },
     "metadata": {},
     "output_type": "display_data"
    }
   ],
   "source": [
    "with_model(Model.POLAR_CANNY_EDGE, lines, points, data_dir, ranking_url, pith_url, rings_url, mse_url)"
   ]
  },
  {
   "cell_type": "code",
   "execution_count": 31,
   "id": "95860264",
   "metadata": {},
   "outputs": [
    {
     "name": "stdout",
     "output_type": "stream",
     "text": [
      "0 2-34e23370868237a073d086fb64851017e9b2c8c9_85903b8cb210e9ad54581e7a37999bcd5fb18443_instant.jpg 87.0\n",
      "1 1-5d205d5ea6bafd3c2e038cf1139cdd5a9825388f_275cb29ffc473512447ce75ff34baa4ecea7276d_instant_210319.jpg 59.666666666666664\n",
      "2 1-11c00bf7cc3e03dc86bde8a20c8ab390b0b2f2a4_d5d5dbc0f05ff34587375f4a567740b61c4731a6_instant_210319.jpg 18.0\n",
      "3 2-8c5de8aa63e57b1e5d3a11ce4c4e2ded042b2ef3_0693ab68bf2278539a3733129d6964ba7719f7b2.jpg 22.0\n",
      "4 1-3d78e56849a16c0b17831129f6059e367574a138_8560eccb0f16269a00f2d6c6a5fab7419529c803_instant.jpg 15.0\n",
      "5 1-947a57fc1b94be1fb8a5cce439cd8112016648b1_b151d6624e13c4d31f300f909ebb63577e42a730_instant.jpg 19.0\n",
      "6 1-1f43f59e9f5ead12a13b1cd892a8757242367189_9cd89303dd466e6b178399f8d02b12aae69ec707_instant.jpg 14.0\n",
      "7 1-85fde97a518625ed46589a6be46300e36c3ad0d9_6626ee8bedc11ff89bd5a6205d10710e72ed9801_instant_210319.jpg 16.0\n",
      "8 1-e50b5a99fd9bab50130099c750df6d80f50a9b4e_fdafeaf4b1ec0417f969870e07a0d6401488df85_instant.jpg 17.0\n",
      "9 1-0d8eabdfed2cb1f0d455e5a2050d78ba39ae6cff_0665c9464c856662322717999ae3d8301ff48907_instant.jpg 11.0\n",
      "10 2-746ba8ac1301085b9f8d8d96beb3bf7f9e7a4605_ecc100d2cbc4a9fc70c2fde3eafaadb6ceb588ca_instant.jpg 29.0\n"
     ]
    },
    {
     "data": {
      "text/html": [
       "<div>\n",
       "<style scoped>\n",
       "    .dataframe tbody tr th:only-of-type {\n",
       "        vertical-align: middle;\n",
       "    }\n",
       "\n",
       "    .dataframe tbody tr th {\n",
       "        vertical-align: top;\n",
       "    }\n",
       "\n",
       "    .dataframe thead th {\n",
       "        text-align: right;\n",
       "    }\n",
       "</style>\n",
       "<table border=\"1\" class=\"dataframe\">\n",
       "  <thead>\n",
       "    <tr style=\"text-align: right;\">\n",
       "      <th></th>\n",
       "      <th>model</th>\n",
       "      <th>subseq</th>\n",
       "      <th>peaks</th>\n",
       "      <th>binary</th>\n",
       "      <th>mwa</th>\n",
       "    </tr>\n",
       "  </thead>\n",
       "  <tbody>\n",
       "    <tr>\n",
       "      <th>0</th>\n",
       "      <td>Polar Canny(otsu)</td>\n",
       "      <td>25.78753</td>\n",
       "      <td>27.526548</td>\n",
       "      <td>53.391933</td>\n",
       "      <td>31.737494</td>\n",
       "    </tr>\n",
       "  </tbody>\n",
       "</table>\n",
       "</div>"
      ],
      "text/plain": [
       "               model    subseq      peaks     binary        mwa\n",
       "0  Polar Canny(otsu)  25.78753  27.526548  53.391933  31.737494"
      ]
     },
     "metadata": {},
     "output_type": "display_data"
    }
   ],
   "source": [
    "with_model(Model.POLAR_CANNY_EDGE_OTSU, lines, points, data_dir, ranking_url, pith_url, rings_url, mse_url)"
   ]
  },
  {
   "cell_type": "code",
   "execution_count": 32,
   "id": "cb91f2b9",
   "metadata": {},
   "outputs": [
    {
     "name": "stdout",
     "output_type": "stream",
     "text": [
      "0 2-34e23370868237a073d086fb64851017e9b2c8c9_85903b8cb210e9ad54581e7a37999bcd5fb18443_instant.jpg 87.0\n",
      "1 1-5d205d5ea6bafd3c2e038cf1139cdd5a9825388f_275cb29ffc473512447ce75ff34baa4ecea7276d_instant_210319.jpg 59.666666666666664\n",
      "2 1-11c00bf7cc3e03dc86bde8a20c8ab390b0b2f2a4_d5d5dbc0f05ff34587375f4a567740b61c4731a6_instant_210319.jpg 18.0\n",
      "3 2-8c5de8aa63e57b1e5d3a11ce4c4e2ded042b2ef3_0693ab68bf2278539a3733129d6964ba7719f7b2.jpg 22.0\n",
      "4 1-3d78e56849a16c0b17831129f6059e367574a138_8560eccb0f16269a00f2d6c6a5fab7419529c803_instant.jpg 15.0\n",
      "5 1-947a57fc1b94be1fb8a5cce439cd8112016648b1_b151d6624e13c4d31f300f909ebb63577e42a730_instant.jpg 19.0\n",
      "6 1-1f43f59e9f5ead12a13b1cd892a8757242367189_9cd89303dd466e6b178399f8d02b12aae69ec707_instant.jpg 14.0\n",
      "7 1-85fde97a518625ed46589a6be46300e36c3ad0d9_6626ee8bedc11ff89bd5a6205d10710e72ed9801_instant_210319.jpg 16.0\n",
      "8 1-e50b5a99fd9bab50130099c750df6d80f50a9b4e_fdafeaf4b1ec0417f969870e07a0d6401488df85_instant.jpg 17.0\n",
      "9 1-0d8eabdfed2cb1f0d455e5a2050d78ba39ae6cff_0665c9464c856662322717999ae3d8301ff48907_instant.jpg 11.0\n",
      "10 2-746ba8ac1301085b9f8d8d96beb3bf7f9e7a4605_ecc100d2cbc4a9fc70c2fde3eafaadb6ceb588ca_instant.jpg 29.0\n"
     ]
    },
    {
     "data": {
      "text/html": [
       "<div>\n",
       "<style scoped>\n",
       "    .dataframe tbody tr th:only-of-type {\n",
       "        vertical-align: middle;\n",
       "    }\n",
       "\n",
       "    .dataframe tbody tr th {\n",
       "        vertical-align: top;\n",
       "    }\n",
       "\n",
       "    .dataframe thead th {\n",
       "        text-align: right;\n",
       "    }\n",
       "</style>\n",
       "<table border=\"1\" class=\"dataframe\">\n",
       "  <thead>\n",
       "    <tr style=\"text-align: right;\">\n",
       "      <th></th>\n",
       "      <th>model</th>\n",
       "      <th>subseq</th>\n",
       "      <th>peaks</th>\n",
       "      <th>binary</th>\n",
       "      <th>mwa</th>\n",
       "    </tr>\n",
       "  </thead>\n",
       "  <tbody>\n",
       "    <tr>\n",
       "      <th>0</th>\n",
       "      <td>Polar Canny(triangle)</td>\n",
       "      <td>28.922513</td>\n",
       "      <td>30.273818</td>\n",
       "      <td>35.120368</td>\n",
       "      <td>24.464064</td>\n",
       "    </tr>\n",
       "  </tbody>\n",
       "</table>\n",
       "</div>"
      ],
      "text/plain": [
       "                   model     subseq      peaks     binary        mwa\n",
       "0  Polar Canny(triangle)  28.922513  30.273818  35.120368  24.464064"
      ]
     },
     "metadata": {},
     "output_type": "display_data"
    }
   ],
   "source": [
    "with_model(Model.POLAR_CANNY_EDGE_TRIANGLE, lines, points, data_dir, ranking_url, pith_url, rings_url, mse_url)"
   ]
  },
  {
   "cell_type": "code",
   "execution_count": 33,
   "id": "b9b3b7fa",
   "metadata": {},
   "outputs": [
    {
     "name": "stdout",
     "output_type": "stream",
     "text": [
      "0 2-34e23370868237a073d086fb64851017e9b2c8c9_85903b8cb210e9ad54581e7a37999bcd5fb18443_instant.jpg 87.0\n",
      "1 1-5d205d5ea6bafd3c2e038cf1139cdd5a9825388f_275cb29ffc473512447ce75ff34baa4ecea7276d_instant_210319.jpg 59.666666666666664\n",
      "2 1-11c00bf7cc3e03dc86bde8a20c8ab390b0b2f2a4_d5d5dbc0f05ff34587375f4a567740b61c4731a6_instant_210319.jpg 18.0\n",
      "3 2-8c5de8aa63e57b1e5d3a11ce4c4e2ded042b2ef3_0693ab68bf2278539a3733129d6964ba7719f7b2.jpg 22.0\n",
      "4 1-3d78e56849a16c0b17831129f6059e367574a138_8560eccb0f16269a00f2d6c6a5fab7419529c803_instant.jpg 15.0\n",
      "5 1-947a57fc1b94be1fb8a5cce439cd8112016648b1_b151d6624e13c4d31f300f909ebb63577e42a730_instant.jpg 19.0\n",
      "6 1-1f43f59e9f5ead12a13b1cd892a8757242367189_9cd89303dd466e6b178399f8d02b12aae69ec707_instant.jpg 14.0\n",
      "7 1-85fde97a518625ed46589a6be46300e36c3ad0d9_6626ee8bedc11ff89bd5a6205d10710e72ed9801_instant_210319.jpg 16.0\n",
      "8 1-e50b5a99fd9bab50130099c750df6d80f50a9b4e_fdafeaf4b1ec0417f969870e07a0d6401488df85_instant.jpg 17.0\n",
      "9 1-0d8eabdfed2cb1f0d455e5a2050d78ba39ae6cff_0665c9464c856662322717999ae3d8301ff48907_instant.jpg 11.0\n",
      "10 2-746ba8ac1301085b9f8d8d96beb3bf7f9e7a4605_ecc100d2cbc4a9fc70c2fde3eafaadb6ceb588ca_instant.jpg 29.0\n"
     ]
    },
    {
     "data": {
      "text/html": [
       "<div>\n",
       "<style scoped>\n",
       "    .dataframe tbody tr th:only-of-type {\n",
       "        vertical-align: middle;\n",
       "    }\n",
       "\n",
       "    .dataframe tbody tr th {\n",
       "        vertical-align: top;\n",
       "    }\n",
       "\n",
       "    .dataframe thead th {\n",
       "        text-align: right;\n",
       "    }\n",
       "</style>\n",
       "<table border=\"1\" class=\"dataframe\">\n",
       "  <thead>\n",
       "    <tr style=\"text-align: right;\">\n",
       "      <th></th>\n",
       "      <th>model</th>\n",
       "      <th>subseq</th>\n",
       "      <th>peaks</th>\n",
       "      <th>binary</th>\n",
       "      <th>mwa</th>\n",
       "    </tr>\n",
       "  </thead>\n",
       "  <tbody>\n",
       "    <tr>\n",
       "      <th>0</th>\n",
       "      <td>Polar Canny(manual)</td>\n",
       "      <td>29.069204</td>\n",
       "      <td>30.402443</td>\n",
       "      <td>34.850644</td>\n",
       "      <td>24.494214</td>\n",
       "    </tr>\n",
       "  </tbody>\n",
       "</table>\n",
       "</div>"
      ],
      "text/plain": [
       "                 model     subseq      peaks     binary        mwa\n",
       "0  Polar Canny(manual)  29.069204  30.402443  34.850644  24.494214"
      ]
     },
     "metadata": {},
     "output_type": "display_data"
    }
   ],
   "source": [
    "with_model(Model.POLAR_CANNY_EDGE_MANUAL, lines, points, data_dir, ranking_url, pith_url, rings_url, mse_url)"
   ]
  },
  {
   "cell_type": "code",
   "execution_count": 34,
   "id": "f3b7e6da",
   "metadata": {},
   "outputs": [
    {
     "name": "stdout",
     "output_type": "stream",
     "text": [
      "0 2-34e23370868237a073d086fb64851017e9b2c8c9_85903b8cb210e9ad54581e7a37999bcd5fb18443_instant.jpg 87.0\n",
      "1 1-5d205d5ea6bafd3c2e038cf1139cdd5a9825388f_275cb29ffc473512447ce75ff34baa4ecea7276d_instant_210319.jpg 59.666666666666664\n",
      "2 1-11c00bf7cc3e03dc86bde8a20c8ab390b0b2f2a4_d5d5dbc0f05ff34587375f4a567740b61c4731a6_instant_210319.jpg 18.0\n",
      "3 2-8c5de8aa63e57b1e5d3a11ce4c4e2ded042b2ef3_0693ab68bf2278539a3733129d6964ba7719f7b2.jpg 22.0\n",
      "4 1-3d78e56849a16c0b17831129f6059e367574a138_8560eccb0f16269a00f2d6c6a5fab7419529c803_instant.jpg 15.0\n",
      "5 1-947a57fc1b94be1fb8a5cce439cd8112016648b1_b151d6624e13c4d31f300f909ebb63577e42a730_instant.jpg 19.0\n",
      "6 1-1f43f59e9f5ead12a13b1cd892a8757242367189_9cd89303dd466e6b178399f8d02b12aae69ec707_instant.jpg 14.0\n",
      "7 1-85fde97a518625ed46589a6be46300e36c3ad0d9_6626ee8bedc11ff89bd5a6205d10710e72ed9801_instant_210319.jpg 16.0\n",
      "8 1-e50b5a99fd9bab50130099c750df6d80f50a9b4e_fdafeaf4b1ec0417f969870e07a0d6401488df85_instant.jpg 17.0\n",
      "9 1-0d8eabdfed2cb1f0d455e5a2050d78ba39ae6cff_0665c9464c856662322717999ae3d8301ff48907_instant.jpg 11.0\n",
      "10 2-746ba8ac1301085b9f8d8d96beb3bf7f9e7a4605_ecc100d2cbc4a9fc70c2fde3eafaadb6ceb588ca_instant.jpg 29.0\n"
     ]
    },
    {
     "data": {
      "text/html": [
       "<div>\n",
       "<style scoped>\n",
       "    .dataframe tbody tr th:only-of-type {\n",
       "        vertical-align: middle;\n",
       "    }\n",
       "\n",
       "    .dataframe tbody tr th {\n",
       "        vertical-align: top;\n",
       "    }\n",
       "\n",
       "    .dataframe thead th {\n",
       "        text-align: right;\n",
       "    }\n",
       "</style>\n",
       "<table border=\"1\" class=\"dataframe\">\n",
       "  <thead>\n",
       "    <tr style=\"text-align: right;\">\n",
       "      <th></th>\n",
       "      <th>model</th>\n",
       "      <th>subseq</th>\n",
       "      <th>peaks</th>\n",
       "      <th>binary</th>\n",
       "      <th>mwa</th>\n",
       "    </tr>\n",
       "  </thead>\n",
       "  <tbody>\n",
       "    <tr>\n",
       "      <th>0</th>\n",
       "      <td>Polar Canny(blur)</td>\n",
       "      <td>26.937169</td>\n",
       "      <td>28.410352</td>\n",
       "      <td>47.225989</td>\n",
       "      <td>29.119231</td>\n",
       "    </tr>\n",
       "  </tbody>\n",
       "</table>\n",
       "</div>"
      ],
      "text/plain": [
       "               model     subseq      peaks     binary        mwa\n",
       "0  Polar Canny(blur)  26.937169  28.410352  47.225989  29.119231"
      ]
     },
     "metadata": {},
     "output_type": "display_data"
    }
   ],
   "source": [
    "with_model(Model.POLAR_CANNY_EDGE_BLUR, lines, points, data_dir, ranking_url, pith_url, rings_url, mse_url)"
   ]
  },
  {
   "cell_type": "code",
   "execution_count": 35,
   "id": "d30f5bab",
   "metadata": {},
   "outputs": [
    {
     "name": "stdout",
     "output_type": "stream",
     "text": [
      "0 2-34e23370868237a073d086fb64851017e9b2c8c9_85903b8cb210e9ad54581e7a37999bcd5fb18443_instant.jpg 87.0\n",
      "1 1-5d205d5ea6bafd3c2e038cf1139cdd5a9825388f_275cb29ffc473512447ce75ff34baa4ecea7276d_instant_210319.jpg 59.666666666666664\n",
      "2 1-11c00bf7cc3e03dc86bde8a20c8ab390b0b2f2a4_d5d5dbc0f05ff34587375f4a567740b61c4731a6_instant_210319.jpg 18.0\n",
      "3 2-8c5de8aa63e57b1e5d3a11ce4c4e2ded042b2ef3_0693ab68bf2278539a3733129d6964ba7719f7b2.jpg 22.0\n",
      "4 1-3d78e56849a16c0b17831129f6059e367574a138_8560eccb0f16269a00f2d6c6a5fab7419529c803_instant.jpg 15.0\n",
      "5 1-947a57fc1b94be1fb8a5cce439cd8112016648b1_b151d6624e13c4d31f300f909ebb63577e42a730_instant.jpg 19.0\n",
      "6 1-1f43f59e9f5ead12a13b1cd892a8757242367189_9cd89303dd466e6b178399f8d02b12aae69ec707_instant.jpg 14.0\n",
      "7 1-85fde97a518625ed46589a6be46300e36c3ad0d9_6626ee8bedc11ff89bd5a6205d10710e72ed9801_instant_210319.jpg 16.0\n",
      "8 1-e50b5a99fd9bab50130099c750df6d80f50a9b4e_fdafeaf4b1ec0417f969870e07a0d6401488df85_instant.jpg 17.0\n",
      "9 1-0d8eabdfed2cb1f0d455e5a2050d78ba39ae6cff_0665c9464c856662322717999ae3d8301ff48907_instant.jpg 11.0\n",
      "10 2-746ba8ac1301085b9f8d8d96beb3bf7f9e7a4605_ecc100d2cbc4a9fc70c2fde3eafaadb6ceb588ca_instant.jpg 29.0\n"
     ]
    },
    {
     "data": {
      "text/html": [
       "<div>\n",
       "<style scoped>\n",
       "    .dataframe tbody tr th:only-of-type {\n",
       "        vertical-align: middle;\n",
       "    }\n",
       "\n",
       "    .dataframe tbody tr th {\n",
       "        vertical-align: top;\n",
       "    }\n",
       "\n",
       "    .dataframe thead th {\n",
       "        text-align: right;\n",
       "    }\n",
       "</style>\n",
       "<table border=\"1\" class=\"dataframe\">\n",
       "  <thead>\n",
       "    <tr style=\"text-align: right;\">\n",
       "      <th></th>\n",
       "      <th>model</th>\n",
       "      <th>subseq</th>\n",
       "      <th>peaks</th>\n",
       "      <th>binary</th>\n",
       "      <th>mwa</th>\n",
       "    </tr>\n",
       "  </thead>\n",
       "  <tbody>\n",
       "    <tr>\n",
       "      <th>0</th>\n",
       "      <td>Polar Canny(blur otsu)</td>\n",
       "      <td>29.089407</td>\n",
       "      <td>30.167612</td>\n",
       "      <td>37.089756</td>\n",
       "      <td>25.404135</td>\n",
       "    </tr>\n",
       "  </tbody>\n",
       "</table>\n",
       "</div>"
      ],
      "text/plain": [
       "                    model     subseq      peaks     binary        mwa\n",
       "0  Polar Canny(blur otsu)  29.089407  30.167612  37.089756  25.404135"
      ]
     },
     "metadata": {},
     "output_type": "display_data"
    }
   ],
   "source": [
    "with_model(Model.POLAR_CANNY_EDGE_BLUR_OTSU, lines, points, data_dir, ranking_url, pith_url, rings_url, mse_url)"
   ]
  },
  {
   "cell_type": "code",
   "execution_count": 36,
   "id": "4a5752ee",
   "metadata": {},
   "outputs": [
    {
     "name": "stdout",
     "output_type": "stream",
     "text": [
      "0 2-34e23370868237a073d086fb64851017e9b2c8c9_85903b8cb210e9ad54581e7a37999bcd5fb18443_instant.jpg 87.0\n",
      "1 1-5d205d5ea6bafd3c2e038cf1139cdd5a9825388f_275cb29ffc473512447ce75ff34baa4ecea7276d_instant_210319.jpg 59.666666666666664\n",
      "2 1-11c00bf7cc3e03dc86bde8a20c8ab390b0b2f2a4_d5d5dbc0f05ff34587375f4a567740b61c4731a6_instant_210319.jpg 18.0\n",
      "3 2-8c5de8aa63e57b1e5d3a11ce4c4e2ded042b2ef3_0693ab68bf2278539a3733129d6964ba7719f7b2.jpg 22.0\n",
      "4 1-3d78e56849a16c0b17831129f6059e367574a138_8560eccb0f16269a00f2d6c6a5fab7419529c803_instant.jpg 15.0\n",
      "5 1-947a57fc1b94be1fb8a5cce439cd8112016648b1_b151d6624e13c4d31f300f909ebb63577e42a730_instant.jpg 19.0\n",
      "6 1-1f43f59e9f5ead12a13b1cd892a8757242367189_9cd89303dd466e6b178399f8d02b12aae69ec707_instant.jpg 14.0\n",
      "7 1-85fde97a518625ed46589a6be46300e36c3ad0d9_6626ee8bedc11ff89bd5a6205d10710e72ed9801_instant_210319.jpg 16.0\n",
      "8 1-e50b5a99fd9bab50130099c750df6d80f50a9b4e_fdafeaf4b1ec0417f969870e07a0d6401488df85_instant.jpg 17.0\n",
      "9 1-0d8eabdfed2cb1f0d455e5a2050d78ba39ae6cff_0665c9464c856662322717999ae3d8301ff48907_instant.jpg 11.0\n",
      "10 2-746ba8ac1301085b9f8d8d96beb3bf7f9e7a4605_ecc100d2cbc4a9fc70c2fde3eafaadb6ceb588ca_instant.jpg 29.0\n"
     ]
    },
    {
     "data": {
      "text/html": [
       "<div>\n",
       "<style scoped>\n",
       "    .dataframe tbody tr th:only-of-type {\n",
       "        vertical-align: middle;\n",
       "    }\n",
       "\n",
       "    .dataframe tbody tr th {\n",
       "        vertical-align: top;\n",
       "    }\n",
       "\n",
       "    .dataframe thead th {\n",
       "        text-align: right;\n",
       "    }\n",
       "</style>\n",
       "<table border=\"1\" class=\"dataframe\">\n",
       "  <thead>\n",
       "    <tr style=\"text-align: right;\">\n",
       "      <th></th>\n",
       "      <th>model</th>\n",
       "      <th>subseq</th>\n",
       "      <th>peaks</th>\n",
       "      <th>binary</th>\n",
       "      <th>mwa</th>\n",
       "    </tr>\n",
       "  </thead>\n",
       "  <tbody>\n",
       "    <tr>\n",
       "      <th>0</th>\n",
       "      <td>Polar Canny(blur triangle)</td>\n",
       "      <td>33.502075</td>\n",
       "      <td>34.070736</td>\n",
       "      <td>26.16914</td>\n",
       "      <td>28.48093</td>\n",
       "    </tr>\n",
       "  </tbody>\n",
       "</table>\n",
       "</div>"
      ],
      "text/plain": [
       "                        model     subseq      peaks    binary       mwa\n",
       "0  Polar Canny(blur triangle)  33.502075  34.070736  26.16914  28.48093"
      ]
     },
     "metadata": {},
     "output_type": "display_data"
    }
   ],
   "source": [
    "with_model(Model.POLAR_CANNY_EDGE_BLUR_TRIANGLE, lines, points, data_dir, ranking_url, pith_url, rings_url, mse_url)"
   ]
  },
  {
   "cell_type": "code",
   "execution_count": 37,
   "id": "d1eef189",
   "metadata": {},
   "outputs": [
    {
     "name": "stdout",
     "output_type": "stream",
     "text": [
      "0 2-34e23370868237a073d086fb64851017e9b2c8c9_85903b8cb210e9ad54581e7a37999bcd5fb18443_instant.jpg 87.0\n",
      "1 1-5d205d5ea6bafd3c2e038cf1139cdd5a9825388f_275cb29ffc473512447ce75ff34baa4ecea7276d_instant_210319.jpg 59.666666666666664\n",
      "2 1-11c00bf7cc3e03dc86bde8a20c8ab390b0b2f2a4_d5d5dbc0f05ff34587375f4a567740b61c4731a6_instant_210319.jpg 18.0\n",
      "3 2-8c5de8aa63e57b1e5d3a11ce4c4e2ded042b2ef3_0693ab68bf2278539a3733129d6964ba7719f7b2.jpg 22.0\n",
      "4 1-3d78e56849a16c0b17831129f6059e367574a138_8560eccb0f16269a00f2d6c6a5fab7419529c803_instant.jpg 15.0\n",
      "5 1-947a57fc1b94be1fb8a5cce439cd8112016648b1_b151d6624e13c4d31f300f909ebb63577e42a730_instant.jpg 19.0\n",
      "6 1-1f43f59e9f5ead12a13b1cd892a8757242367189_9cd89303dd466e6b178399f8d02b12aae69ec707_instant.jpg 14.0\n",
      "7 1-85fde97a518625ed46589a6be46300e36c3ad0d9_6626ee8bedc11ff89bd5a6205d10710e72ed9801_instant_210319.jpg 16.0\n",
      "8 1-e50b5a99fd9bab50130099c750df6d80f50a9b4e_fdafeaf4b1ec0417f969870e07a0d6401488df85_instant.jpg 17.0\n",
      "9 1-0d8eabdfed2cb1f0d455e5a2050d78ba39ae6cff_0665c9464c856662322717999ae3d8301ff48907_instant.jpg 11.0\n",
      "10 2-746ba8ac1301085b9f8d8d96beb3bf7f9e7a4605_ecc100d2cbc4a9fc70c2fde3eafaadb6ceb588ca_instant.jpg 29.0\n"
     ]
    },
    {
     "data": {
      "text/html": [
       "<div>\n",
       "<style scoped>\n",
       "    .dataframe tbody tr th:only-of-type {\n",
       "        vertical-align: middle;\n",
       "    }\n",
       "\n",
       "    .dataframe tbody tr th {\n",
       "        vertical-align: top;\n",
       "    }\n",
       "\n",
       "    .dataframe thead th {\n",
       "        text-align: right;\n",
       "    }\n",
       "</style>\n",
       "<table border=\"1\" class=\"dataframe\">\n",
       "  <thead>\n",
       "    <tr style=\"text-align: right;\">\n",
       "      <th></th>\n",
       "      <th>model</th>\n",
       "      <th>subseq</th>\n",
       "      <th>peaks</th>\n",
       "      <th>binary</th>\n",
       "      <th>mwa</th>\n",
       "    </tr>\n",
       "  </thead>\n",
       "  <tbody>\n",
       "    <tr>\n",
       "      <th>0</th>\n",
       "      <td>Polar Canny(blur manual)</td>\n",
       "      <td>33.546164</td>\n",
       "      <td>34.082749</td>\n",
       "      <td>26.216687</td>\n",
       "      <td>28.530987</td>\n",
       "    </tr>\n",
       "  </tbody>\n",
       "</table>\n",
       "</div>"
      ],
      "text/plain": [
       "                      model     subseq      peaks     binary        mwa\n",
       "0  Polar Canny(blur manual)  33.546164  34.082749  26.216687  28.530987"
      ]
     },
     "metadata": {},
     "output_type": "display_data"
    }
   ],
   "source": [
    "with_model(Model.POLAR_CANNY_EDGE_BLUR_MANUAL, lines, points, data_dir, ranking_url, pith_url, rings_url, mse_url)"
   ]
  },
  {
   "cell_type": "code",
   "execution_count": 38,
   "id": "a2c63b76",
   "metadata": {},
   "outputs": [
    {
     "name": "stdout",
     "output_type": "stream",
     "text": [
      "0 2-34e23370868237a073d086fb64851017e9b2c8c9_85903b8cb210e9ad54581e7a37999bcd5fb18443_instant.jpg 87.0\n",
      "1 1-5d205d5ea6bafd3c2e038cf1139cdd5a9825388f_275cb29ffc473512447ce75ff34baa4ecea7276d_instant_210319.jpg 59.666666666666664\n",
      "2 1-11c00bf7cc3e03dc86bde8a20c8ab390b0b2f2a4_d5d5dbc0f05ff34587375f4a567740b61c4731a6_instant_210319.jpg 18.0\n",
      "3 2-8c5de8aa63e57b1e5d3a11ce4c4e2ded042b2ef3_0693ab68bf2278539a3733129d6964ba7719f7b2.jpg 22.0\n",
      "4 1-3d78e56849a16c0b17831129f6059e367574a138_8560eccb0f16269a00f2d6c6a5fab7419529c803_instant.jpg 15.0\n",
      "5 1-947a57fc1b94be1fb8a5cce439cd8112016648b1_b151d6624e13c4d31f300f909ebb63577e42a730_instant.jpg 19.0\n",
      "6 1-1f43f59e9f5ead12a13b1cd892a8757242367189_9cd89303dd466e6b178399f8d02b12aae69ec707_instant.jpg 14.0\n",
      "7 1-85fde97a518625ed46589a6be46300e36c3ad0d9_6626ee8bedc11ff89bd5a6205d10710e72ed9801_instant_210319.jpg 16.0\n",
      "8 1-e50b5a99fd9bab50130099c750df6d80f50a9b4e_fdafeaf4b1ec0417f969870e07a0d6401488df85_instant.jpg 17.0\n",
      "9 1-0d8eabdfed2cb1f0d455e5a2050d78ba39ae6cff_0665c9464c856662322717999ae3d8301ff48907_instant.jpg 11.0\n",
      "10 2-746ba8ac1301085b9f8d8d96beb3bf7f9e7a4605_ecc100d2cbc4a9fc70c2fde3eafaadb6ceb588ca_instant.jpg 29.0\n"
     ]
    },
    {
     "data": {
      "text/html": [
       "<div>\n",
       "<style scoped>\n",
       "    .dataframe tbody tr th:only-of-type {\n",
       "        vertical-align: middle;\n",
       "    }\n",
       "\n",
       "    .dataframe tbody tr th {\n",
       "        vertical-align: top;\n",
       "    }\n",
       "\n",
       "    .dataframe thead th {\n",
       "        text-align: right;\n",
       "    }\n",
       "</style>\n",
       "<table border=\"1\" class=\"dataframe\">\n",
       "  <thead>\n",
       "    <tr style=\"text-align: right;\">\n",
       "      <th></th>\n",
       "      <th>model</th>\n",
       "      <th>subseq</th>\n",
       "      <th>peaks</th>\n",
       "      <th>binary</th>\n",
       "      <th>mwa</th>\n",
       "    </tr>\n",
       "  </thead>\n",
       "  <tbody>\n",
       "    <tr>\n",
       "      <th>0</th>\n",
       "      <td>Polar Laplacian</td>\n",
       "      <td>93.211359</td>\n",
       "      <td>32.502982</td>\n",
       "      <td>136.971194</td>\n",
       "      <td>56.358989</td>\n",
       "    </tr>\n",
       "  </tbody>\n",
       "</table>\n",
       "</div>"
      ],
      "text/plain": [
       "             model     subseq      peaks      binary        mwa\n",
       "0  Polar Laplacian  93.211359  32.502982  136.971194  56.358989"
      ]
     },
     "metadata": {},
     "output_type": "display_data"
    }
   ],
   "source": [
    "with_model(Model.POLAR_LAPLACIAN_EDGE, lines, points, data_dir, ranking_url, pith_url, rings_url, mse_url)"
   ]
  },
  {
   "cell_type": "code",
   "execution_count": 39,
   "id": "055f80d8",
   "metadata": {},
   "outputs": [
    {
     "name": "stdout",
     "output_type": "stream",
     "text": [
      "0 2-34e23370868237a073d086fb64851017e9b2c8c9_85903b8cb210e9ad54581e7a37999bcd5fb18443_instant.jpg 87.0\n",
      "1 1-5d205d5ea6bafd3c2e038cf1139cdd5a9825388f_275cb29ffc473512447ce75ff34baa4ecea7276d_instant_210319.jpg 59.666666666666664\n",
      "2 1-11c00bf7cc3e03dc86bde8a20c8ab390b0b2f2a4_d5d5dbc0f05ff34587375f4a567740b61c4731a6_instant_210319.jpg 18.0\n",
      "3 2-8c5de8aa63e57b1e5d3a11ce4c4e2ded042b2ef3_0693ab68bf2278539a3733129d6964ba7719f7b2.jpg 22.0\n",
      "4 1-3d78e56849a16c0b17831129f6059e367574a138_8560eccb0f16269a00f2d6c6a5fab7419529c803_instant.jpg 15.0\n",
      "5 1-947a57fc1b94be1fb8a5cce439cd8112016648b1_b151d6624e13c4d31f300f909ebb63577e42a730_instant.jpg 19.0\n",
      "6 1-1f43f59e9f5ead12a13b1cd892a8757242367189_9cd89303dd466e6b178399f8d02b12aae69ec707_instant.jpg 14.0\n",
      "7 1-85fde97a518625ed46589a6be46300e36c3ad0d9_6626ee8bedc11ff89bd5a6205d10710e72ed9801_instant_210319.jpg 16.0\n",
      "8 1-e50b5a99fd9bab50130099c750df6d80f50a9b4e_fdafeaf4b1ec0417f969870e07a0d6401488df85_instant.jpg 17.0\n",
      "9 1-0d8eabdfed2cb1f0d455e5a2050d78ba39ae6cff_0665c9464c856662322717999ae3d8301ff48907_instant.jpg 11.0\n",
      "10 2-746ba8ac1301085b9f8d8d96beb3bf7f9e7a4605_ecc100d2cbc4a9fc70c2fde3eafaadb6ceb588ca_instant.jpg 29.0\n"
     ]
    },
    {
     "data": {
      "text/html": [
       "<div>\n",
       "<style scoped>\n",
       "    .dataframe tbody tr th:only-of-type {\n",
       "        vertical-align: middle;\n",
       "    }\n",
       "\n",
       "    .dataframe tbody tr th {\n",
       "        vertical-align: top;\n",
       "    }\n",
       "\n",
       "    .dataframe thead th {\n",
       "        text-align: right;\n",
       "    }\n",
       "</style>\n",
       "<table border=\"1\" class=\"dataframe\">\n",
       "  <thead>\n",
       "    <tr style=\"text-align: right;\">\n",
       "      <th></th>\n",
       "      <th>model</th>\n",
       "      <th>subseq</th>\n",
       "      <th>peaks</th>\n",
       "      <th>binary</th>\n",
       "      <th>mwa</th>\n",
       "    </tr>\n",
       "  </thead>\n",
       "  <tbody>\n",
       "    <tr>\n",
       "      <th>0</th>\n",
       "      <td>Polar Laplacian(blur)</td>\n",
       "      <td>115.933135</td>\n",
       "      <td>24.5176</td>\n",
       "      <td>146.541801</td>\n",
       "      <td>28.885721</td>\n",
       "    </tr>\n",
       "  </tbody>\n",
       "</table>\n",
       "</div>"
      ],
      "text/plain": [
       "                   model      subseq    peaks      binary        mwa\n",
       "0  Polar Laplacian(blur)  115.933135  24.5176  146.541801  28.885721"
      ]
     },
     "metadata": {},
     "output_type": "display_data"
    }
   ],
   "source": [
    "with_model(Model.POLAR_LAPLACIAN_EDGE_BLUR, lines, points, data_dir, ranking_url, pith_url, rings_url, mse_url)"
   ]
  },
  {
   "cell_type": "code",
   "execution_count": null,
   "id": "717b358e",
   "metadata": {},
   "outputs": [],
   "source": []
  },
  {
   "cell_type": "code",
   "execution_count": 40,
   "id": "4000d64b",
   "metadata": {},
   "outputs": [
    {
     "name": "stdout",
     "output_type": "stream",
     "text": [
      "0 2-34e23370868237a073d086fb64851017e9b2c8c9_85903b8cb210e9ad54581e7a37999bcd5fb18443_instant.jpg 87.0\n",
      "1 1-5d205d5ea6bafd3c2e038cf1139cdd5a9825388f_275cb29ffc473512447ce75ff34baa4ecea7276d_instant_210319.jpg 59.666666666666664\n",
      "2 1-11c00bf7cc3e03dc86bde8a20c8ab390b0b2f2a4_d5d5dbc0f05ff34587375f4a567740b61c4731a6_instant_210319.jpg 18.0\n",
      "3 2-8c5de8aa63e57b1e5d3a11ce4c4e2ded042b2ef3_0693ab68bf2278539a3733129d6964ba7719f7b2.jpg 22.0\n",
      "4 1-3d78e56849a16c0b17831129f6059e367574a138_8560eccb0f16269a00f2d6c6a5fab7419529c803_instant.jpg 15.0\n",
      "5 1-947a57fc1b94be1fb8a5cce439cd8112016648b1_b151d6624e13c4d31f300f909ebb63577e42a730_instant.jpg 19.0\n",
      "6 1-1f43f59e9f5ead12a13b1cd892a8757242367189_9cd89303dd466e6b178399f8d02b12aae69ec707_instant.jpg 14.0\n",
      "7 1-85fde97a518625ed46589a6be46300e36c3ad0d9_6626ee8bedc11ff89bd5a6205d10710e72ed9801_instant_210319.jpg 16.0\n",
      "8 1-e50b5a99fd9bab50130099c750df6d80f50a9b4e_fdafeaf4b1ec0417f969870e07a0d6401488df85_instant.jpg 17.0\n",
      "9 1-0d8eabdfed2cb1f0d455e5a2050d78ba39ae6cff_0665c9464c856662322717999ae3d8301ff48907_instant.jpg 11.0\n",
      "10 2-746ba8ac1301085b9f8d8d96beb3bf7f9e7a4605_ecc100d2cbc4a9fc70c2fde3eafaadb6ceb588ca_instant.jpg 29.0\n"
     ]
    },
    {
     "data": {
      "text/html": [
       "<div>\n",
       "<style scoped>\n",
       "    .dataframe tbody tr th:only-of-type {\n",
       "        vertical-align: middle;\n",
       "    }\n",
       "\n",
       "    .dataframe tbody tr th {\n",
       "        vertical-align: top;\n",
       "    }\n",
       "\n",
       "    .dataframe thead th {\n",
       "        text-align: right;\n",
       "    }\n",
       "</style>\n",
       "<table border=\"1\" class=\"dataframe\">\n",
       "  <thead>\n",
       "    <tr style=\"text-align: right;\">\n",
       "      <th></th>\n",
       "      <th>model</th>\n",
       "      <th>subseq</th>\n",
       "      <th>peaks</th>\n",
       "      <th>binary</th>\n",
       "      <th>mwa</th>\n",
       "    </tr>\n",
       "  </thead>\n",
       "  <tbody>\n",
       "    <tr>\n",
       "      <th>0</th>\n",
       "      <td>Polar Pith Sobel</td>\n",
       "      <td>70.964031</td>\n",
       "      <td>22.626617</td>\n",
       "      <td>110.967419</td>\n",
       "      <td>33.690881</td>\n",
       "    </tr>\n",
       "  </tbody>\n",
       "</table>\n",
       "</div>"
      ],
      "text/plain": [
       "              model     subseq      peaks      binary        mwa\n",
       "0  Polar Pith Sobel  70.964031  22.626617  110.967419  33.690881"
      ]
     },
     "metadata": {},
     "output_type": "display_data"
    }
   ],
   "source": [
    "with_model(Model.POLAR_PITH_SOBEL_EDGE, lines, points, data_dir, ranking_url, pith_url, rings_url, mse_url)"
   ]
  },
  {
   "cell_type": "code",
   "execution_count": 41,
   "id": "eec08ac6",
   "metadata": {},
   "outputs": [
    {
     "name": "stdout",
     "output_type": "stream",
     "text": [
      "0 2-34e23370868237a073d086fb64851017e9b2c8c9_85903b8cb210e9ad54581e7a37999bcd5fb18443_instant.jpg 87.0\n",
      "1 1-5d205d5ea6bafd3c2e038cf1139cdd5a9825388f_275cb29ffc473512447ce75ff34baa4ecea7276d_instant_210319.jpg 59.666666666666664\n",
      "2 1-11c00bf7cc3e03dc86bde8a20c8ab390b0b2f2a4_d5d5dbc0f05ff34587375f4a567740b61c4731a6_instant_210319.jpg 18.0\n",
      "3 2-8c5de8aa63e57b1e5d3a11ce4c4e2ded042b2ef3_0693ab68bf2278539a3733129d6964ba7719f7b2.jpg 22.0\n",
      "4 1-3d78e56849a16c0b17831129f6059e367574a138_8560eccb0f16269a00f2d6c6a5fab7419529c803_instant.jpg 15.0\n",
      "5 1-947a57fc1b94be1fb8a5cce439cd8112016648b1_b151d6624e13c4d31f300f909ebb63577e42a730_instant.jpg 19.0\n",
      "6 1-1f43f59e9f5ead12a13b1cd892a8757242367189_9cd89303dd466e6b178399f8d02b12aae69ec707_instant.jpg 14.0\n",
      "7 1-85fde97a518625ed46589a6be46300e36c3ad0d9_6626ee8bedc11ff89bd5a6205d10710e72ed9801_instant_210319.jpg 16.0\n",
      "8 1-e50b5a99fd9bab50130099c750df6d80f50a9b4e_fdafeaf4b1ec0417f969870e07a0d6401488df85_instant.jpg 17.0\n",
      "9 1-0d8eabdfed2cb1f0d455e5a2050d78ba39ae6cff_0665c9464c856662322717999ae3d8301ff48907_instant.jpg 11.0\n",
      "10 2-746ba8ac1301085b9f8d8d96beb3bf7f9e7a4605_ecc100d2cbc4a9fc70c2fde3eafaadb6ceb588ca_instant.jpg 29.0\n"
     ]
    },
    {
     "data": {
      "text/html": [
       "<div>\n",
       "<style scoped>\n",
       "    .dataframe tbody tr th:only-of-type {\n",
       "        vertical-align: middle;\n",
       "    }\n",
       "\n",
       "    .dataframe tbody tr th {\n",
       "        vertical-align: top;\n",
       "    }\n",
       "\n",
       "    .dataframe thead th {\n",
       "        text-align: right;\n",
       "    }\n",
       "</style>\n",
       "<table border=\"1\" class=\"dataframe\">\n",
       "  <thead>\n",
       "    <tr style=\"text-align: right;\">\n",
       "      <th></th>\n",
       "      <th>model</th>\n",
       "      <th>subseq</th>\n",
       "      <th>peaks</th>\n",
       "      <th>binary</th>\n",
       "      <th>mwa</th>\n",
       "    </tr>\n",
       "  </thead>\n",
       "  <tbody>\n",
       "    <tr>\n",
       "      <th>0</th>\n",
       "      <td>Polar Pith Sobel(blur)</td>\n",
       "      <td>71.546381</td>\n",
       "      <td>24.924385</td>\n",
       "      <td>105.673719</td>\n",
       "      <td>25.107252</td>\n",
       "    </tr>\n",
       "  </tbody>\n",
       "</table>\n",
       "</div>"
      ],
      "text/plain": [
       "                    model     subseq      peaks      binary        mwa\n",
       "0  Polar Pith Sobel(blur)  71.546381  24.924385  105.673719  25.107252"
      ]
     },
     "metadata": {},
     "output_type": "display_data"
    }
   ],
   "source": [
    "with_model(Model.POLAR_PITH_SOBEL_EDGE_BLUR, lines, points, data_dir, ranking_url, pith_url, rings_url, mse_url)"
   ]
  },
  {
   "cell_type": "code",
   "execution_count": 42,
   "id": "97fb7a77",
   "metadata": {},
   "outputs": [
    {
     "name": "stdout",
     "output_type": "stream",
     "text": [
      "0 2-34e23370868237a073d086fb64851017e9b2c8c9_85903b8cb210e9ad54581e7a37999bcd5fb18443_instant.jpg 87.0\n",
      "1 1-5d205d5ea6bafd3c2e038cf1139cdd5a9825388f_275cb29ffc473512447ce75ff34baa4ecea7276d_instant_210319.jpg 59.666666666666664\n",
      "2 1-11c00bf7cc3e03dc86bde8a20c8ab390b0b2f2a4_d5d5dbc0f05ff34587375f4a567740b61c4731a6_instant_210319.jpg 18.0\n",
      "3 2-8c5de8aa63e57b1e5d3a11ce4c4e2ded042b2ef3_0693ab68bf2278539a3733129d6964ba7719f7b2.jpg 22.0\n",
      "4 1-3d78e56849a16c0b17831129f6059e367574a138_8560eccb0f16269a00f2d6c6a5fab7419529c803_instant.jpg 15.0\n",
      "5 1-947a57fc1b94be1fb8a5cce439cd8112016648b1_b151d6624e13c4d31f300f909ebb63577e42a730_instant.jpg 19.0\n",
      "6 1-1f43f59e9f5ead12a13b1cd892a8757242367189_9cd89303dd466e6b178399f8d02b12aae69ec707_instant.jpg 14.0\n",
      "7 1-85fde97a518625ed46589a6be46300e36c3ad0d9_6626ee8bedc11ff89bd5a6205d10710e72ed9801_instant_210319.jpg 16.0\n",
      "8 1-e50b5a99fd9bab50130099c750df6d80f50a9b4e_fdafeaf4b1ec0417f969870e07a0d6401488df85_instant.jpg 17.0\n",
      "9 1-0d8eabdfed2cb1f0d455e5a2050d78ba39ae6cff_0665c9464c856662322717999ae3d8301ff48907_instant.jpg 11.0\n",
      "10 2-746ba8ac1301085b9f8d8d96beb3bf7f9e7a4605_ecc100d2cbc4a9fc70c2fde3eafaadb6ceb588ca_instant.jpg 29.0\n"
     ]
    },
    {
     "data": {
      "text/html": [
       "<div>\n",
       "<style scoped>\n",
       "    .dataframe tbody tr th:only-of-type {\n",
       "        vertical-align: middle;\n",
       "    }\n",
       "\n",
       "    .dataframe tbody tr th {\n",
       "        vertical-align: top;\n",
       "    }\n",
       "\n",
       "    .dataframe thead th {\n",
       "        text-align: right;\n",
       "    }\n",
       "</style>\n",
       "<table border=\"1\" class=\"dataframe\">\n",
       "  <thead>\n",
       "    <tr style=\"text-align: right;\">\n",
       "      <th></th>\n",
       "      <th>model</th>\n",
       "      <th>subseq</th>\n",
       "      <th>peaks</th>\n",
       "      <th>binary</th>\n",
       "      <th>mwa</th>\n",
       "    </tr>\n",
       "  </thead>\n",
       "  <tbody>\n",
       "    <tr>\n",
       "      <th>0</th>\n",
       "      <td>Polar Pith Canny</td>\n",
       "      <td>24.011586</td>\n",
       "      <td>25.822386</td>\n",
       "      <td>62.471583</td>\n",
       "      <td>36.999951</td>\n",
       "    </tr>\n",
       "  </tbody>\n",
       "</table>\n",
       "</div>"
      ],
      "text/plain": [
       "              model     subseq      peaks     binary        mwa\n",
       "0  Polar Pith Canny  24.011586  25.822386  62.471583  36.999951"
      ]
     },
     "metadata": {},
     "output_type": "display_data"
    }
   ],
   "source": [
    "with_model(Model.POLAR_PITH_CANNY_EDGE, lines, points, data_dir, ranking_url, pith_url, rings_url, mse_url)"
   ]
  },
  {
   "cell_type": "code",
   "execution_count": 43,
   "id": "016625dd",
   "metadata": {},
   "outputs": [
    {
     "name": "stdout",
     "output_type": "stream",
     "text": [
      "0 2-34e23370868237a073d086fb64851017e9b2c8c9_85903b8cb210e9ad54581e7a37999bcd5fb18443_instant.jpg 87.0\n",
      "1 1-5d205d5ea6bafd3c2e038cf1139cdd5a9825388f_275cb29ffc473512447ce75ff34baa4ecea7276d_instant_210319.jpg 59.666666666666664\n",
      "2 1-11c00bf7cc3e03dc86bde8a20c8ab390b0b2f2a4_d5d5dbc0f05ff34587375f4a567740b61c4731a6_instant_210319.jpg 18.0\n",
      "3 2-8c5de8aa63e57b1e5d3a11ce4c4e2ded042b2ef3_0693ab68bf2278539a3733129d6964ba7719f7b2.jpg 22.0\n",
      "4 1-3d78e56849a16c0b17831129f6059e367574a138_8560eccb0f16269a00f2d6c6a5fab7419529c803_instant.jpg 15.0\n",
      "5 1-947a57fc1b94be1fb8a5cce439cd8112016648b1_b151d6624e13c4d31f300f909ebb63577e42a730_instant.jpg 19.0\n",
      "6 1-1f43f59e9f5ead12a13b1cd892a8757242367189_9cd89303dd466e6b178399f8d02b12aae69ec707_instant.jpg 14.0\n",
      "7 1-85fde97a518625ed46589a6be46300e36c3ad0d9_6626ee8bedc11ff89bd5a6205d10710e72ed9801_instant_210319.jpg 16.0\n",
      "8 1-e50b5a99fd9bab50130099c750df6d80f50a9b4e_fdafeaf4b1ec0417f969870e07a0d6401488df85_instant.jpg 17.0\n",
      "9 1-0d8eabdfed2cb1f0d455e5a2050d78ba39ae6cff_0665c9464c856662322717999ae3d8301ff48907_instant.jpg 11.0\n",
      "10 2-746ba8ac1301085b9f8d8d96beb3bf7f9e7a4605_ecc100d2cbc4a9fc70c2fde3eafaadb6ceb588ca_instant.jpg 29.0\n"
     ]
    },
    {
     "data": {
      "text/html": [
       "<div>\n",
       "<style scoped>\n",
       "    .dataframe tbody tr th:only-of-type {\n",
       "        vertical-align: middle;\n",
       "    }\n",
       "\n",
       "    .dataframe tbody tr th {\n",
       "        vertical-align: top;\n",
       "    }\n",
       "\n",
       "    .dataframe thead th {\n",
       "        text-align: right;\n",
       "    }\n",
       "</style>\n",
       "<table border=\"1\" class=\"dataframe\">\n",
       "  <thead>\n",
       "    <tr style=\"text-align: right;\">\n",
       "      <th></th>\n",
       "      <th>model</th>\n",
       "      <th>subseq</th>\n",
       "      <th>peaks</th>\n",
       "      <th>binary</th>\n",
       "      <th>mwa</th>\n",
       "    </tr>\n",
       "  </thead>\n",
       "  <tbody>\n",
       "    <tr>\n",
       "      <th>0</th>\n",
       "      <td>Polar Pith Canny(otsu)</td>\n",
       "      <td>24.917571</td>\n",
       "      <td>26.861154</td>\n",
       "      <td>53.144581</td>\n",
       "      <td>30.991005</td>\n",
       "    </tr>\n",
       "  </tbody>\n",
       "</table>\n",
       "</div>"
      ],
      "text/plain": [
       "                    model     subseq      peaks     binary        mwa\n",
       "0  Polar Pith Canny(otsu)  24.917571  26.861154  53.144581  30.991005"
      ]
     },
     "metadata": {},
     "output_type": "display_data"
    }
   ],
   "source": [
    "with_model(Model.POLAR_PITH_CANNY_EDGE_OTSU, lines, points, data_dir, ranking_url, pith_url, rings_url, mse_url)"
   ]
  },
  {
   "cell_type": "code",
   "execution_count": 44,
   "id": "300f771c",
   "metadata": {},
   "outputs": [
    {
     "name": "stdout",
     "output_type": "stream",
     "text": [
      "0 2-34e23370868237a073d086fb64851017e9b2c8c9_85903b8cb210e9ad54581e7a37999bcd5fb18443_instant.jpg 87.0\n",
      "1 1-5d205d5ea6bafd3c2e038cf1139cdd5a9825388f_275cb29ffc473512447ce75ff34baa4ecea7276d_instant_210319.jpg 59.666666666666664\n",
      "2 1-11c00bf7cc3e03dc86bde8a20c8ab390b0b2f2a4_d5d5dbc0f05ff34587375f4a567740b61c4731a6_instant_210319.jpg 18.0\n",
      "3 2-8c5de8aa63e57b1e5d3a11ce4c4e2ded042b2ef3_0693ab68bf2278539a3733129d6964ba7719f7b2.jpg 22.0\n",
      "4 1-3d78e56849a16c0b17831129f6059e367574a138_8560eccb0f16269a00f2d6c6a5fab7419529c803_instant.jpg 15.0\n",
      "5 1-947a57fc1b94be1fb8a5cce439cd8112016648b1_b151d6624e13c4d31f300f909ebb63577e42a730_instant.jpg 19.0\n",
      "6 1-1f43f59e9f5ead12a13b1cd892a8757242367189_9cd89303dd466e6b178399f8d02b12aae69ec707_instant.jpg 14.0\n",
      "7 1-85fde97a518625ed46589a6be46300e36c3ad0d9_6626ee8bedc11ff89bd5a6205d10710e72ed9801_instant_210319.jpg 16.0\n",
      "8 1-e50b5a99fd9bab50130099c750df6d80f50a9b4e_fdafeaf4b1ec0417f969870e07a0d6401488df85_instant.jpg 17.0\n",
      "9 1-0d8eabdfed2cb1f0d455e5a2050d78ba39ae6cff_0665c9464c856662322717999ae3d8301ff48907_instant.jpg 11.0\n",
      "10 2-746ba8ac1301085b9f8d8d96beb3bf7f9e7a4605_ecc100d2cbc4a9fc70c2fde3eafaadb6ceb588ca_instant.jpg 29.0\n"
     ]
    },
    {
     "data": {
      "text/html": [
       "<div>\n",
       "<style scoped>\n",
       "    .dataframe tbody tr th:only-of-type {\n",
       "        vertical-align: middle;\n",
       "    }\n",
       "\n",
       "    .dataframe tbody tr th {\n",
       "        vertical-align: top;\n",
       "    }\n",
       "\n",
       "    .dataframe thead th {\n",
       "        text-align: right;\n",
       "    }\n",
       "</style>\n",
       "<table border=\"1\" class=\"dataframe\">\n",
       "  <thead>\n",
       "    <tr style=\"text-align: right;\">\n",
       "      <th></th>\n",
       "      <th>model</th>\n",
       "      <th>subseq</th>\n",
       "      <th>peaks</th>\n",
       "      <th>binary</th>\n",
       "      <th>mwa</th>\n",
       "    </tr>\n",
       "  </thead>\n",
       "  <tbody>\n",
       "    <tr>\n",
       "      <th>0</th>\n",
       "      <td>Polar Pith Canny(triangle)</td>\n",
       "      <td>27.998669</td>\n",
       "      <td>29.532613</td>\n",
       "      <td>34.347839</td>\n",
       "      <td>23.177981</td>\n",
       "    </tr>\n",
       "  </tbody>\n",
       "</table>\n",
       "</div>"
      ],
      "text/plain": [
       "                        model     subseq      peaks     binary        mwa\n",
       "0  Polar Pith Canny(triangle)  27.998669  29.532613  34.347839  23.177981"
      ]
     },
     "metadata": {},
     "output_type": "display_data"
    }
   ],
   "source": [
    "with_model(Model.POLAR_PITH_CANNY_EDGE_TRIANGLE, lines, points, data_dir, ranking_url, pith_url, rings_url, mse_url)"
   ]
  },
  {
   "cell_type": "code",
   "execution_count": 45,
   "id": "b1a23908",
   "metadata": {},
   "outputs": [
    {
     "name": "stdout",
     "output_type": "stream",
     "text": [
      "0 2-34e23370868237a073d086fb64851017e9b2c8c9_85903b8cb210e9ad54581e7a37999bcd5fb18443_instant.jpg 87.0\n",
      "1 1-5d205d5ea6bafd3c2e038cf1139cdd5a9825388f_275cb29ffc473512447ce75ff34baa4ecea7276d_instant_210319.jpg 59.666666666666664\n",
      "2 1-11c00bf7cc3e03dc86bde8a20c8ab390b0b2f2a4_d5d5dbc0f05ff34587375f4a567740b61c4731a6_instant_210319.jpg 18.0\n",
      "3 2-8c5de8aa63e57b1e5d3a11ce4c4e2ded042b2ef3_0693ab68bf2278539a3733129d6964ba7719f7b2.jpg 22.0\n",
      "4 1-3d78e56849a16c0b17831129f6059e367574a138_8560eccb0f16269a00f2d6c6a5fab7419529c803_instant.jpg 15.0\n",
      "5 1-947a57fc1b94be1fb8a5cce439cd8112016648b1_b151d6624e13c4d31f300f909ebb63577e42a730_instant.jpg 19.0\n",
      "6 1-1f43f59e9f5ead12a13b1cd892a8757242367189_9cd89303dd466e6b178399f8d02b12aae69ec707_instant.jpg 14.0\n",
      "7 1-85fde97a518625ed46589a6be46300e36c3ad0d9_6626ee8bedc11ff89bd5a6205d10710e72ed9801_instant_210319.jpg 16.0\n",
      "8 1-e50b5a99fd9bab50130099c750df6d80f50a9b4e_fdafeaf4b1ec0417f969870e07a0d6401488df85_instant.jpg 17.0\n",
      "9 1-0d8eabdfed2cb1f0d455e5a2050d78ba39ae6cff_0665c9464c856662322717999ae3d8301ff48907_instant.jpg 11.0\n",
      "10 2-746ba8ac1301085b9f8d8d96beb3bf7f9e7a4605_ecc100d2cbc4a9fc70c2fde3eafaadb6ceb588ca_instant.jpg 29.0\n"
     ]
    },
    {
     "data": {
      "text/html": [
       "<div>\n",
       "<style scoped>\n",
       "    .dataframe tbody tr th:only-of-type {\n",
       "        vertical-align: middle;\n",
       "    }\n",
       "\n",
       "    .dataframe tbody tr th {\n",
       "        vertical-align: top;\n",
       "    }\n",
       "\n",
       "    .dataframe thead th {\n",
       "        text-align: right;\n",
       "    }\n",
       "</style>\n",
       "<table border=\"1\" class=\"dataframe\">\n",
       "  <thead>\n",
       "    <tr style=\"text-align: right;\">\n",
       "      <th></th>\n",
       "      <th>model</th>\n",
       "      <th>subseq</th>\n",
       "      <th>peaks</th>\n",
       "      <th>binary</th>\n",
       "      <th>mwa</th>\n",
       "    </tr>\n",
       "  </thead>\n",
       "  <tbody>\n",
       "    <tr>\n",
       "      <th>0</th>\n",
       "      <td>Polar Pith Canny(manual)</td>\n",
       "      <td>28.118855</td>\n",
       "      <td>29.629831</td>\n",
       "      <td>33.892311</td>\n",
       "      <td>23.066653</td>\n",
       "    </tr>\n",
       "  </tbody>\n",
       "</table>\n",
       "</div>"
      ],
      "text/plain": [
       "                      model     subseq      peaks     binary        mwa\n",
       "0  Polar Pith Canny(manual)  28.118855  29.629831  33.892311  23.066653"
      ]
     },
     "metadata": {},
     "output_type": "display_data"
    }
   ],
   "source": [
    "with_model(Model.POLAR_PITH_CANNY_EDGE_MANUAL, lines, points, data_dir, ranking_url, pith_url, rings_url, mse_url)"
   ]
  },
  {
   "cell_type": "code",
   "execution_count": 46,
   "id": "44bf39bb",
   "metadata": {},
   "outputs": [
    {
     "name": "stdout",
     "output_type": "stream",
     "text": [
      "0 2-34e23370868237a073d086fb64851017e9b2c8c9_85903b8cb210e9ad54581e7a37999bcd5fb18443_instant.jpg 87.0\n",
      "1 1-5d205d5ea6bafd3c2e038cf1139cdd5a9825388f_275cb29ffc473512447ce75ff34baa4ecea7276d_instant_210319.jpg 59.666666666666664\n",
      "2 1-11c00bf7cc3e03dc86bde8a20c8ab390b0b2f2a4_d5d5dbc0f05ff34587375f4a567740b61c4731a6_instant_210319.jpg 18.0\n",
      "3 2-8c5de8aa63e57b1e5d3a11ce4c4e2ded042b2ef3_0693ab68bf2278539a3733129d6964ba7719f7b2.jpg 22.0\n",
      "4 1-3d78e56849a16c0b17831129f6059e367574a138_8560eccb0f16269a00f2d6c6a5fab7419529c803_instant.jpg 15.0\n",
      "5 1-947a57fc1b94be1fb8a5cce439cd8112016648b1_b151d6624e13c4d31f300f909ebb63577e42a730_instant.jpg 19.0\n",
      "6 1-1f43f59e9f5ead12a13b1cd892a8757242367189_9cd89303dd466e6b178399f8d02b12aae69ec707_instant.jpg 14.0\n",
      "7 1-85fde97a518625ed46589a6be46300e36c3ad0d9_6626ee8bedc11ff89bd5a6205d10710e72ed9801_instant_210319.jpg 16.0\n",
      "8 1-e50b5a99fd9bab50130099c750df6d80f50a9b4e_fdafeaf4b1ec0417f969870e07a0d6401488df85_instant.jpg 17.0\n",
      "9 1-0d8eabdfed2cb1f0d455e5a2050d78ba39ae6cff_0665c9464c856662322717999ae3d8301ff48907_instant.jpg 11.0\n",
      "10 2-746ba8ac1301085b9f8d8d96beb3bf7f9e7a4605_ecc100d2cbc4a9fc70c2fde3eafaadb6ceb588ca_instant.jpg 29.0\n"
     ]
    },
    {
     "data": {
      "text/html": [
       "<div>\n",
       "<style scoped>\n",
       "    .dataframe tbody tr th:only-of-type {\n",
       "        vertical-align: middle;\n",
       "    }\n",
       "\n",
       "    .dataframe tbody tr th {\n",
       "        vertical-align: top;\n",
       "    }\n",
       "\n",
       "    .dataframe thead th {\n",
       "        text-align: right;\n",
       "    }\n",
       "</style>\n",
       "<table border=\"1\" class=\"dataframe\">\n",
       "  <thead>\n",
       "    <tr style=\"text-align: right;\">\n",
       "      <th></th>\n",
       "      <th>model</th>\n",
       "      <th>subseq</th>\n",
       "      <th>peaks</th>\n",
       "      <th>binary</th>\n",
       "      <th>mwa</th>\n",
       "    </tr>\n",
       "  </thead>\n",
       "  <tbody>\n",
       "    <tr>\n",
       "      <th>0</th>\n",
       "      <td>Polar Pith Canny(blur)</td>\n",
       "      <td>26.042634</td>\n",
       "      <td>27.760902</td>\n",
       "      <td>46.312718</td>\n",
       "      <td>27.742733</td>\n",
       "    </tr>\n",
       "  </tbody>\n",
       "</table>\n",
       "</div>"
      ],
      "text/plain": [
       "                    model     subseq      peaks     binary        mwa\n",
       "0  Polar Pith Canny(blur)  26.042634  27.760902  46.312718  27.742733"
      ]
     },
     "metadata": {},
     "output_type": "display_data"
    }
   ],
   "source": [
    "with_model(Model.POLAR_PITH_CANNY_EDGE_BLUR, lines, points, data_dir, ranking_url, pith_url, rings_url, mse_url)"
   ]
  },
  {
   "cell_type": "code",
   "execution_count": 47,
   "id": "483e93b8",
   "metadata": {},
   "outputs": [
    {
     "name": "stdout",
     "output_type": "stream",
     "text": [
      "0 2-34e23370868237a073d086fb64851017e9b2c8c9_85903b8cb210e9ad54581e7a37999bcd5fb18443_instant.jpg 87.0\n",
      "1 1-5d205d5ea6bafd3c2e038cf1139cdd5a9825388f_275cb29ffc473512447ce75ff34baa4ecea7276d_instant_210319.jpg 59.666666666666664\n",
      "2 1-11c00bf7cc3e03dc86bde8a20c8ab390b0b2f2a4_d5d5dbc0f05ff34587375f4a567740b61c4731a6_instant_210319.jpg 18.0\n",
      "3 2-8c5de8aa63e57b1e5d3a11ce4c4e2ded042b2ef3_0693ab68bf2278539a3733129d6964ba7719f7b2.jpg 22.0\n",
      "4 1-3d78e56849a16c0b17831129f6059e367574a138_8560eccb0f16269a00f2d6c6a5fab7419529c803_instant.jpg 15.0\n",
      "5 1-947a57fc1b94be1fb8a5cce439cd8112016648b1_b151d6624e13c4d31f300f909ebb63577e42a730_instant.jpg 19.0\n",
      "6 1-1f43f59e9f5ead12a13b1cd892a8757242367189_9cd89303dd466e6b178399f8d02b12aae69ec707_instant.jpg 14.0\n",
      "7 1-85fde97a518625ed46589a6be46300e36c3ad0d9_6626ee8bedc11ff89bd5a6205d10710e72ed9801_instant_210319.jpg 16.0\n",
      "8 1-e50b5a99fd9bab50130099c750df6d80f50a9b4e_fdafeaf4b1ec0417f969870e07a0d6401488df85_instant.jpg 17.0\n",
      "9 1-0d8eabdfed2cb1f0d455e5a2050d78ba39ae6cff_0665c9464c856662322717999ae3d8301ff48907_instant.jpg 11.0\n",
      "10 2-746ba8ac1301085b9f8d8d96beb3bf7f9e7a4605_ecc100d2cbc4a9fc70c2fde3eafaadb6ceb588ca_instant.jpg 29.0\n"
     ]
    },
    {
     "data": {
      "text/html": [
       "<div>\n",
       "<style scoped>\n",
       "    .dataframe tbody tr th:only-of-type {\n",
       "        vertical-align: middle;\n",
       "    }\n",
       "\n",
       "    .dataframe tbody tr th {\n",
       "        vertical-align: top;\n",
       "    }\n",
       "\n",
       "    .dataframe thead th {\n",
       "        text-align: right;\n",
       "    }\n",
       "</style>\n",
       "<table border=\"1\" class=\"dataframe\">\n",
       "  <thead>\n",
       "    <tr style=\"text-align: right;\">\n",
       "      <th></th>\n",
       "      <th>model</th>\n",
       "      <th>subseq</th>\n",
       "      <th>peaks</th>\n",
       "      <th>binary</th>\n",
       "      <th>mwa</th>\n",
       "    </tr>\n",
       "  </thead>\n",
       "  <tbody>\n",
       "    <tr>\n",
       "      <th>0</th>\n",
       "      <td>Polar Pith Canny(blur otsu)</td>\n",
       "      <td>28.176673</td>\n",
       "      <td>29.503431</td>\n",
       "      <td>35.870836</td>\n",
       "      <td>23.675242</td>\n",
       "    </tr>\n",
       "  </tbody>\n",
       "</table>\n",
       "</div>"
      ],
      "text/plain": [
       "                         model     subseq      peaks     binary        mwa\n",
       "0  Polar Pith Canny(blur otsu)  28.176673  29.503431  35.870836  23.675242"
      ]
     },
     "metadata": {},
     "output_type": "display_data"
    }
   ],
   "source": [
    "with_model(Model.POLAR_PITH_CANNY_EDGE_BLUR_OTSU, lines, points, data_dir, ranking_url, pith_url, rings_url, mse_url)"
   ]
  },
  {
   "cell_type": "code",
   "execution_count": 48,
   "id": "081babe2",
   "metadata": {},
   "outputs": [
    {
     "name": "stdout",
     "output_type": "stream",
     "text": [
      "0 2-34e23370868237a073d086fb64851017e9b2c8c9_85903b8cb210e9ad54581e7a37999bcd5fb18443_instant.jpg 87.0\n",
      "1 1-5d205d5ea6bafd3c2e038cf1139cdd5a9825388f_275cb29ffc473512447ce75ff34baa4ecea7276d_instant_210319.jpg 59.666666666666664\n",
      "2 1-11c00bf7cc3e03dc86bde8a20c8ab390b0b2f2a4_d5d5dbc0f05ff34587375f4a567740b61c4731a6_instant_210319.jpg 18.0\n",
      "3 2-8c5de8aa63e57b1e5d3a11ce4c4e2ded042b2ef3_0693ab68bf2278539a3733129d6964ba7719f7b2.jpg 22.0\n",
      "4 1-3d78e56849a16c0b17831129f6059e367574a138_8560eccb0f16269a00f2d6c6a5fab7419529c803_instant.jpg 15.0\n",
      "5 1-947a57fc1b94be1fb8a5cce439cd8112016648b1_b151d6624e13c4d31f300f909ebb63577e42a730_instant.jpg 19.0\n",
      "6 1-1f43f59e9f5ead12a13b1cd892a8757242367189_9cd89303dd466e6b178399f8d02b12aae69ec707_instant.jpg 14.0\n",
      "7 1-85fde97a518625ed46589a6be46300e36c3ad0d9_6626ee8bedc11ff89bd5a6205d10710e72ed9801_instant_210319.jpg 16.0\n",
      "8 1-e50b5a99fd9bab50130099c750df6d80f50a9b4e_fdafeaf4b1ec0417f969870e07a0d6401488df85_instant.jpg 17.0\n",
      "9 1-0d8eabdfed2cb1f0d455e5a2050d78ba39ae6cff_0665c9464c856662322717999ae3d8301ff48907_instant.jpg 11.0\n",
      "10 2-746ba8ac1301085b9f8d8d96beb3bf7f9e7a4605_ecc100d2cbc4a9fc70c2fde3eafaadb6ceb588ca_instant.jpg 29.0\n"
     ]
    },
    {
     "data": {
      "text/html": [
       "<div>\n",
       "<style scoped>\n",
       "    .dataframe tbody tr th:only-of-type {\n",
       "        vertical-align: middle;\n",
       "    }\n",
       "\n",
       "    .dataframe tbody tr th {\n",
       "        vertical-align: top;\n",
       "    }\n",
       "\n",
       "    .dataframe thead th {\n",
       "        text-align: right;\n",
       "    }\n",
       "</style>\n",
       "<table border=\"1\" class=\"dataframe\">\n",
       "  <thead>\n",
       "    <tr style=\"text-align: right;\">\n",
       "      <th></th>\n",
       "      <th>model</th>\n",
       "      <th>subseq</th>\n",
       "      <th>peaks</th>\n",
       "      <th>binary</th>\n",
       "      <th>mwa</th>\n",
       "    </tr>\n",
       "  </thead>\n",
       "  <tbody>\n",
       "    <tr>\n",
       "      <th>0</th>\n",
       "      <td>Polar Pith Canny(blur triangle)</td>\n",
       "      <td>32.945632</td>\n",
       "      <td>33.615364</td>\n",
       "      <td>24.389818</td>\n",
       "      <td>26.995193</td>\n",
       "    </tr>\n",
       "  </tbody>\n",
       "</table>\n",
       "</div>"
      ],
      "text/plain": [
       "                             model     subseq      peaks     binary        mwa\n",
       "0  Polar Pith Canny(blur triangle)  32.945632  33.615364  24.389818  26.995193"
      ]
     },
     "metadata": {},
     "output_type": "display_data"
    }
   ],
   "source": [
    "with_model(Model.POLAR_PITH_CANNY_EDGE_BLUR_TRIANGLE, lines, points, data_dir, ranking_url, pith_url, rings_url, mse_url)"
   ]
  },
  {
   "cell_type": "code",
   "execution_count": 49,
   "id": "261c103a",
   "metadata": {},
   "outputs": [
    {
     "name": "stdout",
     "output_type": "stream",
     "text": [
      "0 2-34e23370868237a073d086fb64851017e9b2c8c9_85903b8cb210e9ad54581e7a37999bcd5fb18443_instant.jpg 87.0\n",
      "1 1-5d205d5ea6bafd3c2e038cf1139cdd5a9825388f_275cb29ffc473512447ce75ff34baa4ecea7276d_instant_210319.jpg 59.666666666666664\n",
      "2 1-11c00bf7cc3e03dc86bde8a20c8ab390b0b2f2a4_d5d5dbc0f05ff34587375f4a567740b61c4731a6_instant_210319.jpg 18.0\n",
      "3 2-8c5de8aa63e57b1e5d3a11ce4c4e2ded042b2ef3_0693ab68bf2278539a3733129d6964ba7719f7b2.jpg 22.0\n",
      "4 1-3d78e56849a16c0b17831129f6059e367574a138_8560eccb0f16269a00f2d6c6a5fab7419529c803_instant.jpg 15.0\n",
      "5 1-947a57fc1b94be1fb8a5cce439cd8112016648b1_b151d6624e13c4d31f300f909ebb63577e42a730_instant.jpg 19.0\n",
      "6 1-1f43f59e9f5ead12a13b1cd892a8757242367189_9cd89303dd466e6b178399f8d02b12aae69ec707_instant.jpg 14.0\n",
      "7 1-85fde97a518625ed46589a6be46300e36c3ad0d9_6626ee8bedc11ff89bd5a6205d10710e72ed9801_instant_210319.jpg 16.0\n",
      "8 1-e50b5a99fd9bab50130099c750df6d80f50a9b4e_fdafeaf4b1ec0417f969870e07a0d6401488df85_instant.jpg 17.0\n",
      "9 1-0d8eabdfed2cb1f0d455e5a2050d78ba39ae6cff_0665c9464c856662322717999ae3d8301ff48907_instant.jpg 11.0\n",
      "10 2-746ba8ac1301085b9f8d8d96beb3bf7f9e7a4605_ecc100d2cbc4a9fc70c2fde3eafaadb6ceb588ca_instant.jpg 29.0\n"
     ]
    },
    {
     "data": {
      "text/html": [
       "<div>\n",
       "<style scoped>\n",
       "    .dataframe tbody tr th:only-of-type {\n",
       "        vertical-align: middle;\n",
       "    }\n",
       "\n",
       "    .dataframe tbody tr th {\n",
       "        vertical-align: top;\n",
       "    }\n",
       "\n",
       "    .dataframe thead th {\n",
       "        text-align: right;\n",
       "    }\n",
       "</style>\n",
       "<table border=\"1\" class=\"dataframe\">\n",
       "  <thead>\n",
       "    <tr style=\"text-align: right;\">\n",
       "      <th></th>\n",
       "      <th>model</th>\n",
       "      <th>subseq</th>\n",
       "      <th>peaks</th>\n",
       "      <th>binary</th>\n",
       "      <th>mwa</th>\n",
       "    </tr>\n",
       "  </thead>\n",
       "  <tbody>\n",
       "    <tr>\n",
       "      <th>0</th>\n",
       "      <td>Polar Pith Canny(blur manual)</td>\n",
       "      <td>32.958575</td>\n",
       "      <td>33.622945</td>\n",
       "      <td>24.895597</td>\n",
       "      <td>27.240677</td>\n",
       "    </tr>\n",
       "  </tbody>\n",
       "</table>\n",
       "</div>"
      ],
      "text/plain": [
       "                           model     subseq      peaks     binary        mwa\n",
       "0  Polar Pith Canny(blur manual)  32.958575  33.622945  24.895597  27.240677"
      ]
     },
     "metadata": {},
     "output_type": "display_data"
    }
   ],
   "source": [
    "with_model(Model.POLAR_PITH_CANNY_EDGE_BLUR_MANUAL, lines, points, data_dir, ranking_url, pith_url, rings_url, mse_url)"
   ]
  },
  {
   "cell_type": "code",
   "execution_count": 50,
   "id": "d4c9ff68",
   "metadata": {},
   "outputs": [
    {
     "name": "stdout",
     "output_type": "stream",
     "text": [
      "0 2-34e23370868237a073d086fb64851017e9b2c8c9_85903b8cb210e9ad54581e7a37999bcd5fb18443_instant.jpg 87.0\n",
      "1 1-5d205d5ea6bafd3c2e038cf1139cdd5a9825388f_275cb29ffc473512447ce75ff34baa4ecea7276d_instant_210319.jpg 59.666666666666664\n",
      "2 1-11c00bf7cc3e03dc86bde8a20c8ab390b0b2f2a4_d5d5dbc0f05ff34587375f4a567740b61c4731a6_instant_210319.jpg 18.0\n",
      "3 2-8c5de8aa63e57b1e5d3a11ce4c4e2ded042b2ef3_0693ab68bf2278539a3733129d6964ba7719f7b2.jpg 22.0\n",
      "4 1-3d78e56849a16c0b17831129f6059e367574a138_8560eccb0f16269a00f2d6c6a5fab7419529c803_instant.jpg 15.0\n",
      "5 1-947a57fc1b94be1fb8a5cce439cd8112016648b1_b151d6624e13c4d31f300f909ebb63577e42a730_instant.jpg 19.0\n",
      "6 1-1f43f59e9f5ead12a13b1cd892a8757242367189_9cd89303dd466e6b178399f8d02b12aae69ec707_instant.jpg 14.0\n",
      "7 1-85fde97a518625ed46589a6be46300e36c3ad0d9_6626ee8bedc11ff89bd5a6205d10710e72ed9801_instant_210319.jpg 16.0\n",
      "8 1-e50b5a99fd9bab50130099c750df6d80f50a9b4e_fdafeaf4b1ec0417f969870e07a0d6401488df85_instant.jpg 17.0\n",
      "9 1-0d8eabdfed2cb1f0d455e5a2050d78ba39ae6cff_0665c9464c856662322717999ae3d8301ff48907_instant.jpg 11.0\n",
      "10 2-746ba8ac1301085b9f8d8d96beb3bf7f9e7a4605_ecc100d2cbc4a9fc70c2fde3eafaadb6ceb588ca_instant.jpg 29.0\n"
     ]
    },
    {
     "data": {
      "text/html": [
       "<div>\n",
       "<style scoped>\n",
       "    .dataframe tbody tr th:only-of-type {\n",
       "        vertical-align: middle;\n",
       "    }\n",
       "\n",
       "    .dataframe tbody tr th {\n",
       "        vertical-align: top;\n",
       "    }\n",
       "\n",
       "    .dataframe thead th {\n",
       "        text-align: right;\n",
       "    }\n",
       "</style>\n",
       "<table border=\"1\" class=\"dataframe\">\n",
       "  <thead>\n",
       "    <tr style=\"text-align: right;\">\n",
       "      <th></th>\n",
       "      <th>model</th>\n",
       "      <th>subseq</th>\n",
       "      <th>peaks</th>\n",
       "      <th>binary</th>\n",
       "      <th>mwa</th>\n",
       "    </tr>\n",
       "  </thead>\n",
       "  <tbody>\n",
       "    <tr>\n",
       "      <th>0</th>\n",
       "      <td>Polar Pith Laplacian</td>\n",
       "      <td>94.135075</td>\n",
       "      <td>31.570822</td>\n",
       "      <td>136.660307</td>\n",
       "      <td>55.216806</td>\n",
       "    </tr>\n",
       "  </tbody>\n",
       "</table>\n",
       "</div>"
      ],
      "text/plain": [
       "                  model     subseq      peaks      binary        mwa\n",
       "0  Polar Pith Laplacian  94.135075  31.570822  136.660307  55.216806"
      ]
     },
     "metadata": {},
     "output_type": "display_data"
    }
   ],
   "source": [
    "with_model(Model.POLAR_PITH_LAPLACIAN_EDGE, lines, points, data_dir, ranking_url, pith_url, rings_url, mse_url)"
   ]
  },
  {
   "cell_type": "code",
   "execution_count": 51,
   "id": "385ccfcc",
   "metadata": {},
   "outputs": [
    {
     "name": "stdout",
     "output_type": "stream",
     "text": [
      "0 2-34e23370868237a073d086fb64851017e9b2c8c9_85903b8cb210e9ad54581e7a37999bcd5fb18443_instant.jpg 87.0\n",
      "1 1-5d205d5ea6bafd3c2e038cf1139cdd5a9825388f_275cb29ffc473512447ce75ff34baa4ecea7276d_instant_210319.jpg 59.666666666666664\n",
      "2 1-11c00bf7cc3e03dc86bde8a20c8ab390b0b2f2a4_d5d5dbc0f05ff34587375f4a567740b61c4731a6_instant_210319.jpg 18.0\n",
      "3 2-8c5de8aa63e57b1e5d3a11ce4c4e2ded042b2ef3_0693ab68bf2278539a3733129d6964ba7719f7b2.jpg 22.0\n",
      "4 1-3d78e56849a16c0b17831129f6059e367574a138_8560eccb0f16269a00f2d6c6a5fab7419529c803_instant.jpg 15.0\n",
      "5 1-947a57fc1b94be1fb8a5cce439cd8112016648b1_b151d6624e13c4d31f300f909ebb63577e42a730_instant.jpg 19.0\n",
      "6 1-1f43f59e9f5ead12a13b1cd892a8757242367189_9cd89303dd466e6b178399f8d02b12aae69ec707_instant.jpg 14.0\n",
      "7 1-85fde97a518625ed46589a6be46300e36c3ad0d9_6626ee8bedc11ff89bd5a6205d10710e72ed9801_instant_210319.jpg 16.0\n",
      "8 1-e50b5a99fd9bab50130099c750df6d80f50a9b4e_fdafeaf4b1ec0417f969870e07a0d6401488df85_instant.jpg 17.0\n",
      "9 1-0d8eabdfed2cb1f0d455e5a2050d78ba39ae6cff_0665c9464c856662322717999ae3d8301ff48907_instant.jpg 11.0\n",
      "10 2-746ba8ac1301085b9f8d8d96beb3bf7f9e7a4605_ecc100d2cbc4a9fc70c2fde3eafaadb6ceb588ca_instant.jpg 29.0\n"
     ]
    },
    {
     "data": {
      "text/html": [
       "<div>\n",
       "<style scoped>\n",
       "    .dataframe tbody tr th:only-of-type {\n",
       "        vertical-align: middle;\n",
       "    }\n",
       "\n",
       "    .dataframe tbody tr th {\n",
       "        vertical-align: top;\n",
       "    }\n",
       "\n",
       "    .dataframe thead th {\n",
       "        text-align: right;\n",
       "    }\n",
       "</style>\n",
       "<table border=\"1\" class=\"dataframe\">\n",
       "  <thead>\n",
       "    <tr style=\"text-align: right;\">\n",
       "      <th></th>\n",
       "      <th>model</th>\n",
       "      <th>subseq</th>\n",
       "      <th>peaks</th>\n",
       "      <th>binary</th>\n",
       "      <th>mwa</th>\n",
       "    </tr>\n",
       "  </thead>\n",
       "  <tbody>\n",
       "    <tr>\n",
       "      <th>0</th>\n",
       "      <td>Polar Pith Laplacian(blur)</td>\n",
       "      <td>115.70953</td>\n",
       "      <td>22.799647</td>\n",
       "      <td>146.738434</td>\n",
       "      <td>27.10203</td>\n",
       "    </tr>\n",
       "  </tbody>\n",
       "</table>\n",
       "</div>"
      ],
      "text/plain": [
       "                        model     subseq      peaks      binary       mwa\n",
       "0  Polar Pith Laplacian(blur)  115.70953  22.799647  146.738434  27.10203"
      ]
     },
     "metadata": {},
     "output_type": "display_data"
    }
   ],
   "source": [
    "with_model(Model.POLAR_PITH_LAPLACIAN_EDGE_BLUR, lines, points, data_dir, ranking_url, pith_url, rings_url, mse_url)"
   ]
  },
  {
   "cell_type": "code",
   "execution_count": 52,
   "id": "34ab8968",
   "metadata": {},
   "outputs": [
    {
     "name": "stdout",
     "output_type": "stream",
     "text": [
      "Canny(blur otsu) 19.421822496312824 (peaks) \n",
      "\n"
     ]
    },
    {
     "data": {
      "text/html": [
       "<div>\n",
       "<style scoped>\n",
       "    .dataframe tbody tr th:only-of-type {\n",
       "        vertical-align: middle;\n",
       "    }\n",
       "\n",
       "    .dataframe tbody tr th {\n",
       "        vertical-align: top;\n",
       "    }\n",
       "\n",
       "    .dataframe thead th {\n",
       "        text-align: right;\n",
       "    }\n",
       "</style>\n",
       "<table border=\"1\" class=\"dataframe\">\n",
       "  <thead>\n",
       "    <tr style=\"text-align: right;\">\n",
       "      <th></th>\n",
       "      <th>subseq</th>\n",
       "      <th>peaks</th>\n",
       "      <th>binary</th>\n",
       "      <th>mwa</th>\n",
       "    </tr>\n",
       "    <tr>\n",
       "      <th>model</th>\n",
       "      <th></th>\n",
       "      <th></th>\n",
       "      <th></th>\n",
       "      <th></th>\n",
       "    </tr>\n",
       "  </thead>\n",
       "  <tbody>\n",
       "    <tr>\n",
       "      <th>Grayscale</th>\n",
       "      <td>156.221000</td>\n",
       "      <td>20.077538</td>\n",
       "      <td>175.846037</td>\n",
       "      <td>43.509164</td>\n",
       "    </tr>\n",
       "    <tr>\n",
       "      <th>Polar</th>\n",
       "      <td>58.947436</td>\n",
       "      <td>27.469713</td>\n",
       "      <td>162.735774</td>\n",
       "      <td>37.948622</td>\n",
       "    </tr>\n",
       "    <tr>\n",
       "      <th>Polar Pith</th>\n",
       "      <td>56.959764</td>\n",
       "      <td>26.993525</td>\n",
       "      <td>158.891470</td>\n",
       "      <td>37.865317</td>\n",
       "    </tr>\n",
       "    <tr>\n",
       "      <th>Sobel</th>\n",
       "      <td>150.618280</td>\n",
       "      <td>41.337847</td>\n",
       "      <td>175.260492</td>\n",
       "      <td>79.292500</td>\n",
       "    </tr>\n",
       "    <tr>\n",
       "      <th>Sobel(blur)</th>\n",
       "      <td>152.679954</td>\n",
       "      <td>30.898488</td>\n",
       "      <td>168.452281</td>\n",
       "      <td>65.505088</td>\n",
       "    </tr>\n",
       "    <tr>\n",
       "      <th>Canny</th>\n",
       "      <td>33.403038</td>\n",
       "      <td>22.692319</td>\n",
       "      <td>134.787981</td>\n",
       "      <td>90.812433</td>\n",
       "    </tr>\n",
       "    <tr>\n",
       "      <th>Canny(otsu)</th>\n",
       "      <td>30.358738</td>\n",
       "      <td>21.513510</td>\n",
       "      <td>127.878729</td>\n",
       "      <td>85.002978</td>\n",
       "    </tr>\n",
       "    <tr>\n",
       "      <th>Canny(triangle)</th>\n",
       "      <td>23.426814</td>\n",
       "      <td>19.524419</td>\n",
       "      <td>109.075978</td>\n",
       "      <td>69.854565</td>\n",
       "    </tr>\n",
       "    <tr>\n",
       "      <th>Canny(manual)</th>\n",
       "      <td>27.469295</td>\n",
       "      <td>20.324718</td>\n",
       "      <td>121.337408</td>\n",
       "      <td>79.554030</td>\n",
       "    </tr>\n",
       "    <tr>\n",
       "      <th>Canny(blur)</th>\n",
       "      <td>24.078240</td>\n",
       "      <td>19.633838</td>\n",
       "      <td>117.467604</td>\n",
       "      <td>77.432545</td>\n",
       "    </tr>\n",
       "    <tr>\n",
       "      <th>Canny(blur otsu)</th>\n",
       "      <td>22.311657</td>\n",
       "      <td>19.421822</td>\n",
       "      <td>110.343698</td>\n",
       "      <td>71.351989</td>\n",
       "    </tr>\n",
       "    <tr>\n",
       "      <th>Canny(blur triangle)</th>\n",
       "      <td>22.656177</td>\n",
       "      <td>20.581696</td>\n",
       "      <td>97.861817</td>\n",
       "      <td>63.026434</td>\n",
       "    </tr>\n",
       "    <tr>\n",
       "      <th>Canny(blur manual)</th>\n",
       "      <td>20.863356</td>\n",
       "      <td>19.579309</td>\n",
       "      <td>101.381280</td>\n",
       "      <td>64.356764</td>\n",
       "    </tr>\n",
       "    <tr>\n",
       "      <th>Laplacian</th>\n",
       "      <td>173.321287</td>\n",
       "      <td>58.962696</td>\n",
       "      <td>205.417270</td>\n",
       "      <td>109.442043</td>\n",
       "    </tr>\n",
       "    <tr>\n",
       "      <th>Laplacian(blur)</th>\n",
       "      <td>198.442116</td>\n",
       "      <td>50.884244</td>\n",
       "      <td>219.047549</td>\n",
       "      <td>80.413929</td>\n",
       "    </tr>\n",
       "    <tr>\n",
       "      <th>Polar Sobel</th>\n",
       "      <td>71.685276</td>\n",
       "      <td>24.149227</td>\n",
       "      <td>112.144895</td>\n",
       "      <td>35.326062</td>\n",
       "    </tr>\n",
       "    <tr>\n",
       "      <th>Polar Sobel(blur)</th>\n",
       "      <td>72.113482</td>\n",
       "      <td>25.823420</td>\n",
       "      <td>106.759224</td>\n",
       "      <td>26.752735</td>\n",
       "    </tr>\n",
       "    <tr>\n",
       "      <th>Polar Canny</th>\n",
       "      <td>24.777001</td>\n",
       "      <td>26.413220</td>\n",
       "      <td>62.378250</td>\n",
       "      <td>37.195960</td>\n",
       "    </tr>\n",
       "    <tr>\n",
       "      <th>Polar Canny(otsu)</th>\n",
       "      <td>25.787530</td>\n",
       "      <td>27.526548</td>\n",
       "      <td>53.391933</td>\n",
       "      <td>31.737494</td>\n",
       "    </tr>\n",
       "    <tr>\n",
       "      <th>Polar Canny(triangle)</th>\n",
       "      <td>28.922513</td>\n",
       "      <td>30.273818</td>\n",
       "      <td>35.120368</td>\n",
       "      <td>24.464064</td>\n",
       "    </tr>\n",
       "    <tr>\n",
       "      <th>Polar Canny(manual)</th>\n",
       "      <td>29.069204</td>\n",
       "      <td>30.402443</td>\n",
       "      <td>34.850644</td>\n",
       "      <td>24.494214</td>\n",
       "    </tr>\n",
       "    <tr>\n",
       "      <th>Polar Canny(blur)</th>\n",
       "      <td>26.937169</td>\n",
       "      <td>28.410352</td>\n",
       "      <td>47.225989</td>\n",
       "      <td>29.119231</td>\n",
       "    </tr>\n",
       "    <tr>\n",
       "      <th>Polar Canny(blur otsu)</th>\n",
       "      <td>29.089407</td>\n",
       "      <td>30.167612</td>\n",
       "      <td>37.089756</td>\n",
       "      <td>25.404135</td>\n",
       "    </tr>\n",
       "    <tr>\n",
       "      <th>Polar Canny(blur triangle)</th>\n",
       "      <td>33.502075</td>\n",
       "      <td>34.070736</td>\n",
       "      <td>26.169140</td>\n",
       "      <td>28.480930</td>\n",
       "    </tr>\n",
       "    <tr>\n",
       "      <th>Polar Canny(blur manual)</th>\n",
       "      <td>33.546164</td>\n",
       "      <td>34.082749</td>\n",
       "      <td>26.216687</td>\n",
       "      <td>28.530987</td>\n",
       "    </tr>\n",
       "    <tr>\n",
       "      <th>Polar Laplacian</th>\n",
       "      <td>93.211359</td>\n",
       "      <td>32.502982</td>\n",
       "      <td>136.971194</td>\n",
       "      <td>56.358989</td>\n",
       "    </tr>\n",
       "    <tr>\n",
       "      <th>Polar Laplacian(blur)</th>\n",
       "      <td>115.933135</td>\n",
       "      <td>24.517600</td>\n",
       "      <td>146.541801</td>\n",
       "      <td>28.885721</td>\n",
       "    </tr>\n",
       "    <tr>\n",
       "      <th>Polar Pith Sobel</th>\n",
       "      <td>70.964031</td>\n",
       "      <td>22.626617</td>\n",
       "      <td>110.967419</td>\n",
       "      <td>33.690881</td>\n",
       "    </tr>\n",
       "    <tr>\n",
       "      <th>Polar Pith Sobel(blur)</th>\n",
       "      <td>71.546381</td>\n",
       "      <td>24.924385</td>\n",
       "      <td>105.673719</td>\n",
       "      <td>25.107252</td>\n",
       "    </tr>\n",
       "    <tr>\n",
       "      <th>Polar Pith Canny</th>\n",
       "      <td>24.011586</td>\n",
       "      <td>25.822386</td>\n",
       "      <td>62.471583</td>\n",
       "      <td>36.999951</td>\n",
       "    </tr>\n",
       "    <tr>\n",
       "      <th>Polar Pith Canny(otsu)</th>\n",
       "      <td>24.917571</td>\n",
       "      <td>26.861154</td>\n",
       "      <td>53.144581</td>\n",
       "      <td>30.991005</td>\n",
       "    </tr>\n",
       "    <tr>\n",
       "      <th>Polar Pith Canny(triangle)</th>\n",
       "      <td>27.998669</td>\n",
       "      <td>29.532613</td>\n",
       "      <td>34.347839</td>\n",
       "      <td>23.177981</td>\n",
       "    </tr>\n",
       "    <tr>\n",
       "      <th>Polar Pith Canny(manual)</th>\n",
       "      <td>28.118855</td>\n",
       "      <td>29.629831</td>\n",
       "      <td>33.892311</td>\n",
       "      <td>23.066653</td>\n",
       "    </tr>\n",
       "    <tr>\n",
       "      <th>Polar Pith Canny(blur)</th>\n",
       "      <td>26.042634</td>\n",
       "      <td>27.760902</td>\n",
       "      <td>46.312718</td>\n",
       "      <td>27.742733</td>\n",
       "    </tr>\n",
       "    <tr>\n",
       "      <th>Polar Pith Canny(blur otsu)</th>\n",
       "      <td>28.176673</td>\n",
       "      <td>29.503431</td>\n",
       "      <td>35.870836</td>\n",
       "      <td>23.675242</td>\n",
       "    </tr>\n",
       "    <tr>\n",
       "      <th>Polar Pith Canny(blur triangle)</th>\n",
       "      <td>32.945632</td>\n",
       "      <td>33.615364</td>\n",
       "      <td>24.389818</td>\n",
       "      <td>26.995193</td>\n",
       "    </tr>\n",
       "    <tr>\n",
       "      <th>Polar Pith Canny(blur manual)</th>\n",
       "      <td>32.958575</td>\n",
       "      <td>33.622945</td>\n",
       "      <td>24.895597</td>\n",
       "      <td>27.240677</td>\n",
       "    </tr>\n",
       "    <tr>\n",
       "      <th>Polar Pith Laplacian</th>\n",
       "      <td>94.135075</td>\n",
       "      <td>31.570822</td>\n",
       "      <td>136.660307</td>\n",
       "      <td>55.216806</td>\n",
       "    </tr>\n",
       "    <tr>\n",
       "      <th>Polar Pith Laplacian(blur)</th>\n",
       "      <td>115.709530</td>\n",
       "      <td>22.799647</td>\n",
       "      <td>146.738434</td>\n",
       "      <td>27.102030</td>\n",
       "    </tr>\n",
       "  </tbody>\n",
       "</table>\n",
       "</div>"
      ],
      "text/plain": [
       "                                     subseq      peaks      binary         mwa\n",
       "model                                                                         \n",
       "Grayscale                        156.221000  20.077538  175.846037   43.509164\n",
       "Polar                             58.947436  27.469713  162.735774   37.948622\n",
       "Polar Pith                        56.959764  26.993525  158.891470   37.865317\n",
       "Sobel                            150.618280  41.337847  175.260492   79.292500\n",
       "Sobel(blur)                      152.679954  30.898488  168.452281   65.505088\n",
       "Canny                             33.403038  22.692319  134.787981   90.812433\n",
       "Canny(otsu)                       30.358738  21.513510  127.878729   85.002978\n",
       "Canny(triangle)                   23.426814  19.524419  109.075978   69.854565\n",
       "Canny(manual)                     27.469295  20.324718  121.337408   79.554030\n",
       "Canny(blur)                       24.078240  19.633838  117.467604   77.432545\n",
       "Canny(blur otsu)                  22.311657  19.421822  110.343698   71.351989\n",
       "Canny(blur triangle)              22.656177  20.581696   97.861817   63.026434\n",
       "Canny(blur manual)                20.863356  19.579309  101.381280   64.356764\n",
       "Laplacian                        173.321287  58.962696  205.417270  109.442043\n",
       "Laplacian(blur)                  198.442116  50.884244  219.047549   80.413929\n",
       "Polar Sobel                       71.685276  24.149227  112.144895   35.326062\n",
       "Polar Sobel(blur)                 72.113482  25.823420  106.759224   26.752735\n",
       "Polar Canny                       24.777001  26.413220   62.378250   37.195960\n",
       "Polar Canny(otsu)                 25.787530  27.526548   53.391933   31.737494\n",
       "Polar Canny(triangle)             28.922513  30.273818   35.120368   24.464064\n",
       "Polar Canny(manual)               29.069204  30.402443   34.850644   24.494214\n",
       "Polar Canny(blur)                 26.937169  28.410352   47.225989   29.119231\n",
       "Polar Canny(blur otsu)            29.089407  30.167612   37.089756   25.404135\n",
       "Polar Canny(blur triangle)        33.502075  34.070736   26.169140   28.480930\n",
       "Polar Canny(blur manual)          33.546164  34.082749   26.216687   28.530987\n",
       "Polar Laplacian                   93.211359  32.502982  136.971194   56.358989\n",
       "Polar Laplacian(blur)            115.933135  24.517600  146.541801   28.885721\n",
       "Polar Pith Sobel                  70.964031  22.626617  110.967419   33.690881\n",
       "Polar Pith Sobel(blur)            71.546381  24.924385  105.673719   25.107252\n",
       "Polar Pith Canny                  24.011586  25.822386   62.471583   36.999951\n",
       "Polar Pith Canny(otsu)            24.917571  26.861154   53.144581   30.991005\n",
       "Polar Pith Canny(triangle)        27.998669  29.532613   34.347839   23.177981\n",
       "Polar Pith Canny(manual)          28.118855  29.629831   33.892311   23.066653\n",
       "Polar Pith Canny(blur)            26.042634  27.760902   46.312718   27.742733\n",
       "Polar Pith Canny(blur otsu)       28.176673  29.503431   35.870836   23.675242\n",
       "Polar Pith Canny(blur triangle)   32.945632  33.615364   24.389818   26.995193\n",
       "Polar Pith Canny(blur manual)     32.958575  33.622945   24.895597   27.240677\n",
       "Polar Pith Laplacian              94.135075  31.570822  136.660307   55.216806\n",
       "Polar Pith Laplacian(blur)       115.709530  22.799647  146.738434   27.102030"
      ]
     },
     "metadata": {},
     "output_type": "display_data"
    },
    {
     "name": "stdout",
     "output_type": "stream",
     "text": [
      "Min: 19.421822496312824, Max: 219.04754853586172\n"
     ]
    },
    {
     "data": {
      "image/png": "[encoded data removed]",
      "text/plain": [
       "<Figure size 640x480 with 1 Axes>"
      ]
     },
     "metadata": {},
     "output_type": "display_data"
    },
    {
     "data": {
      "text/html": [
       "<div>\n",
       "<style scoped>\n",
       "    .dataframe tbody tr th:only-of-type {\n",
       "        vertical-align: middle;\n",
       "    }\n",
       "\n",
       "    .dataframe tbody tr th {\n",
       "        vertical-align: top;\n",
       "    }\n",
       "\n",
       "    .dataframe thead th {\n",
       "        text-align: right;\n",
       "    }\n",
       "</style>\n",
       "<table border=\"1\" class=\"dataframe\">\n",
       "  <thead>\n",
       "    <tr style=\"text-align: right;\">\n",
       "      <th></th>\n",
       "      <th>subseq</th>\n",
       "      <th>peaks</th>\n",
       "      <th>binary</th>\n",
       "      <th>mwa</th>\n",
       "    </tr>\n",
       "    <tr>\n",
       "      <th>model</th>\n",
       "      <th></th>\n",
       "      <th></th>\n",
       "      <th></th>\n",
       "      <th></th>\n",
       "    </tr>\n",
       "  </thead>\n",
       "  <tbody>\n",
       "    <tr>\n",
       "      <th>Grayscale</th>\n",
       "      <td>156.221000</td>\n",
       "      <td>20.077538</td>\n",
       "      <td>175.846037</td>\n",
       "      <td>43.509164</td>\n",
       "    </tr>\n",
       "    <tr>\n",
       "      <th>Polar</th>\n",
       "      <td>58.947436</td>\n",
       "      <td>27.469713</td>\n",
       "      <td>162.735774</td>\n",
       "      <td>37.948622</td>\n",
       "    </tr>\n",
       "    <tr>\n",
       "      <th>Polar Pith</th>\n",
       "      <td>56.959764</td>\n",
       "      <td>26.993525</td>\n",
       "      <td>158.891470</td>\n",
       "      <td>37.865317</td>\n",
       "    </tr>\n",
       "    <tr>\n",
       "      <th>Sobel</th>\n",
       "      <td>150.618280</td>\n",
       "      <td>41.337847</td>\n",
       "      <td>175.260492</td>\n",
       "      <td>79.292500</td>\n",
       "    </tr>\n",
       "    <tr>\n",
       "      <th>Sobel(blur)</th>\n",
       "      <td>152.679954</td>\n",
       "      <td>30.898488</td>\n",
       "      <td>168.452281</td>\n",
       "      <td>65.505088</td>\n",
       "    </tr>\n",
       "    <tr>\n",
       "      <th>Canny</th>\n",
       "      <td>33.403038</td>\n",
       "      <td>22.692319</td>\n",
       "      <td>134.787981</td>\n",
       "      <td>90.812433</td>\n",
       "    </tr>\n",
       "    <tr>\n",
       "      <th>Canny(otsu)</th>\n",
       "      <td>30.358738</td>\n",
       "      <td>21.513510</td>\n",
       "      <td>127.878729</td>\n",
       "      <td>85.002978</td>\n",
       "    </tr>\n",
       "    <tr>\n",
       "      <th>Canny(triangle)</th>\n",
       "      <td>23.426814</td>\n",
       "      <td>19.524419</td>\n",
       "      <td>109.075978</td>\n",
       "      <td>69.854565</td>\n",
       "    </tr>\n",
       "    <tr>\n",
       "      <th>Canny(manual)</th>\n",
       "      <td>27.469295</td>\n",
       "      <td>20.324718</td>\n",
       "      <td>121.337408</td>\n",
       "      <td>79.554030</td>\n",
       "    </tr>\n",
       "    <tr>\n",
       "      <th>Canny(blur)</th>\n",
       "      <td>24.078240</td>\n",
       "      <td>19.633838</td>\n",
       "      <td>117.467604</td>\n",
       "      <td>77.432545</td>\n",
       "    </tr>\n",
       "    <tr>\n",
       "      <th>Canny(blur otsu)</th>\n",
       "      <td>22.311657</td>\n",
       "      <td>19.421822</td>\n",
       "      <td>110.343698</td>\n",
       "      <td>71.351989</td>\n",
       "    </tr>\n",
       "    <tr>\n",
       "      <th>Canny(blur triangle)</th>\n",
       "      <td>22.656177</td>\n",
       "      <td>20.581696</td>\n",
       "      <td>97.861817</td>\n",
       "      <td>63.026434</td>\n",
       "    </tr>\n",
       "    <tr>\n",
       "      <th>Canny(blur manual)</th>\n",
       "      <td>20.863356</td>\n",
       "      <td>19.579309</td>\n",
       "      <td>101.381280</td>\n",
       "      <td>64.356764</td>\n",
       "    </tr>\n",
       "    <tr>\n",
       "      <th>Laplacian</th>\n",
       "      <td>173.321287</td>\n",
       "      <td>58.962696</td>\n",
       "      <td>205.417270</td>\n",
       "      <td>109.442043</td>\n",
       "    </tr>\n",
       "    <tr>\n",
       "      <th>Laplacian(blur)</th>\n",
       "      <td>198.442116</td>\n",
       "      <td>50.884244</td>\n",
       "      <td>219.047549</td>\n",
       "      <td>80.413929</td>\n",
       "    </tr>\n",
       "  </tbody>\n",
       "</table>\n",
       "</div>"
      ],
      "text/plain": [
       "                          subseq      peaks      binary         mwa\n",
       "model                                                              \n",
       "Grayscale             156.221000  20.077538  175.846037   43.509164\n",
       "Polar                  58.947436  27.469713  162.735774   37.948622\n",
       "Polar Pith             56.959764  26.993525  158.891470   37.865317\n",
       "Sobel                 150.618280  41.337847  175.260492   79.292500\n",
       "Sobel(blur)           152.679954  30.898488  168.452281   65.505088\n",
       "Canny                  33.403038  22.692319  134.787981   90.812433\n",
       "Canny(otsu)            30.358738  21.513510  127.878729   85.002978\n",
       "Canny(triangle)        23.426814  19.524419  109.075978   69.854565\n",
       "Canny(manual)          27.469295  20.324718  121.337408   79.554030\n",
       "Canny(blur)            24.078240  19.633838  117.467604   77.432545\n",
       "Canny(blur otsu)       22.311657  19.421822  110.343698   71.351989\n",
       "Canny(blur triangle)   22.656177  20.581696   97.861817   63.026434\n",
       "Canny(blur manual)     20.863356  19.579309  101.381280   64.356764\n",
       "Laplacian             173.321287  58.962696  205.417270  109.442043\n",
       "Laplacian(blur)       198.442116  50.884244  219.047549   80.413929"
      ]
     },
     "metadata": {},
     "output_type": "display_data"
    },
    {
     "name": "stdout",
     "output_type": "stream",
     "text": [
      "Min: 19.421822496312824, Max: 219.04754853586172\n"
     ]
    },
    {
     "data": {
      "image/png": "[encoded data removed]",
      "text/plain": [
       "<Figure size 640x480 with 1 Axes>"
      ]
     },
     "metadata": {},
     "output_type": "display_data"
    },
    {
     "data": {
      "text/html": [
       "<div>\n",
       "<style scoped>\n",
       "    .dataframe tbody tr th:only-of-type {\n",
       "        vertical-align: middle;\n",
       "    }\n",
       "\n",
       "    .dataframe tbody tr th {\n",
       "        vertical-align: top;\n",
       "    }\n",
       "\n",
       "    .dataframe thead th {\n",
       "        text-align: right;\n",
       "    }\n",
       "</style>\n",
       "<table border=\"1\" class=\"dataframe\">\n",
       "  <thead>\n",
       "    <tr style=\"text-align: right;\">\n",
       "      <th></th>\n",
       "      <th>subseq</th>\n",
       "      <th>peaks</th>\n",
       "      <th>binary</th>\n",
       "      <th>mwa</th>\n",
       "    </tr>\n",
       "    <tr>\n",
       "      <th>model</th>\n",
       "      <th></th>\n",
       "      <th></th>\n",
       "      <th></th>\n",
       "      <th></th>\n",
       "    </tr>\n",
       "  </thead>\n",
       "  <tbody>\n",
       "    <tr>\n",
       "      <th>Polar Sobel</th>\n",
       "      <td>71.685276</td>\n",
       "      <td>24.149227</td>\n",
       "      <td>112.144895</td>\n",
       "      <td>35.326062</td>\n",
       "    </tr>\n",
       "    <tr>\n",
       "      <th>Polar Sobel(blur)</th>\n",
       "      <td>72.113482</td>\n",
       "      <td>25.823420</td>\n",
       "      <td>106.759224</td>\n",
       "      <td>26.752735</td>\n",
       "    </tr>\n",
       "    <tr>\n",
       "      <th>Polar Canny</th>\n",
       "      <td>24.777001</td>\n",
       "      <td>26.413220</td>\n",
       "      <td>62.378250</td>\n",
       "      <td>37.195960</td>\n",
       "    </tr>\n",
       "    <tr>\n",
       "      <th>Polar Canny(otsu)</th>\n",
       "      <td>25.787530</td>\n",
       "      <td>27.526548</td>\n",
       "      <td>53.391933</td>\n",
       "      <td>31.737494</td>\n",
       "    </tr>\n",
       "    <tr>\n",
       "      <th>Polar Canny(triangle)</th>\n",
       "      <td>28.922513</td>\n",
       "      <td>30.273818</td>\n",
       "      <td>35.120368</td>\n",
       "      <td>24.464064</td>\n",
       "    </tr>\n",
       "    <tr>\n",
       "      <th>Polar Canny(manual)</th>\n",
       "      <td>29.069204</td>\n",
       "      <td>30.402443</td>\n",
       "      <td>34.850644</td>\n",
       "      <td>24.494214</td>\n",
       "    </tr>\n",
       "    <tr>\n",
       "      <th>Polar Canny(blur)</th>\n",
       "      <td>26.937169</td>\n",
       "      <td>28.410352</td>\n",
       "      <td>47.225989</td>\n",
       "      <td>29.119231</td>\n",
       "    </tr>\n",
       "    <tr>\n",
       "      <th>Polar Canny(blur otsu)</th>\n",
       "      <td>29.089407</td>\n",
       "      <td>30.167612</td>\n",
       "      <td>37.089756</td>\n",
       "      <td>25.404135</td>\n",
       "    </tr>\n",
       "    <tr>\n",
       "      <th>Polar Canny(blur triangle)</th>\n",
       "      <td>33.502075</td>\n",
       "      <td>34.070736</td>\n",
       "      <td>26.169140</td>\n",
       "      <td>28.480930</td>\n",
       "    </tr>\n",
       "    <tr>\n",
       "      <th>Polar Canny(blur manual)</th>\n",
       "      <td>33.546164</td>\n",
       "      <td>34.082749</td>\n",
       "      <td>26.216687</td>\n",
       "      <td>28.530987</td>\n",
       "    </tr>\n",
       "    <tr>\n",
       "      <th>Polar Laplacian</th>\n",
       "      <td>93.211359</td>\n",
       "      <td>32.502982</td>\n",
       "      <td>136.971194</td>\n",
       "      <td>56.358989</td>\n",
       "    </tr>\n",
       "    <tr>\n",
       "      <th>Polar Laplacian(blur)</th>\n",
       "      <td>115.933135</td>\n",
       "      <td>24.517600</td>\n",
       "      <td>146.541801</td>\n",
       "      <td>28.885721</td>\n",
       "    </tr>\n",
       "  </tbody>\n",
       "</table>\n",
       "</div>"
      ],
      "text/plain": [
       "                                subseq      peaks      binary        mwa\n",
       "model                                                                   \n",
       "Polar Sobel                  71.685276  24.149227  112.144895  35.326062\n",
       "Polar Sobel(blur)            72.113482  25.823420  106.759224  26.752735\n",
       "Polar Canny                  24.777001  26.413220   62.378250  37.195960\n",
       "Polar Canny(otsu)            25.787530  27.526548   53.391933  31.737494\n",
       "Polar Canny(triangle)        28.922513  30.273818   35.120368  24.464064\n",
       "Polar Canny(manual)          29.069204  30.402443   34.850644  24.494214\n",
       "Polar Canny(blur)            26.937169  28.410352   47.225989  29.119231\n",
       "Polar Canny(blur otsu)       29.089407  30.167612   37.089756  25.404135\n",
       "Polar Canny(blur triangle)   33.502075  34.070736   26.169140  28.480930\n",
       "Polar Canny(blur manual)     33.546164  34.082749   26.216687  28.530987\n",
       "Polar Laplacian              93.211359  32.502982  136.971194  56.358989\n",
       "Polar Laplacian(blur)       115.933135  24.517600  146.541801  28.885721"
      ]
     },
     "metadata": {},
     "output_type": "display_data"
    },
    {
     "name": "stdout",
     "output_type": "stream",
     "text": [
      "Min: 24.14922715187441, Max: 146.54180142871255\n"
     ]
    },
    {
     "data": {
      "image/png": "[encoded data removed]",
      "text/plain": [
       "<Figure size 640x480 with 1 Axes>"
      ]
     },
     "metadata": {},
     "output_type": "display_data"
    },
    {
     "data": {
      "text/html": [
       "<div>\n",
       "<style scoped>\n",
       "    .dataframe tbody tr th:only-of-type {\n",
       "        vertical-align: middle;\n",
       "    }\n",
       "\n",
       "    .dataframe tbody tr th {\n",
       "        vertical-align: top;\n",
       "    }\n",
       "\n",
       "    .dataframe thead th {\n",
       "        text-align: right;\n",
       "    }\n",
       "</style>\n",
       "<table border=\"1\" class=\"dataframe\">\n",
       "  <thead>\n",
       "    <tr style=\"text-align: right;\">\n",
       "      <th></th>\n",
       "      <th>subseq</th>\n",
       "      <th>peaks</th>\n",
       "      <th>binary</th>\n",
       "      <th>mwa</th>\n",
       "    </tr>\n",
       "    <tr>\n",
       "      <th>model</th>\n",
       "      <th></th>\n",
       "      <th></th>\n",
       "      <th></th>\n",
       "      <th></th>\n",
       "    </tr>\n",
       "  </thead>\n",
       "  <tbody>\n",
       "    <tr>\n",
       "      <th>Polar Pith Sobel</th>\n",
       "      <td>70.964031</td>\n",
       "      <td>22.626617</td>\n",
       "      <td>110.967419</td>\n",
       "      <td>33.690881</td>\n",
       "    </tr>\n",
       "    <tr>\n",
       "      <th>Polar Pith Sobel(blur)</th>\n",
       "      <td>71.546381</td>\n",
       "      <td>24.924385</td>\n",
       "      <td>105.673719</td>\n",
       "      <td>25.107252</td>\n",
       "    </tr>\n",
       "    <tr>\n",
       "      <th>Polar Pith Canny</th>\n",
       "      <td>24.011586</td>\n",
       "      <td>25.822386</td>\n",
       "      <td>62.471583</td>\n",
       "      <td>36.999951</td>\n",
       "    </tr>\n",
       "    <tr>\n",
       "      <th>Polar Pith Canny(otsu)</th>\n",
       "      <td>24.917571</td>\n",
       "      <td>26.861154</td>\n",
       "      <td>53.144581</td>\n",
       "      <td>30.991005</td>\n",
       "    </tr>\n",
       "    <tr>\n",
       "      <th>Polar Pith Canny(triangle)</th>\n",
       "      <td>27.998669</td>\n",
       "      <td>29.532613</td>\n",
       "      <td>34.347839</td>\n",
       "      <td>23.177981</td>\n",
       "    </tr>\n",
       "    <tr>\n",
       "      <th>Polar Pith Canny(manual)</th>\n",
       "      <td>28.118855</td>\n",
       "      <td>29.629831</td>\n",
       "      <td>33.892311</td>\n",
       "      <td>23.066653</td>\n",
       "    </tr>\n",
       "    <tr>\n",
       "      <th>Polar Pith Canny(blur)</th>\n",
       "      <td>26.042634</td>\n",
       "      <td>27.760902</td>\n",
       "      <td>46.312718</td>\n",
       "      <td>27.742733</td>\n",
       "    </tr>\n",
       "    <tr>\n",
       "      <th>Polar Pith Canny(blur otsu)</th>\n",
       "      <td>28.176673</td>\n",
       "      <td>29.503431</td>\n",
       "      <td>35.870836</td>\n",
       "      <td>23.675242</td>\n",
       "    </tr>\n",
       "    <tr>\n",
       "      <th>Polar Pith Canny(blur triangle)</th>\n",
       "      <td>32.945632</td>\n",
       "      <td>33.615364</td>\n",
       "      <td>24.389818</td>\n",
       "      <td>26.995193</td>\n",
       "    </tr>\n",
       "    <tr>\n",
       "      <th>Polar Pith Canny(blur manual)</th>\n",
       "      <td>32.958575</td>\n",
       "      <td>33.622945</td>\n",
       "      <td>24.895597</td>\n",
       "      <td>27.240677</td>\n",
       "    </tr>\n",
       "    <tr>\n",
       "      <th>Polar Pith Laplacian</th>\n",
       "      <td>94.135075</td>\n",
       "      <td>31.570822</td>\n",
       "      <td>136.660307</td>\n",
       "      <td>55.216806</td>\n",
       "    </tr>\n",
       "    <tr>\n",
       "      <th>Polar Pith Laplacian(blur)</th>\n",
       "      <td>115.709530</td>\n",
       "      <td>22.799647</td>\n",
       "      <td>146.738434</td>\n",
       "      <td>27.102030</td>\n",
       "    </tr>\n",
       "  </tbody>\n",
       "</table>\n",
       "</div>"
      ],
      "text/plain": [
       "                                     subseq      peaks      binary        mwa\n",
       "model                                                                        \n",
       "Polar Pith Sobel                  70.964031  22.626617  110.967419  33.690881\n",
       "Polar Pith Sobel(blur)            71.546381  24.924385  105.673719  25.107252\n",
       "Polar Pith Canny                  24.011586  25.822386   62.471583  36.999951\n",
       "Polar Pith Canny(otsu)            24.917571  26.861154   53.144581  30.991005\n",
       "Polar Pith Canny(triangle)        27.998669  29.532613   34.347839  23.177981\n",
       "Polar Pith Canny(manual)          28.118855  29.629831   33.892311  23.066653\n",
       "Polar Pith Canny(blur)            26.042634  27.760902   46.312718  27.742733\n",
       "Polar Pith Canny(blur otsu)       28.176673  29.503431   35.870836  23.675242\n",
       "Polar Pith Canny(blur triangle)   32.945632  33.615364   24.389818  26.995193\n",
       "Polar Pith Canny(blur manual)     32.958575  33.622945   24.895597  27.240677\n",
       "Polar Pith Laplacian              94.135075  31.570822  136.660307  55.216806\n",
       "Polar Pith Laplacian(blur)       115.709530  22.799647  146.738434  27.102030"
      ]
     },
     "metadata": {},
     "output_type": "display_data"
    },
    {
     "name": "stdout",
     "output_type": "stream",
     "text": [
      "Min: 22.62661746408777, Max: 146.73843398444413\n"
     ]
    },
    {
     "data": {
      "image/png": "[encoded data removed]",
      "text/plain": [
       "<Figure size 640x480 with 1 Axes>"
      ]
     },
     "metadata": {},
     "output_type": "display_data"
    }
   ],
   "source": [
    "multi_mse(mse_url)"
   ]
  },
  {
   "cell_type": "code",
   "execution_count": 53,
   "id": "17bf2401",
   "metadata": {},
   "outputs": [
    {
     "ename": "NameError",
     "evalue": "name 'STOP' is not defined",
     "output_type": "error",
     "traceback": [
      "\u001b[0;31m---------------------------------------------------------------------------\u001b[0m",
      "\u001b[0;31mNameError\u001b[0m                                 Traceback (most recent call last)",
      "Cell \u001b[0;32mIn[53], line 1\u001b[0m\n\u001b[0;32m----> 1\u001b[0m \u001b[43mSTOP\u001b[49m\n",
      "\u001b[0;31mNameError\u001b[0m: name 'STOP' is not defined"
     ]
    }
   ],
   "source": [
    "STOP"
   ]
  },
  {
   "cell_type": "markdown",
   "id": "39e8e020",
   "metadata": {},
   "source": [
    "### Model with 32 lines"
   ]
  },
  {
   "cell_type": "code",
   "execution_count": null,
   "id": "c233746c",
   "metadata": {},
   "outputs": [],
   "source": [
    "#MSE file\n",
    "mse_url = \"output/ringsranking_mse_thirtytwo.csv\"\n",
    "\n",
    "#rings info file\n",
    "rings_url = \"output/ringsranking_rings_thirtytwo.csv\"\n",
    "\n",
    "#no of lines and points\n",
    "lines = 32\n",
    "points = 150"
   ]
  },
  {
   "cell_type": "code",
   "execution_count": null,
   "id": "50f82559",
   "metadata": {},
   "outputs": [],
   "source": [
    "with_model(Model.GRAYSCALE, lines, points, data_dir, ranking_url, pith_url, rings_url, mse_url)"
   ]
  },
  {
   "cell_type": "code",
   "execution_count": null,
   "id": "8797c4d3",
   "metadata": {},
   "outputs": [],
   "source": [
    "with_model(Model.POLAR, lines, points, data_dir, ranking_url, pith_url, rings_url, mse_url)"
   ]
  },
  {
   "cell_type": "code",
   "execution_count": null,
   "id": "c5d94494",
   "metadata": {},
   "outputs": [],
   "source": [
    "with_model(Model.POLAR_PITH, lines, points, data_dir, ranking_url, pith_url, rings_url, mse_url)"
   ]
  },
  {
   "cell_type": "code",
   "execution_count": null,
   "id": "d2cd02d0",
   "metadata": {},
   "outputs": [],
   "source": []
  },
  {
   "cell_type": "code",
   "execution_count": null,
   "id": "c0dffadb",
   "metadata": {},
   "outputs": [],
   "source": [
    "with_model(Model.SOBEL_EDGE, lines, points, data_dir, ranking_url, pith_url, rings_url, mse_url)"
   ]
  },
  {
   "cell_type": "code",
   "execution_count": null,
   "id": "04e63e04",
   "metadata": {},
   "outputs": [],
   "source": [
    "with_model(Model.SOBEL_EDGE_BLUR, lines, points, data_dir, ranking_url, pith_url, rings_url, mse_url)"
   ]
  },
  {
   "cell_type": "code",
   "execution_count": null,
   "id": "5994d9e7",
   "metadata": {},
   "outputs": [],
   "source": [
    "with_model(Model.CANNY_EDGE, lines, points, data_dir, ranking_url, pith_url, rings_url, mse_url)"
   ]
  },
  {
   "cell_type": "code",
   "execution_count": null,
   "id": "9fc72582",
   "metadata": {},
   "outputs": [],
   "source": [
    "with_model(Model.CANNY_EDGE_OTSU, lines, points, data_dir, ranking_url, pith_url, rings_url, mse_url)"
   ]
  },
  {
   "cell_type": "code",
   "execution_count": null,
   "id": "e6da9545",
   "metadata": {},
   "outputs": [],
   "source": [
    "with_model(Model.CANNY_EDGE_TRIANGLE, lines, points, data_dir, ranking_url, pith_url, rings_url, mse_url)"
   ]
  },
  {
   "cell_type": "code",
   "execution_count": null,
   "id": "989633ad",
   "metadata": {},
   "outputs": [],
   "source": [
    "with_model(Model.CANNY_EDGE_MANUAL, lines, points, data_dir, ranking_url, pith_url, rings_url, mse_url)"
   ]
  },
  {
   "cell_type": "code",
   "execution_count": null,
   "id": "21fc6843",
   "metadata": {},
   "outputs": [],
   "source": [
    "with_model(Model.CANNY_EDGE_BLUR, lines, points, data_dir, ranking_url, pith_url, rings_url, mse_url)"
   ]
  },
  {
   "cell_type": "code",
   "execution_count": null,
   "id": "e57eb8d2",
   "metadata": {},
   "outputs": [],
   "source": [
    "with_model(Model.CANNY_EDGE_BLUR_OTSU, lines, points, data_dir, ranking_url, pith_url, rings_url, mse_url)"
   ]
  },
  {
   "cell_type": "code",
   "execution_count": null,
   "id": "d8f43e57",
   "metadata": {},
   "outputs": [],
   "source": [
    "with_model(Model.CANNY_EDGE_BLUR_TRIANGLE, lines, points, data_dir, ranking_url, pith_url, rings_url, mse_url)"
   ]
  },
  {
   "cell_type": "code",
   "execution_count": null,
   "id": "f86cfcf6",
   "metadata": {},
   "outputs": [],
   "source": [
    "with_model(Model.CANNY_EDGE_BLUR_MANUAL, lines, points, data_dir, ranking_url, pith_url, rings_url, mse_url)"
   ]
  },
  {
   "cell_type": "code",
   "execution_count": null,
   "id": "043784b6",
   "metadata": {},
   "outputs": [],
   "source": [
    "with_model(Model.LAPLACIAN_EDGE, lines, points, data_dir, ranking_url, pith_url, rings_url, mse_url)"
   ]
  },
  {
   "cell_type": "code",
   "execution_count": null,
   "id": "355f21f9",
   "metadata": {},
   "outputs": [],
   "source": [
    "with_model(Model.LAPLACIAN_EDGE_BLUR, lines, points, data_dir, ranking_url, pith_url, rings_url, mse_url)"
   ]
  },
  {
   "cell_type": "code",
   "execution_count": null,
   "id": "6ec8f7be",
   "metadata": {},
   "outputs": [],
   "source": []
  },
  {
   "cell_type": "code",
   "execution_count": null,
   "id": "e4b1c1ec",
   "metadata": {},
   "outputs": [],
   "source": [
    "with_model(Model.POLAR_SOBEL_EDGE, lines, points, data_dir, ranking_url, pith_url, rings_url, mse_url)"
   ]
  },
  {
   "cell_type": "code",
   "execution_count": null,
   "id": "0dc55132",
   "metadata": {},
   "outputs": [],
   "source": [
    "with_model(Model.POLAR_SOBEL_EDGE_BLUR, lines, points, data_dir, ranking_url, pith_url, rings_url, mse_url)"
   ]
  },
  {
   "cell_type": "code",
   "execution_count": null,
   "id": "bb0743d4",
   "metadata": {},
   "outputs": [],
   "source": [
    "with_model(Model.POLAR_CANNY_EDGE, lines, points, data_dir, ranking_url, pith_url, rings_url, mse_url)"
   ]
  },
  {
   "cell_type": "code",
   "execution_count": null,
   "id": "19a552eb",
   "metadata": {},
   "outputs": [],
   "source": [
    "with_model(Model.POLAR_CANNY_EDGE_OTSU, lines, points, data_dir, ranking_url, pith_url, rings_url, mse_url)"
   ]
  },
  {
   "cell_type": "code",
   "execution_count": null,
   "id": "ca08dfb3",
   "metadata": {},
   "outputs": [],
   "source": [
    "with_model(Model.POLAR_CANNY_EDGE_TRIANGLE, lines, points, data_dir, ranking_url, pith_url, rings_url, mse_url)"
   ]
  },
  {
   "cell_type": "code",
   "execution_count": null,
   "id": "7eaf0ebf",
   "metadata": {},
   "outputs": [],
   "source": [
    "with_model(Model.POLAR_CANNY_EDGE_MANUAL, lines, points, data_dir, ranking_url, pith_url, rings_url, mse_url)"
   ]
  },
  {
   "cell_type": "code",
   "execution_count": null,
   "id": "5590f2cb",
   "metadata": {},
   "outputs": [],
   "source": [
    "with_model(Model.POLAR_CANNY_EDGE_BLUR, lines, points, data_dir, ranking_url, pith_url, rings_url, mse_url)"
   ]
  },
  {
   "cell_type": "code",
   "execution_count": null,
   "id": "59c0ac66",
   "metadata": {},
   "outputs": [],
   "source": [
    "with_model(Model.POLAR_CANNY_EDGE_BLUR_OTSU, lines, points, data_dir, ranking_url, pith_url, rings_url, mse_url)"
   ]
  },
  {
   "cell_type": "code",
   "execution_count": null,
   "id": "0a337941",
   "metadata": {},
   "outputs": [],
   "source": [
    "with_model(Model.POLAR_CANNY_EDGE_BLUR_TRIANGLE, lines, points, data_dir, ranking_url, pith_url, rings_url, mse_url)"
   ]
  },
  {
   "cell_type": "code",
   "execution_count": null,
   "id": "17f7164a",
   "metadata": {},
   "outputs": [],
   "source": [
    "with_model(Model.POLAR_CANNY_EDGE_BLUR_MANUAL, lines, points, data_dir, ranking_url, pith_url, rings_url, mse_url)"
   ]
  },
  {
   "cell_type": "code",
   "execution_count": null,
   "id": "9d7b0f8d",
   "metadata": {},
   "outputs": [],
   "source": [
    "with_model(Model.POLAR_LAPLACIAN_EDGE, lines, points, data_dir, ranking_url, pith_url, rings_url, mse_url)"
   ]
  },
  {
   "cell_type": "code",
   "execution_count": null,
   "id": "33559112",
   "metadata": {},
   "outputs": [],
   "source": [
    "with_model(Model.POLAR_LAPLACIAN_EDGE_BLUR, lines, points, data_dir, ranking_url, pith_url, rings_url, mse_url)"
   ]
  },
  {
   "cell_type": "code",
   "execution_count": null,
   "id": "76c7c094",
   "metadata": {},
   "outputs": [],
   "source": []
  },
  {
   "cell_type": "code",
   "execution_count": null,
   "id": "e36334e0",
   "metadata": {},
   "outputs": [],
   "source": [
    "with_model(Model.POLAR_PITH_SOBEL_EDGE, lines, points, data_dir, ranking_url, pith_url, rings_url, mse_url)"
   ]
  },
  {
   "cell_type": "code",
   "execution_count": null,
   "id": "fba84e51",
   "metadata": {},
   "outputs": [],
   "source": [
    "with_model(Model.POLAR_PITH_SOBEL_EDGE_BLUR, lines, points, data_dir, ranking_url, pith_url, rings_url, mse_url)"
   ]
  },
  {
   "cell_type": "code",
   "execution_count": null,
   "id": "881f5d46",
   "metadata": {},
   "outputs": [],
   "source": [
    "with_model(Model.POLAR_PITH_CANNY_EDGE, lines, points, data_dir, ranking_url, pith_url, rings_url, mse_url)"
   ]
  },
  {
   "cell_type": "code",
   "execution_count": null,
   "id": "30c51875",
   "metadata": {},
   "outputs": [],
   "source": [
    "with_model(Model.POLAR_PITH_CANNY_EDGE_OTSU, lines, points, data_dir, ranking_url, pith_url, rings_url, mse_url)"
   ]
  },
  {
   "cell_type": "code",
   "execution_count": null,
   "id": "d6e05ca3",
   "metadata": {},
   "outputs": [],
   "source": [
    "with_model(Model.POLAR_PITH_CANNY_EDGE_TRIANGLE, lines, points, data_dir, ranking_url, pith_url, rings_url, mse_url)"
   ]
  },
  {
   "cell_type": "code",
   "execution_count": null,
   "id": "406a0c9a",
   "metadata": {},
   "outputs": [],
   "source": [
    "with_model(Model.POLAR_PITH_CANNY_EDGE_MANUAL, lines, points, data_dir, ranking_url, pith_url, rings_url, mse_url)"
   ]
  },
  {
   "cell_type": "code",
   "execution_count": null,
   "id": "1ffb7487",
   "metadata": {},
   "outputs": [],
   "source": [
    "with_model(Model.POLAR_PITH_CANNY_EDGE_BLUR, lines, points, data_dir, ranking_url, pith_url, rings_url, mse_url)"
   ]
  },
  {
   "cell_type": "code",
   "execution_count": null,
   "id": "6e528227",
   "metadata": {},
   "outputs": [],
   "source": [
    "with_model(Model.POLAR_PITH_CANNY_EDGE_BLUR_OTSU, lines, points, data_dir, ranking_url, pith_url, rings_url, mse_url)"
   ]
  },
  {
   "cell_type": "code",
   "execution_count": null,
   "id": "a98298b9",
   "metadata": {},
   "outputs": [],
   "source": [
    "with_model(Model.POLAR_PITH_CANNY_EDGE_BLUR_TRIANGLE, lines, points, data_dir, ranking_url, pith_url, rings_url, mse_url)"
   ]
  },
  {
   "cell_type": "code",
   "execution_count": null,
   "id": "9e287b52",
   "metadata": {},
   "outputs": [],
   "source": [
    "with_model(Model.POLAR_PITH_CANNY_EDGE_BLUR_MANUAL, lines, points, data_dir, ranking_url, pith_url, rings_url, mse_url)"
   ]
  },
  {
   "cell_type": "code",
   "execution_count": null,
   "id": "bd2e973d",
   "metadata": {},
   "outputs": [],
   "source": [
    "with_model(Model.POLAR_PITH_LAPLACIAN_EDGE, lines, points, data_dir, ranking_url, pith_url, rings_url, mse_url)"
   ]
  },
  {
   "cell_type": "code",
   "execution_count": null,
   "id": "78e64035",
   "metadata": {},
   "outputs": [],
   "source": [
    "with_model(Model.POLAR_PITH_LAPLACIAN_EDGE_BLUR, lines, points, data_dir, ranking_url, pith_url, rings_url, mse_url)"
   ]
  },
  {
   "cell_type": "code",
   "execution_count": null,
   "id": "f5a2e335",
   "metadata": {},
   "outputs": [],
   "source": [
    "multi_mse(mse_url)"
   ]
  },
  {
   "cell_type": "code",
   "execution_count": null,
   "id": "2f852faa",
   "metadata": {},
   "outputs": [],
   "source": [
    "#STOP"
   ]
  }
 ],
 "metadata": {
  "kernelspec": {
   "display_name": "Python 3 (ipykernel)",
   "language": "python",
   "name": "python3"
  },
  "language_info": {
   "codemirror_mode": {
    "name": "ipython",
    "version": 3
   },
   "file_extension": ".py",
   "mimetype": "text/x-python",
   "name": "python",
   "nbconvert_exporter": "python",
   "pygments_lexer": "ipython3",
   "version": "3.9.6"
  }
 },
 "nbformat": 4,
 "nbformat_minor": 5
}
