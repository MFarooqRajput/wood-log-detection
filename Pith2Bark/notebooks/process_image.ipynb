{
 "cells": [
  {
   "cell_type": "code",
   "execution_count": null,
   "id": "56cc469a",
   "metadata": {},
   "outputs": [],
   "source": [
    "cd .."
   ]
  },
  {
   "cell_type": "code",
   "execution_count": null,
   "id": "589caae2",
   "metadata": {},
   "outputs": [],
   "source": [
    "from src.process_image import convert_image\n",
    "from src.process_image import converted_image"
   ]
  },
  {
   "cell_type": "code",
   "execution_count": null,
   "id": "9d569f82",
   "metadata": {},
   "outputs": [],
   "source": [
    "#data directory here!\n",
    "data_dir = \"dataset/ringsranking\"\n",
    "\n",
    "idx = 4"
   ]
  },
  {
   "cell_type": "code",
   "execution_count": null,
   "id": "739cd599",
   "metadata": {},
   "outputs": [],
   "source": [
    "model_titles, converted_images = convert_image(data_dir, idx)"
   ]
  },
  {
   "cell_type": "code",
   "execution_count": null,
   "id": "827d69b0",
   "metadata": {},
   "outputs": [],
   "source": [
    "converted_image(model_titles, converted_images)"
   ]
  },
  {
   "cell_type": "code",
   "execution_count": null,
   "id": "40d724f7",
   "metadata": {},
   "outputs": [],
   "source": [
    "converted_image(model_titles, converted_images, 1)"
   ]
  },
  {
   "cell_type": "code",
   "execution_count": null,
   "id": "3e7729bd",
   "metadata": {},
   "outputs": [],
   "source": [
    "converted_image(model_titles, converted_images, 2)"
   ]
  },
  {
   "cell_type": "code",
   "execution_count": null,
   "id": "74e94720",
   "metadata": {},
   "outputs": [],
   "source": [
    "converted_image(model_titles, converted_images, 3)"
   ]
  }
 ],
 "metadata": {
  "kernelspec": {
   "display_name": "Python 3 (ipykernel)",
   "language": "python",
   "name": "python3"
  },
  "language_info": {
   "codemirror_mode": {
    "name": "ipython",
    "version": 3
   },
   "file_extension": ".py",
   "mimetype": "text/x-python",
   "name": "python",
   "nbconvert_exporter": "python",
   "pygments_lexer": "ipython3",
   "version": "3.9.6"
  }
 },
 "nbformat": 4,
 "nbformat_minor": 5
}
