{
 "cells": [
  {
   "cell_type": "code",
   "execution_count": 1,
   "id": "f2bc938e",
   "metadata": {},
   "outputs": [
    {
     "name": "stdout",
     "output_type": "stream",
     "text": [
      "/Users/muhammadfarooq/Codebase/thesis-experiment/Pith2Bark\n"
     ]
    }
   ],
   "source": [
    "cd .."
   ]
  },
  {
   "cell_type": "code",
   "execution_count": 2,
   "id": "5622d6bd",
   "metadata": {},
   "outputs": [
    {
     "name": "stderr",
     "output_type": "stream",
     "text": [
      "2023-03-28 17:40:13.515770: I tensorflow/core/platform/cpu_feature_guard.cc:193] This TensorFlow binary is optimized with oneAPI Deep Neural Network Library (oneDNN) to use the following CPU instructions in performance-critical operations:  AVX2 AVX512F AVX512_VNNI FMA\n",
      "To enable them in other operations, rebuild TensorFlow with the appropriate compiler flags.\n"
     ]
    }
   ],
   "source": [
    "from src.experiment import with_model\n",
    "from src.model import Model\n",
    "from src.multi_mse import multi_mse"
   ]
  },
  {
   "cell_type": "markdown",
   "id": "a382f8b5",
   "metadata": {},
   "source": [
    "# Configurations"
   ]
  },
  {
   "cell_type": "code",
   "execution_count": 3,
   "id": "1aef55ef",
   "metadata": {},
   "outputs": [],
   "source": [
    "#data directory here!\n",
    "data_dir = \"dataset/fur\"\n",
    "\n",
    "#ranking file\n",
    "ranking_url = \"dataset/fur.xlsx\"\n",
    "\n",
    "#pickle file\n",
    "pith_url = \"pith/fur.pickle\""
   ]
  },
  {
   "cell_type": "markdown",
   "id": "2738afaf",
   "metadata": {},
   "source": [
    "## Phase 1 Model"
   ]
  },
  {
   "cell_type": "code",
   "execution_count": 4,
   "id": "f404c659",
   "metadata": {},
   "outputs": [],
   "source": [
    "#MSE file\n",
    "mse_url = \"output/fur_mse.csv\"\n",
    "\n",
    "#rings info file\n",
    "rings_url = \"output/fur_rings.csv\"\n",
    "\n",
    "#no of lines and points\n",
    "lines = 16\n",
    "points = 150"
   ]
  },
  {
   "cell_type": "code",
   "execution_count": 5,
   "id": "0fc5323d",
   "metadata": {},
   "outputs": [
    {
     "name": "stdout",
     "output_type": "stream",
     "text": [
      "0 6702.jpg 73.2\n",
      "1 6703.jpg 75.6\n",
      "2 6699.jpg 82.2\n",
      "3 6705.jpg 67.4\n",
      "4 6709.jpg 72.0\n",
      "5 6696.jpg 65.0\n",
      "6 6695.jpg 67.0\n"
     ]
    },
    {
     "data": {
      "text/html": [
       "<div>\n",
       "<style scoped>\n",
       "    .dataframe tbody tr th:only-of-type {\n",
       "        vertical-align: middle;\n",
       "    }\n",
       "\n",
       "    .dataframe tbody tr th {\n",
       "        vertical-align: top;\n",
       "    }\n",
       "\n",
       "    .dataframe thead th {\n",
       "        text-align: right;\n",
       "    }\n",
       "</style>\n",
       "<table border=\"1\" class=\"dataframe\">\n",
       "  <thead>\n",
       "    <tr style=\"text-align: right;\">\n",
       "      <th></th>\n",
       "      <th>model</th>\n",
       "      <th>subseq</th>\n",
       "      <th>peaks</th>\n",
       "      <th>binary</th>\n",
       "      <th>mwa</th>\n",
       "    </tr>\n",
       "  </thead>\n",
       "  <tbody>\n",
       "    <tr>\n",
       "      <th>0</th>\n",
       "      <td>Grayscale</td>\n",
       "      <td>408.87572</td>\n",
       "      <td>43.362709</td>\n",
       "      <td>388.550695</td>\n",
       "      <td>36.632931</td>\n",
       "    </tr>\n",
       "  </tbody>\n",
       "</table>\n",
       "</div>"
      ],
      "text/plain": [
       "       model     subseq      peaks      binary        mwa\n",
       "0  Grayscale  408.87572  43.362709  388.550695  36.632931"
      ]
     },
     "metadata": {},
     "output_type": "display_data"
    }
   ],
   "source": [
    "with_model(Model.GRAYSCALE, lines, points, data_dir, ranking_url, pith_url, rings_url, mse_url)"
   ]
  },
  {
   "cell_type": "code",
   "execution_count": 6,
   "id": "5c5e0158",
   "metadata": {},
   "outputs": [
    {
     "name": "stdout",
     "output_type": "stream",
     "text": [
      "0 6702.jpg 73.2\n",
      "1 6703.jpg 75.6\n",
      "2 6699.jpg 82.2\n",
      "3 6705.jpg 67.4\n",
      "4 6709.jpg 72.0\n",
      "5 6696.jpg 65.0\n",
      "6 6695.jpg 67.0\n"
     ]
    },
    {
     "data": {
      "text/html": [
       "<div>\n",
       "<style scoped>\n",
       "    .dataframe tbody tr th:only-of-type {\n",
       "        vertical-align: middle;\n",
       "    }\n",
       "\n",
       "    .dataframe tbody tr th {\n",
       "        vertical-align: top;\n",
       "    }\n",
       "\n",
       "    .dataframe thead th {\n",
       "        text-align: right;\n",
       "    }\n",
       "</style>\n",
       "<table border=\"1\" class=\"dataframe\">\n",
       "  <thead>\n",
       "    <tr style=\"text-align: right;\">\n",
       "      <th></th>\n",
       "      <th>model</th>\n",
       "      <th>subseq</th>\n",
       "      <th>peaks</th>\n",
       "      <th>binary</th>\n",
       "      <th>mwa</th>\n",
       "    </tr>\n",
       "  </thead>\n",
       "  <tbody>\n",
       "    <tr>\n",
       "      <th>0</th>\n",
       "      <td>Polar</td>\n",
       "      <td>189.785953</td>\n",
       "      <td>58.979493</td>\n",
       "      <td>370.333204</td>\n",
       "      <td>32.428658</td>\n",
       "    </tr>\n",
       "  </tbody>\n",
       "</table>\n",
       "</div>"
      ],
      "text/plain": [
       "   model      subseq      peaks      binary        mwa\n",
       "0  Polar  189.785953  58.979493  370.333204  32.428658"
      ]
     },
     "metadata": {},
     "output_type": "display_data"
    }
   ],
   "source": [
    "with_model(Model.POLAR, lines, points, data_dir, ranking_url, pith_url, rings_url, mse_url)"
   ]
  },
  {
   "cell_type": "code",
   "execution_count": 7,
   "id": "d9e30891",
   "metadata": {},
   "outputs": [
    {
     "name": "stdout",
     "output_type": "stream",
     "text": [
      "0 6702.jpg 73.2\n",
      "1 6703.jpg 75.6\n",
      "2 6699.jpg 82.2\n",
      "3 6705.jpg 67.4\n",
      "4 6709.jpg 72.0\n",
      "5 6696.jpg 65.0\n",
      "6 6695.jpg 67.0\n"
     ]
    },
    {
     "data": {
      "text/html": [
       "<div>\n",
       "<style scoped>\n",
       "    .dataframe tbody tr th:only-of-type {\n",
       "        vertical-align: middle;\n",
       "    }\n",
       "\n",
       "    .dataframe tbody tr th {\n",
       "        vertical-align: top;\n",
       "    }\n",
       "\n",
       "    .dataframe thead th {\n",
       "        text-align: right;\n",
       "    }\n",
       "</style>\n",
       "<table border=\"1\" class=\"dataframe\">\n",
       "  <thead>\n",
       "    <tr style=\"text-align: right;\">\n",
       "      <th></th>\n",
       "      <th>model</th>\n",
       "      <th>subseq</th>\n",
       "      <th>peaks</th>\n",
       "      <th>binary</th>\n",
       "      <th>mwa</th>\n",
       "    </tr>\n",
       "  </thead>\n",
       "  <tbody>\n",
       "    <tr>\n",
       "      <th>0</th>\n",
       "      <td>Polar Pith</td>\n",
       "      <td>130.431545</td>\n",
       "      <td>65.884569</td>\n",
       "      <td>251.85835</td>\n",
       "      <td>49.984628</td>\n",
       "    </tr>\n",
       "  </tbody>\n",
       "</table>\n",
       "</div>"
      ],
      "text/plain": [
       "        model      subseq      peaks     binary        mwa\n",
       "0  Polar Pith  130.431545  65.884569  251.85835  49.984628"
      ]
     },
     "metadata": {},
     "output_type": "display_data"
    }
   ],
   "source": [
    "with_model(Model.POLAR_PITH, lines, points, data_dir, ranking_url, pith_url, rings_url, mse_url)"
   ]
  },
  {
   "cell_type": "code",
   "execution_count": 8,
   "id": "33125fc3",
   "metadata": {},
   "outputs": [
    {
     "name": "stdout",
     "output_type": "stream",
     "text": [
      "0 6702.jpg 73.2\n",
      "1 6703.jpg 75.6\n",
      "2 6699.jpg 82.2\n",
      "3 6705.jpg 67.4\n",
      "4 6709.jpg 72.0\n",
      "5 6696.jpg 65.0\n",
      "6 6695.jpg 67.0\n"
     ]
    },
    {
     "data": {
      "text/html": [
       "<div>\n",
       "<style scoped>\n",
       "    .dataframe tbody tr th:only-of-type {\n",
       "        vertical-align: middle;\n",
       "    }\n",
       "\n",
       "    .dataframe tbody tr th {\n",
       "        vertical-align: top;\n",
       "    }\n",
       "\n",
       "    .dataframe thead th {\n",
       "        text-align: right;\n",
       "    }\n",
       "</style>\n",
       "<table border=\"1\" class=\"dataframe\">\n",
       "  <thead>\n",
       "    <tr style=\"text-align: right;\">\n",
       "      <th></th>\n",
       "      <th>model</th>\n",
       "      <th>subseq</th>\n",
       "      <th>peaks</th>\n",
       "      <th>binary</th>\n",
       "      <th>mwa</th>\n",
       "    </tr>\n",
       "  </thead>\n",
       "  <tbody>\n",
       "    <tr>\n",
       "      <th>0</th>\n",
       "      <td>Sobel</td>\n",
       "      <td>534.56642</td>\n",
       "      <td>85.805796</td>\n",
       "      <td>499.804522</td>\n",
       "      <td>139.231806</td>\n",
       "    </tr>\n",
       "  </tbody>\n",
       "</table>\n",
       "</div>"
      ],
      "text/plain": [
       "   model     subseq      peaks      binary         mwa\n",
       "0  Sobel  534.56642  85.805796  499.804522  139.231806"
      ]
     },
     "metadata": {},
     "output_type": "display_data"
    }
   ],
   "source": [
    "with_model(Model.SOBEL_EDGE, lines, points, data_dir, ranking_url, pith_url, rings_url, mse_url)"
   ]
  },
  {
   "cell_type": "code",
   "execution_count": 9,
   "id": "9dd0bf5b",
   "metadata": {},
   "outputs": [
    {
     "name": "stdout",
     "output_type": "stream",
     "text": [
      "0 6702.jpg 73.2\n",
      "1 6703.jpg 75.6\n",
      "2 6699.jpg 82.2\n",
      "3 6705.jpg 67.4\n",
      "4 6709.jpg 72.0\n",
      "5 6696.jpg 65.0\n",
      "6 6695.jpg 67.0\n"
     ]
    },
    {
     "data": {
      "text/html": [
       "<div>\n",
       "<style scoped>\n",
       "    .dataframe tbody tr th:only-of-type {\n",
       "        vertical-align: middle;\n",
       "    }\n",
       "\n",
       "    .dataframe tbody tr th {\n",
       "        vertical-align: top;\n",
       "    }\n",
       "\n",
       "    .dataframe thead th {\n",
       "        text-align: right;\n",
       "    }\n",
       "</style>\n",
       "<table border=\"1\" class=\"dataframe\">\n",
       "  <thead>\n",
       "    <tr style=\"text-align: right;\">\n",
       "      <th></th>\n",
       "      <th>model</th>\n",
       "      <th>subseq</th>\n",
       "      <th>peaks</th>\n",
       "      <th>binary</th>\n",
       "      <th>mwa</th>\n",
       "    </tr>\n",
       "  </thead>\n",
       "  <tbody>\n",
       "    <tr>\n",
       "      <th>0</th>\n",
       "      <td>Canny</td>\n",
       "      <td>87.90645</td>\n",
       "      <td>48.645854</td>\n",
       "      <td>335.882363</td>\n",
       "      <td>239.554439</td>\n",
       "    </tr>\n",
       "  </tbody>\n",
       "</table>\n",
       "</div>"
      ],
      "text/plain": [
       "   model    subseq      peaks      binary         mwa\n",
       "0  Canny  87.90645  48.645854  335.882363  239.554439"
      ]
     },
     "metadata": {},
     "output_type": "display_data"
    }
   ],
   "source": [
    "with_model(Model.CANNY_EDGE, lines, points, data_dir, ranking_url, pith_url, rings_url, mse_url)"
   ]
  },
  {
   "cell_type": "code",
   "execution_count": 10,
   "id": "c3043ef5",
   "metadata": {},
   "outputs": [
    {
     "name": "stdout",
     "output_type": "stream",
     "text": [
      "Polar 32.428657960866296 (mwa) \n",
      "\n"
     ]
    },
    {
     "data": {
      "text/html": [
       "<div>\n",
       "<style scoped>\n",
       "    .dataframe tbody tr th:only-of-type {\n",
       "        vertical-align: middle;\n",
       "    }\n",
       "\n",
       "    .dataframe tbody tr th {\n",
       "        vertical-align: top;\n",
       "    }\n",
       "\n",
       "    .dataframe thead th {\n",
       "        text-align: right;\n",
       "    }\n",
       "</style>\n",
       "<table border=\"1\" class=\"dataframe\">\n",
       "  <thead>\n",
       "    <tr style=\"text-align: right;\">\n",
       "      <th></th>\n",
       "      <th>subseq</th>\n",
       "      <th>peaks</th>\n",
       "      <th>binary</th>\n",
       "      <th>mwa</th>\n",
       "    </tr>\n",
       "    <tr>\n",
       "      <th>model</th>\n",
       "      <th></th>\n",
       "      <th></th>\n",
       "      <th></th>\n",
       "      <th></th>\n",
       "    </tr>\n",
       "  </thead>\n",
       "  <tbody>\n",
       "    <tr>\n",
       "      <th>Grayscale</th>\n",
       "      <td>408.875720</td>\n",
       "      <td>43.362709</td>\n",
       "      <td>388.550695</td>\n",
       "      <td>36.632931</td>\n",
       "    </tr>\n",
       "    <tr>\n",
       "      <th>Polar</th>\n",
       "      <td>189.785953</td>\n",
       "      <td>58.979493</td>\n",
       "      <td>370.333204</td>\n",
       "      <td>32.428658</td>\n",
       "    </tr>\n",
       "    <tr>\n",
       "      <th>Polar Pith</th>\n",
       "      <td>130.431545</td>\n",
       "      <td>65.884569</td>\n",
       "      <td>251.858350</td>\n",
       "      <td>49.984628</td>\n",
       "    </tr>\n",
       "    <tr>\n",
       "      <th>Sobel</th>\n",
       "      <td>534.566420</td>\n",
       "      <td>85.805796</td>\n",
       "      <td>499.804522</td>\n",
       "      <td>139.231806</td>\n",
       "    </tr>\n",
       "    <tr>\n",
       "      <th>Canny</th>\n",
       "      <td>87.906450</td>\n",
       "      <td>48.645854</td>\n",
       "      <td>335.882363</td>\n",
       "      <td>239.554439</td>\n",
       "    </tr>\n",
       "  </tbody>\n",
       "</table>\n",
       "</div>"
      ],
      "text/plain": [
       "                subseq      peaks      binary         mwa\n",
       "model                                                    \n",
       "Grayscale   408.875720  43.362709  388.550695   36.632931\n",
       "Polar       189.785953  58.979493  370.333204   32.428658\n",
       "Polar Pith  130.431545  65.884569  251.858350   49.984628\n",
       "Sobel       534.566420  85.805796  499.804522  139.231806\n",
       "Canny        87.906450  48.645854  335.882363  239.554439"
      ]
     },
     "metadata": {},
     "output_type": "display_data"
    },
    {
     "name": "stdout",
     "output_type": "stream",
     "text": [
      "Min: 32.428657960866296, Max: 534.5664196629358\n"
     ]
    },
    {
     "data": {
      "image/png": "[encoded data removed]",
      "text/plain": [
       "<Figure size 640x480 with 1 Axes>"
      ]
     },
     "metadata": {},
     "output_type": "display_data"
    }
   ],
   "source": [
    "multi_mse(mse_url, False)"
   ]
  },
  {
   "cell_type": "code",
   "execution_count": 11,
   "id": "ddb0de4d",
   "metadata": {},
   "outputs": [],
   "source": [
    "#STOP"
   ]
  },
  {
   "cell_type": "markdown",
   "id": "dcfff2f6",
   "metadata": {},
   "source": [
    "## Phase 2 Model"
   ]
  },
  {
   "cell_type": "markdown",
   "id": "600e29d4",
   "metadata": {},
   "source": [
    "### Model with 16 lines"
   ]
  },
  {
   "cell_type": "code",
   "execution_count": 12,
   "id": "ddd064fc",
   "metadata": {},
   "outputs": [],
   "source": [
    "#MSE file\n",
    "mse_url = \"output/fur_mse_sixteen.csv\"\n",
    "\n",
    "#rings info file\n",
    "rings_url = \"output/fur_rings_sixteen.csv\"\n",
    "\n",
    "#no of lines and points\n",
    "lines = 16\n",
    "points = 150"
   ]
  },
  {
   "cell_type": "code",
   "execution_count": 13,
   "id": "51fb0795",
   "metadata": {},
   "outputs": [
    {
     "name": "stdout",
     "output_type": "stream",
     "text": [
      "0 6702.jpg 73.2\n",
      "1 6703.jpg 75.6\n",
      "2 6699.jpg 82.2\n",
      "3 6705.jpg 67.4\n",
      "4 6709.jpg 72.0\n",
      "5 6696.jpg 65.0\n",
      "6 6695.jpg 67.0\n"
     ]
    },
    {
     "data": {
      "text/html": [
       "<div>\n",
       "<style scoped>\n",
       "    .dataframe tbody tr th:only-of-type {\n",
       "        vertical-align: middle;\n",
       "    }\n",
       "\n",
       "    .dataframe tbody tr th {\n",
       "        vertical-align: top;\n",
       "    }\n",
       "\n",
       "    .dataframe thead th {\n",
       "        text-align: right;\n",
       "    }\n",
       "</style>\n",
       "<table border=\"1\" class=\"dataframe\">\n",
       "  <thead>\n",
       "    <tr style=\"text-align: right;\">\n",
       "      <th></th>\n",
       "      <th>model</th>\n",
       "      <th>subseq</th>\n",
       "      <th>peaks</th>\n",
       "      <th>binary</th>\n",
       "      <th>mwa</th>\n",
       "    </tr>\n",
       "  </thead>\n",
       "  <tbody>\n",
       "    <tr>\n",
       "      <th>0</th>\n",
       "      <td>Grayscale</td>\n",
       "      <td>408.87572</td>\n",
       "      <td>43.362709</td>\n",
       "      <td>388.550695</td>\n",
       "      <td>36.632931</td>\n",
       "    </tr>\n",
       "  </tbody>\n",
       "</table>\n",
       "</div>"
      ],
      "text/plain": [
       "       model     subseq      peaks      binary        mwa\n",
       "0  Grayscale  408.87572  43.362709  388.550695  36.632931"
      ]
     },
     "metadata": {},
     "output_type": "display_data"
    }
   ],
   "source": [
    "with_model(Model.GRAYSCALE, lines, points, data_dir, ranking_url, pith_url, rings_url, mse_url)"
   ]
  },
  {
   "cell_type": "code",
   "execution_count": 14,
   "id": "e9558f17",
   "metadata": {},
   "outputs": [
    {
     "name": "stdout",
     "output_type": "stream",
     "text": [
      "0 6702.jpg 73.2\n",
      "1 6703.jpg 75.6\n",
      "2 6699.jpg 82.2\n",
      "3 6705.jpg 67.4\n",
      "4 6709.jpg 72.0\n",
      "5 6696.jpg 65.0\n",
      "6 6695.jpg 67.0\n"
     ]
    },
    {
     "data": {
      "text/html": [
       "<div>\n",
       "<style scoped>\n",
       "    .dataframe tbody tr th:only-of-type {\n",
       "        vertical-align: middle;\n",
       "    }\n",
       "\n",
       "    .dataframe tbody tr th {\n",
       "        vertical-align: top;\n",
       "    }\n",
       "\n",
       "    .dataframe thead th {\n",
       "        text-align: right;\n",
       "    }\n",
       "</style>\n",
       "<table border=\"1\" class=\"dataframe\">\n",
       "  <thead>\n",
       "    <tr style=\"text-align: right;\">\n",
       "      <th></th>\n",
       "      <th>model</th>\n",
       "      <th>subseq</th>\n",
       "      <th>peaks</th>\n",
       "      <th>binary</th>\n",
       "      <th>mwa</th>\n",
       "    </tr>\n",
       "  </thead>\n",
       "  <tbody>\n",
       "    <tr>\n",
       "      <th>0</th>\n",
       "      <td>Polar</td>\n",
       "      <td>189.785953</td>\n",
       "      <td>58.979493</td>\n",
       "      <td>370.333204</td>\n",
       "      <td>32.428658</td>\n",
       "    </tr>\n",
       "  </tbody>\n",
       "</table>\n",
       "</div>"
      ],
      "text/plain": [
       "   model      subseq      peaks      binary        mwa\n",
       "0  Polar  189.785953  58.979493  370.333204  32.428658"
      ]
     },
     "metadata": {},
     "output_type": "display_data"
    }
   ],
   "source": [
    "with_model(Model.POLAR, lines, points, data_dir, ranking_url, pith_url, rings_url, mse_url)"
   ]
  },
  {
   "cell_type": "code",
   "execution_count": 15,
   "id": "1b0ac3f1",
   "metadata": {},
   "outputs": [
    {
     "name": "stdout",
     "output_type": "stream",
     "text": [
      "0 6702.jpg 73.2\n",
      "1 6703.jpg 75.6\n",
      "2 6699.jpg 82.2\n",
      "3 6705.jpg 67.4\n",
      "4 6709.jpg 72.0\n",
      "5 6696.jpg 65.0\n",
      "6 6695.jpg 67.0\n"
     ]
    },
    {
     "data": {
      "text/html": [
       "<div>\n",
       "<style scoped>\n",
       "    .dataframe tbody tr th:only-of-type {\n",
       "        vertical-align: middle;\n",
       "    }\n",
       "\n",
       "    .dataframe tbody tr th {\n",
       "        vertical-align: top;\n",
       "    }\n",
       "\n",
       "    .dataframe thead th {\n",
       "        text-align: right;\n",
       "    }\n",
       "</style>\n",
       "<table border=\"1\" class=\"dataframe\">\n",
       "  <thead>\n",
       "    <tr style=\"text-align: right;\">\n",
       "      <th></th>\n",
       "      <th>model</th>\n",
       "      <th>subseq</th>\n",
       "      <th>peaks</th>\n",
       "      <th>binary</th>\n",
       "      <th>mwa</th>\n",
       "    </tr>\n",
       "  </thead>\n",
       "  <tbody>\n",
       "    <tr>\n",
       "      <th>0</th>\n",
       "      <td>Polar Pith</td>\n",
       "      <td>130.431545</td>\n",
       "      <td>65.884569</td>\n",
       "      <td>251.85835</td>\n",
       "      <td>49.984628</td>\n",
       "    </tr>\n",
       "  </tbody>\n",
       "</table>\n",
       "</div>"
      ],
      "text/plain": [
       "        model      subseq      peaks     binary        mwa\n",
       "0  Polar Pith  130.431545  65.884569  251.85835  49.984628"
      ]
     },
     "metadata": {},
     "output_type": "display_data"
    }
   ],
   "source": [
    "with_model(Model.POLAR_PITH, lines, points, data_dir, ranking_url, pith_url, rings_url, mse_url)"
   ]
  },
  {
   "cell_type": "code",
   "execution_count": null,
   "id": "35b80fb0",
   "metadata": {},
   "outputs": [],
   "source": []
  },
  {
   "cell_type": "code",
   "execution_count": 16,
   "id": "58f9f265",
   "metadata": {},
   "outputs": [
    {
     "name": "stdout",
     "output_type": "stream",
     "text": [
      "0 6702.jpg 73.2\n",
      "1 6703.jpg 75.6\n",
      "2 6699.jpg 82.2\n",
      "3 6705.jpg 67.4\n",
      "4 6709.jpg 72.0\n",
      "5 6696.jpg 65.0\n",
      "6 6695.jpg 67.0\n"
     ]
    },
    {
     "data": {
      "text/html": [
       "<div>\n",
       "<style scoped>\n",
       "    .dataframe tbody tr th:only-of-type {\n",
       "        vertical-align: middle;\n",
       "    }\n",
       "\n",
       "    .dataframe tbody tr th {\n",
       "        vertical-align: top;\n",
       "    }\n",
       "\n",
       "    .dataframe thead th {\n",
       "        text-align: right;\n",
       "    }\n",
       "</style>\n",
       "<table border=\"1\" class=\"dataframe\">\n",
       "  <thead>\n",
       "    <tr style=\"text-align: right;\">\n",
       "      <th></th>\n",
       "      <th>model</th>\n",
       "      <th>subseq</th>\n",
       "      <th>peaks</th>\n",
       "      <th>binary</th>\n",
       "      <th>mwa</th>\n",
       "    </tr>\n",
       "  </thead>\n",
       "  <tbody>\n",
       "    <tr>\n",
       "      <th>0</th>\n",
       "      <td>Sobel</td>\n",
       "      <td>534.56642</td>\n",
       "      <td>85.805796</td>\n",
       "      <td>499.804522</td>\n",
       "      <td>139.231806</td>\n",
       "    </tr>\n",
       "  </tbody>\n",
       "</table>\n",
       "</div>"
      ],
      "text/plain": [
       "   model     subseq      peaks      binary         mwa\n",
       "0  Sobel  534.56642  85.805796  499.804522  139.231806"
      ]
     },
     "metadata": {},
     "output_type": "display_data"
    }
   ],
   "source": [
    "with_model(Model.SOBEL_EDGE, lines, points, data_dir, ranking_url, pith_url, rings_url, mse_url)"
   ]
  },
  {
   "cell_type": "code",
   "execution_count": 17,
   "id": "48d1849e",
   "metadata": {},
   "outputs": [
    {
     "name": "stdout",
     "output_type": "stream",
     "text": [
      "0 6702.jpg 73.2\n",
      "1 6703.jpg 75.6\n",
      "2 6699.jpg 82.2\n",
      "3 6705.jpg 67.4\n",
      "4 6709.jpg 72.0\n",
      "5 6696.jpg 65.0\n",
      "6 6695.jpg 67.0\n"
     ]
    },
    {
     "data": {
      "text/html": [
       "<div>\n",
       "<style scoped>\n",
       "    .dataframe tbody tr th:only-of-type {\n",
       "        vertical-align: middle;\n",
       "    }\n",
       "\n",
       "    .dataframe tbody tr th {\n",
       "        vertical-align: top;\n",
       "    }\n",
       "\n",
       "    .dataframe thead th {\n",
       "        text-align: right;\n",
       "    }\n",
       "</style>\n",
       "<table border=\"1\" class=\"dataframe\">\n",
       "  <thead>\n",
       "    <tr style=\"text-align: right;\">\n",
       "      <th></th>\n",
       "      <th>model</th>\n",
       "      <th>subseq</th>\n",
       "      <th>peaks</th>\n",
       "      <th>binary</th>\n",
       "      <th>mwa</th>\n",
       "    </tr>\n",
       "  </thead>\n",
       "  <tbody>\n",
       "    <tr>\n",
       "      <th>0</th>\n",
       "      <td>Sobel(blur)</td>\n",
       "      <td>459.208272</td>\n",
       "      <td>42.227827</td>\n",
       "      <td>449.321121</td>\n",
       "      <td>78.635619</td>\n",
       "    </tr>\n",
       "  </tbody>\n",
       "</table>\n",
       "</div>"
      ],
      "text/plain": [
       "         model      subseq      peaks      binary        mwa\n",
       "0  Sobel(blur)  459.208272  42.227827  449.321121  78.635619"
      ]
     },
     "metadata": {},
     "output_type": "display_data"
    }
   ],
   "source": [
    "with_model(Model.SOBEL_EDGE_BLUR, lines, points, data_dir, ranking_url, pith_url, rings_url, mse_url)"
   ]
  },
  {
   "cell_type": "code",
   "execution_count": 18,
   "id": "bfdb6e13",
   "metadata": {},
   "outputs": [
    {
     "name": "stdout",
     "output_type": "stream",
     "text": [
      "0 6702.jpg 73.2\n",
      "1 6703.jpg 75.6\n",
      "2 6699.jpg 82.2\n",
      "3 6705.jpg 67.4\n",
      "4 6709.jpg 72.0\n",
      "5 6696.jpg 65.0\n",
      "6 6695.jpg 67.0\n"
     ]
    },
    {
     "data": {
      "text/html": [
       "<div>\n",
       "<style scoped>\n",
       "    .dataframe tbody tr th:only-of-type {\n",
       "        vertical-align: middle;\n",
       "    }\n",
       "\n",
       "    .dataframe tbody tr th {\n",
       "        vertical-align: top;\n",
       "    }\n",
       "\n",
       "    .dataframe thead th {\n",
       "        text-align: right;\n",
       "    }\n",
       "</style>\n",
       "<table border=\"1\" class=\"dataframe\">\n",
       "  <thead>\n",
       "    <tr style=\"text-align: right;\">\n",
       "      <th></th>\n",
       "      <th>model</th>\n",
       "      <th>subseq</th>\n",
       "      <th>peaks</th>\n",
       "      <th>binary</th>\n",
       "      <th>mwa</th>\n",
       "    </tr>\n",
       "  </thead>\n",
       "  <tbody>\n",
       "    <tr>\n",
       "      <th>0</th>\n",
       "      <td>Canny</td>\n",
       "      <td>87.90645</td>\n",
       "      <td>48.645854</td>\n",
       "      <td>335.882363</td>\n",
       "      <td>239.554439</td>\n",
       "    </tr>\n",
       "  </tbody>\n",
       "</table>\n",
       "</div>"
      ],
      "text/plain": [
       "   model    subseq      peaks      binary         mwa\n",
       "0  Canny  87.90645  48.645854  335.882363  239.554439"
      ]
     },
     "metadata": {},
     "output_type": "display_data"
    }
   ],
   "source": [
    "with_model(Model.CANNY_EDGE, lines, points, data_dir, ranking_url, pith_url, rings_url, mse_url)"
   ]
  },
  {
   "cell_type": "code",
   "execution_count": 19,
   "id": "af83b217",
   "metadata": {},
   "outputs": [
    {
     "name": "stdout",
     "output_type": "stream",
     "text": [
      "0 6702.jpg 73.2\n",
      "1 6703.jpg 75.6\n",
      "2 6699.jpg 82.2\n",
      "3 6705.jpg 67.4\n",
      "4 6709.jpg 72.0\n",
      "5 6696.jpg 65.0\n",
      "6 6695.jpg 67.0\n"
     ]
    },
    {
     "data": {
      "text/html": [
       "<div>\n",
       "<style scoped>\n",
       "    .dataframe tbody tr th:only-of-type {\n",
       "        vertical-align: middle;\n",
       "    }\n",
       "\n",
       "    .dataframe tbody tr th {\n",
       "        vertical-align: top;\n",
       "    }\n",
       "\n",
       "    .dataframe thead th {\n",
       "        text-align: right;\n",
       "    }\n",
       "</style>\n",
       "<table border=\"1\" class=\"dataframe\">\n",
       "  <thead>\n",
       "    <tr style=\"text-align: right;\">\n",
       "      <th></th>\n",
       "      <th>model</th>\n",
       "      <th>subseq</th>\n",
       "      <th>peaks</th>\n",
       "      <th>binary</th>\n",
       "      <th>mwa</th>\n",
       "    </tr>\n",
       "  </thead>\n",
       "  <tbody>\n",
       "    <tr>\n",
       "      <th>0</th>\n",
       "      <td>Canny(otsu)</td>\n",
       "      <td>62.930468</td>\n",
       "      <td>36.362865</td>\n",
       "      <td>284.111228</td>\n",
       "      <td>195.625566</td>\n",
       "    </tr>\n",
       "  </tbody>\n",
       "</table>\n",
       "</div>"
      ],
      "text/plain": [
       "         model     subseq      peaks      binary         mwa\n",
       "0  Canny(otsu)  62.930468  36.362865  284.111228  195.625566"
      ]
     },
     "metadata": {},
     "output_type": "display_data"
    }
   ],
   "source": [
    "with_model(Model.CANNY_EDGE_OTSU, lines, points, data_dir, ranking_url, pith_url, rings_url, mse_url)"
   ]
  },
  {
   "cell_type": "code",
   "execution_count": 20,
   "id": "aaf7c5d5",
   "metadata": {},
   "outputs": [
    {
     "name": "stdout",
     "output_type": "stream",
     "text": [
      "0 6702.jpg 73.2\n",
      "1 6703.jpg 75.6\n",
      "2 6699.jpg 82.2\n",
      "3 6705.jpg 67.4\n",
      "4 6709.jpg 72.0\n",
      "5 6696.jpg 65.0\n",
      "6 6695.jpg 67.0\n"
     ]
    },
    {
     "data": {
      "text/html": [
       "<div>\n",
       "<style scoped>\n",
       "    .dataframe tbody tr th:only-of-type {\n",
       "        vertical-align: middle;\n",
       "    }\n",
       "\n",
       "    .dataframe tbody tr th {\n",
       "        vertical-align: top;\n",
       "    }\n",
       "\n",
       "    .dataframe thead th {\n",
       "        text-align: right;\n",
       "    }\n",
       "</style>\n",
       "<table border=\"1\" class=\"dataframe\">\n",
       "  <thead>\n",
       "    <tr style=\"text-align: right;\">\n",
       "      <th></th>\n",
       "      <th>model</th>\n",
       "      <th>subseq</th>\n",
       "      <th>peaks</th>\n",
       "      <th>binary</th>\n",
       "      <th>mwa</th>\n",
       "    </tr>\n",
       "  </thead>\n",
       "  <tbody>\n",
       "    <tr>\n",
       "      <th>0</th>\n",
       "      <td>Canny(triangle)</td>\n",
       "      <td>88.543583</td>\n",
       "      <td>51.462856</td>\n",
       "      <td>313.914178</td>\n",
       "      <td>223.87895</td>\n",
       "    </tr>\n",
       "  </tbody>\n",
       "</table>\n",
       "</div>"
      ],
      "text/plain": [
       "             model     subseq      peaks      binary        mwa\n",
       "0  Canny(triangle)  88.543583  51.462856  313.914178  223.87895"
      ]
     },
     "metadata": {},
     "output_type": "display_data"
    }
   ],
   "source": [
    "with_model(Model.CANNY_EDGE_TRIANGLE, lines, points, data_dir, ranking_url, pith_url, rings_url, mse_url)"
   ]
  },
  {
   "cell_type": "code",
   "execution_count": 21,
   "id": "37b04875",
   "metadata": {},
   "outputs": [
    {
     "name": "stdout",
     "output_type": "stream",
     "text": [
      "0 6702.jpg 73.2\n",
      "1 6703.jpg 75.6\n",
      "2 6699.jpg 82.2\n",
      "3 6705.jpg 67.4\n",
      "4 6709.jpg 72.0\n",
      "5 6696.jpg 65.0\n",
      "6 6695.jpg 67.0\n"
     ]
    },
    {
     "data": {
      "text/html": [
       "<div>\n",
       "<style scoped>\n",
       "    .dataframe tbody tr th:only-of-type {\n",
       "        vertical-align: middle;\n",
       "    }\n",
       "\n",
       "    .dataframe tbody tr th {\n",
       "        vertical-align: top;\n",
       "    }\n",
       "\n",
       "    .dataframe thead th {\n",
       "        text-align: right;\n",
       "    }\n",
       "</style>\n",
       "<table border=\"1\" class=\"dataframe\">\n",
       "  <thead>\n",
       "    <tr style=\"text-align: right;\">\n",
       "      <th></th>\n",
       "      <th>model</th>\n",
       "      <th>subseq</th>\n",
       "      <th>peaks</th>\n",
       "      <th>binary</th>\n",
       "      <th>mwa</th>\n",
       "    </tr>\n",
       "  </thead>\n",
       "  <tbody>\n",
       "    <tr>\n",
       "      <th>0</th>\n",
       "      <td>Canny(manual)</td>\n",
       "      <td>50.152337</td>\n",
       "      <td>33.190688</td>\n",
       "      <td>248.980262</td>\n",
       "      <td>167.631101</td>\n",
       "    </tr>\n",
       "  </tbody>\n",
       "</table>\n",
       "</div>"
      ],
      "text/plain": [
       "           model     subseq      peaks      binary         mwa\n",
       "0  Canny(manual)  50.152337  33.190688  248.980262  167.631101"
      ]
     },
     "metadata": {},
     "output_type": "display_data"
    }
   ],
   "source": [
    "with_model(Model.CANNY_EDGE_MANUAL, lines, points, data_dir, ranking_url, pith_url, rings_url, mse_url)"
   ]
  },
  {
   "cell_type": "code",
   "execution_count": 22,
   "id": "dadfd80a",
   "metadata": {},
   "outputs": [
    {
     "name": "stdout",
     "output_type": "stream",
     "text": [
      "0 6702.jpg 73.2\n",
      "1 6703.jpg 75.6\n",
      "2 6699.jpg 82.2\n",
      "3 6705.jpg 67.4\n",
      "4 6709.jpg 72.0\n",
      "5 6696.jpg 65.0\n",
      "6 6695.jpg 67.0\n"
     ]
    },
    {
     "data": {
      "text/html": [
       "<div>\n",
       "<style scoped>\n",
       "    .dataframe tbody tr th:only-of-type {\n",
       "        vertical-align: middle;\n",
       "    }\n",
       "\n",
       "    .dataframe tbody tr th {\n",
       "        vertical-align: top;\n",
       "    }\n",
       "\n",
       "    .dataframe thead th {\n",
       "        text-align: right;\n",
       "    }\n",
       "</style>\n",
       "<table border=\"1\" class=\"dataframe\">\n",
       "  <thead>\n",
       "    <tr style=\"text-align: right;\">\n",
       "      <th></th>\n",
       "      <th>model</th>\n",
       "      <th>subseq</th>\n",
       "      <th>peaks</th>\n",
       "      <th>binary</th>\n",
       "      <th>mwa</th>\n",
       "    </tr>\n",
       "  </thead>\n",
       "  <tbody>\n",
       "    <tr>\n",
       "      <th>0</th>\n",
       "      <td>Canny(blur)</td>\n",
       "      <td>45.404479</td>\n",
       "      <td>30.869218</td>\n",
       "      <td>250.685348</td>\n",
       "      <td>167.796927</td>\n",
       "    </tr>\n",
       "  </tbody>\n",
       "</table>\n",
       "</div>"
      ],
      "text/plain": [
       "         model     subseq      peaks      binary         mwa\n",
       "0  Canny(blur)  45.404479  30.869218  250.685348  167.796927"
      ]
     },
     "metadata": {},
     "output_type": "display_data"
    }
   ],
   "source": [
    "with_model(Model.CANNY_EDGE_BLUR, lines, points, data_dir, ranking_url, pith_url, rings_url, mse_url)"
   ]
  },
  {
   "cell_type": "code",
   "execution_count": 23,
   "id": "e8ab48ad",
   "metadata": {},
   "outputs": [
    {
     "name": "stdout",
     "output_type": "stream",
     "text": [
      "0 6702.jpg 73.2\n",
      "1 6703.jpg 75.6\n",
      "2 6699.jpg 82.2\n",
      "3 6705.jpg 67.4\n",
      "4 6709.jpg 72.0\n",
      "5 6696.jpg 65.0\n",
      "6 6695.jpg 67.0\n"
     ]
    },
    {
     "data": {
      "text/html": [
       "<div>\n",
       "<style scoped>\n",
       "    .dataframe tbody tr th:only-of-type {\n",
       "        vertical-align: middle;\n",
       "    }\n",
       "\n",
       "    .dataframe tbody tr th {\n",
       "        vertical-align: top;\n",
       "    }\n",
       "\n",
       "    .dataframe thead th {\n",
       "        text-align: right;\n",
       "    }\n",
       "</style>\n",
       "<table border=\"1\" class=\"dataframe\">\n",
       "  <thead>\n",
       "    <tr style=\"text-align: right;\">\n",
       "      <th></th>\n",
       "      <th>model</th>\n",
       "      <th>subseq</th>\n",
       "      <th>peaks</th>\n",
       "      <th>binary</th>\n",
       "      <th>mwa</th>\n",
       "    </tr>\n",
       "  </thead>\n",
       "  <tbody>\n",
       "    <tr>\n",
       "      <th>0</th>\n",
       "      <td>Canny(blur otsu)</td>\n",
       "      <td>36.174375</td>\n",
       "      <td>32.471677</td>\n",
       "      <td>201.211665</td>\n",
       "      <td>126.785754</td>\n",
       "    </tr>\n",
       "  </tbody>\n",
       "</table>\n",
       "</div>"
      ],
      "text/plain": [
       "              model     subseq      peaks      binary         mwa\n",
       "0  Canny(blur otsu)  36.174375  32.471677  201.211665  126.785754"
      ]
     },
     "metadata": {},
     "output_type": "display_data"
    }
   ],
   "source": [
    "with_model(Model.CANNY_EDGE_BLUR_OTSU, lines, points, data_dir, ranking_url, pith_url, rings_url, mse_url)"
   ]
  },
  {
   "cell_type": "code",
   "execution_count": 24,
   "id": "23d1a996",
   "metadata": {},
   "outputs": [
    {
     "name": "stdout",
     "output_type": "stream",
     "text": [
      "0 6702.jpg 73.2\n",
      "1 6703.jpg 75.6\n",
      "2 6699.jpg 82.2\n",
      "3 6705.jpg 67.4\n",
      "4 6709.jpg 72.0\n",
      "5 6696.jpg 65.0\n",
      "6 6695.jpg 67.0\n"
     ]
    },
    {
     "data": {
      "text/html": [
       "<div>\n",
       "<style scoped>\n",
       "    .dataframe tbody tr th:only-of-type {\n",
       "        vertical-align: middle;\n",
       "    }\n",
       "\n",
       "    .dataframe tbody tr th {\n",
       "        vertical-align: top;\n",
       "    }\n",
       "\n",
       "    .dataframe thead th {\n",
       "        text-align: right;\n",
       "    }\n",
       "</style>\n",
       "<table border=\"1\" class=\"dataframe\">\n",
       "  <thead>\n",
       "    <tr style=\"text-align: right;\">\n",
       "      <th></th>\n",
       "      <th>model</th>\n",
       "      <th>subseq</th>\n",
       "      <th>peaks</th>\n",
       "      <th>binary</th>\n",
       "      <th>mwa</th>\n",
       "    </tr>\n",
       "  </thead>\n",
       "  <tbody>\n",
       "    <tr>\n",
       "      <th>0</th>\n",
       "      <td>Canny(blur triangle)</td>\n",
       "      <td>54.199866</td>\n",
       "      <td>40.761391</td>\n",
       "      <td>238.10803</td>\n",
       "      <td>165.324866</td>\n",
       "    </tr>\n",
       "  </tbody>\n",
       "</table>\n",
       "</div>"
      ],
      "text/plain": [
       "                  model     subseq      peaks     binary         mwa\n",
       "0  Canny(blur triangle)  54.199866  40.761391  238.10803  165.324866"
      ]
     },
     "metadata": {},
     "output_type": "display_data"
    }
   ],
   "source": [
    "with_model(Model.CANNY_EDGE_BLUR_TRIANGLE, lines, points, data_dir, ranking_url, pith_url, rings_url, mse_url)"
   ]
  },
  {
   "cell_type": "code",
   "execution_count": 25,
   "id": "21804530",
   "metadata": {},
   "outputs": [
    {
     "name": "stdout",
     "output_type": "stream",
     "text": [
      "0 6702.jpg 73.2\n",
      "1 6703.jpg 75.6\n",
      "2 6699.jpg 82.2\n",
      "3 6705.jpg 67.4\n",
      "4 6709.jpg 72.0\n",
      "5 6696.jpg 65.0\n",
      "6 6695.jpg 67.0\n"
     ]
    },
    {
     "data": {
      "text/html": [
       "<div>\n",
       "<style scoped>\n",
       "    .dataframe tbody tr th:only-of-type {\n",
       "        vertical-align: middle;\n",
       "    }\n",
       "\n",
       "    .dataframe tbody tr th {\n",
       "        vertical-align: top;\n",
       "    }\n",
       "\n",
       "    .dataframe thead th {\n",
       "        text-align: right;\n",
       "    }\n",
       "</style>\n",
       "<table border=\"1\" class=\"dataframe\">\n",
       "  <thead>\n",
       "    <tr style=\"text-align: right;\">\n",
       "      <th></th>\n",
       "      <th>model</th>\n",
       "      <th>subseq</th>\n",
       "      <th>peaks</th>\n",
       "      <th>binary</th>\n",
       "      <th>mwa</th>\n",
       "    </tr>\n",
       "  </thead>\n",
       "  <tbody>\n",
       "    <tr>\n",
       "      <th>0</th>\n",
       "      <td>Canny(blur manual)</td>\n",
       "      <td>37.348181</td>\n",
       "      <td>39.397083</td>\n",
       "      <td>158.583461</td>\n",
       "      <td>95.251695</td>\n",
       "    </tr>\n",
       "  </tbody>\n",
       "</table>\n",
       "</div>"
      ],
      "text/plain": [
       "                model     subseq      peaks      binary        mwa\n",
       "0  Canny(blur manual)  37.348181  39.397083  158.583461  95.251695"
      ]
     },
     "metadata": {},
     "output_type": "display_data"
    }
   ],
   "source": [
    "with_model(Model.CANNY_EDGE_BLUR_MANUAL, lines, points, data_dir, ranking_url, pith_url, rings_url, mse_url)"
   ]
  },
  {
   "cell_type": "code",
   "execution_count": 26,
   "id": "30d22fe1",
   "metadata": {},
   "outputs": [
    {
     "name": "stdout",
     "output_type": "stream",
     "text": [
      "0 6702.jpg 73.2\n",
      "1 6703.jpg 75.6\n",
      "2 6699.jpg 82.2\n",
      "3 6705.jpg 67.4\n",
      "4 6709.jpg 72.0\n",
      "5 6696.jpg 65.0\n",
      "6 6695.jpg 67.0\n"
     ]
    },
    {
     "data": {
      "text/html": [
       "<div>\n",
       "<style scoped>\n",
       "    .dataframe tbody tr th:only-of-type {\n",
       "        vertical-align: middle;\n",
       "    }\n",
       "\n",
       "    .dataframe tbody tr th {\n",
       "        vertical-align: top;\n",
       "    }\n",
       "\n",
       "    .dataframe thead th {\n",
       "        text-align: right;\n",
       "    }\n",
       "</style>\n",
       "<table border=\"1\" class=\"dataframe\">\n",
       "  <thead>\n",
       "    <tr style=\"text-align: right;\">\n",
       "      <th></th>\n",
       "      <th>model</th>\n",
       "      <th>subseq</th>\n",
       "      <th>peaks</th>\n",
       "      <th>binary</th>\n",
       "      <th>mwa</th>\n",
       "    </tr>\n",
       "  </thead>\n",
       "  <tbody>\n",
       "    <tr>\n",
       "      <th>0</th>\n",
       "      <td>Laplacian</td>\n",
       "      <td>635.111883</td>\n",
       "      <td>187.722658</td>\n",
       "      <td>606.075974</td>\n",
       "      <td>249.159585</td>\n",
       "    </tr>\n",
       "  </tbody>\n",
       "</table>\n",
       "</div>"
      ],
      "text/plain": [
       "       model      subseq       peaks      binary         mwa\n",
       "0  Laplacian  635.111883  187.722658  606.075974  249.159585"
      ]
     },
     "metadata": {},
     "output_type": "display_data"
    }
   ],
   "source": [
    "with_model(Model.LAPLACIAN_EDGE, lines, points, data_dir, ranking_url, pith_url, rings_url, mse_url)"
   ]
  },
  {
   "cell_type": "code",
   "execution_count": 27,
   "id": "3a400e30",
   "metadata": {},
   "outputs": [
    {
     "name": "stdout",
     "output_type": "stream",
     "text": [
      "0 6702.jpg 73.2\n",
      "1 6703.jpg 75.6\n",
      "2 6699.jpg 82.2\n",
      "3 6705.jpg 67.4\n",
      "4 6709.jpg 72.0\n",
      "5 6696.jpg 65.0\n",
      "6 6695.jpg 67.0\n"
     ]
    },
    {
     "data": {
      "text/html": [
       "<div>\n",
       "<style scoped>\n",
       "    .dataframe tbody tr th:only-of-type {\n",
       "        vertical-align: middle;\n",
       "    }\n",
       "\n",
       "    .dataframe tbody tr th {\n",
       "        vertical-align: top;\n",
       "    }\n",
       "\n",
       "    .dataframe thead th {\n",
       "        text-align: right;\n",
       "    }\n",
       "</style>\n",
       "<table border=\"1\" class=\"dataframe\">\n",
       "  <thead>\n",
       "    <tr style=\"text-align: right;\">\n",
       "      <th></th>\n",
       "      <th>model</th>\n",
       "      <th>subseq</th>\n",
       "      <th>peaks</th>\n",
       "      <th>binary</th>\n",
       "      <th>mwa</th>\n",
       "    </tr>\n",
       "  </thead>\n",
       "  <tbody>\n",
       "    <tr>\n",
       "      <th>0</th>\n",
       "      <td>Laplacian(blur)</td>\n",
       "      <td>560.322282</td>\n",
       "      <td>90.872174</td>\n",
       "      <td>567.049865</td>\n",
       "      <td>93.824731</td>\n",
       "    </tr>\n",
       "  </tbody>\n",
       "</table>\n",
       "</div>"
      ],
      "text/plain": [
       "             model      subseq      peaks      binary        mwa\n",
       "0  Laplacian(blur)  560.322282  90.872174  567.049865  93.824731"
      ]
     },
     "metadata": {},
     "output_type": "display_data"
    }
   ],
   "source": [
    "with_model(Model.LAPLACIAN_EDGE_BLUR, lines, points, data_dir, ranking_url, pith_url, rings_url, mse_url)"
   ]
  },
  {
   "cell_type": "code",
   "execution_count": null,
   "id": "bf6dec47",
   "metadata": {},
   "outputs": [],
   "source": []
  },
  {
   "cell_type": "code",
   "execution_count": 28,
   "id": "67430856",
   "metadata": {},
   "outputs": [
    {
     "name": "stdout",
     "output_type": "stream",
     "text": [
      "0 6702.jpg 73.2\n",
      "1 6703.jpg 75.6\n",
      "2 6699.jpg 82.2\n",
      "3 6705.jpg 67.4\n",
      "4 6709.jpg 72.0\n",
      "5 6696.jpg 65.0\n",
      "6 6695.jpg 67.0\n"
     ]
    },
    {
     "data": {
      "text/html": [
       "<div>\n",
       "<style scoped>\n",
       "    .dataframe tbody tr th:only-of-type {\n",
       "        vertical-align: middle;\n",
       "    }\n",
       "\n",
       "    .dataframe tbody tr th {\n",
       "        vertical-align: top;\n",
       "    }\n",
       "\n",
       "    .dataframe thead th {\n",
       "        text-align: right;\n",
       "    }\n",
       "</style>\n",
       "<table border=\"1\" class=\"dataframe\">\n",
       "  <thead>\n",
       "    <tr style=\"text-align: right;\">\n",
       "      <th></th>\n",
       "      <th>model</th>\n",
       "      <th>subseq</th>\n",
       "      <th>peaks</th>\n",
       "      <th>binary</th>\n",
       "      <th>mwa</th>\n",
       "    </tr>\n",
       "  </thead>\n",
       "  <tbody>\n",
       "    <tr>\n",
       "      <th>0</th>\n",
       "      <td>Polar Sobel</td>\n",
       "      <td>447.021574</td>\n",
       "      <td>16.889442</td>\n",
       "      <td>409.228191</td>\n",
       "      <td>52.521719</td>\n",
       "    </tr>\n",
       "  </tbody>\n",
       "</table>\n",
       "</div>"
      ],
      "text/plain": [
       "         model      subseq      peaks      binary        mwa\n",
       "0  Polar Sobel  447.021574  16.889442  409.228191  52.521719"
      ]
     },
     "metadata": {},
     "output_type": "display_data"
    }
   ],
   "source": [
    "with_model(Model.POLAR_SOBEL_EDGE, lines, points, data_dir, ranking_url, pith_url, rings_url, mse_url)"
   ]
  },
  {
   "cell_type": "code",
   "execution_count": 29,
   "id": "3b6f3da2",
   "metadata": {},
   "outputs": [
    {
     "name": "stdout",
     "output_type": "stream",
     "text": [
      "0 6702.jpg 73.2\n",
      "1 6703.jpg 75.6\n",
      "2 6699.jpg 82.2\n",
      "3 6705.jpg 67.4\n",
      "4 6709.jpg 72.0\n",
      "5 6696.jpg 65.0\n",
      "6 6695.jpg 67.0\n"
     ]
    },
    {
     "data": {
      "text/html": [
       "<div>\n",
       "<style scoped>\n",
       "    .dataframe tbody tr th:only-of-type {\n",
       "        vertical-align: middle;\n",
       "    }\n",
       "\n",
       "    .dataframe tbody tr th {\n",
       "        vertical-align: top;\n",
       "    }\n",
       "\n",
       "    .dataframe thead th {\n",
       "        text-align: right;\n",
       "    }\n",
       "</style>\n",
       "<table border=\"1\" class=\"dataframe\">\n",
       "  <thead>\n",
       "    <tr style=\"text-align: right;\">\n",
       "      <th></th>\n",
       "      <th>model</th>\n",
       "      <th>subseq</th>\n",
       "      <th>peaks</th>\n",
       "      <th>binary</th>\n",
       "      <th>mwa</th>\n",
       "    </tr>\n",
       "  </thead>\n",
       "  <tbody>\n",
       "    <tr>\n",
       "      <th>0</th>\n",
       "      <td>Polar Sobel(blur)</td>\n",
       "      <td>327.721201</td>\n",
       "      <td>40.098962</td>\n",
       "      <td>338.275554</td>\n",
       "      <td>15.184226</td>\n",
       "    </tr>\n",
       "  </tbody>\n",
       "</table>\n",
       "</div>"
      ],
      "text/plain": [
       "               model      subseq      peaks      binary        mwa\n",
       "0  Polar Sobel(blur)  327.721201  40.098962  338.275554  15.184226"
      ]
     },
     "metadata": {},
     "output_type": "display_data"
    }
   ],
   "source": [
    "with_model(Model.POLAR_SOBEL_EDGE_BLUR, lines, points, data_dir, ranking_url, pith_url, rings_url, mse_url)"
   ]
  },
  {
   "cell_type": "code",
   "execution_count": 30,
   "id": "ee75dd80",
   "metadata": {},
   "outputs": [
    {
     "name": "stdout",
     "output_type": "stream",
     "text": [
      "0 6702.jpg 73.2\n",
      "1 6703.jpg 75.6\n",
      "2 6699.jpg 82.2\n",
      "3 6705.jpg 67.4\n",
      "4 6709.jpg 72.0\n",
      "5 6696.jpg 65.0\n",
      "6 6695.jpg 67.0\n"
     ]
    },
    {
     "data": {
      "text/html": [
       "<div>\n",
       "<style scoped>\n",
       "    .dataframe tbody tr th:only-of-type {\n",
       "        vertical-align: middle;\n",
       "    }\n",
       "\n",
       "    .dataframe tbody tr th {\n",
       "        vertical-align: top;\n",
       "    }\n",
       "\n",
       "    .dataframe thead th {\n",
       "        text-align: right;\n",
       "    }\n",
       "</style>\n",
       "<table border=\"1\" class=\"dataframe\">\n",
       "  <thead>\n",
       "    <tr style=\"text-align: right;\">\n",
       "      <th></th>\n",
       "      <th>model</th>\n",
       "      <th>subseq</th>\n",
       "      <th>peaks</th>\n",
       "      <th>binary</th>\n",
       "      <th>mwa</th>\n",
       "    </tr>\n",
       "  </thead>\n",
       "  <tbody>\n",
       "    <tr>\n",
       "      <th>0</th>\n",
       "      <td>Polar Canny</td>\n",
       "      <td>15.557863</td>\n",
       "      <td>25.299146</td>\n",
       "      <td>181.448143</td>\n",
       "      <td>109.719113</td>\n",
       "    </tr>\n",
       "  </tbody>\n",
       "</table>\n",
       "</div>"
      ],
      "text/plain": [
       "         model     subseq      peaks      binary         mwa\n",
       "0  Polar Canny  15.557863  25.299146  181.448143  109.719113"
      ]
     },
     "metadata": {},
     "output_type": "display_data"
    }
   ],
   "source": [
    "with_model(Model.POLAR_CANNY_EDGE, lines, points, data_dir, ranking_url, pith_url, rings_url, mse_url)"
   ]
  },
  {
   "cell_type": "code",
   "execution_count": 31,
   "id": "95860264",
   "metadata": {},
   "outputs": [
    {
     "name": "stdout",
     "output_type": "stream",
     "text": [
      "0 6702.jpg 73.2\n",
      "1 6703.jpg 75.6\n",
      "2 6699.jpg 82.2\n",
      "3 6705.jpg 67.4\n",
      "4 6709.jpg 72.0\n",
      "5 6696.jpg 65.0\n",
      "6 6695.jpg 67.0\n"
     ]
    },
    {
     "data": {
      "text/html": [
       "<div>\n",
       "<style scoped>\n",
       "    .dataframe tbody tr th:only-of-type {\n",
       "        vertical-align: middle;\n",
       "    }\n",
       "\n",
       "    .dataframe tbody tr th {\n",
       "        vertical-align: top;\n",
       "    }\n",
       "\n",
       "    .dataframe thead th {\n",
       "        text-align: right;\n",
       "    }\n",
       "</style>\n",
       "<table border=\"1\" class=\"dataframe\">\n",
       "  <thead>\n",
       "    <tr style=\"text-align: right;\">\n",
       "      <th></th>\n",
       "      <th>model</th>\n",
       "      <th>subseq</th>\n",
       "      <th>peaks</th>\n",
       "      <th>binary</th>\n",
       "      <th>mwa</th>\n",
       "    </tr>\n",
       "  </thead>\n",
       "  <tbody>\n",
       "    <tr>\n",
       "      <th>0</th>\n",
       "      <td>Polar Canny(otsu)</td>\n",
       "      <td>15.184417</td>\n",
       "      <td>17.411229</td>\n",
       "      <td>216.333711</td>\n",
       "      <td>138.353802</td>\n",
       "    </tr>\n",
       "  </tbody>\n",
       "</table>\n",
       "</div>"
      ],
      "text/plain": [
       "               model     subseq      peaks      binary         mwa\n",
       "0  Polar Canny(otsu)  15.184417  17.411229  216.333711  138.353802"
      ]
     },
     "metadata": {},
     "output_type": "display_data"
    }
   ],
   "source": [
    "with_model(Model.POLAR_CANNY_EDGE_OTSU, lines, points, data_dir, ranking_url, pith_url, rings_url, mse_url)"
   ]
  },
  {
   "cell_type": "code",
   "execution_count": 32,
   "id": "cb91f2b9",
   "metadata": {},
   "outputs": [
    {
     "name": "stdout",
     "output_type": "stream",
     "text": [
      "0 6702.jpg 73.2\n",
      "1 6703.jpg 75.6\n",
      "2 6699.jpg 82.2\n",
      "3 6705.jpg 67.4\n",
      "4 6709.jpg 72.0\n",
      "5 6696.jpg 65.0\n",
      "6 6695.jpg 67.0\n"
     ]
    },
    {
     "data": {
      "text/html": [
       "<div>\n",
       "<style scoped>\n",
       "    .dataframe tbody tr th:only-of-type {\n",
       "        vertical-align: middle;\n",
       "    }\n",
       "\n",
       "    .dataframe tbody tr th {\n",
       "        vertical-align: top;\n",
       "    }\n",
       "\n",
       "    .dataframe thead th {\n",
       "        text-align: right;\n",
       "    }\n",
       "</style>\n",
       "<table border=\"1\" class=\"dataframe\">\n",
       "  <thead>\n",
       "    <tr style=\"text-align: right;\">\n",
       "      <th></th>\n",
       "      <th>model</th>\n",
       "      <th>subseq</th>\n",
       "      <th>peaks</th>\n",
       "      <th>binary</th>\n",
       "      <th>mwa</th>\n",
       "    </tr>\n",
       "  </thead>\n",
       "  <tbody>\n",
       "    <tr>\n",
       "      <th>0</th>\n",
       "      <td>Polar Canny(triangle)</td>\n",
       "      <td>74.88843</td>\n",
       "      <td>36.674697</td>\n",
       "      <td>335.09441</td>\n",
       "      <td>239.143805</td>\n",
       "    </tr>\n",
       "  </tbody>\n",
       "</table>\n",
       "</div>"
      ],
      "text/plain": [
       "                   model    subseq      peaks     binary         mwa\n",
       "0  Polar Canny(triangle)  74.88843  36.674697  335.09441  239.143805"
      ]
     },
     "metadata": {},
     "output_type": "display_data"
    }
   ],
   "source": [
    "with_model(Model.POLAR_CANNY_EDGE_TRIANGLE, lines, points, data_dir, ranking_url, pith_url, rings_url, mse_url)"
   ]
  },
  {
   "cell_type": "code",
   "execution_count": 33,
   "id": "b9b3b7fa",
   "metadata": {},
   "outputs": [
    {
     "name": "stdout",
     "output_type": "stream",
     "text": [
      "0 6702.jpg 73.2\n",
      "1 6703.jpg 75.6\n",
      "2 6699.jpg 82.2\n",
      "3 6705.jpg 67.4\n",
      "4 6709.jpg 72.0\n",
      "5 6696.jpg 65.0\n",
      "6 6695.jpg 67.0\n"
     ]
    },
    {
     "data": {
      "text/html": [
       "<div>\n",
       "<style scoped>\n",
       "    .dataframe tbody tr th:only-of-type {\n",
       "        vertical-align: middle;\n",
       "    }\n",
       "\n",
       "    .dataframe tbody tr th {\n",
       "        vertical-align: top;\n",
       "    }\n",
       "\n",
       "    .dataframe thead th {\n",
       "        text-align: right;\n",
       "    }\n",
       "</style>\n",
       "<table border=\"1\" class=\"dataframe\">\n",
       "  <thead>\n",
       "    <tr style=\"text-align: right;\">\n",
       "      <th></th>\n",
       "      <th>model</th>\n",
       "      <th>subseq</th>\n",
       "      <th>peaks</th>\n",
       "      <th>binary</th>\n",
       "      <th>mwa</th>\n",
       "    </tr>\n",
       "  </thead>\n",
       "  <tbody>\n",
       "    <tr>\n",
       "      <th>0</th>\n",
       "      <td>Polar Canny(manual)</td>\n",
       "      <td>32.497342</td>\n",
       "      <td>39.595137</td>\n",
       "      <td>134.848327</td>\n",
       "      <td>73.188688</td>\n",
       "    </tr>\n",
       "  </tbody>\n",
       "</table>\n",
       "</div>"
      ],
      "text/plain": [
       "                 model     subseq      peaks      binary        mwa\n",
       "0  Polar Canny(manual)  32.497342  39.595137  134.848327  73.188688"
      ]
     },
     "metadata": {},
     "output_type": "display_data"
    }
   ],
   "source": [
    "with_model(Model.POLAR_CANNY_EDGE_MANUAL, lines, points, data_dir, ranking_url, pith_url, rings_url, mse_url)"
   ]
  },
  {
   "cell_type": "code",
   "execution_count": 34,
   "id": "f3b7e6da",
   "metadata": {},
   "outputs": [
    {
     "name": "stdout",
     "output_type": "stream",
     "text": [
      "0 6702.jpg 73.2\n",
      "1 6703.jpg 75.6\n",
      "2 6699.jpg 82.2\n",
      "3 6705.jpg 67.4\n",
      "4 6709.jpg 72.0\n",
      "5 6696.jpg 65.0\n",
      "6 6695.jpg 67.0\n"
     ]
    },
    {
     "data": {
      "text/html": [
       "<div>\n",
       "<style scoped>\n",
       "    .dataframe tbody tr th:only-of-type {\n",
       "        vertical-align: middle;\n",
       "    }\n",
       "\n",
       "    .dataframe tbody tr th {\n",
       "        vertical-align: top;\n",
       "    }\n",
       "\n",
       "    .dataframe thead th {\n",
       "        text-align: right;\n",
       "    }\n",
       "</style>\n",
       "<table border=\"1\" class=\"dataframe\">\n",
       "  <thead>\n",
       "    <tr style=\"text-align: right;\">\n",
       "      <th></th>\n",
       "      <th>model</th>\n",
       "      <th>subseq</th>\n",
       "      <th>peaks</th>\n",
       "      <th>binary</th>\n",
       "      <th>mwa</th>\n",
       "    </tr>\n",
       "  </thead>\n",
       "  <tbody>\n",
       "    <tr>\n",
       "      <th>0</th>\n",
       "      <td>Polar Canny(blur)</td>\n",
       "      <td>38.963585</td>\n",
       "      <td>44.212259</td>\n",
       "      <td>107.577969</td>\n",
       "      <td>51.297386</td>\n",
       "    </tr>\n",
       "  </tbody>\n",
       "</table>\n",
       "</div>"
      ],
      "text/plain": [
       "               model     subseq      peaks      binary        mwa\n",
       "0  Polar Canny(blur)  38.963585  44.212259  107.577969  51.297386"
      ]
     },
     "metadata": {},
     "output_type": "display_data"
    }
   ],
   "source": [
    "with_model(Model.POLAR_CANNY_EDGE_BLUR, lines, points, data_dir, ranking_url, pith_url, rings_url, mse_url)"
   ]
  },
  {
   "cell_type": "code",
   "execution_count": 35,
   "id": "d30f5bab",
   "metadata": {},
   "outputs": [
    {
     "name": "stdout",
     "output_type": "stream",
     "text": [
      "0 6702.jpg 73.2\n",
      "1 6703.jpg 75.6\n",
      "2 6699.jpg 82.2\n",
      "3 6705.jpg 67.4\n",
      "4 6709.jpg 72.0\n",
      "5 6696.jpg 65.0\n",
      "6 6695.jpg 67.0\n"
     ]
    },
    {
     "data": {
      "text/html": [
       "<div>\n",
       "<style scoped>\n",
       "    .dataframe tbody tr th:only-of-type {\n",
       "        vertical-align: middle;\n",
       "    }\n",
       "\n",
       "    .dataframe tbody tr th {\n",
       "        vertical-align: top;\n",
       "    }\n",
       "\n",
       "    .dataframe thead th {\n",
       "        text-align: right;\n",
       "    }\n",
       "</style>\n",
       "<table border=\"1\" class=\"dataframe\">\n",
       "  <thead>\n",
       "    <tr style=\"text-align: right;\">\n",
       "      <th></th>\n",
       "      <th>model</th>\n",
       "      <th>subseq</th>\n",
       "      <th>peaks</th>\n",
       "      <th>binary</th>\n",
       "      <th>mwa</th>\n",
       "    </tr>\n",
       "  </thead>\n",
       "  <tbody>\n",
       "    <tr>\n",
       "      <th>0</th>\n",
       "      <td>Polar Canny(blur otsu)</td>\n",
       "      <td>28.584088</td>\n",
       "      <td>34.961498</td>\n",
       "      <td>153.459019</td>\n",
       "      <td>85.615648</td>\n",
       "    </tr>\n",
       "  </tbody>\n",
       "</table>\n",
       "</div>"
      ],
      "text/plain": [
       "                    model     subseq      peaks      binary        mwa\n",
       "0  Polar Canny(blur otsu)  28.584088  34.961498  153.459019  85.615648"
      ]
     },
     "metadata": {},
     "output_type": "display_data"
    }
   ],
   "source": [
    "with_model(Model.POLAR_CANNY_EDGE_BLUR_OTSU, lines, points, data_dir, ranking_url, pith_url, rings_url, mse_url)"
   ]
  },
  {
   "cell_type": "code",
   "execution_count": 36,
   "id": "4a5752ee",
   "metadata": {},
   "outputs": [
    {
     "name": "stdout",
     "output_type": "stream",
     "text": [
      "0 6702.jpg 73.2\n",
      "1 6703.jpg 75.6\n",
      "2 6699.jpg 82.2\n",
      "3 6705.jpg 67.4\n",
      "4 6709.jpg 72.0\n",
      "5 6696.jpg 65.0\n",
      "6 6695.jpg 67.0\n"
     ]
    },
    {
     "data": {
      "text/html": [
       "<div>\n",
       "<style scoped>\n",
       "    .dataframe tbody tr th:only-of-type {\n",
       "        vertical-align: middle;\n",
       "    }\n",
       "\n",
       "    .dataframe tbody tr th {\n",
       "        vertical-align: top;\n",
       "    }\n",
       "\n",
       "    .dataframe thead th {\n",
       "        text-align: right;\n",
       "    }\n",
       "</style>\n",
       "<table border=\"1\" class=\"dataframe\">\n",
       "  <thead>\n",
       "    <tr style=\"text-align: right;\">\n",
       "      <th></th>\n",
       "      <th>model</th>\n",
       "      <th>subseq</th>\n",
       "      <th>peaks</th>\n",
       "      <th>binary</th>\n",
       "      <th>mwa</th>\n",
       "    </tr>\n",
       "  </thead>\n",
       "  <tbody>\n",
       "    <tr>\n",
       "      <th>0</th>\n",
       "      <td>Polar Canny(blur triangle)</td>\n",
       "      <td>37.298624</td>\n",
       "      <td>17.820518</td>\n",
       "      <td>289.654634</td>\n",
       "      <td>203.688879</td>\n",
       "    </tr>\n",
       "  </tbody>\n",
       "</table>\n",
       "</div>"
      ],
      "text/plain": [
       "                        model     subseq      peaks      binary         mwa\n",
       "0  Polar Canny(blur triangle)  37.298624  17.820518  289.654634  203.688879"
      ]
     },
     "metadata": {},
     "output_type": "display_data"
    }
   ],
   "source": [
    "with_model(Model.POLAR_CANNY_EDGE_BLUR_TRIANGLE, lines, points, data_dir, ranking_url, pith_url, rings_url, mse_url)"
   ]
  },
  {
   "cell_type": "code",
   "execution_count": 37,
   "id": "d1eef189",
   "metadata": {},
   "outputs": [
    {
     "name": "stdout",
     "output_type": "stream",
     "text": [
      "0 6702.jpg 73.2\n",
      "1 6703.jpg 75.6\n",
      "2 6699.jpg 82.2\n",
      "3 6705.jpg 67.4\n",
      "4 6709.jpg 72.0\n",
      "5 6696.jpg 65.0\n",
      "6 6695.jpg 67.0\n"
     ]
    },
    {
     "data": {
      "text/html": [
       "<div>\n",
       "<style scoped>\n",
       "    .dataframe tbody tr th:only-of-type {\n",
       "        vertical-align: middle;\n",
       "    }\n",
       "\n",
       "    .dataframe tbody tr th {\n",
       "        vertical-align: top;\n",
       "    }\n",
       "\n",
       "    .dataframe thead th {\n",
       "        text-align: right;\n",
       "    }\n",
       "</style>\n",
       "<table border=\"1\" class=\"dataframe\">\n",
       "  <thead>\n",
       "    <tr style=\"text-align: right;\">\n",
       "      <th></th>\n",
       "      <th>model</th>\n",
       "      <th>subseq</th>\n",
       "      <th>peaks</th>\n",
       "      <th>binary</th>\n",
       "      <th>mwa</th>\n",
       "    </tr>\n",
       "  </thead>\n",
       "  <tbody>\n",
       "    <tr>\n",
       "      <th>0</th>\n",
       "      <td>Polar Canny(blur manual)</td>\n",
       "      <td>52.897706</td>\n",
       "      <td>55.688655</td>\n",
       "      <td>66.561386</td>\n",
       "      <td>31.026875</td>\n",
       "    </tr>\n",
       "  </tbody>\n",
       "</table>\n",
       "</div>"
      ],
      "text/plain": [
       "                      model     subseq      peaks     binary        mwa\n",
       "0  Polar Canny(blur manual)  52.897706  55.688655  66.561386  31.026875"
      ]
     },
     "metadata": {},
     "output_type": "display_data"
    }
   ],
   "source": [
    "with_model(Model.POLAR_CANNY_EDGE_BLUR_MANUAL, lines, points, data_dir, ranking_url, pith_url, rings_url, mse_url)"
   ]
  },
  {
   "cell_type": "code",
   "execution_count": 38,
   "id": "a2c63b76",
   "metadata": {},
   "outputs": [
    {
     "name": "stdout",
     "output_type": "stream",
     "text": [
      "0 6702.jpg 73.2\n",
      "1 6703.jpg 75.6\n",
      "2 6699.jpg 82.2\n",
      "3 6705.jpg 67.4\n",
      "4 6709.jpg 72.0\n",
      "5 6696.jpg 65.0\n",
      "6 6695.jpg 67.0\n"
     ]
    },
    {
     "data": {
      "text/html": [
       "<div>\n",
       "<style scoped>\n",
       "    .dataframe tbody tr th:only-of-type {\n",
       "        vertical-align: middle;\n",
       "    }\n",
       "\n",
       "    .dataframe tbody tr th {\n",
       "        vertical-align: top;\n",
       "    }\n",
       "\n",
       "    .dataframe thead th {\n",
       "        text-align: right;\n",
       "    }\n",
       "</style>\n",
       "<table border=\"1\" class=\"dataframe\">\n",
       "  <thead>\n",
       "    <tr style=\"text-align: right;\">\n",
       "      <th></th>\n",
       "      <th>model</th>\n",
       "      <th>subseq</th>\n",
       "      <th>peaks</th>\n",
       "      <th>binary</th>\n",
       "      <th>mwa</th>\n",
       "    </tr>\n",
       "  </thead>\n",
       "  <tbody>\n",
       "    <tr>\n",
       "      <th>0</th>\n",
       "      <td>Polar Laplacian</td>\n",
       "      <td>614.105331</td>\n",
       "      <td>145.279484</td>\n",
       "      <td>545.84415</td>\n",
       "      <td>186.426009</td>\n",
       "    </tr>\n",
       "  </tbody>\n",
       "</table>\n",
       "</div>"
      ],
      "text/plain": [
       "             model      subseq       peaks     binary         mwa\n",
       "0  Polar Laplacian  614.105331  145.279484  545.84415  186.426009"
      ]
     },
     "metadata": {},
     "output_type": "display_data"
    }
   ],
   "source": [
    "with_model(Model.POLAR_LAPLACIAN_EDGE, lines, points, data_dir, ranking_url, pith_url, rings_url, mse_url)"
   ]
  },
  {
   "cell_type": "code",
   "execution_count": 39,
   "id": "055f80d8",
   "metadata": {},
   "outputs": [
    {
     "name": "stdout",
     "output_type": "stream",
     "text": [
      "0 6702.jpg 73.2\n",
      "1 6703.jpg 75.6\n",
      "2 6699.jpg 82.2\n",
      "3 6705.jpg 67.4\n",
      "4 6709.jpg 72.0\n",
      "5 6696.jpg 65.0\n",
      "6 6695.jpg 67.0\n"
     ]
    },
    {
     "data": {
      "text/html": [
       "<div>\n",
       "<style scoped>\n",
       "    .dataframe tbody tr th:only-of-type {\n",
       "        vertical-align: middle;\n",
       "    }\n",
       "\n",
       "    .dataframe tbody tr th {\n",
       "        vertical-align: top;\n",
       "    }\n",
       "\n",
       "    .dataframe thead th {\n",
       "        text-align: right;\n",
       "    }\n",
       "</style>\n",
       "<table border=\"1\" class=\"dataframe\">\n",
       "  <thead>\n",
       "    <tr style=\"text-align: right;\">\n",
       "      <th></th>\n",
       "      <th>model</th>\n",
       "      <th>subseq</th>\n",
       "      <th>peaks</th>\n",
       "      <th>binary</th>\n",
       "      <th>mwa</th>\n",
       "    </tr>\n",
       "  </thead>\n",
       "  <tbody>\n",
       "    <tr>\n",
       "      <th>0</th>\n",
       "      <td>Polar Laplacian(blur)</td>\n",
       "      <td>470.284777</td>\n",
       "      <td>15.112517</td>\n",
       "      <td>468.18535</td>\n",
       "      <td>22.268592</td>\n",
       "    </tr>\n",
       "  </tbody>\n",
       "</table>\n",
       "</div>"
      ],
      "text/plain": [
       "                   model      subseq      peaks     binary        mwa\n",
       "0  Polar Laplacian(blur)  470.284777  15.112517  468.18535  22.268592"
      ]
     },
     "metadata": {},
     "output_type": "display_data"
    }
   ],
   "source": [
    "with_model(Model.POLAR_LAPLACIAN_EDGE_BLUR, lines, points, data_dir, ranking_url, pith_url, rings_url, mse_url)"
   ]
  },
  {
   "cell_type": "code",
   "execution_count": null,
   "id": "717b358e",
   "metadata": {},
   "outputs": [],
   "source": []
  },
  {
   "cell_type": "code",
   "execution_count": 40,
   "id": "4000d64b",
   "metadata": {},
   "outputs": [
    {
     "name": "stdout",
     "output_type": "stream",
     "text": [
      "0 6702.jpg 73.2\n",
      "1 6703.jpg 75.6\n",
      "2 6699.jpg 82.2\n",
      "3 6705.jpg 67.4\n",
      "4 6709.jpg 72.0\n",
      "5 6696.jpg 65.0\n",
      "6 6695.jpg 67.0\n"
     ]
    },
    {
     "data": {
      "text/html": [
       "<div>\n",
       "<style scoped>\n",
       "    .dataframe tbody tr th:only-of-type {\n",
       "        vertical-align: middle;\n",
       "    }\n",
       "\n",
       "    .dataframe tbody tr th {\n",
       "        vertical-align: top;\n",
       "    }\n",
       "\n",
       "    .dataframe thead th {\n",
       "        text-align: right;\n",
       "    }\n",
       "</style>\n",
       "<table border=\"1\" class=\"dataframe\">\n",
       "  <thead>\n",
       "    <tr style=\"text-align: right;\">\n",
       "      <th></th>\n",
       "      <th>model</th>\n",
       "      <th>subseq</th>\n",
       "      <th>peaks</th>\n",
       "      <th>binary</th>\n",
       "      <th>mwa</th>\n",
       "    </tr>\n",
       "  </thead>\n",
       "  <tbody>\n",
       "    <tr>\n",
       "      <th>0</th>\n",
       "      <td>Polar Pith Sobel</td>\n",
       "      <td>320.852049</td>\n",
       "      <td>30.472382</td>\n",
       "      <td>299.768374</td>\n",
       "      <td>29.267787</td>\n",
       "    </tr>\n",
       "  </tbody>\n",
       "</table>\n",
       "</div>"
      ],
      "text/plain": [
       "              model      subseq      peaks      binary        mwa\n",
       "0  Polar Pith Sobel  320.852049  30.472382  299.768374  29.267787"
      ]
     },
     "metadata": {},
     "output_type": "display_data"
    }
   ],
   "source": [
    "with_model(Model.POLAR_PITH_SOBEL_EDGE, lines, points, data_dir, ranking_url, pith_url, rings_url, mse_url)"
   ]
  },
  {
   "cell_type": "code",
   "execution_count": 41,
   "id": "eec08ac6",
   "metadata": {},
   "outputs": [
    {
     "name": "stdout",
     "output_type": "stream",
     "text": [
      "0 6702.jpg 73.2\n",
      "1 6703.jpg 75.6\n",
      "2 6699.jpg 82.2\n",
      "3 6705.jpg 67.4\n",
      "4 6709.jpg 72.0\n",
      "5 6696.jpg 65.0\n",
      "6 6695.jpg 67.0\n"
     ]
    },
    {
     "data": {
      "text/html": [
       "<div>\n",
       "<style scoped>\n",
       "    .dataframe tbody tr th:only-of-type {\n",
       "        vertical-align: middle;\n",
       "    }\n",
       "\n",
       "    .dataframe tbody tr th {\n",
       "        vertical-align: top;\n",
       "    }\n",
       "\n",
       "    .dataframe thead th {\n",
       "        text-align: right;\n",
       "    }\n",
       "</style>\n",
       "<table border=\"1\" class=\"dataframe\">\n",
       "  <thead>\n",
       "    <tr style=\"text-align: right;\">\n",
       "      <th></th>\n",
       "      <th>model</th>\n",
       "      <th>subseq</th>\n",
       "      <th>peaks</th>\n",
       "      <th>binary</th>\n",
       "      <th>mwa</th>\n",
       "    </tr>\n",
       "  </thead>\n",
       "  <tbody>\n",
       "    <tr>\n",
       "      <th>0</th>\n",
       "      <td>Polar Pith Sobel(blur)</td>\n",
       "      <td>227.995229</td>\n",
       "      <td>54.848724</td>\n",
       "      <td>240.083937</td>\n",
       "      <td>38.18867</td>\n",
       "    </tr>\n",
       "  </tbody>\n",
       "</table>\n",
       "</div>"
      ],
      "text/plain": [
       "                    model      subseq      peaks      binary       mwa\n",
       "0  Polar Pith Sobel(blur)  227.995229  54.848724  240.083937  38.18867"
      ]
     },
     "metadata": {},
     "output_type": "display_data"
    }
   ],
   "source": [
    "with_model(Model.POLAR_PITH_SOBEL_EDGE_BLUR, lines, points, data_dir, ranking_url, pith_url, rings_url, mse_url)"
   ]
  },
  {
   "cell_type": "code",
   "execution_count": 42,
   "id": "97fb7a77",
   "metadata": {},
   "outputs": [
    {
     "name": "stdout",
     "output_type": "stream",
     "text": [
      "0 6702.jpg 73.2\n",
      "1 6703.jpg 75.6\n",
      "2 6699.jpg 82.2\n",
      "3 6705.jpg 67.4\n",
      "4 6709.jpg 72.0\n",
      "5 6696.jpg 65.0\n",
      "6 6695.jpg 67.0\n"
     ]
    },
    {
     "data": {
      "text/html": [
       "<div>\n",
       "<style scoped>\n",
       "    .dataframe tbody tr th:only-of-type {\n",
       "        vertical-align: middle;\n",
       "    }\n",
       "\n",
       "    .dataframe tbody tr th {\n",
       "        vertical-align: top;\n",
       "    }\n",
       "\n",
       "    .dataframe thead th {\n",
       "        text-align: right;\n",
       "    }\n",
       "</style>\n",
       "<table border=\"1\" class=\"dataframe\">\n",
       "  <thead>\n",
       "    <tr style=\"text-align: right;\">\n",
       "      <th></th>\n",
       "      <th>model</th>\n",
       "      <th>subseq</th>\n",
       "      <th>peaks</th>\n",
       "      <th>binary</th>\n",
       "      <th>mwa</th>\n",
       "    </tr>\n",
       "  </thead>\n",
       "  <tbody>\n",
       "    <tr>\n",
       "      <th>0</th>\n",
       "      <td>Polar Pith Canny</td>\n",
       "      <td>39.444673</td>\n",
       "      <td>45.712736</td>\n",
       "      <td>97.683048</td>\n",
       "      <td>53.944926</td>\n",
       "    </tr>\n",
       "  </tbody>\n",
       "</table>\n",
       "</div>"
      ],
      "text/plain": [
       "              model     subseq      peaks     binary        mwa\n",
       "0  Polar Pith Canny  39.444673  45.712736  97.683048  53.944926"
      ]
     },
     "metadata": {},
     "output_type": "display_data"
    }
   ],
   "source": [
    "with_model(Model.POLAR_PITH_CANNY_EDGE, lines, points, data_dir, ranking_url, pith_url, rings_url, mse_url)"
   ]
  },
  {
   "cell_type": "code",
   "execution_count": 43,
   "id": "016625dd",
   "metadata": {},
   "outputs": [
    {
     "name": "stdout",
     "output_type": "stream",
     "text": [
      "0 6702.jpg 73.2\n",
      "1 6703.jpg 75.6\n",
      "2 6699.jpg 82.2\n",
      "3 6705.jpg 67.4\n",
      "4 6709.jpg 72.0\n",
      "5 6696.jpg 65.0\n",
      "6 6695.jpg 67.0\n"
     ]
    },
    {
     "data": {
      "text/html": [
       "<div>\n",
       "<style scoped>\n",
       "    .dataframe tbody tr th:only-of-type {\n",
       "        vertical-align: middle;\n",
       "    }\n",
       "\n",
       "    .dataframe tbody tr th {\n",
       "        vertical-align: top;\n",
       "    }\n",
       "\n",
       "    .dataframe thead th {\n",
       "        text-align: right;\n",
       "    }\n",
       "</style>\n",
       "<table border=\"1\" class=\"dataframe\">\n",
       "  <thead>\n",
       "    <tr style=\"text-align: right;\">\n",
       "      <th></th>\n",
       "      <th>model</th>\n",
       "      <th>subseq</th>\n",
       "      <th>peaks</th>\n",
       "      <th>binary</th>\n",
       "      <th>mwa</th>\n",
       "    </tr>\n",
       "  </thead>\n",
       "  <tbody>\n",
       "    <tr>\n",
       "      <th>0</th>\n",
       "      <td>Polar Pith Canny(otsu)</td>\n",
       "      <td>33.185988</td>\n",
       "      <td>37.981336</td>\n",
       "      <td>139.662423</td>\n",
       "      <td>86.495618</td>\n",
       "    </tr>\n",
       "  </tbody>\n",
       "</table>\n",
       "</div>"
      ],
      "text/plain": [
       "                    model     subseq      peaks      binary        mwa\n",
       "0  Polar Pith Canny(otsu)  33.185988  37.981336  139.662423  86.495618"
      ]
     },
     "metadata": {},
     "output_type": "display_data"
    }
   ],
   "source": [
    "with_model(Model.POLAR_PITH_CANNY_EDGE_OTSU, lines, points, data_dir, ranking_url, pith_url, rings_url, mse_url)"
   ]
  },
  {
   "cell_type": "code",
   "execution_count": 44,
   "id": "300f771c",
   "metadata": {},
   "outputs": [
    {
     "name": "stdout",
     "output_type": "stream",
     "text": [
      "0 6702.jpg 73.2\n",
      "1 6703.jpg 75.6\n",
      "2 6699.jpg 82.2\n",
      "3 6705.jpg 67.4\n",
      "4 6709.jpg 72.0\n",
      "5 6696.jpg 65.0\n",
      "6 6695.jpg 67.0\n"
     ]
    },
    {
     "data": {
      "text/html": [
       "<div>\n",
       "<style scoped>\n",
       "    .dataframe tbody tr th:only-of-type {\n",
       "        vertical-align: middle;\n",
       "    }\n",
       "\n",
       "    .dataframe tbody tr th {\n",
       "        vertical-align: top;\n",
       "    }\n",
       "\n",
       "    .dataframe thead th {\n",
       "        text-align: right;\n",
       "    }\n",
       "</style>\n",
       "<table border=\"1\" class=\"dataframe\">\n",
       "  <thead>\n",
       "    <tr style=\"text-align: right;\">\n",
       "      <th></th>\n",
       "      <th>model</th>\n",
       "      <th>subseq</th>\n",
       "      <th>peaks</th>\n",
       "      <th>binary</th>\n",
       "      <th>mwa</th>\n",
       "    </tr>\n",
       "  </thead>\n",
       "  <tbody>\n",
       "    <tr>\n",
       "      <th>0</th>\n",
       "      <td>Polar Pith Canny(triangle)</td>\n",
       "      <td>62.155488</td>\n",
       "      <td>28.884433</td>\n",
       "      <td>264.832039</td>\n",
       "      <td>186.977087</td>\n",
       "    </tr>\n",
       "  </tbody>\n",
       "</table>\n",
       "</div>"
      ],
      "text/plain": [
       "                        model     subseq      peaks      binary         mwa\n",
       "0  Polar Pith Canny(triangle)  62.155488  28.884433  264.832039  186.977087"
      ]
     },
     "metadata": {},
     "output_type": "display_data"
    }
   ],
   "source": [
    "with_model(Model.POLAR_PITH_CANNY_EDGE_TRIANGLE, lines, points, data_dir, ranking_url, pith_url, rings_url, mse_url)"
   ]
  },
  {
   "cell_type": "code",
   "execution_count": 45,
   "id": "b1a23908",
   "metadata": {},
   "outputs": [
    {
     "name": "stdout",
     "output_type": "stream",
     "text": [
      "0 6702.jpg 73.2\n",
      "1 6703.jpg 75.6\n",
      "2 6699.jpg 82.2\n",
      "3 6705.jpg 67.4\n",
      "4 6709.jpg 72.0\n",
      "5 6696.jpg 65.0\n",
      "6 6695.jpg 67.0\n"
     ]
    },
    {
     "data": {
      "text/html": [
       "<div>\n",
       "<style scoped>\n",
       "    .dataframe tbody tr th:only-of-type {\n",
       "        vertical-align: middle;\n",
       "    }\n",
       "\n",
       "    .dataframe tbody tr th {\n",
       "        vertical-align: top;\n",
       "    }\n",
       "\n",
       "    .dataframe thead th {\n",
       "        text-align: right;\n",
       "    }\n",
       "</style>\n",
       "<table border=\"1\" class=\"dataframe\">\n",
       "  <thead>\n",
       "    <tr style=\"text-align: right;\">\n",
       "      <th></th>\n",
       "      <th>model</th>\n",
       "      <th>subseq</th>\n",
       "      <th>peaks</th>\n",
       "      <th>binary</th>\n",
       "      <th>mwa</th>\n",
       "    </tr>\n",
       "  </thead>\n",
       "  <tbody>\n",
       "    <tr>\n",
       "      <th>0</th>\n",
       "      <td>Polar Pith Canny(manual)</td>\n",
       "      <td>45.225451</td>\n",
       "      <td>49.690128</td>\n",
       "      <td>94.60761</td>\n",
       "      <td>56.24107</td>\n",
       "    </tr>\n",
       "  </tbody>\n",
       "</table>\n",
       "</div>"
      ],
      "text/plain": [
       "                      model     subseq      peaks    binary       mwa\n",
       "0  Polar Pith Canny(manual)  45.225451  49.690128  94.60761  56.24107"
      ]
     },
     "metadata": {},
     "output_type": "display_data"
    }
   ],
   "source": [
    "with_model(Model.POLAR_PITH_CANNY_EDGE_MANUAL, lines, points, data_dir, ranking_url, pith_url, rings_url, mse_url)"
   ]
  },
  {
   "cell_type": "code",
   "execution_count": 46,
   "id": "44bf39bb",
   "metadata": {},
   "outputs": [
    {
     "name": "stdout",
     "output_type": "stream",
     "text": [
      "0 6702.jpg 73.2\n",
      "1 6703.jpg 75.6\n",
      "2 6699.jpg 82.2\n",
      "3 6705.jpg 67.4\n",
      "4 6709.jpg 72.0\n",
      "5 6696.jpg 65.0\n",
      "6 6695.jpg 67.0\n"
     ]
    },
    {
     "data": {
      "text/html": [
       "<div>\n",
       "<style scoped>\n",
       "    .dataframe tbody tr th:only-of-type {\n",
       "        vertical-align: middle;\n",
       "    }\n",
       "\n",
       "    .dataframe tbody tr th {\n",
       "        vertical-align: top;\n",
       "    }\n",
       "\n",
       "    .dataframe thead th {\n",
       "        text-align: right;\n",
       "    }\n",
       "</style>\n",
       "<table border=\"1\" class=\"dataframe\">\n",
       "  <thead>\n",
       "    <tr style=\"text-align: right;\">\n",
       "      <th></th>\n",
       "      <th>model</th>\n",
       "      <th>subseq</th>\n",
       "      <th>peaks</th>\n",
       "      <th>binary</th>\n",
       "      <th>mwa</th>\n",
       "    </tr>\n",
       "  </thead>\n",
       "  <tbody>\n",
       "    <tr>\n",
       "      <th>0</th>\n",
       "      <td>Polar Pith Canny(blur)</td>\n",
       "      <td>54.894424</td>\n",
       "      <td>57.734313</td>\n",
       "      <td>50.667867</td>\n",
       "      <td>31.731042</td>\n",
       "    </tr>\n",
       "  </tbody>\n",
       "</table>\n",
       "</div>"
      ],
      "text/plain": [
       "                    model     subseq      peaks     binary        mwa\n",
       "0  Polar Pith Canny(blur)  54.894424  57.734313  50.667867  31.731042"
      ]
     },
     "metadata": {},
     "output_type": "display_data"
    }
   ],
   "source": [
    "with_model(Model.POLAR_PITH_CANNY_EDGE_BLUR, lines, points, data_dir, ranking_url, pith_url, rings_url, mse_url)"
   ]
  },
  {
   "cell_type": "code",
   "execution_count": 47,
   "id": "483e93b8",
   "metadata": {},
   "outputs": [
    {
     "name": "stdout",
     "output_type": "stream",
     "text": [
      "0 6702.jpg 73.2\n",
      "1 6703.jpg 75.6\n",
      "2 6699.jpg 82.2\n",
      "3 6705.jpg 67.4\n",
      "4 6709.jpg 72.0\n",
      "5 6696.jpg 65.0\n",
      "6 6695.jpg 67.0\n"
     ]
    },
    {
     "data": {
      "text/html": [
       "<div>\n",
       "<style scoped>\n",
       "    .dataframe tbody tr th:only-of-type {\n",
       "        vertical-align: middle;\n",
       "    }\n",
       "\n",
       "    .dataframe tbody tr th {\n",
       "        vertical-align: top;\n",
       "    }\n",
       "\n",
       "    .dataframe thead th {\n",
       "        text-align: right;\n",
       "    }\n",
       "</style>\n",
       "<table border=\"1\" class=\"dataframe\">\n",
       "  <thead>\n",
       "    <tr style=\"text-align: right;\">\n",
       "      <th></th>\n",
       "      <th>model</th>\n",
       "      <th>subseq</th>\n",
       "      <th>peaks</th>\n",
       "      <th>binary</th>\n",
       "      <th>mwa</th>\n",
       "    </tr>\n",
       "  </thead>\n",
       "  <tbody>\n",
       "    <tr>\n",
       "      <th>0</th>\n",
       "      <td>Polar Pith Canny(blur otsu)</td>\n",
       "      <td>46.398129</td>\n",
       "      <td>49.902403</td>\n",
       "      <td>93.529441</td>\n",
       "      <td>51.700635</td>\n",
       "    </tr>\n",
       "  </tbody>\n",
       "</table>\n",
       "</div>"
      ],
      "text/plain": [
       "                         model     subseq      peaks     binary        mwa\n",
       "0  Polar Pith Canny(blur otsu)  46.398129  49.902403  93.529441  51.700635"
      ]
     },
     "metadata": {},
     "output_type": "display_data"
    }
   ],
   "source": [
    "with_model(Model.POLAR_PITH_CANNY_EDGE_BLUR_OTSU, lines, points, data_dir, ranking_url, pith_url, rings_url, mse_url)"
   ]
  },
  {
   "cell_type": "code",
   "execution_count": 48,
   "id": "081babe2",
   "metadata": {},
   "outputs": [
    {
     "name": "stdout",
     "output_type": "stream",
     "text": [
      "0 6702.jpg 73.2\n",
      "1 6703.jpg 75.6\n",
      "2 6699.jpg 82.2\n",
      "3 6705.jpg 67.4\n",
      "4 6709.jpg 72.0\n",
      "5 6696.jpg 65.0\n",
      "6 6695.jpg 67.0\n"
     ]
    },
    {
     "data": {
      "text/html": [
       "<div>\n",
       "<style scoped>\n",
       "    .dataframe tbody tr th:only-of-type {\n",
       "        vertical-align: middle;\n",
       "    }\n",
       "\n",
       "    .dataframe tbody tr th {\n",
       "        vertical-align: top;\n",
       "    }\n",
       "\n",
       "    .dataframe thead th {\n",
       "        text-align: right;\n",
       "    }\n",
       "</style>\n",
       "<table border=\"1\" class=\"dataframe\">\n",
       "  <thead>\n",
       "    <tr style=\"text-align: right;\">\n",
       "      <th></th>\n",
       "      <th>model</th>\n",
       "      <th>subseq</th>\n",
       "      <th>peaks</th>\n",
       "      <th>binary</th>\n",
       "      <th>mwa</th>\n",
       "    </tr>\n",
       "  </thead>\n",
       "  <tbody>\n",
       "    <tr>\n",
       "      <th>0</th>\n",
       "      <td>Polar Pith Canny(blur triangle)</td>\n",
       "      <td>26.716225</td>\n",
       "      <td>13.428984</td>\n",
       "      <td>221.406484</td>\n",
       "      <td>154.117372</td>\n",
       "    </tr>\n",
       "  </tbody>\n",
       "</table>\n",
       "</div>"
      ],
      "text/plain": [
       "                             model     subseq      peaks      binary  \\\n",
       "0  Polar Pith Canny(blur triangle)  26.716225  13.428984  221.406484   \n",
       "\n",
       "          mwa  \n",
       "0  154.117372  "
      ]
     },
     "metadata": {},
     "output_type": "display_data"
    }
   ],
   "source": [
    "with_model(Model.POLAR_PITH_CANNY_EDGE_BLUR_TRIANGLE, lines, points, data_dir, ranking_url, pith_url, rings_url, mse_url)"
   ]
  },
  {
   "cell_type": "code",
   "execution_count": 49,
   "id": "261c103a",
   "metadata": {},
   "outputs": [
    {
     "name": "stdout",
     "output_type": "stream",
     "text": [
      "0 6702.jpg 73.2\n",
      "1 6703.jpg 75.6\n",
      "2 6699.jpg 82.2\n",
      "3 6705.jpg 67.4\n",
      "4 6709.jpg 72.0\n",
      "5 6696.jpg 65.0\n",
      "6 6695.jpg 67.0\n"
     ]
    },
    {
     "data": {
      "text/html": [
       "<div>\n",
       "<style scoped>\n",
       "    .dataframe tbody tr th:only-of-type {\n",
       "        vertical-align: middle;\n",
       "    }\n",
       "\n",
       "    .dataframe tbody tr th {\n",
       "        vertical-align: top;\n",
       "    }\n",
       "\n",
       "    .dataframe thead th {\n",
       "        text-align: right;\n",
       "    }\n",
       "</style>\n",
       "<table border=\"1\" class=\"dataframe\">\n",
       "  <thead>\n",
       "    <tr style=\"text-align: right;\">\n",
       "      <th></th>\n",
       "      <th>model</th>\n",
       "      <th>subseq</th>\n",
       "      <th>peaks</th>\n",
       "      <th>binary</th>\n",
       "      <th>mwa</th>\n",
       "    </tr>\n",
       "  </thead>\n",
       "  <tbody>\n",
       "    <tr>\n",
       "      <th>0</th>\n",
       "      <td>Polar Pith Canny(blur manual)</td>\n",
       "      <td>57.468401</td>\n",
       "      <td>59.736869</td>\n",
       "      <td>57.881754</td>\n",
       "      <td>41.246932</td>\n",
       "    </tr>\n",
       "  </tbody>\n",
       "</table>\n",
       "</div>"
      ],
      "text/plain": [
       "                           model     subseq      peaks     binary        mwa\n",
       "0  Polar Pith Canny(blur manual)  57.468401  59.736869  57.881754  41.246932"
      ]
     },
     "metadata": {},
     "output_type": "display_data"
    }
   ],
   "source": [
    "with_model(Model.POLAR_PITH_CANNY_EDGE_BLUR_MANUAL, lines, points, data_dir, ranking_url, pith_url, rings_url, mse_url)"
   ]
  },
  {
   "cell_type": "code",
   "execution_count": 50,
   "id": "d4c9ff68",
   "metadata": {},
   "outputs": [
    {
     "name": "stdout",
     "output_type": "stream",
     "text": [
      "0 6702.jpg 73.2\n",
      "1 6703.jpg 75.6\n",
      "2 6699.jpg 82.2\n",
      "3 6705.jpg 67.4\n",
      "4 6709.jpg 72.0\n",
      "5 6696.jpg 65.0\n",
      "6 6695.jpg 67.0\n"
     ]
    },
    {
     "data": {
      "text/html": [
       "<div>\n",
       "<style scoped>\n",
       "    .dataframe tbody tr th:only-of-type {\n",
       "        vertical-align: middle;\n",
       "    }\n",
       "\n",
       "    .dataframe tbody tr th {\n",
       "        vertical-align: top;\n",
       "    }\n",
       "\n",
       "    .dataframe thead th {\n",
       "        text-align: right;\n",
       "    }\n",
       "</style>\n",
       "<table border=\"1\" class=\"dataframe\">\n",
       "  <thead>\n",
       "    <tr style=\"text-align: right;\">\n",
       "      <th></th>\n",
       "      <th>model</th>\n",
       "      <th>subseq</th>\n",
       "      <th>peaks</th>\n",
       "      <th>binary</th>\n",
       "      <th>mwa</th>\n",
       "    </tr>\n",
       "  </thead>\n",
       "  <tbody>\n",
       "    <tr>\n",
       "      <th>0</th>\n",
       "      <td>Polar Pith Laplacian</td>\n",
       "      <td>449.339223</td>\n",
       "      <td>85.021205</td>\n",
       "      <td>406.931241</td>\n",
       "      <td>95.780556</td>\n",
       "    </tr>\n",
       "  </tbody>\n",
       "</table>\n",
       "</div>"
      ],
      "text/plain": [
       "                  model      subseq      peaks      binary        mwa\n",
       "0  Polar Pith Laplacian  449.339223  85.021205  406.931241  95.780556"
      ]
     },
     "metadata": {},
     "output_type": "display_data"
    }
   ],
   "source": [
    "with_model(Model.POLAR_PITH_LAPLACIAN_EDGE, lines, points, data_dir, ranking_url, pith_url, rings_url, mse_url)"
   ]
  },
  {
   "cell_type": "code",
   "execution_count": 51,
   "id": "385ccfcc",
   "metadata": {},
   "outputs": [
    {
     "name": "stdout",
     "output_type": "stream",
     "text": [
      "0 6702.jpg 73.2\n",
      "1 6703.jpg 75.6\n",
      "2 6699.jpg 82.2\n",
      "3 6705.jpg 67.4\n",
      "4 6709.jpg 72.0\n",
      "5 6696.jpg 65.0\n",
      "6 6695.jpg 67.0\n"
     ]
    },
    {
     "data": {
      "text/html": [
       "<div>\n",
       "<style scoped>\n",
       "    .dataframe tbody tr th:only-of-type {\n",
       "        vertical-align: middle;\n",
       "    }\n",
       "\n",
       "    .dataframe tbody tr th {\n",
       "        vertical-align: top;\n",
       "    }\n",
       "\n",
       "    .dataframe thead th {\n",
       "        text-align: right;\n",
       "    }\n",
       "</style>\n",
       "<table border=\"1\" class=\"dataframe\">\n",
       "  <thead>\n",
       "    <tr style=\"text-align: right;\">\n",
       "      <th></th>\n",
       "      <th>model</th>\n",
       "      <th>subseq</th>\n",
       "      <th>peaks</th>\n",
       "      <th>binary</th>\n",
       "      <th>mwa</th>\n",
       "    </tr>\n",
       "  </thead>\n",
       "  <tbody>\n",
       "    <tr>\n",
       "      <th>0</th>\n",
       "      <td>Polar Pith Laplacian(blur)</td>\n",
       "      <td>344.560197</td>\n",
       "      <td>33.126649</td>\n",
       "      <td>351.91504</td>\n",
       "      <td>38.793853</td>\n",
       "    </tr>\n",
       "  </tbody>\n",
       "</table>\n",
       "</div>"
      ],
      "text/plain": [
       "                        model      subseq      peaks     binary        mwa\n",
       "0  Polar Pith Laplacian(blur)  344.560197  33.126649  351.91504  38.793853"
      ]
     },
     "metadata": {},
     "output_type": "display_data"
    }
   ],
   "source": [
    "with_model(Model.POLAR_PITH_LAPLACIAN_EDGE_BLUR, lines, points, data_dir, ranking_url, pith_url, rings_url, mse_url)"
   ]
  },
  {
   "cell_type": "code",
   "execution_count": 52,
   "id": "34ab8968",
   "metadata": {},
   "outputs": [
    {
     "name": "stdout",
     "output_type": "stream",
     "text": [
      "Polar Pith Canny(blur triangle) 13.428984012468806 (peaks) \n",
      "\n"
     ]
    },
    {
     "data": {
      "text/html": [
       "<div>\n",
       "<style scoped>\n",
       "    .dataframe tbody tr th:only-of-type {\n",
       "        vertical-align: middle;\n",
       "    }\n",
       "\n",
       "    .dataframe tbody tr th {\n",
       "        vertical-align: top;\n",
       "    }\n",
       "\n",
       "    .dataframe thead th {\n",
       "        text-align: right;\n",
       "    }\n",
       "</style>\n",
       "<table border=\"1\" class=\"dataframe\">\n",
       "  <thead>\n",
       "    <tr style=\"text-align: right;\">\n",
       "      <th></th>\n",
       "      <th>subseq</th>\n",
       "      <th>peaks</th>\n",
       "      <th>binary</th>\n",
       "      <th>mwa</th>\n",
       "    </tr>\n",
       "    <tr>\n",
       "      <th>model</th>\n",
       "      <th></th>\n",
       "      <th></th>\n",
       "      <th></th>\n",
       "      <th></th>\n",
       "    </tr>\n",
       "  </thead>\n",
       "  <tbody>\n",
       "    <tr>\n",
       "      <th>Grayscale</th>\n",
       "      <td>408.875720</td>\n",
       "      <td>43.362709</td>\n",
       "      <td>388.550695</td>\n",
       "      <td>36.632931</td>\n",
       "    </tr>\n",
       "    <tr>\n",
       "      <th>Polar</th>\n",
       "      <td>189.785953</td>\n",
       "      <td>58.979493</td>\n",
       "      <td>370.333204</td>\n",
       "      <td>32.428658</td>\n",
       "    </tr>\n",
       "    <tr>\n",
       "      <th>Polar Pith</th>\n",
       "      <td>130.431545</td>\n",
       "      <td>65.884569</td>\n",
       "      <td>251.858350</td>\n",
       "      <td>49.984628</td>\n",
       "    </tr>\n",
       "    <tr>\n",
       "      <th>Sobel</th>\n",
       "      <td>534.566420</td>\n",
       "      <td>85.805796</td>\n",
       "      <td>499.804522</td>\n",
       "      <td>139.231806</td>\n",
       "    </tr>\n",
       "    <tr>\n",
       "      <th>Sobel(blur)</th>\n",
       "      <td>459.208272</td>\n",
       "      <td>42.227827</td>\n",
       "      <td>449.321121</td>\n",
       "      <td>78.635619</td>\n",
       "    </tr>\n",
       "    <tr>\n",
       "      <th>Canny</th>\n",
       "      <td>87.906450</td>\n",
       "      <td>48.645854</td>\n",
       "      <td>335.882363</td>\n",
       "      <td>239.554439</td>\n",
       "    </tr>\n",
       "    <tr>\n",
       "      <th>Canny(otsu)</th>\n",
       "      <td>62.930468</td>\n",
       "      <td>36.362865</td>\n",
       "      <td>284.111228</td>\n",
       "      <td>195.625566</td>\n",
       "    </tr>\n",
       "    <tr>\n",
       "      <th>Canny(triangle)</th>\n",
       "      <td>88.543583</td>\n",
       "      <td>51.462856</td>\n",
       "      <td>313.914178</td>\n",
       "      <td>223.878950</td>\n",
       "    </tr>\n",
       "    <tr>\n",
       "      <th>Canny(manual)</th>\n",
       "      <td>50.152337</td>\n",
       "      <td>33.190688</td>\n",
       "      <td>248.980262</td>\n",
       "      <td>167.631101</td>\n",
       "    </tr>\n",
       "    <tr>\n",
       "      <th>Canny(blur)</th>\n",
       "      <td>45.404479</td>\n",
       "      <td>30.869218</td>\n",
       "      <td>250.685348</td>\n",
       "      <td>167.796927</td>\n",
       "    </tr>\n",
       "    <tr>\n",
       "      <th>Canny(blur otsu)</th>\n",
       "      <td>36.174375</td>\n",
       "      <td>32.471677</td>\n",
       "      <td>201.211665</td>\n",
       "      <td>126.785754</td>\n",
       "    </tr>\n",
       "    <tr>\n",
       "      <th>Canny(blur triangle)</th>\n",
       "      <td>54.199866</td>\n",
       "      <td>40.761391</td>\n",
       "      <td>238.108030</td>\n",
       "      <td>165.324866</td>\n",
       "    </tr>\n",
       "    <tr>\n",
       "      <th>Canny(blur manual)</th>\n",
       "      <td>37.348181</td>\n",
       "      <td>39.397083</td>\n",
       "      <td>158.583461</td>\n",
       "      <td>95.251695</td>\n",
       "    </tr>\n",
       "    <tr>\n",
       "      <th>Laplacian</th>\n",
       "      <td>635.111883</td>\n",
       "      <td>187.722658</td>\n",
       "      <td>606.075974</td>\n",
       "      <td>249.159585</td>\n",
       "    </tr>\n",
       "    <tr>\n",
       "      <th>Laplacian(blur)</th>\n",
       "      <td>560.322282</td>\n",
       "      <td>90.872174</td>\n",
       "      <td>567.049865</td>\n",
       "      <td>93.824731</td>\n",
       "    </tr>\n",
       "    <tr>\n",
       "      <th>Polar Sobel</th>\n",
       "      <td>447.021574</td>\n",
       "      <td>16.889442</td>\n",
       "      <td>409.228191</td>\n",
       "      <td>52.521719</td>\n",
       "    </tr>\n",
       "    <tr>\n",
       "      <th>Polar Sobel(blur)</th>\n",
       "      <td>327.721201</td>\n",
       "      <td>40.098962</td>\n",
       "      <td>338.275554</td>\n",
       "      <td>15.184226</td>\n",
       "    </tr>\n",
       "    <tr>\n",
       "      <th>Polar Canny</th>\n",
       "      <td>15.557863</td>\n",
       "      <td>25.299146</td>\n",
       "      <td>181.448143</td>\n",
       "      <td>109.719113</td>\n",
       "    </tr>\n",
       "    <tr>\n",
       "      <th>Polar Canny(otsu)</th>\n",
       "      <td>15.184417</td>\n",
       "      <td>17.411229</td>\n",
       "      <td>216.333711</td>\n",
       "      <td>138.353802</td>\n",
       "    </tr>\n",
       "    <tr>\n",
       "      <th>Polar Canny(triangle)</th>\n",
       "      <td>74.888430</td>\n",
       "      <td>36.674697</td>\n",
       "      <td>335.094410</td>\n",
       "      <td>239.143805</td>\n",
       "    </tr>\n",
       "    <tr>\n",
       "      <th>Polar Canny(manual)</th>\n",
       "      <td>32.497342</td>\n",
       "      <td>39.595137</td>\n",
       "      <td>134.848327</td>\n",
       "      <td>73.188688</td>\n",
       "    </tr>\n",
       "    <tr>\n",
       "      <th>Polar Canny(blur)</th>\n",
       "      <td>38.963585</td>\n",
       "      <td>44.212259</td>\n",
       "      <td>107.577969</td>\n",
       "      <td>51.297386</td>\n",
       "    </tr>\n",
       "    <tr>\n",
       "      <th>Polar Canny(blur otsu)</th>\n",
       "      <td>28.584088</td>\n",
       "      <td>34.961498</td>\n",
       "      <td>153.459019</td>\n",
       "      <td>85.615648</td>\n",
       "    </tr>\n",
       "    <tr>\n",
       "      <th>Polar Canny(blur triangle)</th>\n",
       "      <td>37.298624</td>\n",
       "      <td>17.820518</td>\n",
       "      <td>289.654634</td>\n",
       "      <td>203.688879</td>\n",
       "    </tr>\n",
       "    <tr>\n",
       "      <th>Polar Canny(blur manual)</th>\n",
       "      <td>52.897706</td>\n",
       "      <td>55.688655</td>\n",
       "      <td>66.561386</td>\n",
       "      <td>31.026875</td>\n",
       "    </tr>\n",
       "    <tr>\n",
       "      <th>Polar Laplacian</th>\n",
       "      <td>614.105331</td>\n",
       "      <td>145.279484</td>\n",
       "      <td>545.844150</td>\n",
       "      <td>186.426009</td>\n",
       "    </tr>\n",
       "    <tr>\n",
       "      <th>Polar Laplacian(blur)</th>\n",
       "      <td>470.284777</td>\n",
       "      <td>15.112517</td>\n",
       "      <td>468.185350</td>\n",
       "      <td>22.268592</td>\n",
       "    </tr>\n",
       "    <tr>\n",
       "      <th>Polar Pith Sobel</th>\n",
       "      <td>320.852049</td>\n",
       "      <td>30.472382</td>\n",
       "      <td>299.768374</td>\n",
       "      <td>29.267787</td>\n",
       "    </tr>\n",
       "    <tr>\n",
       "      <th>Polar Pith Sobel(blur)</th>\n",
       "      <td>227.995229</td>\n",
       "      <td>54.848724</td>\n",
       "      <td>240.083937</td>\n",
       "      <td>38.188670</td>\n",
       "    </tr>\n",
       "    <tr>\n",
       "      <th>Polar Pith Canny</th>\n",
       "      <td>39.444673</td>\n",
       "      <td>45.712736</td>\n",
       "      <td>97.683048</td>\n",
       "      <td>53.944926</td>\n",
       "    </tr>\n",
       "    <tr>\n",
       "      <th>Polar Pith Canny(otsu)</th>\n",
       "      <td>33.185988</td>\n",
       "      <td>37.981336</td>\n",
       "      <td>139.662423</td>\n",
       "      <td>86.495618</td>\n",
       "    </tr>\n",
       "    <tr>\n",
       "      <th>Polar Pith Canny(triangle)</th>\n",
       "      <td>62.155488</td>\n",
       "      <td>28.884433</td>\n",
       "      <td>264.832039</td>\n",
       "      <td>186.977087</td>\n",
       "    </tr>\n",
       "    <tr>\n",
       "      <th>Polar Pith Canny(manual)</th>\n",
       "      <td>45.225451</td>\n",
       "      <td>49.690128</td>\n",
       "      <td>94.607610</td>\n",
       "      <td>56.241070</td>\n",
       "    </tr>\n",
       "    <tr>\n",
       "      <th>Polar Pith Canny(blur)</th>\n",
       "      <td>54.894424</td>\n",
       "      <td>57.734313</td>\n",
       "      <td>50.667867</td>\n",
       "      <td>31.731042</td>\n",
       "    </tr>\n",
       "    <tr>\n",
       "      <th>Polar Pith Canny(blur otsu)</th>\n",
       "      <td>46.398129</td>\n",
       "      <td>49.902403</td>\n",
       "      <td>93.529441</td>\n",
       "      <td>51.700635</td>\n",
       "    </tr>\n",
       "    <tr>\n",
       "      <th>Polar Pith Canny(blur triangle)</th>\n",
       "      <td>26.716225</td>\n",
       "      <td>13.428984</td>\n",
       "      <td>221.406484</td>\n",
       "      <td>154.117372</td>\n",
       "    </tr>\n",
       "    <tr>\n",
       "      <th>Polar Pith Canny(blur manual)</th>\n",
       "      <td>57.468401</td>\n",
       "      <td>59.736869</td>\n",
       "      <td>57.881754</td>\n",
       "      <td>41.246932</td>\n",
       "    </tr>\n",
       "    <tr>\n",
       "      <th>Polar Pith Laplacian</th>\n",
       "      <td>449.339223</td>\n",
       "      <td>85.021205</td>\n",
       "      <td>406.931241</td>\n",
       "      <td>95.780556</td>\n",
       "    </tr>\n",
       "    <tr>\n",
       "      <th>Polar Pith Laplacian(blur)</th>\n",
       "      <td>344.560197</td>\n",
       "      <td>33.126649</td>\n",
       "      <td>351.915040</td>\n",
       "      <td>38.793853</td>\n",
       "    </tr>\n",
       "  </tbody>\n",
       "</table>\n",
       "</div>"
      ],
      "text/plain": [
       "                                     subseq       peaks      binary  \\\n",
       "model                                                                 \n",
       "Grayscale                        408.875720   43.362709  388.550695   \n",
       "Polar                            189.785953   58.979493  370.333204   \n",
       "Polar Pith                       130.431545   65.884569  251.858350   \n",
       "Sobel                            534.566420   85.805796  499.804522   \n",
       "Sobel(blur)                      459.208272   42.227827  449.321121   \n",
       "Canny                             87.906450   48.645854  335.882363   \n",
       "Canny(otsu)                       62.930468   36.362865  284.111228   \n",
       "Canny(triangle)                   88.543583   51.462856  313.914178   \n",
       "Canny(manual)                     50.152337   33.190688  248.980262   \n",
       "Canny(blur)                       45.404479   30.869218  250.685348   \n",
       "Canny(blur otsu)                  36.174375   32.471677  201.211665   \n",
       "Canny(blur triangle)              54.199866   40.761391  238.108030   \n",
       "Canny(blur manual)                37.348181   39.397083  158.583461   \n",
       "Laplacian                        635.111883  187.722658  606.075974   \n",
       "Laplacian(blur)                  560.322282   90.872174  567.049865   \n",
       "Polar Sobel                      447.021574   16.889442  409.228191   \n",
       "Polar Sobel(blur)                327.721201   40.098962  338.275554   \n",
       "Polar Canny                       15.557863   25.299146  181.448143   \n",
       "Polar Canny(otsu)                 15.184417   17.411229  216.333711   \n",
       "Polar Canny(triangle)             74.888430   36.674697  335.094410   \n",
       "Polar Canny(manual)               32.497342   39.595137  134.848327   \n",
       "Polar Canny(blur)                 38.963585   44.212259  107.577969   \n",
       "Polar Canny(blur otsu)            28.584088   34.961498  153.459019   \n",
       "Polar Canny(blur triangle)        37.298624   17.820518  289.654634   \n",
       "Polar Canny(blur manual)          52.897706   55.688655   66.561386   \n",
       "Polar Laplacian                  614.105331  145.279484  545.844150   \n",
       "Polar Laplacian(blur)            470.284777   15.112517  468.185350   \n",
       "Polar Pith Sobel                 320.852049   30.472382  299.768374   \n",
       "Polar Pith Sobel(blur)           227.995229   54.848724  240.083937   \n",
       "Polar Pith Canny                  39.444673   45.712736   97.683048   \n",
       "Polar Pith Canny(otsu)            33.185988   37.981336  139.662423   \n",
       "Polar Pith Canny(triangle)        62.155488   28.884433  264.832039   \n",
       "Polar Pith Canny(manual)          45.225451   49.690128   94.607610   \n",
       "Polar Pith Canny(blur)            54.894424   57.734313   50.667867   \n",
       "Polar Pith Canny(blur otsu)       46.398129   49.902403   93.529441   \n",
       "Polar Pith Canny(blur triangle)   26.716225   13.428984  221.406484   \n",
       "Polar Pith Canny(blur manual)     57.468401   59.736869   57.881754   \n",
       "Polar Pith Laplacian             449.339223   85.021205  406.931241   \n",
       "Polar Pith Laplacian(blur)       344.560197   33.126649  351.915040   \n",
       "\n",
       "                                        mwa  \n",
       "model                                        \n",
       "Grayscale                         36.632931  \n",
       "Polar                             32.428658  \n",
       "Polar Pith                        49.984628  \n",
       "Sobel                            139.231806  \n",
       "Sobel(blur)                       78.635619  \n",
       "Canny                            239.554439  \n",
       "Canny(otsu)                      195.625566  \n",
       "Canny(triangle)                  223.878950  \n",
       "Canny(manual)                    167.631101  \n",
       "Canny(blur)                      167.796927  \n",
       "Canny(blur otsu)                 126.785754  \n",
       "Canny(blur triangle)             165.324866  \n",
       "Canny(blur manual)                95.251695  \n",
       "Laplacian                        249.159585  \n",
       "Laplacian(blur)                   93.824731  \n",
       "Polar Sobel                       52.521719  \n",
       "Polar Sobel(blur)                 15.184226  \n",
       "Polar Canny                      109.719113  \n",
       "Polar Canny(otsu)                138.353802  \n",
       "Polar Canny(triangle)            239.143805  \n",
       "Polar Canny(manual)               73.188688  \n",
       "Polar Canny(blur)                 51.297386  \n",
       "Polar Canny(blur otsu)            85.615648  \n",
       "Polar Canny(blur triangle)       203.688879  \n",
       "Polar Canny(blur manual)          31.026875  \n",
       "Polar Laplacian                  186.426009  \n",
       "Polar Laplacian(blur)             22.268592  \n",
       "Polar Pith Sobel                  29.267787  \n",
       "Polar Pith Sobel(blur)            38.188670  \n",
       "Polar Pith Canny                  53.944926  \n",
       "Polar Pith Canny(otsu)            86.495618  \n",
       "Polar Pith Canny(triangle)       186.977087  \n",
       "Polar Pith Canny(manual)          56.241070  \n",
       "Polar Pith Canny(blur)            31.731042  \n",
       "Polar Pith Canny(blur otsu)       51.700635  \n",
       "Polar Pith Canny(blur triangle)  154.117372  \n",
       "Polar Pith Canny(blur manual)     41.246932  \n",
       "Polar Pith Laplacian              95.780556  \n",
       "Polar Pith Laplacian(blur)        38.793853  "
      ]
     },
     "metadata": {},
     "output_type": "display_data"
    },
    {
     "name": "stdout",
     "output_type": "stream",
     "text": [
      "Min: 13.428984012468806, Max: 635.1118830708941\n"
     ]
    },
    {
     "data": {
      "image/png": "[encoded data removed]",
      "text/plain": [
       "<Figure size 640x480 with 1 Axes>"
      ]
     },
     "metadata": {},
     "output_type": "display_data"
    },
    {
     "data": {
      "text/html": [
       "<div>\n",
       "<style scoped>\n",
       "    .dataframe tbody tr th:only-of-type {\n",
       "        vertical-align: middle;\n",
       "    }\n",
       "\n",
       "    .dataframe tbody tr th {\n",
       "        vertical-align: top;\n",
       "    }\n",
       "\n",
       "    .dataframe thead th {\n",
       "        text-align: right;\n",
       "    }\n",
       "</style>\n",
       "<table border=\"1\" class=\"dataframe\">\n",
       "  <thead>\n",
       "    <tr style=\"text-align: right;\">\n",
       "      <th></th>\n",
       "      <th>subseq</th>\n",
       "      <th>peaks</th>\n",
       "      <th>binary</th>\n",
       "      <th>mwa</th>\n",
       "    </tr>\n",
       "    <tr>\n",
       "      <th>model</th>\n",
       "      <th></th>\n",
       "      <th></th>\n",
       "      <th></th>\n",
       "      <th></th>\n",
       "    </tr>\n",
       "  </thead>\n",
       "  <tbody>\n",
       "    <tr>\n",
       "      <th>Grayscale</th>\n",
       "      <td>408.875720</td>\n",
       "      <td>43.362709</td>\n",
       "      <td>388.550695</td>\n",
       "      <td>36.632931</td>\n",
       "    </tr>\n",
       "    <tr>\n",
       "      <th>Polar</th>\n",
       "      <td>189.785953</td>\n",
       "      <td>58.979493</td>\n",
       "      <td>370.333204</td>\n",
       "      <td>32.428658</td>\n",
       "    </tr>\n",
       "    <tr>\n",
       "      <th>Polar Pith</th>\n",
       "      <td>130.431545</td>\n",
       "      <td>65.884569</td>\n",
       "      <td>251.858350</td>\n",
       "      <td>49.984628</td>\n",
       "    </tr>\n",
       "    <tr>\n",
       "      <th>Sobel</th>\n",
       "      <td>534.566420</td>\n",
       "      <td>85.805796</td>\n",
       "      <td>499.804522</td>\n",
       "      <td>139.231806</td>\n",
       "    </tr>\n",
       "    <tr>\n",
       "      <th>Sobel(blur)</th>\n",
       "      <td>459.208272</td>\n",
       "      <td>42.227827</td>\n",
       "      <td>449.321121</td>\n",
       "      <td>78.635619</td>\n",
       "    </tr>\n",
       "    <tr>\n",
       "      <th>Canny</th>\n",
       "      <td>87.906450</td>\n",
       "      <td>48.645854</td>\n",
       "      <td>335.882363</td>\n",
       "      <td>239.554439</td>\n",
       "    </tr>\n",
       "    <tr>\n",
       "      <th>Canny(otsu)</th>\n",
       "      <td>62.930468</td>\n",
       "      <td>36.362865</td>\n",
       "      <td>284.111228</td>\n",
       "      <td>195.625566</td>\n",
       "    </tr>\n",
       "    <tr>\n",
       "      <th>Canny(triangle)</th>\n",
       "      <td>88.543583</td>\n",
       "      <td>51.462856</td>\n",
       "      <td>313.914178</td>\n",
       "      <td>223.878950</td>\n",
       "    </tr>\n",
       "    <tr>\n",
       "      <th>Canny(manual)</th>\n",
       "      <td>50.152337</td>\n",
       "      <td>33.190688</td>\n",
       "      <td>248.980262</td>\n",
       "      <td>167.631101</td>\n",
       "    </tr>\n",
       "    <tr>\n",
       "      <th>Canny(blur)</th>\n",
       "      <td>45.404479</td>\n",
       "      <td>30.869218</td>\n",
       "      <td>250.685348</td>\n",
       "      <td>167.796927</td>\n",
       "    </tr>\n",
       "    <tr>\n",
       "      <th>Canny(blur otsu)</th>\n",
       "      <td>36.174375</td>\n",
       "      <td>32.471677</td>\n",
       "      <td>201.211665</td>\n",
       "      <td>126.785754</td>\n",
       "    </tr>\n",
       "    <tr>\n",
       "      <th>Canny(blur triangle)</th>\n",
       "      <td>54.199866</td>\n",
       "      <td>40.761391</td>\n",
       "      <td>238.108030</td>\n",
       "      <td>165.324866</td>\n",
       "    </tr>\n",
       "    <tr>\n",
       "      <th>Canny(blur manual)</th>\n",
       "      <td>37.348181</td>\n",
       "      <td>39.397083</td>\n",
       "      <td>158.583461</td>\n",
       "      <td>95.251695</td>\n",
       "    </tr>\n",
       "    <tr>\n",
       "      <th>Laplacian</th>\n",
       "      <td>635.111883</td>\n",
       "      <td>187.722658</td>\n",
       "      <td>606.075974</td>\n",
       "      <td>249.159585</td>\n",
       "    </tr>\n",
       "    <tr>\n",
       "      <th>Laplacian(blur)</th>\n",
       "      <td>560.322282</td>\n",
       "      <td>90.872174</td>\n",
       "      <td>567.049865</td>\n",
       "      <td>93.824731</td>\n",
       "    </tr>\n",
       "  </tbody>\n",
       "</table>\n",
       "</div>"
      ],
      "text/plain": [
       "                          subseq       peaks      binary         mwa\n",
       "model                                                               \n",
       "Grayscale             408.875720   43.362709  388.550695   36.632931\n",
       "Polar                 189.785953   58.979493  370.333204   32.428658\n",
       "Polar Pith            130.431545   65.884569  251.858350   49.984628\n",
       "Sobel                 534.566420   85.805796  499.804522  139.231806\n",
       "Sobel(blur)           459.208272   42.227827  449.321121   78.635619\n",
       "Canny                  87.906450   48.645854  335.882363  239.554439\n",
       "Canny(otsu)            62.930468   36.362865  284.111228  195.625566\n",
       "Canny(triangle)        88.543583   51.462856  313.914178  223.878950\n",
       "Canny(manual)          50.152337   33.190688  248.980262  167.631101\n",
       "Canny(blur)            45.404479   30.869218  250.685348  167.796927\n",
       "Canny(blur otsu)       36.174375   32.471677  201.211665  126.785754\n",
       "Canny(blur triangle)   54.199866   40.761391  238.108030  165.324866\n",
       "Canny(blur manual)     37.348181   39.397083  158.583461   95.251695\n",
       "Laplacian             635.111883  187.722658  606.075974  249.159585\n",
       "Laplacian(blur)       560.322282   90.872174  567.049865   93.824731"
      ]
     },
     "metadata": {},
     "output_type": "display_data"
    },
    {
     "name": "stdout",
     "output_type": "stream",
     "text": [
      "Min: 30.86921757592829, Max: 635.1118830708941\n"
     ]
    },
    {
     "data": {
      "image/png": "[encoded data removed]",
      "text/plain": [
       "<Figure size 640x480 with 1 Axes>"
      ]
     },
     "metadata": {},
     "output_type": "display_data"
    },
    {
     "data": {
      "text/html": [
       "<div>\n",
       "<style scoped>\n",
       "    .dataframe tbody tr th:only-of-type {\n",
       "        vertical-align: middle;\n",
       "    }\n",
       "\n",
       "    .dataframe tbody tr th {\n",
       "        vertical-align: top;\n",
       "    }\n",
       "\n",
       "    .dataframe thead th {\n",
       "        text-align: right;\n",
       "    }\n",
       "</style>\n",
       "<table border=\"1\" class=\"dataframe\">\n",
       "  <thead>\n",
       "    <tr style=\"text-align: right;\">\n",
       "      <th></th>\n",
       "      <th>subseq</th>\n",
       "      <th>peaks</th>\n",
       "      <th>binary</th>\n",
       "      <th>mwa</th>\n",
       "    </tr>\n",
       "    <tr>\n",
       "      <th>model</th>\n",
       "      <th></th>\n",
       "      <th></th>\n",
       "      <th></th>\n",
       "      <th></th>\n",
       "    </tr>\n",
       "  </thead>\n",
       "  <tbody>\n",
       "    <tr>\n",
       "      <th>Polar Sobel</th>\n",
       "      <td>447.021574</td>\n",
       "      <td>16.889442</td>\n",
       "      <td>409.228191</td>\n",
       "      <td>52.521719</td>\n",
       "    </tr>\n",
       "    <tr>\n",
       "      <th>Polar Sobel(blur)</th>\n",
       "      <td>327.721201</td>\n",
       "      <td>40.098962</td>\n",
       "      <td>338.275554</td>\n",
       "      <td>15.184226</td>\n",
       "    </tr>\n",
       "    <tr>\n",
       "      <th>Polar Canny</th>\n",
       "      <td>15.557863</td>\n",
       "      <td>25.299146</td>\n",
       "      <td>181.448143</td>\n",
       "      <td>109.719113</td>\n",
       "    </tr>\n",
       "    <tr>\n",
       "      <th>Polar Canny(otsu)</th>\n",
       "      <td>15.184417</td>\n",
       "      <td>17.411229</td>\n",
       "      <td>216.333711</td>\n",
       "      <td>138.353802</td>\n",
       "    </tr>\n",
       "    <tr>\n",
       "      <th>Polar Canny(triangle)</th>\n",
       "      <td>74.888430</td>\n",
       "      <td>36.674697</td>\n",
       "      <td>335.094410</td>\n",
       "      <td>239.143805</td>\n",
       "    </tr>\n",
       "    <tr>\n",
       "      <th>Polar Canny(manual)</th>\n",
       "      <td>32.497342</td>\n",
       "      <td>39.595137</td>\n",
       "      <td>134.848327</td>\n",
       "      <td>73.188688</td>\n",
       "    </tr>\n",
       "    <tr>\n",
       "      <th>Polar Canny(blur)</th>\n",
       "      <td>38.963585</td>\n",
       "      <td>44.212259</td>\n",
       "      <td>107.577969</td>\n",
       "      <td>51.297386</td>\n",
       "    </tr>\n",
       "    <tr>\n",
       "      <th>Polar Canny(blur otsu)</th>\n",
       "      <td>28.584088</td>\n",
       "      <td>34.961498</td>\n",
       "      <td>153.459019</td>\n",
       "      <td>85.615648</td>\n",
       "    </tr>\n",
       "    <tr>\n",
       "      <th>Polar Canny(blur triangle)</th>\n",
       "      <td>37.298624</td>\n",
       "      <td>17.820518</td>\n",
       "      <td>289.654634</td>\n",
       "      <td>203.688879</td>\n",
       "    </tr>\n",
       "    <tr>\n",
       "      <th>Polar Canny(blur manual)</th>\n",
       "      <td>52.897706</td>\n",
       "      <td>55.688655</td>\n",
       "      <td>66.561386</td>\n",
       "      <td>31.026875</td>\n",
       "    </tr>\n",
       "    <tr>\n",
       "      <th>Polar Laplacian</th>\n",
       "      <td>614.105331</td>\n",
       "      <td>145.279484</td>\n",
       "      <td>545.844150</td>\n",
       "      <td>186.426009</td>\n",
       "    </tr>\n",
       "    <tr>\n",
       "      <th>Polar Laplacian(blur)</th>\n",
       "      <td>470.284777</td>\n",
       "      <td>15.112517</td>\n",
       "      <td>468.185350</td>\n",
       "      <td>22.268592</td>\n",
       "    </tr>\n",
       "  </tbody>\n",
       "</table>\n",
       "</div>"
      ],
      "text/plain": [
       "                                subseq       peaks      binary         mwa\n",
       "model                                                                     \n",
       "Polar Sobel                 447.021574   16.889442  409.228191   52.521719\n",
       "Polar Sobel(blur)           327.721201   40.098962  338.275554   15.184226\n",
       "Polar Canny                  15.557863   25.299146  181.448143  109.719113\n",
       "Polar Canny(otsu)            15.184417   17.411229  216.333711  138.353802\n",
       "Polar Canny(triangle)        74.888430   36.674697  335.094410  239.143805\n",
       "Polar Canny(manual)          32.497342   39.595137  134.848327   73.188688\n",
       "Polar Canny(blur)            38.963585   44.212259  107.577969   51.297386\n",
       "Polar Canny(blur otsu)       28.584088   34.961498  153.459019   85.615648\n",
       "Polar Canny(blur triangle)   37.298624   17.820518  289.654634  203.688879\n",
       "Polar Canny(blur manual)     52.897706   55.688655   66.561386   31.026875\n",
       "Polar Laplacian             614.105331  145.279484  545.844150  186.426009\n",
       "Polar Laplacian(blur)       470.284777   15.112517  468.185350   22.268592"
      ]
     },
     "metadata": {},
     "output_type": "display_data"
    },
    {
     "name": "stdout",
     "output_type": "stream",
     "text": [
      "Min: 15.112516985692924, Max: 614.1053306582326\n"
     ]
    },
    {
     "data": {
      "image/png": "[encoded data removed]",
      "text/plain": [
       "<Figure size 640x480 with 1 Axes>"
      ]
     },
     "metadata": {},
     "output_type": "display_data"
    },
    {
     "data": {
      "text/html": [
       "<div>\n",
       "<style scoped>\n",
       "    .dataframe tbody tr th:only-of-type {\n",
       "        vertical-align: middle;\n",
       "    }\n",
       "\n",
       "    .dataframe tbody tr th {\n",
       "        vertical-align: top;\n",
       "    }\n",
       "\n",
       "    .dataframe thead th {\n",
       "        text-align: right;\n",
       "    }\n",
       "</style>\n",
       "<table border=\"1\" class=\"dataframe\">\n",
       "  <thead>\n",
       "    <tr style=\"text-align: right;\">\n",
       "      <th></th>\n",
       "      <th>subseq</th>\n",
       "      <th>peaks</th>\n",
       "      <th>binary</th>\n",
       "      <th>mwa</th>\n",
       "    </tr>\n",
       "    <tr>\n",
       "      <th>model</th>\n",
       "      <th></th>\n",
       "      <th></th>\n",
       "      <th></th>\n",
       "      <th></th>\n",
       "    </tr>\n",
       "  </thead>\n",
       "  <tbody>\n",
       "    <tr>\n",
       "      <th>Polar Pith Sobel</th>\n",
       "      <td>320.852049</td>\n",
       "      <td>30.472382</td>\n",
       "      <td>299.768374</td>\n",
       "      <td>29.267787</td>\n",
       "    </tr>\n",
       "    <tr>\n",
       "      <th>Polar Pith Sobel(blur)</th>\n",
       "      <td>227.995229</td>\n",
       "      <td>54.848724</td>\n",
       "      <td>240.083937</td>\n",
       "      <td>38.188670</td>\n",
       "    </tr>\n",
       "    <tr>\n",
       "      <th>Polar Pith Canny</th>\n",
       "      <td>39.444673</td>\n",
       "      <td>45.712736</td>\n",
       "      <td>97.683048</td>\n",
       "      <td>53.944926</td>\n",
       "    </tr>\n",
       "    <tr>\n",
       "      <th>Polar Pith Canny(otsu)</th>\n",
       "      <td>33.185988</td>\n",
       "      <td>37.981336</td>\n",
       "      <td>139.662423</td>\n",
       "      <td>86.495618</td>\n",
       "    </tr>\n",
       "    <tr>\n",
       "      <th>Polar Pith Canny(triangle)</th>\n",
       "      <td>62.155488</td>\n",
       "      <td>28.884433</td>\n",
       "      <td>264.832039</td>\n",
       "      <td>186.977087</td>\n",
       "    </tr>\n",
       "    <tr>\n",
       "      <th>Polar Pith Canny(manual)</th>\n",
       "      <td>45.225451</td>\n",
       "      <td>49.690128</td>\n",
       "      <td>94.607610</td>\n",
       "      <td>56.241070</td>\n",
       "    </tr>\n",
       "    <tr>\n",
       "      <th>Polar Pith Canny(blur)</th>\n",
       "      <td>54.894424</td>\n",
       "      <td>57.734313</td>\n",
       "      <td>50.667867</td>\n",
       "      <td>31.731042</td>\n",
       "    </tr>\n",
       "    <tr>\n",
       "      <th>Polar Pith Canny(blur otsu)</th>\n",
       "      <td>46.398129</td>\n",
       "      <td>49.902403</td>\n",
       "      <td>93.529441</td>\n",
       "      <td>51.700635</td>\n",
       "    </tr>\n",
       "    <tr>\n",
       "      <th>Polar Pith Canny(blur triangle)</th>\n",
       "      <td>26.716225</td>\n",
       "      <td>13.428984</td>\n",
       "      <td>221.406484</td>\n",
       "      <td>154.117372</td>\n",
       "    </tr>\n",
       "    <tr>\n",
       "      <th>Polar Pith Canny(blur manual)</th>\n",
       "      <td>57.468401</td>\n",
       "      <td>59.736869</td>\n",
       "      <td>57.881754</td>\n",
       "      <td>41.246932</td>\n",
       "    </tr>\n",
       "    <tr>\n",
       "      <th>Polar Pith Laplacian</th>\n",
       "      <td>449.339223</td>\n",
       "      <td>85.021205</td>\n",
       "      <td>406.931241</td>\n",
       "      <td>95.780556</td>\n",
       "    </tr>\n",
       "    <tr>\n",
       "      <th>Polar Pith Laplacian(blur)</th>\n",
       "      <td>344.560197</td>\n",
       "      <td>33.126649</td>\n",
       "      <td>351.915040</td>\n",
       "      <td>38.793853</td>\n",
       "    </tr>\n",
       "  </tbody>\n",
       "</table>\n",
       "</div>"
      ],
      "text/plain": [
       "                                     subseq      peaks      binary         mwa\n",
       "model                                                                         \n",
       "Polar Pith Sobel                 320.852049  30.472382  299.768374   29.267787\n",
       "Polar Pith Sobel(blur)           227.995229  54.848724  240.083937   38.188670\n",
       "Polar Pith Canny                  39.444673  45.712736   97.683048   53.944926\n",
       "Polar Pith Canny(otsu)            33.185988  37.981336  139.662423   86.495618\n",
       "Polar Pith Canny(triangle)        62.155488  28.884433  264.832039  186.977087\n",
       "Polar Pith Canny(manual)          45.225451  49.690128   94.607610   56.241070\n",
       "Polar Pith Canny(blur)            54.894424  57.734313   50.667867   31.731042\n",
       "Polar Pith Canny(blur otsu)       46.398129  49.902403   93.529441   51.700635\n",
       "Polar Pith Canny(blur triangle)   26.716225  13.428984  221.406484  154.117372\n",
       "Polar Pith Canny(blur manual)     57.468401  59.736869   57.881754   41.246932\n",
       "Polar Pith Laplacian             449.339223  85.021205  406.931241   95.780556\n",
       "Polar Pith Laplacian(blur)       344.560197  33.126649  351.915040   38.793853"
      ]
     },
     "metadata": {},
     "output_type": "display_data"
    },
    {
     "name": "stdout",
     "output_type": "stream",
     "text": [
      "Min: 13.428984012468806, Max: 449.3392226965853\n"
     ]
    },
    {
     "data": {
      "image/png": "[encoded data removed]",
      "text/plain": [
       "<Figure size 640x480 with 1 Axes>"
      ]
     },
     "metadata": {},
     "output_type": "display_data"
    }
   ],
   "source": [
    "multi_mse(mse_url)"
   ]
  },
  {
   "cell_type": "code",
   "execution_count": 53,
   "id": "17bf2401",
   "metadata": {},
   "outputs": [],
   "source": [
    "#STOP"
   ]
  },
  {
   "cell_type": "markdown",
   "id": "39e8e020",
   "metadata": {},
   "source": [
    "### Model with 32 lines"
   ]
  },
  {
   "cell_type": "code",
   "execution_count": 54,
   "id": "c233746c",
   "metadata": {},
   "outputs": [],
   "source": [
    "#MSE file\n",
    "mse_url = \"output/fur_mse_thirtytwo.csv\"\n",
    "\n",
    "#rings info file\n",
    "rings_url = \"output/fur_rings_thirtytwo.csv\"\n",
    "\n",
    "#no of lines and points\n",
    "lines = 32\n",
    "points = 150"
   ]
  },
  {
   "cell_type": "code",
   "execution_count": 55,
   "id": "2b4c1ea1",
   "metadata": {},
   "outputs": [
    {
     "name": "stdout",
     "output_type": "stream",
     "text": [
      "0 6702.jpg 73.2\n",
      "1 6703.jpg 75.6\n",
      "2 6699.jpg 82.2\n",
      "3 6705.jpg 67.4\n",
      "4 6709.jpg 72.0\n",
      "5 6696.jpg 65.0\n",
      "6 6695.jpg 67.0\n"
     ]
    },
    {
     "data": {
      "text/html": [
       "<div>\n",
       "<style scoped>\n",
       "    .dataframe tbody tr th:only-of-type {\n",
       "        vertical-align: middle;\n",
       "    }\n",
       "\n",
       "    .dataframe tbody tr th {\n",
       "        vertical-align: top;\n",
       "    }\n",
       "\n",
       "    .dataframe thead th {\n",
       "        text-align: right;\n",
       "    }\n",
       "</style>\n",
       "<table border=\"1\" class=\"dataframe\">\n",
       "  <thead>\n",
       "    <tr style=\"text-align: right;\">\n",
       "      <th></th>\n",
       "      <th>model</th>\n",
       "      <th>subseq</th>\n",
       "      <th>peaks</th>\n",
       "      <th>binary</th>\n",
       "      <th>mwa</th>\n",
       "    </tr>\n",
       "  </thead>\n",
       "  <tbody>\n",
       "    <tr>\n",
       "      <th>0</th>\n",
       "      <td>Grayscale</td>\n",
       "      <td>412.270372</td>\n",
       "      <td>42.938115</td>\n",
       "      <td>388.650216</td>\n",
       "      <td>37.181028</td>\n",
       "    </tr>\n",
       "  </tbody>\n",
       "</table>\n",
       "</div>"
      ],
      "text/plain": [
       "       model      subseq      peaks      binary        mwa\n",
       "0  Grayscale  412.270372  42.938115  388.650216  37.181028"
      ]
     },
     "metadata": {},
     "output_type": "display_data"
    }
   ],
   "source": [
    "with_model(Model.GRAYSCALE, lines, points, data_dir, ranking_url, pith_url, rings_url, mse_url)"
   ]
  },
  {
   "cell_type": "code",
   "execution_count": 56,
   "id": "0290e782",
   "metadata": {},
   "outputs": [
    {
     "name": "stdout",
     "output_type": "stream",
     "text": [
      "0 6702.jpg 73.2\n",
      "1 6703.jpg 75.6\n",
      "2 6699.jpg 82.2\n",
      "3 6705.jpg 67.4\n",
      "4 6709.jpg 72.0\n",
      "5 6696.jpg 65.0\n",
      "6 6695.jpg 67.0\n"
     ]
    },
    {
     "data": {
      "text/html": [
       "<div>\n",
       "<style scoped>\n",
       "    .dataframe tbody tr th:only-of-type {\n",
       "        vertical-align: middle;\n",
       "    }\n",
       "\n",
       "    .dataframe tbody tr th {\n",
       "        vertical-align: top;\n",
       "    }\n",
       "\n",
       "    .dataframe thead th {\n",
       "        text-align: right;\n",
       "    }\n",
       "</style>\n",
       "<table border=\"1\" class=\"dataframe\">\n",
       "  <thead>\n",
       "    <tr style=\"text-align: right;\">\n",
       "      <th></th>\n",
       "      <th>model</th>\n",
       "      <th>subseq</th>\n",
       "      <th>peaks</th>\n",
       "      <th>binary</th>\n",
       "      <th>mwa</th>\n",
       "    </tr>\n",
       "  </thead>\n",
       "  <tbody>\n",
       "    <tr>\n",
       "      <th>0</th>\n",
       "      <td>Polar</td>\n",
       "      <td>191.339006</td>\n",
       "      <td>58.40846</td>\n",
       "      <td>375.299298</td>\n",
       "      <td>31.994917</td>\n",
       "    </tr>\n",
       "  </tbody>\n",
       "</table>\n",
       "</div>"
      ],
      "text/plain": [
       "   model      subseq     peaks      binary        mwa\n",
       "0  Polar  191.339006  58.40846  375.299298  31.994917"
      ]
     },
     "metadata": {},
     "output_type": "display_data"
    }
   ],
   "source": [
    "with_model(Model.POLAR, lines, points, data_dir, ranking_url, pith_url, rings_url, mse_url)"
   ]
  },
  {
   "cell_type": "code",
   "execution_count": 57,
   "id": "547c4d76",
   "metadata": {},
   "outputs": [
    {
     "name": "stdout",
     "output_type": "stream",
     "text": [
      "0 6702.jpg 73.2\n",
      "1 6703.jpg 75.6\n",
      "2 6699.jpg 82.2\n",
      "3 6705.jpg 67.4\n",
      "4 6709.jpg 72.0\n",
      "5 6696.jpg 65.0\n",
      "6 6695.jpg 67.0\n"
     ]
    },
    {
     "data": {
      "text/html": [
       "<div>\n",
       "<style scoped>\n",
       "    .dataframe tbody tr th:only-of-type {\n",
       "        vertical-align: middle;\n",
       "    }\n",
       "\n",
       "    .dataframe tbody tr th {\n",
       "        vertical-align: top;\n",
       "    }\n",
       "\n",
       "    .dataframe thead th {\n",
       "        text-align: right;\n",
       "    }\n",
       "</style>\n",
       "<table border=\"1\" class=\"dataframe\">\n",
       "  <thead>\n",
       "    <tr style=\"text-align: right;\">\n",
       "      <th></th>\n",
       "      <th>model</th>\n",
       "      <th>subseq</th>\n",
       "      <th>peaks</th>\n",
       "      <th>binary</th>\n",
       "      <th>mwa</th>\n",
       "    </tr>\n",
       "  </thead>\n",
       "  <tbody>\n",
       "    <tr>\n",
       "      <th>0</th>\n",
       "      <td>Polar Pith</td>\n",
       "      <td>132.277612</td>\n",
       "      <td>65.723979</td>\n",
       "      <td>253.718828</td>\n",
       "      <td>50.062066</td>\n",
       "    </tr>\n",
       "  </tbody>\n",
       "</table>\n",
       "</div>"
      ],
      "text/plain": [
       "        model      subseq      peaks      binary        mwa\n",
       "0  Polar Pith  132.277612  65.723979  253.718828  50.062066"
      ]
     },
     "metadata": {},
     "output_type": "display_data"
    }
   ],
   "source": [
    "with_model(Model.POLAR_PITH, lines, points, data_dir, ranking_url, pith_url, rings_url, mse_url)"
   ]
  },
  {
   "cell_type": "code",
   "execution_count": null,
   "id": "08cfdc46",
   "metadata": {},
   "outputs": [],
   "source": []
  },
  {
   "cell_type": "code",
   "execution_count": 58,
   "id": "4e493bf6",
   "metadata": {},
   "outputs": [
    {
     "name": "stdout",
     "output_type": "stream",
     "text": [
      "0 6702.jpg 73.2\n",
      "1 6703.jpg 75.6\n",
      "2 6699.jpg 82.2\n",
      "3 6705.jpg 67.4\n",
      "4 6709.jpg 72.0\n",
      "5 6696.jpg 65.0\n",
      "6 6695.jpg 67.0\n"
     ]
    },
    {
     "data": {
      "text/html": [
       "<div>\n",
       "<style scoped>\n",
       "    .dataframe tbody tr th:only-of-type {\n",
       "        vertical-align: middle;\n",
       "    }\n",
       "\n",
       "    .dataframe tbody tr th {\n",
       "        vertical-align: top;\n",
       "    }\n",
       "\n",
       "    .dataframe thead th {\n",
       "        text-align: right;\n",
       "    }\n",
       "</style>\n",
       "<table border=\"1\" class=\"dataframe\">\n",
       "  <thead>\n",
       "    <tr style=\"text-align: right;\">\n",
       "      <th></th>\n",
       "      <th>model</th>\n",
       "      <th>subseq</th>\n",
       "      <th>peaks</th>\n",
       "      <th>binary</th>\n",
       "      <th>mwa</th>\n",
       "    </tr>\n",
       "  </thead>\n",
       "  <tbody>\n",
       "    <tr>\n",
       "      <th>0</th>\n",
       "      <td>Sobel</td>\n",
       "      <td>536.394654</td>\n",
       "      <td>86.031997</td>\n",
       "      <td>498.118184</td>\n",
       "      <td>140.291918</td>\n",
       "    </tr>\n",
       "  </tbody>\n",
       "</table>\n",
       "</div>"
      ],
      "text/plain": [
       "   model      subseq      peaks      binary         mwa\n",
       "0  Sobel  536.394654  86.031997  498.118184  140.291918"
      ]
     },
     "metadata": {},
     "output_type": "display_data"
    }
   ],
   "source": [
    "with_model(Model.SOBEL_EDGE, lines, points, data_dir, ranking_url, pith_url, rings_url, mse_url)"
   ]
  },
  {
   "cell_type": "code",
   "execution_count": 59,
   "id": "f083616c",
   "metadata": {},
   "outputs": [
    {
     "name": "stdout",
     "output_type": "stream",
     "text": [
      "0 6702.jpg 73.2\n",
      "1 6703.jpg 75.6\n",
      "2 6699.jpg 82.2\n",
      "3 6705.jpg 67.4\n",
      "4 6709.jpg 72.0\n",
      "5 6696.jpg 65.0\n",
      "6 6695.jpg 67.0\n"
     ]
    },
    {
     "data": {
      "text/html": [
       "<div>\n",
       "<style scoped>\n",
       "    .dataframe tbody tr th:only-of-type {\n",
       "        vertical-align: middle;\n",
       "    }\n",
       "\n",
       "    .dataframe tbody tr th {\n",
       "        vertical-align: top;\n",
       "    }\n",
       "\n",
       "    .dataframe thead th {\n",
       "        text-align: right;\n",
       "    }\n",
       "</style>\n",
       "<table border=\"1\" class=\"dataframe\">\n",
       "  <thead>\n",
       "    <tr style=\"text-align: right;\">\n",
       "      <th></th>\n",
       "      <th>model</th>\n",
       "      <th>subseq</th>\n",
       "      <th>peaks</th>\n",
       "      <th>binary</th>\n",
       "      <th>mwa</th>\n",
       "    </tr>\n",
       "  </thead>\n",
       "  <tbody>\n",
       "    <tr>\n",
       "      <th>0</th>\n",
       "      <td>Sobel(blur)</td>\n",
       "      <td>461.451601</td>\n",
       "      <td>42.205138</td>\n",
       "      <td>450.178794</td>\n",
       "      <td>80.714955</td>\n",
       "    </tr>\n",
       "  </tbody>\n",
       "</table>\n",
       "</div>"
      ],
      "text/plain": [
       "         model      subseq      peaks      binary        mwa\n",
       "0  Sobel(blur)  461.451601  42.205138  450.178794  80.714955"
      ]
     },
     "metadata": {},
     "output_type": "display_data"
    }
   ],
   "source": [
    "with_model(Model.SOBEL_EDGE_BLUR, lines, points, data_dir, ranking_url, pith_url, rings_url, mse_url)"
   ]
  },
  {
   "cell_type": "code",
   "execution_count": 60,
   "id": "101080e3",
   "metadata": {},
   "outputs": [
    {
     "name": "stdout",
     "output_type": "stream",
     "text": [
      "0 6702.jpg 73.2\n",
      "1 6703.jpg 75.6\n",
      "2 6699.jpg 82.2\n",
      "3 6705.jpg 67.4\n",
      "4 6709.jpg 72.0\n",
      "5 6696.jpg 65.0\n",
      "6 6695.jpg 67.0\n"
     ]
    },
    {
     "data": {
      "text/html": [
       "<div>\n",
       "<style scoped>\n",
       "    .dataframe tbody tr th:only-of-type {\n",
       "        vertical-align: middle;\n",
       "    }\n",
       "\n",
       "    .dataframe tbody tr th {\n",
       "        vertical-align: top;\n",
       "    }\n",
       "\n",
       "    .dataframe thead th {\n",
       "        text-align: right;\n",
       "    }\n",
       "</style>\n",
       "<table border=\"1\" class=\"dataframe\">\n",
       "  <thead>\n",
       "    <tr style=\"text-align: right;\">\n",
       "      <th></th>\n",
       "      <th>model</th>\n",
       "      <th>subseq</th>\n",
       "      <th>peaks</th>\n",
       "      <th>binary</th>\n",
       "      <th>mwa</th>\n",
       "    </tr>\n",
       "  </thead>\n",
       "  <tbody>\n",
       "    <tr>\n",
       "      <th>0</th>\n",
       "      <td>Canny</td>\n",
       "      <td>89.025076</td>\n",
       "      <td>49.500393</td>\n",
       "      <td>338.308545</td>\n",
       "      <td>242.393562</td>\n",
       "    </tr>\n",
       "  </tbody>\n",
       "</table>\n",
       "</div>"
      ],
      "text/plain": [
       "   model     subseq      peaks      binary         mwa\n",
       "0  Canny  89.025076  49.500393  338.308545  242.393562"
      ]
     },
     "metadata": {},
     "output_type": "display_data"
    }
   ],
   "source": [
    "with_model(Model.CANNY_EDGE, lines, points, data_dir, ranking_url, pith_url, rings_url, mse_url)"
   ]
  },
  {
   "cell_type": "code",
   "execution_count": 61,
   "id": "be8e36c6",
   "metadata": {},
   "outputs": [
    {
     "name": "stdout",
     "output_type": "stream",
     "text": [
      "0 6702.jpg 73.2\n",
      "1 6703.jpg 75.6\n",
      "2 6699.jpg 82.2\n",
      "3 6705.jpg 67.4\n",
      "4 6709.jpg 72.0\n",
      "5 6696.jpg 65.0\n",
      "6 6695.jpg 67.0\n"
     ]
    },
    {
     "data": {
      "text/html": [
       "<div>\n",
       "<style scoped>\n",
       "    .dataframe tbody tr th:only-of-type {\n",
       "        vertical-align: middle;\n",
       "    }\n",
       "\n",
       "    .dataframe tbody tr th {\n",
       "        vertical-align: top;\n",
       "    }\n",
       "\n",
       "    .dataframe thead th {\n",
       "        text-align: right;\n",
       "    }\n",
       "</style>\n",
       "<table border=\"1\" class=\"dataframe\">\n",
       "  <thead>\n",
       "    <tr style=\"text-align: right;\">\n",
       "      <th></th>\n",
       "      <th>model</th>\n",
       "      <th>subseq</th>\n",
       "      <th>peaks</th>\n",
       "      <th>binary</th>\n",
       "      <th>mwa</th>\n",
       "    </tr>\n",
       "  </thead>\n",
       "  <tbody>\n",
       "    <tr>\n",
       "      <th>0</th>\n",
       "      <td>Canny(otsu)</td>\n",
       "      <td>63.117868</td>\n",
       "      <td>36.367708</td>\n",
       "      <td>286.626496</td>\n",
       "      <td>197.575879</td>\n",
       "    </tr>\n",
       "  </tbody>\n",
       "</table>\n",
       "</div>"
      ],
      "text/plain": [
       "         model     subseq      peaks      binary         mwa\n",
       "0  Canny(otsu)  63.117868  36.367708  286.626496  197.575879"
      ]
     },
     "metadata": {},
     "output_type": "display_data"
    }
   ],
   "source": [
    "with_model(Model.CANNY_EDGE_OTSU, lines, points, data_dir, ranking_url, pith_url, rings_url, mse_url)"
   ]
  },
  {
   "cell_type": "code",
   "execution_count": 62,
   "id": "e897c89c",
   "metadata": {},
   "outputs": [
    {
     "name": "stdout",
     "output_type": "stream",
     "text": [
      "0 6702.jpg 73.2\n",
      "1 6703.jpg 75.6\n",
      "2 6699.jpg 82.2\n",
      "3 6705.jpg 67.4\n",
      "4 6709.jpg 72.0\n",
      "5 6696.jpg 65.0\n",
      "6 6695.jpg 67.0\n"
     ]
    },
    {
     "data": {
      "text/html": [
       "<div>\n",
       "<style scoped>\n",
       "    .dataframe tbody tr th:only-of-type {\n",
       "        vertical-align: middle;\n",
       "    }\n",
       "\n",
       "    .dataframe tbody tr th {\n",
       "        vertical-align: top;\n",
       "    }\n",
       "\n",
       "    .dataframe thead th {\n",
       "        text-align: right;\n",
       "    }\n",
       "</style>\n",
       "<table border=\"1\" class=\"dataframe\">\n",
       "  <thead>\n",
       "    <tr style=\"text-align: right;\">\n",
       "      <th></th>\n",
       "      <th>model</th>\n",
       "      <th>subseq</th>\n",
       "      <th>peaks</th>\n",
       "      <th>binary</th>\n",
       "      <th>mwa</th>\n",
       "    </tr>\n",
       "  </thead>\n",
       "  <tbody>\n",
       "    <tr>\n",
       "      <th>0</th>\n",
       "      <td>Canny(triangle)</td>\n",
       "      <td>87.439605</td>\n",
       "      <td>50.662274</td>\n",
       "      <td>314.897254</td>\n",
       "      <td>224.89164</td>\n",
       "    </tr>\n",
       "  </tbody>\n",
       "</table>\n",
       "</div>"
      ],
      "text/plain": [
       "             model     subseq      peaks      binary        mwa\n",
       "0  Canny(triangle)  87.439605  50.662274  314.897254  224.89164"
      ]
     },
     "metadata": {},
     "output_type": "display_data"
    }
   ],
   "source": [
    "with_model(Model.CANNY_EDGE_TRIANGLE, lines, points, data_dir, ranking_url, pith_url, rings_url, mse_url)"
   ]
  },
  {
   "cell_type": "code",
   "execution_count": 63,
   "id": "0e522b21",
   "metadata": {},
   "outputs": [
    {
     "name": "stdout",
     "output_type": "stream",
     "text": [
      "0 6702.jpg 73.2\n",
      "1 6703.jpg 75.6\n",
      "2 6699.jpg 82.2\n",
      "3 6705.jpg 67.4\n",
      "4 6709.jpg 72.0\n",
      "5 6696.jpg 65.0\n",
      "6 6695.jpg 67.0\n"
     ]
    },
    {
     "data": {
      "text/html": [
       "<div>\n",
       "<style scoped>\n",
       "    .dataframe tbody tr th:only-of-type {\n",
       "        vertical-align: middle;\n",
       "    }\n",
       "\n",
       "    .dataframe tbody tr th {\n",
       "        vertical-align: top;\n",
       "    }\n",
       "\n",
       "    .dataframe thead th {\n",
       "        text-align: right;\n",
       "    }\n",
       "</style>\n",
       "<table border=\"1\" class=\"dataframe\">\n",
       "  <thead>\n",
       "    <tr style=\"text-align: right;\">\n",
       "      <th></th>\n",
       "      <th>model</th>\n",
       "      <th>subseq</th>\n",
       "      <th>peaks</th>\n",
       "      <th>binary</th>\n",
       "      <th>mwa</th>\n",
       "    </tr>\n",
       "  </thead>\n",
       "  <tbody>\n",
       "    <tr>\n",
       "      <th>0</th>\n",
       "      <td>Canny(manual)</td>\n",
       "      <td>50.416642</td>\n",
       "      <td>33.416585</td>\n",
       "      <td>251.494217</td>\n",
       "      <td>169.800759</td>\n",
       "    </tr>\n",
       "  </tbody>\n",
       "</table>\n",
       "</div>"
      ],
      "text/plain": [
       "           model     subseq      peaks      binary         mwa\n",
       "0  Canny(manual)  50.416642  33.416585  251.494217  169.800759"
      ]
     },
     "metadata": {},
     "output_type": "display_data"
    }
   ],
   "source": [
    "with_model(Model.CANNY_EDGE_MANUAL, lines, points, data_dir, ranking_url, pith_url, rings_url, mse_url)"
   ]
  },
  {
   "cell_type": "code",
   "execution_count": 64,
   "id": "b02a4379",
   "metadata": {},
   "outputs": [
    {
     "name": "stdout",
     "output_type": "stream",
     "text": [
      "0 6702.jpg 73.2\n",
      "1 6703.jpg 75.6\n",
      "2 6699.jpg 82.2\n",
      "3 6705.jpg 67.4\n",
      "4 6709.jpg 72.0\n",
      "5 6696.jpg 65.0\n",
      "6 6695.jpg 67.0\n"
     ]
    },
    {
     "data": {
      "text/html": [
       "<div>\n",
       "<style scoped>\n",
       "    .dataframe tbody tr th:only-of-type {\n",
       "        vertical-align: middle;\n",
       "    }\n",
       "\n",
       "    .dataframe tbody tr th {\n",
       "        vertical-align: top;\n",
       "    }\n",
       "\n",
       "    .dataframe thead th {\n",
       "        text-align: right;\n",
       "    }\n",
       "</style>\n",
       "<table border=\"1\" class=\"dataframe\">\n",
       "  <thead>\n",
       "    <tr style=\"text-align: right;\">\n",
       "      <th></th>\n",
       "      <th>model</th>\n",
       "      <th>subseq</th>\n",
       "      <th>peaks</th>\n",
       "      <th>binary</th>\n",
       "      <th>mwa</th>\n",
       "    </tr>\n",
       "  </thead>\n",
       "  <tbody>\n",
       "    <tr>\n",
       "      <th>0</th>\n",
       "      <td>Canny(blur)</td>\n",
       "      <td>44.425559</td>\n",
       "      <td>30.166533</td>\n",
       "      <td>252.281675</td>\n",
       "      <td>168.407171</td>\n",
       "    </tr>\n",
       "  </tbody>\n",
       "</table>\n",
       "</div>"
      ],
      "text/plain": [
       "         model     subseq      peaks      binary         mwa\n",
       "0  Canny(blur)  44.425559  30.166533  252.281675  168.407171"
      ]
     },
     "metadata": {},
     "output_type": "display_data"
    }
   ],
   "source": [
    "with_model(Model.CANNY_EDGE_BLUR, lines, points, data_dir, ranking_url, pith_url, rings_url, mse_url)"
   ]
  },
  {
   "cell_type": "code",
   "execution_count": 65,
   "id": "ae1a8c71",
   "metadata": {},
   "outputs": [
    {
     "name": "stdout",
     "output_type": "stream",
     "text": [
      "0 6702.jpg 73.2\n",
      "1 6703.jpg 75.6\n",
      "2 6699.jpg 82.2\n",
      "3 6705.jpg 67.4\n",
      "4 6709.jpg 72.0\n",
      "5 6696.jpg 65.0\n",
      "6 6695.jpg 67.0\n"
     ]
    },
    {
     "data": {
      "text/html": [
       "<div>\n",
       "<style scoped>\n",
       "    .dataframe tbody tr th:only-of-type {\n",
       "        vertical-align: middle;\n",
       "    }\n",
       "\n",
       "    .dataframe tbody tr th {\n",
       "        vertical-align: top;\n",
       "    }\n",
       "\n",
       "    .dataframe thead th {\n",
       "        text-align: right;\n",
       "    }\n",
       "</style>\n",
       "<table border=\"1\" class=\"dataframe\">\n",
       "  <thead>\n",
       "    <tr style=\"text-align: right;\">\n",
       "      <th></th>\n",
       "      <th>model</th>\n",
       "      <th>subseq</th>\n",
       "      <th>peaks</th>\n",
       "      <th>binary</th>\n",
       "      <th>mwa</th>\n",
       "    </tr>\n",
       "  </thead>\n",
       "  <tbody>\n",
       "    <tr>\n",
       "      <th>0</th>\n",
       "      <td>Canny(blur otsu)</td>\n",
       "      <td>34.530172</td>\n",
       "      <td>31.668815</td>\n",
       "      <td>202.865518</td>\n",
       "      <td>126.911304</td>\n",
       "    </tr>\n",
       "  </tbody>\n",
       "</table>\n",
       "</div>"
      ],
      "text/plain": [
       "              model     subseq      peaks      binary         mwa\n",
       "0  Canny(blur otsu)  34.530172  31.668815  202.865518  126.911304"
      ]
     },
     "metadata": {},
     "output_type": "display_data"
    }
   ],
   "source": [
    "with_model(Model.CANNY_EDGE_BLUR_OTSU, lines, points, data_dir, ranking_url, pith_url, rings_url, mse_url)"
   ]
  },
  {
   "cell_type": "code",
   "execution_count": 66,
   "id": "e3c6f47d",
   "metadata": {},
   "outputs": [
    {
     "name": "stdout",
     "output_type": "stream",
     "text": [
      "0 6702.jpg 73.2\n",
      "1 6703.jpg 75.6\n",
      "2 6699.jpg 82.2\n",
      "3 6705.jpg 67.4\n",
      "4 6709.jpg 72.0\n",
      "5 6696.jpg 65.0\n",
      "6 6695.jpg 67.0\n"
     ]
    },
    {
     "data": {
      "text/html": [
       "<div>\n",
       "<style scoped>\n",
       "    .dataframe tbody tr th:only-of-type {\n",
       "        vertical-align: middle;\n",
       "    }\n",
       "\n",
       "    .dataframe tbody tr th {\n",
       "        vertical-align: top;\n",
       "    }\n",
       "\n",
       "    .dataframe thead th {\n",
       "        text-align: right;\n",
       "    }\n",
       "</style>\n",
       "<table border=\"1\" class=\"dataframe\">\n",
       "  <thead>\n",
       "    <tr style=\"text-align: right;\">\n",
       "      <th></th>\n",
       "      <th>model</th>\n",
       "      <th>subseq</th>\n",
       "      <th>peaks</th>\n",
       "      <th>binary</th>\n",
       "      <th>mwa</th>\n",
       "    </tr>\n",
       "  </thead>\n",
       "  <tbody>\n",
       "    <tr>\n",
       "      <th>0</th>\n",
       "      <td>Canny(blur triangle)</td>\n",
       "      <td>53.180263</td>\n",
       "      <td>40.255288</td>\n",
       "      <td>239.112987</td>\n",
       "      <td>165.703875</td>\n",
       "    </tr>\n",
       "  </tbody>\n",
       "</table>\n",
       "</div>"
      ],
      "text/plain": [
       "                  model     subseq      peaks      binary         mwa\n",
       "0  Canny(blur triangle)  53.180263  40.255288  239.112987  165.703875"
      ]
     },
     "metadata": {},
     "output_type": "display_data"
    }
   ],
   "source": [
    "with_model(Model.CANNY_EDGE_BLUR_TRIANGLE, lines, points, data_dir, ranking_url, pith_url, rings_url, mse_url)"
   ]
  },
  {
   "cell_type": "code",
   "execution_count": 67,
   "id": "4ba5f8d9",
   "metadata": {},
   "outputs": [
    {
     "name": "stdout",
     "output_type": "stream",
     "text": [
      "0 6702.jpg 73.2\n",
      "1 6703.jpg 75.6\n",
      "2 6699.jpg 82.2\n",
      "3 6705.jpg 67.4\n",
      "4 6709.jpg 72.0\n",
      "5 6696.jpg 65.0\n",
      "6 6695.jpg 67.0\n"
     ]
    },
    {
     "data": {
      "text/html": [
       "<div>\n",
       "<style scoped>\n",
       "    .dataframe tbody tr th:only-of-type {\n",
       "        vertical-align: middle;\n",
       "    }\n",
       "\n",
       "    .dataframe tbody tr th {\n",
       "        vertical-align: top;\n",
       "    }\n",
       "\n",
       "    .dataframe thead th {\n",
       "        text-align: right;\n",
       "    }\n",
       "</style>\n",
       "<table border=\"1\" class=\"dataframe\">\n",
       "  <thead>\n",
       "    <tr style=\"text-align: right;\">\n",
       "      <th></th>\n",
       "      <th>model</th>\n",
       "      <th>subseq</th>\n",
       "      <th>peaks</th>\n",
       "      <th>binary</th>\n",
       "      <th>mwa</th>\n",
       "    </tr>\n",
       "  </thead>\n",
       "  <tbody>\n",
       "    <tr>\n",
       "      <th>0</th>\n",
       "      <td>Canny(blur manual)</td>\n",
       "      <td>36.891216</td>\n",
       "      <td>39.244307</td>\n",
       "      <td>161.218786</td>\n",
       "      <td>96.559565</td>\n",
       "    </tr>\n",
       "  </tbody>\n",
       "</table>\n",
       "</div>"
      ],
      "text/plain": [
       "                model     subseq      peaks      binary        mwa\n",
       "0  Canny(blur manual)  36.891216  39.244307  161.218786  96.559565"
      ]
     },
     "metadata": {},
     "output_type": "display_data"
    }
   ],
   "source": [
    "with_model(Model.CANNY_EDGE_BLUR_MANUAL, lines, points, data_dir, ranking_url, pith_url, rings_url, mse_url)"
   ]
  },
  {
   "cell_type": "code",
   "execution_count": 68,
   "id": "9ad7338d",
   "metadata": {},
   "outputs": [
    {
     "name": "stdout",
     "output_type": "stream",
     "text": [
      "0 6702.jpg 73.2\n",
      "1 6703.jpg 75.6\n",
      "2 6699.jpg 82.2\n",
      "3 6705.jpg 67.4\n",
      "4 6709.jpg 72.0\n",
      "5 6696.jpg 65.0\n",
      "6 6695.jpg 67.0\n"
     ]
    },
    {
     "data": {
      "text/html": [
       "<div>\n",
       "<style scoped>\n",
       "    .dataframe tbody tr th:only-of-type {\n",
       "        vertical-align: middle;\n",
       "    }\n",
       "\n",
       "    .dataframe tbody tr th {\n",
       "        vertical-align: top;\n",
       "    }\n",
       "\n",
       "    .dataframe thead th {\n",
       "        text-align: right;\n",
       "    }\n",
       "</style>\n",
       "<table border=\"1\" class=\"dataframe\">\n",
       "  <thead>\n",
       "    <tr style=\"text-align: right;\">\n",
       "      <th></th>\n",
       "      <th>model</th>\n",
       "      <th>subseq</th>\n",
       "      <th>peaks</th>\n",
       "      <th>binary</th>\n",
       "      <th>mwa</th>\n",
       "    </tr>\n",
       "  </thead>\n",
       "  <tbody>\n",
       "    <tr>\n",
       "      <th>0</th>\n",
       "      <td>Laplacian</td>\n",
       "      <td>638.407344</td>\n",
       "      <td>188.958791</td>\n",
       "      <td>606.337941</td>\n",
       "      <td>249.628017</td>\n",
       "    </tr>\n",
       "  </tbody>\n",
       "</table>\n",
       "</div>"
      ],
      "text/plain": [
       "       model      subseq       peaks      binary         mwa\n",
       "0  Laplacian  638.407344  188.958791  606.337941  249.628017"
      ]
     },
     "metadata": {},
     "output_type": "display_data"
    }
   ],
   "source": [
    "with_model(Model.LAPLACIAN_EDGE, lines, points, data_dir, ranking_url, pith_url, rings_url, mse_url)"
   ]
  },
  {
   "cell_type": "code",
   "execution_count": 69,
   "id": "db5ab52b",
   "metadata": {},
   "outputs": [
    {
     "name": "stdout",
     "output_type": "stream",
     "text": [
      "0 6702.jpg 73.2\n",
      "1 6703.jpg 75.6\n",
      "2 6699.jpg 82.2\n",
      "3 6705.jpg 67.4\n",
      "4 6709.jpg 72.0\n",
      "5 6696.jpg 65.0\n",
      "6 6695.jpg 67.0\n"
     ]
    },
    {
     "data": {
      "text/html": [
       "<div>\n",
       "<style scoped>\n",
       "    .dataframe tbody tr th:only-of-type {\n",
       "        vertical-align: middle;\n",
       "    }\n",
       "\n",
       "    .dataframe tbody tr th {\n",
       "        vertical-align: top;\n",
       "    }\n",
       "\n",
       "    .dataframe thead th {\n",
       "        text-align: right;\n",
       "    }\n",
       "</style>\n",
       "<table border=\"1\" class=\"dataframe\">\n",
       "  <thead>\n",
       "    <tr style=\"text-align: right;\">\n",
       "      <th></th>\n",
       "      <th>model</th>\n",
       "      <th>subseq</th>\n",
       "      <th>peaks</th>\n",
       "      <th>binary</th>\n",
       "      <th>mwa</th>\n",
       "    </tr>\n",
       "  </thead>\n",
       "  <tbody>\n",
       "    <tr>\n",
       "      <th>0</th>\n",
       "      <td>Laplacian(blur)</td>\n",
       "      <td>563.753971</td>\n",
       "      <td>91.888526</td>\n",
       "      <td>569.002135</td>\n",
       "      <td>94.553105</td>\n",
       "    </tr>\n",
       "  </tbody>\n",
       "</table>\n",
       "</div>"
      ],
      "text/plain": [
       "             model      subseq      peaks      binary        mwa\n",
       "0  Laplacian(blur)  563.753971  91.888526  569.002135  94.553105"
      ]
     },
     "metadata": {},
     "output_type": "display_data"
    }
   ],
   "source": [
    "with_model(Model.LAPLACIAN_EDGE_BLUR, lines, points, data_dir, ranking_url, pith_url, rings_url, mse_url)"
   ]
  },
  {
   "cell_type": "code",
   "execution_count": null,
   "id": "9e211888",
   "metadata": {},
   "outputs": [],
   "source": []
  },
  {
   "cell_type": "code",
   "execution_count": 70,
   "id": "a457cf44",
   "metadata": {},
   "outputs": [
    {
     "name": "stdout",
     "output_type": "stream",
     "text": [
      "0 6702.jpg 73.2\n",
      "1 6703.jpg 75.6\n",
      "2 6699.jpg 82.2\n",
      "3 6705.jpg 67.4\n",
      "4 6709.jpg 72.0\n",
      "5 6696.jpg 65.0\n",
      "6 6695.jpg 67.0\n"
     ]
    },
    {
     "data": {
      "text/html": [
       "<div>\n",
       "<style scoped>\n",
       "    .dataframe tbody tr th:only-of-type {\n",
       "        vertical-align: middle;\n",
       "    }\n",
       "\n",
       "    .dataframe tbody tr th {\n",
       "        vertical-align: top;\n",
       "    }\n",
       "\n",
       "    .dataframe thead th {\n",
       "        text-align: right;\n",
       "    }\n",
       "</style>\n",
       "<table border=\"1\" class=\"dataframe\">\n",
       "  <thead>\n",
       "    <tr style=\"text-align: right;\">\n",
       "      <th></th>\n",
       "      <th>model</th>\n",
       "      <th>subseq</th>\n",
       "      <th>peaks</th>\n",
       "      <th>binary</th>\n",
       "      <th>mwa</th>\n",
       "    </tr>\n",
       "  </thead>\n",
       "  <tbody>\n",
       "    <tr>\n",
       "      <th>0</th>\n",
       "      <td>Polar Sobel</td>\n",
       "      <td>450.853589</td>\n",
       "      <td>16.879064</td>\n",
       "      <td>414.984322</td>\n",
       "      <td>53.942957</td>\n",
       "    </tr>\n",
       "  </tbody>\n",
       "</table>\n",
       "</div>"
      ],
      "text/plain": [
       "         model      subseq      peaks      binary        mwa\n",
       "0  Polar Sobel  450.853589  16.879064  414.984322  53.942957"
      ]
     },
     "metadata": {},
     "output_type": "display_data"
    }
   ],
   "source": [
    "with_model(Model.POLAR_SOBEL_EDGE, lines, points, data_dir, ranking_url, pith_url, rings_url, mse_url)"
   ]
  },
  {
   "cell_type": "code",
   "execution_count": 71,
   "id": "5c1458e8",
   "metadata": {},
   "outputs": [
    {
     "name": "stdout",
     "output_type": "stream",
     "text": [
      "0 6702.jpg 73.2\n",
      "1 6703.jpg 75.6\n",
      "2 6699.jpg 82.2\n",
      "3 6705.jpg 67.4\n",
      "4 6709.jpg 72.0\n",
      "5 6696.jpg 65.0\n",
      "6 6695.jpg 67.0\n"
     ]
    },
    {
     "data": {
      "text/html": [
       "<div>\n",
       "<style scoped>\n",
       "    .dataframe tbody tr th:only-of-type {\n",
       "        vertical-align: middle;\n",
       "    }\n",
       "\n",
       "    .dataframe tbody tr th {\n",
       "        vertical-align: top;\n",
       "    }\n",
       "\n",
       "    .dataframe thead th {\n",
       "        text-align: right;\n",
       "    }\n",
       "</style>\n",
       "<table border=\"1\" class=\"dataframe\">\n",
       "  <thead>\n",
       "    <tr style=\"text-align: right;\">\n",
       "      <th></th>\n",
       "      <th>model</th>\n",
       "      <th>subseq</th>\n",
       "      <th>peaks</th>\n",
       "      <th>binary</th>\n",
       "      <th>mwa</th>\n",
       "    </tr>\n",
       "  </thead>\n",
       "  <tbody>\n",
       "    <tr>\n",
       "      <th>0</th>\n",
       "      <td>Polar Sobel(blur)</td>\n",
       "      <td>332.261992</td>\n",
       "      <td>39.964841</td>\n",
       "      <td>343.482892</td>\n",
       "      <td>16.046394</td>\n",
       "    </tr>\n",
       "  </tbody>\n",
       "</table>\n",
       "</div>"
      ],
      "text/plain": [
       "               model      subseq      peaks      binary        mwa\n",
       "0  Polar Sobel(blur)  332.261992  39.964841  343.482892  16.046394"
      ]
     },
     "metadata": {},
     "output_type": "display_data"
    }
   ],
   "source": [
    "with_model(Model.POLAR_SOBEL_EDGE_BLUR, lines, points, data_dir, ranking_url, pith_url, rings_url, mse_url)"
   ]
  },
  {
   "cell_type": "code",
   "execution_count": 72,
   "id": "f7ec55bb",
   "metadata": {},
   "outputs": [
    {
     "name": "stdout",
     "output_type": "stream",
     "text": [
      "0 6702.jpg 73.2\n",
      "1 6703.jpg 75.6\n",
      "2 6699.jpg 82.2\n",
      "3 6705.jpg 67.4\n",
      "4 6709.jpg 72.0\n",
      "5 6696.jpg 65.0\n",
      "6 6695.jpg 67.0\n"
     ]
    },
    {
     "data": {
      "text/html": [
       "<div>\n",
       "<style scoped>\n",
       "    .dataframe tbody tr th:only-of-type {\n",
       "        vertical-align: middle;\n",
       "    }\n",
       "\n",
       "    .dataframe tbody tr th {\n",
       "        vertical-align: top;\n",
       "    }\n",
       "\n",
       "    .dataframe thead th {\n",
       "        text-align: right;\n",
       "    }\n",
       "</style>\n",
       "<table border=\"1\" class=\"dataframe\">\n",
       "  <thead>\n",
       "    <tr style=\"text-align: right;\">\n",
       "      <th></th>\n",
       "      <th>model</th>\n",
       "      <th>subseq</th>\n",
       "      <th>peaks</th>\n",
       "      <th>binary</th>\n",
       "      <th>mwa</th>\n",
       "    </tr>\n",
       "  </thead>\n",
       "  <tbody>\n",
       "    <tr>\n",
       "      <th>0</th>\n",
       "      <td>Polar Canny</td>\n",
       "      <td>14.391368</td>\n",
       "      <td>24.682555</td>\n",
       "      <td>183.825499</td>\n",
       "      <td>111.716251</td>\n",
       "    </tr>\n",
       "  </tbody>\n",
       "</table>\n",
       "</div>"
      ],
      "text/plain": [
       "         model     subseq      peaks      binary         mwa\n",
       "0  Polar Canny  14.391368  24.682555  183.825499  111.716251"
      ]
     },
     "metadata": {},
     "output_type": "display_data"
    }
   ],
   "source": [
    "with_model(Model.POLAR_CANNY_EDGE, lines, points, data_dir, ranking_url, pith_url, rings_url, mse_url)"
   ]
  },
  {
   "cell_type": "code",
   "execution_count": 73,
   "id": "4460084e",
   "metadata": {},
   "outputs": [
    {
     "name": "stdout",
     "output_type": "stream",
     "text": [
      "0 6702.jpg 73.2\n",
      "1 6703.jpg 75.6\n",
      "2 6699.jpg 82.2\n",
      "3 6705.jpg 67.4\n",
      "4 6709.jpg 72.0\n",
      "5 6696.jpg 65.0\n",
      "6 6695.jpg 67.0\n"
     ]
    },
    {
     "data": {
      "text/html": [
       "<div>\n",
       "<style scoped>\n",
       "    .dataframe tbody tr th:only-of-type {\n",
       "        vertical-align: middle;\n",
       "    }\n",
       "\n",
       "    .dataframe tbody tr th {\n",
       "        vertical-align: top;\n",
       "    }\n",
       "\n",
       "    .dataframe thead th {\n",
       "        text-align: right;\n",
       "    }\n",
       "</style>\n",
       "<table border=\"1\" class=\"dataframe\">\n",
       "  <thead>\n",
       "    <tr style=\"text-align: right;\">\n",
       "      <th></th>\n",
       "      <th>model</th>\n",
       "      <th>subseq</th>\n",
       "      <th>peaks</th>\n",
       "      <th>binary</th>\n",
       "      <th>mwa</th>\n",
       "    </tr>\n",
       "  </thead>\n",
       "  <tbody>\n",
       "    <tr>\n",
       "      <th>0</th>\n",
       "      <td>Polar Canny(otsu)</td>\n",
       "      <td>15.224942</td>\n",
       "      <td>16.943082</td>\n",
       "      <td>219.723421</td>\n",
       "      <td>141.663286</td>\n",
       "    </tr>\n",
       "  </tbody>\n",
       "</table>\n",
       "</div>"
      ],
      "text/plain": [
       "               model     subseq      peaks      binary         mwa\n",
       "0  Polar Canny(otsu)  15.224942  16.943082  219.723421  141.663286"
      ]
     },
     "metadata": {},
     "output_type": "display_data"
    }
   ],
   "source": [
    "with_model(Model.POLAR_CANNY_EDGE_OTSU, lines, points, data_dir, ranking_url, pith_url, rings_url, mse_url)"
   ]
  },
  {
   "cell_type": "code",
   "execution_count": 74,
   "id": "017919fc",
   "metadata": {},
   "outputs": [
    {
     "name": "stdout",
     "output_type": "stream",
     "text": [
      "0 6702.jpg 73.2\n",
      "1 6703.jpg 75.6\n",
      "2 6699.jpg 82.2\n",
      "3 6705.jpg 67.4\n",
      "4 6709.jpg 72.0\n",
      "5 6696.jpg 65.0\n",
      "6 6695.jpg 67.0\n"
     ]
    },
    {
     "data": {
      "text/html": [
       "<div>\n",
       "<style scoped>\n",
       "    .dataframe tbody tr th:only-of-type {\n",
       "        vertical-align: middle;\n",
       "    }\n",
       "\n",
       "    .dataframe tbody tr th {\n",
       "        vertical-align: top;\n",
       "    }\n",
       "\n",
       "    .dataframe thead th {\n",
       "        text-align: right;\n",
       "    }\n",
       "</style>\n",
       "<table border=\"1\" class=\"dataframe\">\n",
       "  <thead>\n",
       "    <tr style=\"text-align: right;\">\n",
       "      <th></th>\n",
       "      <th>model</th>\n",
       "      <th>subseq</th>\n",
       "      <th>peaks</th>\n",
       "      <th>binary</th>\n",
       "      <th>mwa</th>\n",
       "    </tr>\n",
       "  </thead>\n",
       "  <tbody>\n",
       "    <tr>\n",
       "      <th>0</th>\n",
       "      <td>Polar Canny(triangle)</td>\n",
       "      <td>76.008839</td>\n",
       "      <td>37.111177</td>\n",
       "      <td>338.766576</td>\n",
       "      <td>241.952106</td>\n",
       "    </tr>\n",
       "  </tbody>\n",
       "</table>\n",
       "</div>"
      ],
      "text/plain": [
       "                   model     subseq      peaks      binary         mwa\n",
       "0  Polar Canny(triangle)  76.008839  37.111177  338.766576  241.952106"
      ]
     },
     "metadata": {},
     "output_type": "display_data"
    }
   ],
   "source": [
    "with_model(Model.POLAR_CANNY_EDGE_TRIANGLE, lines, points, data_dir, ranking_url, pith_url, rings_url, mse_url)"
   ]
  },
  {
   "cell_type": "code",
   "execution_count": 75,
   "id": "3b2931e8",
   "metadata": {},
   "outputs": [
    {
     "name": "stdout",
     "output_type": "stream",
     "text": [
      "0 6702.jpg 73.2\n",
      "1 6703.jpg 75.6\n",
      "2 6699.jpg 82.2\n",
      "3 6705.jpg 67.4\n",
      "4 6709.jpg 72.0\n",
      "5 6696.jpg 65.0\n",
      "6 6695.jpg 67.0\n"
     ]
    },
    {
     "data": {
      "text/html": [
       "<div>\n",
       "<style scoped>\n",
       "    .dataframe tbody tr th:only-of-type {\n",
       "        vertical-align: middle;\n",
       "    }\n",
       "\n",
       "    .dataframe tbody tr th {\n",
       "        vertical-align: top;\n",
       "    }\n",
       "\n",
       "    .dataframe thead th {\n",
       "        text-align: right;\n",
       "    }\n",
       "</style>\n",
       "<table border=\"1\" class=\"dataframe\">\n",
       "  <thead>\n",
       "    <tr style=\"text-align: right;\">\n",
       "      <th></th>\n",
       "      <th>model</th>\n",
       "      <th>subseq</th>\n",
       "      <th>peaks</th>\n",
       "      <th>binary</th>\n",
       "      <th>mwa</th>\n",
       "    </tr>\n",
       "  </thead>\n",
       "  <tbody>\n",
       "    <tr>\n",
       "      <th>0</th>\n",
       "      <td>Polar Canny(manual)</td>\n",
       "      <td>31.969004</td>\n",
       "      <td>39.270771</td>\n",
       "      <td>137.496762</td>\n",
       "      <td>75.515295</td>\n",
       "    </tr>\n",
       "  </tbody>\n",
       "</table>\n",
       "</div>"
      ],
      "text/plain": [
       "                 model     subseq      peaks      binary        mwa\n",
       "0  Polar Canny(manual)  31.969004  39.270771  137.496762  75.515295"
      ]
     },
     "metadata": {},
     "output_type": "display_data"
    }
   ],
   "source": [
    "with_model(Model.POLAR_CANNY_EDGE_MANUAL, lines, points, data_dir, ranking_url, pith_url, rings_url, mse_url)"
   ]
  },
  {
   "cell_type": "code",
   "execution_count": 76,
   "id": "6e87c599",
   "metadata": {},
   "outputs": [
    {
     "name": "stdout",
     "output_type": "stream",
     "text": [
      "0 6702.jpg 73.2\n",
      "1 6703.jpg 75.6\n",
      "2 6699.jpg 82.2\n",
      "3 6705.jpg 67.4\n",
      "4 6709.jpg 72.0\n",
      "5 6696.jpg 65.0\n",
      "6 6695.jpg 67.0\n"
     ]
    },
    {
     "data": {
      "text/html": [
       "<div>\n",
       "<style scoped>\n",
       "    .dataframe tbody tr th:only-of-type {\n",
       "        vertical-align: middle;\n",
       "    }\n",
       "\n",
       "    .dataframe tbody tr th {\n",
       "        vertical-align: top;\n",
       "    }\n",
       "\n",
       "    .dataframe thead th {\n",
       "        text-align: right;\n",
       "    }\n",
       "</style>\n",
       "<table border=\"1\" class=\"dataframe\">\n",
       "  <thead>\n",
       "    <tr style=\"text-align: right;\">\n",
       "      <th></th>\n",
       "      <th>model</th>\n",
       "      <th>subseq</th>\n",
       "      <th>peaks</th>\n",
       "      <th>binary</th>\n",
       "      <th>mwa</th>\n",
       "    </tr>\n",
       "  </thead>\n",
       "  <tbody>\n",
       "    <tr>\n",
       "      <th>0</th>\n",
       "      <td>Polar Canny(blur)</td>\n",
       "      <td>38.571391</td>\n",
       "      <td>43.922999</td>\n",
       "      <td>109.070373</td>\n",
       "      <td>52.754615</td>\n",
       "    </tr>\n",
       "  </tbody>\n",
       "</table>\n",
       "</div>"
      ],
      "text/plain": [
       "               model     subseq      peaks      binary        mwa\n",
       "0  Polar Canny(blur)  38.571391  43.922999  109.070373  52.754615"
      ]
     },
     "metadata": {},
     "output_type": "display_data"
    }
   ],
   "source": [
    "with_model(Model.POLAR_CANNY_EDGE_BLUR, lines, points, data_dir, ranking_url, pith_url, rings_url, mse_url)"
   ]
  },
  {
   "cell_type": "code",
   "execution_count": 77,
   "id": "30d378f9",
   "metadata": {},
   "outputs": [
    {
     "name": "stdout",
     "output_type": "stream",
     "text": [
      "0 6702.jpg 73.2\n",
      "1 6703.jpg 75.6\n",
      "2 6699.jpg 82.2\n",
      "3 6705.jpg 67.4\n",
      "4 6709.jpg 72.0\n",
      "5 6696.jpg 65.0\n",
      "6 6695.jpg 67.0\n"
     ]
    },
    {
     "data": {
      "text/html": [
       "<div>\n",
       "<style scoped>\n",
       "    .dataframe tbody tr th:only-of-type {\n",
       "        vertical-align: middle;\n",
       "    }\n",
       "\n",
       "    .dataframe tbody tr th {\n",
       "        vertical-align: top;\n",
       "    }\n",
       "\n",
       "    .dataframe thead th {\n",
       "        text-align: right;\n",
       "    }\n",
       "</style>\n",
       "<table border=\"1\" class=\"dataframe\">\n",
       "  <thead>\n",
       "    <tr style=\"text-align: right;\">\n",
       "      <th></th>\n",
       "      <th>model</th>\n",
       "      <th>subseq</th>\n",
       "      <th>peaks</th>\n",
       "      <th>binary</th>\n",
       "      <th>mwa</th>\n",
       "    </tr>\n",
       "  </thead>\n",
       "  <tbody>\n",
       "    <tr>\n",
       "      <th>0</th>\n",
       "      <td>Polar Canny(blur otsu)</td>\n",
       "      <td>28.298851</td>\n",
       "      <td>34.899375</td>\n",
       "      <td>155.607028</td>\n",
       "      <td>87.56727</td>\n",
       "    </tr>\n",
       "  </tbody>\n",
       "</table>\n",
       "</div>"
      ],
      "text/plain": [
       "                    model     subseq      peaks      binary       mwa\n",
       "0  Polar Canny(blur otsu)  28.298851  34.899375  155.607028  87.56727"
      ]
     },
     "metadata": {},
     "output_type": "display_data"
    }
   ],
   "source": [
    "with_model(Model.POLAR_CANNY_EDGE_BLUR_OTSU, lines, points, data_dir, ranking_url, pith_url, rings_url, mse_url)"
   ]
  },
  {
   "cell_type": "code",
   "execution_count": 78,
   "id": "5c0c5c18",
   "metadata": {},
   "outputs": [
    {
     "name": "stdout",
     "output_type": "stream",
     "text": [
      "0 6702.jpg 73.2\n",
      "1 6703.jpg 75.6\n",
      "2 6699.jpg 82.2\n",
      "3 6705.jpg 67.4\n",
      "4 6709.jpg 72.0\n",
      "5 6696.jpg 65.0\n",
      "6 6695.jpg 67.0\n"
     ]
    },
    {
     "data": {
      "text/html": [
       "<div>\n",
       "<style scoped>\n",
       "    .dataframe tbody tr th:only-of-type {\n",
       "        vertical-align: middle;\n",
       "    }\n",
       "\n",
       "    .dataframe tbody tr th {\n",
       "        vertical-align: top;\n",
       "    }\n",
       "\n",
       "    .dataframe thead th {\n",
       "        text-align: right;\n",
       "    }\n",
       "</style>\n",
       "<table border=\"1\" class=\"dataframe\">\n",
       "  <thead>\n",
       "    <tr style=\"text-align: right;\">\n",
       "      <th></th>\n",
       "      <th>model</th>\n",
       "      <th>subseq</th>\n",
       "      <th>peaks</th>\n",
       "      <th>binary</th>\n",
       "      <th>mwa</th>\n",
       "    </tr>\n",
       "  </thead>\n",
       "  <tbody>\n",
       "    <tr>\n",
       "      <th>0</th>\n",
       "      <td>Polar Canny(blur triangle)</td>\n",
       "      <td>37.395987</td>\n",
       "      <td>17.791258</td>\n",
       "      <td>291.920253</td>\n",
       "      <td>205.275476</td>\n",
       "    </tr>\n",
       "  </tbody>\n",
       "</table>\n",
       "</div>"
      ],
      "text/plain": [
       "                        model     subseq      peaks      binary         mwa\n",
       "0  Polar Canny(blur triangle)  37.395987  17.791258  291.920253  205.275476"
      ]
     },
     "metadata": {},
     "output_type": "display_data"
    }
   ],
   "source": [
    "with_model(Model.POLAR_CANNY_EDGE_BLUR_TRIANGLE, lines, points, data_dir, ranking_url, pith_url, rings_url, mse_url)"
   ]
  },
  {
   "cell_type": "code",
   "execution_count": 79,
   "id": "e723d879",
   "metadata": {},
   "outputs": [
    {
     "name": "stdout",
     "output_type": "stream",
     "text": [
      "0 6702.jpg 73.2\n",
      "1 6703.jpg 75.6\n",
      "2 6699.jpg 82.2\n",
      "3 6705.jpg 67.4\n",
      "4 6709.jpg 72.0\n",
      "5 6696.jpg 65.0\n",
      "6 6695.jpg 67.0\n"
     ]
    },
    {
     "data": {
      "text/html": [
       "<div>\n",
       "<style scoped>\n",
       "    .dataframe tbody tr th:only-of-type {\n",
       "        vertical-align: middle;\n",
       "    }\n",
       "\n",
       "    .dataframe tbody tr th {\n",
       "        vertical-align: top;\n",
       "    }\n",
       "\n",
       "    .dataframe thead th {\n",
       "        text-align: right;\n",
       "    }\n",
       "</style>\n",
       "<table border=\"1\" class=\"dataframe\">\n",
       "  <thead>\n",
       "    <tr style=\"text-align: right;\">\n",
       "      <th></th>\n",
       "      <th>model</th>\n",
       "      <th>subseq</th>\n",
       "      <th>peaks</th>\n",
       "      <th>binary</th>\n",
       "      <th>mwa</th>\n",
       "    </tr>\n",
       "  </thead>\n",
       "  <tbody>\n",
       "    <tr>\n",
       "      <th>0</th>\n",
       "      <td>Polar Canny(blur manual)</td>\n",
       "      <td>52.609574</td>\n",
       "      <td>55.501187</td>\n",
       "      <td>68.585833</td>\n",
       "      <td>33.156186</td>\n",
       "    </tr>\n",
       "  </tbody>\n",
       "</table>\n",
       "</div>"
      ],
      "text/plain": [
       "                      model     subseq      peaks     binary        mwa\n",
       "0  Polar Canny(blur manual)  52.609574  55.501187  68.585833  33.156186"
      ]
     },
     "metadata": {},
     "output_type": "display_data"
    }
   ],
   "source": [
    "with_model(Model.POLAR_CANNY_EDGE_BLUR_MANUAL, lines, points, data_dir, ranking_url, pith_url, rings_url, mse_url)"
   ]
  },
  {
   "cell_type": "code",
   "execution_count": 80,
   "id": "e6d36f26",
   "metadata": {},
   "outputs": [
    {
     "name": "stdout",
     "output_type": "stream",
     "text": [
      "0 6702.jpg 73.2\n",
      "1 6703.jpg 75.6\n",
      "2 6699.jpg 82.2\n",
      "3 6705.jpg 67.4\n",
      "4 6709.jpg 72.0\n",
      "5 6696.jpg 65.0\n",
      "6 6695.jpg 67.0\n"
     ]
    },
    {
     "data": {
      "text/html": [
       "<div>\n",
       "<style scoped>\n",
       "    .dataframe tbody tr th:only-of-type {\n",
       "        vertical-align: middle;\n",
       "    }\n",
       "\n",
       "    .dataframe tbody tr th {\n",
       "        vertical-align: top;\n",
       "    }\n",
       "\n",
       "    .dataframe thead th {\n",
       "        text-align: right;\n",
       "    }\n",
       "</style>\n",
       "<table border=\"1\" class=\"dataframe\">\n",
       "  <thead>\n",
       "    <tr style=\"text-align: right;\">\n",
       "      <th></th>\n",
       "      <th>model</th>\n",
       "      <th>subseq</th>\n",
       "      <th>peaks</th>\n",
       "      <th>binary</th>\n",
       "      <th>mwa</th>\n",
       "    </tr>\n",
       "  </thead>\n",
       "  <tbody>\n",
       "    <tr>\n",
       "      <th>0</th>\n",
       "      <td>Polar Laplacian</td>\n",
       "      <td>619.834965</td>\n",
       "      <td>148.404955</td>\n",
       "      <td>553.203962</td>\n",
       "      <td>187.837721</td>\n",
       "    </tr>\n",
       "  </tbody>\n",
       "</table>\n",
       "</div>"
      ],
      "text/plain": [
       "             model      subseq       peaks      binary         mwa\n",
       "0  Polar Laplacian  619.834965  148.404955  553.203962  187.837721"
      ]
     },
     "metadata": {},
     "output_type": "display_data"
    }
   ],
   "source": [
    "with_model(Model.POLAR_LAPLACIAN_EDGE, lines, points, data_dir, ranking_url, pith_url, rings_url, mse_url)"
   ]
  },
  {
   "cell_type": "code",
   "execution_count": 81,
   "id": "e437a842",
   "metadata": {},
   "outputs": [
    {
     "name": "stdout",
     "output_type": "stream",
     "text": [
      "0 6702.jpg 73.2\n",
      "1 6703.jpg 75.6\n",
      "2 6699.jpg 82.2\n",
      "3 6705.jpg 67.4\n",
      "4 6709.jpg 72.0\n",
      "5 6696.jpg 65.0\n",
      "6 6695.jpg 67.0\n"
     ]
    },
    {
     "data": {
      "text/html": [
       "<div>\n",
       "<style scoped>\n",
       "    .dataframe tbody tr th:only-of-type {\n",
       "        vertical-align: middle;\n",
       "    }\n",
       "\n",
       "    .dataframe tbody tr th {\n",
       "        vertical-align: top;\n",
       "    }\n",
       "\n",
       "    .dataframe thead th {\n",
       "        text-align: right;\n",
       "    }\n",
       "</style>\n",
       "<table border=\"1\" class=\"dataframe\">\n",
       "  <thead>\n",
       "    <tr style=\"text-align: right;\">\n",
       "      <th></th>\n",
       "      <th>model</th>\n",
       "      <th>subseq</th>\n",
       "      <th>peaks</th>\n",
       "      <th>binary</th>\n",
       "      <th>mwa</th>\n",
       "    </tr>\n",
       "  </thead>\n",
       "  <tbody>\n",
       "    <tr>\n",
       "      <th>0</th>\n",
       "      <td>Polar Laplacian(blur)</td>\n",
       "      <td>475.793468</td>\n",
       "      <td>14.917807</td>\n",
       "      <td>474.556765</td>\n",
       "      <td>22.582087</td>\n",
       "    </tr>\n",
       "  </tbody>\n",
       "</table>\n",
       "</div>"
      ],
      "text/plain": [
       "                   model      subseq      peaks      binary        mwa\n",
       "0  Polar Laplacian(blur)  475.793468  14.917807  474.556765  22.582087"
      ]
     },
     "metadata": {},
     "output_type": "display_data"
    }
   ],
   "source": [
    "with_model(Model.POLAR_LAPLACIAN_EDGE_BLUR, lines, points, data_dir, ranking_url, pith_url, rings_url, mse_url)"
   ]
  },
  {
   "cell_type": "code",
   "execution_count": null,
   "id": "b8596c82",
   "metadata": {},
   "outputs": [],
   "source": []
  },
  {
   "cell_type": "code",
   "execution_count": 82,
   "id": "342584d0",
   "metadata": {},
   "outputs": [
    {
     "name": "stdout",
     "output_type": "stream",
     "text": [
      "0 6702.jpg 73.2\n",
      "1 6703.jpg 75.6\n",
      "2 6699.jpg 82.2\n",
      "3 6705.jpg 67.4\n",
      "4 6709.jpg 72.0\n",
      "5 6696.jpg 65.0\n",
      "6 6695.jpg 67.0\n"
     ]
    },
    {
     "data": {
      "text/html": [
       "<div>\n",
       "<style scoped>\n",
       "    .dataframe tbody tr th:only-of-type {\n",
       "        vertical-align: middle;\n",
       "    }\n",
       "\n",
       "    .dataframe tbody tr th {\n",
       "        vertical-align: top;\n",
       "    }\n",
       "\n",
       "    .dataframe thead th {\n",
       "        text-align: right;\n",
       "    }\n",
       "</style>\n",
       "<table border=\"1\" class=\"dataframe\">\n",
       "  <thead>\n",
       "    <tr style=\"text-align: right;\">\n",
       "      <th></th>\n",
       "      <th>model</th>\n",
       "      <th>subseq</th>\n",
       "      <th>peaks</th>\n",
       "      <th>binary</th>\n",
       "      <th>mwa</th>\n",
       "    </tr>\n",
       "  </thead>\n",
       "  <tbody>\n",
       "    <tr>\n",
       "      <th>0</th>\n",
       "      <td>Polar Pith Sobel</td>\n",
       "      <td>322.479663</td>\n",
       "      <td>29.30594</td>\n",
       "      <td>301.315043</td>\n",
       "      <td>28.153892</td>\n",
       "    </tr>\n",
       "  </tbody>\n",
       "</table>\n",
       "</div>"
      ],
      "text/plain": [
       "              model      subseq     peaks      binary        mwa\n",
       "0  Polar Pith Sobel  322.479663  29.30594  301.315043  28.153892"
      ]
     },
     "metadata": {},
     "output_type": "display_data"
    }
   ],
   "source": [
    "with_model(Model.POLAR_PITH_SOBEL_EDGE, lines, points, data_dir, ranking_url, pith_url, rings_url, mse_url)"
   ]
  },
  {
   "cell_type": "code",
   "execution_count": 83,
   "id": "460e7be9",
   "metadata": {},
   "outputs": [
    {
     "name": "stdout",
     "output_type": "stream",
     "text": [
      "0 6702.jpg 73.2\n",
      "1 6703.jpg 75.6\n",
      "2 6699.jpg 82.2\n",
      "3 6705.jpg 67.4\n",
      "4 6709.jpg 72.0\n",
      "5 6696.jpg 65.0\n",
      "6 6695.jpg 67.0\n"
     ]
    },
    {
     "data": {
      "text/html": [
       "<div>\n",
       "<style scoped>\n",
       "    .dataframe tbody tr th:only-of-type {\n",
       "        vertical-align: middle;\n",
       "    }\n",
       "\n",
       "    .dataframe tbody tr th {\n",
       "        vertical-align: top;\n",
       "    }\n",
       "\n",
       "    .dataframe thead th {\n",
       "        text-align: right;\n",
       "    }\n",
       "</style>\n",
       "<table border=\"1\" class=\"dataframe\">\n",
       "  <thead>\n",
       "    <tr style=\"text-align: right;\">\n",
       "      <th></th>\n",
       "      <th>model</th>\n",
       "      <th>subseq</th>\n",
       "      <th>peaks</th>\n",
       "      <th>binary</th>\n",
       "      <th>mwa</th>\n",
       "    </tr>\n",
       "  </thead>\n",
       "  <tbody>\n",
       "    <tr>\n",
       "      <th>0</th>\n",
       "      <td>Polar Pith Sobel(blur)</td>\n",
       "      <td>228.829445</td>\n",
       "      <td>54.798859</td>\n",
       "      <td>241.993397</td>\n",
       "      <td>37.379528</td>\n",
       "    </tr>\n",
       "  </tbody>\n",
       "</table>\n",
       "</div>"
      ],
      "text/plain": [
       "                    model      subseq      peaks      binary        mwa\n",
       "0  Polar Pith Sobel(blur)  228.829445  54.798859  241.993397  37.379528"
      ]
     },
     "metadata": {},
     "output_type": "display_data"
    }
   ],
   "source": [
    "with_model(Model.POLAR_PITH_SOBEL_EDGE_BLUR, lines, points, data_dir, ranking_url, pith_url, rings_url, mse_url)"
   ]
  },
  {
   "cell_type": "code",
   "execution_count": 84,
   "id": "130f4f9f",
   "metadata": {},
   "outputs": [
    {
     "name": "stdout",
     "output_type": "stream",
     "text": [
      "0 6702.jpg 73.2\n",
      "1 6703.jpg 75.6\n",
      "2 6699.jpg 82.2\n",
      "3 6705.jpg 67.4\n",
      "4 6709.jpg 72.0\n",
      "5 6696.jpg 65.0\n",
      "6 6695.jpg 67.0\n"
     ]
    },
    {
     "data": {
      "text/html": [
       "<div>\n",
       "<style scoped>\n",
       "    .dataframe tbody tr th:only-of-type {\n",
       "        vertical-align: middle;\n",
       "    }\n",
       "\n",
       "    .dataframe tbody tr th {\n",
       "        vertical-align: top;\n",
       "    }\n",
       "\n",
       "    .dataframe thead th {\n",
       "        text-align: right;\n",
       "    }\n",
       "</style>\n",
       "<table border=\"1\" class=\"dataframe\">\n",
       "  <thead>\n",
       "    <tr style=\"text-align: right;\">\n",
       "      <th></th>\n",
       "      <th>model</th>\n",
       "      <th>subseq</th>\n",
       "      <th>peaks</th>\n",
       "      <th>binary</th>\n",
       "      <th>mwa</th>\n",
       "    </tr>\n",
       "  </thead>\n",
       "  <tbody>\n",
       "    <tr>\n",
       "      <th>0</th>\n",
       "      <td>Polar Pith Canny</td>\n",
       "      <td>39.086962</td>\n",
       "      <td>45.499332</td>\n",
       "      <td>97.529574</td>\n",
       "      <td>53.145896</td>\n",
       "    </tr>\n",
       "  </tbody>\n",
       "</table>\n",
       "</div>"
      ],
      "text/plain": [
       "              model     subseq      peaks     binary        mwa\n",
       "0  Polar Pith Canny  39.086962  45.499332  97.529574  53.145896"
      ]
     },
     "metadata": {},
     "output_type": "display_data"
    }
   ],
   "source": [
    "with_model(Model.POLAR_PITH_CANNY_EDGE, lines, points, data_dir, ranking_url, pith_url, rings_url, mse_url)"
   ]
  },
  {
   "cell_type": "code",
   "execution_count": 85,
   "id": "ef40546c",
   "metadata": {},
   "outputs": [
    {
     "name": "stdout",
     "output_type": "stream",
     "text": [
      "0 6702.jpg 73.2\n",
      "1 6703.jpg 75.6\n",
      "2 6699.jpg 82.2\n",
      "3 6705.jpg 67.4\n",
      "4 6709.jpg 72.0\n",
      "5 6696.jpg 65.0\n",
      "6 6695.jpg 67.0\n"
     ]
    },
    {
     "data": {
      "text/html": [
       "<div>\n",
       "<style scoped>\n",
       "    .dataframe tbody tr th:only-of-type {\n",
       "        vertical-align: middle;\n",
       "    }\n",
       "\n",
       "    .dataframe tbody tr th {\n",
       "        vertical-align: top;\n",
       "    }\n",
       "\n",
       "    .dataframe thead th {\n",
       "        text-align: right;\n",
       "    }\n",
       "</style>\n",
       "<table border=\"1\" class=\"dataframe\">\n",
       "  <thead>\n",
       "    <tr style=\"text-align: right;\">\n",
       "      <th></th>\n",
       "      <th>model</th>\n",
       "      <th>subseq</th>\n",
       "      <th>peaks</th>\n",
       "      <th>binary</th>\n",
       "      <th>mwa</th>\n",
       "    </tr>\n",
       "  </thead>\n",
       "  <tbody>\n",
       "    <tr>\n",
       "      <th>0</th>\n",
       "      <td>Polar Pith Canny(otsu)</td>\n",
       "      <td>32.479631</td>\n",
       "      <td>37.703476</td>\n",
       "      <td>139.381857</td>\n",
       "      <td>85.67089</td>\n",
       "    </tr>\n",
       "  </tbody>\n",
       "</table>\n",
       "</div>"
      ],
      "text/plain": [
       "                    model     subseq      peaks      binary       mwa\n",
       "0  Polar Pith Canny(otsu)  32.479631  37.703476  139.381857  85.67089"
      ]
     },
     "metadata": {},
     "output_type": "display_data"
    }
   ],
   "source": [
    "with_model(Model.POLAR_PITH_CANNY_EDGE_OTSU, lines, points, data_dir, ranking_url, pith_url, rings_url, mse_url)"
   ]
  },
  {
   "cell_type": "code",
   "execution_count": 86,
   "id": "63c3357c",
   "metadata": {},
   "outputs": [
    {
     "name": "stdout",
     "output_type": "stream",
     "text": [
      "0 6702.jpg 73.2\n",
      "1 6703.jpg 75.6\n",
      "2 6699.jpg 82.2\n",
      "3 6705.jpg 67.4\n",
      "4 6709.jpg 72.0\n",
      "5 6696.jpg 65.0\n",
      "6 6695.jpg 67.0\n"
     ]
    },
    {
     "data": {
      "text/html": [
       "<div>\n",
       "<style scoped>\n",
       "    .dataframe tbody tr th:only-of-type {\n",
       "        vertical-align: middle;\n",
       "    }\n",
       "\n",
       "    .dataframe tbody tr th {\n",
       "        vertical-align: top;\n",
       "    }\n",
       "\n",
       "    .dataframe thead th {\n",
       "        text-align: right;\n",
       "    }\n",
       "</style>\n",
       "<table border=\"1\" class=\"dataframe\">\n",
       "  <thead>\n",
       "    <tr style=\"text-align: right;\">\n",
       "      <th></th>\n",
       "      <th>model</th>\n",
       "      <th>subseq</th>\n",
       "      <th>peaks</th>\n",
       "      <th>binary</th>\n",
       "      <th>mwa</th>\n",
       "    </tr>\n",
       "  </thead>\n",
       "  <tbody>\n",
       "    <tr>\n",
       "      <th>0</th>\n",
       "      <td>Polar Pith Canny(triangle)</td>\n",
       "      <td>61.004561</td>\n",
       "      <td>28.221582</td>\n",
       "      <td>265.127922</td>\n",
       "      <td>186.902004</td>\n",
       "    </tr>\n",
       "  </tbody>\n",
       "</table>\n",
       "</div>"
      ],
      "text/plain": [
       "                        model     subseq      peaks      binary         mwa\n",
       "0  Polar Pith Canny(triangle)  61.004561  28.221582  265.127922  186.902004"
      ]
     },
     "metadata": {},
     "output_type": "display_data"
    }
   ],
   "source": [
    "with_model(Model.POLAR_PITH_CANNY_EDGE_TRIANGLE, lines, points, data_dir, ranking_url, pith_url, rings_url, mse_url)"
   ]
  },
  {
   "cell_type": "code",
   "execution_count": 87,
   "id": "773452ce",
   "metadata": {},
   "outputs": [
    {
     "name": "stdout",
     "output_type": "stream",
     "text": [
      "0 6702.jpg 73.2\n",
      "1 6703.jpg 75.6\n",
      "2 6699.jpg 82.2\n",
      "3 6705.jpg 67.4\n",
      "4 6709.jpg 72.0\n",
      "5 6696.jpg 65.0\n",
      "6 6695.jpg 67.0\n"
     ]
    },
    {
     "data": {
      "text/html": [
       "<div>\n",
       "<style scoped>\n",
       "    .dataframe tbody tr th:only-of-type {\n",
       "        vertical-align: middle;\n",
       "    }\n",
       "\n",
       "    .dataframe tbody tr th {\n",
       "        vertical-align: top;\n",
       "    }\n",
       "\n",
       "    .dataframe thead th {\n",
       "        text-align: right;\n",
       "    }\n",
       "</style>\n",
       "<table border=\"1\" class=\"dataframe\">\n",
       "  <thead>\n",
       "    <tr style=\"text-align: right;\">\n",
       "      <th></th>\n",
       "      <th>model</th>\n",
       "      <th>subseq</th>\n",
       "      <th>peaks</th>\n",
       "      <th>binary</th>\n",
       "      <th>mwa</th>\n",
       "    </tr>\n",
       "  </thead>\n",
       "  <tbody>\n",
       "    <tr>\n",
       "      <th>0</th>\n",
       "      <td>Polar Pith Canny(manual)</td>\n",
       "      <td>45.074653</td>\n",
       "      <td>49.584685</td>\n",
       "      <td>94.032588</td>\n",
       "      <td>55.013674</td>\n",
       "    </tr>\n",
       "  </tbody>\n",
       "</table>\n",
       "</div>"
      ],
      "text/plain": [
       "                      model     subseq      peaks     binary        mwa\n",
       "0  Polar Pith Canny(manual)  45.074653  49.584685  94.032588  55.013674"
      ]
     },
     "metadata": {},
     "output_type": "display_data"
    }
   ],
   "source": [
    "with_model(Model.POLAR_PITH_CANNY_EDGE_MANUAL, lines, points, data_dir, ranking_url, pith_url, rings_url, mse_url)"
   ]
  },
  {
   "cell_type": "code",
   "execution_count": 88,
   "id": "a6f99114",
   "metadata": {},
   "outputs": [
    {
     "name": "stdout",
     "output_type": "stream",
     "text": [
      "0 6702.jpg 73.2\n",
      "1 6703.jpg 75.6\n",
      "2 6699.jpg 82.2\n",
      "3 6705.jpg 67.4\n",
      "4 6709.jpg 72.0\n",
      "5 6696.jpg 65.0\n",
      "6 6695.jpg 67.0\n"
     ]
    },
    {
     "data": {
      "text/html": [
       "<div>\n",
       "<style scoped>\n",
       "    .dataframe tbody tr th:only-of-type {\n",
       "        vertical-align: middle;\n",
       "    }\n",
       "\n",
       "    .dataframe tbody tr th {\n",
       "        vertical-align: top;\n",
       "    }\n",
       "\n",
       "    .dataframe thead th {\n",
       "        text-align: right;\n",
       "    }\n",
       "</style>\n",
       "<table border=\"1\" class=\"dataframe\">\n",
       "  <thead>\n",
       "    <tr style=\"text-align: right;\">\n",
       "      <th></th>\n",
       "      <th>model</th>\n",
       "      <th>subseq</th>\n",
       "      <th>peaks</th>\n",
       "      <th>binary</th>\n",
       "      <th>mwa</th>\n",
       "    </tr>\n",
       "  </thead>\n",
       "  <tbody>\n",
       "    <tr>\n",
       "      <th>0</th>\n",
       "      <td>Polar Pith Canny(blur)</td>\n",
       "      <td>54.656912</td>\n",
       "      <td>57.519972</td>\n",
       "      <td>49.734972</td>\n",
       "      <td>30.12717</td>\n",
       "    </tr>\n",
       "  </tbody>\n",
       "</table>\n",
       "</div>"
      ],
      "text/plain": [
       "                    model     subseq      peaks     binary       mwa\n",
       "0  Polar Pith Canny(blur)  54.656912  57.519972  49.734972  30.12717"
      ]
     },
     "metadata": {},
     "output_type": "display_data"
    }
   ],
   "source": [
    "with_model(Model.POLAR_PITH_CANNY_EDGE_BLUR, lines, points, data_dir, ranking_url, pith_url, rings_url, mse_url)"
   ]
  },
  {
   "cell_type": "code",
   "execution_count": 89,
   "id": "d9efbe49",
   "metadata": {},
   "outputs": [
    {
     "name": "stdout",
     "output_type": "stream",
     "text": [
      "0 6702.jpg 73.2\n",
      "1 6703.jpg 75.6\n",
      "2 6699.jpg 82.2\n",
      "3 6705.jpg 67.4\n",
      "4 6709.jpg 72.0\n",
      "5 6696.jpg 65.0\n",
      "6 6695.jpg 67.0\n"
     ]
    },
    {
     "data": {
      "text/html": [
       "<div>\n",
       "<style scoped>\n",
       "    .dataframe tbody tr th:only-of-type {\n",
       "        vertical-align: middle;\n",
       "    }\n",
       "\n",
       "    .dataframe tbody tr th {\n",
       "        vertical-align: top;\n",
       "    }\n",
       "\n",
       "    .dataframe thead th {\n",
       "        text-align: right;\n",
       "    }\n",
       "</style>\n",
       "<table border=\"1\" class=\"dataframe\">\n",
       "  <thead>\n",
       "    <tr style=\"text-align: right;\">\n",
       "      <th></th>\n",
       "      <th>model</th>\n",
       "      <th>subseq</th>\n",
       "      <th>peaks</th>\n",
       "      <th>binary</th>\n",
       "      <th>mwa</th>\n",
       "    </tr>\n",
       "  </thead>\n",
       "  <tbody>\n",
       "    <tr>\n",
       "      <th>0</th>\n",
       "      <td>Polar Pith Canny(blur otsu)</td>\n",
       "      <td>45.922477</td>\n",
       "      <td>49.648318</td>\n",
       "      <td>93.563866</td>\n",
       "      <td>51.178718</td>\n",
       "    </tr>\n",
       "  </tbody>\n",
       "</table>\n",
       "</div>"
      ],
      "text/plain": [
       "                         model     subseq      peaks     binary        mwa\n",
       "0  Polar Pith Canny(blur otsu)  45.922477  49.648318  93.563866  51.178718"
      ]
     },
     "metadata": {},
     "output_type": "display_data"
    }
   ],
   "source": [
    "with_model(Model.POLAR_PITH_CANNY_EDGE_BLUR_OTSU, lines, points, data_dir, ranking_url, pith_url, rings_url, mse_url)"
   ]
  },
  {
   "cell_type": "code",
   "execution_count": 90,
   "id": "21998349",
   "metadata": {},
   "outputs": [
    {
     "name": "stdout",
     "output_type": "stream",
     "text": [
      "0 6702.jpg 73.2\n",
      "1 6703.jpg 75.6\n",
      "2 6699.jpg 82.2\n",
      "3 6705.jpg 67.4\n",
      "4 6709.jpg 72.0\n",
      "5 6696.jpg 65.0\n",
      "6 6695.jpg 67.0\n"
     ]
    },
    {
     "data": {
      "text/html": [
       "<div>\n",
       "<style scoped>\n",
       "    .dataframe tbody tr th:only-of-type {\n",
       "        vertical-align: middle;\n",
       "    }\n",
       "\n",
       "    .dataframe tbody tr th {\n",
       "        vertical-align: top;\n",
       "    }\n",
       "\n",
       "    .dataframe thead th {\n",
       "        text-align: right;\n",
       "    }\n",
       "</style>\n",
       "<table border=\"1\" class=\"dataframe\">\n",
       "  <thead>\n",
       "    <tr style=\"text-align: right;\">\n",
       "      <th></th>\n",
       "      <th>model</th>\n",
       "      <th>subseq</th>\n",
       "      <th>peaks</th>\n",
       "      <th>binary</th>\n",
       "      <th>mwa</th>\n",
       "    </tr>\n",
       "  </thead>\n",
       "  <tbody>\n",
       "    <tr>\n",
       "      <th>0</th>\n",
       "      <td>Polar Pith Canny(blur triangle)</td>\n",
       "      <td>27.577365</td>\n",
       "      <td>13.688768</td>\n",
       "      <td>223.381484</td>\n",
       "      <td>154.810573</td>\n",
       "    </tr>\n",
       "  </tbody>\n",
       "</table>\n",
       "</div>"
      ],
      "text/plain": [
       "                             model     subseq      peaks      binary  \\\n",
       "0  Polar Pith Canny(blur triangle)  27.577365  13.688768  223.381484   \n",
       "\n",
       "          mwa  \n",
       "0  154.810573  "
      ]
     },
     "metadata": {},
     "output_type": "display_data"
    }
   ],
   "source": [
    "with_model(Model.POLAR_PITH_CANNY_EDGE_BLUR_TRIANGLE, lines, points, data_dir, ranking_url, pith_url, rings_url, mse_url)"
   ]
  },
  {
   "cell_type": "code",
   "execution_count": 91,
   "id": "89838735",
   "metadata": {},
   "outputs": [
    {
     "name": "stdout",
     "output_type": "stream",
     "text": [
      "0 6702.jpg 73.2\n",
      "1 6703.jpg 75.6\n",
      "2 6699.jpg 82.2\n",
      "3 6705.jpg 67.4\n",
      "4 6709.jpg 72.0\n",
      "5 6696.jpg 65.0\n",
      "6 6695.jpg 67.0\n"
     ]
    },
    {
     "data": {
      "text/html": [
       "<div>\n",
       "<style scoped>\n",
       "    .dataframe tbody tr th:only-of-type {\n",
       "        vertical-align: middle;\n",
       "    }\n",
       "\n",
       "    .dataframe tbody tr th {\n",
       "        vertical-align: top;\n",
       "    }\n",
       "\n",
       "    .dataframe thead th {\n",
       "        text-align: right;\n",
       "    }\n",
       "</style>\n",
       "<table border=\"1\" class=\"dataframe\">\n",
       "  <thead>\n",
       "    <tr style=\"text-align: right;\">\n",
       "      <th></th>\n",
       "      <th>model</th>\n",
       "      <th>subseq</th>\n",
       "      <th>peaks</th>\n",
       "      <th>binary</th>\n",
       "      <th>mwa</th>\n",
       "    </tr>\n",
       "  </thead>\n",
       "  <tbody>\n",
       "    <tr>\n",
       "      <th>0</th>\n",
       "      <td>Polar Pith Canny(blur manual)</td>\n",
       "      <td>57.550663</td>\n",
       "      <td>59.722549</td>\n",
       "      <td>56.40187</td>\n",
       "      <td>39.771598</td>\n",
       "    </tr>\n",
       "  </tbody>\n",
       "</table>\n",
       "</div>"
      ],
      "text/plain": [
       "                           model     subseq      peaks    binary        mwa\n",
       "0  Polar Pith Canny(blur manual)  57.550663  59.722549  56.40187  39.771598"
      ]
     },
     "metadata": {},
     "output_type": "display_data"
    }
   ],
   "source": [
    "with_model(Model.POLAR_PITH_CANNY_EDGE_BLUR_MANUAL, lines, points, data_dir, ranking_url, pith_url, rings_url, mse_url)"
   ]
  },
  {
   "cell_type": "code",
   "execution_count": 92,
   "id": "2f5385d6",
   "metadata": {},
   "outputs": [
    {
     "name": "stdout",
     "output_type": "stream",
     "text": [
      "0 6702.jpg 73.2\n",
      "1 6703.jpg 75.6\n",
      "2 6699.jpg 82.2\n",
      "3 6705.jpg 67.4\n",
      "4 6709.jpg 72.0\n",
      "5 6696.jpg 65.0\n",
      "6 6695.jpg 67.0\n"
     ]
    },
    {
     "data": {
      "text/html": [
       "<div>\n",
       "<style scoped>\n",
       "    .dataframe tbody tr th:only-of-type {\n",
       "        vertical-align: middle;\n",
       "    }\n",
       "\n",
       "    .dataframe tbody tr th {\n",
       "        vertical-align: top;\n",
       "    }\n",
       "\n",
       "    .dataframe thead th {\n",
       "        text-align: right;\n",
       "    }\n",
       "</style>\n",
       "<table border=\"1\" class=\"dataframe\">\n",
       "  <thead>\n",
       "    <tr style=\"text-align: right;\">\n",
       "      <th></th>\n",
       "      <th>model</th>\n",
       "      <th>subseq</th>\n",
       "      <th>peaks</th>\n",
       "      <th>binary</th>\n",
       "      <th>mwa</th>\n",
       "    </tr>\n",
       "  </thead>\n",
       "  <tbody>\n",
       "    <tr>\n",
       "      <th>0</th>\n",
       "      <td>Polar Pith Laplacian</td>\n",
       "      <td>454.553625</td>\n",
       "      <td>86.736848</td>\n",
       "      <td>411.289556</td>\n",
       "      <td>95.962853</td>\n",
       "    </tr>\n",
       "  </tbody>\n",
       "</table>\n",
       "</div>"
      ],
      "text/plain": [
       "                  model      subseq      peaks      binary        mwa\n",
       "0  Polar Pith Laplacian  454.553625  86.736848  411.289556  95.962853"
      ]
     },
     "metadata": {},
     "output_type": "display_data"
    }
   ],
   "source": [
    "with_model(Model.POLAR_PITH_LAPLACIAN_EDGE, lines, points, data_dir, ranking_url, pith_url, rings_url, mse_url)"
   ]
  },
  {
   "cell_type": "code",
   "execution_count": 93,
   "id": "2a36ce50",
   "metadata": {},
   "outputs": [
    {
     "name": "stdout",
     "output_type": "stream",
     "text": [
      "0 6702.jpg 73.2\n",
      "1 6703.jpg 75.6\n",
      "2 6699.jpg 82.2\n",
      "3 6705.jpg 67.4\n",
      "4 6709.jpg 72.0\n",
      "5 6696.jpg 65.0\n",
      "6 6695.jpg 67.0\n"
     ]
    },
    {
     "data": {
      "text/html": [
       "<div>\n",
       "<style scoped>\n",
       "    .dataframe tbody tr th:only-of-type {\n",
       "        vertical-align: middle;\n",
       "    }\n",
       "\n",
       "    .dataframe tbody tr th {\n",
       "        vertical-align: top;\n",
       "    }\n",
       "\n",
       "    .dataframe thead th {\n",
       "        text-align: right;\n",
       "    }\n",
       "</style>\n",
       "<table border=\"1\" class=\"dataframe\">\n",
       "  <thead>\n",
       "    <tr style=\"text-align: right;\">\n",
       "      <th></th>\n",
       "      <th>model</th>\n",
       "      <th>subseq</th>\n",
       "      <th>peaks</th>\n",
       "      <th>binary</th>\n",
       "      <th>mwa</th>\n",
       "    </tr>\n",
       "  </thead>\n",
       "  <tbody>\n",
       "    <tr>\n",
       "      <th>0</th>\n",
       "      <td>Polar Pith Laplacian(blur)</td>\n",
       "      <td>346.956783</td>\n",
       "      <td>32.059951</td>\n",
       "      <td>355.527096</td>\n",
       "      <td>38.089551</td>\n",
       "    </tr>\n",
       "  </tbody>\n",
       "</table>\n",
       "</div>"
      ],
      "text/plain": [
       "                        model      subseq      peaks      binary        mwa\n",
       "0  Polar Pith Laplacian(blur)  346.956783  32.059951  355.527096  38.089551"
      ]
     },
     "metadata": {},
     "output_type": "display_data"
    }
   ],
   "source": [
    "with_model(Model.POLAR_PITH_LAPLACIAN_EDGE_BLUR, lines, points, data_dir, ranking_url, pith_url, rings_url, mse_url)"
   ]
  },
  {
   "cell_type": "code",
   "execution_count": 94,
   "id": "3742e8d6",
   "metadata": {},
   "outputs": [
    {
     "name": "stdout",
     "output_type": "stream",
     "text": [
      "Polar Pith Canny(blur triangle) 13.688767879960144 (peaks) \n",
      "\n"
     ]
    },
    {
     "data": {
      "text/html": [
       "<div>\n",
       "<style scoped>\n",
       "    .dataframe tbody tr th:only-of-type {\n",
       "        vertical-align: middle;\n",
       "    }\n",
       "\n",
       "    .dataframe tbody tr th {\n",
       "        vertical-align: top;\n",
       "    }\n",
       "\n",
       "    .dataframe thead th {\n",
       "        text-align: right;\n",
       "    }\n",
       "</style>\n",
       "<table border=\"1\" class=\"dataframe\">\n",
       "  <thead>\n",
       "    <tr style=\"text-align: right;\">\n",
       "      <th></th>\n",
       "      <th>subseq</th>\n",
       "      <th>peaks</th>\n",
       "      <th>binary</th>\n",
       "      <th>mwa</th>\n",
       "    </tr>\n",
       "    <tr>\n",
       "      <th>model</th>\n",
       "      <th></th>\n",
       "      <th></th>\n",
       "      <th></th>\n",
       "      <th></th>\n",
       "    </tr>\n",
       "  </thead>\n",
       "  <tbody>\n",
       "    <tr>\n",
       "      <th>Grayscale</th>\n",
       "      <td>412.270372</td>\n",
       "      <td>42.938115</td>\n",
       "      <td>388.650216</td>\n",
       "      <td>37.181028</td>\n",
       "    </tr>\n",
       "    <tr>\n",
       "      <th>Polar</th>\n",
       "      <td>191.339006</td>\n",
       "      <td>58.408460</td>\n",
       "      <td>375.299298</td>\n",
       "      <td>31.994917</td>\n",
       "    </tr>\n",
       "    <tr>\n",
       "      <th>Polar Pith</th>\n",
       "      <td>132.277612</td>\n",
       "      <td>65.723979</td>\n",
       "      <td>253.718828</td>\n",
       "      <td>50.062066</td>\n",
       "    </tr>\n",
       "    <tr>\n",
       "      <th>Sobel</th>\n",
       "      <td>536.394654</td>\n",
       "      <td>86.031997</td>\n",
       "      <td>498.118184</td>\n",
       "      <td>140.291918</td>\n",
       "    </tr>\n",
       "    <tr>\n",
       "      <th>Sobel(blur)</th>\n",
       "      <td>461.451601</td>\n",
       "      <td>42.205138</td>\n",
       "      <td>450.178794</td>\n",
       "      <td>80.714955</td>\n",
       "    </tr>\n",
       "    <tr>\n",
       "      <th>Canny</th>\n",
       "      <td>89.025076</td>\n",
       "      <td>49.500393</td>\n",
       "      <td>338.308545</td>\n",
       "      <td>242.393562</td>\n",
       "    </tr>\n",
       "    <tr>\n",
       "      <th>Canny(otsu)</th>\n",
       "      <td>63.117868</td>\n",
       "      <td>36.367708</td>\n",
       "      <td>286.626496</td>\n",
       "      <td>197.575879</td>\n",
       "    </tr>\n",
       "    <tr>\n",
       "      <th>Canny(triangle)</th>\n",
       "      <td>87.439605</td>\n",
       "      <td>50.662274</td>\n",
       "      <td>314.897254</td>\n",
       "      <td>224.891640</td>\n",
       "    </tr>\n",
       "    <tr>\n",
       "      <th>Canny(manual)</th>\n",
       "      <td>50.416642</td>\n",
       "      <td>33.416585</td>\n",
       "      <td>251.494217</td>\n",
       "      <td>169.800759</td>\n",
       "    </tr>\n",
       "    <tr>\n",
       "      <th>Canny(blur)</th>\n",
       "      <td>44.425559</td>\n",
       "      <td>30.166533</td>\n",
       "      <td>252.281675</td>\n",
       "      <td>168.407171</td>\n",
       "    </tr>\n",
       "    <tr>\n",
       "      <th>Canny(blur otsu)</th>\n",
       "      <td>34.530172</td>\n",
       "      <td>31.668815</td>\n",
       "      <td>202.865518</td>\n",
       "      <td>126.911304</td>\n",
       "    </tr>\n",
       "    <tr>\n",
       "      <th>Canny(blur triangle)</th>\n",
       "      <td>53.180263</td>\n",
       "      <td>40.255288</td>\n",
       "      <td>239.112987</td>\n",
       "      <td>165.703875</td>\n",
       "    </tr>\n",
       "    <tr>\n",
       "      <th>Canny(blur manual)</th>\n",
       "      <td>36.891216</td>\n",
       "      <td>39.244307</td>\n",
       "      <td>161.218786</td>\n",
       "      <td>96.559565</td>\n",
       "    </tr>\n",
       "    <tr>\n",
       "      <th>Laplacian</th>\n",
       "      <td>638.407344</td>\n",
       "      <td>188.958791</td>\n",
       "      <td>606.337941</td>\n",
       "      <td>249.628017</td>\n",
       "    </tr>\n",
       "    <tr>\n",
       "      <th>Laplacian(blur)</th>\n",
       "      <td>563.753971</td>\n",
       "      <td>91.888526</td>\n",
       "      <td>569.002135</td>\n",
       "      <td>94.553105</td>\n",
       "    </tr>\n",
       "    <tr>\n",
       "      <th>Polar Sobel</th>\n",
       "      <td>450.853589</td>\n",
       "      <td>16.879064</td>\n",
       "      <td>414.984322</td>\n",
       "      <td>53.942957</td>\n",
       "    </tr>\n",
       "    <tr>\n",
       "      <th>Polar Sobel(blur)</th>\n",
       "      <td>332.261992</td>\n",
       "      <td>39.964841</td>\n",
       "      <td>343.482892</td>\n",
       "      <td>16.046394</td>\n",
       "    </tr>\n",
       "    <tr>\n",
       "      <th>Polar Canny</th>\n",
       "      <td>14.391368</td>\n",
       "      <td>24.682555</td>\n",
       "      <td>183.825499</td>\n",
       "      <td>111.716251</td>\n",
       "    </tr>\n",
       "    <tr>\n",
       "      <th>Polar Canny(otsu)</th>\n",
       "      <td>15.224942</td>\n",
       "      <td>16.943082</td>\n",
       "      <td>219.723421</td>\n",
       "      <td>141.663286</td>\n",
       "    </tr>\n",
       "    <tr>\n",
       "      <th>Polar Canny(triangle)</th>\n",
       "      <td>76.008839</td>\n",
       "      <td>37.111177</td>\n",
       "      <td>338.766576</td>\n",
       "      <td>241.952106</td>\n",
       "    </tr>\n",
       "    <tr>\n",
       "      <th>Polar Canny(manual)</th>\n",
       "      <td>31.969004</td>\n",
       "      <td>39.270771</td>\n",
       "      <td>137.496762</td>\n",
       "      <td>75.515295</td>\n",
       "    </tr>\n",
       "    <tr>\n",
       "      <th>Polar Canny(blur)</th>\n",
       "      <td>38.571391</td>\n",
       "      <td>43.922999</td>\n",
       "      <td>109.070373</td>\n",
       "      <td>52.754615</td>\n",
       "    </tr>\n",
       "    <tr>\n",
       "      <th>Polar Canny(blur otsu)</th>\n",
       "      <td>28.298851</td>\n",
       "      <td>34.899375</td>\n",
       "      <td>155.607028</td>\n",
       "      <td>87.567270</td>\n",
       "    </tr>\n",
       "    <tr>\n",
       "      <th>Polar Canny(blur triangle)</th>\n",
       "      <td>37.395987</td>\n",
       "      <td>17.791258</td>\n",
       "      <td>291.920253</td>\n",
       "      <td>205.275476</td>\n",
       "    </tr>\n",
       "    <tr>\n",
       "      <th>Polar Canny(blur manual)</th>\n",
       "      <td>52.609574</td>\n",
       "      <td>55.501187</td>\n",
       "      <td>68.585833</td>\n",
       "      <td>33.156186</td>\n",
       "    </tr>\n",
       "    <tr>\n",
       "      <th>Polar Laplacian</th>\n",
       "      <td>619.834965</td>\n",
       "      <td>148.404955</td>\n",
       "      <td>553.203962</td>\n",
       "      <td>187.837721</td>\n",
       "    </tr>\n",
       "    <tr>\n",
       "      <th>Polar Laplacian(blur)</th>\n",
       "      <td>475.793468</td>\n",
       "      <td>14.917807</td>\n",
       "      <td>474.556765</td>\n",
       "      <td>22.582087</td>\n",
       "    </tr>\n",
       "    <tr>\n",
       "      <th>Polar Pith Sobel</th>\n",
       "      <td>322.479663</td>\n",
       "      <td>29.305940</td>\n",
       "      <td>301.315043</td>\n",
       "      <td>28.153892</td>\n",
       "    </tr>\n",
       "    <tr>\n",
       "      <th>Polar Pith Sobel(blur)</th>\n",
       "      <td>228.829445</td>\n",
       "      <td>54.798859</td>\n",
       "      <td>241.993397</td>\n",
       "      <td>37.379528</td>\n",
       "    </tr>\n",
       "    <tr>\n",
       "      <th>Polar Pith Canny</th>\n",
       "      <td>39.086962</td>\n",
       "      <td>45.499332</td>\n",
       "      <td>97.529574</td>\n",
       "      <td>53.145896</td>\n",
       "    </tr>\n",
       "    <tr>\n",
       "      <th>Polar Pith Canny(otsu)</th>\n",
       "      <td>32.479631</td>\n",
       "      <td>37.703476</td>\n",
       "      <td>139.381857</td>\n",
       "      <td>85.670890</td>\n",
       "    </tr>\n",
       "    <tr>\n",
       "      <th>Polar Pith Canny(triangle)</th>\n",
       "      <td>61.004561</td>\n",
       "      <td>28.221582</td>\n",
       "      <td>265.127922</td>\n",
       "      <td>186.902004</td>\n",
       "    </tr>\n",
       "    <tr>\n",
       "      <th>Polar Pith Canny(manual)</th>\n",
       "      <td>45.074653</td>\n",
       "      <td>49.584685</td>\n",
       "      <td>94.032588</td>\n",
       "      <td>55.013674</td>\n",
       "    </tr>\n",
       "    <tr>\n",
       "      <th>Polar Pith Canny(blur)</th>\n",
       "      <td>54.656912</td>\n",
       "      <td>57.519972</td>\n",
       "      <td>49.734972</td>\n",
       "      <td>30.127170</td>\n",
       "    </tr>\n",
       "    <tr>\n",
       "      <th>Polar Pith Canny(blur otsu)</th>\n",
       "      <td>45.922477</td>\n",
       "      <td>49.648318</td>\n",
       "      <td>93.563866</td>\n",
       "      <td>51.178718</td>\n",
       "    </tr>\n",
       "    <tr>\n",
       "      <th>Polar Pith Canny(blur triangle)</th>\n",
       "      <td>27.577365</td>\n",
       "      <td>13.688768</td>\n",
       "      <td>223.381484</td>\n",
       "      <td>154.810573</td>\n",
       "    </tr>\n",
       "    <tr>\n",
       "      <th>Polar Pith Canny(blur manual)</th>\n",
       "      <td>57.550663</td>\n",
       "      <td>59.722549</td>\n",
       "      <td>56.401870</td>\n",
       "      <td>39.771598</td>\n",
       "    </tr>\n",
       "    <tr>\n",
       "      <th>Polar Pith Laplacian</th>\n",
       "      <td>454.553625</td>\n",
       "      <td>86.736848</td>\n",
       "      <td>411.289556</td>\n",
       "      <td>95.962853</td>\n",
       "    </tr>\n",
       "    <tr>\n",
       "      <th>Polar Pith Laplacian(blur)</th>\n",
       "      <td>346.956783</td>\n",
       "      <td>32.059951</td>\n",
       "      <td>355.527096</td>\n",
       "      <td>38.089551</td>\n",
       "    </tr>\n",
       "  </tbody>\n",
       "</table>\n",
       "</div>"
      ],
      "text/plain": [
       "                                     subseq       peaks      binary  \\\n",
       "model                                                                 \n",
       "Grayscale                        412.270372   42.938115  388.650216   \n",
       "Polar                            191.339006   58.408460  375.299298   \n",
       "Polar Pith                       132.277612   65.723979  253.718828   \n",
       "Sobel                            536.394654   86.031997  498.118184   \n",
       "Sobel(blur)                      461.451601   42.205138  450.178794   \n",
       "Canny                             89.025076   49.500393  338.308545   \n",
       "Canny(otsu)                       63.117868   36.367708  286.626496   \n",
       "Canny(triangle)                   87.439605   50.662274  314.897254   \n",
       "Canny(manual)                     50.416642   33.416585  251.494217   \n",
       "Canny(blur)                       44.425559   30.166533  252.281675   \n",
       "Canny(blur otsu)                  34.530172   31.668815  202.865518   \n",
       "Canny(blur triangle)              53.180263   40.255288  239.112987   \n",
       "Canny(blur manual)                36.891216   39.244307  161.218786   \n",
       "Laplacian                        638.407344  188.958791  606.337941   \n",
       "Laplacian(blur)                  563.753971   91.888526  569.002135   \n",
       "Polar Sobel                      450.853589   16.879064  414.984322   \n",
       "Polar Sobel(blur)                332.261992   39.964841  343.482892   \n",
       "Polar Canny                       14.391368   24.682555  183.825499   \n",
       "Polar Canny(otsu)                 15.224942   16.943082  219.723421   \n",
       "Polar Canny(triangle)             76.008839   37.111177  338.766576   \n",
       "Polar Canny(manual)               31.969004   39.270771  137.496762   \n",
       "Polar Canny(blur)                 38.571391   43.922999  109.070373   \n",
       "Polar Canny(blur otsu)            28.298851   34.899375  155.607028   \n",
       "Polar Canny(blur triangle)        37.395987   17.791258  291.920253   \n",
       "Polar Canny(blur manual)          52.609574   55.501187   68.585833   \n",
       "Polar Laplacian                  619.834965  148.404955  553.203962   \n",
       "Polar Laplacian(blur)            475.793468   14.917807  474.556765   \n",
       "Polar Pith Sobel                 322.479663   29.305940  301.315043   \n",
       "Polar Pith Sobel(blur)           228.829445   54.798859  241.993397   \n",
       "Polar Pith Canny                  39.086962   45.499332   97.529574   \n",
       "Polar Pith Canny(otsu)            32.479631   37.703476  139.381857   \n",
       "Polar Pith Canny(triangle)        61.004561   28.221582  265.127922   \n",
       "Polar Pith Canny(manual)          45.074653   49.584685   94.032588   \n",
       "Polar Pith Canny(blur)            54.656912   57.519972   49.734972   \n",
       "Polar Pith Canny(blur otsu)       45.922477   49.648318   93.563866   \n",
       "Polar Pith Canny(blur triangle)   27.577365   13.688768  223.381484   \n",
       "Polar Pith Canny(blur manual)     57.550663   59.722549   56.401870   \n",
       "Polar Pith Laplacian             454.553625   86.736848  411.289556   \n",
       "Polar Pith Laplacian(blur)       346.956783   32.059951  355.527096   \n",
       "\n",
       "                                        mwa  \n",
       "model                                        \n",
       "Grayscale                         37.181028  \n",
       "Polar                             31.994917  \n",
       "Polar Pith                        50.062066  \n",
       "Sobel                            140.291918  \n",
       "Sobel(blur)                       80.714955  \n",
       "Canny                            242.393562  \n",
       "Canny(otsu)                      197.575879  \n",
       "Canny(triangle)                  224.891640  \n",
       "Canny(manual)                    169.800759  \n",
       "Canny(blur)                      168.407171  \n",
       "Canny(blur otsu)                 126.911304  \n",
       "Canny(blur triangle)             165.703875  \n",
       "Canny(blur manual)                96.559565  \n",
       "Laplacian                        249.628017  \n",
       "Laplacian(blur)                   94.553105  \n",
       "Polar Sobel                       53.942957  \n",
       "Polar Sobel(blur)                 16.046394  \n",
       "Polar Canny                      111.716251  \n",
       "Polar Canny(otsu)                141.663286  \n",
       "Polar Canny(triangle)            241.952106  \n",
       "Polar Canny(manual)               75.515295  \n",
       "Polar Canny(blur)                 52.754615  \n",
       "Polar Canny(blur otsu)            87.567270  \n",
       "Polar Canny(blur triangle)       205.275476  \n",
       "Polar Canny(blur manual)          33.156186  \n",
       "Polar Laplacian                  187.837721  \n",
       "Polar Laplacian(blur)             22.582087  \n",
       "Polar Pith Sobel                  28.153892  \n",
       "Polar Pith Sobel(blur)            37.379528  \n",
       "Polar Pith Canny                  53.145896  \n",
       "Polar Pith Canny(otsu)            85.670890  \n",
       "Polar Pith Canny(triangle)       186.902004  \n",
       "Polar Pith Canny(manual)          55.013674  \n",
       "Polar Pith Canny(blur)            30.127170  \n",
       "Polar Pith Canny(blur otsu)       51.178718  \n",
       "Polar Pith Canny(blur triangle)  154.810573  \n",
       "Polar Pith Canny(blur manual)     39.771598  \n",
       "Polar Pith Laplacian              95.962853  \n",
       "Polar Pith Laplacian(blur)        38.089551  "
      ]
     },
     "metadata": {},
     "output_type": "display_data"
    },
    {
     "name": "stdout",
     "output_type": "stream",
     "text": [
      "Min: 13.688767879960144, Max: 638.4073440539075\n"
     ]
    },
    {
     "data": {
      "image/png": "[encoded data removed]",
      "text/plain": [
       "<Figure size 640x480 with 1 Axes>"
      ]
     },
     "metadata": {},
     "output_type": "display_data"
    },
    {
     "data": {
      "text/html": [
       "<div>\n",
       "<style scoped>\n",
       "    .dataframe tbody tr th:only-of-type {\n",
       "        vertical-align: middle;\n",
       "    }\n",
       "\n",
       "    .dataframe tbody tr th {\n",
       "        vertical-align: top;\n",
       "    }\n",
       "\n",
       "    .dataframe thead th {\n",
       "        text-align: right;\n",
       "    }\n",
       "</style>\n",
       "<table border=\"1\" class=\"dataframe\">\n",
       "  <thead>\n",
       "    <tr style=\"text-align: right;\">\n",
       "      <th></th>\n",
       "      <th>subseq</th>\n",
       "      <th>peaks</th>\n",
       "      <th>binary</th>\n",
       "      <th>mwa</th>\n",
       "    </tr>\n",
       "    <tr>\n",
       "      <th>model</th>\n",
       "      <th></th>\n",
       "      <th></th>\n",
       "      <th></th>\n",
       "      <th></th>\n",
       "    </tr>\n",
       "  </thead>\n",
       "  <tbody>\n",
       "    <tr>\n",
       "      <th>Grayscale</th>\n",
       "      <td>412.270372</td>\n",
       "      <td>42.938115</td>\n",
       "      <td>388.650216</td>\n",
       "      <td>37.181028</td>\n",
       "    </tr>\n",
       "    <tr>\n",
       "      <th>Polar</th>\n",
       "      <td>191.339006</td>\n",
       "      <td>58.408460</td>\n",
       "      <td>375.299298</td>\n",
       "      <td>31.994917</td>\n",
       "    </tr>\n",
       "    <tr>\n",
       "      <th>Polar Pith</th>\n",
       "      <td>132.277612</td>\n",
       "      <td>65.723979</td>\n",
       "      <td>253.718828</td>\n",
       "      <td>50.062066</td>\n",
       "    </tr>\n",
       "    <tr>\n",
       "      <th>Sobel</th>\n",
       "      <td>536.394654</td>\n",
       "      <td>86.031997</td>\n",
       "      <td>498.118184</td>\n",
       "      <td>140.291918</td>\n",
       "    </tr>\n",
       "    <tr>\n",
       "      <th>Sobel(blur)</th>\n",
       "      <td>461.451601</td>\n",
       "      <td>42.205138</td>\n",
       "      <td>450.178794</td>\n",
       "      <td>80.714955</td>\n",
       "    </tr>\n",
       "    <tr>\n",
       "      <th>Canny</th>\n",
       "      <td>89.025076</td>\n",
       "      <td>49.500393</td>\n",
       "      <td>338.308545</td>\n",
       "      <td>242.393562</td>\n",
       "    </tr>\n",
       "    <tr>\n",
       "      <th>Canny(otsu)</th>\n",
       "      <td>63.117868</td>\n",
       "      <td>36.367708</td>\n",
       "      <td>286.626496</td>\n",
       "      <td>197.575879</td>\n",
       "    </tr>\n",
       "    <tr>\n",
       "      <th>Canny(triangle)</th>\n",
       "      <td>87.439605</td>\n",
       "      <td>50.662274</td>\n",
       "      <td>314.897254</td>\n",
       "      <td>224.891640</td>\n",
       "    </tr>\n",
       "    <tr>\n",
       "      <th>Canny(manual)</th>\n",
       "      <td>50.416642</td>\n",
       "      <td>33.416585</td>\n",
       "      <td>251.494217</td>\n",
       "      <td>169.800759</td>\n",
       "    </tr>\n",
       "    <tr>\n",
       "      <th>Canny(blur)</th>\n",
       "      <td>44.425559</td>\n",
       "      <td>30.166533</td>\n",
       "      <td>252.281675</td>\n",
       "      <td>168.407171</td>\n",
       "    </tr>\n",
       "    <tr>\n",
       "      <th>Canny(blur otsu)</th>\n",
       "      <td>34.530172</td>\n",
       "      <td>31.668815</td>\n",
       "      <td>202.865518</td>\n",
       "      <td>126.911304</td>\n",
       "    </tr>\n",
       "    <tr>\n",
       "      <th>Canny(blur triangle)</th>\n",
       "      <td>53.180263</td>\n",
       "      <td>40.255288</td>\n",
       "      <td>239.112987</td>\n",
       "      <td>165.703875</td>\n",
       "    </tr>\n",
       "    <tr>\n",
       "      <th>Canny(blur manual)</th>\n",
       "      <td>36.891216</td>\n",
       "      <td>39.244307</td>\n",
       "      <td>161.218786</td>\n",
       "      <td>96.559565</td>\n",
       "    </tr>\n",
       "    <tr>\n",
       "      <th>Laplacian</th>\n",
       "      <td>638.407344</td>\n",
       "      <td>188.958791</td>\n",
       "      <td>606.337941</td>\n",
       "      <td>249.628017</td>\n",
       "    </tr>\n",
       "    <tr>\n",
       "      <th>Laplacian(blur)</th>\n",
       "      <td>563.753971</td>\n",
       "      <td>91.888526</td>\n",
       "      <td>569.002135</td>\n",
       "      <td>94.553105</td>\n",
       "    </tr>\n",
       "  </tbody>\n",
       "</table>\n",
       "</div>"
      ],
      "text/plain": [
       "                          subseq       peaks      binary         mwa\n",
       "model                                                               \n",
       "Grayscale             412.270372   42.938115  388.650216   37.181028\n",
       "Polar                 191.339006   58.408460  375.299298   31.994917\n",
       "Polar Pith            132.277612   65.723979  253.718828   50.062066\n",
       "Sobel                 536.394654   86.031997  498.118184  140.291918\n",
       "Sobel(blur)           461.451601   42.205138  450.178794   80.714955\n",
       "Canny                  89.025076   49.500393  338.308545  242.393562\n",
       "Canny(otsu)            63.117868   36.367708  286.626496  197.575879\n",
       "Canny(triangle)        87.439605   50.662274  314.897254  224.891640\n",
       "Canny(manual)          50.416642   33.416585  251.494217  169.800759\n",
       "Canny(blur)            44.425559   30.166533  252.281675  168.407171\n",
       "Canny(blur otsu)       34.530172   31.668815  202.865518  126.911304\n",
       "Canny(blur triangle)   53.180263   40.255288  239.112987  165.703875\n",
       "Canny(blur manual)     36.891216   39.244307  161.218786   96.559565\n",
       "Laplacian             638.407344  188.958791  606.337941  249.628017\n",
       "Laplacian(blur)       563.753971   91.888526  569.002135   94.553105"
      ]
     },
     "metadata": {},
     "output_type": "display_data"
    },
    {
     "name": "stdout",
     "output_type": "stream",
     "text": [
      "Min: 30.166533220814426, Max: 638.4073440539075\n"
     ]
    },
    {
     "data": {
      "image/png": "[encoded data removed]",
      "text/plain": [
       "<Figure size 640x480 with 1 Axes>"
      ]
     },
     "metadata": {},
     "output_type": "display_data"
    },
    {
     "data": {
      "text/html": [
       "<div>\n",
       "<style scoped>\n",
       "    .dataframe tbody tr th:only-of-type {\n",
       "        vertical-align: middle;\n",
       "    }\n",
       "\n",
       "    .dataframe tbody tr th {\n",
       "        vertical-align: top;\n",
       "    }\n",
       "\n",
       "    .dataframe thead th {\n",
       "        text-align: right;\n",
       "    }\n",
       "</style>\n",
       "<table border=\"1\" class=\"dataframe\">\n",
       "  <thead>\n",
       "    <tr style=\"text-align: right;\">\n",
       "      <th></th>\n",
       "      <th>subseq</th>\n",
       "      <th>peaks</th>\n",
       "      <th>binary</th>\n",
       "      <th>mwa</th>\n",
       "    </tr>\n",
       "    <tr>\n",
       "      <th>model</th>\n",
       "      <th></th>\n",
       "      <th></th>\n",
       "      <th></th>\n",
       "      <th></th>\n",
       "    </tr>\n",
       "  </thead>\n",
       "  <tbody>\n",
       "    <tr>\n",
       "      <th>Polar Sobel</th>\n",
       "      <td>450.853589</td>\n",
       "      <td>16.879064</td>\n",
       "      <td>414.984322</td>\n",
       "      <td>53.942957</td>\n",
       "    </tr>\n",
       "    <tr>\n",
       "      <th>Polar Sobel(blur)</th>\n",
       "      <td>332.261992</td>\n",
       "      <td>39.964841</td>\n",
       "      <td>343.482892</td>\n",
       "      <td>16.046394</td>\n",
       "    </tr>\n",
       "    <tr>\n",
       "      <th>Polar Canny</th>\n",
       "      <td>14.391368</td>\n",
       "      <td>24.682555</td>\n",
       "      <td>183.825499</td>\n",
       "      <td>111.716251</td>\n",
       "    </tr>\n",
       "    <tr>\n",
       "      <th>Polar Canny(otsu)</th>\n",
       "      <td>15.224942</td>\n",
       "      <td>16.943082</td>\n",
       "      <td>219.723421</td>\n",
       "      <td>141.663286</td>\n",
       "    </tr>\n",
       "    <tr>\n",
       "      <th>Polar Canny(triangle)</th>\n",
       "      <td>76.008839</td>\n",
       "      <td>37.111177</td>\n",
       "      <td>338.766576</td>\n",
       "      <td>241.952106</td>\n",
       "    </tr>\n",
       "    <tr>\n",
       "      <th>Polar Canny(manual)</th>\n",
       "      <td>31.969004</td>\n",
       "      <td>39.270771</td>\n",
       "      <td>137.496762</td>\n",
       "      <td>75.515295</td>\n",
       "    </tr>\n",
       "    <tr>\n",
       "      <th>Polar Canny(blur)</th>\n",
       "      <td>38.571391</td>\n",
       "      <td>43.922999</td>\n",
       "      <td>109.070373</td>\n",
       "      <td>52.754615</td>\n",
       "    </tr>\n",
       "    <tr>\n",
       "      <th>Polar Canny(blur otsu)</th>\n",
       "      <td>28.298851</td>\n",
       "      <td>34.899375</td>\n",
       "      <td>155.607028</td>\n",
       "      <td>87.567270</td>\n",
       "    </tr>\n",
       "    <tr>\n",
       "      <th>Polar Canny(blur triangle)</th>\n",
       "      <td>37.395987</td>\n",
       "      <td>17.791258</td>\n",
       "      <td>291.920253</td>\n",
       "      <td>205.275476</td>\n",
       "    </tr>\n",
       "    <tr>\n",
       "      <th>Polar Canny(blur manual)</th>\n",
       "      <td>52.609574</td>\n",
       "      <td>55.501187</td>\n",
       "      <td>68.585833</td>\n",
       "      <td>33.156186</td>\n",
       "    </tr>\n",
       "    <tr>\n",
       "      <th>Polar Laplacian</th>\n",
       "      <td>619.834965</td>\n",
       "      <td>148.404955</td>\n",
       "      <td>553.203962</td>\n",
       "      <td>187.837721</td>\n",
       "    </tr>\n",
       "    <tr>\n",
       "      <th>Polar Laplacian(blur)</th>\n",
       "      <td>475.793468</td>\n",
       "      <td>14.917807</td>\n",
       "      <td>474.556765</td>\n",
       "      <td>22.582087</td>\n",
       "    </tr>\n",
       "  </tbody>\n",
       "</table>\n",
       "</div>"
      ],
      "text/plain": [
       "                                subseq       peaks      binary         mwa\n",
       "model                                                                     \n",
       "Polar Sobel                 450.853589   16.879064  414.984322   53.942957\n",
       "Polar Sobel(blur)           332.261992   39.964841  343.482892   16.046394\n",
       "Polar Canny                  14.391368   24.682555  183.825499  111.716251\n",
       "Polar Canny(otsu)            15.224942   16.943082  219.723421  141.663286\n",
       "Polar Canny(triangle)        76.008839   37.111177  338.766576  241.952106\n",
       "Polar Canny(manual)          31.969004   39.270771  137.496762   75.515295\n",
       "Polar Canny(blur)            38.571391   43.922999  109.070373   52.754615\n",
       "Polar Canny(blur otsu)       28.298851   34.899375  155.607028   87.567270\n",
       "Polar Canny(blur triangle)   37.395987   17.791258  291.920253  205.275476\n",
       "Polar Canny(blur manual)     52.609574   55.501187   68.585833   33.156186\n",
       "Polar Laplacian             619.834965  148.404955  553.203962  187.837721\n",
       "Polar Laplacian(blur)       475.793468   14.917807  474.556765   22.582087"
      ]
     },
     "metadata": {},
     "output_type": "display_data"
    },
    {
     "name": "stdout",
     "output_type": "stream",
     "text": [
      "Min: 14.39136781664372, Max: 619.8349652767965\n"
     ]
    },
    {
     "data": {
      "image/png": "[encoded data removed]",
      "text/plain": [
       "<Figure size 640x480 with 1 Axes>"
      ]
     },
     "metadata": {},
     "output_type": "display_data"
    },
    {
     "data": {
      "text/html": [
       "<div>\n",
       "<style scoped>\n",
       "    .dataframe tbody tr th:only-of-type {\n",
       "        vertical-align: middle;\n",
       "    }\n",
       "\n",
       "    .dataframe tbody tr th {\n",
       "        vertical-align: top;\n",
       "    }\n",
       "\n",
       "    .dataframe thead th {\n",
       "        text-align: right;\n",
       "    }\n",
       "</style>\n",
       "<table border=\"1\" class=\"dataframe\">\n",
       "  <thead>\n",
       "    <tr style=\"text-align: right;\">\n",
       "      <th></th>\n",
       "      <th>subseq</th>\n",
       "      <th>peaks</th>\n",
       "      <th>binary</th>\n",
       "      <th>mwa</th>\n",
       "    </tr>\n",
       "    <tr>\n",
       "      <th>model</th>\n",
       "      <th></th>\n",
       "      <th></th>\n",
       "      <th></th>\n",
       "      <th></th>\n",
       "    </tr>\n",
       "  </thead>\n",
       "  <tbody>\n",
       "    <tr>\n",
       "      <th>Polar Pith Sobel</th>\n",
       "      <td>322.479663</td>\n",
       "      <td>29.305940</td>\n",
       "      <td>301.315043</td>\n",
       "      <td>28.153892</td>\n",
       "    </tr>\n",
       "    <tr>\n",
       "      <th>Polar Pith Sobel(blur)</th>\n",
       "      <td>228.829445</td>\n",
       "      <td>54.798859</td>\n",
       "      <td>241.993397</td>\n",
       "      <td>37.379528</td>\n",
       "    </tr>\n",
       "    <tr>\n",
       "      <th>Polar Pith Canny</th>\n",
       "      <td>39.086962</td>\n",
       "      <td>45.499332</td>\n",
       "      <td>97.529574</td>\n",
       "      <td>53.145896</td>\n",
       "    </tr>\n",
       "    <tr>\n",
       "      <th>Polar Pith Canny(otsu)</th>\n",
       "      <td>32.479631</td>\n",
       "      <td>37.703476</td>\n",
       "      <td>139.381857</td>\n",
       "      <td>85.670890</td>\n",
       "    </tr>\n",
       "    <tr>\n",
       "      <th>Polar Pith Canny(triangle)</th>\n",
       "      <td>61.004561</td>\n",
       "      <td>28.221582</td>\n",
       "      <td>265.127922</td>\n",
       "      <td>186.902004</td>\n",
       "    </tr>\n",
       "    <tr>\n",
       "      <th>Polar Pith Canny(manual)</th>\n",
       "      <td>45.074653</td>\n",
       "      <td>49.584685</td>\n",
       "      <td>94.032588</td>\n",
       "      <td>55.013674</td>\n",
       "    </tr>\n",
       "    <tr>\n",
       "      <th>Polar Pith Canny(blur)</th>\n",
       "      <td>54.656912</td>\n",
       "      <td>57.519972</td>\n",
       "      <td>49.734972</td>\n",
       "      <td>30.127170</td>\n",
       "    </tr>\n",
       "    <tr>\n",
       "      <th>Polar Pith Canny(blur otsu)</th>\n",
       "      <td>45.922477</td>\n",
       "      <td>49.648318</td>\n",
       "      <td>93.563866</td>\n",
       "      <td>51.178718</td>\n",
       "    </tr>\n",
       "    <tr>\n",
       "      <th>Polar Pith Canny(blur triangle)</th>\n",
       "      <td>27.577365</td>\n",
       "      <td>13.688768</td>\n",
       "      <td>223.381484</td>\n",
       "      <td>154.810573</td>\n",
       "    </tr>\n",
       "    <tr>\n",
       "      <th>Polar Pith Canny(blur manual)</th>\n",
       "      <td>57.550663</td>\n",
       "      <td>59.722549</td>\n",
       "      <td>56.401870</td>\n",
       "      <td>39.771598</td>\n",
       "    </tr>\n",
       "    <tr>\n",
       "      <th>Polar Pith Laplacian</th>\n",
       "      <td>454.553625</td>\n",
       "      <td>86.736848</td>\n",
       "      <td>411.289556</td>\n",
       "      <td>95.962853</td>\n",
       "    </tr>\n",
       "    <tr>\n",
       "      <th>Polar Pith Laplacian(blur)</th>\n",
       "      <td>346.956783</td>\n",
       "      <td>32.059951</td>\n",
       "      <td>355.527096</td>\n",
       "      <td>38.089551</td>\n",
       "    </tr>\n",
       "  </tbody>\n",
       "</table>\n",
       "</div>"
      ],
      "text/plain": [
       "                                     subseq      peaks      binary         mwa\n",
       "model                                                                         \n",
       "Polar Pith Sobel                 322.479663  29.305940  301.315043   28.153892\n",
       "Polar Pith Sobel(blur)           228.829445  54.798859  241.993397   37.379528\n",
       "Polar Pith Canny                  39.086962  45.499332   97.529574   53.145896\n",
       "Polar Pith Canny(otsu)            32.479631  37.703476  139.381857   85.670890\n",
       "Polar Pith Canny(triangle)        61.004561  28.221582  265.127922  186.902004\n",
       "Polar Pith Canny(manual)          45.074653  49.584685   94.032588   55.013674\n",
       "Polar Pith Canny(blur)            54.656912  57.519972   49.734972   30.127170\n",
       "Polar Pith Canny(blur otsu)       45.922477  49.648318   93.563866   51.178718\n",
       "Polar Pith Canny(blur triangle)   27.577365  13.688768  223.381484  154.810573\n",
       "Polar Pith Canny(blur manual)     57.550663  59.722549   56.401870   39.771598\n",
       "Polar Pith Laplacian             454.553625  86.736848  411.289556   95.962853\n",
       "Polar Pith Laplacian(blur)       346.956783  32.059951  355.527096   38.089551"
      ]
     },
     "metadata": {},
     "output_type": "display_data"
    },
    {
     "name": "stdout",
     "output_type": "stream",
     "text": [
      "Min: 13.688767879960144, Max: 454.553624836017\n"
     ]
    },
    {
     "data": {
      "image/png": "[encoded data removed]",
      "text/plain": [
       "<Figure size 640x480 with 1 Axes>"
      ]
     },
     "metadata": {},
     "output_type": "display_data"
    }
   ],
   "source": [
    "multi_mse(mse_url)"
   ]
  },
  {
   "cell_type": "code",
   "execution_count": 95,
   "id": "2f852faa",
   "metadata": {},
   "outputs": [],
   "source": [
    "#STOP"
   ]
  }
 ],
 "metadata": {
  "kernelspec": {
   "display_name": "Python 3 (ipykernel)",
   "language": "python",
   "name": "python3"
  },
  "language_info": {
   "codemirror_mode": {
    "name": "ipython",
    "version": 3
   },
   "file_extension": ".py",
   "mimetype": "text/x-python",
   "name": "python",
   "nbconvert_exporter": "python",
   "pygments_lexer": "ipython3",
   "version": "3.9.6"
  }
 },
 "nbformat": 4,
 "nbformat_minor": 5
}
