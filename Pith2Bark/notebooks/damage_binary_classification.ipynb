{
 "cells": [
  {
   "cell_type": "code",
   "execution_count": null,
   "id": "5e0831a6",
   "metadata": {},
   "outputs": [],
   "source": [
    "cd .."
   ]
  },
  {
   "cell_type": "code",
   "execution_count": null,
   "id": "cc26b893",
   "metadata": {},
   "outputs": [],
   "source": [
    "from pkg.util import winner_rings\n",
    "from pkg.util import damage\n",
    "from pkg.binary_classification import *\n",
    "\n",
    "import seaborn as sns"
   ]
  },
  {
   "cell_type": "code",
   "execution_count": null,
   "id": "fa8329df",
   "metadata": {},
   "outputs": [],
   "source": [
    "import warnings\n",
    "warnings.simplefilter('ignore')\n",
    "\n",
    "# Set Seaborn theme\n",
    "sns.set_theme(color_codes=True)"
   ]
  },
  {
   "cell_type": "markdown",
   "id": "453518c0",
   "metadata": {},
   "source": [
    "# Prepare Dataset"
   ]
  },
  {
   "cell_type": "code",
   "execution_count": null,
   "id": "b9cccd43",
   "metadata": {},
   "outputs": [],
   "source": [
    "mse_url = \"output/ringsranking_mse_sixteen.csv\"\n",
    "rings_url = \"output/ringsranking_rings_sixteen.csv\"\n",
    "df_ringsranking_sixteen = winner_rings(mse_url, rings_url)\n",
    "\n",
    "mse_url = \"output/ringsranking_mse_thirtytwo.csv\"\n",
    "rings_url = \"output/ringsranking_rings_thirtytwo.csv\"\n",
    "df_ringsranking_thirtytwo = winner_rings(mse_url, rings_url)"
   ]
  },
  {
   "cell_type": "code",
   "execution_count": null,
   "id": "2b2989c3",
   "metadata": {},
   "outputs": [],
   "source": [
    "mse_url = \"output/pine_mse_sixteen.csv\"\n",
    "rings_url = \"output/pine_rings_sixteen.csv\"\n",
    "df_pine_sixteen = winner_rings(mse_url, rings_url)\n",
    "\n",
    "mse_url = \"output/pine_mse_thirtytwo.csv\"\n",
    "rings_url = \"output/pine_rings_thirtytwo.csv\"\n",
    "df_pine_thirtytwo = winner_rings(mse_url, rings_url)"
   ]
  },
  {
   "cell_type": "code",
   "execution_count": null,
   "id": "61b1f984",
   "metadata": {},
   "outputs": [],
   "source": [
    "mse_url = \"output/fur_mse_sixteen.csv\"\n",
    "rings_url = \"output/fur_rings_sixteen.csv\"\n",
    "df_fur_sixteen = winner_rings(mse_url, rings_url)\n",
    "\n",
    "mse_url = \"output/fur_mse_thirtytwo.csv\"\n",
    "rings_url = \"output/fur_rings_thirtytwo.csv\"\n",
    "df_fur_thirtytwo = winner_rings(mse_url, rings_url)"
   ]
  },
  {
   "cell_type": "code",
   "execution_count": null,
   "id": "bd95ef67",
   "metadata": {},
   "outputs": [],
   "source": [
    "mse_url = \"output/tracy_mse_sixteen.csv\"\n",
    "rings_url = \"output/tracy_rings_sixteen.csv\"\n",
    "df_tracy_sixteen = winner_rings(mse_url, rings_url)\n",
    "\n",
    "mse_url = \"output/tracy_mse_thirtytwo.csv\"\n",
    "rings_url = \"output/tracy_rings_thirtytwo.csv\"\n",
    "df_tracy_thirtytwo = winner_rings(mse_url, rings_url)"
   ]
  },
  {
   "cell_type": "code",
   "execution_count": null,
   "id": "c6635fcf",
   "metadata": {},
   "outputs": [],
   "source": [
    "#damage\n",
    "damage_url = \"dataset/damage.xlsx\"\n",
    "df_damage_sixteen = damage(damage_url, df_ringsranking_sixteen, df_pine_sixteen, df_fur_sixteen, df_tracy_sixteen)\n",
    "df_damage_thirtytwo = damage(damage_url, df_ringsranking_thirtytwo, df_pine_thirtytwo, df_fur_thirtytwo, df_tracy_thirtytwo)"
   ]
  },
  {
   "cell_type": "markdown",
   "id": "d16a3159",
   "metadata": {},
   "source": [
    "# Experiment"
   ]
  },
  {
   "cell_type": "markdown",
   "id": "61bbb7ff",
   "metadata": {},
   "source": [
    "## model with 16 lines"
   ]
  },
  {
   "cell_type": "code",
   "execution_count": null,
   "id": "e264d9b4",
   "metadata": {},
   "outputs": [],
   "source": [
    "y_train, y_test, X_train, X_test = df_train_test_split(df_damage_sixteen)"
   ]
  },
  {
   "cell_type": "code",
   "execution_count": null,
   "id": "af507c22",
   "metadata": {},
   "outputs": [],
   "source": [
    "model_1_accuracy = logistic_regression(y_train, y_test, X_train, X_test)"
   ]
  },
  {
   "cell_type": "code",
   "execution_count": null,
   "id": "becfd1c4",
   "metadata": {},
   "outputs": [],
   "source": [
    "model_2_1_accuracy = gaussiannb(y_train, y_test, X_train, X_test)"
   ]
  },
  {
   "cell_type": "code",
   "execution_count": null,
   "id": "4810b08b",
   "metadata": {},
   "outputs": [],
   "source": [
    "model_2_2_accuracy = multinomialnb(y_train, y_test, X_train, X_test)"
   ]
  },
  {
   "cell_type": "code",
   "execution_count": null,
   "id": "e32a5cd3",
   "metadata": {},
   "outputs": [],
   "source": [
    "model_3_accuracy = lda(y_train, y_test, X_train, X_test)"
   ]
  },
  {
   "cell_type": "code",
   "execution_count": null,
   "id": "418e18aa",
   "metadata": {},
   "outputs": [],
   "source": [
    "model_4_accuracy = 0"
   ]
  },
  {
   "cell_type": "code",
   "execution_count": null,
   "id": "af70e0f7",
   "metadata": {},
   "outputs": [],
   "source": [
    "model_5_1_accuracy = knn(y_train,y_test ,X_train, X_test, 1)"
   ]
  },
  {
   "cell_type": "code",
   "execution_count": null,
   "id": "315e65d2",
   "metadata": {},
   "outputs": [],
   "source": [
    "model_5_2_accuracy = knn(y_train,y_test ,X_train, X_test, 2)"
   ]
  },
  {
   "cell_type": "code",
   "execution_count": null,
   "id": "7b366e9a",
   "metadata": {},
   "outputs": [],
   "source": [
    "model_5_3_accuracy = knn(y_train,y_test ,X_train, X_test, 3)"
   ]
  },
  {
   "cell_type": "code",
   "execution_count": null,
   "id": "d1250b61",
   "metadata": {},
   "outputs": [],
   "source": [
    "model_5_4_accuracy = knn(y_train,y_test ,X_train, X_test, 4)"
   ]
  },
  {
   "cell_type": "code",
   "execution_count": null,
   "id": "059aa951",
   "metadata": {},
   "outputs": [],
   "source": [
    "model_5_5_accuracy = knn(y_train,y_test ,X_train, X_test, 5)"
   ]
  },
  {
   "cell_type": "code",
   "execution_count": null,
   "id": "6211af69",
   "metadata": {},
   "outputs": [],
   "source": [
    "accuracy_visual(model_1_accuracy, model_2_1_accuracy, model_2_2_accuracy, model_3_accuracy, model_4_accuracy, model_5_1_accuracy, model_5_2_accuracy, model_5_3_accuracy, model_5_4_accuracy, model_5_5_accuracy)"
   ]
  },
  {
   "cell_type": "markdown",
   "id": "9722b12f",
   "metadata": {},
   "source": [
    "## model with 32 lines"
   ]
  },
  {
   "cell_type": "code",
   "execution_count": null,
   "id": "de1b27c1",
   "metadata": {},
   "outputs": [],
   "source": [
    "y_train, y_test, X_train, X_test = df_train_test_split(df_damage_thirtytwo)"
   ]
  },
  {
   "cell_type": "code",
   "execution_count": null,
   "id": "04c2c832",
   "metadata": {},
   "outputs": [],
   "source": [
    "model_1_accuracy = logistic_regression(y_train,y_test ,X_train, X_test)"
   ]
  },
  {
   "cell_type": "code",
   "execution_count": null,
   "id": "d15d48f3",
   "metadata": {},
   "outputs": [],
   "source": [
    "model_2_1_accuracy = gaussiannb(y_train,y_test ,X_train, X_test)"
   ]
  },
  {
   "cell_type": "code",
   "execution_count": null,
   "id": "796cc7f0",
   "metadata": {},
   "outputs": [],
   "source": [
    "model_2_2_accuracy = multinomialnb(y_train,y_test ,X_train, X_test)"
   ]
  },
  {
   "cell_type": "code",
   "execution_count": null,
   "id": "bb909d4d",
   "metadata": {},
   "outputs": [],
   "source": [
    "model_3_accuracy = lda(y_train,y_test ,X_train, X_test)"
   ]
  },
  {
   "cell_type": "code",
   "execution_count": null,
   "id": "f263ab05",
   "metadata": {},
   "outputs": [],
   "source": [
    "model_4_accuracy = 0"
   ]
  },
  {
   "cell_type": "code",
   "execution_count": null,
   "id": "deb46509",
   "metadata": {},
   "outputs": [],
   "source": [
    "model_5_1_accuracy = knn(y_train,y_test ,X_train, X_test, 1)"
   ]
  },
  {
   "cell_type": "code",
   "execution_count": null,
   "id": "16b4e93b",
   "metadata": {},
   "outputs": [],
   "source": [
    "model_5_2_accuracy = knn(y_train,y_test ,X_train, X_test, 2)"
   ]
  },
  {
   "cell_type": "code",
   "execution_count": null,
   "id": "6f8489a1",
   "metadata": {},
   "outputs": [],
   "source": [
    "model_5_3_accuracy = knn(y_train,y_test ,X_train, X_test, 3)"
   ]
  },
  {
   "cell_type": "code",
   "execution_count": null,
   "id": "bbfc161b",
   "metadata": {},
   "outputs": [],
   "source": [
    "model_5_4_accuracy = knn(y_train,y_test ,X_train, X_test, 4)"
   ]
  },
  {
   "cell_type": "code",
   "execution_count": null,
   "id": "89421a37",
   "metadata": {},
   "outputs": [],
   "source": [
    "model_5_5_accuracy = knn(y_train,y_test ,X_train, X_test, 5)"
   ]
  },
  {
   "cell_type": "code",
   "execution_count": null,
   "id": "dfeced1a",
   "metadata": {},
   "outputs": [],
   "source": [
    "accuracy_visual(model_1_accuracy, model_2_1_accuracy, model_2_2_accuracy, model_3_accuracy, model_4_accuracy, model_5_1_accuracy, model_5_2_accuracy, model_5_3_accuracy, model_5_4_accuracy, model_5_5_accuracy)"
   ]
  },
  {
   "cell_type": "code",
   "execution_count": null,
   "id": "e9f47a5f",
   "metadata": {},
   "outputs": [],
   "source": []
  }
 ],
 "metadata": {
  "kernelspec": {
   "display_name": "Python 3 (ipykernel)",
   "language": "python",
   "name": "python3"
  },
  "language_info": {
   "codemirror_mode": {
    "name": "ipython",
    "version": 3
   },
   "file_extension": ".py",
   "mimetype": "text/x-python",
   "name": "python",
   "nbconvert_exporter": "python",
   "pygments_lexer": "ipython3",
   "version": "3.9.6"
  }
 },
 "nbformat": 4,
 "nbformat_minor": 5
}
