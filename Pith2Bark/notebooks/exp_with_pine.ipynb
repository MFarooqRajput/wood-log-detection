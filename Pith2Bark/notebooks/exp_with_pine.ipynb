{
 "cells": [
  {
   "cell_type": "code",
   "execution_count": 1,
   "id": "f2bc938e",
   "metadata": {},
   "outputs": [
    {
     "name": "stdout",
     "output_type": "stream",
     "text": [
      "/Users/muhammadfarooq/Codebase/thesis-experiment/Pith2Bark\n"
     ]
    }
   ],
   "source": [
    "cd .."
   ]
  },
  {
   "cell_type": "code",
   "execution_count": 2,
   "id": "c74a306d",
   "metadata": {},
   "outputs": [
    {
     "name": "stderr",
     "output_type": "stream",
     "text": [
      "2023-03-28 17:47:58.663514: I tensorflow/core/platform/cpu_feature_guard.cc:193] This TensorFlow binary is optimized with oneAPI Deep Neural Network Library (oneDNN) to use the following CPU instructions in performance-critical operations:  AVX2 AVX512F AVX512_VNNI FMA\n",
      "To enable them in other operations, rebuild TensorFlow with the appropriate compiler flags.\n"
     ]
    }
   ],
   "source": [
    "from src.experiment import with_model\n",
    "from src.model import Model\n",
    "from src.multi_mse import multi_mse"
   ]
  },
  {
   "cell_type": "markdown",
   "id": "a382f8b5",
   "metadata": {},
   "source": [
    "# Configurations"
   ]
  },
  {
   "cell_type": "code",
   "execution_count": 3,
   "id": "1aef55ef",
   "metadata": {},
   "outputs": [],
   "source": [
    "#data directory here!\n",
    "data_dir = \"dataset/pine\"\n",
    "\n",
    "#ranking file\n",
    "ranking_url = \"dataset/pine.xlsx\"\n",
    "\n",
    "#pickle file\n",
    "pith_url = \"pith/pine.pickle\""
   ]
  },
  {
   "cell_type": "markdown",
   "id": "2738afaf",
   "metadata": {},
   "source": [
    "## Phase 1 Model"
   ]
  },
  {
   "cell_type": "code",
   "execution_count": 4,
   "id": "f404c659",
   "metadata": {},
   "outputs": [],
   "source": [
    "#MSE file\n",
    "mse_url = \"output/pine_mse.csv\"\n",
    "\n",
    "#rings info file\n",
    "rings_url = \"output/pine_rings.csv\"\n",
    "\n",
    "#no of lines and points\n",
    "lines = 16\n",
    "points = 150"
   ]
  },
  {
   "cell_type": "code",
   "execution_count": 5,
   "id": "0fc5323d",
   "metadata": {},
   "outputs": [
    {
     "name": "stdout",
     "output_type": "stream",
     "text": [
      "0 6689.jpg 113.8\n",
      "1 6683.jpg 106.2\n",
      "2 6721.jpg 80.6\n",
      "3 6723.jpg 65.2\n",
      "4 6722.jpg 93.4\n",
      "5 6690.jpg 104.2\n",
      "6 6725.jpg 83.2\n",
      "7 6724.jpg 73.4\n",
      "8 6693.jpg 109.2\n"
     ]
    },
    {
     "data": {
      "text/html": [
       "<div>\n",
       "<style scoped>\n",
       "    .dataframe tbody tr th:only-of-type {\n",
       "        vertical-align: middle;\n",
       "    }\n",
       "\n",
       "    .dataframe tbody tr th {\n",
       "        vertical-align: top;\n",
       "    }\n",
       "\n",
       "    .dataframe thead th {\n",
       "        text-align: right;\n",
       "    }\n",
       "</style>\n",
       "<table border=\"1\" class=\"dataframe\">\n",
       "  <thead>\n",
       "    <tr style=\"text-align: right;\">\n",
       "      <th></th>\n",
       "      <th>model</th>\n",
       "      <th>subseq</th>\n",
       "      <th>peaks</th>\n",
       "      <th>binary</th>\n",
       "      <th>mwa</th>\n",
       "    </tr>\n",
       "  </thead>\n",
       "  <tbody>\n",
       "    <tr>\n",
       "      <th>0</th>\n",
       "      <td>Grayscale</td>\n",
       "      <td>377.934223</td>\n",
       "      <td>57.866325</td>\n",
       "      <td>356.044464</td>\n",
       "      <td>32.206425</td>\n",
       "    </tr>\n",
       "  </tbody>\n",
       "</table>\n",
       "</div>"
      ],
      "text/plain": [
       "       model      subseq      peaks      binary        mwa\n",
       "0  Grayscale  377.934223  57.866325  356.044464  32.206425"
      ]
     },
     "metadata": {},
     "output_type": "display_data"
    }
   ],
   "source": [
    "with_model(Model.GRAYSCALE, lines, points, data_dir, ranking_url, pith_url, rings_url, mse_url)"
   ]
  },
  {
   "cell_type": "code",
   "execution_count": 6,
   "id": "5c5e0158",
   "metadata": {},
   "outputs": [
    {
     "name": "stdout",
     "output_type": "stream",
     "text": [
      "0 6689.jpg 113.8\n",
      "1 6683.jpg 106.2\n",
      "2 6721.jpg 80.6\n",
      "3 6723.jpg 65.2\n",
      "4 6722.jpg 93.4\n",
      "5 6690.jpg 104.2\n",
      "6 6725.jpg 83.2\n",
      "7 6724.jpg 73.4\n",
      "8 6693.jpg 109.2\n"
     ]
    },
    {
     "data": {
      "text/html": [
       "<div>\n",
       "<style scoped>\n",
       "    .dataframe tbody tr th:only-of-type {\n",
       "        vertical-align: middle;\n",
       "    }\n",
       "\n",
       "    .dataframe tbody tr th {\n",
       "        vertical-align: top;\n",
       "    }\n",
       "\n",
       "    .dataframe thead th {\n",
       "        text-align: right;\n",
       "    }\n",
       "</style>\n",
       "<table border=\"1\" class=\"dataframe\">\n",
       "  <thead>\n",
       "    <tr style=\"text-align: right;\">\n",
       "      <th></th>\n",
       "      <th>model</th>\n",
       "      <th>subseq</th>\n",
       "      <th>peaks</th>\n",
       "      <th>binary</th>\n",
       "      <th>mwa</th>\n",
       "    </tr>\n",
       "  </thead>\n",
       "  <tbody>\n",
       "    <tr>\n",
       "      <th>0</th>\n",
       "      <td>Polar</td>\n",
       "      <td>156.037722</td>\n",
       "      <td>77.303212</td>\n",
       "      <td>342.167561</td>\n",
       "      <td>44.719424</td>\n",
       "    </tr>\n",
       "  </tbody>\n",
       "</table>\n",
       "</div>"
      ],
      "text/plain": [
       "   model      subseq      peaks      binary        mwa\n",
       "0  Polar  156.037722  77.303212  342.167561  44.719424"
      ]
     },
     "metadata": {},
     "output_type": "display_data"
    }
   ],
   "source": [
    "with_model(Model.POLAR, lines, points, data_dir, ranking_url, pith_url, rings_url, mse_url)"
   ]
  },
  {
   "cell_type": "code",
   "execution_count": 7,
   "id": "d9e30891",
   "metadata": {},
   "outputs": [
    {
     "name": "stdout",
     "output_type": "stream",
     "text": [
      "0 6689.jpg 113.8\n",
      "1 6683.jpg 106.2\n",
      "2 6721.jpg 80.6\n",
      "3 6723.jpg 65.2\n",
      "4 6722.jpg 93.4\n",
      "5 6690.jpg 104.2\n",
      "6 6725.jpg 83.2\n",
      "7 6724.jpg 73.4\n",
      "8 6693.jpg 109.2\n"
     ]
    },
    {
     "data": {
      "text/html": [
       "<div>\n",
       "<style scoped>\n",
       "    .dataframe tbody tr th:only-of-type {\n",
       "        vertical-align: middle;\n",
       "    }\n",
       "\n",
       "    .dataframe tbody tr th {\n",
       "        vertical-align: top;\n",
       "    }\n",
       "\n",
       "    .dataframe thead th {\n",
       "        text-align: right;\n",
       "    }\n",
       "</style>\n",
       "<table border=\"1\" class=\"dataframe\">\n",
       "  <thead>\n",
       "    <tr style=\"text-align: right;\">\n",
       "      <th></th>\n",
       "      <th>model</th>\n",
       "      <th>subseq</th>\n",
       "      <th>peaks</th>\n",
       "      <th>binary</th>\n",
       "      <th>mwa</th>\n",
       "    </tr>\n",
       "  </thead>\n",
       "  <tbody>\n",
       "    <tr>\n",
       "      <th>0</th>\n",
       "      <td>Polar Pith</td>\n",
       "      <td>135.804994</td>\n",
       "      <td>78.905877</td>\n",
       "      <td>302.007563</td>\n",
       "      <td>45.456342</td>\n",
       "    </tr>\n",
       "  </tbody>\n",
       "</table>\n",
       "</div>"
      ],
      "text/plain": [
       "        model      subseq      peaks      binary        mwa\n",
       "0  Polar Pith  135.804994  78.905877  302.007563  45.456342"
      ]
     },
     "metadata": {},
     "output_type": "display_data"
    }
   ],
   "source": [
    "with_model(Model.POLAR_PITH, lines, points, data_dir, ranking_url, pith_url, rings_url, mse_url)"
   ]
  },
  {
   "cell_type": "code",
   "execution_count": 8,
   "id": "33125fc3",
   "metadata": {},
   "outputs": [
    {
     "name": "stdout",
     "output_type": "stream",
     "text": [
      "0 6689.jpg 113.8\n",
      "1 6683.jpg 106.2\n",
      "2 6721.jpg 80.6\n",
      "3 6723.jpg 65.2\n",
      "4 6722.jpg 93.4\n",
      "5 6690.jpg 104.2\n",
      "6 6725.jpg 83.2\n",
      "7 6724.jpg 73.4\n",
      "8 6693.jpg 109.2\n"
     ]
    },
    {
     "data": {
      "text/html": [
       "<div>\n",
       "<style scoped>\n",
       "    .dataframe tbody tr th:only-of-type {\n",
       "        vertical-align: middle;\n",
       "    }\n",
       "\n",
       "    .dataframe tbody tr th {\n",
       "        vertical-align: top;\n",
       "    }\n",
       "\n",
       "    .dataframe thead th {\n",
       "        text-align: right;\n",
       "    }\n",
       "</style>\n",
       "<table border=\"1\" class=\"dataframe\">\n",
       "  <thead>\n",
       "    <tr style=\"text-align: right;\">\n",
       "      <th></th>\n",
       "      <th>model</th>\n",
       "      <th>subseq</th>\n",
       "      <th>peaks</th>\n",
       "      <th>binary</th>\n",
       "      <th>mwa</th>\n",
       "    </tr>\n",
       "  </thead>\n",
       "  <tbody>\n",
       "    <tr>\n",
       "      <th>0</th>\n",
       "      <td>Sobel</td>\n",
       "      <td>507.751865</td>\n",
       "      <td>62.990385</td>\n",
       "      <td>473.878753</td>\n",
       "      <td>115.730862</td>\n",
       "    </tr>\n",
       "  </tbody>\n",
       "</table>\n",
       "</div>"
      ],
      "text/plain": [
       "   model      subseq      peaks      binary         mwa\n",
       "0  Sobel  507.751865  62.990385  473.878753  115.730862"
      ]
     },
     "metadata": {},
     "output_type": "display_data"
    }
   ],
   "source": [
    "with_model(Model.SOBEL_EDGE, lines, points, data_dir, ranking_url, pith_url, rings_url, mse_url)"
   ]
  },
  {
   "cell_type": "code",
   "execution_count": 9,
   "id": "9dd0bf5b",
   "metadata": {},
   "outputs": [
    {
     "name": "stdout",
     "output_type": "stream",
     "text": [
      "0 6689.jpg 113.8\n",
      "1 6683.jpg 106.2\n",
      "2 6721.jpg 80.6\n",
      "3 6723.jpg 65.2\n",
      "4 6722.jpg 93.4\n",
      "5 6690.jpg 104.2\n",
      "6 6725.jpg 83.2\n",
      "7 6724.jpg 73.4\n",
      "8 6693.jpg 109.2\n"
     ]
    },
    {
     "data": {
      "text/html": [
       "<div>\n",
       "<style scoped>\n",
       "    .dataframe tbody tr th:only-of-type {\n",
       "        vertical-align: middle;\n",
       "    }\n",
       "\n",
       "    .dataframe tbody tr th {\n",
       "        vertical-align: top;\n",
       "    }\n",
       "\n",
       "    .dataframe thead th {\n",
       "        text-align: right;\n",
       "    }\n",
       "</style>\n",
       "<table border=\"1\" class=\"dataframe\">\n",
       "  <thead>\n",
       "    <tr style=\"text-align: right;\">\n",
       "      <th></th>\n",
       "      <th>model</th>\n",
       "      <th>subseq</th>\n",
       "      <th>peaks</th>\n",
       "      <th>binary</th>\n",
       "      <th>mwa</th>\n",
       "    </tr>\n",
       "  </thead>\n",
       "  <tbody>\n",
       "    <tr>\n",
       "      <th>0</th>\n",
       "      <td>Canny</td>\n",
       "      <td>66.973192</td>\n",
       "      <td>32.587798</td>\n",
       "      <td>291.219936</td>\n",
       "      <td>200.609979</td>\n",
       "    </tr>\n",
       "  </tbody>\n",
       "</table>\n",
       "</div>"
      ],
      "text/plain": [
       "   model     subseq      peaks      binary         mwa\n",
       "0  Canny  66.973192  32.587798  291.219936  200.609979"
      ]
     },
     "metadata": {},
     "output_type": "display_data"
    }
   ],
   "source": [
    "with_model(Model.CANNY_EDGE, lines, points, data_dir, ranking_url, pith_url, rings_url, mse_url)"
   ]
  },
  {
   "cell_type": "code",
   "execution_count": 10,
   "id": "c3043ef5",
   "metadata": {},
   "outputs": [
    {
     "name": "stdout",
     "output_type": "stream",
     "text": [
      "Grayscale 32.20642458768471 (mwa) \n",
      "\n"
     ]
    },
    {
     "data": {
      "text/html": [
       "<div>\n",
       "<style scoped>\n",
       "    .dataframe tbody tr th:only-of-type {\n",
       "        vertical-align: middle;\n",
       "    }\n",
       "\n",
       "    .dataframe tbody tr th {\n",
       "        vertical-align: top;\n",
       "    }\n",
       "\n",
       "    .dataframe thead th {\n",
       "        text-align: right;\n",
       "    }\n",
       "</style>\n",
       "<table border=\"1\" class=\"dataframe\">\n",
       "  <thead>\n",
       "    <tr style=\"text-align: right;\">\n",
       "      <th></th>\n",
       "      <th>subseq</th>\n",
       "      <th>peaks</th>\n",
       "      <th>binary</th>\n",
       "      <th>mwa</th>\n",
       "    </tr>\n",
       "    <tr>\n",
       "      <th>model</th>\n",
       "      <th></th>\n",
       "      <th></th>\n",
       "      <th></th>\n",
       "      <th></th>\n",
       "    </tr>\n",
       "  </thead>\n",
       "  <tbody>\n",
       "    <tr>\n",
       "      <th>Grayscale</th>\n",
       "      <td>377.934223</td>\n",
       "      <td>57.866325</td>\n",
       "      <td>356.044464</td>\n",
       "      <td>32.206425</td>\n",
       "    </tr>\n",
       "    <tr>\n",
       "      <th>Polar</th>\n",
       "      <td>156.037722</td>\n",
       "      <td>77.303212</td>\n",
       "      <td>342.167561</td>\n",
       "      <td>44.719424</td>\n",
       "    </tr>\n",
       "    <tr>\n",
       "      <th>Polar Pith</th>\n",
       "      <td>135.804994</td>\n",
       "      <td>78.905877</td>\n",
       "      <td>302.007563</td>\n",
       "      <td>45.456342</td>\n",
       "    </tr>\n",
       "    <tr>\n",
       "      <th>Sobel</th>\n",
       "      <td>507.751865</td>\n",
       "      <td>62.990385</td>\n",
       "      <td>473.878753</td>\n",
       "      <td>115.730862</td>\n",
       "    </tr>\n",
       "    <tr>\n",
       "      <th>Canny</th>\n",
       "      <td>66.973192</td>\n",
       "      <td>32.587798</td>\n",
       "      <td>291.219936</td>\n",
       "      <td>200.609979</td>\n",
       "    </tr>\n",
       "  </tbody>\n",
       "</table>\n",
       "</div>"
      ],
      "text/plain": [
       "                subseq      peaks      binary         mwa\n",
       "model                                                    \n",
       "Grayscale   377.934223  57.866325  356.044464   32.206425\n",
       "Polar       156.037722  77.303212  342.167561   44.719424\n",
       "Polar Pith  135.804994  78.905877  302.007563   45.456342\n",
       "Sobel       507.751865  62.990385  473.878753  115.730862\n",
       "Canny        66.973192  32.587798  291.219936  200.609979"
      ]
     },
     "metadata": {},
     "output_type": "display_data"
    },
    {
     "name": "stdout",
     "output_type": "stream",
     "text": [
      "Min: 32.20642458768471, Max: 507.7518650637281\n"
     ]
    },
    {
     "data": {
      "image/png": "[encoded data removed]",
      "text/plain": [
       "<Figure size 640x480 with 1 Axes>"
      ]
     },
     "metadata": {},
     "output_type": "display_data"
    }
   ],
   "source": [
    "multi_mse(mse_url, False)"
   ]
  },
  {
   "cell_type": "code",
   "execution_count": 11,
   "id": "ddb0de4d",
   "metadata": {},
   "outputs": [],
   "source": [
    "#STOP"
   ]
  },
  {
   "cell_type": "markdown",
   "id": "dcfff2f6",
   "metadata": {},
   "source": [
    "## Phase 2 Model"
   ]
  },
  {
   "cell_type": "markdown",
   "id": "600e29d4",
   "metadata": {},
   "source": [
    "### Model with 16 lines"
   ]
  },
  {
   "cell_type": "code",
   "execution_count": 12,
   "id": "ddd064fc",
   "metadata": {},
   "outputs": [],
   "source": [
    "#MSE file\n",
    "mse_url = \"output/pine_mse_sixteen.csv\"\n",
    "\n",
    "#rings info file\n",
    "rings_url = \"output/pine_rings_sixteen.csv\"\n",
    "\n",
    "#no of lines and points\n",
    "lines = 16\n",
    "points = 150"
   ]
  },
  {
   "cell_type": "code",
   "execution_count": 13,
   "id": "51fb0795",
   "metadata": {},
   "outputs": [
    {
     "name": "stdout",
     "output_type": "stream",
     "text": [
      "0 6689.jpg 113.8\n",
      "1 6683.jpg 106.2\n",
      "2 6721.jpg 80.6\n",
      "3 6723.jpg 65.2\n",
      "4 6722.jpg 93.4\n",
      "5 6690.jpg 104.2\n",
      "6 6725.jpg 83.2\n",
      "7 6724.jpg 73.4\n",
      "8 6693.jpg 109.2\n"
     ]
    },
    {
     "data": {
      "text/html": [
       "<div>\n",
       "<style scoped>\n",
       "    .dataframe tbody tr th:only-of-type {\n",
       "        vertical-align: middle;\n",
       "    }\n",
       "\n",
       "    .dataframe tbody tr th {\n",
       "        vertical-align: top;\n",
       "    }\n",
       "\n",
       "    .dataframe thead th {\n",
       "        text-align: right;\n",
       "    }\n",
       "</style>\n",
       "<table border=\"1\" class=\"dataframe\">\n",
       "  <thead>\n",
       "    <tr style=\"text-align: right;\">\n",
       "      <th></th>\n",
       "      <th>model</th>\n",
       "      <th>subseq</th>\n",
       "      <th>peaks</th>\n",
       "      <th>binary</th>\n",
       "      <th>mwa</th>\n",
       "    </tr>\n",
       "  </thead>\n",
       "  <tbody>\n",
       "    <tr>\n",
       "      <th>0</th>\n",
       "      <td>Grayscale</td>\n",
       "      <td>377.934223</td>\n",
       "      <td>57.866325</td>\n",
       "      <td>356.044464</td>\n",
       "      <td>32.206425</td>\n",
       "    </tr>\n",
       "  </tbody>\n",
       "</table>\n",
       "</div>"
      ],
      "text/plain": [
       "       model      subseq      peaks      binary        mwa\n",
       "0  Grayscale  377.934223  57.866325  356.044464  32.206425"
      ]
     },
     "metadata": {},
     "output_type": "display_data"
    }
   ],
   "source": [
    "with_model(Model.GRAYSCALE, lines, points, data_dir, ranking_url, pith_url, rings_url, mse_url)"
   ]
  },
  {
   "cell_type": "code",
   "execution_count": 14,
   "id": "e9558f17",
   "metadata": {},
   "outputs": [
    {
     "name": "stdout",
     "output_type": "stream",
     "text": [
      "0 6689.jpg 113.8\n",
      "1 6683.jpg 106.2\n",
      "2 6721.jpg 80.6\n",
      "3 6723.jpg 65.2\n",
      "4 6722.jpg 93.4\n",
      "5 6690.jpg 104.2\n",
      "6 6725.jpg 83.2\n",
      "7 6724.jpg 73.4\n",
      "8 6693.jpg 109.2\n"
     ]
    },
    {
     "data": {
      "text/html": [
       "<div>\n",
       "<style scoped>\n",
       "    .dataframe tbody tr th:only-of-type {\n",
       "        vertical-align: middle;\n",
       "    }\n",
       "\n",
       "    .dataframe tbody tr th {\n",
       "        vertical-align: top;\n",
       "    }\n",
       "\n",
       "    .dataframe thead th {\n",
       "        text-align: right;\n",
       "    }\n",
       "</style>\n",
       "<table border=\"1\" class=\"dataframe\">\n",
       "  <thead>\n",
       "    <tr style=\"text-align: right;\">\n",
       "      <th></th>\n",
       "      <th>model</th>\n",
       "      <th>subseq</th>\n",
       "      <th>peaks</th>\n",
       "      <th>binary</th>\n",
       "      <th>mwa</th>\n",
       "    </tr>\n",
       "  </thead>\n",
       "  <tbody>\n",
       "    <tr>\n",
       "      <th>0</th>\n",
       "      <td>Polar</td>\n",
       "      <td>156.037722</td>\n",
       "      <td>77.303212</td>\n",
       "      <td>342.167561</td>\n",
       "      <td>44.719424</td>\n",
       "    </tr>\n",
       "  </tbody>\n",
       "</table>\n",
       "</div>"
      ],
      "text/plain": [
       "   model      subseq      peaks      binary        mwa\n",
       "0  Polar  156.037722  77.303212  342.167561  44.719424"
      ]
     },
     "metadata": {},
     "output_type": "display_data"
    }
   ],
   "source": [
    "with_model(Model.POLAR, lines, points, data_dir, ranking_url, pith_url, rings_url, mse_url)"
   ]
  },
  {
   "cell_type": "code",
   "execution_count": 15,
   "id": "1b0ac3f1",
   "metadata": {},
   "outputs": [
    {
     "name": "stdout",
     "output_type": "stream",
     "text": [
      "0 6689.jpg 113.8\n",
      "1 6683.jpg 106.2\n",
      "2 6721.jpg 80.6\n",
      "3 6723.jpg 65.2\n",
      "4 6722.jpg 93.4\n",
      "5 6690.jpg 104.2\n",
      "6 6725.jpg 83.2\n",
      "7 6724.jpg 73.4\n",
      "8 6693.jpg 109.2\n"
     ]
    },
    {
     "data": {
      "text/html": [
       "<div>\n",
       "<style scoped>\n",
       "    .dataframe tbody tr th:only-of-type {\n",
       "        vertical-align: middle;\n",
       "    }\n",
       "\n",
       "    .dataframe tbody tr th {\n",
       "        vertical-align: top;\n",
       "    }\n",
       "\n",
       "    .dataframe thead th {\n",
       "        text-align: right;\n",
       "    }\n",
       "</style>\n",
       "<table border=\"1\" class=\"dataframe\">\n",
       "  <thead>\n",
       "    <tr style=\"text-align: right;\">\n",
       "      <th></th>\n",
       "      <th>model</th>\n",
       "      <th>subseq</th>\n",
       "      <th>peaks</th>\n",
       "      <th>binary</th>\n",
       "      <th>mwa</th>\n",
       "    </tr>\n",
       "  </thead>\n",
       "  <tbody>\n",
       "    <tr>\n",
       "      <th>0</th>\n",
       "      <td>Polar Pith</td>\n",
       "      <td>135.804994</td>\n",
       "      <td>78.905877</td>\n",
       "      <td>302.007563</td>\n",
       "      <td>45.456342</td>\n",
       "    </tr>\n",
       "  </tbody>\n",
       "</table>\n",
       "</div>"
      ],
      "text/plain": [
       "        model      subseq      peaks      binary        mwa\n",
       "0  Polar Pith  135.804994  78.905877  302.007563  45.456342"
      ]
     },
     "metadata": {},
     "output_type": "display_data"
    }
   ],
   "source": [
    "with_model(Model.POLAR_PITH, lines, points, data_dir, ranking_url, pith_url, rings_url, mse_url)"
   ]
  },
  {
   "cell_type": "code",
   "execution_count": null,
   "id": "35b80fb0",
   "metadata": {},
   "outputs": [],
   "source": []
  },
  {
   "cell_type": "code",
   "execution_count": 16,
   "id": "58f9f265",
   "metadata": {},
   "outputs": [
    {
     "name": "stdout",
     "output_type": "stream",
     "text": [
      "0 6689.jpg 113.8\n",
      "1 6683.jpg 106.2\n",
      "2 6721.jpg 80.6\n",
      "3 6723.jpg 65.2\n",
      "4 6722.jpg 93.4\n",
      "5 6690.jpg 104.2\n",
      "6 6725.jpg 83.2\n",
      "7 6724.jpg 73.4\n",
      "8 6693.jpg 109.2\n"
     ]
    },
    {
     "data": {
      "text/html": [
       "<div>\n",
       "<style scoped>\n",
       "    .dataframe tbody tr th:only-of-type {\n",
       "        vertical-align: middle;\n",
       "    }\n",
       "\n",
       "    .dataframe tbody tr th {\n",
       "        vertical-align: top;\n",
       "    }\n",
       "\n",
       "    .dataframe thead th {\n",
       "        text-align: right;\n",
       "    }\n",
       "</style>\n",
       "<table border=\"1\" class=\"dataframe\">\n",
       "  <thead>\n",
       "    <tr style=\"text-align: right;\">\n",
       "      <th></th>\n",
       "      <th>model</th>\n",
       "      <th>subseq</th>\n",
       "      <th>peaks</th>\n",
       "      <th>binary</th>\n",
       "      <th>mwa</th>\n",
       "    </tr>\n",
       "  </thead>\n",
       "  <tbody>\n",
       "    <tr>\n",
       "      <th>0</th>\n",
       "      <td>Sobel</td>\n",
       "      <td>507.751865</td>\n",
       "      <td>62.990385</td>\n",
       "      <td>473.878753</td>\n",
       "      <td>115.730862</td>\n",
       "    </tr>\n",
       "  </tbody>\n",
       "</table>\n",
       "</div>"
      ],
      "text/plain": [
       "   model      subseq      peaks      binary         mwa\n",
       "0  Sobel  507.751865  62.990385  473.878753  115.730862"
      ]
     },
     "metadata": {},
     "output_type": "display_data"
    }
   ],
   "source": [
    "with_model(Model.SOBEL_EDGE, lines, points, data_dir, ranking_url, pith_url, rings_url, mse_url)"
   ]
  },
  {
   "cell_type": "code",
   "execution_count": 17,
   "id": "48d1849e",
   "metadata": {},
   "outputs": [
    {
     "name": "stdout",
     "output_type": "stream",
     "text": [
      "0 6689.jpg 113.8\n",
      "1 6683.jpg 106.2\n",
      "2 6721.jpg 80.6\n",
      "3 6723.jpg 65.2\n",
      "4 6722.jpg 93.4\n",
      "5 6690.jpg 104.2\n",
      "6 6725.jpg 83.2\n",
      "7 6724.jpg 73.4\n",
      "8 6693.jpg 109.2\n"
     ]
    },
    {
     "data": {
      "text/html": [
       "<div>\n",
       "<style scoped>\n",
       "    .dataframe tbody tr th:only-of-type {\n",
       "        vertical-align: middle;\n",
       "    }\n",
       "\n",
       "    .dataframe tbody tr th {\n",
       "        vertical-align: top;\n",
       "    }\n",
       "\n",
       "    .dataframe thead th {\n",
       "        text-align: right;\n",
       "    }\n",
       "</style>\n",
       "<table border=\"1\" class=\"dataframe\">\n",
       "  <thead>\n",
       "    <tr style=\"text-align: right;\">\n",
       "      <th></th>\n",
       "      <th>model</th>\n",
       "      <th>subseq</th>\n",
       "      <th>peaks</th>\n",
       "      <th>binary</th>\n",
       "      <th>mwa</th>\n",
       "    </tr>\n",
       "  </thead>\n",
       "  <tbody>\n",
       "    <tr>\n",
       "      <th>0</th>\n",
       "      <td>Sobel(blur)</td>\n",
       "      <td>434.447997</td>\n",
       "      <td>30.647399</td>\n",
       "      <td>419.524312</td>\n",
       "      <td>58.440076</td>\n",
       "    </tr>\n",
       "  </tbody>\n",
       "</table>\n",
       "</div>"
      ],
      "text/plain": [
       "         model      subseq      peaks      binary        mwa\n",
       "0  Sobel(blur)  434.447997  30.647399  419.524312  58.440076"
      ]
     },
     "metadata": {},
     "output_type": "display_data"
    }
   ],
   "source": [
    "with_model(Model.SOBEL_EDGE_BLUR, lines, points, data_dir, ranking_url, pith_url, rings_url, mse_url)"
   ]
  },
  {
   "cell_type": "code",
   "execution_count": 18,
   "id": "bfdb6e13",
   "metadata": {},
   "outputs": [
    {
     "name": "stdout",
     "output_type": "stream",
     "text": [
      "0 6689.jpg 113.8\n",
      "1 6683.jpg 106.2\n",
      "2 6721.jpg 80.6\n",
      "3 6723.jpg 65.2\n",
      "4 6722.jpg 93.4\n",
      "5 6690.jpg 104.2\n",
      "6 6725.jpg 83.2\n",
      "7 6724.jpg 73.4\n",
      "8 6693.jpg 109.2\n"
     ]
    },
    {
     "data": {
      "text/html": [
       "<div>\n",
       "<style scoped>\n",
       "    .dataframe tbody tr th:only-of-type {\n",
       "        vertical-align: middle;\n",
       "    }\n",
       "\n",
       "    .dataframe tbody tr th {\n",
       "        vertical-align: top;\n",
       "    }\n",
       "\n",
       "    .dataframe thead th {\n",
       "        text-align: right;\n",
       "    }\n",
       "</style>\n",
       "<table border=\"1\" class=\"dataframe\">\n",
       "  <thead>\n",
       "    <tr style=\"text-align: right;\">\n",
       "      <th></th>\n",
       "      <th>model</th>\n",
       "      <th>subseq</th>\n",
       "      <th>peaks</th>\n",
       "      <th>binary</th>\n",
       "      <th>mwa</th>\n",
       "    </tr>\n",
       "  </thead>\n",
       "  <tbody>\n",
       "    <tr>\n",
       "      <th>0</th>\n",
       "      <td>Canny</td>\n",
       "      <td>66.973192</td>\n",
       "      <td>32.587798</td>\n",
       "      <td>291.219936</td>\n",
       "      <td>200.609979</td>\n",
       "    </tr>\n",
       "  </tbody>\n",
       "</table>\n",
       "</div>"
      ],
      "text/plain": [
       "   model     subseq      peaks      binary         mwa\n",
       "0  Canny  66.973192  32.587798  291.219936  200.609979"
      ]
     },
     "metadata": {},
     "output_type": "display_data"
    }
   ],
   "source": [
    "with_model(Model.CANNY_EDGE, lines, points, data_dir, ranking_url, pith_url, rings_url, mse_url)"
   ]
  },
  {
   "cell_type": "code",
   "execution_count": 19,
   "id": "af83b217",
   "metadata": {},
   "outputs": [
    {
     "name": "stdout",
     "output_type": "stream",
     "text": [
      "0 6689.jpg 113.8\n",
      "1 6683.jpg 106.2\n",
      "2 6721.jpg 80.6\n",
      "3 6723.jpg 65.2\n",
      "4 6722.jpg 93.4\n",
      "5 6690.jpg 104.2\n",
      "6 6725.jpg 83.2\n",
      "7 6724.jpg 73.4\n",
      "8 6693.jpg 109.2\n"
     ]
    },
    {
     "data": {
      "text/html": [
       "<div>\n",
       "<style scoped>\n",
       "    .dataframe tbody tr th:only-of-type {\n",
       "        vertical-align: middle;\n",
       "    }\n",
       "\n",
       "    .dataframe tbody tr th {\n",
       "        vertical-align: top;\n",
       "    }\n",
       "\n",
       "    .dataframe thead th {\n",
       "        text-align: right;\n",
       "    }\n",
       "</style>\n",
       "<table border=\"1\" class=\"dataframe\">\n",
       "  <thead>\n",
       "    <tr style=\"text-align: right;\">\n",
       "      <th></th>\n",
       "      <th>model</th>\n",
       "      <th>subseq</th>\n",
       "      <th>peaks</th>\n",
       "      <th>binary</th>\n",
       "      <th>mwa</th>\n",
       "    </tr>\n",
       "  </thead>\n",
       "  <tbody>\n",
       "    <tr>\n",
       "      <th>0</th>\n",
       "      <td>Canny(otsu)</td>\n",
       "      <td>55.837287</td>\n",
       "      <td>28.416849</td>\n",
       "      <td>272.794569</td>\n",
       "      <td>184.842449</td>\n",
       "    </tr>\n",
       "  </tbody>\n",
       "</table>\n",
       "</div>"
      ],
      "text/plain": [
       "         model     subseq      peaks      binary         mwa\n",
       "0  Canny(otsu)  55.837287  28.416849  272.794569  184.842449"
      ]
     },
     "metadata": {},
     "output_type": "display_data"
    }
   ],
   "source": [
    "with_model(Model.CANNY_EDGE_OTSU, lines, points, data_dir, ranking_url, pith_url, rings_url, mse_url)"
   ]
  },
  {
   "cell_type": "code",
   "execution_count": 20,
   "id": "aaf7c5d5",
   "metadata": {},
   "outputs": [
    {
     "name": "stdout",
     "output_type": "stream",
     "text": [
      "0 6689.jpg 113.8\n",
      "1 6683.jpg 106.2\n",
      "2 6721.jpg 80.6\n",
      "3 6723.jpg 65.2\n",
      "4 6722.jpg 93.4\n",
      "5 6690.jpg 104.2\n",
      "6 6725.jpg 83.2\n",
      "7 6724.jpg 73.4\n",
      "8 6693.jpg 109.2\n"
     ]
    },
    {
     "data": {
      "text/html": [
       "<div>\n",
       "<style scoped>\n",
       "    .dataframe tbody tr th:only-of-type {\n",
       "        vertical-align: middle;\n",
       "    }\n",
       "\n",
       "    .dataframe tbody tr th {\n",
       "        vertical-align: top;\n",
       "    }\n",
       "\n",
       "    .dataframe thead th {\n",
       "        text-align: right;\n",
       "    }\n",
       "</style>\n",
       "<table border=\"1\" class=\"dataframe\">\n",
       "  <thead>\n",
       "    <tr style=\"text-align: right;\">\n",
       "      <th></th>\n",
       "      <th>model</th>\n",
       "      <th>subseq</th>\n",
       "      <th>peaks</th>\n",
       "      <th>binary</th>\n",
       "      <th>mwa</th>\n",
       "    </tr>\n",
       "  </thead>\n",
       "  <tbody>\n",
       "    <tr>\n",
       "      <th>0</th>\n",
       "      <td>Canny(triangle)</td>\n",
       "      <td>96.792127</td>\n",
       "      <td>47.812544</td>\n",
       "      <td>343.534092</td>\n",
       "      <td>242.430733</td>\n",
       "    </tr>\n",
       "  </tbody>\n",
       "</table>\n",
       "</div>"
      ],
      "text/plain": [
       "             model     subseq      peaks      binary         mwa\n",
       "0  Canny(triangle)  96.792127  47.812544  343.534092  242.430733"
      ]
     },
     "metadata": {},
     "output_type": "display_data"
    }
   ],
   "source": [
    "with_model(Model.CANNY_EDGE_TRIANGLE, lines, points, data_dir, ranking_url, pith_url, rings_url, mse_url)"
   ]
  },
  {
   "cell_type": "code",
   "execution_count": 21,
   "id": "37b04875",
   "metadata": {},
   "outputs": [
    {
     "name": "stdout",
     "output_type": "stream",
     "text": [
      "0 6689.jpg 113.8\n",
      "1 6683.jpg 106.2\n",
      "2 6721.jpg 80.6\n",
      "3 6723.jpg 65.2\n",
      "4 6722.jpg 93.4\n",
      "5 6690.jpg 104.2\n",
      "6 6725.jpg 83.2\n",
      "7 6724.jpg 73.4\n",
      "8 6693.jpg 109.2\n"
     ]
    },
    {
     "data": {
      "text/html": [
       "<div>\n",
       "<style scoped>\n",
       "    .dataframe tbody tr th:only-of-type {\n",
       "        vertical-align: middle;\n",
       "    }\n",
       "\n",
       "    .dataframe tbody tr th {\n",
       "        vertical-align: top;\n",
       "    }\n",
       "\n",
       "    .dataframe thead th {\n",
       "        text-align: right;\n",
       "    }\n",
       "</style>\n",
       "<table border=\"1\" class=\"dataframe\">\n",
       "  <thead>\n",
       "    <tr style=\"text-align: right;\">\n",
       "      <th></th>\n",
       "      <th>model</th>\n",
       "      <th>subseq</th>\n",
       "      <th>peaks</th>\n",
       "      <th>binary</th>\n",
       "      <th>mwa</th>\n",
       "    </tr>\n",
       "  </thead>\n",
       "  <tbody>\n",
       "    <tr>\n",
       "      <th>0</th>\n",
       "      <td>Canny(manual)</td>\n",
       "      <td>49.666508</td>\n",
       "      <td>31.406042</td>\n",
       "      <td>249.926626</td>\n",
       "      <td>167.25163</td>\n",
       "    </tr>\n",
       "  </tbody>\n",
       "</table>\n",
       "</div>"
      ],
      "text/plain": [
       "           model     subseq      peaks      binary        mwa\n",
       "0  Canny(manual)  49.666508  31.406042  249.926626  167.25163"
      ]
     },
     "metadata": {},
     "output_type": "display_data"
    }
   ],
   "source": [
    "with_model(Model.CANNY_EDGE_MANUAL, lines, points, data_dir, ranking_url, pith_url, rings_url, mse_url)"
   ]
  },
  {
   "cell_type": "code",
   "execution_count": 22,
   "id": "dadfd80a",
   "metadata": {},
   "outputs": [
    {
     "name": "stdout",
     "output_type": "stream",
     "text": [
      "0 6689.jpg 113.8\n",
      "1 6683.jpg 106.2\n",
      "2 6721.jpg 80.6\n",
      "3 6723.jpg 65.2\n",
      "4 6722.jpg 93.4\n",
      "5 6690.jpg 104.2\n",
      "6 6725.jpg 83.2\n",
      "7 6724.jpg 73.4\n",
      "8 6693.jpg 109.2\n"
     ]
    },
    {
     "data": {
      "text/html": [
       "<div>\n",
       "<style scoped>\n",
       "    .dataframe tbody tr th:only-of-type {\n",
       "        vertical-align: middle;\n",
       "    }\n",
       "\n",
       "    .dataframe tbody tr th {\n",
       "        vertical-align: top;\n",
       "    }\n",
       "\n",
       "    .dataframe thead th {\n",
       "        text-align: right;\n",
       "    }\n",
       "</style>\n",
       "<table border=\"1\" class=\"dataframe\">\n",
       "  <thead>\n",
       "    <tr style=\"text-align: right;\">\n",
       "      <th></th>\n",
       "      <th>model</th>\n",
       "      <th>subseq</th>\n",
       "      <th>peaks</th>\n",
       "      <th>binary</th>\n",
       "      <th>mwa</th>\n",
       "    </tr>\n",
       "  </thead>\n",
       "  <tbody>\n",
       "    <tr>\n",
       "      <th>0</th>\n",
       "      <td>Canny(blur)</td>\n",
       "      <td>35.714451</td>\n",
       "      <td>34.135075</td>\n",
       "      <td>216.948386</td>\n",
       "      <td>141.539013</td>\n",
       "    </tr>\n",
       "  </tbody>\n",
       "</table>\n",
       "</div>"
      ],
      "text/plain": [
       "         model     subseq      peaks      binary         mwa\n",
       "0  Canny(blur)  35.714451  34.135075  216.948386  141.539013"
      ]
     },
     "metadata": {},
     "output_type": "display_data"
    }
   ],
   "source": [
    "with_model(Model.CANNY_EDGE_BLUR, lines, points, data_dir, ranking_url, pith_url, rings_url, mse_url)"
   ]
  },
  {
   "cell_type": "code",
   "execution_count": 23,
   "id": "e8ab48ad",
   "metadata": {},
   "outputs": [
    {
     "name": "stdout",
     "output_type": "stream",
     "text": [
      "0 6689.jpg 113.8\n",
      "1 6683.jpg 106.2\n",
      "2 6721.jpg 80.6\n",
      "3 6723.jpg 65.2\n",
      "4 6722.jpg 93.4\n",
      "5 6690.jpg 104.2\n",
      "6 6725.jpg 83.2\n",
      "7 6724.jpg 73.4\n",
      "8 6693.jpg 109.2\n"
     ]
    },
    {
     "data": {
      "text/html": [
       "<div>\n",
       "<style scoped>\n",
       "    .dataframe tbody tr th:only-of-type {\n",
       "        vertical-align: middle;\n",
       "    }\n",
       "\n",
       "    .dataframe tbody tr th {\n",
       "        vertical-align: top;\n",
       "    }\n",
       "\n",
       "    .dataframe thead th {\n",
       "        text-align: right;\n",
       "    }\n",
       "</style>\n",
       "<table border=\"1\" class=\"dataframe\">\n",
       "  <thead>\n",
       "    <tr style=\"text-align: right;\">\n",
       "      <th></th>\n",
       "      <th>model</th>\n",
       "      <th>subseq</th>\n",
       "      <th>peaks</th>\n",
       "      <th>binary</th>\n",
       "      <th>mwa</th>\n",
       "    </tr>\n",
       "  </thead>\n",
       "  <tbody>\n",
       "    <tr>\n",
       "      <th>0</th>\n",
       "      <td>Canny(blur otsu)</td>\n",
       "      <td>30.388647</td>\n",
       "      <td>35.252666</td>\n",
       "      <td>199.199312</td>\n",
       "      <td>124.708554</td>\n",
       "    </tr>\n",
       "  </tbody>\n",
       "</table>\n",
       "</div>"
      ],
      "text/plain": [
       "              model     subseq      peaks      binary         mwa\n",
       "0  Canny(blur otsu)  30.388647  35.252666  199.199312  124.708554"
      ]
     },
     "metadata": {},
     "output_type": "display_data"
    }
   ],
   "source": [
    "with_model(Model.CANNY_EDGE_BLUR_OTSU, lines, points, data_dir, ranking_url, pith_url, rings_url, mse_url)"
   ]
  },
  {
   "cell_type": "code",
   "execution_count": 24,
   "id": "23d1a996",
   "metadata": {},
   "outputs": [
    {
     "name": "stdout",
     "output_type": "stream",
     "text": [
      "0 6689.jpg 113.8\n",
      "1 6683.jpg 106.2\n",
      "2 6721.jpg 80.6\n",
      "3 6723.jpg 65.2\n",
      "4 6722.jpg 93.4\n",
      "5 6690.jpg 104.2\n",
      "6 6725.jpg 83.2\n",
      "7 6724.jpg 73.4\n",
      "8 6693.jpg 109.2\n"
     ]
    },
    {
     "data": {
      "text/html": [
       "<div>\n",
       "<style scoped>\n",
       "    .dataframe tbody tr th:only-of-type {\n",
       "        vertical-align: middle;\n",
       "    }\n",
       "\n",
       "    .dataframe tbody tr th {\n",
       "        vertical-align: top;\n",
       "    }\n",
       "\n",
       "    .dataframe thead th {\n",
       "        text-align: right;\n",
       "    }\n",
       "</style>\n",
       "<table border=\"1\" class=\"dataframe\">\n",
       "  <thead>\n",
       "    <tr style=\"text-align: right;\">\n",
       "      <th></th>\n",
       "      <th>model</th>\n",
       "      <th>subseq</th>\n",
       "      <th>peaks</th>\n",
       "      <th>binary</th>\n",
       "      <th>mwa</th>\n",
       "    </tr>\n",
       "  </thead>\n",
       "  <tbody>\n",
       "    <tr>\n",
       "      <th>0</th>\n",
       "      <td>Canny(blur triangle)</td>\n",
       "      <td>61.635524</td>\n",
       "      <td>40.722449</td>\n",
       "      <td>280.664312</td>\n",
       "      <td>195.427163</td>\n",
       "    </tr>\n",
       "  </tbody>\n",
       "</table>\n",
       "</div>"
      ],
      "text/plain": [
       "                  model     subseq      peaks      binary         mwa\n",
       "0  Canny(blur triangle)  61.635524  40.722449  280.664312  195.427163"
      ]
     },
     "metadata": {},
     "output_type": "display_data"
    }
   ],
   "source": [
    "with_model(Model.CANNY_EDGE_BLUR_TRIANGLE, lines, points, data_dir, ranking_url, pith_url, rings_url, mse_url)"
   ]
  },
  {
   "cell_type": "code",
   "execution_count": 25,
   "id": "21804530",
   "metadata": {},
   "outputs": [
    {
     "name": "stdout",
     "output_type": "stream",
     "text": [
      "0 6689.jpg 113.8\n",
      "1 6683.jpg 106.2\n",
      "2 6721.jpg 80.6\n",
      "3 6723.jpg 65.2\n",
      "4 6722.jpg 93.4\n",
      "5 6690.jpg 104.2\n",
      "6 6725.jpg 83.2\n",
      "7 6724.jpg 73.4\n",
      "8 6693.jpg 109.2\n"
     ]
    },
    {
     "data": {
      "text/html": [
       "<div>\n",
       "<style scoped>\n",
       "    .dataframe tbody tr th:only-of-type {\n",
       "        vertical-align: middle;\n",
       "    }\n",
       "\n",
       "    .dataframe tbody tr th {\n",
       "        vertical-align: top;\n",
       "    }\n",
       "\n",
       "    .dataframe thead th {\n",
       "        text-align: right;\n",
       "    }\n",
       "</style>\n",
       "<table border=\"1\" class=\"dataframe\">\n",
       "  <thead>\n",
       "    <tr style=\"text-align: right;\">\n",
       "      <th></th>\n",
       "      <th>model</th>\n",
       "      <th>subseq</th>\n",
       "      <th>peaks</th>\n",
       "      <th>binary</th>\n",
       "      <th>mwa</th>\n",
       "    </tr>\n",
       "  </thead>\n",
       "  <tbody>\n",
       "    <tr>\n",
       "      <th>0</th>\n",
       "      <td>Canny(blur manual)</td>\n",
       "      <td>33.08188</td>\n",
       "      <td>41.540817</td>\n",
       "      <td>174.225792</td>\n",
       "      <td>105.067016</td>\n",
       "    </tr>\n",
       "  </tbody>\n",
       "</table>\n",
       "</div>"
      ],
      "text/plain": [
       "                model    subseq      peaks      binary         mwa\n",
       "0  Canny(blur manual)  33.08188  41.540817  174.225792  105.067016"
      ]
     },
     "metadata": {},
     "output_type": "display_data"
    }
   ],
   "source": [
    "with_model(Model.CANNY_EDGE_BLUR_MANUAL, lines, points, data_dir, ranking_url, pith_url, rings_url, mse_url)"
   ]
  },
  {
   "cell_type": "code",
   "execution_count": 26,
   "id": "30d22fe1",
   "metadata": {},
   "outputs": [
    {
     "name": "stdout",
     "output_type": "stream",
     "text": [
      "0 6689.jpg 113.8\n",
      "1 6683.jpg 106.2\n",
      "2 6721.jpg 80.6\n",
      "3 6723.jpg 65.2\n",
      "4 6722.jpg 93.4\n",
      "5 6690.jpg 104.2\n",
      "6 6725.jpg 83.2\n",
      "7 6724.jpg 73.4\n",
      "8 6693.jpg 109.2\n"
     ]
    },
    {
     "data": {
      "text/html": [
       "<div>\n",
       "<style scoped>\n",
       "    .dataframe tbody tr th:only-of-type {\n",
       "        vertical-align: middle;\n",
       "    }\n",
       "\n",
       "    .dataframe tbody tr th {\n",
       "        vertical-align: top;\n",
       "    }\n",
       "\n",
       "    .dataframe thead th {\n",
       "        text-align: right;\n",
       "    }\n",
       "</style>\n",
       "<table border=\"1\" class=\"dataframe\">\n",
       "  <thead>\n",
       "    <tr style=\"text-align: right;\">\n",
       "      <th></th>\n",
       "      <th>model</th>\n",
       "      <th>subseq</th>\n",
       "      <th>peaks</th>\n",
       "      <th>binary</th>\n",
       "      <th>mwa</th>\n",
       "    </tr>\n",
       "  </thead>\n",
       "  <tbody>\n",
       "    <tr>\n",
       "      <th>0</th>\n",
       "      <td>Laplacian</td>\n",
       "      <td>595.897605</td>\n",
       "      <td>151.1159</td>\n",
       "      <td>573.793284</td>\n",
       "      <td>216.909705</td>\n",
       "    </tr>\n",
       "  </tbody>\n",
       "</table>\n",
       "</div>"
      ],
      "text/plain": [
       "       model      subseq     peaks      binary         mwa\n",
       "0  Laplacian  595.897605  151.1159  573.793284  216.909705"
      ]
     },
     "metadata": {},
     "output_type": "display_data"
    }
   ],
   "source": [
    "with_model(Model.LAPLACIAN_EDGE, lines, points, data_dir, ranking_url, pith_url, rings_url, mse_url)"
   ]
  },
  {
   "cell_type": "code",
   "execution_count": 27,
   "id": "3a400e30",
   "metadata": {},
   "outputs": [
    {
     "name": "stdout",
     "output_type": "stream",
     "text": [
      "0 6689.jpg 113.8\n",
      "1 6683.jpg 106.2\n",
      "2 6721.jpg 80.6\n",
      "3 6723.jpg 65.2\n",
      "4 6722.jpg 93.4\n",
      "5 6690.jpg 104.2\n",
      "6 6725.jpg 83.2\n",
      "7 6724.jpg 73.4\n",
      "8 6693.jpg 109.2\n"
     ]
    },
    {
     "data": {
      "text/html": [
       "<div>\n",
       "<style scoped>\n",
       "    .dataframe tbody tr th:only-of-type {\n",
       "        vertical-align: middle;\n",
       "    }\n",
       "\n",
       "    .dataframe tbody tr th {\n",
       "        vertical-align: top;\n",
       "    }\n",
       "\n",
       "    .dataframe thead th {\n",
       "        text-align: right;\n",
       "    }\n",
       "</style>\n",
       "<table border=\"1\" class=\"dataframe\">\n",
       "  <thead>\n",
       "    <tr style=\"text-align: right;\">\n",
       "      <th></th>\n",
       "      <th>model</th>\n",
       "      <th>subseq</th>\n",
       "      <th>peaks</th>\n",
       "      <th>binary</th>\n",
       "      <th>mwa</th>\n",
       "    </tr>\n",
       "  </thead>\n",
       "  <tbody>\n",
       "    <tr>\n",
       "      <th>0</th>\n",
       "      <td>Laplacian(blur)</td>\n",
       "      <td>526.978144</td>\n",
       "      <td>68.110205</td>\n",
       "      <td>536.439128</td>\n",
       "      <td>81.484869</td>\n",
       "    </tr>\n",
       "  </tbody>\n",
       "</table>\n",
       "</div>"
      ],
      "text/plain": [
       "             model      subseq      peaks      binary        mwa\n",
       "0  Laplacian(blur)  526.978144  68.110205  536.439128  81.484869"
      ]
     },
     "metadata": {},
     "output_type": "display_data"
    }
   ],
   "source": [
    "with_model(Model.LAPLACIAN_EDGE_BLUR, lines, points, data_dir, ranking_url, pith_url, rings_url, mse_url)"
   ]
  },
  {
   "cell_type": "code",
   "execution_count": null,
   "id": "bf6dec47",
   "metadata": {},
   "outputs": [],
   "source": []
  },
  {
   "cell_type": "code",
   "execution_count": 28,
   "id": "67430856",
   "metadata": {},
   "outputs": [
    {
     "name": "stdout",
     "output_type": "stream",
     "text": [
      "0 6689.jpg 113.8\n",
      "1 6683.jpg 106.2\n",
      "2 6721.jpg 80.6\n",
      "3 6723.jpg 65.2\n",
      "4 6722.jpg 93.4\n",
      "5 6690.jpg 104.2\n",
      "6 6725.jpg 83.2\n",
      "7 6724.jpg 73.4\n",
      "8 6693.jpg 109.2\n"
     ]
    },
    {
     "data": {
      "text/html": [
       "<div>\n",
       "<style scoped>\n",
       "    .dataframe tbody tr th:only-of-type {\n",
       "        vertical-align: middle;\n",
       "    }\n",
       "\n",
       "    .dataframe tbody tr th {\n",
       "        vertical-align: top;\n",
       "    }\n",
       "\n",
       "    .dataframe thead th {\n",
       "        text-align: right;\n",
       "    }\n",
       "</style>\n",
       "<table border=\"1\" class=\"dataframe\">\n",
       "  <thead>\n",
       "    <tr style=\"text-align: right;\">\n",
       "      <th></th>\n",
       "      <th>model</th>\n",
       "      <th>subseq</th>\n",
       "      <th>peaks</th>\n",
       "      <th>binary</th>\n",
       "      <th>mwa</th>\n",
       "    </tr>\n",
       "  </thead>\n",
       "  <tbody>\n",
       "    <tr>\n",
       "      <th>0</th>\n",
       "      <td>Polar Sobel</td>\n",
       "      <td>435.344083</td>\n",
       "      <td>29.381625</td>\n",
       "      <td>392.63557</td>\n",
       "      <td>64.172109</td>\n",
       "    </tr>\n",
       "  </tbody>\n",
       "</table>\n",
       "</div>"
      ],
      "text/plain": [
       "         model      subseq      peaks     binary        mwa\n",
       "0  Polar Sobel  435.344083  29.381625  392.63557  64.172109"
      ]
     },
     "metadata": {},
     "output_type": "display_data"
    }
   ],
   "source": [
    "with_model(Model.POLAR_SOBEL_EDGE, lines, points, data_dir, ranking_url, pith_url, rings_url, mse_url)"
   ]
  },
  {
   "cell_type": "code",
   "execution_count": 29,
   "id": "3b6f3da2",
   "metadata": {},
   "outputs": [
    {
     "name": "stdout",
     "output_type": "stream",
     "text": [
      "0 6689.jpg 113.8\n",
      "1 6683.jpg 106.2\n",
      "2 6721.jpg 80.6\n",
      "3 6723.jpg 65.2\n",
      "4 6722.jpg 93.4\n",
      "5 6690.jpg 104.2\n",
      "6 6725.jpg 83.2\n",
      "7 6724.jpg 73.4\n",
      "8 6693.jpg 109.2\n"
     ]
    },
    {
     "data": {
      "text/html": [
       "<div>\n",
       "<style scoped>\n",
       "    .dataframe tbody tr th:only-of-type {\n",
       "        vertical-align: middle;\n",
       "    }\n",
       "\n",
       "    .dataframe tbody tr th {\n",
       "        vertical-align: top;\n",
       "    }\n",
       "\n",
       "    .dataframe thead th {\n",
       "        text-align: right;\n",
       "    }\n",
       "</style>\n",
       "<table border=\"1\" class=\"dataframe\">\n",
       "  <thead>\n",
       "    <tr style=\"text-align: right;\">\n",
       "      <th></th>\n",
       "      <th>model</th>\n",
       "      <th>subseq</th>\n",
       "      <th>peaks</th>\n",
       "      <th>binary</th>\n",
       "      <th>mwa</th>\n",
       "    </tr>\n",
       "  </thead>\n",
       "  <tbody>\n",
       "    <tr>\n",
       "      <th>0</th>\n",
       "      <td>Polar Sobel(blur)</td>\n",
       "      <td>323.324106</td>\n",
       "      <td>55.36389</td>\n",
       "      <td>321.225164</td>\n",
       "      <td>34.075495</td>\n",
       "    </tr>\n",
       "  </tbody>\n",
       "</table>\n",
       "</div>"
      ],
      "text/plain": [
       "               model      subseq     peaks      binary        mwa\n",
       "0  Polar Sobel(blur)  323.324106  55.36389  321.225164  34.075495"
      ]
     },
     "metadata": {},
     "output_type": "display_data"
    }
   ],
   "source": [
    "with_model(Model.POLAR_SOBEL_EDGE_BLUR, lines, points, data_dir, ranking_url, pith_url, rings_url, mse_url)"
   ]
  },
  {
   "cell_type": "code",
   "execution_count": 30,
   "id": "ee75dd80",
   "metadata": {},
   "outputs": [
    {
     "name": "stdout",
     "output_type": "stream",
     "text": [
      "0 6689.jpg 113.8\n",
      "1 6683.jpg 106.2\n",
      "2 6721.jpg 80.6\n",
      "3 6723.jpg 65.2\n",
      "4 6722.jpg 93.4\n",
      "5 6690.jpg 104.2\n",
      "6 6725.jpg 83.2\n",
      "7 6724.jpg 73.4\n",
      "8 6693.jpg 109.2\n"
     ]
    },
    {
     "data": {
      "text/html": [
       "<div>\n",
       "<style scoped>\n",
       "    .dataframe tbody tr th:only-of-type {\n",
       "        vertical-align: middle;\n",
       "    }\n",
       "\n",
       "    .dataframe tbody tr th {\n",
       "        vertical-align: top;\n",
       "    }\n",
       "\n",
       "    .dataframe thead th {\n",
       "        text-align: right;\n",
       "    }\n",
       "</style>\n",
       "<table border=\"1\" class=\"dataframe\">\n",
       "  <thead>\n",
       "    <tr style=\"text-align: right;\">\n",
       "      <th></th>\n",
       "      <th>model</th>\n",
       "      <th>subseq</th>\n",
       "      <th>peaks</th>\n",
       "      <th>binary</th>\n",
       "      <th>mwa</th>\n",
       "    </tr>\n",
       "  </thead>\n",
       "  <tbody>\n",
       "    <tr>\n",
       "      <th>0</th>\n",
       "      <td>Polar Canny</td>\n",
       "      <td>33.397821</td>\n",
       "      <td>43.30002</td>\n",
       "      <td>185.288952</td>\n",
       "      <td>116.554547</td>\n",
       "    </tr>\n",
       "  </tbody>\n",
       "</table>\n",
       "</div>"
      ],
      "text/plain": [
       "         model     subseq     peaks      binary         mwa\n",
       "0  Polar Canny  33.397821  43.30002  185.288952  116.554547"
      ]
     },
     "metadata": {},
     "output_type": "display_data"
    }
   ],
   "source": [
    "with_model(Model.POLAR_CANNY_EDGE, lines, points, data_dir, ranking_url, pith_url, rings_url, mse_url)"
   ]
  },
  {
   "cell_type": "code",
   "execution_count": 31,
   "id": "95860264",
   "metadata": {},
   "outputs": [
    {
     "name": "stdout",
     "output_type": "stream",
     "text": [
      "0 6689.jpg 113.8\n",
      "1 6683.jpg 106.2\n",
      "2 6721.jpg 80.6\n",
      "3 6723.jpg 65.2\n",
      "4 6722.jpg 93.4\n",
      "5 6690.jpg 104.2\n",
      "6 6725.jpg 83.2\n",
      "7 6724.jpg 73.4\n",
      "8 6693.jpg 109.2\n"
     ]
    },
    {
     "data": {
      "text/html": [
       "<div>\n",
       "<style scoped>\n",
       "    .dataframe tbody tr th:only-of-type {\n",
       "        vertical-align: middle;\n",
       "    }\n",
       "\n",
       "    .dataframe tbody tr th {\n",
       "        vertical-align: top;\n",
       "    }\n",
       "\n",
       "    .dataframe thead th {\n",
       "        text-align: right;\n",
       "    }\n",
       "</style>\n",
       "<table border=\"1\" class=\"dataframe\">\n",
       "  <thead>\n",
       "    <tr style=\"text-align: right;\">\n",
       "      <th></th>\n",
       "      <th>model</th>\n",
       "      <th>subseq</th>\n",
       "      <th>peaks</th>\n",
       "      <th>binary</th>\n",
       "      <th>mwa</th>\n",
       "    </tr>\n",
       "  </thead>\n",
       "  <tbody>\n",
       "    <tr>\n",
       "      <th>0</th>\n",
       "      <td>Polar Canny(otsu)</td>\n",
       "      <td>29.566964</td>\n",
       "      <td>34.323442</td>\n",
       "      <td>218.26696</td>\n",
       "      <td>144.683513</td>\n",
       "    </tr>\n",
       "  </tbody>\n",
       "</table>\n",
       "</div>"
      ],
      "text/plain": [
       "               model     subseq      peaks     binary         mwa\n",
       "0  Polar Canny(otsu)  29.566964  34.323442  218.26696  144.683513"
      ]
     },
     "metadata": {},
     "output_type": "display_data"
    }
   ],
   "source": [
    "with_model(Model.POLAR_CANNY_EDGE_OTSU, lines, points, data_dir, ranking_url, pith_url, rings_url, mse_url)"
   ]
  },
  {
   "cell_type": "code",
   "execution_count": 32,
   "id": "cb91f2b9",
   "metadata": {},
   "outputs": [
    {
     "name": "stdout",
     "output_type": "stream",
     "text": [
      "0 6689.jpg 113.8\n",
      "1 6683.jpg 106.2\n",
      "2 6721.jpg 80.6\n",
      "3 6723.jpg 65.2\n",
      "4 6722.jpg 93.4\n",
      "5 6690.jpg 104.2\n",
      "6 6725.jpg 83.2\n",
      "7 6724.jpg 73.4\n",
      "8 6693.jpg 109.2\n"
     ]
    },
    {
     "data": {
      "text/html": [
       "<div>\n",
       "<style scoped>\n",
       "    .dataframe tbody tr th:only-of-type {\n",
       "        vertical-align: middle;\n",
       "    }\n",
       "\n",
       "    .dataframe tbody tr th {\n",
       "        vertical-align: top;\n",
       "    }\n",
       "\n",
       "    .dataframe thead th {\n",
       "        text-align: right;\n",
       "    }\n",
       "</style>\n",
       "<table border=\"1\" class=\"dataframe\">\n",
       "  <thead>\n",
       "    <tr style=\"text-align: right;\">\n",
       "      <th></th>\n",
       "      <th>model</th>\n",
       "      <th>subseq</th>\n",
       "      <th>peaks</th>\n",
       "      <th>binary</th>\n",
       "      <th>mwa</th>\n",
       "    </tr>\n",
       "  </thead>\n",
       "  <tbody>\n",
       "    <tr>\n",
       "      <th>0</th>\n",
       "      <td>Polar Canny(triangle)</td>\n",
       "      <td>64.913801</td>\n",
       "      <td>28.977746</td>\n",
       "      <td>327.075244</td>\n",
       "      <td>230.320432</td>\n",
       "    </tr>\n",
       "  </tbody>\n",
       "</table>\n",
       "</div>"
      ],
      "text/plain": [
       "                   model     subseq      peaks      binary         mwa\n",
       "0  Polar Canny(triangle)  64.913801  28.977746  327.075244  230.320432"
      ]
     },
     "metadata": {},
     "output_type": "display_data"
    }
   ],
   "source": [
    "with_model(Model.POLAR_CANNY_EDGE_TRIANGLE, lines, points, data_dir, ranking_url, pith_url, rings_url, mse_url)"
   ]
  },
  {
   "cell_type": "code",
   "execution_count": 33,
   "id": "b9b3b7fa",
   "metadata": {},
   "outputs": [
    {
     "name": "stdout",
     "output_type": "stream",
     "text": [
      "0 6689.jpg 113.8\n",
      "1 6683.jpg 106.2\n",
      "2 6721.jpg 80.6\n",
      "3 6723.jpg 65.2\n",
      "4 6722.jpg 93.4\n",
      "5 6690.jpg 104.2\n",
      "6 6725.jpg 83.2\n",
      "7 6724.jpg 73.4\n",
      "8 6693.jpg 109.2\n"
     ]
    },
    {
     "data": {
      "text/html": [
       "<div>\n",
       "<style scoped>\n",
       "    .dataframe tbody tr th:only-of-type {\n",
       "        vertical-align: middle;\n",
       "    }\n",
       "\n",
       "    .dataframe tbody tr th {\n",
       "        vertical-align: top;\n",
       "    }\n",
       "\n",
       "    .dataframe thead th {\n",
       "        text-align: right;\n",
       "    }\n",
       "</style>\n",
       "<table border=\"1\" class=\"dataframe\">\n",
       "  <thead>\n",
       "    <tr style=\"text-align: right;\">\n",
       "      <th></th>\n",
       "      <th>model</th>\n",
       "      <th>subseq</th>\n",
       "      <th>peaks</th>\n",
       "      <th>binary</th>\n",
       "      <th>mwa</th>\n",
       "    </tr>\n",
       "  </thead>\n",
       "  <tbody>\n",
       "    <tr>\n",
       "      <th>0</th>\n",
       "      <td>Polar Canny(manual)</td>\n",
       "      <td>36.951804</td>\n",
       "      <td>46.246251</td>\n",
       "      <td>176.867894</td>\n",
       "      <td>110.63301</td>\n",
       "    </tr>\n",
       "  </tbody>\n",
       "</table>\n",
       "</div>"
      ],
      "text/plain": [
       "                 model     subseq      peaks      binary        mwa\n",
       "0  Polar Canny(manual)  36.951804  46.246251  176.867894  110.63301"
      ]
     },
     "metadata": {},
     "output_type": "display_data"
    }
   ],
   "source": [
    "with_model(Model.POLAR_CANNY_EDGE_MANUAL, lines, points, data_dir, ranking_url, pith_url, rings_url, mse_url)"
   ]
  },
  {
   "cell_type": "code",
   "execution_count": 34,
   "id": "f3b7e6da",
   "metadata": {},
   "outputs": [
    {
     "name": "stdout",
     "output_type": "stream",
     "text": [
      "0 6689.jpg 113.8\n",
      "1 6683.jpg 106.2\n",
      "2 6721.jpg 80.6\n",
      "3 6723.jpg 65.2\n",
      "4 6722.jpg 93.4\n",
      "5 6690.jpg 104.2\n",
      "6 6725.jpg 83.2\n",
      "7 6724.jpg 73.4\n",
      "8 6693.jpg 109.2\n"
     ]
    },
    {
     "data": {
      "text/html": [
       "<div>\n",
       "<style scoped>\n",
       "    .dataframe tbody tr th:only-of-type {\n",
       "        vertical-align: middle;\n",
       "    }\n",
       "\n",
       "    .dataframe tbody tr th {\n",
       "        vertical-align: top;\n",
       "    }\n",
       "\n",
       "    .dataframe thead th {\n",
       "        text-align: right;\n",
       "    }\n",
       "</style>\n",
       "<table border=\"1\" class=\"dataframe\">\n",
       "  <thead>\n",
       "    <tr style=\"text-align: right;\">\n",
       "      <th></th>\n",
       "      <th>model</th>\n",
       "      <th>subseq</th>\n",
       "      <th>peaks</th>\n",
       "      <th>binary</th>\n",
       "      <th>mwa</th>\n",
       "    </tr>\n",
       "  </thead>\n",
       "  <tbody>\n",
       "    <tr>\n",
       "      <th>0</th>\n",
       "      <td>Polar Canny(blur)</td>\n",
       "      <td>53.906659</td>\n",
       "      <td>60.241522</td>\n",
       "      <td>125.579655</td>\n",
       "      <td>67.462185</td>\n",
       "    </tr>\n",
       "  </tbody>\n",
       "</table>\n",
       "</div>"
      ],
      "text/plain": [
       "               model     subseq      peaks      binary        mwa\n",
       "0  Polar Canny(blur)  53.906659  60.241522  125.579655  67.462185"
      ]
     },
     "metadata": {},
     "output_type": "display_data"
    }
   ],
   "source": [
    "with_model(Model.POLAR_CANNY_EDGE_BLUR, lines, points, data_dir, ranking_url, pith_url, rings_url, mse_url)"
   ]
  },
  {
   "cell_type": "code",
   "execution_count": 35,
   "id": "d30f5bab",
   "metadata": {},
   "outputs": [
    {
     "name": "stdout",
     "output_type": "stream",
     "text": [
      "0 6689.jpg 113.8\n",
      "1 6683.jpg 106.2\n",
      "2 6721.jpg 80.6\n",
      "3 6723.jpg 65.2\n",
      "4 6722.jpg 93.4\n",
      "5 6690.jpg 104.2\n",
      "6 6725.jpg 83.2\n",
      "7 6724.jpg 73.4\n",
      "8 6693.jpg 109.2\n"
     ]
    },
    {
     "data": {
      "text/html": [
       "<div>\n",
       "<style scoped>\n",
       "    .dataframe tbody tr th:only-of-type {\n",
       "        vertical-align: middle;\n",
       "    }\n",
       "\n",
       "    .dataframe tbody tr th {\n",
       "        vertical-align: top;\n",
       "    }\n",
       "\n",
       "    .dataframe thead th {\n",
       "        text-align: right;\n",
       "    }\n",
       "</style>\n",
       "<table border=\"1\" class=\"dataframe\">\n",
       "  <thead>\n",
       "    <tr style=\"text-align: right;\">\n",
       "      <th></th>\n",
       "      <th>model</th>\n",
       "      <th>subseq</th>\n",
       "      <th>peaks</th>\n",
       "      <th>binary</th>\n",
       "      <th>mwa</th>\n",
       "    </tr>\n",
       "  </thead>\n",
       "  <tbody>\n",
       "    <tr>\n",
       "      <th>0</th>\n",
       "      <td>Polar Canny(blur otsu)</td>\n",
       "      <td>41.563693</td>\n",
       "      <td>49.077213</td>\n",
       "      <td>169.234638</td>\n",
       "      <td>102.09547</td>\n",
       "    </tr>\n",
       "  </tbody>\n",
       "</table>\n",
       "</div>"
      ],
      "text/plain": [
       "                    model     subseq      peaks      binary        mwa\n",
       "0  Polar Canny(blur otsu)  41.563693  49.077213  169.234638  102.09547"
      ]
     },
     "metadata": {},
     "output_type": "display_data"
    }
   ],
   "source": [
    "with_model(Model.POLAR_CANNY_EDGE_BLUR_OTSU, lines, points, data_dir, ranking_url, pith_url, rings_url, mse_url)"
   ]
  },
  {
   "cell_type": "code",
   "execution_count": 36,
   "id": "4a5752ee",
   "metadata": {},
   "outputs": [
    {
     "name": "stdout",
     "output_type": "stream",
     "text": [
      "0 6689.jpg 113.8\n",
      "1 6683.jpg 106.2\n",
      "2 6721.jpg 80.6\n",
      "3 6723.jpg 65.2\n",
      "4 6722.jpg 93.4\n",
      "5 6690.jpg 104.2\n",
      "6 6725.jpg 83.2\n",
      "7 6724.jpg 73.4\n",
      "8 6693.jpg 109.2\n"
     ]
    },
    {
     "data": {
      "text/html": [
       "<div>\n",
       "<style scoped>\n",
       "    .dataframe tbody tr th:only-of-type {\n",
       "        vertical-align: middle;\n",
       "    }\n",
       "\n",
       "    .dataframe tbody tr th {\n",
       "        vertical-align: top;\n",
       "    }\n",
       "\n",
       "    .dataframe thead th {\n",
       "        text-align: right;\n",
       "    }\n",
       "</style>\n",
       "<table border=\"1\" class=\"dataframe\">\n",
       "  <thead>\n",
       "    <tr style=\"text-align: right;\">\n",
       "      <th></th>\n",
       "      <th>model</th>\n",
       "      <th>subseq</th>\n",
       "      <th>peaks</th>\n",
       "      <th>binary</th>\n",
       "      <th>mwa</th>\n",
       "    </tr>\n",
       "  </thead>\n",
       "  <tbody>\n",
       "    <tr>\n",
       "      <th>0</th>\n",
       "      <td>Polar Canny(blur triangle)</td>\n",
       "      <td>32.765506</td>\n",
       "      <td>20.577902</td>\n",
       "      <td>285.76103</td>\n",
       "      <td>199.107341</td>\n",
       "    </tr>\n",
       "  </tbody>\n",
       "</table>\n",
       "</div>"
      ],
      "text/plain": [
       "                        model     subseq      peaks     binary         mwa\n",
       "0  Polar Canny(blur triangle)  32.765506  20.577902  285.76103  199.107341"
      ]
     },
     "metadata": {},
     "output_type": "display_data"
    }
   ],
   "source": [
    "with_model(Model.POLAR_CANNY_EDGE_BLUR_TRIANGLE, lines, points, data_dir, ranking_url, pith_url, rings_url, mse_url)"
   ]
  },
  {
   "cell_type": "code",
   "execution_count": 37,
   "id": "d1eef189",
   "metadata": {},
   "outputs": [
    {
     "name": "stdout",
     "output_type": "stream",
     "text": [
      "0 6689.jpg 113.8\n",
      "1 6683.jpg 106.2\n",
      "2 6721.jpg 80.6\n",
      "3 6723.jpg 65.2\n",
      "4 6722.jpg 93.4\n",
      "5 6690.jpg 104.2\n",
      "6 6725.jpg 83.2\n",
      "7 6724.jpg 73.4\n",
      "8 6693.jpg 109.2\n"
     ]
    },
    {
     "data": {
      "text/html": [
       "<div>\n",
       "<style scoped>\n",
       "    .dataframe tbody tr th:only-of-type {\n",
       "        vertical-align: middle;\n",
       "    }\n",
       "\n",
       "    .dataframe tbody tr th {\n",
       "        vertical-align: top;\n",
       "    }\n",
       "\n",
       "    .dataframe thead th {\n",
       "        text-align: right;\n",
       "    }\n",
       "</style>\n",
       "<table border=\"1\" class=\"dataframe\">\n",
       "  <thead>\n",
       "    <tr style=\"text-align: right;\">\n",
       "      <th></th>\n",
       "      <th>model</th>\n",
       "      <th>subseq</th>\n",
       "      <th>peaks</th>\n",
       "      <th>binary</th>\n",
       "      <th>mwa</th>\n",
       "    </tr>\n",
       "  </thead>\n",
       "  <tbody>\n",
       "    <tr>\n",
       "      <th>0</th>\n",
       "      <td>Polar Canny(blur manual)</td>\n",
       "      <td>56.889792</td>\n",
       "      <td>62.509954</td>\n",
       "      <td>119.804467</td>\n",
       "      <td>63.436707</td>\n",
       "    </tr>\n",
       "  </tbody>\n",
       "</table>\n",
       "</div>"
      ],
      "text/plain": [
       "                      model     subseq      peaks      binary        mwa\n",
       "0  Polar Canny(blur manual)  56.889792  62.509954  119.804467  63.436707"
      ]
     },
     "metadata": {},
     "output_type": "display_data"
    }
   ],
   "source": [
    "with_model(Model.POLAR_CANNY_EDGE_BLUR_MANUAL, lines, points, data_dir, ranking_url, pith_url, rings_url, mse_url)"
   ]
  },
  {
   "cell_type": "code",
   "execution_count": 38,
   "id": "a2c63b76",
   "metadata": {},
   "outputs": [
    {
     "name": "stdout",
     "output_type": "stream",
     "text": [
      "0 6689.jpg 113.8\n",
      "1 6683.jpg 106.2\n",
      "2 6721.jpg 80.6\n",
      "3 6723.jpg 65.2\n",
      "4 6722.jpg 93.4\n",
      "5 6690.jpg 104.2\n",
      "6 6725.jpg 83.2\n",
      "7 6724.jpg 73.4\n",
      "8 6693.jpg 109.2\n"
     ]
    },
    {
     "data": {
      "text/html": [
       "<div>\n",
       "<style scoped>\n",
       "    .dataframe tbody tr th:only-of-type {\n",
       "        vertical-align: middle;\n",
       "    }\n",
       "\n",
       "    .dataframe tbody tr th {\n",
       "        vertical-align: top;\n",
       "    }\n",
       "\n",
       "    .dataframe thead th {\n",
       "        text-align: right;\n",
       "    }\n",
       "</style>\n",
       "<table border=\"1\" class=\"dataframe\">\n",
       "  <thead>\n",
       "    <tr style=\"text-align: right;\">\n",
       "      <th></th>\n",
       "      <th>model</th>\n",
       "      <th>subseq</th>\n",
       "      <th>peaks</th>\n",
       "      <th>binary</th>\n",
       "      <th>mwa</th>\n",
       "    </tr>\n",
       "  </thead>\n",
       "  <tbody>\n",
       "    <tr>\n",
       "      <th>0</th>\n",
       "      <td>Polar Laplacian</td>\n",
       "      <td>579.259917</td>\n",
       "      <td>124.23792</td>\n",
       "      <td>519.645193</td>\n",
       "      <td>183.223928</td>\n",
       "    </tr>\n",
       "  </tbody>\n",
       "</table>\n",
       "</div>"
      ],
      "text/plain": [
       "             model      subseq      peaks      binary         mwa\n",
       "0  Polar Laplacian  579.259917  124.23792  519.645193  183.223928"
      ]
     },
     "metadata": {},
     "output_type": "display_data"
    }
   ],
   "source": [
    "with_model(Model.POLAR_LAPLACIAN_EDGE, lines, points, data_dir, ranking_url, pith_url, rings_url, mse_url)"
   ]
  },
  {
   "cell_type": "code",
   "execution_count": 39,
   "id": "055f80d8",
   "metadata": {},
   "outputs": [
    {
     "name": "stdout",
     "output_type": "stream",
     "text": [
      "0 6689.jpg 113.8\n",
      "1 6683.jpg 106.2\n",
      "2 6721.jpg 80.6\n",
      "3 6723.jpg 65.2\n",
      "4 6722.jpg 93.4\n",
      "5 6690.jpg 104.2\n",
      "6 6725.jpg 83.2\n",
      "7 6724.jpg 73.4\n",
      "8 6693.jpg 109.2\n"
     ]
    },
    {
     "data": {
      "text/html": [
       "<div>\n",
       "<style scoped>\n",
       "    .dataframe tbody tr th:only-of-type {\n",
       "        vertical-align: middle;\n",
       "    }\n",
       "\n",
       "    .dataframe tbody tr th {\n",
       "        vertical-align: top;\n",
       "    }\n",
       "\n",
       "    .dataframe thead th {\n",
       "        text-align: right;\n",
       "    }\n",
       "</style>\n",
       "<table border=\"1\" class=\"dataframe\">\n",
       "  <thead>\n",
       "    <tr style=\"text-align: right;\">\n",
       "      <th></th>\n",
       "      <th>model</th>\n",
       "      <th>subseq</th>\n",
       "      <th>peaks</th>\n",
       "      <th>binary</th>\n",
       "      <th>mwa</th>\n",
       "    </tr>\n",
       "  </thead>\n",
       "  <tbody>\n",
       "    <tr>\n",
       "      <th>0</th>\n",
       "      <td>Polar Laplacian(blur)</td>\n",
       "      <td>453.91624</td>\n",
       "      <td>29.408346</td>\n",
       "      <td>447.216756</td>\n",
       "      <td>39.766662</td>\n",
       "    </tr>\n",
       "  </tbody>\n",
       "</table>\n",
       "</div>"
      ],
      "text/plain": [
       "                   model     subseq      peaks      binary        mwa\n",
       "0  Polar Laplacian(blur)  453.91624  29.408346  447.216756  39.766662"
      ]
     },
     "metadata": {},
     "output_type": "display_data"
    }
   ],
   "source": [
    "with_model(Model.POLAR_LAPLACIAN_EDGE_BLUR, lines, points, data_dir, ranking_url, pith_url, rings_url, mse_url)"
   ]
  },
  {
   "cell_type": "code",
   "execution_count": null,
   "id": "717b358e",
   "metadata": {},
   "outputs": [],
   "source": []
  },
  {
   "cell_type": "code",
   "execution_count": 40,
   "id": "4000d64b",
   "metadata": {},
   "outputs": [
    {
     "name": "stdout",
     "output_type": "stream",
     "text": [
      "0 6689.jpg 113.8\n",
      "1 6683.jpg 106.2\n",
      "2 6721.jpg 80.6\n",
      "3 6723.jpg 65.2\n",
      "4 6722.jpg 93.4\n",
      "5 6690.jpg 104.2\n",
      "6 6725.jpg 83.2\n",
      "7 6724.jpg 73.4\n",
      "8 6693.jpg 109.2\n"
     ]
    },
    {
     "data": {
      "text/html": [
       "<div>\n",
       "<style scoped>\n",
       "    .dataframe tbody tr th:only-of-type {\n",
       "        vertical-align: middle;\n",
       "    }\n",
       "\n",
       "    .dataframe tbody tr th {\n",
       "        vertical-align: top;\n",
       "    }\n",
       "\n",
       "    .dataframe thead th {\n",
       "        text-align: right;\n",
       "    }\n",
       "</style>\n",
       "<table border=\"1\" class=\"dataframe\">\n",
       "  <thead>\n",
       "    <tr style=\"text-align: right;\">\n",
       "      <th></th>\n",
       "      <th>model</th>\n",
       "      <th>subseq</th>\n",
       "      <th>peaks</th>\n",
       "      <th>binary</th>\n",
       "      <th>mwa</th>\n",
       "    </tr>\n",
       "  </thead>\n",
       "  <tbody>\n",
       "    <tr>\n",
       "      <th>0</th>\n",
       "      <td>Polar Pith Sobel</td>\n",
       "      <td>384.935058</td>\n",
       "      <td>25.710274</td>\n",
       "      <td>347.381323</td>\n",
       "      <td>51.915337</td>\n",
       "    </tr>\n",
       "  </tbody>\n",
       "</table>\n",
       "</div>"
      ],
      "text/plain": [
       "              model      subseq      peaks      binary        mwa\n",
       "0  Polar Pith Sobel  384.935058  25.710274  347.381323  51.915337"
      ]
     },
     "metadata": {},
     "output_type": "display_data"
    }
   ],
   "source": [
    "with_model(Model.POLAR_PITH_SOBEL_EDGE, lines, points, data_dir, ranking_url, pith_url, rings_url, mse_url)"
   ]
  },
  {
   "cell_type": "code",
   "execution_count": 41,
   "id": "eec08ac6",
   "metadata": {},
   "outputs": [
    {
     "name": "stdout",
     "output_type": "stream",
     "text": [
      "0 6689.jpg 113.8\n",
      "1 6683.jpg 106.2\n",
      "2 6721.jpg 80.6\n",
      "3 6723.jpg 65.2\n",
      "4 6722.jpg 93.4\n",
      "5 6690.jpg 104.2\n",
      "6 6725.jpg 83.2\n",
      "7 6724.jpg 73.4\n",
      "8 6693.jpg 109.2\n"
     ]
    },
    {
     "data": {
      "text/html": [
       "<div>\n",
       "<style scoped>\n",
       "    .dataframe tbody tr th:only-of-type {\n",
       "        vertical-align: middle;\n",
       "    }\n",
       "\n",
       "    .dataframe tbody tr th {\n",
       "        vertical-align: top;\n",
       "    }\n",
       "\n",
       "    .dataframe thead th {\n",
       "        text-align: right;\n",
       "    }\n",
       "</style>\n",
       "<table border=\"1\" class=\"dataframe\">\n",
       "  <thead>\n",
       "    <tr style=\"text-align: right;\">\n",
       "      <th></th>\n",
       "      <th>model</th>\n",
       "      <th>subseq</th>\n",
       "      <th>peaks</th>\n",
       "      <th>binary</th>\n",
       "      <th>mwa</th>\n",
       "    </tr>\n",
       "  </thead>\n",
       "  <tbody>\n",
       "    <tr>\n",
       "      <th>0</th>\n",
       "      <td>Polar Pith Sobel(blur)</td>\n",
       "      <td>285.242641</td>\n",
       "      <td>57.235524</td>\n",
       "      <td>283.939636</td>\n",
       "      <td>31.333862</td>\n",
       "    </tr>\n",
       "  </tbody>\n",
       "</table>\n",
       "</div>"
      ],
      "text/plain": [
       "                    model      subseq      peaks      binary        mwa\n",
       "0  Polar Pith Sobel(blur)  285.242641  57.235524  283.939636  31.333862"
      ]
     },
     "metadata": {},
     "output_type": "display_data"
    }
   ],
   "source": [
    "with_model(Model.POLAR_PITH_SOBEL_EDGE_BLUR, lines, points, data_dir, ranking_url, pith_url, rings_url, mse_url)"
   ]
  },
  {
   "cell_type": "code",
   "execution_count": 42,
   "id": "97fb7a77",
   "metadata": {},
   "outputs": [
    {
     "name": "stdout",
     "output_type": "stream",
     "text": [
      "0 6689.jpg 113.8\n",
      "1 6683.jpg 106.2\n",
      "2 6721.jpg 80.6\n",
      "3 6723.jpg 65.2\n",
      "4 6722.jpg 93.4\n",
      "5 6690.jpg 104.2\n",
      "6 6725.jpg 83.2\n",
      "7 6724.jpg 73.4\n",
      "8 6693.jpg 109.2\n"
     ]
    },
    {
     "data": {
      "text/html": [
       "<div>\n",
       "<style scoped>\n",
       "    .dataframe tbody tr th:only-of-type {\n",
       "        vertical-align: middle;\n",
       "    }\n",
       "\n",
       "    .dataframe tbody tr th {\n",
       "        vertical-align: top;\n",
       "    }\n",
       "\n",
       "    .dataframe thead th {\n",
       "        text-align: right;\n",
       "    }\n",
       "</style>\n",
       "<table border=\"1\" class=\"dataframe\">\n",
       "  <thead>\n",
       "    <tr style=\"text-align: right;\">\n",
       "      <th></th>\n",
       "      <th>model</th>\n",
       "      <th>subseq</th>\n",
       "      <th>peaks</th>\n",
       "      <th>binary</th>\n",
       "      <th>mwa</th>\n",
       "    </tr>\n",
       "  </thead>\n",
       "  <tbody>\n",
       "    <tr>\n",
       "      <th>0</th>\n",
       "      <td>Polar Pith Canny</td>\n",
       "      <td>34.66981</td>\n",
       "      <td>44.496996</td>\n",
       "      <td>164.720042</td>\n",
       "      <td>100.222542</td>\n",
       "    </tr>\n",
       "  </tbody>\n",
       "</table>\n",
       "</div>"
      ],
      "text/plain": [
       "              model    subseq      peaks      binary         mwa\n",
       "0  Polar Pith Canny  34.66981  44.496996  164.720042  100.222542"
      ]
     },
     "metadata": {},
     "output_type": "display_data"
    }
   ],
   "source": [
    "with_model(Model.POLAR_PITH_CANNY_EDGE, lines, points, data_dir, ranking_url, pith_url, rings_url, mse_url)"
   ]
  },
  {
   "cell_type": "code",
   "execution_count": 43,
   "id": "016625dd",
   "metadata": {},
   "outputs": [
    {
     "name": "stdout",
     "output_type": "stream",
     "text": [
      "0 6689.jpg 113.8\n",
      "1 6683.jpg 106.2\n",
      "2 6721.jpg 80.6\n",
      "3 6723.jpg 65.2\n",
      "4 6722.jpg 93.4\n",
      "5 6690.jpg 104.2\n",
      "6 6725.jpg 83.2\n",
      "7 6724.jpg 73.4\n",
      "8 6693.jpg 109.2\n"
     ]
    },
    {
     "data": {
      "text/html": [
       "<div>\n",
       "<style scoped>\n",
       "    .dataframe tbody tr th:only-of-type {\n",
       "        vertical-align: middle;\n",
       "    }\n",
       "\n",
       "    .dataframe tbody tr th {\n",
       "        vertical-align: top;\n",
       "    }\n",
       "\n",
       "    .dataframe thead th {\n",
       "        text-align: right;\n",
       "    }\n",
       "</style>\n",
       "<table border=\"1\" class=\"dataframe\">\n",
       "  <thead>\n",
       "    <tr style=\"text-align: right;\">\n",
       "      <th></th>\n",
       "      <th>model</th>\n",
       "      <th>subseq</th>\n",
       "      <th>peaks</th>\n",
       "      <th>binary</th>\n",
       "      <th>mwa</th>\n",
       "    </tr>\n",
       "  </thead>\n",
       "  <tbody>\n",
       "    <tr>\n",
       "      <th>0</th>\n",
       "      <td>Polar Pith Canny(otsu)</td>\n",
       "      <td>29.382329</td>\n",
       "      <td>34.632407</td>\n",
       "      <td>198.688665</td>\n",
       "      <td>128.277783</td>\n",
       "    </tr>\n",
       "  </tbody>\n",
       "</table>\n",
       "</div>"
      ],
      "text/plain": [
       "                    model     subseq      peaks      binary         mwa\n",
       "0  Polar Pith Canny(otsu)  29.382329  34.632407  198.688665  128.277783"
      ]
     },
     "metadata": {},
     "output_type": "display_data"
    }
   ],
   "source": [
    "with_model(Model.POLAR_PITH_CANNY_EDGE_OTSU, lines, points, data_dir, ranking_url, pith_url, rings_url, mse_url)"
   ]
  },
  {
   "cell_type": "code",
   "execution_count": 44,
   "id": "300f771c",
   "metadata": {},
   "outputs": [
    {
     "name": "stdout",
     "output_type": "stream",
     "text": [
      "0 6689.jpg 113.8\n",
      "1 6683.jpg 106.2\n",
      "2 6721.jpg 80.6\n",
      "3 6723.jpg 65.2\n",
      "4 6722.jpg 93.4\n",
      "5 6690.jpg 104.2\n",
      "6 6725.jpg 83.2\n",
      "7 6724.jpg 73.4\n",
      "8 6693.jpg 109.2\n"
     ]
    },
    {
     "data": {
      "text/html": [
       "<div>\n",
       "<style scoped>\n",
       "    .dataframe tbody tr th:only-of-type {\n",
       "        vertical-align: middle;\n",
       "    }\n",
       "\n",
       "    .dataframe tbody tr th {\n",
       "        vertical-align: top;\n",
       "    }\n",
       "\n",
       "    .dataframe thead th {\n",
       "        text-align: right;\n",
       "    }\n",
       "</style>\n",
       "<table border=\"1\" class=\"dataframe\">\n",
       "  <thead>\n",
       "    <tr style=\"text-align: right;\">\n",
       "      <th></th>\n",
       "      <th>model</th>\n",
       "      <th>subseq</th>\n",
       "      <th>peaks</th>\n",
       "      <th>binary</th>\n",
       "      <th>mwa</th>\n",
       "    </tr>\n",
       "  </thead>\n",
       "  <tbody>\n",
       "    <tr>\n",
       "      <th>0</th>\n",
       "      <td>Polar Pith Canny(triangle)</td>\n",
       "      <td>57.47747</td>\n",
       "      <td>24.639732</td>\n",
       "      <td>294.48661</td>\n",
       "      <td>206.506798</td>\n",
       "    </tr>\n",
       "  </tbody>\n",
       "</table>\n",
       "</div>"
      ],
      "text/plain": [
       "                        model    subseq      peaks     binary         mwa\n",
       "0  Polar Pith Canny(triangle)  57.47747  24.639732  294.48661  206.506798"
      ]
     },
     "metadata": {},
     "output_type": "display_data"
    }
   ],
   "source": [
    "with_model(Model.POLAR_PITH_CANNY_EDGE_TRIANGLE, lines, points, data_dir, ranking_url, pith_url, rings_url, mse_url)"
   ]
  },
  {
   "cell_type": "code",
   "execution_count": 45,
   "id": "b1a23908",
   "metadata": {},
   "outputs": [
    {
     "name": "stdout",
     "output_type": "stream",
     "text": [
      "0 6689.jpg 113.8\n",
      "1 6683.jpg 106.2\n",
      "2 6721.jpg 80.6\n",
      "3 6723.jpg 65.2\n",
      "4 6722.jpg 93.4\n",
      "5 6690.jpg 104.2\n",
      "6 6725.jpg 83.2\n",
      "7 6724.jpg 73.4\n",
      "8 6693.jpg 109.2\n"
     ]
    },
    {
     "data": {
      "text/html": [
       "<div>\n",
       "<style scoped>\n",
       "    .dataframe tbody tr th:only-of-type {\n",
       "        vertical-align: middle;\n",
       "    }\n",
       "\n",
       "    .dataframe tbody tr th {\n",
       "        vertical-align: top;\n",
       "    }\n",
       "\n",
       "    .dataframe thead th {\n",
       "        text-align: right;\n",
       "    }\n",
       "</style>\n",
       "<table border=\"1\" class=\"dataframe\">\n",
       "  <thead>\n",
       "    <tr style=\"text-align: right;\">\n",
       "      <th></th>\n",
       "      <th>model</th>\n",
       "      <th>subseq</th>\n",
       "      <th>peaks</th>\n",
       "      <th>binary</th>\n",
       "      <th>mwa</th>\n",
       "    </tr>\n",
       "  </thead>\n",
       "  <tbody>\n",
       "    <tr>\n",
       "      <th>0</th>\n",
       "      <td>Polar Pith Canny(manual)</td>\n",
       "      <td>36.37134</td>\n",
       "      <td>43.979287</td>\n",
       "      <td>170.801783</td>\n",
       "      <td>107.114006</td>\n",
       "    </tr>\n",
       "  </tbody>\n",
       "</table>\n",
       "</div>"
      ],
      "text/plain": [
       "                      model    subseq      peaks      binary         mwa\n",
       "0  Polar Pith Canny(manual)  36.37134  43.979287  170.801783  107.114006"
      ]
     },
     "metadata": {},
     "output_type": "display_data"
    }
   ],
   "source": [
    "with_model(Model.POLAR_PITH_CANNY_EDGE_MANUAL, lines, points, data_dir, ranking_url, pith_url, rings_url, mse_url)"
   ]
  },
  {
   "cell_type": "code",
   "execution_count": 46,
   "id": "44bf39bb",
   "metadata": {},
   "outputs": [
    {
     "name": "stdout",
     "output_type": "stream",
     "text": [
      "0 6689.jpg 113.8\n",
      "1 6683.jpg 106.2\n",
      "2 6721.jpg 80.6\n",
      "3 6723.jpg 65.2\n",
      "4 6722.jpg 93.4\n",
      "5 6690.jpg 104.2\n",
      "6 6725.jpg 83.2\n",
      "7 6724.jpg 73.4\n",
      "8 6693.jpg 109.2\n"
     ]
    },
    {
     "data": {
      "text/html": [
       "<div>\n",
       "<style scoped>\n",
       "    .dataframe tbody tr th:only-of-type {\n",
       "        vertical-align: middle;\n",
       "    }\n",
       "\n",
       "    .dataframe tbody tr th {\n",
       "        vertical-align: top;\n",
       "    }\n",
       "\n",
       "    .dataframe thead th {\n",
       "        text-align: right;\n",
       "    }\n",
       "</style>\n",
       "<table border=\"1\" class=\"dataframe\">\n",
       "  <thead>\n",
       "    <tr style=\"text-align: right;\">\n",
       "      <th></th>\n",
       "      <th>model</th>\n",
       "      <th>subseq</th>\n",
       "      <th>peaks</th>\n",
       "      <th>binary</th>\n",
       "      <th>mwa</th>\n",
       "    </tr>\n",
       "  </thead>\n",
       "  <tbody>\n",
       "    <tr>\n",
       "      <th>0</th>\n",
       "      <td>Polar Pith Canny(blur)</td>\n",
       "      <td>54.725704</td>\n",
       "      <td>60.906967</td>\n",
       "      <td>112.46282</td>\n",
       "      <td>58.997991</td>\n",
       "    </tr>\n",
       "  </tbody>\n",
       "</table>\n",
       "</div>"
      ],
      "text/plain": [
       "                    model     subseq      peaks     binary        mwa\n",
       "0  Polar Pith Canny(blur)  54.725704  60.906967  112.46282  58.997991"
      ]
     },
     "metadata": {},
     "output_type": "display_data"
    }
   ],
   "source": [
    "with_model(Model.POLAR_PITH_CANNY_EDGE_BLUR, lines, points, data_dir, ranking_url, pith_url, rings_url, mse_url)"
   ]
  },
  {
   "cell_type": "code",
   "execution_count": 47,
   "id": "483e93b8",
   "metadata": {},
   "outputs": [
    {
     "name": "stdout",
     "output_type": "stream",
     "text": [
      "0 6689.jpg 113.8\n",
      "1 6683.jpg 106.2\n",
      "2 6721.jpg 80.6\n",
      "3 6723.jpg 65.2\n",
      "4 6722.jpg 93.4\n",
      "5 6690.jpg 104.2\n",
      "6 6725.jpg 83.2\n",
      "7 6724.jpg 73.4\n",
      "8 6693.jpg 109.2\n"
     ]
    },
    {
     "data": {
      "text/html": [
       "<div>\n",
       "<style scoped>\n",
       "    .dataframe tbody tr th:only-of-type {\n",
       "        vertical-align: middle;\n",
       "    }\n",
       "\n",
       "    .dataframe tbody tr th {\n",
       "        vertical-align: top;\n",
       "    }\n",
       "\n",
       "    .dataframe thead th {\n",
       "        text-align: right;\n",
       "    }\n",
       "</style>\n",
       "<table border=\"1\" class=\"dataframe\">\n",
       "  <thead>\n",
       "    <tr style=\"text-align: right;\">\n",
       "      <th></th>\n",
       "      <th>model</th>\n",
       "      <th>subseq</th>\n",
       "      <th>peaks</th>\n",
       "      <th>binary</th>\n",
       "      <th>mwa</th>\n",
       "    </tr>\n",
       "  </thead>\n",
       "  <tbody>\n",
       "    <tr>\n",
       "      <th>0</th>\n",
       "      <td>Polar Pith Canny(blur otsu)</td>\n",
       "      <td>42.506664</td>\n",
       "      <td>49.618021</td>\n",
       "      <td>152.904969</td>\n",
       "      <td>90.429998</td>\n",
       "    </tr>\n",
       "  </tbody>\n",
       "</table>\n",
       "</div>"
      ],
      "text/plain": [
       "                         model     subseq      peaks      binary        mwa\n",
       "0  Polar Pith Canny(blur otsu)  42.506664  49.618021  152.904969  90.429998"
      ]
     },
     "metadata": {},
     "output_type": "display_data"
    }
   ],
   "source": [
    "with_model(Model.POLAR_PITH_CANNY_EDGE_BLUR_OTSU, lines, points, data_dir, ranking_url, pith_url, rings_url, mse_url)"
   ]
  },
  {
   "cell_type": "code",
   "execution_count": 48,
   "id": "081babe2",
   "metadata": {},
   "outputs": [
    {
     "name": "stdout",
     "output_type": "stream",
     "text": [
      "0 6689.jpg 113.8\n",
      "1 6683.jpg 106.2\n",
      "2 6721.jpg 80.6\n",
      "3 6723.jpg 65.2\n",
      "4 6722.jpg 93.4\n",
      "5 6690.jpg 104.2\n",
      "6 6725.jpg 83.2\n",
      "7 6724.jpg 73.4\n",
      "8 6693.jpg 109.2\n"
     ]
    },
    {
     "data": {
      "text/html": [
       "<div>\n",
       "<style scoped>\n",
       "    .dataframe tbody tr th:only-of-type {\n",
       "        vertical-align: middle;\n",
       "    }\n",
       "\n",
       "    .dataframe tbody tr th {\n",
       "        vertical-align: top;\n",
       "    }\n",
       "\n",
       "    .dataframe thead th {\n",
       "        text-align: right;\n",
       "    }\n",
       "</style>\n",
       "<table border=\"1\" class=\"dataframe\">\n",
       "  <thead>\n",
       "    <tr style=\"text-align: right;\">\n",
       "      <th></th>\n",
       "      <th>model</th>\n",
       "      <th>subseq</th>\n",
       "      <th>peaks</th>\n",
       "      <th>binary</th>\n",
       "      <th>mwa</th>\n",
       "    </tr>\n",
       "  </thead>\n",
       "  <tbody>\n",
       "    <tr>\n",
       "      <th>0</th>\n",
       "      <td>Polar Pith Canny(blur triangle)</td>\n",
       "      <td>26.906226</td>\n",
       "      <td>19.888455</td>\n",
       "      <td>252.316367</td>\n",
       "      <td>173.380991</td>\n",
       "    </tr>\n",
       "  </tbody>\n",
       "</table>\n",
       "</div>"
      ],
      "text/plain": [
       "                             model     subseq      peaks      binary  \\\n",
       "0  Polar Pith Canny(blur triangle)  26.906226  19.888455  252.316367   \n",
       "\n",
       "          mwa  \n",
       "0  173.380991  "
      ]
     },
     "metadata": {},
     "output_type": "display_data"
    }
   ],
   "source": [
    "with_model(Model.POLAR_PITH_CANNY_EDGE_BLUR_TRIANGLE, lines, points, data_dir, ranking_url, pith_url, rings_url, mse_url)"
   ]
  },
  {
   "cell_type": "code",
   "execution_count": 49,
   "id": "261c103a",
   "metadata": {},
   "outputs": [
    {
     "name": "stdout",
     "output_type": "stream",
     "text": [
      "0 6689.jpg 113.8\n",
      "1 6683.jpg 106.2\n",
      "2 6721.jpg 80.6\n",
      "3 6723.jpg 65.2\n",
      "4 6722.jpg 93.4\n",
      "5 6690.jpg 104.2\n",
      "6 6725.jpg 83.2\n",
      "7 6724.jpg 73.4\n",
      "8 6693.jpg 109.2\n"
     ]
    },
    {
     "data": {
      "text/html": [
       "<div>\n",
       "<style scoped>\n",
       "    .dataframe tbody tr th:only-of-type {\n",
       "        vertical-align: middle;\n",
       "    }\n",
       "\n",
       "    .dataframe tbody tr th {\n",
       "        vertical-align: top;\n",
       "    }\n",
       "\n",
       "    .dataframe thead th {\n",
       "        text-align: right;\n",
       "    }\n",
       "</style>\n",
       "<table border=\"1\" class=\"dataframe\">\n",
       "  <thead>\n",
       "    <tr style=\"text-align: right;\">\n",
       "      <th></th>\n",
       "      <th>model</th>\n",
       "      <th>subseq</th>\n",
       "      <th>peaks</th>\n",
       "      <th>binary</th>\n",
       "      <th>mwa</th>\n",
       "    </tr>\n",
       "  </thead>\n",
       "  <tbody>\n",
       "    <tr>\n",
       "      <th>0</th>\n",
       "      <td>Polar Pith Canny(blur manual)</td>\n",
       "      <td>53.507941</td>\n",
       "      <td>59.295834</td>\n",
       "      <td>122.063051</td>\n",
       "      <td>68.078438</td>\n",
       "    </tr>\n",
       "  </tbody>\n",
       "</table>\n",
       "</div>"
      ],
      "text/plain": [
       "                           model     subseq      peaks      binary        mwa\n",
       "0  Polar Pith Canny(blur manual)  53.507941  59.295834  122.063051  68.078438"
      ]
     },
     "metadata": {},
     "output_type": "display_data"
    }
   ],
   "source": [
    "with_model(Model.POLAR_PITH_CANNY_EDGE_BLUR_MANUAL, lines, points, data_dir, ranking_url, pith_url, rings_url, mse_url)"
   ]
  },
  {
   "cell_type": "code",
   "execution_count": 50,
   "id": "d4c9ff68",
   "metadata": {},
   "outputs": [
    {
     "name": "stdout",
     "output_type": "stream",
     "text": [
      "0 6689.jpg 113.8\n",
      "1 6683.jpg 106.2\n",
      "2 6721.jpg 80.6\n",
      "3 6723.jpg 65.2\n",
      "4 6722.jpg 93.4\n",
      "5 6690.jpg 104.2\n",
      "6 6725.jpg 83.2\n",
      "7 6724.jpg 73.4\n",
      "8 6693.jpg 109.2\n"
     ]
    },
    {
     "data": {
      "text/html": [
       "<div>\n",
       "<style scoped>\n",
       "    .dataframe tbody tr th:only-of-type {\n",
       "        vertical-align: middle;\n",
       "    }\n",
       "\n",
       "    .dataframe tbody tr th {\n",
       "        vertical-align: top;\n",
       "    }\n",
       "\n",
       "    .dataframe thead th {\n",
       "        text-align: right;\n",
       "    }\n",
       "</style>\n",
       "<table border=\"1\" class=\"dataframe\">\n",
       "  <thead>\n",
       "    <tr style=\"text-align: right;\">\n",
       "      <th></th>\n",
       "      <th>model</th>\n",
       "      <th>subseq</th>\n",
       "      <th>peaks</th>\n",
       "      <th>binary</th>\n",
       "      <th>mwa</th>\n",
       "    </tr>\n",
       "  </thead>\n",
       "  <tbody>\n",
       "    <tr>\n",
       "      <th>0</th>\n",
       "      <td>Polar Pith Laplacian</td>\n",
       "      <td>518.112039</td>\n",
       "      <td>107.464154</td>\n",
       "      <td>462.550032</td>\n",
       "      <td>159.11847</td>\n",
       "    </tr>\n",
       "  </tbody>\n",
       "</table>\n",
       "</div>"
      ],
      "text/plain": [
       "                  model      subseq       peaks      binary        mwa\n",
       "0  Polar Pith Laplacian  518.112039  107.464154  462.550032  159.11847"
      ]
     },
     "metadata": {},
     "output_type": "display_data"
    }
   ],
   "source": [
    "with_model(Model.POLAR_PITH_LAPLACIAN_EDGE, lines, points, data_dir, ranking_url, pith_url, rings_url, mse_url)"
   ]
  },
  {
   "cell_type": "code",
   "execution_count": 51,
   "id": "385ccfcc",
   "metadata": {},
   "outputs": [
    {
     "name": "stdout",
     "output_type": "stream",
     "text": [
      "0 6689.jpg 113.8\n",
      "1 6683.jpg 106.2\n",
      "2 6721.jpg 80.6\n",
      "3 6723.jpg 65.2\n",
      "4 6722.jpg 93.4\n",
      "5 6690.jpg 104.2\n",
      "6 6725.jpg 83.2\n",
      "7 6724.jpg 73.4\n",
      "8 6693.jpg 109.2\n"
     ]
    },
    {
     "data": {
      "text/html": [
       "<div>\n",
       "<style scoped>\n",
       "    .dataframe tbody tr th:only-of-type {\n",
       "        vertical-align: middle;\n",
       "    }\n",
       "\n",
       "    .dataframe tbody tr th {\n",
       "        vertical-align: top;\n",
       "    }\n",
       "\n",
       "    .dataframe thead th {\n",
       "        text-align: right;\n",
       "    }\n",
       "</style>\n",
       "<table border=\"1\" class=\"dataframe\">\n",
       "  <thead>\n",
       "    <tr style=\"text-align: right;\">\n",
       "      <th></th>\n",
       "      <th>model</th>\n",
       "      <th>subseq</th>\n",
       "      <th>peaks</th>\n",
       "      <th>binary</th>\n",
       "      <th>mwa</th>\n",
       "    </tr>\n",
       "  </thead>\n",
       "  <tbody>\n",
       "    <tr>\n",
       "      <th>0</th>\n",
       "      <td>Polar Pith Laplacian(blur)</td>\n",
       "      <td>406.098424</td>\n",
       "      <td>26.990671</td>\n",
       "      <td>399.716277</td>\n",
       "      <td>34.533235</td>\n",
       "    </tr>\n",
       "  </tbody>\n",
       "</table>\n",
       "</div>"
      ],
      "text/plain": [
       "                        model      subseq      peaks      binary        mwa\n",
       "0  Polar Pith Laplacian(blur)  406.098424  26.990671  399.716277  34.533235"
      ]
     },
     "metadata": {},
     "output_type": "display_data"
    }
   ],
   "source": [
    "with_model(Model.POLAR_PITH_LAPLACIAN_EDGE_BLUR, lines, points, data_dir, ranking_url, pith_url, rings_url, mse_url)"
   ]
  },
  {
   "cell_type": "code",
   "execution_count": 52,
   "id": "34ab8968",
   "metadata": {},
   "outputs": [
    {
     "name": "stdout",
     "output_type": "stream",
     "text": [
      "Polar Pith Canny(blur triangle) 19.888455438324574 (peaks) \n",
      "\n"
     ]
    },
    {
     "data": {
      "text/html": [
       "<div>\n",
       "<style scoped>\n",
       "    .dataframe tbody tr th:only-of-type {\n",
       "        vertical-align: middle;\n",
       "    }\n",
       "\n",
       "    .dataframe tbody tr th {\n",
       "        vertical-align: top;\n",
       "    }\n",
       "\n",
       "    .dataframe thead th {\n",
       "        text-align: right;\n",
       "    }\n",
       "</style>\n",
       "<table border=\"1\" class=\"dataframe\">\n",
       "  <thead>\n",
       "    <tr style=\"text-align: right;\">\n",
       "      <th></th>\n",
       "      <th>subseq</th>\n",
       "      <th>peaks</th>\n",
       "      <th>binary</th>\n",
       "      <th>mwa</th>\n",
       "    </tr>\n",
       "    <tr>\n",
       "      <th>model</th>\n",
       "      <th></th>\n",
       "      <th></th>\n",
       "      <th></th>\n",
       "      <th></th>\n",
       "    </tr>\n",
       "  </thead>\n",
       "  <tbody>\n",
       "    <tr>\n",
       "      <th>Grayscale</th>\n",
       "      <td>377.934223</td>\n",
       "      <td>57.866325</td>\n",
       "      <td>356.044464</td>\n",
       "      <td>32.206425</td>\n",
       "    </tr>\n",
       "    <tr>\n",
       "      <th>Polar</th>\n",
       "      <td>156.037722</td>\n",
       "      <td>77.303212</td>\n",
       "      <td>342.167561</td>\n",
       "      <td>44.719424</td>\n",
       "    </tr>\n",
       "    <tr>\n",
       "      <th>Polar Pith</th>\n",
       "      <td>135.804994</td>\n",
       "      <td>78.905877</td>\n",
       "      <td>302.007563</td>\n",
       "      <td>45.456342</td>\n",
       "    </tr>\n",
       "    <tr>\n",
       "      <th>Sobel</th>\n",
       "      <td>507.751865</td>\n",
       "      <td>62.990385</td>\n",
       "      <td>473.878753</td>\n",
       "      <td>115.730862</td>\n",
       "    </tr>\n",
       "    <tr>\n",
       "      <th>Sobel(blur)</th>\n",
       "      <td>434.447997</td>\n",
       "      <td>30.647399</td>\n",
       "      <td>419.524312</td>\n",
       "      <td>58.440076</td>\n",
       "    </tr>\n",
       "    <tr>\n",
       "      <th>Canny</th>\n",
       "      <td>66.973192</td>\n",
       "      <td>32.587798</td>\n",
       "      <td>291.219936</td>\n",
       "      <td>200.609979</td>\n",
       "    </tr>\n",
       "    <tr>\n",
       "      <th>Canny(otsu)</th>\n",
       "      <td>55.837287</td>\n",
       "      <td>28.416849</td>\n",
       "      <td>272.794569</td>\n",
       "      <td>184.842449</td>\n",
       "    </tr>\n",
       "    <tr>\n",
       "      <th>Canny(triangle)</th>\n",
       "      <td>96.792127</td>\n",
       "      <td>47.812544</td>\n",
       "      <td>343.534092</td>\n",
       "      <td>242.430733</td>\n",
       "    </tr>\n",
       "    <tr>\n",
       "      <th>Canny(manual)</th>\n",
       "      <td>49.666508</td>\n",
       "      <td>31.406042</td>\n",
       "      <td>249.926626</td>\n",
       "      <td>167.251630</td>\n",
       "    </tr>\n",
       "    <tr>\n",
       "      <th>Canny(blur)</th>\n",
       "      <td>35.714451</td>\n",
       "      <td>34.135075</td>\n",
       "      <td>216.948386</td>\n",
       "      <td>141.539013</td>\n",
       "    </tr>\n",
       "    <tr>\n",
       "      <th>Canny(blur otsu)</th>\n",
       "      <td>30.388647</td>\n",
       "      <td>35.252666</td>\n",
       "      <td>199.199312</td>\n",
       "      <td>124.708554</td>\n",
       "    </tr>\n",
       "    <tr>\n",
       "      <th>Canny(blur triangle)</th>\n",
       "      <td>61.635524</td>\n",
       "      <td>40.722449</td>\n",
       "      <td>280.664312</td>\n",
       "      <td>195.427163</td>\n",
       "    </tr>\n",
       "    <tr>\n",
       "      <th>Canny(blur manual)</th>\n",
       "      <td>33.081880</td>\n",
       "      <td>41.540817</td>\n",
       "      <td>174.225792</td>\n",
       "      <td>105.067016</td>\n",
       "    </tr>\n",
       "    <tr>\n",
       "      <th>Laplacian</th>\n",
       "      <td>595.897605</td>\n",
       "      <td>151.115900</td>\n",
       "      <td>573.793284</td>\n",
       "      <td>216.909705</td>\n",
       "    </tr>\n",
       "    <tr>\n",
       "      <th>Laplacian(blur)</th>\n",
       "      <td>526.978144</td>\n",
       "      <td>68.110205</td>\n",
       "      <td>536.439128</td>\n",
       "      <td>81.484869</td>\n",
       "    </tr>\n",
       "    <tr>\n",
       "      <th>Polar Sobel</th>\n",
       "      <td>435.344083</td>\n",
       "      <td>29.381625</td>\n",
       "      <td>392.635570</td>\n",
       "      <td>64.172109</td>\n",
       "    </tr>\n",
       "    <tr>\n",
       "      <th>Polar Sobel(blur)</th>\n",
       "      <td>323.324106</td>\n",
       "      <td>55.363890</td>\n",
       "      <td>321.225164</td>\n",
       "      <td>34.075495</td>\n",
       "    </tr>\n",
       "    <tr>\n",
       "      <th>Polar Canny</th>\n",
       "      <td>33.397821</td>\n",
       "      <td>43.300020</td>\n",
       "      <td>185.288952</td>\n",
       "      <td>116.554547</td>\n",
       "    </tr>\n",
       "    <tr>\n",
       "      <th>Polar Canny(otsu)</th>\n",
       "      <td>29.566964</td>\n",
       "      <td>34.323442</td>\n",
       "      <td>218.266960</td>\n",
       "      <td>144.683513</td>\n",
       "    </tr>\n",
       "    <tr>\n",
       "      <th>Polar Canny(triangle)</th>\n",
       "      <td>64.913801</td>\n",
       "      <td>28.977746</td>\n",
       "      <td>327.075244</td>\n",
       "      <td>230.320432</td>\n",
       "    </tr>\n",
       "    <tr>\n",
       "      <th>Polar Canny(manual)</th>\n",
       "      <td>36.951804</td>\n",
       "      <td>46.246251</td>\n",
       "      <td>176.867894</td>\n",
       "      <td>110.633010</td>\n",
       "    </tr>\n",
       "    <tr>\n",
       "      <th>Polar Canny(blur)</th>\n",
       "      <td>53.906659</td>\n",
       "      <td>60.241522</td>\n",
       "      <td>125.579655</td>\n",
       "      <td>67.462185</td>\n",
       "    </tr>\n",
       "    <tr>\n",
       "      <th>Polar Canny(blur otsu)</th>\n",
       "      <td>41.563693</td>\n",
       "      <td>49.077213</td>\n",
       "      <td>169.234638</td>\n",
       "      <td>102.095470</td>\n",
       "    </tr>\n",
       "    <tr>\n",
       "      <th>Polar Canny(blur triangle)</th>\n",
       "      <td>32.765506</td>\n",
       "      <td>20.577902</td>\n",
       "      <td>285.761030</td>\n",
       "      <td>199.107341</td>\n",
       "    </tr>\n",
       "    <tr>\n",
       "      <th>Polar Canny(blur manual)</th>\n",
       "      <td>56.889792</td>\n",
       "      <td>62.509954</td>\n",
       "      <td>119.804467</td>\n",
       "      <td>63.436707</td>\n",
       "    </tr>\n",
       "    <tr>\n",
       "      <th>Polar Laplacian</th>\n",
       "      <td>579.259917</td>\n",
       "      <td>124.237920</td>\n",
       "      <td>519.645193</td>\n",
       "      <td>183.223928</td>\n",
       "    </tr>\n",
       "    <tr>\n",
       "      <th>Polar Laplacian(blur)</th>\n",
       "      <td>453.916240</td>\n",
       "      <td>29.408346</td>\n",
       "      <td>447.216756</td>\n",
       "      <td>39.766662</td>\n",
       "    </tr>\n",
       "    <tr>\n",
       "      <th>Polar Pith Sobel</th>\n",
       "      <td>384.935058</td>\n",
       "      <td>25.710274</td>\n",
       "      <td>347.381323</td>\n",
       "      <td>51.915337</td>\n",
       "    </tr>\n",
       "    <tr>\n",
       "      <th>Polar Pith Sobel(blur)</th>\n",
       "      <td>285.242641</td>\n",
       "      <td>57.235524</td>\n",
       "      <td>283.939636</td>\n",
       "      <td>31.333862</td>\n",
       "    </tr>\n",
       "    <tr>\n",
       "      <th>Polar Pith Canny</th>\n",
       "      <td>34.669810</td>\n",
       "      <td>44.496996</td>\n",
       "      <td>164.720042</td>\n",
       "      <td>100.222542</td>\n",
       "    </tr>\n",
       "    <tr>\n",
       "      <th>Polar Pith Canny(otsu)</th>\n",
       "      <td>29.382329</td>\n",
       "      <td>34.632407</td>\n",
       "      <td>198.688665</td>\n",
       "      <td>128.277783</td>\n",
       "    </tr>\n",
       "    <tr>\n",
       "      <th>Polar Pith Canny(triangle)</th>\n",
       "      <td>57.477470</td>\n",
       "      <td>24.639732</td>\n",
       "      <td>294.486610</td>\n",
       "      <td>206.506798</td>\n",
       "    </tr>\n",
       "    <tr>\n",
       "      <th>Polar Pith Canny(manual)</th>\n",
       "      <td>36.371340</td>\n",
       "      <td>43.979287</td>\n",
       "      <td>170.801783</td>\n",
       "      <td>107.114006</td>\n",
       "    </tr>\n",
       "    <tr>\n",
       "      <th>Polar Pith Canny(blur)</th>\n",
       "      <td>54.725704</td>\n",
       "      <td>60.906967</td>\n",
       "      <td>112.462820</td>\n",
       "      <td>58.997991</td>\n",
       "    </tr>\n",
       "    <tr>\n",
       "      <th>Polar Pith Canny(blur otsu)</th>\n",
       "      <td>42.506664</td>\n",
       "      <td>49.618021</td>\n",
       "      <td>152.904969</td>\n",
       "      <td>90.429998</td>\n",
       "    </tr>\n",
       "    <tr>\n",
       "      <th>Polar Pith Canny(blur triangle)</th>\n",
       "      <td>26.906226</td>\n",
       "      <td>19.888455</td>\n",
       "      <td>252.316367</td>\n",
       "      <td>173.380991</td>\n",
       "    </tr>\n",
       "    <tr>\n",
       "      <th>Polar Pith Canny(blur manual)</th>\n",
       "      <td>53.507941</td>\n",
       "      <td>59.295834</td>\n",
       "      <td>122.063051</td>\n",
       "      <td>68.078438</td>\n",
       "    </tr>\n",
       "    <tr>\n",
       "      <th>Polar Pith Laplacian</th>\n",
       "      <td>518.112039</td>\n",
       "      <td>107.464154</td>\n",
       "      <td>462.550032</td>\n",
       "      <td>159.118470</td>\n",
       "    </tr>\n",
       "    <tr>\n",
       "      <th>Polar Pith Laplacian(blur)</th>\n",
       "      <td>406.098424</td>\n",
       "      <td>26.990671</td>\n",
       "      <td>399.716277</td>\n",
       "      <td>34.533235</td>\n",
       "    </tr>\n",
       "  </tbody>\n",
       "</table>\n",
       "</div>"
      ],
      "text/plain": [
       "                                     subseq       peaks      binary  \\\n",
       "model                                                                 \n",
       "Grayscale                        377.934223   57.866325  356.044464   \n",
       "Polar                            156.037722   77.303212  342.167561   \n",
       "Polar Pith                       135.804994   78.905877  302.007563   \n",
       "Sobel                            507.751865   62.990385  473.878753   \n",
       "Sobel(blur)                      434.447997   30.647399  419.524312   \n",
       "Canny                             66.973192   32.587798  291.219936   \n",
       "Canny(otsu)                       55.837287   28.416849  272.794569   \n",
       "Canny(triangle)                   96.792127   47.812544  343.534092   \n",
       "Canny(manual)                     49.666508   31.406042  249.926626   \n",
       "Canny(blur)                       35.714451   34.135075  216.948386   \n",
       "Canny(blur otsu)                  30.388647   35.252666  199.199312   \n",
       "Canny(blur triangle)              61.635524   40.722449  280.664312   \n",
       "Canny(blur manual)                33.081880   41.540817  174.225792   \n",
       "Laplacian                        595.897605  151.115900  573.793284   \n",
       "Laplacian(blur)                  526.978144   68.110205  536.439128   \n",
       "Polar Sobel                      435.344083   29.381625  392.635570   \n",
       "Polar Sobel(blur)                323.324106   55.363890  321.225164   \n",
       "Polar Canny                       33.397821   43.300020  185.288952   \n",
       "Polar Canny(otsu)                 29.566964   34.323442  218.266960   \n",
       "Polar Canny(triangle)             64.913801   28.977746  327.075244   \n",
       "Polar Canny(manual)               36.951804   46.246251  176.867894   \n",
       "Polar Canny(blur)                 53.906659   60.241522  125.579655   \n",
       "Polar Canny(blur otsu)            41.563693   49.077213  169.234638   \n",
       "Polar Canny(blur triangle)        32.765506   20.577902  285.761030   \n",
       "Polar Canny(blur manual)          56.889792   62.509954  119.804467   \n",
       "Polar Laplacian                  579.259917  124.237920  519.645193   \n",
       "Polar Laplacian(blur)            453.916240   29.408346  447.216756   \n",
       "Polar Pith Sobel                 384.935058   25.710274  347.381323   \n",
       "Polar Pith Sobel(blur)           285.242641   57.235524  283.939636   \n",
       "Polar Pith Canny                  34.669810   44.496996  164.720042   \n",
       "Polar Pith Canny(otsu)            29.382329   34.632407  198.688665   \n",
       "Polar Pith Canny(triangle)        57.477470   24.639732  294.486610   \n",
       "Polar Pith Canny(manual)          36.371340   43.979287  170.801783   \n",
       "Polar Pith Canny(blur)            54.725704   60.906967  112.462820   \n",
       "Polar Pith Canny(blur otsu)       42.506664   49.618021  152.904969   \n",
       "Polar Pith Canny(blur triangle)   26.906226   19.888455  252.316367   \n",
       "Polar Pith Canny(blur manual)     53.507941   59.295834  122.063051   \n",
       "Polar Pith Laplacian             518.112039  107.464154  462.550032   \n",
       "Polar Pith Laplacian(blur)       406.098424   26.990671  399.716277   \n",
       "\n",
       "                                        mwa  \n",
       "model                                        \n",
       "Grayscale                         32.206425  \n",
       "Polar                             44.719424  \n",
       "Polar Pith                        45.456342  \n",
       "Sobel                            115.730862  \n",
       "Sobel(blur)                       58.440076  \n",
       "Canny                            200.609979  \n",
       "Canny(otsu)                      184.842449  \n",
       "Canny(triangle)                  242.430733  \n",
       "Canny(manual)                    167.251630  \n",
       "Canny(blur)                      141.539013  \n",
       "Canny(blur otsu)                 124.708554  \n",
       "Canny(blur triangle)             195.427163  \n",
       "Canny(blur manual)               105.067016  \n",
       "Laplacian                        216.909705  \n",
       "Laplacian(blur)                   81.484869  \n",
       "Polar Sobel                       64.172109  \n",
       "Polar Sobel(blur)                 34.075495  \n",
       "Polar Canny                      116.554547  \n",
       "Polar Canny(otsu)                144.683513  \n",
       "Polar Canny(triangle)            230.320432  \n",
       "Polar Canny(manual)              110.633010  \n",
       "Polar Canny(blur)                 67.462185  \n",
       "Polar Canny(blur otsu)           102.095470  \n",
       "Polar Canny(blur triangle)       199.107341  \n",
       "Polar Canny(blur manual)          63.436707  \n",
       "Polar Laplacian                  183.223928  \n",
       "Polar Laplacian(blur)             39.766662  \n",
       "Polar Pith Sobel                  51.915337  \n",
       "Polar Pith Sobel(blur)            31.333862  \n",
       "Polar Pith Canny                 100.222542  \n",
       "Polar Pith Canny(otsu)           128.277783  \n",
       "Polar Pith Canny(triangle)       206.506798  \n",
       "Polar Pith Canny(manual)         107.114006  \n",
       "Polar Pith Canny(blur)            58.997991  \n",
       "Polar Pith Canny(blur otsu)       90.429998  \n",
       "Polar Pith Canny(blur triangle)  173.380991  \n",
       "Polar Pith Canny(blur manual)     68.078438  \n",
       "Polar Pith Laplacian             159.118470  \n",
       "Polar Pith Laplacian(blur)        34.533235  "
      ]
     },
     "metadata": {},
     "output_type": "display_data"
    },
    {
     "name": "stdout",
     "output_type": "stream",
     "text": [
      "Min: 19.888455438324574, Max: 595.8976049688729\n"
     ]
    },
    {
     "data": {
      "image/png": "[encoded data removed]",
      "text/plain": [
       "<Figure size 640x480 with 1 Axes>"
      ]
     },
     "metadata": {},
     "output_type": "display_data"
    },
    {
     "data": {
      "text/html": [
       "<div>\n",
       "<style scoped>\n",
       "    .dataframe tbody tr th:only-of-type {\n",
       "        vertical-align: middle;\n",
       "    }\n",
       "\n",
       "    .dataframe tbody tr th {\n",
       "        vertical-align: top;\n",
       "    }\n",
       "\n",
       "    .dataframe thead th {\n",
       "        text-align: right;\n",
       "    }\n",
       "</style>\n",
       "<table border=\"1\" class=\"dataframe\">\n",
       "  <thead>\n",
       "    <tr style=\"text-align: right;\">\n",
       "      <th></th>\n",
       "      <th>subseq</th>\n",
       "      <th>peaks</th>\n",
       "      <th>binary</th>\n",
       "      <th>mwa</th>\n",
       "    </tr>\n",
       "    <tr>\n",
       "      <th>model</th>\n",
       "      <th></th>\n",
       "      <th></th>\n",
       "      <th></th>\n",
       "      <th></th>\n",
       "    </tr>\n",
       "  </thead>\n",
       "  <tbody>\n",
       "    <tr>\n",
       "      <th>Grayscale</th>\n",
       "      <td>377.934223</td>\n",
       "      <td>57.866325</td>\n",
       "      <td>356.044464</td>\n",
       "      <td>32.206425</td>\n",
       "    </tr>\n",
       "    <tr>\n",
       "      <th>Polar</th>\n",
       "      <td>156.037722</td>\n",
       "      <td>77.303212</td>\n",
       "      <td>342.167561</td>\n",
       "      <td>44.719424</td>\n",
       "    </tr>\n",
       "    <tr>\n",
       "      <th>Polar Pith</th>\n",
       "      <td>135.804994</td>\n",
       "      <td>78.905877</td>\n",
       "      <td>302.007563</td>\n",
       "      <td>45.456342</td>\n",
       "    </tr>\n",
       "    <tr>\n",
       "      <th>Sobel</th>\n",
       "      <td>507.751865</td>\n",
       "      <td>62.990385</td>\n",
       "      <td>473.878753</td>\n",
       "      <td>115.730862</td>\n",
       "    </tr>\n",
       "    <tr>\n",
       "      <th>Sobel(blur)</th>\n",
       "      <td>434.447997</td>\n",
       "      <td>30.647399</td>\n",
       "      <td>419.524312</td>\n",
       "      <td>58.440076</td>\n",
       "    </tr>\n",
       "    <tr>\n",
       "      <th>Canny</th>\n",
       "      <td>66.973192</td>\n",
       "      <td>32.587798</td>\n",
       "      <td>291.219936</td>\n",
       "      <td>200.609979</td>\n",
       "    </tr>\n",
       "    <tr>\n",
       "      <th>Canny(otsu)</th>\n",
       "      <td>55.837287</td>\n",
       "      <td>28.416849</td>\n",
       "      <td>272.794569</td>\n",
       "      <td>184.842449</td>\n",
       "    </tr>\n",
       "    <tr>\n",
       "      <th>Canny(triangle)</th>\n",
       "      <td>96.792127</td>\n",
       "      <td>47.812544</td>\n",
       "      <td>343.534092</td>\n",
       "      <td>242.430733</td>\n",
       "    </tr>\n",
       "    <tr>\n",
       "      <th>Canny(manual)</th>\n",
       "      <td>49.666508</td>\n",
       "      <td>31.406042</td>\n",
       "      <td>249.926626</td>\n",
       "      <td>167.251630</td>\n",
       "    </tr>\n",
       "    <tr>\n",
       "      <th>Canny(blur)</th>\n",
       "      <td>35.714451</td>\n",
       "      <td>34.135075</td>\n",
       "      <td>216.948386</td>\n",
       "      <td>141.539013</td>\n",
       "    </tr>\n",
       "    <tr>\n",
       "      <th>Canny(blur otsu)</th>\n",
       "      <td>30.388647</td>\n",
       "      <td>35.252666</td>\n",
       "      <td>199.199312</td>\n",
       "      <td>124.708554</td>\n",
       "    </tr>\n",
       "    <tr>\n",
       "      <th>Canny(blur triangle)</th>\n",
       "      <td>61.635524</td>\n",
       "      <td>40.722449</td>\n",
       "      <td>280.664312</td>\n",
       "      <td>195.427163</td>\n",
       "    </tr>\n",
       "    <tr>\n",
       "      <th>Canny(blur manual)</th>\n",
       "      <td>33.081880</td>\n",
       "      <td>41.540817</td>\n",
       "      <td>174.225792</td>\n",
       "      <td>105.067016</td>\n",
       "    </tr>\n",
       "    <tr>\n",
       "      <th>Laplacian</th>\n",
       "      <td>595.897605</td>\n",
       "      <td>151.115900</td>\n",
       "      <td>573.793284</td>\n",
       "      <td>216.909705</td>\n",
       "    </tr>\n",
       "    <tr>\n",
       "      <th>Laplacian(blur)</th>\n",
       "      <td>526.978144</td>\n",
       "      <td>68.110205</td>\n",
       "      <td>536.439128</td>\n",
       "      <td>81.484869</td>\n",
       "    </tr>\n",
       "  </tbody>\n",
       "</table>\n",
       "</div>"
      ],
      "text/plain": [
       "                          subseq       peaks      binary         mwa\n",
       "model                                                               \n",
       "Grayscale             377.934223   57.866325  356.044464   32.206425\n",
       "Polar                 156.037722   77.303212  342.167561   44.719424\n",
       "Polar Pith            135.804994   78.905877  302.007563   45.456342\n",
       "Sobel                 507.751865   62.990385  473.878753  115.730862\n",
       "Sobel(blur)           434.447997   30.647399  419.524312   58.440076\n",
       "Canny                  66.973192   32.587798  291.219936  200.609979\n",
       "Canny(otsu)            55.837287   28.416849  272.794569  184.842449\n",
       "Canny(triangle)        96.792127   47.812544  343.534092  242.430733\n",
       "Canny(manual)          49.666508   31.406042  249.926626  167.251630\n",
       "Canny(blur)            35.714451   34.135075  216.948386  141.539013\n",
       "Canny(blur otsu)       30.388647   35.252666  199.199312  124.708554\n",
       "Canny(blur triangle)   61.635524   40.722449  280.664312  195.427163\n",
       "Canny(blur manual)     33.081880   41.540817  174.225792  105.067016\n",
       "Laplacian             595.897605  151.115900  573.793284  216.909705\n",
       "Laplacian(blur)       526.978144   68.110205  536.439128   81.484869"
      ]
     },
     "metadata": {},
     "output_type": "display_data"
    },
    {
     "name": "stdout",
     "output_type": "stream",
     "text": [
      "Min: 28.416849339588808, Max: 595.8976049688729\n"
     ]
    },
    {
     "data": {
      "image/png": "[encoded data removed]",
      "text/plain": [
       "<Figure size 640x480 with 1 Axes>"
      ]
     },
     "metadata": {},
     "output_type": "display_data"
    },
    {
     "data": {
      "text/html": [
       "<div>\n",
       "<style scoped>\n",
       "    .dataframe tbody tr th:only-of-type {\n",
       "        vertical-align: middle;\n",
       "    }\n",
       "\n",
       "    .dataframe tbody tr th {\n",
       "        vertical-align: top;\n",
       "    }\n",
       "\n",
       "    .dataframe thead th {\n",
       "        text-align: right;\n",
       "    }\n",
       "</style>\n",
       "<table border=\"1\" class=\"dataframe\">\n",
       "  <thead>\n",
       "    <tr style=\"text-align: right;\">\n",
       "      <th></th>\n",
       "      <th>subseq</th>\n",
       "      <th>peaks</th>\n",
       "      <th>binary</th>\n",
       "      <th>mwa</th>\n",
       "    </tr>\n",
       "    <tr>\n",
       "      <th>model</th>\n",
       "      <th></th>\n",
       "      <th></th>\n",
       "      <th></th>\n",
       "      <th></th>\n",
       "    </tr>\n",
       "  </thead>\n",
       "  <tbody>\n",
       "    <tr>\n",
       "      <th>Polar Sobel</th>\n",
       "      <td>435.344083</td>\n",
       "      <td>29.381625</td>\n",
       "      <td>392.635570</td>\n",
       "      <td>64.172109</td>\n",
       "    </tr>\n",
       "    <tr>\n",
       "      <th>Polar Sobel(blur)</th>\n",
       "      <td>323.324106</td>\n",
       "      <td>55.363890</td>\n",
       "      <td>321.225164</td>\n",
       "      <td>34.075495</td>\n",
       "    </tr>\n",
       "    <tr>\n",
       "      <th>Polar Canny</th>\n",
       "      <td>33.397821</td>\n",
       "      <td>43.300020</td>\n",
       "      <td>185.288952</td>\n",
       "      <td>116.554547</td>\n",
       "    </tr>\n",
       "    <tr>\n",
       "      <th>Polar Canny(otsu)</th>\n",
       "      <td>29.566964</td>\n",
       "      <td>34.323442</td>\n",
       "      <td>218.266960</td>\n",
       "      <td>144.683513</td>\n",
       "    </tr>\n",
       "    <tr>\n",
       "      <th>Polar Canny(triangle)</th>\n",
       "      <td>64.913801</td>\n",
       "      <td>28.977746</td>\n",
       "      <td>327.075244</td>\n",
       "      <td>230.320432</td>\n",
       "    </tr>\n",
       "    <tr>\n",
       "      <th>Polar Canny(manual)</th>\n",
       "      <td>36.951804</td>\n",
       "      <td>46.246251</td>\n",
       "      <td>176.867894</td>\n",
       "      <td>110.633010</td>\n",
       "    </tr>\n",
       "    <tr>\n",
       "      <th>Polar Canny(blur)</th>\n",
       "      <td>53.906659</td>\n",
       "      <td>60.241522</td>\n",
       "      <td>125.579655</td>\n",
       "      <td>67.462185</td>\n",
       "    </tr>\n",
       "    <tr>\n",
       "      <th>Polar Canny(blur otsu)</th>\n",
       "      <td>41.563693</td>\n",
       "      <td>49.077213</td>\n",
       "      <td>169.234638</td>\n",
       "      <td>102.095470</td>\n",
       "    </tr>\n",
       "    <tr>\n",
       "      <th>Polar Canny(blur triangle)</th>\n",
       "      <td>32.765506</td>\n",
       "      <td>20.577902</td>\n",
       "      <td>285.761030</td>\n",
       "      <td>199.107341</td>\n",
       "    </tr>\n",
       "    <tr>\n",
       "      <th>Polar Canny(blur manual)</th>\n",
       "      <td>56.889792</td>\n",
       "      <td>62.509954</td>\n",
       "      <td>119.804467</td>\n",
       "      <td>63.436707</td>\n",
       "    </tr>\n",
       "    <tr>\n",
       "      <th>Polar Laplacian</th>\n",
       "      <td>579.259917</td>\n",
       "      <td>124.237920</td>\n",
       "      <td>519.645193</td>\n",
       "      <td>183.223928</td>\n",
       "    </tr>\n",
       "    <tr>\n",
       "      <th>Polar Laplacian(blur)</th>\n",
       "      <td>453.916240</td>\n",
       "      <td>29.408346</td>\n",
       "      <td>447.216756</td>\n",
       "      <td>39.766662</td>\n",
       "    </tr>\n",
       "  </tbody>\n",
       "</table>\n",
       "</div>"
      ],
      "text/plain": [
       "                                subseq       peaks      binary         mwa\n",
       "model                                                                     \n",
       "Polar Sobel                 435.344083   29.381625  392.635570   64.172109\n",
       "Polar Sobel(blur)           323.324106   55.363890  321.225164   34.075495\n",
       "Polar Canny                  33.397821   43.300020  185.288952  116.554547\n",
       "Polar Canny(otsu)            29.566964   34.323442  218.266960  144.683513\n",
       "Polar Canny(triangle)        64.913801   28.977746  327.075244  230.320432\n",
       "Polar Canny(manual)          36.951804   46.246251  176.867894  110.633010\n",
       "Polar Canny(blur)            53.906659   60.241522  125.579655   67.462185\n",
       "Polar Canny(blur otsu)       41.563693   49.077213  169.234638  102.095470\n",
       "Polar Canny(blur triangle)   32.765506   20.577902  285.761030  199.107341\n",
       "Polar Canny(blur manual)     56.889792   62.509954  119.804467   63.436707\n",
       "Polar Laplacian             579.259917  124.237920  519.645193  183.223928\n",
       "Polar Laplacian(blur)       453.916240   29.408346  447.216756   39.766662"
      ]
     },
     "metadata": {},
     "output_type": "display_data"
    },
    {
     "name": "stdout",
     "output_type": "stream",
     "text": [
      "Min: 20.57790203308717, Max: 579.259916548814\n"
     ]
    },
    {
     "data": {
      "image/png": "[encoded data removed]",
      "text/plain": [
       "<Figure size 640x480 with 1 Axes>"
      ]
     },
     "metadata": {},
     "output_type": "display_data"
    },
    {
     "data": {
      "text/html": [
       "<div>\n",
       "<style scoped>\n",
       "    .dataframe tbody tr th:only-of-type {\n",
       "        vertical-align: middle;\n",
       "    }\n",
       "\n",
       "    .dataframe tbody tr th {\n",
       "        vertical-align: top;\n",
       "    }\n",
       "\n",
       "    .dataframe thead th {\n",
       "        text-align: right;\n",
       "    }\n",
       "</style>\n",
       "<table border=\"1\" class=\"dataframe\">\n",
       "  <thead>\n",
       "    <tr style=\"text-align: right;\">\n",
       "      <th></th>\n",
       "      <th>subseq</th>\n",
       "      <th>peaks</th>\n",
       "      <th>binary</th>\n",
       "      <th>mwa</th>\n",
       "    </tr>\n",
       "    <tr>\n",
       "      <th>model</th>\n",
       "      <th></th>\n",
       "      <th></th>\n",
       "      <th></th>\n",
       "      <th></th>\n",
       "    </tr>\n",
       "  </thead>\n",
       "  <tbody>\n",
       "    <tr>\n",
       "      <th>Polar Pith Sobel</th>\n",
       "      <td>384.935058</td>\n",
       "      <td>25.710274</td>\n",
       "      <td>347.381323</td>\n",
       "      <td>51.915337</td>\n",
       "    </tr>\n",
       "    <tr>\n",
       "      <th>Polar Pith Sobel(blur)</th>\n",
       "      <td>285.242641</td>\n",
       "      <td>57.235524</td>\n",
       "      <td>283.939636</td>\n",
       "      <td>31.333862</td>\n",
       "    </tr>\n",
       "    <tr>\n",
       "      <th>Polar Pith Canny</th>\n",
       "      <td>34.669810</td>\n",
       "      <td>44.496996</td>\n",
       "      <td>164.720042</td>\n",
       "      <td>100.222542</td>\n",
       "    </tr>\n",
       "    <tr>\n",
       "      <th>Polar Pith Canny(otsu)</th>\n",
       "      <td>29.382329</td>\n",
       "      <td>34.632407</td>\n",
       "      <td>198.688665</td>\n",
       "      <td>128.277783</td>\n",
       "    </tr>\n",
       "    <tr>\n",
       "      <th>Polar Pith Canny(triangle)</th>\n",
       "      <td>57.477470</td>\n",
       "      <td>24.639732</td>\n",
       "      <td>294.486610</td>\n",
       "      <td>206.506798</td>\n",
       "    </tr>\n",
       "    <tr>\n",
       "      <th>Polar Pith Canny(manual)</th>\n",
       "      <td>36.371340</td>\n",
       "      <td>43.979287</td>\n",
       "      <td>170.801783</td>\n",
       "      <td>107.114006</td>\n",
       "    </tr>\n",
       "    <tr>\n",
       "      <th>Polar Pith Canny(blur)</th>\n",
       "      <td>54.725704</td>\n",
       "      <td>60.906967</td>\n",
       "      <td>112.462820</td>\n",
       "      <td>58.997991</td>\n",
       "    </tr>\n",
       "    <tr>\n",
       "      <th>Polar Pith Canny(blur otsu)</th>\n",
       "      <td>42.506664</td>\n",
       "      <td>49.618021</td>\n",
       "      <td>152.904969</td>\n",
       "      <td>90.429998</td>\n",
       "    </tr>\n",
       "    <tr>\n",
       "      <th>Polar Pith Canny(blur triangle)</th>\n",
       "      <td>26.906226</td>\n",
       "      <td>19.888455</td>\n",
       "      <td>252.316367</td>\n",
       "      <td>173.380991</td>\n",
       "    </tr>\n",
       "    <tr>\n",
       "      <th>Polar Pith Canny(blur manual)</th>\n",
       "      <td>53.507941</td>\n",
       "      <td>59.295834</td>\n",
       "      <td>122.063051</td>\n",
       "      <td>68.078438</td>\n",
       "    </tr>\n",
       "    <tr>\n",
       "      <th>Polar Pith Laplacian</th>\n",
       "      <td>518.112039</td>\n",
       "      <td>107.464154</td>\n",
       "      <td>462.550032</td>\n",
       "      <td>159.118470</td>\n",
       "    </tr>\n",
       "    <tr>\n",
       "      <th>Polar Pith Laplacian(blur)</th>\n",
       "      <td>406.098424</td>\n",
       "      <td>26.990671</td>\n",
       "      <td>399.716277</td>\n",
       "      <td>34.533235</td>\n",
       "    </tr>\n",
       "  </tbody>\n",
       "</table>\n",
       "</div>"
      ],
      "text/plain": [
       "                                     subseq       peaks      binary  \\\n",
       "model                                                                 \n",
       "Polar Pith Sobel                 384.935058   25.710274  347.381323   \n",
       "Polar Pith Sobel(blur)           285.242641   57.235524  283.939636   \n",
       "Polar Pith Canny                  34.669810   44.496996  164.720042   \n",
       "Polar Pith Canny(otsu)            29.382329   34.632407  198.688665   \n",
       "Polar Pith Canny(triangle)        57.477470   24.639732  294.486610   \n",
       "Polar Pith Canny(manual)          36.371340   43.979287  170.801783   \n",
       "Polar Pith Canny(blur)            54.725704   60.906967  112.462820   \n",
       "Polar Pith Canny(blur otsu)       42.506664   49.618021  152.904969   \n",
       "Polar Pith Canny(blur triangle)   26.906226   19.888455  252.316367   \n",
       "Polar Pith Canny(blur manual)     53.507941   59.295834  122.063051   \n",
       "Polar Pith Laplacian             518.112039  107.464154  462.550032   \n",
       "Polar Pith Laplacian(blur)       406.098424   26.990671  399.716277   \n",
       "\n",
       "                                        mwa  \n",
       "model                                        \n",
       "Polar Pith Sobel                  51.915337  \n",
       "Polar Pith Sobel(blur)            31.333862  \n",
       "Polar Pith Canny                 100.222542  \n",
       "Polar Pith Canny(otsu)           128.277783  \n",
       "Polar Pith Canny(triangle)       206.506798  \n",
       "Polar Pith Canny(manual)         107.114006  \n",
       "Polar Pith Canny(blur)            58.997991  \n",
       "Polar Pith Canny(blur otsu)       90.429998  \n",
       "Polar Pith Canny(blur triangle)  173.380991  \n",
       "Polar Pith Canny(blur manual)     68.078438  \n",
       "Polar Pith Laplacian             159.118470  \n",
       "Polar Pith Laplacian(blur)        34.533235  "
      ]
     },
     "metadata": {},
     "output_type": "display_data"
    },
    {
     "name": "stdout",
     "output_type": "stream",
     "text": [
      "Min: 19.888455438324574, Max: 518.1120389077165\n"
     ]
    },
    {
     "data": {
      "image/png": "[encoded data removed]",
      "text/plain": [
       "<Figure size 640x480 with 1 Axes>"
      ]
     },
     "metadata": {},
     "output_type": "display_data"
    }
   ],
   "source": [
    "multi_mse(mse_url)"
   ]
  },
  {
   "cell_type": "code",
   "execution_count": 53,
   "id": "17bf2401",
   "metadata": {},
   "outputs": [],
   "source": [
    "#STOP"
   ]
  },
  {
   "cell_type": "markdown",
   "id": "39e8e020",
   "metadata": {},
   "source": [
    "### Model with 32 lines"
   ]
  },
  {
   "cell_type": "code",
   "execution_count": 54,
   "id": "c233746c",
   "metadata": {},
   "outputs": [],
   "source": [
    "#MSE file\n",
    "mse_url = \"output/pine_mse_thirtytwo.csv\"\n",
    "\n",
    "#rings info file\n",
    "rings_url = \"output/pine_rings_thirtytwo.csv\"\n",
    "\n",
    "#no of lines and points\n",
    "lines = 32\n",
    "points = 150"
   ]
  },
  {
   "cell_type": "code",
   "execution_count": 55,
   "id": "f94809ec",
   "metadata": {},
   "outputs": [
    {
     "name": "stdout",
     "output_type": "stream",
     "text": [
      "0 6689.jpg 113.8\n",
      "1 6683.jpg 106.2\n",
      "2 6721.jpg 80.6\n",
      "3 6723.jpg 65.2\n",
      "4 6722.jpg 93.4\n",
      "5 6690.jpg 104.2\n",
      "6 6725.jpg 83.2\n",
      "7 6724.jpg 73.4\n",
      "8 6693.jpg 109.2\n"
     ]
    },
    {
     "data": {
      "text/html": [
       "<div>\n",
       "<style scoped>\n",
       "    .dataframe tbody tr th:only-of-type {\n",
       "        vertical-align: middle;\n",
       "    }\n",
       "\n",
       "    .dataframe tbody tr th {\n",
       "        vertical-align: top;\n",
       "    }\n",
       "\n",
       "    .dataframe thead th {\n",
       "        text-align: right;\n",
       "    }\n",
       "</style>\n",
       "<table border=\"1\" class=\"dataframe\">\n",
       "  <thead>\n",
       "    <tr style=\"text-align: right;\">\n",
       "      <th></th>\n",
       "      <th>model</th>\n",
       "      <th>subseq</th>\n",
       "      <th>peaks</th>\n",
       "      <th>binary</th>\n",
       "      <th>mwa</th>\n",
       "    </tr>\n",
       "  </thead>\n",
       "  <tbody>\n",
       "    <tr>\n",
       "      <th>0</th>\n",
       "      <td>Grayscale</td>\n",
       "      <td>377.06168</td>\n",
       "      <td>57.597009</td>\n",
       "      <td>356.470813</td>\n",
       "      <td>32.253599</td>\n",
       "    </tr>\n",
       "  </tbody>\n",
       "</table>\n",
       "</div>"
      ],
      "text/plain": [
       "       model     subseq      peaks      binary        mwa\n",
       "0  Grayscale  377.06168  57.597009  356.470813  32.253599"
      ]
     },
     "metadata": {},
     "output_type": "display_data"
    }
   ],
   "source": [
    "with_model(Model.GRAYSCALE, lines, points, data_dir, ranking_url, pith_url, rings_url, mse_url)"
   ]
  },
  {
   "cell_type": "code",
   "execution_count": 56,
   "id": "0f5642eb",
   "metadata": {},
   "outputs": [
    {
     "name": "stdout",
     "output_type": "stream",
     "text": [
      "0 6689.jpg 113.8\n",
      "1 6683.jpg 106.2\n",
      "2 6721.jpg 80.6\n",
      "3 6723.jpg 65.2\n",
      "4 6722.jpg 93.4\n",
      "5 6690.jpg 104.2\n",
      "6 6725.jpg 83.2\n",
      "7 6724.jpg 73.4\n",
      "8 6693.jpg 109.2\n"
     ]
    },
    {
     "data": {
      "text/html": [
       "<div>\n",
       "<style scoped>\n",
       "    .dataframe tbody tr th:only-of-type {\n",
       "        vertical-align: middle;\n",
       "    }\n",
       "\n",
       "    .dataframe tbody tr th {\n",
       "        vertical-align: top;\n",
       "    }\n",
       "\n",
       "    .dataframe thead th {\n",
       "        text-align: right;\n",
       "    }\n",
       "</style>\n",
       "<table border=\"1\" class=\"dataframe\">\n",
       "  <thead>\n",
       "    <tr style=\"text-align: right;\">\n",
       "      <th></th>\n",
       "      <th>model</th>\n",
       "      <th>subseq</th>\n",
       "      <th>peaks</th>\n",
       "      <th>binary</th>\n",
       "      <th>mwa</th>\n",
       "    </tr>\n",
       "  </thead>\n",
       "  <tbody>\n",
       "    <tr>\n",
       "      <th>0</th>\n",
       "      <td>Polar</td>\n",
       "      <td>161.029993</td>\n",
       "      <td>76.991214</td>\n",
       "      <td>349.407722</td>\n",
       "      <td>43.067187</td>\n",
       "    </tr>\n",
       "  </tbody>\n",
       "</table>\n",
       "</div>"
      ],
      "text/plain": [
       "   model      subseq      peaks      binary        mwa\n",
       "0  Polar  161.029993  76.991214  349.407722  43.067187"
      ]
     },
     "metadata": {},
     "output_type": "display_data"
    }
   ],
   "source": [
    "with_model(Model.POLAR, lines, points, data_dir, ranking_url, pith_url, rings_url, mse_url)"
   ]
  },
  {
   "cell_type": "code",
   "execution_count": 57,
   "id": "c429c79a",
   "metadata": {},
   "outputs": [
    {
     "name": "stdout",
     "output_type": "stream",
     "text": [
      "0 6689.jpg 113.8\n",
      "1 6683.jpg 106.2\n",
      "2 6721.jpg 80.6\n",
      "3 6723.jpg 65.2\n",
      "4 6722.jpg 93.4\n",
      "5 6690.jpg 104.2\n",
      "6 6725.jpg 83.2\n",
      "7 6724.jpg 73.4\n",
      "8 6693.jpg 109.2\n"
     ]
    },
    {
     "data": {
      "text/html": [
       "<div>\n",
       "<style scoped>\n",
       "    .dataframe tbody tr th:only-of-type {\n",
       "        vertical-align: middle;\n",
       "    }\n",
       "\n",
       "    .dataframe tbody tr th {\n",
       "        vertical-align: top;\n",
       "    }\n",
       "\n",
       "    .dataframe thead th {\n",
       "        text-align: right;\n",
       "    }\n",
       "</style>\n",
       "<table border=\"1\" class=\"dataframe\">\n",
       "  <thead>\n",
       "    <tr style=\"text-align: right;\">\n",
       "      <th></th>\n",
       "      <th>model</th>\n",
       "      <th>subseq</th>\n",
       "      <th>peaks</th>\n",
       "      <th>binary</th>\n",
       "      <th>mwa</th>\n",
       "    </tr>\n",
       "  </thead>\n",
       "  <tbody>\n",
       "    <tr>\n",
       "      <th>0</th>\n",
       "      <td>Polar Pith</td>\n",
       "      <td>139.226129</td>\n",
       "      <td>78.585395</td>\n",
       "      <td>309.744492</td>\n",
       "      <td>44.419486</td>\n",
       "    </tr>\n",
       "  </tbody>\n",
       "</table>\n",
       "</div>"
      ],
      "text/plain": [
       "        model      subseq      peaks      binary        mwa\n",
       "0  Polar Pith  139.226129  78.585395  309.744492  44.419486"
      ]
     },
     "metadata": {},
     "output_type": "display_data"
    }
   ],
   "source": [
    "with_model(Model.POLAR_PITH, lines, points, data_dir, ranking_url, pith_url, rings_url, mse_url)"
   ]
  },
  {
   "cell_type": "code",
   "execution_count": null,
   "id": "c7543f0e",
   "metadata": {},
   "outputs": [],
   "source": []
  },
  {
   "cell_type": "code",
   "execution_count": 58,
   "id": "e6c6b12d",
   "metadata": {},
   "outputs": [
    {
     "name": "stdout",
     "output_type": "stream",
     "text": [
      "0 6689.jpg 113.8\n",
      "1 6683.jpg 106.2\n",
      "2 6721.jpg 80.6\n",
      "3 6723.jpg 65.2\n",
      "4 6722.jpg 93.4\n",
      "5 6690.jpg 104.2\n",
      "6 6725.jpg 83.2\n",
      "7 6724.jpg 73.4\n",
      "8 6693.jpg 109.2\n"
     ]
    },
    {
     "data": {
      "text/html": [
       "<div>\n",
       "<style scoped>\n",
       "    .dataframe tbody tr th:only-of-type {\n",
       "        vertical-align: middle;\n",
       "    }\n",
       "\n",
       "    .dataframe tbody tr th {\n",
       "        vertical-align: top;\n",
       "    }\n",
       "\n",
       "    .dataframe thead th {\n",
       "        text-align: right;\n",
       "    }\n",
       "</style>\n",
       "<table border=\"1\" class=\"dataframe\">\n",
       "  <thead>\n",
       "    <tr style=\"text-align: right;\">\n",
       "      <th></th>\n",
       "      <th>model</th>\n",
       "      <th>subseq</th>\n",
       "      <th>peaks</th>\n",
       "      <th>binary</th>\n",
       "      <th>mwa</th>\n",
       "    </tr>\n",
       "  </thead>\n",
       "  <tbody>\n",
       "    <tr>\n",
       "      <th>0</th>\n",
       "      <td>Sobel</td>\n",
       "      <td>507.234225</td>\n",
       "      <td>62.556301</td>\n",
       "      <td>473.701124</td>\n",
       "      <td>116.268951</td>\n",
       "    </tr>\n",
       "  </tbody>\n",
       "</table>\n",
       "</div>"
      ],
      "text/plain": [
       "   model      subseq      peaks      binary         mwa\n",
       "0  Sobel  507.234225  62.556301  473.701124  116.268951"
      ]
     },
     "metadata": {},
     "output_type": "display_data"
    }
   ],
   "source": [
    "with_model(Model.SOBEL_EDGE, lines, points, data_dir, ranking_url, pith_url, rings_url, mse_url)"
   ]
  },
  {
   "cell_type": "code",
   "execution_count": 59,
   "id": "43b71e3c",
   "metadata": {},
   "outputs": [
    {
     "name": "stdout",
     "output_type": "stream",
     "text": [
      "0 6689.jpg 113.8\n",
      "1 6683.jpg 106.2\n",
      "2 6721.jpg 80.6\n",
      "3 6723.jpg 65.2\n",
      "4 6722.jpg 93.4\n",
      "5 6690.jpg 104.2\n",
      "6 6725.jpg 83.2\n",
      "7 6724.jpg 73.4\n",
      "8 6693.jpg 109.2\n"
     ]
    },
    {
     "data": {
      "text/html": [
       "<div>\n",
       "<style scoped>\n",
       "    .dataframe tbody tr th:only-of-type {\n",
       "        vertical-align: middle;\n",
       "    }\n",
       "\n",
       "    .dataframe tbody tr th {\n",
       "        vertical-align: top;\n",
       "    }\n",
       "\n",
       "    .dataframe thead th {\n",
       "        text-align: right;\n",
       "    }\n",
       "</style>\n",
       "<table border=\"1\" class=\"dataframe\">\n",
       "  <thead>\n",
       "    <tr style=\"text-align: right;\">\n",
       "      <th></th>\n",
       "      <th>model</th>\n",
       "      <th>subseq</th>\n",
       "      <th>peaks</th>\n",
       "      <th>binary</th>\n",
       "      <th>mwa</th>\n",
       "    </tr>\n",
       "  </thead>\n",
       "  <tbody>\n",
       "    <tr>\n",
       "      <th>0</th>\n",
       "      <td>Sobel(blur)</td>\n",
       "      <td>433.683817</td>\n",
       "      <td>29.90025</td>\n",
       "      <td>419.112768</td>\n",
       "      <td>59.472513</td>\n",
       "    </tr>\n",
       "  </tbody>\n",
       "</table>\n",
       "</div>"
      ],
      "text/plain": [
       "         model      subseq     peaks      binary        mwa\n",
       "0  Sobel(blur)  433.683817  29.90025  419.112768  59.472513"
      ]
     },
     "metadata": {},
     "output_type": "display_data"
    }
   ],
   "source": [
    "with_model(Model.SOBEL_EDGE_BLUR, lines, points, data_dir, ranking_url, pith_url, rings_url, mse_url)"
   ]
  },
  {
   "cell_type": "code",
   "execution_count": 60,
   "id": "f3dba3a5",
   "metadata": {},
   "outputs": [
    {
     "name": "stdout",
     "output_type": "stream",
     "text": [
      "0 6689.jpg 113.8\n",
      "1 6683.jpg 106.2\n",
      "2 6721.jpg 80.6\n",
      "3 6723.jpg 65.2\n",
      "4 6722.jpg 93.4\n",
      "5 6690.jpg 104.2\n",
      "6 6725.jpg 83.2\n",
      "7 6724.jpg 73.4\n",
      "8 6693.jpg 109.2\n"
     ]
    },
    {
     "data": {
      "text/html": [
       "<div>\n",
       "<style scoped>\n",
       "    .dataframe tbody tr th:only-of-type {\n",
       "        vertical-align: middle;\n",
       "    }\n",
       "\n",
       "    .dataframe tbody tr th {\n",
       "        vertical-align: top;\n",
       "    }\n",
       "\n",
       "    .dataframe thead th {\n",
       "        text-align: right;\n",
       "    }\n",
       "</style>\n",
       "<table border=\"1\" class=\"dataframe\">\n",
       "  <thead>\n",
       "    <tr style=\"text-align: right;\">\n",
       "      <th></th>\n",
       "      <th>model</th>\n",
       "      <th>subseq</th>\n",
       "      <th>peaks</th>\n",
       "      <th>binary</th>\n",
       "      <th>mwa</th>\n",
       "    </tr>\n",
       "  </thead>\n",
       "  <tbody>\n",
       "    <tr>\n",
       "      <th>0</th>\n",
       "      <td>Canny</td>\n",
       "      <td>66.616265</td>\n",
       "      <td>31.738559</td>\n",
       "      <td>292.115378</td>\n",
       "      <td>201.75387</td>\n",
       "    </tr>\n",
       "  </tbody>\n",
       "</table>\n",
       "</div>"
      ],
      "text/plain": [
       "   model     subseq      peaks      binary        mwa\n",
       "0  Canny  66.616265  31.738559  292.115378  201.75387"
      ]
     },
     "metadata": {},
     "output_type": "display_data"
    }
   ],
   "source": [
    "with_model(Model.CANNY_EDGE, lines, points, data_dir, ranking_url, pith_url, rings_url, mse_url)"
   ]
  },
  {
   "cell_type": "code",
   "execution_count": 61,
   "id": "8e6b6190",
   "metadata": {},
   "outputs": [
    {
     "name": "stdout",
     "output_type": "stream",
     "text": [
      "0 6689.jpg 113.8\n",
      "1 6683.jpg 106.2\n",
      "2 6721.jpg 80.6\n",
      "3 6723.jpg 65.2\n",
      "4 6722.jpg 93.4\n",
      "5 6690.jpg 104.2\n",
      "6 6725.jpg 83.2\n",
      "7 6724.jpg 73.4\n",
      "8 6693.jpg 109.2\n"
     ]
    },
    {
     "data": {
      "text/html": [
       "<div>\n",
       "<style scoped>\n",
       "    .dataframe tbody tr th:only-of-type {\n",
       "        vertical-align: middle;\n",
       "    }\n",
       "\n",
       "    .dataframe tbody tr th {\n",
       "        vertical-align: top;\n",
       "    }\n",
       "\n",
       "    .dataframe thead th {\n",
       "        text-align: right;\n",
       "    }\n",
       "</style>\n",
       "<table border=\"1\" class=\"dataframe\">\n",
       "  <thead>\n",
       "    <tr style=\"text-align: right;\">\n",
       "      <th></th>\n",
       "      <th>model</th>\n",
       "      <th>subseq</th>\n",
       "      <th>peaks</th>\n",
       "      <th>binary</th>\n",
       "      <th>mwa</th>\n",
       "    </tr>\n",
       "  </thead>\n",
       "  <tbody>\n",
       "    <tr>\n",
       "      <th>0</th>\n",
       "      <td>Canny(otsu)</td>\n",
       "      <td>56.196168</td>\n",
       "      <td>28.027283</td>\n",
       "      <td>274.530737</td>\n",
       "      <td>186.43736</td>\n",
       "    </tr>\n",
       "  </tbody>\n",
       "</table>\n",
       "</div>"
      ],
      "text/plain": [
       "         model     subseq      peaks      binary        mwa\n",
       "0  Canny(otsu)  56.196168  28.027283  274.530737  186.43736"
      ]
     },
     "metadata": {},
     "output_type": "display_data"
    }
   ],
   "source": [
    "with_model(Model.CANNY_EDGE_OTSU, lines, points, data_dir, ranking_url, pith_url, rings_url, mse_url)"
   ]
  },
  {
   "cell_type": "code",
   "execution_count": 62,
   "id": "6c521f0c",
   "metadata": {},
   "outputs": [
    {
     "name": "stdout",
     "output_type": "stream",
     "text": [
      "0 6689.jpg 113.8\n",
      "1 6683.jpg 106.2\n",
      "2 6721.jpg 80.6\n",
      "3 6723.jpg 65.2\n",
      "4 6722.jpg 93.4\n",
      "5 6690.jpg 104.2\n",
      "6 6725.jpg 83.2\n",
      "7 6724.jpg 73.4\n",
      "8 6693.jpg 109.2\n"
     ]
    },
    {
     "data": {
      "text/html": [
       "<div>\n",
       "<style scoped>\n",
       "    .dataframe tbody tr th:only-of-type {\n",
       "        vertical-align: middle;\n",
       "    }\n",
       "\n",
       "    .dataframe tbody tr th {\n",
       "        vertical-align: top;\n",
       "    }\n",
       "\n",
       "    .dataframe thead th {\n",
       "        text-align: right;\n",
       "    }\n",
       "</style>\n",
       "<table border=\"1\" class=\"dataframe\">\n",
       "  <thead>\n",
       "    <tr style=\"text-align: right;\">\n",
       "      <th></th>\n",
       "      <th>model</th>\n",
       "      <th>subseq</th>\n",
       "      <th>peaks</th>\n",
       "      <th>binary</th>\n",
       "      <th>mwa</th>\n",
       "    </tr>\n",
       "  </thead>\n",
       "  <tbody>\n",
       "    <tr>\n",
       "      <th>0</th>\n",
       "      <td>Canny(triangle)</td>\n",
       "      <td>96.61082</td>\n",
       "      <td>47.427434</td>\n",
       "      <td>343.367374</td>\n",
       "      <td>242.904743</td>\n",
       "    </tr>\n",
       "  </tbody>\n",
       "</table>\n",
       "</div>"
      ],
      "text/plain": [
       "             model    subseq      peaks      binary         mwa\n",
       "0  Canny(triangle)  96.61082  47.427434  343.367374  242.904743"
      ]
     },
     "metadata": {},
     "output_type": "display_data"
    }
   ],
   "source": [
    "with_model(Model.CANNY_EDGE_TRIANGLE, lines, points, data_dir, ranking_url, pith_url, rings_url, mse_url)"
   ]
  },
  {
   "cell_type": "code",
   "execution_count": 63,
   "id": "7164ef09",
   "metadata": {},
   "outputs": [
    {
     "name": "stdout",
     "output_type": "stream",
     "text": [
      "0 6689.jpg 113.8\n",
      "1 6683.jpg 106.2\n",
      "2 6721.jpg 80.6\n",
      "3 6723.jpg 65.2\n",
      "4 6722.jpg 93.4\n",
      "5 6690.jpg 104.2\n",
      "6 6725.jpg 83.2\n",
      "7 6724.jpg 73.4\n",
      "8 6693.jpg 109.2\n"
     ]
    },
    {
     "data": {
      "text/html": [
       "<div>\n",
       "<style scoped>\n",
       "    .dataframe tbody tr th:only-of-type {\n",
       "        vertical-align: middle;\n",
       "    }\n",
       "\n",
       "    .dataframe tbody tr th {\n",
       "        vertical-align: top;\n",
       "    }\n",
       "\n",
       "    .dataframe thead th {\n",
       "        text-align: right;\n",
       "    }\n",
       "</style>\n",
       "<table border=\"1\" class=\"dataframe\">\n",
       "  <thead>\n",
       "    <tr style=\"text-align: right;\">\n",
       "      <th></th>\n",
       "      <th>model</th>\n",
       "      <th>subseq</th>\n",
       "      <th>peaks</th>\n",
       "      <th>binary</th>\n",
       "      <th>mwa</th>\n",
       "    </tr>\n",
       "  </thead>\n",
       "  <tbody>\n",
       "    <tr>\n",
       "      <th>0</th>\n",
       "      <td>Canny(manual)</td>\n",
       "      <td>49.438725</td>\n",
       "      <td>30.957859</td>\n",
       "      <td>250.459632</td>\n",
       "      <td>168.223871</td>\n",
       "    </tr>\n",
       "  </tbody>\n",
       "</table>\n",
       "</div>"
      ],
      "text/plain": [
       "           model     subseq      peaks      binary         mwa\n",
       "0  Canny(manual)  49.438725  30.957859  250.459632  168.223871"
      ]
     },
     "metadata": {},
     "output_type": "display_data"
    }
   ],
   "source": [
    "with_model(Model.CANNY_EDGE_MANUAL, lines, points, data_dir, ranking_url, pith_url, rings_url, mse_url)"
   ]
  },
  {
   "cell_type": "code",
   "execution_count": 64,
   "id": "c0b8b053",
   "metadata": {},
   "outputs": [
    {
     "name": "stdout",
     "output_type": "stream",
     "text": [
      "0 6689.jpg 113.8\n",
      "1 6683.jpg 106.2\n",
      "2 6721.jpg 80.6\n",
      "3 6723.jpg 65.2\n",
      "4 6722.jpg 93.4\n",
      "5 6690.jpg 104.2\n",
      "6 6725.jpg 83.2\n",
      "7 6724.jpg 73.4\n",
      "8 6693.jpg 109.2\n"
     ]
    },
    {
     "data": {
      "text/html": [
       "<div>\n",
       "<style scoped>\n",
       "    .dataframe tbody tr th:only-of-type {\n",
       "        vertical-align: middle;\n",
       "    }\n",
       "\n",
       "    .dataframe tbody tr th {\n",
       "        vertical-align: top;\n",
       "    }\n",
       "\n",
       "    .dataframe thead th {\n",
       "        text-align: right;\n",
       "    }\n",
       "</style>\n",
       "<table border=\"1\" class=\"dataframe\">\n",
       "  <thead>\n",
       "    <tr style=\"text-align: right;\">\n",
       "      <th></th>\n",
       "      <th>model</th>\n",
       "      <th>subseq</th>\n",
       "      <th>peaks</th>\n",
       "      <th>binary</th>\n",
       "      <th>mwa</th>\n",
       "    </tr>\n",
       "  </thead>\n",
       "  <tbody>\n",
       "    <tr>\n",
       "      <th>0</th>\n",
       "      <td>Canny(blur)</td>\n",
       "      <td>35.208885</td>\n",
       "      <td>33.738801</td>\n",
       "      <td>217.302196</td>\n",
       "      <td>141.167062</td>\n",
       "    </tr>\n",
       "  </tbody>\n",
       "</table>\n",
       "</div>"
      ],
      "text/plain": [
       "         model     subseq      peaks      binary         mwa\n",
       "0  Canny(blur)  35.208885  33.738801  217.302196  141.167062"
      ]
     },
     "metadata": {},
     "output_type": "display_data"
    }
   ],
   "source": [
    "with_model(Model.CANNY_EDGE_BLUR, lines, points, data_dir, ranking_url, pith_url, rings_url, mse_url)"
   ]
  },
  {
   "cell_type": "code",
   "execution_count": 65,
   "id": "5b4b3120",
   "metadata": {},
   "outputs": [
    {
     "name": "stdout",
     "output_type": "stream",
     "text": [
      "0 6689.jpg 113.8\n",
      "1 6683.jpg 106.2\n",
      "2 6721.jpg 80.6\n",
      "3 6723.jpg 65.2\n",
      "4 6722.jpg 93.4\n",
      "5 6690.jpg 104.2\n",
      "6 6725.jpg 83.2\n",
      "7 6724.jpg 73.4\n",
      "8 6693.jpg 109.2\n"
     ]
    },
    {
     "data": {
      "text/html": [
       "<div>\n",
       "<style scoped>\n",
       "    .dataframe tbody tr th:only-of-type {\n",
       "        vertical-align: middle;\n",
       "    }\n",
       "\n",
       "    .dataframe tbody tr th {\n",
       "        vertical-align: top;\n",
       "    }\n",
       "\n",
       "    .dataframe thead th {\n",
       "        text-align: right;\n",
       "    }\n",
       "</style>\n",
       "<table border=\"1\" class=\"dataframe\">\n",
       "  <thead>\n",
       "    <tr style=\"text-align: right;\">\n",
       "      <th></th>\n",
       "      <th>model</th>\n",
       "      <th>subseq</th>\n",
       "      <th>peaks</th>\n",
       "      <th>binary</th>\n",
       "      <th>mwa</th>\n",
       "    </tr>\n",
       "  </thead>\n",
       "  <tbody>\n",
       "    <tr>\n",
       "      <th>0</th>\n",
       "      <td>Canny(blur otsu)</td>\n",
       "      <td>29.649284</td>\n",
       "      <td>34.567108</td>\n",
       "      <td>200.249937</td>\n",
       "      <td>125.012656</td>\n",
       "    </tr>\n",
       "  </tbody>\n",
       "</table>\n",
       "</div>"
      ],
      "text/plain": [
       "              model     subseq      peaks      binary         mwa\n",
       "0  Canny(blur otsu)  29.649284  34.567108  200.249937  125.012656"
      ]
     },
     "metadata": {},
     "output_type": "display_data"
    }
   ],
   "source": [
    "with_model(Model.CANNY_EDGE_BLUR_OTSU, lines, points, data_dir, ranking_url, pith_url, rings_url, mse_url)"
   ]
  },
  {
   "cell_type": "code",
   "execution_count": 66,
   "id": "32c21f2d",
   "metadata": {},
   "outputs": [
    {
     "name": "stdout",
     "output_type": "stream",
     "text": [
      "0 6689.jpg 113.8\n",
      "1 6683.jpg 106.2\n",
      "2 6721.jpg 80.6\n",
      "3 6723.jpg 65.2\n",
      "4 6722.jpg 93.4\n",
      "5 6690.jpg 104.2\n",
      "6 6725.jpg 83.2\n",
      "7 6724.jpg 73.4\n",
      "8 6693.jpg 109.2\n"
     ]
    },
    {
     "data": {
      "text/html": [
       "<div>\n",
       "<style scoped>\n",
       "    .dataframe tbody tr th:only-of-type {\n",
       "        vertical-align: middle;\n",
       "    }\n",
       "\n",
       "    .dataframe tbody tr th {\n",
       "        vertical-align: top;\n",
       "    }\n",
       "\n",
       "    .dataframe thead th {\n",
       "        text-align: right;\n",
       "    }\n",
       "</style>\n",
       "<table border=\"1\" class=\"dataframe\">\n",
       "  <thead>\n",
       "    <tr style=\"text-align: right;\">\n",
       "      <th></th>\n",
       "      <th>model</th>\n",
       "      <th>subseq</th>\n",
       "      <th>peaks</th>\n",
       "      <th>binary</th>\n",
       "      <th>mwa</th>\n",
       "    </tr>\n",
       "  </thead>\n",
       "  <tbody>\n",
       "    <tr>\n",
       "      <th>0</th>\n",
       "      <td>Canny(blur triangle)</td>\n",
       "      <td>60.177101</td>\n",
       "      <td>39.304904</td>\n",
       "      <td>279.758055</td>\n",
       "      <td>194.367568</td>\n",
       "    </tr>\n",
       "  </tbody>\n",
       "</table>\n",
       "</div>"
      ],
      "text/plain": [
       "                  model     subseq      peaks      binary         mwa\n",
       "0  Canny(blur triangle)  60.177101  39.304904  279.758055  194.367568"
      ]
     },
     "metadata": {},
     "output_type": "display_data"
    }
   ],
   "source": [
    "with_model(Model.CANNY_EDGE_BLUR_TRIANGLE, lines, points, data_dir, ranking_url, pith_url, rings_url, mse_url)"
   ]
  },
  {
   "cell_type": "code",
   "execution_count": 67,
   "id": "85c89915",
   "metadata": {},
   "outputs": [
    {
     "name": "stdout",
     "output_type": "stream",
     "text": [
      "0 6689.jpg 113.8\n",
      "1 6683.jpg 106.2\n",
      "2 6721.jpg 80.6\n",
      "3 6723.jpg 65.2\n",
      "4 6722.jpg 93.4\n",
      "5 6690.jpg 104.2\n",
      "6 6725.jpg 83.2\n",
      "7 6724.jpg 73.4\n",
      "8 6693.jpg 109.2\n"
     ]
    },
    {
     "data": {
      "text/html": [
       "<div>\n",
       "<style scoped>\n",
       "    .dataframe tbody tr th:only-of-type {\n",
       "        vertical-align: middle;\n",
       "    }\n",
       "\n",
       "    .dataframe tbody tr th {\n",
       "        vertical-align: top;\n",
       "    }\n",
       "\n",
       "    .dataframe thead th {\n",
       "        text-align: right;\n",
       "    }\n",
       "</style>\n",
       "<table border=\"1\" class=\"dataframe\">\n",
       "  <thead>\n",
       "    <tr style=\"text-align: right;\">\n",
       "      <th></th>\n",
       "      <th>model</th>\n",
       "      <th>subseq</th>\n",
       "      <th>peaks</th>\n",
       "      <th>binary</th>\n",
       "      <th>mwa</th>\n",
       "    </tr>\n",
       "  </thead>\n",
       "  <tbody>\n",
       "    <tr>\n",
       "      <th>0</th>\n",
       "      <td>Canny(blur manual)</td>\n",
       "      <td>32.722402</td>\n",
       "      <td>41.240831</td>\n",
       "      <td>174.990144</td>\n",
       "      <td>105.571294</td>\n",
       "    </tr>\n",
       "  </tbody>\n",
       "</table>\n",
       "</div>"
      ],
      "text/plain": [
       "                model     subseq      peaks      binary         mwa\n",
       "0  Canny(blur manual)  32.722402  41.240831  174.990144  105.571294"
      ]
     },
     "metadata": {},
     "output_type": "display_data"
    }
   ],
   "source": [
    "with_model(Model.CANNY_EDGE_BLUR_MANUAL, lines, points, data_dir, ranking_url, pith_url, rings_url, mse_url)"
   ]
  },
  {
   "cell_type": "code",
   "execution_count": 68,
   "id": "b2694e73",
   "metadata": {},
   "outputs": [
    {
     "name": "stdout",
     "output_type": "stream",
     "text": [
      "0 6689.jpg 113.8\n",
      "1 6683.jpg 106.2\n",
      "2 6721.jpg 80.6\n",
      "3 6723.jpg 65.2\n",
      "4 6722.jpg 93.4\n",
      "5 6690.jpg 104.2\n",
      "6 6725.jpg 83.2\n",
      "7 6724.jpg 73.4\n",
      "8 6693.jpg 109.2\n"
     ]
    },
    {
     "data": {
      "text/html": [
       "<div>\n",
       "<style scoped>\n",
       "    .dataframe tbody tr th:only-of-type {\n",
       "        vertical-align: middle;\n",
       "    }\n",
       "\n",
       "    .dataframe tbody tr th {\n",
       "        vertical-align: top;\n",
       "    }\n",
       "\n",
       "    .dataframe thead th {\n",
       "        text-align: right;\n",
       "    }\n",
       "</style>\n",
       "<table border=\"1\" class=\"dataframe\">\n",
       "  <thead>\n",
       "    <tr style=\"text-align: right;\">\n",
       "      <th></th>\n",
       "      <th>model</th>\n",
       "      <th>subseq</th>\n",
       "      <th>peaks</th>\n",
       "      <th>binary</th>\n",
       "      <th>mwa</th>\n",
       "    </tr>\n",
       "  </thead>\n",
       "  <tbody>\n",
       "    <tr>\n",
       "      <th>0</th>\n",
       "      <td>Laplacian</td>\n",
       "      <td>594.319534</td>\n",
       "      <td>151.002144</td>\n",
       "      <td>571.781561</td>\n",
       "      <td>216.983108</td>\n",
       "    </tr>\n",
       "  </tbody>\n",
       "</table>\n",
       "</div>"
      ],
      "text/plain": [
       "       model      subseq       peaks      binary         mwa\n",
       "0  Laplacian  594.319534  151.002144  571.781561  216.983108"
      ]
     },
     "metadata": {},
     "output_type": "display_data"
    }
   ],
   "source": [
    "with_model(Model.LAPLACIAN_EDGE, lines, points, data_dir, ranking_url, pith_url, rings_url, mse_url)"
   ]
  },
  {
   "cell_type": "code",
   "execution_count": 69,
   "id": "b203dce1",
   "metadata": {},
   "outputs": [
    {
     "name": "stdout",
     "output_type": "stream",
     "text": [
      "0 6689.jpg 113.8\n",
      "1 6683.jpg 106.2\n",
      "2 6721.jpg 80.6\n",
      "3 6723.jpg 65.2\n",
      "4 6722.jpg 93.4\n",
      "5 6690.jpg 104.2\n",
      "6 6725.jpg 83.2\n",
      "7 6724.jpg 73.4\n",
      "8 6693.jpg 109.2\n"
     ]
    },
    {
     "data": {
      "text/html": [
       "<div>\n",
       "<style scoped>\n",
       "    .dataframe tbody tr th:only-of-type {\n",
       "        vertical-align: middle;\n",
       "    }\n",
       "\n",
       "    .dataframe tbody tr th {\n",
       "        vertical-align: top;\n",
       "    }\n",
       "\n",
       "    .dataframe thead th {\n",
       "        text-align: right;\n",
       "    }\n",
       "</style>\n",
       "<table border=\"1\" class=\"dataframe\">\n",
       "  <thead>\n",
       "    <tr style=\"text-align: right;\">\n",
       "      <th></th>\n",
       "      <th>model</th>\n",
       "      <th>subseq</th>\n",
       "      <th>peaks</th>\n",
       "      <th>binary</th>\n",
       "      <th>mwa</th>\n",
       "    </tr>\n",
       "  </thead>\n",
       "  <tbody>\n",
       "    <tr>\n",
       "      <th>0</th>\n",
       "      <td>Laplacian(blur)</td>\n",
       "      <td>527.10228</td>\n",
       "      <td>67.862897</td>\n",
       "      <td>535.531638</td>\n",
       "      <td>81.08883</td>\n",
       "    </tr>\n",
       "  </tbody>\n",
       "</table>\n",
       "</div>"
      ],
      "text/plain": [
       "             model     subseq      peaks      binary       mwa\n",
       "0  Laplacian(blur)  527.10228  67.862897  535.531638  81.08883"
      ]
     },
     "metadata": {},
     "output_type": "display_data"
    }
   ],
   "source": [
    "with_model(Model.LAPLACIAN_EDGE_BLUR, lines, points, data_dir, ranking_url, pith_url, rings_url, mse_url)"
   ]
  },
  {
   "cell_type": "code",
   "execution_count": null,
   "id": "be6e5db5",
   "metadata": {},
   "outputs": [],
   "source": []
  },
  {
   "cell_type": "code",
   "execution_count": 70,
   "id": "922dc134",
   "metadata": {},
   "outputs": [
    {
     "name": "stdout",
     "output_type": "stream",
     "text": [
      "0 6689.jpg 113.8\n",
      "1 6683.jpg 106.2\n",
      "2 6721.jpg 80.6\n",
      "3 6723.jpg 65.2\n",
      "4 6722.jpg 93.4\n",
      "5 6690.jpg 104.2\n",
      "6 6725.jpg 83.2\n",
      "7 6724.jpg 73.4\n",
      "8 6693.jpg 109.2\n"
     ]
    },
    {
     "data": {
      "text/html": [
       "<div>\n",
       "<style scoped>\n",
       "    .dataframe tbody tr th:only-of-type {\n",
       "        vertical-align: middle;\n",
       "    }\n",
       "\n",
       "    .dataframe tbody tr th {\n",
       "        vertical-align: top;\n",
       "    }\n",
       "\n",
       "    .dataframe thead th {\n",
       "        text-align: right;\n",
       "    }\n",
       "</style>\n",
       "<table border=\"1\" class=\"dataframe\">\n",
       "  <thead>\n",
       "    <tr style=\"text-align: right;\">\n",
       "      <th></th>\n",
       "      <th>model</th>\n",
       "      <th>subseq</th>\n",
       "      <th>peaks</th>\n",
       "      <th>binary</th>\n",
       "      <th>mwa</th>\n",
       "    </tr>\n",
       "  </thead>\n",
       "  <tbody>\n",
       "    <tr>\n",
       "      <th>0</th>\n",
       "      <td>Polar Sobel</td>\n",
       "      <td>443.510008</td>\n",
       "      <td>28.699731</td>\n",
       "      <td>400.211451</td>\n",
       "      <td>65.68701</td>\n",
       "    </tr>\n",
       "  </tbody>\n",
       "</table>\n",
       "</div>"
      ],
      "text/plain": [
       "         model      subseq      peaks      binary       mwa\n",
       "0  Polar Sobel  443.510008  28.699731  400.211451  65.68701"
      ]
     },
     "metadata": {},
     "output_type": "display_data"
    }
   ],
   "source": [
    "with_model(Model.POLAR_SOBEL_EDGE, lines, points, data_dir, ranking_url, pith_url, rings_url, mse_url)"
   ]
  },
  {
   "cell_type": "code",
   "execution_count": 71,
   "id": "162dc45f",
   "metadata": {},
   "outputs": [
    {
     "name": "stdout",
     "output_type": "stream",
     "text": [
      "0 6689.jpg 113.8\n",
      "1 6683.jpg 106.2\n",
      "2 6721.jpg 80.6\n",
      "3 6723.jpg 65.2\n",
      "4 6722.jpg 93.4\n",
      "5 6690.jpg 104.2\n",
      "6 6725.jpg 83.2\n",
      "7 6724.jpg 73.4\n",
      "8 6693.jpg 109.2\n"
     ]
    },
    {
     "data": {
      "text/html": [
       "<div>\n",
       "<style scoped>\n",
       "    .dataframe tbody tr th:only-of-type {\n",
       "        vertical-align: middle;\n",
       "    }\n",
       "\n",
       "    .dataframe tbody tr th {\n",
       "        vertical-align: top;\n",
       "    }\n",
       "\n",
       "    .dataframe thead th {\n",
       "        text-align: right;\n",
       "    }\n",
       "</style>\n",
       "<table border=\"1\" class=\"dataframe\">\n",
       "  <thead>\n",
       "    <tr style=\"text-align: right;\">\n",
       "      <th></th>\n",
       "      <th>model</th>\n",
       "      <th>subseq</th>\n",
       "      <th>peaks</th>\n",
       "      <th>binary</th>\n",
       "      <th>mwa</th>\n",
       "    </tr>\n",
       "  </thead>\n",
       "  <tbody>\n",
       "    <tr>\n",
       "      <th>0</th>\n",
       "      <td>Polar Sobel(blur)</td>\n",
       "      <td>330.28022</td>\n",
       "      <td>54.478171</td>\n",
       "      <td>328.022737</td>\n",
       "      <td>33.14932</td>\n",
       "    </tr>\n",
       "  </tbody>\n",
       "</table>\n",
       "</div>"
      ],
      "text/plain": [
       "               model     subseq      peaks      binary       mwa\n",
       "0  Polar Sobel(blur)  330.28022  54.478171  328.022737  33.14932"
      ]
     },
     "metadata": {},
     "output_type": "display_data"
    }
   ],
   "source": [
    "with_model(Model.POLAR_SOBEL_EDGE_BLUR, lines, points, data_dir, ranking_url, pith_url, rings_url, mse_url)"
   ]
  },
  {
   "cell_type": "code",
   "execution_count": 72,
   "id": "9338a23d",
   "metadata": {},
   "outputs": [
    {
     "name": "stdout",
     "output_type": "stream",
     "text": [
      "0 6689.jpg 113.8\n",
      "1 6683.jpg 106.2\n",
      "2 6721.jpg 80.6\n",
      "3 6723.jpg 65.2\n",
      "4 6722.jpg 93.4\n",
      "5 6690.jpg 104.2\n",
      "6 6725.jpg 83.2\n",
      "7 6724.jpg 73.4\n",
      "8 6693.jpg 109.2\n"
     ]
    },
    {
     "data": {
      "text/html": [
       "<div>\n",
       "<style scoped>\n",
       "    .dataframe tbody tr th:only-of-type {\n",
       "        vertical-align: middle;\n",
       "    }\n",
       "\n",
       "    .dataframe tbody tr th {\n",
       "        vertical-align: top;\n",
       "    }\n",
       "\n",
       "    .dataframe thead th {\n",
       "        text-align: right;\n",
       "    }\n",
       "</style>\n",
       "<table border=\"1\" class=\"dataframe\">\n",
       "  <thead>\n",
       "    <tr style=\"text-align: right;\">\n",
       "      <th></th>\n",
       "      <th>model</th>\n",
       "      <th>subseq</th>\n",
       "      <th>peaks</th>\n",
       "      <th>binary</th>\n",
       "      <th>mwa</th>\n",
       "    </tr>\n",
       "  </thead>\n",
       "  <tbody>\n",
       "    <tr>\n",
       "      <th>0</th>\n",
       "      <td>Polar Canny</td>\n",
       "      <td>32.718153</td>\n",
       "      <td>42.517269</td>\n",
       "      <td>189.964755</td>\n",
       "      <td>120.854473</td>\n",
       "    </tr>\n",
       "  </tbody>\n",
       "</table>\n",
       "</div>"
      ],
      "text/plain": [
       "         model     subseq      peaks      binary         mwa\n",
       "0  Polar Canny  32.718153  42.517269  189.964755  120.854473"
      ]
     },
     "metadata": {},
     "output_type": "display_data"
    }
   ],
   "source": [
    "with_model(Model.POLAR_CANNY_EDGE, lines, points, data_dir, ranking_url, pith_url, rings_url, mse_url)"
   ]
  },
  {
   "cell_type": "code",
   "execution_count": 73,
   "id": "86d6dd8b",
   "metadata": {},
   "outputs": [
    {
     "name": "stdout",
     "output_type": "stream",
     "text": [
      "0 6689.jpg 113.8\n",
      "1 6683.jpg 106.2\n",
      "2 6721.jpg 80.6\n",
      "3 6723.jpg 65.2\n",
      "4 6722.jpg 93.4\n",
      "5 6690.jpg 104.2\n",
      "6 6725.jpg 83.2\n",
      "7 6724.jpg 73.4\n",
      "8 6693.jpg 109.2\n"
     ]
    },
    {
     "data": {
      "text/html": [
       "<div>\n",
       "<style scoped>\n",
       "    .dataframe tbody tr th:only-of-type {\n",
       "        vertical-align: middle;\n",
       "    }\n",
       "\n",
       "    .dataframe tbody tr th {\n",
       "        vertical-align: top;\n",
       "    }\n",
       "\n",
       "    .dataframe thead th {\n",
       "        text-align: right;\n",
       "    }\n",
       "</style>\n",
       "<table border=\"1\" class=\"dataframe\">\n",
       "  <thead>\n",
       "    <tr style=\"text-align: right;\">\n",
       "      <th></th>\n",
       "      <th>model</th>\n",
       "      <th>subseq</th>\n",
       "      <th>peaks</th>\n",
       "      <th>binary</th>\n",
       "      <th>mwa</th>\n",
       "    </tr>\n",
       "  </thead>\n",
       "  <tbody>\n",
       "    <tr>\n",
       "      <th>0</th>\n",
       "      <td>Polar Canny(otsu)</td>\n",
       "      <td>29.322344</td>\n",
       "      <td>33.403854</td>\n",
       "      <td>223.315807</td>\n",
       "      <td>149.052608</td>\n",
       "    </tr>\n",
       "  </tbody>\n",
       "</table>\n",
       "</div>"
      ],
      "text/plain": [
       "               model     subseq      peaks      binary         mwa\n",
       "0  Polar Canny(otsu)  29.322344  33.403854  223.315807  149.052608"
      ]
     },
     "metadata": {},
     "output_type": "display_data"
    }
   ],
   "source": [
    "with_model(Model.POLAR_CANNY_EDGE_OTSU, lines, points, data_dir, ranking_url, pith_url, rings_url, mse_url)"
   ]
  },
  {
   "cell_type": "code",
   "execution_count": 74,
   "id": "357a8dc4",
   "metadata": {},
   "outputs": [
    {
     "name": "stdout",
     "output_type": "stream",
     "text": [
      "0 6689.jpg 113.8\n",
      "1 6683.jpg 106.2\n",
      "2 6721.jpg 80.6\n",
      "3 6723.jpg 65.2\n",
      "4 6722.jpg 93.4\n",
      "5 6690.jpg 104.2\n",
      "6 6725.jpg 83.2\n",
      "7 6724.jpg 73.4\n",
      "8 6693.jpg 109.2\n"
     ]
    },
    {
     "data": {
      "text/html": [
       "<div>\n",
       "<style scoped>\n",
       "    .dataframe tbody tr th:only-of-type {\n",
       "        vertical-align: middle;\n",
       "    }\n",
       "\n",
       "    .dataframe tbody tr th {\n",
       "        vertical-align: top;\n",
       "    }\n",
       "\n",
       "    .dataframe thead th {\n",
       "        text-align: right;\n",
       "    }\n",
       "</style>\n",
       "<table border=\"1\" class=\"dataframe\">\n",
       "  <thead>\n",
       "    <tr style=\"text-align: right;\">\n",
       "      <th></th>\n",
       "      <th>model</th>\n",
       "      <th>subseq</th>\n",
       "      <th>peaks</th>\n",
       "      <th>binary</th>\n",
       "      <th>mwa</th>\n",
       "    </tr>\n",
       "  </thead>\n",
       "  <tbody>\n",
       "    <tr>\n",
       "      <th>0</th>\n",
       "      <td>Polar Canny(triangle)</td>\n",
       "      <td>65.762278</td>\n",
       "      <td>29.19904</td>\n",
       "      <td>332.179736</td>\n",
       "      <td>235.333589</td>\n",
       "    </tr>\n",
       "  </tbody>\n",
       "</table>\n",
       "</div>"
      ],
      "text/plain": [
       "                   model     subseq     peaks      binary         mwa\n",
       "0  Polar Canny(triangle)  65.762278  29.19904  332.179736  235.333589"
      ]
     },
     "metadata": {},
     "output_type": "display_data"
    }
   ],
   "source": [
    "with_model(Model.POLAR_CANNY_EDGE_TRIANGLE, lines, points, data_dir, ranking_url, pith_url, rings_url, mse_url)"
   ]
  },
  {
   "cell_type": "code",
   "execution_count": 75,
   "id": "5f16a9dc",
   "metadata": {},
   "outputs": [
    {
     "name": "stdout",
     "output_type": "stream",
     "text": [
      "0 6689.jpg 113.8\n",
      "1 6683.jpg 106.2\n",
      "2 6721.jpg 80.6\n",
      "3 6723.jpg 65.2\n",
      "4 6722.jpg 93.4\n",
      "5 6690.jpg 104.2\n",
      "6 6725.jpg 83.2\n",
      "7 6724.jpg 73.4\n",
      "8 6693.jpg 109.2\n"
     ]
    },
    {
     "data": {
      "text/html": [
       "<div>\n",
       "<style scoped>\n",
       "    .dataframe tbody tr th:only-of-type {\n",
       "        vertical-align: middle;\n",
       "    }\n",
       "\n",
       "    .dataframe tbody tr th {\n",
       "        vertical-align: top;\n",
       "    }\n",
       "\n",
       "    .dataframe thead th {\n",
       "        text-align: right;\n",
       "    }\n",
       "</style>\n",
       "<table border=\"1\" class=\"dataframe\">\n",
       "  <thead>\n",
       "    <tr style=\"text-align: right;\">\n",
       "      <th></th>\n",
       "      <th>model</th>\n",
       "      <th>subseq</th>\n",
       "      <th>peaks</th>\n",
       "      <th>binary</th>\n",
       "      <th>mwa</th>\n",
       "    </tr>\n",
       "  </thead>\n",
       "  <tbody>\n",
       "    <tr>\n",
       "      <th>0</th>\n",
       "      <td>Polar Canny(manual)</td>\n",
       "      <td>36.007892</td>\n",
       "      <td>45.320483</td>\n",
       "      <td>181.461286</td>\n",
       "      <td>114.030313</td>\n",
       "    </tr>\n",
       "  </tbody>\n",
       "</table>\n",
       "</div>"
      ],
      "text/plain": [
       "                 model     subseq      peaks      binary         mwa\n",
       "0  Polar Canny(manual)  36.007892  45.320483  181.461286  114.030313"
      ]
     },
     "metadata": {},
     "output_type": "display_data"
    }
   ],
   "source": [
    "with_model(Model.POLAR_CANNY_EDGE_MANUAL, lines, points, data_dir, ranking_url, pith_url, rings_url, mse_url)"
   ]
  },
  {
   "cell_type": "code",
   "execution_count": 76,
   "id": "218f8fc4",
   "metadata": {},
   "outputs": [
    {
     "name": "stdout",
     "output_type": "stream",
     "text": [
      "0 6689.jpg 113.8\n",
      "1 6683.jpg 106.2\n",
      "2 6721.jpg 80.6\n",
      "3 6723.jpg 65.2\n",
      "4 6722.jpg 93.4\n",
      "5 6690.jpg 104.2\n",
      "6 6725.jpg 83.2\n",
      "7 6724.jpg 73.4\n",
      "8 6693.jpg 109.2\n"
     ]
    },
    {
     "data": {
      "text/html": [
       "<div>\n",
       "<style scoped>\n",
       "    .dataframe tbody tr th:only-of-type {\n",
       "        vertical-align: middle;\n",
       "    }\n",
       "\n",
       "    .dataframe tbody tr th {\n",
       "        vertical-align: top;\n",
       "    }\n",
       "\n",
       "    .dataframe thead th {\n",
       "        text-align: right;\n",
       "    }\n",
       "</style>\n",
       "<table border=\"1\" class=\"dataframe\">\n",
       "  <thead>\n",
       "    <tr style=\"text-align: right;\">\n",
       "      <th></th>\n",
       "      <th>model</th>\n",
       "      <th>subseq</th>\n",
       "      <th>peaks</th>\n",
       "      <th>binary</th>\n",
       "      <th>mwa</th>\n",
       "    </tr>\n",
       "  </thead>\n",
       "  <tbody>\n",
       "    <tr>\n",
       "      <th>0</th>\n",
       "      <td>Polar Canny(blur)</td>\n",
       "      <td>53.024277</td>\n",
       "      <td>59.627847</td>\n",
       "      <td>129.125959</td>\n",
       "      <td>70.405794</td>\n",
       "    </tr>\n",
       "  </tbody>\n",
       "</table>\n",
       "</div>"
      ],
      "text/plain": [
       "               model     subseq      peaks      binary        mwa\n",
       "0  Polar Canny(blur)  53.024277  59.627847  129.125959  70.405794"
      ]
     },
     "metadata": {},
     "output_type": "display_data"
    }
   ],
   "source": [
    "with_model(Model.POLAR_CANNY_EDGE_BLUR, lines, points, data_dir, ranking_url, pith_url, rings_url, mse_url)"
   ]
  },
  {
   "cell_type": "code",
   "execution_count": 77,
   "id": "35db7536",
   "metadata": {},
   "outputs": [
    {
     "name": "stdout",
     "output_type": "stream",
     "text": [
      "0 6689.jpg 113.8\n",
      "1 6683.jpg 106.2\n",
      "2 6721.jpg 80.6\n",
      "3 6723.jpg 65.2\n",
      "4 6722.jpg 93.4\n",
      "5 6690.jpg 104.2\n",
      "6 6725.jpg 83.2\n",
      "7 6724.jpg 73.4\n",
      "8 6693.jpg 109.2\n"
     ]
    },
    {
     "data": {
      "text/html": [
       "<div>\n",
       "<style scoped>\n",
       "    .dataframe tbody tr th:only-of-type {\n",
       "        vertical-align: middle;\n",
       "    }\n",
       "\n",
       "    .dataframe tbody tr th {\n",
       "        vertical-align: top;\n",
       "    }\n",
       "\n",
       "    .dataframe thead th {\n",
       "        text-align: right;\n",
       "    }\n",
       "</style>\n",
       "<table border=\"1\" class=\"dataframe\">\n",
       "  <thead>\n",
       "    <tr style=\"text-align: right;\">\n",
       "      <th></th>\n",
       "      <th>model</th>\n",
       "      <th>subseq</th>\n",
       "      <th>peaks</th>\n",
       "      <th>binary</th>\n",
       "      <th>mwa</th>\n",
       "    </tr>\n",
       "  </thead>\n",
       "  <tbody>\n",
       "    <tr>\n",
       "      <th>0</th>\n",
       "      <td>Polar Canny(blur otsu)</td>\n",
       "      <td>40.641743</td>\n",
       "      <td>48.394316</td>\n",
       "      <td>173.032832</td>\n",
       "      <td>105.39512</td>\n",
       "    </tr>\n",
       "  </tbody>\n",
       "</table>\n",
       "</div>"
      ],
      "text/plain": [
       "                    model     subseq      peaks      binary        mwa\n",
       "0  Polar Canny(blur otsu)  40.641743  48.394316  173.032832  105.39512"
      ]
     },
     "metadata": {},
     "output_type": "display_data"
    }
   ],
   "source": [
    "with_model(Model.POLAR_CANNY_EDGE_BLUR_OTSU, lines, points, data_dir, ranking_url, pith_url, rings_url, mse_url)"
   ]
  },
  {
   "cell_type": "code",
   "execution_count": 78,
   "id": "657e11f0",
   "metadata": {},
   "outputs": [
    {
     "name": "stdout",
     "output_type": "stream",
     "text": [
      "0 6689.jpg 113.8\n",
      "1 6683.jpg 106.2\n",
      "2 6721.jpg 80.6\n",
      "3 6723.jpg 65.2\n",
      "4 6722.jpg 93.4\n",
      "5 6690.jpg 104.2\n",
      "6 6725.jpg 83.2\n",
      "7 6724.jpg 73.4\n",
      "8 6693.jpg 109.2\n"
     ]
    },
    {
     "data": {
      "text/html": [
       "<div>\n",
       "<style scoped>\n",
       "    .dataframe tbody tr th:only-of-type {\n",
       "        vertical-align: middle;\n",
       "    }\n",
       "\n",
       "    .dataframe tbody tr th {\n",
       "        vertical-align: top;\n",
       "    }\n",
       "\n",
       "    .dataframe thead th {\n",
       "        text-align: right;\n",
       "    }\n",
       "</style>\n",
       "<table border=\"1\" class=\"dataframe\">\n",
       "  <thead>\n",
       "    <tr style=\"text-align: right;\">\n",
       "      <th></th>\n",
       "      <th>model</th>\n",
       "      <th>subseq</th>\n",
       "      <th>peaks</th>\n",
       "      <th>binary</th>\n",
       "      <th>mwa</th>\n",
       "    </tr>\n",
       "  </thead>\n",
       "  <tbody>\n",
       "    <tr>\n",
       "      <th>0</th>\n",
       "      <td>Polar Canny(blur triangle)</td>\n",
       "      <td>33.483758</td>\n",
       "      <td>20.166156</td>\n",
       "      <td>290.293645</td>\n",
       "      <td>202.756509</td>\n",
       "    </tr>\n",
       "  </tbody>\n",
       "</table>\n",
       "</div>"
      ],
      "text/plain": [
       "                        model     subseq      peaks      binary         mwa\n",
       "0  Polar Canny(blur triangle)  33.483758  20.166156  290.293645  202.756509"
      ]
     },
     "metadata": {},
     "output_type": "display_data"
    }
   ],
   "source": [
    "with_model(Model.POLAR_CANNY_EDGE_BLUR_TRIANGLE, lines, points, data_dir, ranking_url, pith_url, rings_url, mse_url)"
   ]
  },
  {
   "cell_type": "code",
   "execution_count": 79,
   "id": "0b832386",
   "metadata": {},
   "outputs": [
    {
     "name": "stdout",
     "output_type": "stream",
     "text": [
      "0 6689.jpg 113.8\n",
      "1 6683.jpg 106.2\n",
      "2 6721.jpg 80.6\n",
      "3 6723.jpg 65.2\n",
      "4 6722.jpg 93.4\n",
      "5 6690.jpg 104.2\n",
      "6 6725.jpg 83.2\n",
      "7 6724.jpg 73.4\n",
      "8 6693.jpg 109.2\n"
     ]
    },
    {
     "data": {
      "text/html": [
       "<div>\n",
       "<style scoped>\n",
       "    .dataframe tbody tr th:only-of-type {\n",
       "        vertical-align: middle;\n",
       "    }\n",
       "\n",
       "    .dataframe tbody tr th {\n",
       "        vertical-align: top;\n",
       "    }\n",
       "\n",
       "    .dataframe thead th {\n",
       "        text-align: right;\n",
       "    }\n",
       "</style>\n",
       "<table border=\"1\" class=\"dataframe\">\n",
       "  <thead>\n",
       "    <tr style=\"text-align: right;\">\n",
       "      <th></th>\n",
       "      <th>model</th>\n",
       "      <th>subseq</th>\n",
       "      <th>peaks</th>\n",
       "      <th>binary</th>\n",
       "      <th>mwa</th>\n",
       "    </tr>\n",
       "  </thead>\n",
       "  <tbody>\n",
       "    <tr>\n",
       "      <th>0</th>\n",
       "      <td>Polar Canny(blur manual)</td>\n",
       "      <td>55.782497</td>\n",
       "      <td>61.734636</td>\n",
       "      <td>123.204189</td>\n",
       "      <td>65.853327</td>\n",
       "    </tr>\n",
       "  </tbody>\n",
       "</table>\n",
       "</div>"
      ],
      "text/plain": [
       "                      model     subseq      peaks      binary        mwa\n",
       "0  Polar Canny(blur manual)  55.782497  61.734636  123.204189  65.853327"
      ]
     },
     "metadata": {},
     "output_type": "display_data"
    }
   ],
   "source": [
    "with_model(Model.POLAR_CANNY_EDGE_BLUR_MANUAL, lines, points, data_dir, ranking_url, pith_url, rings_url, mse_url)"
   ]
  },
  {
   "cell_type": "code",
   "execution_count": 80,
   "id": "bf64e111",
   "metadata": {},
   "outputs": [
    {
     "name": "stdout",
     "output_type": "stream",
     "text": [
      "0 6689.jpg 113.8\n",
      "1 6683.jpg 106.2\n",
      "2 6721.jpg 80.6\n",
      "3 6723.jpg 65.2\n",
      "4 6722.jpg 93.4\n",
      "5 6690.jpg 104.2\n",
      "6 6725.jpg 83.2\n",
      "7 6724.jpg 73.4\n",
      "8 6693.jpg 109.2\n"
     ]
    },
    {
     "data": {
      "text/html": [
       "<div>\n",
       "<style scoped>\n",
       "    .dataframe tbody tr th:only-of-type {\n",
       "        vertical-align: middle;\n",
       "    }\n",
       "\n",
       "    .dataframe tbody tr th {\n",
       "        vertical-align: top;\n",
       "    }\n",
       "\n",
       "    .dataframe thead th {\n",
       "        text-align: right;\n",
       "    }\n",
       "</style>\n",
       "<table border=\"1\" class=\"dataframe\">\n",
       "  <thead>\n",
       "    <tr style=\"text-align: right;\">\n",
       "      <th></th>\n",
       "      <th>model</th>\n",
       "      <th>subseq</th>\n",
       "      <th>peaks</th>\n",
       "      <th>binary</th>\n",
       "      <th>mwa</th>\n",
       "    </tr>\n",
       "  </thead>\n",
       "  <tbody>\n",
       "    <tr>\n",
       "      <th>0</th>\n",
       "      <td>Polar Laplacian</td>\n",
       "      <td>589.726144</td>\n",
       "      <td>128.926626</td>\n",
       "      <td>528.743105</td>\n",
       "      <td>188.008723</td>\n",
       "    </tr>\n",
       "  </tbody>\n",
       "</table>\n",
       "</div>"
      ],
      "text/plain": [
       "             model      subseq       peaks      binary         mwa\n",
       "0  Polar Laplacian  589.726144  128.926626  528.743105  188.008723"
      ]
     },
     "metadata": {},
     "output_type": "display_data"
    }
   ],
   "source": [
    "with_model(Model.POLAR_LAPLACIAN_EDGE, lines, points, data_dir, ranking_url, pith_url, rings_url, mse_url)"
   ]
  },
  {
   "cell_type": "code",
   "execution_count": 81,
   "id": "14f3bf91",
   "metadata": {},
   "outputs": [
    {
     "name": "stdout",
     "output_type": "stream",
     "text": [
      "0 6689.jpg 113.8\n",
      "1 6683.jpg 106.2\n",
      "2 6721.jpg 80.6\n",
      "3 6723.jpg 65.2\n",
      "4 6722.jpg 93.4\n",
      "5 6690.jpg 104.2\n",
      "6 6725.jpg 83.2\n",
      "7 6724.jpg 73.4\n",
      "8 6693.jpg 109.2\n"
     ]
    },
    {
     "data": {
      "text/html": [
       "<div>\n",
       "<style scoped>\n",
       "    .dataframe tbody tr th:only-of-type {\n",
       "        vertical-align: middle;\n",
       "    }\n",
       "\n",
       "    .dataframe tbody tr th {\n",
       "        vertical-align: top;\n",
       "    }\n",
       "\n",
       "    .dataframe thead th {\n",
       "        text-align: right;\n",
       "    }\n",
       "</style>\n",
       "<table border=\"1\" class=\"dataframe\">\n",
       "  <thead>\n",
       "    <tr style=\"text-align: right;\">\n",
       "      <th></th>\n",
       "      <th>model</th>\n",
       "      <th>subseq</th>\n",
       "      <th>peaks</th>\n",
       "      <th>binary</th>\n",
       "      <th>mwa</th>\n",
       "    </tr>\n",
       "  </thead>\n",
       "  <tbody>\n",
       "    <tr>\n",
       "      <th>0</th>\n",
       "      <td>Polar Laplacian(blur)</td>\n",
       "      <td>463.643197</td>\n",
       "      <td>29.190681</td>\n",
       "      <td>455.975042</td>\n",
       "      <td>39.84326</td>\n",
       "    </tr>\n",
       "  </tbody>\n",
       "</table>\n",
       "</div>"
      ],
      "text/plain": [
       "                   model      subseq      peaks      binary       mwa\n",
       "0  Polar Laplacian(blur)  463.643197  29.190681  455.975042  39.84326"
      ]
     },
     "metadata": {},
     "output_type": "display_data"
    }
   ],
   "source": [
    "with_model(Model.POLAR_LAPLACIAN_EDGE_BLUR, lines, points, data_dir, ranking_url, pith_url, rings_url, mse_url)"
   ]
  },
  {
   "cell_type": "code",
   "execution_count": null,
   "id": "8d368a3e",
   "metadata": {},
   "outputs": [],
   "source": []
  },
  {
   "cell_type": "code",
   "execution_count": 82,
   "id": "7c788a0d",
   "metadata": {},
   "outputs": [
    {
     "name": "stdout",
     "output_type": "stream",
     "text": [
      "0 6689.jpg 113.8\n",
      "1 6683.jpg 106.2\n",
      "2 6721.jpg 80.6\n",
      "3 6723.jpg 65.2\n",
      "4 6722.jpg 93.4\n",
      "5 6690.jpg 104.2\n",
      "6 6725.jpg 83.2\n",
      "7 6724.jpg 73.4\n",
      "8 6693.jpg 109.2\n"
     ]
    },
    {
     "data": {
      "text/html": [
       "<div>\n",
       "<style scoped>\n",
       "    .dataframe tbody tr th:only-of-type {\n",
       "        vertical-align: middle;\n",
       "    }\n",
       "\n",
       "    .dataframe tbody tr th {\n",
       "        vertical-align: top;\n",
       "    }\n",
       "\n",
       "    .dataframe thead th {\n",
       "        text-align: right;\n",
       "    }\n",
       "</style>\n",
       "<table border=\"1\" class=\"dataframe\">\n",
       "  <thead>\n",
       "    <tr style=\"text-align: right;\">\n",
       "      <th></th>\n",
       "      <th>model</th>\n",
       "      <th>subseq</th>\n",
       "      <th>peaks</th>\n",
       "      <th>binary</th>\n",
       "      <th>mwa</th>\n",
       "    </tr>\n",
       "  </thead>\n",
       "  <tbody>\n",
       "    <tr>\n",
       "      <th>0</th>\n",
       "      <td>Polar Pith Sobel</td>\n",
       "      <td>396.160848</td>\n",
       "      <td>25.482499</td>\n",
       "      <td>355.926772</td>\n",
       "      <td>53.562408</td>\n",
       "    </tr>\n",
       "  </tbody>\n",
       "</table>\n",
       "</div>"
      ],
      "text/plain": [
       "              model      subseq      peaks      binary        mwa\n",
       "0  Polar Pith Sobel  396.160848  25.482499  355.926772  53.562408"
      ]
     },
     "metadata": {},
     "output_type": "display_data"
    }
   ],
   "source": [
    "with_model(Model.POLAR_PITH_SOBEL_EDGE, lines, points, data_dir, ranking_url, pith_url, rings_url, mse_url)"
   ]
  },
  {
   "cell_type": "code",
   "execution_count": 83,
   "id": "67594e11",
   "metadata": {},
   "outputs": [
    {
     "name": "stdout",
     "output_type": "stream",
     "text": [
      "0 6689.jpg 113.8\n",
      "1 6683.jpg 106.2\n",
      "2 6721.jpg 80.6\n",
      "3 6723.jpg 65.2\n",
      "4 6722.jpg 93.4\n",
      "5 6690.jpg 104.2\n",
      "6 6725.jpg 83.2\n",
      "7 6724.jpg 73.4\n",
      "8 6693.jpg 109.2\n"
     ]
    },
    {
     "data": {
      "text/html": [
       "<div>\n",
       "<style scoped>\n",
       "    .dataframe tbody tr th:only-of-type {\n",
       "        vertical-align: middle;\n",
       "    }\n",
       "\n",
       "    .dataframe tbody tr th {\n",
       "        vertical-align: top;\n",
       "    }\n",
       "\n",
       "    .dataframe thead th {\n",
       "        text-align: right;\n",
       "    }\n",
       "</style>\n",
       "<table border=\"1\" class=\"dataframe\">\n",
       "  <thead>\n",
       "    <tr style=\"text-align: right;\">\n",
       "      <th></th>\n",
       "      <th>model</th>\n",
       "      <th>subseq</th>\n",
       "      <th>peaks</th>\n",
       "      <th>binary</th>\n",
       "      <th>mwa</th>\n",
       "    </tr>\n",
       "  </thead>\n",
       "  <tbody>\n",
       "    <tr>\n",
       "      <th>0</th>\n",
       "      <td>Polar Pith Sobel(blur)</td>\n",
       "      <td>291.327619</td>\n",
       "      <td>56.356165</td>\n",
       "      <td>290.521718</td>\n",
       "      <td>31.008072</td>\n",
       "    </tr>\n",
       "  </tbody>\n",
       "</table>\n",
       "</div>"
      ],
      "text/plain": [
       "                    model      subseq      peaks      binary        mwa\n",
       "0  Polar Pith Sobel(blur)  291.327619  56.356165  290.521718  31.008072"
      ]
     },
     "metadata": {},
     "output_type": "display_data"
    }
   ],
   "source": [
    "with_model(Model.POLAR_PITH_SOBEL_EDGE_BLUR, lines, points, data_dir, ranking_url, pith_url, rings_url, mse_url)"
   ]
  },
  {
   "cell_type": "code",
   "execution_count": 84,
   "id": "2c36cff4",
   "metadata": {},
   "outputs": [
    {
     "name": "stdout",
     "output_type": "stream",
     "text": [
      "0 6689.jpg 113.8\n",
      "1 6683.jpg 106.2\n",
      "2 6721.jpg 80.6\n",
      "3 6723.jpg 65.2\n",
      "4 6722.jpg 93.4\n",
      "5 6690.jpg 104.2\n",
      "6 6725.jpg 83.2\n",
      "7 6724.jpg 73.4\n",
      "8 6693.jpg 109.2\n"
     ]
    },
    {
     "data": {
      "text/html": [
       "<div>\n",
       "<style scoped>\n",
       "    .dataframe tbody tr th:only-of-type {\n",
       "        vertical-align: middle;\n",
       "    }\n",
       "\n",
       "    .dataframe tbody tr th {\n",
       "        vertical-align: top;\n",
       "    }\n",
       "\n",
       "    .dataframe thead th {\n",
       "        text-align: right;\n",
       "    }\n",
       "</style>\n",
       "<table border=\"1\" class=\"dataframe\">\n",
       "  <thead>\n",
       "    <tr style=\"text-align: right;\">\n",
       "      <th></th>\n",
       "      <th>model</th>\n",
       "      <th>subseq</th>\n",
       "      <th>peaks</th>\n",
       "      <th>binary</th>\n",
       "      <th>mwa</th>\n",
       "    </tr>\n",
       "  </thead>\n",
       "  <tbody>\n",
       "    <tr>\n",
       "      <th>0</th>\n",
       "      <td>Polar Pith Canny</td>\n",
       "      <td>34.241157</td>\n",
       "      <td>44.220351</td>\n",
       "      <td>169.451638</td>\n",
       "      <td>104.102252</td>\n",
       "    </tr>\n",
       "  </tbody>\n",
       "</table>\n",
       "</div>"
      ],
      "text/plain": [
       "              model     subseq      peaks      binary         mwa\n",
       "0  Polar Pith Canny  34.241157  44.220351  169.451638  104.102252"
      ]
     },
     "metadata": {},
     "output_type": "display_data"
    }
   ],
   "source": [
    "with_model(Model.POLAR_PITH_CANNY_EDGE, lines, points, data_dir, ranking_url, pith_url, rings_url, mse_url)"
   ]
  },
  {
   "cell_type": "code",
   "execution_count": 85,
   "id": "a32c17c3",
   "metadata": {},
   "outputs": [
    {
     "name": "stdout",
     "output_type": "stream",
     "text": [
      "0 6689.jpg 113.8\n",
      "1 6683.jpg 106.2\n",
      "2 6721.jpg 80.6\n",
      "3 6723.jpg 65.2\n",
      "4 6722.jpg 93.4\n",
      "5 6690.jpg 104.2\n",
      "6 6725.jpg 83.2\n",
      "7 6724.jpg 73.4\n",
      "8 6693.jpg 109.2\n"
     ]
    },
    {
     "data": {
      "text/html": [
       "<div>\n",
       "<style scoped>\n",
       "    .dataframe tbody tr th:only-of-type {\n",
       "        vertical-align: middle;\n",
       "    }\n",
       "\n",
       "    .dataframe tbody tr th {\n",
       "        vertical-align: top;\n",
       "    }\n",
       "\n",
       "    .dataframe thead th {\n",
       "        text-align: right;\n",
       "    }\n",
       "</style>\n",
       "<table border=\"1\" class=\"dataframe\">\n",
       "  <thead>\n",
       "    <tr style=\"text-align: right;\">\n",
       "      <th></th>\n",
       "      <th>model</th>\n",
       "      <th>subseq</th>\n",
       "      <th>peaks</th>\n",
       "      <th>binary</th>\n",
       "      <th>mwa</th>\n",
       "    </tr>\n",
       "  </thead>\n",
       "  <tbody>\n",
       "    <tr>\n",
       "      <th>0</th>\n",
       "      <td>Polar Pith Canny(otsu)</td>\n",
       "      <td>29.197889</td>\n",
       "      <td>34.221998</td>\n",
       "      <td>203.8544</td>\n",
       "      <td>132.349717</td>\n",
       "    </tr>\n",
       "  </tbody>\n",
       "</table>\n",
       "</div>"
      ],
      "text/plain": [
       "                    model     subseq      peaks    binary         mwa\n",
       "0  Polar Pith Canny(otsu)  29.197889  34.221998  203.8544  132.349717"
      ]
     },
     "metadata": {},
     "output_type": "display_data"
    }
   ],
   "source": [
    "with_model(Model.POLAR_PITH_CANNY_EDGE_OTSU, lines, points, data_dir, ranking_url, pith_url, rings_url, mse_url)"
   ]
  },
  {
   "cell_type": "code",
   "execution_count": 86,
   "id": "b51f5ee3",
   "metadata": {},
   "outputs": [
    {
     "name": "stdout",
     "output_type": "stream",
     "text": [
      "0 6689.jpg 113.8\n",
      "1 6683.jpg 106.2\n",
      "2 6721.jpg 80.6\n",
      "3 6723.jpg 65.2\n",
      "4 6722.jpg 93.4\n",
      "5 6690.jpg 104.2\n",
      "6 6725.jpg 83.2\n",
      "7 6724.jpg 73.4\n",
      "8 6693.jpg 109.2\n"
     ]
    },
    {
     "data": {
      "text/html": [
       "<div>\n",
       "<style scoped>\n",
       "    .dataframe tbody tr th:only-of-type {\n",
       "        vertical-align: middle;\n",
       "    }\n",
       "\n",
       "    .dataframe tbody tr th {\n",
       "        vertical-align: top;\n",
       "    }\n",
       "\n",
       "    .dataframe thead th {\n",
       "        text-align: right;\n",
       "    }\n",
       "</style>\n",
       "<table border=\"1\" class=\"dataframe\">\n",
       "  <thead>\n",
       "    <tr style=\"text-align: right;\">\n",
       "      <th></th>\n",
       "      <th>model</th>\n",
       "      <th>subseq</th>\n",
       "      <th>peaks</th>\n",
       "      <th>binary</th>\n",
       "      <th>mwa</th>\n",
       "    </tr>\n",
       "  </thead>\n",
       "  <tbody>\n",
       "    <tr>\n",
       "      <th>0</th>\n",
       "      <td>Polar Pith Canny(triangle)</td>\n",
       "      <td>57.81837</td>\n",
       "      <td>24.808826</td>\n",
       "      <td>300.655413</td>\n",
       "      <td>210.512263</td>\n",
       "    </tr>\n",
       "  </tbody>\n",
       "</table>\n",
       "</div>"
      ],
      "text/plain": [
       "                        model    subseq      peaks      binary         mwa\n",
       "0  Polar Pith Canny(triangle)  57.81837  24.808826  300.655413  210.512263"
      ]
     },
     "metadata": {},
     "output_type": "display_data"
    }
   ],
   "source": [
    "with_model(Model.POLAR_PITH_CANNY_EDGE_TRIANGLE, lines, points, data_dir, ranking_url, pith_url, rings_url, mse_url)"
   ]
  },
  {
   "cell_type": "code",
   "execution_count": 87,
   "id": "e0e7b8a0",
   "metadata": {},
   "outputs": [
    {
     "name": "stdout",
     "output_type": "stream",
     "text": [
      "0 6689.jpg 113.8\n",
      "1 6683.jpg 106.2\n",
      "2 6721.jpg 80.6\n",
      "3 6723.jpg 65.2\n",
      "4 6722.jpg 93.4\n",
      "5 6690.jpg 104.2\n",
      "6 6725.jpg 83.2\n",
      "7 6724.jpg 73.4\n",
      "8 6693.jpg 109.2\n"
     ]
    },
    {
     "data": {
      "text/html": [
       "<div>\n",
       "<style scoped>\n",
       "    .dataframe tbody tr th:only-of-type {\n",
       "        vertical-align: middle;\n",
       "    }\n",
       "\n",
       "    .dataframe tbody tr th {\n",
       "        vertical-align: top;\n",
       "    }\n",
       "\n",
       "    .dataframe thead th {\n",
       "        text-align: right;\n",
       "    }\n",
       "</style>\n",
       "<table border=\"1\" class=\"dataframe\">\n",
       "  <thead>\n",
       "    <tr style=\"text-align: right;\">\n",
       "      <th></th>\n",
       "      <th>model</th>\n",
       "      <th>subseq</th>\n",
       "      <th>peaks</th>\n",
       "      <th>binary</th>\n",
       "      <th>mwa</th>\n",
       "    </tr>\n",
       "  </thead>\n",
       "  <tbody>\n",
       "    <tr>\n",
       "      <th>0</th>\n",
       "      <td>Polar Pith Canny(manual)</td>\n",
       "      <td>36.439903</td>\n",
       "      <td>43.891563</td>\n",
       "      <td>176.553502</td>\n",
       "      <td>111.202513</td>\n",
       "    </tr>\n",
       "  </tbody>\n",
       "</table>\n",
       "</div>"
      ],
      "text/plain": [
       "                      model     subseq      peaks      binary         mwa\n",
       "0  Polar Pith Canny(manual)  36.439903  43.891563  176.553502  111.202513"
      ]
     },
     "metadata": {},
     "output_type": "display_data"
    }
   ],
   "source": [
    "with_model(Model.POLAR_PITH_CANNY_EDGE_MANUAL, lines, points, data_dir, ranking_url, pith_url, rings_url, mse_url)"
   ]
  },
  {
   "cell_type": "code",
   "execution_count": 88,
   "id": "42ed3b5f",
   "metadata": {},
   "outputs": [
    {
     "name": "stdout",
     "output_type": "stream",
     "text": [
      "0 6689.jpg 113.8\n",
      "1 6683.jpg 106.2\n",
      "2 6721.jpg 80.6\n",
      "3 6723.jpg 65.2\n",
      "4 6722.jpg 93.4\n",
      "5 6690.jpg 104.2\n",
      "6 6725.jpg 83.2\n",
      "7 6724.jpg 73.4\n",
      "8 6693.jpg 109.2\n"
     ]
    },
    {
     "data": {
      "text/html": [
       "<div>\n",
       "<style scoped>\n",
       "    .dataframe tbody tr th:only-of-type {\n",
       "        vertical-align: middle;\n",
       "    }\n",
       "\n",
       "    .dataframe tbody tr th {\n",
       "        vertical-align: top;\n",
       "    }\n",
       "\n",
       "    .dataframe thead th {\n",
       "        text-align: right;\n",
       "    }\n",
       "</style>\n",
       "<table border=\"1\" class=\"dataframe\">\n",
       "  <thead>\n",
       "    <tr style=\"text-align: right;\">\n",
       "      <th></th>\n",
       "      <th>model</th>\n",
       "      <th>subseq</th>\n",
       "      <th>peaks</th>\n",
       "      <th>binary</th>\n",
       "      <th>mwa</th>\n",
       "    </tr>\n",
       "  </thead>\n",
       "  <tbody>\n",
       "    <tr>\n",
       "      <th>0</th>\n",
       "      <td>Polar Pith Canny(blur)</td>\n",
       "      <td>54.585757</td>\n",
       "      <td>60.946196</td>\n",
       "      <td>115.45794</td>\n",
       "      <td>60.788606</td>\n",
       "    </tr>\n",
       "  </tbody>\n",
       "</table>\n",
       "</div>"
      ],
      "text/plain": [
       "                    model     subseq      peaks     binary        mwa\n",
       "0  Polar Pith Canny(blur)  54.585757  60.946196  115.45794  60.788606"
      ]
     },
     "metadata": {},
     "output_type": "display_data"
    }
   ],
   "source": [
    "with_model(Model.POLAR_PITH_CANNY_EDGE_BLUR, lines, points, data_dir, ranking_url, pith_url, rings_url, mse_url)"
   ]
  },
  {
   "cell_type": "code",
   "execution_count": 89,
   "id": "50e56d42",
   "metadata": {},
   "outputs": [
    {
     "name": "stdout",
     "output_type": "stream",
     "text": [
      "0 6689.jpg 113.8\n",
      "1 6683.jpg 106.2\n",
      "2 6721.jpg 80.6\n",
      "3 6723.jpg 65.2\n",
      "4 6722.jpg 93.4\n",
      "5 6690.jpg 104.2\n",
      "6 6725.jpg 83.2\n",
      "7 6724.jpg 73.4\n",
      "8 6693.jpg 109.2\n"
     ]
    },
    {
     "data": {
      "text/html": [
       "<div>\n",
       "<style scoped>\n",
       "    .dataframe tbody tr th:only-of-type {\n",
       "        vertical-align: middle;\n",
       "    }\n",
       "\n",
       "    .dataframe tbody tr th {\n",
       "        vertical-align: top;\n",
       "    }\n",
       "\n",
       "    .dataframe thead th {\n",
       "        text-align: right;\n",
       "    }\n",
       "</style>\n",
       "<table border=\"1\" class=\"dataframe\">\n",
       "  <thead>\n",
       "    <tr style=\"text-align: right;\">\n",
       "      <th></th>\n",
       "      <th>model</th>\n",
       "      <th>subseq</th>\n",
       "      <th>peaks</th>\n",
       "      <th>binary</th>\n",
       "      <th>mwa</th>\n",
       "    </tr>\n",
       "  </thead>\n",
       "  <tbody>\n",
       "    <tr>\n",
       "      <th>0</th>\n",
       "      <td>Polar Pith Canny(blur otsu)</td>\n",
       "      <td>42.01265</td>\n",
       "      <td>49.285298</td>\n",
       "      <td>157.346781</td>\n",
       "      <td>93.557367</td>\n",
       "    </tr>\n",
       "  </tbody>\n",
       "</table>\n",
       "</div>"
      ],
      "text/plain": [
       "                         model    subseq      peaks      binary        mwa\n",
       "0  Polar Pith Canny(blur otsu)  42.01265  49.285298  157.346781  93.557367"
      ]
     },
     "metadata": {},
     "output_type": "display_data"
    }
   ],
   "source": [
    "with_model(Model.POLAR_PITH_CANNY_EDGE_BLUR_OTSU, lines, points, data_dir, ranking_url, pith_url, rings_url, mse_url)"
   ]
  },
  {
   "cell_type": "code",
   "execution_count": 90,
   "id": "c30ed8a2",
   "metadata": {},
   "outputs": [
    {
     "name": "stdout",
     "output_type": "stream",
     "text": [
      "0 6689.jpg 113.8\n",
      "1 6683.jpg 106.2\n",
      "2 6721.jpg 80.6\n",
      "3 6723.jpg 65.2\n",
      "4 6722.jpg 93.4\n",
      "5 6690.jpg 104.2\n",
      "6 6725.jpg 83.2\n",
      "7 6724.jpg 73.4\n",
      "8 6693.jpg 109.2\n"
     ]
    },
    {
     "data": {
      "text/html": [
       "<div>\n",
       "<style scoped>\n",
       "    .dataframe tbody tr th:only-of-type {\n",
       "        vertical-align: middle;\n",
       "    }\n",
       "\n",
       "    .dataframe tbody tr th {\n",
       "        vertical-align: top;\n",
       "    }\n",
       "\n",
       "    .dataframe thead th {\n",
       "        text-align: right;\n",
       "    }\n",
       "</style>\n",
       "<table border=\"1\" class=\"dataframe\">\n",
       "  <thead>\n",
       "    <tr style=\"text-align: right;\">\n",
       "      <th></th>\n",
       "      <th>model</th>\n",
       "      <th>subseq</th>\n",
       "      <th>peaks</th>\n",
       "      <th>binary</th>\n",
       "      <th>mwa</th>\n",
       "    </tr>\n",
       "  </thead>\n",
       "  <tbody>\n",
       "    <tr>\n",
       "      <th>0</th>\n",
       "      <td>Polar Pith Canny(blur triangle)</td>\n",
       "      <td>27.835223</td>\n",
       "      <td>19.591747</td>\n",
       "      <td>258.958981</td>\n",
       "      <td>178.185567</td>\n",
       "    </tr>\n",
       "  </tbody>\n",
       "</table>\n",
       "</div>"
      ],
      "text/plain": [
       "                             model     subseq      peaks      binary  \\\n",
       "0  Polar Pith Canny(blur triangle)  27.835223  19.591747  258.958981   \n",
       "\n",
       "          mwa  \n",
       "0  178.185567  "
      ]
     },
     "metadata": {},
     "output_type": "display_data"
    }
   ],
   "source": [
    "with_model(Model.POLAR_PITH_CANNY_EDGE_BLUR_TRIANGLE, lines, points, data_dir, ranking_url, pith_url, rings_url, mse_url)"
   ]
  },
  {
   "cell_type": "code",
   "execution_count": 91,
   "id": "a6b38cd5",
   "metadata": {},
   "outputs": [
    {
     "name": "stdout",
     "output_type": "stream",
     "text": [
      "0 6689.jpg 113.8\n",
      "1 6683.jpg 106.2\n",
      "2 6721.jpg 80.6\n",
      "3 6723.jpg 65.2\n",
      "4 6722.jpg 93.4\n",
      "5 6690.jpg 104.2\n",
      "6 6725.jpg 83.2\n",
      "7 6724.jpg 73.4\n",
      "8 6693.jpg 109.2\n"
     ]
    },
    {
     "data": {
      "text/html": [
       "<div>\n",
       "<style scoped>\n",
       "    .dataframe tbody tr th:only-of-type {\n",
       "        vertical-align: middle;\n",
       "    }\n",
       "\n",
       "    .dataframe tbody tr th {\n",
       "        vertical-align: top;\n",
       "    }\n",
       "\n",
       "    .dataframe thead th {\n",
       "        text-align: right;\n",
       "    }\n",
       "</style>\n",
       "<table border=\"1\" class=\"dataframe\">\n",
       "  <thead>\n",
       "    <tr style=\"text-align: right;\">\n",
       "      <th></th>\n",
       "      <th>model</th>\n",
       "      <th>subseq</th>\n",
       "      <th>peaks</th>\n",
       "      <th>binary</th>\n",
       "      <th>mwa</th>\n",
       "    </tr>\n",
       "  </thead>\n",
       "  <tbody>\n",
       "    <tr>\n",
       "      <th>0</th>\n",
       "      <td>Polar Pith Canny(blur manual)</td>\n",
       "      <td>52.999815</td>\n",
       "      <td>58.948268</td>\n",
       "      <td>126.38017</td>\n",
       "      <td>70.789903</td>\n",
       "    </tr>\n",
       "  </tbody>\n",
       "</table>\n",
       "</div>"
      ],
      "text/plain": [
       "                           model     subseq      peaks     binary        mwa\n",
       "0  Polar Pith Canny(blur manual)  52.999815  58.948268  126.38017  70.789903"
      ]
     },
     "metadata": {},
     "output_type": "display_data"
    }
   ],
   "source": [
    "with_model(Model.POLAR_PITH_CANNY_EDGE_BLUR_MANUAL, lines, points, data_dir, ranking_url, pith_url, rings_url, mse_url)"
   ]
  },
  {
   "cell_type": "code",
   "execution_count": 92,
   "id": "918fb54a",
   "metadata": {},
   "outputs": [
    {
     "name": "stdout",
     "output_type": "stream",
     "text": [
      "0 6689.jpg 113.8\n",
      "1 6683.jpg 106.2\n",
      "2 6721.jpg 80.6\n",
      "3 6723.jpg 65.2\n",
      "4 6722.jpg 93.4\n",
      "5 6690.jpg 104.2\n",
      "6 6725.jpg 83.2\n",
      "7 6724.jpg 73.4\n",
      "8 6693.jpg 109.2\n"
     ]
    },
    {
     "data": {
      "text/html": [
       "<div>\n",
       "<style scoped>\n",
       "    .dataframe tbody tr th:only-of-type {\n",
       "        vertical-align: middle;\n",
       "    }\n",
       "\n",
       "    .dataframe tbody tr th {\n",
       "        vertical-align: top;\n",
       "    }\n",
       "\n",
       "    .dataframe thead th {\n",
       "        text-align: right;\n",
       "    }\n",
       "</style>\n",
       "<table border=\"1\" class=\"dataframe\">\n",
       "  <thead>\n",
       "    <tr style=\"text-align: right;\">\n",
       "      <th></th>\n",
       "      <th>model</th>\n",
       "      <th>subseq</th>\n",
       "      <th>peaks</th>\n",
       "      <th>binary</th>\n",
       "      <th>mwa</th>\n",
       "    </tr>\n",
       "  </thead>\n",
       "  <tbody>\n",
       "    <tr>\n",
       "      <th>0</th>\n",
       "      <td>Polar Pith Laplacian</td>\n",
       "      <td>530.138585</td>\n",
       "      <td>111.641996</td>\n",
       "      <td>473.151041</td>\n",
       "      <td>165.754905</td>\n",
       "    </tr>\n",
       "  </tbody>\n",
       "</table>\n",
       "</div>"
      ],
      "text/plain": [
       "                  model      subseq       peaks      binary         mwa\n",
       "0  Polar Pith Laplacian  530.138585  111.641996  473.151041  165.754905"
      ]
     },
     "metadata": {},
     "output_type": "display_data"
    }
   ],
   "source": [
    "with_model(Model.POLAR_PITH_LAPLACIAN_EDGE, lines, points, data_dir, ranking_url, pith_url, rings_url, mse_url)"
   ]
  },
  {
   "cell_type": "code",
   "execution_count": 93,
   "id": "b5b48f27",
   "metadata": {},
   "outputs": [
    {
     "name": "stdout",
     "output_type": "stream",
     "text": [
      "0 6689.jpg 113.8\n",
      "1 6683.jpg 106.2\n",
      "2 6721.jpg 80.6\n",
      "3 6723.jpg 65.2\n",
      "4 6722.jpg 93.4\n",
      "5 6690.jpg 104.2\n",
      "6 6725.jpg 83.2\n",
      "7 6724.jpg 73.4\n",
      "8 6693.jpg 109.2\n"
     ]
    },
    {
     "data": {
      "text/html": [
       "<div>\n",
       "<style scoped>\n",
       "    .dataframe tbody tr th:only-of-type {\n",
       "        vertical-align: middle;\n",
       "    }\n",
       "\n",
       "    .dataframe tbody tr th {\n",
       "        vertical-align: top;\n",
       "    }\n",
       "\n",
       "    .dataframe thead th {\n",
       "        text-align: right;\n",
       "    }\n",
       "</style>\n",
       "<table border=\"1\" class=\"dataframe\">\n",
       "  <thead>\n",
       "    <tr style=\"text-align: right;\">\n",
       "      <th></th>\n",
       "      <th>model</th>\n",
       "      <th>subseq</th>\n",
       "      <th>peaks</th>\n",
       "      <th>binary</th>\n",
       "      <th>mwa</th>\n",
       "    </tr>\n",
       "  </thead>\n",
       "  <tbody>\n",
       "    <tr>\n",
       "      <th>0</th>\n",
       "      <td>Polar Pith Laplacian(blur)</td>\n",
       "      <td>415.90188</td>\n",
       "      <td>26.822927</td>\n",
       "      <td>409.137081</td>\n",
       "      <td>34.934329</td>\n",
       "    </tr>\n",
       "  </tbody>\n",
       "</table>\n",
       "</div>"
      ],
      "text/plain": [
       "                        model     subseq      peaks      binary        mwa\n",
       "0  Polar Pith Laplacian(blur)  415.90188  26.822927  409.137081  34.934329"
      ]
     },
     "metadata": {},
     "output_type": "display_data"
    }
   ],
   "source": [
    "with_model(Model.POLAR_PITH_LAPLACIAN_EDGE_BLUR, lines, points, data_dir, ranking_url, pith_url, rings_url, mse_url)"
   ]
  },
  {
   "cell_type": "code",
   "execution_count": 94,
   "id": "29e41074",
   "metadata": {},
   "outputs": [
    {
     "name": "stdout",
     "output_type": "stream",
     "text": [
      "Polar Pith Canny(blur triangle) 19.591747084408897 (peaks) \n",
      "\n"
     ]
    },
    {
     "data": {
      "text/html": [
       "<div>\n",
       "<style scoped>\n",
       "    .dataframe tbody tr th:only-of-type {\n",
       "        vertical-align: middle;\n",
       "    }\n",
       "\n",
       "    .dataframe tbody tr th {\n",
       "        vertical-align: top;\n",
       "    }\n",
       "\n",
       "    .dataframe thead th {\n",
       "        text-align: right;\n",
       "    }\n",
       "</style>\n",
       "<table border=\"1\" class=\"dataframe\">\n",
       "  <thead>\n",
       "    <tr style=\"text-align: right;\">\n",
       "      <th></th>\n",
       "      <th>subseq</th>\n",
       "      <th>peaks</th>\n",
       "      <th>binary</th>\n",
       "      <th>mwa</th>\n",
       "    </tr>\n",
       "    <tr>\n",
       "      <th>model</th>\n",
       "      <th></th>\n",
       "      <th></th>\n",
       "      <th></th>\n",
       "      <th></th>\n",
       "    </tr>\n",
       "  </thead>\n",
       "  <tbody>\n",
       "    <tr>\n",
       "      <th>Grayscale</th>\n",
       "      <td>377.061680</td>\n",
       "      <td>57.597009</td>\n",
       "      <td>356.470813</td>\n",
       "      <td>32.253599</td>\n",
       "    </tr>\n",
       "    <tr>\n",
       "      <th>Polar</th>\n",
       "      <td>161.029993</td>\n",
       "      <td>76.991214</td>\n",
       "      <td>349.407722</td>\n",
       "      <td>43.067187</td>\n",
       "    </tr>\n",
       "    <tr>\n",
       "      <th>Polar Pith</th>\n",
       "      <td>139.226129</td>\n",
       "      <td>78.585395</td>\n",
       "      <td>309.744492</td>\n",
       "      <td>44.419486</td>\n",
       "    </tr>\n",
       "    <tr>\n",
       "      <th>Sobel</th>\n",
       "      <td>507.234225</td>\n",
       "      <td>62.556301</td>\n",
       "      <td>473.701124</td>\n",
       "      <td>116.268951</td>\n",
       "    </tr>\n",
       "    <tr>\n",
       "      <th>Sobel(blur)</th>\n",
       "      <td>433.683817</td>\n",
       "      <td>29.900250</td>\n",
       "      <td>419.112768</td>\n",
       "      <td>59.472513</td>\n",
       "    </tr>\n",
       "    <tr>\n",
       "      <th>Canny</th>\n",
       "      <td>66.616265</td>\n",
       "      <td>31.738559</td>\n",
       "      <td>292.115378</td>\n",
       "      <td>201.753870</td>\n",
       "    </tr>\n",
       "    <tr>\n",
       "      <th>Canny(otsu)</th>\n",
       "      <td>56.196168</td>\n",
       "      <td>28.027283</td>\n",
       "      <td>274.530737</td>\n",
       "      <td>186.437360</td>\n",
       "    </tr>\n",
       "    <tr>\n",
       "      <th>Canny(triangle)</th>\n",
       "      <td>96.610820</td>\n",
       "      <td>47.427434</td>\n",
       "      <td>343.367374</td>\n",
       "      <td>242.904743</td>\n",
       "    </tr>\n",
       "    <tr>\n",
       "      <th>Canny(manual)</th>\n",
       "      <td>49.438725</td>\n",
       "      <td>30.957859</td>\n",
       "      <td>250.459632</td>\n",
       "      <td>168.223871</td>\n",
       "    </tr>\n",
       "    <tr>\n",
       "      <th>Canny(blur)</th>\n",
       "      <td>35.208885</td>\n",
       "      <td>33.738801</td>\n",
       "      <td>217.302196</td>\n",
       "      <td>141.167062</td>\n",
       "    </tr>\n",
       "    <tr>\n",
       "      <th>Canny(blur otsu)</th>\n",
       "      <td>29.649284</td>\n",
       "      <td>34.567108</td>\n",
       "      <td>200.249937</td>\n",
       "      <td>125.012656</td>\n",
       "    </tr>\n",
       "    <tr>\n",
       "      <th>Canny(blur triangle)</th>\n",
       "      <td>60.177101</td>\n",
       "      <td>39.304904</td>\n",
       "      <td>279.758055</td>\n",
       "      <td>194.367568</td>\n",
       "    </tr>\n",
       "    <tr>\n",
       "      <th>Canny(blur manual)</th>\n",
       "      <td>32.722402</td>\n",
       "      <td>41.240831</td>\n",
       "      <td>174.990144</td>\n",
       "      <td>105.571294</td>\n",
       "    </tr>\n",
       "    <tr>\n",
       "      <th>Laplacian</th>\n",
       "      <td>594.319534</td>\n",
       "      <td>151.002144</td>\n",
       "      <td>571.781561</td>\n",
       "      <td>216.983108</td>\n",
       "    </tr>\n",
       "    <tr>\n",
       "      <th>Laplacian(blur)</th>\n",
       "      <td>527.102280</td>\n",
       "      <td>67.862897</td>\n",
       "      <td>535.531638</td>\n",
       "      <td>81.088830</td>\n",
       "    </tr>\n",
       "    <tr>\n",
       "      <th>Polar Sobel</th>\n",
       "      <td>443.510008</td>\n",
       "      <td>28.699731</td>\n",
       "      <td>400.211451</td>\n",
       "      <td>65.687010</td>\n",
       "    </tr>\n",
       "    <tr>\n",
       "      <th>Polar Sobel(blur)</th>\n",
       "      <td>330.280220</td>\n",
       "      <td>54.478171</td>\n",
       "      <td>328.022737</td>\n",
       "      <td>33.149320</td>\n",
       "    </tr>\n",
       "    <tr>\n",
       "      <th>Polar Canny</th>\n",
       "      <td>32.718153</td>\n",
       "      <td>42.517269</td>\n",
       "      <td>189.964755</td>\n",
       "      <td>120.854473</td>\n",
       "    </tr>\n",
       "    <tr>\n",
       "      <th>Polar Canny(otsu)</th>\n",
       "      <td>29.322344</td>\n",
       "      <td>33.403854</td>\n",
       "      <td>223.315807</td>\n",
       "      <td>149.052608</td>\n",
       "    </tr>\n",
       "    <tr>\n",
       "      <th>Polar Canny(triangle)</th>\n",
       "      <td>65.762278</td>\n",
       "      <td>29.199040</td>\n",
       "      <td>332.179736</td>\n",
       "      <td>235.333589</td>\n",
       "    </tr>\n",
       "    <tr>\n",
       "      <th>Polar Canny(manual)</th>\n",
       "      <td>36.007892</td>\n",
       "      <td>45.320483</td>\n",
       "      <td>181.461286</td>\n",
       "      <td>114.030313</td>\n",
       "    </tr>\n",
       "    <tr>\n",
       "      <th>Polar Canny(blur)</th>\n",
       "      <td>53.024277</td>\n",
       "      <td>59.627847</td>\n",
       "      <td>129.125959</td>\n",
       "      <td>70.405794</td>\n",
       "    </tr>\n",
       "    <tr>\n",
       "      <th>Polar Canny(blur otsu)</th>\n",
       "      <td>40.641743</td>\n",
       "      <td>48.394316</td>\n",
       "      <td>173.032832</td>\n",
       "      <td>105.395120</td>\n",
       "    </tr>\n",
       "    <tr>\n",
       "      <th>Polar Canny(blur triangle)</th>\n",
       "      <td>33.483758</td>\n",
       "      <td>20.166156</td>\n",
       "      <td>290.293645</td>\n",
       "      <td>202.756509</td>\n",
       "    </tr>\n",
       "    <tr>\n",
       "      <th>Polar Canny(blur manual)</th>\n",
       "      <td>55.782497</td>\n",
       "      <td>61.734636</td>\n",
       "      <td>123.204189</td>\n",
       "      <td>65.853327</td>\n",
       "    </tr>\n",
       "    <tr>\n",
       "      <th>Polar Laplacian</th>\n",
       "      <td>589.726144</td>\n",
       "      <td>128.926626</td>\n",
       "      <td>528.743105</td>\n",
       "      <td>188.008723</td>\n",
       "    </tr>\n",
       "    <tr>\n",
       "      <th>Polar Laplacian(blur)</th>\n",
       "      <td>463.643197</td>\n",
       "      <td>29.190681</td>\n",
       "      <td>455.975042</td>\n",
       "      <td>39.843260</td>\n",
       "    </tr>\n",
       "    <tr>\n",
       "      <th>Polar Pith Sobel</th>\n",
       "      <td>396.160848</td>\n",
       "      <td>25.482499</td>\n",
       "      <td>355.926772</td>\n",
       "      <td>53.562408</td>\n",
       "    </tr>\n",
       "    <tr>\n",
       "      <th>Polar Pith Sobel(blur)</th>\n",
       "      <td>291.327619</td>\n",
       "      <td>56.356165</td>\n",
       "      <td>290.521718</td>\n",
       "      <td>31.008072</td>\n",
       "    </tr>\n",
       "    <tr>\n",
       "      <th>Polar Pith Canny</th>\n",
       "      <td>34.241157</td>\n",
       "      <td>44.220351</td>\n",
       "      <td>169.451638</td>\n",
       "      <td>104.102252</td>\n",
       "    </tr>\n",
       "    <tr>\n",
       "      <th>Polar Pith Canny(otsu)</th>\n",
       "      <td>29.197889</td>\n",
       "      <td>34.221998</td>\n",
       "      <td>203.854400</td>\n",
       "      <td>132.349717</td>\n",
       "    </tr>\n",
       "    <tr>\n",
       "      <th>Polar Pith Canny(triangle)</th>\n",
       "      <td>57.818370</td>\n",
       "      <td>24.808826</td>\n",
       "      <td>300.655413</td>\n",
       "      <td>210.512263</td>\n",
       "    </tr>\n",
       "    <tr>\n",
       "      <th>Polar Pith Canny(manual)</th>\n",
       "      <td>36.439903</td>\n",
       "      <td>43.891563</td>\n",
       "      <td>176.553502</td>\n",
       "      <td>111.202513</td>\n",
       "    </tr>\n",
       "    <tr>\n",
       "      <th>Polar Pith Canny(blur)</th>\n",
       "      <td>54.585757</td>\n",
       "      <td>60.946196</td>\n",
       "      <td>115.457940</td>\n",
       "      <td>60.788606</td>\n",
       "    </tr>\n",
       "    <tr>\n",
       "      <th>Polar Pith Canny(blur otsu)</th>\n",
       "      <td>42.012650</td>\n",
       "      <td>49.285298</td>\n",
       "      <td>157.346781</td>\n",
       "      <td>93.557367</td>\n",
       "    </tr>\n",
       "    <tr>\n",
       "      <th>Polar Pith Canny(blur triangle)</th>\n",
       "      <td>27.835223</td>\n",
       "      <td>19.591747</td>\n",
       "      <td>258.958981</td>\n",
       "      <td>178.185567</td>\n",
       "    </tr>\n",
       "    <tr>\n",
       "      <th>Polar Pith Canny(blur manual)</th>\n",
       "      <td>52.999815</td>\n",
       "      <td>58.948268</td>\n",
       "      <td>126.380170</td>\n",
       "      <td>70.789903</td>\n",
       "    </tr>\n",
       "    <tr>\n",
       "      <th>Polar Pith Laplacian</th>\n",
       "      <td>530.138585</td>\n",
       "      <td>111.641996</td>\n",
       "      <td>473.151041</td>\n",
       "      <td>165.754905</td>\n",
       "    </tr>\n",
       "    <tr>\n",
       "      <th>Polar Pith Laplacian(blur)</th>\n",
       "      <td>415.901880</td>\n",
       "      <td>26.822927</td>\n",
       "      <td>409.137081</td>\n",
       "      <td>34.934329</td>\n",
       "    </tr>\n",
       "  </tbody>\n",
       "</table>\n",
       "</div>"
      ],
      "text/plain": [
       "                                     subseq       peaks      binary  \\\n",
       "model                                                                 \n",
       "Grayscale                        377.061680   57.597009  356.470813   \n",
       "Polar                            161.029993   76.991214  349.407722   \n",
       "Polar Pith                       139.226129   78.585395  309.744492   \n",
       "Sobel                            507.234225   62.556301  473.701124   \n",
       "Sobel(blur)                      433.683817   29.900250  419.112768   \n",
       "Canny                             66.616265   31.738559  292.115378   \n",
       "Canny(otsu)                       56.196168   28.027283  274.530737   \n",
       "Canny(triangle)                   96.610820   47.427434  343.367374   \n",
       "Canny(manual)                     49.438725   30.957859  250.459632   \n",
       "Canny(blur)                       35.208885   33.738801  217.302196   \n",
       "Canny(blur otsu)                  29.649284   34.567108  200.249937   \n",
       "Canny(blur triangle)              60.177101   39.304904  279.758055   \n",
       "Canny(blur manual)                32.722402   41.240831  174.990144   \n",
       "Laplacian                        594.319534  151.002144  571.781561   \n",
       "Laplacian(blur)                  527.102280   67.862897  535.531638   \n",
       "Polar Sobel                      443.510008   28.699731  400.211451   \n",
       "Polar Sobel(blur)                330.280220   54.478171  328.022737   \n",
       "Polar Canny                       32.718153   42.517269  189.964755   \n",
       "Polar Canny(otsu)                 29.322344   33.403854  223.315807   \n",
       "Polar Canny(triangle)             65.762278   29.199040  332.179736   \n",
       "Polar Canny(manual)               36.007892   45.320483  181.461286   \n",
       "Polar Canny(blur)                 53.024277   59.627847  129.125959   \n",
       "Polar Canny(blur otsu)            40.641743   48.394316  173.032832   \n",
       "Polar Canny(blur triangle)        33.483758   20.166156  290.293645   \n",
       "Polar Canny(blur manual)          55.782497   61.734636  123.204189   \n",
       "Polar Laplacian                  589.726144  128.926626  528.743105   \n",
       "Polar Laplacian(blur)            463.643197   29.190681  455.975042   \n",
       "Polar Pith Sobel                 396.160848   25.482499  355.926772   \n",
       "Polar Pith Sobel(blur)           291.327619   56.356165  290.521718   \n",
       "Polar Pith Canny                  34.241157   44.220351  169.451638   \n",
       "Polar Pith Canny(otsu)            29.197889   34.221998  203.854400   \n",
       "Polar Pith Canny(triangle)        57.818370   24.808826  300.655413   \n",
       "Polar Pith Canny(manual)          36.439903   43.891563  176.553502   \n",
       "Polar Pith Canny(blur)            54.585757   60.946196  115.457940   \n",
       "Polar Pith Canny(blur otsu)       42.012650   49.285298  157.346781   \n",
       "Polar Pith Canny(blur triangle)   27.835223   19.591747  258.958981   \n",
       "Polar Pith Canny(blur manual)     52.999815   58.948268  126.380170   \n",
       "Polar Pith Laplacian             530.138585  111.641996  473.151041   \n",
       "Polar Pith Laplacian(blur)       415.901880   26.822927  409.137081   \n",
       "\n",
       "                                        mwa  \n",
       "model                                        \n",
       "Grayscale                         32.253599  \n",
       "Polar                             43.067187  \n",
       "Polar Pith                        44.419486  \n",
       "Sobel                            116.268951  \n",
       "Sobel(blur)                       59.472513  \n",
       "Canny                            201.753870  \n",
       "Canny(otsu)                      186.437360  \n",
       "Canny(triangle)                  242.904743  \n",
       "Canny(manual)                    168.223871  \n",
       "Canny(blur)                      141.167062  \n",
       "Canny(blur otsu)                 125.012656  \n",
       "Canny(blur triangle)             194.367568  \n",
       "Canny(blur manual)               105.571294  \n",
       "Laplacian                        216.983108  \n",
       "Laplacian(blur)                   81.088830  \n",
       "Polar Sobel                       65.687010  \n",
       "Polar Sobel(blur)                 33.149320  \n",
       "Polar Canny                      120.854473  \n",
       "Polar Canny(otsu)                149.052608  \n",
       "Polar Canny(triangle)            235.333589  \n",
       "Polar Canny(manual)              114.030313  \n",
       "Polar Canny(blur)                 70.405794  \n",
       "Polar Canny(blur otsu)           105.395120  \n",
       "Polar Canny(blur triangle)       202.756509  \n",
       "Polar Canny(blur manual)          65.853327  \n",
       "Polar Laplacian                  188.008723  \n",
       "Polar Laplacian(blur)             39.843260  \n",
       "Polar Pith Sobel                  53.562408  \n",
       "Polar Pith Sobel(blur)            31.008072  \n",
       "Polar Pith Canny                 104.102252  \n",
       "Polar Pith Canny(otsu)           132.349717  \n",
       "Polar Pith Canny(triangle)       210.512263  \n",
       "Polar Pith Canny(manual)         111.202513  \n",
       "Polar Pith Canny(blur)            60.788606  \n",
       "Polar Pith Canny(blur otsu)       93.557367  \n",
       "Polar Pith Canny(blur triangle)  178.185567  \n",
       "Polar Pith Canny(blur manual)     70.789903  \n",
       "Polar Pith Laplacian             165.754905  \n",
       "Polar Pith Laplacian(blur)        34.934329  "
      ]
     },
     "metadata": {},
     "output_type": "display_data"
    },
    {
     "name": "stdout",
     "output_type": "stream",
     "text": [
      "Min: 19.591747084408897, Max: 594.3195344016165\n"
     ]
    },
    {
     "data": {
      "image/png": "[encoded data removed]",
      "text/plain": [
       "<Figure size 640x480 with 1 Axes>"
      ]
     },
     "metadata": {},
     "output_type": "display_data"
    },
    {
     "data": {
      "text/html": [
       "<div>\n",
       "<style scoped>\n",
       "    .dataframe tbody tr th:only-of-type {\n",
       "        vertical-align: middle;\n",
       "    }\n",
       "\n",
       "    .dataframe tbody tr th {\n",
       "        vertical-align: top;\n",
       "    }\n",
       "\n",
       "    .dataframe thead th {\n",
       "        text-align: right;\n",
       "    }\n",
       "</style>\n",
       "<table border=\"1\" class=\"dataframe\">\n",
       "  <thead>\n",
       "    <tr style=\"text-align: right;\">\n",
       "      <th></th>\n",
       "      <th>subseq</th>\n",
       "      <th>peaks</th>\n",
       "      <th>binary</th>\n",
       "      <th>mwa</th>\n",
       "    </tr>\n",
       "    <tr>\n",
       "      <th>model</th>\n",
       "      <th></th>\n",
       "      <th></th>\n",
       "      <th></th>\n",
       "      <th></th>\n",
       "    </tr>\n",
       "  </thead>\n",
       "  <tbody>\n",
       "    <tr>\n",
       "      <th>Grayscale</th>\n",
       "      <td>377.061680</td>\n",
       "      <td>57.597009</td>\n",
       "      <td>356.470813</td>\n",
       "      <td>32.253599</td>\n",
       "    </tr>\n",
       "    <tr>\n",
       "      <th>Polar</th>\n",
       "      <td>161.029993</td>\n",
       "      <td>76.991214</td>\n",
       "      <td>349.407722</td>\n",
       "      <td>43.067187</td>\n",
       "    </tr>\n",
       "    <tr>\n",
       "      <th>Polar Pith</th>\n",
       "      <td>139.226129</td>\n",
       "      <td>78.585395</td>\n",
       "      <td>309.744492</td>\n",
       "      <td>44.419486</td>\n",
       "    </tr>\n",
       "    <tr>\n",
       "      <th>Sobel</th>\n",
       "      <td>507.234225</td>\n",
       "      <td>62.556301</td>\n",
       "      <td>473.701124</td>\n",
       "      <td>116.268951</td>\n",
       "    </tr>\n",
       "    <tr>\n",
       "      <th>Sobel(blur)</th>\n",
       "      <td>433.683817</td>\n",
       "      <td>29.900250</td>\n",
       "      <td>419.112768</td>\n",
       "      <td>59.472513</td>\n",
       "    </tr>\n",
       "    <tr>\n",
       "      <th>Canny</th>\n",
       "      <td>66.616265</td>\n",
       "      <td>31.738559</td>\n",
       "      <td>292.115378</td>\n",
       "      <td>201.753870</td>\n",
       "    </tr>\n",
       "    <tr>\n",
       "      <th>Canny(otsu)</th>\n",
       "      <td>56.196168</td>\n",
       "      <td>28.027283</td>\n",
       "      <td>274.530737</td>\n",
       "      <td>186.437360</td>\n",
       "    </tr>\n",
       "    <tr>\n",
       "      <th>Canny(triangle)</th>\n",
       "      <td>96.610820</td>\n",
       "      <td>47.427434</td>\n",
       "      <td>343.367374</td>\n",
       "      <td>242.904743</td>\n",
       "    </tr>\n",
       "    <tr>\n",
       "      <th>Canny(manual)</th>\n",
       "      <td>49.438725</td>\n",
       "      <td>30.957859</td>\n",
       "      <td>250.459632</td>\n",
       "      <td>168.223871</td>\n",
       "    </tr>\n",
       "    <tr>\n",
       "      <th>Canny(blur)</th>\n",
       "      <td>35.208885</td>\n",
       "      <td>33.738801</td>\n",
       "      <td>217.302196</td>\n",
       "      <td>141.167062</td>\n",
       "    </tr>\n",
       "    <tr>\n",
       "      <th>Canny(blur otsu)</th>\n",
       "      <td>29.649284</td>\n",
       "      <td>34.567108</td>\n",
       "      <td>200.249937</td>\n",
       "      <td>125.012656</td>\n",
       "    </tr>\n",
       "    <tr>\n",
       "      <th>Canny(blur triangle)</th>\n",
       "      <td>60.177101</td>\n",
       "      <td>39.304904</td>\n",
       "      <td>279.758055</td>\n",
       "      <td>194.367568</td>\n",
       "    </tr>\n",
       "    <tr>\n",
       "      <th>Canny(blur manual)</th>\n",
       "      <td>32.722402</td>\n",
       "      <td>41.240831</td>\n",
       "      <td>174.990144</td>\n",
       "      <td>105.571294</td>\n",
       "    </tr>\n",
       "    <tr>\n",
       "      <th>Laplacian</th>\n",
       "      <td>594.319534</td>\n",
       "      <td>151.002144</td>\n",
       "      <td>571.781561</td>\n",
       "      <td>216.983108</td>\n",
       "    </tr>\n",
       "    <tr>\n",
       "      <th>Laplacian(blur)</th>\n",
       "      <td>527.102280</td>\n",
       "      <td>67.862897</td>\n",
       "      <td>535.531638</td>\n",
       "      <td>81.088830</td>\n",
       "    </tr>\n",
       "  </tbody>\n",
       "</table>\n",
       "</div>"
      ],
      "text/plain": [
       "                          subseq       peaks      binary         mwa\n",
       "model                                                               \n",
       "Grayscale             377.061680   57.597009  356.470813   32.253599\n",
       "Polar                 161.029993   76.991214  349.407722   43.067187\n",
       "Polar Pith            139.226129   78.585395  309.744492   44.419486\n",
       "Sobel                 507.234225   62.556301  473.701124  116.268951\n",
       "Sobel(blur)           433.683817   29.900250  419.112768   59.472513\n",
       "Canny                  66.616265   31.738559  292.115378  201.753870\n",
       "Canny(otsu)            56.196168   28.027283  274.530737  186.437360\n",
       "Canny(triangle)        96.610820   47.427434  343.367374  242.904743\n",
       "Canny(manual)          49.438725   30.957859  250.459632  168.223871\n",
       "Canny(blur)            35.208885   33.738801  217.302196  141.167062\n",
       "Canny(blur otsu)       29.649284   34.567108  200.249937  125.012656\n",
       "Canny(blur triangle)   60.177101   39.304904  279.758055  194.367568\n",
       "Canny(blur manual)     32.722402   41.240831  174.990144  105.571294\n",
       "Laplacian             594.319534  151.002144  571.781561  216.983108\n",
       "Laplacian(blur)       527.102280   67.862897  535.531638   81.088830"
      ]
     },
     "metadata": {},
     "output_type": "display_data"
    },
    {
     "name": "stdout",
     "output_type": "stream",
     "text": [
      "Min: 28.027282560182915, Max: 594.3195344016165\n"
     ]
    },
    {
     "data": {
      "image/png": "[encoded data removed]",
      "text/plain": [
       "<Figure size 640x480 with 1 Axes>"
      ]
     },
     "metadata": {},
     "output_type": "display_data"
    },
    {
     "data": {
      "text/html": [
       "<div>\n",
       "<style scoped>\n",
       "    .dataframe tbody tr th:only-of-type {\n",
       "        vertical-align: middle;\n",
       "    }\n",
       "\n",
       "    .dataframe tbody tr th {\n",
       "        vertical-align: top;\n",
       "    }\n",
       "\n",
       "    .dataframe thead th {\n",
       "        text-align: right;\n",
       "    }\n",
       "</style>\n",
       "<table border=\"1\" class=\"dataframe\">\n",
       "  <thead>\n",
       "    <tr style=\"text-align: right;\">\n",
       "      <th></th>\n",
       "      <th>subseq</th>\n",
       "      <th>peaks</th>\n",
       "      <th>binary</th>\n",
       "      <th>mwa</th>\n",
       "    </tr>\n",
       "    <tr>\n",
       "      <th>model</th>\n",
       "      <th></th>\n",
       "      <th></th>\n",
       "      <th></th>\n",
       "      <th></th>\n",
       "    </tr>\n",
       "  </thead>\n",
       "  <tbody>\n",
       "    <tr>\n",
       "      <th>Polar Sobel</th>\n",
       "      <td>443.510008</td>\n",
       "      <td>28.699731</td>\n",
       "      <td>400.211451</td>\n",
       "      <td>65.687010</td>\n",
       "    </tr>\n",
       "    <tr>\n",
       "      <th>Polar Sobel(blur)</th>\n",
       "      <td>330.280220</td>\n",
       "      <td>54.478171</td>\n",
       "      <td>328.022737</td>\n",
       "      <td>33.149320</td>\n",
       "    </tr>\n",
       "    <tr>\n",
       "      <th>Polar Canny</th>\n",
       "      <td>32.718153</td>\n",
       "      <td>42.517269</td>\n",
       "      <td>189.964755</td>\n",
       "      <td>120.854473</td>\n",
       "    </tr>\n",
       "    <tr>\n",
       "      <th>Polar Canny(otsu)</th>\n",
       "      <td>29.322344</td>\n",
       "      <td>33.403854</td>\n",
       "      <td>223.315807</td>\n",
       "      <td>149.052608</td>\n",
       "    </tr>\n",
       "    <tr>\n",
       "      <th>Polar Canny(triangle)</th>\n",
       "      <td>65.762278</td>\n",
       "      <td>29.199040</td>\n",
       "      <td>332.179736</td>\n",
       "      <td>235.333589</td>\n",
       "    </tr>\n",
       "    <tr>\n",
       "      <th>Polar Canny(manual)</th>\n",
       "      <td>36.007892</td>\n",
       "      <td>45.320483</td>\n",
       "      <td>181.461286</td>\n",
       "      <td>114.030313</td>\n",
       "    </tr>\n",
       "    <tr>\n",
       "      <th>Polar Canny(blur)</th>\n",
       "      <td>53.024277</td>\n",
       "      <td>59.627847</td>\n",
       "      <td>129.125959</td>\n",
       "      <td>70.405794</td>\n",
       "    </tr>\n",
       "    <tr>\n",
       "      <th>Polar Canny(blur otsu)</th>\n",
       "      <td>40.641743</td>\n",
       "      <td>48.394316</td>\n",
       "      <td>173.032832</td>\n",
       "      <td>105.395120</td>\n",
       "    </tr>\n",
       "    <tr>\n",
       "      <th>Polar Canny(blur triangle)</th>\n",
       "      <td>33.483758</td>\n",
       "      <td>20.166156</td>\n",
       "      <td>290.293645</td>\n",
       "      <td>202.756509</td>\n",
       "    </tr>\n",
       "    <tr>\n",
       "      <th>Polar Canny(blur manual)</th>\n",
       "      <td>55.782497</td>\n",
       "      <td>61.734636</td>\n",
       "      <td>123.204189</td>\n",
       "      <td>65.853327</td>\n",
       "    </tr>\n",
       "    <tr>\n",
       "      <th>Polar Laplacian</th>\n",
       "      <td>589.726144</td>\n",
       "      <td>128.926626</td>\n",
       "      <td>528.743105</td>\n",
       "      <td>188.008723</td>\n",
       "    </tr>\n",
       "    <tr>\n",
       "      <th>Polar Laplacian(blur)</th>\n",
       "      <td>463.643197</td>\n",
       "      <td>29.190681</td>\n",
       "      <td>455.975042</td>\n",
       "      <td>39.843260</td>\n",
       "    </tr>\n",
       "  </tbody>\n",
       "</table>\n",
       "</div>"
      ],
      "text/plain": [
       "                                subseq       peaks      binary         mwa\n",
       "model                                                                     \n",
       "Polar Sobel                 443.510008   28.699731  400.211451   65.687010\n",
       "Polar Sobel(blur)           330.280220   54.478171  328.022737   33.149320\n",
       "Polar Canny                  32.718153   42.517269  189.964755  120.854473\n",
       "Polar Canny(otsu)            29.322344   33.403854  223.315807  149.052608\n",
       "Polar Canny(triangle)        65.762278   29.199040  332.179736  235.333589\n",
       "Polar Canny(manual)          36.007892   45.320483  181.461286  114.030313\n",
       "Polar Canny(blur)            53.024277   59.627847  129.125959   70.405794\n",
       "Polar Canny(blur otsu)       40.641743   48.394316  173.032832  105.395120\n",
       "Polar Canny(blur triangle)   33.483758   20.166156  290.293645  202.756509\n",
       "Polar Canny(blur manual)     55.782497   61.734636  123.204189   65.853327\n",
       "Polar Laplacian             589.726144  128.926626  528.743105  188.008723\n",
       "Polar Laplacian(blur)       463.643197   29.190681  455.975042   39.843260"
      ]
     },
     "metadata": {},
     "output_type": "display_data"
    },
    {
     "name": "stdout",
     "output_type": "stream",
     "text": [
      "Min: 20.16615626506312, Max: 589.7261441144384\n"
     ]
    },
    {
     "data": {
      "image/png": "[encoded data removed]",
      "text/plain": [
       "<Figure size 640x480 with 1 Axes>"
      ]
     },
     "metadata": {},
     "output_type": "display_data"
    },
    {
     "data": {
      "text/html": [
       "<div>\n",
       "<style scoped>\n",
       "    .dataframe tbody tr th:only-of-type {\n",
       "        vertical-align: middle;\n",
       "    }\n",
       "\n",
       "    .dataframe tbody tr th {\n",
       "        vertical-align: top;\n",
       "    }\n",
       "\n",
       "    .dataframe thead th {\n",
       "        text-align: right;\n",
       "    }\n",
       "</style>\n",
       "<table border=\"1\" class=\"dataframe\">\n",
       "  <thead>\n",
       "    <tr style=\"text-align: right;\">\n",
       "      <th></th>\n",
       "      <th>subseq</th>\n",
       "      <th>peaks</th>\n",
       "      <th>binary</th>\n",
       "      <th>mwa</th>\n",
       "    </tr>\n",
       "    <tr>\n",
       "      <th>model</th>\n",
       "      <th></th>\n",
       "      <th></th>\n",
       "      <th></th>\n",
       "      <th></th>\n",
       "    </tr>\n",
       "  </thead>\n",
       "  <tbody>\n",
       "    <tr>\n",
       "      <th>Polar Pith Sobel</th>\n",
       "      <td>396.160848</td>\n",
       "      <td>25.482499</td>\n",
       "      <td>355.926772</td>\n",
       "      <td>53.562408</td>\n",
       "    </tr>\n",
       "    <tr>\n",
       "      <th>Polar Pith Sobel(blur)</th>\n",
       "      <td>291.327619</td>\n",
       "      <td>56.356165</td>\n",
       "      <td>290.521718</td>\n",
       "      <td>31.008072</td>\n",
       "    </tr>\n",
       "    <tr>\n",
       "      <th>Polar Pith Canny</th>\n",
       "      <td>34.241157</td>\n",
       "      <td>44.220351</td>\n",
       "      <td>169.451638</td>\n",
       "      <td>104.102252</td>\n",
       "    </tr>\n",
       "    <tr>\n",
       "      <th>Polar Pith Canny(otsu)</th>\n",
       "      <td>29.197889</td>\n",
       "      <td>34.221998</td>\n",
       "      <td>203.854400</td>\n",
       "      <td>132.349717</td>\n",
       "    </tr>\n",
       "    <tr>\n",
       "      <th>Polar Pith Canny(triangle)</th>\n",
       "      <td>57.818370</td>\n",
       "      <td>24.808826</td>\n",
       "      <td>300.655413</td>\n",
       "      <td>210.512263</td>\n",
       "    </tr>\n",
       "    <tr>\n",
       "      <th>Polar Pith Canny(manual)</th>\n",
       "      <td>36.439903</td>\n",
       "      <td>43.891563</td>\n",
       "      <td>176.553502</td>\n",
       "      <td>111.202513</td>\n",
       "    </tr>\n",
       "    <tr>\n",
       "      <th>Polar Pith Canny(blur)</th>\n",
       "      <td>54.585757</td>\n",
       "      <td>60.946196</td>\n",
       "      <td>115.457940</td>\n",
       "      <td>60.788606</td>\n",
       "    </tr>\n",
       "    <tr>\n",
       "      <th>Polar Pith Canny(blur otsu)</th>\n",
       "      <td>42.012650</td>\n",
       "      <td>49.285298</td>\n",
       "      <td>157.346781</td>\n",
       "      <td>93.557367</td>\n",
       "    </tr>\n",
       "    <tr>\n",
       "      <th>Polar Pith Canny(blur triangle)</th>\n",
       "      <td>27.835223</td>\n",
       "      <td>19.591747</td>\n",
       "      <td>258.958981</td>\n",
       "      <td>178.185567</td>\n",
       "    </tr>\n",
       "    <tr>\n",
       "      <th>Polar Pith Canny(blur manual)</th>\n",
       "      <td>52.999815</td>\n",
       "      <td>58.948268</td>\n",
       "      <td>126.380170</td>\n",
       "      <td>70.789903</td>\n",
       "    </tr>\n",
       "    <tr>\n",
       "      <th>Polar Pith Laplacian</th>\n",
       "      <td>530.138585</td>\n",
       "      <td>111.641996</td>\n",
       "      <td>473.151041</td>\n",
       "      <td>165.754905</td>\n",
       "    </tr>\n",
       "    <tr>\n",
       "      <th>Polar Pith Laplacian(blur)</th>\n",
       "      <td>415.901880</td>\n",
       "      <td>26.822927</td>\n",
       "      <td>409.137081</td>\n",
       "      <td>34.934329</td>\n",
       "    </tr>\n",
       "  </tbody>\n",
       "</table>\n",
       "</div>"
      ],
      "text/plain": [
       "                                     subseq       peaks      binary  \\\n",
       "model                                                                 \n",
       "Polar Pith Sobel                 396.160848   25.482499  355.926772   \n",
       "Polar Pith Sobel(blur)           291.327619   56.356165  290.521718   \n",
       "Polar Pith Canny                  34.241157   44.220351  169.451638   \n",
       "Polar Pith Canny(otsu)            29.197889   34.221998  203.854400   \n",
       "Polar Pith Canny(triangle)        57.818370   24.808826  300.655413   \n",
       "Polar Pith Canny(manual)          36.439903   43.891563  176.553502   \n",
       "Polar Pith Canny(blur)            54.585757   60.946196  115.457940   \n",
       "Polar Pith Canny(blur otsu)       42.012650   49.285298  157.346781   \n",
       "Polar Pith Canny(blur triangle)   27.835223   19.591747  258.958981   \n",
       "Polar Pith Canny(blur manual)     52.999815   58.948268  126.380170   \n",
       "Polar Pith Laplacian             530.138585  111.641996  473.151041   \n",
       "Polar Pith Laplacian(blur)       415.901880   26.822927  409.137081   \n",
       "\n",
       "                                        mwa  \n",
       "model                                        \n",
       "Polar Pith Sobel                  53.562408  \n",
       "Polar Pith Sobel(blur)            31.008072  \n",
       "Polar Pith Canny                 104.102252  \n",
       "Polar Pith Canny(otsu)           132.349717  \n",
       "Polar Pith Canny(triangle)       210.512263  \n",
       "Polar Pith Canny(manual)         111.202513  \n",
       "Polar Pith Canny(blur)            60.788606  \n",
       "Polar Pith Canny(blur otsu)       93.557367  \n",
       "Polar Pith Canny(blur triangle)  178.185567  \n",
       "Polar Pith Canny(blur manual)     70.789903  \n",
       "Polar Pith Laplacian             165.754905  \n",
       "Polar Pith Laplacian(blur)        34.934329  "
      ]
     },
     "metadata": {},
     "output_type": "display_data"
    },
    {
     "name": "stdout",
     "output_type": "stream",
     "text": [
      "Min: 19.591747084408897, Max: 530.1385846477236\n"
     ]
    },
    {
     "data": {
      "image/png": "[encoded data removed]",
      "text/plain": [
       "<Figure size 640x480 with 1 Axes>"
      ]
     },
     "metadata": {},
     "output_type": "display_data"
    }
   ],
   "source": [
    "multi_mse(mse_url)"
   ]
  },
  {
   "cell_type": "code",
   "execution_count": 95,
   "id": "2f852faa",
   "metadata": {},
   "outputs": [],
   "source": [
    "#STOP"
   ]
  }
 ],
 "metadata": {
  "kernelspec": {
   "display_name": "Python 3 (ipykernel)",
   "language": "python",
   "name": "python3"
  },
  "language_info": {
   "codemirror_mode": {
    "name": "ipython",
    "version": 3
   },
   "file_extension": ".py",
   "mimetype": "text/x-python",
   "name": "python",
   "nbconvert_exporter": "python",
   "pygments_lexer": "ipython3",
   "version": "3.9.6"
  }
 },
 "nbformat": 4,
 "nbformat_minor": 5
}
