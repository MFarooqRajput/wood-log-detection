{
 "cells": [
  {
   "cell_type": "code",
   "execution_count": 1,
   "id": "adf08eb4",
   "metadata": {},
   "outputs": [
    {
     "name": "stdout",
     "output_type": "stream",
     "text": [
      "/Users/muhammadfarooq/Codebase/thesis-experiment/Pith2Bark\n"
     ]
    }
   ],
   "source": [
    "cd .."
   ]
  },
  {
   "cell_type": "code",
   "execution_count": 2,
   "id": "7218123d",
   "metadata": {},
   "outputs": [],
   "source": [
    "import os\n",
    "os.environ['TF_CPP_MIN_LOG_LEVEL'] = '3'\n",
    "import warnings\n",
    "warnings.filterwarnings(\"ignore\")\n",
    "\n",
    "import numpy as np\n",
    "import matplotlib.pyplot as plt\n",
    "import seaborn as sns\n",
    "import scikitplot as skplt\n",
    "\n",
    "import tensorflow as tf\n",
    "\n",
    "from keras.models import Sequential\n",
    "from keras.layers import Dense, Dropout\n",
    "\n",
    "from sklearn.model_selection import KFold\n",
    "from sklearn.model_selection import train_test_split\n",
    "from sklearn.preprocessing import StandardScaler\n",
    "#from sklearn.metrics import accuracy_score\n",
    "from sklearn.metrics import confusion_matrix\n",
    "from sklearn.metrics import classification_report\n",
    "from sklearn.metrics import balanced_accuracy_score\n",
    "\n",
    "from sklearn.metrics import accuracy_score, roc_auc_score, precision_score, recall_score, f1_score\n",
    "\n",
    "from src.winner import winner_model_rings\n",
    "from src.damage import merge_df\n",
    "from src.damage import read_damage_min_max\n",
    "from src.damage import read_damage_mean"
   ]
  },
  {
   "cell_type": "markdown",
   "id": "f997a936",
   "metadata": {},
   "source": [
    "# Damage Dataset"
   ]
  },
  {
   "cell_type": "code",
   "execution_count": 3,
   "id": "fe5a18bd",
   "metadata": {},
   "outputs": [
    {
     "name": "stdout",
     "output_type": "stream",
     "text": [
      "Polar Pith Canny(blur otsu) 12.829318845239923 (subseq)\n",
      "Polar Pith Canny(blur otsu) 12.88055458721076 (subseq)\n"
     ]
    }
   ],
   "source": [
    "mse_url = \"output/ringsranking_mse_sixteen.csv\"\n",
    "rings_url = \"output/ringsranking_rings_sixteen.csv\"\n",
    "df_ringsranking_sixteen = winner_model_rings(mse_url, rings_url)\n",
    "\n",
    "mse_url = \"output/ringsranking_mse_thirtytwo.csv\"\n",
    "rings_url = \"output/ringsranking_rings_thirtytwo.csv\"\n",
    "df_ringsranking_thirtytwo = winner_model_rings(mse_url, rings_url)"
   ]
  },
  {
   "cell_type": "code",
   "execution_count": 4,
   "id": "4cc20eef",
   "metadata": {},
   "outputs": [
    {
     "name": "stdout",
     "output_type": "stream",
     "text": [
      "Polar Pith Canny(blur triangle) 19.888455438324574 (peaks)\n",
      "Polar Pith Canny(blur triangle) 19.591747084408897 (peaks)\n"
     ]
    }
   ],
   "source": [
    "mse_url = \"output/pine_mse_sixteen.csv\"\n",
    "rings_url = \"output/pine_rings_sixteen.csv\"\n",
    "df_pine_sixteen = winner_model_rings(mse_url, rings_url)\n",
    "\n",
    "mse_url = \"output/pine_mse_thirtytwo.csv\"\n",
    "rings_url = \"output/pine_rings_thirtytwo.csv\"\n",
    "df_pine_thirtytwo = winner_model_rings(mse_url, rings_url)"
   ]
  },
  {
   "cell_type": "code",
   "execution_count": 5,
   "id": "a43a2fd5",
   "metadata": {},
   "outputs": [
    {
     "name": "stdout",
     "output_type": "stream",
     "text": [
      "Polar Pith Canny(blur triangle) 13.428984012468806 (peaks)\n",
      "Polar Pith Canny(blur triangle) 13.688767879960144 (peaks)\n"
     ]
    }
   ],
   "source": [
    "mse_url = \"output/fur_mse_sixteen.csv\"\n",
    "rings_url = \"output/fur_rings_sixteen.csv\"\n",
    "df_fur_sixteen = winner_model_rings(mse_url, rings_url)\n",
    "\n",
    "mse_url = \"output/fur_mse_thirtytwo.csv\"\n",
    "rings_url = \"output/fur_rings_thirtytwo.csv\"\n",
    "df_fur_thirtytwo = winner_model_rings(mse_url, rings_url)"
   ]
  },
  {
   "cell_type": "code",
   "execution_count": 6,
   "id": "952163f8",
   "metadata": {},
   "outputs": [
    {
     "name": "stdout",
     "output_type": "stream",
     "text": [
      "Polar Canny(triangle) 39.683736416974455 (peaks)\n",
      "Polar Pith Canny(triangle) 39.48914666858598 (peaks)\n"
     ]
    }
   ],
   "source": [
    "mse_url = \"output/tracy_mse_sixteen.csv\"\n",
    "rings_url = \"output/tracy_rings_sixteen.csv\"\n",
    "df_tracy_sixteen = winner_model_rings(mse_url, rings_url)\n",
    "\n",
    "mse_url = \"output/tracy_mse_thirtytwo.csv\"\n",
    "rings_url = \"output/tracy_rings_thirtytwo.csv\"\n",
    "df_tracy_thirtytwo = winner_model_rings(mse_url, rings_url)"
   ]
  },
  {
   "cell_type": "code",
   "execution_count": 7,
   "id": "dc59f33c",
   "metadata": {},
   "outputs": [
    {
     "name": "stdout",
     "output_type": "stream",
     "text": [
      "Canny(triangle) 18.789996216404624 (subseq)\n",
      "Canny(triangle) 18.871624925897343 (subseq)\n"
     ]
    }
   ],
   "source": [
    "mse_url = \"output/data_mse_sixteen.csv\"\n",
    "rings_url = \"output/data_rings_sixteen.csv\"\n",
    "df_data_sixteen = winner_model_rings(mse_url, rings_url)\n",
    "\n",
    "mse_url = \"output/data_mse_thirtytwo.csv\"\n",
    "rings_url = \"output/data_rings_thirtytwo.csv\"\n",
    "df_data_thirtytwo = winner_model_rings(mse_url, rings_url)"
   ]
  },
  {
   "cell_type": "code",
   "execution_count": 8,
   "id": "7f0fa2ef",
   "metadata": {},
   "outputs": [],
   "source": [
    "#damage\n",
    "damage_sixteen_url = \"damage/damage_sixteen.csv\"\n",
    "damage_thirtytwo_url = \"damage/damage_thirtytwo.csv\"\n",
    "\n",
    "#merge\n",
    "df_merge_sixteen = merge_df(df_ringsranking_sixteen, df_pine_sixteen, df_fur_sixteen, df_tracy_sixteen, df_data_sixteen)\n",
    "df_merge_thirtytwo = merge_df(df_ringsranking_thirtytwo, df_pine_thirtytwo, df_fur_thirtytwo, df_tracy_thirtytwo, df_data_thirtytwo)\n",
    "\n",
    "df_damage_sixteen_min_max = read_damage_min_max(damage_sixteen_url, df_merge_sixteen)\n",
    "df_damage_thirtytwo_min_max = read_damage_min_max(damage_thirtytwo_url, df_merge_thirtytwo)\n",
    "\n",
    "df_damage_sixteen_mean = read_damage_mean(damage_sixteen_url, df_merge_sixteen)\n",
    "df_damage_thirtytwo_mean = read_damage_mean(damage_thirtytwo_url, df_merge_thirtytwo)"
   ]
  },
  {
   "cell_type": "code",
   "execution_count": 9,
   "id": "c3450480",
   "metadata": {},
   "outputs": [],
   "source": [
    "#df_damage_sixteen_min_max"
   ]
  },
  {
   "cell_type": "code",
   "execution_count": 10,
   "id": "8d2f32fc",
   "metadata": {},
   "outputs": [],
   "source": [
    "#df_damage_thirtytwo_min_max"
   ]
  },
  {
   "cell_type": "code",
   "execution_count": 11,
   "id": "f17fcb9b",
   "metadata": {},
   "outputs": [],
   "source": [
    "#df_damage_sixteen_mean"
   ]
  },
  {
   "cell_type": "code",
   "execution_count": 12,
   "id": "e3d93efc",
   "metadata": {},
   "outputs": [],
   "source": [
    "#df_damage_thirtytwo_mean"
   ]
  },
  {
   "cell_type": "code",
   "execution_count": 13,
   "id": "4a89d4fb",
   "metadata": {},
   "outputs": [],
   "source": [
    "#STOP"
   ]
  },
  {
   "cell_type": "markdown",
   "id": "eb6a167a",
   "metadata": {},
   "source": [
    "# Config"
   ]
  },
  {
   "cell_type": "code",
   "execution_count": 14,
   "id": "abbdd2ae",
   "metadata": {},
   "outputs": [],
   "source": [
    "training_percent = 0.9\n",
    "\n",
    "epochs, batch_size = 50, 32\n",
    "kf = KFold(n_splits=3, shuffle=True, random_state=42)\n",
    "\n",
    "# mode = max for monitro val_accuracy and val_prc\n",
    "early_stopping = tf.keras.callbacks.EarlyStopping(\n",
    "    monitor='val_loss', \n",
    "    patience=10,\n",
    "    restore_best_weights=True)\n",
    "\n",
    "METRICS = [\n",
    "    tf.keras.metrics.TruePositives(name='tp'),\n",
    "    tf.keras.metrics.FalsePositives(name='fp'),\n",
    "    tf.keras.metrics.TrueNegatives(name='tn'),\n",
    "    tf.keras.metrics.FalseNegatives(name='fn'), \n",
    "    tf.keras.metrics.BinaryAccuracy(name='accuracy'),\n",
    "    tf.keras.metrics.Precision(name='precision'),\n",
    "    tf.keras.metrics.Recall(name='recall'),\n",
    "    tf.keras.metrics.AUC(name='auc'),\n",
    "    tf.keras.metrics.AUC(name='prc', curve='PR'), # precision-recall curve\n",
    "]\n",
    "\n",
    "#columns to drop\n",
    "columns = ['image', 'algo']"
   ]
  },
  {
   "cell_type": "code",
   "execution_count": 15,
   "id": "df4dc48a",
   "metadata": {},
   "outputs": [],
   "source": [
    "def heat_map(_cm):\n",
    "    # plot confusion matrix as heatmap\n",
    "    \n",
    "    labels = ['Not Damage', 'Damaged']\n",
    "    \n",
    "    # Set up the matplotlib figure\n",
    "    plt.figure(figsize=(4, 3))\n",
    "    \n",
    "    # Generate a custom diverging colormap\n",
    "    cmap = sns.diverging_palette(230, 20, as_cmap=True)\n",
    "    \n",
    "    sns.heatmap(_cm, annot=True, cmap=cmap, xticklabels=labels, yticklabels=labels)\n",
    "    plt.xlabel('Predicted labels')\n",
    "    plt.ylabel('True labels')\n",
    "    plt.show()"
   ]
  },
  {
   "cell_type": "code",
   "execution_count": 16,
   "id": "fa4e92df",
   "metadata": {},
   "outputs": [],
   "source": [
    "def heat_map_n(y_true, y_pred):\n",
    "    \n",
    "    class_names = ['Not Damage', 'Damaged']\n",
    "    \n",
    "    skplt.metrics.plot_confusion_matrix(y_true, y_pred,\n",
    "                                        figsize=(4,3),\n",
    "                                        normalize=True)\n",
    "    \n",
    "    # Customize axis tick labels\n",
    "    plt.xticks([0,1], class_names)\n",
    "    plt.yticks([0,1], class_names)\n",
    "    \n",
    "    plt.yticks(rotation=90)\n",
    "    \n",
    "    plt.xlabel('Predicted labels')\n",
    "    plt.ylabel('True labels')\n",
    "    plt.show()"
   ]
  },
  {
   "cell_type": "markdown",
   "id": "e16663a1",
   "metadata": {},
   "source": [
    "# Model"
   ]
  },
  {
   "cell_type": "code",
   "execution_count": 17,
   "id": "e7a10910",
   "metadata": {},
   "outputs": [],
   "source": [
    "class Baseline():\n",
    "    def __init__(self, _input_dim, metrics=METRICS):\n",
    "        # Define the model architecture\n",
    "        model = Sequential()\n",
    "        \n",
    "        # hidden layer\n",
    "        model.add(Dense(256, activation='relu', input_dim=_input_dim))\n",
    "        model.add(Dropout(0.2))\n",
    "        \n",
    "        # hidden layer\n",
    "        model.add(Dense(64, activation='relu'))\n",
    "        model.add(Dropout(0.2))\n",
    "        \n",
    "        # hidden layer\n",
    "        model.add(Dense(32, activation='relu'))\n",
    "        model.add(Dropout(0.2))\n",
    "        \n",
    "        # hidden layer\n",
    "        model.add(Dense(16, activation='relu'))\n",
    "        model.add(Dropout(0.2))\n",
    "        \n",
    "        # output layer\n",
    "        model.add(Dense(1, activation='sigmoid'))\n",
    "\n",
    "        # Compile the model\n",
    "        model.compile(loss='binary_crossentropy', optimizer=tf.keras.optimizers.Adam(learning_rate=0.0001), metrics=metrics)\n",
    "\n",
    "        self.model = model\n",
    "        \n",
    "    def train(self, X_train, y_train, X_val, y_val, epochs, batch_size):\n",
    "        history = self.model.fit(X_train, y_train, validation_data=(X_val, y_val), epochs=epochs, batch_size=batch_size, callbacks=[early_stopping], verbose=2)\n",
    "        return history\n",
    "\n",
    "    def evaluate(self, X_test, y_test):\n",
    "        results = self.model.evaluate(X_test, y_test, verbose=0)\n",
    "        return results\n",
    "\n",
    "    def predict(self, X): #X_train X_test\n",
    "        predictions = self.model.predict(X)\n",
    "        return predictions\n",
    "    \n",
    "    def summary(self):\n",
    "        self.model.summary()\n",
    "        \n",
    "    def metrics_names(self):\n",
    "        return self.model.metrics_names"
   ]
  },
  {
   "cell_type": "markdown",
   "id": "baa62310",
   "metadata": {},
   "source": [
    "# 1 Prepare dataset"
   ]
  },
  {
   "cell_type": "code",
   "execution_count": 18,
   "id": "14a1c3f2",
   "metadata": {},
   "outputs": [],
   "source": [
    "df = df_damage_sixteen_min_max.drop(columns=columns)\n",
    "\n",
    "X = df.drop(columns=['Damage'])\n",
    "y = df['Damage']\n",
    "\n",
    "# split the data into a holdout set and the rest for K-Fold cross-validation\n",
    "X_train, X_holdout, y_train, y_holdout = train_test_split(X, y, train_size=training_percent, random_state=42)"
   ]
  },
  {
   "cell_type": "code",
   "execution_count": 19,
   "id": "07457154",
   "metadata": {},
   "outputs": [],
   "source": [
    "# Initialize StandardScaler\n",
    "scaler = StandardScaler()\n",
    "\n",
    "# Fit scaler on training data\n",
    "scaler.fit(X_train)\n",
    "\n",
    "# Transform both training and test data\n",
    "X_train_scaled = scaler.transform(X_train)\n",
    "X_holdout_scaled = scaler.transform(X_holdout)"
   ]
  },
  {
   "cell_type": "code",
   "execution_count": 20,
   "id": "f5fff565",
   "metadata": {},
   "outputs": [
    {
     "name": "stdout",
     "output_type": "stream",
     "text": [
      "Model: \"sequential\"\n",
      "_________________________________________________________________\n",
      " Layer (type)                Output Shape              Param #   \n",
      "=================================================================\n",
      " dense (Dense)               (None, 256)               5376      \n",
      "                                                                 \n",
      " dropout (Dropout)           (None, 256)               0         \n",
      "                                                                 \n",
      " dense_1 (Dense)             (None, 64)                16448     \n",
      "                                                                 \n",
      " dropout_1 (Dropout)         (None, 64)                0         \n",
      "                                                                 \n",
      " dense_2 (Dense)             (None, 32)                2080      \n",
      "                                                                 \n",
      " dropout_2 (Dropout)         (None, 32)                0         \n",
      "                                                                 \n",
      " dense_3 (Dense)             (None, 16)                528       \n",
      "                                                                 \n",
      " dropout_3 (Dropout)         (None, 16)                0         \n",
      "                                                                 \n",
      " dense_4 (Dense)             (None, 1)                 17        \n",
      "                                                                 \n",
      "=================================================================\n",
      "Total params: 24,449\n",
      "Trainable params: 24,449\n",
      "Non-trainable params: 0\n",
      "_________________________________________________________________\n"
     ]
    }
   ],
   "source": [
    "input_dim = X_train.shape[1]\n",
    "\n",
    "model = Baseline(input_dim)\n",
    "model.summary()"
   ]
  },
  {
   "cell_type": "code",
   "execution_count": 21,
   "id": "b8d6e49a",
   "metadata": {},
   "outputs": [
    {
     "name": "stdout",
     "output_type": "stream",
     "text": [
      "(133, 20)\n",
      "(133,)\n"
     ]
    }
   ],
   "source": [
    "print(X_train_scaled.shape)\n",
    "print(y_train.shape)"
   ]
  },
  {
   "cell_type": "code",
   "execution_count": 22,
   "id": "ff9e07b5",
   "metadata": {},
   "outputs": [
    {
     "name": "stdout",
     "output_type": "stream",
     "text": [
      "Epoch 1/50\n",
      "3/3 - 2s - loss: 0.7071 - tp: 3.0000 - fp: 5.0000 - tn: 54.0000 - fn: 26.0000 - accuracy: 0.6477 - precision: 0.3750 - recall: 0.1034 - auc: 0.3647 - prc: 0.2921 - val_loss: 0.7269 - val_tp: 1.0000 - val_fp: 1.0000 - val_tn: 25.0000 - val_fn: 18.0000 - val_accuracy: 0.5778 - val_precision: 0.5000 - val_recall: 0.0526 - val_auc: 0.2136 - val_prc: 0.2929 - 2s/epoch - 704ms/step\n",
      "Epoch 2/50\n",
      "3/3 - 0s - loss: 0.7115 - tp: 6.0000 - fp: 10.0000 - tn: 49.0000 - fn: 23.0000 - accuracy: 0.6250 - precision: 0.3750 - recall: 0.2069 - auc: 0.3635 - prc: 0.2749 - val_loss: 0.7196 - val_tp: 1.0000 - val_fp: 0.0000e+00 - val_tn: 26.0000 - val_fn: 18.0000 - val_accuracy: 0.6000 - val_precision: 1.0000 - val_recall: 0.0526 - val_auc: 0.2449 - val_prc: 0.3104 - 62ms/epoch - 21ms/step\n",
      "Epoch 3/50\n",
      "3/3 - 0s - loss: 0.6985 - tp: 1.0000 - fp: 7.0000 - tn: 52.0000 - fn: 28.0000 - accuracy: 0.6023 - precision: 0.1250 - recall: 0.0345 - auc: 0.4489 - prc: 0.3057 - val_loss: 0.7122 - val_tp: 1.0000 - val_fp: 0.0000e+00 - val_tn: 26.0000 - val_fn: 18.0000 - val_accuracy: 0.6000 - val_precision: 1.0000 - val_recall: 0.0526 - val_auc: 0.3158 - val_prc: 0.3440 - 69ms/epoch - 23ms/step\n",
      "Epoch 4/50\n",
      "3/3 - 0s - loss: 0.7052 - tp: 6.0000 - fp: 14.0000 - tn: 45.0000 - fn: 23.0000 - accuracy: 0.5795 - precision: 0.3000 - recall: 0.2069 - auc: 0.3872 - prc: 0.3561 - val_loss: 0.7051 - val_tp: 0.0000e+00 - val_fp: 0.0000e+00 - val_tn: 26.0000 - val_fn: 19.0000 - val_accuracy: 0.5778 - val_precision: 0.0000e+00 - val_recall: 0.0000e+00 - val_auc: 0.3583 - val_prc: 0.3638 - 66ms/epoch - 22ms/step\n",
      "Epoch 5/50\n",
      "3/3 - 0s - loss: 0.6821 - tp: 6.0000 - fp: 4.0000 - tn: 55.0000 - fn: 23.0000 - accuracy: 0.6932 - precision: 0.6000 - recall: 0.2069 - auc: 0.4246 - prc: 0.3843 - val_loss: 0.6986 - val_tp: 0.0000e+00 - val_fp: 0.0000e+00 - val_tn: 26.0000 - val_fn: 19.0000 - val_accuracy: 0.5778 - val_precision: 0.0000e+00 - val_recall: 0.0000e+00 - val_auc: 0.4342 - val_prc: 0.4739 - 62ms/epoch - 21ms/step\n",
      "Epoch 6/50\n",
      "3/3 - 0s - loss: 0.6789 - tp: 4.0000 - fp: 6.0000 - tn: 53.0000 - fn: 25.0000 - accuracy: 0.6477 - precision: 0.4000 - recall: 0.1379 - auc: 0.5088 - prc: 0.4082 - val_loss: 0.6918 - val_tp: 0.0000e+00 - val_fp: 0.0000e+00 - val_tn: 26.0000 - val_fn: 19.0000 - val_accuracy: 0.5778 - val_precision: 0.0000e+00 - val_recall: 0.0000e+00 - val_auc: 0.4909 - val_prc: 0.5057 - 61ms/epoch - 20ms/step\n",
      "Epoch 7/50\n",
      "3/3 - 0s - loss: 0.6777 - tp: 3.0000 - fp: 4.0000 - tn: 55.0000 - fn: 26.0000 - accuracy: 0.6591 - precision: 0.4286 - recall: 0.1034 - auc: 0.5015 - prc: 0.3962 - val_loss: 0.6852 - val_tp: 1.0000 - val_fp: 0.0000e+00 - val_tn: 26.0000 - val_fn: 18.0000 - val_accuracy: 0.6000 - val_precision: 1.0000 - val_recall: 0.0526 - val_auc: 0.5789 - val_prc: 0.5784 - 62ms/epoch - 21ms/step\n",
      "Epoch 8/50\n",
      "3/3 - 0s - loss: 0.6545 - tp: 7.0000 - fp: 4.0000 - tn: 55.0000 - fn: 22.0000 - accuracy: 0.7045 - precision: 0.6364 - recall: 0.2414 - auc: 0.6663 - prc: 0.5809 - val_loss: 0.6786 - val_tp: 3.0000 - val_fp: 0.0000e+00 - val_tn: 26.0000 - val_fn: 16.0000 - val_accuracy: 0.6444 - val_precision: 1.0000 - val_recall: 0.1579 - val_auc: 0.6478 - val_prc: 0.6057 - 64ms/epoch - 21ms/step\n",
      "Epoch 9/50\n",
      "3/3 - 0s - loss: 0.6629 - tp: 7.0000 - fp: 2.0000 - tn: 57.0000 - fn: 22.0000 - accuracy: 0.7273 - precision: 0.7778 - recall: 0.2414 - auc: 0.5932 - prc: 0.5482 - val_loss: 0.6716 - val_tp: 3.0000 - val_fp: 0.0000e+00 - val_tn: 26.0000 - val_fn: 16.0000 - val_accuracy: 0.6444 - val_precision: 1.0000 - val_recall: 0.1579 - val_auc: 0.7166 - val_prc: 0.6428 - 60ms/epoch - 20ms/step\n",
      "Epoch 10/50\n",
      "3/3 - 0s - loss: 0.6514 - tp: 4.0000 - fp: 2.0000 - tn: 57.0000 - fn: 25.0000 - accuracy: 0.6932 - precision: 0.6667 - recall: 0.1379 - auc: 0.7168 - prc: 0.5957 - val_loss: 0.6644 - val_tp: 3.0000 - val_fp: 1.0000 - val_tn: 25.0000 - val_fn: 16.0000 - val_accuracy: 0.6222 - val_precision: 0.7500 - val_recall: 0.1579 - val_auc: 0.7966 - val_prc: 0.7237 - 62ms/epoch - 21ms/step\n",
      "Epoch 11/50\n",
      "3/3 - 0s - loss: 0.6435 - tp: 9.0000 - fp: 3.0000 - tn: 56.0000 - fn: 20.0000 - accuracy: 0.7386 - precision: 0.7500 - recall: 0.3103 - auc: 0.7677 - prc: 0.6822 - val_loss: 0.6571 - val_tp: 5.0000 - val_fp: 1.0000 - val_tn: 25.0000 - val_fn: 14.0000 - val_accuracy: 0.6667 - val_precision: 0.8333 - val_recall: 0.2632 - val_auc: 0.8532 - val_prc: 0.7756 - 64ms/epoch - 21ms/step\n",
      "Epoch 12/50\n",
      "3/3 - 0s - loss: 0.6538 - tp: 5.0000 - fp: 4.0000 - tn: 55.0000 - fn: 24.0000 - accuracy: 0.6818 - precision: 0.5556 - recall: 0.1724 - auc: 0.6128 - prc: 0.4375 - val_loss: 0.6501 - val_tp: 5.0000 - val_fp: 1.0000 - val_tn: 25.0000 - val_fn: 14.0000 - val_accuracy: 0.6667 - val_precision: 0.8333 - val_recall: 0.2632 - val_auc: 0.8816 - val_prc: 0.8126 - 56ms/epoch - 19ms/step\n",
      "Epoch 13/50\n",
      "3/3 - 0s - loss: 0.6340 - tp: 10.0000 - fp: 4.0000 - tn: 55.0000 - fn: 19.0000 - accuracy: 0.7386 - precision: 0.7143 - recall: 0.3448 - auc: 0.8022 - prc: 0.7007 - val_loss: 0.6428 - val_tp: 8.0000 - val_fp: 1.0000 - val_tn: 25.0000 - val_fn: 11.0000 - val_accuracy: 0.7333 - val_precision: 0.8889 - val_recall: 0.4211 - val_auc: 0.8887 - val_prc: 0.8083 - 57ms/epoch - 19ms/step\n",
      "Epoch 14/50\n",
      "3/3 - 0s - loss: 0.6413 - tp: 7.0000 - fp: 2.0000 - tn: 57.0000 - fn: 22.0000 - accuracy: 0.7273 - precision: 0.7778 - recall: 0.2414 - auc: 0.6920 - prc: 0.6017 - val_loss: 0.6357 - val_tp: 8.0000 - val_fp: 1.0000 - val_tn: 25.0000 - val_fn: 11.0000 - val_accuracy: 0.7333 - val_precision: 0.8889 - val_recall: 0.4211 - val_auc: 0.9018 - val_prc: 0.8304 - 61ms/epoch - 20ms/step\n",
      "Epoch 15/50\n",
      "3/3 - 0s - loss: 0.6078 - tp: 10.0000 - fp: 3.0000 - tn: 56.0000 - fn: 19.0000 - accuracy: 0.7500 - precision: 0.7692 - recall: 0.3448 - auc: 0.8343 - prc: 0.7255 - val_loss: 0.6286 - val_tp: 9.0000 - val_fp: 1.0000 - val_tn: 25.0000 - val_fn: 10.0000 - val_accuracy: 0.7556 - val_precision: 0.9000 - val_recall: 0.4737 - val_auc: 0.9119 - val_prc: 0.8419 - 64ms/epoch - 21ms/step\n",
      "Epoch 16/50\n",
      "3/3 - 0s - loss: 0.6149 - tp: 11.0000 - fp: 1.0000 - tn: 58.0000 - fn: 18.0000 - accuracy: 0.7841 - precision: 0.9167 - recall: 0.3793 - auc: 0.7884 - prc: 0.7131 - val_loss: 0.6214 - val_tp: 10.0000 - val_fp: 1.0000 - val_tn: 25.0000 - val_fn: 9.0000 - val_accuracy: 0.7778 - val_precision: 0.9091 - val_recall: 0.5263 - val_auc: 0.9150 - val_prc: 0.8694 - 61ms/epoch - 20ms/step\n",
      "Epoch 17/50\n",
      "3/3 - 0s - loss: 0.6080 - tp: 11.0000 - fp: 4.0000 - tn: 55.0000 - fn: 18.0000 - accuracy: 0.7500 - precision: 0.7333 - recall: 0.3793 - auc: 0.8004 - prc: 0.6673 - val_loss: 0.6143 - val_tp: 10.0000 - val_fp: 1.0000 - val_tn: 25.0000 - val_fn: 9.0000 - val_accuracy: 0.7778 - val_precision: 0.9091 - val_recall: 0.5263 - val_auc: 0.9261 - val_prc: 0.8923 - 60ms/epoch - 20ms/step\n",
      "Epoch 18/50\n",
      "3/3 - 0s - loss: 0.6052 - tp: 10.0000 - fp: 0.0000e+00 - tn: 59.0000 - fn: 19.0000 - accuracy: 0.7841 - precision: 1.0000 - recall: 0.3448 - auc: 0.7984 - prc: 0.7382 - val_loss: 0.6075 - val_tp: 10.0000 - val_fp: 1.0000 - val_tn: 25.0000 - val_fn: 9.0000 - val_accuracy: 0.7778 - val_precision: 0.9091 - val_recall: 0.5263 - val_auc: 0.9211 - val_prc: 0.8822 - 61ms/epoch - 20ms/step\n",
      "Epoch 19/50\n",
      "3/3 - 0s - loss: 0.5915 - tp: 8.0000 - fp: 1.0000 - tn: 58.0000 - fn: 21.0000 - accuracy: 0.7500 - precision: 0.8889 - recall: 0.2759 - auc: 0.8600 - prc: 0.7595 - val_loss: 0.6003 - val_tp: 11.0000 - val_fp: 1.0000 - val_tn: 25.0000 - val_fn: 8.0000 - val_accuracy: 0.8000 - val_precision: 0.9167 - val_recall: 0.5789 - val_auc: 0.9231 - val_prc: 0.8922 - 60ms/epoch - 20ms/step\n",
      "Epoch 20/50\n",
      "3/3 - 0s - loss: 0.5892 - tp: 9.0000 - fp: 0.0000e+00 - tn: 59.0000 - fn: 20.0000 - accuracy: 0.7727 - precision: 1.0000 - recall: 0.3103 - auc: 0.8428 - prc: 0.7420 - val_loss: 0.5935 - val_tp: 11.0000 - val_fp: 1.0000 - val_tn: 25.0000 - val_fn: 8.0000 - val_accuracy: 0.8000 - val_precision: 0.9167 - val_recall: 0.5789 - val_auc: 0.9221 - val_prc: 0.8880 - 56ms/epoch - 19ms/step\n",
      "Epoch 21/50\n",
      "3/3 - 0s - loss: 0.5740 - tp: 10.0000 - fp: 2.0000 - tn: 57.0000 - fn: 19.0000 - accuracy: 0.7614 - precision: 0.8333 - recall: 0.3448 - auc: 0.8533 - prc: 0.7457 - val_loss: 0.5866 - val_tp: 11.0000 - val_fp: 1.0000 - val_tn: 25.0000 - val_fn: 8.0000 - val_accuracy: 0.8000 - val_precision: 0.9167 - val_recall: 0.5789 - val_auc: 0.9231 - val_prc: 0.8922 - 60ms/epoch - 20ms/step\n"
     ]
    },
    {
     "name": "stdout",
     "output_type": "stream",
     "text": [
      "Epoch 22/50\n",
      "3/3 - 0s - loss: 0.5622 - tp: 12.0000 - fp: 3.0000 - tn: 56.0000 - fn: 17.0000 - accuracy: 0.7727 - precision: 0.8000 - recall: 0.4138 - auc: 0.8770 - prc: 0.7968 - val_loss: 0.5797 - val_tp: 12.0000 - val_fp: 1.0000 - val_tn: 25.0000 - val_fn: 7.0000 - val_accuracy: 0.8222 - val_precision: 0.9231 - val_recall: 0.6316 - val_auc: 0.9271 - val_prc: 0.9055 - 63ms/epoch - 21ms/step\n",
      "Epoch 23/50\n",
      "3/3 - 0s - loss: 0.5555 - tp: 12.0000 - fp: 0.0000e+00 - tn: 59.0000 - fn: 17.0000 - accuracy: 0.8068 - precision: 1.0000 - recall: 0.4138 - auc: 0.9036 - prc: 0.8624 - val_loss: 0.5725 - val_tp: 13.0000 - val_fp: 1.0000 - val_tn: 25.0000 - val_fn: 6.0000 - val_accuracy: 0.8444 - val_precision: 0.9286 - val_recall: 0.6842 - val_auc: 0.9251 - val_prc: 0.9010 - 59ms/epoch - 20ms/step\n",
      "Epoch 24/50\n",
      "3/3 - 0s - loss: 0.5419 - tp: 14.0000 - fp: 2.0000 - tn: 57.0000 - fn: 15.0000 - accuracy: 0.8068 - precision: 0.8750 - recall: 0.4828 - auc: 0.9363 - prc: 0.8822 - val_loss: 0.5653 - val_tp: 13.0000 - val_fp: 1.0000 - val_tn: 25.0000 - val_fn: 6.0000 - val_accuracy: 0.8444 - val_precision: 0.9286 - val_recall: 0.6842 - val_auc: 0.9302 - val_prc: 0.9131 - 63ms/epoch - 21ms/step\n",
      "Epoch 25/50\n",
      "3/3 - 0s - loss: 0.5349 - tp: 17.0000 - fp: 1.0000 - tn: 58.0000 - fn: 12.0000 - accuracy: 0.8523 - precision: 0.9444 - recall: 0.5862 - auc: 0.9217 - prc: 0.8836 - val_loss: 0.5580 - val_tp: 13.0000 - val_fp: 1.0000 - val_tn: 25.0000 - val_fn: 6.0000 - val_accuracy: 0.8444 - val_precision: 0.9286 - val_recall: 0.6842 - val_auc: 0.9271 - val_prc: 0.9116 - 58ms/epoch - 19ms/step\n",
      "Epoch 26/50\n",
      "3/3 - 0s - loss: 0.5441 - tp: 16.0000 - fp: 0.0000e+00 - tn: 59.0000 - fn: 13.0000 - accuracy: 0.8523 - precision: 1.0000 - recall: 0.5517 - auc: 0.9202 - prc: 0.8932 - val_loss: 0.5508 - val_tp: 15.0000 - val_fp: 1.0000 - val_tn: 25.0000 - val_fn: 4.0000 - val_accuracy: 0.8889 - val_precision: 0.9375 - val_recall: 0.7895 - val_auc: 0.9271 - val_prc: 0.9142 - 60ms/epoch - 20ms/step\n",
      "Epoch 27/50\n",
      "3/3 - 0s - loss: 0.5292 - tp: 15.0000 - fp: 2.0000 - tn: 57.0000 - fn: 14.0000 - accuracy: 0.8182 - precision: 0.8824 - recall: 0.5172 - auc: 0.9062 - prc: 0.8513 - val_loss: 0.5436 - val_tp: 15.0000 - val_fp: 1.0000 - val_tn: 25.0000 - val_fn: 4.0000 - val_accuracy: 0.8889 - val_precision: 0.9375 - val_recall: 0.7895 - val_auc: 0.9241 - val_prc: 0.9127 - 59ms/epoch - 20ms/step\n",
      "Epoch 28/50\n",
      "3/3 - 0s - loss: 0.4993 - tp: 15.0000 - fp: 4.0000 - tn: 55.0000 - fn: 14.0000 - accuracy: 0.7955 - precision: 0.7895 - recall: 0.5172 - auc: 0.9413 - prc: 0.8852 - val_loss: 0.5364 - val_tp: 15.0000 - val_fp: 1.0000 - val_tn: 25.0000 - val_fn: 4.0000 - val_accuracy: 0.8889 - val_precision: 0.9375 - val_recall: 0.7895 - val_auc: 0.9261 - val_prc: 0.9143 - 58ms/epoch - 19ms/step\n",
      "Epoch 29/50\n",
      "3/3 - 0s - loss: 0.5268 - tp: 15.0000 - fp: 3.0000 - tn: 56.0000 - fn: 14.0000 - accuracy: 0.8068 - precision: 0.8333 - recall: 0.5172 - auc: 0.9150 - prc: 0.8413 - val_loss: 0.5292 - val_tp: 16.0000 - val_fp: 1.0000 - val_tn: 25.0000 - val_fn: 3.0000 - val_accuracy: 0.9111 - val_precision: 0.9412 - val_recall: 0.8421 - val_auc: 0.9241 - val_prc: 0.9127 - 61ms/epoch - 20ms/step\n",
      "Epoch 30/50\n",
      "3/3 - 0s - loss: 0.4907 - tp: 17.0000 - fp: 0.0000e+00 - tn: 59.0000 - fn: 12.0000 - accuracy: 0.8636 - precision: 1.0000 - recall: 0.5862 - auc: 0.9378 - prc: 0.9115 - val_loss: 0.5220 - val_tp: 16.0000 - val_fp: 1.0000 - val_tn: 25.0000 - val_fn: 3.0000 - val_accuracy: 0.9111 - val_precision: 0.9412 - val_recall: 0.8421 - val_auc: 0.9241 - val_prc: 0.9132 - 56ms/epoch - 19ms/step\n",
      "Epoch 31/50\n",
      "3/3 - 0s - loss: 0.4828 - tp: 15.0000 - fp: 1.0000 - tn: 58.0000 - fn: 14.0000 - accuracy: 0.8295 - precision: 0.9375 - recall: 0.5172 - auc: 0.9234 - prc: 0.8796 - val_loss: 0.5152 - val_tp: 16.0000 - val_fp: 1.0000 - val_tn: 25.0000 - val_fn: 3.0000 - val_accuracy: 0.9111 - val_precision: 0.9412 - val_recall: 0.8421 - val_auc: 0.9241 - val_prc: 0.9139 - 59ms/epoch - 20ms/step\n",
      "Epoch 32/50\n",
      "3/3 - 0s - loss: 0.4696 - tp: 21.0000 - fp: 3.0000 - tn: 56.0000 - fn: 8.0000 - accuracy: 0.8750 - precision: 0.8750 - recall: 0.7241 - auc: 0.9299 - prc: 0.8827 - val_loss: 0.5083 - val_tp: 16.0000 - val_fp: 1.0000 - val_tn: 25.0000 - val_fn: 3.0000 - val_accuracy: 0.9111 - val_precision: 0.9412 - val_recall: 0.8421 - val_auc: 0.9241 - val_prc: 0.9139 - 60ms/epoch - 20ms/step\n",
      "Epoch 33/50\n",
      "3/3 - 0s - loss: 0.4668 - tp: 21.0000 - fp: 2.0000 - tn: 57.0000 - fn: 8.0000 - accuracy: 0.8864 - precision: 0.9130 - recall: 0.7241 - auc: 0.9483 - prc: 0.9160 - val_loss: 0.5013 - val_tp: 16.0000 - val_fp: 1.0000 - val_tn: 25.0000 - val_fn: 3.0000 - val_accuracy: 0.9111 - val_precision: 0.9412 - val_recall: 0.8421 - val_auc: 0.9221 - val_prc: 0.9129 - 56ms/epoch - 19ms/step\n",
      "Epoch 34/50\n",
      "3/3 - 0s - loss: 0.4763 - tp: 21.0000 - fp: 1.0000 - tn: 58.0000 - fn: 8.0000 - accuracy: 0.8977 - precision: 0.9545 - recall: 0.7241 - auc: 0.9307 - prc: 0.9024 - val_loss: 0.4945 - val_tp: 16.0000 - val_fp: 1.0000 - val_tn: 25.0000 - val_fn: 3.0000 - val_accuracy: 0.9111 - val_precision: 0.9412 - val_recall: 0.8421 - val_auc: 0.9231 - val_prc: 0.9134 - 57ms/epoch - 19ms/step\n",
      "Epoch 35/50\n",
      "3/3 - 0s - loss: 0.4491 - tp: 19.0000 - fp: 1.0000 - tn: 58.0000 - fn: 10.0000 - accuracy: 0.8750 - precision: 0.9500 - recall: 0.6552 - auc: 0.9538 - prc: 0.9363 - val_loss: 0.4881 - val_tp: 16.0000 - val_fp: 1.0000 - val_tn: 25.0000 - val_fn: 3.0000 - val_accuracy: 0.9111 - val_precision: 0.9412 - val_recall: 0.8421 - val_auc: 0.9221 - val_prc: 0.9129 - 57ms/epoch - 19ms/step\n",
      "Epoch 36/50\n",
      "3/3 - 0s - loss: 0.4537 - tp: 18.0000 - fp: 3.0000 - tn: 56.0000 - fn: 11.0000 - accuracy: 0.8409 - precision: 0.8571 - recall: 0.6207 - auc: 0.9264 - prc: 0.8875 - val_loss: 0.4817 - val_tp: 16.0000 - val_fp: 1.0000 - val_tn: 25.0000 - val_fn: 3.0000 - val_accuracy: 0.9111 - val_precision: 0.9412 - val_recall: 0.8421 - val_auc: 0.9231 - val_prc: 0.9156 - 59ms/epoch - 20ms/step\n",
      "Epoch 37/50\n",
      "3/3 - 0s - loss: 0.4549 - tp: 24.0000 - fp: 2.0000 - tn: 57.0000 - fn: 5.0000 - accuracy: 0.9205 - precision: 0.9231 - recall: 0.8276 - auc: 0.9494 - prc: 0.9436 - val_loss: 0.4757 - val_tp: 16.0000 - val_fp: 1.0000 - val_tn: 25.0000 - val_fn: 3.0000 - val_accuracy: 0.9111 - val_precision: 0.9412 - val_recall: 0.8421 - val_auc: 0.9241 - val_prc: 0.9185 - 60ms/epoch - 20ms/step\n",
      "Epoch 38/50\n",
      "3/3 - 0s - loss: 0.4309 - tp: 22.0000 - fp: 1.0000 - tn: 58.0000 - fn: 7.0000 - accuracy: 0.9091 - precision: 0.9565 - recall: 0.7586 - auc: 0.9655 - prc: 0.9469 - val_loss: 0.4697 - val_tp: 16.0000 - val_fp: 1.0000 - val_tn: 25.0000 - val_fn: 3.0000 - val_accuracy: 0.9111 - val_precision: 0.9412 - val_recall: 0.8421 - val_auc: 0.9251 - val_prc: 0.9197 - 57ms/epoch - 19ms/step\n",
      "Epoch 39/50\n",
      "3/3 - 0s - loss: 0.4266 - tp: 20.0000 - fp: 0.0000e+00 - tn: 59.0000 - fn: 9.0000 - accuracy: 0.8977 - precision: 1.0000 - recall: 0.6897 - auc: 0.9483 - prc: 0.9238 - val_loss: 0.4637 - val_tp: 16.0000 - val_fp: 1.0000 - val_tn: 25.0000 - val_fn: 3.0000 - val_accuracy: 0.9111 - val_precision: 0.9412 - val_recall: 0.8421 - val_auc: 0.9241 - val_prc: 0.9192 - 57ms/epoch - 19ms/step\n",
      "Epoch 40/50\n",
      "3/3 - 0s - loss: 0.4427 - tp: 20.0000 - fp: 2.0000 - tn: 57.0000 - fn: 9.0000 - accuracy: 0.8750 - precision: 0.9091 - recall: 0.6897 - auc: 0.9252 - prc: 0.9012 - val_loss: 0.4580 - val_tp: 16.0000 - val_fp: 1.0000 - val_tn: 25.0000 - val_fn: 3.0000 - val_accuracy: 0.9111 - val_precision: 0.9412 - val_recall: 0.8421 - val_auc: 0.9241 - val_prc: 0.9192 - 62ms/epoch - 21ms/step\n",
      "Epoch 41/50\n",
      "3/3 - 0s - loss: 0.4187 - tp: 23.0000 - fp: 2.0000 - tn: 57.0000 - fn: 6.0000 - accuracy: 0.9091 - precision: 0.9200 - recall: 0.7931 - auc: 0.9594 - prc: 0.9395 - val_loss: 0.4524 - val_tp: 16.0000 - val_fp: 1.0000 - val_tn: 25.0000 - val_fn: 3.0000 - val_accuracy: 0.9111 - val_precision: 0.9412 - val_recall: 0.8421 - val_auc: 0.9251 - val_prc: 0.9204 - 58ms/epoch - 19ms/step\n",
      "Epoch 42/50\n",
      "3/3 - 0s - loss: 0.4191 - tp: 22.0000 - fp: 1.0000 - tn: 58.0000 - fn: 7.0000 - accuracy: 0.9091 - precision: 0.9565 - recall: 0.7586 - auc: 0.9646 - prc: 0.9431 - val_loss: 0.4469 - val_tp: 16.0000 - val_fp: 1.0000 - val_tn: 25.0000 - val_fn: 3.0000 - val_accuracy: 0.9111 - val_precision: 0.9412 - val_recall: 0.8421 - val_auc: 0.9231 - val_prc: 0.9187 - 59ms/epoch - 20ms/step\n"
     ]
    },
    {
     "name": "stdout",
     "output_type": "stream",
     "text": [
      "Epoch 43/50\n",
      "3/3 - 0s - loss: 0.4300 - tp: 22.0000 - fp: 2.0000 - tn: 57.0000 - fn: 7.0000 - accuracy: 0.8977 - precision: 0.9167 - recall: 0.7586 - auc: 0.9465 - prc: 0.9287 - val_loss: 0.4416 - val_tp: 16.0000 - val_fp: 1.0000 - val_tn: 25.0000 - val_fn: 3.0000 - val_accuracy: 0.9111 - val_precision: 0.9412 - val_recall: 0.8421 - val_auc: 0.9251 - val_prc: 0.9204 - 79ms/epoch - 26ms/step\n",
      "Epoch 44/50\n",
      "3/3 - 0s - loss: 0.4155 - tp: 25.0000 - fp: 2.0000 - tn: 57.0000 - fn: 4.0000 - accuracy: 0.9318 - precision: 0.9259 - recall: 0.8621 - auc: 0.9483 - prc: 0.9435 - val_loss: 0.4364 - val_tp: 16.0000 - val_fp: 1.0000 - val_tn: 25.0000 - val_fn: 3.0000 - val_accuracy: 0.9111 - val_precision: 0.9412 - val_recall: 0.8421 - val_auc: 0.9241 - val_prc: 0.9199 - 110ms/epoch - 37ms/step\n",
      "Epoch 45/50\n",
      "3/3 - 0s - loss: 0.3822 - tp: 21.0000 - fp: 3.0000 - tn: 56.0000 - fn: 8.0000 - accuracy: 0.8750 - precision: 0.8750 - recall: 0.7241 - auc: 0.9459 - prc: 0.9185 - val_loss: 0.4317 - val_tp: 16.0000 - val_fp: 1.0000 - val_tn: 25.0000 - val_fn: 3.0000 - val_accuracy: 0.9111 - val_precision: 0.9412 - val_recall: 0.8421 - val_auc: 0.9251 - val_prc: 0.9204 - 59ms/epoch - 20ms/step\n",
      "Epoch 46/50\n",
      "3/3 - 0s - loss: 0.3789 - tp: 19.0000 - fp: 3.0000 - tn: 56.0000 - fn: 10.0000 - accuracy: 0.8523 - precision: 0.8636 - recall: 0.6552 - auc: 0.9459 - prc: 0.9104 - val_loss: 0.4270 - val_tp: 16.0000 - val_fp: 1.0000 - val_tn: 25.0000 - val_fn: 3.0000 - val_accuracy: 0.9111 - val_precision: 0.9412 - val_recall: 0.8421 - val_auc: 0.9241 - val_prc: 0.9199 - 60ms/epoch - 20ms/step\n",
      "Epoch 47/50\n",
      "3/3 - 0s - loss: 0.4005 - tp: 24.0000 - fp: 2.0000 - tn: 57.0000 - fn: 5.0000 - accuracy: 0.9205 - precision: 0.9231 - recall: 0.8276 - auc: 0.9465 - prc: 0.9439 - val_loss: 0.4226 - val_tp: 16.0000 - val_fp: 1.0000 - val_tn: 25.0000 - val_fn: 3.0000 - val_accuracy: 0.9111 - val_precision: 0.9412 - val_recall: 0.8421 - val_auc: 0.9241 - val_prc: 0.9199 - 58ms/epoch - 19ms/step\n",
      "Epoch 48/50\n",
      "3/3 - 0s - loss: 0.3799 - tp: 24.0000 - fp: 3.0000 - tn: 56.0000 - fn: 5.0000 - accuracy: 0.9091 - precision: 0.8889 - recall: 0.8276 - auc: 0.9512 - prc: 0.9145 - val_loss: 0.4181 - val_tp: 16.0000 - val_fp: 1.0000 - val_tn: 25.0000 - val_fn: 3.0000 - val_accuracy: 0.9111 - val_precision: 0.9412 - val_recall: 0.8421 - val_auc: 0.9241 - val_prc: 0.9199 - 60ms/epoch - 20ms/step\n",
      "Epoch 49/50\n",
      "3/3 - 0s - loss: 0.3733 - tp: 23.0000 - fp: 3.0000 - tn: 56.0000 - fn: 6.0000 - accuracy: 0.8977 - precision: 0.8846 - recall: 0.7931 - auc: 0.9588 - prc: 0.9388 - val_loss: 0.4139 - val_tp: 16.0000 - val_fp: 1.0000 - val_tn: 25.0000 - val_fn: 3.0000 - val_accuracy: 0.9111 - val_precision: 0.9412 - val_recall: 0.8421 - val_auc: 0.9241 - val_prc: 0.9199 - 62ms/epoch - 21ms/step\n",
      "Epoch 50/50\n",
      "3/3 - 0s - loss: 0.3677 - tp: 21.0000 - fp: 4.0000 - tn: 55.0000 - fn: 8.0000 - accuracy: 0.8636 - precision: 0.8400 - recall: 0.7241 - auc: 0.9530 - prc: 0.9258 - val_loss: 0.4098 - val_tp: 16.0000 - val_fp: 1.0000 - val_tn: 25.0000 - val_fn: 3.0000 - val_accuracy: 0.9111 - val_precision: 0.9412 - val_recall: 0.8421 - val_auc: 0.9241 - val_prc: 0.9199 - 56ms/epoch - 19ms/step\n"
     ]
    },
    {
     "data": {
      "image/png": "[encoded data removed]",
      "text/plain": [
       "<Figure size 640x480 with 1 Axes>"
      ]
     },
     "metadata": {},
     "output_type": "display_data"
    },
    {
     "name": "stdout",
     "output_type": "stream",
     "text": [
      "loss :  0.4098343253135681\n",
      "tp :  16.0\n",
      "fp :  1.0\n",
      "tn :  25.0\n",
      "fn :  3.0\n",
      "accuracy :  0.9111111164093018\n",
      "Accuracy on validation set: 0.9111111164093018\n",
      "precision :  0.9411764740943909\n",
      "recall :  0.8421052694320679\n",
      "auc :  0.9240890145301819\n",
      "prc :  0.919893741607666\n",
      "Epoch 1/50\n",
      "3/3 - 2s - loss: 0.7267 - tp: 17.0000 - fp: 4.0000 - tn: 80.0000 - fn: 33.0000 - accuracy: 0.7239 - precision: 0.8095 - recall: 0.3400 - auc: 0.6130 - prc: 0.6150 - val_loss: 0.6894 - val_tp: 0.0000e+00 - val_fp: 0.0000e+00 - val_tn: 27.0000 - val_fn: 17.0000 - val_accuracy: 0.6136 - val_precision: 0.0000e+00 - val_recall: 0.0000e+00 - val_auc: 0.4107 - val_prc: 0.3305 - 2s/epoch - 670ms/step\n",
      "Epoch 2/50\n",
      "3/3 - 0s - loss: 0.6710 - tp: 3.0000 - fp: 0.0000e+00 - tn: 58.0000 - fn: 28.0000 - accuracy: 0.6854 - precision: 1.0000 - recall: 0.0968 - auc: 0.4611 - prc: 0.4352 - val_loss: 0.6766 - val_tp: 0.0000e+00 - val_fp: 0.0000e+00 - val_tn: 27.0000 - val_fn: 17.0000 - val_accuracy: 0.6136 - val_precision: 0.0000e+00 - val_recall: 0.0000e+00 - val_auc: 0.5033 - val_prc: 0.3855 - 55ms/epoch - 18ms/step\n",
      "Epoch 3/50\n",
      "3/3 - 0s - loss: 0.6760 - tp: 2.0000 - fp: 1.0000 - tn: 57.0000 - fn: 29.0000 - accuracy: 0.6629 - precision: 0.6667 - recall: 0.0645 - auc: 0.4447 - prc: 0.4109 - val_loss: 0.6642 - val_tp: 0.0000e+00 - val_fp: 0.0000e+00 - val_tn: 27.0000 - val_fn: 17.0000 - val_accuracy: 0.6136 - val_precision: 0.0000e+00 - val_recall: 0.0000e+00 - val_auc: 0.5773 - val_prc: 0.4221 - 64ms/epoch - 21ms/step\n",
      "Epoch 4/50\n",
      "3/3 - 0s - loss: 0.6567 - tp: 2.0000 - fp: 0.0000e+00 - tn: 58.0000 - fn: 29.0000 - accuracy: 0.6742 - precision: 1.0000 - recall: 0.0645 - auc: 0.5384 - prc: 0.4731 - val_loss: 0.6531 - val_tp: 0.0000e+00 - val_fp: 0.0000e+00 - val_tn: 27.0000 - val_fn: 17.0000 - val_accuracy: 0.6136 - val_precision: 0.0000e+00 - val_recall: 0.0000e+00 - val_auc: 0.6471 - val_prc: 0.4617 - 61ms/epoch - 20ms/step\n",
      "Epoch 5/50\n",
      "3/3 - 0s - loss: 0.6416 - tp: 6.0000 - fp: 0.0000e+00 - tn: 58.0000 - fn: 25.0000 - accuracy: 0.7191 - precision: 1.0000 - recall: 0.1935 - auc: 0.5907 - prc: 0.5241 - val_loss: 0.6428 - val_tp: 0.0000e+00 - val_fp: 0.0000e+00 - val_tn: 27.0000 - val_fn: 17.0000 - val_accuracy: 0.6136 - val_precision: 0.0000e+00 - val_recall: 0.0000e+00 - val_auc: 0.6895 - val_prc: 0.5036 - 61ms/epoch - 20ms/step\n",
      "Epoch 6/50\n",
      "3/3 - 0s - loss: 0.6605 - tp: 3.0000 - fp: 1.0000 - tn: 57.0000 - fn: 28.0000 - accuracy: 0.6742 - precision: 0.7500 - recall: 0.0968 - auc: 0.5083 - prc: 0.4255 - val_loss: 0.6326 - val_tp: 0.0000e+00 - val_fp: 0.0000e+00 - val_tn: 27.0000 - val_fn: 17.0000 - val_accuracy: 0.6136 - val_precision: 0.0000e+00 - val_recall: 0.0000e+00 - val_auc: 0.7603 - val_prc: 0.6176 - 61ms/epoch - 20ms/step\n",
      "Epoch 7/50\n",
      "3/3 - 0s - loss: 0.6416 - tp: 3.0000 - fp: 1.0000 - tn: 57.0000 - fn: 28.0000 - accuracy: 0.6742 - precision: 0.7500 - recall: 0.0968 - auc: 0.6148 - prc: 0.5244 - val_loss: 0.6229 - val_tp: 0.0000e+00 - val_fp: 0.0000e+00 - val_tn: 27.0000 - val_fn: 17.0000 - val_accuracy: 0.6136 - val_precision: 0.0000e+00 - val_recall: 0.0000e+00 - val_auc: 0.7908 - val_prc: 0.6843 - 60ms/epoch - 20ms/step\n",
      "Epoch 8/50\n",
      "3/3 - 0s - loss: 0.5893 - tp: 6.0000 - fp: 2.0000 - tn: 56.0000 - fn: 25.0000 - accuracy: 0.6966 - precision: 0.7500 - recall: 0.1935 - auc: 0.7773 - prc: 0.6841 - val_loss: 0.6132 - val_tp: 1.0000 - val_fp: 0.0000e+00 - val_tn: 27.0000 - val_fn: 16.0000 - val_accuracy: 0.6364 - val_precision: 1.0000 - val_recall: 0.0588 - val_auc: 0.8312 - val_prc: 0.7766 - 61ms/epoch - 20ms/step\n",
      "Epoch 9/50\n",
      "3/3 - 0s - loss: 0.6249 - tp: 4.0000 - fp: 1.0000 - tn: 57.0000 - fn: 27.0000 - accuracy: 0.6854 - precision: 0.8000 - recall: 0.1290 - auc: 0.6157 - prc: 0.5502 - val_loss: 0.6038 - val_tp: 2.0000 - val_fp: 0.0000e+00 - val_tn: 27.0000 - val_fn: 15.0000 - val_accuracy: 0.6591 - val_precision: 1.0000 - val_recall: 0.1176 - val_auc: 0.8540 - val_prc: 0.8185 - 73ms/epoch - 24ms/step\n",
      "Epoch 10/50\n",
      "3/3 - 0s - loss: 0.5977 - tp: 5.0000 - fp: 1.0000 - tn: 57.0000 - fn: 26.0000 - accuracy: 0.6966 - precision: 0.8333 - recall: 0.1613 - auc: 0.7456 - prc: 0.6308 - val_loss: 0.5948 - val_tp: 6.0000 - val_fp: 0.0000e+00 - val_tn: 27.0000 - val_fn: 11.0000 - val_accuracy: 0.7500 - val_precision: 1.0000 - val_recall: 0.3529 - val_auc: 0.8638 - val_prc: 0.8267 - 60ms/epoch - 20ms/step\n",
      "Epoch 11/50\n",
      "3/3 - 0s - loss: 0.5552 - tp: 13.0000 - fp: 0.0000e+00 - tn: 58.0000 - fn: 18.0000 - accuracy: 0.7978 - precision: 1.0000 - recall: 0.4194 - auc: 0.8412 - prc: 0.7732 - val_loss: 0.5856 - val_tp: 6.0000 - val_fp: 0.0000e+00 - val_tn: 27.0000 - val_fn: 11.0000 - val_accuracy: 0.7500 - val_precision: 1.0000 - val_recall: 0.3529 - val_auc: 0.8736 - val_prc: 0.8420 - 58ms/epoch - 19ms/step\n",
      "Epoch 12/50\n",
      "3/3 - 0s - loss: 0.5915 - tp: 3.0000 - fp: 0.0000e+00 - tn: 58.0000 - fn: 28.0000 - accuracy: 0.6854 - precision: 1.0000 - recall: 0.0968 - auc: 0.7147 - prc: 0.5532 - val_loss: 0.5768 - val_tp: 6.0000 - val_fp: 0.0000e+00 - val_tn: 27.0000 - val_fn: 11.0000 - val_accuracy: 0.7500 - val_precision: 1.0000 - val_recall: 0.3529 - val_auc: 0.8932 - val_prc: 0.8745 - 57ms/epoch - 19ms/step\n",
      "Epoch 13/50\n",
      "3/3 - 0s - loss: 0.5534 - tp: 8.0000 - fp: 1.0000 - tn: 57.0000 - fn: 23.0000 - accuracy: 0.7303 - precision: 0.8889 - recall: 0.2581 - auc: 0.8562 - prc: 0.7775 - val_loss: 0.5686 - val_tp: 7.0000 - val_fp: 0.0000e+00 - val_tn: 27.0000 - val_fn: 10.0000 - val_accuracy: 0.7727 - val_precision: 1.0000 - val_recall: 0.4118 - val_auc: 0.8998 - val_prc: 0.8875 - 56ms/epoch - 19ms/step\n",
      "Epoch 14/50\n",
      "3/3 - 0s - loss: 0.5789 - tp: 8.0000 - fp: 2.0000 - tn: 56.0000 - fn: 23.0000 - accuracy: 0.7191 - precision: 0.8000 - recall: 0.2581 - auc: 0.7739 - prc: 0.7056 - val_loss: 0.5610 - val_tp: 9.0000 - val_fp: 0.0000e+00 - val_tn: 27.0000 - val_fn: 8.0000 - val_accuracy: 0.8182 - val_precision: 1.0000 - val_recall: 0.5294 - val_auc: 0.9020 - val_prc: 0.8912 - 58ms/epoch - 19ms/step\n",
      "Epoch 15/50\n",
      "3/3 - 0s - loss: 0.5231 - tp: 9.0000 - fp: 0.0000e+00 - tn: 58.0000 - fn: 22.0000 - accuracy: 0.7528 - precision: 1.0000 - recall: 0.2903 - auc: 0.8968 - prc: 0.8319 - val_loss: 0.5537 - val_tp: 9.0000 - val_fp: 0.0000e+00 - val_tn: 27.0000 - val_fn: 8.0000 - val_accuracy: 0.8182 - val_precision: 1.0000 - val_recall: 0.5294 - val_auc: 0.9031 - val_prc: 0.8963 - 61ms/epoch - 20ms/step\n",
      "Epoch 16/50\n",
      "3/3 - 0s - loss: 0.5275 - tp: 11.0000 - fp: 1.0000 - tn: 57.0000 - fn: 20.0000 - accuracy: 0.7640 - precision: 0.9167 - recall: 0.3548 - auc: 0.8757 - prc: 0.8119 - val_loss: 0.5467 - val_tp: 10.0000 - val_fp: 0.0000e+00 - val_tn: 27.0000 - val_fn: 7.0000 - val_accuracy: 0.8409 - val_precision: 1.0000 - val_recall: 0.5882 - val_auc: 0.9031 - val_prc: 0.8967 - 60ms/epoch - 20ms/step\n",
      "Epoch 17/50\n",
      "3/3 - 0s - loss: 0.5072 - tp: 12.0000 - fp: 1.0000 - tn: 57.0000 - fn: 19.0000 - accuracy: 0.7753 - precision: 0.9231 - recall: 0.3871 - auc: 0.9074 - prc: 0.8166 - val_loss: 0.5400 - val_tp: 10.0000 - val_fp: 0.0000e+00 - val_tn: 27.0000 - val_fn: 7.0000 - val_accuracy: 0.8409 - val_precision: 1.0000 - val_recall: 0.5882 - val_auc: 0.9041 - val_prc: 0.8979 - 55ms/epoch - 18ms/step\n",
      "Epoch 18/50\n",
      "3/3 - 0s - loss: 0.5164 - tp: 15.0000 - fp: 1.0000 - tn: 57.0000 - fn: 16.0000 - accuracy: 0.8090 - precision: 0.9375 - recall: 0.4839 - auc: 0.8854 - prc: 0.7594 - val_loss: 0.5337 - val_tp: 10.0000 - val_fp: 0.0000e+00 - val_tn: 27.0000 - val_fn: 7.0000 - val_accuracy: 0.8409 - val_precision: 1.0000 - val_recall: 0.5882 - val_auc: 0.9074 - val_prc: 0.9052 - 59ms/epoch - 20ms/step\n",
      "Epoch 19/50\n",
      "3/3 - 0s - loss: 0.5046 - tp: 11.0000 - fp: 0.0000e+00 - tn: 58.0000 - fn: 20.0000 - accuracy: 0.7753 - precision: 1.0000 - recall: 0.3548 - auc: 0.9068 - prc: 0.8439 - val_loss: 0.5273 - val_tp: 10.0000 - val_fp: 0.0000e+00 - val_tn: 27.0000 - val_fn: 7.0000 - val_accuracy: 0.8409 - val_precision: 1.0000 - val_recall: 0.5882 - val_auc: 0.9074 - val_prc: 0.9062 - 62ms/epoch - 21ms/step\n",
      "Epoch 20/50\n",
      "3/3 - 0s - loss: 0.4898 - tp: 17.0000 - fp: 1.0000 - tn: 57.0000 - fn: 14.0000 - accuracy: 0.8315 - precision: 0.9444 - recall: 0.5484 - auc: 0.9024 - prc: 0.8693 - val_loss: 0.5214 - val_tp: 11.0000 - val_fp: 0.0000e+00 - val_tn: 27.0000 - val_fn: 6.0000 - val_accuracy: 0.8636 - val_precision: 1.0000 - val_recall: 0.6471 - val_auc: 0.9085 - val_prc: 0.9078 - 56ms/epoch - 19ms/step\n"
     ]
    },
    {
     "name": "stdout",
     "output_type": "stream",
     "text": [
      "Epoch 21/50\n",
      "3/3 - 0s - loss: 0.4892 - tp: 15.0000 - fp: 1.0000 - tn: 57.0000 - fn: 16.0000 - accuracy: 0.8090 - precision: 0.9375 - recall: 0.4839 - auc: 0.9283 - prc: 0.8838 - val_loss: 0.5155 - val_tp: 12.0000 - val_fp: 0.0000e+00 - val_tn: 27.0000 - val_fn: 5.0000 - val_accuracy: 0.8864 - val_precision: 1.0000 - val_recall: 0.7059 - val_auc: 0.9096 - val_prc: 0.9092 - 55ms/epoch - 18ms/step\n",
      "Epoch 22/50\n",
      "3/3 - 0s - loss: 0.4826 - tp: 13.0000 - fp: 1.0000 - tn: 57.0000 - fn: 18.0000 - accuracy: 0.7865 - precision: 0.9286 - recall: 0.4194 - auc: 0.9121 - prc: 0.8747 - val_loss: 0.5098 - val_tp: 12.0000 - val_fp: 0.0000e+00 - val_tn: 27.0000 - val_fn: 5.0000 - val_accuracy: 0.8864 - val_precision: 1.0000 - val_recall: 0.7059 - val_auc: 0.9096 - val_prc: 0.9098 - 60ms/epoch - 20ms/step\n",
      "Epoch 23/50\n",
      "3/3 - 0s - loss: 0.4706 - tp: 14.0000 - fp: 1.0000 - tn: 57.0000 - fn: 17.0000 - accuracy: 0.7978 - precision: 0.9333 - recall: 0.4516 - auc: 0.9502 - prc: 0.9085 - val_loss: 0.5043 - val_tp: 12.0000 - val_fp: 0.0000e+00 - val_tn: 27.0000 - val_fn: 5.0000 - val_accuracy: 0.8864 - val_precision: 1.0000 - val_recall: 0.7059 - val_auc: 0.9096 - val_prc: 0.9098 - 60ms/epoch - 20ms/step\n",
      "Epoch 24/50\n",
      "3/3 - 0s - loss: 0.4785 - tp: 9.0000 - fp: 2.0000 - tn: 56.0000 - fn: 22.0000 - accuracy: 0.7303 - precision: 0.8182 - recall: 0.2903 - auc: 0.9113 - prc: 0.8436 - val_loss: 0.4989 - val_tp: 12.0000 - val_fp: 0.0000e+00 - val_tn: 27.0000 - val_fn: 5.0000 - val_accuracy: 0.8864 - val_precision: 1.0000 - val_recall: 0.7059 - val_auc: 0.9096 - val_prc: 0.9098 - 59ms/epoch - 20ms/step\n",
      "Epoch 25/50\n",
      "3/3 - 0s - loss: 0.4547 - tp: 14.0000 - fp: 3.0000 - tn: 55.0000 - fn: 17.0000 - accuracy: 0.7753 - precision: 0.8235 - recall: 0.4516 - auc: 0.9063 - prc: 0.8447 - val_loss: 0.4938 - val_tp: 12.0000 - val_fp: 0.0000e+00 - val_tn: 27.0000 - val_fn: 5.0000 - val_accuracy: 0.8864 - val_precision: 1.0000 - val_recall: 0.7059 - val_auc: 0.9107 - val_prc: 0.9113 - 57ms/epoch - 19ms/step\n",
      "Epoch 26/50\n",
      "3/3 - 0s - loss: 0.4470 - tp: 20.0000 - fp: 1.0000 - tn: 57.0000 - fn: 11.0000 - accuracy: 0.8652 - precision: 0.9524 - recall: 0.6452 - auc: 0.9266 - prc: 0.8891 - val_loss: 0.4888 - val_tp: 12.0000 - val_fp: 0.0000e+00 - val_tn: 27.0000 - val_fn: 5.0000 - val_accuracy: 0.8864 - val_precision: 1.0000 - val_recall: 0.7059 - val_auc: 0.9107 - val_prc: 0.9113 - 55ms/epoch - 18ms/step\n",
      "Epoch 27/50\n",
      "3/3 - 0s - loss: 0.4420 - tp: 16.0000 - fp: 1.0000 - tn: 57.0000 - fn: 15.0000 - accuracy: 0.8202 - precision: 0.9412 - recall: 0.5161 - auc: 0.9360 - prc: 0.8906 - val_loss: 0.4839 - val_tp: 12.0000 - val_fp: 0.0000e+00 - val_tn: 27.0000 - val_fn: 5.0000 - val_accuracy: 0.8864 - val_precision: 1.0000 - val_recall: 0.7059 - val_auc: 0.9118 - val_prc: 0.9117 - 59ms/epoch - 20ms/step\n",
      "Epoch 28/50\n",
      "3/3 - 0s - loss: 0.4574 - tp: 9.0000 - fp: 1.0000 - tn: 57.0000 - fn: 22.0000 - accuracy: 0.7416 - precision: 0.9000 - recall: 0.2903 - auc: 0.9180 - prc: 0.8665 - val_loss: 0.4793 - val_tp: 12.0000 - val_fp: 0.0000e+00 - val_tn: 27.0000 - val_fn: 5.0000 - val_accuracy: 0.8864 - val_precision: 1.0000 - val_recall: 0.7059 - val_auc: 0.9107 - val_prc: 0.9118 - 58ms/epoch - 19ms/step\n",
      "Epoch 29/50\n",
      "3/3 - 0s - loss: 0.4311 - tp: 19.0000 - fp: 1.0000 - tn: 57.0000 - fn: 12.0000 - accuracy: 0.8539 - precision: 0.9500 - recall: 0.6129 - auc: 0.9358 - prc: 0.9110 - val_loss: 0.4751 - val_tp: 12.0000 - val_fp: 0.0000e+00 - val_tn: 27.0000 - val_fn: 5.0000 - val_accuracy: 0.8864 - val_precision: 1.0000 - val_recall: 0.7059 - val_auc: 0.9096 - val_prc: 0.9109 - 55ms/epoch - 18ms/step\n",
      "Epoch 30/50\n",
      "3/3 - 0s - loss: 0.4031 - tp: 17.0000 - fp: 1.0000 - tn: 57.0000 - fn: 14.0000 - accuracy: 0.8315 - precision: 0.9444 - recall: 0.5484 - auc: 0.9524 - prc: 0.9053 - val_loss: 0.4711 - val_tp: 12.0000 - val_fp: 0.0000e+00 - val_tn: 27.0000 - val_fn: 5.0000 - val_accuracy: 0.8864 - val_precision: 1.0000 - val_recall: 0.7059 - val_auc: 0.9118 - val_prc: 0.9122 - 55ms/epoch - 18ms/step\n",
      "Epoch 31/50\n",
      "3/3 - 0s - loss: 0.4162 - tp: 14.0000 - fp: 1.0000 - tn: 57.0000 - fn: 17.0000 - accuracy: 0.7978 - precision: 0.9333 - recall: 0.4516 - auc: 0.9461 - prc: 0.9022 - val_loss: 0.4674 - val_tp: 12.0000 - val_fp: 0.0000e+00 - val_tn: 27.0000 - val_fn: 5.0000 - val_accuracy: 0.8864 - val_precision: 1.0000 - val_recall: 0.7059 - val_auc: 0.9118 - val_prc: 0.9122 - 57ms/epoch - 19ms/step\n",
      "Epoch 32/50\n",
      "3/3 - 0s - loss: 0.4250 - tp: 18.0000 - fp: 1.0000 - tn: 57.0000 - fn: 13.0000 - accuracy: 0.8427 - precision: 0.9474 - recall: 0.5806 - auc: 0.9352 - prc: 0.8945 - val_loss: 0.4639 - val_tp: 12.0000 - val_fp: 0.0000e+00 - val_tn: 27.0000 - val_fn: 5.0000 - val_accuracy: 0.8864 - val_precision: 1.0000 - val_recall: 0.7059 - val_auc: 0.9107 - val_prc: 0.9112 - 60ms/epoch - 20ms/step\n",
      "Epoch 33/50\n",
      "3/3 - 0s - loss: 0.3975 - tp: 21.0000 - fp: 1.0000 - tn: 57.0000 - fn: 10.0000 - accuracy: 0.8764 - precision: 0.9545 - recall: 0.6774 - auc: 0.9472 - prc: 0.9143 - val_loss: 0.4606 - val_tp: 12.0000 - val_fp: 0.0000e+00 - val_tn: 27.0000 - val_fn: 5.0000 - val_accuracy: 0.8864 - val_precision: 1.0000 - val_recall: 0.7059 - val_auc: 0.9107 - val_prc: 0.9112 - 59ms/epoch - 20ms/step\n",
      "Epoch 34/50\n",
      "3/3 - 0s - loss: 0.4120 - tp: 21.0000 - fp: 2.0000 - tn: 56.0000 - fn: 10.0000 - accuracy: 0.8652 - precision: 0.9130 - recall: 0.6774 - auc: 0.9202 - prc: 0.8906 - val_loss: 0.4574 - val_tp: 12.0000 - val_fp: 0.0000e+00 - val_tn: 27.0000 - val_fn: 5.0000 - val_accuracy: 0.8864 - val_precision: 1.0000 - val_recall: 0.7059 - val_auc: 0.9107 - val_prc: 0.9112 - 57ms/epoch - 19ms/step\n",
      "Epoch 35/50\n",
      "3/3 - 0s - loss: 0.3974 - tp: 20.0000 - fp: 3.0000 - tn: 55.0000 - fn: 11.0000 - accuracy: 0.8427 - precision: 0.8696 - recall: 0.6452 - auc: 0.9388 - prc: 0.8811 - val_loss: 0.4544 - val_tp: 12.0000 - val_fp: 0.0000e+00 - val_tn: 27.0000 - val_fn: 5.0000 - val_accuracy: 0.8864 - val_precision: 1.0000 - val_recall: 0.7059 - val_auc: 0.9096 - val_prc: 0.9102 - 61ms/epoch - 20ms/step\n",
      "Epoch 36/50\n",
      "3/3 - 0s - loss: 0.3677 - tp: 22.0000 - fp: 2.0000 - tn: 56.0000 - fn: 9.0000 - accuracy: 0.8764 - precision: 0.9167 - recall: 0.7097 - auc: 0.9613 - prc: 0.9081 - val_loss: 0.4515 - val_tp: 12.0000 - val_fp: 0.0000e+00 - val_tn: 27.0000 - val_fn: 5.0000 - val_accuracy: 0.8864 - val_precision: 1.0000 - val_recall: 0.7059 - val_auc: 0.9085 - val_prc: 0.9099 - 57ms/epoch - 19ms/step\n",
      "Epoch 37/50\n",
      "3/3 - 0s - loss: 0.3900 - tp: 18.0000 - fp: 2.0000 - tn: 56.0000 - fn: 13.0000 - accuracy: 0.8315 - precision: 0.9000 - recall: 0.5806 - auc: 0.9449 - prc: 0.9030 - val_loss: 0.4488 - val_tp: 12.0000 - val_fp: 0.0000e+00 - val_tn: 27.0000 - val_fn: 5.0000 - val_accuracy: 0.8864 - val_precision: 1.0000 - val_recall: 0.7059 - val_auc: 0.9096 - val_prc: 0.9102 - 60ms/epoch - 20ms/step\n",
      "Epoch 38/50\n",
      "3/3 - 0s - loss: 0.4146 - tp: 18.0000 - fp: 1.0000 - tn: 57.0000 - fn: 13.0000 - accuracy: 0.8427 - precision: 0.9474 - recall: 0.5806 - auc: 0.9447 - prc: 0.9105 - val_loss: 0.4463 - val_tp: 12.0000 - val_fp: 1.0000 - val_tn: 26.0000 - val_fn: 5.0000 - val_accuracy: 0.8636 - val_precision: 0.9231 - val_recall: 0.7059 - val_auc: 0.9096 - val_prc: 0.9102 - 62ms/epoch - 21ms/step\n",
      "Epoch 39/50\n",
      "3/3 - 0s - loss: 0.3949 - tp: 22.0000 - fp: 2.0000 - tn: 56.0000 - fn: 9.0000 - accuracy: 0.8764 - precision: 0.9167 - recall: 0.7097 - auc: 0.9302 - prc: 0.8953 - val_loss: 0.4439 - val_tp: 12.0000 - val_fp: 1.0000 - val_tn: 26.0000 - val_fn: 5.0000 - val_accuracy: 0.8636 - val_precision: 0.9231 - val_recall: 0.7059 - val_auc: 0.9096 - val_prc: 0.9102 - 63ms/epoch - 21ms/step\n",
      "Epoch 40/50\n",
      "3/3 - 0s - loss: 0.3896 - tp: 22.0000 - fp: 2.0000 - tn: 56.0000 - fn: 9.0000 - accuracy: 0.8764 - precision: 0.9167 - recall: 0.7097 - auc: 0.9424 - prc: 0.9104 - val_loss: 0.4417 - val_tp: 12.0000 - val_fp: 1.0000 - val_tn: 26.0000 - val_fn: 5.0000 - val_accuracy: 0.8636 - val_precision: 0.9231 - val_recall: 0.7059 - val_auc: 0.9096 - val_prc: 0.9102 - 58ms/epoch - 19ms/step\n",
      "Epoch 41/50\n",
      "3/3 - 0s - loss: 0.3549 - tp: 22.0000 - fp: 2.0000 - tn: 56.0000 - fn: 9.0000 - accuracy: 0.8764 - precision: 0.9167 - recall: 0.7097 - auc: 0.9633 - prc: 0.9478 - val_loss: 0.4395 - val_tp: 12.0000 - val_fp: 1.0000 - val_tn: 26.0000 - val_fn: 5.0000 - val_accuracy: 0.8636 - val_precision: 0.9231 - val_recall: 0.7059 - val_auc: 0.9085 - val_prc: 0.9099 - 60ms/epoch - 20ms/step\n"
     ]
    },
    {
     "name": "stdout",
     "output_type": "stream",
     "text": [
      "Epoch 42/50\n",
      "3/3 - 0s - loss: 0.3939 - tp: 22.0000 - fp: 0.0000e+00 - tn: 58.0000 - fn: 9.0000 - accuracy: 0.8989 - precision: 1.0000 - recall: 0.7097 - auc: 0.9416 - prc: 0.9361 - val_loss: 0.4374 - val_tp: 12.0000 - val_fp: 1.0000 - val_tn: 26.0000 - val_fn: 5.0000 - val_accuracy: 0.8636 - val_precision: 0.9231 - val_recall: 0.7059 - val_auc: 0.9107 - val_prc: 0.9121 - 60ms/epoch - 20ms/step\n",
      "Epoch 43/50\n",
      "3/3 - 0s - loss: 0.3780 - tp: 19.0000 - fp: 2.0000 - tn: 56.0000 - fn: 12.0000 - accuracy: 0.8427 - precision: 0.9048 - recall: 0.6129 - auc: 0.9572 - prc: 0.9120 - val_loss: 0.4355 - val_tp: 12.0000 - val_fp: 1.0000 - val_tn: 26.0000 - val_fn: 5.0000 - val_accuracy: 0.8636 - val_precision: 0.9231 - val_recall: 0.7059 - val_auc: 0.9096 - val_prc: 0.9102 - 59ms/epoch - 20ms/step\n",
      "Epoch 44/50\n",
      "3/3 - 0s - loss: 0.3575 - tp: 21.0000 - fp: 1.0000 - tn: 57.0000 - fn: 10.0000 - accuracy: 0.8764 - precision: 0.9545 - recall: 0.6774 - auc: 0.9597 - prc: 0.9346 - val_loss: 0.4336 - val_tp: 12.0000 - val_fp: 1.0000 - val_tn: 26.0000 - val_fn: 5.0000 - val_accuracy: 0.8636 - val_precision: 0.9231 - val_recall: 0.7059 - val_auc: 0.9096 - val_prc: 0.9102 - 61ms/epoch - 20ms/step\n",
      "Epoch 45/50\n",
      "3/3 - 0s - loss: 0.3844 - tp: 22.0000 - fp: 3.0000 - tn: 55.0000 - fn: 9.0000 - accuracy: 0.8652 - precision: 0.8800 - recall: 0.7097 - auc: 0.9333 - prc: 0.9025 - val_loss: 0.4319 - val_tp: 12.0000 - val_fp: 1.0000 - val_tn: 26.0000 - val_fn: 5.0000 - val_accuracy: 0.8636 - val_precision: 0.9231 - val_recall: 0.7059 - val_auc: 0.9107 - val_prc: 0.9121 - 61ms/epoch - 20ms/step\n",
      "Epoch 46/50\n",
      "3/3 - 0s - loss: 0.3599 - tp: 24.0000 - fp: 2.0000 - tn: 56.0000 - fn: 7.0000 - accuracy: 0.8989 - precision: 0.9231 - recall: 0.7742 - auc: 0.9452 - prc: 0.9278 - val_loss: 0.4302 - val_tp: 12.0000 - val_fp: 2.0000 - val_tn: 25.0000 - val_fn: 5.0000 - val_accuracy: 0.8409 - val_precision: 0.8571 - val_recall: 0.7059 - val_auc: 0.9107 - val_prc: 0.9121 - 62ms/epoch - 21ms/step\n",
      "Epoch 47/50\n",
      "3/3 - 0s - loss: 0.3564 - tp: 28.0000 - fp: 2.0000 - tn: 56.0000 - fn: 3.0000 - accuracy: 0.9438 - precision: 0.9333 - recall: 0.9032 - auc: 0.9463 - prc: 0.9186 - val_loss: 0.4285 - val_tp: 13.0000 - val_fp: 2.0000 - val_tn: 25.0000 - val_fn: 4.0000 - val_accuracy: 0.8636 - val_precision: 0.8667 - val_recall: 0.7647 - val_auc: 0.9107 - val_prc: 0.9121 - 61ms/epoch - 20ms/step\n",
      "Epoch 48/50\n",
      "3/3 - 0s - loss: 0.3503 - tp: 26.0000 - fp: 2.0000 - tn: 56.0000 - fn: 5.0000 - accuracy: 0.9213 - precision: 0.9286 - recall: 0.8387 - auc: 0.9494 - prc: 0.9267 - val_loss: 0.4268 - val_tp: 13.0000 - val_fp: 2.0000 - val_tn: 25.0000 - val_fn: 4.0000 - val_accuracy: 0.8636 - val_precision: 0.8667 - val_recall: 0.7647 - val_auc: 0.9107 - val_prc: 0.9121 - 59ms/epoch - 20ms/step\n",
      "Epoch 49/50\n",
      "3/3 - 0s - loss: 0.3194 - tp: 24.0000 - fp: 3.0000 - tn: 55.0000 - fn: 7.0000 - accuracy: 0.8876 - precision: 0.8889 - recall: 0.7742 - auc: 0.9600 - prc: 0.9346 - val_loss: 0.4253 - val_tp: 13.0000 - val_fp: 2.0000 - val_tn: 25.0000 - val_fn: 4.0000 - val_accuracy: 0.8636 - val_precision: 0.8667 - val_recall: 0.7647 - val_auc: 0.9129 - val_prc: 0.9161 - 59ms/epoch - 20ms/step\n",
      "Epoch 50/50\n",
      "3/3 - 0s - loss: 0.3637 - tp: 22.0000 - fp: 4.0000 - tn: 54.0000 - fn: 9.0000 - accuracy: 0.8539 - precision: 0.8462 - recall: 0.7097 - auc: 0.9366 - prc: 0.8929 - val_loss: 0.4238 - val_tp: 13.0000 - val_fp: 2.0000 - val_tn: 25.0000 - val_fn: 4.0000 - val_accuracy: 0.8636 - val_precision: 0.8667 - val_recall: 0.7647 - val_auc: 0.9139 - val_prc: 0.9165 - 60ms/epoch - 20ms/step\n"
     ]
    },
    {
     "data": {
      "image/png": "[encoded data removed]",
      "text/plain": [
       "<Figure size 640x480 with 1 Axes>"
      ]
     },
     "metadata": {},
     "output_type": "display_data"
    },
    {
     "name": "stdout",
     "output_type": "stream",
     "text": [
      "loss :  0.42375877499580383\n",
      "tp :  13.0\n",
      "fp :  2.0\n",
      "tn :  25.0\n",
      "fn :  4.0\n",
      "accuracy :  0.8636363744735718\n",
      "Accuracy on validation set: 0.8636363744735718\n",
      "precision :  0.8666666746139526\n",
      "recall :  0.7647058963775635\n",
      "auc :  0.913943350315094\n",
      "prc :  0.9164884686470032\n",
      "Epoch 1/50\n",
      "3/3 - 2s - loss: 0.6646 - tp: 45.0000 - fp: 40.0000 - tn: 40.0000 - fn: 8.0000 - accuracy: 0.6391 - precision: 0.5294 - recall: 0.8491 - auc: 0.7952 - prc: 0.7745 - val_loss: 0.6786 - val_tp: 12.0000 - val_fp: 32.0000 - val_tn: 0.0000e+00 - val_fn: 0.0000e+00 - val_accuracy: 0.2727 - val_precision: 0.2727 - val_recall: 1.0000 - val_auc: 0.9414 - val_prc: 0.9169 - 2s/epoch - 623ms/step\n",
      "Epoch 2/50\n",
      "3/3 - 0s - loss: 0.6703 - tp: 33.0000 - fp: 40.0000 - tn: 13.0000 - fn: 3.0000 - accuracy: 0.5169 - precision: 0.4521 - recall: 0.9167 - auc: 0.7403 - prc: 0.7052 - val_loss: 0.6684 - val_tp: 12.0000 - val_fp: 32.0000 - val_tn: 0.0000e+00 - val_fn: 0.0000e+00 - val_accuracy: 0.2727 - val_precision: 0.2727 - val_recall: 1.0000 - val_auc: 0.9844 - val_prc: 0.9668 - 62ms/epoch - 21ms/step\n",
      "Epoch 3/50\n",
      "3/3 - 0s - loss: 0.6477 - tp: 34.0000 - fp: 37.0000 - tn: 16.0000 - fn: 2.0000 - accuracy: 0.5618 - precision: 0.4789 - recall: 0.9444 - auc: 0.8726 - prc: 0.8372 - val_loss: 0.6587 - val_tp: 12.0000 - val_fp: 31.0000 - val_tn: 1.0000 - val_fn: 0.0000e+00 - val_accuracy: 0.2955 - val_precision: 0.2791 - val_recall: 1.0000 - val_auc: 0.9948 - val_prc: 0.9861 - 62ms/epoch - 21ms/step\n",
      "Epoch 4/50\n",
      "3/3 - 0s - loss: 0.6633 - tp: 28.0000 - fp: 36.0000 - tn: 17.0000 - fn: 8.0000 - accuracy: 0.5056 - precision: 0.4375 - recall: 0.7778 - auc: 0.7301 - prc: 0.7351 - val_loss: 0.6492 - val_tp: 12.0000 - val_fp: 28.0000 - val_tn: 4.0000 - val_fn: 0.0000e+00 - val_accuracy: 0.3636 - val_precision: 0.3000 - val_recall: 1.0000 - val_auc: 0.9948 - val_prc: 0.9861 - 60ms/epoch - 20ms/step\n",
      "Epoch 5/50\n",
      "3/3 - 0s - loss: 0.6290 - tp: 33.0000 - fp: 29.0000 - tn: 24.0000 - fn: 3.0000 - accuracy: 0.6404 - precision: 0.5323 - recall: 0.9167 - auc: 0.8574 - prc: 0.8642 - val_loss: 0.6400 - val_tp: 12.0000 - val_fp: 24.0000 - val_tn: 8.0000 - val_fn: 0.0000e+00 - val_accuracy: 0.4545 - val_precision: 0.3333 - val_recall: 1.0000 - val_auc: 0.9948 - val_prc: 0.9861 - 58ms/epoch - 19ms/step\n",
      "Epoch 6/50\n",
      "3/3 - 0s - loss: 0.6503 - tp: 33.0000 - fp: 33.0000 - tn: 20.0000 - fn: 3.0000 - accuracy: 0.5955 - precision: 0.5000 - recall: 0.9167 - auc: 0.7990 - prc: 0.7959 - val_loss: 0.6317 - val_tp: 12.0000 - val_fp: 19.0000 - val_tn: 13.0000 - val_fn: 0.0000e+00 - val_accuracy: 0.5682 - val_precision: 0.3871 - val_recall: 1.0000 - val_auc: 0.9948 - val_prc: 0.9861 - 60ms/epoch - 20ms/step\n",
      "Epoch 7/50\n",
      "3/3 - 0s - loss: 0.6163 - tp: 32.0000 - fp: 26.0000 - tn: 27.0000 - fn: 4.0000 - accuracy: 0.6629 - precision: 0.5517 - recall: 0.8889 - auc: 0.8664 - prc: 0.8777 - val_loss: 0.6234 - val_tp: 12.0000 - val_fp: 10.0000 - val_tn: 22.0000 - val_fn: 0.0000e+00 - val_accuracy: 0.7727 - val_precision: 0.5455 - val_recall: 1.0000 - val_auc: 0.9948 - val_prc: 0.9861 - 61ms/epoch - 20ms/step\n",
      "Epoch 8/50\n",
      "3/3 - 0s - loss: 0.6223 - tp: 32.0000 - fp: 29.0000 - tn: 24.0000 - fn: 4.0000 - accuracy: 0.6292 - precision: 0.5246 - recall: 0.8889 - auc: 0.8624 - prc: 0.8619 - val_loss: 0.6153 - val_tp: 12.0000 - val_fp: 6.0000 - val_tn: 26.0000 - val_fn: 0.0000e+00 - val_accuracy: 0.8636 - val_precision: 0.6667 - val_recall: 1.0000 - val_auc: 0.9948 - val_prc: 0.9861 - 61ms/epoch - 20ms/step\n",
      "Epoch 9/50\n",
      "3/3 - 0s - loss: 0.6090 - tp: 31.0000 - fp: 21.0000 - tn: 32.0000 - fn: 5.0000 - accuracy: 0.7079 - precision: 0.5962 - recall: 0.8611 - auc: 0.8619 - prc: 0.8740 - val_loss: 0.6078 - val_tp: 12.0000 - val_fp: 4.0000 - val_tn: 28.0000 - val_fn: 0.0000e+00 - val_accuracy: 0.9091 - val_precision: 0.7500 - val_recall: 1.0000 - val_auc: 0.9948 - val_prc: 0.9861 - 59ms/epoch - 20ms/step\n",
      "Epoch 10/50\n",
      "3/3 - 0s - loss: 0.6070 - tp: 31.0000 - fp: 23.0000 - tn: 30.0000 - fn: 5.0000 - accuracy: 0.6854 - precision: 0.5741 - recall: 0.8611 - auc: 0.8724 - prc: 0.8707 - val_loss: 0.6010 - val_tp: 12.0000 - val_fp: 4.0000 - val_tn: 28.0000 - val_fn: 0.0000e+00 - val_accuracy: 0.9091 - val_precision: 0.7500 - val_recall: 1.0000 - val_auc: 0.9948 - val_prc: 0.9861 - 62ms/epoch - 21ms/step\n",
      "Epoch 11/50\n",
      "3/3 - 0s - loss: 0.5912 - tp: 31.0000 - fp: 21.0000 - tn: 32.0000 - fn: 5.0000 - accuracy: 0.7079 - precision: 0.5962 - recall: 0.8611 - auc: 0.8698 - prc: 0.9001 - val_loss: 0.5947 - val_tp: 12.0000 - val_fp: 4.0000 - val_tn: 28.0000 - val_fn: 0.0000e+00 - val_accuracy: 0.9091 - val_precision: 0.7500 - val_recall: 1.0000 - val_auc: 0.9948 - val_prc: 0.9861 - 58ms/epoch - 19ms/step\n",
      "Epoch 12/50\n",
      "3/3 - 0s - loss: 0.5971 - tp: 35.0000 - fp: 22.0000 - tn: 31.0000 - fn: 1.0000 - accuracy: 0.7416 - precision: 0.6140 - recall: 0.9722 - auc: 0.9261 - prc: 0.9084 - val_loss: 0.5887 - val_tp: 12.0000 - val_fp: 4.0000 - val_tn: 28.0000 - val_fn: 0.0000e+00 - val_accuracy: 0.9091 - val_precision: 0.7500 - val_recall: 1.0000 - val_auc: 0.9974 - val_prc: 0.9933 - 58ms/epoch - 19ms/step\n",
      "Epoch 13/50\n",
      "3/3 - 0s - loss: 0.6005 - tp: 32.0000 - fp: 16.0000 - tn: 37.0000 - fn: 4.0000 - accuracy: 0.7753 - precision: 0.6667 - recall: 0.8889 - auc: 0.8881 - prc: 0.9092 - val_loss: 0.5828 - val_tp: 12.0000 - val_fp: 4.0000 - val_tn: 28.0000 - val_fn: 0.0000e+00 - val_accuracy: 0.9091 - val_precision: 0.7500 - val_recall: 1.0000 - val_auc: 0.9974 - val_prc: 0.9933 - 60ms/epoch - 20ms/step\n",
      "Epoch 14/50\n",
      "3/3 - 0s - loss: 0.5928 - tp: 33.0000 - fp: 17.0000 - tn: 36.0000 - fn: 3.0000 - accuracy: 0.7753 - precision: 0.6600 - recall: 0.9167 - auc: 0.9258 - prc: 0.9183 - val_loss: 0.5764 - val_tp: 12.0000 - val_fp: 4.0000 - val_tn: 28.0000 - val_fn: 0.0000e+00 - val_accuracy: 0.9091 - val_precision: 0.7500 - val_recall: 1.0000 - val_auc: 0.9974 - val_prc: 0.9933 - 58ms/epoch - 19ms/step\n",
      "Epoch 15/50\n",
      "3/3 - 0s - loss: 0.5703 - tp: 32.0000 - fp: 18.0000 - tn: 35.0000 - fn: 4.0000 - accuracy: 0.7528 - precision: 0.6400 - recall: 0.8889 - auc: 0.9085 - prc: 0.9105 - val_loss: 0.5701 - val_tp: 12.0000 - val_fp: 4.0000 - val_tn: 28.0000 - val_fn: 0.0000e+00 - val_accuracy: 0.9091 - val_precision: 0.7500 - val_recall: 1.0000 - val_auc: 0.9974 - val_prc: 0.9933 - 61ms/epoch - 20ms/step\n",
      "Epoch 16/50\n",
      "3/3 - 0s - loss: 0.5880 - tp: 34.0000 - fp: 17.0000 - tn: 36.0000 - fn: 2.0000 - accuracy: 0.7865 - precision: 0.6667 - recall: 0.9444 - auc: 0.9201 - prc: 0.9150 - val_loss: 0.5639 - val_tp: 12.0000 - val_fp: 4.0000 - val_tn: 28.0000 - val_fn: 0.0000e+00 - val_accuracy: 0.9091 - val_precision: 0.7500 - val_recall: 1.0000 - val_auc: 0.9974 - val_prc: 0.9933 - 62ms/epoch - 21ms/step\n",
      "Epoch 17/50\n",
      "3/3 - 0s - loss: 0.5614 - tp: 32.0000 - fp: 13.0000 - tn: 40.0000 - fn: 4.0000 - accuracy: 0.8090 - precision: 0.7111 - recall: 0.8889 - auc: 0.8973 - prc: 0.9086 - val_loss: 0.5580 - val_tp: 12.0000 - val_fp: 4.0000 - val_tn: 28.0000 - val_fn: 0.0000e+00 - val_accuracy: 0.9091 - val_precision: 0.7500 - val_recall: 1.0000 - val_auc: 0.9974 - val_prc: 0.9933 - 58ms/epoch - 19ms/step\n",
      "Epoch 18/50\n",
      "3/3 - 0s - loss: 0.5638 - tp: 32.0000 - fp: 14.0000 - tn: 39.0000 - fn: 4.0000 - accuracy: 0.7978 - precision: 0.6957 - recall: 0.8889 - auc: 0.9216 - prc: 0.9148 - val_loss: 0.5522 - val_tp: 12.0000 - val_fp: 4.0000 - val_tn: 28.0000 - val_fn: 0.0000e+00 - val_accuracy: 0.9091 - val_precision: 0.7500 - val_recall: 1.0000 - val_auc: 0.9974 - val_prc: 0.9933 - 61ms/epoch - 20ms/step\n",
      "Epoch 19/50\n",
      "3/3 - 0s - loss: 0.5615 - tp: 31.0000 - fp: 15.0000 - tn: 38.0000 - fn: 5.0000 - accuracy: 0.7753 - precision: 0.6739 - recall: 0.8611 - auc: 0.8823 - prc: 0.8967 - val_loss: 0.5465 - val_tp: 12.0000 - val_fp: 4.0000 - val_tn: 28.0000 - val_fn: 0.0000e+00 - val_accuracy: 0.9091 - val_precision: 0.7500 - val_recall: 1.0000 - val_auc: 0.9974 - val_prc: 0.9933 - 63ms/epoch - 21ms/step\n",
      "Epoch 20/50\n",
      "3/3 - 0s - loss: 0.5617 - tp: 32.0000 - fp: 11.0000 - tn: 42.0000 - fn: 4.0000 - accuracy: 0.8315 - precision: 0.7442 - recall: 0.8889 - auc: 0.8952 - prc: 0.9111 - val_loss: 0.5413 - val_tp: 12.0000 - val_fp: 4.0000 - val_tn: 28.0000 - val_fn: 0.0000e+00 - val_accuracy: 0.9091 - val_precision: 0.7500 - val_recall: 1.0000 - val_auc: 0.9974 - val_prc: 0.9933 - 58ms/epoch - 19ms/step\n"
     ]
    },
    {
     "name": "stdout",
     "output_type": "stream",
     "text": [
      "Epoch 21/50\n",
      "3/3 - 0s - loss: 0.5558 - tp: 33.0000 - fp: 16.0000 - tn: 37.0000 - fn: 3.0000 - accuracy: 0.7865 - precision: 0.6735 - recall: 0.9167 - auc: 0.9271 - prc: 0.9244 - val_loss: 0.5364 - val_tp: 12.0000 - val_fp: 4.0000 - val_tn: 28.0000 - val_fn: 0.0000e+00 - val_accuracy: 0.9091 - val_precision: 0.7500 - val_recall: 1.0000 - val_auc: 0.9974 - val_prc: 0.9933 - 58ms/epoch - 19ms/step\n",
      "Epoch 22/50\n",
      "3/3 - 0s - loss: 0.5404 - tp: 34.0000 - fp: 9.0000 - tn: 44.0000 - fn: 2.0000 - accuracy: 0.8764 - precision: 0.7907 - recall: 0.9444 - auc: 0.9649 - prc: 0.9547 - val_loss: 0.5315 - val_tp: 12.0000 - val_fp: 4.0000 - val_tn: 28.0000 - val_fn: 0.0000e+00 - val_accuracy: 0.9091 - val_precision: 0.7500 - val_recall: 1.0000 - val_auc: 0.9974 - val_prc: 0.9933 - 59ms/epoch - 20ms/step\n",
      "Epoch 23/50\n",
      "3/3 - 0s - loss: 0.5689 - tp: 31.0000 - fp: 8.0000 - tn: 45.0000 - fn: 5.0000 - accuracy: 0.8539 - precision: 0.7949 - recall: 0.8611 - auc: 0.9059 - prc: 0.9025 - val_loss: 0.5271 - val_tp: 12.0000 - val_fp: 4.0000 - val_tn: 28.0000 - val_fn: 0.0000e+00 - val_accuracy: 0.9091 - val_precision: 0.7500 - val_recall: 1.0000 - val_auc: 0.9974 - val_prc: 0.9933 - 59ms/epoch - 20ms/step\n",
      "Epoch 24/50\n",
      "3/3 - 0s - loss: 0.5474 - tp: 32.0000 - fp: 10.0000 - tn: 43.0000 - fn: 4.0000 - accuracy: 0.8427 - precision: 0.7619 - recall: 0.8889 - auc: 0.9156 - prc: 0.9079 - val_loss: 0.5225 - val_tp: 12.0000 - val_fp: 4.0000 - val_tn: 28.0000 - val_fn: 0.0000e+00 - val_accuracy: 0.9091 - val_precision: 0.7500 - val_recall: 1.0000 - val_auc: 0.9974 - val_prc: 0.9933 - 59ms/epoch - 20ms/step\n",
      "Epoch 25/50\n",
      "3/3 - 0s - loss: 0.5339 - tp: 33.0000 - fp: 10.0000 - tn: 43.0000 - fn: 3.0000 - accuracy: 0.8539 - precision: 0.7674 - recall: 0.9167 - auc: 0.9353 - prc: 0.9366 - val_loss: 0.5177 - val_tp: 12.0000 - val_fp: 4.0000 - val_tn: 28.0000 - val_fn: 0.0000e+00 - val_accuracy: 0.9091 - val_precision: 0.7500 - val_recall: 1.0000 - val_auc: 0.9974 - val_prc: 0.9933 - 59ms/epoch - 20ms/step\n",
      "Epoch 26/50\n",
      "3/3 - 0s - loss: 0.5444 - tp: 33.0000 - fp: 10.0000 - tn: 43.0000 - fn: 3.0000 - accuracy: 0.8539 - precision: 0.7674 - recall: 0.9167 - auc: 0.9133 - prc: 0.9189 - val_loss: 0.5126 - val_tp: 12.0000 - val_fp: 4.0000 - val_tn: 28.0000 - val_fn: 0.0000e+00 - val_accuracy: 0.9091 - val_precision: 0.7500 - val_recall: 1.0000 - val_auc: 0.9974 - val_prc: 0.9933 - 59ms/epoch - 20ms/step\n",
      "Epoch 27/50\n",
      "3/3 - 0s - loss: 0.5283 - tp: 32.0000 - fp: 7.0000 - tn: 46.0000 - fn: 4.0000 - accuracy: 0.8764 - precision: 0.8205 - recall: 0.8889 - auc: 0.9237 - prc: 0.9234 - val_loss: 0.5075 - val_tp: 12.0000 - val_fp: 4.0000 - val_tn: 28.0000 - val_fn: 0.0000e+00 - val_accuracy: 0.9091 - val_precision: 0.7500 - val_recall: 1.0000 - val_auc: 0.9974 - val_prc: 0.9933 - 59ms/epoch - 20ms/step\n",
      "Epoch 28/50\n",
      "3/3 - 0s - loss: 0.5370 - tp: 34.0000 - fp: 9.0000 - tn: 44.0000 - fn: 2.0000 - accuracy: 0.8764 - precision: 0.7907 - recall: 0.9444 - auc: 0.9355 - prc: 0.9130 - val_loss: 0.5023 - val_tp: 12.0000 - val_fp: 4.0000 - val_tn: 28.0000 - val_fn: 0.0000e+00 - val_accuracy: 0.9091 - val_precision: 0.7500 - val_recall: 1.0000 - val_auc: 0.9974 - val_prc: 0.9933 - 53ms/epoch - 18ms/step\n",
      "Epoch 29/50\n",
      "3/3 - 0s - loss: 0.5248 - tp: 31.0000 - fp: 9.0000 - tn: 44.0000 - fn: 5.0000 - accuracy: 0.8427 - precision: 0.7750 - recall: 0.8611 - auc: 0.9227 - prc: 0.9261 - val_loss: 0.4972 - val_tp: 12.0000 - val_fp: 4.0000 - val_tn: 28.0000 - val_fn: 0.0000e+00 - val_accuracy: 0.9091 - val_precision: 0.7500 - val_recall: 1.0000 - val_auc: 0.9974 - val_prc: 0.9933 - 58ms/epoch - 19ms/step\n",
      "Epoch 30/50\n",
      "3/3 - 0s - loss: 0.5210 - tp: 31.0000 - fp: 10.0000 - tn: 43.0000 - fn: 5.0000 - accuracy: 0.8315 - precision: 0.7561 - recall: 0.8611 - auc: 0.9064 - prc: 0.9155 - val_loss: 0.4923 - val_tp: 12.0000 - val_fp: 4.0000 - val_tn: 28.0000 - val_fn: 0.0000e+00 - val_accuracy: 0.9091 - val_precision: 0.7500 - val_recall: 1.0000 - val_auc: 0.9974 - val_prc: 0.9933 - 60ms/epoch - 20ms/step\n",
      "Epoch 31/50\n",
      "3/3 - 0s - loss: 0.5172 - tp: 32.0000 - fp: 8.0000 - tn: 45.0000 - fn: 4.0000 - accuracy: 0.8652 - precision: 0.8000 - recall: 0.8889 - auc: 0.9334 - prc: 0.9242 - val_loss: 0.4877 - val_tp: 12.0000 - val_fp: 4.0000 - val_tn: 28.0000 - val_fn: 0.0000e+00 - val_accuracy: 0.9091 - val_precision: 0.7500 - val_recall: 1.0000 - val_auc: 0.9974 - val_prc: 0.9933 - 66ms/epoch - 22ms/step\n",
      "Epoch 32/50\n",
      "3/3 - 0s - loss: 0.5114 - tp: 31.0000 - fp: 7.0000 - tn: 46.0000 - fn: 5.0000 - accuracy: 0.8652 - precision: 0.8158 - recall: 0.8611 - auc: 0.9321 - prc: 0.9248 - val_loss: 0.4831 - val_tp: 12.0000 - val_fp: 4.0000 - val_tn: 28.0000 - val_fn: 0.0000e+00 - val_accuracy: 0.9091 - val_precision: 0.7500 - val_recall: 1.0000 - val_auc: 0.9974 - val_prc: 0.9933 - 56ms/epoch - 19ms/step\n",
      "Epoch 33/50\n",
      "3/3 - 0s - loss: 0.5059 - tp: 31.0000 - fp: 7.0000 - tn: 46.0000 - fn: 5.0000 - accuracy: 0.8652 - precision: 0.8158 - recall: 0.8611 - auc: 0.9138 - prc: 0.9165 - val_loss: 0.4786 - val_tp: 12.0000 - val_fp: 4.0000 - val_tn: 28.0000 - val_fn: 0.0000e+00 - val_accuracy: 0.9091 - val_precision: 0.7500 - val_recall: 1.0000 - val_auc: 0.9974 - val_prc: 0.9933 - 57ms/epoch - 19ms/step\n",
      "Epoch 34/50\n",
      "3/3 - 0s - loss: 0.5032 - tp: 33.0000 - fp: 9.0000 - tn: 44.0000 - fn: 3.0000 - accuracy: 0.8652 - precision: 0.7857 - recall: 0.9167 - auc: 0.9182 - prc: 0.9200 - val_loss: 0.4741 - val_tp: 12.0000 - val_fp: 4.0000 - val_tn: 28.0000 - val_fn: 0.0000e+00 - val_accuracy: 0.9091 - val_precision: 0.7500 - val_recall: 1.0000 - val_auc: 0.9974 - val_prc: 0.9933 - 57ms/epoch - 19ms/step\n",
      "Epoch 35/50\n",
      "3/3 - 0s - loss: 0.4999 - tp: 32.0000 - fp: 6.0000 - tn: 47.0000 - fn: 4.0000 - accuracy: 0.8876 - precision: 0.8421 - recall: 0.8889 - auc: 0.9410 - prc: 0.9261 - val_loss: 0.4695 - val_tp: 12.0000 - val_fp: 4.0000 - val_tn: 28.0000 - val_fn: 0.0000e+00 - val_accuracy: 0.9091 - val_precision: 0.7500 - val_recall: 1.0000 - val_auc: 0.9974 - val_prc: 0.9933 - 54ms/epoch - 18ms/step\n",
      "Epoch 36/50\n",
      "3/3 - 0s - loss: 0.4973 - tp: 31.0000 - fp: 9.0000 - tn: 44.0000 - fn: 5.0000 - accuracy: 0.8427 - precision: 0.7750 - recall: 0.8611 - auc: 0.9046 - prc: 0.9154 - val_loss: 0.4647 - val_tp: 12.0000 - val_fp: 4.0000 - val_tn: 28.0000 - val_fn: 0.0000e+00 - val_accuracy: 0.9091 - val_precision: 0.7500 - val_recall: 1.0000 - val_auc: 0.9974 - val_prc: 0.9933 - 63ms/epoch - 21ms/step\n",
      "Epoch 37/50\n",
      "3/3 - 0s - loss: 0.4868 - tp: 31.0000 - fp: 8.0000 - tn: 45.0000 - fn: 5.0000 - accuracy: 0.8539 - precision: 0.7949 - recall: 0.8611 - auc: 0.9340 - prc: 0.9286 - val_loss: 0.4598 - val_tp: 12.0000 - val_fp: 4.0000 - val_tn: 28.0000 - val_fn: 0.0000e+00 - val_accuracy: 0.9091 - val_precision: 0.7500 - val_recall: 1.0000 - val_auc: 0.9974 - val_prc: 0.9933 - 60ms/epoch - 20ms/step\n",
      "Epoch 38/50\n",
      "3/3 - 0s - loss: 0.4804 - tp: 32.0000 - fp: 8.0000 - tn: 45.0000 - fn: 4.0000 - accuracy: 0.8652 - precision: 0.8000 - recall: 0.8889 - auc: 0.9264 - prc: 0.9293 - val_loss: 0.4548 - val_tp: 12.0000 - val_fp: 4.0000 - val_tn: 28.0000 - val_fn: 0.0000e+00 - val_accuracy: 0.9091 - val_precision: 0.7500 - val_recall: 1.0000 - val_auc: 0.9974 - val_prc: 0.9933 - 62ms/epoch - 21ms/step\n",
      "Epoch 39/50\n",
      "3/3 - 0s - loss: 0.4842 - tp: 31.0000 - fp: 9.0000 - tn: 44.0000 - fn: 5.0000 - accuracy: 0.8427 - precision: 0.7750 - recall: 0.8611 - auc: 0.9303 - prc: 0.9336 - val_loss: 0.4499 - val_tp: 12.0000 - val_fp: 4.0000 - val_tn: 28.0000 - val_fn: 0.0000e+00 - val_accuracy: 0.9091 - val_precision: 0.7500 - val_recall: 1.0000 - val_auc: 0.9974 - val_prc: 0.9933 - 60ms/epoch - 20ms/step\n",
      "Epoch 40/50\n",
      "3/3 - 0s - loss: 0.4722 - tp: 31.0000 - fp: 7.0000 - tn: 46.0000 - fn: 5.0000 - accuracy: 0.8652 - precision: 0.8158 - recall: 0.8611 - auc: 0.9156 - prc: 0.9270 - val_loss: 0.4449 - val_tp: 12.0000 - val_fp: 4.0000 - val_tn: 28.0000 - val_fn: 0.0000e+00 - val_accuracy: 0.9091 - val_precision: 0.7500 - val_recall: 1.0000 - val_auc: 0.9974 - val_prc: 0.9933 - 56ms/epoch - 19ms/step\n",
      "Epoch 41/50\n",
      "3/3 - 0s - loss: 0.4728 - tp: 31.0000 - fp: 8.0000 - tn: 45.0000 - fn: 5.0000 - accuracy: 0.8539 - precision: 0.7949 - recall: 0.8611 - auc: 0.9311 - prc: 0.9362 - val_loss: 0.4401 - val_tp: 12.0000 - val_fp: 4.0000 - val_tn: 28.0000 - val_fn: 0.0000e+00 - val_accuracy: 0.9091 - val_precision: 0.7500 - val_recall: 1.0000 - val_auc: 0.9974 - val_prc: 0.9933 - 60ms/epoch - 20ms/step\n"
     ]
    },
    {
     "name": "stdout",
     "output_type": "stream",
     "text": [
      "Epoch 42/50\n",
      "3/3 - 0s - loss: 0.4840 - tp: 32.0000 - fp: 6.0000 - tn: 47.0000 - fn: 4.0000 - accuracy: 0.8876 - precision: 0.8421 - recall: 0.8889 - auc: 0.9130 - prc: 0.9159 - val_loss: 0.4354 - val_tp: 12.0000 - val_fp: 4.0000 - val_tn: 28.0000 - val_fn: 0.0000e+00 - val_accuracy: 0.9091 - val_precision: 0.7500 - val_recall: 1.0000 - val_auc: 0.9974 - val_prc: 0.9933 - 58ms/epoch - 19ms/step\n",
      "Epoch 43/50\n",
      "3/3 - 0s - loss: 0.4856 - tp: 32.0000 - fp: 5.0000 - tn: 48.0000 - fn: 4.0000 - accuracy: 0.8989 - precision: 0.8649 - recall: 0.8889 - auc: 0.9101 - prc: 0.9068 - val_loss: 0.4307 - val_tp: 12.0000 - val_fp: 4.0000 - val_tn: 28.0000 - val_fn: 0.0000e+00 - val_accuracy: 0.9091 - val_precision: 0.7500 - val_recall: 1.0000 - val_auc: 0.9974 - val_prc: 0.9933 - 60ms/epoch - 20ms/step\n",
      "Epoch 44/50\n",
      "3/3 - 0s - loss: 0.4523 - tp: 31.0000 - fp: 7.0000 - tn: 46.0000 - fn: 5.0000 - accuracy: 0.8652 - precision: 0.8158 - recall: 0.8611 - auc: 0.9269 - prc: 0.9276 - val_loss: 0.4261 - val_tp: 12.0000 - val_fp: 4.0000 - val_tn: 28.0000 - val_fn: 0.0000e+00 - val_accuracy: 0.9091 - val_precision: 0.7500 - val_recall: 1.0000 - val_auc: 0.9974 - val_prc: 0.9933 - 61ms/epoch - 20ms/step\n",
      "Epoch 45/50\n",
      "3/3 - 0s - loss: 0.4707 - tp: 32.0000 - fp: 5.0000 - tn: 48.0000 - fn: 4.0000 - accuracy: 0.8989 - precision: 0.8649 - recall: 0.8889 - auc: 0.8973 - prc: 0.9090 - val_loss: 0.4214 - val_tp: 12.0000 - val_fp: 4.0000 - val_tn: 28.0000 - val_fn: 0.0000e+00 - val_accuracy: 0.9091 - val_precision: 0.7500 - val_recall: 1.0000 - val_auc: 0.9974 - val_prc: 0.9933 - 64ms/epoch - 21ms/step\n",
      "Epoch 46/50\n",
      "3/3 - 0s - loss: 0.4602 - tp: 32.0000 - fp: 5.0000 - tn: 48.0000 - fn: 4.0000 - accuracy: 0.8989 - precision: 0.8649 - recall: 0.8889 - auc: 0.9353 - prc: 0.9300 - val_loss: 0.4167 - val_tp: 12.0000 - val_fp: 4.0000 - val_tn: 28.0000 - val_fn: 0.0000e+00 - val_accuracy: 0.9091 - val_precision: 0.7500 - val_recall: 1.0000 - val_auc: 0.9974 - val_prc: 0.9933 - 58ms/epoch - 19ms/step\n",
      "Epoch 47/50\n",
      "3/3 - 0s - loss: 0.4628 - tp: 32.0000 - fp: 6.0000 - tn: 47.0000 - fn: 4.0000 - accuracy: 0.8876 - precision: 0.8421 - recall: 0.8889 - auc: 0.9219 - prc: 0.9248 - val_loss: 0.4121 - val_tp: 12.0000 - val_fp: 4.0000 - val_tn: 28.0000 - val_fn: 0.0000e+00 - val_accuracy: 0.9091 - val_precision: 0.7500 - val_recall: 1.0000 - val_auc: 0.9974 - val_prc: 0.9933 - 58ms/epoch - 19ms/step\n",
      "Epoch 48/50\n",
      "3/3 - 0s - loss: 0.4421 - tp: 31.0000 - fp: 6.0000 - tn: 47.0000 - fn: 5.0000 - accuracy: 0.8764 - precision: 0.8378 - recall: 0.8611 - auc: 0.9374 - prc: 0.9274 - val_loss: 0.4075 - val_tp: 12.0000 - val_fp: 4.0000 - val_tn: 28.0000 - val_fn: 0.0000e+00 - val_accuracy: 0.9091 - val_precision: 0.7500 - val_recall: 1.0000 - val_auc: 0.9974 - val_prc: 0.9933 - 58ms/epoch - 19ms/step\n",
      "Epoch 49/50\n",
      "3/3 - 0s - loss: 0.4498 - tp: 32.0000 - fp: 3.0000 - tn: 50.0000 - fn: 4.0000 - accuracy: 0.9213 - precision: 0.9143 - recall: 0.8889 - auc: 0.9269 - prc: 0.9159 - val_loss: 0.4025 - val_tp: 12.0000 - val_fp: 4.0000 - val_tn: 28.0000 - val_fn: 0.0000e+00 - val_accuracy: 0.9091 - val_precision: 0.7500 - val_recall: 1.0000 - val_auc: 0.9974 - val_prc: 0.9933 - 59ms/epoch - 20ms/step\n",
      "Epoch 50/50\n",
      "3/3 - 0s - loss: 0.4341 - tp: 33.0000 - fp: 6.0000 - tn: 47.0000 - fn: 3.0000 - accuracy: 0.8989 - precision: 0.8462 - recall: 0.9167 - auc: 0.9327 - prc: 0.9410 - val_loss: 0.3976 - val_tp: 12.0000 - val_fp: 4.0000 - val_tn: 28.0000 - val_fn: 0.0000e+00 - val_accuracy: 0.9091 - val_precision: 0.7500 - val_recall: 1.0000 - val_auc: 0.9974 - val_prc: 0.9933 - 58ms/epoch - 19ms/step\n"
     ]
    },
    {
     "data": {
      "image/png": "[encoded data removed]",
      "text/plain": [
       "<Figure size 640x480 with 1 Axes>"
      ]
     },
     "metadata": {},
     "output_type": "display_data"
    },
    {
     "name": "stdout",
     "output_type": "stream",
     "text": [
      "loss :  0.3975836932659149\n",
      "tp :  12.0\n",
      "fp :  4.0\n",
      "tn :  28.0\n",
      "fn :  0.0\n",
      "accuracy :  0.9090909361839294\n",
      "Accuracy on validation set: 0.9090909361839294\n",
      "precision :  0.75\n",
      "recall :  1.0\n",
      "auc :  0.9973958730697632\n",
      "prc :  0.9933297634124756\n",
      "results [0.9111111164093018, 0.8636363744735718, 0.9090909361839294]\n",
      "K-fold cross-validation accuracy: 0.8946128090222677\n",
      "1/1 [==============================] - 0s 100ms/step\n",
      "Accuracy on holdout set: 0.8\n",
      "Balanced Accuracy on holdout set: 0.8055555555555556\n",
      "\n",
      "Classification Report:\n",
      "\n",
      "              precision    recall  f1-score   support\n",
      "\n",
      "           0      0.875     0.778     0.824         9\n",
      "           1      0.714     0.833     0.769         6\n",
      "\n",
      "    accuracy                          0.800        15\n",
      "   macro avg      0.795     0.806     0.796        15\n",
      "weighted avg      0.811     0.800     0.802        15\n",
      "\n"
     ]
    },
    {
     "data": {
      "image/png": "[encoded data removed]",
      "text/plain": [
       "<Figure size 400x300 with 2 Axes>"
      ]
     },
     "metadata": {},
     "output_type": "display_data"
    },
    {
     "data": {
      "image/png": "[encoded data removed]",
      "text/plain": [
       "<Figure size 400x300 with 2 Axes>"
      ]
     },
     "metadata": {},
     "output_type": "display_data"
    },
    {
     "name": "stdout",
     "output_type": "stream",
     "text": [
      "True Positive(TP)  =  5\n",
      "False Positive(FP) =  2\n",
      "True Negative(TN)  =  7\n",
      "False Negative(FN) =  1\n",
      "Accuracy of the binary classifier = 0.800\n"
     ]
    }
   ],
   "source": [
    "results = []\n",
    "\n",
    "for train_index, val_index in kf.split(X_train_scaled):\n",
    "    # split the dataset into training and validation sets for this fold\n",
    "    X_train_kf, X_val_kf = X_train_scaled[train_index], X_train_scaled[val_index]\n",
    "    y_train_kf, y_val_kf = y_train.iloc[train_index], y_train.iloc[val_index]\n",
    "    \n",
    "    model = Baseline(input_dim)\n",
    "    \n",
    "    history = model.train(X_train_kf, y_train_kf, X_val_kf, y_val_kf, epochs, batch_size)\n",
    "    plt.plot(history.history['loss'])\n",
    "    plt.show()\n",
    "    \n",
    "    results_m = model.evaluate(X_val_kf, y_val_kf)\n",
    "    \n",
    "    for name, value in zip(model.metrics_names(), results_m):\n",
    "        print(name, ': ', value)\n",
    "        if name == 'accuracy':\n",
    "            accuracy_kf = value\n",
    "            results.append(accuracy_kf)\n",
    "            print(f\"Accuracy on validation set: {accuracy_kf}\")\n",
    "    \n",
    "# Calculate the average accuracy score for the K-fold cross-validation\n",
    "print(\"results\",results)\n",
    "print(f\"K-fold cross-validation accuracy: {sum(results) / len(results)}\")\n",
    "\n",
    "y_pred_holdout = model.predict(X_holdout_scaled)\n",
    "accuracy_holdout = accuracy_score(np.round(y_holdout), np.round(y_pred_holdout))\n",
    "print(f\"Accuracy on holdout set: {accuracy_holdout}\")\n",
    "\n",
    "balanced_accuracy_holdout = balanced_accuracy_score(np.round(y_holdout), np.round(y_pred_holdout))\n",
    "print(f\"Balanced Accuracy on holdout set: {balanced_accuracy_holdout}\")\n",
    "\n",
    "print(\"\\nClassification Report:\\n\")\n",
    "print(classification_report(np.round(y_holdout), np.round(y_pred_holdout), digits = 3))\n",
    "\n",
    "cm = confusion_matrix(np.round(y_holdout), np.round(y_pred_holdout))\n",
    "heat_map(cm)\n",
    "heat_map_n(np.round(y_holdout), np.round(y_pred_holdout))\n",
    "TN, FP, FN, TP = confusion_matrix(np.round(y_holdout), np.round(y_pred_holdout)).ravel()\n",
    "print('True Positive(TP)  = ', TP)\n",
    "print('False Positive(FP) = ', FP)\n",
    "print('True Negative(TN)  = ', TN)\n",
    "print('False Negative(FN) = ', FN)\n",
    "\n",
    "accuracy =  (TP + TN) / (TP + FP + TN + FN)\n",
    "print('Accuracy of the binary classifier = {:0.3f}'.format(accuracy))"
   ]
  },
  {
   "cell_type": "code",
   "execution_count": 23,
   "id": "6b9a5fc7",
   "metadata": {},
   "outputs": [
    {
     "name": "stdout",
     "output_type": "stream",
     "text": [
      "Accuracy: 80.00%\n",
      "Balanced Accuracy: 80.56%\n",
      "AUC: 0.81\n",
      "Precision: 0.71\n",
      "Recall: 0.83\n",
      "F1 score: 0.77\n"
     ]
    }
   ],
   "source": [
    "# Calculate performance metrics\n",
    "accuracy = accuracy_score(np.round(y_holdout), np.round(y_pred_holdout)) * 100\n",
    "balanced_accuracy = balanced_accuracy_score(np.round(y_holdout), np.round(y_pred_holdout)) * 100\n",
    "auc = roc_auc_score(np.round(y_holdout), np.round(y_pred_holdout))\n",
    "precision = precision_score(np.round(y_holdout), np.round(y_pred_holdout))\n",
    "recall = recall_score(np.round(y_holdout), np.round(y_pred_holdout))\n",
    "f1 = f1_score(np.round(y_holdout), np.round(y_pred_holdout))\n",
    "\n",
    "# Print results\n",
    "print(f\"Accuracy: {accuracy:.2f}%\")\n",
    "print(f\"Balanced Accuracy: {balanced_accuracy:.2f}%\")\n",
    "print(f\"AUC: {auc:.2f}\")\n",
    "print(f\"Precision: {precision:.2f}\")\n",
    "print(f\"Recall: {recall:.2f}\")\n",
    "print(f\"F1 score: {f1:.2f}\")"
   ]
  },
  {
   "cell_type": "code",
   "execution_count": 24,
   "id": "eb603979",
   "metadata": {},
   "outputs": [
    {
     "ename": "NameError",
     "evalue": "name 'STOP' is not defined",
     "output_type": "error",
     "traceback": [
      "\u001b[0;31m---------------------------------------------------------------------------\u001b[0m",
      "\u001b[0;31mNameError\u001b[0m                                 Traceback (most recent call last)",
      "Cell \u001b[0;32mIn[24], line 1\u001b[0m\n\u001b[0;32m----> 1\u001b[0m \u001b[43mSTOP\u001b[49m\n",
      "\u001b[0;31mNameError\u001b[0m: name 'STOP' is not defined"
     ]
    }
   ],
   "source": [
    "STOP"
   ]
  },
  {
   "cell_type": "markdown",
   "id": "78288d39",
   "metadata": {},
   "source": [
    "# 2 Prepare dataset"
   ]
  },
  {
   "cell_type": "code",
   "execution_count": null,
   "id": "a20e1415",
   "metadata": {},
   "outputs": [],
   "source": [
    "df = df_damage_thirtytwo_min_max.drop(columns=columns)\n",
    "\n",
    "X = df.drop(columns=['Damage'])\n",
    "y = df['Damage']\n",
    "\n",
    "# split the data into a holdout set and the rest for K-Fold cross-validation\n",
    "X_train, X_holdout, y_train, y_holdout = train_test_split(X, y, train_size=training_percent, random_state=42)"
   ]
  },
  {
   "cell_type": "code",
   "execution_count": null,
   "id": "5bcc4a43",
   "metadata": {},
   "outputs": [],
   "source": [
    "# Initialize StandardScaler\n",
    "scaler = StandardScaler()\n",
    "\n",
    "# Fit scaler on training data\n",
    "scaler.fit(X_train)\n",
    "\n",
    "# Transform both training and test data\n",
    "X_train_scaled = scaler.transform(X_train)\n",
    "X_holdout_scaled = scaler.transform(X_holdout)"
   ]
  },
  {
   "cell_type": "code",
   "execution_count": null,
   "id": "03fe99c0",
   "metadata": {},
   "outputs": [],
   "source": [
    "input_dim = X_train.shape[1]\n",
    "\n",
    "model = Baseline(input_dim)\n",
    "model.summary()"
   ]
  },
  {
   "cell_type": "code",
   "execution_count": null,
   "id": "95c707b3",
   "metadata": {},
   "outputs": [],
   "source": [
    "results = []\n",
    "\n",
    "for train_index, val_index in kf.split(X_train_scaled):\n",
    "    # split the dataset into training and validation sets for this fold\n",
    "    X_train_kf, X_val_kf = X_train_scaled[train_index], X_train_scaled[val_index]\n",
    "    y_train_kf, y_val_kf = y_train.iloc[train_index], y_train.iloc[val_index]\n",
    "    \n",
    "    model = Baseline(input_dim)\n",
    "    \n",
    "    history = model.train(X_train_kf, y_train_kf, X_val_kf, y_val_kf, epochs, batch_size)\n",
    "    plt.plot(history.history['loss'])\n",
    "    plt.show()\n",
    "    \n",
    "    results_m = model.evaluate(X_val_kf, y_val_kf)\n",
    "    \n",
    "    for name, value in zip(model.metrics_names(), results_m):\n",
    "        print(name, ': ', value)\n",
    "        if name == 'accuracy':\n",
    "            accuracy_kf = value\n",
    "            results.append(accuracy_kf)\n",
    "            print(f\"Accuracy on validation set: {accuracy_kf}\")\n",
    "    \n",
    "# Calculate the average accuracy score for the K-fold cross-validation\n",
    "print(\"results\",results)\n",
    "print(f\"K-fold cross-validation accuracy: {sum(results) / len(results)}\")\n",
    "\n",
    "y_pred_holdout = model.predict(X_holdout_scaled)\n",
    "accuracy_holdout = accuracy_score(np.round(y_holdout), np.round(y_pred_holdout))\n",
    "print(f\"Accuracy on holdout set: {accuracy_holdout}\")\n",
    "\n",
    "balanced_accuracy_holdout = balanced_accuracy_score(np.round(y_holdout), np.round(y_pred_holdout))\n",
    "print(f\"Balanced Accuracy on holdout set: {balanced_accuracy_holdout}\")\n",
    "\n",
    "print(\"\\nClassification Report:\\n\")\n",
    "print(classification_report(np.round(y_holdout), np.round(y_pred_holdout), digits = 3))\n",
    "\n",
    "cm = confusion_matrix(np.round(y_holdout), np.round(y_pred_holdout))\n",
    "heat_map(cm)\n",
    "TN, FP, FN, TP = confusion_matrix(np.round(y_holdout), np.round(y_pred_holdout)).ravel()\n",
    "print('True Positive(TP)  = ', TP)\n",
    "print('False Positive(FP) = ', FP)\n",
    "print('True Negative(TN)  = ', TN)\n",
    "print('False Negative(FN) = ', FN)\n",
    "\n",
    "accuracy =  (TP + TN) / (TP + FP + TN + FN)\n",
    "print('Accuracy of the binary classifier = {:0.3f}'.format(accuracy))"
   ]
  },
  {
   "cell_type": "code",
   "execution_count": null,
   "id": "da986473",
   "metadata": {},
   "outputs": [],
   "source": [
    "#STOP"
   ]
  },
  {
   "cell_type": "markdown",
   "id": "3c859f89",
   "metadata": {},
   "source": [
    "# 3 Prepare dataset"
   ]
  },
  {
   "cell_type": "code",
   "execution_count": null,
   "id": "02dd227a",
   "metadata": {},
   "outputs": [],
   "source": [
    "df = df_damage_sixteen_mean.drop(columns=columns)\n",
    "\n",
    "X = df.drop(columns=['Damage'])\n",
    "y = df['Damage']\n",
    "\n",
    "# split the data into a holdout set and the rest for K-Fold cross-validation\n",
    "X_train, X_holdout, y_train, y_holdout = train_test_split(X, y, train_size=training_percent, random_state=42)"
   ]
  },
  {
   "cell_type": "code",
   "execution_count": null,
   "id": "4104e6c8",
   "metadata": {},
   "outputs": [],
   "source": [
    "# Initialize StandardScaler\n",
    "scaler = StandardScaler()\n",
    "\n",
    "# Fit scaler on training data\n",
    "scaler.fit(X_train)\n",
    "\n",
    "# Transform both training and test data\n",
    "X_train_scaled = scaler.transform(X_train)\n",
    "X_holdout_scaled = scaler.transform(X_holdout)"
   ]
  },
  {
   "cell_type": "code",
   "execution_count": null,
   "id": "b4067e0c",
   "metadata": {},
   "outputs": [],
   "source": [
    "input_dim = X_train.shape[1]\n",
    "\n",
    "model = Baseline(input_dim)\n",
    "model.summary()"
   ]
  },
  {
   "cell_type": "code",
   "execution_count": null,
   "id": "7c8e23d1",
   "metadata": {},
   "outputs": [],
   "source": [
    "results = []\n",
    "\n",
    "for train_index, val_index in kf.split(X_train_scaled):\n",
    "    # split the dataset into training and validation sets for this fold\n",
    "    X_train_kf, X_val_kf = X_train_scaled[train_index], X_train_scaled[val_index]\n",
    "    y_train_kf, y_val_kf = y_train.iloc[train_index], y_train.iloc[val_index]\n",
    "    \n",
    "    model = Baseline(input_dim)\n",
    "    \n",
    "    history = model.train(X_train_kf, y_train_kf, X_val_kf, y_val_kf, epochs, batch_size)\n",
    "    plt.plot(history.history['loss'])\n",
    "    plt.show()\n",
    "    \n",
    "    results_m = model.evaluate(X_val_kf, y_val_kf)\n",
    "    \n",
    "    for name, value in zip(model.metrics_names(), results_m):\n",
    "        print(name, ': ', value)\n",
    "        if name == 'accuracy':\n",
    "            accuracy_kf = value\n",
    "            results.append(accuracy_kf)\n",
    "            print(f\"Accuracy on validation set: {accuracy_kf}\")\n",
    "    \n",
    "# Calculate the average accuracy score for the K-fold cross-validation\n",
    "print(\"results\",results)\n",
    "print(f\"K-fold cross-validation accuracy: {sum(results) / len(results)}\")\n",
    "\n",
    "y_pred_holdout = model.predict(X_holdout_scaled)\n",
    "accuracy_holdout = accuracy_score(np.round(y_holdout), np.round(y_pred_holdout))\n",
    "print(f\"Accuracy on holdout set: {accuracy_holdout}\")\n",
    "\n",
    "balanced_accuracy_holdout = balanced_accuracy_score(np.round(y_holdout), np.round(y_pred_holdout))\n",
    "print(f\"Balanced Accuracy on holdout set: {balanced_accuracy_holdout}\")\n",
    "\n",
    "print(\"\\nClassification Report:\\n\")\n",
    "print(classification_report(np.round(y_holdout), np.round(y_pred_holdout), digits = 3))\n",
    "\n",
    "cm = confusion_matrix(np.round(y_holdout), np.round(y_pred_holdout))\n",
    "heat_map(cm)\n",
    "TN, FP, FN, TP = confusion_matrix(np.round(y_holdout), np.round(y_pred_holdout)).ravel()\n",
    "print('True Positive(TP)  = ', TP)\n",
    "print('False Positive(FP) = ', FP)\n",
    "print('True Negative(TN)  = ', TN)\n",
    "print('False Negative(FN) = ', FN)\n",
    "\n",
    "accuracy =  (TP + TN) / (TP + FP + TN + FN)\n",
    "print('Accuracy of the binary classifier = {:0.3f}'.format(accuracy))"
   ]
  },
  {
   "cell_type": "code",
   "execution_count": null,
   "id": "404d47f0",
   "metadata": {},
   "outputs": [],
   "source": [
    "#STOP"
   ]
  },
  {
   "cell_type": "markdown",
   "id": "847db1f6",
   "metadata": {},
   "source": [
    "# 4 Prepare dataset"
   ]
  },
  {
   "cell_type": "code",
   "execution_count": null,
   "id": "76700ff6",
   "metadata": {},
   "outputs": [],
   "source": [
    "df = df_damage_thirtytwo_mean.drop(columns=columns)\n",
    "\n",
    "X = df.drop(columns=['Damage'])\n",
    "y = df['Damage']\n",
    "\n",
    "# split the data into a holdout set and the rest for K-Fold cross-validation\n",
    "X_train, X_holdout, y_train, y_holdout = train_test_split(X, y, train_size=training_percent, random_state=42)"
   ]
  },
  {
   "cell_type": "code",
   "execution_count": null,
   "id": "578a2b2c",
   "metadata": {},
   "outputs": [],
   "source": [
    "# Initialize StandardScaler\n",
    "scaler = StandardScaler()\n",
    "\n",
    "# Fit scaler on training data\n",
    "scaler.fit(X_train)\n",
    "\n",
    "# Transform both training and test data\n",
    "X_train_scaled = scaler.transform(X_train)\n",
    "X_holdout_scaled = scaler.transform(X_holdout)"
   ]
  },
  {
   "cell_type": "code",
   "execution_count": null,
   "id": "f98f5bdc",
   "metadata": {},
   "outputs": [],
   "source": [
    "input_dim = X_train.shape[1]\n",
    "\n",
    "model = Baseline(input_dim)\n",
    "model.summary()"
   ]
  },
  {
   "cell_type": "code",
   "execution_count": null,
   "id": "e07f7b22",
   "metadata": {},
   "outputs": [],
   "source": [
    "results = []\n",
    "\n",
    "for train_index, val_index in kf.split(X_train_scaled):\n",
    "    # split the dataset into training and validation sets for this fold\n",
    "    X_train_kf, X_val_kf = X_train_scaled[train_index], X_train_scaled[val_index]\n",
    "    y_train_kf, y_val_kf = y_train.iloc[train_index], y_train.iloc[val_index]\n",
    "    \n",
    "    model = Baseline(input_dim)\n",
    "    \n",
    "    history = model.train(X_train_kf, y_train_kf, X_val_kf, y_val_kf, epochs, batch_size)\n",
    "    plt.plot(history.history['loss'])\n",
    "    plt.show()\n",
    "    \n",
    "    results_m = model.evaluate(X_val_kf, y_val_kf)\n",
    "    \n",
    "    for name, value in zip(model.metrics_names(), results_m):\n",
    "        print(name, ': ', value)\n",
    "        if name == 'accuracy':\n",
    "            accuracy_kf = value\n",
    "            results.append(accuracy_kf)\n",
    "            print(f\"Accuracy on validation set: {accuracy_kf}\")\n",
    "    \n",
    "# Calculate the average accuracy score for the K-fold cross-validation\n",
    "print(\"results\",results)\n",
    "print(f\"K-fold cross-validation accuracy: {sum(results) / len(results)}\")\n",
    "\n",
    "y_pred_holdout = model.predict(X_holdout_scaled)\n",
    "accuracy_holdout = accuracy_score(np.round(y_holdout), np.round(y_pred_holdout))\n",
    "print(f\"Accuracy on holdout set: {accuracy_holdout}\")\n",
    "\n",
    "balanced_accuracy_holdout = balanced_accuracy_score(np.round(y_holdout), np.round(y_pred_holdout))\n",
    "print(f\"Balanced Accuracy on holdout set: {balanced_accuracy_holdout}\")\n",
    "\n",
    "print(\"\\nClassification Report:\\n\")\n",
    "print(classification_report(np.round(y_holdout), np.round(y_pred_holdout), digits = 3))\n",
    "\n",
    "cm = confusion_matrix(np.round(y_holdout), np.round(y_pred_holdout))\n",
    "heat_map(cm)\n",
    "TN, FP, FN, TP = confusion_matrix(np.round(y_holdout), np.round(y_pred_holdout)).ravel()\n",
    "print('True Positive(TP)  = ', TP)\n",
    "print('False Positive(FP) = ', FP)\n",
    "print('True Negative(TN)  = ', TN)\n",
    "print('False Negative(FN) = ', FN)\n",
    "\n",
    "accuracy =  (TP + TN) / (TP + FP + TN + FN)\n",
    "print('Accuracy of the binary classifier = {:0.3f}'.format(accuracy))"
   ]
  },
  {
   "cell_type": "code",
   "execution_count": null,
   "id": "c9564545",
   "metadata": {},
   "outputs": [],
   "source": [
    "#STOP"
   ]
  }
 ],
 "metadata": {
  "kernelspec": {
   "display_name": "Python 3 (ipykernel)",
   "language": "python",
   "name": "python3"
  },
  "language_info": {
   "codemirror_mode": {
    "name": "ipython",
    "version": 3
   },
   "file_extension": ".py",
   "mimetype": "text/x-python",
   "name": "python",
   "nbconvert_exporter": "python",
   "pygments_lexer": "ipython3",
   "version": "3.9.6"
  }
 },
 "nbformat": 4,
 "nbformat_minor": 5
}
